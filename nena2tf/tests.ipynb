{
 "cells": [
  {
   "cell_type": "markdown",
   "metadata": {},
   "source": [
    "# Testing .tf files from NENA conversion"
   ]
  },
  {
   "cell_type": "code",
   "execution_count": 1,
   "metadata": {},
   "outputs": [
    {
     "name": "stdout",
     "output_type": "stream",
     "text": [
      "   |     0.35s T otype                from /Users/cody/github/CambridgeSemiticsLab/nena_tf/tf/0.01\n",
      "   |     4.87s T oslots               from /Users/cody/github/CambridgeSemiticsLab/nena_tf/tf/0.01\n",
      "   |     0.00s No structure info in otext, the structure part of the T-API cannot be used\n",
      "   |     0.49s T trans_trailer_l      from /Users/cody/github/CambridgeSemiticsLab/nena_tf/tf/0.01\n",
      "   |     0.52s T trailer              from /Users/cody/github/CambridgeSemiticsLab/nena_tf/tf/0.01\n",
      "   |     0.00s T title                from /Users/cody/github/CambridgeSemiticsLab/nena_tf/tf/0.01\n",
      "   |     1.78s T trans_f              from /Users/cody/github/CambridgeSemiticsLab/nena_tf/tf/0.01\n",
      "   |     1.74s T trans_l              from /Users/cody/github/CambridgeSemiticsLab/nena_tf/tf/0.01\n",
      "   |     1.90s T text                 from /Users/cody/github/CambridgeSemiticsLab/nena_tf/tf/0.01\n",
      "   |     0.01s T number               from /Users/cody/github/CambridgeSemiticsLab/nena_tf/tf/0.01\n",
      "   |     0.00s T dialect              from /Users/cody/github/CambridgeSemiticsLab/nena_tf/tf/0.01\n",
      "   |     0.47s T trans_trailer_f      from /Users/cody/github/CambridgeSemiticsLab/nena_tf/tf/0.01\n",
      "   |      |     0.24s C __levels__           from otype, oslots, otext\n",
      "   |      |       10s C __order__            from otype, oslots, __levels__\n",
      "   |      |     0.40s C __rank__             from otype, __order__\n",
      "   |      |     8.82s C __levUp__            from otype, oslots, __rank__\n",
      "   |      |     2.27s C __levDown__          from otype, __levUp__, __rank__\n",
      "   |      |     3.00s C __boundary__         from otype, oslots, __rank__\n",
      "   |      |     0.01s C __sections__         from otype, oslots, otext, __levUp__, __levels__, dialect, title, number\n",
      "    37s All features loaded/computed - for details use loadLog()\n",
      "  0.00s loading features ...\n",
      "   |     0.00s T comment              from /Users/cody/github/CambridgeSemiticsLab/nena_tf/tf/0.01\n",
      "   |     0.00s T continued_from       from /Users/cody/github/CambridgeSemiticsLab/nena_tf/tf/0.01\n",
      "   |     0.00s T footnotes            from /Users/cody/github/CambridgeSemiticsLab/nena_tf/tf/0.01\n",
      "   |     0.01s T foreign              from /Users/cody/github/CambridgeSemiticsLab/nena_tf/tf/0.01\n",
      "   |     0.01s T informant            from /Users/cody/github/CambridgeSemiticsLab/nena_tf/tf/0.01\n",
      "   |     0.01s T lang                 from /Users/cody/github/CambridgeSemiticsLab/nena_tf/tf/0.01\n",
      "   |     0.00s T place                from /Users/cody/github/CambridgeSemiticsLab/nena_tf/tf/0.01\n",
      "   |     0.00s T source               from /Users/cody/github/CambridgeSemiticsLab/nena_tf/tf/0.01\n",
      "   |     0.51s T speaker              from /Users/cody/github/CambridgeSemiticsLab/nena_tf/tf/0.01\n",
      "   |     0.00s T text_id              from /Users/cody/github/CambridgeSemiticsLab/nena_tf/tf/0.01\n",
      "   |     0.00s T version              from /Users/cody/github/CambridgeSemiticsLab/nena_tf/tf/0.01\n",
      "  0.65s All additional features loaded - for details use loadLog()\n"
     ]
    }
   ],
   "source": [
    "import collections\n",
    "from tf.fabric import Fabric\n",
    "data = '../tf/0.01/'\n",
    "\n",
    "TF = Fabric(locations=[data])\n",
    "\n",
    "api = TF.loadAll()\n",
    "\n",
    "tf_vars = api.makeAvailableIn(globals())"
   ]
  },
  {
   "cell_type": "markdown",
   "metadata": {},
   "source": [
    "## Basic Tests"
   ]
  },
  {
   "cell_type": "code",
   "execution_count": 2,
   "metadata": {},
   "outputs": [
    {
     "name": "stdout",
     "output_type": "stream",
     "text": [
      "letter\n",
      "x\n",
      "\n",
      "morpheme\n",
      "xá-\n",
      "\n",
      "inton\n",
      "xá-ga xèta,ˈ \n",
      "\n",
      "subsentence\n",
      "xá-ga xèta,ˈ \n",
      "\n",
      "sentence\n",
      "xá-ga xèta,ˈ mállah Naṣràdin,ˈ xázəx mòdi wíða.ˈ \n",
      "\n",
      "line\n",
      "xá-ga xèta,ˈ mállah Naṣràdin,ˈ xázəx mòdi wíða.ˈ gu-bɛ̀θa wéwa,ˈ har-zála-w θàya.ˈ zála-w θàya,ˈ mára ya-ʾàlaha,ˈ yawə̀tliˈ ʾə́mma dàwe.ˈ ʾən-hàwaˈ ʾə́č̣č̣i-u ʾə́č̣č̣a maqəlbə̀nna.ˈ ʾu-ʾən-hàwaˈ ʾə́mma-w-xà-ži,ˈ la-băyə̀nna.ˈ de-šùqla.ˈ ʾə̀mma gắrəg háwa drə́st.ˈ \n",
      "\n",
      "paragraph\n",
      "xá-ga xèta,ˈ mállah Naṣràdin,ˈ xázəx mòdi wíða.ˈ gu-bɛ̀θa wéwa,ˈ har-zála-w θàya.ˈ zála-w θàya,ˈ mára ya-ʾàlaha,ˈ yawə̀tliˈ ʾə́mma dàwe.ˈ ʾən-hàwaˈ ʾə́č̣č̣i-u ʾə́č̣č̣a maqəlbə̀nna.ˈ ʾu-ʾən-hàwaˈ ʾə́mma-w-xà-ži,ˈ la-băyə̀nna.ˈ de-šùqla.ˈ ʾə̀mma gắrəg háwa drə́st.ˈ b-álaha hóle zála-w θàya,ˈ ʾíθwale xá-šwawa huðàya,ˈ maṣóθe ʾə́lle dìye.ˈ mə́re xázəx ʾáwwa dū̀s-ile.ˈ qɛ́mən mjarbə̀nne.ˈ síqa l-gàre,ˈ də́ryɛle ʾə́č̣č̣i-u ʾə́č̣č̣a dáwe gu-ða-kìsta,ˈ də́rya b-kàwele.ˈ ʾá báxta hàyyo!ˈ hóle ʾaláha qəm-mšadə̀rrən.ˈ muθɛ́θɛla màjma.ˈ msúrqəlla píšela mnáyəlla l-xà-xa.ˈ plíṭla ʾə́č̣č̣i-u ʾə̀č̣č̣a.ˈ trè,ˈ trè,ˈ ʾə́č̣č̣i-u ʾə̀č̣č̣a.ˈ ʾə̀ṣra,ˈ ʾə̀ṣra,ˈ hàr-ʾəč̣č̣i-u ʾə́č̣č̣a.ˈ klèla,ˈ ʾámər báxta dū̀s-ile.ˈ ʾaláha là-xaləṭ.ˈ ʾə́č̣č̣i-u ʾə̀č̣č̣a,ˈ ʾáxči ʾána max-xšàwti,ˈ ʾáyya kìstaˈ hóle mxožə́bnəlla max-xà.ˈ ha-šqùl,ˈ máttula tămàha.ˈ huðáya l-gàreˈ šwirɛ́le l-pàlga,ˈ yába ʾànən mšúdrəlla!ˈ ʾáy kálba ʾámər táma l-gàre maṣyóθe,ˈ bắyət šaqlə́tla ʾap-ʾànna.ˈ mrázgət gànux.ˈ tə́mməl ṱ-ásqəx kəs-qàzi.ˈ huðáya ʾə́č̣č̣i-u ʾə́č̣č̣a dáwe zìle mə́nne,ˈ ʾɛ́ka ṱ-áθya šə̀nθe?!ˈ hal-qedámta šə́nθe la-θèla.ˈ hár-wele zála-w θàya.ˈ málla múttəlle réše dmìxa.ˈ ṭlìya,ˈ kéfe basìmta,ˈ ʾu-dáwe xo-rèše.ˈ sáʾət ʾə́šta mbàdlaˈ ʾə́θyɛle huðáya wáða ṭəq-ṭəq-ṭə́q l-ṭằra.ˈ ʾu-qáre l-tằraˈ mòdila qə́ṣṣət?ˈ pθíxəlle tắra màlla,ˈ ʾína huðáya lwíša kášxa-w júlle xàθe.ˈ ʾu-xmárte díye msúrgəlla-w wíðəlla tàza.ˈ ṭla-mòdila ʾáyya?ˈ mə́re ṱ-ásqəx kəs-qàzi.ˈ mə́re sì kálba.ˈ ʾána là-ʾaθən mə́nnux.ˈ ṭla-mò la-ʾáθət mə́nni?ˈ sí là-ʾaθən mə́nnux ʾána.ˈ ṭla-mò?ˈ mòdila qə́ṣṣət?ˈ mə́re ʾaláha-w náše yằði.ˈ xazɛ́la ʾánna júllux hàtxa,ˈ kášxa-w ʾáyya xmàrtuxˈ ʾu-sɛ̀rga-wˈ w-ána b-ánna dašdàše-wˈ b-ánna čak̭àlle-wˈ ʾu-šəxtàna-wˈ šárṭ qázi t-yawə́lla ṭlàlux.ˈ qázi ṱ-awə́dla ṭlàlux,ˈ lá-ʾawədla ṭlàli.ˈ mə́re là-ʾaθən,ˈ ʾína júllux hálla ṭlàli.ˈ ʾu-xmártux ṱ-átwən ʾàna l-xáṣa.ˈ ʾu-ʾáti luš-jùlliˈ ʾu-ṱ-àsqəx.ˈ hám-ʾən ʾàsqətˈ ʾap-ʾáyya qabū̀l-ila.ˈ qímɛle ʾaw-lwíša dašdàšət málla,ˈ ʾu-čak̭àllət málla,ˈ málla lwíšɛle kášxa d-o-huðàyaˈ ʾu-tíwɛle xáṣət xmàrta,ˈ ʾu-síqela kəs-qàzi.ˈ síqɛle kəs-qàzi,ˈ wírela šarṭ-qàzi.ˈ mòdila qə́ṣṣət?ˈ málla mə̀reˈ qázi ṱ-áwət basìma.ˈ ʾána kəmà dána ṱ-in-mṣalóye ṭla-márya ʾàlahaˈ ta-t-yawə́lli ʾə̀mma dáwe.ˈ ʾu-ʾáwwa huðáya wéle maṣyóθe nṭára ʾə́lli l-gàre.ˈ ʾu-ʾálaha šuxa-l-šə́mme qəm-mšadə́rri ʾə́č̣č̣i-u ʾə́č̣č̣a dàwe.ˈ ʾu-ʾána mə́ri bàxta,ˈ ʾáp ʾayya-kìstaˈ ʾálaha mxožə́bnəlla m-gēb-xà-dawa.ˈ ʾu-ʾáwwa-ži huðáya l-gàreˈ ʾə̀lla,ˈ ʾánna dáwe ʾànən hiwə́llux.ˈ ʾu-hátxa be-bằxət-ile,ˈ yá-qazi ṱ-áwət basìma,ˈ ʾáwwa huðàya,ˈ yáʿni díya gu-pàθuxˈ mdàgəlˈ ʾu-sàru.ˈ mə́re xzí hátxa be-nxə̀pθɛle.ˈ lá ʾítle nxə̀pθa.ˈ díya ṱ-àmərˈ ʾáp ʾanna-júlle ṱ-ilà-lluxˈ ʾu-ʾáyya xmárta dìyila.ˈ w-áti xə́zyətli ʾána tíwa l-xàṣa.ˈ huðáya mə̀reˈ dìyila!ˈ ʾína d-ɛ̀nila?ˈ qázi mə́re qùˈ kálba brət-kálba huðàya.ˈ ʾámər sí šarṭ-dìyuxile.ˈ\n",
      "\n",
      "text\n",
      "xá-ga xèta,ˈ mállah Naṣràdin,ˈ xázəx mòdi wíða.ˈ gu-bɛ̀θa wéwa,ˈ har-zála-w θàya.ˈ zála-w θàya,ˈ mára ya-ʾàlaha,ˈ yawə̀tliˈ ʾə́mma dàwe.ˈ ʾən-hàwaˈ ʾə́č̣č̣i-u ʾə́č̣č̣a maqəlbə̀nna.ˈ ʾu-ʾən-hàwaˈ ʾə́mma-w-xà-ži,ˈ la-băyə̀nna.ˈ de-šùqla.ˈ ʾə̀mma gắrəg háwa drə́st.ˈ b-álaha hóle zála-w θàya,ˈ ʾíθwale xá-šwawa huðàya,ˈ maṣóθe ʾə́lle dìye.ˈ mə́re xázəx ʾáwwa dū̀s-ile.ˈ qɛ́mən mjarbə̀nne.ˈ síqa l-gàre,ˈ də́ryɛle ʾə́č̣č̣i-u ʾə́č̣č̣a dáwe gu-ða-kìsta,ˈ də́rya b-kàwele.ˈ ʾá báxta hàyyo!ˈ hóle ʾaláha qəm-mšadə̀rrən.ˈ muθɛ́θɛla màjma.ˈ msúrqəlla píšela mnáyəlla l-xà-xa.ˈ plíṭla ʾə́č̣č̣i-u ʾə̀č̣č̣a.ˈ trè,ˈ trè,ˈ ʾə́č̣č̣i-u ʾə̀č̣č̣a.ˈ ʾə̀ṣra,ˈ ʾə̀ṣra,ˈ hàr-ʾəč̣č̣i-u ʾə́č̣č̣a.ˈ klèla,ˈ ʾámər báxta dū̀s-ile.ˈ ʾaláha là-xaləṭ.ˈ ʾə́č̣č̣i-u ʾə̀č̣č̣a,ˈ ʾáxči ʾána max-xšàwti,ˈ ʾáyya kìstaˈ hóle mxožə́bnəlla max-xà.ˈ ha-šqùl,ˈ máttula tămàha.ˈ huðáya l-gàreˈ šwirɛ́le l-pàlga,ˈ yába ʾànən mšúdrəlla!ˈ ʾáy kálba ʾámər táma l-gàre maṣyóθe,ˈ bắyət šaqlə́tla ʾap-ʾànna.ˈ mrázgət gànux.ˈ tə́mməl ṱ-ásqəx kəs-qàzi.ˈ huðáya ʾə́č̣č̣i-u ʾə́č̣č̣a dáwe zìle mə́nne,ˈ ʾɛ́ka ṱ-áθya šə̀nθe?!ˈ hal-qedámta šə́nθe la-θèla.ˈ hár-wele zála-w θàya.ˈ málla múttəlle réše dmìxa.ˈ ṭlìya,ˈ kéfe basìmta,ˈ ʾu-dáwe xo-rèše.ˈ sáʾət ʾə́šta mbàdlaˈ ʾə́θyɛle huðáya wáða ṭəq-ṭəq-ṭə́q l-ṭằra.ˈ ʾu-qáre l-tằraˈ mòdila qə́ṣṣət?ˈ pθíxəlle tắra màlla,ˈ ʾína huðáya lwíša kášxa-w júlle xàθe.ˈ ʾu-xmárte díye msúrgəlla-w wíðəlla tàza.ˈ ṭla-mòdila ʾáyya?ˈ mə́re ṱ-ásqəx kəs-qàzi.ˈ mə́re sì kálba.ˈ ʾána là-ʾaθən mə́nnux.ˈ ṭla-mò la-ʾáθət mə́nni?ˈ sí là-ʾaθən mə́nnux ʾána.ˈ ṭla-mò?ˈ mòdila qə́ṣṣət?ˈ mə́re ʾaláha-w náše yằði.ˈ xazɛ́la ʾánna júllux hàtxa,ˈ kášxa-w ʾáyya xmàrtuxˈ ʾu-sɛ̀rga-wˈ w-ána b-ánna dašdàše-wˈ b-ánna čak̭àlle-wˈ ʾu-šəxtàna-wˈ šárṭ qázi t-yawə́lla ṭlàlux.ˈ qázi ṱ-awə́dla ṭlàlux,ˈ lá-ʾawədla ṭlàli.ˈ mə́re là-ʾaθən,ˈ ʾína júllux hálla ṭlàli.ˈ ʾu-xmártux ṱ-átwən ʾàna l-xáṣa.ˈ ʾu-ʾáti luš-jùlliˈ ʾu-ṱ-àsqəx.ˈ hám-ʾən ʾàsqətˈ ʾap-ʾáyya qabū̀l-ila.ˈ qímɛle ʾaw-lwíša dašdàšət málla,ˈ ʾu-čak̭àllət málla,ˈ málla lwíšɛle kášxa d-o-huðàyaˈ ʾu-tíwɛle xáṣət xmàrta,ˈ ʾu-síqela kəs-qàzi.ˈ síqɛle kəs-qàzi,ˈ wírela šarṭ-qàzi.ˈ mòdila qə́ṣṣət?ˈ málla mə̀reˈ qázi ṱ-áwət basìma.ˈ ʾána kəmà dána ṱ-in-mṣalóye ṭla-márya ʾàlahaˈ ta-t-yawə́lli ʾə̀mma dáwe.ˈ ʾu-ʾáwwa huðáya wéle maṣyóθe nṭára ʾə́lli l-gàre.ˈ ʾu-ʾálaha šuxa-l-šə́mme qəm-mšadə́rri ʾə́č̣č̣i-u ʾə́č̣č̣a dàwe.ˈ ʾu-ʾána mə́ri bàxta,ˈ ʾáp ʾayya-kìstaˈ ʾálaha mxožə́bnəlla m-gēb-xà-dawa.ˈ ʾu-ʾáwwa-ži huðáya l-gàreˈ ʾə̀lla,ˈ ʾánna dáwe ʾànən hiwə́llux.ˈ ʾu-hátxa be-bằxət-ile,ˈ yá-qazi ṱ-áwət basìma,ˈ ʾáwwa huðàya,ˈ yáʿni díya gu-pàθuxˈ mdàgəlˈ ʾu-sàru.ˈ mə́re xzí hátxa be-nxə̀pθɛle.ˈ lá ʾítle nxə̀pθa.ˈ díya ṱ-àmərˈ ʾáp ʾanna-júlle ṱ-ilà-lluxˈ ʾu-ʾáyya xmárta dìyila.ˈ w-áti xə́zyətli ʾána tíwa l-xàṣa.ˈ huðáya mə̀reˈ dìyila!ˈ ʾína d-ɛ̀nila?ˈ qázi mə́re qùˈ kálba brət-kálba huðàya.ˈ ʾámər sí šarṭ-dìyuxile.ˈ\n"
     ]
    }
   ],
   "source": [
    "morph = 1\n",
    "print('letter')\n",
    "print(F.text.v(morph))\n",
    "\n",
    "showtypes = (\n",
    "    'morpheme','inton','subsentence','sentence','line',\n",
    "    'paragraph','text'\n",
    ")\n",
    "\n",
    "for i, otype in enumerate(showtypes):\n",
    "    node = L.u(morph, otype)[0]\n",
    "    indent = ' '*(i+1)\n",
    "    print()\n",
    "    print(f'{otype}')\n",
    "    print(f'{T.text(node)}')"
   ]
  },
  {
   "cell_type": "code",
   "execution_count": 3,
   "metadata": {},
   "outputs": [
    {
     "data": {
      "text/plain": [
       "\"xa'-ga xe`ta , | ma'llah Nas.ra`din , | xa'z3x mo`di wi'6a . | gu-b$`8a we'wa , | har-za'la-w 8a`ya . | za'la-w 8a`ya , | ma'ra ya-}a`laha , | yaw3`tli| }3'mma da`we . | }3n-ha`wa| }3'c.<c.<i-u }3'c.<c.<a maq3lb3`nna . | }u-}3n-ha`wa| }3'mma-w-xa`-z<i , | la-ba%y3`nna . | de-s<u`qla . | }3`mma ga%'r3g ha'wa dr3'st . | b-a'laha ho'le za'la-w 8a`ya , | }i'8wale xa'-s<wawa hu6a`ya , | mas.o'8e }3'lle di`ye . | m3're xa'z3x }a'wwa du_`s-ile . | q$'m3n mjarb3`nne . | si'qa l-ga`re , | d3'ry$le }3'c.<c.<i-u }3'c.<c.<a da'we gu-6a-ki`sta , | d3'rya b-ka`wele . | }a' ba'xta ha`yyo ! | ho'le }ala'ha q3m-ms<ad3`rr3n . | mu8$'8$la ma`jma . | msu'rq3lla pi's<ela mna'y3lla l-xa`-xa . | pli't.la }3'c.<c.<i-u }3`c.<c.<a . | tre` , | tre` , | }3'c.<c.<i-u }3`c.<c.<a . | }3`s.ra , | }3`s.ra , | ha`r-}3c.<c.<i-u }3'c.<c.<a . | kle`la , | }a'm3r ba'xta du_`s-ile . | }ala'ha la`-xal3t. . | }3'c.<c.<i-u }3`c.<c.<a , | }a'xc<i }a'na max-xs<a`wti , | }a'yya ki`sta| ho'le mxoz<3'bn3lla max-xa` . | ha-s<qu`l , | ma'ttula ta%ma`ha . | hu6a'ya l-ga`re| s<wir$'le l-pa`lga , | ya'ba }a`n3n ms<u'dr3lla ! | }a'y ka'lba }a'm3r ta'ma l-ga`re mas.yo'8e , | ba%'y3t s<aql3'tla }ap-}a`nna . | mra'zg3t ga`nux . | t3'mm3l t>-a'sq3x k3s-qa`zi . | hu6a'ya }3'c.<c.<i-u }3'c.<c.<a da'we zi`le m3'nne , | }$'ka t>-a'8ya s<3`n8e ?  ! | hal-qeda'mta s<3'n8e la-8e`la . | ha'r-wele za'la-w 8a`ya . | ma'lla mu'tt3lle re's<e dmi`xa . | t.li`ya , | ke'fe basi`mta , | }u-da'we xo-re`s<e . | sa'}3t }3's<ta mba`dla| }3'8y$le hu6a'ya wa'6a t.3q-t.3q-t.3'q l-t.a%`ra . | }u-qa're l-ta%`ra| mo`dila q3's.s.3t ? | p8i'x3lle ta%'ra ma`lla , | }i'na hu6a'ya lwi's<a ka's<xa-w ju'lle xa`8e . | }u-xma'rte di'ye msu'rg3lla-w wi'63lla ta`za . | t.la-mo`dila }a'yya ? | m3're t>-a'sq3x k3s-qa`zi . | m3're si` ka'lba . | }a'na la`-}a83n m3'nnux . | t.la-mo` la-}a'83t m3'nni ? | si' la`-}a83n m3'nnux }a'na . | t.la-mo` ? | mo`dila q3's.s.3t ? | m3're }ala'ha-w na's<e ya%`6i . | xaz$'la }a'nna ju'llux ha`txa , | ka's<xa-w }a'yya xma`rtux| }u-s$`rga-w| w-a'na b-a'nna das<da`s<e-w| b-a'nna c<ak>a`lle-w| }u-s<3xta`na-w| s<a'rt. qa'zi t-yaw3'lla t.la`lux . | qa'zi t>-aw3'dla t.la`lux , | la'-}aw3dla t.la`li . | m3're la`-}a83n , | }i'na ju'llux ha'lla t.la`li . | }u-xma'rtux t>-a'tw3n }a`na l-xa's.a . | }u-}a'ti lus<-ju`lli| }u-t>-a`sq3x . | ha'm-}3n }a`sq3t| }ap-}a'yya qabu_`l-ila . | qi'm$le }aw-lwi's<a das<da`s<3t ma'lla , | }u-c<ak>a`ll3t ma'lla , | ma'lla lwi's<$le ka's<xa d-o-hu6a`ya| }u-ti'w$le xa's.3t xma`rta , | }u-si'qela k3s-qa`zi . | si'q$le k3s-qa`zi , | wi'rela s<art.-qa`zi . | mo`dila q3's.s.3t ? | ma'lla m3`re| qa'zi t>-a'w3t basi`ma . | }a'na k3ma` da'na t>-in-ms.alo'ye t.la-ma'rya }a`laha| ta-t-yaw3'lli }3`mma da'we . | }u-}a'wwa hu6a'ya we'le mas.yo'8e nt.a'ra }3'lli l-ga`re . | }u-}a'laha s<uxa-l-s<3'mme q3m-ms<ad3'rri }3'c.<c.<i-u }3'c.<c.<a da`we . | }u-}a'na m3'ri ba`xta , | }a'p }ayya-ki`sta| }a'laha mxoz<3'bn3lla m-ge_b-xa`-dawa . | }u-}a'wwa-z<i hu6a'ya l-ga`re| }3`lla , | }a'nna da'we }a`n3n hiw3'llux . | }u-ha'txa be-ba%`x3t-ile , | ya'-qazi t>-a'w3t basi`ma , | }a'wwa hu6a`ya , | ya'{ni di'ya gu-pa`8ux| mda`g3l| }u-sa`ru . | m3're xzi' ha'txa be-nx3`p8$le . | la' }i'tle nx3`p8a . | di'ya t>-a`m3r| }a'p }anna-ju'lle t>-ila`-llux| }u-}a'yya xma'rta di`yila . | w-a'ti x3'zy3tli }a'na ti'wa l-xa`s.a . | hu6a'ya m3`re| di`yila ! | }i'na d-$`nila ? | qa'zi m3're qu`| ka'lba br3t-ka'lba hu6a`ya . | }a'm3r si' s<art.-di`yuxile . |\""
      ]
     },
     "execution_count": 3,
     "metadata": {},
     "output_type": "execute_result"
    }
   ],
   "source": [
    "T.text(L.u(morph, 'paragraph'), fmt='text-trans-full')"
   ]
  },
  {
   "cell_type": "code",
   "execution_count": 4,
   "metadata": {},
   "outputs": [
    {
     "data": {
      "text/plain": [
       "'xa-ga xeta ,  mallah Nas.radin ,  xaz3x modi wi6a .  gu-be8a wewa ,  har-zala-w 8aya .  zala-w 8aya ,  mara ya-}alaha ,  yaw3tli }3mma dawe .  }3n-hawa }3c.<c.<i-u }3c.<c.<a maq3lb3nna .  }u-}3n-hawa }3mma-w-xa-z<i ,  la-bay3nna .  de-s<uqla .  }3mma gar3g hawa dr3st .  b-alaha hole zala-w 8aya ,  }i8wale xa-s<wawa hu6aya ,  mas.o8e }3lle diye .  m3re xaz3x }awwa dus-ile .  qem3n mjarb3nne .  siqa l-gare ,  d3ryele }3c.<c.<i-u }3c.<c.<a dawe gu-6a-kista ,  d3rya b-kawele .  }a baxta hayyo !  hole }alaha q3m-ms<ad3rr3n .  mu8e8ela majma .  msurq3lla pis<ela mnay3lla l-xa-xa .  plit.la }3c.<c.<i-u }3c.<c.<a .  tre ,  tre ,  }3c.<c.<i-u }3c.<c.<a .  }3s.ra ,  }3s.ra ,  har-}3c.<c.<i-u }3c.<c.<a .  klela ,  }am3r baxta dus-ile .  }alaha la-xal3t. .  }3c.<c.<i-u }3c.<c.<a ,  }axc<i }ana max-xs<awti ,  }ayya kista hole mxoz<3bn3lla max-xa .  ha-s<qul ,  mattula tamaha .  hu6aya l-gare s<wirele l-palga ,  yaba }an3n ms<udr3lla !  }ay kalba }am3r tama l-gare mas.yo8e ,  bay3t s<aql3tla }ap-}anna .  mrazg3t ganux .  t3mm3l t>-asq3x k3s-qazi .  hu6aya }3c.<c.<i-u }3c.<c.<a dawe zile m3nne ,  }eka t>-a8ya s<3n8e ?  !  hal-qedamta s<3n8e la-8ela .  har-wele zala-w 8aya .  malla mutt3lle res<e dmixa .  t.liya ,  kefe basimta ,  }u-dawe xo-res<e .  sa}3t }3s<ta mbadla }38yele hu6aya wa6a t.3q-t.3q-t.3q l-t.ara .  }u-qare l-tara modila q3s.s.3t ?  p8ix3lle tara malla ,  }ina hu6aya lwis<a kas<xa-w julle xa8e .  }u-xmarte diye msurg3lla-w wi63lla taza .  t.la-modila }ayya ?  m3re t>-asq3x k3s-qazi .  m3re si kalba .  }ana la-}a83n m3nnux .  t.la-mo la-}a83t m3nni ?  si la-}a83n m3nnux }ana .  t.la-mo ?  modila q3s.s.3t ?  m3re }alaha-w nas<e ya6i .  xazela }anna jullux hatxa ,  kas<xa-w }ayya xmartux }u-serga-w w-ana b-anna das<das<e-w b-anna c<ak>alle-w }u-s<3xtana-w s<art. qazi t-yaw3lla t.lalux .  qazi t>-aw3dla t.lalux ,  la-}aw3dla t.lali .  m3re la-}a83n ,  }ina jullux halla t.lali .  }u-xmartux t>-atw3n }ana l-xas.a .  }u-}ati lus<-julli }u-t>-asq3x .  ham-}3n }asq3t }ap-}ayya qabul-ila .  qimele }aw-lwis<a das<das<3t malla ,  }u-c<ak>all3t malla ,  malla lwis<ele kas<xa d-o-hu6aya }u-tiwele xas.3t xmarta ,  }u-siqela k3s-qazi .  siqele k3s-qazi ,  wirela s<art.-qazi .  modila q3s.s.3t ?  malla m3re qazi t>-aw3t basima .  }ana k3ma dana t>-in-ms.aloye t.la-marya }alaha ta-t-yaw3lli }3mma dawe .  }u-}awwa hu6aya wele mas.yo8e nt.ara }3lli l-gare .  }u-}alaha s<uxa-l-s<3mme q3m-ms<ad3rri }3c.<c.<i-u }3c.<c.<a dawe .  }u-}ana m3ri baxta ,  }ap }ayya-kista }alaha mxoz<3bn3lla m-geb-xa-dawa .  }u-}awwa-z<i hu6aya l-gare }3lla ,  }anna dawe }an3n hiw3llux .  }u-hatxa be-bax3t-ile ,  ya-qazi t>-aw3t basima ,  }awwa hu6aya ,  ya{ni diya gu-pa8ux mdag3l }u-saru .  m3re xzi hatxa be-nx3p8ele .  la }itle nx3p8a .  diya t>-am3r }ap }anna-julle t>-ila-llux }u-}ayya xmarta diyila .  w-ati x3zy3tli }ana tiwa l-xas.a .  hu6aya m3re diyila !  }ina d-enila ?  qazi m3re qu kalba br3t-kalba hu6aya .  }am3r si s<art.-diyuxile . '"
      ]
     },
     "execution_count": 4,
     "metadata": {},
     "output_type": "execute_result"
    }
   ],
   "source": [
    "T.text(L.u(morph, 'paragraph'), fmt='text-trans-lite')"
   ]
  },
  {
   "cell_type": "code",
   "execution_count": 5,
   "metadata": {},
   "outputs": [
    {
     "data": {
      "text/plain": [
       "('Barwar', 'A Hundred Gold Coins', 1)"
      ]
     },
     "execution_count": 5,
     "metadata": {},
     "output_type": "execute_result"
    }
   ],
   "source": [
    "T.sectionFromNode(1)"
   ]
  },
  {
   "cell_type": "code",
   "execution_count": 6,
   "metadata": {},
   "outputs": [
    {
     "data": {
      "text/plain": [
       "575368"
      ]
     },
     "execution_count": 6,
     "metadata": {},
     "output_type": "execute_result"
    }
   ],
   "source": [
    "T.nodeFromSection(('Barwar', 'A Hundred Gold Coins', 1))"
   ]
  },
  {
   "cell_type": "code",
   "execution_count": 8,
   "metadata": {},
   "outputs": [
    {
     "data": {
      "text/plain": [
       "'x'"
      ]
     },
     "execution_count": 8,
     "metadata": {},
     "output_type": "execute_result"
    }
   ],
   "source": [
    "F.text.v(1)"
   ]
  },
  {
   "cell_type": "code",
   "execution_count": null,
   "metadata": {},
   "outputs": [],
   "source": []
  }
 ],
 "metadata": {
  "kernelspec": {
   "display_name": "Python 3",
   "language": "python",
   "name": "python3"
  },
  "language_info": {
   "codemirror_mode": {
    "name": "ipython",
    "version": 3
   },
   "file_extension": ".py",
   "mimetype": "text/x-python",
   "name": "python",
   "nbconvert_exporter": "python",
   "pygments_lexer": "ipython3",
   "version": "3.8.0"
  }
 },
 "nbformat": 4,
 "nbformat_minor": 4
}
