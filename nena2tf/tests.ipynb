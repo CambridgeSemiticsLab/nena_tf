{
 "cells": [
  {
   "cell_type": "markdown",
   "metadata": {},
   "source": [
    "# Testing .tf files from NENA conversion"
   ]
  },
  {
   "cell_type": "code",
   "execution_count": 10,
   "metadata": {},
   "outputs": [
    {
     "name": "stdout",
     "output_type": "stream",
     "text": [
      "This is Text-Fabric 7.8.12\n",
      "Api reference : https://annotation.github.io/text-fabric/Api/Fabric/\n",
      "\n",
      "23 features found and 0 ignored\n",
      "  0.00s loading features ...\n",
      "   |     0.27s T otype                from /Users/cody/github/CambridgeSemiticsLab/nena_tf/tf/0.01\n",
      "   |     4.27s T oslots               from /Users/cody/github/CambridgeSemiticsLab/nena_tf/tf/0.01\n",
      "   |     0.00s No structure info in otext, the structure part of the T-API cannot be used\n",
      "   |     1.59s T trans_l              from /Users/cody/github/CambridgeSemiticsLab/nena_tf/tf/0.01\n",
      "   |     1.19s T end                  from /Users/cody/github/CambridgeSemiticsLab/nena_tf/tf/0.01\n",
      "   |     1.60s T trans_f              from /Users/cody/github/CambridgeSemiticsLab/nena_tf/tf/0.01\n",
      "   |     1.16s T etrans_f             from /Users/cody/github/CambridgeSemiticsLab/nena_tf/tf/0.01\n",
      "   |     0.01s T number               from /Users/cody/github/CambridgeSemiticsLab/nena_tf/tf/0.01\n",
      "   |     0.00s T dialect              from /Users/cody/github/CambridgeSemiticsLab/nena_tf/tf/0.01\n",
      "   |     1.71s T text                 from /Users/cody/github/CambridgeSemiticsLab/nena_tf/tf/0.01\n",
      "   |     1.15s T etrans_l             from /Users/cody/github/CambridgeSemiticsLab/nena_tf/tf/0.01\n",
      "   |     0.00s T title                from /Users/cody/github/CambridgeSemiticsLab/nena_tf/tf/0.01\n",
      "   |      |     0.23s C __levels__           from otype, oslots, otext\n",
      "   |      |     9.81s C __order__            from otype, oslots, __levels__\n",
      "   |      |     0.40s C __rank__             from otype, __order__\n",
      "   |      |     8.99s C __levUp__            from otype, oslots, __rank__\n",
      "   |      |     2.25s C __levDown__          from otype, __levUp__, __rank__\n",
      "   |      |     2.69s C __boundary__         from otype, oslots, __rank__\n",
      "   |      |     0.01s C __sections__         from otype, oslots, otext, __levUp__, __levels__, dialect, title, number\n",
      "    37s All features loaded/computed - for details use loadLog()\n",
      "  0.00s loading features ...\n",
      "   |     0.00s T comment              from /Users/cody/github/CambridgeSemiticsLab/nena_tf/tf/0.01\n",
      "   |     0.00s T continued_from       from /Users/cody/github/CambridgeSemiticsLab/nena_tf/tf/0.01\n",
      "   |     0.00s T footnotes            from /Users/cody/github/CambridgeSemiticsLab/nena_tf/tf/0.01\n",
      "   |     0.01s T foreign              from /Users/cody/github/CambridgeSemiticsLab/nena_tf/tf/0.01\n",
      "   |     0.00s T informant            from /Users/cody/github/CambridgeSemiticsLab/nena_tf/tf/0.01\n",
      "   |     0.00s T lang                 from /Users/cody/github/CambridgeSemiticsLab/nena_tf/tf/0.01\n",
      "   |     0.00s T place                from /Users/cody/github/CambridgeSemiticsLab/nena_tf/tf/0.01\n",
      "   |     0.00s T source               from /Users/cody/github/CambridgeSemiticsLab/nena_tf/tf/0.01\n",
      "   |     0.47s T speaker              from /Users/cody/github/CambridgeSemiticsLab/nena_tf/tf/0.01\n",
      "   |     0.00s T text_id              from /Users/cody/github/CambridgeSemiticsLab/nena_tf/tf/0.01\n",
      "   |     0.00s T version              from /Users/cody/github/CambridgeSemiticsLab/nena_tf/tf/0.01\n",
      "  0.51s All additional features loaded - for details use loadLog()\n"
     ]
    }
   ],
   "source": [
    "import collections\n",
    "from tf.fabric import Fabric\n",
    "data = '../tf/0.01/'\n",
    "\n",
    "TF = Fabric(locations=[data])\n",
    "\n",
    "api = TF.loadAll()\n",
    "\n",
    "tf_vars = api.makeAvailableIn(globals())"
   ]
  },
  {
   "cell_type": "markdown",
   "metadata": {},
   "source": [
    "## Basic Tests"
   ]
  },
  {
   "cell_type": "code",
   "execution_count": 11,
   "metadata": {},
   "outputs": [
    {
     "name": "stdout",
     "output_type": "stream",
     "text": [
      "letter\n",
      "x\n",
      "\n",
      "morpheme\n",
      "xá-\n",
      "\n",
      "inton\n",
      "xá-ga xèta,ˈ \n",
      "\n",
      "subsentence\n",
      "xá-ga xèta,ˈ \n",
      "\n",
      "sentence\n",
      "xá-ga xèta,ˈ mállah Naṣràdin,ˈ xázəx mòdi wíða.ˈ \n",
      "\n",
      "line\n",
      "xá-ga xèta,ˈ mállah Naṣràdin,ˈ xázəx mòdi wíða.ˈ gu-bɛ̀θa wéwa,ˈ har-zála-w θàya.ˈ zála-w θàya,ˈ mára ya-ʾàlaha,ˈ yawə̀tliˈ ʾə́mma dàwe.ˈ ʾən-hàwaˈ ʾə́č̣č̣i-u ʾə́č̣č̣a maqəlbə̀nna.ˈ ʾu-ʾən-hàwaˈ ʾə́mma-w-xà-ži,ˈ la-băyə̀nna.ˈ de-šùqla.ˈ ʾə̀mma gắrəg háwa drə́st.ˈ \n",
      "\n",
      "paragraph\n",
      "xá-ga xèta,ˈ mállah Naṣràdin,ˈ xázəx mòdi wíða.ˈ gu-bɛ̀θa wéwa,ˈ har-zála-w θàya.ˈ zála-w θàya,ˈ mára ya-ʾàlaha,ˈ yawə̀tliˈ ʾə́mma dàwe.ˈ ʾən-hàwaˈ ʾə́č̣č̣i-u ʾə́č̣č̣a maqəlbə̀nna.ˈ ʾu-ʾən-hàwaˈ ʾə́mma-w-xà-ži,ˈ la-băyə̀nna.ˈ de-šùqla.ˈ ʾə̀mma gắrəg háwa drə́st.ˈ b-álaha hóle zála-w θàya,ˈ ʾíθwale xá-šwawa huðàya,ˈ maṣóθe ʾə́lle dìye.ˈ mə́re xázəx ʾáwwa dū̀s-ile.ˈ qɛ́mən mjarbə̀nne.ˈ síqa l-gàre,ˈ də́ryɛle ʾə́č̣č̣i-u ʾə́č̣č̣a dáwe gu-ða-kìsta,ˈ də́rya b-kàwele.ˈ ʾá báxta hàyyo!ˈ hóle ʾaláha qəm-mšadə̀rrən.ˈ muθɛ́θɛla màjma.ˈ msúrqəlla píšela mnáyəlla l-xà-xa.ˈ plíṭla ʾə́č̣č̣i-u ʾə̀č̣č̣a.ˈ trè,ˈ trè,ˈ ʾə́č̣č̣i-u ʾə̀č̣č̣a.ˈ ʾə̀ṣra,ˈ ʾə̀ṣra,ˈ hàr-ʾəč̣č̣i-u ʾə́č̣č̣a.ˈ klèla,ˈ ʾámər báxta dū̀s-ile.ˈ ʾaláha là-xaləṭ.ˈ ʾə́č̣č̣i-u ʾə̀č̣č̣a,ˈ ʾáxči ʾána max-xšàwti,ˈ ʾáyya kìstaˈ hóle mxožə́bnəlla max-xà.ˈ ha-šqùl,ˈ máttula tămàha.ˈ huðáya l-gàreˈ šwirɛ́le l-pàlga,ˈ yába ʾànən mšúdrəlla!ˈ ʾáy kálba ʾámər táma l-gàre maṣyóθe,ˈ bắyət šaqlə́tla ʾap-ʾànna.ˈ mrázgət gànux.ˈ tə́mməl ṱ-ásqəx kəs-qàzi.ˈ huðáya ʾə́č̣č̣i-u ʾə́č̣č̣a dáwe zìle mə́nne,ˈ ʾɛ́ka ṱ-áθya šə̀nθe?!ˈ hal-qedámta šə́nθe la-θèla.ˈ hár-wele zála-w θàya.ˈ málla múttəlle réše dmìxa.ˈ ṭlìya,ˈ kéfe basìmta,ˈ ʾu-dáwe xo-rèše.ˈ sáʾət ʾə́šta mbàdlaˈ ʾə́θyɛle huðáya wáða ṭəq-ṭəq-ṭə́q l-ṭằra.ˈ ʾu-qáre l-tằraˈ mòdila qə́ṣṣət?ˈ pθíxəlle tắra màlla,ˈ ʾína huðáya lwíša kášxa-w júlle xàθe.ˈ ʾu-xmárte díye msúrgəlla-w wíðəlla tàza.ˈ ṭla-mòdila ʾáyya?ˈ mə́re ṱ-ásqəx kəs-qàzi.ˈ mə́re sì kálba.ˈ ʾána là-ʾaθən mə́nnux.ˈ ṭla-mò la-ʾáθət mə́nni?ˈ sí là-ʾaθən mə́nnux ʾána.ˈ ṭla-mò?ˈ mòdila qə́ṣṣət?ˈ mə́re ʾaláha-w náše yằði.ˈ xazɛ́la ʾánna júllux hàtxa,ˈ kášxa-w ʾáyya xmàrtuxˈ ʾu-sɛ̀rga-wˈ w-ána b-ánna dašdàše-wˈ b-ánna čak̭àlle-wˈ ʾu-šəxtàna-wˈ šárṭ qázi t-yawə́lla ṭlàlux.ˈ qázi ṱ-awə́dla ṭlàlux,ˈ lá-ʾawədla ṭlàli.ˈ mə́re là-ʾaθən,ˈ ʾína júllux hálla ṭlàli.ˈ ʾu-xmártux ṱ-átwən ʾàna l-xáṣa.ˈ ʾu-ʾáti luš-jùlliˈ ʾu-ṱ-àsqəx.ˈ hám-ʾən ʾàsqətˈ ʾap-ʾáyya qabū̀l-ila.ˈ qímɛle ʾaw-lwíša dašdàšət málla,ˈ ʾu-čak̭àllət málla,ˈ málla lwíšɛle kášxa d-o-huðàyaˈ ʾu-tíwɛle xáṣət xmàrta,ˈ ʾu-síqela kəs-qàzi.ˈ síqɛle kəs-qàzi,ˈ wírela šarṭ-qàzi.ˈ mòdila qə́ṣṣət?ˈ málla mə̀reˈ qázi ṱ-áwət basìma.ˈ ʾána kəmà dána ṱ-in-mṣalóye ṭla-márya ʾàlahaˈ ta-t-yawə́lli ʾə̀mma dáwe.ˈ ʾu-ʾáwwa huðáya wéle maṣyóθe nṭára ʾə́lli l-gàre.ˈ ʾu-ʾálaha šuxa-l-šə́mme qəm-mšadə́rri ʾə́č̣č̣i-u ʾə́č̣č̣a dàwe.ˈ ʾu-ʾána mə́ri bàxta,ˈ ʾáp ʾayya-kìstaˈ ʾálaha mxožə́bnəlla m-gēb-xà-dawa.ˈ ʾu-ʾáwwa-ži huðáya l-gàreˈ ʾə̀lla,ˈ ʾánna dáwe ʾànən hiwə́llux.ˈ ʾu-hátxa be-bằxət-ile,ˈ yá-qazi ṱ-áwət basìma,ˈ ʾáwwa huðàya,ˈ yáʿni díya gu-pàθuxˈ mdàgəlˈ ʾu-sàru.ˈ mə́re xzí hátxa be-nxə̀pθɛle.ˈ lá ʾítle nxə̀pθa.ˈ díya ṱ-àmərˈ ʾáp ʾanna-júlle ṱ-ilà-lluxˈ ʾu-ʾáyya xmárta dìyila.ˈ w-áti xə́zyətli ʾána tíwa l-xàṣa.ˈ huðáya mə̀reˈ dìyila!ˈ ʾína d-ɛ̀nila?ˈ qázi mə́re qùˈ kálba brət-kálba huðàya.ˈ ʾámər sí šarṭ-dìyuxile.ˈ\n",
      "\n",
      "text\n",
      "xá-ga xèta,ˈ mállah Naṣràdin,ˈ xázəx mòdi wíða.ˈ gu-bɛ̀θa wéwa,ˈ har-zála-w θàya.ˈ zála-w θàya,ˈ mára ya-ʾàlaha,ˈ yawə̀tliˈ ʾə́mma dàwe.ˈ ʾən-hàwaˈ ʾə́č̣č̣i-u ʾə́č̣č̣a maqəlbə̀nna.ˈ ʾu-ʾən-hàwaˈ ʾə́mma-w-xà-ži,ˈ la-băyə̀nna.ˈ de-šùqla.ˈ ʾə̀mma gắrəg háwa drə́st.ˈ b-álaha hóle zála-w θàya,ˈ ʾíθwale xá-šwawa huðàya,ˈ maṣóθe ʾə́lle dìye.ˈ mə́re xázəx ʾáwwa dū̀s-ile.ˈ qɛ́mən mjarbə̀nne.ˈ síqa l-gàre,ˈ də́ryɛle ʾə́č̣č̣i-u ʾə́č̣č̣a dáwe gu-ða-kìsta,ˈ də́rya b-kàwele.ˈ ʾá báxta hàyyo!ˈ hóle ʾaláha qəm-mšadə̀rrən.ˈ muθɛ́θɛla màjma.ˈ msúrqəlla píšela mnáyəlla l-xà-xa.ˈ plíṭla ʾə́č̣č̣i-u ʾə̀č̣č̣a.ˈ trè,ˈ trè,ˈ ʾə́č̣č̣i-u ʾə̀č̣č̣a.ˈ ʾə̀ṣra,ˈ ʾə̀ṣra,ˈ hàr-ʾəč̣č̣i-u ʾə́č̣č̣a.ˈ klèla,ˈ ʾámər báxta dū̀s-ile.ˈ ʾaláha là-xaləṭ.ˈ ʾə́č̣č̣i-u ʾə̀č̣č̣a,ˈ ʾáxči ʾána max-xšàwti,ˈ ʾáyya kìstaˈ hóle mxožə́bnəlla max-xà.ˈ ha-šqùl,ˈ máttula tămàha.ˈ huðáya l-gàreˈ šwirɛ́le l-pàlga,ˈ yába ʾànən mšúdrəlla!ˈ ʾáy kálba ʾámər táma l-gàre maṣyóθe,ˈ bắyət šaqlə́tla ʾap-ʾànna.ˈ mrázgət gànux.ˈ tə́mməl ṱ-ásqəx kəs-qàzi.ˈ huðáya ʾə́č̣č̣i-u ʾə́č̣č̣a dáwe zìle mə́nne,ˈ ʾɛ́ka ṱ-áθya šə̀nθe?!ˈ hal-qedámta šə́nθe la-θèla.ˈ hár-wele zála-w θàya.ˈ málla múttəlle réše dmìxa.ˈ ṭlìya,ˈ kéfe basìmta,ˈ ʾu-dáwe xo-rèše.ˈ sáʾət ʾə́šta mbàdlaˈ ʾə́θyɛle huðáya wáða ṭəq-ṭəq-ṭə́q l-ṭằra.ˈ ʾu-qáre l-tằraˈ mòdila qə́ṣṣət?ˈ pθíxəlle tắra màlla,ˈ ʾína huðáya lwíša kášxa-w júlle xàθe.ˈ ʾu-xmárte díye msúrgəlla-w wíðəlla tàza.ˈ ṭla-mòdila ʾáyya?ˈ mə́re ṱ-ásqəx kəs-qàzi.ˈ mə́re sì kálba.ˈ ʾána là-ʾaθən mə́nnux.ˈ ṭla-mò la-ʾáθət mə́nni?ˈ sí là-ʾaθən mə́nnux ʾána.ˈ ṭla-mò?ˈ mòdila qə́ṣṣət?ˈ mə́re ʾaláha-w náše yằði.ˈ xazɛ́la ʾánna júllux hàtxa,ˈ kášxa-w ʾáyya xmàrtuxˈ ʾu-sɛ̀rga-wˈ w-ána b-ánna dašdàše-wˈ b-ánna čak̭àlle-wˈ ʾu-šəxtàna-wˈ šárṭ qázi t-yawə́lla ṭlàlux.ˈ qázi ṱ-awə́dla ṭlàlux,ˈ lá-ʾawədla ṭlàli.ˈ mə́re là-ʾaθən,ˈ ʾína júllux hálla ṭlàli.ˈ ʾu-xmártux ṱ-átwən ʾàna l-xáṣa.ˈ ʾu-ʾáti luš-jùlliˈ ʾu-ṱ-àsqəx.ˈ hám-ʾən ʾàsqətˈ ʾap-ʾáyya qabū̀l-ila.ˈ qímɛle ʾaw-lwíša dašdàšət málla,ˈ ʾu-čak̭àllət málla,ˈ málla lwíšɛle kášxa d-o-huðàyaˈ ʾu-tíwɛle xáṣət xmàrta,ˈ ʾu-síqela kəs-qàzi.ˈ síqɛle kəs-qàzi,ˈ wírela šarṭ-qàzi.ˈ mòdila qə́ṣṣət?ˈ málla mə̀reˈ qázi ṱ-áwət basìma.ˈ ʾána kəmà dána ṱ-in-mṣalóye ṭla-márya ʾàlahaˈ ta-t-yawə́lli ʾə̀mma dáwe.ˈ ʾu-ʾáwwa huðáya wéle maṣyóθe nṭára ʾə́lli l-gàre.ˈ ʾu-ʾálaha šuxa-l-šə́mme qəm-mšadə́rri ʾə́č̣č̣i-u ʾə́č̣č̣a dàwe.ˈ ʾu-ʾána mə́ri bàxta,ˈ ʾáp ʾayya-kìstaˈ ʾálaha mxožə́bnəlla m-gēb-xà-dawa.ˈ ʾu-ʾáwwa-ži huðáya l-gàreˈ ʾə̀lla,ˈ ʾánna dáwe ʾànən hiwə́llux.ˈ ʾu-hátxa be-bằxət-ile,ˈ yá-qazi ṱ-áwət basìma,ˈ ʾáwwa huðàya,ˈ yáʿni díya gu-pàθuxˈ mdàgəlˈ ʾu-sàru.ˈ mə́re xzí hátxa be-nxə̀pθɛle.ˈ lá ʾítle nxə̀pθa.ˈ díya ṱ-àmərˈ ʾáp ʾanna-júlle ṱ-ilà-lluxˈ ʾu-ʾáyya xmárta dìyila.ˈ w-áti xə́zyətli ʾána tíwa l-xàṣa.ˈ huðáya mə̀reˈ dìyila!ˈ ʾína d-ɛ̀nila?ˈ qázi mə́re qùˈ kálba brət-kálba huðàya.ˈ ʾámər sí šarṭ-dìyuxile.ˈ\n"
     ]
    }
   ],
   "source": [
    "morph = 1\n",
    "print('letter')\n",
    "print(F.text.v(morph))\n",
    "\n",
    "showtypes = (\n",
    "    'morpheme','inton','subsentence','sentence','line',\n",
    "    'paragraph','text'\n",
    ")\n",
    "\n",
    "for i, otype in enumerate(showtypes):\n",
    "    node = L.u(morph, otype)[0]\n",
    "    indent = ' '*(i+1)\n",
    "    print()\n",
    "    print(f'{otype}')\n",
    "    print(f'{T.text(node)}')"
   ]
  },
  {
   "cell_type": "code",
   "execution_count": 12,
   "metadata": {},
   "outputs": [
    {
     "data": {
      "text/plain": [
       "\"xa'-ga xe`ta/,| ma'llah Nas.ra`din/,| xa'z3x mo`di wi'6a/.| gu-b$`8a we'wa/,| har-za'la-w 8a`ya/.| za'la-w 8a`ya/,| ma'ra ya-}a`laha/,| yaw3`tli| }3'mma da`we/.| }3n-ha`wa| }3'c.<c.<i-u }3'c.<c.<a maq3lb3`nna/.| }u-}3n-ha`wa| }3'mma-w-xa`-z<i/,| la-ba%y3`nna/.| de-s<u`qla/.| }3`mma ga%'r3g ha'wa dr3'st/.| b-a'laha ho'le za'la-w 8a`ya/,| }i'8wale xa'-s<wawa hu6a`ya/,| mas.o'8e }3'lle di`ye/.| m3're xa'z3x }a'wwa du_`s-ile/.| q$'m3n mjarb3`nne/.| si'qa l-ga`re/,| d3'ry$le }3'c.<c.<i-u }3'c.<c.<a da'we gu-6a-ki`sta/,| d3'rya b-ka`wele/.| }a' ba'xta ha`yyo/!| ho'le }ala'ha q3m-ms<ad3`rr3n/.| mu8$'8$la ma`jma/.| msu'rq3lla pi's<ela mna'y3lla l-xa`-xa/.| pli't.la }3'c.<c.<i-u }3`c.<c.<a/.| tre`/,| tre`/,| }3'c.<c.<i-u }3`c.<c.<a/.| }3`s.ra/,| }3`s.ra/,| ha`r-}3c.<c.<i-u }3'c.<c.<a/.| kle`la/,| }a'm3r ba'xta du_`s-ile/.| }ala'ha la`-xal3t./.| }3'c.<c.<i-u }3`c.<c.<a/,| }a'xc<i }a'na max-xs<a`wti/,| }a'yya ki`sta| ho'le mxoz<3'bn3lla max-xa`/.| ha-s<qu`l/,| ma'ttula ta%ma`ha/.| hu6a'ya l-ga`re| s<wir$'le l-pa`lga/,| ya'ba }a`n3n ms<u'dr3lla/!| }a'y ka'lba }a'm3r ta'ma l-ga`re mas.yo'8e/,| ba%'y3t s<aql3'tla }ap-}a`nna/.| mra'zg3t ga`nux/.| t3'mm3l t>-a'sq3x k3s-qa`zi/.| hu6a'ya }3'c.<c.<i-u }3'c.<c.<a da'we zi`le m3'nne/,| }$'ka t>-a'8ya s<3`n8e/?!| hal-qeda'mta s<3'n8e la-8e`la/.| ha'r-wele za'la-w 8a`ya/.| ma'lla mu'tt3lle re's<e dmi`xa/.| t.li`ya/,| ke'fe basi`mta/,| }u-da'we xo-re`s<e/.| sa'}3t }3's<ta mba`dla| }3'8y$le hu6a'ya wa'6a t.3q-t.3q-t.3'q l-t.a%`ra/.| }u-qa're l-ta%`ra| mo`dila q3's.s.3t/?| p8i'x3lle ta%'ra ma`lla/,| }i'na hu6a'ya lwi's<a ka's<xa-w ju'lle xa`8e/.| }u-xma'rte di'ye msu'rg3lla-w wi'63lla ta`za/.| t.la-mo`dila }a'yya/?| m3're t>-a'sq3x k3s-qa`zi/.| m3're si` ka'lba/.| }a'na la`-}a83n m3'nnux/.| t.la-mo` la-}a'83t m3'nni/?| si' la`-}a83n m3'nnux }a'na/.| t.la-mo`/?| mo`dila q3's.s.3t/?| m3're }ala'ha-w na's<e ya%`6i/.| xaz$'la }a'nna ju'llux ha`txa/,| ka's<xa-w }a'yya xma`rtux| }u-s$`rga-w| w-a'na b-a'nna das<da`s<e-w| b-a'nna c<ak>a`lle-w| }u-s<3xta`na-w| s<a'rt. qa'zi t-yaw3'lla t.la`lux/.| qa'zi t>-aw3'dla t.la`lux/,| la'-}aw3dla t.la`li/.| m3're la`-}a83n/,| }i'na ju'llux ha'lla t.la`li/.| }u-xma'rtux t>-a'tw3n }a`na l-xa's.a/.| }u-}a'ti lus<-ju`lli| }u-t>-a`sq3x/.| ha'm-}3n }a`sq3t| }ap-}a'yya qabu_`l-ila/.| qi'm$le }aw-lwi's<a das<da`s<3t ma'lla/,| }u-c<ak>a`ll3t ma'lla/,| ma'lla lwi's<$le ka's<xa d-o-hu6a`ya| }u-ti'w$le xa's.3t xma`rta/,| }u-si'qela k3s-qa`zi/.| si'q$le k3s-qa`zi/,| wi'rela s<art.-qa`zi/.| mo`dila q3's.s.3t/?| ma'lla m3`re| qa'zi t>-a'w3t basi`ma/.| }a'na k3ma` da'na t>-in-ms.alo'ye t.la-ma'rya }a`laha| ta-t-yaw3'lli }3`mma da'we/.| }u-}a'wwa hu6a'ya we'le mas.yo'8e nt.a'ra }3'lli l-ga`re/.| }u-}a'laha s<uxa-l-s<3'mme q3m-ms<ad3'rri }3'c.<c.<i-u }3'c.<c.<a da`we/.| }u-}a'na m3'ri ba`xta/,| }a'p }ayya-ki`sta| }a'laha mxoz<3'bn3lla m-ge_b-xa`-dawa/.| }u-}a'wwa-z<i hu6a'ya l-ga`re| }3`lla/,| }a'nna da'we }a`n3n hiw3'llux/.| }u-ha'txa be-ba%`x3t-ile/,| ya'-qazi t>-a'w3t basi`ma/,| }a'wwa hu6a`ya/,| ya'{ni di'ya gu-pa`8ux| mda`g3l| }u-sa`ru/.| m3're xzi' ha'txa be-nx3`p8$le/.| la' }i'tle nx3`p8a/.| di'ya t>-a`m3r| }a'p }anna-ju'lle t>-ila`-llux| }u-}a'yya xma'rta di`yila/.| w-a'ti x3'zy3tli }a'na ti'wa l-xa`s.a/.| hu6a'ya m3`re| di`yila/!| }i'na d-$`nila/?| qa'zi m3're qu`| ka'lba br3t-ka'lba hu6a`ya/.| }a'm3r si' s<art.-di`yuxile/.|\""
      ]
     },
     "execution_count": 12,
     "metadata": {},
     "output_type": "execute_result"
    }
   ],
   "source": [
    "T.text(L.u(morph, 'paragraph'), fmt='text-trans-full')"
   ]
  },
  {
   "cell_type": "code",
   "execution_count": 13,
   "metadata": {},
   "outputs": [
    {
     "data": {
      "text/plain": [
       "'xa-ga xeta/, mallah Nasradin/, xaz3x modi wi6a/. gu-be8a wewa/, har-zala-w 8aya/. zala-w 8aya/, mara ya-}alaha/, yaw3tli }3mma dawe/. }3n-hawa }3cci-u }3cca maq3lb3nna/. }u-}3n-hawa }3mma-w-xa-zi/, la-bay3nna/. de-suqla/. }3mma gar3g hawa dr3st/. b-alaha hole zala-w 8aya/, }i8wale xa-swawa hu6aya/, maso8e }3lle diye/. m3re xaz3x }awwa dus-ile/. qem3n mjarb3nne/. siqa l-gare/, d3ryele }3cci-u }3cca dawe gu-6a-kista/, d3rya b-kawele/. }a baxta hayyo/! hole }alaha q3m-msad3rr3n/. mu8e8ela majma/. msurq3lla pisela mnay3lla l-xa-xa/. plitla }3cci-u }3cca/. tre/, tre/, }3cci-u }3cca/. }3sra/, }3sra/, har-}3cci-u }3cca/. klela/, }am3r baxta dus-ile/. }alaha la-xal3t/. }3cci-u }3cca/, }axci }ana max-xsawti/, }ayya kista hole mxoz3bn3lla max-xa/. ha-squl/, mattula tamaha/. hu6aya l-gare swirele l-palga/, yaba }an3n msudr3lla/! }ay kalba }am3r tama l-gare masyo8e/, bay3t saql3tla }ap-}anna/. mrazg3t ganux/. t3mm3l t-asq3x k3s-qazi/. hu6aya }3cci-u }3cca dawe zile m3nne/, }eka t-a8ya s3n8e/?! hal-qedamta s3n8e la-8ela/. har-wele zala-w 8aya/. malla mutt3lle rese dmixa/. tliya/, kefe basimta/, }u-dawe xo-rese/. sa}3t }3sta mbadla }38yele hu6aya wa6a t3q-t3q-t3q l-tara/. }u-qare l-tara modila q3ss3t/? p8ix3lle tara malla/, }ina hu6aya lwisa kasxa-w julle xa8e/. }u-xmarte diye msurg3lla-w wi63lla taza/. tla-modila }ayya/? m3re t-asq3x k3s-qazi/. m3re si kalba/. }ana la-}a83n m3nnux/. tla-mo la-}a83t m3nni/? si la-}a83n m3nnux }ana/. tla-mo/? modila q3ss3t/? m3re }alaha-w nase ya6i/. xazela }anna jullux hatxa/, kasxa-w }ayya xmartux }u-serga-w w-ana b-anna dasdase-w b-anna cakalle-w }u-s3xtana-w sart qazi t-yaw3lla tlalux/. qazi t-aw3dla tlalux/, la-}aw3dla tlali/. m3re la-}a83n/, }ina jullux halla tlali/. }u-xmartux t-atw3n }ana l-xasa/. }u-}ati lus-julli }u-t-asq3x/. ham-}3n }asq3t }ap-}ayya qabul-ila/. qimele }aw-lwisa dasdas3t malla/, }u-cakall3t malla/, malla lwisele kasxa d-o-hu6aya }u-tiwele xas3t xmarta/, }u-siqela k3s-qazi/. siqele k3s-qazi/, wirela sart-qazi/. modila q3ss3t/? malla m3re qazi t-aw3t basima/. }ana k3ma dana t-in-msaloye tla-marya }alaha ta-t-yaw3lli }3mma dawe/. }u-}awwa hu6aya wele masyo8e ntara }3lli l-gare/. }u-}alaha suxa-l-s3mme q3m-msad3rri }3cci-u }3cca dawe/. }u-}ana m3ri baxta/, }ap }ayya-kista }alaha mxoz3bn3lla m-geb-xa-dawa/. }u-}awwa-zi hu6aya l-gare }3lla/, }anna dawe }an3n hiw3llux/. }u-hatxa be-bax3t-ile/, ya-qazi t-aw3t basima/, }awwa hu6aya/, ya{ni diya gu-pa8ux mdag3l }u-saru/. m3re xzi hatxa be-nx3p8ele/. la }itle nx3p8a/. diya t-am3r }ap }anna-julle t-ila-llux }u-}ayya xmarta diyila/. w-ati x3zy3tli }ana tiwa l-xasa/. hu6aya m3re diyila/! }ina d-enila/? qazi m3re qu kalba br3t-kalba hu6aya/. }am3r si sart-diyuxile/.'"
      ]
     },
     "execution_count": 13,
     "metadata": {},
     "output_type": "execute_result"
    }
   ],
   "source": [
    "T.text(L.u(morph, 'paragraph'), fmt='text-trans-lite')"
   ]
  },
  {
   "cell_type": "code",
   "execution_count": 14,
   "metadata": {},
   "outputs": [
    {
     "data": {
      "text/plain": [
       "(739771,)"
      ]
     },
     "execution_count": 14,
     "metadata": {},
     "output_type": "execute_result"
    }
   ],
   "source": [
    "L.u(1,'word')"
   ]
  },
  {
   "cell_type": "code",
   "execution_count": 15,
   "metadata": {},
   "outputs": [
    {
     "data": {
      "text/plain": [
       "\"xa'-ga \""
      ]
     },
     "execution_count": 15,
     "metadata": {},
     "output_type": "execute_result"
    }
   ],
   "source": [
    "T.text(739771, 'text-trans-full')"
   ]
  },
  {
   "cell_type": "code",
   "execution_count": 16,
   "metadata": {},
   "outputs": [
    {
     "data": {
      "text/plain": [
       "\"xa'-ga\""
      ]
     },
     "execution_count": 16,
     "metadata": {},
     "output_type": "execute_result"
    }
   ],
   "source": [
    "F.trans_f.v(739771)"
   ]
  },
  {
   "cell_type": "code",
   "execution_count": 17,
   "metadata": {},
   "outputs": [
    {
     "data": {
      "text/plain": [
       "('Barwar', 'A Hundred Gold Coins', 1)"
      ]
     },
     "execution_count": 17,
     "metadata": {},
     "output_type": "execute_result"
    }
   ],
   "source": [
    "T.sectionFromNode(1)"
   ]
  },
  {
   "cell_type": "code",
   "execution_count": 20,
   "metadata": {},
   "outputs": [
    {
     "data": {
      "text/plain": [
       "575368"
      ]
     },
     "execution_count": 20,
     "metadata": {},
     "output_type": "execute_result"
    }
   ],
   "source": [
    "T.nodeFromSection(('Barwar', 'A Hundred Gold Coins', 1))"
   ]
  },
  {
   "cell_type": "code",
   "execution_count": 21,
   "metadata": {},
   "outputs": [
    {
     "data": {
      "text/plain": [
       "'x'"
      ]
     },
     "execution_count": 21,
     "metadata": {},
     "output_type": "execute_result"
    }
   ],
   "source": [
    "F.text.v(1)"
   ]
  },
  {
   "cell_type": "markdown",
   "metadata": {},
   "source": [
    "## Testing with App"
   ]
  },
  {
   "cell_type": "code",
   "execution_count": 23,
   "metadata": {},
   "outputs": [
    {
     "name": "stdout",
     "output_type": "stream",
     "text": [
      "Using TF-app in /Users/cody/github/annotation/app-nena/code:\n",
      "\trepo clone offline under ~/github (local github)\n",
      "Using data in /Users/cody/github/CambridgeSemiticsLab/nena_tf/tf/0.01:\n",
      "\trepo clone offline under ~/github (local github)\n",
      "   |     0.00s No structure info in otext, the structure part of the T-API cannot be used\n"
     ]
    },
    {
     "data": {
      "text/html": [
       "<b>Documentation:</b> <a target=\"_blank\" href=\"https://github.com/CambridgeSemiticsLab/nena_tf/blob/master/docs\" title=\"provenance of Northeastern Neo-Aramaic Text Corpus\">NENA_TF</a> <a target=\"_blank\" href=\"https://github.com/CambridgeSemiticsLab/nena_tf/blob/master/docs/transcription.md\" title=\"('NENA transcription script',)\">Character table</a> <a target=\"_blank\" href=\"https://github.com/CambridgeSemiticsLab/nena_tf/blob/master/docs/features.md#features.md\" title=\"NENA_TF feature documentation\">Feature docs</a> <a target=\"_blank\" href=\"https://github.com/annotation/app-nena\" title=\"nena API documentation\">nena API</a> <a target=\"_blank\" href=\"https://annotation.github.io/text-fabric/Api/Fabric/\" title=\"text-fabric-api\">Text-Fabric API 7.8.12</a> <a target=\"_blank\" href=\"https://annotation.github.io/text-fabric/Use/Search/\" title=\"Search Templates Introduction and Reference\">Search Reference</a><details open><summary><b>Loaded features</b>:</summary>\n",
       "<p><b>Northeastern Neo-Aramaic Text Corpus</b>: <a target=\"_blank\" href=\"https://github.com/CambridgeSemiticsLab/nena_tf/blob/master/docs/features.md#comment\" title=\"/Users/cody/github/CambridgeSemiticsLab/nena_tf/tf/0.01/comment.tf\">comment</a>  <a target=\"_blank\" href=\"https://github.com/CambridgeSemiticsLab/nena_tf/blob/master/docs/features.md#continued_from\" title=\"/Users/cody/github/CambridgeSemiticsLab/nena_tf/tf/0.01/continued_from.tf\">continued_from</a>  <a target=\"_blank\" href=\"https://github.com/CambridgeSemiticsLab/nena_tf/blob/master/docs/features.md#dialect\" title=\"/Users/cody/github/CambridgeSemiticsLab/nena_tf/tf/0.01/dialect.tf\">dialect</a>  <a target=\"_blank\" href=\"https://github.com/CambridgeSemiticsLab/nena_tf/blob/master/docs/features.md#end\" title=\"/Users/cody/github/CambridgeSemiticsLab/nena_tf/tf/0.01/end.tf\">end</a>  <a target=\"_blank\" href=\"https://github.com/CambridgeSemiticsLab/nena_tf/blob/master/docs/features.md#etrans_f\" title=\"/Users/cody/github/CambridgeSemiticsLab/nena_tf/tf/0.01/etrans_f.tf\">etrans_f</a>  <a target=\"_blank\" href=\"https://github.com/CambridgeSemiticsLab/nena_tf/blob/master/docs/features.md#etrans_l\" title=\"/Users/cody/github/CambridgeSemiticsLab/nena_tf/tf/0.01/etrans_l.tf\">etrans_l</a>  <a target=\"_blank\" href=\"https://github.com/CambridgeSemiticsLab/nena_tf/blob/master/docs/features.md#footnotes\" title=\"/Users/cody/github/CambridgeSemiticsLab/nena_tf/tf/0.01/footnotes.tf\">footnotes</a>  <a target=\"_blank\" href=\"https://github.com/CambridgeSemiticsLab/nena_tf/blob/master/docs/features.md#foreign\" title=\"/Users/cody/github/CambridgeSemiticsLab/nena_tf/tf/0.01/foreign.tf\">foreign</a>  <a target=\"_blank\" href=\"https://github.com/CambridgeSemiticsLab/nena_tf/blob/master/docs/features.md#informant\" title=\"/Users/cody/github/CambridgeSemiticsLab/nena_tf/tf/0.01/informant.tf\">informant</a>  <a target=\"_blank\" href=\"https://github.com/CambridgeSemiticsLab/nena_tf/blob/master/docs/features.md#lang\" title=\"/Users/cody/github/CambridgeSemiticsLab/nena_tf/tf/0.01/lang.tf\">lang</a>  <a target=\"_blank\" href=\"https://github.com/CambridgeSemiticsLab/nena_tf/blob/master/docs/features.md#number\" title=\"/Users/cody/github/CambridgeSemiticsLab/nena_tf/tf/0.01/number.tf\">number</a>  <a target=\"_blank\" href=\"https://github.com/CambridgeSemiticsLab/nena_tf/blob/master/docs/features.md#otype\" title=\"/Users/cody/github/CambridgeSemiticsLab/nena_tf/tf/0.01/otype.tf\">otype</a>  <a target=\"_blank\" href=\"https://github.com/CambridgeSemiticsLab/nena_tf/blob/master/docs/features.md#place\" title=\"/Users/cody/github/CambridgeSemiticsLab/nena_tf/tf/0.01/place.tf\">place</a>  <a target=\"_blank\" href=\"https://github.com/CambridgeSemiticsLab/nena_tf/blob/master/docs/features.md#source\" title=\"/Users/cody/github/CambridgeSemiticsLab/nena_tf/tf/0.01/source.tf\">source</a>  <a target=\"_blank\" href=\"https://github.com/CambridgeSemiticsLab/nena_tf/blob/master/docs/features.md#speaker\" title=\"/Users/cody/github/CambridgeSemiticsLab/nena_tf/tf/0.01/speaker.tf\">speaker</a>  <a target=\"_blank\" href=\"https://github.com/CambridgeSemiticsLab/nena_tf/blob/master/docs/features.md#text\" title=\"/Users/cody/github/CambridgeSemiticsLab/nena_tf/tf/0.01/text.tf\">text</a>  <a target=\"_blank\" href=\"https://github.com/CambridgeSemiticsLab/nena_tf/blob/master/docs/features.md#text_id\" title=\"/Users/cody/github/CambridgeSemiticsLab/nena_tf/tf/0.01/text_id.tf\">text_id</a>  <a target=\"_blank\" href=\"https://github.com/CambridgeSemiticsLab/nena_tf/blob/master/docs/features.md#title\" title=\"/Users/cody/github/CambridgeSemiticsLab/nena_tf/tf/0.01/title.tf\">title</a>  <a target=\"_blank\" href=\"https://github.com/CambridgeSemiticsLab/nena_tf/blob/master/docs/features.md#trans_f\" title=\"/Users/cody/github/CambridgeSemiticsLab/nena_tf/tf/0.01/trans_f.tf\">trans_f</a>  <a target=\"_blank\" href=\"https://github.com/CambridgeSemiticsLab/nena_tf/blob/master/docs/features.md#trans_l\" title=\"/Users/cody/github/CambridgeSemiticsLab/nena_tf/tf/0.01/trans_l.tf\">trans_l</a>  <a target=\"_blank\" href=\"https://github.com/CambridgeSemiticsLab/nena_tf/blob/master/docs/features.md#version\" title=\"/Users/cody/github/CambridgeSemiticsLab/nena_tf/tf/0.01/version.tf\">version</a>  <b><i><a target=\"_blank\" href=\"https://github.com/CambridgeSemiticsLab/nena_tf/blob/master/docs/features.md#oslots\" title=\"/Users/cody/github/CambridgeSemiticsLab/nena_tf/tf/0.01/oslots.tf\">oslots</a></i></b> </p></details>"
      ],
      "text/plain": [
       "<IPython.core.display.HTML object>"
      ]
     },
     "metadata": {},
     "output_type": "display_data"
    },
    {
     "data": {
      "text/html": [
       "<style>\n",
       "@font-face {\n",
       "  font-family: \"CharisSIL-R\";\n",
       "  src:\n",
       "    local(\"CharisSIL-R.otf\"),\n",
       "    url(\"https://github.com/annotation/text-fabric/blob/master/tf/server/static/fonts/CharisSIL-R.woff?raw=true\");\n",
       "}\n",
       ".features {\n",
       "    font-family: monospace;\n",
       "    font-size: medium;\n",
       "    font-weight: normal;\n",
       "    color: #000000;\n",
       "    display: flex;\n",
       "    flex-flow: column nowrap;\n",
       "    padding: 0.1em;\n",
       "    margin: 0.1em;\n",
       "    direction: ltr;\n",
       "}\n",
       ".features div,.features span {\n",
       "    padding: 0;\n",
       "    margin: -0.1rem 0;\n",
       "}\n",
       ".features .f {\n",
       "    font-family: sans-serif;\n",
       "    font-size: x-small;\n",
       "    font-weight: normal;\n",
       "    color: #5555bb;\n",
       "}\n",
       ".features .xft {\n",
       "  color: #000000;\n",
       "  background-color: #eeeeee;\n",
       "  font-size: medium;\n",
       "  margin: 0.1em 0em;\n",
       "}\n",
       ".features .xft .f {\n",
       "  color: #000000;\n",
       "  background-color: #eeeeee;\n",
       "  font-style: italic;\n",
       "  font-size: x-small;\n",
       "  font-weight: normal;\n",
       "}\n",
       "\n",
       ".ll {\n",
       "    display: flex;\n",
       "    flex-flow: column nowrap;\n",
       "    justify-content: flex-end;\n",
       "    align-items: flex-end;\n",
       "    direction: ltr;\n",
       "    width: 100%;\n",
       "}\n",
       "\n",
       ".outeritem {\n",
       "    display: flex;\n",
       "    flex-flow: row wrap;\n",
       "    direction: ltr;\n",
       "}\n",
       "\n",
       ".word,.micro,.macro {\n",
       "    border: 1px solid #4f4c4c;\n",
       "    border-radius: 0.2em;\n",
       "    border-spacing: 5px;\n",
       "    padding: 0.1em;\n",
       "    margin: 0.4em;\n",
       "    display: flex;\n",
       "    flex-flow: row wrap;\n",
       "    direction: ltr;\n",
       "    background-color: #ffffff;\n",
       "}\n",
       "\n",
       ".prosa {\n",
       "    border: 1.5px dotted #4f4c4c;\n",
       "    border-radius: 0.2em;\n",
       "    padding: 0.1em;\n",
       "    margin: 0.4em;\n",
       "    border-color: #a30404;\n",
       "    display: flex;\n",
       "    flex-flow: row wrap;\n",
       "    direction: ltr;\n",
       "    background-color: #ffffff;\n",
       "}\n",
       "\n",
       "\n",
       ".line {\n",
       "    display: flex;\n",
       "    flex-flow: row wrap;\n",
       "    direction: ltr;\n",
       "}\n",
       "\n",
       ".ln {\n",
       "  font-size: small !important;\n",
       "  padding-right: 1em;\n",
       "}\n",
       "\n",
       ".nd {\n",
       "    font-family: monospace;\n",
       "    font-size: x-small;\n",
       "    color: #999999;\n",
       "}\n",
       "\n",
       ".hl {\n",
       "    background-color: #ffee66;\n",
       "}\n",
       "\n",
       ".ara,.ara a:visited,.ara a:link {\n",
       "    font-family: \"CharisSIL-R\";\n",
       "    font-size: 12pt;\n",
       "    color: #000000;\n",
       "    direction: ltr;\n",
       "    text-decoration: none;\n",
       "}\n",
       "\n",
       "/* What do the following classes do? */\n",
       "\n",
       ".tr,.tr a:visited,.tr a:link {\n",
       "    font-family: sans-serif;\n",
       "    font-size: large;\n",
       "    color: #000044;\n",
       "    direction: ltr;\n",
       "    text-decoration: none;\n",
       "}\n",
       ".trb,.trb a:visited,.trb a:link {\n",
       "    font-family: sans-serif;\n",
       "    font-size: normal;\n",
       "    direction: ltr;\n",
       "    text-decoration: none;\n",
       "}\n",
       "\n",
       ".occs {\n",
       "    font-size: x-small;\n",
       "}\n",
       "\n",
       "tr.tf, td.tf, th.tf {\n",
       "  text-align: left;\n",
       "}\n",
       "\n",
       "span.hldot {\n",
       "\tbackground-color: var(--hl-strong);\n",
       "\tborder: 0.2rem solid var(--hl-rim);\n",
       "\tborder-radius: 0.4rem;\n",
       "\t/*\n",
       "\tdisplay: inline-block;\n",
       "\twidth: 0.8rem;\n",
       "\theight: 0.8rem;\n",
       "\t*/\n",
       "}\n",
       "span.hl {\n",
       "\tbackground-color: var(--hl-strong);\n",
       "\tborder-width: 0;\n",
       "\tborder-radius: 0.1rem;\n",
       "\tborder-style: solid;\n",
       "}\n",
       "\n",
       "span.hlup {\n",
       "\tborder-color: var(--hl-dark);\n",
       "\tborder-width: 0.1rem;\n",
       "\tborder-style: solid;\n",
       "\tborder-radius: 0.2rem;\n",
       "  padding: 0.2rem;\n",
       "}\n",
       "\n",
       ":root {\n",
       "\t--hl-strong:        hsla( 60, 100%,  70%, 0.9  );\n",
       "\t--hl-rim:           hsla( 55, 100%,  60%, 0.9  );\n",
       "\t--hl-dark:          hsla( 55, 100%,  40%, 0.9  );\n",
       "}\n",
       "</style>"
      ],
      "text/plain": [
       "<IPython.core.display.HTML object>"
      ]
     },
     "metadata": {},
     "output_type": "display_data"
    },
    {
     "data": {
      "text/html": [
       "<details open><summary><b>API members</b>:</summary>\n",
       "<a target=\"_blank\" href=\"https://annotation.github.io/text-fabric/Api/Computed/#computed-data\" title=\"doc\">C Computed</a>, <a target=\"_blank\" href=\"https://annotation.github.io/text-fabric/Api/Computed/#computed-data\" title=\"doc\">Call AllComputeds</a>, <a target=\"_blank\" href=\"https://annotation.github.io/text-fabric/Api/Computed/#computed-data\" title=\"doc\">Cs ComputedString</a><br/>\n",
       "<a target=\"_blank\" href=\"https://annotation.github.io/text-fabric/Api/Features/#edge-features\" title=\"doc\">E Edge</a>, <a target=\"_blank\" href=\"https://annotation.github.io/text-fabric/Api/Features/#edge-features\" title=\"doc\">Eall AllEdges</a>, <a target=\"_blank\" href=\"https://annotation.github.io/text-fabric/Api/Features/#edge-features\" title=\"doc\">Es EdgeString</a><br/>\n",
       "<a target=\"_blank\" href=\"https://annotation.github.io/text-fabric/Api/Fabric/#loading\" title=\"doc\">ensureLoaded</a>, <a target=\"_blank\" href=\"https://annotation.github.io/text-fabric/Api/Fabric/#loading\" title=\"doc\">TF</a>, <a target=\"_blank\" href=\"https://annotation.github.io/text-fabric/Api/Fabric/#loading\" title=\"doc\">ignored</a>, <a target=\"_blank\" href=\"https://annotation.github.io/text-fabric/Api/Fabric/#loading\" title=\"doc\">loadLog</a><br/>\n",
       "<a target=\"_blank\" href=\"https://annotation.github.io/text-fabric/Api/Locality/#locality\" title=\"doc\">L Locality</a><br/>\n",
       "<a target=\"_blank\" href=\"https://annotation.github.io/text-fabric/Api/Misc/#messaging\" title=\"doc\">cache</a>, <a target=\"_blank\" href=\"https://annotation.github.io/text-fabric/Api/Misc/#messaging\" title=\"doc\">error</a>, <a target=\"_blank\" href=\"https://annotation.github.io/text-fabric/Api/Misc/#messaging\" title=\"doc\">indent</a>, <a target=\"_blank\" href=\"https://annotation.github.io/text-fabric/Api/Misc/#messaging\" title=\"doc\">info</a>, <a target=\"_blank\" href=\"https://annotation.github.io/text-fabric/Api/Misc/#messaging\" title=\"doc\">isSilent</a>, <a target=\"_blank\" href=\"https://annotation.github.io/text-fabric/Api/Misc/#messaging\" title=\"doc\">reset</a>, <a target=\"_blank\" href=\"https://annotation.github.io/text-fabric/Api/Misc/#messaging\" title=\"doc\">setSilent</a>, <a target=\"_blank\" href=\"https://annotation.github.io/text-fabric/Api/Misc/#messaging\" title=\"doc\">silentOff</a>, <a target=\"_blank\" href=\"https://annotation.github.io/text-fabric/Api/Misc/#messaging\" title=\"doc\">silentOn</a>, <a target=\"_blank\" href=\"https://annotation.github.io/text-fabric/Api/Misc/#messaging\" title=\"doc\">warning</a><br/>\n",
       "<a target=\"_blank\" href=\"https://annotation.github.io/text-fabric/Api/Nodes/#navigating-nodes\" title=\"doc\">N Nodes</a>, <a target=\"_blank\" href=\"https://annotation.github.io/text-fabric/Api/Nodes/#navigating-nodes\" title=\"doc\">sortKey</a>, <a target=\"_blank\" href=\"https://annotation.github.io/text-fabric/Api/Nodes/#navigating-nodes\" title=\"doc\">sortKeyTuple</a>, <a target=\"_blank\" href=\"https://annotation.github.io/text-fabric/Api/Nodes/#navigating-nodes\" title=\"doc\">otypeRank</a>, <a target=\"_blank\" href=\"https://annotation.github.io/text-fabric/Api/Nodes/#navigating-nodes\" title=\"doc\">sortNodes</a><br/>\n",
       "<a target=\"_blank\" href=\"https://annotation.github.io/text-fabric/Api/Features/#node-features\" title=\"doc\">F Feature</a>, <a target=\"_blank\" href=\"https://annotation.github.io/text-fabric/Api/Features/#node-features\" title=\"doc\">Fall AllFeatures</a>, <a target=\"_blank\" href=\"https://annotation.github.io/text-fabric/Api/Features/#node-features\" title=\"doc\">Fs FeatureString</a><br/>\n",
       "<a target=\"_blank\" href=\"https://annotation.github.io/text-fabric/Api/Search/#search\" title=\"doc\">S Search</a><br/>\n",
       "<a target=\"_blank\" href=\"https://annotation.github.io/text-fabric/Api/Text/#text\" title=\"doc\">T Text</a></details>"
      ],
      "text/plain": [
       "<IPython.core.display.HTML object>"
      ]
     },
     "metadata": {},
     "output_type": "display_data"
    }
   ],
   "source": [
    "from tf.app import use\n",
    "A = use('nena:clone', checkout='clone', hoist=globals())"
   ]
  },
  {
   "cell_type": "code",
   "execution_count": 39,
   "metadata": {},
   "outputs": [
    {
     "name": "stdout",
     "output_type": "stream",
     "text": [
      "  0.00s 1 result\n"
     ]
    },
    {
     "data": {
      "text/plain": [
       "[(739645,)]"
      ]
     },
     "execution_count": 39,
     "metadata": {},
     "output_type": "execute_result"
    }
   ],
   "source": [
    "A.search('''\n",
    "\n",
    "text title=A\\ Hundred\\ Gold\\ Coins\n",
    "\n",
    "''')"
   ]
  },
  {
   "cell_type": "code",
   "execution_count": 5,
   "metadata": {},
   "outputs": [
    {
     "data": {
      "text/plain": [
       "'q3m+deretuli'"
      ]
     },
     "execution_count": 5,
     "metadata": {},
     "output_type": "execute_result"
    }
   ],
   "source": [
    "F.trans_l.v(740790)"
   ]
  },
  {
   "cell_type": "code",
   "execution_count": 2,
   "metadata": {},
   "outputs": [],
   "source": [
    "line1 = L.u(1,'line')[0]\n",
    "sent = L.u(1, 'sentence')[0]"
   ]
  },
  {
   "cell_type": "code",
   "execution_count": 5,
   "metadata": {},
   "outputs": [
    {
     "data": {
      "text/html": [
       "<div class=\"outeritem\">\n",
       "<div class=\"line  \" >\n",
       "\n",
       "    <div class=\"ll\">\n",
       "        <div class=\"line\"><a href=\"https://github.com/CambridgeSemiticsLab/nena_corpus/blob/master/nena/0.01/Barwar/A Hundred Gold Coins.nena\" title=\"see this passage in its source document\" sec=\"Barwar, A Hundred Gold Coins, Ln. 1\">Barwar, A Hundred Gold Coins, Ln. 1</a></div>\n",
       "\n",
       "        <div class=\"features\"></div>\n",
       "    </div>\n",
       "\n",
       "</div>\n",
       "</div>"
      ],
      "text/plain": [
       "<IPython.core.display.HTML object>"
      ]
     },
     "metadata": {},
     "output_type": "display_data"
    }
   ],
   "source": [
    "A.pretty(line1)"
   ]
  },
  {
   "cell_type": "code",
   "execution_count": 6,
   "metadata": {},
   "outputs": [
    {
     "data": {
      "text/html": [
       "<a href=\"https://github.com/CambridgeSemiticsLab/nena_corpus/blob/master/nena/0.01/Barwar/A Hundred Gold Coins.nena\" title=\"see this passage in its source document\" sec=\"Barwar, A Hundred Gold Coins, Ln. 1\">Barwar, A Hundred Gold Coins, Ln. 1</a>\n",
       "<div class=\"outeritem\">\n",
       "<div class=\"macro  \" >\n",
       "<div class=\"features\"></div>\n",
       "<div class=\"prosa  \" >\n",
       "<div class=\"features\"></div>\n",
       "<div class=\"word  \" >\n",
       "<div class=\"ara\">xá-ga </div>\n",
       "<div class=\"features\"> <span class=\"speaker xft\"><span class=\"f\">speaker=</span>Yuwəl Yuḥanna</span></div>\n",
       "</div>\n",
       "<div class=\"word  \" >\n",
       "<div class=\"ara\">xèta,ˈ </div>\n",
       "<div class=\"features\"> <span class=\"speaker xft\"><span class=\"f\">speaker=</span>Yuwəl Yuḥanna</span></div>\n",
       "</div>\n",
       "</div>\n",
       "<div class=\"prosa  \" >\n",
       "<div class=\"features\"></div>\n",
       "<div class=\"word  \" >\n",
       "<div class=\"ara\">mállah </div>\n",
       "<div class=\"features\"> <span class=\"speaker xft\"><span class=\"f\">speaker=</span>Yuwəl Yuḥanna</span></div>\n",
       "</div>\n",
       "<div class=\"word  \" >\n",
       "<div class=\"ara\">Naṣràdin,ˈ </div>\n",
       "<div class=\"features\"> <span class=\"speaker xft\"><span class=\"f\">speaker=</span>Yuwəl Yuḥanna</span></div>\n",
       "</div>\n",
       "</div>\n",
       "<div class=\"prosa  \" >\n",
       "<div class=\"features\"></div>\n",
       "<div class=\"word  \" >\n",
       "<div class=\"ara\">xázəx </div>\n",
       "<div class=\"features\"> <span class=\"speaker xft\"><span class=\"f\">speaker=</span>Yuwəl Yuḥanna</span></div>\n",
       "</div>\n",
       "<div class=\"word  \" >\n",
       "<div class=\"ara\">mòdi </div>\n",
       "<div class=\"features\"> <span class=\"speaker xft\"><span class=\"f\">speaker=</span>Yuwəl Yuḥanna</span></div>\n",
       "</div>\n",
       "<div class=\"word  \" >\n",
       "<div class=\"ara\">wíða.ˈ </div>\n",
       "<div class=\"features\"> <span class=\"speaker xft\"><span class=\"f\">speaker=</span>Yuwəl Yuḥanna</span></div>\n",
       "</div>\n",
       "</div>\n",
       "</div>\n",
       "</div>"
      ],
      "text/plain": [
       "<IPython.core.display.HTML object>"
      ]
     },
     "metadata": {},
     "output_type": "display_data"
    }
   ],
   "source": [
    "A.pretty(sent, extraFeatures='speaker')"
   ]
  },
  {
   "cell_type": "code",
   "execution_count": 15,
   "metadata": {},
   "outputs": [
    {
     "data": {
      "text/html": [
       "<a href=\"https://github.com/CambridgeSemiticsLab/nena_corpus/blob/master/nena/0.01/Barwar/A Hundred Gold Coins.nena\" title=\"see this passage in its source document\" sec=\"Barwar, A Hundred Gold Coins, Ln. 1\">Barwar, A Hundred Gold Coins, Ln. 1</a>\n",
       "<div class=\"outeritem\">\n",
       "<div class=\"micro  \" >\n",
       "<div class=\"ara\">g</div>\n",
       "<div class=\"features\"></div>\n",
       "</div>\n",
       "</div>"
      ],
      "text/plain": [
       "<IPython.core.display.HTML object>"
      ]
     },
     "metadata": {},
     "output_type": "display_data"
    }
   ],
   "source": [
    "A.pretty(3)"
   ]
  },
  {
   "cell_type": "code",
   "execution_count": 16,
   "metadata": {},
   "outputs": [
    {
     "data": {
      "text/plain": [
       "'x'"
      ]
     },
     "execution_count": 16,
     "metadata": {},
     "output_type": "execute_result"
    }
   ],
   "source": [
    "T.text(1)"
   ]
  },
  {
   "cell_type": "code",
   "execution_count": 17,
   "metadata": {},
   "outputs": [
    {
     "name": "stdout",
     "output_type": "stream",
     "text": [
      "  0.01s 1 result\n"
     ]
    },
    {
     "data": {
      "text/plain": [
       "[(539383,)]"
      ]
     },
     "execution_count": 17,
     "metadata": {},
     "output_type": "execute_result"
    }
   ],
   "source": [
    "A.search('''\n",
    "\n",
    "dialect dialect=Urmi_C\n",
    "\n",
    "''')"
   ]
  },
  {
   "cell_type": "code",
   "execution_count": 18,
   "metadata": {},
   "outputs": [
    {
     "data": {
      "text/plain": [
       "(706684, 706685, 706686, 706687, 706688, 706689, 706690, 706691, 706692)"
      ]
     },
     "execution_count": 18,
     "metadata": {},
     "output_type": "execute_result"
    }
   ],
   "source": [
    "L.d(739697,'sentence')"
   ]
  },
  {
   "cell_type": "code",
   "execution_count": 19,
   "metadata": {},
   "outputs": [
    {
     "data": {
      "text/html": [
       "<a href=\"https://github.com/CambridgeSemiticsLab/nena_corpus/blob/master/nena/0.01/Urmi_C/A Close Shave.nena\" title=\"see this passage in its source document\" sec=\"Urmi_C, A Close Shave, Ln. 1\">Urmi_C, A Close Shave, Ln. 1</a>\n",
       "<div class=\"outeritem\">\n",
       "<div class=\"macro  \" >\n",
       "<div class=\"features\"></div>\n",
       "<div class=\"prosa  \" >\n",
       "<div class=\"features\"></div>\n",
       "<div class=\"word  \" >\n",
       "<div class=\"ara\">xá-yuma </div>\n",
       "<div class=\"features\"></div>\n",
       "</div>\n",
       "<div class=\"word  \" >\n",
       "<div class=\"ara\">xə́šlə </div>\n",
       "<div class=\"features\"></div>\n",
       "</div>\n",
       "<div class=\"word  \" >\n",
       "<div class=\"ara\">⁺málla </div>\n",
       "<div class=\"features\"></div>\n",
       "</div>\n",
       "<div class=\"word  \" >\n",
       "<div class=\"ara\">k̭at-còsu </div>\n",
       "<div class=\"features\"></div>\n",
       "</div>\n",
       "<div class=\"word  \" >\n",
       "<div class=\"ara\">⁺mak̭rə́ṱvaləˈ </div>\n",
       "<div class=\"features\"></div>\n",
       "</div>\n",
       "</div>\n",
       "<div class=\"prosa  \" >\n",
       "<div class=\"features\"></div>\n",
       "<div class=\"word  \" >\n",
       "<div class=\"ara\">cə̀sˈ </div>\n",
       "<div class=\"features\"></div>\n",
       "</div>\n",
       "</div>\n",
       "<div class=\"prosa  \" >\n",
       "<div class=\"features\"></div>\n",
       "<div class=\"word  \" >\n",
       "<div class=\"ara\">⁺mak̭rəṱṱān-còsa.ˈ </div>\n",
       "<div class=\"features\"></div>\n",
       "</div>\n",
       "</div>\n",
       "</div>\n",
       "</div>"
      ],
      "text/plain": [
       "<IPython.core.display.HTML object>"
      ]
     },
     "metadata": {},
     "output_type": "display_data"
    }
   ],
   "source": [
    "A.pretty(706684)"
   ]
  },
  {
   "cell_type": "code",
   "execution_count": 20,
   "metadata": {},
   "outputs": [
    {
     "name": "stdout",
     "output_type": "stream",
     "text": [
      "(1) xa'-ga xe`ta , | ma'llah Nas.ra`din , | xa'z3x mo`di wi'6a . | gu-b$`8a we'wa , | har-za'la-w 8a`ya . | za'la-w 8a`ya , | ma'ra ya-}a`laha , | yaw3`tli| }3'mma da`we . | }3n-ha`wa| }3'c.<c.<i-u }3'c.<c.<a maq3lb3`nna . | }u-}3n-ha`wa| }3'mma-w-xa`-z<i , | la-ba%y3`nna . | de-s<u`qla . | }3`mma ga%'r3g ha'wa dr3'st . | (2) b-a'laha ho'le za'la-w 8a`ya , | }i'8wale xa'-s<wawa hu6a`ya , | mas.o'8e }3'lle di`ye . | m3're xa'z3x }a'wwa du_`s-ile . | q$'m3n mjarb3`nne . | si'qa l-ga`re , | d3'ry$le }3'c.<c.<i-u }3'c.<c.<a da'we gu-6a-ki`sta , | d3'rya b-ka`wele . | }a' ba'xta ha`yyo ! | ho'le }ala'ha q3m-ms<ad3`rr3n . | (3) mu8$'8$la ma`jma . | msu'rq3lla pi's<ela mna'y3lla l-xa`-xa . | pli't.la }3'c.<c.<i-u }3`c.<c.<a . | tre` , | tre` , | }3'c.<c.<i-u }3`c.<c.<a . | }3`s.ra , | }3`s.ra , | ha`r-}3c.<c.<i-u }3'c.<c.<a . | kle`la , | }a'm3r ba'xta du_`s-ile . | }ala'ha la`-xal3t. . | }3'c.<c.<i-u }3`c.<c.<a , | }a'xc<i }a'na max-xs<a`wti , | }a'yya ki`sta| ho'le mxoz<3'bn3lla max-xa` . | ha-s<qu`l , | ma'ttula ta%ma`ha . | (4) hu6a'ya l-ga`re| s<wir$'le l-pa`lga , | ya'ba }a`n3n ms<u'dr3lla ! | }a'y ka'lba }a'm3r ta'ma l-ga`re mas.yo'8e , | ba%'y3t s<aql3'tla }ap-}a`nna . | mra'zg3t ga`nux . | t3'mm3l t>-a'sq3x k3s-qa`zi . | hu6a'ya }3'c.<c.<i-u }3'c.<c.<a da'we zi`le m3'nne , | }$'ka t>-a'8ya s<3`n8e ?  ! | hal-qeda'mta s<3'n8e la-8e`la . | ha'r-wele za'la-w 8a`ya . | (5) ma'lla mu'tt3lle re's<e dmi`xa . | t.li`ya , | ke'fe basi`mta , | }u-da'we xo-re`s<e . | sa'}3t }3's<ta mba`dla| }3'8y$le hu6a'ya wa'6a t.3q-t.3q-t.3'q l-t.a%`ra . | }u-qa're l-ta%`ra| mo`dila q3's.s.3t ? | (6) p8i'x3lle ta%'ra ma`lla , | }i'na hu6a'ya lwi's<a ka's<xa-w ju'lle xa`8e . | }u-xma'rte di'ye msu'rg3lla-w wi'63lla ta`za . | t.la-mo`dila }a'yya ? | m3're t>-a'sq3x k3s-qa`zi . | m3're si` ka'lba . | }a'na la`-}a83n m3'nnux . | t.la-mo` la-}a'83t m3'nni ? | si' la`-}a83n m3'nnux }a'na . | (7) t.la-mo` ? | mo`dila q3's.s.3t ? | m3're }ala'ha-w na's<e ya%`6i . | xaz$'la }a'nna ju'llux ha`txa , | ka's<xa-w }a'yya xma`rtux| }u-s$`rga-w| w-a'na b-a'nna das<da`s<e-w| b-a'nna c<ak>a`lle-w| }u-s<3xta`na-w| s<a'rt. qa'zi t-yaw3'lla t.la`lux . | (8) qa'zi t>-aw3'dla t.la`lux , | la'-}aw3dla t.la`li . | m3're la`-}a83n , | }i'na ju'llux ha'lla t.la`li . | }u-xma'rtux t>-a'tw3n }a`na l-xa's.a . | }u-}a'ti lus<-ju`lli| }u-t>-a`sq3x . | ha'm-}3n }a`sq3t| }ap-}a'yya qabu_`l-ila . | (9) qi'm$le }aw-lwi's<a das<da`s<3t ma'lla , | }u-c<ak>a`ll3t ma'lla , | ma'lla lwi's<$le ka's<xa d-o-hu6a`ya| }u-ti'w$le xa's.3t xma`rta , | }u-si'qela k3s-qa`zi . | si'q$le k3s-qa`zi , | wi'rela s<art.-qa`zi . | mo`dila q3's.s.3t ? | (10) ma'lla m3`re| qa'zi t>-a'w3t basi`ma . | }a'na k3ma` da'na t>-in-ms.alo'ye t.la-ma'rya }a`laha| ta-t-yaw3'lli }3`mma da'we . | }u-}a'wwa hu6a'ya we'le mas.yo'8e nt.a'ra }3'lli l-ga`re . | }u-}a'laha s<uxa-l-s<3'mme q3m-ms<ad3'rri }3'c.<c.<i-u }3'c.<c.<a da`we . | }u-}a'na m3'ri ba`xta , | }a'p }ayya-ki`sta| }a'laha mxoz<3'bn3lla m-ge_b-xa`-dawa . | (11) }u-}a'wwa-z<i hu6a'ya l-ga`re| }3`lla , | }a'nna da'we }a`n3n hiw3'llux . | }u-ha'txa be-ba%`x3t-ile , | ya'-qazi t>-a'w3t basi`ma , | }a'wwa hu6a`ya , | ya'{ni di'ya gu-pa`8ux| mda`g3l| }u-sa`ru . | m3're xzi' ha'txa be-nx3`p8$le . | la' }i'tle nx3`p8a . | (12) di'ya t>-a`m3r| }a'p }anna-ju'lle t>-ila`-llux| }u-}a'yya xma'rta di`yila . | w-a'ti x3'zy3tli }a'na ti'wa l-xa`s.a . | hu6a'ya m3`re| di`yila ! | }i'na d-$`nila ? | qa'zi m3're qu`| ka'lba br3t-ka'lba hu6a`ya . | }a'm3r si' s<art.-di`yuxile . |"
     ]
    }
   ],
   "source": [
    "for line in L.d(L.u(1,'text')[0],'line'):\n",
    "    print(f'({F.number.v(line)}) ' + T.text(line, fmt='text-trans-full'), end='')"
   ]
  },
  {
   "cell_type": "code",
   "execution_count": null,
   "metadata": {},
   "outputs": [],
   "source": []
  }
 ],
 "metadata": {
  "kernelspec": {
   "display_name": "Python 3",
   "language": "python",
   "name": "python3"
  },
  "language_info": {
   "codemirror_mode": {
    "name": "ipython",
    "version": 3
   },
   "file_extension": ".py",
   "mimetype": "text/x-python",
   "name": "python",
   "nbconvert_exporter": "python",
   "pygments_lexer": "ipython3",
   "version": "3.8.0"
  }
 },
 "nbformat": 4,
 "nbformat_minor": 4
}
