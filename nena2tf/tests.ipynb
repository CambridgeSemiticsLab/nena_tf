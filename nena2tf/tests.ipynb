{
 "cells": [
  {
   "cell_type": "markdown",
   "metadata": {},
   "source": [
    "# Testing .tf files from NENA conversion"
   ]
  },
  {
   "cell_type": "code",
   "execution_count": 1,
   "metadata": {},
   "outputs": [
    {
     "name": "stdout",
     "output_type": "stream",
     "text": [
      "This is Text-Fabric 7.9.0\n",
      "Api reference : https://annotation.github.io/text-fabric/Api/Fabric/\n",
      "\n",
      "31 features found and 0 ignored\n",
      "  0.00s loading features ...\n",
      "   |     0.32s T otype                from /Users/cody/github/CambridgeSemiticsLab/nena_tf/tf/0.01\n",
      "   |     4.53s T oslots               from /Users/cody/github/CambridgeSemiticsLab/nena_tf/tf/0.01\n",
      "   |     0.00s No structure info in otext, the structure part of the T-API cannot be used\n",
      "   |     1.18s T fuzzy_end            from /Users/cody/github/CambridgeSemiticsLab/nena_tf/tf/0.01\n",
      "   |     0.01s T number               from /Users/cody/github/CambridgeSemiticsLab/nena_tf/tf/0.01\n",
      "   |     1.85s T full                 from /Users/cody/github/CambridgeSemiticsLab/nena_tf/tf/0.01\n",
      "   |     1.21s T end                  from /Users/cody/github/CambridgeSemiticsLab/nena_tf/tf/0.01\n",
      "   |     1.60s T fuzzy                from /Users/cody/github/CambridgeSemiticsLab/nena_tf/tf/0.01\n",
      "   |     1.19s T full_end             from /Users/cody/github/CambridgeSemiticsLab/nena_tf/tf/0.01\n",
      "   |     1.71s T text                 from /Users/cody/github/CambridgeSemiticsLab/nena_tf/tf/0.01\n",
      "   |     0.00s T dialect              from /Users/cody/github/CambridgeSemiticsLab/nena_tf/tf/0.01\n",
      "   |     1.59s T lite                 from /Users/cody/github/CambridgeSemiticsLab/nena_tf/tf/0.01\n",
      "   |     1.17s T lite_end             from /Users/cody/github/CambridgeSemiticsLab/nena_tf/tf/0.01\n",
      "   |     0.00s T title                from /Users/cody/github/CambridgeSemiticsLab/nena_tf/tf/0.01\n",
      "   |      |     0.23s C __levels__           from otype, oslots, otext\n",
      "   |      |       10s C __order__            from otype, oslots, __levels__\n",
      "   |      |     0.41s C __rank__             from otype, __order__\n",
      "   |      |     8.72s C __levUp__            from otype, oslots, __rank__\n",
      "   |      |     2.19s C __levDown__          from otype, __levUp__, __rank__\n",
      "   |      |     2.58s C __boundary__         from otype, oslots, __rank__\n",
      "   |      |     0.01s C __sections__         from otype, oslots, otext, __levUp__, __levels__, dialect, title, number\n",
      "    41s All features loaded/computed - for details use loadLog()\n",
      "  0.00s loading features ...\n",
      "   |     1.13s T class                from /Users/cody/github/CambridgeSemiticsLab/nena_tf/tf/0.01\n",
      "   |     0.00s T comment              from /Users/cody/github/CambridgeSemiticsLab/nena_tf/tf/0.01\n",
      "   |     0.00s T continued_from       from /Users/cody/github/CambridgeSemiticsLab/nena_tf/tf/0.01\n",
      "   |     0.00s T footnotes            from /Users/cody/github/CambridgeSemiticsLab/nena_tf/tf/0.01\n",
      "   |     0.00s T foreign              from /Users/cody/github/CambridgeSemiticsLab/nena_tf/tf/0.01\n",
      "   |     0.15s T gloss                from /Users/cody/github/CambridgeSemiticsLab/nena_tf/tf/0.01\n",
      "   |     0.14s T grm_desc             from /Users/cody/github/CambridgeSemiticsLab/nena_tf/tf/0.01\n",
      "   |     0.00s T informant            from /Users/cody/github/CambridgeSemiticsLab/nena_tf/tf/0.01\n",
      "   |     0.00s T lang                 from /Users/cody/github/CambridgeSemiticsLab/nena_tf/tf/0.01\n",
      "   |     0.16s T lemma                from /Users/cody/github/CambridgeSemiticsLab/nena_tf/tf/0.01\n",
      "   |     0.01s T lemma_form           from /Users/cody/github/CambridgeSemiticsLab/nena_tf/tf/0.01\n",
      "   |     0.00s T place                from /Users/cody/github/CambridgeSemiticsLab/nena_tf/tf/0.01\n",
      "   |     0.00s T source               from /Users/cody/github/CambridgeSemiticsLab/nena_tf/tf/0.01\n",
      "   |     0.47s T speaker              from /Users/cody/github/CambridgeSemiticsLab/nena_tf/tf/0.01\n",
      "   |     0.00s T text_id              from /Users/cody/github/CambridgeSemiticsLab/nena_tf/tf/0.01\n",
      "   |     0.55s T text_norm            from /Users/cody/github/CambridgeSemiticsLab/nena_tf/tf/0.01\n",
      "   |     0.00s T version              from /Users/cody/github/CambridgeSemiticsLab/nena_tf/tf/0.01\n",
      "  2.64s All additional features loaded - for details use loadLog()\n",
      "\tconnecting to online GitHub repo annotation/app-nena ... connected\n",
      "Using TF-app in /Users/cody/text-fabric-data/annotation/app-nena/code:\n",
      "\t#9ec58f223a6ba6817347279da277c1efadae550a (latest commit)\n"
     ]
    },
    {
     "data": {
      "text/html": [
       "<b>Documentation:</b> <a target=\"_blank\" href=\"https://github.com/CambridgeSemiticsLab/nena_tf/blob/master/docs\" title=\"provenance of Northeastern Neo-Aramaic Text Corpus\">NENA_TF</a> <a target=\"_blank\" href=\"https://github.com/CambridgeSemiticsLab/nena_tf/blob/master/docs/transcription.md\" title=\"('NENA transcription script',)\">Character table</a> <a target=\"_blank\" href=\"https://github.com/CambridgeSemiticsLab/nena_tf/blob/master/docs/features.md#features.md\" title=\"NENA_TF feature documentation\">Feature docs</a> <a target=\"_blank\" href=\"https://github.com/annotation/app-nena\" title=\"nena API documentation\">nena API</a> <a target=\"_blank\" href=\"https://annotation.github.io/text-fabric/Api/Fabric/\" title=\"text-fabric-api\">Text-Fabric API 7.9.0</a> <a target=\"_blank\" href=\"https://annotation.github.io/text-fabric/Use/Search/\" title=\"Search Templates Introduction and Reference\">Search Reference</a><details open><summary><b>Loaded features</b>:</summary>\n",
       "<p><b>CambridgeSemiticsLab/nena_tf/tf/0.01//</b>: <a target=\"_blank\" href=\"https://github.com/CambridgeSemiticsLab/nena_tf/tree/master/tf/0.01//\" title=\"/Users/cody/github/CambridgeSemiticsLab/nena_tf/tf/0.01///class.tf\">class</a>  <a target=\"_blank\" href=\"https://github.com/CambridgeSemiticsLab/nena_tf/tree/master/tf/0.01//\" title=\"/Users/cody/github/CambridgeSemiticsLab/nena_tf/tf/0.01///comment.tf\">comment</a>  <a target=\"_blank\" href=\"https://github.com/CambridgeSemiticsLab/nena_tf/tree/master/tf/0.01//\" title=\"/Users/cody/github/CambridgeSemiticsLab/nena_tf/tf/0.01///continued_from.tf\">continued_from</a>  <a target=\"_blank\" href=\"https://github.com/CambridgeSemiticsLab/nena_tf/tree/master/tf/0.01//\" title=\"/Users/cody/github/CambridgeSemiticsLab/nena_tf/tf/0.01///dialect.tf\">dialect</a>  <a target=\"_blank\" href=\"https://github.com/CambridgeSemiticsLab/nena_tf/tree/master/tf/0.01//\" title=\"/Users/cody/github/CambridgeSemiticsLab/nena_tf/tf/0.01///end.tf\">end</a>  <a target=\"_blank\" href=\"https://github.com/CambridgeSemiticsLab/nena_tf/tree/master/tf/0.01//\" title=\"/Users/cody/github/CambridgeSemiticsLab/nena_tf/tf/0.01///footnotes.tf\">footnotes</a>  <a target=\"_blank\" href=\"https://github.com/CambridgeSemiticsLab/nena_tf/tree/master/tf/0.01//\" title=\"/Users/cody/github/CambridgeSemiticsLab/nena_tf/tf/0.01///foreign.tf\">foreign</a>  <a target=\"_blank\" href=\"https://github.com/CambridgeSemiticsLab/nena_tf/tree/master/tf/0.01//\" title=\"/Users/cody/github/CambridgeSemiticsLab/nena_tf/tf/0.01///full.tf\">full</a>  <a target=\"_blank\" href=\"https://github.com/CambridgeSemiticsLab/nena_tf/tree/master/tf/0.01//\" title=\"/Users/cody/github/CambridgeSemiticsLab/nena_tf/tf/0.01///full_end.tf\">full_end</a>  <a target=\"_blank\" href=\"https://github.com/CambridgeSemiticsLab/nena_tf/tree/master/tf/0.01//\" title=\"/Users/cody/github/CambridgeSemiticsLab/nena_tf/tf/0.01///fuzzy.tf\">fuzzy</a>  <a target=\"_blank\" href=\"https://github.com/CambridgeSemiticsLab/nena_tf/tree/master/tf/0.01//\" title=\"/Users/cody/github/CambridgeSemiticsLab/nena_tf/tf/0.01///fuzzy_end.tf\">fuzzy_end</a>  <a target=\"_blank\" href=\"https://github.com/CambridgeSemiticsLab/nena_tf/tree/master/tf/0.01//\" title=\"/Users/cody/github/CambridgeSemiticsLab/nena_tf/tf/0.01///gloss.tf\">gloss</a>  <a target=\"_blank\" href=\"https://github.com/CambridgeSemiticsLab/nena_tf/tree/master/tf/0.01//\" title=\"/Users/cody/github/CambridgeSemiticsLab/nena_tf/tf/0.01///grm_desc.tf\">grm_desc</a>  <a target=\"_blank\" href=\"https://github.com/CambridgeSemiticsLab/nena_tf/tree/master/tf/0.01//\" title=\"/Users/cody/github/CambridgeSemiticsLab/nena_tf/tf/0.01///informant.tf\">informant</a>  <a target=\"_blank\" href=\"https://github.com/CambridgeSemiticsLab/nena_tf/tree/master/tf/0.01//\" title=\"/Users/cody/github/CambridgeSemiticsLab/nena_tf/tf/0.01///lang.tf\">lang</a>  <a target=\"_blank\" href=\"https://github.com/CambridgeSemiticsLab/nena_tf/tree/master/tf/0.01//\" title=\"/Users/cody/github/CambridgeSemiticsLab/nena_tf/tf/0.01///lemma.tf\">lemma</a>  <a target=\"_blank\" href=\"https://github.com/CambridgeSemiticsLab/nena_tf/tree/master/tf/0.01//\" title=\"/Users/cody/github/CambridgeSemiticsLab/nena_tf/tf/0.01///lemma_form.tf\">lemma_form</a>  <a target=\"_blank\" href=\"https://github.com/CambridgeSemiticsLab/nena_tf/tree/master/tf/0.01//\" title=\"/Users/cody/github/CambridgeSemiticsLab/nena_tf/tf/0.01///lite.tf\">lite</a>  <a target=\"_blank\" href=\"https://github.com/CambridgeSemiticsLab/nena_tf/tree/master/tf/0.01//\" title=\"/Users/cody/github/CambridgeSemiticsLab/nena_tf/tf/0.01///lite_end.tf\">lite_end</a>  <a target=\"_blank\" href=\"https://github.com/CambridgeSemiticsLab/nena_tf/tree/master/tf/0.01//\" title=\"/Users/cody/github/CambridgeSemiticsLab/nena_tf/tf/0.01///number.tf\">number</a>  <a target=\"_blank\" href=\"https://github.com/CambridgeSemiticsLab/nena_tf/tree/master/tf/0.01//\" title=\"/Users/cody/github/CambridgeSemiticsLab/nena_tf/tf/0.01///otype.tf\">otype</a>  <a target=\"_blank\" href=\"https://github.com/CambridgeSemiticsLab/nena_tf/tree/master/tf/0.01//\" title=\"/Users/cody/github/CambridgeSemiticsLab/nena_tf/tf/0.01///place.tf\">place</a>  <a target=\"_blank\" href=\"https://github.com/CambridgeSemiticsLab/nena_tf/tree/master/tf/0.01//\" title=\"/Users/cody/github/CambridgeSemiticsLab/nena_tf/tf/0.01///source.tf\">source</a>  <a target=\"_blank\" href=\"https://github.com/CambridgeSemiticsLab/nena_tf/tree/master/tf/0.01//\" title=\"/Users/cody/github/CambridgeSemiticsLab/nena_tf/tf/0.01///speaker.tf\">speaker</a>  <a target=\"_blank\" href=\"https://github.com/CambridgeSemiticsLab/nena_tf/tree/master/tf/0.01//\" title=\"/Users/cody/github/CambridgeSemiticsLab/nena_tf/tf/0.01///text.tf\">text</a>  <a target=\"_blank\" href=\"https://github.com/CambridgeSemiticsLab/nena_tf/tree/master/tf/0.01//\" title=\"/Users/cody/github/CambridgeSemiticsLab/nena_tf/tf/0.01///text_id.tf\">text_id</a>  <a target=\"_blank\" href=\"https://github.com/CambridgeSemiticsLab/nena_tf/tree/master/tf/0.01//\" title=\"/Users/cody/github/CambridgeSemiticsLab/nena_tf/tf/0.01///text_norm.tf\">text_norm</a>  <a target=\"_blank\" href=\"https://github.com/CambridgeSemiticsLab/nena_tf/tree/master/tf/0.01//\" title=\"/Users/cody/github/CambridgeSemiticsLab/nena_tf/tf/0.01///title.tf\">title</a>  <a target=\"_blank\" href=\"https://github.com/CambridgeSemiticsLab/nena_tf/tree/master/tf/0.01//\" title=\"/Users/cody/github/CambridgeSemiticsLab/nena_tf/tf/0.01///version.tf\">version</a>  <b><i><a target=\"_blank\" href=\"https://github.com/CambridgeSemiticsLab/nena_tf/tree/master/tf/0.01//\" title=\"/Users/cody/github/CambridgeSemiticsLab/nena_tf/tf/0.01///oslots.tf\">oslots</a></i></b> </p></details>"
      ],
      "text/plain": [
       "<IPython.core.display.HTML object>"
      ]
     },
     "metadata": {},
     "output_type": "display_data"
    },
    {
     "data": {
      "text/html": [
       "<style>\n",
       "@font-face {\n",
       "  font-family: \"CharisSIL-R\";\n",
       "  src:\n",
       "    local(\"CharisSIL-R.otf\"),\n",
       "    url(\"https://github.com/annotation/text-fabric/blob/master/tf/server/static/fonts/CharisSIL-R.woff?raw=true\");\n",
       "}\n",
       ".features {\n",
       "    font-family: monospace;\n",
       "    font-size: medium;\n",
       "    font-weight: normal;\n",
       "    color: #000000;\n",
       "    display: flex;\n",
       "    flex-flow: column nowrap;\n",
       "    padding: 0.1em;\n",
       "    margin: 0.1em;\n",
       "    direction: ltr;\n",
       "}\n",
       ".features div,.features span {\n",
       "    padding: 0;\n",
       "    margin: -0.1rem 0;\n",
       "}\n",
       ".features .f {\n",
       "    font-family: sans-serif;\n",
       "    font-size: x-small;\n",
       "    font-weight: normal;\n",
       "    color: #5555bb;\n",
       "}\n",
       ".features .xft {\n",
       "  color: #000000;\n",
       "  background-color: #eeeeee;\n",
       "  font-size: medium;\n",
       "  margin: 0.1em 0em;\n",
       "}\n",
       ".features .xft .f {\n",
       "  color: #000000;\n",
       "  background-color: #eeeeee;\n",
       "  font-style: italic;\n",
       "  font-size: x-small;\n",
       "  font-weight: normal;\n",
       "}\n",
       "\n",
       ".ll {\n",
       "    display: flex;\n",
       "    flex-flow: column nowrap;\n",
       "    justify-content: flex-end;\n",
       "    align-items: flex-end;\n",
       "    direction: ltr;\n",
       "    width: 100%;\n",
       "}\n",
       "\n",
       ".outeritem {\n",
       "    display: flex;\n",
       "    flex-flow: row wrap;\n",
       "    direction: ltr;\n",
       "}\n",
       "\n",
       ".word,.micro,.macro {\n",
       "    border: 1px solid #4f4c4c;\n",
       "    border-radius: 0.2em;\n",
       "    border-spacing: 5px;\n",
       "    padding: 0.1em;\n",
       "    margin: 0.4em;\n",
       "    display: flex;\n",
       "    flex-flow: row wrap;\n",
       "    direction: ltr;\n",
       "    background-color: #ffffff;\n",
       "}\n",
       "\n",
       ".prosa {\n",
       "    border: 1.5px dotted #4f4c4c;\n",
       "    border-radius: 0.2em;\n",
       "    padding: 0.1em;\n",
       "    margin: 0.4em;\n",
       "    border-color: #a30404;\n",
       "    display: flex;\n",
       "    flex-flow: row wrap;\n",
       "    direction: ltr;\n",
       "    background-color: #ffffff;\n",
       "}\n",
       "\n",
       "\n",
       ".line {\n",
       "    display: flex;\n",
       "    flex-flow: row wrap;\n",
       "    direction: ltr;\n",
       "}\n",
       "\n",
       ".ln {\n",
       "  font-size: small !important;\n",
       "  padding-right: 1em;\n",
       "}\n",
       "\n",
       ".nd {\n",
       "    font-family: monospace;\n",
       "    font-size: x-small;\n",
       "    color: #999999;\n",
       "}\n",
       "\n",
       ".hl {\n",
       "    background-color: #ffee66;\n",
       "}\n",
       "\n",
       ".ara,.ara a:visited,.ara a:link {\n",
       "    font-family: \"CharisSIL-R\";\n",
       "    font-size: 12pt;\n",
       "    color: #000000;\n",
       "    direction: ltr;\n",
       "    text-decoration: none;\n",
       "}\n",
       "\n",
       "/* What do the following classes do? */\n",
       "\n",
       ".tr,.tr a:visited,.tr a:link {\n",
       "    font-family: sans-serif;\n",
       "    font-size: large;\n",
       "    color: #000044;\n",
       "    direction: ltr;\n",
       "    text-decoration: none;\n",
       "}\n",
       ".trb,.trb a:visited,.trb a:link {\n",
       "    font-family: sans-serif;\n",
       "    font-size: normal;\n",
       "    direction: ltr;\n",
       "    text-decoration: none;\n",
       "}\n",
       "\n",
       ".occs {\n",
       "    font-size: x-small;\n",
       "}\n",
       "\n",
       "tr.tf, td.tf, th.tf {\n",
       "  text-align: left;\n",
       "}\n",
       "\n",
       "span.hldot {\n",
       "\tbackground-color: var(--hl-strong);\n",
       "\tborder: 0.2rem solid var(--hl-rim);\n",
       "\tborder-radius: 0.4rem;\n",
       "\t/*\n",
       "\tdisplay: inline-block;\n",
       "\twidth: 0.8rem;\n",
       "\theight: 0.8rem;\n",
       "\t*/\n",
       "}\n",
       "span.hl {\n",
       "\tbackground-color: var(--hl-strong);\n",
       "\tborder-width: 0;\n",
       "\tborder-radius: 0.1rem;\n",
       "\tborder-style: solid;\n",
       "}\n",
       "\n",
       "span.hlup {\n",
       "\tborder-color: var(--hl-dark);\n",
       "\tborder-width: 0.1rem;\n",
       "\tborder-style: solid;\n",
       "\tborder-radius: 0.2rem;\n",
       "  padding: 0.2rem;\n",
       "}\n",
       "\n",
       ":root {\n",
       "\t--hl-strong:        hsla( 60, 100%,  70%, 0.9  );\n",
       "\t--hl-rim:           hsla( 55, 100%,  60%, 0.9  );\n",
       "\t--hl-dark:          hsla( 55, 100%,  40%, 0.9  );\n",
       "}\n",
       "</style>"
      ],
      "text/plain": [
       "<IPython.core.display.HTML object>"
      ]
     },
     "metadata": {},
     "output_type": "display_data"
    }
   ],
   "source": [
    "import collections\n",
    "from tf.fabric import Fabric\n",
    "from tf.app import use\n",
    "data = '../tf/0.01/'\n",
    "\n",
    "TF = Fabric(locations=[data])\n",
    "\n",
    "api = TF.loadAll()\n",
    "\n",
    "tf_vars = api.makeAvailableIn(globals())\n",
    "\n",
    "nena = use('nena', api=api)"
   ]
  },
  {
   "cell_type": "markdown",
   "metadata": {},
   "source": [
    "## Testing Lemma Matches"
   ]
  },
  {
   "cell_type": "code",
   "execution_count": 23,
   "metadata": {},
   "outputs": [],
   "source": [
    "barwar = T.nodeFromSection(('Barwar',))"
   ]
  },
  {
   "cell_type": "code",
   "execution_count": 31,
   "metadata": {},
   "outputs": [
    {
     "data": {
      "text/plain": [
       "[('yes', 28963), ('no', 27907)]"
      ]
     },
     "execution_count": 31,
     "metadata": {},
     "output_type": "execute_result"
    }
   ],
   "source": [
    "lemmatized = collections.Counter()\n",
    "unlemmatized = collections.Counter()\n",
    "\n",
    "for morph in L.d(barwar, 'morpheme'):\n",
    "    lem = F.lemma.v(morph)\n",
    "    if lem:\n",
    "        lemmatized['yes'] += 1\n",
    "    else:\n",
    "        lemmatized['no'] += 1\n",
    "        unlemmatized[F.text_norm.v(morph)] += 1\n",
    "        \n",
    "lemmatized.most_common()"
   ]
  },
  {
   "cell_type": "code",
   "execution_count": 32,
   "metadata": {},
   "outputs": [
    {
     "data": {
      "text/plain": [
       "0.509284332688588"
      ]
     },
     "execution_count": 32,
     "metadata": {},
     "output_type": "execute_result"
    }
   ],
   "source": [
    "lemmatized['yes'] / (lemmatized['no']+lemmatized['yes'])"
   ]
  },
  {
   "cell_type": "code",
   "execution_count": 33,
   "metadata": {},
   "outputs": [
    {
     "data": {
      "text/plain": [
       "[('məre', 1427),\n",
       " ('diye', 942),\n",
       " ('məra', 632),\n",
       " ('d', 577),\n",
       " ('hole', 222),\n",
       " ('o', 215),\n",
       " ('y', 211),\n",
       " ('qimɛle', 204),\n",
       " ('hola', 190),\n",
       " ('ile', 163),\n",
       " ('wewa', 157),\n",
       " ('ʾamər', 145),\n",
       " ('ila', 127),\n",
       " ('θele', 120),\n",
       " ('kəs', 116),\n",
       " ('zilɛle', 114),\n",
       " ('ʾəlle', 103),\n",
       " ('babi', 103),\n",
       " ('zille', 103),\n",
       " ('ay', 96),\n",
       " ('modila', 94),\n",
       " ('lɛla', 87),\n",
       " ('zila', 87),\n",
       " ('yaʿni', 84),\n",
       " ('ʾiθwa', 83),\n",
       " ('tara', 80),\n",
       " ('bayət', 79),\n",
       " ('ʾəθyɛle', 77),\n",
       " ('hayyo', 75),\n",
       " ('zilla', 75),\n",
       " ('mənne', 73),\n",
       " ('bayən', 73),\n",
       " ('a', 71),\n",
       " ('bəlbəl', 71),\n",
       " ('hazar', 71),\n",
       " ('hon', 70),\n",
       " ('biye', 69),\n",
       " ('pišle', 68),\n",
       " ('mənna', 67),\n",
       " ('pišla', 67),\n",
       " ('alaha', 66),\n",
       " ('awwa', 65),\n",
       " ('siqɛle', 64),\n",
       " ('ayya', 64),\n",
       " ('ʾəθya', 63),\n",
       " ('an', 63),\n",
       " ('θela', 62),\n",
       " ('u', 61),\n",
       " ('aw', 61),\n",
       " ('qimela', 60),\n",
       " ('it', 59),\n",
       " ('gane', 59),\n",
       " ('wawa', 58),\n",
       " ('bron', 58),\n",
       " ('azən', 57),\n",
       " ('babe', 57),\n",
       " ('broni', 57),\n",
       " ('anna', 56),\n",
       " ('mamo', 54),\n",
       " ('lan', 53),\n",
       " ('xazəx', 52),\n",
       " ('xzi', 52),\n",
       " ('ṣəlyɛle', 50),\n",
       " ('le', 48),\n",
       " ('xoni', 48),\n",
       " ('qimtɛla', 48),\n",
       " ('yxaləf', 48),\n",
       " ('ɛ', 47),\n",
       " ('səttiye', 47),\n",
       " ('θaya', 45),\n",
       " ('dus', 44),\n",
       " ('modile', 44),\n",
       " ('biya', 44),\n",
       " ('xali', 43),\n",
       " ('si', 42),\n",
       " ('tiwɛle', 42),\n",
       " ('qu', 42),\n",
       " ('ṣlela', 42),\n",
       " ('bṱ', 42),\n",
       " ('mənni', 41),\n",
       " ('muttəlla', 41),\n",
       " ('yomət', 41),\n",
       " ('zilela', 40),\n",
       " ('baye', 40),\n",
       " ('wiða', 39),\n",
       " ('xene', 39),\n",
       " ('waða', 38),\n",
       " ('diyi', 38),\n",
       " ('gozali', 38),\n",
       " ('rešət', 37),\n",
       " ('xaθi', 37),\n",
       " ('garəg', 36),\n",
       " ('siqa', 36),\n",
       " ('pišɛle', 36),\n",
       " ('baxte', 36),\n",
       " ('mṭele', 36),\n",
       " ('qara', 36),\n",
       " ('teždin', 36),\n",
       " ('muθyəlla', 35),\n",
       " ('θeli', 35),\n",
       " ('farxo', 35),\n",
       " ('tarət', 34),\n",
       " ('xzele', 34),\n",
       " ('ʾiθwale', 33),\n",
       " ('mənnux', 33),\n",
       " ('ʾitle', 33),\n",
       " ('ṣlele', 33),\n",
       " ('gawa', 33),\n",
       " ('qaṭina', 33),\n",
       " ('xale', 33),\n",
       " ('ʾəlli', 32),\n",
       " ('kulle', 32),\n",
       " ('siqle', 32),\n",
       " ('xəzya', 32),\n",
       " ('ṭlali', 31),\n",
       " ('qimle', 31),\n",
       " ('šqiləlla', 31),\n",
       " ('pɛšən', 31),\n",
       " ('θiθɛla', 31),\n",
       " ('ɛka', 31),\n",
       " ('ʾimə', 31),\n",
       " ('zile', 30),\n",
       " ('in', 30),\n",
       " ('bratət', 30),\n",
       " ('axxa', 30),\n",
       " ('dəryəlle', 30),\n",
       " ('rustamo', 30),\n",
       " ('awət', 29),\n",
       " ('amrənnux', 29),\n",
       " ('čuxo', 29),\n",
       " ('ʾəθyela', 29),\n",
       " ('dəryəlla', 29),\n",
       " ('ʾiðe', 29),\n",
       " ('bəṛ', 29),\n",
       " ('mir', 29),\n",
       " ('mxaya', 28),\n",
       " ('mṣaya', 28),\n",
       " ('xonawaθa', 28),\n",
       " ('θiθa', 28),\n",
       " ('ziltɛla', 28),\n",
       " ('i', 28),\n",
       " ('ṭlalux', 27),\n",
       " ('ʾaθe', 27),\n",
       " ('pliṭɛle', 27),\n",
       " ('azəx', 27),\n",
       " ('awe', 27),\n",
       " ('siqla', 27),\n",
       " ('bxaya', 27),\n",
       " ('ʾəθye', 27),\n",
       " ('tu', 27),\n",
       " ('yəmmi', 27),\n",
       " ('gawe', 26),\n",
       " ('ʾɛne', 26),\n",
       " ('widla', 26),\n",
       " ('hatxɛla', 26),\n",
       " ('yəmme', 26),\n",
       " ('dmixɛle', 26),\n",
       " ('bronət', 25),\n",
       " ('brone', 25),\n",
       " ('mɛθən', 25),\n",
       " ('ʾimət', 25),\n",
       " ('xaṣ', 25),\n",
       " ('ʾiθən', 25),\n",
       " ('ati', 24),\n",
       " ('hawət', 24),\n",
       " ('pliṭle', 24),\n",
       " ('wirɛle', 24),\n",
       " ('yaðe', 24),\n",
       " ('qimla', 24),\n",
       " ('lɛ', 24),\n",
       " ('bɛθət', 24),\n",
       " ('məṭyɛle', 24),\n",
       " ('aθe', 24),\n",
       " ('mənnɛxu', 24),\n",
       " ('gani', 24),\n",
       " ('asqən', 24),\n",
       " ('llux', 23),\n",
       " ('widle', 23),\n",
       " ('ʾitli', 23),\n",
       " ('ʾɛkɛle', 23),\n",
       " ('hot', 23),\n",
       " ('zilta', 23),\n",
       " ('raya', 23),\n",
       " ('di', 23),\n",
       " ('ʿabda', 23),\n",
       " ('raḥman', 23),\n",
       " ('tamaha', 22),\n",
       " ('ganux', 22),\n",
       " ('məri', 22),\n",
       " ('ʾɛnile', 22),\n",
       " ('kəsle', 22),\n",
       " ('payəš', 22),\n",
       " ('diyux', 22),\n",
       " ('brati', 22),\n",
       " ('piše', 22),\n",
       " ('oðən', 22),\n",
       " ('ṣlaya', 22),\n",
       " ('karim', 22),\n",
       " ('xone', 21),\n",
       " ('yaðət', 21),\n",
       " ('biyi', 21),\n",
       " ('wazir', 21),\n",
       " ('oðəx', 21),\n",
       " ('wela', 21),\n",
       " ('leliθa', 21),\n",
       " ('šqille', 21),\n",
       " ('zandin', 21),\n",
       " ('amrəx', 20),\n",
       " ('bɛθi', 20),\n",
       " ('muθyəlle', 20),\n",
       " ('awəð', 20),\n",
       " ('baθre', 20),\n",
       " ('piša', 20),\n",
       " ('ʾəllux', 20),\n",
       " ('yaðən', 20),\n",
       " ('pɛšət', 20),\n",
       " ('wɛwa', 20),\n",
       " ('hatxɛle', 20),\n",
       " ('nozali', 20),\n",
       " ('susawaθa', 20),\n",
       " ('aθya', 19),\n",
       " ('amər', 19),\n",
       " ('xəzye', 19),\n",
       " ('bronux', 19),\n",
       " ('babux', 19),\n",
       " ('wirre', 19),\n",
       " ('ṣəlya', 19),\n",
       " ('xonəx', 19),\n",
       " ('hedi', 19),\n",
       " ('julle', 18),\n",
       " ('kəsli', 18),\n",
       " ('yomə', 18),\n",
       " ('ʾamrət', 18),\n",
       " ('azət', 18),\n",
       " ('azəl', 18),\n",
       " ('ṣliθɛla', 18),\n",
       " ('xazən', 18),\n",
       " ('lux', 18),\n",
       " ('pyaša', 18),\n",
       " ('xirre', 18),\n",
       " ('ʾazəl', 18),\n",
       " ('axəl', 18),\n",
       " ('xazele', 18),\n",
       " ('rešux', 18),\n",
       " ('šqul', 17),\n",
       " ('xaṣət', 17),\n",
       " ('ʾazət', 17),\n",
       " ('qurbət', 17),\n",
       " ('modit', 17),\n",
       " ('hawe', 17),\n",
       " ('pliṭṭɛla', 17),\n",
       " ('xəzyəlla', 17),\n",
       " ('pištɛla', 17),\n",
       " ('bɛθe', 17),\n",
       " ('mot', 17),\n",
       " ('bratux', 17),\n",
       " ('tiwta', 17),\n",
       " ('xonawaθi', 17),\n",
       " ('riqle', 17),\n",
       " ('lɛka', 17),\n",
       " ('wira', 17),\n",
       " ('ʾɛkɛla', 17),\n",
       " ('ʾile', 17),\n",
       " ('yuwanəs', 17),\n",
       " ('qṭiləlle', 17),\n",
       " ('bakurko', 17),\n",
       " ('muttəlle', 16),\n",
       " ('wiðəlla', 16),\n",
       " ('mənney', 16),\n",
       " ('məxyɛle', 16),\n",
       " ('xazela', 16),\n",
       " ('ʾazən', 16),\n",
       " ('šqiləlle', 16),\n",
       " ('tiwe', 16),\n",
       " ('ʾara', 16),\n",
       " ('lat', 16),\n",
       " ('šqila', 16),\n",
       " ('ʾila', 16),\n",
       " ('hay', 16),\n",
       " ('maṭe', 16),\n",
       " ('reši', 16),\n",
       " ('xaṣə', 16),\n",
       " ('xaθux', 16),\n",
       " ('čəlkaze', 16),\n",
       " ('naze', 16),\n",
       " ('qɛmən', 15),\n",
       " ('dəryɛle', 15),\n",
       " ('ana', 15),\n",
       " ('siqela', 15),\n",
       " ('ṣəlyela', 15),\n",
       " ('ani', 15),\n",
       " ('šwiqali', 15),\n",
       " ('ʾitla', 15),\n",
       " ('mutta', 15),\n",
       " ('nubləlla', 15),\n",
       " ('jazira', 15),\n",
       " ('rustam', 15),\n",
       " ('bayənna', 14),\n",
       " ('pliṭla', 14),\n",
       " ('ʾanən', 14),\n",
       " ('asqəx', 14),\n",
       " ('ɛnila', 14),\n",
       " ('našət', 14),\n",
       " ('xilela', 14),\n",
       " ('ṣraxa', 14),\n",
       " ('wuð', 14),\n",
       " ('litlux', 14),\n",
       " ('ṣalən', 14),\n",
       " ('xðara', 14),\n",
       " ('lɛwa', 14),\n",
       " ('miθɛle', 14),\n",
       " ('kizle', 14),\n",
       " ('ṣaləx', 14),\n",
       " ('ʾawəð', 14),\n",
       " ('məṭyela', 14),\n",
       " ('qṭila', 14),\n",
       " ('danət', 14),\n",
       " ('iwən', 14),\n",
       " ('puš', 14),\n",
       " ('suq', 14),\n",
       " ('addin', 14),\n",
       " ('na', 14),\n",
       " ('qaṭəlle', 14),\n",
       " ('bežəm', 14),\n",
       " ('diyən', 13),\n",
       " ('mšurela', 13),\n",
       " ('tiwle', 13),\n",
       " ('mṣən', 13),\n",
       " ('azi', 13),\n",
       " ('liθwa', 13),\n",
       " ('dmixela', 13),\n",
       " ('diṛɛle', 13),\n",
       " ('iwət', 13),\n",
       " ('mitle', 13),\n",
       " ('mṣawoθe', 13),\n",
       " ('ṣalya', 13),\n",
       " ('siqtɛla', 13),\n",
       " ('ʾawwɛle', 13),\n",
       " ('aθi', 13),\n",
       " ('hoya', 13),\n",
       " ('damxəx', 13),\n",
       " ('pɛša', 13),\n",
       " ('qalət', 13),\n",
       " ('ṛišle', 13),\n",
       " ('šqilɛle', 13),\n",
       " ('ʾaθya', 13),\n",
       " ('halli', 13),\n",
       " ('dəmdəma', 13),\n",
       " ('mayəθ', 13),\n",
       " ('faqira', 13),\n",
       " ('paləṭ', 13),\n",
       " ('maṣe', 13),\n",
       " ('ṣali', 13),\n",
       " ('məxyəlle', 13),\n",
       " ('ʾoðən', 13),\n",
       " ('litla', 13),\n",
       " ('dinare', 13),\n",
       " ('tatar', 13),\n",
       " ('sleman', 13),\n",
       " ('səndi', 13),\n",
       " ('bejəm', 13),\n",
       " ('zalo', 13),\n",
       " ('wele', 12),\n",
       " ('ʾaθət', 12),\n",
       " ('qəryɛle', 12),\n",
       " ('zmara', 12),\n",
       " ('qime', 12),\n",
       " ('θelux', 12),\n",
       " ('klele', 12),\n",
       " ('awa', 12),\n",
       " ('tiwtɛla', 12),\n",
       " ('malkɛle', 12),\n",
       " ('ʾayyɛla', 12),\n",
       " ('qaṣrət', 12),\n",
       " ('kəsla', 12),\n",
       " ('šaqəlla', 12),\n",
       " ('yom', 12),\n",
       " ('oya', 12),\n",
       " ('mxele', 12),\n",
       " ('leš', 12),\n",
       " ('litle', 12),\n",
       " ('məndit', 12),\n",
       " ('tarəṣ', 12),\n",
       " ('mɛθənna', 12),\n",
       " ('ɛni', 12),\n",
       " ('mṭela', 12),\n",
       " ('dwiqəlle', 12),\n",
       " ('llɛxu', 12),\n",
       " ('maxele', 12),\n",
       " ('witɛla', 12),\n",
       " ('palxən', 12),\n",
       " ('faqih', 12),\n",
       " ('ḥasan', 12),\n",
       " ('pišela', 11),\n",
       " ('yawəlla', 11),\n",
       " ('diyila', 11),\n",
       " ('dart', 11),\n",
       " ('aθən', 11),\n",
       " ('raqa', 11),\n",
       " ('baxtət', 11),\n",
       " ('ðiya', 11),\n",
       " ('ruše', 11),\n",
       " ('xzeli', 11),\n",
       " ('pliṭa', 11),\n",
       " ('ðaʾa', 11),\n",
       " ('ʾitlən', 11),\n",
       " ('nablənna', 11),\n",
       " ('xzaya', 11),\n",
       " ('ṣli', 11),\n",
       " ('paqəð', 11),\n",
       " ('wirra', 11),\n",
       " ('xer', 11),\n",
       " ('ʾawər', 11),\n",
       " ('ʾɛnət', 11),\n",
       " ('xuš', 11),\n",
       " ('sa', 11),\n",
       " ('kla', 11),\n",
       " ('kaze', 11),\n",
       " ('toma', 11),\n",
       " ('npille', 11),\n",
       " ('brate', 11),\n",
       " ('muttɛθəlle', 11),\n",
       " ('barzəkko', 11),\n",
       " ('əlle', 11),\n",
       " ('šuqla', 10),\n",
       " ('axləx', 10),\n",
       " ('plaṭa', 10),\n",
       " ('xəzyəlle', 10),\n",
       " ('wiðe', 10),\n",
       " ('məxyəlla', 10),\n",
       " ('bayi', 10),\n",
       " ('mɛθət', 10),\n",
       " ('traθna', 10),\n",
       " ('mənnən', 10),\n",
       " ('ʿafrit', 10),\n",
       " ('lɛðən', 10),\n",
       " ('diṛṛe', 10),\n",
       " ('xaze', 10),\n",
       " ('brat', 10),\n",
       " ('xišɛle', 10),\n",
       " ('baya', 10),\n",
       " ('ʾəθyən', 10),\n",
       " ('iwa', 10),\n",
       " ('wire', 10),\n",
       " ('ganəx', 10),\n",
       " ('xila', 10),\n",
       " ('xišle', 10),\n",
       " ('bali', 10),\n",
       " ('xəlmi', 10),\n",
       " ('wiðəlle', 10),\n",
       " ('jwanqe', 10),\n",
       " ('mtuxmənne', 10),\n",
       " ('ʾoðət', 10),\n",
       " ('amri', 10),\n",
       " ('mɛθela', 10),\n",
       " ('zen', 10),\n",
       " ('hiwəlla', 10),\n",
       " ('plixa', 10),\n",
       " ('widlux', 10),\n",
       " ('šarəṭ', 10),\n",
       " ('palgət', 10),\n",
       " ('nasimo', 10),\n",
       " ('zurta', 10),\n",
       " ('ṭḷaθna', 10),\n",
       " ('taq', 10),\n",
       " ('maxela', 10),\n",
       " ('mitla', 10),\n",
       " ('lɛkət', 10),\n",
       " ('ləbbi', 10),\n",
       " ('palxət', 10),\n",
       " ('šulux', 10),\n",
       " ('dmaxa', 10),\n",
       " ('litli', 10),\n",
       " ('qidle', 10),\n",
       " ('susət', 10),\n",
       " ('xere', 10),\n",
       " ('pθixəlle', 9),\n",
       " ('lwiša', 9),\n",
       " ('šex', 9),\n",
       " ('so', 9),\n",
       " ('yawəl', 9),\n",
       " ('hiwle', 9),\n",
       " ('riqɛle', 9),\n",
       " ('šavana', 9),\n",
       " ('baθri', 9),\n",
       " ('šaqlile', 9),\n",
       " ('zawa', 9),\n",
       " ('lax', 9),\n",
       " ('rqaða', 9),\n",
       " ('palṭən', 9),\n",
       " ('xzayəlle', 9),\n",
       " ('xzelux', 9),\n",
       " ('baxtux', 9),\n",
       " ('ʾasas', 9),\n",
       " ('xzela', 9),\n",
       " ('laʾ', 9),\n",
       " ('ʾatit', 9),\n",
       " ('ṭlaləx', 9),\n",
       " ('xza', 9),\n",
       " ('wirtɛla', 9),\n",
       " ('lləx', 9),\n",
       " ('tiwela', 9),\n",
       " ('mɛθoye', 9),\n",
       " ('xazyale', 9),\n",
       " ('mənnəx', 9),\n",
       " ('mɛθi', 9),\n",
       " ('gawṛəx', 9),\n",
       " ('qayəm', 9),\n",
       " ('gawṛi', 9),\n",
       " ('siqta', 9),\n",
       " ('wiðɛle', 9),\n",
       " ('xilla', 9),\n",
       " ('barya', 9),\n",
       " ('braya', 9),\n",
       " ('ðile', 9),\n",
       " ('axəlla', 9),\n",
       " ('šmile', 9),\n",
       " ('rešə', 9),\n",
       " ('hiwəlle', 9),\n",
       " ('awər', 9),\n",
       " ('pɛši', 9),\n",
       " ('azəlwa', 9),\n",
       " ('lɛt', 9),\n",
       " ('wa', 9),\n",
       " ('sigən', 9),\n",
       " ('azena', 9),\n",
       " ('amrannux', 9),\n",
       " ('pluṭ', 9),\n",
       " ('ʾiθwala', 9),\n",
       " ('xille', 9),\n",
       " ('plaxa', 9),\n",
       " ('npila', 9),\n",
       " ('sawən', 9),\n",
       " ('ʾamte', 9),\n",
       " ('saqa', 9),\n",
       " ('muttɛθəlla', 9),\n",
       " ('zal', 9),\n",
       " ('zraya', 9),\n",
       " ('paləx', 9),\n",
       " ('žigən', 9),\n",
       " ('badal', 9),\n",
       " ('yannux', 9),\n",
       " ('ʾajdən', 9),\n",
       " ('pummət', 9),\n",
       " ('ʾummo', 9),\n",
       " ('bota', 9),\n",
       " ('dərya', 8),\n",
       " ('baxət', 8),\n",
       " ('šəmmux', 8),\n",
       " ('šəmmət', 8),\n",
       " ('mattule', 8),\n",
       " ('xoðe', 8),\n",
       " ('ʾaxlət', 8),\n",
       " ('šaqəlle', 8),\n",
       " ('wiðta', 8),\n",
       " ('xzayəlla', 8),\n",
       " ('malkət', 8),\n",
       " ('əlla', 8),\n",
       " ('mɛθətla', 8),\n",
       " ('lli', 8),\n",
       " ('wazire', 8),\n",
       " ('xziθəlle', 8),\n",
       " ('ṣəlye', 8),\n",
       " ('murri', 8),\n",
       " ('ʾamrənnux', 8),\n",
       " ('babə', 8),\n",
       " ('jullət', 8),\n",
       " ('npilta', 8),\n",
       " ('brela', 8),\n",
       " ('rabe', 8),\n",
       " ('mattu', 8),\n",
       " ('θeləx', 8),\n",
       " ('pišta', 8),\n",
       " ('amrəxla', 8),\n",
       " ('zdile', 8),\n",
       " ('axlila', 8),\n",
       " ('muttule', 8),\n",
       " ('npilɛle', 8),\n",
       " ('got', 8),\n",
       " ('gəldət', 8),\n",
       " ('ʾitwale', 8),\n",
       " ('məṣya', 8),\n",
       " ('ṣbara', 8),\n",
       " ('diyey', 8),\n",
       " ('lle', 8),\n",
       " ('aziwa', 8),\n",
       " ('lɛðe', 8),\n",
       " ('xšawən', 8),\n",
       " ('rixtɛla', 8),\n",
       " ('maṭət', 8),\n",
       " ('reš', 8),\n",
       " ('ʾat', 8),\n",
       " ('xirɛle', 8),\n",
       " ('muθɛθəlla', 8),\n",
       " ('mṣela', 8),\n",
       " ('nubaltəlla', 8),\n",
       " ('ṛišɛle', 8),\n",
       " ('balam', 8),\n",
       " ('ʾaθṛət', 8),\n",
       " ('maxe', 8),\n",
       " ('ðila', 8),\n",
       " ('baxti', 8),\n",
       " ('qitla', 8),\n",
       " ('yəmmət', 8),\n",
       " ('čante', 8),\n",
       " ('ʾiði', 8),\n",
       " ('dawið', 8),\n",
       " ('zawnənne', 8),\n",
       " ('daraje', 8),\n",
       " ('ja', 8),\n",
       " ('xulləkko', 8),\n",
       " ('ʾamedia', 8),\n",
       " ('e', 8),\n",
       " ('mərza', 8),\n",
       " ('pamət', 8),\n",
       " ('parizada', 8),\n",
       " ('šošət', 8),\n",
       " ('mattula', 7),\n",
       " ('maṣyoθe', 7),\n",
       " ('šaqlətla', 7),\n",
       " ('yaði', 7),\n",
       " ('jullux', 7),\n",
       " ('kəslən', 7),\n",
       " ('kuṱ', 7),\n",
       " ('biyey', 7),\n",
       " ('dwaqa', 7),\n",
       " ('hox', 7),\n",
       " ('daməx', 7),\n",
       " ('yawəlle', 7),\n",
       " ('gan', 7),\n",
       " ('mma', 7),\n",
       " ('xziθəlla', 7),\n",
       " ('oðət', 7),\n",
       " ('gət', 7),\n",
       " ('aθyən', 7),\n",
       " ('kli', 7),\n",
       " ('siqe', 7),\n",
       " ('mxiθa', 7),\n",
       " ('ʾaθi', 7),\n",
       " ('jnana', 7),\n",
       " ('šaqəl', 7),\n",
       " ('gotət', 7),\n",
       " ('aza', 7),\n",
       " ('amrən', 7),\n",
       " ('maṣən', 7),\n",
       " ('ṣrixɛle', 7),\n",
       " ('nubləlle', 7),\n",
       " ('ʾəlley', 7),\n",
       " ('qamθe', 7),\n",
       " ('aqlət', 7),\n",
       " ('mšudrəlle', 7),\n",
       " ('kale', 7),\n",
       " ('kullɛxu', 7),\n",
       " ('drela', 7),\n",
       " ('yatli', 7),\n",
       " ('rəsqi', 7),\n",
       " ('xaṣi', 7),\n",
       " ('p', 7),\n",
       " ('ɛkət', 7),\n",
       " ('xəzyɛle', 7),\n",
       " ('riqtɛla', 7),\n",
       " ('ṣadrət', 7),\n",
       " ('šuryela', 7),\n",
       " ('yiwəlla', 7),\n",
       " ('šqala', 7),\n",
       " ('maḥalle', 7),\n",
       " ('xilɛle', 7),\n",
       " ('xðirra', 7),\n",
       " ('šaqlənna', 7),\n",
       " ('ṣla', 7),\n",
       " ('riqa', 7),\n",
       " ('zilli', 7),\n",
       " ('ʾamti', 7),\n",
       " ('bayewa', 7),\n",
       " ('mɛθənnux', 7),\n",
       " ('mərux', 7),\n",
       " ('yanna', 7),\n",
       " ('laʾa', 7),\n",
       " ('babət', 7),\n",
       " ('šqiltəlla', 7),\n",
       " ('tawrət', 7),\n",
       " ('ṣadre', 7),\n",
       " ('parəmle', 7),\n",
       " ('xalux', 7),\n",
       " ('baxt', 7),\n",
       " ('rešey', 7),\n",
       " ('hale', 7),\n",
       " ('štaya', 7),\n",
       " ('mxiθəlla', 7),\n",
       " ('klela', 6),\n",
       " ('ṭəq', 6),\n",
       " ('xazɛla', 6),\n",
       " ('ʾawədla', 6),\n",
       " ('julli', 6),\n",
       " ('šəmmi', 6),\n",
       " ('priməlle', 6),\n",
       " ('muθyɛle', 6),\n",
       " ('hɛ', 6),\n",
       " ('ʾamri', 6),\n",
       " ('mṭaya', 6),\n",
       " ('marɛla', 6),\n",
       " ('tahər', 6),\n",
       " ('musqəlla', 6),\n",
       " ('ninwe', 6),\n",
       " ('marɛle', 6),\n",
       " ('ʿal', 6),\n",
       " ('ara', 6),\n",
       " ('dwiqəlla', 6),\n",
       " ('kəsləx', 6),\n",
       " ('xəlmux', 6),\n",
       " ('hiwɛle', 6),\n",
       " ('dɛṛən', 6),\n",
       " ('urxa', 6),\n",
       " ('yaða', 6),\n",
       " ('amrət', 6),\n",
       " ('šqulla', 6),\n",
       " ('šaqlən', 6),\n",
       " ('ʾiwən', 6),\n",
       " ('bərya', 6),\n",
       " ('dayəṛ', 6),\n",
       " ('xyara', 6),\n",
       " ('ix', 6),\n",
       " ('wara', 6),\n",
       " ('dɛṛa', 6),\n",
       " ('amrənnəx', 6),\n",
       " ('qora', 6),\n",
       " ('bayəx', 6),\n",
       " ('pliṭela', 6),\n",
       " ('kəlyɛle', 6),\n",
       " ('nšaqəlle', 6),\n",
       " ('spara', 6),\n",
       " ('šqilla', 6),\n",
       " ('susi', 6),\n",
       " ('xano', 6),\n",
       " ('dukθət', 6),\n",
       " ('dwiqle', 6),\n",
       " ('bnele', 6),\n",
       " ('amərwa', 6),\n",
       " ('ʾirən', 6),\n",
       " ('mal', 6),\n",
       " ('mtaxmone', 6),\n",
       " ('mattila', 6),\n",
       " ('mɛθɛla', 6),\n",
       " ('dəqne', 6),\n",
       " ('azitu', 6),\n",
       " ('ʾaqlət', 6),\n",
       " ('zar', 6),\n",
       " ('gwira', 6),\n",
       " ('xabri', 6),\n",
       " ('xazət', 6),\n",
       " ('susux', 6),\n",
       " ('fa', 6),\n",
       " ('kullən', 6),\n",
       " ('bassi', 6),\n",
       " ('wiya', 6),\n",
       " ('mbaqər', 6),\n",
       " ('mirta', 6),\n",
       " ('dmixle', 6),\n",
       " ('yalli', 6),\n",
       " ('šaqlala', 6),\n",
       " ('qimta', 6),\n",
       " ('axəlwa', 6),\n",
       " ('palṭət', 6),\n",
       " ('tiwla', 6),\n",
       " ('xonawaθəx', 6),\n",
       " ('xiləlle', 6),\n",
       " ('dawqile', 6),\n",
       " ('ṣraxɛla', 6),\n",
       " ('yiwəlle', 6),\n",
       " ('asəqwa', 6),\n",
       " ('mɛθewa', 6),\n",
       " ('mṭawole', 6),\n",
       " ('xul', 6),\n",
       " ('našɛle', 6),\n",
       " ('yanne', 6),\n",
       " ('məxyela', 6),\n",
       " ('saxi', 6),\n",
       " ('sxaya', 6),\n",
       " ('muθya', 6),\n",
       " ('mutte', 6),\n",
       " ('palṭa', 6),\n",
       " ('rabəṭ', 6),\n",
       " ('qame', 6),\n",
       " ('ʾiðux', 6),\n",
       " ('axlən', 6),\n",
       " ('šəttət', 6),\n",
       " ('lhaya', 6),\n",
       " ('kəsley', 6),\n",
       " ('dɛrele', 6),\n",
       " ('ləx', 6),\n",
       " ('mṭušyəlla', 6),\n",
       " ('mɛθətli', 6),\n",
       " ('xulame', 6),\n",
       " ('šuryɛle', 6),\n",
       " ('ʾaθeti', 6),\n",
       " ('diyele', 6),\n",
       " ('yatla', 6),\n",
       " ('mrile', 6),\n",
       " ('xile', 6),\n",
       " ('sahare', 6),\n",
       " ('bnaθe', 6),\n",
       " ('šate', 6),\n",
       " ('hallule', 6),\n",
       " ('mdagole', 6),\n",
       " ('qaṭlənnux', 6),\n",
       " ('amrile', 6),\n",
       " ('du', 6),\n",
       " ('yawəllux', 6),\n",
       " ('diwənt', 6),\n",
       " ('čixalo', 6),\n",
       " ('mame', 6),\n",
       " ('xwarzayi', 6),\n",
       " ('nɛrgis', 6),\n",
       " ('ʾaprəsyaw', 6),\n",
       " ('karmi', 6),\n",
       " ('atwən', 5),\n",
       " ('wirela', 5),\n",
       " ('geb', 5),\n",
       " ('mdit', 5),\n",
       " ('hey', 5),\n",
       " ('xiləlla', 5),\n",
       " ('hawən', 5),\n",
       " ('diṛa', 5),\n",
       " ('xzo', 5),\n",
       " ('dərye', 5),\n",
       " ('šope', 5),\n",
       " ('bale', 5),\n",
       " ('qṭala', 5),\n",
       " ('awewa', 5),\n",
       " ('bi', 5),\n",
       " ('murra', 5),\n",
       " ('ʾaqli', 5),\n",
       " ('grišle', 5),\n",
       " ('marzət', 5),\n",
       " ('ṭlile', 5),\n",
       " ('kizla', 5),\n",
       " ('mami', 5),\n",
       " ('danə', 5),\n",
       " ('widli', 5),\n",
       " ('mšuyðanta', 5),\n",
       " ('oða', 5),\n",
       " ('asqa', 5),\n",
       " ('pθixtəlle', 5),\n",
       " ('ʿala', 5),\n",
       " ('sɛ', 5),\n",
       " ('yalət', 5),\n",
       " ('ʾoy', 5),\n",
       " ('musqəlle', 5),\n",
       " ('ʾəstəqbal', 5),\n",
       " ('oði', 5),\n",
       " ('kaza', 5),\n",
       " ('ganey', 5),\n",
       " ('bronən', 5),\n",
       " ('mattənna', 5),\n",
       " ('ṣalət', 5),\n",
       " ('liθən', 5),\n",
       " ('bə', 5),\n",
       " ('moditu', 5),\n",
       " ('oyət', 5),\n",
       " ('lɛlawaθa', 5),\n",
       " ('pθixla', 5),\n",
       " ('ʾaza', 5),\n",
       " ('qɛmi', 5),\n",
       " ('asqət', 5),\n",
       " ('rəḥqɛla', 5),\n",
       " ('axlale', 5),\n",
       " ('ʾarəq', 5),\n",
       " ('knaša', 5),\n",
       " ('maṭya', 5),\n",
       " ('xziθa', 5),\n",
       " ('lapzerin', 5),\n",
       " ('qṭille', 5),\n",
       " ('ṭalbən', 5),\n",
       " ('bɛθux', 5),\n",
       " ('muθele', 5),\n",
       " ('jwaja', 5),\n",
       " ('mɛθitula', 5),\n",
       " ('qəṣṣəttət', 5),\n",
       " ('maxewa', 5),\n",
       " ('xətni', 5),\n",
       " ('maṭroye', 5),\n",
       " ('ʾurxi', 5),\n",
       " ('ʾaqlaθe', 5),\n",
       " ('danɛla', 5),\n",
       " ('ʾitwala', 5),\n",
       " ('awən', 5),\n",
       " ('hawya', 5),\n",
       " ('qarya', 5),\n",
       " ('qriθɛla', 5),\n",
       " ('xazyən', 5),\n",
       " ('diyəx', 5),\n",
       " ('goṛɛle', 5),\n",
       " ('xaθət', 5),\n",
       " ('xabrət', 5),\n",
       " ('bɛθ', 5),\n",
       " ('lɛn', 5),\n",
       " ('ʾasəq', 5),\n",
       " ('damxən', 5),\n",
       " ('šqiltɛla', 5),\n",
       " ('awədle', 5),\n",
       " ('diyɛxu', 5),\n",
       " ('sqidla', 5),\n",
       " ('qrele', 5),\n",
       " ('nanno', 5),\n",
       " ('jəndo', 5),\n",
       " ('kəslɛxu', 5),\n",
       " ('zmirra', 5),\n",
       " ('zangin', 5),\n",
       " ('mṭušyəlle', 5),\n",
       " ('mərəx', 5),\n",
       " ('mxuzdɛwən', 5),\n",
       " ('pliṭṭa', 5),\n",
       " ('axəlwala', 5),\n",
       " ('nabəlli', 5),\n",
       " ('qaṭəlli', 5),\n",
       " ('awaha', 5),\n",
       " ('qaṭlile', 5),\n",
       " ('zilən', 5),\n",
       " ('moθela', 5),\n",
       " ('rešəx', 5),\n",
       " ('xazaliya', 5),\n",
       " ('maθət', 5),\n",
       " ('prumle', 5),\n",
       " ('wur', 5),\n",
       " ('əllux', 5),\n",
       " ('rəḥqɛle', 5),\n",
       " ('maxəx', 5),\n",
       " ('azənwa', 5),\n",
       " ('baʿden', 5),\n",
       " ('gašəq', 5),\n",
       " ('xuyɛle', 5),\n",
       " ('kəslɛni', 5),\n",
       " ('goṛtɛla', 5),\n",
       " ('maṣət', 5),\n",
       " ('qðalət', 5),\n",
       " ('litləx', 5),\n",
       " ('nabəlla', 5),\n",
       " ('šwawux', 5),\n",
       " ('qṣaya', 5),\n",
       " ('qalpe', 5),\n",
       " ('palxeti', 5),\n",
       " ('gwirta', 5),\n",
       " ('zədyəlle', 5),\n",
       " ('muθela', 5),\n",
       " ('wiðtəlle', 5),\n",
       " ('muttula', 5),\n",
       " ('mɛθila', 5),\n",
       " ('tərwəθna', 5),\n",
       " ('sabab', 5),\n",
       " ('pɛšəx', 5),\n",
       " ('xyapa', 5),\n",
       " ('ʾɛnila', 5),\n",
       " ('ġazaliya', 5),\n",
       " ('zuzi', 5),\n",
       " ('amrənnɛxu', 5),\n",
       " ('ṭəpya', 5),\n",
       " ('qṭaləlle', 5),\n",
       " ('jwijle', 5),\n",
       " ('bxela', 5),\n",
       " ('lɛðəx', 5),\n",
       " ('ṭalba', 5),\n",
       " ('mxayɛle', 5),\n",
       " ('dewərrəš', 5),\n",
       " ('məṣr', 5),\n",
       " ('šaqlətle', 5),\n",
       " ('xaθwaθa', 5),\n",
       " ('ʾəllɛxu', 5),\n",
       " ('xazyala', 5),\n",
       " ('mṭiθɛla', 5),\n",
       " ('ṣliθa', 5),\n",
       " ('nepuxta', 5),\n",
       " ('ʾɛnux', 5),\n",
       " ('yiwle', 5),\n",
       " ('daqrət', 5),\n",
       " ('xarɛθa', 5),\n",
       " ('krible', 5),\n",
       " ('ʾorət', 5),\n",
       " ('zmirre', 5),\n",
       " ('ṣligən', 5),\n",
       " ('ʾamediya', 5),\n",
       " ('šlame', 5),\n",
       " ('yiwtəlle', 5),\n",
       " ('bangina', 5),\n",
       " ('ʾiðət', 5),\n",
       " ('čəkko', 5),\n",
       " ('qaða', 5),\n",
       " ('twira', 5),\n",
       " ('ferəssɛle', 5),\n",
       " ('mṭamorəlle', 5),\n",
       " ('xaləṭ', 4),\n",
       " ('ʾaθən', 4),\n",
       " ('awədla', 4),\n",
       " ('halla', 4),\n",
       " ('ʾasqət', 4),\n",
       " ('yawəlli', 4),\n",
       " ('awðət', 4),\n",
       " ('mirəllux', 4),\n",
       " ('xillux', 4),\n",
       " ('gote', 4),\n",
       " ('yatwi', 4),\n",
       " ...]"
      ]
     },
     "execution_count": 33,
     "metadata": {},
     "output_type": "execute_result"
    }
   ],
   "source": [
    "unlemmatized.most_common()"
   ]
  },
  {
   "cell_type": "markdown",
   "metadata": {},
   "source": [
    "## Testing Queries"
   ]
  },
  {
   "cell_type": "markdown",
   "metadata": {},
   "source": [
    "### Verb Queries"
   ]
  },
  {
   "cell_type": "code",
   "execution_count": 2,
   "metadata": {},
   "outputs": [
    {
     "name": "stdout",
     "output_type": "stream",
     "text": [
      "  3.48s 452 results\n"
     ]
    }
   ],
   "source": [
    "preterite_strong_verb = nena.search('''\n",
    "\n",
    "word\n",
    "    =: letter class=consonant\n",
    "    <: letter class=consonant\n",
    "    <: letter fuzzy=i\n",
    "    <: letter class=consonant\n",
    "    <: letter fuzzy=l\n",
    "    \n",
    "''')"
   ]
  },
  {
   "cell_type": "code",
   "execution_count": 3,
   "metadata": {},
   "outputs": [
    {
     "name": "stdout",
     "output_type": "stream",
     "text": [
      "  4.28s 276 results\n"
     ]
    }
   ],
   "source": [
    "qam_preterite_strong = nena.search('''\n",
    "\n",
    "w:word\n",
    "    =: letter fuzzy=q\n",
    "    <: letter class=vowel\n",
    "    <: letter fuzzy=m\n",
    "    <: letter class=consonant\n",
    "    <: letter fuzzy=a\n",
    "    < letter fuzzy=l \n",
    "    <:  letter class=vowel\n",
    "''')"
   ]
  },
  {
   "cell_type": "code",
   "execution_count": 4,
   "metadata": {},
   "outputs": [
    {
     "name": "stdout",
     "output_type": "stream",
     "text": [
      "  4.61s 2016 results\n"
     ]
    }
   ],
   "source": [
    "query = nena.search('''\n",
    "\n",
    "w:word\n",
    "    =: letter class=consonant\n",
    "    <: letter fuzzy=a\n",
    "    <: letter class=consonant\n",
    "    <: letter class=consonant\n",
    "    < letter fuzzy=l \n",
    "    <:  letter class=vowel\n",
    "''')"
   ]
  },
  {
   "cell_type": "markdown",
   "metadata": {},
   "source": [
    "### Other Queries"
   ]
  },
  {
   "cell_type": "code",
   "execution_count": 9,
   "metadata": {},
   "outputs": [
    {
     "name": "stdout",
     "output_type": "stream",
     "text": [
      "  0.16s 2437 results\n"
     ]
    }
   ],
   "source": [
    "query = nena.search('''\n",
    "\n",
    "word\n",
    "    morpheme grm_desc~^pron\\.\n",
    "\n",
    "''')"
   ]
  },
  {
   "cell_type": "code",
   "execution_count": 18,
   "metadata": {},
   "outputs": [
    {
     "data": {
      "text/html": [
       "<p><b>result</b> <i>1</i></p>"
      ],
      "text/plain": [
       "<IPython.core.display.HTML object>"
      ]
     },
     "metadata": {},
     "output_type": "display_data"
    },
    {
     "data": {
      "text/html": [
       "<a href=\"https://github.com/CambridgeSemiticsLab/nena_corpus/blob/master/nena/0.01/Barwar/A Hundred Gold Coins.nena\" title=\"see this passage in its source document\" sec=\"Barwar, A Hundred Gold Coins, Ln. 2\">Barwar, A Hundred Gold Coins, Ln. 2</a>\n",
       "<div class=\"outeritem\">\n",
       "<div class=\"macro  \" >\n",
       "\n",
       "<div class=\"prosa  \" >\n",
       "\n",
       "<div class=\"word  \" >\n",
       "<div class=\"ara\">mə́re </div>\n",
       "\n",
       "</div>\n",
       "<div class=\"word  \" >\n",
       "<div class=\"ara\">xázəx </div>\n",
       "\n",
       "</div>\n",
       "<div class=\"word  hl\" >\n",
       "<div class=\"ara\">ʾáwwa </div>\n",
       "\n",
       "</div>\n",
       "<div class=\"word  \" >\n",
       "<div class=\"ara\">dū̀s-ile.ˈ </div>\n",
       "\n",
       "</div>\n",
       "</div>\n",
       "</div>\n",
       "</div>"
      ],
      "text/plain": [
       "<IPython.core.display.HTML object>"
      ]
     },
     "metadata": {},
     "output_type": "display_data"
    },
    {
     "data": {
      "text/html": [
       "<p><b>result</b> <i>2</i></p>"
      ],
      "text/plain": [
       "<IPython.core.display.HTML object>"
      ]
     },
     "metadata": {},
     "output_type": "display_data"
    },
    {
     "data": {
      "text/html": [
       "<a href=\"https://github.com/CambridgeSemiticsLab/nena_corpus/blob/master/nena/0.01/Barwar/A Hundred Gold Coins.nena\" title=\"see this passage in its source document\" sec=\"Barwar, A Hundred Gold Coins, Ln. 2\">Barwar, A Hundred Gold Coins, Ln. 2</a>\n",
       "<div class=\"outeritem\">\n",
       "<div class=\"macro  \" >\n",
       "\n",
       "<div class=\"prosa  \" >\n",
       "\n",
       "<div class=\"word  hl\" >\n",
       "<div class=\"ara\">ʾá </div>\n",
       "\n",
       "</div>\n",
       "<div class=\"word  \" >\n",
       "<div class=\"ara\">báxta </div>\n",
       "\n",
       "</div>\n",
       "<div class=\"word  \" >\n",
       "<div class=\"ara\">hàyyo!ˈ </div>\n",
       "\n",
       "</div>\n",
       "</div>\n",
       "</div>\n",
       "</div>"
      ],
      "text/plain": [
       "<IPython.core.display.HTML object>"
      ]
     },
     "metadata": {},
     "output_type": "display_data"
    },
    {
     "data": {
      "text/html": [
       "<p><b>result</b> <i>3</i></p>"
      ],
      "text/plain": [
       "<IPython.core.display.HTML object>"
      ]
     },
     "metadata": {},
     "output_type": "display_data"
    },
    {
     "data": {
      "text/html": [
       "<a href=\"https://github.com/CambridgeSemiticsLab/nena_corpus/blob/master/nena/0.01/Barwar/A Hundred Gold Coins.nena\" title=\"see this passage in its source document\" sec=\"Barwar, A Hundred Gold Coins, Ln. 3\">Barwar, A Hundred Gold Coins, Ln. 3</a>\n",
       "<div class=\"outeritem\">\n",
       "<div class=\"macro  \" >\n",
       "\n",
       "<div class=\"prosa  \" >\n",
       "\n",
       "<div class=\"word  \" >\n",
       "<div class=\"ara\">ʾə́č̣č̣i-u </div>\n",
       "\n",
       "</div>\n",
       "<div class=\"word  \" >\n",
       "<div class=\"ara\">ʾə̀č̣č̣a,ˈ </div>\n",
       "\n",
       "</div>\n",
       "</div>\n",
       "<div class=\"prosa  \" >\n",
       "\n",
       "<div class=\"word  \" >\n",
       "<div class=\"ara\">ʾáxči </div>\n",
       "\n",
       "</div>\n",
       "<div class=\"word  hl\" >\n",
       "<div class=\"ara\">ʾána </div>\n",
       "\n",
       "</div>\n",
       "<div class=\"word  \" >\n",
       "<div class=\"ara\">max-xšàwti,ˈ </div>\n",
       "\n",
       "</div>\n",
       "</div>\n",
       "<div class=\"prosa  \" >\n",
       "\n",
       "<div class=\"word  \" >\n",
       "<div class=\"ara\">ʾáyya </div>\n",
       "\n",
       "</div>\n",
       "<div class=\"word  \" >\n",
       "<div class=\"ara\">kìstaˈ </div>\n",
       "\n",
       "</div>\n",
       "</div>\n",
       "<div class=\"prosa  \" >\n",
       "\n",
       "<div class=\"word  \" >\n",
       "<div class=\"ara\">hóle </div>\n",
       "\n",
       "</div>\n",
       "<div class=\"word  \" >\n",
       "<div class=\"ara\">mxožə́bnəlla </div>\n",
       "\n",
       "</div>\n",
       "<div class=\"word  \" >\n",
       "<div class=\"ara\">max-xà.ˈ </div>\n",
       "\n",
       "</div>\n",
       "</div>\n",
       "</div>\n",
       "</div>"
      ],
      "text/plain": [
       "<IPython.core.display.HTML object>"
      ]
     },
     "metadata": {},
     "output_type": "display_data"
    },
    {
     "data": {
      "text/html": [
       "<p><b>result</b> <i>4</i></p>"
      ],
      "text/plain": [
       "<IPython.core.display.HTML object>"
      ]
     },
     "metadata": {},
     "output_type": "display_data"
    },
    {
     "data": {
      "text/html": [
       "<a href=\"https://github.com/CambridgeSemiticsLab/nena_corpus/blob/master/nena/0.01/Barwar/A Hundred Gold Coins.nena\" title=\"see this passage in its source document\" sec=\"Barwar, A Hundred Gold Coins, Ln. 3\">Barwar, A Hundred Gold Coins, Ln. 3</a>\n",
       "<div class=\"outeritem\">\n",
       "<div class=\"macro  \" >\n",
       "\n",
       "<div class=\"prosa  \" >\n",
       "\n",
       "<div class=\"word  \" >\n",
       "<div class=\"ara\">ʾə́č̣č̣i-u </div>\n",
       "\n",
       "</div>\n",
       "<div class=\"word  \" >\n",
       "<div class=\"ara\">ʾə̀č̣č̣a,ˈ </div>\n",
       "\n",
       "</div>\n",
       "</div>\n",
       "<div class=\"prosa  \" >\n",
       "\n",
       "<div class=\"word  \" >\n",
       "<div class=\"ara\">ʾáxči </div>\n",
       "\n",
       "</div>\n",
       "<div class=\"word  \" >\n",
       "<div class=\"ara\">ʾána </div>\n",
       "\n",
       "</div>\n",
       "<div class=\"word  \" >\n",
       "<div class=\"ara\">max-xšàwti,ˈ </div>\n",
       "\n",
       "</div>\n",
       "</div>\n",
       "<div class=\"prosa  \" >\n",
       "\n",
       "<div class=\"word  hl\" >\n",
       "<div class=\"ara\">ʾáyya </div>\n",
       "\n",
       "</div>\n",
       "<div class=\"word  \" >\n",
       "<div class=\"ara\">kìstaˈ </div>\n",
       "\n",
       "</div>\n",
       "</div>\n",
       "<div class=\"prosa  \" >\n",
       "\n",
       "<div class=\"word  \" >\n",
       "<div class=\"ara\">hóle </div>\n",
       "\n",
       "</div>\n",
       "<div class=\"word  \" >\n",
       "<div class=\"ara\">mxožə́bnəlla </div>\n",
       "\n",
       "</div>\n",
       "<div class=\"word  \" >\n",
       "<div class=\"ara\">max-xà.ˈ </div>\n",
       "\n",
       "</div>\n",
       "</div>\n",
       "</div>\n",
       "</div>"
      ],
      "text/plain": [
       "<IPython.core.display.HTML object>"
      ]
     },
     "metadata": {},
     "output_type": "display_data"
    },
    {
     "data": {
      "text/html": [
       "<p><b>result</b> <i>5</i></p>"
      ],
      "text/plain": [
       "<IPython.core.display.HTML object>"
      ]
     },
     "metadata": {},
     "output_type": "display_data"
    },
    {
     "data": {
      "text/html": [
       "<a href=\"https://github.com/CambridgeSemiticsLab/nena_corpus/blob/master/nena/0.01/Barwar/A Hundred Gold Coins.nena\" title=\"see this passage in its source document\" sec=\"Barwar, A Hundred Gold Coins, Ln. 4\">Barwar, A Hundred Gold Coins, Ln. 4</a>\n",
       "<div class=\"outeritem\">\n",
       "<div class=\"macro  \" >\n",
       "\n",
       "<div class=\"prosa  \" >\n",
       "\n",
       "<div class=\"word  \" >\n",
       "<div class=\"ara\">ʾáy </div>\n",
       "\n",
       "</div>\n",
       "<div class=\"word  \" >\n",
       "<div class=\"ara\">kálba </div>\n",
       "\n",
       "</div>\n",
       "<div class=\"word  \" >\n",
       "<div class=\"ara\">ʾámər </div>\n",
       "\n",
       "</div>\n",
       "<div class=\"word  \" >\n",
       "<div class=\"ara\">táma </div>\n",
       "\n",
       "</div>\n",
       "<div class=\"word  \" >\n",
       "<div class=\"ara\">l-gàre </div>\n",
       "\n",
       "</div>\n",
       "<div class=\"word  \" >\n",
       "<div class=\"ara\">maṣyóθe,ˈ </div>\n",
       "\n",
       "</div>\n",
       "</div>\n",
       "<div class=\"prosa  \" >\n",
       "\n",
       "<div class=\"word  \" >\n",
       "<div class=\"ara\">bắyət </div>\n",
       "\n",
       "</div>\n",
       "<div class=\"word  \" >\n",
       "<div class=\"ara\">šaqlə́tla </div>\n",
       "\n",
       "</div>\n",
       "<div class=\"word  hl\" >\n",
       "<div class=\"ara\">ʾap-ʾànna.ˈ </div>\n",
       "\n",
       "</div>\n",
       "</div>\n",
       "</div>\n",
       "</div>"
      ],
      "text/plain": [
       "<IPython.core.display.HTML object>"
      ]
     },
     "metadata": {},
     "output_type": "display_data"
    },
    {
     "data": {
      "text/html": [
       "<p><b>result</b> <i>6</i></p>"
      ],
      "text/plain": [
       "<IPython.core.display.HTML object>"
      ]
     },
     "metadata": {},
     "output_type": "display_data"
    },
    {
     "data": {
      "text/html": [
       "<a href=\"https://github.com/CambridgeSemiticsLab/nena_corpus/blob/master/nena/0.01/Barwar/A Hundred Gold Coins.nena\" title=\"see this passage in its source document\" sec=\"Barwar, A Hundred Gold Coins, Ln. 6\">Barwar, A Hundred Gold Coins, Ln. 6</a>\n",
       "<div class=\"outeritem\">\n",
       "<div class=\"macro  \" >\n",
       "\n",
       "<div class=\"prosa  \" >\n",
       "\n",
       "<div class=\"word  \" >\n",
       "<div class=\"ara\">ṭla-mòdila </div>\n",
       "\n",
       "</div>\n",
       "<div class=\"word  hl\" >\n",
       "<div class=\"ara\">ʾáyya?ˈ </div>\n",
       "\n",
       "</div>\n",
       "</div>\n",
       "</div>\n",
       "</div>"
      ],
      "text/plain": [
       "<IPython.core.display.HTML object>"
      ]
     },
     "metadata": {},
     "output_type": "display_data"
    },
    {
     "data": {
      "text/html": [
       "<p><b>result</b> <i>7</i></p>"
      ],
      "text/plain": [
       "<IPython.core.display.HTML object>"
      ]
     },
     "metadata": {},
     "output_type": "display_data"
    },
    {
     "data": {
      "text/html": [
       "<a href=\"https://github.com/CambridgeSemiticsLab/nena_corpus/blob/master/nena/0.01/Barwar/A Hundred Gold Coins.nena\" title=\"see this passage in its source document\" sec=\"Barwar, A Hundred Gold Coins, Ln. 6\">Barwar, A Hundred Gold Coins, Ln. 6</a>\n",
       "<div class=\"outeritem\">\n",
       "<div class=\"macro  \" >\n",
       "\n",
       "<div class=\"prosa  \" >\n",
       "\n",
       "<div class=\"word  hl\" >\n",
       "<div class=\"ara\">ʾána </div>\n",
       "\n",
       "</div>\n",
       "<div class=\"word  \" >\n",
       "<div class=\"ara\">là-ʾaθən </div>\n",
       "\n",
       "</div>\n",
       "<div class=\"word  \" >\n",
       "<div class=\"ara\">mə́nnux.ˈ </div>\n",
       "\n",
       "</div>\n",
       "</div>\n",
       "</div>\n",
       "</div>"
      ],
      "text/plain": [
       "<IPython.core.display.HTML object>"
      ]
     },
     "metadata": {},
     "output_type": "display_data"
    },
    {
     "data": {
      "text/html": [
       "<p><b>result</b> <i>8</i></p>"
      ],
      "text/plain": [
       "<IPython.core.display.HTML object>"
      ]
     },
     "metadata": {},
     "output_type": "display_data"
    },
    {
     "data": {
      "text/html": [
       "<a href=\"https://github.com/CambridgeSemiticsLab/nena_corpus/blob/master/nena/0.01/Barwar/A Hundred Gold Coins.nena\" title=\"see this passage in its source document\" sec=\"Barwar, A Hundred Gold Coins, Ln. 6\">Barwar, A Hundred Gold Coins, Ln. 6</a>\n",
       "<div class=\"outeritem\">\n",
       "<div class=\"macro  \" >\n",
       "\n",
       "<div class=\"prosa  \" >\n",
       "\n",
       "<div class=\"word  \" >\n",
       "<div class=\"ara\">sí </div>\n",
       "\n",
       "</div>\n",
       "<div class=\"word  \" >\n",
       "<div class=\"ara\">là-ʾaθən </div>\n",
       "\n",
       "</div>\n",
       "<div class=\"word  \" >\n",
       "<div class=\"ara\">mə́nnux </div>\n",
       "\n",
       "</div>\n",
       "<div class=\"word  hl\" >\n",
       "<div class=\"ara\">ʾána.ˈ </div>\n",
       "\n",
       "</div>\n",
       "</div>\n",
       "</div>\n",
       "</div>"
      ],
      "text/plain": [
       "<IPython.core.display.HTML object>"
      ]
     },
     "metadata": {},
     "output_type": "display_data"
    },
    {
     "data": {
      "text/html": [
       "<p><b>result</b> <i>9</i></p>"
      ],
      "text/plain": [
       "<IPython.core.display.HTML object>"
      ]
     },
     "metadata": {},
     "output_type": "display_data"
    },
    {
     "data": {
      "text/html": [
       "<a href=\"https://github.com/CambridgeSemiticsLab/nena_corpus/blob/master/nena/0.01/Barwar/A Hundred Gold Coins.nena\" title=\"see this passage in its source document\" sec=\"Barwar, A Hundred Gold Coins, Ln. 7\">Barwar, A Hundred Gold Coins, Ln. 7</a>\n",
       "<div class=\"outeritem\">\n",
       "<div class=\"macro  \" >\n",
       "\n",
       "<div class=\"prosa  \" >\n",
       "\n",
       "<div class=\"word  \" >\n",
       "<div class=\"ara\">xazɛ́la </div>\n",
       "\n",
       "</div>\n",
       "<div class=\"word  hl\" >\n",
       "<div class=\"ara\">ʾánna </div>\n",
       "\n",
       "</div>\n",
       "<div class=\"word  \" >\n",
       "<div class=\"ara\">júllux </div>\n",
       "\n",
       "</div>\n",
       "<div class=\"word  \" >\n",
       "<div class=\"ara\">hàtxa,ˈ </div>\n",
       "\n",
       "</div>\n",
       "</div>\n",
       "<div class=\"prosa  \" >\n",
       "\n",
       "<div class=\"word  \" >\n",
       "<div class=\"ara\">kášxa-w </div>\n",
       "\n",
       "</div>\n",
       "<div class=\"word  \" >\n",
       "<div class=\"ara\">ʾáyya </div>\n",
       "\n",
       "</div>\n",
       "<div class=\"word  \" >\n",
       "<div class=\"ara\">xmàrtuxˈ </div>\n",
       "\n",
       "</div>\n",
       "</div>\n",
       "<div class=\"prosa  \" >\n",
       "\n",
       "<div class=\"word  \" >\n",
       "<div class=\"ara\">ʾu-sɛ̀rga-wˈ </div>\n",
       "\n",
       "</div>\n",
       "</div>\n",
       "<div class=\"prosa  \" >\n",
       "\n",
       "<div class=\"word  \" >\n",
       "<div class=\"ara\">w-ána </div>\n",
       "\n",
       "</div>\n",
       "<div class=\"word  \" >\n",
       "<div class=\"ara\">b-ánna </div>\n",
       "\n",
       "</div>\n",
       "<div class=\"word  \" >\n",
       "<div class=\"ara\">dašdàše-wˈ </div>\n",
       "\n",
       "</div>\n",
       "</div>\n",
       "<div class=\"prosa  \" >\n",
       "\n",
       "<div class=\"word  \" >\n",
       "<div class=\"ara\">b-ánna </div>\n",
       "\n",
       "</div>\n",
       "<div class=\"word  \" >\n",
       "<div class=\"ara\">čak̭àlle-wˈ </div>\n",
       "\n",
       "</div>\n",
       "</div>\n",
       "<div class=\"prosa  \" >\n",
       "\n",
       "<div class=\"word  \" >\n",
       "<div class=\"ara\">ʾu-šəxtàna-wˈ </div>\n",
       "\n",
       "</div>\n",
       "</div>\n",
       "<div class=\"prosa  \" >\n",
       "\n",
       "<div class=\"word  \" >\n",
       "<div class=\"ara\">šárṭ </div>\n",
       "\n",
       "</div>\n",
       "<div class=\"word  \" >\n",
       "<div class=\"ara\">qázi </div>\n",
       "\n",
       "</div>\n",
       "<div class=\"word  \" >\n",
       "<div class=\"ara\">t-yawə́lla </div>\n",
       "\n",
       "</div>\n",
       "<div class=\"word  \" >\n",
       "<div class=\"ara\">ṭlàlux.ˈ </div>\n",
       "\n",
       "</div>\n",
       "</div>\n",
       "</div>\n",
       "</div>"
      ],
      "text/plain": [
       "<IPython.core.display.HTML object>"
      ]
     },
     "metadata": {},
     "output_type": "display_data"
    },
    {
     "data": {
      "text/html": [
       "<p><b>result</b> <i>10</i></p>"
      ],
      "text/plain": [
       "<IPython.core.display.HTML object>"
      ]
     },
     "metadata": {},
     "output_type": "display_data"
    },
    {
     "data": {
      "text/html": [
       "<a href=\"https://github.com/CambridgeSemiticsLab/nena_corpus/blob/master/nena/0.01/Barwar/A Hundred Gold Coins.nena\" title=\"see this passage in its source document\" sec=\"Barwar, A Hundred Gold Coins, Ln. 7\">Barwar, A Hundred Gold Coins, Ln. 7</a>\n",
       "<div class=\"outeritem\">\n",
       "<div class=\"macro  \" >\n",
       "\n",
       "<div class=\"prosa  \" >\n",
       "\n",
       "<div class=\"word  \" >\n",
       "<div class=\"ara\">xazɛ́la </div>\n",
       "\n",
       "</div>\n",
       "<div class=\"word  \" >\n",
       "<div class=\"ara\">ʾánna </div>\n",
       "\n",
       "</div>\n",
       "<div class=\"word  \" >\n",
       "<div class=\"ara\">júllux </div>\n",
       "\n",
       "</div>\n",
       "<div class=\"word  \" >\n",
       "<div class=\"ara\">hàtxa,ˈ </div>\n",
       "\n",
       "</div>\n",
       "</div>\n",
       "<div class=\"prosa  \" >\n",
       "\n",
       "<div class=\"word  \" >\n",
       "<div class=\"ara\">kášxa-w </div>\n",
       "\n",
       "</div>\n",
       "<div class=\"word  hl\" >\n",
       "<div class=\"ara\">ʾáyya </div>\n",
       "\n",
       "</div>\n",
       "<div class=\"word  \" >\n",
       "<div class=\"ara\">xmàrtuxˈ </div>\n",
       "\n",
       "</div>\n",
       "</div>\n",
       "<div class=\"prosa  \" >\n",
       "\n",
       "<div class=\"word  \" >\n",
       "<div class=\"ara\">ʾu-sɛ̀rga-wˈ </div>\n",
       "\n",
       "</div>\n",
       "</div>\n",
       "<div class=\"prosa  \" >\n",
       "\n",
       "<div class=\"word  \" >\n",
       "<div class=\"ara\">w-ána </div>\n",
       "\n",
       "</div>\n",
       "<div class=\"word  \" >\n",
       "<div class=\"ara\">b-ánna </div>\n",
       "\n",
       "</div>\n",
       "<div class=\"word  \" >\n",
       "<div class=\"ara\">dašdàše-wˈ </div>\n",
       "\n",
       "</div>\n",
       "</div>\n",
       "<div class=\"prosa  \" >\n",
       "\n",
       "<div class=\"word  \" >\n",
       "<div class=\"ara\">b-ánna </div>\n",
       "\n",
       "</div>\n",
       "<div class=\"word  \" >\n",
       "<div class=\"ara\">čak̭àlle-wˈ </div>\n",
       "\n",
       "</div>\n",
       "</div>\n",
       "<div class=\"prosa  \" >\n",
       "\n",
       "<div class=\"word  \" >\n",
       "<div class=\"ara\">ʾu-šəxtàna-wˈ </div>\n",
       "\n",
       "</div>\n",
       "</div>\n",
       "<div class=\"prosa  \" >\n",
       "\n",
       "<div class=\"word  \" >\n",
       "<div class=\"ara\">šárṭ </div>\n",
       "\n",
       "</div>\n",
       "<div class=\"word  \" >\n",
       "<div class=\"ara\">qázi </div>\n",
       "\n",
       "</div>\n",
       "<div class=\"word  \" >\n",
       "<div class=\"ara\">t-yawə́lla </div>\n",
       "\n",
       "</div>\n",
       "<div class=\"word  \" >\n",
       "<div class=\"ara\">ṭlàlux.ˈ </div>\n",
       "\n",
       "</div>\n",
       "</div>\n",
       "</div>\n",
       "</div>"
      ],
      "text/plain": [
       "<IPython.core.display.HTML object>"
      ]
     },
     "metadata": {},
     "output_type": "display_data"
    },
    {
     "data": {
      "text/html": [
       "<p><b>result</b> <i>11</i></p>"
      ],
      "text/plain": [
       "<IPython.core.display.HTML object>"
      ]
     },
     "metadata": {},
     "output_type": "display_data"
    },
    {
     "data": {
      "text/html": [
       "<a href=\"https://github.com/CambridgeSemiticsLab/nena_corpus/blob/master/nena/0.01/Barwar/A Hundred Gold Coins.nena\" title=\"see this passage in its source document\" sec=\"Barwar, A Hundred Gold Coins, Ln. 8\">Barwar, A Hundred Gold Coins, Ln. 8</a>\n",
       "<div class=\"outeritem\">\n",
       "<div class=\"macro  \" >\n",
       "\n",
       "<div class=\"prosa  \" >\n",
       "\n",
       "<div class=\"word  \" >\n",
       "<div class=\"ara\">ʾu-xmártux </div>\n",
       "\n",
       "</div>\n",
       "<div class=\"word  \" >\n",
       "<div class=\"ara\">ṱ-átwən </div>\n",
       "\n",
       "</div>\n",
       "<div class=\"word  hl\" >\n",
       "<div class=\"ara\">ʾàna </div>\n",
       "\n",
       "</div>\n",
       "<div class=\"word  \" >\n",
       "<div class=\"ara\">l-xáṣa.ˈ </div>\n",
       "\n",
       "</div>\n",
       "</div>\n",
       "</div>\n",
       "</div>"
      ],
      "text/plain": [
       "<IPython.core.display.HTML object>"
      ]
     },
     "metadata": {},
     "output_type": "display_data"
    },
    {
     "data": {
      "text/html": [
       "<p><b>result</b> <i>12</i></p>"
      ],
      "text/plain": [
       "<IPython.core.display.HTML object>"
      ]
     },
     "metadata": {},
     "output_type": "display_data"
    },
    {
     "data": {
      "text/html": [
       "<a href=\"https://github.com/CambridgeSemiticsLab/nena_corpus/blob/master/nena/0.01/Barwar/A Hundred Gold Coins.nena\" title=\"see this passage in its source document\" sec=\"Barwar, A Hundred Gold Coins, Ln. 8\">Barwar, A Hundred Gold Coins, Ln. 8</a>\n",
       "<div class=\"outeritem\">\n",
       "<div class=\"macro  \" >\n",
       "\n",
       "<div class=\"prosa  \" >\n",
       "\n",
       "<div class=\"word  hl\" >\n",
       "<div class=\"ara\">ʾu-ʾáti </div>\n",
       "\n",
       "</div>\n",
       "<div class=\"word  \" >\n",
       "<div class=\"ara\">luš-jùlliˈ </div>\n",
       "\n",
       "</div>\n",
       "</div>\n",
       "<div class=\"prosa  \" >\n",
       "\n",
       "<div class=\"word  \" >\n",
       "<div class=\"ara\">ʾu-ṱ-àsqəx.ˈ </div>\n",
       "\n",
       "</div>\n",
       "</div>\n",
       "</div>\n",
       "</div>"
      ],
      "text/plain": [
       "<IPython.core.display.HTML object>"
      ]
     },
     "metadata": {},
     "output_type": "display_data"
    },
    {
     "data": {
      "text/html": [
       "<p><b>result</b> <i>13</i></p>"
      ],
      "text/plain": [
       "<IPython.core.display.HTML object>"
      ]
     },
     "metadata": {},
     "output_type": "display_data"
    },
    {
     "data": {
      "text/html": [
       "<a href=\"https://github.com/CambridgeSemiticsLab/nena_corpus/blob/master/nena/0.01/Barwar/A Hundred Gold Coins.nena\" title=\"see this passage in its source document\" sec=\"Barwar, A Hundred Gold Coins, Ln. 8\">Barwar, A Hundred Gold Coins, Ln. 8</a>\n",
       "<div class=\"outeritem\">\n",
       "<div class=\"macro  \" >\n",
       "\n",
       "<div class=\"prosa  \" >\n",
       "\n",
       "<div class=\"word  \" >\n",
       "<div class=\"ara\">hám-ʾən </div>\n",
       "\n",
       "</div>\n",
       "<div class=\"word  \" >\n",
       "<div class=\"ara\">ʾàsqətˈ </div>\n",
       "\n",
       "</div>\n",
       "</div>\n",
       "<div class=\"prosa  \" >\n",
       "\n",
       "<div class=\"word  hl\" >\n",
       "<div class=\"ara\">ʾap-ʾáyya </div>\n",
       "\n",
       "</div>\n",
       "<div class=\"word  \" >\n",
       "<div class=\"ara\">qabū̀l-ila.ˈ </div>\n",
       "\n",
       "</div>\n",
       "</div>\n",
       "</div>\n",
       "</div>"
      ],
      "text/plain": [
       "<IPython.core.display.HTML object>"
      ]
     },
     "metadata": {},
     "output_type": "display_data"
    },
    {
     "data": {
      "text/html": [
       "<p><b>result</b> <i>14</i></p>"
      ],
      "text/plain": [
       "<IPython.core.display.HTML object>"
      ]
     },
     "metadata": {},
     "output_type": "display_data"
    },
    {
     "data": {
      "text/html": [
       "<a href=\"https://github.com/CambridgeSemiticsLab/nena_corpus/blob/master/nena/0.01/Barwar/A Hundred Gold Coins.nena\" title=\"see this passage in its source document\" sec=\"Barwar, A Hundred Gold Coins, Ln. 10\">Barwar, A Hundred Gold Coins, Ln. 10</a>\n",
       "<div class=\"outeritem\">\n",
       "<div class=\"macro  \" >\n",
       "\n",
       "<div class=\"prosa  \" >\n",
       "\n",
       "<div class=\"word  hl\" >\n",
       "<div class=\"ara\">ʾána </div>\n",
       "\n",
       "</div>\n",
       "<div class=\"word  \" >\n",
       "<div class=\"ara\">kəmà </div>\n",
       "\n",
       "</div>\n",
       "<div class=\"word  \" >\n",
       "<div class=\"ara\">dána </div>\n",
       "\n",
       "</div>\n",
       "<div class=\"word  \" >\n",
       "<div class=\"ara\">ṱ-in-mṣalóye </div>\n",
       "\n",
       "</div>\n",
       "<div class=\"word  \" >\n",
       "<div class=\"ara\">ṭla-márya </div>\n",
       "\n",
       "</div>\n",
       "<div class=\"word  \" >\n",
       "<div class=\"ara\">ʾàlahaˈ </div>\n",
       "\n",
       "</div>\n",
       "</div>\n",
       "<div class=\"prosa  \" >\n",
       "\n",
       "<div class=\"word  \" >\n",
       "<div class=\"ara\">ta-t-yawə́lli </div>\n",
       "\n",
       "</div>\n",
       "<div class=\"word  \" >\n",
       "<div class=\"ara\">ʾə̀mma </div>\n",
       "\n",
       "</div>\n",
       "<div class=\"word  \" >\n",
       "<div class=\"ara\">dáwe.ˈ </div>\n",
       "\n",
       "</div>\n",
       "</div>\n",
       "</div>\n",
       "</div>"
      ],
      "text/plain": [
       "<IPython.core.display.HTML object>"
      ]
     },
     "metadata": {},
     "output_type": "display_data"
    },
    {
     "data": {
      "text/html": [
       "<p><b>result</b> <i>15</i></p>"
      ],
      "text/plain": [
       "<IPython.core.display.HTML object>"
      ]
     },
     "metadata": {},
     "output_type": "display_data"
    },
    {
     "data": {
      "text/html": [
       "<a href=\"https://github.com/CambridgeSemiticsLab/nena_corpus/blob/master/nena/0.01/Barwar/A Hundred Gold Coins.nena\" title=\"see this passage in its source document\" sec=\"Barwar, A Hundred Gold Coins, Ln. 10\">Barwar, A Hundred Gold Coins, Ln. 10</a>\n",
       "<div class=\"outeritem\">\n",
       "<div class=\"macro  \" >\n",
       "\n",
       "<div class=\"prosa  \" >\n",
       "\n",
       "<div class=\"word  hl\" >\n",
       "<div class=\"ara\">ʾu-ʾáwwa </div>\n",
       "\n",
       "</div>\n",
       "<div class=\"word  \" >\n",
       "<div class=\"ara\">huðáya </div>\n",
       "\n",
       "</div>\n",
       "<div class=\"word  \" >\n",
       "<div class=\"ara\">wéle </div>\n",
       "\n",
       "</div>\n",
       "<div class=\"word  \" >\n",
       "<div class=\"ara\">maṣyóθe </div>\n",
       "\n",
       "</div>\n",
       "<div class=\"word  \" >\n",
       "<div class=\"ara\">nṭára </div>\n",
       "\n",
       "</div>\n",
       "<div class=\"word  \" >\n",
       "<div class=\"ara\">ʾə́lli </div>\n",
       "\n",
       "</div>\n",
       "<div class=\"word  \" >\n",
       "<div class=\"ara\">l-gàre.ˈ </div>\n",
       "\n",
       "</div>\n",
       "</div>\n",
       "</div>\n",
       "</div>"
      ],
      "text/plain": [
       "<IPython.core.display.HTML object>"
      ]
     },
     "metadata": {},
     "output_type": "display_data"
    },
    {
     "data": {
      "text/html": [
       "<p><b>result</b> <i>16</i></p>"
      ],
      "text/plain": [
       "<IPython.core.display.HTML object>"
      ]
     },
     "metadata": {},
     "output_type": "display_data"
    },
    {
     "data": {
      "text/html": [
       "<a href=\"https://github.com/CambridgeSemiticsLab/nena_corpus/blob/master/nena/0.01/Barwar/A Hundred Gold Coins.nena\" title=\"see this passage in its source document\" sec=\"Barwar, A Hundred Gold Coins, Ln. 10\">Barwar, A Hundred Gold Coins, Ln. 10</a>\n",
       "<div class=\"outeritem\">\n",
       "<div class=\"macro  \" >\n",
       "\n",
       "<div class=\"prosa  \" >\n",
       "\n",
       "<div class=\"word  hl\" >\n",
       "<div class=\"ara\">ʾu-ʾána </div>\n",
       "\n",
       "</div>\n",
       "<div class=\"word  \" >\n",
       "<div class=\"ara\">mə́ri </div>\n",
       "\n",
       "</div>\n",
       "<div class=\"word  \" >\n",
       "<div class=\"ara\">bàxta,ˈ </div>\n",
       "\n",
       "</div>\n",
       "</div>\n",
       "<div class=\"prosa  \" >\n",
       "\n",
       "<div class=\"word  \" >\n",
       "<div class=\"ara\">ʾáp </div>\n",
       "\n",
       "</div>\n",
       "<div class=\"word  \" >\n",
       "<div class=\"ara\">ʾayya-kìstaˈ </div>\n",
       "\n",
       "</div>\n",
       "</div>\n",
       "<div class=\"prosa  \" >\n",
       "\n",
       "<div class=\"word  \" >\n",
       "<div class=\"ara\">ʾálaha </div>\n",
       "\n",
       "</div>\n",
       "<div class=\"word  \" >\n",
       "<div class=\"ara\">mxožə́bnəlla </div>\n",
       "\n",
       "</div>\n",
       "<div class=\"word  \" >\n",
       "<div class=\"ara\">m-gēb-xà-dawa.ˈ </div>\n",
       "\n",
       "</div>\n",
       "</div>\n",
       "</div>\n",
       "</div>"
      ],
      "text/plain": [
       "<IPython.core.display.HTML object>"
      ]
     },
     "metadata": {},
     "output_type": "display_data"
    },
    {
     "data": {
      "text/html": [
       "<p><b>result</b> <i>17</i></p>"
      ],
      "text/plain": [
       "<IPython.core.display.HTML object>"
      ]
     },
     "metadata": {},
     "output_type": "display_data"
    },
    {
     "data": {
      "text/html": [
       "<a href=\"https://github.com/CambridgeSemiticsLab/nena_corpus/blob/master/nena/0.01/Barwar/A Hundred Gold Coins.nena\" title=\"see this passage in its source document\" sec=\"Barwar, A Hundred Gold Coins, Ln. 10\">Barwar, A Hundred Gold Coins, Ln. 10</a>\n",
       "<div class=\"outeritem\">\n",
       "<div class=\"macro  \" >\n",
       "\n",
       "<div class=\"prosa  \" >\n",
       "\n",
       "<div class=\"word  \" >\n",
       "<div class=\"ara\">ʾu-ʾána </div>\n",
       "\n",
       "</div>\n",
       "<div class=\"word  \" >\n",
       "<div class=\"ara\">mə́ri </div>\n",
       "\n",
       "</div>\n",
       "<div class=\"word  \" >\n",
       "<div class=\"ara\">bàxta,ˈ </div>\n",
       "\n",
       "</div>\n",
       "</div>\n",
       "<div class=\"prosa  \" >\n",
       "\n",
       "<div class=\"word  \" >\n",
       "<div class=\"ara\">ʾáp </div>\n",
       "\n",
       "</div>\n",
       "<div class=\"word  hl\" >\n",
       "<div class=\"ara\">ʾayya-kìstaˈ </div>\n",
       "\n",
       "</div>\n",
       "</div>\n",
       "<div class=\"prosa  \" >\n",
       "\n",
       "<div class=\"word  \" >\n",
       "<div class=\"ara\">ʾálaha </div>\n",
       "\n",
       "</div>\n",
       "<div class=\"word  \" >\n",
       "<div class=\"ara\">mxožə́bnəlla </div>\n",
       "\n",
       "</div>\n",
       "<div class=\"word  \" >\n",
       "<div class=\"ara\">m-gēb-xà-dawa.ˈ </div>\n",
       "\n",
       "</div>\n",
       "</div>\n",
       "</div>\n",
       "</div>"
      ],
      "text/plain": [
       "<IPython.core.display.HTML object>"
      ]
     },
     "metadata": {},
     "output_type": "display_data"
    },
    {
     "data": {
      "text/html": [
       "<p><b>result</b> <i>18</i></p>"
      ],
      "text/plain": [
       "<IPython.core.display.HTML object>"
      ]
     },
     "metadata": {},
     "output_type": "display_data"
    },
    {
     "data": {
      "text/html": [
       "<a href=\"https://github.com/CambridgeSemiticsLab/nena_corpus/blob/master/nena/0.01/Barwar/A Hundred Gold Coins.nena\" title=\"see this passage in its source document\" sec=\"Barwar, A Hundred Gold Coins, Ln. 11\">Barwar, A Hundred Gold Coins, Ln. 11</a>\n",
       "<div class=\"outeritem\">\n",
       "<div class=\"macro  \" >\n",
       "\n",
       "<div class=\"prosa  \" >\n",
       "\n",
       "<div class=\"word  hl\" >\n",
       "<div class=\"ara\">ʾu-ʾáwwa-ži </div>\n",
       "\n",
       "</div>\n",
       "<div class=\"word  \" >\n",
       "<div class=\"ara\">huðáya </div>\n",
       "\n",
       "</div>\n",
       "<div class=\"word  \" >\n",
       "<div class=\"ara\">l-gàreˈ </div>\n",
       "\n",
       "</div>\n",
       "</div>\n",
       "<div class=\"prosa  \" >\n",
       "\n",
       "<div class=\"word  \" >\n",
       "<div class=\"ara\">ʾə̀lla,ˈ </div>\n",
       "\n",
       "</div>\n",
       "</div>\n",
       "<div class=\"prosa  \" >\n",
       "\n",
       "<div class=\"word  \" >\n",
       "<div class=\"ara\">ʾánna </div>\n",
       "\n",
       "</div>\n",
       "<div class=\"word  \" >\n",
       "<div class=\"ara\">dáwe </div>\n",
       "\n",
       "</div>\n",
       "<div class=\"word  \" >\n",
       "<div class=\"ara\">ʾànən </div>\n",
       "\n",
       "</div>\n",
       "<div class=\"word  \" >\n",
       "<div class=\"ara\">hiwə́llux.ˈ </div>\n",
       "\n",
       "</div>\n",
       "</div>\n",
       "</div>\n",
       "</div>"
      ],
      "text/plain": [
       "<IPython.core.display.HTML object>"
      ]
     },
     "metadata": {},
     "output_type": "display_data"
    },
    {
     "data": {
      "text/html": [
       "<p><b>result</b> <i>19</i></p>"
      ],
      "text/plain": [
       "<IPython.core.display.HTML object>"
      ]
     },
     "metadata": {},
     "output_type": "display_data"
    },
    {
     "data": {
      "text/html": [
       "<a href=\"https://github.com/CambridgeSemiticsLab/nena_corpus/blob/master/nena/0.01/Barwar/A Hundred Gold Coins.nena\" title=\"see this passage in its source document\" sec=\"Barwar, A Hundred Gold Coins, Ln. 11\">Barwar, A Hundred Gold Coins, Ln. 11</a>\n",
       "<div class=\"outeritem\">\n",
       "<div class=\"macro  \" >\n",
       "\n",
       "<div class=\"prosa  \" >\n",
       "\n",
       "<div class=\"word  \" >\n",
       "<div class=\"ara\">ʾu-ʾáwwa-ži </div>\n",
       "\n",
       "</div>\n",
       "<div class=\"word  \" >\n",
       "<div class=\"ara\">huðáya </div>\n",
       "\n",
       "</div>\n",
       "<div class=\"word  \" >\n",
       "<div class=\"ara\">l-gàreˈ </div>\n",
       "\n",
       "</div>\n",
       "</div>\n",
       "<div class=\"prosa  \" >\n",
       "\n",
       "<div class=\"word  \" >\n",
       "<div class=\"ara\">ʾə̀lla,ˈ </div>\n",
       "\n",
       "</div>\n",
       "</div>\n",
       "<div class=\"prosa  \" >\n",
       "\n",
       "<div class=\"word  hl\" >\n",
       "<div class=\"ara\">ʾánna </div>\n",
       "\n",
       "</div>\n",
       "<div class=\"word  \" >\n",
       "<div class=\"ara\">dáwe </div>\n",
       "\n",
       "</div>\n",
       "<div class=\"word  \" >\n",
       "<div class=\"ara\">ʾànən </div>\n",
       "\n",
       "</div>\n",
       "<div class=\"word  \" >\n",
       "<div class=\"ara\">hiwə́llux.ˈ </div>\n",
       "\n",
       "</div>\n",
       "</div>\n",
       "</div>\n",
       "</div>"
      ],
      "text/plain": [
       "<IPython.core.display.HTML object>"
      ]
     },
     "metadata": {},
     "output_type": "display_data"
    },
    {
     "data": {
      "text/html": [
       "<p><b>result</b> <i>20</i></p>"
      ],
      "text/plain": [
       "<IPython.core.display.HTML object>"
      ]
     },
     "metadata": {},
     "output_type": "display_data"
    },
    {
     "data": {
      "text/html": [
       "<a href=\"https://github.com/CambridgeSemiticsLab/nena_corpus/blob/master/nena/0.01/Barwar/A Hundred Gold Coins.nena\" title=\"see this passage in its source document\" sec=\"Barwar, A Hundred Gold Coins, Ln. 11\">Barwar, A Hundred Gold Coins, Ln. 11</a>\n",
       "<div class=\"outeritem\">\n",
       "<div class=\"macro  \" >\n",
       "\n",
       "<div class=\"prosa  \" >\n",
       "\n",
       "<div class=\"word  \" >\n",
       "<div class=\"ara\">ʾu-hátxa </div>\n",
       "\n",
       "</div>\n",
       "<div class=\"word  \" >\n",
       "<div class=\"ara\">be-bằxət-ile,ˈ </div>\n",
       "\n",
       "</div>\n",
       "</div>\n",
       "<div class=\"prosa  \" >\n",
       "\n",
       "<div class=\"word  \" >\n",
       "<div class=\"ara\">yá-qazi </div>\n",
       "\n",
       "</div>\n",
       "<div class=\"word  \" >\n",
       "<div class=\"ara\">ṱ-áwət </div>\n",
       "\n",
       "</div>\n",
       "<div class=\"word  \" >\n",
       "<div class=\"ara\">basìma,ˈ </div>\n",
       "\n",
       "</div>\n",
       "</div>\n",
       "<div class=\"prosa  \" >\n",
       "\n",
       "<div class=\"word  hl\" >\n",
       "<div class=\"ara\">ʾáwwa </div>\n",
       "\n",
       "</div>\n",
       "<div class=\"word  \" >\n",
       "<div class=\"ara\">huðàya,ˈ </div>\n",
       "\n",
       "</div>\n",
       "</div>\n",
       "<div class=\"prosa  \" >\n",
       "\n",
       "<div class=\"word  \" >\n",
       "<div class=\"ara\">yáʿni </div>\n",
       "\n",
       "</div>\n",
       "<div class=\"word  \" >\n",
       "<div class=\"ara\">díya </div>\n",
       "\n",
       "</div>\n",
       "<div class=\"word  \" >\n",
       "<div class=\"ara\">gu-pàθuxˈ </div>\n",
       "\n",
       "</div>\n",
       "</div>\n",
       "<div class=\"prosa  \" >\n",
       "\n",
       "<div class=\"word  \" >\n",
       "<div class=\"ara\">mdàgəlˈ </div>\n",
       "\n",
       "</div>\n",
       "</div>\n",
       "<div class=\"prosa  \" >\n",
       "\n",
       "<div class=\"word  \" >\n",
       "<div class=\"ara\">ʾu-sàru.ˈ </div>\n",
       "\n",
       "</div>\n",
       "</div>\n",
       "</div>\n",
       "</div>"
      ],
      "text/plain": [
       "<IPython.core.display.HTML object>"
      ]
     },
     "metadata": {},
     "output_type": "display_data"
    },
    {
     "data": {
      "text/html": [
       "<p><b>result</b> <i>21</i></p>"
      ],
      "text/plain": [
       "<IPython.core.display.HTML object>"
      ]
     },
     "metadata": {},
     "output_type": "display_data"
    },
    {
     "data": {
      "text/html": [
       "<a href=\"https://github.com/CambridgeSemiticsLab/nena_corpus/blob/master/nena/0.01/Barwar/A Hundred Gold Coins.nena\" title=\"see this passage in its source document\" sec=\"Barwar, A Hundred Gold Coins, Ln. 12\">Barwar, A Hundred Gold Coins, Ln. 12</a>\n",
       "<div class=\"outeritem\">\n",
       "<div class=\"macro  \" >\n",
       "\n",
       "<div class=\"prosa  \" >\n",
       "\n",
       "<div class=\"word  \" >\n",
       "<div class=\"ara\">díya </div>\n",
       "\n",
       "</div>\n",
       "<div class=\"word  \" >\n",
       "<div class=\"ara\">ṱ-àmərˈ </div>\n",
       "\n",
       "</div>\n",
       "</div>\n",
       "<div class=\"prosa  \" >\n",
       "\n",
       "<div class=\"word  \" >\n",
       "<div class=\"ara\">ʾáp </div>\n",
       "\n",
       "</div>\n",
       "<div class=\"word  hl\" >\n",
       "<div class=\"ara\">ʾanna-júlle </div>\n",
       "\n",
       "</div>\n",
       "<div class=\"word  \" >\n",
       "<div class=\"ara\">ṱ-ilà-lluxˈ </div>\n",
       "\n",
       "</div>\n",
       "</div>\n",
       "<div class=\"prosa  \" >\n",
       "\n",
       "<div class=\"word  \" >\n",
       "<div class=\"ara\">ʾu-ʾáyya </div>\n",
       "\n",
       "</div>\n",
       "<div class=\"word  \" >\n",
       "<div class=\"ara\">xmárta </div>\n",
       "\n",
       "</div>\n",
       "<div class=\"word  \" >\n",
       "<div class=\"ara\">dìyila.ˈ </div>\n",
       "\n",
       "</div>\n",
       "</div>\n",
       "</div>\n",
       "</div>"
      ],
      "text/plain": [
       "<IPython.core.display.HTML object>"
      ]
     },
     "metadata": {},
     "output_type": "display_data"
    },
    {
     "data": {
      "text/html": [
       "<p><b>result</b> <i>22</i></p>"
      ],
      "text/plain": [
       "<IPython.core.display.HTML object>"
      ]
     },
     "metadata": {},
     "output_type": "display_data"
    },
    {
     "data": {
      "text/html": [
       "<a href=\"https://github.com/CambridgeSemiticsLab/nena_corpus/blob/master/nena/0.01/Barwar/A Hundred Gold Coins.nena\" title=\"see this passage in its source document\" sec=\"Barwar, A Hundred Gold Coins, Ln. 12\">Barwar, A Hundred Gold Coins, Ln. 12</a>\n",
       "<div class=\"outeritem\">\n",
       "<div class=\"macro  \" >\n",
       "\n",
       "<div class=\"prosa  \" >\n",
       "\n",
       "<div class=\"word  \" >\n",
       "<div class=\"ara\">díya </div>\n",
       "\n",
       "</div>\n",
       "<div class=\"word  \" >\n",
       "<div class=\"ara\">ṱ-àmərˈ </div>\n",
       "\n",
       "</div>\n",
       "</div>\n",
       "<div class=\"prosa  \" >\n",
       "\n",
       "<div class=\"word  \" >\n",
       "<div class=\"ara\">ʾáp </div>\n",
       "\n",
       "</div>\n",
       "<div class=\"word  \" >\n",
       "<div class=\"ara\">ʾanna-júlle </div>\n",
       "\n",
       "</div>\n",
       "<div class=\"word  \" >\n",
       "<div class=\"ara\">ṱ-ilà-lluxˈ </div>\n",
       "\n",
       "</div>\n",
       "</div>\n",
       "<div class=\"prosa  \" >\n",
       "\n",
       "<div class=\"word  hl\" >\n",
       "<div class=\"ara\">ʾu-ʾáyya </div>\n",
       "\n",
       "</div>\n",
       "<div class=\"word  \" >\n",
       "<div class=\"ara\">xmárta </div>\n",
       "\n",
       "</div>\n",
       "<div class=\"word  \" >\n",
       "<div class=\"ara\">dìyila.ˈ </div>\n",
       "\n",
       "</div>\n",
       "</div>\n",
       "</div>\n",
       "</div>"
      ],
      "text/plain": [
       "<IPython.core.display.HTML object>"
      ]
     },
     "metadata": {},
     "output_type": "display_data"
    },
    {
     "data": {
      "text/html": [
       "<p><b>result</b> <i>23</i></p>"
      ],
      "text/plain": [
       "<IPython.core.display.HTML object>"
      ]
     },
     "metadata": {},
     "output_type": "display_data"
    },
    {
     "data": {
      "text/html": [
       "<a href=\"https://github.com/CambridgeSemiticsLab/nena_corpus/blob/master/nena/0.01/Barwar/A Hundred Gold Coins.nena\" title=\"see this passage in its source document\" sec=\"Barwar, A Hundred Gold Coins, Ln. 12\">Barwar, A Hundred Gold Coins, Ln. 12</a>\n",
       "<div class=\"outeritem\">\n",
       "<div class=\"macro  \" >\n",
       "\n",
       "<div class=\"prosa  \" >\n",
       "\n",
       "<div class=\"word  \" >\n",
       "<div class=\"ara\">w-áti </div>\n",
       "\n",
       "</div>\n",
       "<div class=\"word  \" >\n",
       "<div class=\"ara\">xə́zyətli </div>\n",
       "\n",
       "</div>\n",
       "<div class=\"word  hl\" >\n",
       "<div class=\"ara\">ʾána </div>\n",
       "\n",
       "</div>\n",
       "<div class=\"word  \" >\n",
       "<div class=\"ara\">tíwa </div>\n",
       "\n",
       "</div>\n",
       "<div class=\"word  \" >\n",
       "<div class=\"ara\">l-xàṣa.ˈ </div>\n",
       "\n",
       "</div>\n",
       "</div>\n",
       "</div>\n",
       "</div>"
      ],
      "text/plain": [
       "<IPython.core.display.HTML object>"
      ]
     },
     "metadata": {},
     "output_type": "display_data"
    },
    {
     "data": {
      "text/html": [
       "<p><b>result</b> <i>24</i></p>"
      ],
      "text/plain": [
       "<IPython.core.display.HTML object>"
      ]
     },
     "metadata": {},
     "output_type": "display_data"
    },
    {
     "data": {
      "text/html": [
       "<a href=\"https://github.com/CambridgeSemiticsLab/nena_corpus/blob/master/nena/0.01/Barwar/A Man Called Čuxo.nena\" title=\"see this passage in its source document\" sec=\"Barwar, A Man Called Čuxo, Ln. 1\">Barwar, A Man Called Čuxo, Ln. 1</a>\n",
       "<div class=\"outeritem\">\n",
       "<div class=\"macro  \" >\n",
       "\n",
       "<div class=\"prosa  \" >\n",
       "\n",
       "<div class=\"word  hl\" >\n",
       "<div class=\"ara\">ʾáwwa </div>\n",
       "\n",
       "</div>\n",
       "<div class=\"word  \" >\n",
       "<div class=\"ara\">Čúxo </div>\n",
       "\n",
       "</div>\n",
       "<div class=\"word  \" >\n",
       "<div class=\"ara\">xắye </div>\n",
       "\n",
       "</div>\n",
       "<div class=\"word  \" >\n",
       "<div class=\"ara\">gu-xà-maθa,ˈ </div>\n",
       "\n",
       "</div>\n",
       "</div>\n",
       "<div class=\"prosa  \" >\n",
       "\n",
       "<div class=\"word  \" >\n",
       "<div class=\"ara\">gu-maθwàθaˈ </div>\n",
       "\n",
       "</div>\n",
       "</div>\n",
       "<div class=\"prosa  \" >\n",
       "\n",
       "<div class=\"word  \" >\n",
       "<div class=\"ara\">ṱ-ámrəx </div>\n",
       "\n",
       "</div>\n",
       "<div class=\"word  \" >\n",
       "<div class=\"ara\">kə̀slən,ˈ </div>\n",
       "\n",
       "</div>\n",
       "</div>\n",
       "<div class=\"prosa  \" >\n",
       "\n",
       "<div class=\"word  \" >\n",
       "<div class=\"ara\">gu-Bɛ̀rwər.ˈ </div>\n",
       "\n",
       "</div>\n",
       "</div>\n",
       "</div>\n",
       "</div>"
      ],
      "text/plain": [
       "<IPython.core.display.HTML object>"
      ]
     },
     "metadata": {},
     "output_type": "display_data"
    },
    {
     "data": {
      "text/html": [
       "<p><b>result</b> <i>25</i></p>"
      ],
      "text/plain": [
       "<IPython.core.display.HTML object>"
      ]
     },
     "metadata": {},
     "output_type": "display_data"
    },
    {
     "data": {
      "text/html": [
       "<a href=\"https://github.com/CambridgeSemiticsLab/nena_corpus/blob/master/nena/0.01/Barwar/A Man Called Čuxo.nena\" title=\"see this passage in its source document\" sec=\"Barwar, A Man Called Čuxo, Ln. 1\">Barwar, A Man Called Čuxo, Ln. 1</a>\n",
       "<div class=\"outeritem\">\n",
       "<div class=\"macro  \" >\n",
       "\n",
       "<div class=\"prosa  \" >\n",
       "\n",
       "<div class=\"word  hl\" >\n",
       "<div class=\"ara\">ʾáwwa </div>\n",
       "\n",
       "</div>\n",
       "<div class=\"word  \" >\n",
       "<div class=\"ara\">kú-mdit </div>\n",
       "\n",
       "</div>\n",
       "<div class=\"word  \" >\n",
       "<div class=\"ara\">mṣawə́θwa </div>\n",
       "\n",
       "</div>\n",
       "<div class=\"word  \" >\n",
       "<div class=\"ara\">Čùxo,ˈ </div>\n",
       "\n",
       "</div>\n",
       "</div>\n",
       "<div class=\"prosa  \" >\n",
       "\n",
       "<div class=\"word  \" >\n",
       "<div class=\"ara\">Čùxo,ˈ </div>\n",
       "\n",
       "</div>\n",
       "</div>\n",
       "<div class=\"prosa  \" >\n",
       "\n",
       "<div class=\"word  \" >\n",
       "<div class=\"ara\">Čùxo.ˈ </div>\n",
       "\n",
       "</div>\n",
       "</div>\n",
       "</div>\n",
       "</div>"
      ],
      "text/plain": [
       "<IPython.core.display.HTML object>"
      ]
     },
     "metadata": {},
     "output_type": "display_data"
    },
    {
     "data": {
      "text/html": [
       "<p><b>result</b> <i>26</i></p>"
      ],
      "text/plain": [
       "<IPython.core.display.HTML object>"
      ]
     },
     "metadata": {},
     "output_type": "display_data"
    },
    {
     "data": {
      "text/html": [
       "<a href=\"https://github.com/CambridgeSemiticsLab/nena_corpus/blob/master/nena/0.01/Barwar/A Man Called Čuxo.nena\" title=\"see this passage in its source document\" sec=\"Barwar, A Man Called Čuxo, Ln. 2\">Barwar, A Man Called Čuxo, Ln. 2</a>\n",
       "<div class=\"outeritem\">\n",
       "<div class=\"macro  \" >\n",
       "\n",
       "<div class=\"prosa  \" >\n",
       "\n",
       "<div class=\"word  \" >\n",
       "<div class=\"ara\">xá-yoma </div>\n",
       "\n",
       "</div>\n",
       "<div class=\"word  \" >\n",
       "<div class=\"ara\">qə́ryɛle </div>\n",
       "\n",
       "</div>\n",
       "<div class=\"word  \" >\n",
       "<div class=\"ara\">mə́re </div>\n",
       "\n",
       "</div>\n",
       "<div class=\"word  \" >\n",
       "<div class=\"ara\">ṭla-réšət </div>\n",
       "\n",
       "</div>\n",
       "<div class=\"word  \" >\n",
       "<div class=\"ara\">màθaˈ </div>\n",
       "\n",
       "</div>\n",
       "</div>\n",
       "<div class=\"prosa  \" >\n",
       "\n",
       "<div class=\"word  hl\" >\n",
       "<div class=\"ara\">ʾáwwa </div>\n",
       "\n",
       "</div>\n",
       "<div class=\"word  \" >\n",
       "<div class=\"ara\">šə́mma </div>\n",
       "\n",
       "</div>\n",
       "<div class=\"word  \" >\n",
       "<div class=\"ara\">mšaxəlpùle.ˈ </div>\n",
       "\n",
       "</div>\n",
       "</div>\n",
       "</div>\n",
       "</div>"
      ],
      "text/plain": [
       "<IPython.core.display.HTML object>"
      ]
     },
     "metadata": {},
     "output_type": "display_data"
    },
    {
     "data": {
      "text/html": [
       "<p><b>result</b> <i>27</i></p>"
      ],
      "text/plain": [
       "<IPython.core.display.HTML object>"
      ]
     },
     "metadata": {},
     "output_type": "display_data"
    },
    {
     "data": {
      "text/html": [
       "<a href=\"https://github.com/CambridgeSemiticsLab/nena_corpus/blob/master/nena/0.01/Barwar/A Man Called Čuxo.nena\" title=\"see this passage in its source document\" sec=\"Barwar, A Man Called Čuxo, Ln. 2\">Barwar, A Man Called Čuxo, Ln. 2</a>\n",
       "<div class=\"outeritem\">\n",
       "<div class=\"macro  \" >\n",
       "\n",
       "<div class=\"prosa  \" >\n",
       "\n",
       "<div class=\"word  hl\" >\n",
       "<div class=\"ara\">ʾáwwa </div>\n",
       "\n",
       "</div>\n",
       "<div class=\"word  \" >\n",
       "<div class=\"ara\">šə́mmi </div>\n",
       "\n",
       "</div>\n",
       "<div class=\"word  \" >\n",
       "<div class=\"ara\">Čùxo,ˈ </div>\n",
       "\n",
       "</div>\n",
       "</div>\n",
       "<div class=\"prosa  \" >\n",
       "\n",
       "<div class=\"word  \" >\n",
       "<div class=\"ara\">Čùxo,ˈ </div>\n",
       "\n",
       "</div>\n",
       "</div>\n",
       "<div class=\"prosa  \" >\n",
       "\n",
       "<div class=\"word  \" >\n",
       "<div class=\"ara\">Čùxo.ˈ </div>\n",
       "\n",
       "</div>\n",
       "</div>\n",
       "</div>\n",
       "</div>"
      ],
      "text/plain": [
       "<IPython.core.display.HTML object>"
      ]
     },
     "metadata": {},
     "output_type": "display_data"
    },
    {
     "data": {
      "text/html": [
       "<p><b>result</b> <i>28</i></p>"
      ],
      "text/plain": [
       "<IPython.core.display.HTML object>"
      ]
     },
     "metadata": {},
     "output_type": "display_data"
    },
    {
     "data": {
      "text/html": [
       "<a href=\"https://github.com/CambridgeSemiticsLab/nena_corpus/blob/master/nena/0.01/Barwar/A Man Called Čuxo.nena\" title=\"see this passage in its source document\" sec=\"Barwar, A Man Called Čuxo, Ln. 3\">Barwar, A Man Called Čuxo, Ln. 3</a>\n",
       "<div class=\"outeritem\">\n",
       "<div class=\"macro  \" >\n",
       "\n",
       "<div class=\"prosa  \" >\n",
       "\n",
       "<div class=\"word  hl\" >\n",
       "<div class=\"ara\">ʾu-ʾáwwa-ži </div>\n",
       "\n",
       "</div>\n",
       "<div class=\"word  \" >\n",
       "<div class=\"ara\">zìlɛle.ˈ </div>\n",
       "\n",
       "</div>\n",
       "</div>\n",
       "</div>\n",
       "</div>"
      ],
      "text/plain": [
       "<IPython.core.display.HTML object>"
      ]
     },
     "metadata": {},
     "output_type": "display_data"
    },
    {
     "data": {
      "text/html": [
       "<p><b>result</b> <i>29</i></p>"
      ],
      "text/plain": [
       "<IPython.core.display.HTML object>"
      ]
     },
     "metadata": {},
     "output_type": "display_data"
    },
    {
     "data": {
      "text/html": [
       "<a href=\"https://github.com/CambridgeSemiticsLab/nena_corpus/blob/master/nena/0.01/Barwar/A Man Called Čuxo.nena\" title=\"see this passage in its source document\" sec=\"Barwar, A Man Called Čuxo, Ln. 3\">Barwar, A Man Called Čuxo, Ln. 3</a>\n",
       "<div class=\"outeritem\">\n",
       "<div class=\"macro  \" >\n",
       "\n",
       "<div class=\"prosa  \" >\n",
       "\n",
       "<div class=\"word  hl\" >\n",
       "<div class=\"ara\">ʾánna-ži </div>\n",
       "\n",
       "</div>\n",
       "<div class=\"word  \" >\n",
       "<div class=\"ara\">ʾə̀θyela.ˈ </div>\n",
       "\n",
       "</div>\n",
       "</div>\n",
       "</div>\n",
       "</div>"
      ],
      "text/plain": [
       "<IPython.core.display.HTML object>"
      ]
     },
     "metadata": {},
     "output_type": "display_data"
    },
    {
     "data": {
      "text/html": [
       "<p><b>result</b> <i>30</i></p>"
      ],
      "text/plain": [
       "<IPython.core.display.HTML object>"
      ]
     },
     "metadata": {},
     "output_type": "display_data"
    },
    {
     "data": {
      "text/html": [
       "<a href=\"https://github.com/CambridgeSemiticsLab/nena_corpus/blob/master/nena/0.01/Barwar/A Man Called Čuxo.nena\" title=\"see this passage in its source document\" sec=\"Barwar, A Man Called Čuxo, Ln. 4\">Barwar, A Man Called Čuxo, Ln. 4</a>\n",
       "<div class=\"outeritem\">\n",
       "<div class=\"macro  \" >\n",
       "\n",
       "<div class=\"prosa  \" >\n",
       "\n",
       "<div class=\"word  \" >\n",
       "<div class=\"ara\">ʾámər </div>\n",
       "\n",
       "</div>\n",
       "<div class=\"word  \" >\n",
       "<div class=\"ara\">ṭla-mùxtarˈ </div>\n",
       "\n",
       "</div>\n",
       "</div>\n",
       "<div class=\"prosa  \" >\n",
       "\n",
       "<div class=\"word  hl\" >\n",
       "<div class=\"ara\">ʾána </div>\n",
       "\n",
       "</div>\n",
       "<div class=\"word  \" >\n",
       "<div class=\"ara\">mòdinwa </div>\n",
       "\n",
       "</div>\n",
       "<div class=\"word  \" >\n",
       "<div class=\"ara\">mírəllux?ˈ </div>\n",
       "\n",
       "</div>\n",
       "</div>\n",
       "</div>\n",
       "</div>"
      ],
      "text/plain": [
       "<IPython.core.display.HTML object>"
      ]
     },
     "metadata": {},
     "output_type": "display_data"
    },
    {
     "data": {
      "text/html": [
       "<p><b>result</b> <i>31</i></p>"
      ],
      "text/plain": [
       "<IPython.core.display.HTML object>"
      ]
     },
     "metadata": {},
     "output_type": "display_data"
    },
    {
     "data": {
      "text/html": [
       "<a href=\"https://github.com/CambridgeSemiticsLab/nena_corpus/blob/master/nena/0.01/Barwar/A Man Called Čuxo.nena\" title=\"see this passage in its source document\" sec=\"Barwar, A Man Called Čuxo, Ln. 5\">Barwar, A Man Called Čuxo, Ln. 5</a>\n",
       "<div class=\"outeritem\">\n",
       "<div class=\"macro  \" >\n",
       "\n",
       "<div class=\"prosa  \" >\n",
       "\n",
       "<div class=\"word  \" >\n",
       "<div class=\"ara\">ʾə́θyela </div>\n",
       "\n",
       "</div>\n",
       "<div class=\"word  \" >\n",
       "<div class=\"ara\">nášət </div>\n",
       "\n",
       "</div>\n",
       "<div class=\"word  \" >\n",
       "<div class=\"ara\">máθa </div>\n",
       "\n",
       "</div>\n",
       "<div class=\"word  \" >\n",
       "<div class=\"ara\">kùllaˈ </div>\n",
       "\n",
       "</div>\n",
       "</div>\n",
       "<div class=\"prosa  \" >\n",
       "\n",
       "<div class=\"word  hl\" >\n",
       "<div class=\"ara\">ʾó-šula </div>\n",
       "\n",
       "</div>\n",
       "<div class=\"word  \" >\n",
       "<div class=\"ara\">wìðəlla.ˈ </div>\n",
       "\n",
       "</div>\n",
       "</div>\n",
       "</div>\n",
       "</div>"
      ],
      "text/plain": [
       "<IPython.core.display.HTML object>"
      ]
     },
     "metadata": {},
     "output_type": "display_data"
    },
    {
     "data": {
      "text/html": [
       "<p><b>result</b> <i>32</i></p>"
      ],
      "text/plain": [
       "<IPython.core.display.HTML object>"
      ]
     },
     "metadata": {},
     "output_type": "display_data"
    },
    {
     "data": {
      "text/html": [
       "<a href=\"https://github.com/CambridgeSemiticsLab/nena_corpus/blob/master/nena/0.01/Barwar/A Man Called Čuxo.nena\" title=\"see this passage in its source document\" sec=\"Barwar, A Man Called Čuxo, Ln. 5\">Barwar, A Man Called Čuxo, Ln. 5</a>\n",
       "<div class=\"outeritem\">\n",
       "<div class=\"macro  \" >\n",
       "\n",
       "<div class=\"prosa  \" >\n",
       "\n",
       "<div class=\"word  \" >\n",
       "<div class=\"ara\">xà-yarxa,ˈ </div>\n",
       "\n",
       "</div>\n",
       "</div>\n",
       "<div class=\"prosa  \" >\n",
       "\n",
       "<div class=\"word  \" >\n",
       "<div class=\"ara\">trè,ˈ </div>\n",
       "\n",
       "</div>\n",
       "</div>\n",
       "<div class=\"prosa  \" >\n",
       "\n",
       "<div class=\"word  \" >\n",
       "<div class=\"ara\">qímɛle </div>\n",
       "\n",
       "</div>\n",
       "<div class=\"word  \" >\n",
       "<div class=\"ara\">mkúpšəlla </div>\n",
       "\n",
       "</div>\n",
       "<div class=\"word  \" >\n",
       "<div class=\"ara\">kúlla </div>\n",
       "\n",
       "</div>\n",
       "<div class=\"word  hl\" >\n",
       "<div class=\"ara\">ʾànna,ˈ </div>\n",
       "\n",
       "</div>\n",
       "</div>\n",
       "<div class=\"prosa  \" >\n",
       "\n",
       "<div class=\"word  \" >\n",
       "<div class=\"ara\">mbùrzəlla,ˈ </div>\n",
       "\n",
       "</div>\n",
       "</div>\n",
       "<div class=\"prosa  \" >\n",
       "\n",
       "<div class=\"word  \" >\n",
       "<div class=\"ara\">də́ryəlla </div>\n",
       "\n",
       "</div>\n",
       "<div class=\"word  \" >\n",
       "<div class=\"ara\">gu-xa-ṭèna.ˈ </div>\n",
       "\n",
       "</div>\n",
       "</div>\n",
       "</div>\n",
       "</div>"
      ],
      "text/plain": [
       "<IPython.core.display.HTML object>"
      ]
     },
     "metadata": {},
     "output_type": "display_data"
    },
    {
     "data": {
      "text/html": [
       "<p><b>result</b> <i>33</i></p>"
      ],
      "text/plain": [
       "<IPython.core.display.HTML object>"
      ]
     },
     "metadata": {},
     "output_type": "display_data"
    },
    {
     "data": {
      "text/html": [
       "<a href=\"https://github.com/CambridgeSemiticsLab/nena_corpus/blob/master/nena/0.01/Barwar/A Man Called Čuxo.nena\" title=\"see this passage in its source document\" sec=\"Barwar, A Man Called Čuxo, Ln. 7\">Barwar, A Man Called Čuxo, Ln. 7</a>\n",
       "<div class=\"outeritem\">\n",
       "<div class=\"macro  \" >\n",
       "\n",
       "<div class=\"prosa  \" >\n",
       "\n",
       "<div class=\"word  \" >\n",
       "<div class=\"ara\">ʾámər </div>\n",
       "\n",
       "</div>\n",
       "<div class=\"word  hl\" >\n",
       "<div class=\"ara\">ʾáwwa </div>\n",
       "\n",
       "</div>\n",
       "<div class=\"word  \" >\n",
       "<div class=\"ara\">ʾɛ̀nile?ˈ </div>\n",
       "\n",
       "</div>\n",
       "</div>\n",
       "</div>\n",
       "</div>"
      ],
      "text/plain": [
       "<IPython.core.display.HTML object>"
      ]
     },
     "metadata": {},
     "output_type": "display_data"
    },
    {
     "data": {
      "text/html": [
       "<p><b>result</b> <i>34</i></p>"
      ],
      "text/plain": [
       "<IPython.core.display.HTML object>"
      ]
     },
     "metadata": {},
     "output_type": "display_data"
    },
    {
     "data": {
      "text/html": [
       "<a href=\"https://github.com/CambridgeSemiticsLab/nena_corpus/blob/master/nena/0.01/Barwar/A Man Called Čuxo.nena\" title=\"see this passage in its source document\" sec=\"Barwar, A Man Called Čuxo, Ln. 7\">Barwar, A Man Called Čuxo, Ln. 7</a>\n",
       "<div class=\"outeritem\">\n",
       "<div class=\"macro  \" >\n",
       "\n",
       "<div class=\"prosa  \" >\n",
       "\n",
       "<div class=\"word  \" >\n",
       "<div class=\"ara\">šḕx-məreˈ </div>\n",
       "\n",
       "</div>\n",
       "</div>\n",
       "<div class=\"prosa  \" >\n",
       "\n",
       "<div class=\"word  \" >\n",
       "<div class=\"ara\">yàbaˈ </div>\n",
       "\n",
       "</div>\n",
       "</div>\n",
       "<div class=\"prosa  \" >\n",
       "\n",
       "<div class=\"word  hl\" >\n",
       "<div class=\"ara\">ʾáyya </div>\n",
       "\n",
       "</div>\n",
       "<div class=\"word  \" >\n",
       "<div class=\"ara\">dàx-ṱ-awya?!ˈ </div>\n",
       "\n",
       "</div>\n",
       "</div>\n",
       "</div>\n",
       "</div>"
      ],
      "text/plain": [
       "<IPython.core.display.HTML object>"
      ]
     },
     "metadata": {},
     "output_type": "display_data"
    },
    {
     "data": {
      "text/html": [
       "<p><b>result</b> <i>35</i></p>"
      ],
      "text/plain": [
       "<IPython.core.display.HTML object>"
      ]
     },
     "metadata": {},
     "output_type": "display_data"
    },
    {
     "data": {
      "text/html": [
       "<a href=\"https://github.com/CambridgeSemiticsLab/nena_corpus/blob/master/nena/0.01/Barwar/A Man Called Čuxo.nena\" title=\"see this passage in its source document\" sec=\"Barwar, A Man Called Čuxo, Ln. 7\">Barwar, A Man Called Čuxo, Ln. 7</a>\n",
       "<div class=\"outeritem\">\n",
       "<div class=\"macro  \" >\n",
       "\n",
       "<div class=\"prosa  \" >\n",
       "\n",
       "<div class=\"word  hl\" >\n",
       "<div class=\"ara\">ʾána </div>\n",
       "\n",
       "</div>\n",
       "<div class=\"word  \" >\n",
       "<div class=\"ara\">háwən </div>\n",
       "\n",
       "</div>\n",
       "<div class=\"word  \" >\n",
       "<div class=\"ara\">šḗx </div>\n",
       "\n",
       "</div>\n",
       "<div class=\"word  \" >\n",
       "<div class=\"ara\">d-áyya </div>\n",
       "\n",
       "</div>\n",
       "<div class=\"word  \" >\n",
       "<div class=\"ara\">hə̀nnaˈ </div>\n",
       "\n",
       "</div>\n",
       "</div>\n",
       "<div class=\"prosa  \" >\n",
       "\n",
       "<div class=\"word  \" >\n",
       "<div class=\"ara\">ʾu-náše </div>\n",
       "\n",
       "</div>\n",
       "<div class=\"word  \" >\n",
       "<div class=\"ara\">lá-ʾaθa </div>\n",
       "\n",
       "</div>\n",
       "<div class=\"word  \" >\n",
       "<div class=\"ara\">l-diwàni,ˈ </div>\n",
       "\n",
       "</div>\n",
       "</div>\n",
       "<div class=\"prosa  \" >\n",
       "\n",
       "<div class=\"word  \" >\n",
       "<div class=\"ara\">ʾu-lá-hawa </div>\n",
       "\n",
       "</div>\n",
       "<div class=\"word  \" >\n",
       "<div class=\"ara\">ʾàrxi,ˈ </div>\n",
       "\n",
       "</div>\n",
       "</div>\n",
       "<div class=\"prosa  \" >\n",
       "\n",
       "<div class=\"word  \" >\n",
       "<div class=\"ara\">yátwi </div>\n",
       "\n",
       "</div>\n",
       "<div class=\"word  \" >\n",
       "<div class=\"ara\">háwa </div>\n",
       "\n",
       "</div>\n",
       "<div class=\"word  \" >\n",
       "<div class=\"ara\">rə̀ḥqa.ˈ </div>\n",
       "\n",
       "</div>\n",
       "</div>\n",
       "</div>\n",
       "</div>"
      ],
      "text/plain": [
       "<IPython.core.display.HTML object>"
      ]
     },
     "metadata": {},
     "output_type": "display_data"
    },
    {
     "data": {
      "text/html": [
       "<p><b>result</b> <i>36</i></p>"
      ],
      "text/plain": [
       "<IPython.core.display.HTML object>"
      ]
     },
     "metadata": {},
     "output_type": "display_data"
    },
    {
     "data": {
      "text/html": [
       "<a href=\"https://github.com/CambridgeSemiticsLab/nena_corpus/blob/master/nena/0.01/Barwar/A Man Called Čuxo.nena\" title=\"see this passage in its source document\" sec=\"Barwar, A Man Called Čuxo, Ln. 7\">Barwar, A Man Called Čuxo, Ln. 7</a>\n",
       "<div class=\"outeritem\">\n",
       "<div class=\"macro  \" >\n",
       "\n",
       "<div class=\"prosa  \" >\n",
       "\n",
       "<div class=\"word  \" >\n",
       "<div class=\"ara\">dàx-itu </div>\n",
       "\n",
       "</div>\n",
       "<div class=\"word  \" >\n",
       "<div class=\"ara\">qbíle </div>\n",
       "\n",
       "</div>\n",
       "<div class=\"word  hl\" >\n",
       "<div class=\"ara\">ʾáwwa </div>\n",
       "\n",
       "</div>\n",
       "<div class=\"word  \" >\n",
       "<div class=\"ara\">náša </div>\n",
       "\n",
       "</div>\n",
       "<div class=\"word  \" >\n",
       "<div class=\"ara\">xărī́b </div>\n",
       "\n",
       "</div>\n",
       "<div class=\"word  \" >\n",
       "<div class=\"ara\">ṱ-ile </div>\n",
       "\n",
       "</div>\n",
       "<div class=\"word  \" >\n",
       "<div class=\"ara\">ʾə́θyaˈ </div>\n",
       "\n",
       "</div>\n",
       "</div>\n",
       "<div class=\"prosa  \" >\n",
       "\n",
       "<div class=\"word  \" >\n",
       "<div class=\"ara\">hátxa </div>\n",
       "\n",
       "</div>\n",
       "<div class=\"word  \" >\n",
       "<div class=\"ara\">l-xóðe </div>\n",
       "\n",
       "</div>\n",
       "<div class=\"word  \" >\n",
       "<div class=\"ara\">gu-bɛríyya </div>\n",
       "\n",
       "</div>\n",
       "<div class=\"word  \" >\n",
       "<div class=\"ara\">tíwa-w </div>\n",
       "\n",
       "</div>\n",
       "<div class=\"word  \" >\n",
       "<div class=\"ara\">zmàra-wˈ </div>\n",
       "\n",
       "</div>\n",
       "</div>\n",
       "<div class=\"prosa  \" >\n",
       "\n",
       "<div class=\"word  \" >\n",
       "<div class=\"ara\">lɛ́tu </div>\n",
       "\n",
       "</div>\n",
       "<div class=\"word  \" >\n",
       "<div class=\"ara\">múθyəlle </div>\n",
       "\n",
       "</div>\n",
       "<div class=\"word  \" >\n",
       "<div class=\"ara\">kə̀sli?!ˈ </div>\n",
       "\n",
       "</div>\n",
       "</div>\n",
       "</div>\n",
       "</div>"
      ],
      "text/plain": [
       "<IPython.core.display.HTML object>"
      ]
     },
     "metadata": {},
     "output_type": "display_data"
    },
    {
     "data": {
      "text/html": [
       "<p><b>result</b> <i>37</i></p>"
      ],
      "text/plain": [
       "<IPython.core.display.HTML object>"
      ]
     },
     "metadata": {},
     "output_type": "display_data"
    },
    {
     "data": {
      "text/html": [
       "<a href=\"https://github.com/CambridgeSemiticsLab/nena_corpus/blob/master/nena/0.01/Barwar/A Man Called Čuxo.nena\" title=\"see this passage in its source document\" sec=\"Barwar, A Man Called Čuxo, Ln. 8\">Barwar, A Man Called Čuxo, Ln. 8</a>\n",
       "<div class=\"outeritem\">\n",
       "<div class=\"macro  \" >\n",
       "\n",
       "<div class=\"prosa  \" >\n",
       "\n",
       "<div class=\"word  \" >\n",
       "<div class=\"ara\">qímela </div>\n",
       "\n",
       "</div>\n",
       "<div class=\"word  \" >\n",
       "<div class=\"ara\">xíšela </div>\n",
       "\n",
       "</div>\n",
       "<div class=\"word  hl\" >\n",
       "<div class=\"ara\">ʾan-xulamwáθe </div>\n",
       "\n",
       "</div>\n",
       "<div class=\"word  \" >\n",
       "<div class=\"ara\">dìyeˈ </div>\n",
       "\n",
       "</div>\n",
       "</div>\n",
       "<div class=\"prosa  \" >\n",
       "\n",
       "<div class=\"word  \" >\n",
       "<div class=\"ara\">xə́zyəlle </div>\n",
       "\n",
       "</div>\n",
       "<div class=\"word  \" >\n",
       "<div class=\"ara\">ʾo-Čúxo </div>\n",
       "\n",
       "</div>\n",
       "<div class=\"word  \" >\n",
       "<div class=\"ara\">tíwa </div>\n",
       "\n",
       "</div>\n",
       "<div class=\"word  \" >\n",
       "<div class=\"ara\">rəš-d-ó-ṭena </div>\n",
       "\n",
       "</div>\n",
       "<div class=\"word  \" >\n",
       "<div class=\"ara\">zmàra,ˈ </div>\n",
       "\n",
       "</div>\n",
       "</div>\n",
       "<div class=\"prosa  \" >\n",
       "\n",
       "<div class=\"word  \" >\n",
       "<div class=\"ara\">ʾu-šabíba </div>\n",
       "\n",
       "</div>\n",
       "<div class=\"word  \" >\n",
       "<div class=\"ara\">b-ʾìðe.ˈ </div>\n",
       "\n",
       "</div>\n",
       "</div>\n",
       "</div>\n",
       "</div>"
      ],
      "text/plain": [
       "<IPython.core.display.HTML object>"
      ]
     },
     "metadata": {},
     "output_type": "display_data"
    },
    {
     "data": {
      "text/html": [
       "<p><b>result</b> <i>38</i></p>"
      ],
      "text/plain": [
       "<IPython.core.display.HTML object>"
      ]
     },
     "metadata": {},
     "output_type": "display_data"
    },
    {
     "data": {
      "text/html": [
       "<a href=\"https://github.com/CambridgeSemiticsLab/nena_corpus/blob/master/nena/0.01/Barwar/A Man Called Čuxo.nena\" title=\"see this passage in its source document\" sec=\"Barwar, A Man Called Čuxo, Ln. 8\">Barwar, A Man Called Čuxo, Ln. 8</a>\n",
       "<div class=\"outeritem\">\n",
       "<div class=\"macro  \" >\n",
       "\n",
       "<div class=\"prosa  \" >\n",
       "\n",
       "<div class=\"word  \" >\n",
       "<div class=\"ara\">qímela </div>\n",
       "\n",
       "</div>\n",
       "<div class=\"word  \" >\n",
       "<div class=\"ara\">xíšela </div>\n",
       "\n",
       "</div>\n",
       "<div class=\"word  \" >\n",
       "<div class=\"ara\">ʾan-xulamwáθe </div>\n",
       "\n",
       "</div>\n",
       "<div class=\"word  \" >\n",
       "<div class=\"ara\">dìyeˈ </div>\n",
       "\n",
       "</div>\n",
       "</div>\n",
       "<div class=\"prosa  \" >\n",
       "\n",
       "<div class=\"word  \" >\n",
       "<div class=\"ara\">xə́zyəlle </div>\n",
       "\n",
       "</div>\n",
       "<div class=\"word  hl\" >\n",
       "<div class=\"ara\">ʾo-Čúxo </div>\n",
       "\n",
       "</div>\n",
       "<div class=\"word  \" >\n",
       "<div class=\"ara\">tíwa </div>\n",
       "\n",
       "</div>\n",
       "<div class=\"word  \" >\n",
       "<div class=\"ara\">rəš-d-ó-ṭena </div>\n",
       "\n",
       "</div>\n",
       "<div class=\"word  \" >\n",
       "<div class=\"ara\">zmàra,ˈ </div>\n",
       "\n",
       "</div>\n",
       "</div>\n",
       "<div class=\"prosa  \" >\n",
       "\n",
       "<div class=\"word  \" >\n",
       "<div class=\"ara\">ʾu-šabíba </div>\n",
       "\n",
       "</div>\n",
       "<div class=\"word  \" >\n",
       "<div class=\"ara\">b-ʾìðe.ˈ </div>\n",
       "\n",
       "</div>\n",
       "</div>\n",
       "</div>\n",
       "</div>"
      ],
      "text/plain": [
       "<IPython.core.display.HTML object>"
      ]
     },
     "metadata": {},
     "output_type": "display_data"
    },
    {
     "data": {
      "text/html": [
       "<p><b>result</b> <i>39</i></p>"
      ],
      "text/plain": [
       "<IPython.core.display.HTML object>"
      ]
     },
     "metadata": {},
     "output_type": "display_data"
    },
    {
     "data": {
      "text/html": [
       "<a href=\"https://github.com/CambridgeSemiticsLab/nena_corpus/blob/master/nena/0.01/Barwar/A Man Called Čuxo.nena\" title=\"see this passage in its source document\" sec=\"Barwar, A Man Called Čuxo, Ln. 8\">Barwar, A Man Called Čuxo, Ln. 8</a>\n",
       "<div class=\"outeritem\">\n",
       "<div class=\"macro  \" >\n",
       "\n",
       "<div class=\"prosa  \" >\n",
       "\n",
       "<div class=\"word  \" >\n",
       "<div class=\"ara\">mə́ra </div>\n",
       "\n",
       "</div>\n",
       "<div class=\"word  \" >\n",
       "<div class=\"ara\">šḗx </div>\n",
       "\n",
       "</div>\n",
       "<div class=\"word  \" >\n",
       "<div class=\"ara\">yába </div>\n",
       "\n",
       "</div>\n",
       "<div class=\"word  \" >\n",
       "<div class=\"ara\">hole-mšúdra </div>\n",
       "\n",
       "</div>\n",
       "<div class=\"word  \" >\n",
       "<div class=\"ara\">bàrux,ˈ </div>\n",
       "\n",
       "</div>\n",
       "</div>\n",
       "<div class=\"prosa  \" >\n",
       "\n",
       "<div class=\"word  \" >\n",
       "<div class=\"ara\">mára </div>\n",
       "\n",
       "</div>\n",
       "<div class=\"word  hl\" >\n",
       "<div class=\"ara\">ʾáxni </div>\n",
       "\n",
       "</div>\n",
       "<div class=\"word  \" >\n",
       "<div class=\"ara\">ʾarabàyeˈ </div>\n",
       "\n",
       "</div>\n",
       "</div>\n",
       "<div class=\"prosa  \" >\n",
       "\n",
       "<div class=\"word  \" >\n",
       "<div class=\"ara\">lɛ́la </div>\n",
       "\n",
       "</div>\n",
       "<div class=\"word  \" >\n",
       "<div class=\"ara\">ʾádət </div>\n",
       "\n",
       "</div>\n",
       "<div class=\"word  \" >\n",
       "<div class=\"ara\">dìyənˈ </div>\n",
       "\n",
       "</div>\n",
       "</div>\n",
       "<div class=\"prosa  \" >\n",
       "\n",
       "<div class=\"word  \" >\n",
       "<div class=\"ara\">ṱ-áθət </div>\n",
       "\n",
       "</div>\n",
       "<div class=\"word  \" >\n",
       "<div class=\"ara\">yátwət </div>\n",
       "\n",
       "</div>\n",
       "<div class=\"word  \" >\n",
       "<div class=\"ara\">baràye,ˈ </div>\n",
       "\n",
       "</div>\n",
       "</div>\n",
       "<div class=\"prosa  \" >\n",
       "\n",
       "<div class=\"word  \" >\n",
       "<div class=\"ara\">yáʿni </div>\n",
       "\n",
       "</div>\n",
       "<div class=\"word  \" >\n",
       "<div class=\"ara\">xa-xărī́b </div>\n",
       "\n",
       "</div>\n",
       "<div class=\"word  \" >\n",
       "<div class=\"ara\">ʾən-ʾáθe </div>\n",
       "\n",
       "</div>\n",
       "<div class=\"word  \" >\n",
       "<div class=\"ara\">la-ʾáθe </div>\n",
       "\n",
       "</div>\n",
       "<div class=\"word  \" >\n",
       "<div class=\"ara\">kə̀sle.ˈ </div>\n",
       "\n",
       "</div>\n",
       "</div>\n",
       "</div>\n",
       "</div>"
      ],
      "text/plain": [
       "<IPython.core.display.HTML object>"
      ]
     },
     "metadata": {},
     "output_type": "display_data"
    },
    {
     "data": {
      "text/html": [
       "<p><b>result</b> <i>40</i></p>"
      ],
      "text/plain": [
       "<IPython.core.display.HTML object>"
      ]
     },
     "metadata": {},
     "output_type": "display_data"
    },
    {
     "data": {
      "text/html": [
       "<a href=\"https://github.com/CambridgeSemiticsLab/nena_corpus/blob/master/nena/0.01/Barwar/A Man Called Čuxo.nena\" title=\"see this passage in its source document\" sec=\"Barwar, A Man Called Čuxo, Ln. 9\">Barwar, A Man Called Čuxo, Ln. 9</a>\n",
       "<div class=\"outeritem\">\n",
       "<div class=\"macro  \" >\n",
       "\n",
       "<div class=\"prosa  \" >\n",
       "\n",
       "<div class=\"word  \" >\n",
       "<div class=\"ara\">mə́re </div>\n",
       "\n",
       "</div>\n",
       "<div class=\"word  \" >\n",
       "<div class=\"ara\">yába </div>\n",
       "\n",
       "</div>\n",
       "<div class=\"word  hl\" >\n",
       "<div class=\"ara\">ʾána </div>\n",
       "\n",
       "</div>\n",
       "<div class=\"word  \" >\n",
       "<div class=\"ara\">ṱ-àθən,ˈ </div>\n",
       "\n",
       "</div>\n",
       "</div>\n",
       "<div class=\"prosa  \" >\n",
       "\n",
       "<div class=\"word  \" >\n",
       "<div class=\"ara\">ʾáxči </div>\n",
       "\n",
       "</div>\n",
       "<div class=\"word  \" >\n",
       "<div class=\"ara\">ʾən-yáwəl </div>\n",
       "\n",
       "</div>\n",
       "<div class=\"word  \" >\n",
       "<div class=\"ara\">ð̣ămā̀nˈ </div>\n",
       "\n",
       "</div>\n",
       "</div>\n",
       "<div class=\"prosa  \" >\n",
       "\n",
       "<div class=\"word  \" >\n",
       "<div class=\"ara\">šḕxˈ </div>\n",
       "\n",
       "</div>\n",
       "</div>\n",
       "<div class=\"prosa  \" >\n",
       "\n",
       "<div class=\"word  \" >\n",
       "<div class=\"ara\">ʾáwwa </div>\n",
       "\n",
       "</div>\n",
       "<div class=\"word  \" >\n",
       "<div class=\"ara\">ṭéni </div>\n",
       "\n",
       "</div>\n",
       "<div class=\"word  \" >\n",
       "<div class=\"ara\">páyəš </div>\n",
       "\n",
       "</div>\n",
       "<div class=\"word  \" >\n",
       "<div class=\"ara\">nṭìraˈ </div>\n",
       "\n",
       "</div>\n",
       "</div>\n",
       "<div class=\"prosa  \" >\n",
       "\n",
       "<div class=\"word  \" >\n",
       "<div class=\"ara\">ta-t-čú-mdi </div>\n",
       "\n",
       "</div>\n",
       "<div class=\"word  \" >\n",
       "<div class=\"ara\">là-ʾaθe </div>\n",
       "\n",
       "</div>\n",
       "<div class=\"word  \" >\n",
       "<div class=\"ara\">bíye </div>\n",
       "\n",
       "</div>\n",
       "<div class=\"word  \" >\n",
       "<div class=\"ara\">dìye,ˈ </div>\n",
       "\n",
       "</div>\n",
       "</div>\n",
       "<div class=\"prosa  \" >\n",
       "\n",
       "<div class=\"word  \" >\n",
       "<div class=\"ara\">sab-ʾíθli </div>\n",
       "\n",
       "</div>\n",
       "<div class=\"word  \" >\n",
       "<div class=\"ara\">rába </div>\n",
       "\n",
       "</div>\n",
       "<div class=\"word  \" >\n",
       "<div class=\"ara\">mə́ndi </div>\n",
       "\n",
       "</div>\n",
       "<div class=\"word  \" >\n",
       "<div class=\"ara\">ṭemàna </div>\n",
       "\n",
       "</div>\n",
       "<div class=\"word  \" >\n",
       "<div class=\"ara\">gáwe </div>\n",
       "\n",
       "</div>\n",
       "<div class=\"word  \" >\n",
       "<div class=\"ara\">díye.ˈ </div>\n",
       "\n",
       "</div>\n",
       "</div>\n",
       "</div>\n",
       "</div>"
      ],
      "text/plain": [
       "<IPython.core.display.HTML object>"
      ]
     },
     "metadata": {},
     "output_type": "display_data"
    },
    {
     "data": {
      "text/html": [
       "<p><b>result</b> <i>41</i></p>"
      ],
      "text/plain": [
       "<IPython.core.display.HTML object>"
      ]
     },
     "metadata": {},
     "output_type": "display_data"
    },
    {
     "data": {
      "text/html": [
       "<a href=\"https://github.com/CambridgeSemiticsLab/nena_corpus/blob/master/nena/0.01/Barwar/A Man Called Čuxo.nena\" title=\"see this passage in its source document\" sec=\"Barwar, A Man Called Čuxo, Ln. 9\">Barwar, A Man Called Čuxo, Ln. 9</a>\n",
       "<div class=\"outeritem\">\n",
       "<div class=\"macro  \" >\n",
       "\n",
       "<div class=\"prosa  \" >\n",
       "\n",
       "<div class=\"word  \" >\n",
       "<div class=\"ara\">mə́re </div>\n",
       "\n",
       "</div>\n",
       "<div class=\"word  \" >\n",
       "<div class=\"ara\">yába </div>\n",
       "\n",
       "</div>\n",
       "<div class=\"word  \" >\n",
       "<div class=\"ara\">ʾána </div>\n",
       "\n",
       "</div>\n",
       "<div class=\"word  \" >\n",
       "<div class=\"ara\">ṱ-àθən,ˈ </div>\n",
       "\n",
       "</div>\n",
       "</div>\n",
       "<div class=\"prosa  \" >\n",
       "\n",
       "<div class=\"word  \" >\n",
       "<div class=\"ara\">ʾáxči </div>\n",
       "\n",
       "</div>\n",
       "<div class=\"word  \" >\n",
       "<div class=\"ara\">ʾən-yáwəl </div>\n",
       "\n",
       "</div>\n",
       "<div class=\"word  \" >\n",
       "<div class=\"ara\">ð̣ămā̀nˈ </div>\n",
       "\n",
       "</div>\n",
       "</div>\n",
       "<div class=\"prosa  \" >\n",
       "\n",
       "<div class=\"word  \" >\n",
       "<div class=\"ara\">šḕxˈ </div>\n",
       "\n",
       "</div>\n",
       "</div>\n",
       "<div class=\"prosa  \" >\n",
       "\n",
       "<div class=\"word  hl\" >\n",
       "<div class=\"ara\">ʾáwwa </div>\n",
       "\n",
       "</div>\n",
       "<div class=\"word  \" >\n",
       "<div class=\"ara\">ṭéni </div>\n",
       "\n",
       "</div>\n",
       "<div class=\"word  \" >\n",
       "<div class=\"ara\">páyəš </div>\n",
       "\n",
       "</div>\n",
       "<div class=\"word  \" >\n",
       "<div class=\"ara\">nṭìraˈ </div>\n",
       "\n",
       "</div>\n",
       "</div>\n",
       "<div class=\"prosa  \" >\n",
       "\n",
       "<div class=\"word  \" >\n",
       "<div class=\"ara\">ta-t-čú-mdi </div>\n",
       "\n",
       "</div>\n",
       "<div class=\"word  \" >\n",
       "<div class=\"ara\">là-ʾaθe </div>\n",
       "\n",
       "</div>\n",
       "<div class=\"word  \" >\n",
       "<div class=\"ara\">bíye </div>\n",
       "\n",
       "</div>\n",
       "<div class=\"word  \" >\n",
       "<div class=\"ara\">dìye,ˈ </div>\n",
       "\n",
       "</div>\n",
       "</div>\n",
       "<div class=\"prosa  \" >\n",
       "\n",
       "<div class=\"word  \" >\n",
       "<div class=\"ara\">sab-ʾíθli </div>\n",
       "\n",
       "</div>\n",
       "<div class=\"word  \" >\n",
       "<div class=\"ara\">rába </div>\n",
       "\n",
       "</div>\n",
       "<div class=\"word  \" >\n",
       "<div class=\"ara\">mə́ndi </div>\n",
       "\n",
       "</div>\n",
       "<div class=\"word  \" >\n",
       "<div class=\"ara\">ṭemàna </div>\n",
       "\n",
       "</div>\n",
       "<div class=\"word  \" >\n",
       "<div class=\"ara\">gáwe </div>\n",
       "\n",
       "</div>\n",
       "<div class=\"word  \" >\n",
       "<div class=\"ara\">díye.ˈ </div>\n",
       "\n",
       "</div>\n",
       "</div>\n",
       "</div>\n",
       "</div>"
      ],
      "text/plain": [
       "<IPython.core.display.HTML object>"
      ]
     },
     "metadata": {},
     "output_type": "display_data"
    },
    {
     "data": {
      "text/html": [
       "<p><b>result</b> <i>42</i></p>"
      ],
      "text/plain": [
       "<IPython.core.display.HTML object>"
      ]
     },
     "metadata": {},
     "output_type": "display_data"
    },
    {
     "data": {
      "text/html": [
       "<a href=\"https://github.com/CambridgeSemiticsLab/nena_corpus/blob/master/nena/0.01/Barwar/A Man Called Čuxo.nena\" title=\"see this passage in its source document\" sec=\"Barwar, A Man Called Čuxo, Ln. 10\">Barwar, A Man Called Čuxo, Ln. 10</a>\n",
       "<div class=\"outeritem\">\n",
       "<div class=\"macro  \" >\n",
       "\n",
       "<div class=\"prosa  \" >\n",
       "\n",
       "<div class=\"word  \" >\n",
       "<div class=\"ara\">mə́re </div>\n",
       "\n",
       "</div>\n",
       "<div class=\"word  \" >\n",
       "<div class=\"ara\">hɛ́ </div>\n",
       "\n",
       "</div>\n",
       "<div class=\"word  \" >\n",
       "<div class=\"ara\">yàbaˈ </div>\n",
       "\n",
       "</div>\n",
       "</div>\n",
       "<div class=\"prosa  \" >\n",
       "\n",
       "<div class=\"word  \" >\n",
       "<div class=\"ara\">ʾən-háwe </div>\n",
       "\n",
       "</div>\n",
       "<div class=\"word  \" >\n",
       "<div class=\"ara\">dàwa-žiˈ </div>\n",
       "\n",
       "</div>\n",
       "</div>\n",
       "<div class=\"prosa  \" >\n",
       "\n",
       "<div class=\"word  hl\" >\n",
       "<div class=\"ara\">ʾáxni </div>\n",
       "\n",
       "</div>\n",
       "<div class=\"word  \" >\n",
       "<div class=\"ara\">t-yawə́xla </div>\n",
       "\n",
       "</div>\n",
       "<div class=\"word  \" >\n",
       "<div class=\"ara\">xa-b-ṭḷàθa </div>\n",
       "\n",
       "</div>\n",
       "<div class=\"word  \" >\n",
       "<div class=\"ara\">ʾə́lle </div>\n",
       "\n",
       "</div>\n",
       "<div class=\"word  \" >\n",
       "<div class=\"ara\">díye.ˈ </div>\n",
       "\n",
       "</div>\n",
       "</div>\n",
       "</div>\n",
       "</div>"
      ],
      "text/plain": [
       "<IPython.core.display.HTML object>"
      ]
     },
     "metadata": {},
     "output_type": "display_data"
    },
    {
     "data": {
      "text/html": [
       "<p><b>result</b> <i>43</i></p>"
      ],
      "text/plain": [
       "<IPython.core.display.HTML object>"
      ]
     },
     "metadata": {},
     "output_type": "display_data"
    },
    {
     "data": {
      "text/html": [
       "<a href=\"https://github.com/CambridgeSemiticsLab/nena_corpus/blob/master/nena/0.01/Barwar/A Man Called Čuxo.nena\" title=\"see this passage in its source document\" sec=\"Barwar, A Man Called Čuxo, Ln. 10\">Barwar, A Man Called Čuxo, Ln. 10</a>\n",
       "<div class=\"outeritem\">\n",
       "<div class=\"macro  \" >\n",
       "\n",
       "<div class=\"prosa  \" >\n",
       "\n",
       "<div class=\"word  \" >\n",
       "<div class=\"ara\">qìmɛleˈ </div>\n",
       "\n",
       "</div>\n",
       "</div>\n",
       "<div class=\"prosa  \" >\n",
       "\n",
       "<div class=\"word  hl\" >\n",
       "<div class=\"ara\">ʾáwwa </div>\n",
       "\n",
       "</div>\n",
       "<div class=\"word  \" >\n",
       "<div class=\"ara\">zìlaˈ </div>\n",
       "\n",
       "</div>\n",
       "</div>\n",
       "<div class=\"prosa  \" >\n",
       "\n",
       "<div class=\"word  \" >\n",
       "<div class=\"ara\">zmíra </div>\n",
       "\n",
       "</div>\n",
       "<div class=\"word  \" >\n",
       "<div class=\"ara\">zmíra </div>\n",
       "\n",
       "</div>\n",
       "<div class=\"word  \" >\n",
       "<div class=\"ara\">zmíra </div>\n",
       "\n",
       "</div>\n",
       "<div class=\"word  \" >\n",
       "<div class=\"ara\">hal-mbàdla.ˈ </div>\n",
       "\n",
       "</div>\n",
       "</div>\n",
       "</div>\n",
       "</div>"
      ],
      "text/plain": [
       "<IPython.core.display.HTML object>"
      ]
     },
     "metadata": {},
     "output_type": "display_data"
    },
    {
     "data": {
      "text/html": [
       "<p><b>result</b> <i>44</i></p>"
      ],
      "text/plain": [
       "<IPython.core.display.HTML object>"
      ]
     },
     "metadata": {},
     "output_type": "display_data"
    },
    {
     "data": {
      "text/html": [
       "<a href=\"https://github.com/CambridgeSemiticsLab/nena_corpus/blob/master/nena/0.01/Barwar/A Man Called Čuxo.nena\" title=\"see this passage in its source document\" sec=\"Barwar, A Man Called Čuxo, Ln. 13\">Barwar, A Man Called Čuxo, Ln. 13</a>\n",
       "<div class=\"outeritem\">\n",
       "<div class=\"macro  \" >\n",
       "\n",
       "<div class=\"prosa  \" >\n",
       "\n",
       "<div class=\"word  hl\" >\n",
       "<div class=\"ara\">ʾánna </div>\n",
       "\n",
       "</div>\n",
       "<div class=\"word  \" >\n",
       "<div class=\"ara\">ma-dàwɛla?ˈ </div>\n",
       "\n",
       "</div>\n",
       "</div>\n",
       "</div>\n",
       "</div>"
      ],
      "text/plain": [
       "<IPython.core.display.HTML object>"
      ]
     },
     "metadata": {},
     "output_type": "display_data"
    },
    {
     "data": {
      "text/html": [
       "<p><b>result</b> <i>45</i></p>"
      ],
      "text/plain": [
       "<IPython.core.display.HTML object>"
      ]
     },
     "metadata": {},
     "output_type": "display_data"
    },
    {
     "data": {
      "text/html": [
       "<a href=\"https://github.com/CambridgeSemiticsLab/nena_corpus/blob/master/nena/0.01/Barwar/A Man Called Čuxo.nena\" title=\"see this passage in its source document\" sec=\"Barwar, A Man Called Čuxo, Ln. 14\">Barwar, A Man Called Čuxo, Ln. 14</a>\n",
       "<div class=\"outeritem\">\n",
       "<div class=\"macro  \" >\n",
       "\n",
       "<div class=\"prosa  \" >\n",
       "\n",
       "<div class=\"word  \" >\n",
       "<div class=\"ara\">plìṭṭɛlaˈ </div>\n",
       "\n",
       "</div>\n",
       "</div>\n",
       "<div class=\"prosa  \" >\n",
       "\n",
       "<div class=\"word  \" >\n",
       "<div class=\"ara\">gu-màθa,ˈ </div>\n",
       "\n",
       "</div>\n",
       "</div>\n",
       "<div class=\"prosa  \" >\n",
       "\n",
       "<div class=\"word  \" >\n",
       "<div class=\"ara\">kút-xa </div>\n",
       "\n",
       "</div>\n",
       "<div class=\"word  \" >\n",
       "<div class=\"ara\">qṭála </div>\n",
       "\n",
       "</div>\n",
       "<div class=\"word  hl\" >\n",
       "<div class=\"ara\">ġðàðeˈ </div>\n",
       "\n",
       "</div>\n",
       "</div>\n",
       "<div class=\"prosa  \" >\n",
       "\n",
       "<div class=\"word  \" >\n",
       "<div class=\"ara\">ʾu-ʾə́xre </div>\n",
       "\n",
       "</div>\n",
       "<div class=\"word  \" >\n",
       "<div class=\"ara\">mkapòše.ˈ </div>\n",
       "\n",
       "</div>\n",
       "</div>\n",
       "</div>\n",
       "</div>"
      ],
      "text/plain": [
       "<IPython.core.display.HTML object>"
      ]
     },
     "metadata": {},
     "output_type": "display_data"
    },
    {
     "data": {
      "text/html": [
       "<p><b>result</b> <i>46</i></p>"
      ],
      "text/plain": [
       "<IPython.core.display.HTML object>"
      ]
     },
     "metadata": {},
     "output_type": "display_data"
    },
    {
     "data": {
      "text/html": [
       "<a href=\"https://github.com/CambridgeSemiticsLab/nena_corpus/blob/master/nena/0.01/Barwar/A Man Called Čuxo.nena\" title=\"see this passage in its source document\" sec=\"Barwar, A Man Called Čuxo, Ln. 16\">Barwar, A Man Called Čuxo, Ln. 16</a>\n",
       "<div class=\"outeritem\">\n",
       "<div class=\"macro  \" >\n",
       "\n",
       "<div class=\"prosa  \" >\n",
       "\n",
       "<div class=\"word  hl\" >\n",
       "<div class=\"ara\">ʾáyya </div>\n",
       "\n",
       "</div>\n",
       "<div class=\"word  \" >\n",
       "<div class=\"ara\">ʾàmriˈ </div>\n",
       "\n",
       "</div>\n",
       "</div>\n",
       "<div class=\"prosa  \" >\n",
       "\n",
       "<div class=\"word  \" >\n",
       "<div class=\"ara\">ʾáwwa </div>\n",
       "\n",
       "</div>\n",
       "<div class=\"word  \" >\n",
       "<div class=\"ara\">kálba </div>\n",
       "\n",
       "</div>\n",
       "<div class=\"word  \" >\n",
       "<div class=\"ara\">bərt-kàlbaˈ </div>\n",
       "\n",
       "</div>\n",
       "</div>\n",
       "<div class=\"prosa  \" >\n",
       "\n",
       "<div class=\"word  \" >\n",
       "<div class=\"ara\">má-widle </div>\n",
       "\n",
       "</div>\n",
       "<div class=\"word  \" >\n",
       "<div class=\"ara\">bíyən </div>\n",
       "\n",
       "</div>\n",
       "<div class=\"word  \" >\n",
       "<div class=\"ara\">Čùxo?ˈ </div>\n",
       "\n",
       "</div>\n",
       "</div>\n",
       "</div>\n",
       "</div>"
      ],
      "text/plain": [
       "<IPython.core.display.HTML object>"
      ]
     },
     "metadata": {},
     "output_type": "display_data"
    },
    {
     "data": {
      "text/html": [
       "<p><b>result</b> <i>47</i></p>"
      ],
      "text/plain": [
       "<IPython.core.display.HTML object>"
      ]
     },
     "metadata": {},
     "output_type": "display_data"
    },
    {
     "data": {
      "text/html": [
       "<a href=\"https://github.com/CambridgeSemiticsLab/nena_corpus/blob/master/nena/0.01/Barwar/A Man Called Čuxo.nena\" title=\"see this passage in its source document\" sec=\"Barwar, A Man Called Čuxo, Ln. 16\">Barwar, A Man Called Čuxo, Ln. 16</a>\n",
       "<div class=\"outeritem\">\n",
       "<div class=\"macro  \" >\n",
       "\n",
       "<div class=\"prosa  \" >\n",
       "\n",
       "<div class=\"word  \" >\n",
       "<div class=\"ara\">ʾáyya </div>\n",
       "\n",
       "</div>\n",
       "<div class=\"word  \" >\n",
       "<div class=\"ara\">ʾàmriˈ </div>\n",
       "\n",
       "</div>\n",
       "</div>\n",
       "<div class=\"prosa  \" >\n",
       "\n",
       "<div class=\"word  hl\" >\n",
       "<div class=\"ara\">ʾáwwa </div>\n",
       "\n",
       "</div>\n",
       "<div class=\"word  \" >\n",
       "<div class=\"ara\">kálba </div>\n",
       "\n",
       "</div>\n",
       "<div class=\"word  \" >\n",
       "<div class=\"ara\">bərt-kàlbaˈ </div>\n",
       "\n",
       "</div>\n",
       "</div>\n",
       "<div class=\"prosa  \" >\n",
       "\n",
       "<div class=\"word  \" >\n",
       "<div class=\"ara\">má-widle </div>\n",
       "\n",
       "</div>\n",
       "<div class=\"word  \" >\n",
       "<div class=\"ara\">bíyən </div>\n",
       "\n",
       "</div>\n",
       "<div class=\"word  \" >\n",
       "<div class=\"ara\">Čùxo?ˈ </div>\n",
       "\n",
       "</div>\n",
       "</div>\n",
       "</div>\n",
       "</div>"
      ],
      "text/plain": [
       "<IPython.core.display.HTML object>"
      ]
     },
     "metadata": {},
     "output_type": "display_data"
    },
    {
     "data": {
      "text/html": [
       "<p><b>result</b> <i>48</i></p>"
      ],
      "text/plain": [
       "<IPython.core.display.HTML object>"
      ]
     },
     "metadata": {},
     "output_type": "display_data"
    },
    {
     "data": {
      "text/html": [
       "<a href=\"https://github.com/CambridgeSemiticsLab/nena_corpus/blob/master/nena/0.01/Barwar/A Man Called Čuxo.nena\" title=\"see this passage in its source document\" sec=\"Barwar, A Man Called Čuxo, Ln. 16\">Barwar, A Man Called Čuxo, Ln. 16</a>\n",
       "<div class=\"outeritem\">\n",
       "<div class=\"macro  \" >\n",
       "\n",
       "<div class=\"prosa  \" >\n",
       "\n",
       "<div class=\"word  hl\" >\n",
       "<div class=\"ara\">ʾáyya </div>\n",
       "\n",
       "</div>\n",
       "<div class=\"word  \" >\n",
       "<div class=\"ara\">béna </div>\n",
       "\n",
       "</div>\n",
       "<div class=\"word  \" >\n",
       "<div class=\"ara\">ṱ-ásqəx </div>\n",
       "\n",
       "</div>\n",
       "<div class=\"word  \" >\n",
       "<div class=\"ara\">qaṭlə̀xle </div>\n",
       "\n",
       "</div>\n",
       "<div class=\"word  \" >\n",
       "<div class=\"ara\">Čúxo.ˈ </div>\n",
       "\n",
       "</div>\n",
       "</div>\n",
       "</div>\n",
       "</div>"
      ],
      "text/plain": [
       "<IPython.core.display.HTML object>"
      ]
     },
     "metadata": {},
     "output_type": "display_data"
    },
    {
     "data": {
      "text/html": [
       "<p><b>result</b> <i>49</i></p>"
      ],
      "text/plain": [
       "<IPython.core.display.HTML object>"
      ]
     },
     "metadata": {},
     "output_type": "display_data"
    },
    {
     "data": {
      "text/html": [
       "<a href=\"https://github.com/CambridgeSemiticsLab/nena_corpus/blob/master/nena/0.01/Barwar/A Man Called Čuxo.nena\" title=\"see this passage in its source document\" sec=\"Barwar, A Man Called Čuxo, Ln. 16\">Barwar, A Man Called Čuxo, Ln. 16</a>\n",
       "<div class=\"outeritem\">\n",
       "<div class=\"macro  \" >\n",
       "\n",
       "<div class=\"prosa  \" >\n",
       "\n",
       "<div class=\"word  \" >\n",
       "<div class=\"ara\">dax-ṱ-ile </div>\n",
       "\n",
       "</div>\n",
       "<div class=\"word  \" >\n",
       "<div class=\"ara\">xə́zyəlla </div>\n",
       "\n",
       "</div>\n",
       "<div class=\"word  \" >\n",
       "<div class=\"ara\">θàya,ˈ </div>\n",
       "\n",
       "</div>\n",
       "</div>\n",
       "<div class=\"prosa  \" >\n",
       "\n",
       "<div class=\"word  \" >\n",
       "<div class=\"ara\">hádəx </div>\n",
       "\n",
       "</div>\n",
       "<div class=\"word  \" >\n",
       "<div class=\"ara\">ṣràxa-wˈ </div>\n",
       "\n",
       "</div>\n",
       "</div>\n",
       "<div class=\"prosa  \" >\n",
       "\n",
       "<div class=\"word  \" >\n",
       "<div class=\"ara\">xumθàne,ˈ </div>\n",
       "\n",
       "</div>\n",
       "</div>\n",
       "<div class=\"prosa  \" >\n",
       "\n",
       "<div class=\"word  \" >\n",
       "<div class=\"ara\">Čúxo </div>\n",
       "\n",
       "</div>\n",
       "<div class=\"word  \" >\n",
       "<div class=\"ara\">rìqɛle,ˈ </div>\n",
       "\n",
       "</div>\n",
       "</div>\n",
       "<div class=\"prosa  \" >\n",
       "\n",
       "<div class=\"word  \" >\n",
       "<div class=\"ara\">plíṭɛle </div>\n",
       "\n",
       "</div>\n",
       "<div class=\"word  \" >\n",
       "<div class=\"ara\">gu-màθa,ˈ </div>\n",
       "\n",
       "</div>\n",
       "</div>\n",
       "<div class=\"prosa  \" >\n",
       "\n",
       "<div class=\"word  \" >\n",
       "<div class=\"ara\">ʾaw-ràqa-wˈ </div>\n",
       "\n",
       "</div>\n",
       "</div>\n",
       "<div class=\"prosa  \" >\n",
       "\n",
       "<div class=\"word  hl\" >\n",
       "<div class=\"ara\">ʾáni </div>\n",
       "\n",
       "</div>\n",
       "<div class=\"word  \" >\n",
       "<div class=\"ara\">bàθre.ˈ </div>\n",
       "\n",
       "</div>\n",
       "</div>\n",
       "</div>\n",
       "</div>"
      ],
      "text/plain": [
       "<IPython.core.display.HTML object>"
      ]
     },
     "metadata": {},
     "output_type": "display_data"
    },
    {
     "data": {
      "text/html": [
       "<p><b>result</b> <i>50</i></p>"
      ],
      "text/plain": [
       "<IPython.core.display.HTML object>"
      ]
     },
     "metadata": {},
     "output_type": "display_data"
    },
    {
     "data": {
      "text/html": [
       "<a href=\"https://github.com/CambridgeSemiticsLab/nena_corpus/blob/master/nena/0.01/Barwar/A Man Called Čuxo.nena\" title=\"see this passage in its source document\" sec=\"Barwar, A Man Called Čuxo, Ln. 18\">Barwar, A Man Called Čuxo, Ln. 18</a>\n",
       "<div class=\"outeritem\">\n",
       "<div class=\"macro  \" >\n",
       "\n",
       "<div class=\"prosa  \" >\n",
       "\n",
       "<div class=\"word  hl\" >\n",
       "<div class=\"ara\">ʾáni </div>\n",
       "\n",
       "</div>\n",
       "<div class=\"word  \" >\n",
       "<div class=\"ara\">b-xɛ́la </div>\n",
       "\n",
       "</div>\n",
       "<div class=\"word  \" >\n",
       "<div class=\"ara\">bắyi </div>\n",
       "\n",
       "</div>\n",
       "<div class=\"word  \" >\n",
       "<div class=\"ara\">mbarxíla </div>\n",
       "\n",
       "</div>\n",
       "<div class=\"word  \" >\n",
       "<div class=\"ara\">ʾə̀lli.ˈ </div>\n",
       "\n",
       "</div>\n",
       "</div>\n",
       "</div>\n",
       "</div>"
      ],
      "text/plain": [
       "<IPython.core.display.HTML object>"
      ]
     },
     "metadata": {},
     "output_type": "display_data"
    },
    {
     "data": {
      "text/html": [
       "<p><b>result</b> <i>51</i></p>"
      ],
      "text/plain": [
       "<IPython.core.display.HTML object>"
      ]
     },
     "metadata": {},
     "output_type": "display_data"
    },
    {
     "data": {
      "text/html": [
       "<a href=\"https://github.com/CambridgeSemiticsLab/nena_corpus/blob/master/nena/0.01/Barwar/A Man Called Čuxo.nena\" title=\"see this passage in its source document\" sec=\"Barwar, A Man Called Čuxo, Ln. 18\">Barwar, A Man Called Čuxo, Ln. 18</a>\n",
       "<div class=\"outeritem\">\n",
       "<div class=\"macro  \" >\n",
       "\n",
       "<div class=\"prosa  \" >\n",
       "\n",
       "<div class=\"word  \" >\n",
       "<div class=\"ara\">ʾu-si-múr </div>\n",
       "\n",
       "</div>\n",
       "<div class=\"word  \" >\n",
       "<div class=\"ara\">hèˈ </div>\n",
       "\n",
       "</div>\n",
       "</div>\n",
       "<div class=\"prosa  \" >\n",
       "\n",
       "<div class=\"word  \" >\n",
       "<div class=\"ara\">hèˈ </div>\n",
       "\n",
       "</div>\n",
       "</div>\n",
       "<div class=\"prosa  \" >\n",
       "\n",
       "<div class=\"word  hl\" >\n",
       "<div class=\"ara\">ʾána </div>\n",
       "\n",
       "</div>\n",
       "<div class=\"word  \" >\n",
       "<div class=\"ara\">gorə̀nna,ˈ </div>\n",
       "\n",
       "</div>\n",
       "</div>\n",
       "<div class=\"prosa  \" >\n",
       "\n",
       "<div class=\"word  \" >\n",
       "<div class=\"ara\">hèˈ </div>\n",
       "\n",
       "</div>\n",
       "</div>\n",
       "<div class=\"prosa  \" >\n",
       "\n",
       "<div class=\"word  \" >\n",
       "<div class=\"ara\">hè,ˈ </div>\n",
       "\n",
       "</div>\n",
       "</div>\n",
       "<div class=\"prosa  \" >\n",
       "\n",
       "<div class=\"word  \" >\n",
       "<div class=\"ara\">ràzi,ˈ </div>\n",
       "\n",
       "</div>\n",
       "</div>\n",
       "<div class=\"prosa  \" >\n",
       "\n",
       "<div class=\"word  \" >\n",
       "<div class=\"ara\">ràzi.ˈ </div>\n",
       "\n",
       "</div>\n",
       "</div>\n",
       "</div>\n",
       "</div>"
      ],
      "text/plain": [
       "<IPython.core.display.HTML object>"
      ]
     },
     "metadata": {},
     "output_type": "display_data"
    },
    {
     "data": {
      "text/html": [
       "<p><b>result</b> <i>52</i></p>"
      ],
      "text/plain": [
       "<IPython.core.display.HTML object>"
      ]
     },
     "metadata": {},
     "output_type": "display_data"
    },
    {
     "data": {
      "text/html": [
       "<a href=\"https://github.com/CambridgeSemiticsLab/nena_corpus/blob/master/nena/0.01/Barwar/A Man Called Čuxo.nena\" title=\"see this passage in its source document\" sec=\"Barwar, A Man Called Čuxo, Ln. 18\">Barwar, A Man Called Čuxo, Ln. 18</a>\n",
       "<div class=\"outeritem\">\n",
       "<div class=\"macro  \" >\n",
       "\n",
       "<div class=\"prosa  \" >\n",
       "\n",
       "<div class=\"word  hl\" >\n",
       "<div class=\"ara\">ʾáni </div>\n",
       "\n",
       "</div>\n",
       "<div class=\"word  \" >\n",
       "<div class=\"ara\">xášwi </div>\n",
       "\n",
       "</div>\n",
       "<div class=\"word  \" >\n",
       "<div class=\"ara\">ʾáti </div>\n",
       "\n",
       "</div>\n",
       "<div class=\"word  \" >\n",
       "<div class=\"ara\">ʾànən.ˈ </div>\n",
       "\n",
       "</div>\n",
       "</div>\n",
       "</div>\n",
       "</div>"
      ],
      "text/plain": [
       "<IPython.core.display.HTML object>"
      ]
     },
     "metadata": {},
     "output_type": "display_data"
    },
    {
     "data": {
      "text/html": [
       "<p><b>result</b> <i>53</i></p>"
      ],
      "text/plain": [
       "<IPython.core.display.HTML object>"
      ]
     },
     "metadata": {},
     "output_type": "display_data"
    },
    {
     "data": {
      "text/html": [
       "<a href=\"https://github.com/CambridgeSemiticsLab/nena_corpus/blob/master/nena/0.01/Barwar/A Man Called Čuxo.nena\" title=\"see this passage in its source document\" sec=\"Barwar, A Man Called Čuxo, Ln. 18\">Barwar, A Man Called Čuxo, Ln. 18</a>\n",
       "<div class=\"outeritem\">\n",
       "<div class=\"macro  \" >\n",
       "\n",
       "<div class=\"prosa  \" >\n",
       "\n",
       "<div class=\"word  \" >\n",
       "<div class=\"ara\">ʾáni </div>\n",
       "\n",
       "</div>\n",
       "<div class=\"word  \" >\n",
       "<div class=\"ara\">xášwi </div>\n",
       "\n",
       "</div>\n",
       "<div class=\"word  hl\" >\n",
       "<div class=\"ara\">ʾáti </div>\n",
       "\n",
       "</div>\n",
       "<div class=\"word  \" >\n",
       "<div class=\"ara\">ʾànən.ˈ </div>\n",
       "\n",
       "</div>\n",
       "</div>\n",
       "</div>\n",
       "</div>"
      ],
      "text/plain": [
       "<IPython.core.display.HTML object>"
      ]
     },
     "metadata": {},
     "output_type": "display_data"
    },
    {
     "data": {
      "text/html": [
       "<p><b>result</b> <i>54</i></p>"
      ],
      "text/plain": [
       "<IPython.core.display.HTML object>"
      ]
     },
     "metadata": {},
     "output_type": "display_data"
    },
    {
     "data": {
      "text/html": [
       "<a href=\"https://github.com/CambridgeSemiticsLab/nena_corpus/blob/master/nena/0.01/Barwar/A Man Called Čuxo.nena\" title=\"see this passage in its source document\" sec=\"Barwar, A Man Called Čuxo, Ln. 18\">Barwar, A Man Called Čuxo, Ln. 18</a>\n",
       "<div class=\"outeritem\">\n",
       "<div class=\"macro  \" >\n",
       "\n",
       "<div class=\"prosa  \" >\n",
       "\n",
       "<div class=\"word  hl\" >\n",
       "<div class=\"ara\">mur-ʾána </div>\n",
       "\n",
       "</div>\n",
       "<div class=\"word  \" >\n",
       "<div class=\"ara\">šə́mmi </div>\n",
       "\n",
       "</div>\n",
       "<div class=\"word  \" >\n",
       "<div class=\"ara\">Čùxole.ˈ </div>\n",
       "\n",
       "</div>\n",
       "</div>\n",
       "</div>\n",
       "</div>"
      ],
      "text/plain": [
       "<IPython.core.display.HTML object>"
      ]
     },
     "metadata": {},
     "output_type": "display_data"
    },
    {
     "data": {
      "text/html": [
       "<p><b>result</b> <i>55</i></p>"
      ],
      "text/plain": [
       "<IPython.core.display.HTML object>"
      ]
     },
     "metadata": {},
     "output_type": "display_data"
    },
    {
     "data": {
      "text/html": [
       "<a href=\"https://github.com/CambridgeSemiticsLab/nena_corpus/blob/master/nena/0.01/Barwar/A Man Called Čuxo.nena\" title=\"see this passage in its source document\" sec=\"Barwar, A Man Called Čuxo, Ln. 19\">Barwar, A Man Called Čuxo, Ln. 19</a>\n",
       "<div class=\"outeritem\">\n",
       "<div class=\"macro  \" >\n",
       "\n",
       "<div class=\"prosa  \" >\n",
       "\n",
       "<div class=\"word  hl\" >\n",
       "<div class=\"ara\">ʾawwá-ži </div>\n",
       "\n",
       "</div>\n",
       "<div class=\"word  \" >\n",
       "<div class=\"ara\">zìlɛle.ˈ </div>\n",
       "\n",
       "</div>\n",
       "</div>\n",
       "</div>\n",
       "</div>"
      ],
      "text/plain": [
       "<IPython.core.display.HTML object>"
      ]
     },
     "metadata": {},
     "output_type": "display_data"
    },
    {
     "data": {
      "text/html": [
       "<p><b>result</b> <i>56</i></p>"
      ],
      "text/plain": [
       "<IPython.core.display.HTML object>"
      ]
     },
     "metadata": {},
     "output_type": "display_data"
    },
    {
     "data": {
      "text/html": [
       "<a href=\"https://github.com/CambridgeSemiticsLab/nena_corpus/blob/master/nena/0.01/Barwar/A Man Called Čuxo.nena\" title=\"see this passage in its source document\" sec=\"Barwar, A Man Called Čuxo, Ln. 19\">Barwar, A Man Called Čuxo, Ln. 19</a>\n",
       "<div class=\"outeritem\">\n",
       "<div class=\"macro  \" >\n",
       "\n",
       "<div class=\"prosa  \" >\n",
       "\n",
       "<div class=\"word  hl\" >\n",
       "<div class=\"ara\">ʾɛ-kosíθa </div>\n",
       "\n",
       "</div>\n",
       "<div class=\"word  \" >\n",
       "<div class=\"ara\">múṣləlla </div>\n",
       "\n",
       "</div>\n",
       "<div class=\"word  \" >\n",
       "<div class=\"ara\">gu-ʾɛ́ne </div>\n",
       "\n",
       "</div>\n",
       "<div class=\"word  \" >\n",
       "<div class=\"ara\">díye </div>\n",
       "\n",
       "</div>\n",
       "<div class=\"word  \" >\n",
       "<div class=\"ara\">t-Čùxo.ˈ </div>\n",
       "\n",
       "</div>\n",
       "</div>\n",
       "</div>\n",
       "</div>"
      ],
      "text/plain": [
       "<IPython.core.display.HTML object>"
      ]
     },
     "metadata": {},
     "output_type": "display_data"
    },
    {
     "data": {
      "text/html": [
       "<p><b>result</b> <i>57</i></p>"
      ],
      "text/plain": [
       "<IPython.core.display.HTML object>"
      ]
     },
     "metadata": {},
     "output_type": "display_data"
    },
    {
     "data": {
      "text/html": [
       "<a href=\"https://github.com/CambridgeSemiticsLab/nena_corpus/blob/master/nena/0.01/Barwar/A Man Called Čuxo.nena\" title=\"see this passage in its source document\" sec=\"Barwar, A Man Called Čuxo, Ln. 20\">Barwar, A Man Called Čuxo, Ln. 20</a>\n",
       "<div class=\"outeritem\">\n",
       "<div class=\"macro  \" >\n",
       "\n",
       "<div class=\"prosa  \" >\n",
       "\n",
       "<div class=\"word  \" >\n",
       "<div class=\"ara\">yáʿni </div>\n",
       "\n",
       "</div>\n",
       "<div class=\"word  \" >\n",
       "<div class=\"ara\">hám-ʾən </div>\n",
       "\n",
       "</div>\n",
       "<div class=\"word  \" >\n",
       "<div class=\"ara\">wídle </div>\n",
       "\n",
       "</div>\n",
       "<div class=\"word  \" >\n",
       "<div class=\"ara\">hátxa </div>\n",
       "\n",
       "</div>\n",
       "<div class=\"word  \" >\n",
       "<div class=\"ara\">ʾàp-aw,ˈ </div>\n",
       "\n",
       "</div>\n",
       "</div>\n",
       "<div class=\"prosa  \" >\n",
       "\n",
       "<div class=\"word  \" >\n",
       "<div class=\"ara\">ʾáp </div>\n",
       "\n",
       "</div>\n",
       "<div class=\"word  hl\" >\n",
       "<div class=\"ara\">ʾaxni-xìləxwale </div>\n",
       "\n",
       "</div>\n",
       "<div class=\"word  \" >\n",
       "<div class=\"ara\">táwre </div>\n",
       "\n",
       "</div>\n",
       "<div class=\"word  \" >\n",
       "<div class=\"ara\">díye.ˈ </div>\n",
       "\n",
       "</div>\n",
       "</div>\n",
       "</div>\n",
       "</div>"
      ],
      "text/plain": [
       "<IPython.core.display.HTML object>"
      ]
     },
     "metadata": {},
     "output_type": "display_data"
    },
    {
     "data": {
      "text/html": [
       "<p><b>result</b> <i>58</i></p>"
      ],
      "text/plain": [
       "<IPython.core.display.HTML object>"
      ]
     },
     "metadata": {},
     "output_type": "display_data"
    },
    {
     "data": {
      "text/html": [
       "<a href=\"https://github.com/CambridgeSemiticsLab/nena_corpus/blob/master/nena/0.01/Barwar/A Man Called Čuxo.nena\" title=\"see this passage in its source document\" sec=\"Barwar, A Man Called Čuxo, Ln. 22\">Barwar, A Man Called Čuxo, Ln. 22</a>\n",
       "<div class=\"outeritem\">\n",
       "<div class=\"macro  \" >\n",
       "\n",
       "<div class=\"prosa  \" >\n",
       "\n",
       "<div class=\"word  \" >\n",
       "<div class=\"ara\">ʾína </div>\n",
       "\n",
       "</div>\n",
       "<div class=\"word  hl\" >\n",
       "<div class=\"ara\">ʾɛ́-duka </div>\n",
       "\n",
       "</div>\n",
       "<div class=\"word  \" >\n",
       "<div class=\"ara\">làṭṭe-wawa.ˈ </div>\n",
       "\n",
       "</div>\n",
       "</div>\n",
       "</div>\n",
       "</div>"
      ],
      "text/plain": [
       "<IPython.core.display.HTML object>"
      ]
     },
     "metadata": {},
     "output_type": "display_data"
    },
    {
     "data": {
      "text/html": [
       "<p><b>result</b> <i>59</i></p>"
      ],
      "text/plain": [
       "<IPython.core.display.HTML object>"
      ]
     },
     "metadata": {},
     "output_type": "display_data"
    },
    {
     "data": {
      "text/html": [
       "<a href=\"https://github.com/CambridgeSemiticsLab/nena_corpus/blob/master/nena/0.01/Barwar/A Man Called Čuxo.nena\" title=\"see this passage in its source document\" sec=\"Barwar, A Man Called Čuxo, Ln. 22\">Barwar, A Man Called Čuxo, Ln. 22</a>\n",
       "<div class=\"outeritem\">\n",
       "<div class=\"macro  \" >\n",
       "\n",
       "<div class=\"prosa  \" >\n",
       "\n",
       "<div class=\"word  \" >\n",
       "<div class=\"ara\">qəm-darɛ́tuli </div>\n",
       "\n",
       "</div>\n",
       "<div class=\"word  \" >\n",
       "<div class=\"ara\">tàma,ˈ </div>\n",
       "\n",
       "</div>\n",
       "</div>\n",
       "<div class=\"prosa  \" >\n",
       "\n",
       "<div class=\"word  \" >\n",
       "<div class=\"ara\">ʾáxči </div>\n",
       "\n",
       "</div>\n",
       "<div class=\"word  \" >\n",
       "<div class=\"ara\">muθéli </div>\n",
       "\n",
       "</div>\n",
       "<div class=\"word  hl\" >\n",
       "<div class=\"ara\">ʾànna.ˈ </div>\n",
       "\n",
       "</div>\n",
       "</div>\n",
       "</div>\n",
       "</div>"
      ],
      "text/plain": [
       "<IPython.core.display.HTML object>"
      ]
     },
     "metadata": {},
     "output_type": "display_data"
    },
    {
     "data": {
      "text/html": [
       "<p><b>result</b> <i>60</i></p>"
      ],
      "text/plain": [
       "<IPython.core.display.HTML object>"
      ]
     },
     "metadata": {},
     "output_type": "display_data"
    },
    {
     "data": {
      "text/html": [
       "<a href=\"https://github.com/CambridgeSemiticsLab/nena_corpus/blob/master/nena/0.01/Barwar/A Man Called Čuxo.nena\" title=\"see this passage in its source document\" sec=\"Barwar, A Man Called Čuxo, Ln. 23\">Barwar, A Man Called Čuxo, Ln. 23</a>\n",
       "<div class=\"outeritem\">\n",
       "<div class=\"macro  \" >\n",
       "\n",
       "<div class=\"prosa  \" >\n",
       "\n",
       "<div class=\"word  \" >\n",
       "<div class=\"ara\">ʾámər </div>\n",
       "\n",
       "</div>\n",
       "<div class=\"word  hl\" >\n",
       "<div class=\"ara\">ʾáwwa </div>\n",
       "\n",
       "</div>\n",
       "<div class=\"word  \" >\n",
       "<div class=\"ara\">Záwa </div>\n",
       "\n",
       "</div>\n",
       "<div class=\"word  \" >\n",
       "<div class=\"ara\">xzàyɛtule?ˈ </div>\n",
       "\n",
       "</div>\n",
       "</div>\n",
       "</div>\n",
       "</div>"
      ],
      "text/plain": [
       "<IPython.core.display.HTML object>"
      ]
     },
     "metadata": {},
     "output_type": "display_data"
    },
    {
     "data": {
      "text/html": [
       "<p><b>result</b> <i>61</i></p>"
      ],
      "text/plain": [
       "<IPython.core.display.HTML object>"
      ]
     },
     "metadata": {},
     "output_type": "display_data"
    },
    {
     "data": {
      "text/html": [
       "<a href=\"https://github.com/CambridgeSemiticsLab/nena_corpus/blob/master/nena/0.01/Barwar/A Man Called Čuxo.nena\" title=\"see this passage in its source document\" sec=\"Barwar, A Man Called Čuxo, Ln. 24\">Barwar, A Man Called Čuxo, Ln. 24</a>\n",
       "<div class=\"outeritem\">\n",
       "<div class=\"macro  \" >\n",
       "\n",
       "<div class=\"prosa  \" >\n",
       "\n",
       "<div class=\"word  \" >\n",
       "<div class=\"ara\">ʾə́θyɛle </div>\n",
       "\n",
       "</div>\n",
       "<div class=\"word  \" >\n",
       "<div class=\"ara\">xàʾaˈ </div>\n",
       "\n",
       "</div>\n",
       "</div>\n",
       "<div class=\"prosa  \" >\n",
       "\n",
       "<div class=\"word  \" >\n",
       "<div class=\"ara\">ʾàmərˈ </div>\n",
       "\n",
       "</div>\n",
       "</div>\n",
       "<div class=\"prosa  \" >\n",
       "\n",
       "<div class=\"word  \" >\n",
       "<div class=\"ara\">Čùxo,ˈ </div>\n",
       "\n",
       "</div>\n",
       "</div>\n",
       "<div class=\"prosa  \" >\n",
       "\n",
       "<div class=\"word  hl\" >\n",
       "<div class=\"ara\">ʾána </div>\n",
       "\n",
       "</div>\n",
       "<div class=\"word  \" >\n",
       "<div class=\"ara\">dríli </div>\n",
       "\n",
       "</div>\n",
       "<div class=\"word  \" >\n",
       "<div class=\"ara\">ða-dúka </div>\n",
       "\n",
       "</div>\n",
       "<div class=\"word  \" >\n",
       "<div class=\"ara\">ṱ-áwa </div>\n",
       "\n",
       "</div>\n",
       "<div class=\"word  \" >\n",
       "<div class=\"ara\">kòč̭e.ˈ </div>\n",
       "\n",
       "</div>\n",
       "</div>\n",
       "</div>\n",
       "</div>"
      ],
      "text/plain": [
       "<IPython.core.display.HTML object>"
      ]
     },
     "metadata": {},
     "output_type": "display_data"
    },
    {
     "data": {
      "text/html": [
       "<p><b>result</b> <i>62</i></p>"
      ],
      "text/plain": [
       "<IPython.core.display.HTML object>"
      ]
     },
     "metadata": {},
     "output_type": "display_data"
    },
    {
     "data": {
      "text/html": [
       "<a href=\"https://github.com/CambridgeSemiticsLab/nena_corpus/blob/master/nena/0.01/Barwar/A Tale of Two Kings.nena\" title=\"see this passage in its source document\" sec=\"Barwar, A Tale of Two Kings, Ln. 1\">Barwar, A Tale of Two Kings, Ln. 1</a>\n",
       "<div class=\"outeritem\">\n",
       "<div class=\"macro  \" >\n",
       "\n",
       "<div class=\"prosa  \" >\n",
       "\n",
       "<div class=\"word  hl\" >\n",
       "<div class=\"ara\">ʾo-t-Bábəl </div>\n",
       "\n",
       "</div>\n",
       "<div class=\"word  \" >\n",
       "<div class=\"ara\">muxə́na </div>\n",
       "\n",
       "</div>\n",
       "<div class=\"word  \" >\n",
       "<div class=\"ara\">mən-xóne </div>\n",
       "\n",
       "</div>\n",
       "<div class=\"word  \" >\n",
       "<div class=\"ara\">díye </div>\n",
       "\n",
       "</div>\n",
       "<div class=\"word  \" >\n",
       "<div class=\"ara\">gu-Nìnwe.ˈ </div>\n",
       "\n",
       "</div>\n",
       "</div>\n",
       "</div>\n",
       "</div>"
      ],
      "text/plain": [
       "<IPython.core.display.HTML object>"
      ]
     },
     "metadata": {},
     "output_type": "display_data"
    },
    {
     "data": {
      "text/html": [
       "<p><b>result</b> <i>63</i></p>"
      ],
      "text/plain": [
       "<IPython.core.display.HTML object>"
      ]
     },
     "metadata": {},
     "output_type": "display_data"
    },
    {
     "data": {
      "text/html": [
       "<a href=\"https://github.com/CambridgeSemiticsLab/nena_corpus/blob/master/nena/0.01/Barwar/A Tale of Two Kings.nena\" title=\"see this passage in its source document\" sec=\"Barwar, A Tale of Two Kings, Ln. 2\">Barwar, A Tale of Two Kings, Ln. 2</a>\n",
       "<div class=\"outeritem\">\n",
       "<div class=\"macro  \" >\n",
       "\n",
       "<div class=\"prosa  \" >\n",
       "\n",
       "<div class=\"word  hl\" >\n",
       "<div class=\"ara\">ʾáwwa </div>\n",
       "\n",
       "</div>\n",
       "<div class=\"word  \" >\n",
       "<div class=\"ara\">gáwṛa </div>\n",
       "\n",
       "</div>\n",
       "<div class=\"word  \" >\n",
       "<div class=\"ara\">díya </div>\n",
       "\n",
       "</div>\n",
       "<div class=\"word  \" >\n",
       "<div class=\"ara\">síqɛle </div>\n",
       "\n",
       "</div>\n",
       "<div class=\"word  \" >\n",
       "<div class=\"ara\">l-Nìnwe,ˈ </div>\n",
       "\n",
       "</div>\n",
       "</div>\n",
       "<div class=\"prosa  \" >\n",
       "\n",
       "<div class=\"word  \" >\n",
       "<div class=\"ara\">díṛa </div>\n",
       "\n",
       "</div>\n",
       "<div class=\"word  \" >\n",
       "<div class=\"ara\">ʾə̀θyɛle.ˈ </div>\n",
       "\n",
       "</div>\n",
       "</div>\n",
       "</div>\n",
       "</div>"
      ],
      "text/plain": [
       "<IPython.core.display.HTML object>"
      ]
     },
     "metadata": {},
     "output_type": "display_data"
    },
    {
     "data": {
      "text/html": [
       "<p><b>result</b> <i>64</i></p>"
      ],
      "text/plain": [
       "<IPython.core.display.HTML object>"
      ]
     },
     "metadata": {},
     "output_type": "display_data"
    },
    {
     "data": {
      "text/html": [
       "<a href=\"https://github.com/CambridgeSemiticsLab/nena_corpus/blob/master/nena/0.01/Barwar/A Tale of Two Kings.nena\" title=\"see this passage in its source document\" sec=\"Barwar, A Tale of Two Kings, Ln. 3\">Barwar, A Tale of Two Kings, Ln. 3</a>\n",
       "<div class=\"outeritem\">\n",
       "<div class=\"macro  \" >\n",
       "\n",
       "<div class=\"prosa  \" >\n",
       "\n",
       "<div class=\"word  \" >\n",
       "<div class=\"ara\">bár </div>\n",
       "\n",
       "</div>\n",
       "<div class=\"word  \" >\n",
       "<div class=\"ara\">xačča-dàna,ˈ </div>\n",
       "\n",
       "</div>\n",
       "</div>\n",
       "<div class=\"prosa  \" >\n",
       "\n",
       "<div class=\"word  \" >\n",
       "<div class=\"ara\">bár </div>\n",
       "\n",
       "</div>\n",
       "<div class=\"word  \" >\n",
       "<div class=\"ara\">xákma </div>\n",
       "\n",
       "</div>\n",
       "<div class=\"word  \" >\n",
       "<div class=\"ara\">šə̀nne,ˈ </div>\n",
       "\n",
       "</div>\n",
       "</div>\n",
       "<div class=\"prosa  \" >\n",
       "\n",
       "<div class=\"word  hl\" >\n",
       "<div class=\"ara\">ʾo-t-Nínwe </div>\n",
       "\n",
       "</div>\n",
       "<div class=\"word  \" >\n",
       "<div class=\"ara\">mə́re </div>\n",
       "\n",
       "</div>\n",
       "<div class=\"word  \" >\n",
       "<div class=\"ara\">ṣálən </div>\n",
       "\n",
       "</div>\n",
       "<div class=\"word  \" >\n",
       "<div class=\"ara\">ʾána </div>\n",
       "\n",
       "</div>\n",
       "<div class=\"word  \" >\n",
       "<div class=\"ara\">tápqən </div>\n",
       "\n",
       "</div>\n",
       "<div class=\"word  \" >\n",
       "<div class=\"ara\">b-xóni </div>\n",
       "\n",
       "</div>\n",
       "<div class=\"word  \" >\n",
       "<div class=\"ara\">gu-Bàbəl.ˈ </div>\n",
       "\n",
       "</div>\n",
       "</div>\n",
       "</div>\n",
       "</div>"
      ],
      "text/plain": [
       "<IPython.core.display.HTML object>"
      ]
     },
     "metadata": {},
     "output_type": "display_data"
    },
    {
     "data": {
      "text/html": [
       "<p><b>result</b> <i>65</i></p>"
      ],
      "text/plain": [
       "<IPython.core.display.HTML object>"
      ]
     },
     "metadata": {},
     "output_type": "display_data"
    },
    {
     "data": {
      "text/html": [
       "<a href=\"https://github.com/CambridgeSemiticsLab/nena_corpus/blob/master/nena/0.01/Barwar/A Tale of Two Kings.nena\" title=\"see this passage in its source document\" sec=\"Barwar, A Tale of Two Kings, Ln. 3\">Barwar, A Tale of Two Kings, Ln. 3</a>\n",
       "<div class=\"outeritem\">\n",
       "<div class=\"macro  \" >\n",
       "\n",
       "<div class=\"prosa  \" >\n",
       "\n",
       "<div class=\"word  \" >\n",
       "<div class=\"ara\">bár </div>\n",
       "\n",
       "</div>\n",
       "<div class=\"word  \" >\n",
       "<div class=\"ara\">xačča-dàna,ˈ </div>\n",
       "\n",
       "</div>\n",
       "</div>\n",
       "<div class=\"prosa  \" >\n",
       "\n",
       "<div class=\"word  \" >\n",
       "<div class=\"ara\">bár </div>\n",
       "\n",
       "</div>\n",
       "<div class=\"word  \" >\n",
       "<div class=\"ara\">xákma </div>\n",
       "\n",
       "</div>\n",
       "<div class=\"word  \" >\n",
       "<div class=\"ara\">šə̀nne,ˈ </div>\n",
       "\n",
       "</div>\n",
       "</div>\n",
       "<div class=\"prosa  \" >\n",
       "\n",
       "<div class=\"word  \" >\n",
       "<div class=\"ara\">ʾo-t-Nínwe </div>\n",
       "\n",
       "</div>\n",
       "<div class=\"word  \" >\n",
       "<div class=\"ara\">mə́re </div>\n",
       "\n",
       "</div>\n",
       "<div class=\"word  \" >\n",
       "<div class=\"ara\">ṣálən </div>\n",
       "\n",
       "</div>\n",
       "<div class=\"word  hl\" >\n",
       "<div class=\"ara\">ʾána </div>\n",
       "\n",
       "</div>\n",
       "<div class=\"word  \" >\n",
       "<div class=\"ara\">tápqən </div>\n",
       "\n",
       "</div>\n",
       "<div class=\"word  \" >\n",
       "<div class=\"ara\">b-xóni </div>\n",
       "\n",
       "</div>\n",
       "<div class=\"word  \" >\n",
       "<div class=\"ara\">gu-Bàbəl.ˈ </div>\n",
       "\n",
       "</div>\n",
       "</div>\n",
       "</div>\n",
       "</div>"
      ],
      "text/plain": [
       "<IPython.core.display.HTML object>"
      ]
     },
     "metadata": {},
     "output_type": "display_data"
    },
    {
     "data": {
      "text/html": [
       "<p><b>result</b> <i>66</i></p>"
      ],
      "text/plain": [
       "<IPython.core.display.HTML object>"
      ]
     },
     "metadata": {},
     "output_type": "display_data"
    },
    {
     "data": {
      "text/html": [
       "<a href=\"https://github.com/CambridgeSemiticsLab/nena_corpus/blob/master/nena/0.01/Barwar/A Tale of Two Kings.nena\" title=\"see this passage in its source document\" sec=\"Barwar, A Tale of Two Kings, Ln. 3\">Barwar, A Tale of Two Kings, Ln. 3</a>\n",
       "<div class=\"outeritem\">\n",
       "<div class=\"macro  \" >\n",
       "\n",
       "<div class=\"prosa  \" >\n",
       "\n",
       "<div class=\"word  \" >\n",
       "<div class=\"ara\">xóne </div>\n",
       "\n",
       "</div>\n",
       "<div class=\"word  \" >\n",
       "<div class=\"ara\">díye </div>\n",
       "\n",
       "</div>\n",
       "<div class=\"word  hl\" >\n",
       "<div class=\"ara\">ʾo-t-Nìnweˈ </div>\n",
       "\n",
       "</div>\n",
       "</div>\n",
       "<div class=\"prosa  \" >\n",
       "\n",
       "<div class=\"word  \" >\n",
       "<div class=\"ara\">mə́re </div>\n",
       "\n",
       "</div>\n",
       "<div class=\"word  \" >\n",
       "<div class=\"ara\">xóni </div>\n",
       "\n",
       "</div>\n",
       "<div class=\"word  \" >\n",
       "<div class=\"ara\">ʾána </div>\n",
       "\n",
       "</div>\n",
       "<div class=\"word  \" >\n",
       "<div class=\"ara\">hon-kčìxa.ˈ </div>\n",
       "\n",
       "</div>\n",
       "</div>\n",
       "</div>\n",
       "</div>"
      ],
      "text/plain": [
       "<IPython.core.display.HTML object>"
      ]
     },
     "metadata": {},
     "output_type": "display_data"
    },
    {
     "data": {
      "text/html": [
       "<p><b>result</b> <i>67</i></p>"
      ],
      "text/plain": [
       "<IPython.core.display.HTML object>"
      ]
     },
     "metadata": {},
     "output_type": "display_data"
    },
    {
     "data": {
      "text/html": [
       "<a href=\"https://github.com/CambridgeSemiticsLab/nena_corpus/blob/master/nena/0.01/Barwar/A Tale of Two Kings.nena\" title=\"see this passage in its source document\" sec=\"Barwar, A Tale of Two Kings, Ln. 3\">Barwar, A Tale of Two Kings, Ln. 3</a>\n",
       "<div class=\"outeritem\">\n",
       "<div class=\"macro  \" >\n",
       "\n",
       "<div class=\"prosa  \" >\n",
       "\n",
       "<div class=\"word  \" >\n",
       "<div class=\"ara\">xóne </div>\n",
       "\n",
       "</div>\n",
       "<div class=\"word  \" >\n",
       "<div class=\"ara\">díye </div>\n",
       "\n",
       "</div>\n",
       "<div class=\"word  \" >\n",
       "<div class=\"ara\">ʾo-t-Nìnweˈ </div>\n",
       "\n",
       "</div>\n",
       "</div>\n",
       "<div class=\"prosa  \" >\n",
       "\n",
       "<div class=\"word  \" >\n",
       "<div class=\"ara\">mə́re </div>\n",
       "\n",
       "</div>\n",
       "<div class=\"word  \" >\n",
       "<div class=\"ara\">xóni </div>\n",
       "\n",
       "</div>\n",
       "<div class=\"word  hl\" >\n",
       "<div class=\"ara\">ʾána </div>\n",
       "\n",
       "</div>\n",
       "<div class=\"word  \" >\n",
       "<div class=\"ara\">hon-kčìxa.ˈ </div>\n",
       "\n",
       "</div>\n",
       "</div>\n",
       "</div>\n",
       "</div>"
      ],
      "text/plain": [
       "<IPython.core.display.HTML object>"
      ]
     },
     "metadata": {},
     "output_type": "display_data"
    },
    {
     "data": {
      "text/html": [
       "<p><b>result</b> <i>68</i></p>"
      ],
      "text/plain": [
       "<IPython.core.display.HTML object>"
      ]
     },
     "metadata": {},
     "output_type": "display_data"
    },
    {
     "data": {
      "text/html": [
       "<a href=\"https://github.com/CambridgeSemiticsLab/nena_corpus/blob/master/nena/0.01/Barwar/A Tale of Two Kings.nena\" title=\"see this passage in its source document\" sec=\"Barwar, A Tale of Two Kings, Ln. 4\">Barwar, A Tale of Two Kings, Ln. 4</a>\n",
       "<div class=\"outeritem\">\n",
       "<div class=\"macro  \" >\n",
       "\n",
       "<div class=\"prosa  \" >\n",
       "\n",
       "<div class=\"word  hl\" >\n",
       "<div class=\"ara\">ʾánna </div>\n",
       "\n",
       "</div>\n",
       "<div class=\"word  \" >\n",
       "<div class=\"ara\">xène,ˈ </div>\n",
       "\n",
       "</div>\n",
       "</div>\n",
       "<div class=\"prosa  \" >\n",
       "\n",
       "<div class=\"word  \" >\n",
       "<div class=\"ara\">málka </div>\n",
       "\n",
       "</div>\n",
       "<div class=\"word  \" >\n",
       "<div class=\"ara\">rhìwa </div>\n",
       "\n",
       "</div>\n",
       "<div class=\"word  \" >\n",
       "<div class=\"ara\">xábra </div>\n",
       "\n",
       "</div>\n",
       "<div class=\"word  \" >\n",
       "<div class=\"ara\">ṱ-ázi </div>\n",
       "\n",
       "</div>\n",
       "<div class=\"word  \" >\n",
       "<div class=\"ara\">ṣɛ́da,ˈ </div>\n",
       "\n",
       "</div>\n",
       "</div>\n",
       "<div class=\"prosa  \" >\n",
       "\n",
       "<div class=\"word  \" >\n",
       "<div class=\"ara\">qíme </div>\n",
       "\n",
       "</div>\n",
       "<div class=\"word  \" >\n",
       "<div class=\"ara\">plíṭe </div>\n",
       "\n",
       "</div>\n",
       "<div class=\"word  \" >\n",
       "<div class=\"ara\">zíle </div>\n",
       "\n",
       "</div>\n",
       "<div class=\"word  \" >\n",
       "<div class=\"ara\">xðàra,ˈ </div>\n",
       "\n",
       "</div>\n",
       "</div>\n",
       "<div class=\"prosa  \" >\n",
       "\n",
       "<div class=\"word  \" >\n",
       "<div class=\"ara\">ṣɛ̀da.ˈ </div>\n",
       "\n",
       "</div>\n",
       "</div>\n",
       "</div>\n",
       "</div>"
      ],
      "text/plain": [
       "<IPython.core.display.HTML object>"
      ]
     },
     "metadata": {},
     "output_type": "display_data"
    },
    {
     "data": {
      "text/html": [
       "<p><b>result</b> <i>69</i></p>"
      ],
      "text/plain": [
       "<IPython.core.display.HTML object>"
      ]
     },
     "metadata": {},
     "output_type": "display_data"
    },
    {
     "data": {
      "text/html": [
       "<a href=\"https://github.com/CambridgeSemiticsLab/nena_corpus/blob/master/nena/0.01/Barwar/A Tale of Two Kings.nena\" title=\"see this passage in its source document\" sec=\"Barwar, A Tale of Two Kings, Ln. 4\">Barwar, A Tale of Two Kings, Ln. 4</a>\n",
       "<div class=\"outeritem\">\n",
       "<div class=\"macro  \" >\n",
       "\n",
       "<div class=\"prosa  \" >\n",
       "\n",
       "<div class=\"word  \" >\n",
       "<div class=\"ara\">báxtət </div>\n",
       "\n",
       "</div>\n",
       "<div class=\"word  \" >\n",
       "<div class=\"ara\">màlka,ˈ </div>\n",
       "\n",
       "</div>\n",
       "</div>\n",
       "<div class=\"prosa  \" >\n",
       "\n",
       "<div class=\"word  \" >\n",
       "<div class=\"ara\">wídlaˈ </div>\n",
       "\n",
       "</div>\n",
       "</div>\n",
       "<div class=\"prosa  \" >\n",
       "\n",
       "<div class=\"word  hl\" >\n",
       "<div class=\"ara\">ʾo-mə́ndi </div>\n",
       "\n",
       "</div>\n",
       "<div class=\"word  \" >\n",
       "<div class=\"ara\">t-wáwa </div>\n",
       "\n",
       "</div>\n",
       "<div class=\"word  \" >\n",
       "<div class=\"ara\">wíðta </div>\n",
       "\n",
       "</div>\n",
       "<div class=\"word  \" >\n",
       "<div class=\"ara\">ʾó-yoma </div>\n",
       "\n",
       "</div>\n",
       "<div class=\"word  \" >\n",
       "<div class=\"ara\">xèna.ˈ </div>\n",
       "\n",
       "</div>\n",
       "</div>\n",
       "</div>\n",
       "</div>"
      ],
      "text/plain": [
       "<IPython.core.display.HTML object>"
      ]
     },
     "metadata": {},
     "output_type": "display_data"
    },
    {
     "data": {
      "text/html": [
       "<p><b>result</b> <i>70</i></p>"
      ],
      "text/plain": [
       "<IPython.core.display.HTML object>"
      ]
     },
     "metadata": {},
     "output_type": "display_data"
    },
    {
     "data": {
      "text/html": [
       "<a href=\"https://github.com/CambridgeSemiticsLab/nena_corpus/blob/master/nena/0.01/Barwar/A Tale of Two Kings.nena\" title=\"see this passage in its source document\" sec=\"Barwar, A Tale of Two Kings, Ln. 4\">Barwar, A Tale of Two Kings, Ln. 4</a>\n",
       "<div class=\"outeritem\">\n",
       "<div class=\"macro  \" >\n",
       "\n",
       "<div class=\"prosa  \" >\n",
       "\n",
       "<div class=\"word  \" >\n",
       "<div class=\"ara\">báxtət </div>\n",
       "\n",
       "</div>\n",
       "<div class=\"word  \" >\n",
       "<div class=\"ara\">màlka,ˈ </div>\n",
       "\n",
       "</div>\n",
       "</div>\n",
       "<div class=\"prosa  \" >\n",
       "\n",
       "<div class=\"word  \" >\n",
       "<div class=\"ara\">wídlaˈ </div>\n",
       "\n",
       "</div>\n",
       "</div>\n",
       "<div class=\"prosa  \" >\n",
       "\n",
       "<div class=\"word  \" >\n",
       "<div class=\"ara\">ʾo-mə́ndi </div>\n",
       "\n",
       "</div>\n",
       "<div class=\"word  \" >\n",
       "<div class=\"ara\">t-wáwa </div>\n",
       "\n",
       "</div>\n",
       "<div class=\"word  \" >\n",
       "<div class=\"ara\">wíðta </div>\n",
       "\n",
       "</div>\n",
       "<div class=\"word  hl\" >\n",
       "<div class=\"ara\">ʾó-yoma </div>\n",
       "\n",
       "</div>\n",
       "<div class=\"word  \" >\n",
       "<div class=\"ara\">xèna.ˈ </div>\n",
       "\n",
       "</div>\n",
       "</div>\n",
       "</div>\n",
       "</div>"
      ],
      "text/plain": [
       "<IPython.core.display.HTML object>"
      ]
     },
     "metadata": {},
     "output_type": "display_data"
    },
    {
     "data": {
      "text/html": [
       "<p><b>result</b> <i>71</i></p>"
      ],
      "text/plain": [
       "<IPython.core.display.HTML object>"
      ]
     },
     "metadata": {},
     "output_type": "display_data"
    },
    {
     "data": {
      "text/html": [
       "<a href=\"https://github.com/CambridgeSemiticsLab/nena_corpus/blob/master/nena/0.01/Barwar/A Tale of Two Kings.nena\" title=\"see this passage in its source document\" sec=\"Barwar, A Tale of Two Kings, Ln. 5\">Barwar, A Tale of Two Kings, Ln. 5</a>\n",
       "<div class=\"outeritem\">\n",
       "<div class=\"macro  \" >\n",
       "\n",
       "<div class=\"prosa  \" >\n",
       "\n",
       "<div class=\"word  \" >\n",
       "<div class=\"ara\">xónət </div>\n",
       "\n",
       "</div>\n",
       "<div class=\"word  \" >\n",
       "<div class=\"ara\">málka </div>\n",
       "\n",
       "</div>\n",
       "<div class=\"word  \" >\n",
       "<div class=\"ara\">xzèle </div>\n",
       "\n",
       "</div>\n",
       "<div class=\"word  hl\" >\n",
       "<div class=\"ara\">ʾáwwa </div>\n",
       "\n",
       "</div>\n",
       "<div class=\"word  \" >\n",
       "<div class=\"ara\">mə́ndi.ˈ </div>\n",
       "\n",
       "</div>\n",
       "</div>\n",
       "</div>\n",
       "</div>"
      ],
      "text/plain": [
       "<IPython.core.display.HTML object>"
      ]
     },
     "metadata": {},
     "output_type": "display_data"
    },
    {
     "data": {
      "text/html": [
       "<p><b>result</b> <i>72</i></p>"
      ],
      "text/plain": [
       "<IPython.core.display.HTML object>"
      ]
     },
     "metadata": {},
     "output_type": "display_data"
    },
    {
     "data": {
      "text/html": [
       "<a href=\"https://github.com/CambridgeSemiticsLab/nena_corpus/blob/master/nena/0.01/Barwar/A Tale of Two Kings.nena\" title=\"see this passage in its source document\" sec=\"Barwar, A Tale of Two Kings, Ln. 5\">Barwar, A Tale of Two Kings, Ln. 5</a>\n",
       "<div class=\"outeritem\">\n",
       "<div class=\"macro  \" >\n",
       "\n",
       "<div class=\"prosa  \" >\n",
       "\n",
       "<div class=\"word  hl\" >\n",
       "<div class=\"ara\">ʾánna </div>\n",
       "\n",
       "</div>\n",
       "<div class=\"word  \" >\n",
       "<div class=\"ara\">lɛ̀wa </div>\n",
       "\n",
       "</div>\n",
       "<div class=\"word  \" >\n",
       "<div class=\"ara\">xzáyəlle.ˈ </div>\n",
       "\n",
       "</div>\n",
       "</div>\n",
       "</div>\n",
       "</div>"
      ],
      "text/plain": [
       "<IPython.core.display.HTML object>"
      ]
     },
     "metadata": {},
     "output_type": "display_data"
    },
    {
     "data": {
      "text/html": [
       "<p><b>result</b> <i>73</i></p>"
      ],
      "text/plain": [
       "<IPython.core.display.HTML object>"
      ]
     },
     "metadata": {},
     "output_type": "display_data"
    },
    {
     "data": {
      "text/html": [
       "<a href=\"https://github.com/CambridgeSemiticsLab/nena_corpus/blob/master/nena/0.01/Barwar/A Tale of Two Kings.nena\" title=\"see this passage in its source document\" sec=\"Barwar, A Tale of Two Kings, Ln. 5\">Barwar, A Tale of Two Kings, Ln. 5</a>\n",
       "<div class=\"outeritem\">\n",
       "<div class=\"macro  \" >\n",
       "\n",
       "<div class=\"prosa  \" >\n",
       "\n",
       "<div class=\"word  \" >\n",
       "<div class=\"ara\">tíwa </div>\n",
       "\n",
       "</div>\n",
       "<div class=\"word  \" >\n",
       "<div class=\"ara\">xa-dùkθa,ˈ </div>\n",
       "\n",
       "</div>\n",
       "</div>\n",
       "<div class=\"prosa  \" >\n",
       "\n",
       "<div class=\"word  hl\" >\n",
       "<div class=\"ara\">ʾáwwa </div>\n",
       "\n",
       "</div>\n",
       "<div class=\"word  \" >\n",
       "<div class=\"ara\">xzàyəlla,ˈ </div>\n",
       "\n",
       "</div>\n",
       "</div>\n",
       "<div class=\"prosa  \" >\n",
       "\n",
       "<div class=\"word  \" >\n",
       "<div class=\"ara\">ʾánna </div>\n",
       "\n",
       "</div>\n",
       "<div class=\"word  \" >\n",
       "<div class=\"ara\">lɛ̀wa </div>\n",
       "\n",
       "</div>\n",
       "<div class=\"word  \" >\n",
       "<div class=\"ara\">xzáyəlle.ˈ </div>\n",
       "\n",
       "</div>\n",
       "</div>\n",
       "</div>\n",
       "</div>"
      ],
      "text/plain": [
       "<IPython.core.display.HTML object>"
      ]
     },
     "metadata": {},
     "output_type": "display_data"
    },
    {
     "data": {
      "text/html": [
       "<p><b>result</b> <i>74</i></p>"
      ],
      "text/plain": [
       "<IPython.core.display.HTML object>"
      ]
     },
     "metadata": {},
     "output_type": "display_data"
    },
    {
     "data": {
      "text/html": [
       "<a href=\"https://github.com/CambridgeSemiticsLab/nena_corpus/blob/master/nena/0.01/Barwar/A Tale of Two Kings.nena\" title=\"see this passage in its source document\" sec=\"Barwar, A Tale of Two Kings, Ln. 5\">Barwar, A Tale of Two Kings, Ln. 5</a>\n",
       "<div class=\"outeritem\">\n",
       "<div class=\"macro  \" >\n",
       "\n",
       "<div class=\"prosa  \" >\n",
       "\n",
       "<div class=\"word  \" >\n",
       "<div class=\"ara\">tíwa </div>\n",
       "\n",
       "</div>\n",
       "<div class=\"word  \" >\n",
       "<div class=\"ara\">xa-dùkθa,ˈ </div>\n",
       "\n",
       "</div>\n",
       "</div>\n",
       "<div class=\"prosa  \" >\n",
       "\n",
       "<div class=\"word  \" >\n",
       "<div class=\"ara\">ʾáwwa </div>\n",
       "\n",
       "</div>\n",
       "<div class=\"word  \" >\n",
       "<div class=\"ara\">xzàyəlla,ˈ </div>\n",
       "\n",
       "</div>\n",
       "</div>\n",
       "<div class=\"prosa  \" >\n",
       "\n",
       "<div class=\"word  hl\" >\n",
       "<div class=\"ara\">ʾánna </div>\n",
       "\n",
       "</div>\n",
       "<div class=\"word  \" >\n",
       "<div class=\"ara\">lɛ̀wa </div>\n",
       "\n",
       "</div>\n",
       "<div class=\"word  \" >\n",
       "<div class=\"ara\">xzáyəlle.ˈ </div>\n",
       "\n",
       "</div>\n",
       "</div>\n",
       "</div>\n",
       "</div>"
      ],
      "text/plain": [
       "<IPython.core.display.HTML object>"
      ]
     },
     "metadata": {},
     "output_type": "display_data"
    },
    {
     "data": {
      "text/html": [
       "<p><b>result</b> <i>75</i></p>"
      ],
      "text/plain": [
       "<IPython.core.display.HTML object>"
      ]
     },
     "metadata": {},
     "output_type": "display_data"
    },
    {
     "data": {
      "text/html": [
       "<a href=\"https://github.com/CambridgeSemiticsLab/nena_corpus/blob/master/nena/0.01/Barwar/A Tale of Two Kings.nena\" title=\"see this passage in its source document\" sec=\"Barwar, A Tale of Two Kings, Ln. 5\">Barwar, A Tale of Two Kings, Ln. 5</a>\n",
       "<div class=\"outeritem\">\n",
       "<div class=\"macro  \" >\n",
       "\n",
       "<div class=\"prosa  \" >\n",
       "\n",
       "<div class=\"word  \" >\n",
       "<div class=\"ara\">xóne </div>\n",
       "\n",
       "</div>\n",
       "<div class=\"word  \" >\n",
       "<div class=\"ara\">díye </div>\n",
       "\n",
       "</div>\n",
       "<div class=\"word  \" >\n",
       "<div class=\"ara\">θèle,ˈ </div>\n",
       "\n",
       "</div>\n",
       "</div>\n",
       "<div class=\"prosa  \" >\n",
       "\n",
       "<div class=\"word  \" >\n",
       "<div class=\"ara\">mə́re </div>\n",
       "\n",
       "</div>\n",
       "<div class=\"word  \" >\n",
       "<div class=\"ara\">xòniˈ </div>\n",
       "\n",
       "</div>\n",
       "</div>\n",
       "<div class=\"prosa  \" >\n",
       "\n",
       "<div class=\"word  hl\" >\n",
       "<div class=\"ara\">ʾána </div>\n",
       "\n",
       "</div>\n",
       "<div class=\"word  \" >\n",
       "<div class=\"ara\">xašwə́nwa </div>\n",
       "\n",
       "</div>\n",
       "<div class=\"word  \" >\n",
       "<div class=\"ara\">har-ʾàna </div>\n",
       "\n",
       "</div>\n",
       "<div class=\"word  \" >\n",
       "<div class=\"ara\">hon-zlíma,ˈ </div>\n",
       "\n",
       "</div>\n",
       "</div>\n",
       "<div class=\"prosa  \" >\n",
       "\n",
       "<div class=\"word  \" >\n",
       "<div class=\"ara\">ʾáti </div>\n",
       "\n",
       "</div>\n",
       "<div class=\"word  \" >\n",
       "<div class=\"ara\">bìš-zlima </div>\n",
       "\n",
       "</div>\n",
       "<div class=\"word  \" >\n",
       "<div class=\"ara\">mə́nni!ˈ </div>\n",
       "\n",
       "</div>\n",
       "</div>\n",
       "</div>\n",
       "</div>"
      ],
      "text/plain": [
       "<IPython.core.display.HTML object>"
      ]
     },
     "metadata": {},
     "output_type": "display_data"
    },
    {
     "data": {
      "text/html": [
       "<p><b>result</b> <i>76</i></p>"
      ],
      "text/plain": [
       "<IPython.core.display.HTML object>"
      ]
     },
     "metadata": {},
     "output_type": "display_data"
    },
    {
     "data": {
      "text/html": [
       "<a href=\"https://github.com/CambridgeSemiticsLab/nena_corpus/blob/master/nena/0.01/Barwar/A Tale of Two Kings.nena\" title=\"see this passage in its source document\" sec=\"Barwar, A Tale of Two Kings, Ln. 5\">Barwar, A Tale of Two Kings, Ln. 5</a>\n",
       "<div class=\"outeritem\">\n",
       "<div class=\"macro  \" >\n",
       "\n",
       "<div class=\"prosa  \" >\n",
       "\n",
       "<div class=\"word  \" >\n",
       "<div class=\"ara\">xóne </div>\n",
       "\n",
       "</div>\n",
       "<div class=\"word  \" >\n",
       "<div class=\"ara\">díye </div>\n",
       "\n",
       "</div>\n",
       "<div class=\"word  \" >\n",
       "<div class=\"ara\">θèle,ˈ </div>\n",
       "\n",
       "</div>\n",
       "</div>\n",
       "<div class=\"prosa  \" >\n",
       "\n",
       "<div class=\"word  \" >\n",
       "<div class=\"ara\">mə́re </div>\n",
       "\n",
       "</div>\n",
       "<div class=\"word  \" >\n",
       "<div class=\"ara\">xòniˈ </div>\n",
       "\n",
       "</div>\n",
       "</div>\n",
       "<div class=\"prosa  \" >\n",
       "\n",
       "<div class=\"word  \" >\n",
       "<div class=\"ara\">ʾána </div>\n",
       "\n",
       "</div>\n",
       "<div class=\"word  \" >\n",
       "<div class=\"ara\">xašwə́nwa </div>\n",
       "\n",
       "</div>\n",
       "<div class=\"word  hl\" >\n",
       "<div class=\"ara\">har-ʾàna </div>\n",
       "\n",
       "</div>\n",
       "<div class=\"word  \" >\n",
       "<div class=\"ara\">hon-zlíma,ˈ </div>\n",
       "\n",
       "</div>\n",
       "</div>\n",
       "<div class=\"prosa  \" >\n",
       "\n",
       "<div class=\"word  \" >\n",
       "<div class=\"ara\">ʾáti </div>\n",
       "\n",
       "</div>\n",
       "<div class=\"word  \" >\n",
       "<div class=\"ara\">bìš-zlima </div>\n",
       "\n",
       "</div>\n",
       "<div class=\"word  \" >\n",
       "<div class=\"ara\">mə́nni!ˈ </div>\n",
       "\n",
       "</div>\n",
       "</div>\n",
       "</div>\n",
       "</div>"
      ],
      "text/plain": [
       "<IPython.core.display.HTML object>"
      ]
     },
     "metadata": {},
     "output_type": "display_data"
    },
    {
     "data": {
      "text/html": [
       "<p><b>result</b> <i>77</i></p>"
      ],
      "text/plain": [
       "<IPython.core.display.HTML object>"
      ]
     },
     "metadata": {},
     "output_type": "display_data"
    },
    {
     "data": {
      "text/html": [
       "<a href=\"https://github.com/CambridgeSemiticsLab/nena_corpus/blob/master/nena/0.01/Barwar/A Tale of Two Kings.nena\" title=\"see this passage in its source document\" sec=\"Barwar, A Tale of Two Kings, Ln. 5\">Barwar, A Tale of Two Kings, Ln. 5</a>\n",
       "<div class=\"outeritem\">\n",
       "<div class=\"macro  \" >\n",
       "\n",
       "<div class=\"prosa  \" >\n",
       "\n",
       "<div class=\"word  \" >\n",
       "<div class=\"ara\">xóne </div>\n",
       "\n",
       "</div>\n",
       "<div class=\"word  \" >\n",
       "<div class=\"ara\">díye </div>\n",
       "\n",
       "</div>\n",
       "<div class=\"word  \" >\n",
       "<div class=\"ara\">θèle,ˈ </div>\n",
       "\n",
       "</div>\n",
       "</div>\n",
       "<div class=\"prosa  \" >\n",
       "\n",
       "<div class=\"word  \" >\n",
       "<div class=\"ara\">mə́re </div>\n",
       "\n",
       "</div>\n",
       "<div class=\"word  \" >\n",
       "<div class=\"ara\">xòniˈ </div>\n",
       "\n",
       "</div>\n",
       "</div>\n",
       "<div class=\"prosa  \" >\n",
       "\n",
       "<div class=\"word  \" >\n",
       "<div class=\"ara\">ʾána </div>\n",
       "\n",
       "</div>\n",
       "<div class=\"word  \" >\n",
       "<div class=\"ara\">xašwə́nwa </div>\n",
       "\n",
       "</div>\n",
       "<div class=\"word  \" >\n",
       "<div class=\"ara\">har-ʾàna </div>\n",
       "\n",
       "</div>\n",
       "<div class=\"word  \" >\n",
       "<div class=\"ara\">hon-zlíma,ˈ </div>\n",
       "\n",
       "</div>\n",
       "</div>\n",
       "<div class=\"prosa  \" >\n",
       "\n",
       "<div class=\"word  hl\" >\n",
       "<div class=\"ara\">ʾáti </div>\n",
       "\n",
       "</div>\n",
       "<div class=\"word  \" >\n",
       "<div class=\"ara\">bìš-zlima </div>\n",
       "\n",
       "</div>\n",
       "<div class=\"word  \" >\n",
       "<div class=\"ara\">mə́nni!ˈ </div>\n",
       "\n",
       "</div>\n",
       "</div>\n",
       "</div>\n",
       "</div>"
      ],
      "text/plain": [
       "<IPython.core.display.HTML object>"
      ]
     },
     "metadata": {},
     "output_type": "display_data"
    },
    {
     "data": {
      "text/html": [
       "<p><b>result</b> <i>78</i></p>"
      ],
      "text/plain": [
       "<IPython.core.display.HTML object>"
      ]
     },
     "metadata": {},
     "output_type": "display_data"
    },
    {
     "data": {
      "text/html": [
       "<a href=\"https://github.com/CambridgeSemiticsLab/nena_corpus/blob/master/nena/0.01/Barwar/A Tale of Two Kings.nena\" title=\"see this passage in its source document\" sec=\"Barwar, A Tale of Two Kings, Ln. 6\">Barwar, A Tale of Two Kings, Ln. 6</a>\n",
       "<div class=\"outeritem\">\n",
       "<div class=\"macro  \" >\n",
       "\n",
       "<div class=\"prosa  \" >\n",
       "\n",
       "<div class=\"word  \" >\n",
       "<div class=\"ara\">yómə </div>\n",
       "\n",
       "</div>\n",
       "<div class=\"word  \" >\n",
       "<div class=\"ara\">trèˈ </div>\n",
       "\n",
       "</div>\n",
       "</div>\n",
       "<div class=\"prosa  \" >\n",
       "\n",
       "<div class=\"word  \" >\n",
       "<div class=\"ara\">mə́re </div>\n",
       "\n",
       "</div>\n",
       "<div class=\"word  \" >\n",
       "<div class=\"ara\">xòniˈ </div>\n",
       "\n",
       "</div>\n",
       "</div>\n",
       "<div class=\"prosa  \" >\n",
       "\n",
       "<div class=\"word  \" >\n",
       "<div class=\"ara\">lan-mhaymòne,ˈ </div>\n",
       "\n",
       "</div>\n",
       "</div>\n",
       "<div class=\"prosa  \" >\n",
       "\n",
       "<div class=\"word  \" >\n",
       "<div class=\"ara\">ṭḷàθaˈ </div>\n",
       "\n",
       "</div>\n",
       "</div>\n",
       "<div class=\"prosa  \" >\n",
       "\n",
       "<div class=\"word  \" >\n",
       "<div class=\"ara\">mə́re </div>\n",
       "\n",
       "</div>\n",
       "<div class=\"word  \" >\n",
       "<div class=\"ara\">xá-ga </div>\n",
       "\n",
       "</div>\n",
       "<div class=\"word  \" >\n",
       "<div class=\"ara\">múr </div>\n",
       "\n",
       "</div>\n",
       "<div class=\"word  hl\" >\n",
       "<div class=\"ara\">ʾána </div>\n",
       "\n",
       "</div>\n",
       "<div class=\"word  \" >\n",
       "<div class=\"ara\">ṱ-ázən </div>\n",
       "\n",
       "</div>\n",
       "<div class=\"word  \" >\n",
       "<div class=\"ara\">ṣɛ̀daˈ </div>\n",
       "\n",
       "</div>\n",
       "</div>\n",
       "<div class=\"prosa  \" >\n",
       "\n",
       "<div class=\"word  \" >\n",
       "<div class=\"ara\">ʾu-b-ay- </div>\n",
       "\n",
       "</div>\n",
       "<div class=\"word  \" >\n",
       "<div class=\"ara\">góta </div>\n",
       "\n",
       "</div>\n",
       "<div class=\"word  \" >\n",
       "<div class=\"ara\">xéta </div>\n",
       "\n",
       "</div>\n",
       "<div class=\"word  \" >\n",
       "<div class=\"ara\">gnù </div>\n",
       "\n",
       "</div>\n",
       "<div class=\"word  \" >\n",
       "<div class=\"ara\">gánux.ˈ </div>\n",
       "\n",
       "</div>\n",
       "</div>\n",
       "</div>\n",
       "</div>"
      ],
      "text/plain": [
       "<IPython.core.display.HTML object>"
      ]
     },
     "metadata": {},
     "output_type": "display_data"
    },
    {
     "data": {
      "text/html": [
       "<p><b>result</b> <i>79</i></p>"
      ],
      "text/plain": [
       "<IPython.core.display.HTML object>"
      ]
     },
     "metadata": {},
     "output_type": "display_data"
    },
    {
     "data": {
      "text/html": [
       "<a href=\"https://github.com/CambridgeSemiticsLab/nena_corpus/blob/master/nena/0.01/Barwar/A Tale of Two Kings.nena\" title=\"see this passage in its source document\" sec=\"Barwar, A Tale of Two Kings, Ln. 7\">Barwar, A Tale of Two Kings, Ln. 7</a>\n",
       "<div class=\"outeritem\">\n",
       "<div class=\"macro  \" >\n",
       "\n",
       "<div class=\"prosa  \" >\n",
       "\n",
       "<div class=\"word  \" >\n",
       "<div class=\"ara\">yómə </div>\n",
       "\n",
       "</div>\n",
       "<div class=\"word  \" >\n",
       "<div class=\"ara\">ṭḷàθaˈ </div>\n",
       "\n",
       "</div>\n",
       "</div>\n",
       "<div class=\"prosa  \" >\n",
       "\n",
       "<div class=\"word  \" >\n",
       "<div class=\"ara\">márɛle </div>\n",
       "\n",
       "</div>\n",
       "<div class=\"word  \" >\n",
       "<div class=\"ara\">xóne </div>\n",
       "\n",
       "</div>\n",
       "<div class=\"word  \" >\n",
       "<div class=\"ara\">díye </div>\n",
       "\n",
       "</div>\n",
       "<div class=\"word  \" >\n",
       "<div class=\"ara\">xá-ga </div>\n",
       "\n",
       "</div>\n",
       "<div class=\"word  \" >\n",
       "<div class=\"ara\">xéta </div>\n",
       "\n",
       "</div>\n",
       "<div class=\"word  hl\" >\n",
       "<div class=\"ara\">ʾo-t-Bàbəlˈ </div>\n",
       "\n",
       "</div>\n",
       "</div>\n",
       "<div class=\"prosa  \" >\n",
       "\n",
       "<div class=\"word  \" >\n",
       "<div class=\"ara\">yáwəlle </div>\n",
       "\n",
       "</div>\n",
       "<div class=\"word  \" >\n",
       "<div class=\"ara\">xábra </div>\n",
       "\n",
       "</div>\n",
       "<div class=\"word  \" >\n",
       "<div class=\"ara\">ṭla-náše </div>\n",
       "\n",
       "</div>\n",
       "<div class=\"word  \" >\n",
       "<div class=\"ara\">dìyeˈ </div>\n",
       "\n",
       "</div>\n",
       "</div>\n",
       "<div class=\"prosa  \" >\n",
       "\n",
       "<div class=\"word  \" >\n",
       "<div class=\"ara\">mára </div>\n",
       "\n",
       "</div>\n",
       "<div class=\"word  \" >\n",
       "<div class=\"ara\">ṱ-ázəx </div>\n",
       "\n",
       "</div>\n",
       "<div class=\"word  \" >\n",
       "<div class=\"ara\">ṣɛ̀da.ˈ </div>\n",
       "\n",
       "</div>\n",
       "</div>\n",
       "</div>\n",
       "</div>"
      ],
      "text/plain": [
       "<IPython.core.display.HTML object>"
      ]
     },
     "metadata": {},
     "output_type": "display_data"
    },
    {
     "data": {
      "text/html": [
       "<p><b>result</b> <i>80</i></p>"
      ],
      "text/plain": [
       "<IPython.core.display.HTML object>"
      ]
     },
     "metadata": {},
     "output_type": "display_data"
    },
    {
     "data": {
      "text/html": [
       "<a href=\"https://github.com/CambridgeSemiticsLab/nena_corpus/blob/master/nena/0.01/Barwar/A Tale of Two Kings.nena\" title=\"see this passage in its source document\" sec=\"Barwar, A Tale of Two Kings, Ln. 7\">Barwar, A Tale of Two Kings, Ln. 7</a>\n",
       "<div class=\"outeritem\">\n",
       "<div class=\"macro  \" >\n",
       "\n",
       "<div class=\"prosa  \" >\n",
       "\n",
       "<div class=\"word  hl\" >\n",
       "<div class=\"ara\">ʾánna </div>\n",
       "\n",
       "</div>\n",
       "<div class=\"word  \" >\n",
       "<div class=\"ara\">plàṭɛla,ˈ </div>\n",
       "\n",
       "</div>\n",
       "</div>\n",
       "<div class=\"prosa  \" >\n",
       "\n",
       "<div class=\"word  \" >\n",
       "<div class=\"ara\">kúlla </div>\n",
       "\n",
       "</div>\n",
       "<div class=\"word  \" >\n",
       "<div class=\"ara\">zála </div>\n",
       "\n",
       "</div>\n",
       "<div class=\"word  \" >\n",
       "<div class=\"ara\">ṣɛ̀da,ˈ </div>\n",
       "\n",
       "</div>\n",
       "</div>\n",
       "<div class=\"prosa  \" >\n",
       "\n",
       "<div class=\"word  \" >\n",
       "<div class=\"ara\">m-a-góta </div>\n",
       "\n",
       "</div>\n",
       "<div class=\"word  \" >\n",
       "<div class=\"ara\">xéta </div>\n",
       "\n",
       "</div>\n",
       "<div class=\"word  \" >\n",
       "<div class=\"ara\">málka </div>\n",
       "\n",
       "</div>\n",
       "<div class=\"word  \" >\n",
       "<div class=\"ara\">gnàwəlla </div>\n",
       "\n",
       "</div>\n",
       "<div class=\"word  \" >\n",
       "<div class=\"ara\">gān-dìye.ˈ </div>\n",
       "\n",
       "</div>\n",
       "</div>\n",
       "</div>\n",
       "</div>"
      ],
      "text/plain": [
       "<IPython.core.display.HTML object>"
      ]
     },
     "metadata": {},
     "output_type": "display_data"
    },
    {
     "data": {
      "text/html": [
       "<p><b>result</b> <i>81</i></p>"
      ],
      "text/plain": [
       "<IPython.core.display.HTML object>"
      ]
     },
     "metadata": {},
     "output_type": "display_data"
    },
    {
     "data": {
      "text/html": [
       "<a href=\"https://github.com/CambridgeSemiticsLab/nena_corpus/blob/master/nena/0.01/Barwar/A Tale of Two Kings.nena\" title=\"see this passage in its source document\" sec=\"Barwar, A Tale of Two Kings, Ln. 8\">Barwar, A Tale of Two Kings, Ln. 8</a>\n",
       "<div class=\"outeritem\">\n",
       "<div class=\"macro  \" >\n",
       "\n",
       "<div class=\"prosa  \" >\n",
       "\n",
       "<div class=\"word  \" >\n",
       "<div class=\"ara\">ʾàyˈ </div>\n",
       "\n",
       "</div>\n",
       "</div>\n",
       "<div class=\"prosa  \" >\n",
       "\n",
       "<div class=\"word  \" >\n",
       "<div class=\"ara\">ʾu-xolamwàθaˈ </div>\n",
       "\n",
       "</div>\n",
       "</div>\n",
       "<div class=\"prosa  \" >\n",
       "\n",
       "<div class=\"word  \" >\n",
       "<div class=\"ara\">kúlla </div>\n",
       "\n",
       "</div>\n",
       "<div class=\"word  \" >\n",
       "<div class=\"ara\">rqáða </div>\n",
       "\n",
       "</div>\n",
       "<div class=\"word  hl\" >\n",
       "<div class=\"ara\">ġðáðe </div>\n",
       "\n",
       "</div>\n",
       "<div class=\"word  \" >\n",
       "<div class=\"ara\">zmàra,ˈ </div>\n",
       "\n",
       "</div>\n",
       "</div>\n",
       "<div class=\"prosa  \" >\n",
       "\n",
       "<div class=\"word  \" >\n",
       "<div class=\"ara\">mára </div>\n",
       "\n",
       "</div>\n",
       "<div class=\"word  \" >\n",
       "<div class=\"ara\">xa-ʿăbī́d </div>\n",
       "\n",
       "</div>\n",
       "<div class=\"word  \" >\n",
       "<div class=\"ara\">kòmaˈ </div>\n",
       "\n",
       "</div>\n",
       "</div>\n",
       "<div class=\"prosa  \" >\n",
       "\n",
       "<div class=\"word  \" >\n",
       "<div class=\"ara\">dmáxɛla </div>\n",
       "\n",
       "</div>\n",
       "<div class=\"word  \" >\n",
       "<div class=\"ara\">mə́nne </div>\n",
       "\n",
       "</div>\n",
       "<div class=\"word  \" >\n",
       "<div class=\"ara\">díye </div>\n",
       "\n",
       "</div>\n",
       "<div class=\"word  \" >\n",
       "<div class=\"ara\">ʾày.ˈ </div>\n",
       "\n",
       "</div>\n",
       "</div>\n",
       "</div>\n",
       "</div>"
      ],
      "text/plain": [
       "<IPython.core.display.HTML object>"
      ]
     },
     "metadata": {},
     "output_type": "display_data"
    },
    {
     "data": {
      "text/html": [
       "<p><b>result</b> <i>82</i></p>"
      ],
      "text/plain": [
       "<IPython.core.display.HTML object>"
      ]
     },
     "metadata": {},
     "output_type": "display_data"
    },
    {
     "data": {
      "text/html": [
       "<a href=\"https://github.com/CambridgeSemiticsLab/nena_corpus/blob/master/nena/0.01/Barwar/A Tale of Two Kings.nena\" title=\"see this passage in its source document\" sec=\"Barwar, A Tale of Two Kings, Ln. 8\">Barwar, A Tale of Two Kings, Ln. 8</a>\n",
       "<div class=\"outeritem\">\n",
       "<div class=\"macro  \" >\n",
       "\n",
       "<div class=\"prosa  \" >\n",
       "\n",
       "<div class=\"word  hl\" >\n",
       "<div class=\"ara\">ʾáwwa </div>\n",
       "\n",
       "</div>\n",
       "<div class=\"word  \" >\n",
       "<div class=\"ara\">xzàyəlla,ˈ </div>\n",
       "\n",
       "</div>\n",
       "</div>\n",
       "<div class=\"prosa  \" >\n",
       "\n",
       "<div class=\"word  \" >\n",
       "<div class=\"ara\">mə́re </div>\n",
       "\n",
       "</div>\n",
       "<div class=\"word  \" >\n",
       "<div class=\"ara\">xzélux </div>\n",
       "\n",
       "</div>\n",
       "<div class=\"word  \" >\n",
       "<div class=\"ara\">xòni?ˈ </div>\n",
       "\n",
       "</div>\n",
       "</div>\n",
       "</div>\n",
       "</div>"
      ],
      "text/plain": [
       "<IPython.core.display.HTML object>"
      ]
     },
     "metadata": {},
     "output_type": "display_data"
    },
    {
     "data": {
      "text/html": [
       "<p><b>result</b> <i>83</i></p>"
      ],
      "text/plain": [
       "<IPython.core.display.HTML object>"
      ]
     },
     "metadata": {},
     "output_type": "display_data"
    },
    {
     "data": {
      "text/html": [
       "<a href=\"https://github.com/CambridgeSemiticsLab/nena_corpus/blob/master/nena/0.01/Barwar/A Tale of Two Kings.nena\" title=\"see this passage in its source document\" sec=\"Barwar, A Tale of Two Kings, Ln. 8\">Barwar, A Tale of Two Kings, Ln. 8</a>\n",
       "<div class=\"outeritem\">\n",
       "<div class=\"macro  \" >\n",
       "\n",
       "<div class=\"prosa  \" >\n",
       "\n",
       "<div class=\"word  \" >\n",
       "<div class=\"ara\">t-là-ʾamrət </div>\n",
       "\n",
       "</div>\n",
       "<div class=\"word  hl\" >\n",
       "<div class=\"ara\">ʾána </div>\n",
       "\n",
       "</div>\n",
       "<div class=\"word  \" >\n",
       "<div class=\"ara\">wáðənˈ </div>\n",
       "\n",
       "</div>\n",
       "</div>\n",
       "<div class=\"prosa  \" >\n",
       "\n",
       "<div class=\"word  \" >\n",
       "<div class=\"ara\">be-baxtùθa </div>\n",
       "\n",
       "</div>\n",
       "<div class=\"word  \" >\n",
       "<div class=\"ara\">ʾə́llux.ˈ </div>\n",
       "\n",
       "</div>\n",
       "</div>\n",
       "</div>\n",
       "</div>"
      ],
      "text/plain": [
       "<IPython.core.display.HTML object>"
      ]
     },
     "metadata": {},
     "output_type": "display_data"
    },
    {
     "data": {
      "text/html": [
       "<p><b>result</b> <i>84</i></p>"
      ],
      "text/plain": [
       "<IPython.core.display.HTML object>"
      ]
     },
     "metadata": {},
     "output_type": "display_data"
    },
    {
     "data": {
      "text/html": [
       "<a href=\"https://github.com/CambridgeSemiticsLab/nena_corpus/blob/master/nena/0.01/Barwar/A Tale of Two Kings.nena\" title=\"see this passage in its source document\" sec=\"Barwar, A Tale of Two Kings, Ln. 8\">Barwar, A Tale of Two Kings, Ln. 8</a>\n",
       "<div class=\"outeritem\">\n",
       "<div class=\"macro  \" >\n",
       "\n",
       "<div class=\"prosa  \" >\n",
       "\n",
       "<div class=\"word  hl\" >\n",
       "<div class=\"ara\">ʾáyya </div>\n",
       "\n",
       "</div>\n",
       "<div class=\"word  \" >\n",
       "<div class=\"ara\">bàxtuxˈ </div>\n",
       "\n",
       "</div>\n",
       "</div>\n",
       "<div class=\"prosa  \" >\n",
       "\n",
       "<div class=\"word  \" >\n",
       "<div class=\"ara\">xzi-mòdila </div>\n",
       "\n",
       "</div>\n",
       "<div class=\"word  \" >\n",
       "<div class=\"ara\">wáða.ˈ </div>\n",
       "\n",
       "</div>\n",
       "</div>\n",
       "</div>\n",
       "</div>"
      ],
      "text/plain": [
       "<IPython.core.display.HTML object>"
      ]
     },
     "metadata": {},
     "output_type": "display_data"
    },
    {
     "data": {
      "text/html": [
       "<p><b>result</b> <i>85</i></p>"
      ],
      "text/plain": [
       "<IPython.core.display.HTML object>"
      ]
     },
     "metadata": {},
     "output_type": "display_data"
    },
    {
     "data": {
      "text/html": [
       "<a href=\"https://github.com/CambridgeSemiticsLab/nena_corpus/blob/master/nena/0.01/Barwar/A Tale of Two Kings.nena\" title=\"see this passage in its source document\" sec=\"Barwar, A Tale of Two Kings, Ln. 9\">Barwar, A Tale of Two Kings, Ln. 9</a>\n",
       "<div class=\"outeritem\">\n",
       "<div class=\"macro  \" >\n",
       "\n",
       "<div class=\"prosa  \" >\n",
       "\n",
       "<div class=\"word  \" >\n",
       "<div class=\"ara\">mára </div>\n",
       "\n",
       "</div>\n",
       "<div class=\"word  \" >\n",
       "<div class=\"ara\">gríšle </div>\n",
       "\n",
       "</div>\n",
       "<div class=\"word  \" >\n",
       "<div class=\"ara\">sɛ̀pa,ˈ </div>\n",
       "\n",
       "</div>\n",
       "</div>\n",
       "<div class=\"prosa  \" >\n",
       "\n",
       "<div class=\"word  \" >\n",
       "<div class=\"ara\">tràθnaˈ </div>\n",
       "\n",
       "</div>\n",
       "</div>\n",
       "<div class=\"prosa  \" >\n",
       "\n",
       "<div class=\"word  hl\" >\n",
       "<div class=\"ara\">kúlla-ʾani </div>\n",
       "\n",
       "</div>\n",
       "<div class=\"word  \" >\n",
       "<div class=\"ara\">qəm-qaṭlìla.ˈ </div>\n",
       "\n",
       "</div>\n",
       "</div>\n",
       "</div>\n",
       "</div>"
      ],
      "text/plain": [
       "<IPython.core.display.HTML object>"
      ]
     },
     "metadata": {},
     "output_type": "display_data"
    },
    {
     "data": {
      "text/html": [
       "<p><b>result</b> <i>86</i></p>"
      ],
      "text/plain": [
       "<IPython.core.display.HTML object>"
      ]
     },
     "metadata": {},
     "output_type": "display_data"
    },
    {
     "data": {
      "text/html": [
       "<a href=\"https://github.com/CambridgeSemiticsLab/nena_corpus/blob/master/nena/0.01/Barwar/A Tale of Two Kings.nena\" title=\"see this passage in its source document\" sec=\"Barwar, A Tale of Two Kings, Ln. 9\">Barwar, A Tale of Two Kings, Ln. 9</a>\n",
       "<div class=\"outeritem\">\n",
       "<div class=\"macro  \" >\n",
       "\n",
       "<div class=\"prosa  \" >\n",
       "\n",
       "<div class=\"word  \" >\n",
       "<div class=\"ara\">màlkaˈ </div>\n",
       "\n",
       "</div>\n",
       "</div>\n",
       "<div class=\"prosa  \" >\n",
       "\n",
       "<div class=\"word  \" >\n",
       "<div class=\"ara\">ʾu-xóne </div>\n",
       "\n",
       "</div>\n",
       "<div class=\"word  \" >\n",
       "<div class=\"ara\">dìyeˈ </div>\n",
       "\n",
       "</div>\n",
       "</div>\n",
       "<div class=\"prosa  \" >\n",
       "\n",
       "<div class=\"word  hl\" >\n",
       "<div class=\"ara\">ʾan-ʿăbī́d </div>\n",
       "\n",
       "</div>\n",
       "<div class=\"word  \" >\n",
       "<div class=\"ara\">ʾu-bàxtaˈ </div>\n",
       "\n",
       "</div>\n",
       "</div>\n",
       "<div class=\"prosa  \" >\n",
       "\n",
       "<div class=\"word  \" >\n",
       "<div class=\"ara\">kùlla-ʾani </div>\n",
       "\n",
       "</div>\n",
       "<div class=\"word  \" >\n",
       "<div class=\"ara\">qəm-qaṭlíla.ˈ </div>\n",
       "\n",
       "</div>\n",
       "</div>\n",
       "</div>\n",
       "</div>"
      ],
      "text/plain": [
       "<IPython.core.display.HTML object>"
      ]
     },
     "metadata": {},
     "output_type": "display_data"
    },
    {
     "data": {
      "text/html": [
       "<p><b>result</b> <i>87</i></p>"
      ],
      "text/plain": [
       "<IPython.core.display.HTML object>"
      ]
     },
     "metadata": {},
     "output_type": "display_data"
    },
    {
     "data": {
      "text/html": [
       "<a href=\"https://github.com/CambridgeSemiticsLab/nena_corpus/blob/master/nena/0.01/Barwar/A Tale of Two Kings.nena\" title=\"see this passage in its source document\" sec=\"Barwar, A Tale of Two Kings, Ln. 9\">Barwar, A Tale of Two Kings, Ln. 9</a>\n",
       "<div class=\"outeritem\">\n",
       "<div class=\"macro  \" >\n",
       "\n",
       "<div class=\"prosa  \" >\n",
       "\n",
       "<div class=\"word  \" >\n",
       "<div class=\"ara\">màlkaˈ </div>\n",
       "\n",
       "</div>\n",
       "</div>\n",
       "<div class=\"prosa  \" >\n",
       "\n",
       "<div class=\"word  \" >\n",
       "<div class=\"ara\">ʾu-xóne </div>\n",
       "\n",
       "</div>\n",
       "<div class=\"word  \" >\n",
       "<div class=\"ara\">dìyeˈ </div>\n",
       "\n",
       "</div>\n",
       "</div>\n",
       "<div class=\"prosa  \" >\n",
       "\n",
       "<div class=\"word  \" >\n",
       "<div class=\"ara\">ʾan-ʿăbī́d </div>\n",
       "\n",
       "</div>\n",
       "<div class=\"word  \" >\n",
       "<div class=\"ara\">ʾu-bàxtaˈ </div>\n",
       "\n",
       "</div>\n",
       "</div>\n",
       "<div class=\"prosa  \" >\n",
       "\n",
       "<div class=\"word  hl\" >\n",
       "<div class=\"ara\">kùlla-ʾani </div>\n",
       "\n",
       "</div>\n",
       "<div class=\"word  \" >\n",
       "<div class=\"ara\">qəm-qaṭlíla.ˈ </div>\n",
       "\n",
       "</div>\n",
       "</div>\n",
       "</div>\n",
       "</div>"
      ],
      "text/plain": [
       "<IPython.core.display.HTML object>"
      ]
     },
     "metadata": {},
     "output_type": "display_data"
    },
    {
     "data": {
      "text/html": [
       "<p><b>result</b> <i>88</i></p>"
      ],
      "text/plain": [
       "<IPython.core.display.HTML object>"
      ]
     },
     "metadata": {},
     "output_type": "display_data"
    },
    {
     "data": {
      "text/html": [
       "<a href=\"https://github.com/CambridgeSemiticsLab/nena_corpus/blob/master/nena/0.01/Barwar/A Tale of Two Kings.nena\" title=\"see this passage in its source document\" sec=\"Barwar, A Tale of Two Kings, Ln. 11\">Barwar, A Tale of Two Kings, Ln. 11</a>\n",
       "<div class=\"outeritem\">\n",
       "<div class=\"macro  \" >\n",
       "\n",
       "<div class=\"prosa  \" >\n",
       "\n",
       "<div class=\"word  hl\" >\n",
       "<div class=\"ara\">ʾánna </div>\n",
       "\n",
       "</div>\n",
       "<div class=\"word  \" >\n",
       "<div class=\"ara\">ríqela </div>\n",
       "\n",
       "</div>\n",
       "<div class=\"word  \" >\n",
       "<div class=\"ara\">síqela </div>\n",
       "\n",
       "</div>\n",
       "<div class=\"word  \" >\n",
       "<div class=\"ara\">rəš-d-ay-ʾilána </div>\n",
       "\n",
       "</div>\n",
       "<div class=\"word  \" >\n",
       "<div class=\"ara\">m-zdùθa.ˈ </div>\n",
       "\n",
       "</div>\n",
       "</div>\n",
       "</div>\n",
       "</div>"
      ],
      "text/plain": [
       "<IPython.core.display.HTML object>"
      ]
     },
     "metadata": {},
     "output_type": "display_data"
    },
    {
     "data": {
      "text/html": [
       "<p><b>result</b> <i>89</i></p>"
      ],
      "text/plain": [
       "<IPython.core.display.HTML object>"
      ]
     },
     "metadata": {},
     "output_type": "display_data"
    },
    {
     "data": {
      "text/html": [
       "<a href=\"https://github.com/CambridgeSemiticsLab/nena_corpus/blob/master/nena/0.01/Barwar/A Tale of Two Kings.nena\" title=\"see this passage in its source document\" sec=\"Barwar, A Tale of Two Kings, Ln. 11\">Barwar, A Tale of Two Kings, Ln. 11</a>\n",
       "<div class=\"outeritem\">\n",
       "<div class=\"macro  \" >\n",
       "\n",
       "<div class=\"prosa  \" >\n",
       "\n",
       "<div class=\"word  \" >\n",
       "<div class=\"ara\">múttəlle </div>\n",
       "\n",
       "</div>\n",
       "<div class=\"word  hl\" >\n",
       "<div class=\"ara\">ʾo-sandúqa </div>\n",
       "\n",
       "</div>\n",
       "<div class=\"word  \" >\n",
       "<div class=\"ara\">m-áxxa </div>\n",
       "\n",
       "</div>\n",
       "<div class=\"word  \" >\n",
       "<div class=\"ara\">l-tămàha.ˈ </div>\n",
       "\n",
       "</div>\n",
       "</div>\n",
       "</div>\n",
       "</div>"
      ],
      "text/plain": [
       "<IPython.core.display.HTML object>"
      ]
     },
     "metadata": {},
     "output_type": "display_data"
    },
    {
     "data": {
      "text/html": [
       "<p><b>result</b> <i>90</i></p>"
      ],
      "text/plain": [
       "<IPython.core.display.HTML object>"
      ]
     },
     "metadata": {},
     "output_type": "display_data"
    },
    {
     "data": {
      "text/html": [
       "<a href=\"https://github.com/CambridgeSemiticsLab/nena_corpus/blob/master/nena/0.01/Barwar/A Tale of Two Kings.nena\" title=\"see this passage in its source document\" sec=\"Barwar, A Tale of Two Kings, Ln. 11\">Barwar, A Tale of Two Kings, Ln. 11</a>\n",
       "<div class=\"outeritem\">\n",
       "<div class=\"macro  \" >\n",
       "\n",
       "<div class=\"prosa  \" >\n",
       "\n",
       "<div class=\"word  \" >\n",
       "<div class=\"ara\">mára </div>\n",
       "\n",
       "</div>\n",
       "<div class=\"word  \" >\n",
       "<div class=\"ara\">plìṭṭɛlaˈ </div>\n",
       "\n",
       "</div>\n",
       "</div>\n",
       "<div class=\"prosa  \" >\n",
       "\n",
       "<div class=\"word  \" >\n",
       "<div class=\"ara\">mə́re </div>\n",
       "\n",
       "</div>\n",
       "<div class=\"word  \" >\n",
       "<div class=\"ara\">de-zmùr-u </div>\n",
       "\n",
       "</div>\n",
       "<div class=\"word  \" >\n",
       "<div class=\"ara\">rqúð,ˈ </div>\n",
       "\n",
       "</div>\n",
       "</div>\n",
       "<div class=\"prosa  \" >\n",
       "\n",
       "<div class=\"word  \" >\n",
       "<div class=\"ara\">mára </div>\n",
       "\n",
       "</div>\n",
       "<div class=\"word  \" >\n",
       "<div class=\"ara\">ʾáy-brata </div>\n",
       "\n",
       "</div>\n",
       "<div class=\"word  \" >\n",
       "<div class=\"ara\">zmìrta,ˈ </div>\n",
       "\n",
       "</div>\n",
       "</div>\n",
       "<div class=\"prosa  \" >\n",
       "\n",
       "<div class=\"word  hl\" >\n",
       "<div class=\"ara\">ʾo-ʿafrít </div>\n",
       "\n",
       "</div>\n",
       "<div class=\"word  \" >\n",
       "<div class=\"ara\">mə́re </div>\n",
       "\n",
       "</div>\n",
       "<div class=\"word  \" >\n",
       "<div class=\"ara\">tla-d-ày,ˈ </div>\n",
       "\n",
       "</div>\n",
       "</div>\n",
       "<div class=\"prosa  \" >\n",
       "\n",
       "<div class=\"word  \" >\n",
       "<div class=\"ara\">píšla </div>\n",
       "\n",
       "</div>\n",
       "<div class=\"word  \" >\n",
       "<div class=\"ara\">har-rqàða,ˈ </div>\n",
       "\n",
       "</div>\n",
       "</div>\n",
       "<div class=\"prosa  \" >\n",
       "\n",
       "<div class=\"word  \" >\n",
       "<div class=\"ara\">zmára-w </div>\n",
       "\n",
       "</div>\n",
       "<div class=\"word  \" >\n",
       "<div class=\"ara\">rqáða, </div>\n",
       "\n",
       "</div>\n",
       "<div class=\"word  \" >\n",
       "<div class=\"ara\">zmàra.ˈ </div>\n",
       "\n",
       "</div>\n",
       "</div>\n",
       "</div>\n",
       "</div>"
      ],
      "text/plain": [
       "<IPython.core.display.HTML object>"
      ]
     },
     "metadata": {},
     "output_type": "display_data"
    },
    {
     "data": {
      "text/html": [
       "<p><b>result</b> <i>91</i></p>"
      ],
      "text/plain": [
       "<IPython.core.display.HTML object>"
      ]
     },
     "metadata": {},
     "output_type": "display_data"
    },
    {
     "data": {
      "text/html": [
       "<a href=\"https://github.com/CambridgeSemiticsLab/nena_corpus/blob/master/nena/0.01/Barwar/A Tale of Two Kings.nena\" title=\"see this passage in its source document\" sec=\"Barwar, A Tale of Two Kings, Ln. 12\">Barwar, A Tale of Two Kings, Ln. 12</a>\n",
       "<div class=\"outeritem\">\n",
       "<div class=\"macro  \" >\n",
       "\n",
       "<div class=\"prosa  \" >\n",
       "\n",
       "<div class=\"word  hl\" >\n",
       "<div class=\"ara\">ʾáyya </div>\n",
       "\n",
       "</div>\n",
       "<div class=\"word  \" >\n",
       "<div class=\"ara\">xɛ́ra </div>\n",
       "\n",
       "</div>\n",
       "<div class=\"word  \" >\n",
       "<div class=\"ara\">hátxa </div>\n",
       "\n",
       "</div>\n",
       "<div class=\"word  \" >\n",
       "<div class=\"ara\">gu-ʾilàna,ˈ </div>\n",
       "\n",
       "</div>\n",
       "</div>\n",
       "<div class=\"prosa  \" >\n",
       "\n",
       "<div class=\"word  \" >\n",
       "<div class=\"ara\">xzéla </div>\n",
       "\n",
       "</div>\n",
       "<div class=\"word  \" >\n",
       "<div class=\"ara\">ʾan-tre-náše </div>\n",
       "\n",
       "</div>\n",
       "<div class=\"word  \" >\n",
       "<div class=\"ara\">tàma.ˈ </div>\n",
       "\n",
       "</div>\n",
       "</div>\n",
       "</div>\n",
       "</div>"
      ],
      "text/plain": [
       "<IPython.core.display.HTML object>"
      ]
     },
     "metadata": {},
     "output_type": "display_data"
    },
    {
     "data": {
      "text/html": [
       "<p><b>result</b> <i>92</i></p>"
      ],
      "text/plain": [
       "<IPython.core.display.HTML object>"
      ]
     },
     "metadata": {},
     "output_type": "display_data"
    },
    {
     "data": {
      "text/html": [
       "<a href=\"https://github.com/CambridgeSemiticsLab/nena_corpus/blob/master/nena/0.01/Barwar/A Tale of Two Kings.nena\" title=\"see this passage in its source document\" sec=\"Barwar, A Tale of Two Kings, Ln. 12\">Barwar, A Tale of Two Kings, Ln. 12</a>\n",
       "<div class=\"outeritem\">\n",
       "<div class=\"macro  \" >\n",
       "\n",
       "<div class=\"prosa  \" >\n",
       "\n",
       "<div class=\"word  \" >\n",
       "<div class=\"ara\">ʾáyya </div>\n",
       "\n",
       "</div>\n",
       "<div class=\"word  \" >\n",
       "<div class=\"ara\">xɛ́ra </div>\n",
       "\n",
       "</div>\n",
       "<div class=\"word  \" >\n",
       "<div class=\"ara\">hátxa </div>\n",
       "\n",
       "</div>\n",
       "<div class=\"word  \" >\n",
       "<div class=\"ara\">gu-ʾilàna,ˈ </div>\n",
       "\n",
       "</div>\n",
       "</div>\n",
       "<div class=\"prosa  \" >\n",
       "\n",
       "<div class=\"word  \" >\n",
       "<div class=\"ara\">xzéla </div>\n",
       "\n",
       "</div>\n",
       "<div class=\"word  hl\" >\n",
       "<div class=\"ara\">ʾan-tre-náše </div>\n",
       "\n",
       "</div>\n",
       "<div class=\"word  \" >\n",
       "<div class=\"ara\">tàma.ˈ </div>\n",
       "\n",
       "</div>\n",
       "</div>\n",
       "</div>\n",
       "</div>"
      ],
      "text/plain": [
       "<IPython.core.display.HTML object>"
      ]
     },
     "metadata": {},
     "output_type": "display_data"
    },
    {
     "data": {
      "text/html": [
       "<p><b>result</b> <i>93</i></p>"
      ],
      "text/plain": [
       "<IPython.core.display.HTML object>"
      ]
     },
     "metadata": {},
     "output_type": "display_data"
    },
    {
     "data": {
      "text/html": [
       "<a href=\"https://github.com/CambridgeSemiticsLab/nena_corpus/blob/master/nena/0.01/Barwar/A Tale of Two Kings.nena\" title=\"see this passage in its source document\" sec=\"Barwar, A Tale of Two Kings, Ln. 12\">Barwar, A Tale of Two Kings, Ln. 12</a>\n",
       "<div class=\"outeritem\">\n",
       "<div class=\"macro  \" >\n",
       "\n",
       "<div class=\"prosa  \" >\n",
       "\n",
       "<div class=\"word  hl\" >\n",
       "<div class=\"ara\">ʾáwwa </div>\n",
       "\n",
       "</div>\n",
       "<div class=\"word  \" >\n",
       "<div class=\"ara\">ṭlìle </div>\n",
       "\n",
       "</div>\n",
       "<div class=\"word  \" >\n",
       "<div class=\"ara\">ʾawwa-ʿafrī́t.ˈ </div>\n",
       "\n",
       "</div>\n",
       "</div>\n",
       "</div>\n",
       "</div>"
      ],
      "text/plain": [
       "<IPython.core.display.HTML object>"
      ]
     },
     "metadata": {},
     "output_type": "display_data"
    },
    {
     "data": {
      "text/html": [
       "<p><b>result</b> <i>94</i></p>"
      ],
      "text/plain": [
       "<IPython.core.display.HTML object>"
      ]
     },
     "metadata": {},
     "output_type": "display_data"
    },
    {
     "data": {
      "text/html": [
       "<a href=\"https://github.com/CambridgeSemiticsLab/nena_corpus/blob/master/nena/0.01/Barwar/A Tale of Two Kings.nena\" title=\"see this passage in its source document\" sec=\"Barwar, A Tale of Two Kings, Ln. 12\">Barwar, A Tale of Two Kings, Ln. 12</a>\n",
       "<div class=\"outeritem\">\n",
       "<div class=\"macro  \" >\n",
       "\n",
       "<div class=\"prosa  \" >\n",
       "\n",
       "<div class=\"word  \" >\n",
       "<div class=\"ara\">ʾáwwa </div>\n",
       "\n",
       "</div>\n",
       "<div class=\"word  \" >\n",
       "<div class=\"ara\">ṭlìle </div>\n",
       "\n",
       "</div>\n",
       "<div class=\"word  hl\" >\n",
       "<div class=\"ara\">ʾawwa-ʿafrī́t.ˈ </div>\n",
       "\n",
       "</div>\n",
       "</div>\n",
       "</div>\n",
       "</div>"
      ],
      "text/plain": [
       "<IPython.core.display.HTML object>"
      ]
     },
     "metadata": {},
     "output_type": "display_data"
    },
    {
     "data": {
      "text/html": [
       "<p><b>result</b> <i>95</i></p>"
      ],
      "text/plain": [
       "<IPython.core.display.HTML object>"
      ]
     },
     "metadata": {},
     "output_type": "display_data"
    },
    {
     "data": {
      "text/html": [
       "<a href=\"https://github.com/CambridgeSemiticsLab/nena_corpus/blob/master/nena/0.01/Barwar/A Tale of Two Kings.nena\" title=\"see this passage in its source document\" sec=\"Barwar, A Tale of Two Kings, Ln. 12\">Barwar, A Tale of Two Kings, Ln. 12</a>\n",
       "<div class=\"outeritem\">\n",
       "<div class=\"macro  \" >\n",
       "\n",
       "<div class=\"prosa  \" >\n",
       "\n",
       "<div class=\"word  \" >\n",
       "<div class=\"ara\">mə́ra </div>\n",
       "\n",
       "</div>\n",
       "<div class=\"word  \" >\n",
       "<div class=\"ara\">là </div>\n",
       "\n",
       "</div>\n",
       "<div class=\"word  \" >\n",
       "<div class=\"ara\">ṣalítu,ˈ </div>\n",
       "\n",
       "</div>\n",
       "</div>\n",
       "<div class=\"prosa  \" >\n",
       "\n",
       "<div class=\"word  \" >\n",
       "<div class=\"ara\">hadíya </div>\n",
       "\n",
       "</div>\n",
       "<div class=\"word  \" >\n",
       "<div class=\"ara\">măṛəšánne </div>\n",
       "\n",
       "</div>\n",
       "<div class=\"word  hl\" >\n",
       "<div class=\"ara\">ʾáwwa </div>\n",
       "\n",
       "</div>\n",
       "<div class=\"word  \" >\n",
       "<div class=\"ara\">ʿafrī́t </div>\n",
       "\n",
       "</div>\n",
       "<div class=\"word  \" >\n",
       "<div class=\"ara\">qaṭə̀llɛxu.ˈ </div>\n",
       "\n",
       "</div>\n",
       "</div>\n",
       "</div>\n",
       "</div>"
      ],
      "text/plain": [
       "<IPython.core.display.HTML object>"
      ]
     },
     "metadata": {},
     "output_type": "display_data"
    },
    {
     "data": {
      "text/html": [
       "<p><b>result</b> <i>96</i></p>"
      ],
      "text/plain": [
       "<IPython.core.display.HTML object>"
      ]
     },
     "metadata": {},
     "output_type": "display_data"
    },
    {
     "data": {
      "text/html": [
       "<a href=\"https://github.com/CambridgeSemiticsLab/nena_corpus/blob/master/nena/0.01/Barwar/A Tale of Two Kings.nena\" title=\"see this passage in its source document\" sec=\"Barwar, A Tale of Two Kings, Ln. 13\">Barwar, A Tale of Two Kings, Ln. 13</a>\n",
       "<div class=\"outeritem\">\n",
       "<div class=\"macro  \" >\n",
       "\n",
       "<div class=\"prosa  \" >\n",
       "\n",
       "<div class=\"word  hl\" >\n",
       "<div class=\"ara\">ʾáni-ži </div>\n",
       "\n",
       "</div>\n",
       "<div class=\"word  \" >\n",
       "<div class=\"ara\">qímela </div>\n",
       "\n",
       "</div>\n",
       "<div class=\"word  \" >\n",
       "<div class=\"ara\">ṣə̀lyela,ˈ </div>\n",
       "\n",
       "</div>\n",
       "</div>\n",
       "<div class=\"prosa  \" >\n",
       "\n",
       "<div class=\"word  \" >\n",
       "<div class=\"ara\">mò-băyət?ˈ </div>\n",
       "\n",
       "</div>\n",
       "</div>\n",
       "</div>\n",
       "</div>"
      ],
      "text/plain": [
       "<IPython.core.display.HTML object>"
      ]
     },
     "metadata": {},
     "output_type": "display_data"
    },
    {
     "data": {
      "text/html": [
       "<p><b>result</b> <i>97</i></p>"
      ],
      "text/plain": [
       "<IPython.core.display.HTML object>"
      ]
     },
     "metadata": {},
     "output_type": "display_data"
    },
    {
     "data": {
      "text/html": [
       "<a href=\"https://github.com/CambridgeSemiticsLab/nena_corpus/blob/master/nena/0.01/Barwar/A Tale of Two Kings.nena\" title=\"see this passage in its source document\" sec=\"Barwar, A Tale of Two Kings, Ln. 13\">Barwar, A Tale of Two Kings, Ln. 13</a>\n",
       "<div class=\"outeritem\">\n",
       "<div class=\"macro  \" >\n",
       "\n",
       "<div class=\"prosa  \" >\n",
       "\n",
       "<div class=\"word  hl\" >\n",
       "<div class=\"ara\">ʾáp-ʾani </div>\n",
       "\n",
       "</div>\n",
       "<div class=\"word  \" >\n",
       "<div class=\"ara\">drìθəlla,ˈ </div>\n",
       "\n",
       "</div>\n",
       "</div>\n",
       "<div class=\"prosa  \" >\n",
       "\n",
       "<div class=\"word  \" >\n",
       "<div class=\"ara\">mə́ra </div>\n",
       "\n",
       "</div>\n",
       "<div class=\"word  \" >\n",
       "<div class=\"ara\">háyyo </div>\n",
       "\n",
       "</div>\n",
       "<div class=\"word  \" >\n",
       "<div class=\"ara\">hàtxa </div>\n",
       "\n",
       "</div>\n",
       "<div class=\"word  \" >\n",
       "<div class=\"ara\">wúðu!ˈ </div>\n",
       "\n",
       "</div>\n",
       "</div>\n",
       "</div>\n",
       "</div>"
      ],
      "text/plain": [
       "<IPython.core.display.HTML object>"
      ]
     },
     "metadata": {},
     "output_type": "display_data"
    },
    {
     "data": {
      "text/html": [
       "<p><b>result</b> <i>98</i></p>"
      ],
      "text/plain": [
       "<IPython.core.display.HTML object>"
      ]
     },
     "metadata": {},
     "output_type": "display_data"
    },
    {
     "data": {
      "text/html": [
       "<a href=\"https://github.com/CambridgeSemiticsLab/nena_corpus/blob/master/nena/0.01/Barwar/A Tale of Two Kings.nena\" title=\"see this passage in its source document\" sec=\"Barwar, A Tale of Two Kings, Ln. 14\">Barwar, A Tale of Two Kings, Ln. 14</a>\n",
       "<div class=\"outeritem\">\n",
       "<div class=\"macro  \" >\n",
       "\n",
       "<div class=\"prosa  \" >\n",
       "\n",
       "<div class=\"word  hl\" >\n",
       "<div class=\"ara\">ʾána </div>\n",
       "\n",
       "</div>\n",
       "<div class=\"word  \" >\n",
       "<div class=\"ara\">ṭlíbtənwa </div>\n",
       "\n",
       "</div>\n",
       "<div class=\"word  \" >\n",
       "<div class=\"ara\">l-brónət </div>\n",
       "\n",
       "</div>\n",
       "<div class=\"word  \" >\n",
       "<div class=\"ara\">màmi.ˈ </div>\n",
       "\n",
       "</div>\n",
       "</div>\n",
       "</div>\n",
       "</div>"
      ],
      "text/plain": [
       "<IPython.core.display.HTML object>"
      ]
     },
     "metadata": {},
     "output_type": "display_data"
    },
    {
     "data": {
      "text/html": [
       "<p><b>result</b> <i>99</i></p>"
      ],
      "text/plain": [
       "<IPython.core.display.HTML object>"
      ]
     },
     "metadata": {},
     "output_type": "display_data"
    },
    {
     "data": {
      "text/html": [
       "<a href=\"https://github.com/CambridgeSemiticsLab/nena_corpus/blob/master/nena/0.01/Barwar/A Tale of Two Kings.nena\" title=\"see this passage in its source document\" sec=\"Barwar, A Tale of Two Kings, Ln. 14\">Barwar, A Tale of Two Kings, Ln. 14</a>\n",
       "<div class=\"outeritem\">\n",
       "<div class=\"macro  \" >\n",
       "\n",
       "<div class=\"prosa  \" >\n",
       "\n",
       "<div class=\"word  hl\" >\n",
       "<div class=\"ara\">ʾó-yomət </div>\n",
       "\n",
       "</div>\n",
       "<div class=\"word  \" >\n",
       "<div class=\"ara\">gorànwa,ˈ </div>\n",
       "\n",
       "</div>\n",
       "</div>\n",
       "<div class=\"prosa  \" >\n",
       "\n",
       "<div class=\"word  \" >\n",
       "<div class=\"ara\">ʾə́θyɛle </div>\n",
       "\n",
       "</div>\n",
       "<div class=\"word  \" >\n",
       "<div class=\"ara\">ʾáwwa </div>\n",
       "\n",
       "</div>\n",
       "<div class=\"word  \" >\n",
       "<div class=\"ara\">ʿafrī́t </div>\n",
       "\n",
       "</div>\n",
       "<div class=\"word  \" >\n",
       "<div class=\"ara\">gnìwəlli.ˈ </div>\n",
       "\n",
       "</div>\n",
       "</div>\n",
       "</div>\n",
       "</div>"
      ],
      "text/plain": [
       "<IPython.core.display.HTML object>"
      ]
     },
     "metadata": {},
     "output_type": "display_data"
    },
    {
     "data": {
      "text/html": [
       "<p><b>result</b> <i>100</i></p>"
      ],
      "text/plain": [
       "<IPython.core.display.HTML object>"
      ]
     },
     "metadata": {},
     "output_type": "display_data"
    },
    {
     "data": {
      "text/html": [
       "<a href=\"https://github.com/CambridgeSemiticsLab/nena_corpus/blob/master/nena/0.01/Barwar/A Tale of Two Kings.nena\" title=\"see this passage in its source document\" sec=\"Barwar, A Tale of Two Kings, Ln. 14\">Barwar, A Tale of Two Kings, Ln. 14</a>\n",
       "<div class=\"outeritem\">\n",
       "<div class=\"macro  \" >\n",
       "\n",
       "<div class=\"prosa  \" >\n",
       "\n",
       "<div class=\"word  \" >\n",
       "<div class=\"ara\">ʾó-yomət </div>\n",
       "\n",
       "</div>\n",
       "<div class=\"word  \" >\n",
       "<div class=\"ara\">gorànwa,ˈ </div>\n",
       "\n",
       "</div>\n",
       "</div>\n",
       "<div class=\"prosa  \" >\n",
       "\n",
       "<div class=\"word  \" >\n",
       "<div class=\"ara\">ʾə́θyɛle </div>\n",
       "\n",
       "</div>\n",
       "<div class=\"word  hl\" >\n",
       "<div class=\"ara\">ʾáwwa </div>\n",
       "\n",
       "</div>\n",
       "<div class=\"word  \" >\n",
       "<div class=\"ara\">ʿafrī́t </div>\n",
       "\n",
       "</div>\n",
       "<div class=\"word  \" >\n",
       "<div class=\"ara\">gnìwəlli.ˈ </div>\n",
       "\n",
       "</div>\n",
       "</div>\n",
       "</div>\n",
       "</div>"
      ],
      "text/plain": [
       "<IPython.core.display.HTML object>"
      ]
     },
     "metadata": {},
     "output_type": "display_data"
    },
    {
     "data": {
      "text/html": [
       "<b>50 more results skipped</b> because we show a maximum of 100 results at a time"
      ],
      "text/plain": [
       "<IPython.core.display.HTML object>"
      ]
     },
     "metadata": {},
     "output_type": "display_data"
    }
   ],
   "source": [
    "nena.show(query, end=150, condenseType='sentence', extraFeatures='gloss')"
   ]
  },
  {
   "cell_type": "markdown",
   "metadata": {},
   "source": [
    "## Basic Tests"
   ]
  },
  {
   "cell_type": "code",
   "execution_count": 2,
   "metadata": {},
   "outputs": [
    {
     "name": "stdout",
     "output_type": "stream",
     "text": [
      "letter\n",
      "x\n",
      "\n",
      "morpheme\n",
      "xá-\n",
      "\n",
      "inton\n",
      "xá-ga xèta,ˈ \n",
      "\n",
      "subsentence\n",
      "xá-ga xèta,ˈ \n",
      "\n",
      "sentence\n",
      "xá-ga xèta,ˈ mállah Naṣràdin,ˈ xázəx mòdi wíða.ˈ \n",
      "\n",
      "line\n",
      "xá-ga xèta,ˈ mállah Naṣràdin,ˈ xázəx mòdi wíða.ˈ gu-bɛ̀θa wéwa,ˈ har-zála-w θàya.ˈ zála-w θàya,ˈ mára ya-ʾàlaha,ˈ yawə̀tliˈ ʾə́mma dàwe.ˈ ʾən-hàwaˈ ʾə́č̣č̣i-u ʾə́č̣č̣a maqəlbə̀nna.ˈ ʾu-ʾən-hàwaˈ ʾə́mma-w-xà-ži,ˈ la-băyə̀nna.ˈ de-šùqla.ˈ ʾə̀mma gắrəg háwa drə́st.ˈ \n",
      "\n",
      "paragraph\n",
      "xá-ga xèta,ˈ mállah Naṣràdin,ˈ xázəx mòdi wíða.ˈ gu-bɛ̀θa wéwa,ˈ har-zála-w θàya.ˈ zála-w θàya,ˈ mára ya-ʾàlaha,ˈ yawə̀tliˈ ʾə́mma dàwe.ˈ ʾən-hàwaˈ ʾə́č̣č̣i-u ʾə́č̣č̣a maqəlbə̀nna.ˈ ʾu-ʾən-hàwaˈ ʾə́mma-w-xà-ži,ˈ la-băyə̀nna.ˈ de-šùqla.ˈ ʾə̀mma gắrəg háwa drə́st.ˈ b-álaha hóle zála-w θàya,ˈ ʾíθwale xá-šwawa huðàya,ˈ maṣóθe ʾə́lle dìye.ˈ mə́re xázəx ʾáwwa dū̀s-ile.ˈ qɛ́mən mjarbə̀nne.ˈ síqa l-gàre,ˈ də́ryɛle ʾə́č̣č̣i-u ʾə́č̣č̣a dáwe gu-ða-kìsta,ˈ də́rya b-kàwele.ˈ ʾá báxta hàyyo!ˈ hóle ʾaláha qəm-mšadə̀rrən.ˈ muθɛ́θɛla màjma.ˈ msúrqəlla píšela mnáyəlla l-xà-xa.ˈ plíṭla ʾə́č̣č̣i-u ʾə̀č̣č̣a.ˈ trè,ˈ trè,ˈ ʾə́č̣č̣i-u ʾə̀č̣č̣a.ˈ ʾə̀ṣra,ˈ ʾə̀ṣra,ˈ hàr-ʾəč̣č̣i-u ʾə́č̣č̣a.ˈ klèla,ˈ ʾámər báxta dū̀s-ile.ˈ ʾaláha là-xaləṭ.ˈ ʾə́č̣č̣i-u ʾə̀č̣č̣a,ˈ ʾáxči ʾána max-xšàwti,ˈ ʾáyya kìstaˈ hóle mxožə́bnəlla max-xà.ˈ ha-šqùl,ˈ máttula tămàha.ˈ huðáya l-gàreˈ šwirɛ́le l-pàlga,ˈ yába ʾànən mšúdrəlla!ˈ ʾáy kálba ʾámər táma l-gàre maṣyóθe,ˈ bắyət šaqlə́tla ʾap-ʾànna.ˈ mrázgət gànux.ˈ tə́mməl ṱ-ásqəx kəs-qàzi.ˈ huðáya ʾə́č̣č̣i-u ʾə́č̣č̣a dáwe zìle mə́nne,ˈ ʾɛ́ka ṱ-áθya šə̀nθe?!ˈ hal-qedámta šə́nθe la-θèla.ˈ hár-wele zála-w θàya.ˈ málla múttəlle réše dmìxa.ˈ ṭlìya,ˈ kéfe basìmta,ˈ ʾu-dáwe xo-rèše.ˈ sáʾət ʾə́šta mbàdlaˈ ʾə́θyɛle huðáya wáða ṭəq-ṭəq-ṭə́q l-ṭằra.ˈ ʾu-qáre l-tằraˈ mòdila qə́ṣṣət?ˈ pθíxəlle tắra màlla,ˈ ʾína huðáya lwíša kášxa-w júlle xàθe.ˈ ʾu-xmárte díye msúrgəlla-w wíðəlla tàza.ˈ ṭla-mòdila ʾáyya?ˈ mə́re ṱ-ásqəx kəs-qàzi.ˈ mə́re sì kálba.ˈ ʾána là-ʾaθən mə́nnux.ˈ ṭla-mò la-ʾáθət mə́nni?ˈ sí là-ʾaθən mə́nnux ʾána.ˈ ṭla-mò?ˈ mòdila qə́ṣṣət?ˈ mə́re ʾaláha-w náše yằði.ˈ xazɛ́la ʾánna júllux hàtxa,ˈ kášxa-w ʾáyya xmàrtuxˈ ʾu-sɛ̀rga-wˈ w-ána b-ánna dašdàše-wˈ b-ánna čak̭àlle-wˈ ʾu-šəxtàna-wˈ šárṭ qázi t-yawə́lla ṭlàlux.ˈ qázi ṱ-awə́dla ṭlàlux,ˈ lá-ʾawədla ṭlàli.ˈ mə́re là-ʾaθən,ˈ ʾína júllux hálla ṭlàli.ˈ ʾu-xmártux ṱ-átwən ʾàna l-xáṣa.ˈ ʾu-ʾáti luš-jùlliˈ ʾu-ṱ-àsqəx.ˈ hám-ʾən ʾàsqətˈ ʾap-ʾáyya qabū̀l-ila.ˈ qímɛle ʾaw-lwíša dašdàšət málla,ˈ ʾu-čak̭àllət málla,ˈ málla lwíšɛle kášxa d-o-huðàyaˈ ʾu-tíwɛle xáṣət xmàrta,ˈ ʾu-síqela kəs-qàzi.ˈ síqɛle kəs-qàzi,ˈ wírela šarṭ-qàzi.ˈ mòdila qə́ṣṣət?ˈ málla mə̀reˈ qázi ṱ-áwət basìma.ˈ ʾána kəmà dána ṱ-in-mṣalóye ṭla-márya ʾàlahaˈ ta-t-yawə́lli ʾə̀mma dáwe.ˈ ʾu-ʾáwwa huðáya wéle maṣyóθe nṭára ʾə́lli l-gàre.ˈ ʾu-ʾálaha šuxa-l-šə́mme qəm-mšadə́rri ʾə́č̣č̣i-u ʾə́č̣č̣a dàwe.ˈ ʾu-ʾána mə́ri bàxta,ˈ ʾáp ʾayya-kìstaˈ ʾálaha mxožə́bnəlla m-gēb-xà-dawa.ˈ ʾu-ʾáwwa-ži huðáya l-gàreˈ ʾə̀lla,ˈ ʾánna dáwe ʾànən hiwə́llux.ˈ ʾu-hátxa be-bằxət-ile,ˈ yá-qazi ṱ-áwət basìma,ˈ ʾáwwa huðàya,ˈ yáʿni díya gu-pàθuxˈ mdàgəlˈ ʾu-sàru.ˈ mə́re xzí hátxa be-nxə̀pθɛle.ˈ lá ʾítle nxə̀pθa.ˈ díya ṱ-àmərˈ ʾáp ʾanna-júlle ṱ-ilà-lluxˈ ʾu-ʾáyya xmárta dìyila.ˈ w-áti xə́zyətli ʾána tíwa l-xàṣa.ˈ huðáya mə̀reˈ dìyila!ˈ ʾína d-ɛ̀nila?ˈ qázi mə́re qùˈ kálba brət-kálba huðàya.ˈ ʾámər sí šarṭ-dìyuxile.ˈ\n",
      "\n",
      "text\n",
      "xá-ga xèta,ˈ mállah Naṣràdin,ˈ xázəx mòdi wíða.ˈ gu-bɛ̀θa wéwa,ˈ har-zála-w θàya.ˈ zála-w θàya,ˈ mára ya-ʾàlaha,ˈ yawə̀tliˈ ʾə́mma dàwe.ˈ ʾən-hàwaˈ ʾə́č̣č̣i-u ʾə́č̣č̣a maqəlbə̀nna.ˈ ʾu-ʾən-hàwaˈ ʾə́mma-w-xà-ži,ˈ la-băyə̀nna.ˈ de-šùqla.ˈ ʾə̀mma gắrəg háwa drə́st.ˈ b-álaha hóle zála-w θàya,ˈ ʾíθwale xá-šwawa huðàya,ˈ maṣóθe ʾə́lle dìye.ˈ mə́re xázəx ʾáwwa dū̀s-ile.ˈ qɛ́mən mjarbə̀nne.ˈ síqa l-gàre,ˈ də́ryɛle ʾə́č̣č̣i-u ʾə́č̣č̣a dáwe gu-ða-kìsta,ˈ də́rya b-kàwele.ˈ ʾá báxta hàyyo!ˈ hóle ʾaláha qəm-mšadə̀rrən.ˈ muθɛ́θɛla màjma.ˈ msúrqəlla píšela mnáyəlla l-xà-xa.ˈ plíṭla ʾə́č̣č̣i-u ʾə̀č̣č̣a.ˈ trè,ˈ trè,ˈ ʾə́č̣č̣i-u ʾə̀č̣č̣a.ˈ ʾə̀ṣra,ˈ ʾə̀ṣra,ˈ hàr-ʾəč̣č̣i-u ʾə́č̣č̣a.ˈ klèla,ˈ ʾámər báxta dū̀s-ile.ˈ ʾaláha là-xaləṭ.ˈ ʾə́č̣č̣i-u ʾə̀č̣č̣a,ˈ ʾáxči ʾána max-xšàwti,ˈ ʾáyya kìstaˈ hóle mxožə́bnəlla max-xà.ˈ ha-šqùl,ˈ máttula tămàha.ˈ huðáya l-gàreˈ šwirɛ́le l-pàlga,ˈ yába ʾànən mšúdrəlla!ˈ ʾáy kálba ʾámər táma l-gàre maṣyóθe,ˈ bắyət šaqlə́tla ʾap-ʾànna.ˈ mrázgət gànux.ˈ tə́mməl ṱ-ásqəx kəs-qàzi.ˈ huðáya ʾə́č̣č̣i-u ʾə́č̣č̣a dáwe zìle mə́nne,ˈ ʾɛ́ka ṱ-áθya šə̀nθe?!ˈ hal-qedámta šə́nθe la-θèla.ˈ hár-wele zála-w θàya.ˈ málla múttəlle réše dmìxa.ˈ ṭlìya,ˈ kéfe basìmta,ˈ ʾu-dáwe xo-rèše.ˈ sáʾət ʾə́šta mbàdlaˈ ʾə́θyɛle huðáya wáða ṭəq-ṭəq-ṭə́q l-ṭằra.ˈ ʾu-qáre l-tằraˈ mòdila qə́ṣṣət?ˈ pθíxəlle tắra màlla,ˈ ʾína huðáya lwíša kášxa-w júlle xàθe.ˈ ʾu-xmárte díye msúrgəlla-w wíðəlla tàza.ˈ ṭla-mòdila ʾáyya?ˈ mə́re ṱ-ásqəx kəs-qàzi.ˈ mə́re sì kálba.ˈ ʾána là-ʾaθən mə́nnux.ˈ ṭla-mò la-ʾáθət mə́nni?ˈ sí là-ʾaθən mə́nnux ʾána.ˈ ṭla-mò?ˈ mòdila qə́ṣṣət?ˈ mə́re ʾaláha-w náše yằði.ˈ xazɛ́la ʾánna júllux hàtxa,ˈ kášxa-w ʾáyya xmàrtuxˈ ʾu-sɛ̀rga-wˈ w-ána b-ánna dašdàše-wˈ b-ánna čak̭àlle-wˈ ʾu-šəxtàna-wˈ šárṭ qázi t-yawə́lla ṭlàlux.ˈ qázi ṱ-awə́dla ṭlàlux,ˈ lá-ʾawədla ṭlàli.ˈ mə́re là-ʾaθən,ˈ ʾína júllux hálla ṭlàli.ˈ ʾu-xmártux ṱ-átwən ʾàna l-xáṣa.ˈ ʾu-ʾáti luš-jùlliˈ ʾu-ṱ-àsqəx.ˈ hám-ʾən ʾàsqətˈ ʾap-ʾáyya qabū̀l-ila.ˈ qímɛle ʾaw-lwíša dašdàšət málla,ˈ ʾu-čak̭àllət málla,ˈ málla lwíšɛle kášxa d-o-huðàyaˈ ʾu-tíwɛle xáṣət xmàrta,ˈ ʾu-síqela kəs-qàzi.ˈ síqɛle kəs-qàzi,ˈ wírela šarṭ-qàzi.ˈ mòdila qə́ṣṣət?ˈ málla mə̀reˈ qázi ṱ-áwət basìma.ˈ ʾána kəmà dána ṱ-in-mṣalóye ṭla-márya ʾàlahaˈ ta-t-yawə́lli ʾə̀mma dáwe.ˈ ʾu-ʾáwwa huðáya wéle maṣyóθe nṭára ʾə́lli l-gàre.ˈ ʾu-ʾálaha šuxa-l-šə́mme qəm-mšadə́rri ʾə́č̣č̣i-u ʾə́č̣č̣a dàwe.ˈ ʾu-ʾána mə́ri bàxta,ˈ ʾáp ʾayya-kìstaˈ ʾálaha mxožə́bnəlla m-gēb-xà-dawa.ˈ ʾu-ʾáwwa-ži huðáya l-gàreˈ ʾə̀lla,ˈ ʾánna dáwe ʾànən hiwə́llux.ˈ ʾu-hátxa be-bằxət-ile,ˈ yá-qazi ṱ-áwət basìma,ˈ ʾáwwa huðàya,ˈ yáʿni díya gu-pàθuxˈ mdàgəlˈ ʾu-sàru.ˈ mə́re xzí hátxa be-nxə̀pθɛle.ˈ lá ʾítle nxə̀pθa.ˈ díya ṱ-àmərˈ ʾáp ʾanna-júlle ṱ-ilà-lluxˈ ʾu-ʾáyya xmárta dìyila.ˈ w-áti xə́zyətli ʾána tíwa l-xàṣa.ˈ huðáya mə̀reˈ dìyila!ˈ ʾína d-ɛ̀nila?ˈ qázi mə́re qùˈ kálba brət-kálba huðàya.ˈ ʾámər sí šarṭ-dìyuxile.ˈ\n"
     ]
    }
   ],
   "source": [
    "morph = 1\n",
    "print('letter')\n",
    "print(F.text.v(morph))\n",
    "\n",
    "showtypes = (\n",
    "    'morpheme','inton','subsentence','sentence','line',\n",
    "    'paragraph','text'\n",
    ")\n",
    "\n",
    "for i, otype in enumerate(showtypes):\n",
    "    node = L.u(morph, otype)[0]\n",
    "    indent = ' '*(i+1)\n",
    "    print()\n",
    "    print(f'{otype}')\n",
    "    print(f'{T.text(node)}')"
   ]
  },
  {
   "cell_type": "code",
   "execution_count": 3,
   "metadata": {},
   "outputs": [
    {
     "data": {
      "text/plain": [
       "\"xa'-ga xe`ta/,| ma'llah Nas.ra`din/,| xa'z3x mo`di wi'6a/.| gu-b$`8a we'wa/,| har-za'la-w 8a`ya/.| za'la-w 8a`ya/,| ma'ra ya-}a`laha/,| yaw3`tli| }3'mma da`we/.| }3n-ha`wa| }3'c.<c.<i-u }3'c.<c.<a maq3lb3`nna/.| }u-}3n-ha`wa| }3'mma-w-xa`-z<i/,| la-ba%y3`nna/.| de-s<u`qla/.| }3`mma ga%'r3g ha'wa dr3'st/.| b-a'laha ho'le za'la-w 8a`ya/,| }i'8wale xa'-s<wawa hu6a`ya/,| mas.o'8e }3'lle di`ye/.| m3're xa'z3x }a'wwa du_`s-ile/.| q$'m3n mjarb3`nne/.| si'qa l-ga`re/,| d3'ry$le }3'c.<c.<i-u }3'c.<c.<a da'we gu-6a-ki`sta/,| d3'rya b-ka`wele/.| }a' ba'xta ha`yyo/!| ho'le }ala'ha q3m-ms<ad3`rr3n/.| mu8$'8$la ma`jma/.| msu'rq3lla pi's<ela mna'y3lla l-xa`-xa/.| pli't.la }3'c.<c.<i-u }3`c.<c.<a/.| tre`/,| tre`/,| }3'c.<c.<i-u }3`c.<c.<a/.| }3`s.ra/,| }3`s.ra/,| ha`r-}3c.<c.<i-u }3'c.<c.<a/.| kle`la/,| }a'm3r ba'xta du_`s-ile/.| }ala'ha la`-xal3t./.| }3'c.<c.<i-u }3`c.<c.<a/,| }a'xc<i }a'na max-xs<a`wti/,| }a'yya ki`sta| ho'le mxoz<3'bn3lla max-xa`/.| ha-s<qu`l/,| ma'ttula ta%ma`ha/.| hu6a'ya l-ga`re| s<wir$'le l-pa`lga/,| ya'ba }a`n3n ms<u'dr3lla/!| }a'y ka'lba }a'm3r ta'ma l-ga`re mas.yo'8e/,| ba%'y3t s<aql3'tla }ap-}a`nna/.| mra'zg3t ga`nux/.| t3'mm3l t>-a'sq3x k3s-qa`zi/.| hu6a'ya }3'c.<c.<i-u }3'c.<c.<a da'we zi`le m3'nne/,| }$'ka t>-a'8ya s<3`n8e/?!| hal-qeda'mta s<3'n8e la-8e`la/.| ha'r-wele za'la-w 8a`ya/.| ma'lla mu'tt3lle re's<e dmi`xa/.| t.li`ya/,| ke'fe basi`mta/,| }u-da'we xo-re`s<e/.| sa'}3t }3's<ta mba`dla| }3'8y$le hu6a'ya wa'6a t.3q-t.3q-t.3'q l-t.a%`ra/.| }u-qa're l-ta%`ra| mo`dila q3's.s.3t/?| p8i'x3lle ta%'ra ma`lla/,| }i'na hu6a'ya lwi's<a ka's<xa-w ju'lle xa`8e/.| }u-xma'rte di'ye msu'rg3lla-w wi'63lla ta`za/.| t.la-mo`dila }a'yya/?| m3're t>-a'sq3x k3s-qa`zi/.| m3're si` ka'lba/.| }a'na la`-}a83n m3'nnux/.| t.la-mo` la-}a'83t m3'nni/?| si' la`-}a83n m3'nnux }a'na/.| t.la-mo`/?| mo`dila q3's.s.3t/?| m3're }ala'ha-w na's<e ya%`6i/.| xaz$'la }a'nna ju'llux ha`txa/,| ka's<xa-w }a'yya xma`rtux| }u-s$`rga-w| w-a'na b-a'nna das<da`s<e-w| b-a'nna c<ak>a`lle-w| }u-s<3xta`na-w| s<a'rt. qa'zi t-yaw3'lla t.la`lux/.| qa'zi t>-aw3'dla t.la`lux/,| la'-}aw3dla t.la`li/.| m3're la`-}a83n/,| }i'na ju'llux ha'lla t.la`li/.| }u-xma'rtux t>-a'tw3n }a`na l-xa's.a/.| }u-}a'ti lus<-ju`lli| }u-t>-a`sq3x/.| ha'm-}3n }a`sq3t| }ap-}a'yya qabu_`l-ila/.| qi'm$le }aw-lwi's<a das<da`s<3t ma'lla/,| }u-c<ak>a`ll3t ma'lla/,| ma'lla lwi's<$le ka's<xa d-o-hu6a`ya| }u-ti'w$le xa's.3t xma`rta/,| }u-si'qela k3s-qa`zi/.| si'q$le k3s-qa`zi/,| wi'rela s<art.-qa`zi/.| mo`dila q3's.s.3t/?| ma'lla m3`re| qa'zi t>-a'w3t basi`ma/.| }a'na k3ma` da'na t>-in-ms.alo'ye t.la-ma'rya }a`laha| ta-t-yaw3'lli }3`mma da'we/.| }u-}a'wwa hu6a'ya we'le mas.yo'8e nt.a'ra }3'lli l-ga`re/.| }u-}a'laha s<uxa-l-s<3'mme q3m-ms<ad3'rri }3'c.<c.<i-u }3'c.<c.<a da`we/.| }u-}a'na m3'ri ba`xta/,| }a'p }ayya-ki`sta| }a'laha mxoz<3'bn3lla m-ge_b-xa`-dawa/.| }u-}a'wwa-z<i hu6a'ya l-ga`re| }3`lla/,| }a'nna da'we }a`n3n hiw3'llux/.| }u-ha'txa be-ba%`x3t-ile/,| ya'-qazi t>-a'w3t basi`ma/,| }a'wwa hu6a`ya/,| ya'{ni di'ya gu-pa`8ux| mda`g3l| }u-sa`ru/.| m3're xzi' ha'txa be-nx3`p8$le/.| la' }i'tle nx3`p8a/.| di'ya t>-a`m3r| }a'p }anna-ju'lle t>-ila`-llux| }u-}a'yya xma'rta di`yila/.| w-a'ti x3'zy3tli }a'na ti'wa l-xa`s.a/.| hu6a'ya m3`re| di`yila/!| }i'na d-$`nila/?| qa'zi m3're qu`| ka'lba br3t-ka'lba hu6a`ya/.| }a'm3r si' s<art.-di`yuxile/.|\""
      ]
     },
     "execution_count": 3,
     "metadata": {},
     "output_type": "execute_result"
    }
   ],
   "source": [
    "T.text(L.u(morph, 'paragraph'), fmt='text-trans-full')"
   ]
  },
  {
   "cell_type": "code",
   "execution_count": 4,
   "metadata": {},
   "outputs": [
    {
     "data": {
      "text/plain": [
       "'xa-ga xeta,| mallah naSradin,| xaz9x modi wi6a.| gu-b38a wewa,| har-zala-w 8aya.| zala-w 8aya,| mara ya-)alaha,| yaw9tli| )9mma dawe.| )9n-hawa| )9%%i-u )9%%a maq9lb9nna.| )u-)9n-hawa| )9mma-w-xa-7i,| la-b@y9nna.| de-$uqla.| )9mma g@r9g hawa dr9st.| b-alaha hole zala-w 8aya,| )i8wale xa-$wawa hu6aya,| maSo8e )9lle diye.| m9re xaz9x )awwa dus-ile.| q3m9n mjarb9nne.| siqa l-gare,| d9ry3le )9%%i-u )9%%a dawe gu-6a-kista,| d9rya b-kawele.| )a baxta hayyo!| hole )alaha q9m-m$ad9rr9n.| mu8383la majma.| msurq9lla pi$ela mnay9lla l-xa-xa.| pliTla )9%%i-u )9%%a.| tre,| tre,| )9%%i-u )9%%a.| )9Sra,| )9Sra,| har-)9%%i-u )9%%a.| klela,| )am9r baxta dus-ile.| )alaha la-xal9T.| )9%%i-u )9%%a,| )ax5i )ana max-x$awti,| )ayya kista| hole mxo79bn9lla max-xa.| ha-$qul,| mattula t@maha.| hu6aya l-gare| $wir3le l-palga,| yaba )an9n m$udr9lla!| )ay kalba )am9r tama l-gare maSyo8e,| b@y9t $aql9tla )ap-)anna.| mrazg9t ganux.| t9mm9l <+>-asq9x k9s-qazi.| hu6aya )9%%i-u )9%%a dawe zile m9nne,| )3ka <+>-a8ya $9n8e?!| hal-qedamta $9n8e la-8ela.| har-wele zala-w 8aya.| malla mutt9lle re$e dmixa.| Tliya,| kefe basimta,| )u-dawe xo-re$e.| sa)9t )9$ta mbadla| )98y3le hu6aya wa6a T9q-T9q-T9q l-T@ra.| )u-qare l-t@ra| modila q9SS9t?| p8ix9lle t@ra malla,| )ina hu6aya lwi$a ka$xa-w julle xa8e.| )u-xmarte diye msurg9lla-w wi69lla taza.| Tla-modila )ayya?| m9re <+>-asq9x k9s-qazi.| m9re si kalba.| )ana la-)a89n m9nnux.| Tla-mo la-)a89t m9nni?| si la-)a89n m9nnux )ana.| Tla-mo?| modila q9SS9t?| m9re )alaha-w na$e y@6i.| xaz3la )anna jullux hatxa,| ka$xa-w )ayya xmartux| )u-s3rga-w| w-ana b-anna da$da$e-w| b-anna 5a&alle-w| )u-$9xtana-w| $arT qazi t-yaw9lla Tlalux.| qazi <+>-aw9dla Tlalux,| la-)aw9dla Tlali.| m9re la-)a89n,| )ina jullux halla Tlali.| )u-xmartux <+>-atw9n )ana l-xaSa.| )u-)ati lu$-julli| )u-<+>-asq9x.| ham-)9n )asq9t| )ap-)ayya qabul-ila.| qim3le )aw-lwi$a da$da$9t malla,| )u-5a&all9t malla,| malla lwi$3le ka$xa d-o-hu6aya| )u-tiw3le xaS9t xmarta,| )u-siqela k9s-qazi.| siq3le k9s-qazi,| wirela $arT-qazi.| modila q9SS9t?| malla m9re| qazi <+>-aw9t basima.| )ana k9ma dana <+>-in-mSaloye Tla-marya )alaha| ta-t-yaw9lli )9mma dawe.| )u-)awwa hu6aya wele maSyo8e nTara )9lli l-gare.| )u-)alaha $uxa-l-$9mme q9m-m$ad9rri )9%%i-u )9%%a dawe.| )u-)ana m9ri baxta,| )ap )ayya-kista| )alaha mxo79bn9lla m-gEb-xa-dawa.| )u-)awwa-7i hu6aya l-gare| )9lla,| )anna dawe )an9n hiw9llux.| )u-hatxa be-b@x9t-ile,| ya-qazi <+>-aw9t basima,| )awwa hu6aya,| ya(ni diya gu-pa8ux| mdag9l| )u-saru.| m9re xzi hatxa be-nx9p83le.| la )itle nx9p8a.| diya <+>-am9r| )ap )anna-julle <+>-ila-llux| )u-)ayya xmarta diyila.| w-ati x9zy9tli )ana tiwa l-xaSa.| hu6aya m9re| diyila!| )ina d-3nila?| qazi m9re qu| kalba br9t-kalba hu6aya.| )am9r si $arT-diyuxile.|'"
      ]
     },
     "execution_count": 4,
     "metadata": {},
     "output_type": "execute_result"
    }
   ],
   "source": [
    "T.text(L.u(morph, 'paragraph'), fmt='text-trans-lite')"
   ]
  },
  {
   "cell_type": "code",
   "execution_count": 5,
   "metadata": {},
   "outputs": [
    {
     "data": {
      "text/plain": [
       "'xa-ga xeta, mallah nasradin, xazix modi wida. gu-beta wewa, har-zala-w taya. zala-w taya, mara ya-alaha, yawitli imma dawe. in-hawa i55i-u i55a maqilbinna. u-in-hawa imma-w-xa-zi, la-bayinna. de-suqla. imma garig hawa drist. b-alaha hole zala-w taya, itwale xa-swawa hudaya, masote ille diye. mire xazix awwa dus-ile. qemin mjarbinne. siqa l-gare, diryele i55i-u i55a dawe gu-da-kista, dirya b-kawele. a baxta hayyo! hole alaha qim-msadirrin. mutetela majma. msurqilla pisela mnayilla l-xa-xa. plitla i55i-u i55a. tre, tre, i55i-u i55a. isra, isra, har-i55i-u i55a. klela, amir baxta dus-ile. alaha la-xalit. i55i-u i55a, ax5i ana max-xsawti, ayya kista hole mxozibnilla max-xa. ha-squl, mattula tamaha. hudaya l-gare swirele l-palga, yaba anin msudrilla! ay kalba amir tama l-gare masyote, bayit saqlitla ap-anna. mrazgit ganux. timmil t-asqix kis-qazi. hudaya i55i-u i55a dawe zile minne, eka t-atya sinte?! hal-qedamta sinte la-tela. har-wele zala-w taya. malla muttille rese dmixa. tliya, kefe basimta, u-dawe xo-rese. sait ista mbadla ityele hudaya wada tiq-tiq-tiq l-tara. u-qare l-tara modila qissit? ptixille tara malla, ina hudaya lwisa kasxa-w julle xate. u-xmarte diye msurgilla-w widilla taza. tla-modila ayya? mire t-asqix kis-qazi. mire si kalba. ana la-atin minnux. tla-mo la-atit minni? si la-atin minnux ana. tla-mo? modila qissit? mire alaha-w nase yadi. xazela anna jullux hatxa, kasxa-w ayya xmartux u-serga-w w-ana b-anna dasdase-w b-anna 5akalle-w u-sixtana-w sart qazi t-yawilla tlalux. qazi t-awidla tlalux, la-awidla tlali. mire la-atin, ina jullux halla tlali. u-xmartux t-atwin ana l-xasa. u-ati lus-julli u-t-asqix. ham-in asqit ap-ayya qabul-ila. qimele aw-lwisa dasdasit malla, u-5akallit malla, malla lwisele kasxa d-o-hudaya u-tiwele xasit xmarta, u-siqela kis-qazi. siqele kis-qazi, wirela sart-qazi. modila qissit? malla mire qazi t-awit basima. ana kima dana t-in-msaloye tla-marya alaha ta-t-yawilli imma dawe. u-awwa hudaya wele masyote ntara illi l-gare. u-alaha suxa-l-simme qim-msadirri i55i-u i55a dawe. u-ana miri baxta, ap ayya-kista alaha mxozibnilla m-geb-xa-dawa. u-awwa-zi hudaya l-gare illa, anna dawe anin hiwillux. u-hatxa be-baxit-ile, ya-qazi t-awit basima, awwa hudaya, yani diya gu-patux mdagil u-saru. mire xzi hatxa be-nxiptele. la itle nxipta. diya t-amir ap anna-julle t-ila-llux u-ayya xmarta diyila. w-ati xizyitli ana tiwa l-xasa. hudaya mire diyila! ina d-enila? qazi mire qu kalba brit-kalba hudaya. amir si sart-diyuxile.'"
      ]
     },
     "execution_count": 5,
     "metadata": {},
     "output_type": "execute_result"
    }
   ],
   "source": [
    "T.text(L.u(morph, 'paragraph'), fmt='text-trans-fuzzy')"
   ]
  },
  {
   "cell_type": "code",
   "execution_count": 23,
   "metadata": {},
   "outputs": [],
   "source": [
    "import pandas as pd"
   ]
  },
  {
   "cell_type": "code",
   "execution_count": 32,
   "metadata": {},
   "outputs": [],
   "source": [
    "paragraph = L.u(morph, 'paragraph')[0]\n",
    "\n",
    "show_words_data = []\n",
    "\n",
    "for word in L.d(paragraph, 'word'):\n",
    "    show_words_data.append((word, T.text(word),F.trans_l.v(word), F.t_fuzzy.v(word)))"
   ]
  },
  {
   "cell_type": "code",
   "execution_count": 33,
   "metadata": {},
   "outputs": [],
   "source": [
    "show_words = pd.DataFrame(show_words_data, columns=('node', 'text','trans_lite', 'fuzzy'))"
   ]
  },
  {
   "cell_type": "code",
   "execution_count": 34,
   "metadata": {},
   "outputs": [
    {
     "data": {
      "text/html": [
       "<div>\n",
       "<style scoped>\n",
       "    .dataframe tbody tr th:only-of-type {\n",
       "        vertical-align: middle;\n",
       "    }\n",
       "\n",
       "    .dataframe tbody tr th {\n",
       "        vertical-align: top;\n",
       "    }\n",
       "\n",
       "    .dataframe thead th {\n",
       "        text-align: right;\n",
       "    }\n",
       "</style>\n",
       "<table border=\"1\" class=\"dataframe\">\n",
       "  <thead>\n",
       "    <tr style=\"text-align: right;\">\n",
       "      <th></th>\n",
       "      <th>node</th>\n",
       "      <th>text</th>\n",
       "      <th>trans_lite</th>\n",
       "      <th>fuzzy</th>\n",
       "    </tr>\n",
       "  </thead>\n",
       "  <tbody>\n",
       "    <tr>\n",
       "      <th>0</th>\n",
       "      <td>739771</td>\n",
       "      <td>xá-ga</td>\n",
       "      <td>xa-ga</td>\n",
       "      <td>xa-ga</td>\n",
       "    </tr>\n",
       "    <tr>\n",
       "      <th>1</th>\n",
       "      <td>739772</td>\n",
       "      <td>xèta,ˈ</td>\n",
       "      <td>xeta</td>\n",
       "      <td>xeta</td>\n",
       "    </tr>\n",
       "    <tr>\n",
       "      <th>2</th>\n",
       "      <td>739773</td>\n",
       "      <td>mállah</td>\n",
       "      <td>mallah</td>\n",
       "      <td>mallah</td>\n",
       "    </tr>\n",
       "    <tr>\n",
       "      <th>3</th>\n",
       "      <td>739774</td>\n",
       "      <td>Naṣràdin,ˈ</td>\n",
       "      <td>naSradin</td>\n",
       "      <td>nasradin</td>\n",
       "    </tr>\n",
       "    <tr>\n",
       "      <th>4</th>\n",
       "      <td>739775</td>\n",
       "      <td>xázəx</td>\n",
       "      <td>xaz9x</td>\n",
       "      <td>xazix</td>\n",
       "    </tr>\n",
       "    <tr>\n",
       "      <th>5</th>\n",
       "      <td>739776</td>\n",
       "      <td>mòdi</td>\n",
       "      <td>modi</td>\n",
       "      <td>modi</td>\n",
       "    </tr>\n",
       "    <tr>\n",
       "      <th>6</th>\n",
       "      <td>739777</td>\n",
       "      <td>wíða.ˈ</td>\n",
       "      <td>wi6a</td>\n",
       "      <td>wida</td>\n",
       "    </tr>\n",
       "    <tr>\n",
       "      <th>7</th>\n",
       "      <td>739778</td>\n",
       "      <td>gu-bɛ̀θa</td>\n",
       "      <td>gu-b38a</td>\n",
       "      <td>gu-beta</td>\n",
       "    </tr>\n",
       "    <tr>\n",
       "      <th>8</th>\n",
       "      <td>739779</td>\n",
       "      <td>wéwa,ˈ</td>\n",
       "      <td>wewa</td>\n",
       "      <td>wewa</td>\n",
       "    </tr>\n",
       "    <tr>\n",
       "      <th>9</th>\n",
       "      <td>739780</td>\n",
       "      <td>har-zála-w</td>\n",
       "      <td>har-zala-w</td>\n",
       "      <td>har-zala-w</td>\n",
       "    </tr>\n",
       "    <tr>\n",
       "      <th>10</th>\n",
       "      <td>739781</td>\n",
       "      <td>θàya.ˈ</td>\n",
       "      <td>8aya</td>\n",
       "      <td>taya</td>\n",
       "    </tr>\n",
       "    <tr>\n",
       "      <th>11</th>\n",
       "      <td>739782</td>\n",
       "      <td>zála-w</td>\n",
       "      <td>zala-w</td>\n",
       "      <td>zala-w</td>\n",
       "    </tr>\n",
       "    <tr>\n",
       "      <th>12</th>\n",
       "      <td>739783</td>\n",
       "      <td>θàya,ˈ</td>\n",
       "      <td>8aya</td>\n",
       "      <td>taya</td>\n",
       "    </tr>\n",
       "    <tr>\n",
       "      <th>13</th>\n",
       "      <td>739784</td>\n",
       "      <td>mára</td>\n",
       "      <td>mara</td>\n",
       "      <td>mara</td>\n",
       "    </tr>\n",
       "    <tr>\n",
       "      <th>14</th>\n",
       "      <td>739785</td>\n",
       "      <td>ya-ʾàlaha,ˈ</td>\n",
       "      <td>ya-)alaha</td>\n",
       "      <td>ya-alaha</td>\n",
       "    </tr>\n",
       "    <tr>\n",
       "      <th>15</th>\n",
       "      <td>739786</td>\n",
       "      <td>yawə̀tliˈ</td>\n",
       "      <td>yaw9tli</td>\n",
       "      <td>yawitli</td>\n",
       "    </tr>\n",
       "    <tr>\n",
       "      <th>16</th>\n",
       "      <td>739787</td>\n",
       "      <td>ʾə́mma</td>\n",
       "      <td>)9mma</td>\n",
       "      <td>imma</td>\n",
       "    </tr>\n",
       "    <tr>\n",
       "      <th>17</th>\n",
       "      <td>739788</td>\n",
       "      <td>dàwe.ˈ</td>\n",
       "      <td>dawe</td>\n",
       "      <td>dawe</td>\n",
       "    </tr>\n",
       "    <tr>\n",
       "      <th>18</th>\n",
       "      <td>739789</td>\n",
       "      <td>ʾən-hàwaˈ</td>\n",
       "      <td>)9n-hawa</td>\n",
       "      <td>in-hawa</td>\n",
       "    </tr>\n",
       "    <tr>\n",
       "      <th>19</th>\n",
       "      <td>739790</td>\n",
       "      <td>ʾə́č̣č̣i-u</td>\n",
       "      <td>)9%%i-u</td>\n",
       "      <td>i55i-u</td>\n",
       "    </tr>\n",
       "    <tr>\n",
       "      <th>20</th>\n",
       "      <td>739791</td>\n",
       "      <td>ʾə́č̣č̣a</td>\n",
       "      <td>)9%%a</td>\n",
       "      <td>i55a</td>\n",
       "    </tr>\n",
       "    <tr>\n",
       "      <th>21</th>\n",
       "      <td>739792</td>\n",
       "      <td>maqəlbə̀nna.ˈ</td>\n",
       "      <td>maq9lb9nna</td>\n",
       "      <td>maqilbinna</td>\n",
       "    </tr>\n",
       "    <tr>\n",
       "      <th>22</th>\n",
       "      <td>739793</td>\n",
       "      <td>ʾu-ʾən-hàwaˈ</td>\n",
       "      <td>)u-)9n-hawa</td>\n",
       "      <td>u-in-hawa</td>\n",
       "    </tr>\n",
       "    <tr>\n",
       "      <th>23</th>\n",
       "      <td>739794</td>\n",
       "      <td>ʾə́mma-w-xà-ži,ˈ</td>\n",
       "      <td>)9mma-w-xa-7i</td>\n",
       "      <td>imma-w-xa-zi</td>\n",
       "    </tr>\n",
       "    <tr>\n",
       "      <th>24</th>\n",
       "      <td>739795</td>\n",
       "      <td>la-băyə̀nna.ˈ</td>\n",
       "      <td>la-b@y9nna</td>\n",
       "      <td>la-bayinna</td>\n",
       "    </tr>\n",
       "    <tr>\n",
       "      <th>25</th>\n",
       "      <td>739796</td>\n",
       "      <td>de-šùqla.ˈ</td>\n",
       "      <td>de-$uqla</td>\n",
       "      <td>de-suqla</td>\n",
       "    </tr>\n",
       "    <tr>\n",
       "      <th>26</th>\n",
       "      <td>739797</td>\n",
       "      <td>ʾə̀mma</td>\n",
       "      <td>)9mma</td>\n",
       "      <td>imma</td>\n",
       "    </tr>\n",
       "    <tr>\n",
       "      <th>27</th>\n",
       "      <td>739798</td>\n",
       "      <td>gắrəg</td>\n",
       "      <td>g@r9g</td>\n",
       "      <td>garig</td>\n",
       "    </tr>\n",
       "    <tr>\n",
       "      <th>28</th>\n",
       "      <td>739799</td>\n",
       "      <td>háwa</td>\n",
       "      <td>hawa</td>\n",
       "      <td>hawa</td>\n",
       "    </tr>\n",
       "    <tr>\n",
       "      <th>29</th>\n",
       "      <td>739800</td>\n",
       "      <td>drə́st.ˈ</td>\n",
       "      <td>dr9st</td>\n",
       "      <td>drist</td>\n",
       "    </tr>\n",
       "    <tr>\n",
       "      <th>30</th>\n",
       "      <td>739801</td>\n",
       "      <td>b-álaha</td>\n",
       "      <td>b-alaha</td>\n",
       "      <td>b-alaha</td>\n",
       "    </tr>\n",
       "    <tr>\n",
       "      <th>31</th>\n",
       "      <td>739802</td>\n",
       "      <td>hóle</td>\n",
       "      <td>hole</td>\n",
       "      <td>hole</td>\n",
       "    </tr>\n",
       "    <tr>\n",
       "      <th>32</th>\n",
       "      <td>739803</td>\n",
       "      <td>zála-w</td>\n",
       "      <td>zala-w</td>\n",
       "      <td>zala-w</td>\n",
       "    </tr>\n",
       "    <tr>\n",
       "      <th>33</th>\n",
       "      <td>739804</td>\n",
       "      <td>θàya,ˈ</td>\n",
       "      <td>8aya</td>\n",
       "      <td>taya</td>\n",
       "    </tr>\n",
       "    <tr>\n",
       "      <th>34</th>\n",
       "      <td>739805</td>\n",
       "      <td>ʾíθwale</td>\n",
       "      <td>)i8wale</td>\n",
       "      <td>itwale</td>\n",
       "    </tr>\n",
       "    <tr>\n",
       "      <th>35</th>\n",
       "      <td>739806</td>\n",
       "      <td>xá-šwawa</td>\n",
       "      <td>xa-$wawa</td>\n",
       "      <td>xa-swawa</td>\n",
       "    </tr>\n",
       "    <tr>\n",
       "      <th>36</th>\n",
       "      <td>739807</td>\n",
       "      <td>huðàya,ˈ</td>\n",
       "      <td>hu6aya</td>\n",
       "      <td>hudaya</td>\n",
       "    </tr>\n",
       "    <tr>\n",
       "      <th>37</th>\n",
       "      <td>739808</td>\n",
       "      <td>maṣóθe</td>\n",
       "      <td>maSo8e</td>\n",
       "      <td>masote</td>\n",
       "    </tr>\n",
       "    <tr>\n",
       "      <th>38</th>\n",
       "      <td>739809</td>\n",
       "      <td>ʾə́lle</td>\n",
       "      <td>)9lle</td>\n",
       "      <td>ille</td>\n",
       "    </tr>\n",
       "    <tr>\n",
       "      <th>39</th>\n",
       "      <td>739810</td>\n",
       "      <td>dìye.ˈ</td>\n",
       "      <td>diye</td>\n",
       "      <td>diye</td>\n",
       "    </tr>\n",
       "    <tr>\n",
       "      <th>40</th>\n",
       "      <td>739811</td>\n",
       "      <td>mə́re</td>\n",
       "      <td>m9re</td>\n",
       "      <td>mire</td>\n",
       "    </tr>\n",
       "    <tr>\n",
       "      <th>41</th>\n",
       "      <td>739812</td>\n",
       "      <td>xázəx</td>\n",
       "      <td>xaz9x</td>\n",
       "      <td>xazix</td>\n",
       "    </tr>\n",
       "    <tr>\n",
       "      <th>42</th>\n",
       "      <td>739813</td>\n",
       "      <td>ʾáwwa</td>\n",
       "      <td>)awwa</td>\n",
       "      <td>awwa</td>\n",
       "    </tr>\n",
       "    <tr>\n",
       "      <th>43</th>\n",
       "      <td>739814</td>\n",
       "      <td>dū̀s-ile.ˈ</td>\n",
       "      <td>dus-ile</td>\n",
       "      <td>dus-ile</td>\n",
       "    </tr>\n",
       "    <tr>\n",
       "      <th>44</th>\n",
       "      <td>739815</td>\n",
       "      <td>qɛ́mən</td>\n",
       "      <td>q3m9n</td>\n",
       "      <td>qemin</td>\n",
       "    </tr>\n",
       "    <tr>\n",
       "      <th>45</th>\n",
       "      <td>739816</td>\n",
       "      <td>mjarbə̀nne.ˈ</td>\n",
       "      <td>mjarb9nne</td>\n",
       "      <td>mjarbinne</td>\n",
       "    </tr>\n",
       "    <tr>\n",
       "      <th>46</th>\n",
       "      <td>739817</td>\n",
       "      <td>síqa</td>\n",
       "      <td>siqa</td>\n",
       "      <td>siqa</td>\n",
       "    </tr>\n",
       "    <tr>\n",
       "      <th>47</th>\n",
       "      <td>739818</td>\n",
       "      <td>l-gàre,ˈ</td>\n",
       "      <td>l-gare</td>\n",
       "      <td>l-gare</td>\n",
       "    </tr>\n",
       "    <tr>\n",
       "      <th>48</th>\n",
       "      <td>739819</td>\n",
       "      <td>də́ryɛle</td>\n",
       "      <td>d9ry3le</td>\n",
       "      <td>diryele</td>\n",
       "    </tr>\n",
       "    <tr>\n",
       "      <th>49</th>\n",
       "      <td>739820</td>\n",
       "      <td>ʾə́č̣č̣i-u</td>\n",
       "      <td>)9%%i-u</td>\n",
       "      <td>i55i-u</td>\n",
       "    </tr>\n",
       "  </tbody>\n",
       "</table>\n",
       "</div>"
      ],
      "text/plain": [
       "      node               text     trans_lite         fuzzy\n",
       "0   739771             xá-ga           xa-ga         xa-ga\n",
       "1   739772            xèta,ˈ            xeta          xeta\n",
       "2   739773            mállah          mallah        mallah\n",
       "3   739774        Naṣràdin,ˈ        naSradin      nasradin\n",
       "4   739775             xázəx           xaz9x         xazix\n",
       "5   739776              mòdi            modi          modi\n",
       "6   739777            wíða.ˈ            wi6a          wida\n",
       "7   739778          gu-bɛ̀θa         gu-b38a       gu-beta\n",
       "8   739779            wéwa,ˈ            wewa          wewa\n",
       "9   739780        har-zála-w      har-zala-w    har-zala-w\n",
       "10  739781            θàya.ˈ            8aya          taya\n",
       "11  739782            zála-w          zala-w        zala-w\n",
       "12  739783            θàya,ˈ            8aya          taya\n",
       "13  739784              mára            mara          mara\n",
       "14  739785       ya-ʾàlaha,ˈ       ya-)alaha      ya-alaha\n",
       "15  739786         yawə̀tliˈ         yaw9tli       yawitli\n",
       "16  739787            ʾə́mma           )9mma          imma\n",
       "17  739788            dàwe.ˈ            dawe          dawe\n",
       "18  739789         ʾən-hàwaˈ        )9n-hawa       in-hawa\n",
       "19  739790        ʾə́č̣č̣i-u         )9%%i-u        i55i-u\n",
       "20  739791          ʾə́č̣č̣a           )9%%a          i55a\n",
       "21  739792     maqəlbə̀nna.ˈ      maq9lb9nna    maqilbinna\n",
       "22  739793      ʾu-ʾən-hàwaˈ     )u-)9n-hawa     u-in-hawa\n",
       "23  739794  ʾə́mma-w-xà-ži,ˈ   )9mma-w-xa-7i  imma-w-xa-zi\n",
       "24  739795     la-băyə̀nna.ˈ      la-b@y9nna    la-bayinna\n",
       "25  739796        de-šùqla.ˈ        de-$uqla      de-suqla\n",
       "26  739797            ʾə̀mma           )9mma          imma\n",
       "27  739798             gắrəg           g@r9g         garig\n",
       "28  739799              háwa            hawa          hawa\n",
       "29  739800          drə́st.ˈ           dr9st         drist\n",
       "30  739801           b-álaha         b-alaha       b-alaha\n",
       "31  739802              hóle            hole          hole\n",
       "32  739803            zála-w          zala-w        zala-w\n",
       "33  739804            θàya,ˈ            8aya          taya\n",
       "34  739805           ʾíθwale         )i8wale        itwale\n",
       "35  739806          xá-šwawa        xa-$wawa      xa-swawa\n",
       "36  739807          huðàya,ˈ          hu6aya        hudaya\n",
       "37  739808            maṣóθe          maSo8e        masote\n",
       "38  739809            ʾə́lle           )9lle          ille\n",
       "39  739810            dìye.ˈ            diye          diye\n",
       "40  739811             mə́re            m9re          mire\n",
       "41  739812             xázəx           xaz9x         xazix\n",
       "42  739813             ʾáwwa           )awwa          awwa\n",
       "43  739814        dū̀s-ile.ˈ         dus-ile       dus-ile\n",
       "44  739815            qɛ́mən           q3m9n         qemin\n",
       "45  739816      mjarbə̀nne.ˈ       mjarb9nne     mjarbinne\n",
       "46  739817              síqa            siqa          siqa\n",
       "47  739818          l-gàre,ˈ          l-gare        l-gare\n",
       "48  739819          də́ryɛle         d9ry3le       diryele\n",
       "49  739820        ʾə́č̣č̣i-u         )9%%i-u        i55i-u"
      ]
     },
     "execution_count": 34,
     "metadata": {},
     "output_type": "execute_result"
    }
   ],
   "source": [
    "show_words.head(50)"
   ]
  },
  {
   "cell_type": "markdown",
   "metadata": {},
   "source": [
    "## Testing with App"
   ]
  },
  {
   "cell_type": "code",
   "execution_count": 35,
   "metadata": {},
   "outputs": [
    {
     "name": "stdout",
     "output_type": "stream",
     "text": [
      "Using TF-app in /Users/cody/github/annotation/app-nena/code:\n",
      "\trepo clone offline under ~/github (local github)\n",
      "Using data in /Users/cody/github/CambridgeSemiticsLab/nena_tf/tf/0.01:\n",
      "\trepo clone offline under ~/github (local github)\n",
      "   |     0.00s No structure info in otext, the structure part of the T-API cannot be used\n"
     ]
    },
    {
     "data": {
      "text/html": [
       "<b>Documentation:</b> <a target=\"_blank\" href=\"https://github.com/CambridgeSemiticsLab/nena_tf/blob/master/docs\" title=\"provenance of Northeastern Neo-Aramaic Text Corpus\">NENA_TF</a> <a target=\"_blank\" href=\"https://github.com/CambridgeSemiticsLab/nena_tf/blob/master/docs/transcription.md\" title=\"('NENA transcription script',)\">Character table</a> <a target=\"_blank\" href=\"https://github.com/CambridgeSemiticsLab/nena_tf/blob/master/docs/features.md#features.md\" title=\"NENA_TF feature documentation\">Feature docs</a> <a target=\"_blank\" href=\"https://github.com/annotation/app-nena\" title=\"nena API documentation\">nena API</a> <a target=\"_blank\" href=\"https://annotation.github.io/text-fabric/Api/Fabric/\" title=\"text-fabric-api\">Text-Fabric API 7.9.0</a> <a target=\"_blank\" href=\"https://annotation.github.io/text-fabric/Use/Search/\" title=\"Search Templates Introduction and Reference\">Search Reference</a><details open><summary><b>Loaded features</b>:</summary>\n",
       "<p><b>Northeastern Neo-Aramaic Text Corpus</b>: <a target=\"_blank\" href=\"https://github.com/CambridgeSemiticsLab/nena_tf/blob/master/docs/features.md#comment\" title=\"/Users/cody/github/CambridgeSemiticsLab/nena_tf/tf/0.01/comment.tf\">comment</a>  <a target=\"_blank\" href=\"https://github.com/CambridgeSemiticsLab/nena_tf/blob/master/docs/features.md#continued_from\" title=\"/Users/cody/github/CambridgeSemiticsLab/nena_tf/tf/0.01/continued_from.tf\">continued_from</a>  <a target=\"_blank\" href=\"https://github.com/CambridgeSemiticsLab/nena_tf/blob/master/docs/features.md#dialect\" title=\"/Users/cody/github/CambridgeSemiticsLab/nena_tf/tf/0.01/dialect.tf\">dialect</a>  <a target=\"_blank\" href=\"https://github.com/CambridgeSemiticsLab/nena_tf/blob/master/docs/features.md#efuzzy\" title=\"/Users/cody/github/CambridgeSemiticsLab/nena_tf/tf/0.01/efuzzy.tf\">efuzzy</a>  <a target=\"_blank\" href=\"https://github.com/CambridgeSemiticsLab/nena_tf/blob/master/docs/features.md#end\" title=\"/Users/cody/github/CambridgeSemiticsLab/nena_tf/tf/0.01/end.tf\">end</a>  <a target=\"_blank\" href=\"https://github.com/CambridgeSemiticsLab/nena_tf/blob/master/docs/features.md#etrans_f\" title=\"/Users/cody/github/CambridgeSemiticsLab/nena_tf/tf/0.01/etrans_f.tf\">etrans_f</a>  <a target=\"_blank\" href=\"https://github.com/CambridgeSemiticsLab/nena_tf/blob/master/docs/features.md#etrans_l\" title=\"/Users/cody/github/CambridgeSemiticsLab/nena_tf/tf/0.01/etrans_l.tf\">etrans_l</a>  <a target=\"_blank\" href=\"https://github.com/CambridgeSemiticsLab/nena_tf/blob/master/docs/features.md#footnotes\" title=\"/Users/cody/github/CambridgeSemiticsLab/nena_tf/tf/0.01/footnotes.tf\">footnotes</a>  <a target=\"_blank\" href=\"https://github.com/CambridgeSemiticsLab/nena_tf/blob/master/docs/features.md#foreign\" title=\"/Users/cody/github/CambridgeSemiticsLab/nena_tf/tf/0.01/foreign.tf\">foreign</a>  <a target=\"_blank\" href=\"https://github.com/CambridgeSemiticsLab/nena_tf/blob/master/docs/features.md#informant\" title=\"/Users/cody/github/CambridgeSemiticsLab/nena_tf/tf/0.01/informant.tf\">informant</a>  <a target=\"_blank\" href=\"https://github.com/CambridgeSemiticsLab/nena_tf/blob/master/docs/features.md#lang\" title=\"/Users/cody/github/CambridgeSemiticsLab/nena_tf/tf/0.01/lang.tf\">lang</a>  <a target=\"_blank\" href=\"https://github.com/CambridgeSemiticsLab/nena_tf/blob/master/docs/features.md#number\" title=\"/Users/cody/github/CambridgeSemiticsLab/nena_tf/tf/0.01/number.tf\">number</a>  <a target=\"_blank\" href=\"https://github.com/CambridgeSemiticsLab/nena_tf/blob/master/docs/features.md#otype\" title=\"/Users/cody/github/CambridgeSemiticsLab/nena_tf/tf/0.01/otype.tf\">otype</a>  <a target=\"_blank\" href=\"https://github.com/CambridgeSemiticsLab/nena_tf/blob/master/docs/features.md#place\" title=\"/Users/cody/github/CambridgeSemiticsLab/nena_tf/tf/0.01/place.tf\">place</a>  <a target=\"_blank\" href=\"https://github.com/CambridgeSemiticsLab/nena_tf/blob/master/docs/features.md#source\" title=\"/Users/cody/github/CambridgeSemiticsLab/nena_tf/tf/0.01/source.tf\">source</a>  <a target=\"_blank\" href=\"https://github.com/CambridgeSemiticsLab/nena_tf/blob/master/docs/features.md#speaker\" title=\"/Users/cody/github/CambridgeSemiticsLab/nena_tf/tf/0.01/speaker.tf\">speaker</a>  <a target=\"_blank\" href=\"https://github.com/CambridgeSemiticsLab/nena_tf/blob/master/docs/features.md#t_fuzzy\" title=\"/Users/cody/github/CambridgeSemiticsLab/nena_tf/tf/0.01/t_fuzzy.tf\">t_fuzzy</a>  <a target=\"_blank\" href=\"https://github.com/CambridgeSemiticsLab/nena_tf/blob/master/docs/features.md#text\" title=\"/Users/cody/github/CambridgeSemiticsLab/nena_tf/tf/0.01/text.tf\">text</a>  <a target=\"_blank\" href=\"https://github.com/CambridgeSemiticsLab/nena_tf/blob/master/docs/features.md#text_id\" title=\"/Users/cody/github/CambridgeSemiticsLab/nena_tf/tf/0.01/text_id.tf\">text_id</a>  <a target=\"_blank\" href=\"https://github.com/CambridgeSemiticsLab/nena_tf/blob/master/docs/features.md#title\" title=\"/Users/cody/github/CambridgeSemiticsLab/nena_tf/tf/0.01/title.tf\">title</a>  <a target=\"_blank\" href=\"https://github.com/CambridgeSemiticsLab/nena_tf/blob/master/docs/features.md#trans_f\" title=\"/Users/cody/github/CambridgeSemiticsLab/nena_tf/tf/0.01/trans_f.tf\">trans_f</a>  <a target=\"_blank\" href=\"https://github.com/CambridgeSemiticsLab/nena_tf/blob/master/docs/features.md#trans_l\" title=\"/Users/cody/github/CambridgeSemiticsLab/nena_tf/tf/0.01/trans_l.tf\">trans_l</a>  <a target=\"_blank\" href=\"https://github.com/CambridgeSemiticsLab/nena_tf/blob/master/docs/features.md#version\" title=\"/Users/cody/github/CambridgeSemiticsLab/nena_tf/tf/0.01/version.tf\">version</a>  <b><i><a target=\"_blank\" href=\"https://github.com/CambridgeSemiticsLab/nena_tf/blob/master/docs/features.md#oslots\" title=\"/Users/cody/github/CambridgeSemiticsLab/nena_tf/tf/0.01/oslots.tf\">oslots</a></i></b> </p></details>"
      ],
      "text/plain": [
       "<IPython.core.display.HTML object>"
      ]
     },
     "metadata": {},
     "output_type": "display_data"
    },
    {
     "data": {
      "text/html": [
       "<style>\n",
       "@font-face {\n",
       "  font-family: \"CharisSIL-R\";\n",
       "  src:\n",
       "    local(\"CharisSIL-R.otf\"),\n",
       "    url(\"https://github.com/annotation/text-fabric/blob/master/tf/server/static/fonts/CharisSIL-R.woff?raw=true\");\n",
       "}\n",
       ".features {\n",
       "    font-family: monospace;\n",
       "    font-size: medium;\n",
       "    font-weight: normal;\n",
       "    color: #000000;\n",
       "    display: flex;\n",
       "    flex-flow: column nowrap;\n",
       "    padding: 0.1em;\n",
       "    margin: 0.1em;\n",
       "    direction: ltr;\n",
       "}\n",
       ".features div,.features span {\n",
       "    padding: 0;\n",
       "    margin: -0.1rem 0;\n",
       "}\n",
       ".features .f {\n",
       "    font-family: sans-serif;\n",
       "    font-size: x-small;\n",
       "    font-weight: normal;\n",
       "    color: #5555bb;\n",
       "}\n",
       ".features .xft {\n",
       "  color: #000000;\n",
       "  background-color: #eeeeee;\n",
       "  font-size: medium;\n",
       "  margin: 0.1em 0em;\n",
       "}\n",
       ".features .xft .f {\n",
       "  color: #000000;\n",
       "  background-color: #eeeeee;\n",
       "  font-style: italic;\n",
       "  font-size: x-small;\n",
       "  font-weight: normal;\n",
       "}\n",
       "\n",
       ".ll {\n",
       "    display: flex;\n",
       "    flex-flow: column nowrap;\n",
       "    justify-content: flex-end;\n",
       "    align-items: flex-end;\n",
       "    direction: ltr;\n",
       "    width: 100%;\n",
       "}\n",
       "\n",
       ".outeritem {\n",
       "    display: flex;\n",
       "    flex-flow: row wrap;\n",
       "    direction: ltr;\n",
       "}\n",
       "\n",
       ".word,.micro,.macro {\n",
       "    border: 1px solid #4f4c4c;\n",
       "    border-radius: 0.2em;\n",
       "    border-spacing: 5px;\n",
       "    padding: 0.1em;\n",
       "    margin: 0.4em;\n",
       "    display: flex;\n",
       "    flex-flow: row wrap;\n",
       "    direction: ltr;\n",
       "    background-color: #ffffff;\n",
       "}\n",
       "\n",
       ".prosa {\n",
       "    border: 1.5px dotted #4f4c4c;\n",
       "    border-radius: 0.2em;\n",
       "    padding: 0.1em;\n",
       "    margin: 0.4em;\n",
       "    border-color: #a30404;\n",
       "    display: flex;\n",
       "    flex-flow: row wrap;\n",
       "    direction: ltr;\n",
       "    background-color: #ffffff;\n",
       "}\n",
       "\n",
       "\n",
       ".line {\n",
       "    display: flex;\n",
       "    flex-flow: row wrap;\n",
       "    direction: ltr;\n",
       "}\n",
       "\n",
       ".ln {\n",
       "  font-size: small !important;\n",
       "  padding-right: 1em;\n",
       "}\n",
       "\n",
       ".nd {\n",
       "    font-family: monospace;\n",
       "    font-size: x-small;\n",
       "    color: #999999;\n",
       "}\n",
       "\n",
       ".hl {\n",
       "    background-color: #ffee66;\n",
       "}\n",
       "\n",
       ".ara,.ara a:visited,.ara a:link {\n",
       "    font-family: \"CharisSIL-R\";\n",
       "    font-size: 12pt;\n",
       "    color: #000000;\n",
       "    direction: ltr;\n",
       "    text-decoration: none;\n",
       "}\n",
       "\n",
       "/* What do the following classes do? */\n",
       "\n",
       ".tr,.tr a:visited,.tr a:link {\n",
       "    font-family: sans-serif;\n",
       "    font-size: large;\n",
       "    color: #000044;\n",
       "    direction: ltr;\n",
       "    text-decoration: none;\n",
       "}\n",
       ".trb,.trb a:visited,.trb a:link {\n",
       "    font-family: sans-serif;\n",
       "    font-size: normal;\n",
       "    direction: ltr;\n",
       "    text-decoration: none;\n",
       "}\n",
       "\n",
       ".occs {\n",
       "    font-size: x-small;\n",
       "}\n",
       "\n",
       "tr.tf, td.tf, th.tf {\n",
       "  text-align: left;\n",
       "}\n",
       "\n",
       "span.hldot {\n",
       "\tbackground-color: var(--hl-strong);\n",
       "\tborder: 0.2rem solid var(--hl-rim);\n",
       "\tborder-radius: 0.4rem;\n",
       "\t/*\n",
       "\tdisplay: inline-block;\n",
       "\twidth: 0.8rem;\n",
       "\theight: 0.8rem;\n",
       "\t*/\n",
       "}\n",
       "span.hl {\n",
       "\tbackground-color: var(--hl-strong);\n",
       "\tborder-width: 0;\n",
       "\tborder-radius: 0.1rem;\n",
       "\tborder-style: solid;\n",
       "}\n",
       "\n",
       "span.hlup {\n",
       "\tborder-color: var(--hl-dark);\n",
       "\tborder-width: 0.1rem;\n",
       "\tborder-style: solid;\n",
       "\tborder-radius: 0.2rem;\n",
       "  padding: 0.2rem;\n",
       "}\n",
       "\n",
       ":root {\n",
       "\t--hl-strong:        hsla( 60, 100%,  70%, 0.9  );\n",
       "\t--hl-rim:           hsla( 55, 100%,  60%, 0.9  );\n",
       "\t--hl-dark:          hsla( 55, 100%,  40%, 0.9  );\n",
       "}\n",
       "</style>"
      ],
      "text/plain": [
       "<IPython.core.display.HTML object>"
      ]
     },
     "metadata": {},
     "output_type": "display_data"
    },
    {
     "data": {
      "text/html": [
       "<details open><summary><b>API members</b>:</summary>\n",
       "<a target=\"_blank\" href=\"https://annotation.github.io/text-fabric/Api/Computed/#computed-data\" title=\"doc\">C Computed</a>, <a target=\"_blank\" href=\"https://annotation.github.io/text-fabric/Api/Computed/#computed-data\" title=\"doc\">Call AllComputeds</a>, <a target=\"_blank\" href=\"https://annotation.github.io/text-fabric/Api/Computed/#computed-data\" title=\"doc\">Cs ComputedString</a><br/>\n",
       "<a target=\"_blank\" href=\"https://annotation.github.io/text-fabric/Api/Features/#edge-features\" title=\"doc\">E Edge</a>, <a target=\"_blank\" href=\"https://annotation.github.io/text-fabric/Api/Features/#edge-features\" title=\"doc\">Eall AllEdges</a>, <a target=\"_blank\" href=\"https://annotation.github.io/text-fabric/Api/Features/#edge-features\" title=\"doc\">Es EdgeString</a><br/>\n",
       "<a target=\"_blank\" href=\"https://annotation.github.io/text-fabric/Api/Fabric/#loading\" title=\"doc\">ensureLoaded</a>, <a target=\"_blank\" href=\"https://annotation.github.io/text-fabric/Api/Fabric/#loading\" title=\"doc\">TF</a>, <a target=\"_blank\" href=\"https://annotation.github.io/text-fabric/Api/Fabric/#loading\" title=\"doc\">ignored</a>, <a target=\"_blank\" href=\"https://annotation.github.io/text-fabric/Api/Fabric/#loading\" title=\"doc\">loadLog</a><br/>\n",
       "<a target=\"_blank\" href=\"https://annotation.github.io/text-fabric/Api/Locality/#locality\" title=\"doc\">L Locality</a><br/>\n",
       "<a target=\"_blank\" href=\"https://annotation.github.io/text-fabric/Api/Misc/#messaging\" title=\"doc\">cache</a>, <a target=\"_blank\" href=\"https://annotation.github.io/text-fabric/Api/Misc/#messaging\" title=\"doc\">error</a>, <a target=\"_blank\" href=\"https://annotation.github.io/text-fabric/Api/Misc/#messaging\" title=\"doc\">indent</a>, <a target=\"_blank\" href=\"https://annotation.github.io/text-fabric/Api/Misc/#messaging\" title=\"doc\">info</a>, <a target=\"_blank\" href=\"https://annotation.github.io/text-fabric/Api/Misc/#messaging\" title=\"doc\">isSilent</a>, <a target=\"_blank\" href=\"https://annotation.github.io/text-fabric/Api/Misc/#messaging\" title=\"doc\">reset</a>, <a target=\"_blank\" href=\"https://annotation.github.io/text-fabric/Api/Misc/#messaging\" title=\"doc\">setSilent</a>, <a target=\"_blank\" href=\"https://annotation.github.io/text-fabric/Api/Misc/#messaging\" title=\"doc\">silentOff</a>, <a target=\"_blank\" href=\"https://annotation.github.io/text-fabric/Api/Misc/#messaging\" title=\"doc\">silentOn</a>, <a target=\"_blank\" href=\"https://annotation.github.io/text-fabric/Api/Misc/#messaging\" title=\"doc\">warning</a><br/>\n",
       "<a target=\"_blank\" href=\"https://annotation.github.io/text-fabric/Api/Nodes/#navigating-nodes\" title=\"doc\">N Nodes</a>, <a target=\"_blank\" href=\"https://annotation.github.io/text-fabric/Api/Nodes/#navigating-nodes\" title=\"doc\">sortKey</a>, <a target=\"_blank\" href=\"https://annotation.github.io/text-fabric/Api/Nodes/#navigating-nodes\" title=\"doc\">sortKeyTuple</a>, <a target=\"_blank\" href=\"https://annotation.github.io/text-fabric/Api/Nodes/#navigating-nodes\" title=\"doc\">otypeRank</a>, <a target=\"_blank\" href=\"https://annotation.github.io/text-fabric/Api/Nodes/#navigating-nodes\" title=\"doc\">sortNodes</a><br/>\n",
       "<a target=\"_blank\" href=\"https://annotation.github.io/text-fabric/Api/Features/#node-features\" title=\"doc\">F Feature</a>, <a target=\"_blank\" href=\"https://annotation.github.io/text-fabric/Api/Features/#node-features\" title=\"doc\">Fall AllFeatures</a>, <a target=\"_blank\" href=\"https://annotation.github.io/text-fabric/Api/Features/#node-features\" title=\"doc\">Fs FeatureString</a><br/>\n",
       "<a target=\"_blank\" href=\"https://annotation.github.io/text-fabric/Api/Search/#search\" title=\"doc\">S Search</a><br/>\n",
       "<a target=\"_blank\" href=\"https://annotation.github.io/text-fabric/Api/Text/#text\" title=\"doc\">T Text</a></details>"
      ],
      "text/plain": [
       "<IPython.core.display.HTML object>"
      ]
     },
     "metadata": {},
     "output_type": "display_data"
    }
   ],
   "source": [
    "from tf.app import use\n",
    "A = use('nena:clone', checkout='clone', hoist=globals())"
   ]
  },
  {
   "cell_type": "code",
   "execution_count": 36,
   "metadata": {},
   "outputs": [
    {
     "name": "stdout",
     "output_type": "stream",
     "text": [
      "  0.00s 1 result\n"
     ]
    },
    {
     "data": {
      "text/plain": [
       "[(739645,)]"
      ]
     },
     "execution_count": 36,
     "metadata": {},
     "output_type": "execute_result"
    }
   ],
   "source": [
    "A.search('''\n",
    "\n",
    "text title=A\\ Hundred\\ Gold\\ Coins\n",
    "\n",
    "''')"
   ]
  },
  {
   "cell_type": "code",
   "execution_count": 37,
   "metadata": {},
   "outputs": [
    {
     "data": {
      "text/plain": [
       "'q9m-d3r3tuli'"
      ]
     },
     "execution_count": 37,
     "metadata": {},
     "output_type": "execute_result"
    }
   ],
   "source": [
    "F.trans_l.v(740790)"
   ]
  },
  {
   "cell_type": "code",
   "execution_count": 38,
   "metadata": {},
   "outputs": [],
   "source": [
    "line1 = L.u(1,'line')[0]\n",
    "sent = L.u(1, 'sentence')[0]"
   ]
  },
  {
   "cell_type": "code",
   "execution_count": 39,
   "metadata": {},
   "outputs": [
    {
     "data": {
      "text/html": [
       "<div class=\"outeritem\">\n",
       "<div class=\"line  \" >\n",
       "\n",
       "    <div class=\"ll\">\n",
       "        <div class=\"line\"><a href=\"https://github.com/CambridgeSemiticsLab/nena_corpus/blob/master/nena/0.01/Barwar/A Hundred Gold Coins.nena\" title=\"see this passage in its source document\" sec=\"Barwar, A Hundred Gold Coins, Ln. 1\">Barwar, A Hundred Gold Coins, Ln. 1</a></div>\n",
       "\n",
       "        <div class=\"features\"></div>\n",
       "    </div>\n",
       "\n",
       "</div>\n",
       "</div>"
      ],
      "text/plain": [
       "<IPython.core.display.HTML object>"
      ]
     },
     "metadata": {},
     "output_type": "display_data"
    }
   ],
   "source": [
    "A.pretty(line1)"
   ]
  },
  {
   "cell_type": "code",
   "execution_count": 40,
   "metadata": {},
   "outputs": [
    {
     "data": {
      "text/html": [
       "<a href=\"https://github.com/CambridgeSemiticsLab/nena_corpus/blob/master/nena/0.01/Barwar/A Hundred Gold Coins.nena\" title=\"see this passage in its source document\" sec=\"Barwar, A Hundred Gold Coins, Ln. 1\">Barwar, A Hundred Gold Coins, Ln. 1</a>\n",
       "<div class=\"outeritem\">\n",
       "<div class=\"macro  \" >\n",
       "\n",
       "<div class=\"prosa  \" >\n",
       "\n",
       "<div class=\"word  \" >\n",
       "<div class=\"ara\">xá-ga </div>\n",
       "\n",
       "</div>\n",
       "<div class=\"word  \" >\n",
       "<div class=\"ara\">xèta,ˈ </div>\n",
       "\n",
       "</div>\n",
       "</div>\n",
       "<div class=\"prosa  \" >\n",
       "\n",
       "<div class=\"word  \" >\n",
       "<div class=\"ara\">mállah </div>\n",
       "\n",
       "</div>\n",
       "<div class=\"word  \" >\n",
       "<div class=\"ara\">Naṣràdin,ˈ </div>\n",
       "\n",
       "</div>\n",
       "</div>\n",
       "<div class=\"prosa  \" >\n",
       "\n",
       "<div class=\"word  \" >\n",
       "<div class=\"ara\">xázəx </div>\n",
       "\n",
       "</div>\n",
       "<div class=\"word  \" >\n",
       "<div class=\"ara\">mòdi </div>\n",
       "\n",
       "</div>\n",
       "<div class=\"word  \" >\n",
       "<div class=\"ara\">wíða.ˈ </div>\n",
       "\n",
       "</div>\n",
       "</div>\n",
       "</div>\n",
       "</div>"
      ],
      "text/plain": [
       "<IPython.core.display.HTML object>"
      ]
     },
     "metadata": {},
     "output_type": "display_data"
    }
   ],
   "source": [
    "A.pretty(sent, extraFeatures='speaker')"
   ]
  },
  {
   "cell_type": "code",
   "execution_count": 41,
   "metadata": {},
   "outputs": [
    {
     "data": {
      "text/html": [
       "<a href=\"https://github.com/CambridgeSemiticsLab/nena_corpus/blob/master/nena/0.01/Barwar/A Hundred Gold Coins.nena\" title=\"see this passage in its source document\" sec=\"Barwar, A Hundred Gold Coins, Ln. 1\">Barwar, A Hundred Gold Coins, Ln. 1</a>\n",
       "<div class=\"outeritem\">\n",
       "<div class=\"micro  \" >\n",
       "<div class=\"ara\">g</div>\n",
       "\n",
       "</div>\n",
       "</div>"
      ],
      "text/plain": [
       "<IPython.core.display.HTML object>"
      ]
     },
     "metadata": {},
     "output_type": "display_data"
    }
   ],
   "source": [
    "A.pretty(3)"
   ]
  },
  {
   "cell_type": "code",
   "execution_count": 42,
   "metadata": {},
   "outputs": [
    {
     "data": {
      "text/plain": [
       "'x'"
      ]
     },
     "execution_count": 42,
     "metadata": {},
     "output_type": "execute_result"
    }
   ],
   "source": [
    "T.text(1)"
   ]
  },
  {
   "cell_type": "code",
   "execution_count": 43,
   "metadata": {},
   "outputs": [
    {
     "name": "stdout",
     "output_type": "stream",
     "text": [
      "  0.00s 1 result\n"
     ]
    },
    {
     "data": {
      "text/plain": [
       "[(539383,)]"
      ]
     },
     "execution_count": 43,
     "metadata": {},
     "output_type": "execute_result"
    }
   ],
   "source": [
    "A.search('''\n",
    "\n",
    "dialect dialect=Urmi_C\n",
    "\n",
    "''')"
   ]
  },
  {
   "cell_type": "code",
   "execution_count": 44,
   "metadata": {},
   "outputs": [
    {
     "data": {
      "text/plain": [
       "(706684, 706685, 706686, 706687, 706688, 706689, 706690, 706691, 706692)"
      ]
     },
     "execution_count": 44,
     "metadata": {},
     "output_type": "execute_result"
    }
   ],
   "source": [
    "L.d(739697,'sentence')"
   ]
  },
  {
   "cell_type": "code",
   "execution_count": 45,
   "metadata": {},
   "outputs": [
    {
     "data": {
      "text/html": [
       "<a href=\"https://github.com/CambridgeSemiticsLab/nena_corpus/blob/master/nena/0.01/Urmi_C/A Close Shave.nena\" title=\"see this passage in its source document\" sec=\"Urmi_C, A Close Shave, Ln. 1\">Urmi_C, A Close Shave, Ln. 1</a>\n",
       "<div class=\"outeritem\">\n",
       "<div class=\"macro  \" >\n",
       "\n",
       "<div class=\"prosa  \" >\n",
       "\n",
       "<div class=\"word  \" >\n",
       "<div class=\"ara\">xá-yuma </div>\n",
       "\n",
       "</div>\n",
       "<div class=\"word  \" >\n",
       "<div class=\"ara\">xə́šlə </div>\n",
       "\n",
       "</div>\n",
       "<div class=\"word  \" >\n",
       "<div class=\"ara\">⁺málla </div>\n",
       "\n",
       "</div>\n",
       "<div class=\"word  \" >\n",
       "<div class=\"ara\">k̭at-còsu </div>\n",
       "\n",
       "</div>\n",
       "<div class=\"word  \" >\n",
       "<div class=\"ara\">⁺mak̭rə́ṱvaləˈ </div>\n",
       "\n",
       "</div>\n",
       "</div>\n",
       "<div class=\"prosa  \" >\n",
       "\n",
       "<div class=\"word  \" >\n",
       "<div class=\"ara\">cə̀sˈ </div>\n",
       "\n",
       "</div>\n",
       "</div>\n",
       "<div class=\"prosa  \" >\n",
       "\n",
       "<div class=\"word  \" >\n",
       "<div class=\"ara\">⁺mak̭rəṱṱān-còsa.ˈ </div>\n",
       "\n",
       "</div>\n",
       "</div>\n",
       "</div>\n",
       "</div>"
      ],
      "text/plain": [
       "<IPython.core.display.HTML object>"
      ]
     },
     "metadata": {},
     "output_type": "display_data"
    }
   ],
   "source": [
    "A.pretty(706684)"
   ]
  },
  {
   "cell_type": "code",
   "execution_count": 46,
   "metadata": {},
   "outputs": [
    {
     "name": "stdout",
     "output_type": "stream",
     "text": [
      "(1) xa'-ga xe`ta/,| ma'llah Nas.ra`din/,| xa'z3x mo`di wi'6a/.| gu-b$`8a we'wa/,| har-za'la-w 8a`ya/.| za'la-w 8a`ya/,| ma'ra ya-}a`laha/,| yaw3`tli| }3'mma da`we/.| }3n-ha`wa| }3'c.<c.<i-u }3'c.<c.<a maq3lb3`nna/.| }u-}3n-ha`wa| }3'mma-w-xa`-z<i/,| la-ba%y3`nna/.| de-s<u`qla/.| }3`mma ga%'r3g ha'wa dr3'st/.| (2) b-a'laha ho'le za'la-w 8a`ya/,| }i'8wale xa'-s<wawa hu6a`ya/,| mas.o'8e }3'lle di`ye/.| m3're xa'z3x }a'wwa du_`s-ile/.| q$'m3n mjarb3`nne/.| si'qa l-ga`re/,| d3'ry$le }3'c.<c.<i-u }3'c.<c.<a da'we gu-6a-ki`sta/,| d3'rya b-ka`wele/.| }a' ba'xta ha`yyo/!| ho'le }ala'ha q3m-ms<ad3`rr3n/.| (3) mu8$'8$la ma`jma/.| msu'rq3lla pi's<ela mna'y3lla l-xa`-xa/.| pli't.la }3'c.<c.<i-u }3`c.<c.<a/.| tre`/,| tre`/,| }3'c.<c.<i-u }3`c.<c.<a/.| }3`s.ra/,| }3`s.ra/,| ha`r-}3c.<c.<i-u }3'c.<c.<a/.| kle`la/,| }a'm3r ba'xta du_`s-ile/.| }ala'ha la`-xal3t./.| }3'c.<c.<i-u }3`c.<c.<a/,| }a'xc<i }a'na max-xs<a`wti/,| }a'yya ki`sta| ho'le mxoz<3'bn3lla max-xa`/.| ha-s<qu`l/,| ma'ttula ta%ma`ha/.| (4) hu6a'ya l-ga`re| s<wir$'le l-pa`lga/,| ya'ba }a`n3n ms<u'dr3lla/!| }a'y ka'lba }a'm3r ta'ma l-ga`re mas.yo'8e/,| ba%'y3t s<aql3'tla }ap-}a`nna/.| mra'zg3t ga`nux/.| t3'mm3l t>-a'sq3x k3s-qa`zi/.| hu6a'ya }3'c.<c.<i-u }3'c.<c.<a da'we zi`le m3'nne/,| }$'ka t>-a'8ya s<3`n8e/?!| hal-qeda'mta s<3'n8e la-8e`la/.| ha'r-wele za'la-w 8a`ya/.| (5) ma'lla mu'tt3lle re's<e dmi`xa/.| t.li`ya/,| ke'fe basi`mta/,| }u-da'we xo-re`s<e/.| sa'}3t }3's<ta mba`dla| }3'8y$le hu6a'ya wa'6a t.3q-t.3q-t.3'q l-t.a%`ra/.| }u-qa're l-ta%`ra| mo`dila q3's.s.3t/?| (6) p8i'x3lle ta%'ra ma`lla/,| }i'na hu6a'ya lwi's<a ka's<xa-w ju'lle xa`8e/.| }u-xma'rte di'ye msu'rg3lla-w wi'63lla ta`za/.| t.la-mo`dila }a'yya/?| m3're t>-a'sq3x k3s-qa`zi/.| m3're si` ka'lba/.| }a'na la`-}a83n m3'nnux/.| t.la-mo` la-}a'83t m3'nni/?| si' la`-}a83n m3'nnux }a'na/.| (7) t.la-mo`/?| mo`dila q3's.s.3t/?| m3're }ala'ha-w na's<e ya%`6i/.| xaz$'la }a'nna ju'llux ha`txa/,| ka's<xa-w }a'yya xma`rtux| }u-s$`rga-w| w-a'na b-a'nna das<da`s<e-w| b-a'nna c<ak>a`lle-w| }u-s<3xta`na-w| s<a'rt. qa'zi t-yaw3'lla t.la`lux/.| (8) qa'zi t>-aw3'dla t.la`lux/,| la'-}aw3dla t.la`li/.| m3're la`-}a83n/,| }i'na ju'llux ha'lla t.la`li/.| }u-xma'rtux t>-a'tw3n }a`na l-xa's.a/.| }u-}a'ti lus<-ju`lli| }u-t>-a`sq3x/.| ha'm-}3n }a`sq3t| }ap-}a'yya qabu_`l-ila/.| (9) qi'm$le }aw-lwi's<a das<da`s<3t ma'lla/,| }u-c<ak>a`ll3t ma'lla/,| ma'lla lwi's<$le ka's<xa d-o-hu6a`ya| }u-ti'w$le xa's.3t xma`rta/,| }u-si'qela k3s-qa`zi/.| si'q$le k3s-qa`zi/,| wi'rela s<art.-qa`zi/.| mo`dila q3's.s.3t/?| (10) ma'lla m3`re| qa'zi t>-a'w3t basi`ma/.| }a'na k3ma` da'na t>-in-ms.alo'ye t.la-ma'rya }a`laha| ta-t-yaw3'lli }3`mma da'we/.| }u-}a'wwa hu6a'ya we'le mas.yo'8e nt.a'ra }3'lli l-ga`re/.| }u-}a'laha s<uxa-l-s<3'mme q3m-ms<ad3'rri }3'c.<c.<i-u }3'c.<c.<a da`we/.| }u-}a'na m3'ri ba`xta/,| }a'p }ayya-ki`sta| }a'laha mxoz<3'bn3lla m-ge_b-xa`-dawa/.| (11) }u-}a'wwa-z<i hu6a'ya l-ga`re| }3`lla/,| }a'nna da'we }a`n3n hiw3'llux/.| }u-ha'txa be-ba%`x3t-ile/,| ya'-qazi t>-a'w3t basi`ma/,| }a'wwa hu6a`ya/,| ya'{ni di'ya gu-pa`8ux| mda`g3l| }u-sa`ru/.| m3're xzi' ha'txa be-nx3`p8$le/.| la' }i'tle nx3`p8a/.| (12) di'ya t>-a`m3r| }a'p }anna-ju'lle t>-ila`-llux| }u-}a'yya xma'rta di`yila/.| w-a'ti x3'zy3tli }a'na ti'wa l-xa`s.a/.| hu6a'ya m3`re| di`yila/!| }i'na d-$`nila/?| qa'zi m3're qu`| ka'lba br3t-ka'lba hu6a`ya/.| }a'm3r si' s<art.-di`yuxile/.|"
     ]
    }
   ],
   "source": [
    "for line in L.d(L.u(1,'text')[0],'line'):\n",
    "    print(f'({F.number.v(line)}) ' + T.text(line, fmt='text-trans-full'), end='')"
   ]
  },
  {
   "cell_type": "markdown",
   "metadata": {},
   "source": [
    "## Miscellaneous Searches"
   ]
  },
  {
   "cell_type": "code",
   "execution_count": 69,
   "metadata": {},
   "outputs": [
    {
     "name": "stdout",
     "output_type": "stream",
     "text": [
      "  0.17s 319 results\n"
     ]
    },
    {
     "data": {
      "text/html": [
       "<p><b>result</b> <i>1</i></p>"
      ],
      "text/plain": [
       "<IPython.core.display.HTML object>"
      ]
     },
     "metadata": {},
     "output_type": "display_data"
    },
    {
     "data": {
      "text/html": [
       "<div class=\"outeritem\">\n",
       "<div class=\"None  \" >\n",
       "\n",
       "    <div class=\"ll\">\n",
       "        <div class=\"line\"><a href=\"https://github.com/CambridgeSemiticsLab/nena_corpus/blob/master/nena/0.01/Barwar/A Hundred Gold Coins.nena\" title=\"see this passage in its source document\" sec=\"Barwar\">Barwar</a></div>\n",
       "\n",
       "        <div class=\"features\"> <span class=\"dialect xft\"><span class=\"f\">dialect=</span>Barwar</span></div>\n",
       "    </div>\n",
       "\n",
       "</div>\n",
       "</div>"
      ],
      "text/plain": [
       "<IPython.core.display.HTML object>"
      ]
     },
     "metadata": {},
     "output_type": "display_data"
    },
    {
     "data": {
      "text/html": [
       "<a href=\"https://github.com/CambridgeSemiticsLab/nena_corpus/blob/master/nena/0.01/Barwar/A Hundred Gold Coins.nena\" title=\"see this passage in its source document\" sec=\"Barwar, A Hundred Gold Coins, Ln. 2\">Barwar, A Hundred Gold Coins, Ln. 2</a>\n",
       "<div class=\"outeritem\">\n",
       "<div class=\"macro  \" >\n",
       "\n",
       "<div class=\"prosa  \" >\n",
       "\n",
       "<div class=\"word  \" >\n",
       "<div class=\"ara\">hóle </div>\n",
       "\n",
       "</div>\n",
       "<div class=\"word  \" >\n",
       "<div class=\"ara\">ʾaláha </div>\n",
       "\n",
       "</div>\n",
       "<div class=\"word  hl\" >\n",
       "<div class=\"ara\">qəm-mšadə̀rrən.ˈ </div>\n",
       "\n",
       "</div>\n",
       "</div>\n",
       "</div>\n",
       "</div>"
      ],
      "text/plain": [
       "<IPython.core.display.HTML object>"
      ]
     },
     "metadata": {},
     "output_type": "display_data"
    },
    {
     "data": {
      "text/html": [
       "<p><b>result</b> <i>2</i></p>"
      ],
      "text/plain": [
       "<IPython.core.display.HTML object>"
      ]
     },
     "metadata": {},
     "output_type": "display_data"
    },
    {
     "data": {
      "text/html": [
       "<div class=\"outeritem\">\n",
       "<div class=\"None  \" >\n",
       "\n",
       "    <div class=\"ll\">\n",
       "        <div class=\"line\"><a href=\"https://github.com/CambridgeSemiticsLab/nena_corpus/blob/master/nena/0.01/Barwar/A Hundred Gold Coins.nena\" title=\"see this passage in its source document\" sec=\"Barwar\">Barwar</a></div>\n",
       "\n",
       "        <div class=\"features\"> <span class=\"dialect xft\"><span class=\"f\">dialect=</span>Barwar</span></div>\n",
       "    </div>\n",
       "\n",
       "</div>\n",
       "</div>"
      ],
      "text/plain": [
       "<IPython.core.display.HTML object>"
      ]
     },
     "metadata": {},
     "output_type": "display_data"
    },
    {
     "data": {
      "text/html": [
       "<a href=\"https://github.com/CambridgeSemiticsLab/nena_corpus/blob/master/nena/0.01/Barwar/A Hundred Gold Coins.nena\" title=\"see this passage in its source document\" sec=\"Barwar, A Hundred Gold Coins, Ln. 10\">Barwar, A Hundred Gold Coins, Ln. 10</a>\n",
       "<div class=\"outeritem\">\n",
       "<div class=\"macro  \" >\n",
       "\n",
       "<div class=\"prosa  \" >\n",
       "\n",
       "<div class=\"word  \" >\n",
       "<div class=\"ara\">ʾu-ʾálaha </div>\n",
       "\n",
       "</div>\n",
       "<div class=\"word  \" >\n",
       "<div class=\"ara\">šuxa-l-šə́mme </div>\n",
       "\n",
       "</div>\n",
       "<div class=\"word  hl\" >\n",
       "<div class=\"ara\">qəm-mšadə́rri </div>\n",
       "\n",
       "</div>\n",
       "<div class=\"word  \" >\n",
       "<div class=\"ara\">ʾə́č̣č̣i-u </div>\n",
       "\n",
       "</div>\n",
       "<div class=\"word  \" >\n",
       "<div class=\"ara\">ʾə́č̣č̣a </div>\n",
       "\n",
       "</div>\n",
       "<div class=\"word  \" >\n",
       "<div class=\"ara\">dàwe.ˈ </div>\n",
       "\n",
       "</div>\n",
       "</div>\n",
       "</div>\n",
       "</div>"
      ],
      "text/plain": [
       "<IPython.core.display.HTML object>"
      ]
     },
     "metadata": {},
     "output_type": "display_data"
    },
    {
     "data": {
      "text/html": [
       "<p><b>result</b> <i>3</i></p>"
      ],
      "text/plain": [
       "<IPython.core.display.HTML object>"
      ]
     },
     "metadata": {},
     "output_type": "display_data"
    },
    {
     "data": {
      "text/html": [
       "<div class=\"outeritem\">\n",
       "<div class=\"None  \" >\n",
       "\n",
       "    <div class=\"ll\">\n",
       "        <div class=\"line\"><a href=\"https://github.com/CambridgeSemiticsLab/nena_corpus/blob/master/nena/0.01/Barwar/A Hundred Gold Coins.nena\" title=\"see this passage in its source document\" sec=\"Barwar\">Barwar</a></div>\n",
       "\n",
       "        <div class=\"features\"> <span class=\"dialect xft\"><span class=\"f\">dialect=</span>Barwar</span></div>\n",
       "    </div>\n",
       "\n",
       "</div>\n",
       "</div>"
      ],
      "text/plain": [
       "<IPython.core.display.HTML object>"
      ]
     },
     "metadata": {},
     "output_type": "display_data"
    },
    {
     "data": {
      "text/html": [
       "<a href=\"https://github.com/CambridgeSemiticsLab/nena_corpus/blob/master/nena/0.01/Barwar/A Man Called Čuxo.nena\" title=\"see this passage in its source document\" sec=\"Barwar, A Man Called Čuxo, Ln. 22\">Barwar, A Man Called Čuxo, Ln. 22</a>\n",
       "<div class=\"outeritem\">\n",
       "<div class=\"macro  \" >\n",
       "\n",
       "<div class=\"prosa  \" >\n",
       "\n",
       "<div class=\"word  hl\" >\n",
       "<div class=\"ara\">qəm-dɛrɛ́tuli </div>\n",
       "\n",
       "</div>\n",
       "<div class=\"word  \" >\n",
       "<div class=\"ara\">ðá-duka </div>\n",
       "\n",
       "</div>\n",
       "<div class=\"word  \" >\n",
       "<div class=\"ara\">làṭṭe.ˈ </div>\n",
       "\n",
       "</div>\n",
       "</div>\n",
       "</div>\n",
       "</div>"
      ],
      "text/plain": [
       "<IPython.core.display.HTML object>"
      ]
     },
     "metadata": {},
     "output_type": "display_data"
    },
    {
     "data": {
      "text/html": [
       "<p><b>result</b> <i>4</i></p>"
      ],
      "text/plain": [
       "<IPython.core.display.HTML object>"
      ]
     },
     "metadata": {},
     "output_type": "display_data"
    },
    {
     "data": {
      "text/html": [
       "<div class=\"outeritem\">\n",
       "<div class=\"None  \" >\n",
       "\n",
       "    <div class=\"ll\">\n",
       "        <div class=\"line\"><a href=\"https://github.com/CambridgeSemiticsLab/nena_corpus/blob/master/nena/0.01/Barwar/A Hundred Gold Coins.nena\" title=\"see this passage in its source document\" sec=\"Barwar\">Barwar</a></div>\n",
       "\n",
       "        <div class=\"features\"> <span class=\"dialect xft\"><span class=\"f\">dialect=</span>Barwar</span></div>\n",
       "    </div>\n",
       "\n",
       "</div>\n",
       "</div>"
      ],
      "text/plain": [
       "<IPython.core.display.HTML object>"
      ]
     },
     "metadata": {},
     "output_type": "display_data"
    },
    {
     "data": {
      "text/html": [
       "<a href=\"https://github.com/CambridgeSemiticsLab/nena_corpus/blob/master/nena/0.01/Barwar/A Man Called Čuxo.nena\" title=\"see this passage in its source document\" sec=\"Barwar, A Man Called Čuxo, Ln. 22\">Barwar, A Man Called Čuxo, Ln. 22</a>\n",
       "<div class=\"outeritem\">\n",
       "<div class=\"macro  \" >\n",
       "\n",
       "<div class=\"prosa  \" >\n",
       "\n",
       "<div class=\"word  hl\" >\n",
       "<div class=\"ara\">qəm-darɛ́tuli </div>\n",
       "\n",
       "</div>\n",
       "<div class=\"word  \" >\n",
       "<div class=\"ara\">tàma,ˈ </div>\n",
       "\n",
       "</div>\n",
       "</div>\n",
       "<div class=\"prosa  \" >\n",
       "\n",
       "<div class=\"word  \" >\n",
       "<div class=\"ara\">ʾáxči </div>\n",
       "\n",
       "</div>\n",
       "<div class=\"word  \" >\n",
       "<div class=\"ara\">muθéli </div>\n",
       "\n",
       "</div>\n",
       "<div class=\"word  \" >\n",
       "<div class=\"ara\">ʾànna.ˈ </div>\n",
       "\n",
       "</div>\n",
       "</div>\n",
       "</div>\n",
       "</div>"
      ],
      "text/plain": [
       "<IPython.core.display.HTML object>"
      ]
     },
     "metadata": {},
     "output_type": "display_data"
    },
    {
     "data": {
      "text/html": [
       "<p><b>result</b> <i>5</i></p>"
      ],
      "text/plain": [
       "<IPython.core.display.HTML object>"
      ]
     },
     "metadata": {},
     "output_type": "display_data"
    },
    {
     "data": {
      "text/html": [
       "<div class=\"outeritem\">\n",
       "<div class=\"None  \" >\n",
       "\n",
       "    <div class=\"ll\">\n",
       "        <div class=\"line\"><a href=\"https://github.com/CambridgeSemiticsLab/nena_corpus/blob/master/nena/0.01/Barwar/A Hundred Gold Coins.nena\" title=\"see this passage in its source document\" sec=\"Barwar\">Barwar</a></div>\n",
       "\n",
       "        <div class=\"features\"> <span class=\"dialect xft\"><span class=\"f\">dialect=</span>Barwar</span></div>\n",
       "    </div>\n",
       "\n",
       "</div>\n",
       "</div>"
      ],
      "text/plain": [
       "<IPython.core.display.HTML object>"
      ]
     },
     "metadata": {},
     "output_type": "display_data"
    },
    {
     "data": {
      "text/html": [
       "<a href=\"https://github.com/CambridgeSemiticsLab/nena_corpus/blob/master/nena/0.01/Barwar/A Tale of Two Kings.nena\" title=\"see this passage in its source document\" sec=\"Barwar, A Tale of Two Kings, Ln. 9\">Barwar, A Tale of Two Kings, Ln. 9</a>\n",
       "<div class=\"outeritem\">\n",
       "<div class=\"macro  \" >\n",
       "\n",
       "<div class=\"prosa  \" >\n",
       "\n",
       "<div class=\"word  \" >\n",
       "<div class=\"ara\">mára </div>\n",
       "\n",
       "</div>\n",
       "<div class=\"word  \" >\n",
       "<div class=\"ara\">gríšle </div>\n",
       "\n",
       "</div>\n",
       "<div class=\"word  \" >\n",
       "<div class=\"ara\">sɛ̀pa,ˈ </div>\n",
       "\n",
       "</div>\n",
       "</div>\n",
       "<div class=\"prosa  \" >\n",
       "\n",
       "<div class=\"word  \" >\n",
       "<div class=\"ara\">tràθnaˈ </div>\n",
       "\n",
       "</div>\n",
       "</div>\n",
       "<div class=\"prosa  \" >\n",
       "\n",
       "<div class=\"word  \" >\n",
       "<div class=\"ara\">kúlla-ʾani </div>\n",
       "\n",
       "</div>\n",
       "<div class=\"word  hl\" >\n",
       "<div class=\"ara\">qəm-qaṭlìla.ˈ </div>\n",
       "\n",
       "</div>\n",
       "</div>\n",
       "</div>\n",
       "</div>"
      ],
      "text/plain": [
       "<IPython.core.display.HTML object>"
      ]
     },
     "metadata": {},
     "output_type": "display_data"
    },
    {
     "data": {
      "text/html": [
       "<p><b>result</b> <i>6</i></p>"
      ],
      "text/plain": [
       "<IPython.core.display.HTML object>"
      ]
     },
     "metadata": {},
     "output_type": "display_data"
    },
    {
     "data": {
      "text/html": [
       "<div class=\"outeritem\">\n",
       "<div class=\"None  \" >\n",
       "\n",
       "    <div class=\"ll\">\n",
       "        <div class=\"line\"><a href=\"https://github.com/CambridgeSemiticsLab/nena_corpus/blob/master/nena/0.01/Barwar/A Hundred Gold Coins.nena\" title=\"see this passage in its source document\" sec=\"Barwar\">Barwar</a></div>\n",
       "\n",
       "        <div class=\"features\"> <span class=\"dialect xft\"><span class=\"f\">dialect=</span>Barwar</span></div>\n",
       "    </div>\n",
       "\n",
       "</div>\n",
       "</div>"
      ],
      "text/plain": [
       "<IPython.core.display.HTML object>"
      ]
     },
     "metadata": {},
     "output_type": "display_data"
    },
    {
     "data": {
      "text/html": [
       "<a href=\"https://github.com/CambridgeSemiticsLab/nena_corpus/blob/master/nena/0.01/Barwar/A Tale of Two Kings.nena\" title=\"see this passage in its source document\" sec=\"Barwar, A Tale of Two Kings, Ln. 9\">Barwar, A Tale of Two Kings, Ln. 9</a>\n",
       "<div class=\"outeritem\">\n",
       "<div class=\"macro  \" >\n",
       "\n",
       "<div class=\"prosa  \" >\n",
       "\n",
       "<div class=\"word  \" >\n",
       "<div class=\"ara\">màlkaˈ </div>\n",
       "\n",
       "</div>\n",
       "</div>\n",
       "<div class=\"prosa  \" >\n",
       "\n",
       "<div class=\"word  \" >\n",
       "<div class=\"ara\">ʾu-xóne </div>\n",
       "\n",
       "</div>\n",
       "<div class=\"word  \" >\n",
       "<div class=\"ara\">dìyeˈ </div>\n",
       "\n",
       "</div>\n",
       "</div>\n",
       "<div class=\"prosa  \" >\n",
       "\n",
       "<div class=\"word  \" >\n",
       "<div class=\"ara\">ʾan-ʿăbī́d </div>\n",
       "\n",
       "</div>\n",
       "<div class=\"word  \" >\n",
       "<div class=\"ara\">ʾu-bàxtaˈ </div>\n",
       "\n",
       "</div>\n",
       "</div>\n",
       "<div class=\"prosa  \" >\n",
       "\n",
       "<div class=\"word  \" >\n",
       "<div class=\"ara\">kùlla-ʾani </div>\n",
       "\n",
       "</div>\n",
       "<div class=\"word  hl\" >\n",
       "<div class=\"ara\">qəm-qaṭlíla.ˈ </div>\n",
       "\n",
       "</div>\n",
       "</div>\n",
       "</div>\n",
       "</div>"
      ],
      "text/plain": [
       "<IPython.core.display.HTML object>"
      ]
     },
     "metadata": {},
     "output_type": "display_data"
    },
    {
     "data": {
      "text/html": [
       "<p><b>result</b> <i>7</i></p>"
      ],
      "text/plain": [
       "<IPython.core.display.HTML object>"
      ]
     },
     "metadata": {},
     "output_type": "display_data"
    },
    {
     "data": {
      "text/html": [
       "<div class=\"outeritem\">\n",
       "<div class=\"None  \" >\n",
       "\n",
       "    <div class=\"ll\">\n",
       "        <div class=\"line\"><a href=\"https://github.com/CambridgeSemiticsLab/nena_corpus/blob/master/nena/0.01/Barwar/A Hundred Gold Coins.nena\" title=\"see this passage in its source document\" sec=\"Barwar\">Barwar</a></div>\n",
       "\n",
       "        <div class=\"features\"> <span class=\"dialect xft\"><span class=\"f\">dialect=</span>Barwar</span></div>\n",
       "    </div>\n",
       "\n",
       "</div>\n",
       "</div>"
      ],
      "text/plain": [
       "<IPython.core.display.HTML object>"
      ]
     },
     "metadata": {},
     "output_type": "display_data"
    },
    {
     "data": {
      "text/html": [
       "<a href=\"https://github.com/CambridgeSemiticsLab/nena_corpus/blob/master/nena/0.01/Barwar/A Tale of a Prince and a Princess.nena\" title=\"see this passage in its source document\" sec=\"Barwar, A Tale of a Prince and a Princess, Ln. 4\">Barwar, A Tale of a Prince and a Princess, Ln. 4</a>\n",
       "<div class=\"outeritem\">\n",
       "<div class=\"macro  \" >\n",
       "\n",
       "<div class=\"prosa  \" >\n",
       "\n",
       "<div class=\"word  hl\" >\n",
       "<div class=\"ara\">qəm-ṱ-amə́rra </div>\n",
       "\n",
       "</div>\n",
       "<div class=\"word  \" >\n",
       "<div class=\"ara\">là-ṣarxət.ˈ </div>\n",
       "\n",
       "</div>\n",
       "</div>\n",
       "</div>\n",
       "</div>"
      ],
      "text/plain": [
       "<IPython.core.display.HTML object>"
      ]
     },
     "metadata": {},
     "output_type": "display_data"
    },
    {
     "data": {
      "text/html": [
       "<p><b>result</b> <i>8</i></p>"
      ],
      "text/plain": [
       "<IPython.core.display.HTML object>"
      ]
     },
     "metadata": {},
     "output_type": "display_data"
    },
    {
     "data": {
      "text/html": [
       "<div class=\"outeritem\">\n",
       "<div class=\"None  \" >\n",
       "\n",
       "    <div class=\"ll\">\n",
       "        <div class=\"line\"><a href=\"https://github.com/CambridgeSemiticsLab/nena_corpus/blob/master/nena/0.01/Barwar/A Hundred Gold Coins.nena\" title=\"see this passage in its source document\" sec=\"Barwar\">Barwar</a></div>\n",
       "\n",
       "        <div class=\"features\"> <span class=\"dialect xft\"><span class=\"f\">dialect=</span>Barwar</span></div>\n",
       "    </div>\n",
       "\n",
       "</div>\n",
       "</div>"
      ],
      "text/plain": [
       "<IPython.core.display.HTML object>"
      ]
     },
     "metadata": {},
     "output_type": "display_data"
    },
    {
     "data": {
      "text/html": [
       "<a href=\"https://github.com/CambridgeSemiticsLab/nena_corpus/blob/master/nena/0.01/Barwar/A Tale of a Prince and a Princess.nena\" title=\"see this passage in its source document\" sec=\"Barwar, A Tale of a Prince and a Princess, Ln. 20\">Barwar, A Tale of a Prince and a Princess, Ln. 20</a>\n",
       "<div class=\"outeritem\">\n",
       "<div class=\"macro  \" >\n",
       "\n",
       "<div class=\"prosa  \" >\n",
       "\n",
       "<div class=\"word  \" >\n",
       "<div class=\"ara\">móθi </div>\n",
       "\n",
       "</div>\n",
       "<div class=\"word  \" >\n",
       "<div class=\"ara\">júlla </div>\n",
       "\n",
       "</div>\n",
       "<div class=\"word  \" >\n",
       "<div class=\"ara\">dìya,ˈ </div>\n",
       "\n",
       "</div>\n",
       "</div>\n",
       "<div class=\"prosa  \" >\n",
       "\n",
       "<div class=\"word  \" >\n",
       "<div class=\"ara\">kúlla </div>\n",
       "\n",
       "</div>\n",
       "<div class=\"word  hl\" >\n",
       "<div class=\"ara\">qəm-malušíla </div>\n",
       "\n",
       "</div>\n",
       "<div class=\"word  \" >\n",
       "<div class=\"ara\">ʾə́lla </div>\n",
       "\n",
       "</div>\n",
       "<div class=\"word  \" >\n",
       "<div class=\"ara\">dìya.ˈ </div>\n",
       "\n",
       "</div>\n",
       "</div>\n",
       "</div>\n",
       "</div>"
      ],
      "text/plain": [
       "<IPython.core.display.HTML object>"
      ]
     },
     "metadata": {},
     "output_type": "display_data"
    },
    {
     "data": {
      "text/html": [
       "<p><b>result</b> <i>9</i></p>"
      ],
      "text/plain": [
       "<IPython.core.display.HTML object>"
      ]
     },
     "metadata": {},
     "output_type": "display_data"
    },
    {
     "data": {
      "text/html": [
       "<div class=\"outeritem\">\n",
       "<div class=\"None  \" >\n",
       "\n",
       "    <div class=\"ll\">\n",
       "        <div class=\"line\"><a href=\"https://github.com/CambridgeSemiticsLab/nena_corpus/blob/master/nena/0.01/Barwar/A Hundred Gold Coins.nena\" title=\"see this passage in its source document\" sec=\"Barwar\">Barwar</a></div>\n",
       "\n",
       "        <div class=\"features\"> <span class=\"dialect xft\"><span class=\"f\">dialect=</span>Barwar</span></div>\n",
       "    </div>\n",
       "\n",
       "</div>\n",
       "</div>"
      ],
      "text/plain": [
       "<IPython.core.display.HTML object>"
      ]
     },
     "metadata": {},
     "output_type": "display_data"
    },
    {
     "data": {
      "text/html": [
       "<a href=\"https://github.com/CambridgeSemiticsLab/nena_corpus/blob/master/nena/0.01/Barwar/A Tale of a Prince and a Princess.nena\" title=\"see this passage in its source document\" sec=\"Barwar, A Tale of a Prince and a Princess, Ln. 24\">Barwar, A Tale of a Prince and a Princess, Ln. 24</a>\n",
       "<div class=\"outeritem\">\n",
       "<div class=\"macro  \" >\n",
       "\n",
       "<div class=\"prosa  \" >\n",
       "\n",
       "<div class=\"word  \" >\n",
       "<div class=\"ara\">mə́ra </div>\n",
       "\n",
       "</div>\n",
       "<div class=\"word  \" >\n",
       "<div class=\"ara\">ʾo-yálət </div>\n",
       "\n",
       "</div>\n",
       "<div class=\"word  \" >\n",
       "<div class=\"ara\">băyàwaleˈ </div>\n",
       "\n",
       "</div>\n",
       "</div>\n",
       "<div class=\"prosa  \" >\n",
       "\n",
       "<div class=\"word  \" >\n",
       "<div class=\"ara\">hóle </div>\n",
       "\n",
       "</div>\n",
       "<div class=\"word  \" >\n",
       "<div class=\"ara\">ʾə̀θya-wˈ </div>\n",
       "\n",
       "</div>\n",
       "</div>\n",
       "<div class=\"prosa  \" >\n",
       "\n",
       "<div class=\"word  hl\" >\n",
       "<div class=\"ara\">qəm-yawə́lla </div>\n",
       "\n",
       "</div>\n",
       "<div class=\"word  \" >\n",
       "<div class=\"ara\">yalə̀xθa </div>\n",
       "\n",
       "</div>\n",
       "<div class=\"word  \" >\n",
       "<div class=\"ara\">ʾə́lli.ˈ </div>\n",
       "\n",
       "</div>\n",
       "</div>\n",
       "</div>\n",
       "</div>"
      ],
      "text/plain": [
       "<IPython.core.display.HTML object>"
      ]
     },
     "metadata": {},
     "output_type": "display_data"
    },
    {
     "data": {
      "text/html": [
       "<p><b>result</b> <i>10</i></p>"
      ],
      "text/plain": [
       "<IPython.core.display.HTML object>"
      ]
     },
     "metadata": {},
     "output_type": "display_data"
    },
    {
     "data": {
      "text/html": [
       "<div class=\"outeritem\">\n",
       "<div class=\"None  \" >\n",
       "\n",
       "    <div class=\"ll\">\n",
       "        <div class=\"line\"><a href=\"https://github.com/CambridgeSemiticsLab/nena_corpus/blob/master/nena/0.01/Barwar/A Hundred Gold Coins.nena\" title=\"see this passage in its source document\" sec=\"Barwar\">Barwar</a></div>\n",
       "\n",
       "        <div class=\"features\"> <span class=\"dialect xft\"><span class=\"f\">dialect=</span>Barwar</span></div>\n",
       "    </div>\n",
       "\n",
       "</div>\n",
       "</div>"
      ],
      "text/plain": [
       "<IPython.core.display.HTML object>"
      ]
     },
     "metadata": {},
     "output_type": "display_data"
    },
    {
     "data": {
      "text/html": [
       "<a href=\"https://github.com/CambridgeSemiticsLab/nena_corpus/blob/master/nena/0.01/Barwar/A Tale of a Prince and a Princess.nena\" title=\"see this passage in its source document\" sec=\"Barwar, A Tale of a Prince and a Princess, Ln. 26\">Barwar, A Tale of a Prince and a Princess, Ln. 26</a>\n",
       "<div class=\"outeritem\">\n",
       "<div class=\"macro  \" >\n",
       "\n",
       "<div class=\"prosa  \" >\n",
       "\n",
       "<div class=\"word  \" >\n",
       "<div class=\"ara\">ʾu-mə́re </div>\n",
       "\n",
       "</div>\n",
       "<div class=\"word  \" >\n",
       "<div class=\"ara\">bróni </div>\n",
       "\n",
       "</div>\n",
       "<div class=\"word  \" >\n",
       "<div class=\"ara\">ʾu-brátux </div>\n",
       "\n",
       "</div>\n",
       "<div class=\"word  \" >\n",
       "<div class=\"ara\">xə́zyela </div>\n",
       "\n",
       "</div>\n",
       "<div class=\"word  \" >\n",
       "<div class=\"ara\">ġðàðeˈ </div>\n",
       "\n",
       "</div>\n",
       "</div>\n",
       "<div class=\"prosa  \" >\n",
       "\n",
       "<div class=\"word  \" >\n",
       "<div class=\"ara\">ʾu-ʾána </div>\n",
       "\n",
       "</div>\n",
       "<div class=\"word  \" >\n",
       "<div class=\"ara\">ʾə́θyən </div>\n",
       "\n",
       "</div>\n",
       "<div class=\"word  \" >\n",
       "<div class=\"ara\">xðàra,ˈ </div>\n",
       "\n",
       "</div>\n",
       "</div>\n",
       "<div class=\"prosa  \" >\n",
       "\n",
       "<div class=\"word  \" >\n",
       "<div class=\"ara\">ʾu-ʾaláha </div>\n",
       "\n",
       "</div>\n",
       "<div class=\"word  hl\" >\n",
       "<div class=\"ara\">qəm-matfə́qli </div>\n",
       "\n",
       "</div>\n",
       "<div class=\"word  \" >\n",
       "<div class=\"ara\">bíya </div>\n",
       "\n",
       "</div>\n",
       "<div class=\"word  \" >\n",
       "<div class=\"ara\">díya </div>\n",
       "\n",
       "</div>\n",
       "<div class=\"word  \" >\n",
       "<div class=\"ara\">ʾàxxa.ˈ </div>\n",
       "\n",
       "</div>\n",
       "</div>\n",
       "</div>\n",
       "</div>"
      ],
      "text/plain": [
       "<IPython.core.display.HTML object>"
      ]
     },
     "metadata": {},
     "output_type": "display_data"
    },
    {
     "data": {
      "text/html": [
       "<p><b>result</b> <i>11</i></p>"
      ],
      "text/plain": [
       "<IPython.core.display.HTML object>"
      ]
     },
     "metadata": {},
     "output_type": "display_data"
    },
    {
     "data": {
      "text/html": [
       "<div class=\"outeritem\">\n",
       "<div class=\"None  \" >\n",
       "\n",
       "    <div class=\"ll\">\n",
       "        <div class=\"line\"><a href=\"https://github.com/CambridgeSemiticsLab/nena_corpus/blob/master/nena/0.01/Barwar/A Hundred Gold Coins.nena\" title=\"see this passage in its source document\" sec=\"Barwar\">Barwar</a></div>\n",
       "\n",
       "        <div class=\"features\"> <span class=\"dialect xft\"><span class=\"f\">dialect=</span>Barwar</span></div>\n",
       "    </div>\n",
       "\n",
       "</div>\n",
       "</div>"
      ],
      "text/plain": [
       "<IPython.core.display.HTML object>"
      ]
     },
     "metadata": {},
     "output_type": "display_data"
    },
    {
     "data": {
      "text/html": [
       "<a href=\"https://github.com/CambridgeSemiticsLab/nena_corpus/blob/master/nena/0.01/Barwar/A Tale of a Prince and a Princess.nena\" title=\"see this passage in its source document\" sec=\"Barwar, A Tale of a Prince and a Princess, Ln. 45\">Barwar, A Tale of a Prince and a Princess, Ln. 45</a>\n",
       "<div class=\"outeritem\">\n",
       "<div class=\"macro  \" >\n",
       "\n",
       "<div class=\"prosa  \" >\n",
       "\n",
       "<div class=\"word  \" >\n",
       "<div class=\"ara\">mə́re </div>\n",
       "\n",
       "</div>\n",
       "<div class=\"word  \" >\n",
       "<div class=\"ara\">ʾu-xaráye </div>\n",
       "\n",
       "</div>\n",
       "<div class=\"word  \" >\n",
       "<div class=\"ara\">ṭlíba </div>\n",
       "\n",
       "</div>\n",
       "<div class=\"word  \" >\n",
       "<div class=\"ara\">díya </div>\n",
       "\n",
       "</div>\n",
       "<div class=\"word  hl\" >\n",
       "<div class=\"ara\">qəm-šaqlə̀xle.ˈ </div>\n",
       "\n",
       "</div>\n",
       "</div>\n",
       "</div>\n",
       "</div>"
      ],
      "text/plain": [
       "<IPython.core.display.HTML object>"
      ]
     },
     "metadata": {},
     "output_type": "display_data"
    },
    {
     "data": {
      "text/html": [
       "<p><b>result</b> <i>12</i></p>"
      ],
      "text/plain": [
       "<IPython.core.display.HTML object>"
      ]
     },
     "metadata": {},
     "output_type": "display_data"
    },
    {
     "data": {
      "text/html": [
       "<div class=\"outeritem\">\n",
       "<div class=\"None  \" >\n",
       "\n",
       "    <div class=\"ll\">\n",
       "        <div class=\"line\"><a href=\"https://github.com/CambridgeSemiticsLab/nena_corpus/blob/master/nena/0.01/Barwar/A Hundred Gold Coins.nena\" title=\"see this passage in its source document\" sec=\"Barwar\">Barwar</a></div>\n",
       "\n",
       "        <div class=\"features\"> <span class=\"dialect xft\"><span class=\"f\">dialect=</span>Barwar</span></div>\n",
       "    </div>\n",
       "\n",
       "</div>\n",
       "</div>"
      ],
      "text/plain": [
       "<IPython.core.display.HTML object>"
      ]
     },
     "metadata": {},
     "output_type": "display_data"
    },
    {
     "data": {
      "text/html": [
       "<a href=\"https://github.com/CambridgeSemiticsLab/nena_corpus/blob/master/nena/0.01/Barwar/A Tale of a Prince and a Princess.nena\" title=\"see this passage in its source document\" sec=\"Barwar, A Tale of a Prince and a Princess, Ln. 56\">Barwar, A Tale of a Prince and a Princess, Ln. 56</a>\n",
       "<div class=\"outeritem\">\n",
       "<div class=\"macro  \" >\n",
       "\n",
       "<div class=\"prosa  \" >\n",
       "\n",
       "<div class=\"word  hl\" >\n",
       "<div class=\"ara\">qəm-magwə̀rrey.ˈ </div>\n",
       "\n",
       "</div>\n",
       "</div>\n",
       "</div>\n",
       "</div>"
      ],
      "text/plain": [
       "<IPython.core.display.HTML object>"
      ]
     },
     "metadata": {},
     "output_type": "display_data"
    },
    {
     "data": {
      "text/html": [
       "<p><b>result</b> <i>13</i></p>"
      ],
      "text/plain": [
       "<IPython.core.display.HTML object>"
      ]
     },
     "metadata": {},
     "output_type": "display_data"
    },
    {
     "data": {
      "text/html": [
       "<div class=\"outeritem\">\n",
       "<div class=\"None  \" >\n",
       "\n",
       "    <div class=\"ll\">\n",
       "        <div class=\"line\"><a href=\"https://github.com/CambridgeSemiticsLab/nena_corpus/blob/master/nena/0.01/Barwar/A Hundred Gold Coins.nena\" title=\"see this passage in its source document\" sec=\"Barwar\">Barwar</a></div>\n",
       "\n",
       "        <div class=\"features\"> <span class=\"dialect xft\"><span class=\"f\">dialect=</span>Barwar</span></div>\n",
       "    </div>\n",
       "\n",
       "</div>\n",
       "</div>"
      ],
      "text/plain": [
       "<IPython.core.display.HTML object>"
      ]
     },
     "metadata": {},
     "output_type": "display_data"
    },
    {
     "data": {
      "text/html": [
       "<a href=\"https://github.com/CambridgeSemiticsLab/nena_corpus/blob/master/nena/0.01/Barwar/A Tale of a Prince and a Princess.nena\" title=\"see this passage in its source document\" sec=\"Barwar, A Tale of a Prince and a Princess, Ln. 57\">Barwar, A Tale of a Prince and a Princess, Ln. 57</a>\n",
       "<div class=\"outeritem\">\n",
       "<div class=\"macro  \" >\n",
       "\n",
       "<div class=\"prosa  \" >\n",
       "\n",
       "<div class=\"word  \" >\n",
       "<div class=\"ara\">hádəx </div>\n",
       "\n",
       "</div>\n",
       "<div class=\"word  \" >\n",
       "<div class=\"ara\">m-bar-t-gwìrra,ˈ </div>\n",
       "\n",
       "</div>\n",
       "</div>\n",
       "<div class=\"prosa  \" >\n",
       "\n",
       "<div class=\"word  \" >\n",
       "<div class=\"ara\">ʾaláha </div>\n",
       "\n",
       "</div>\n",
       "<div class=\"word  hl\" >\n",
       "<div class=\"ara\">qəm-yawə́lla </div>\n",
       "\n",
       "</div>\n",
       "<div class=\"word  \" >\n",
       "<div class=\"ara\">xa-bròna.ˈ </div>\n",
       "\n",
       "</div>\n",
       "</div>\n",
       "</div>\n",
       "</div>"
      ],
      "text/plain": [
       "<IPython.core.display.HTML object>"
      ]
     },
     "metadata": {},
     "output_type": "display_data"
    },
    {
     "data": {
      "text/html": [
       "<p><b>result</b> <i>14</i></p>"
      ],
      "text/plain": [
       "<IPython.core.display.HTML object>"
      ]
     },
     "metadata": {},
     "output_type": "display_data"
    },
    {
     "data": {
      "text/html": [
       "<div class=\"outeritem\">\n",
       "<div class=\"None  \" >\n",
       "\n",
       "    <div class=\"ll\">\n",
       "        <div class=\"line\"><a href=\"https://github.com/CambridgeSemiticsLab/nena_corpus/blob/master/nena/0.01/Barwar/A Hundred Gold Coins.nena\" title=\"see this passage in its source document\" sec=\"Barwar\">Barwar</a></div>\n",
       "\n",
       "        <div class=\"features\"> <span class=\"dialect xft\"><span class=\"f\">dialect=</span>Barwar</span></div>\n",
       "    </div>\n",
       "\n",
       "</div>\n",
       "</div>"
      ],
      "text/plain": [
       "<IPython.core.display.HTML object>"
      ]
     },
     "metadata": {},
     "output_type": "display_data"
    },
    {
     "data": {
      "text/html": [
       "<a href=\"https://github.com/CambridgeSemiticsLab/nena_corpus/blob/master/nena/0.01/Barwar/A Tale of a Prince and a Princess.nena\" title=\"see this passage in its source document\" sec=\"Barwar, A Tale of a Prince and a Princess, Ln. 57\">Barwar, A Tale of a Prince and a Princess, Ln. 57</a>\n",
       "<div class=\"outeritem\">\n",
       "<div class=\"macro  \" >\n",
       "\n",
       "<div class=\"prosa  \" >\n",
       "\n",
       "<div class=\"word  \" >\n",
       "<div class=\"ara\">ʾɛ́-šetət </div>\n",
       "\n",
       "</div>\n",
       "<div class=\"word  \" >\n",
       "<div class=\"ara\">mɛ́θi </div>\n",
       "\n",
       "</div>\n",
       "<div class=\"word  hl\" >\n",
       "<div class=\"ara\">qəm-yawə́lla </div>\n",
       "\n",
       "</div>\n",
       "<div class=\"word  \" >\n",
       "<div class=\"ara\">xa-bróna </div>\n",
       "\n",
       "</div>\n",
       "<div class=\"word  \" >\n",
       "<div class=\"ara\">zòra.ˈ </div>\n",
       "\n",
       "</div>\n",
       "</div>\n",
       "</div>\n",
       "</div>"
      ],
      "text/plain": [
       "<IPython.core.display.HTML object>"
      ]
     },
     "metadata": {},
     "output_type": "display_data"
    },
    {
     "data": {
      "text/html": [
       "<p><b>result</b> <i>15</i></p>"
      ],
      "text/plain": [
       "<IPython.core.display.HTML object>"
      ]
     },
     "metadata": {},
     "output_type": "display_data"
    },
    {
     "data": {
      "text/html": [
       "<div class=\"outeritem\">\n",
       "<div class=\"None  \" >\n",
       "\n",
       "    <div class=\"ll\">\n",
       "        <div class=\"line\"><a href=\"https://github.com/CambridgeSemiticsLab/nena_corpus/blob/master/nena/0.01/Barwar/A Hundred Gold Coins.nena\" title=\"see this passage in its source document\" sec=\"Barwar\">Barwar</a></div>\n",
       "\n",
       "        <div class=\"features\"> <span class=\"dialect xft\"><span class=\"f\">dialect=</span>Barwar</span></div>\n",
       "    </div>\n",
       "\n",
       "</div>\n",
       "</div>"
      ],
      "text/plain": [
       "<IPython.core.display.HTML object>"
      ]
     },
     "metadata": {},
     "output_type": "display_data"
    },
    {
     "data": {
      "text/html": [
       "<a href=\"https://github.com/CambridgeSemiticsLab/nena_corpus/blob/master/nena/0.01/Barwar/Baby Leliθa.nena\" title=\"see this passage in its source document\" sec=\"Barwar, Baby Leliθa, Ln. 1\">Barwar, Baby Leliθa, Ln. 1</a>\n",
       "<div class=\"outeritem\">\n",
       "<div class=\"macro  \" >\n",
       "\n",
       "<div class=\"prosa  \" >\n",
       "\n",
       "<div class=\"word  hl\" >\n",
       "<div class=\"ara\">qəm-hawéla </div>\n",
       "\n",
       "</div>\n",
       "<div class=\"word  \" >\n",
       "<div class=\"ara\">xáθa </div>\n",
       "\n",
       "</div>\n",
       "<div class=\"word  \" >\n",
       "<div class=\"ara\">yak̭ànta.ˈ </div>\n",
       "\n",
       "</div>\n",
       "</div>\n",
       "</div>\n",
       "</div>"
      ],
      "text/plain": [
       "<IPython.core.display.HTML object>"
      ]
     },
     "metadata": {},
     "output_type": "display_data"
    },
    {
     "data": {
      "text/html": [
       "<p><b>result</b> <i>16</i></p>"
      ],
      "text/plain": [
       "<IPython.core.display.HTML object>"
      ]
     },
     "metadata": {},
     "output_type": "display_data"
    },
    {
     "data": {
      "text/html": [
       "<div class=\"outeritem\">\n",
       "<div class=\"None  \" >\n",
       "\n",
       "    <div class=\"ll\">\n",
       "        <div class=\"line\"><a href=\"https://github.com/CambridgeSemiticsLab/nena_corpus/blob/master/nena/0.01/Barwar/A Hundred Gold Coins.nena\" title=\"see this passage in its source document\" sec=\"Barwar\">Barwar</a></div>\n",
       "\n",
       "        <div class=\"features\"> <span class=\"dialect xft\"><span class=\"f\">dialect=</span>Barwar</span></div>\n",
       "    </div>\n",
       "\n",
       "</div>\n",
       "</div>"
      ],
      "text/plain": [
       "<IPython.core.display.HTML object>"
      ]
     },
     "metadata": {},
     "output_type": "display_data"
    },
    {
     "data": {
      "text/html": [
       "<a href=\"https://github.com/CambridgeSemiticsLab/nena_corpus/blob/master/nena/0.01/Barwar/Baby Leliθa.nena\" title=\"see this passage in its source document\" sec=\"Barwar, Baby Leliθa, Ln. 4\">Barwar, Baby Leliθa, Ln. 4</a>\n",
       "<div class=\"outeritem\">\n",
       "<div class=\"macro  \" >\n",
       "\n",
       "<div class=\"prosa  \" >\n",
       "\n",
       "<div class=\"word  hl\" >\n",
       "<div class=\"ara\">qəm-xazèla.ˈ </div>\n",
       "\n",
       "</div>\n",
       "</div>\n",
       "</div>\n",
       "</div>"
      ],
      "text/plain": [
       "<IPython.core.display.HTML object>"
      ]
     },
     "metadata": {},
     "output_type": "display_data"
    },
    {
     "data": {
      "text/html": [
       "<p><b>result</b> <i>17</i></p>"
      ],
      "text/plain": [
       "<IPython.core.display.HTML object>"
      ]
     },
     "metadata": {},
     "output_type": "display_data"
    },
    {
     "data": {
      "text/html": [
       "<div class=\"outeritem\">\n",
       "<div class=\"None  \" >\n",
       "\n",
       "    <div class=\"ll\">\n",
       "        <div class=\"line\"><a href=\"https://github.com/CambridgeSemiticsLab/nena_corpus/blob/master/nena/0.01/Barwar/A Hundred Gold Coins.nena\" title=\"see this passage in its source document\" sec=\"Barwar\">Barwar</a></div>\n",
       "\n",
       "        <div class=\"features\"> <span class=\"dialect xft\"><span class=\"f\">dialect=</span>Barwar</span></div>\n",
       "    </div>\n",
       "\n",
       "</div>\n",
       "</div>"
      ],
      "text/plain": [
       "<IPython.core.display.HTML object>"
      ]
     },
     "metadata": {},
     "output_type": "display_data"
    },
    {
     "data": {
      "text/html": [
       "<a href=\"https://github.com/CambridgeSemiticsLab/nena_corpus/blob/master/nena/0.01/Barwar/Baby Leliθa.nena\" title=\"see this passage in its source document\" sec=\"Barwar, Baby Leliθa, Ln. 9\">Barwar, Baby Leliθa, Ln. 9</a>\n",
       "<div class=\"outeritem\">\n",
       "<div class=\"macro  \" >\n",
       "\n",
       "<div class=\"prosa  \" >\n",
       "\n",
       "<div class=\"word  \" >\n",
       "<div class=\"ara\">ʾu-θèla,ˈ </div>\n",
       "\n",
       "</div>\n",
       "</div>\n",
       "<div class=\"prosa  \" >\n",
       "\n",
       "<div class=\"word  \" >\n",
       "<div class=\"ara\">ʾu-mə́dre </div>\n",
       "\n",
       "</div>\n",
       "<div class=\"word  hl\" >\n",
       "<div class=\"ara\">qəm-paθxàle </div>\n",
       "\n",
       "</div>\n",
       "<div class=\"word  \" >\n",
       "<div class=\"ara\">tắra,ˈ </div>\n",
       "\n",
       "</div>\n",
       "</div>\n",
       "<div class=\"prosa  \" >\n",
       "\n",
       "<div class=\"word  \" >\n",
       "<div class=\"ara\">ʾòra,ˈ </div>\n",
       "\n",
       "</div>\n",
       "</div>\n",
       "<div class=\"prosa  \" >\n",
       "\n",
       "<div class=\"word  \" >\n",
       "<div class=\"ara\">dàmxa,ˈ </div>\n",
       "\n",
       "</div>\n",
       "</div>\n",
       "<div class=\"prosa  \" >\n",
       "\n",
       "<div class=\"word  \" >\n",
       "<div class=\"ara\">ʾasṛàla </div>\n",
       "\n",
       "</div>\n",
       "<div class=\"word  \" >\n",
       "<div class=\"ara\">bănúda </div>\n",
       "\n",
       "</div>\n",
       "<div class=\"word  \" >\n",
       "<div class=\"ara\">díya.ˈ </div>\n",
       "\n",
       "</div>\n",
       "</div>\n",
       "</div>\n",
       "</div>"
      ],
      "text/plain": [
       "<IPython.core.display.HTML object>"
      ]
     },
     "metadata": {},
     "output_type": "display_data"
    },
    {
     "data": {
      "text/html": [
       "<p><b>result</b> <i>18</i></p>"
      ],
      "text/plain": [
       "<IPython.core.display.HTML object>"
      ]
     },
     "metadata": {},
     "output_type": "display_data"
    },
    {
     "data": {
      "text/html": [
       "<div class=\"outeritem\">\n",
       "<div class=\"None  \" >\n",
       "\n",
       "    <div class=\"ll\">\n",
       "        <div class=\"line\"><a href=\"https://github.com/CambridgeSemiticsLab/nena_corpus/blob/master/nena/0.01/Barwar/A Hundred Gold Coins.nena\" title=\"see this passage in its source document\" sec=\"Barwar\">Barwar</a></div>\n",
       "\n",
       "        <div class=\"features\"> <span class=\"dialect xft\"><span class=\"f\">dialect=</span>Barwar</span></div>\n",
       "    </div>\n",
       "\n",
       "</div>\n",
       "</div>"
      ],
      "text/plain": [
       "<IPython.core.display.HTML object>"
      ]
     },
     "metadata": {},
     "output_type": "display_data"
    },
    {
     "data": {
      "text/html": [
       "<a href=\"https://github.com/CambridgeSemiticsLab/nena_corpus/blob/master/nena/0.01/Barwar/Baby Leliθa.nena\" title=\"see this passage in its source document\" sec=\"Barwar, Baby Leliθa, Ln. 11\">Barwar, Baby Leliθa, Ln. 11</a>\n",
       "<div class=\"outeritem\">\n",
       "<div class=\"macro  \" >\n",
       "\n",
       "<div class=\"prosa  \" >\n",
       "\n",
       "<div class=\"word  \" >\n",
       "<div class=\"ara\">xìlla,ˈ </div>\n",
       "\n",
       "</div>\n",
       "</div>\n",
       "<div class=\"prosa  \" >\n",
       "\n",
       "<div class=\"word  \" >\n",
       "<div class=\"ara\">kúlla </div>\n",
       "\n",
       "</div>\n",
       "<div class=\"word  \" >\n",
       "<div class=\"ara\">máθa </div>\n",
       "\n",
       "</div>\n",
       "<div class=\"word  hl\" >\n",
       "<div class=\"ara\">qəm-axlàla.ˈ </div>\n",
       "\n",
       "</div>\n",
       "</div>\n",
       "</div>\n",
       "</div>"
      ],
      "text/plain": [
       "<IPython.core.display.HTML object>"
      ]
     },
     "metadata": {},
     "output_type": "display_data"
    },
    {
     "data": {
      "text/html": [
       "<p><b>result</b> <i>19</i></p>"
      ],
      "text/plain": [
       "<IPython.core.display.HTML object>"
      ]
     },
     "metadata": {},
     "output_type": "display_data"
    },
    {
     "data": {
      "text/html": [
       "<div class=\"outeritem\">\n",
       "<div class=\"None  \" >\n",
       "\n",
       "    <div class=\"ll\">\n",
       "        <div class=\"line\"><a href=\"https://github.com/CambridgeSemiticsLab/nena_corpus/blob/master/nena/0.01/Barwar/A Hundred Gold Coins.nena\" title=\"see this passage in its source document\" sec=\"Barwar\">Barwar</a></div>\n",
       "\n",
       "        <div class=\"features\"> <span class=\"dialect xft\"><span class=\"f\">dialect=</span>Barwar</span></div>\n",
       "    </div>\n",
       "\n",
       "</div>\n",
       "</div>"
      ],
      "text/plain": [
       "<IPython.core.display.HTML object>"
      ]
     },
     "metadata": {},
     "output_type": "display_data"
    },
    {
     "data": {
      "text/html": [
       "<a href=\"https://github.com/CambridgeSemiticsLab/nena_corpus/blob/master/nena/0.01/Barwar/Baby Leliθa.nena\" title=\"see this passage in its source document\" sec=\"Barwar, Baby Leliθa, Ln. 11\">Barwar, Baby Leliθa, Ln. 11</a>\n",
       "<div class=\"outeritem\">\n",
       "<div class=\"macro  \" >\n",
       "\n",
       "<div class=\"prosa  \" >\n",
       "\n",
       "<div class=\"word  \" >\n",
       "<div class=\"ara\">kúlla </div>\n",
       "\n",
       "</div>\n",
       "<div class=\"word  \" >\n",
       "<div class=\"ara\">yále </div>\n",
       "\n",
       "</div>\n",
       "<div class=\"word  \" >\n",
       "<div class=\"ara\">zóre </div>\n",
       "\n",
       "</div>\n",
       "<div class=\"word  hl\" >\n",
       "<div class=\"ara\">qəm-parqàla.ˈ </div>\n",
       "\n",
       "</div>\n",
       "</div>\n",
       "</div>\n",
       "</div>"
      ],
      "text/plain": [
       "<IPython.core.display.HTML object>"
      ]
     },
     "metadata": {},
     "output_type": "display_data"
    },
    {
     "data": {
      "text/html": [
       "<p><b>result</b> <i>20</i></p>"
      ],
      "text/plain": [
       "<IPython.core.display.HTML object>"
      ]
     },
     "metadata": {},
     "output_type": "display_data"
    },
    {
     "data": {
      "text/html": [
       "<div class=\"outeritem\">\n",
       "<div class=\"None  \" >\n",
       "\n",
       "    <div class=\"ll\">\n",
       "        <div class=\"line\"><a href=\"https://github.com/CambridgeSemiticsLab/nena_corpus/blob/master/nena/0.01/Barwar/A Hundred Gold Coins.nena\" title=\"see this passage in its source document\" sec=\"Barwar\">Barwar</a></div>\n",
       "\n",
       "        <div class=\"features\"> <span class=\"dialect xft\"><span class=\"f\">dialect=</span>Barwar</span></div>\n",
       "    </div>\n",
       "\n",
       "</div>\n",
       "</div>"
      ],
      "text/plain": [
       "<IPython.core.display.HTML object>"
      ]
     },
     "metadata": {},
     "output_type": "display_data"
    },
    {
     "data": {
      "text/html": [
       "<a href=\"https://github.com/CambridgeSemiticsLab/nena_corpus/blob/master/nena/0.01/Barwar/Baby Leliθa.nena\" title=\"see this passage in its source document\" sec=\"Barwar, Baby Leliθa, Ln. 11\">Barwar, Baby Leliθa, Ln. 11</a>\n",
       "<div class=\"outeritem\">\n",
       "<div class=\"macro  \" >\n",
       "\n",
       "<div class=\"prosa  \" >\n",
       "\n",
       "<div class=\"word  \" >\n",
       "<div class=\"ara\">kúlla </div>\n",
       "\n",
       "</div>\n",
       "<div class=\"word  hl\" >\n",
       "<div class=\"ara\">qəm-axlàla.ˈ </div>\n",
       "\n",
       "</div>\n",
       "</div>\n",
       "</div>\n",
       "</div>"
      ],
      "text/plain": [
       "<IPython.core.display.HTML object>"
      ]
     },
     "metadata": {},
     "output_type": "display_data"
    },
    {
     "data": {
      "text/html": [
       "<p><b>result</b> <i>21</i></p>"
      ],
      "text/plain": [
       "<IPython.core.display.HTML object>"
      ]
     },
     "metadata": {},
     "output_type": "display_data"
    },
    {
     "data": {
      "text/html": [
       "<div class=\"outeritem\">\n",
       "<div class=\"None  \" >\n",
       "\n",
       "    <div class=\"ll\">\n",
       "        <div class=\"line\"><a href=\"https://github.com/CambridgeSemiticsLab/nena_corpus/blob/master/nena/0.01/Barwar/A Hundred Gold Coins.nena\" title=\"see this passage in its source document\" sec=\"Barwar\">Barwar</a></div>\n",
       "\n",
       "        <div class=\"features\"> <span class=\"dialect xft\"><span class=\"f\">dialect=</span>Barwar</span></div>\n",
       "    </div>\n",
       "\n",
       "</div>\n",
       "</div>"
      ],
      "text/plain": [
       "<IPython.core.display.HTML object>"
      ]
     },
     "metadata": {},
     "output_type": "display_data"
    },
    {
     "data": {
      "text/html": [
       "<a href=\"https://github.com/CambridgeSemiticsLab/nena_corpus/blob/master/nena/0.01/Barwar/Baby Leliθa.nena\" title=\"see this passage in its source document\" sec=\"Barwar, Baby Leliθa, Ln. 24\">Barwar, Baby Leliθa, Ln. 24</a>\n",
       "<div class=\"outeritem\">\n",
       "<div class=\"macro  \" >\n",
       "\n",
       "<div class=\"prosa  \" >\n",
       "\n",
       "<div class=\"word  \" >\n",
       "<div class=\"ara\">xárθa </div>\n",
       "\n",
       "</div>\n",
       "<div class=\"word  hl\" >\n",
       "<div class=\"ara\">qəm-xazyále </div>\n",
       "\n",
       "</div>\n",
       "<div class=\"word  \" >\n",
       "<div class=\"ara\">gu-dàšta.ˈ </div>\n",
       "\n",
       "</div>\n",
       "</div>\n",
       "</div>\n",
       "</div>"
      ],
      "text/plain": [
       "<IPython.core.display.HTML object>"
      ]
     },
     "metadata": {},
     "output_type": "display_data"
    },
    {
     "data": {
      "text/html": [
       "<p><b>result</b> <i>22</i></p>"
      ],
      "text/plain": [
       "<IPython.core.display.HTML object>"
      ]
     },
     "metadata": {},
     "output_type": "display_data"
    },
    {
     "data": {
      "text/html": [
       "<div class=\"outeritem\">\n",
       "<div class=\"None  \" >\n",
       "\n",
       "    <div class=\"ll\">\n",
       "        <div class=\"line\"><a href=\"https://github.com/CambridgeSemiticsLab/nena_corpus/blob/master/nena/0.01/Barwar/A Hundred Gold Coins.nena\" title=\"see this passage in its source document\" sec=\"Barwar\">Barwar</a></div>\n",
       "\n",
       "        <div class=\"features\"> <span class=\"dialect xft\"><span class=\"f\">dialect=</span>Barwar</span></div>\n",
       "    </div>\n",
       "\n",
       "</div>\n",
       "</div>"
      ],
      "text/plain": [
       "<IPython.core.display.HTML object>"
      ]
     },
     "metadata": {},
     "output_type": "display_data"
    },
    {
     "data": {
      "text/html": [
       "<a href=\"https://github.com/CambridgeSemiticsLab/nena_corpus/blob/master/nena/0.01/Barwar/Baby Leliθa.nena\" title=\"see this passage in its source document\" sec=\"Barwar, Baby Leliθa, Ln. 27\">Barwar, Baby Leliθa, Ln. 27</a>\n",
       "<div class=\"outeritem\">\n",
       "<div class=\"macro  \" >\n",
       "\n",
       "<div class=\"prosa  \" >\n",
       "\n",
       "<div class=\"word  hl\" >\n",
       "<div class=\"ara\">qəm-axlìla.ˈ </div>\n",
       "\n",
       "</div>\n",
       "</div>\n",
       "</div>\n",
       "</div>"
      ],
      "text/plain": [
       "<IPython.core.display.HTML object>"
      ]
     },
     "metadata": {},
     "output_type": "display_data"
    },
    {
     "data": {
      "text/html": [
       "<p><b>result</b> <i>23</i></p>"
      ],
      "text/plain": [
       "<IPython.core.display.HTML object>"
      ]
     },
     "metadata": {},
     "output_type": "display_data"
    },
    {
     "data": {
      "text/html": [
       "<div class=\"outeritem\">\n",
       "<div class=\"None  \" >\n",
       "\n",
       "    <div class=\"ll\">\n",
       "        <div class=\"line\"><a href=\"https://github.com/CambridgeSemiticsLab/nena_corpus/blob/master/nena/0.01/Barwar/A Hundred Gold Coins.nena\" title=\"see this passage in its source document\" sec=\"Barwar\">Barwar</a></div>\n",
       "\n",
       "        <div class=\"features\"> <span class=\"dialect xft\"><span class=\"f\">dialect=</span>Barwar</span></div>\n",
       "    </div>\n",
       "\n",
       "</div>\n",
       "</div>"
      ],
      "text/plain": [
       "<IPython.core.display.HTML object>"
      ]
     },
     "metadata": {},
     "output_type": "display_data"
    },
    {
     "data": {
      "text/html": [
       "<a href=\"https://github.com/CambridgeSemiticsLab/nena_corpus/blob/master/nena/0.01/Barwar/Baby Leliθa.nena\" title=\"see this passage in its source document\" sec=\"Barwar, Baby Leliθa, Ln. 28\">Barwar, Baby Leliθa, Ln. 28</a>\n",
       "<div class=\"outeritem\">\n",
       "<div class=\"macro  \" >\n",
       "\n",
       "<div class=\"prosa  \" >\n",
       "\n",
       "<div class=\"word  \" >\n",
       "<div class=\"ara\">ʾàyˈ </div>\n",
       "\n",
       "</div>\n",
       "</div>\n",
       "<div class=\"prosa  \" >\n",
       "\n",
       "<div class=\"word  hl\" >\n",
       "<div class=\"ara\">qəm-axlìla.ˈ </div>\n",
       "\n",
       "</div>\n",
       "</div>\n",
       "</div>\n",
       "</div>"
      ],
      "text/plain": [
       "<IPython.core.display.HTML object>"
      ]
     },
     "metadata": {},
     "output_type": "display_data"
    },
    {
     "data": {
      "text/html": [
       "<p><b>result</b> <i>24</i></p>"
      ],
      "text/plain": [
       "<IPython.core.display.HTML object>"
      ]
     },
     "metadata": {},
     "output_type": "display_data"
    },
    {
     "data": {
      "text/html": [
       "<div class=\"outeritem\">\n",
       "<div class=\"None  \" >\n",
       "\n",
       "    <div class=\"ll\">\n",
       "        <div class=\"line\"><a href=\"https://github.com/CambridgeSemiticsLab/nena_corpus/blob/master/nena/0.01/Barwar/A Hundred Gold Coins.nena\" title=\"see this passage in its source document\" sec=\"Barwar\">Barwar</a></div>\n",
       "\n",
       "        <div class=\"features\"> <span class=\"dialect xft\"><span class=\"f\">dialect=</span>Barwar</span></div>\n",
       "    </div>\n",
       "\n",
       "</div>\n",
       "</div>"
      ],
      "text/plain": [
       "<IPython.core.display.HTML object>"
      ]
     },
     "metadata": {},
     "output_type": "display_data"
    },
    {
     "data": {
      "text/html": [
       "<a href=\"https://github.com/CambridgeSemiticsLab/nena_corpus/blob/master/nena/0.01/Barwar/Baby Leliθa.nena\" title=\"see this passage in its source document\" sec=\"Barwar, Baby Leliθa, Ln. 31\">Barwar, Baby Leliθa, Ln. 31</a>\n",
       "<div class=\"outeritem\">\n",
       "<div class=\"macro  \" >\n",
       "\n",
       "<div class=\"prosa  \" >\n",
       "\n",
       "<div class=\"word  hl\" >\n",
       "<div class=\"ara\">qəm-maxɛ́le </div>\n",
       "\n",
       "</div>\n",
       "<div class=\"word  \" >\n",
       "<div class=\"ara\">lišanèy.ˈ </div>\n",
       "\n",
       "</div>\n",
       "</div>\n",
       "</div>\n",
       "</div>"
      ],
      "text/plain": [
       "<IPython.core.display.HTML object>"
      ]
     },
     "metadata": {},
     "output_type": "display_data"
    },
    {
     "data": {
      "text/html": [
       "<p><b>result</b> <i>25</i></p>"
      ],
      "text/plain": [
       "<IPython.core.display.HTML object>"
      ]
     },
     "metadata": {},
     "output_type": "display_data"
    },
    {
     "data": {
      "text/html": [
       "<div class=\"outeritem\">\n",
       "<div class=\"None  \" >\n",
       "\n",
       "    <div class=\"ll\">\n",
       "        <div class=\"line\"><a href=\"https://github.com/CambridgeSemiticsLab/nena_corpus/blob/master/nena/0.01/Barwar/A Hundred Gold Coins.nena\" title=\"see this passage in its source document\" sec=\"Barwar\">Barwar</a></div>\n",
       "\n",
       "        <div class=\"features\"> <span class=\"dialect xft\"><span class=\"f\">dialect=</span>Barwar</span></div>\n",
       "    </div>\n",
       "\n",
       "</div>\n",
       "</div>"
      ],
      "text/plain": [
       "<IPython.core.display.HTML object>"
      ]
     },
     "metadata": {},
     "output_type": "display_data"
    },
    {
     "data": {
      "text/html": [
       "<a href=\"https://github.com/CambridgeSemiticsLab/nena_corpus/blob/master/nena/0.01/Barwar/Dəmdəma.nena\" title=\"see this passage in its source document\" sec=\"Barwar, Dəmdəma, Ln. 1\">Barwar, Dəmdəma, Ln. 1</a>\n",
       "<div class=\"outeritem\">\n",
       "<div class=\"macro  \" >\n",
       "\n",
       "<div class=\"prosa  \" >\n",
       "\n",
       "<div class=\"word  \" >\n",
       "<div class=\"ara\">zílle </div>\n",
       "\n",
       "</div>\n",
       "<div class=\"word  \" >\n",
       "<div class=\"ara\">xa-béna </div>\n",
       "\n",
       "</div>\n",
       "<div class=\"word  \" >\n",
       "<div class=\"ara\">ʾárya </div>\n",
       "\n",
       "</div>\n",
       "<div class=\"word  \" >\n",
       "<div class=\"ara\">θéle </div>\n",
       "\n",
       "</div>\n",
       "<div class=\"word  \" >\n",
       "<div class=\"ara\">ṭálbe </div>\n",
       "\n",
       "</div>\n",
       "<div class=\"word  \" >\n",
       "<div class=\"ara\">dìye,ˈ </div>\n",
       "\n",
       "</div>\n",
       "</div>\n",
       "<div class=\"prosa  \" >\n",
       "\n",
       "<div class=\"word  \" >\n",
       "<div class=\"ara\">ʾáwwa </div>\n",
       "\n",
       "</div>\n",
       "<div class=\"word  \" >\n",
       "<div class=\"ara\">qṭìlle </div>\n",
       "\n",
       "</div>\n",
       "<div class=\"word  \" >\n",
       "<div class=\"ara\">ṭla-ʾárya,ˈ </div>\n",
       "\n",
       "</div>\n",
       "</div>\n",
       "<div class=\"prosa  \" >\n",
       "\n",
       "<div class=\"word  \" >\n",
       "<div class=\"ara\">ʾína </div>\n",
       "\n",
       "</div>\n",
       "<div class=\"word  \" >\n",
       "<div class=\"ara\">ʾárya </div>\n",
       "\n",
       "</div>\n",
       "<div class=\"word  \" >\n",
       "<div class=\"ara\">ʾíðe </div>\n",
       "\n",
       "</div>\n",
       "<div class=\"word  \" >\n",
       "<div class=\"ara\">díye </div>\n",
       "\n",
       "</div>\n",
       "<div class=\"word  hl\" >\n",
       "<div class=\"ara\">qəm-axə̀lla.ˈ </div>\n",
       "\n",
       "</div>\n",
       "</div>\n",
       "</div>\n",
       "</div>"
      ],
      "text/plain": [
       "<IPython.core.display.HTML object>"
      ]
     },
     "metadata": {},
     "output_type": "display_data"
    },
    {
     "data": {
      "text/html": [
       "<p><b>result</b> <i>26</i></p>"
      ],
      "text/plain": [
       "<IPython.core.display.HTML object>"
      ]
     },
     "metadata": {},
     "output_type": "display_data"
    },
    {
     "data": {
      "text/html": [
       "<div class=\"outeritem\">\n",
       "<div class=\"None  \" >\n",
       "\n",
       "    <div class=\"ll\">\n",
       "        <div class=\"line\"><a href=\"https://github.com/CambridgeSemiticsLab/nena_corpus/blob/master/nena/0.01/Barwar/A Hundred Gold Coins.nena\" title=\"see this passage in its source document\" sec=\"Barwar\">Barwar</a></div>\n",
       "\n",
       "        <div class=\"features\"> <span class=\"dialect xft\"><span class=\"f\">dialect=</span>Barwar</span></div>\n",
       "    </div>\n",
       "\n",
       "</div>\n",
       "</div>"
      ],
      "text/plain": [
       "<IPython.core.display.HTML object>"
      ]
     },
     "metadata": {},
     "output_type": "display_data"
    },
    {
     "data": {
      "text/html": [
       "<a href=\"https://github.com/CambridgeSemiticsLab/nena_corpus/blob/master/nena/0.01/Barwar/Gozali and Nozali.nena\" title=\"see this passage in its source document\" sec=\"Barwar, Gozali and Nozali, Ln. 5\">Barwar, Gozali and Nozali, Ln. 5</a>\n",
       "<div class=\"outeritem\">\n",
       "<div class=\"macro  \" >\n",
       "\n",
       "<div class=\"prosa  \" >\n",
       "\n",
       "<div class=\"word  \" >\n",
       "<div class=\"ara\">yáʿni </div>\n",
       "\n",
       "</div>\n",
       "<div class=\"word  \" >\n",
       "<div class=\"ara\">lá </div>\n",
       "\n",
       "</div>\n",
       "<div class=\"word  hl\" >\n",
       "<div class=\"ara\">qəm-basmále </div>\n",
       "\n",
       "</div>\n",
       "<div class=\"word  \" >\n",
       "<div class=\"ara\">ʾayyà-wˈ </div>\n",
       "\n",
       "</div>\n",
       "</div>\n",
       "<div class=\"prosa  \" >\n",
       "\n",
       "<div class=\"word  \" >\n",
       "<div class=\"ara\">xə́lme </div>\n",
       "\n",
       "</div>\n",
       "<div class=\"word  \" >\n",
       "<div class=\"ara\">díye </div>\n",
       "\n",
       "</div>\n",
       "<div class=\"word  \" >\n",
       "<div class=\"ara\">lá </div>\n",
       "\n",
       "</div>\n",
       "<div class=\"word  \" >\n",
       "<div class=\"ara\">qəm-basə̀mle.ˈ </div>\n",
       "\n",
       "</div>\n",
       "</div>\n",
       "</div>\n",
       "</div>"
      ],
      "text/plain": [
       "<IPython.core.display.HTML object>"
      ]
     },
     "metadata": {},
     "output_type": "display_data"
    },
    {
     "data": {
      "text/html": [
       "<p><b>result</b> <i>27</i></p>"
      ],
      "text/plain": [
       "<IPython.core.display.HTML object>"
      ]
     },
     "metadata": {},
     "output_type": "display_data"
    },
    {
     "data": {
      "text/html": [
       "<div class=\"outeritem\">\n",
       "<div class=\"None  \" >\n",
       "\n",
       "    <div class=\"ll\">\n",
       "        <div class=\"line\"><a href=\"https://github.com/CambridgeSemiticsLab/nena_corpus/blob/master/nena/0.01/Barwar/A Hundred Gold Coins.nena\" title=\"see this passage in its source document\" sec=\"Barwar\">Barwar</a></div>\n",
       "\n",
       "        <div class=\"features\"> <span class=\"dialect xft\"><span class=\"f\">dialect=</span>Barwar</span></div>\n",
       "    </div>\n",
       "\n",
       "</div>\n",
       "</div>"
      ],
      "text/plain": [
       "<IPython.core.display.HTML object>"
      ]
     },
     "metadata": {},
     "output_type": "display_data"
    },
    {
     "data": {
      "text/html": [
       "<a href=\"https://github.com/CambridgeSemiticsLab/nena_corpus/blob/master/nena/0.01/Barwar/Gozali and Nozali.nena\" title=\"see this passage in its source document\" sec=\"Barwar, Gozali and Nozali, Ln. 5\">Barwar, Gozali and Nozali, Ln. 5</a>\n",
       "<div class=\"outeritem\">\n",
       "<div class=\"macro  \" >\n",
       "\n",
       "<div class=\"prosa  \" >\n",
       "\n",
       "<div class=\"word  \" >\n",
       "<div class=\"ara\">yáʿni </div>\n",
       "\n",
       "</div>\n",
       "<div class=\"word  \" >\n",
       "<div class=\"ara\">lá </div>\n",
       "\n",
       "</div>\n",
       "<div class=\"word  \" >\n",
       "<div class=\"ara\">qəm-basmále </div>\n",
       "\n",
       "</div>\n",
       "<div class=\"word  \" >\n",
       "<div class=\"ara\">ʾayyà-wˈ </div>\n",
       "\n",
       "</div>\n",
       "</div>\n",
       "<div class=\"prosa  \" >\n",
       "\n",
       "<div class=\"word  \" >\n",
       "<div class=\"ara\">xə́lme </div>\n",
       "\n",
       "</div>\n",
       "<div class=\"word  \" >\n",
       "<div class=\"ara\">díye </div>\n",
       "\n",
       "</div>\n",
       "<div class=\"word  \" >\n",
       "<div class=\"ara\">lá </div>\n",
       "\n",
       "</div>\n",
       "<div class=\"word  hl\" >\n",
       "<div class=\"ara\">qəm-basə̀mle.ˈ </div>\n",
       "\n",
       "</div>\n",
       "</div>\n",
       "</div>\n",
       "</div>"
      ],
      "text/plain": [
       "<IPython.core.display.HTML object>"
      ]
     },
     "metadata": {},
     "output_type": "display_data"
    },
    {
     "data": {
      "text/html": [
       "<p><b>result</b> <i>28</i></p>"
      ],
      "text/plain": [
       "<IPython.core.display.HTML object>"
      ]
     },
     "metadata": {},
     "output_type": "display_data"
    },
    {
     "data": {
      "text/html": [
       "<div class=\"outeritem\">\n",
       "<div class=\"None  \" >\n",
       "\n",
       "    <div class=\"ll\">\n",
       "        <div class=\"line\"><a href=\"https://github.com/CambridgeSemiticsLab/nena_corpus/blob/master/nena/0.01/Barwar/A Hundred Gold Coins.nena\" title=\"see this passage in its source document\" sec=\"Barwar\">Barwar</a></div>\n",
       "\n",
       "        <div class=\"features\"> <span class=\"dialect xft\"><span class=\"f\">dialect=</span>Barwar</span></div>\n",
       "    </div>\n",
       "\n",
       "</div>\n",
       "</div>"
      ],
      "text/plain": [
       "<IPython.core.display.HTML object>"
      ]
     },
     "metadata": {},
     "output_type": "display_data"
    },
    {
     "data": {
      "text/html": [
       "<a href=\"https://github.com/CambridgeSemiticsLab/nena_corpus/blob/master/nena/0.01/Barwar/Gozali and Nozali.nena\" title=\"see this passage in its source document\" sec=\"Barwar, Gozali and Nozali, Ln. 9\">Barwar, Gozali and Nozali, Ln. 9</a>\n",
       "<div class=\"outeritem\">\n",
       "<div class=\"macro  \" >\n",
       "\n",
       "<div class=\"prosa  \" >\n",
       "\n",
       "<div class=\"word  hl\" >\n",
       "<div class=\"ara\">qəm-šaqlíla </div>\n",
       "\n",
       "</div>\n",
       "<div class=\"word  \" >\n",
       "<div class=\"ara\">ʾán-tre </div>\n",
       "\n",
       "</div>\n",
       "<div class=\"word  \" >\n",
       "<div class=\"ara\">yàleˈ </div>\n",
       "\n",
       "</div>\n",
       "</div>\n",
       "<div class=\"prosa  \" >\n",
       "\n",
       "<div class=\"word  \" >\n",
       "<div class=\"ara\">mən-babéy </div>\n",
       "\n",
       "</div>\n",
       "<div class=\"word  \" >\n",
       "<div class=\"ara\">ʾu-yəmmèy.ˈ </div>\n",
       "\n",
       "</div>\n",
       "</div>\n",
       "</div>\n",
       "</div>"
      ],
      "text/plain": [
       "<IPython.core.display.HTML object>"
      ]
     },
     "metadata": {},
     "output_type": "display_data"
    },
    {
     "data": {
      "text/html": [
       "<p><b>result</b> <i>29</i></p>"
      ],
      "text/plain": [
       "<IPython.core.display.HTML object>"
      ]
     },
     "metadata": {},
     "output_type": "display_data"
    },
    {
     "data": {
      "text/html": [
       "<div class=\"outeritem\">\n",
       "<div class=\"None  \" >\n",
       "\n",
       "    <div class=\"ll\">\n",
       "        <div class=\"line\"><a href=\"https://github.com/CambridgeSemiticsLab/nena_corpus/blob/master/nena/0.01/Barwar/A Hundred Gold Coins.nena\" title=\"see this passage in its source document\" sec=\"Barwar\">Barwar</a></div>\n",
       "\n",
       "        <div class=\"features\"> <span class=\"dialect xft\"><span class=\"f\">dialect=</span>Barwar</span></div>\n",
       "    </div>\n",
       "\n",
       "</div>\n",
       "</div>"
      ],
      "text/plain": [
       "<IPython.core.display.HTML object>"
      ]
     },
     "metadata": {},
     "output_type": "display_data"
    },
    {
     "data": {
      "text/html": [
       "<a href=\"https://github.com/CambridgeSemiticsLab/nena_corpus/blob/master/nena/0.01/Barwar/Gozali and Nozali.nena\" title=\"see this passage in its source document\" sec=\"Barwar, Gozali and Nozali, Ln. 10\">Barwar, Gozali and Nozali, Ln. 10</a>\n",
       "<div class=\"outeritem\">\n",
       "<div class=\"macro  \" >\n",
       "\n",
       "<div class=\"prosa  \" >\n",
       "\n",
       "<div class=\"word  \" >\n",
       "<div class=\"ara\">ʾu-políse </div>\n",
       "\n",
       "</div>\n",
       "<div class=\"word  hl\" >\n",
       "<div class=\"ara\">qəm-maklíla </div>\n",
       "\n",
       "</div>\n",
       "<div class=\"word  \" >\n",
       "<div class=\"ara\">bába-w </div>\n",
       "\n",
       "</div>\n",
       "<div class=\"word  \" >\n",
       "<div class=\"ara\">yə̀mma,ˈ </div>\n",
       "\n",
       "</div>\n",
       "</div>\n",
       "<div class=\"prosa  \" >\n",
       "\n",
       "<div class=\"word  \" >\n",
       "<div class=\"ara\">ʾu-šaqlìla </div>\n",
       "\n",
       "</div>\n",
       "<div class=\"word  \" >\n",
       "<div class=\"ara\">ʾan-tre-yále.ˈ </div>\n",
       "\n",
       "</div>\n",
       "</div>\n",
       "</div>\n",
       "</div>"
      ],
      "text/plain": [
       "<IPython.core.display.HTML object>"
      ]
     },
     "metadata": {},
     "output_type": "display_data"
    },
    {
     "data": {
      "text/html": [
       "<p><b>result</b> <i>30</i></p>"
      ],
      "text/plain": [
       "<IPython.core.display.HTML object>"
      ]
     },
     "metadata": {},
     "output_type": "display_data"
    },
    {
     "data": {
      "text/html": [
       "<div class=\"outeritem\">\n",
       "<div class=\"None  \" >\n",
       "\n",
       "    <div class=\"ll\">\n",
       "        <div class=\"line\"><a href=\"https://github.com/CambridgeSemiticsLab/nena_corpus/blob/master/nena/0.01/Barwar/A Hundred Gold Coins.nena\" title=\"see this passage in its source document\" sec=\"Barwar\">Barwar</a></div>\n",
       "\n",
       "        <div class=\"features\"> <span class=\"dialect xft\"><span class=\"f\">dialect=</span>Barwar</span></div>\n",
       "    </div>\n",
       "\n",
       "</div>\n",
       "</div>"
      ],
      "text/plain": [
       "<IPython.core.display.HTML object>"
      ]
     },
     "metadata": {},
     "output_type": "display_data"
    },
    {
     "data": {
      "text/html": [
       "<a href=\"https://github.com/CambridgeSemiticsLab/nena_corpus/blob/master/nena/0.01/Barwar/Gozali and Nozali.nena\" title=\"see this passage in its source document\" sec=\"Barwar, Gozali and Nozali, Ln. 10\">Barwar, Gozali and Nozali, Ln. 10</a>\n",
       "<div class=\"outeritem\">\n",
       "<div class=\"macro  \" >\n",
       "\n",
       "<div class=\"prosa  \" >\n",
       "\n",
       "<div class=\"word  \" >\n",
       "<div class=\"ara\">ʾímət </div>\n",
       "\n",
       "</div>\n",
       "<div class=\"word  hl\" >\n",
       "<div class=\"ara\">qəm-šaqlíla </div>\n",
       "\n",
       "</div>\n",
       "<div class=\"word  \" >\n",
       "<div class=\"ara\">políse </div>\n",
       "\n",
       "</div>\n",
       "<div class=\"word  \" >\n",
       "<div class=\"ara\">ʾan-tre-yàle,ˈ </div>\n",
       "\n",
       "</div>\n",
       "</div>\n",
       "<div class=\"prosa  \" >\n",
       "\n",
       "<div class=\"word  \" >\n",
       "<div class=\"ara\">ʾan-políse </div>\n",
       "\n",
       "</div>\n",
       "<div class=\"word  \" >\n",
       "<div class=\"ara\">wéla </div>\n",
       "\n",
       "</div>\n",
       "<div class=\"word  \" >\n",
       "<div class=\"ara\">pyáša </div>\n",
       "\n",
       "</div>\n",
       "<div class=\"word  \" >\n",
       "<div class=\"ara\">b-xammèy.ˈ </div>\n",
       "\n",
       "</div>\n",
       "</div>\n",
       "</div>\n",
       "</div>"
      ],
      "text/plain": [
       "<IPython.core.display.HTML object>"
      ]
     },
     "metadata": {},
     "output_type": "display_data"
    },
    {
     "data": {
      "text/html": [
       "<p><b>result</b> <i>31</i></p>"
      ],
      "text/plain": [
       "<IPython.core.display.HTML object>"
      ]
     },
     "metadata": {},
     "output_type": "display_data"
    },
    {
     "data": {
      "text/html": [
       "<div class=\"outeritem\">\n",
       "<div class=\"None  \" >\n",
       "\n",
       "    <div class=\"ll\">\n",
       "        <div class=\"line\"><a href=\"https://github.com/CambridgeSemiticsLab/nena_corpus/blob/master/nena/0.01/Barwar/A Hundred Gold Coins.nena\" title=\"see this passage in its source document\" sec=\"Barwar\">Barwar</a></div>\n",
       "\n",
       "        <div class=\"features\"> <span class=\"dialect xft\"><span class=\"f\">dialect=</span>Barwar</span></div>\n",
       "    </div>\n",
       "\n",
       "</div>\n",
       "</div>"
      ],
      "text/plain": [
       "<IPython.core.display.HTML object>"
      ]
     },
     "metadata": {},
     "output_type": "display_data"
    },
    {
     "data": {
      "text/html": [
       "<a href=\"https://github.com/CambridgeSemiticsLab/nena_corpus/blob/master/nena/0.01/Barwar/Gozali and Nozali.nena\" title=\"see this passage in its source document\" sec=\"Barwar, Gozali and Nozali, Ln. 12\">Barwar, Gozali and Nozali, Ln. 12</a>\n",
       "<div class=\"outeritem\">\n",
       "<div class=\"macro  \" >\n",
       "\n",
       "<div class=\"prosa  \" >\n",
       "\n",
       "<div class=\"word  \" >\n",
       "<div class=\"ara\">ʾu-políse </div>\n",
       "\n",
       "</div>\n",
       "<div class=\"word  \" >\n",
       "<div class=\"ara\">xzéla </div>\n",
       "\n",
       "</div>\n",
       "<div class=\"word  \" >\n",
       "<div class=\"ara\">ʾan-yále </div>\n",
       "\n",
       "</div>\n",
       "<div class=\"word  \" >\n",
       "<div class=\"ara\">jwànqe,ˈ </div>\n",
       "\n",
       "</div>\n",
       "</div>\n",
       "<div class=\"prosa  \" >\n",
       "\n",
       "<div class=\"word  hl\" >\n",
       "<div class=\"ara\">qəm-mattíla </div>\n",
       "\n",
       "</div>\n",
       "<div class=\"word  \" >\n",
       "<div class=\"ara\">b-sandùqe,ˈ </div>\n",
       "\n",
       "</div>\n",
       "</div>\n",
       "<div class=\"prosa  \" >\n",
       "\n",
       "<div class=\"word  \" >\n",
       "<div class=\"ara\">qəm-hawíla </div>\n",
       "\n",
       "</div>\n",
       "<div class=\"word  \" >\n",
       "<div class=\"ara\">xáčča </div>\n",
       "\n",
       "</div>\n",
       "<div class=\"word  \" >\n",
       "<div class=\"ara\">ʾixàla-wˈ </div>\n",
       "\n",
       "</div>\n",
       "</div>\n",
       "<div class=\"prosa  \" >\n",
       "\n",
       "<div class=\"word  \" >\n",
       "<div class=\"ara\">qəm-xăðíla </div>\n",
       "\n",
       "</div>\n",
       "<div class=\"word  \" >\n",
       "<div class=\"ara\">hátxa </div>\n",
       "\n",
       "</div>\n",
       "<div class=\"word  \" >\n",
       "<div class=\"ara\">t-la-qɛralèyˈ </div>\n",
       "\n",
       "</div>\n",
       "</div>\n",
       "<div class=\"prosa  \" >\n",
       "\n",
       "<div class=\"word  \" >\n",
       "<div class=\"ara\">ʾu-qəm-dɛrɛ́la </div>\n",
       "\n",
       "</div>\n",
       "<div class=\"word  \" >\n",
       "<div class=\"ara\">gu-mìya.ˈ </div>\n",
       "\n",
       "</div>\n",
       "</div>\n",
       "</div>\n",
       "</div>"
      ],
      "text/plain": [
       "<IPython.core.display.HTML object>"
      ]
     },
     "metadata": {},
     "output_type": "display_data"
    },
    {
     "data": {
      "text/html": [
       "<p><b>result</b> <i>32</i></p>"
      ],
      "text/plain": [
       "<IPython.core.display.HTML object>"
      ]
     },
     "metadata": {},
     "output_type": "display_data"
    },
    {
     "data": {
      "text/html": [
       "<div class=\"outeritem\">\n",
       "<div class=\"None  \" >\n",
       "\n",
       "    <div class=\"ll\">\n",
       "        <div class=\"line\"><a href=\"https://github.com/CambridgeSemiticsLab/nena_corpus/blob/master/nena/0.01/Barwar/A Hundred Gold Coins.nena\" title=\"see this passage in its source document\" sec=\"Barwar\">Barwar</a></div>\n",
       "\n",
       "        <div class=\"features\"> <span class=\"dialect xft\"><span class=\"f\">dialect=</span>Barwar</span></div>\n",
       "    </div>\n",
       "\n",
       "</div>\n",
       "</div>"
      ],
      "text/plain": [
       "<IPython.core.display.HTML object>"
      ]
     },
     "metadata": {},
     "output_type": "display_data"
    },
    {
     "data": {
      "text/html": [
       "<a href=\"https://github.com/CambridgeSemiticsLab/nena_corpus/blob/master/nena/0.01/Barwar/Gozali and Nozali.nena\" title=\"see this passage in its source document\" sec=\"Barwar, Gozali and Nozali, Ln. 12\">Barwar, Gozali and Nozali, Ln. 12</a>\n",
       "<div class=\"outeritem\">\n",
       "<div class=\"macro  \" >\n",
       "\n",
       "<div class=\"prosa  \" >\n",
       "\n",
       "<div class=\"word  \" >\n",
       "<div class=\"ara\">ʾu-políse </div>\n",
       "\n",
       "</div>\n",
       "<div class=\"word  \" >\n",
       "<div class=\"ara\">xzéla </div>\n",
       "\n",
       "</div>\n",
       "<div class=\"word  \" >\n",
       "<div class=\"ara\">ʾan-yále </div>\n",
       "\n",
       "</div>\n",
       "<div class=\"word  \" >\n",
       "<div class=\"ara\">jwànqe,ˈ </div>\n",
       "\n",
       "</div>\n",
       "</div>\n",
       "<div class=\"prosa  \" >\n",
       "\n",
       "<div class=\"word  \" >\n",
       "<div class=\"ara\">qəm-mattíla </div>\n",
       "\n",
       "</div>\n",
       "<div class=\"word  \" >\n",
       "<div class=\"ara\">b-sandùqe,ˈ </div>\n",
       "\n",
       "</div>\n",
       "</div>\n",
       "<div class=\"prosa  \" >\n",
       "\n",
       "<div class=\"word  hl\" >\n",
       "<div class=\"ara\">qəm-hawíla </div>\n",
       "\n",
       "</div>\n",
       "<div class=\"word  \" >\n",
       "<div class=\"ara\">xáčča </div>\n",
       "\n",
       "</div>\n",
       "<div class=\"word  \" >\n",
       "<div class=\"ara\">ʾixàla-wˈ </div>\n",
       "\n",
       "</div>\n",
       "</div>\n",
       "<div class=\"prosa  \" >\n",
       "\n",
       "<div class=\"word  \" >\n",
       "<div class=\"ara\">qəm-xăðíla </div>\n",
       "\n",
       "</div>\n",
       "<div class=\"word  \" >\n",
       "<div class=\"ara\">hátxa </div>\n",
       "\n",
       "</div>\n",
       "<div class=\"word  \" >\n",
       "<div class=\"ara\">t-la-qɛralèyˈ </div>\n",
       "\n",
       "</div>\n",
       "</div>\n",
       "<div class=\"prosa  \" >\n",
       "\n",
       "<div class=\"word  \" >\n",
       "<div class=\"ara\">ʾu-qəm-dɛrɛ́la </div>\n",
       "\n",
       "</div>\n",
       "<div class=\"word  \" >\n",
       "<div class=\"ara\">gu-mìya.ˈ </div>\n",
       "\n",
       "</div>\n",
       "</div>\n",
       "</div>\n",
       "</div>"
      ],
      "text/plain": [
       "<IPython.core.display.HTML object>"
      ]
     },
     "metadata": {},
     "output_type": "display_data"
    },
    {
     "data": {
      "text/html": [
       "<p><b>result</b> <i>33</i></p>"
      ],
      "text/plain": [
       "<IPython.core.display.HTML object>"
      ]
     },
     "metadata": {},
     "output_type": "display_data"
    },
    {
     "data": {
      "text/html": [
       "<div class=\"outeritem\">\n",
       "<div class=\"None  \" >\n",
       "\n",
       "    <div class=\"ll\">\n",
       "        <div class=\"line\"><a href=\"https://github.com/CambridgeSemiticsLab/nena_corpus/blob/master/nena/0.01/Barwar/A Hundred Gold Coins.nena\" title=\"see this passage in its source document\" sec=\"Barwar\">Barwar</a></div>\n",
       "\n",
       "        <div class=\"features\"> <span class=\"dialect xft\"><span class=\"f\">dialect=</span>Barwar</span></div>\n",
       "    </div>\n",
       "\n",
       "</div>\n",
       "</div>"
      ],
      "text/plain": [
       "<IPython.core.display.HTML object>"
      ]
     },
     "metadata": {},
     "output_type": "display_data"
    },
    {
     "data": {
      "text/html": [
       "<a href=\"https://github.com/CambridgeSemiticsLab/nena_corpus/blob/master/nena/0.01/Barwar/Gozali and Nozali.nena\" title=\"see this passage in its source document\" sec=\"Barwar, Gozali and Nozali, Ln. 12\">Barwar, Gozali and Nozali, Ln. 12</a>\n",
       "<div class=\"outeritem\">\n",
       "<div class=\"macro  \" >\n",
       "\n",
       "<div class=\"prosa  \" >\n",
       "\n",
       "<div class=\"word  \" >\n",
       "<div class=\"ara\">ʾu-políse </div>\n",
       "\n",
       "</div>\n",
       "<div class=\"word  \" >\n",
       "<div class=\"ara\">xzéla </div>\n",
       "\n",
       "</div>\n",
       "<div class=\"word  \" >\n",
       "<div class=\"ara\">ʾan-yále </div>\n",
       "\n",
       "</div>\n",
       "<div class=\"word  \" >\n",
       "<div class=\"ara\">jwànqe,ˈ </div>\n",
       "\n",
       "</div>\n",
       "</div>\n",
       "<div class=\"prosa  \" >\n",
       "\n",
       "<div class=\"word  \" >\n",
       "<div class=\"ara\">qəm-mattíla </div>\n",
       "\n",
       "</div>\n",
       "<div class=\"word  \" >\n",
       "<div class=\"ara\">b-sandùqe,ˈ </div>\n",
       "\n",
       "</div>\n",
       "</div>\n",
       "<div class=\"prosa  \" >\n",
       "\n",
       "<div class=\"word  \" >\n",
       "<div class=\"ara\">qəm-hawíla </div>\n",
       "\n",
       "</div>\n",
       "<div class=\"word  \" >\n",
       "<div class=\"ara\">xáčča </div>\n",
       "\n",
       "</div>\n",
       "<div class=\"word  \" >\n",
       "<div class=\"ara\">ʾixàla-wˈ </div>\n",
       "\n",
       "</div>\n",
       "</div>\n",
       "<div class=\"prosa  \" >\n",
       "\n",
       "<div class=\"word  hl\" >\n",
       "<div class=\"ara\">qəm-xăðíla </div>\n",
       "\n",
       "</div>\n",
       "<div class=\"word  \" >\n",
       "<div class=\"ara\">hátxa </div>\n",
       "\n",
       "</div>\n",
       "<div class=\"word  \" >\n",
       "<div class=\"ara\">t-la-qɛralèyˈ </div>\n",
       "\n",
       "</div>\n",
       "</div>\n",
       "<div class=\"prosa  \" >\n",
       "\n",
       "<div class=\"word  \" >\n",
       "<div class=\"ara\">ʾu-qəm-dɛrɛ́la </div>\n",
       "\n",
       "</div>\n",
       "<div class=\"word  \" >\n",
       "<div class=\"ara\">gu-mìya.ˈ </div>\n",
       "\n",
       "</div>\n",
       "</div>\n",
       "</div>\n",
       "</div>"
      ],
      "text/plain": [
       "<IPython.core.display.HTML object>"
      ]
     },
     "metadata": {},
     "output_type": "display_data"
    },
    {
     "data": {
      "text/html": [
       "<p><b>result</b> <i>34</i></p>"
      ],
      "text/plain": [
       "<IPython.core.display.HTML object>"
      ]
     },
     "metadata": {},
     "output_type": "display_data"
    },
    {
     "data": {
      "text/html": [
       "<div class=\"outeritem\">\n",
       "<div class=\"None  \" >\n",
       "\n",
       "    <div class=\"ll\">\n",
       "        <div class=\"line\"><a href=\"https://github.com/CambridgeSemiticsLab/nena_corpus/blob/master/nena/0.01/Barwar/A Hundred Gold Coins.nena\" title=\"see this passage in its source document\" sec=\"Barwar\">Barwar</a></div>\n",
       "\n",
       "        <div class=\"features\"> <span class=\"dialect xft\"><span class=\"f\">dialect=</span>Barwar</span></div>\n",
       "    </div>\n",
       "\n",
       "</div>\n",
       "</div>"
      ],
      "text/plain": [
       "<IPython.core.display.HTML object>"
      ]
     },
     "metadata": {},
     "output_type": "display_data"
    },
    {
     "data": {
      "text/html": [
       "<a href=\"https://github.com/CambridgeSemiticsLab/nena_corpus/blob/master/nena/0.01/Barwar/Gozali and Nozali.nena\" title=\"see this passage in its source document\" sec=\"Barwar, Gozali and Nozali, Ln. 12\">Barwar, Gozali and Nozali, Ln. 12</a>\n",
       "<div class=\"outeritem\">\n",
       "<div class=\"macro  \" >\n",
       "\n",
       "<div class=\"prosa  \" >\n",
       "\n",
       "<div class=\"word  \" >\n",
       "<div class=\"ara\">ʾu-políse </div>\n",
       "\n",
       "</div>\n",
       "<div class=\"word  \" >\n",
       "<div class=\"ara\">xzéla </div>\n",
       "\n",
       "</div>\n",
       "<div class=\"word  \" >\n",
       "<div class=\"ara\">ʾan-yále </div>\n",
       "\n",
       "</div>\n",
       "<div class=\"word  \" >\n",
       "<div class=\"ara\">jwànqe,ˈ </div>\n",
       "\n",
       "</div>\n",
       "</div>\n",
       "<div class=\"prosa  \" >\n",
       "\n",
       "<div class=\"word  \" >\n",
       "<div class=\"ara\">qəm-mattíla </div>\n",
       "\n",
       "</div>\n",
       "<div class=\"word  \" >\n",
       "<div class=\"ara\">b-sandùqe,ˈ </div>\n",
       "\n",
       "</div>\n",
       "</div>\n",
       "<div class=\"prosa  \" >\n",
       "\n",
       "<div class=\"word  \" >\n",
       "<div class=\"ara\">qəm-hawíla </div>\n",
       "\n",
       "</div>\n",
       "<div class=\"word  \" >\n",
       "<div class=\"ara\">xáčča </div>\n",
       "\n",
       "</div>\n",
       "<div class=\"word  \" >\n",
       "<div class=\"ara\">ʾixàla-wˈ </div>\n",
       "\n",
       "</div>\n",
       "</div>\n",
       "<div class=\"prosa  \" >\n",
       "\n",
       "<div class=\"word  \" >\n",
       "<div class=\"ara\">qəm-xăðíla </div>\n",
       "\n",
       "</div>\n",
       "<div class=\"word  \" >\n",
       "<div class=\"ara\">hátxa </div>\n",
       "\n",
       "</div>\n",
       "<div class=\"word  \" >\n",
       "<div class=\"ara\">t-la-qɛralèyˈ </div>\n",
       "\n",
       "</div>\n",
       "</div>\n",
       "<div class=\"prosa  \" >\n",
       "\n",
       "<div class=\"word  hl\" >\n",
       "<div class=\"ara\">ʾu-qəm-dɛrɛ́la </div>\n",
       "\n",
       "</div>\n",
       "<div class=\"word  \" >\n",
       "<div class=\"ara\">gu-mìya.ˈ </div>\n",
       "\n",
       "</div>\n",
       "</div>\n",
       "</div>\n",
       "</div>"
      ],
      "text/plain": [
       "<IPython.core.display.HTML object>"
      ]
     },
     "metadata": {},
     "output_type": "display_data"
    },
    {
     "data": {
      "text/html": [
       "<p><b>result</b> <i>35</i></p>"
      ],
      "text/plain": [
       "<IPython.core.display.HTML object>"
      ]
     },
     "metadata": {},
     "output_type": "display_data"
    },
    {
     "data": {
      "text/html": [
       "<div class=\"outeritem\">\n",
       "<div class=\"None  \" >\n",
       "\n",
       "    <div class=\"ll\">\n",
       "        <div class=\"line\"><a href=\"https://github.com/CambridgeSemiticsLab/nena_corpus/blob/master/nena/0.01/Barwar/A Hundred Gold Coins.nena\" title=\"see this passage in its source document\" sec=\"Barwar\">Barwar</a></div>\n",
       "\n",
       "        <div class=\"features\"> <span class=\"dialect xft\"><span class=\"f\">dialect=</span>Barwar</span></div>\n",
       "    </div>\n",
       "\n",
       "</div>\n",
       "</div>"
      ],
      "text/plain": [
       "<IPython.core.display.HTML object>"
      ]
     },
     "metadata": {},
     "output_type": "display_data"
    },
    {
     "data": {
      "text/html": [
       "<a href=\"https://github.com/CambridgeSemiticsLab/nena_corpus/blob/master/nena/0.01/Barwar/Gozali and Nozali.nena\" title=\"see this passage in its source document\" sec=\"Barwar, Gozali and Nozali, Ln. 12\">Barwar, Gozali and Nozali, Ln. 12</a>\n",
       "<div class=\"outeritem\">\n",
       "<div class=\"macro  \" >\n",
       "\n",
       "<div class=\"prosa  \" >\n",
       "\n",
       "<div class=\"word  hl\" >\n",
       "<div class=\"ara\">qəm-dɛrɛ́la </div>\n",
       "\n",
       "</div>\n",
       "<div class=\"word  \" >\n",
       "<div class=\"ara\">gu-mìya,ˈ </div>\n",
       "\n",
       "</div>\n",
       "</div>\n",
       "<div class=\"prosa  \" >\n",
       "\n",
       "<div class=\"word  \" >\n",
       "<div class=\"ara\">hátxa </div>\n",
       "\n",
       "</div>\n",
       "<div class=\"word  \" >\n",
       "<div class=\"ara\">ṱ-ázi </div>\n",
       "\n",
       "</div>\n",
       "<div class=\"word  \" >\n",
       "<div class=\"ara\">b-šaqìθa.ˈ </div>\n",
       "\n",
       "</div>\n",
       "</div>\n",
       "</div>\n",
       "</div>"
      ],
      "text/plain": [
       "<IPython.core.display.HTML object>"
      ]
     },
     "metadata": {},
     "output_type": "display_data"
    },
    {
     "data": {
      "text/html": [
       "<p><b>result</b> <i>36</i></p>"
      ],
      "text/plain": [
       "<IPython.core.display.HTML object>"
      ]
     },
     "metadata": {},
     "output_type": "display_data"
    },
    {
     "data": {
      "text/html": [
       "<div class=\"outeritem\">\n",
       "<div class=\"None  \" >\n",
       "\n",
       "    <div class=\"ll\">\n",
       "        <div class=\"line\"><a href=\"https://github.com/CambridgeSemiticsLab/nena_corpus/blob/master/nena/0.01/Barwar/A Hundred Gold Coins.nena\" title=\"see this passage in its source document\" sec=\"Barwar\">Barwar</a></div>\n",
       "\n",
       "        <div class=\"features\"> <span class=\"dialect xft\"><span class=\"f\">dialect=</span>Barwar</span></div>\n",
       "    </div>\n",
       "\n",
       "</div>\n",
       "</div>"
      ],
      "text/plain": [
       "<IPython.core.display.HTML object>"
      ]
     },
     "metadata": {},
     "output_type": "display_data"
    },
    {
     "data": {
      "text/html": [
       "<a href=\"https://github.com/CambridgeSemiticsLab/nena_corpus/blob/master/nena/0.01/Barwar/Gozali and Nozali.nena\" title=\"see this passage in its source document\" sec=\"Barwar, Gozali and Nozali, Ln. 16\">Barwar, Gozali and Nozali, Ln. 16</a>\n",
       "<div class=\"outeritem\">\n",
       "<div class=\"macro  \" >\n",
       "\n",
       "<div class=\"prosa  \" >\n",
       "\n",
       "<div class=\"word  \" >\n",
       "<div class=\"ara\">mə́re </div>\n",
       "\n",
       "</div>\n",
       "<div class=\"word  \" >\n",
       "<div class=\"ara\">ʾánna </div>\n",
       "\n",
       "</div>\n",
       "<div class=\"word  \" >\n",
       "<div class=\"ara\">tre-yále </div>\n",
       "\n",
       "</div>\n",
       "<div class=\"word  hl\" >\n",
       "<div class=\"ara\">qəm-xazə̀nnaˈ </div>\n",
       "\n",
       "</div>\n",
       "</div>\n",
       "<div class=\"prosa  \" >\n",
       "\n",
       "<div class=\"word  \" >\n",
       "<div class=\"ara\">t-la </div>\n",
       "\n",
       "</div>\n",
       "<div class=\"word  \" >\n",
       "<div class=\"ara\">marwàθaˈ </div>\n",
       "\n",
       "</div>\n",
       "</div>\n",
       "<div class=\"prosa  \" >\n",
       "\n",
       "<div class=\"word  \" >\n",
       "<div class=\"ara\">ʾu-zə́dye </div>\n",
       "\n",
       "</div>\n",
       "<div class=\"word  \" >\n",
       "<div class=\"ara\">gu-d-áw </div>\n",
       "\n",
       "</div>\n",
       "<div class=\"word  \" >\n",
       "<div class=\"ara\">sandùqaˈ </div>\n",
       "\n",
       "</div>\n",
       "</div>\n",
       "<div class=\"prosa  \" >\n",
       "\n",
       "<div class=\"word  \" >\n",
       "<div class=\"ara\">ʾu-zə́dye </div>\n",
       "\n",
       "</div>\n",
       "<div class=\"word  \" >\n",
       "<div class=\"ara\">gu-d-áy </div>\n",
       "\n",
       "</div>\n",
       "<div class=\"word  \" >\n",
       "<div class=\"ara\">šaqìθa.ˈ </div>\n",
       "\n",
       "</div>\n",
       "</div>\n",
       "</div>\n",
       "</div>"
      ],
      "text/plain": [
       "<IPython.core.display.HTML object>"
      ]
     },
     "metadata": {},
     "output_type": "display_data"
    },
    {
     "data": {
      "text/html": [
       "<p><b>result</b> <i>37</i></p>"
      ],
      "text/plain": [
       "<IPython.core.display.HTML object>"
      ]
     },
     "metadata": {},
     "output_type": "display_data"
    },
    {
     "data": {
      "text/html": [
       "<div class=\"outeritem\">\n",
       "<div class=\"None  \" >\n",
       "\n",
       "    <div class=\"ll\">\n",
       "        <div class=\"line\"><a href=\"https://github.com/CambridgeSemiticsLab/nena_corpus/blob/master/nena/0.01/Barwar/A Hundred Gold Coins.nena\" title=\"see this passage in its source document\" sec=\"Barwar\">Barwar</a></div>\n",
       "\n",
       "        <div class=\"features\"> <span class=\"dialect xft\"><span class=\"f\">dialect=</span>Barwar</span></div>\n",
       "    </div>\n",
       "\n",
       "</div>\n",
       "</div>"
      ],
      "text/plain": [
       "<IPython.core.display.HTML object>"
      ]
     },
     "metadata": {},
     "output_type": "display_data"
    },
    {
     "data": {
      "text/html": [
       "<a href=\"https://github.com/CambridgeSemiticsLab/nena_corpus/blob/master/nena/0.01/Barwar/Gozali and Nozali.nena\" title=\"see this passage in its source document\" sec=\"Barwar, Gozali and Nozali, Ln. 39\">Barwar, Gozali and Nozali, Ln. 39</a>\n",
       "<div class=\"outeritem\">\n",
       "<div class=\"macro  \" >\n",
       "\n",
       "<div class=\"prosa  \" >\n",
       "\n",
       "<div class=\"word  \" >\n",
       "<div class=\"ara\">dax-ṱ-amə́rwa </div>\n",
       "\n",
       "</div>\n",
       "<div class=\"word  \" >\n",
       "<div class=\"ara\">xə́tni </div>\n",
       "\n",
       "</div>\n",
       "<div class=\"word  \" >\n",
       "<div class=\"ara\">Wárda </div>\n",
       "\n",
       "</div>\n",
       "<div class=\"word  \" >\n",
       "<div class=\"ara\">Halumnáya </div>\n",
       "\n",
       "</div>\n",
       "<div class=\"word  \" >\n",
       "<div class=\"ara\">qunáxət </div>\n",
       "\n",
       "</div>\n",
       "<div class=\"word  \" >\n",
       "<div class=\"ara\">ṭḷáθa </div>\n",
       "\n",
       "</div>\n",
       "<div class=\"word  \" >\n",
       "<div class=\"ara\">yomáθa </div>\n",
       "\n",
       "</div>\n",
       "<div class=\"word  hl\" >\n",
       "<div class=\"ara\">qəm-azə́lla </div>\n",
       "\n",
       "</div>\n",
       "<div class=\"word  \" >\n",
       "<div class=\"ara\">b-xamšà </div>\n",
       "\n",
       "</div>\n",
       "<div class=\"word  \" >\n",
       "<div class=\"ara\">daqíqe.ˈ </div>\n",
       "\n",
       "</div>\n",
       "</div>\n",
       "</div>\n",
       "</div>"
      ],
      "text/plain": [
       "<IPython.core.display.HTML object>"
      ]
     },
     "metadata": {},
     "output_type": "display_data"
    },
    {
     "data": {
      "text/html": [
       "<p><b>result</b> <i>38</i></p>"
      ],
      "text/plain": [
       "<IPython.core.display.HTML object>"
      ]
     },
     "metadata": {},
     "output_type": "display_data"
    },
    {
     "data": {
      "text/html": [
       "<div class=\"outeritem\">\n",
       "<div class=\"None  \" >\n",
       "\n",
       "    <div class=\"ll\">\n",
       "        <div class=\"line\"><a href=\"https://github.com/CambridgeSemiticsLab/nena_corpus/blob/master/nena/0.01/Barwar/A Hundred Gold Coins.nena\" title=\"see this passage in its source document\" sec=\"Barwar\">Barwar</a></div>\n",
       "\n",
       "        <div class=\"features\"> <span class=\"dialect xft\"><span class=\"f\">dialect=</span>Barwar</span></div>\n",
       "    </div>\n",
       "\n",
       "</div>\n",
       "</div>"
      ],
      "text/plain": [
       "<IPython.core.display.HTML object>"
      ]
     },
     "metadata": {},
     "output_type": "display_data"
    },
    {
     "data": {
      "text/html": [
       "<a href=\"https://github.com/CambridgeSemiticsLab/nena_corpus/blob/master/nena/0.01/Barwar/Gozali and Nozali.nena\" title=\"see this passage in its source document\" sec=\"Barwar, Gozali and Nozali, Ln. 41\">Barwar, Gozali and Nozali, Ln. 41</a>\n",
       "<div class=\"outeritem\">\n",
       "<div class=\"macro  \" >\n",
       "\n",
       "<div class=\"prosa  \" >\n",
       "\n",
       "<div class=\"word  \" >\n",
       "<div class=\"ara\">mə́re </div>\n",
       "\n",
       "</div>\n",
       "<div class=\"word  \" >\n",
       "<div class=\"ara\">yá-naša </div>\n",
       "\n",
       "</div>\n",
       "<div class=\"word  \" >\n",
       "<div class=\"ara\">sàwaˈ </div>\n",
       "\n",
       "</div>\n",
       "</div>\n",
       "<div class=\"prosa  \" >\n",
       "\n",
       "<div class=\"word  \" >\n",
       "<div class=\"ara\">m-ɛ̀ka </div>\n",
       "\n",
       "</div>\n",
       "<div class=\"word  hl\" >\n",
       "<div class=\"ara\">qəm-yăðə́tli </div>\n",
       "\n",
       "</div>\n",
       "<div class=\"word  \" >\n",
       "<div class=\"ara\">ʾáti </div>\n",
       "\n",
       "</div>\n",
       "<div class=\"word  \" >\n",
       "<div class=\"ara\">ṱ-íwən </div>\n",
       "\n",
       "</div>\n",
       "<div class=\"word  \" >\n",
       "<div class=\"ara\">Gozáli?ˈ </div>\n",
       "\n",
       "</div>\n",
       "</div>\n",
       "</div>\n",
       "</div>"
      ],
      "text/plain": [
       "<IPython.core.display.HTML object>"
      ]
     },
     "metadata": {},
     "output_type": "display_data"
    },
    {
     "data": {
      "text/html": [
       "<p><b>result</b> <i>39</i></p>"
      ],
      "text/plain": [
       "<IPython.core.display.HTML object>"
      ]
     },
     "metadata": {},
     "output_type": "display_data"
    },
    {
     "data": {
      "text/html": [
       "<div class=\"outeritem\">\n",
       "<div class=\"None  \" >\n",
       "\n",
       "    <div class=\"ll\">\n",
       "        <div class=\"line\"><a href=\"https://github.com/CambridgeSemiticsLab/nena_corpus/blob/master/nena/0.01/Barwar/A Hundred Gold Coins.nena\" title=\"see this passage in its source document\" sec=\"Barwar\">Barwar</a></div>\n",
       "\n",
       "        <div class=\"features\"> <span class=\"dialect xft\"><span class=\"f\">dialect=</span>Barwar</span></div>\n",
       "    </div>\n",
       "\n",
       "</div>\n",
       "</div>"
      ],
      "text/plain": [
       "<IPython.core.display.HTML object>"
      ]
     },
     "metadata": {},
     "output_type": "display_data"
    },
    {
     "data": {
      "text/html": [
       "<a href=\"https://github.com/CambridgeSemiticsLab/nena_corpus/blob/master/nena/0.01/Barwar/Gozali and Nozali.nena\" title=\"see this passage in its source document\" sec=\"Barwar, Gozali and Nozali, Ln. 41\">Barwar, Gozali and Nozali, Ln. 41</a>\n",
       "<div class=\"outeritem\">\n",
       "<div class=\"macro  \" >\n",
       "\n",
       "<div class=\"prosa  \" >\n",
       "\n",
       "<div class=\"word  \" >\n",
       "<div class=\"ara\">m-hàdəx </div>\n",
       "\n",
       "</div>\n",
       "<div class=\"word  hl\" >\n",
       "<div class=\"ara\">qəm-yăðə́nnux.ˈ </div>\n",
       "\n",
       "</div>\n",
       "</div>\n",
       "</div>\n",
       "</div>"
      ],
      "text/plain": [
       "<IPython.core.display.HTML object>"
      ]
     },
     "metadata": {},
     "output_type": "display_data"
    },
    {
     "data": {
      "text/html": [
       "<p><b>result</b> <i>40</i></p>"
      ],
      "text/plain": [
       "<IPython.core.display.HTML object>"
      ]
     },
     "metadata": {},
     "output_type": "display_data"
    },
    {
     "data": {
      "text/html": [
       "<div class=\"outeritem\">\n",
       "<div class=\"None  \" >\n",
       "\n",
       "    <div class=\"ll\">\n",
       "        <div class=\"line\"><a href=\"https://github.com/CambridgeSemiticsLab/nena_corpus/blob/master/nena/0.01/Barwar/A Hundred Gold Coins.nena\" title=\"see this passage in its source document\" sec=\"Barwar\">Barwar</a></div>\n",
       "\n",
       "        <div class=\"features\"> <span class=\"dialect xft\"><span class=\"f\">dialect=</span>Barwar</span></div>\n",
       "    </div>\n",
       "\n",
       "</div>\n",
       "</div>"
      ],
      "text/plain": [
       "<IPython.core.display.HTML object>"
      ]
     },
     "metadata": {},
     "output_type": "display_data"
    },
    {
     "data": {
      "text/html": [
       "<a href=\"https://github.com/CambridgeSemiticsLab/nena_corpus/blob/master/nena/0.01/Barwar/Gozali and Nozali.nena\" title=\"see this passage in its source document\" sec=\"Barwar, Gozali and Nozali, Ln. 43\">Barwar, Gozali and Nozali, Ln. 43</a>\n",
       "<div class=\"outeritem\">\n",
       "<div class=\"macro  \" >\n",
       "\n",
       "<div class=\"prosa  \" >\n",
       "\n",
       "<div class=\"word  \" >\n",
       "<div class=\"ara\">ʾáwwa </div>\n",
       "\n",
       "</div>\n",
       "<div class=\"word  hl\" >\n",
       "<div class=\"ara\">qəm-mhaddèleˈ </div>\n",
       "\n",
       "</div>\n",
       "</div>\n",
       "<div class=\"prosa  \" >\n",
       "\n",
       "<div class=\"word  \" >\n",
       "<div class=\"ara\">ʾáwwa </div>\n",
       "\n",
       "</div>\n",
       "<div class=\"word  \" >\n",
       "<div class=\"ara\">Gozáli </div>\n",
       "\n",
       "</div>\n",
       "<div class=\"word  \" >\n",
       "<div class=\"ara\">hawnàna-wewa </div>\n",
       "\n",
       "</div>\n",
       "<div class=\"word  \" >\n",
       "<div class=\"ara\">rába.ˈ </div>\n",
       "\n",
       "</div>\n",
       "</div>\n",
       "</div>\n",
       "</div>"
      ],
      "text/plain": [
       "<IPython.core.display.HTML object>"
      ]
     },
     "metadata": {},
     "output_type": "display_data"
    },
    {
     "data": {
      "text/html": [
       "<p><b>result</b> <i>41</i></p>"
      ],
      "text/plain": [
       "<IPython.core.display.HTML object>"
      ]
     },
     "metadata": {},
     "output_type": "display_data"
    },
    {
     "data": {
      "text/html": [
       "<div class=\"outeritem\">\n",
       "<div class=\"None  \" >\n",
       "\n",
       "    <div class=\"ll\">\n",
       "        <div class=\"line\"><a href=\"https://github.com/CambridgeSemiticsLab/nena_corpus/blob/master/nena/0.01/Barwar/A Hundred Gold Coins.nena\" title=\"see this passage in its source document\" sec=\"Barwar\">Barwar</a></div>\n",
       "\n",
       "        <div class=\"features\"> <span class=\"dialect xft\"><span class=\"f\">dialect=</span>Barwar</span></div>\n",
       "    </div>\n",
       "\n",
       "</div>\n",
       "</div>"
      ],
      "text/plain": [
       "<IPython.core.display.HTML object>"
      ]
     },
     "metadata": {},
     "output_type": "display_data"
    },
    {
     "data": {
      "text/html": [
       "<a href=\"https://github.com/CambridgeSemiticsLab/nena_corpus/blob/master/nena/0.01/Barwar/Gozali and Nozali.nena\" title=\"see this passage in its source document\" sec=\"Barwar, Gozali and Nozali, Ln. 49\">Barwar, Gozali and Nozali, Ln. 49</a>\n",
       "<div class=\"outeritem\">\n",
       "<div class=\"macro  \" >\n",
       "\n",
       "<div class=\"prosa  \" >\n",
       "\n",
       "<div class=\"word  \" >\n",
       "<div class=\"ara\">ʾu-ʾə́n </div>\n",
       "\n",
       "</div>\n",
       "<div class=\"word  \" >\n",
       "<div class=\"ara\">θéla </div>\n",
       "\n",
       "</div>\n",
       "<div class=\"word  \" >\n",
       "<div class=\"ara\">Bə́lbəl </div>\n",
       "\n",
       "</div>\n",
       "<div class=\"word  \" >\n",
       "<div class=\"ara\">Hazàr,ˈ </div>\n",
       "\n",
       "</div>\n",
       "</div>\n",
       "<div class=\"prosa  \" >\n",
       "\n",
       "<div class=\"word  hl\" >\n",
       "<div class=\"ara\">qəm-xazyálux </div>\n",
       "\n",
       "</div>\n",
       "<div class=\"word  \" >\n",
       "<div class=\"ara\">ʾáti </div>\n",
       "\n",
       "</div>\n",
       "<div class=\"word  \" >\n",
       "<div class=\"ara\">jwànqa,ˈ </div>\n",
       "\n",
       "</div>\n",
       "</div>\n",
       "<div class=\"prosa  \" >\n",
       "\n",
       "<div class=\"word  \" >\n",
       "<div class=\"ara\">yan-băyàlux,ˈ </div>\n",
       "\n",
       "</div>\n",
       "</div>\n",
       "<div class=\"prosa  \" >\n",
       "\n",
       "<div class=\"word  \" >\n",
       "<div class=\"ara\">bắya </div>\n",
       "\n",
       "</div>\n",
       "<div class=\"word  \" >\n",
       "<div class=\"ara\">ṱ-àθya,ˈ </div>\n",
       "\n",
       "</div>\n",
       "</div>\n",
       "<div class=\"prosa  \" >\n",
       "\n",
       "<div class=\"word  \" >\n",
       "<div class=\"ara\">qṭíla </div>\n",
       "\n",
       "</div>\n",
       "<div class=\"word  \" >\n",
       "<div class=\"ara\">xəyála </div>\n",
       "\n",
       "</div>\n",
       "<div class=\"word  \" >\n",
       "<div class=\"ara\">dìya,ˈ </div>\n",
       "\n",
       "</div>\n",
       "</div>\n",
       "<div class=\"prosa  \" >\n",
       "\n",
       "<div class=\"word  \" >\n",
       "<div class=\"ara\">ṱ-ámra </div>\n",
       "\n",
       "</div>\n",
       "<div class=\"word  \" >\n",
       "<div class=\"ara\">hóle </div>\n",
       "\n",
       "</div>\n",
       "<div class=\"word  \" >\n",
       "<div class=\"ara\">ʾə̀θyaˈ </div>\n",
       "\n",
       "</div>\n",
       "</div>\n",
       "<div class=\"prosa  \" >\n",
       "\n",
       "<div class=\"word  \" >\n",
       "<div class=\"ara\">bálki </div>\n",
       "\n",
       "</div>\n",
       "<div class=\"word  \" >\n",
       "<div class=\"ara\">yăðálux </div>\n",
       "\n",
       "</div>\n",
       "<div class=\"word  \" >\n",
       "<div class=\"ara\">ʾáti </div>\n",
       "\n",
       "</div>\n",
       "<div class=\"word  \" >\n",
       "<div class=\"ara\">ṱ-it-Gozàli,ˈ </div>\n",
       "\n",
       "</div>\n",
       "</div>\n",
       "<div class=\"prosa  \" >\n",
       "\n",
       "<div class=\"word  \" >\n",
       "<div class=\"ara\">mə́re </div>\n",
       "\n",
       "</div>\n",
       "<div class=\"word  \" >\n",
       "<div class=\"ara\">bálki </div>\n",
       "\n",
       "</div>\n",
       "<div class=\"word  \" >\n",
       "<div class=\"ara\">ʾàθya,ˈ </div>\n",
       "\n",
       "</div>\n",
       "</div>\n",
       "<div class=\"prosa  \" >\n",
       "\n",
       "<div class=\"word  \" >\n",
       "<div class=\"ara\">fa-mó </div>\n",
       "\n",
       "</div>\n",
       "<div class=\"word  \" >\n",
       "<div class=\"ara\">ṱ-òðət?ˈ </div>\n",
       "\n",
       "</div>\n",
       "</div>\n",
       "</div>\n",
       "</div>"
      ],
      "text/plain": [
       "<IPython.core.display.HTML object>"
      ]
     },
     "metadata": {},
     "output_type": "display_data"
    },
    {
     "data": {
      "text/html": [
       "<p><b>result</b> <i>42</i></p>"
      ],
      "text/plain": [
       "<IPython.core.display.HTML object>"
      ]
     },
     "metadata": {},
     "output_type": "display_data"
    },
    {
     "data": {
      "text/html": [
       "<div class=\"outeritem\">\n",
       "<div class=\"None  \" >\n",
       "\n",
       "    <div class=\"ll\">\n",
       "        <div class=\"line\"><a href=\"https://github.com/CambridgeSemiticsLab/nena_corpus/blob/master/nena/0.01/Barwar/A Hundred Gold Coins.nena\" title=\"see this passage in its source document\" sec=\"Barwar\">Barwar</a></div>\n",
       "\n",
       "        <div class=\"features\"> <span class=\"dialect xft\"><span class=\"f\">dialect=</span>Barwar</span></div>\n",
       "    </div>\n",
       "\n",
       "</div>\n",
       "</div>"
      ],
      "text/plain": [
       "<IPython.core.display.HTML object>"
      ]
     },
     "metadata": {},
     "output_type": "display_data"
    },
    {
     "data": {
      "text/html": [
       "<a href=\"https://github.com/CambridgeSemiticsLab/nena_corpus/blob/master/nena/0.01/Barwar/Gozali and Nozali.nena\" title=\"see this passage in its source document\" sec=\"Barwar, Gozali and Nozali, Ln. 50\">Barwar, Gozali and Nozali, Ln. 50</a>\n",
       "<div class=\"outeritem\">\n",
       "<div class=\"macro  \" >\n",
       "\n",
       "<div class=\"prosa  \" >\n",
       "\n",
       "<div class=\"word  \" >\n",
       "<div class=\"ara\">mə́re: </div>\n",
       "\n",
       "</div>\n",
       "<div class=\"word  \" >\n",
       "<div class=\"ara\">wáy </div>\n",
       "\n",
       "</div>\n",
       "<div class=\"word  \" >\n",
       "<div class=\"ara\">b-šɛ̀na,ˈ </div>\n",
       "\n",
       "</div>\n",
       "</div>\n",
       "<div class=\"prosa  \" >\n",
       "\n",
       "<div class=\"word  \" >\n",
       "<div class=\"ara\">š-rèši,ˈ </div>\n",
       "\n",
       "</div>\n",
       "</div>\n",
       "<div class=\"prosa  \" >\n",
       "\n",
       "<div class=\"word  hl\" >\n",
       "<div class=\"ara\">qəm-paqðə̀tli.ˈ </div>\n",
       "\n",
       "</div>\n",
       "</div>\n",
       "</div>\n",
       "</div>"
      ],
      "text/plain": [
       "<IPython.core.display.HTML object>"
      ]
     },
     "metadata": {},
     "output_type": "display_data"
    },
    {
     "data": {
      "text/html": [
       "<p><b>result</b> <i>43</i></p>"
      ],
      "text/plain": [
       "<IPython.core.display.HTML object>"
      ]
     },
     "metadata": {},
     "output_type": "display_data"
    },
    {
     "data": {
      "text/html": [
       "<div class=\"outeritem\">\n",
       "<div class=\"None  \" >\n",
       "\n",
       "    <div class=\"ll\">\n",
       "        <div class=\"line\"><a href=\"https://github.com/CambridgeSemiticsLab/nena_corpus/blob/master/nena/0.01/Barwar/A Hundred Gold Coins.nena\" title=\"see this passage in its source document\" sec=\"Barwar\">Barwar</a></div>\n",
       "\n",
       "        <div class=\"features\"> <span class=\"dialect xft\"><span class=\"f\">dialect=</span>Barwar</span></div>\n",
       "    </div>\n",
       "\n",
       "</div>\n",
       "</div>"
      ],
      "text/plain": [
       "<IPython.core.display.HTML object>"
      ]
     },
     "metadata": {},
     "output_type": "display_data"
    },
    {
     "data": {
      "text/html": [
       "<a href=\"https://github.com/CambridgeSemiticsLab/nena_corpus/blob/master/nena/0.01/Barwar/Gozali and Nozali.nena\" title=\"see this passage in its source document\" sec=\"Barwar, Gozali and Nozali, Ln. 50\">Barwar, Gozali and Nozali, Ln. 50</a>\n",
       "<div class=\"outeritem\">\n",
       "<div class=\"macro  \" >\n",
       "\n",
       "<div class=\"prosa  \" >\n",
       "\n",
       "<div class=\"word  \" >\n",
       "<div class=\"ara\">ʾáti </div>\n",
       "\n",
       "</div>\n",
       "<div class=\"word  hl\" >\n",
       "<div class=\"ara\">qəm-paqðə̀tli,ˈ </div>\n",
       "\n",
       "</div>\n",
       "</div>\n",
       "<div class=\"prosa  \" >\n",
       "\n",
       "<div class=\"word  \" >\n",
       "<div class=\"ara\">ʾát </div>\n",
       "\n",
       "</div>\n",
       "<div class=\"word  \" >\n",
       "<div class=\"ara\">basíma </div>\n",
       "\n",
       "</div>\n",
       "<div class=\"word  \" >\n",
       "<div class=\"ara\">ràba.ˈ </div>\n",
       "\n",
       "</div>\n",
       "</div>\n",
       "</div>\n",
       "</div>"
      ],
      "text/plain": [
       "<IPython.core.display.HTML object>"
      ]
     },
     "metadata": {},
     "output_type": "display_data"
    },
    {
     "data": {
      "text/html": [
       "<p><b>result</b> <i>44</i></p>"
      ],
      "text/plain": [
       "<IPython.core.display.HTML object>"
      ]
     },
     "metadata": {},
     "output_type": "display_data"
    },
    {
     "data": {
      "text/html": [
       "<div class=\"outeritem\">\n",
       "<div class=\"None  \" >\n",
       "\n",
       "    <div class=\"ll\">\n",
       "        <div class=\"line\"><a href=\"https://github.com/CambridgeSemiticsLab/nena_corpus/blob/master/nena/0.01/Barwar/A Hundred Gold Coins.nena\" title=\"see this passage in its source document\" sec=\"Barwar\">Barwar</a></div>\n",
       "\n",
       "        <div class=\"features\"> <span class=\"dialect xft\"><span class=\"f\">dialect=</span>Barwar</span></div>\n",
       "    </div>\n",
       "\n",
       "</div>\n",
       "</div>"
      ],
      "text/plain": [
       "<IPython.core.display.HTML object>"
      ]
     },
     "metadata": {},
     "output_type": "display_data"
    },
    {
     "data": {
      "text/html": [
       "<a href=\"https://github.com/CambridgeSemiticsLab/nena_corpus/blob/master/nena/0.01/Barwar/Gozali and Nozali.nena\" title=\"see this passage in its source document\" sec=\"Barwar, Gozali and Nozali, Ln. 50\">Barwar, Gozali and Nozali, Ln. 50</a>\n",
       "<div class=\"outeritem\">\n",
       "<div class=\"macro  \" >\n",
       "\n",
       "<div class=\"prosa  \" >\n",
       "\n",
       "<div class=\"word  \" >\n",
       "<div class=\"ara\">mə́re </div>\n",
       "\n",
       "</div>\n",
       "<div class=\"word  \" >\n",
       "<div class=\"ara\">bár </div>\n",
       "\n",
       "</div>\n",
       "<div class=\"word  hl\" >\n",
       "<div class=\"ara\">qəm-amrə́tla </div>\n",
       "\n",
       "</div>\n",
       "<div class=\"word  \" >\n",
       "<div class=\"ara\">ʾanna-xabráne </div>\n",
       "\n",
       "</div>\n",
       "<div class=\"word  \" >\n",
       "<div class=\"ara\">ʾə̀lliˈ </div>\n",
       "\n",
       "</div>\n",
       "</div>\n",
       "<div class=\"prosa  \" >\n",
       "\n",
       "<div class=\"word  \" >\n",
       "<div class=\"ara\">qəm-paqðə̀tliˈ </div>\n",
       "\n",
       "</div>\n",
       "</div>\n",
       "<div class=\"prosa  \" >\n",
       "\n",
       "<div class=\"word  \" >\n",
       "<div class=\"ara\">hátxa </div>\n",
       "\n",
       "</div>\n",
       "<div class=\"word  \" >\n",
       "<div class=\"ara\">ṱ-óðən </div>\n",
       "\n",
       "</div>\n",
       "<div class=\"word  \" >\n",
       "<div class=\"ara\">b-xàbrux.ˈ </div>\n",
       "\n",
       "</div>\n",
       "</div>\n",
       "</div>\n",
       "</div>"
      ],
      "text/plain": [
       "<IPython.core.display.HTML object>"
      ]
     },
     "metadata": {},
     "output_type": "display_data"
    },
    {
     "data": {
      "text/html": [
       "<p><b>result</b> <i>45</i></p>"
      ],
      "text/plain": [
       "<IPython.core.display.HTML object>"
      ]
     },
     "metadata": {},
     "output_type": "display_data"
    },
    {
     "data": {
      "text/html": [
       "<div class=\"outeritem\">\n",
       "<div class=\"None  \" >\n",
       "\n",
       "    <div class=\"ll\">\n",
       "        <div class=\"line\"><a href=\"https://github.com/CambridgeSemiticsLab/nena_corpus/blob/master/nena/0.01/Barwar/A Hundred Gold Coins.nena\" title=\"see this passage in its source document\" sec=\"Barwar\">Barwar</a></div>\n",
       "\n",
       "        <div class=\"features\"> <span class=\"dialect xft\"><span class=\"f\">dialect=</span>Barwar</span></div>\n",
       "    </div>\n",
       "\n",
       "</div>\n",
       "</div>"
      ],
      "text/plain": [
       "<IPython.core.display.HTML object>"
      ]
     },
     "metadata": {},
     "output_type": "display_data"
    },
    {
     "data": {
      "text/html": [
       "<a href=\"https://github.com/CambridgeSemiticsLab/nena_corpus/blob/master/nena/0.01/Barwar/Gozali and Nozali.nena\" title=\"see this passage in its source document\" sec=\"Barwar, Gozali and Nozali, Ln. 50\">Barwar, Gozali and Nozali, Ln. 50</a>\n",
       "<div class=\"outeritem\">\n",
       "<div class=\"macro  \" >\n",
       "\n",
       "<div class=\"prosa  \" >\n",
       "\n",
       "<div class=\"word  \" >\n",
       "<div class=\"ara\">mə́re </div>\n",
       "\n",
       "</div>\n",
       "<div class=\"word  \" >\n",
       "<div class=\"ara\">bár </div>\n",
       "\n",
       "</div>\n",
       "<div class=\"word  \" >\n",
       "<div class=\"ara\">qəm-amrə́tla </div>\n",
       "\n",
       "</div>\n",
       "<div class=\"word  \" >\n",
       "<div class=\"ara\">ʾanna-xabráne </div>\n",
       "\n",
       "</div>\n",
       "<div class=\"word  \" >\n",
       "<div class=\"ara\">ʾə̀lliˈ </div>\n",
       "\n",
       "</div>\n",
       "</div>\n",
       "<div class=\"prosa  \" >\n",
       "\n",
       "<div class=\"word  hl\" >\n",
       "<div class=\"ara\">qəm-paqðə̀tliˈ </div>\n",
       "\n",
       "</div>\n",
       "</div>\n",
       "<div class=\"prosa  \" >\n",
       "\n",
       "<div class=\"word  \" >\n",
       "<div class=\"ara\">hátxa </div>\n",
       "\n",
       "</div>\n",
       "<div class=\"word  \" >\n",
       "<div class=\"ara\">ṱ-óðən </div>\n",
       "\n",
       "</div>\n",
       "<div class=\"word  \" >\n",
       "<div class=\"ara\">b-xàbrux.ˈ </div>\n",
       "\n",
       "</div>\n",
       "</div>\n",
       "</div>\n",
       "</div>"
      ],
      "text/plain": [
       "<IPython.core.display.HTML object>"
      ]
     },
     "metadata": {},
     "output_type": "display_data"
    },
    {
     "data": {
      "text/html": [
       "<p><b>result</b> <i>46</i></p>"
      ],
      "text/plain": [
       "<IPython.core.display.HTML object>"
      ]
     },
     "metadata": {},
     "output_type": "display_data"
    },
    {
     "data": {
      "text/html": [
       "<div class=\"outeritem\">\n",
       "<div class=\"None  \" >\n",
       "\n",
       "    <div class=\"ll\">\n",
       "        <div class=\"line\"><a href=\"https://github.com/CambridgeSemiticsLab/nena_corpus/blob/master/nena/0.01/Barwar/A Hundred Gold Coins.nena\" title=\"see this passage in its source document\" sec=\"Barwar\">Barwar</a></div>\n",
       "\n",
       "        <div class=\"features\"> <span class=\"dialect xft\"><span class=\"f\">dialect=</span>Barwar</span></div>\n",
       "    </div>\n",
       "\n",
       "</div>\n",
       "</div>"
      ],
      "text/plain": [
       "<IPython.core.display.HTML object>"
      ]
     },
     "metadata": {},
     "output_type": "display_data"
    },
    {
     "data": {
      "text/html": [
       "<a href=\"https://github.com/CambridgeSemiticsLab/nena_corpus/blob/master/nena/0.01/Barwar/Gozali and Nozali.nena\" title=\"see this passage in its source document\" sec=\"Barwar, Gozali and Nozali, Ln. 56\">Barwar, Gozali and Nozali, Ln. 56</a>\n",
       "<div class=\"outeritem\">\n",
       "<div class=\"macro  \" >\n",
       "\n",
       "<div class=\"prosa  \" >\n",
       "\n",
       "<div class=\"word  \" >\n",
       "<div class=\"ara\">zìnɛle-uˈ </div>\n",
       "\n",
       "</div>\n",
       "</div>\n",
       "<div class=\"prosa  \" >\n",
       "\n",
       "<div class=\"word  \" >\n",
       "<div class=\"ara\">mtuxmə̀nɛleˈ </div>\n",
       "\n",
       "</div>\n",
       "</div>\n",
       "<div class=\"prosa  \" >\n",
       "\n",
       "<div class=\"word  \" >\n",
       "<div class=\"ara\">mə́re </div>\n",
       "\n",
       "</div>\n",
       "<div class=\"word  \" >\n",
       "<div class=\"ara\">ya-xáθi </div>\n",
       "\n",
       "</div>\n",
       "<div class=\"word  \" >\n",
       "<div class=\"ara\">Nozáli </div>\n",
       "\n",
       "</div>\n",
       "<div class=\"word  hl\" >\n",
       "<div class=\"ara\">qəm-šoqə̀nnəxˈ </div>\n",
       "\n",
       "</div>\n",
       "</div>\n",
       "<div class=\"prosa  \" >\n",
       "\n",
       "<div class=\"word  \" >\n",
       "<div class=\"ara\">wa-ʾána </div>\n",
       "\n",
       "</div>\n",
       "<div class=\"word  \" >\n",
       "<div class=\"ara\">gu-xá </div>\n",
       "\n",
       "</div>\n",
       "<div class=\"word  \" >\n",
       "<div class=\"ara\">ḥàrj-iwən </div>\n",
       "\n",
       "</div>\n",
       "<div class=\"word  \" >\n",
       "<div class=\"ara\">díya.ˈ </div>\n",
       "\n",
       "</div>\n",
       "</div>\n",
       "</div>\n",
       "</div>"
      ],
      "text/plain": [
       "<IPython.core.display.HTML object>"
      ]
     },
     "metadata": {},
     "output_type": "display_data"
    },
    {
     "data": {
      "text/html": [
       "<p><b>result</b> <i>47</i></p>"
      ],
      "text/plain": [
       "<IPython.core.display.HTML object>"
      ]
     },
     "metadata": {},
     "output_type": "display_data"
    },
    {
     "data": {
      "text/html": [
       "<div class=\"outeritem\">\n",
       "<div class=\"None  \" >\n",
       "\n",
       "    <div class=\"ll\">\n",
       "        <div class=\"line\"><a href=\"https://github.com/CambridgeSemiticsLab/nena_corpus/blob/master/nena/0.01/Barwar/A Hundred Gold Coins.nena\" title=\"see this passage in its source document\" sec=\"Barwar\">Barwar</a></div>\n",
       "\n",
       "        <div class=\"features\"> <span class=\"dialect xft\"><span class=\"f\">dialect=</span>Barwar</span></div>\n",
       "    </div>\n",
       "\n",
       "</div>\n",
       "</div>"
      ],
      "text/plain": [
       "<IPython.core.display.HTML object>"
      ]
     },
     "metadata": {},
     "output_type": "display_data"
    },
    {
     "data": {
      "text/html": [
       "<a href=\"https://github.com/CambridgeSemiticsLab/nena_corpus/blob/master/nena/0.01/Barwar/Gozali and Nozali.nena\" title=\"see this passage in its source document\" sec=\"Barwar, Gozali and Nozali, Ln. 83\">Barwar, Gozali and Nozali, Ln. 83</a>\n",
       "<div class=\"outeritem\">\n",
       "<div class=\"macro  \" >\n",
       "\n",
       "<div class=\"prosa  \" >\n",
       "\n",
       "<div class=\"word  \" >\n",
       "<div class=\"ara\">ʾálaha </div>\n",
       "\n",
       "</div>\n",
       "<div class=\"word  hl\" >\n",
       "<div class=\"ara\">qəm-šăméle </div>\n",
       "\n",
       "</div>\n",
       "<div class=\"word  \" >\n",
       "<div class=\"ara\">qála </div>\n",
       "\n",
       "</div>\n",
       "<div class=\"word  \" >\n",
       "<div class=\"ara\">dìya.ˈ </div>\n",
       "\n",
       "</div>\n",
       "</div>\n",
       "</div>\n",
       "</div>"
      ],
      "text/plain": [
       "<IPython.core.display.HTML object>"
      ]
     },
     "metadata": {},
     "output_type": "display_data"
    },
    {
     "data": {
      "text/html": [
       "<p><b>result</b> <i>48</i></p>"
      ],
      "text/plain": [
       "<IPython.core.display.HTML object>"
      ]
     },
     "metadata": {},
     "output_type": "display_data"
    },
    {
     "data": {
      "text/html": [
       "<div class=\"outeritem\">\n",
       "<div class=\"None  \" >\n",
       "\n",
       "    <div class=\"ll\">\n",
       "        <div class=\"line\"><a href=\"https://github.com/CambridgeSemiticsLab/nena_corpus/blob/master/nena/0.01/Barwar/A Hundred Gold Coins.nena\" title=\"see this passage in its source document\" sec=\"Barwar\">Barwar</a></div>\n",
       "\n",
       "        <div class=\"features\"> <span class=\"dialect xft\"><span class=\"f\">dialect=</span>Barwar</span></div>\n",
       "    </div>\n",
       "\n",
       "</div>\n",
       "</div>"
      ],
      "text/plain": [
       "<IPython.core.display.HTML object>"
      ]
     },
     "metadata": {},
     "output_type": "display_data"
    },
    {
     "data": {
      "text/html": [
       "<a href=\"https://github.com/CambridgeSemiticsLab/nena_corpus/blob/master/nena/0.01/Barwar/Gozali and Nozali.nena\" title=\"see this passage in its source document\" sec=\"Barwar, Gozali and Nozali, Ln. 84\">Barwar, Gozali and Nozali, Ln. 84</a>\n",
       "<div class=\"outeritem\">\n",
       "<div class=\"macro  \" >\n",
       "\n",
       "<div class=\"prosa  \" >\n",
       "\n",
       "<div class=\"word  hl\" >\n",
       "<div class=\"ara\">qəm-marmála </div>\n",
       "\n",
       "</div>\n",
       "<div class=\"word  \" >\n",
       "<div class=\"ara\">ʾiða-díya </div>\n",
       "\n",
       "</div>\n",
       "<div class=\"word  \" >\n",
       "<div class=\"ara\">rəš-kullèyˈ </div>\n",
       "\n",
       "</div>\n",
       "</div>\n",
       "<div class=\"prosa  \" >\n",
       "\n",
       "<div class=\"word  \" >\n",
       "<div class=\"ara\">mə́ra </div>\n",
       "\n",
       "</div>\n",
       "<div class=\"word  \" >\n",
       "<div class=\"ara\">ʾáp-xa </div>\n",
       "\n",
       "</div>\n",
       "<div class=\"word  \" >\n",
       "<div class=\"ara\">mənnɛ́xu </div>\n",
       "\n",
       "</div>\n",
       "<div class=\"word  \" >\n",
       "<div class=\"ara\">lá-mṣawəθ </div>\n",
       "\n",
       "</div>\n",
       "<div class=\"word  \" >\n",
       "<div class=\"ara\">mắṣiθu </div>\n",
       "\n",
       "</div>\n",
       "<div class=\"word  \" >\n",
       "<div class=\"ara\">ʾə̀lli!ˈ </div>\n",
       "\n",
       "</div>\n",
       "</div>\n",
       "</div>\n",
       "</div>"
      ],
      "text/plain": [
       "<IPython.core.display.HTML object>"
      ]
     },
     "metadata": {},
     "output_type": "display_data"
    },
    {
     "data": {
      "text/html": [
       "<p><b>result</b> <i>49</i></p>"
      ],
      "text/plain": [
       "<IPython.core.display.HTML object>"
      ]
     },
     "metadata": {},
     "output_type": "display_data"
    },
    {
     "data": {
      "text/html": [
       "<div class=\"outeritem\">\n",
       "<div class=\"None  \" >\n",
       "\n",
       "    <div class=\"ll\">\n",
       "        <div class=\"line\"><a href=\"https://github.com/CambridgeSemiticsLab/nena_corpus/blob/master/nena/0.01/Barwar/A Hundred Gold Coins.nena\" title=\"see this passage in its source document\" sec=\"Barwar\">Barwar</a></div>\n",
       "\n",
       "        <div class=\"features\"> <span class=\"dialect xft\"><span class=\"f\">dialect=</span>Barwar</span></div>\n",
       "    </div>\n",
       "\n",
       "</div>\n",
       "</div>"
      ],
      "text/plain": [
       "<IPython.core.display.HTML object>"
      ]
     },
     "metadata": {},
     "output_type": "display_data"
    },
    {
     "data": {
      "text/html": [
       "<a href=\"https://github.com/CambridgeSemiticsLab/nena_corpus/blob/master/nena/0.01/Barwar/Gozali and Nozali.nena\" title=\"see this passage in its source document\" sec=\"Barwar, Gozali and Nozali, Ln. 87\">Barwar, Gozali and Nozali, Ln. 87</a>\n",
       "<div class=\"outeritem\">\n",
       "<div class=\"macro  \" >\n",
       "\n",
       "<div class=\"prosa  \" >\n",
       "\n",
       "<div class=\"word  \" >\n",
       "<div class=\"ara\">ʾu-maláxa </div>\n",
       "\n",
       "</div>\n",
       "<div class=\"word  \" >\n",
       "<div class=\"ara\">xá-ga </div>\n",
       "\n",
       "</div>\n",
       "<div class=\"word  \" >\n",
       "<div class=\"ara\">xéta </div>\n",
       "\n",
       "</div>\n",
       "<div class=\"word  hl\" >\n",
       "<div class=\"ara\">qəm-mšadə́rre </div>\n",
       "\n",
       "</div>\n",
       "<div class=\"word  \" >\n",
       "<div class=\"ara\">ʾalàha,ˈ </div>\n",
       "\n",
       "</div>\n",
       "</div>\n",
       "<div class=\"prosa  \" >\n",
       "\n",
       "<div class=\"word  \" >\n",
       "<div class=\"ara\">ṣlèle.ˈ </div>\n",
       "\n",
       "</div>\n",
       "</div>\n",
       "</div>\n",
       "</div>"
      ],
      "text/plain": [
       "<IPython.core.display.HTML object>"
      ]
     },
     "metadata": {},
     "output_type": "display_data"
    },
    {
     "data": {
      "text/html": [
       "<p><b>result</b> <i>50</i></p>"
      ],
      "text/plain": [
       "<IPython.core.display.HTML object>"
      ]
     },
     "metadata": {},
     "output_type": "display_data"
    },
    {
     "data": {
      "text/html": [
       "<div class=\"outeritem\">\n",
       "<div class=\"None  \" >\n",
       "\n",
       "    <div class=\"ll\">\n",
       "        <div class=\"line\"><a href=\"https://github.com/CambridgeSemiticsLab/nena_corpus/blob/master/nena/0.01/Barwar/A Hundred Gold Coins.nena\" title=\"see this passage in its source document\" sec=\"Barwar\">Barwar</a></div>\n",
       "\n",
       "        <div class=\"features\"> <span class=\"dialect xft\"><span class=\"f\">dialect=</span>Barwar</span></div>\n",
       "    </div>\n",
       "\n",
       "</div>\n",
       "</div>"
      ],
      "text/plain": [
       "<IPython.core.display.HTML object>"
      ]
     },
     "metadata": {},
     "output_type": "display_data"
    },
    {
     "data": {
      "text/html": [
       "<a href=\"https://github.com/CambridgeSemiticsLab/nena_corpus/blob/master/nena/0.01/Barwar/Gozali and Nozali.nena\" title=\"see this passage in its source document\" sec=\"Barwar, Gozali and Nozali, Ln. 87\">Barwar, Gozali and Nozali, Ln. 87</a>\n",
       "<div class=\"outeritem\">\n",
       "<div class=\"macro  \" >\n",
       "\n",
       "<div class=\"prosa  \" >\n",
       "\n",
       "<div class=\"word  \" >\n",
       "<div class=\"ara\">tráθna </div>\n",
       "\n",
       "</div>\n",
       "<div class=\"word  \" >\n",
       "<div class=\"ara\">dréla </div>\n",
       "\n",
       "</div>\n",
       "<div class=\"word  \" >\n",
       "<div class=\"ara\">šláma </div>\n",
       "\n",
       "</div>\n",
       "<div class=\"word  \" >\n",
       "<div class=\"ara\">ʾə́lle </div>\n",
       "\n",
       "</div>\n",
       "<div class=\"word  hl\" >\n",
       "<div class=\"ara\">ʾu-qəm-našqíle </div>\n",
       "\n",
       "</div>\n",
       "<div class=\"word  \" >\n",
       "<div class=\"ara\">m-ay-góta </div>\n",
       "\n",
       "</div>\n",
       "<div class=\"word  \" >\n",
       "<div class=\"ara\">l-àyya.ˈ </div>\n",
       "\n",
       "</div>\n",
       "</div>\n",
       "</div>\n",
       "</div>"
      ],
      "text/plain": [
       "<IPython.core.display.HTML object>"
      ]
     },
     "metadata": {},
     "output_type": "display_data"
    },
    {
     "data": {
      "text/html": [
       "<p><b>result</b> <i>51</i></p>"
      ],
      "text/plain": [
       "<IPython.core.display.HTML object>"
      ]
     },
     "metadata": {},
     "output_type": "display_data"
    },
    {
     "data": {
      "text/html": [
       "<div class=\"outeritem\">\n",
       "<div class=\"None  \" >\n",
       "\n",
       "    <div class=\"ll\">\n",
       "        <div class=\"line\"><a href=\"https://github.com/CambridgeSemiticsLab/nena_corpus/blob/master/nena/0.01/Barwar/A Hundred Gold Coins.nena\" title=\"see this passage in its source document\" sec=\"Barwar\">Barwar</a></div>\n",
       "\n",
       "        <div class=\"features\"> <span class=\"dialect xft\"><span class=\"f\">dialect=</span>Barwar</span></div>\n",
       "    </div>\n",
       "\n",
       "</div>\n",
       "</div>"
      ],
      "text/plain": [
       "<IPython.core.display.HTML object>"
      ]
     },
     "metadata": {},
     "output_type": "display_data"
    },
    {
     "data": {
      "text/html": [
       "<a href=\"https://github.com/CambridgeSemiticsLab/nena_corpus/blob/master/nena/0.01/Barwar/I Am Worth the Same as a Blind Wolf.nena\" title=\"see this passage in its source document\" sec=\"Barwar, I Am Worth the Same as a Blind Wolf, Ln. 2\">Barwar, I Am Worth the Same as a Blind Wolf, Ln. 2</a>\n",
       "<div class=\"outeritem\">\n",
       "<div class=\"macro  \" >\n",
       "\n",
       "<div class=\"prosa  \" >\n",
       "\n",
       "<div class=\"word  \" >\n",
       "<div class=\"ara\">dmíxa </div>\n",
       "\n",
       "</div>\n",
       "<div class=\"word  \" >\n",
       "<div class=\"ara\">qam-d-o-dèwaˈ </div>\n",
       "\n",
       "</div>\n",
       "</div>\n",
       "<div class=\"prosa  \" >\n",
       "\n",
       "<div class=\"word  \" >\n",
       "<div class=\"ara\">ʾo-déwa </div>\n",
       "\n",
       "</div>\n",
       "<div class=\"word  \" >\n",
       "<div class=\"ara\">píšle </div>\n",
       "\n",
       "</div>\n",
       "<div class=\"word  \" >\n",
       "<div class=\"ara\">xála </div>\n",
       "\n",
       "</div>\n",
       "<div class=\"word  \" >\n",
       "<div class=\"ara\">mən-d-o-ʾə̀rba,ˈ </div>\n",
       "\n",
       "</div>\n",
       "</div>\n",
       "<div class=\"prosa  \" >\n",
       "\n",
       "<div class=\"word  hl\" >\n",
       "<div class=\"ara\">qəm-axə̀lle.ˈ </div>\n",
       "\n",
       "</div>\n",
       "</div>\n",
       "</div>\n",
       "</div>"
      ],
      "text/plain": [
       "<IPython.core.display.HTML object>"
      ]
     },
     "metadata": {},
     "output_type": "display_data"
    },
    {
     "data": {
      "text/html": [
       "<p><b>result</b> <i>52</i></p>"
      ],
      "text/plain": [
       "<IPython.core.display.HTML object>"
      ]
     },
     "metadata": {},
     "output_type": "display_data"
    },
    {
     "data": {
      "text/html": [
       "<div class=\"outeritem\">\n",
       "<div class=\"None  \" >\n",
       "\n",
       "    <div class=\"ll\">\n",
       "        <div class=\"line\"><a href=\"https://github.com/CambridgeSemiticsLab/nena_corpus/blob/master/nena/0.01/Barwar/A Hundred Gold Coins.nena\" title=\"see this passage in its source document\" sec=\"Barwar\">Barwar</a></div>\n",
       "\n",
       "        <div class=\"features\"> <span class=\"dialect xft\"><span class=\"f\">dialect=</span>Barwar</span></div>\n",
       "    </div>\n",
       "\n",
       "</div>\n",
       "</div>"
      ],
      "text/plain": [
       "<IPython.core.display.HTML object>"
      ]
     },
     "metadata": {},
     "output_type": "display_data"
    },
    {
     "data": {
      "text/html": [
       "<a href=\"https://github.com/CambridgeSemiticsLab/nena_corpus/blob/master/nena/0.01/Barwar/I Am Worth the Same as a Blind Wolf.nena\" title=\"see this passage in its source document\" sec=\"Barwar, I Am Worth the Same as a Blind Wolf, Ln. 6\">Barwar, I Am Worth the Same as a Blind Wolf, Ln. 6</a>\n",
       "<div class=\"outeritem\">\n",
       "<div class=\"macro  \" >\n",
       "\n",
       "<div class=\"prosa  \" >\n",
       "\n",
       "<div class=\"word  \" >\n",
       "<div class=\"ara\">ʾə́rwe </div>\n",
       "\n",
       "</div>\n",
       "<div class=\"word  hl\" >\n",
       "<div class=\"ara\">qəm-zabnàla.ˈ </div>\n",
       "\n",
       "</div>\n",
       "</div>\n",
       "</div>\n",
       "</div>"
      ],
      "text/plain": [
       "<IPython.core.display.HTML object>"
      ]
     },
     "metadata": {},
     "output_type": "display_data"
    },
    {
     "data": {
      "text/html": [
       "<p><b>result</b> <i>53</i></p>"
      ],
      "text/plain": [
       "<IPython.core.display.HTML object>"
      ]
     },
     "metadata": {},
     "output_type": "display_data"
    },
    {
     "data": {
      "text/html": [
       "<div class=\"outeritem\">\n",
       "<div class=\"None  \" >\n",
       "\n",
       "    <div class=\"ll\">\n",
       "        <div class=\"line\"><a href=\"https://github.com/CambridgeSemiticsLab/nena_corpus/blob/master/nena/0.01/Barwar/A Hundred Gold Coins.nena\" title=\"see this passage in its source document\" sec=\"Barwar\">Barwar</a></div>\n",
       "\n",
       "        <div class=\"features\"> <span class=\"dialect xft\"><span class=\"f\">dialect=</span>Barwar</span></div>\n",
       "    </div>\n",
       "\n",
       "</div>\n",
       "</div>"
      ],
      "text/plain": [
       "<IPython.core.display.HTML object>"
      ]
     },
     "metadata": {},
     "output_type": "display_data"
    },
    {
     "data": {
      "text/html": [
       "<a href=\"https://github.com/CambridgeSemiticsLab/nena_corpus/blob/master/nena/0.01/Barwar/I Am Worth the Same as a Blind Wolf.nena\" title=\"see this passage in its source document\" sec=\"Barwar, I Am Worth the Same as a Blind Wolf, Ln. 12\">Barwar, I Am Worth the Same as a Blind Wolf, Ln. 12</a>\n",
       "<div class=\"outeritem\">\n",
       "<div class=\"macro  \" >\n",
       "\n",
       "<div class=\"prosa  \" >\n",
       "\n",
       "<div class=\"word  \" >\n",
       "<div class=\"ara\">ʾáti </div>\n",
       "\n",
       "</div>\n",
       "<div class=\"word  hl\" >\n",
       "<div class=\"ara\">qəm-asṛə́tla </div>\n",
       "\n",
       "</div>\n",
       "<div class=\"word  \" >\n",
       "<div class=\"ara\">ʾáqli </div>\n",
       "\n",
       "</div>\n",
       "<div class=\"word  \" >\n",
       "<div class=\"ara\">w-iθàθi,ˈ </div>\n",
       "\n",
       "</div>\n",
       "</div>\n",
       "<div class=\"prosa  \" >\n",
       "\n",
       "<div class=\"word  \" >\n",
       "<div class=\"ara\">mrapə́tli </div>\n",
       "\n",
       "</div>\n",
       "<div class=\"word  \" >\n",
       "<div class=\"ara\">làxxa.ˈ </div>\n",
       "\n",
       "</div>\n",
       "</div>\n",
       "</div>\n",
       "</div>"
      ],
      "text/plain": [
       "<IPython.core.display.HTML object>"
      ]
     },
     "metadata": {},
     "output_type": "display_data"
    },
    {
     "data": {
      "text/html": [
       "<p><b>result</b> <i>54</i></p>"
      ],
      "text/plain": [
       "<IPython.core.display.HTML object>"
      ]
     },
     "metadata": {},
     "output_type": "display_data"
    },
    {
     "data": {
      "text/html": [
       "<div class=\"outeritem\">\n",
       "<div class=\"None  \" >\n",
       "\n",
       "    <div class=\"ll\">\n",
       "        <div class=\"line\"><a href=\"https://github.com/CambridgeSemiticsLab/nena_corpus/blob/master/nena/0.01/Barwar/A Hundred Gold Coins.nena\" title=\"see this passage in its source document\" sec=\"Barwar\">Barwar</a></div>\n",
       "\n",
       "        <div class=\"features\"> <span class=\"dialect xft\"><span class=\"f\">dialect=</span>Barwar</span></div>\n",
       "    </div>\n",
       "\n",
       "</div>\n",
       "</div>"
      ],
      "text/plain": [
       "<IPython.core.display.HTML object>"
      ]
     },
     "metadata": {},
     "output_type": "display_data"
    },
    {
     "data": {
      "text/html": [
       "<a href=\"https://github.com/CambridgeSemiticsLab/nena_corpus/blob/master/nena/0.01/Barwar/I Am Worth the Same as a Blind Wolf.nena\" title=\"see this passage in its source document\" sec=\"Barwar, I Am Worth the Same as a Blind Wolf, Ln. 12\">Barwar, I Am Worth the Same as a Blind Wolf, Ln. 12</a>\n",
       "<div class=\"outeritem\">\n",
       "<div class=\"macro  \" >\n",
       "\n",
       "<div class=\"prosa  \" >\n",
       "\n",
       "<div class=\"word  \" >\n",
       "<div class=\"ara\">ʾáti </div>\n",
       "\n",
       "</div>\n",
       "<div class=\"word  \" >\n",
       "<div class=\"ara\">ṣályət </div>\n",
       "\n",
       "</div>\n",
       "<div class=\"word  \" >\n",
       "<div class=\"ara\">ṱ-ámrət </div>\n",
       "\n",
       "</div>\n",
       "<div class=\"word  \" >\n",
       "<div class=\"ara\">ʾána </div>\n",
       "\n",
       "</div>\n",
       "<div class=\"word  \" >\n",
       "<div class=\"ara\">xzéli </div>\n",
       "\n",
       "</div>\n",
       "<div class=\"word  \" >\n",
       "<div class=\"ara\">dàweˈ </div>\n",
       "\n",
       "</div>\n",
       "</div>\n",
       "<div class=\"prosa  \" >\n",
       "\n",
       "<div class=\"word  \" >\n",
       "<div class=\"ara\">ʾu-šwáwa </div>\n",
       "\n",
       "</div>\n",
       "<div class=\"word  hl\" >\n",
       "<div class=\"ara\">qəm-šaqə̀lla-wˈ </div>\n",
       "\n",
       "</div>\n",
       "</div>\n",
       "<div class=\"prosa  \" >\n",
       "\n",
       "<div class=\"word  \" >\n",
       "<div class=\"ara\">ʾu-náše </div>\n",
       "\n",
       "</div>\n",
       "<div class=\"word  \" >\n",
       "<div class=\"ara\">t-yắði </div>\n",
       "\n",
       "</div>\n",
       "<div class=\"word  \" >\n",
       "<div class=\"ara\">məndiyàneˈ </div>\n",
       "\n",
       "</div>\n",
       "</div>\n",
       "<div class=\"prosa  \" >\n",
       "\n",
       "<div class=\"word  \" >\n",
       "<div class=\"ara\">ʾu-máṭya </div>\n",
       "\n",
       "</div>\n",
       "<div class=\"word  \" >\n",
       "<div class=\"ara\">l-ḥùkmaˈ </div>\n",
       "\n",
       "</div>\n",
       "</div>\n",
       "<div class=\"prosa  \" >\n",
       "\n",
       "<div class=\"word  \" >\n",
       "<div class=\"ara\">šáqli </div>\n",
       "\n",
       "</div>\n",
       "<div class=\"word  \" >\n",
       "<div class=\"ara\">ʾánna </div>\n",
       "\n",
       "</div>\n",
       "<div class=\"word  \" >\n",
       "<div class=\"ara\">dáwe </div>\n",
       "\n",
       "</div>\n",
       "<div class=\"word  \" >\n",
       "<div class=\"ara\">mə̀nnən.ˈ </div>\n",
       "\n",
       "</div>\n",
       "</div>\n",
       "</div>\n",
       "</div>"
      ],
      "text/plain": [
       "<IPython.core.display.HTML object>"
      ]
     },
     "metadata": {},
     "output_type": "display_data"
    },
    {
     "data": {
      "text/html": [
       "<p><b>result</b> <i>55</i></p>"
      ],
      "text/plain": [
       "<IPython.core.display.HTML object>"
      ]
     },
     "metadata": {},
     "output_type": "display_data"
    },
    {
     "data": {
      "text/html": [
       "<div class=\"outeritem\">\n",
       "<div class=\"None  \" >\n",
       "\n",
       "    <div class=\"ll\">\n",
       "        <div class=\"line\"><a href=\"https://github.com/CambridgeSemiticsLab/nena_corpus/blob/master/nena/0.01/Barwar/A Hundred Gold Coins.nena\" title=\"see this passage in its source document\" sec=\"Barwar\">Barwar</a></div>\n",
       "\n",
       "        <div class=\"features\"> <span class=\"dialect xft\"><span class=\"f\">dialect=</span>Barwar</span></div>\n",
       "    </div>\n",
       "\n",
       "</div>\n",
       "</div>"
      ],
      "text/plain": [
       "<IPython.core.display.HTML object>"
      ]
     },
     "metadata": {},
     "output_type": "display_data"
    },
    {
     "data": {
      "text/html": [
       "<a href=\"https://github.com/CambridgeSemiticsLab/nena_corpus/blob/master/nena/0.01/Barwar/I Am Worth the Same as a Blind Wolf.nena\" title=\"see this passage in its source document\" sec=\"Barwar, I Am Worth the Same as a Blind Wolf, Ln. 13\">Barwar, I Am Worth the Same as a Blind Wolf, Ln. 13</a>\n",
       "<div class=\"outeritem\">\n",
       "<div class=\"macro  \" >\n",
       "\n",
       "<div class=\"prosa  \" >\n",
       "\n",
       "<div class=\"word  \" >\n",
       "<div class=\"ara\">ʾɛ́-ga </div>\n",
       "\n",
       "</div>\n",
       "<div class=\"word  \" >\n",
       "<div class=\"ara\">ʾálaha </div>\n",
       "\n",
       "</div>\n",
       "<div class=\"word  hl\" >\n",
       "<div class=\"ara\">qəm-yawə́lle </div>\n",
       "\n",
       "</div>\n",
       "<div class=\"word  \" >\n",
       "<div class=\"ara\">rə́sqə </div>\n",
       "\n",
       "</div>\n",
       "<div class=\"word  \" >\n",
       "<div class=\"ara\">d-o-nàša.ˈ </div>\n",
       "\n",
       "</div>\n",
       "</div>\n",
       "</div>\n",
       "</div>"
      ],
      "text/plain": [
       "<IPython.core.display.HTML object>"
      ]
     },
     "metadata": {},
     "output_type": "display_data"
    },
    {
     "data": {
      "text/html": [
       "<p><b>result</b> <i>56</i></p>"
      ],
      "text/plain": [
       "<IPython.core.display.HTML object>"
      ]
     },
     "metadata": {},
     "output_type": "display_data"
    },
    {
     "data": {
      "text/html": [
       "<div class=\"outeritem\">\n",
       "<div class=\"None  \" >\n",
       "\n",
       "    <div class=\"ll\">\n",
       "        <div class=\"line\"><a href=\"https://github.com/CambridgeSemiticsLab/nena_corpus/blob/master/nena/0.01/Barwar/A Hundred Gold Coins.nena\" title=\"see this passage in its source document\" sec=\"Barwar\">Barwar</a></div>\n",
       "\n",
       "        <div class=\"features\"> <span class=\"dialect xft\"><span class=\"f\">dialect=</span>Barwar</span></div>\n",
       "    </div>\n",
       "\n",
       "</div>\n",
       "</div>"
      ],
      "text/plain": [
       "<IPython.core.display.HTML object>"
      ]
     },
     "metadata": {},
     "output_type": "display_data"
    },
    {
     "data": {
      "text/html": [
       "<a href=\"https://github.com/CambridgeSemiticsLab/nena_corpus/blob/master/nena/0.01/Barwar/I Am Worth the Same as a Blind Wolf.nena\" title=\"see this passage in its source document\" sec=\"Barwar, I Am Worth the Same as a Blind Wolf, Ln. 13\">Barwar, I Am Worth the Same as a Blind Wolf, Ln. 13</a>\n",
       "<div class=\"outeritem\">\n",
       "<div class=\"macro  \" >\n",
       "\n",
       "<div class=\"prosa  \" >\n",
       "\n",
       "<div class=\"word  \" >\n",
       "<div class=\"ara\">mára </div>\n",
       "\n",
       "</div>\n",
       "<div class=\"word  \" >\n",
       "<div class=\"ara\">bíš </div>\n",
       "\n",
       "</div>\n",
       "<div class=\"word  hl\" >\n",
       "<div class=\"ara\">qəm-madqə́rre </div>\n",
       "\n",
       "</div>\n",
       "<div class=\"word  \" >\n",
       "<div class=\"ara\">mən-d-ó </div>\n",
       "\n",
       "</div>\n",
       "<div class=\"word  \" >\n",
       "<div class=\"ara\">déwa </div>\n",
       "\n",
       "</div>\n",
       "<div class=\"word  \" >\n",
       "<div class=\"ara\">ṱ-axə́lwa </div>\n",
       "\n",
       "</div>\n",
       "<div class=\"word  \" >\n",
       "<div class=\"ara\">ʾə́rbe </div>\n",
       "\n",
       "</div>\n",
       "<div class=\"word  \" >\n",
       "<div class=\"ara\">dìye.ˈ</div>\n",
       "\n",
       "</div>\n",
       "</div>\n",
       "</div>\n",
       "</div>"
      ],
      "text/plain": [
       "<IPython.core.display.HTML object>"
      ]
     },
     "metadata": {},
     "output_type": "display_data"
    },
    {
     "data": {
      "text/html": [
       "<p><b>result</b> <i>57</i></p>"
      ],
      "text/plain": [
       "<IPython.core.display.HTML object>"
      ]
     },
     "metadata": {},
     "output_type": "display_data"
    },
    {
     "data": {
      "text/html": [
       "<div class=\"outeritem\">\n",
       "<div class=\"None  \" >\n",
       "\n",
       "    <div class=\"ll\">\n",
       "        <div class=\"line\"><a href=\"https://github.com/CambridgeSemiticsLab/nena_corpus/blob/master/nena/0.01/Barwar/A Hundred Gold Coins.nena\" title=\"see this passage in its source document\" sec=\"Barwar\">Barwar</a></div>\n",
       "\n",
       "        <div class=\"features\"> <span class=\"dialect xft\"><span class=\"f\">dialect=</span>Barwar</span></div>\n",
       "    </div>\n",
       "\n",
       "</div>\n",
       "</div>"
      ],
      "text/plain": [
       "<IPython.core.display.HTML object>"
      ]
     },
     "metadata": {},
     "output_type": "display_data"
    },
    {
     "data": {
      "text/html": [
       "<a href=\"https://github.com/CambridgeSemiticsLab/nena_corpus/blob/master/nena/0.01/Barwar/Man Is Treacherous.nena\" title=\"see this passage in its source document\" sec=\"Barwar, Man Is Treacherous, Ln. 1\">Barwar, Man Is Treacherous, Ln. 1</a>\n",
       "<div class=\"outeritem\">\n",
       "<div class=\"macro  \" >\n",
       "\n",
       "<div class=\"prosa  \" >\n",
       "\n",
       "<div class=\"word  \" >\n",
       "<div class=\"ara\">xà-benaˈ </div>\n",
       "\n",
       "</div>\n",
       "</div>\n",
       "<div class=\"prosa  \" >\n",
       "\n",
       "<div class=\"word  \" >\n",
       "<div class=\"ara\">ða-bàxtaˈ </div>\n",
       "\n",
       "</div>\n",
       "</div>\n",
       "<div class=\"prosa  \" >\n",
       "\n",
       "<div class=\"word  \" >\n",
       "<div class=\"ara\">ða-yàltaˈ </div>\n",
       "\n",
       "</div>\n",
       "</div>\n",
       "<div class=\"prosa  \" >\n",
       "\n",
       "<div class=\"word  \" >\n",
       "<div class=\"ara\">zála-wawa </div>\n",
       "\n",
       "</div>\n",
       "<div class=\"word  \" >\n",
       "<div class=\"ara\">gu-ḥădàyəq,ˈ </div>\n",
       "\n",
       "</div>\n",
       "</div>\n",
       "<div class=\"prosa  \" >\n",
       "\n",
       "<div class=\"word  hl\" >\n",
       "<div class=\"ara\">qəm-xazyále </div>\n",
       "\n",
       "</div>\n",
       "<div class=\"word  \" >\n",
       "<div class=\"ara\">xà-nəmra,ˈ </div>\n",
       "\n",
       "</div>\n",
       "</div>\n",
       "<div class=\"prosa  \" >\n",
       "\n",
       "<div class=\"word  \" >\n",
       "<div class=\"ara\">xwíša </div>\n",
       "\n",
       "</div>\n",
       "<div class=\"word  \" >\n",
       "<div class=\"ara\">gu-ràkka.ˈ </div>\n",
       "\n",
       "</div>\n",
       "</div>\n",
       "</div>\n",
       "</div>"
      ],
      "text/plain": [
       "<IPython.core.display.HTML object>"
      ]
     },
     "metadata": {},
     "output_type": "display_data"
    },
    {
     "data": {
      "text/html": [
       "<p><b>result</b> <i>58</i></p>"
      ],
      "text/plain": [
       "<IPython.core.display.HTML object>"
      ]
     },
     "metadata": {},
     "output_type": "display_data"
    },
    {
     "data": {
      "text/html": [
       "<div class=\"outeritem\">\n",
       "<div class=\"None  \" >\n",
       "\n",
       "    <div class=\"ll\">\n",
       "        <div class=\"line\"><a href=\"https://github.com/CambridgeSemiticsLab/nena_corpus/blob/master/nena/0.01/Barwar/A Hundred Gold Coins.nena\" title=\"see this passage in its source document\" sec=\"Barwar\">Barwar</a></div>\n",
       "\n",
       "        <div class=\"features\"> <span class=\"dialect xft\"><span class=\"f\">dialect=</span>Barwar</span></div>\n",
       "    </div>\n",
       "\n",
       "</div>\n",
       "</div>"
      ],
      "text/plain": [
       "<IPython.core.display.HTML object>"
      ]
     },
     "metadata": {},
     "output_type": "display_data"
    },
    {
     "data": {
      "text/html": [
       "<a href=\"https://github.com/CambridgeSemiticsLab/nena_corpus/blob/master/nena/0.01/Barwar/Man Is Treacherous.nena\" title=\"see this passage in its source document\" sec=\"Barwar, Man Is Treacherous, Ln. 1\">Barwar, Man Is Treacherous, Ln. 1</a>\n",
       "<div class=\"outeritem\">\n",
       "<div class=\"macro  \" >\n",
       "\n",
       "<div class=\"prosa  \" >\n",
       "\n",
       "<div class=\"word  \" >\n",
       "<div class=\"ara\">ṭwèle </div>\n",
       "\n",
       "</div>\n",
       "<div class=\"word  \" >\n",
       "<div class=\"ara\">lə́bba </div>\n",
       "\n",
       "</div>\n",
       "<div class=\"word  \" >\n",
       "<div class=\"ara\">ʾə́lle </div>\n",
       "\n",
       "</div>\n",
       "<div class=\"word  \" >\n",
       "<div class=\"ara\">díyeˈ </div>\n",
       "\n",
       "</div>\n",
       "</div>\n",
       "<div class=\"prosa  \" >\n",
       "\n",
       "<div class=\"word  hl\" >\n",
       "<div class=\"ara\">qəm-paθxàle </div>\n",
       "\n",
       "</div>\n",
       "<div class=\"word  \" >\n",
       "<div class=\"ara\">tắra.ˈ </div>\n",
       "\n",
       "</div>\n",
       "</div>\n",
       "</div>\n",
       "</div>"
      ],
      "text/plain": [
       "<IPython.core.display.HTML object>"
      ]
     },
     "metadata": {},
     "output_type": "display_data"
    },
    {
     "data": {
      "text/html": [
       "<p><b>result</b> <i>59</i></p>"
      ],
      "text/plain": [
       "<IPython.core.display.HTML object>"
      ]
     },
     "metadata": {},
     "output_type": "display_data"
    },
    {
     "data": {
      "text/html": [
       "<div class=\"outeritem\">\n",
       "<div class=\"None  \" >\n",
       "\n",
       "    <div class=\"ll\">\n",
       "        <div class=\"line\"><a href=\"https://github.com/CambridgeSemiticsLab/nena_corpus/blob/master/nena/0.01/Barwar/A Hundred Gold Coins.nena\" title=\"see this passage in its source document\" sec=\"Barwar\">Barwar</a></div>\n",
       "\n",
       "        <div class=\"features\"> <span class=\"dialect xft\"><span class=\"f\">dialect=</span>Barwar</span></div>\n",
       "    </div>\n",
       "\n",
       "</div>\n",
       "</div>"
      ],
      "text/plain": [
       "<IPython.core.display.HTML object>"
      ]
     },
     "metadata": {},
     "output_type": "display_data"
    },
    {
     "data": {
      "text/html": [
       "<a href=\"https://github.com/CambridgeSemiticsLab/nena_corpus/blob/master/nena/0.01/Barwar/Man Is Treacherous.nena\" title=\"see this passage in its source document\" sec=\"Barwar, Man Is Treacherous, Ln. 3\">Barwar, Man Is Treacherous, Ln. 3</a>\n",
       "<div class=\"outeritem\">\n",
       "<div class=\"macro  \" >\n",
       "\n",
       "<div class=\"prosa  \" >\n",
       "\n",
       "<div class=\"word  hl\" >\n",
       "<div class=\"ara\">qəm-mbaqràleˈ </div>\n",
       "\n",
       "</div>\n",
       "</div>\n",
       "<div class=\"prosa  \" >\n",
       "\n",
       "<div class=\"word  \" >\n",
       "<div class=\"ara\">mə́ra </div>\n",
       "\n",
       "</div>\n",
       "<div class=\"word  \" >\n",
       "<div class=\"ara\">dū́s </div>\n",
       "\n",
       "</div>\n",
       "<div class=\"word  \" >\n",
       "<div class=\"ara\">bəṛ-náša </div>\n",
       "\n",
       "</div>\n",
       "<div class=\"word  \" >\n",
       "<div class=\"ara\">xàyən </div>\n",
       "\n",
       "</div>\n",
       "<div class=\"word  \" >\n",
       "<div class=\"ara\">y-áwe?ˈ </div>\n",
       "\n",
       "</div>\n",
       "</div>\n",
       "</div>\n",
       "</div>"
      ],
      "text/plain": [
       "<IPython.core.display.HTML object>"
      ]
     },
     "metadata": {},
     "output_type": "display_data"
    },
    {
     "data": {
      "text/html": [
       "<p><b>result</b> <i>60</i></p>"
      ],
      "text/plain": [
       "<IPython.core.display.HTML object>"
      ]
     },
     "metadata": {},
     "output_type": "display_data"
    },
    {
     "data": {
      "text/html": [
       "<div class=\"outeritem\">\n",
       "<div class=\"None  \" >\n",
       "\n",
       "    <div class=\"ll\">\n",
       "        <div class=\"line\"><a href=\"https://github.com/CambridgeSemiticsLab/nena_corpus/blob/master/nena/0.01/Barwar/A Hundred Gold Coins.nena\" title=\"see this passage in its source document\" sec=\"Barwar\">Barwar</a></div>\n",
       "\n",
       "        <div class=\"features\"> <span class=\"dialect xft\"><span class=\"f\">dialect=</span>Barwar</span></div>\n",
       "    </div>\n",
       "\n",
       "</div>\n",
       "</div>"
      ],
      "text/plain": [
       "<IPython.core.display.HTML object>"
      ]
     },
     "metadata": {},
     "output_type": "display_data"
    },
    {
     "data": {
      "text/html": [
       "<a href=\"https://github.com/CambridgeSemiticsLab/nena_corpus/blob/master/nena/0.01/Barwar/Man Is Treacherous.nena\" title=\"see this passage in its source document\" sec=\"Barwar, Man Is Treacherous, Ln. 5\">Barwar, Man Is Treacherous, Ln. 5</a>\n",
       "<div class=\"outeritem\">\n",
       "<div class=\"macro  \" >\n",
       "\n",
       "<div class=\"prosa  \" >\n",
       "\n",
       "<div class=\"word  hl\" >\n",
       "<div class=\"ara\">qəm-xazyále </div>\n",
       "\n",
       "</div>\n",
       "<div class=\"word  \" >\n",
       "<div class=\"ara\">xa-tèla.ˈ </div>\n",
       "\n",
       "</div>\n",
       "</div>\n",
       "</div>\n",
       "</div>"
      ],
      "text/plain": [
       "<IPython.core.display.HTML object>"
      ]
     },
     "metadata": {},
     "output_type": "display_data"
    },
    {
     "data": {
      "text/html": [
       "<p><b>result</b> <i>61</i></p>"
      ],
      "text/plain": [
       "<IPython.core.display.HTML object>"
      ]
     },
     "metadata": {},
     "output_type": "display_data"
    },
    {
     "data": {
      "text/html": [
       "<div class=\"outeritem\">\n",
       "<div class=\"None  \" >\n",
       "\n",
       "    <div class=\"ll\">\n",
       "        <div class=\"line\"><a href=\"https://github.com/CambridgeSemiticsLab/nena_corpus/blob/master/nena/0.01/Barwar/A Hundred Gold Coins.nena\" title=\"see this passage in its source document\" sec=\"Barwar\">Barwar</a></div>\n",
       "\n",
       "        <div class=\"features\"> <span class=\"dialect xft\"><span class=\"f\">dialect=</span>Barwar</span></div>\n",
       "    </div>\n",
       "\n",
       "</div>\n",
       "</div>"
      ],
      "text/plain": [
       "<IPython.core.display.HTML object>"
      ]
     },
     "metadata": {},
     "output_type": "display_data"
    },
    {
     "data": {
      "text/html": [
       "<a href=\"https://github.com/CambridgeSemiticsLab/nena_corpus/blob/master/nena/0.01/Barwar/Man Is Treacherous.nena\" title=\"see this passage in its source document\" sec=\"Barwar, Man Is Treacherous, Ln. 5\">Barwar, Man Is Treacherous, Ln. 5</a>\n",
       "<div class=\"outeritem\">\n",
       "<div class=\"macro  \" >\n",
       "\n",
       "<div class=\"prosa  \" >\n",
       "\n",
       "<div class=\"word  \" >\n",
       "<div class=\"ara\">ʾána </div>\n",
       "\n",
       "</div>\n",
       "<div class=\"word  hl\" >\n",
       "<div class=\"ara\">qəm-mpalṭànne.ˈ </div>\n",
       "\n",
       "</div>\n",
       "</div>\n",
       "</div>\n",
       "</div>"
      ],
      "text/plain": [
       "<IPython.core.display.HTML object>"
      ]
     },
     "metadata": {},
     "output_type": "display_data"
    },
    {
     "data": {
      "text/html": [
       "<p><b>result</b> <i>62</i></p>"
      ],
      "text/plain": [
       "<IPython.core.display.HTML object>"
      ]
     },
     "metadata": {},
     "output_type": "display_data"
    },
    {
     "data": {
      "text/html": [
       "<div class=\"outeritem\">\n",
       "<div class=\"None  \" >\n",
       "\n",
       "    <div class=\"ll\">\n",
       "        <div class=\"line\"><a href=\"https://github.com/CambridgeSemiticsLab/nena_corpus/blob/master/nena/0.01/Barwar/A Hundred Gold Coins.nena\" title=\"see this passage in its source document\" sec=\"Barwar\">Barwar</a></div>\n",
       "\n",
       "        <div class=\"features\"> <span class=\"dialect xft\"><span class=\"f\">dialect=</span>Barwar</span></div>\n",
       "    </div>\n",
       "\n",
       "</div>\n",
       "</div>"
      ],
      "text/plain": [
       "<IPython.core.display.HTML object>"
      ]
     },
     "metadata": {},
     "output_type": "display_data"
    },
    {
     "data": {
      "text/html": [
       "<a href=\"https://github.com/CambridgeSemiticsLab/nena_corpus/blob/master/nena/0.01/Barwar/Man Is Treacherous.nena\" title=\"see this passage in its source document\" sec=\"Barwar, Man Is Treacherous, Ln. 7\">Barwar, Man Is Treacherous, Ln. 7</a>\n",
       "<div class=\"outeritem\">\n",
       "<div class=\"macro  \" >\n",
       "\n",
       "<div class=\"prosa  \" >\n",
       "\n",
       "<div class=\"word  \" >\n",
       "<div class=\"ara\">ʾáw </div>\n",
       "\n",
       "</div>\n",
       "<div class=\"word  hl\" >\n",
       "<div class=\"ara\">qəm-xalə̀ṣla.ˈ </div>\n",
       "\n",
       "</div>\n",
       "</div>\n",
       "</div>\n",
       "</div>"
      ],
      "text/plain": [
       "<IPython.core.display.HTML object>"
      ]
     },
     "metadata": {},
     "output_type": "display_data"
    },
    {
     "data": {
      "text/html": [
       "<p><b>result</b> <i>63</i></p>"
      ],
      "text/plain": [
       "<IPython.core.display.HTML object>"
      ]
     },
     "metadata": {},
     "output_type": "display_data"
    },
    {
     "data": {
      "text/html": [
       "<div class=\"outeritem\">\n",
       "<div class=\"None  \" >\n",
       "\n",
       "    <div class=\"ll\">\n",
       "        <div class=\"line\"><a href=\"https://github.com/CambridgeSemiticsLab/nena_corpus/blob/master/nena/0.01/Barwar/A Hundred Gold Coins.nena\" title=\"see this passage in its source document\" sec=\"Barwar\">Barwar</a></div>\n",
       "\n",
       "        <div class=\"features\"> <span class=\"dialect xft\"><span class=\"f\">dialect=</span>Barwar</span></div>\n",
       "    </div>\n",
       "\n",
       "</div>\n",
       "</div>"
      ],
      "text/plain": [
       "<IPython.core.display.HTML object>"
      ]
     },
     "metadata": {},
     "output_type": "display_data"
    },
    {
     "data": {
      "text/html": [
       "<a href=\"https://github.com/CambridgeSemiticsLab/nena_corpus/blob/master/nena/0.01/Barwar/Man Is Treacherous.nena\" title=\"see this passage in its source document\" sec=\"Barwar, Man Is Treacherous, Ln. 7\">Barwar, Man Is Treacherous, Ln. 7</a>\n",
       "<div class=\"outeritem\">\n",
       "<div class=\"macro  \" >\n",
       "\n",
       "<div class=\"prosa  \" >\n",
       "\n",
       "<div class=\"word  \" >\n",
       "<div class=\"ara\">hón </div>\n",
       "\n",
       "</div>\n",
       "<div class=\"word  \" >\n",
       "<div class=\"ara\">mquwálta </div>\n",
       "\n",
       "</div>\n",
       "<div class=\"word  \" >\n",
       "<div class=\"ara\">m-xa-tèlaˈ </div>\n",
       "\n",
       "</div>\n",
       "</div>\n",
       "<div class=\"prosa  \" >\n",
       "\n",
       "<div class=\"word  hl\" >\n",
       "<div class=\"ara\">qəm-xalə́ṣli </div>\n",
       "\n",
       "</div>\n",
       "<div class=\"word  \" >\n",
       "<div class=\"ara\">m-nə̀mra.ˈ </div>\n",
       "\n",
       "</div>\n",
       "</div>\n",
       "</div>\n",
       "</div>"
      ],
      "text/plain": [
       "<IPython.core.display.HTML object>"
      ]
     },
     "metadata": {},
     "output_type": "display_data"
    },
    {
     "data": {
      "text/html": [
       "<p><b>result</b> <i>64</i></p>"
      ],
      "text/plain": [
       "<IPython.core.display.HTML object>"
      ]
     },
     "metadata": {},
     "output_type": "display_data"
    },
    {
     "data": {
      "text/html": [
       "<div class=\"outeritem\">\n",
       "<div class=\"None  \" >\n",
       "\n",
       "    <div class=\"ll\">\n",
       "        <div class=\"line\"><a href=\"https://github.com/CambridgeSemiticsLab/nena_corpus/blob/master/nena/0.01/Barwar/A Hundred Gold Coins.nena\" title=\"see this passage in its source document\" sec=\"Barwar\">Barwar</a></div>\n",
       "\n",
       "        <div class=\"features\"> <span class=\"dialect xft\"><span class=\"f\">dialect=</span>Barwar</span></div>\n",
       "    </div>\n",
       "\n",
       "</div>\n",
       "</div>"
      ],
      "text/plain": [
       "<IPython.core.display.HTML object>"
      ]
     },
     "metadata": {},
     "output_type": "display_data"
    },
    {
     "data": {
      "text/html": [
       "<a href=\"https://github.com/CambridgeSemiticsLab/nena_corpus/blob/master/nena/0.01/Barwar/Man Is Treacherous.nena\" title=\"see this passage in its source document\" sec=\"Barwar, Man Is Treacherous, Ln. 8\">Barwar, Man Is Treacherous, Ln. 8</a>\n",
       "<div class=\"outeritem\">\n",
       "<div class=\"macro  \" >\n",
       "\n",
       "<div class=\"prosa  \" >\n",
       "\n",
       "<div class=\"word  \" >\n",
       "<div class=\"ara\">qìmɛleˈ </div>\n",
       "\n",
       "</div>\n",
       "</div>\n",
       "<div class=\"prosa  \" >\n",
       "\n",
       "<div class=\"word  \" >\n",
       "<div class=\"ara\">híwəlla </div>\n",
       "\n",
       "</div>\n",
       "<div class=\"word  \" >\n",
       "<div class=\"ara\">kθɛ́θa </div>\n",
       "\n",
       "</div>\n",
       "<div class=\"word  \" >\n",
       "<div class=\"ara\">ṭla-d-ày,ˈ </div>\n",
       "\n",
       "</div>\n",
       "</div>\n",
       "<div class=\"prosa  \" >\n",
       "\n",
       "<div class=\"word  \" >\n",
       "<div class=\"ara\">ʾáy </div>\n",
       "\n",
       "</div>\n",
       "<div class=\"word  hl\" >\n",
       "<div class=\"ara\">qəm-yawála </div>\n",
       "\n",
       "</div>\n",
       "<div class=\"word  \" >\n",
       "<div class=\"ara\">ṭla-bába </div>\n",
       "\n",
       "</div>\n",
       "<div class=\"word  \" >\n",
       "<div class=\"ara\">dìyaˈ </div>\n",
       "\n",
       "</div>\n",
       "</div>\n",
       "<div class=\"prosa  \" >\n",
       "\n",
       "<div class=\"word  \" >\n",
       "<div class=\"ara\">ʾu-zìlɛle.ˈ </div>\n",
       "\n",
       "</div>\n",
       "</div>\n",
       "</div>\n",
       "</div>"
      ],
      "text/plain": [
       "<IPython.core.display.HTML object>"
      ]
     },
     "metadata": {},
     "output_type": "display_data"
    },
    {
     "data": {
      "text/html": [
       "<p><b>result</b> <i>65</i></p>"
      ],
      "text/plain": [
       "<IPython.core.display.HTML object>"
      ]
     },
     "metadata": {},
     "output_type": "display_data"
    },
    {
     "data": {
      "text/html": [
       "<div class=\"outeritem\">\n",
       "<div class=\"None  \" >\n",
       "\n",
       "    <div class=\"ll\">\n",
       "        <div class=\"line\"><a href=\"https://github.com/CambridgeSemiticsLab/nena_corpus/blob/master/nena/0.01/Barwar/A Hundred Gold Coins.nena\" title=\"see this passage in its source document\" sec=\"Barwar\">Barwar</a></div>\n",
       "\n",
       "        <div class=\"features\"> <span class=\"dialect xft\"><span class=\"f\">dialect=</span>Barwar</span></div>\n",
       "    </div>\n",
       "\n",
       "</div>\n",
       "</div>"
      ],
      "text/plain": [
       "<IPython.core.display.HTML object>"
      ]
     },
     "metadata": {},
     "output_type": "display_data"
    },
    {
     "data": {
      "text/html": [
       "<a href=\"https://github.com/CambridgeSemiticsLab/nena_corpus/blob/master/nena/0.01/Barwar/Nanno and Jəndo.nena\" title=\"see this passage in its source document\" sec=\"Barwar, Nanno and Jəndo, Ln. 1\">Barwar, Nanno and Jəndo, Ln. 1</a>\n",
       "<div class=\"outeritem\">\n",
       "<div class=\"macro  \" >\n",
       "\n",
       "<div class=\"prosa  \" >\n",
       "\n",
       "<div class=\"word  hl\" >\n",
       "<div class=\"ara\">qəm-máwər </div>\n",
       "\n",
       "</div>\n",
       "<div class=\"word  \" >\n",
       "<div class=\"ara\">txúne </div>\n",
       "\n",
       "</div>\n",
       "<div class=\"word  \" >\n",
       "<div class=\"ara\">díye </div>\n",
       "\n",
       "</div>\n",
       "<div class=\"word  \" >\n",
       "<div class=\"ara\">gu-ʾə̀rxeˈ </div>\n",
       "\n",
       "</div>\n",
       "</div>\n",
       "<div class=\"prosa  \" >\n",
       "\n",
       "<div class=\"word  \" >\n",
       "<div class=\"ara\">ʾu-ṭxàna-wewa.ˈ </div>\n",
       "\n",
       "</div>\n",
       "</div>\n",
       "</div>\n",
       "</div>"
      ],
      "text/plain": [
       "<IPython.core.display.HTML object>"
      ]
     },
     "metadata": {},
     "output_type": "display_data"
    },
    {
     "data": {
      "text/html": [
       "<p><b>result</b> <i>66</i></p>"
      ],
      "text/plain": [
       "<IPython.core.display.HTML object>"
      ]
     },
     "metadata": {},
     "output_type": "display_data"
    },
    {
     "data": {
      "text/html": [
       "<div class=\"outeritem\">\n",
       "<div class=\"None  \" >\n",
       "\n",
       "    <div class=\"ll\">\n",
       "        <div class=\"line\"><a href=\"https://github.com/CambridgeSemiticsLab/nena_corpus/blob/master/nena/0.01/Barwar/A Hundred Gold Coins.nena\" title=\"see this passage in its source document\" sec=\"Barwar\">Barwar</a></div>\n",
       "\n",
       "        <div class=\"features\"> <span class=\"dialect xft\"><span class=\"f\">dialect=</span>Barwar</span></div>\n",
       "    </div>\n",
       "\n",
       "</div>\n",
       "</div>"
      ],
      "text/plain": [
       "<IPython.core.display.HTML object>"
      ]
     },
     "metadata": {},
     "output_type": "display_data"
    },
    {
     "data": {
      "text/html": [
       "<a href=\"https://github.com/CambridgeSemiticsLab/nena_corpus/blob/master/nena/0.01/Barwar/Nanno and Jəndo.nena\" title=\"see this passage in its source document\" sec=\"Barwar, Nanno and Jəndo, Ln. 8\">Barwar, Nanno and Jəndo, Ln. 8</a>\n",
       "<div class=\"outeritem\">\n",
       "<div class=\"macro  \" >\n",
       "\n",
       "<div class=\"prosa  \" >\n",
       "\n",
       "<div class=\"word  \" >\n",
       "<div class=\"ara\">də́bba </div>\n",
       "\n",
       "</div>\n",
       "<div class=\"word  hl\" >\n",
       "<div class=\"ara\">qəm-mbaqràla </div>\n",
       "\n",
       "</div>\n",
       "<div class=\"word  \" >\n",
       "<div class=\"ara\">qáṭu,ˈ </div>\n",
       "\n",
       "</div>\n",
       "</div>\n",
       "<div class=\"prosa  \" >\n",
       "\n",
       "<div class=\"word  \" >\n",
       "<div class=\"ara\">mə́ra </div>\n",
       "\n",
       "</div>\n",
       "<div class=\"word  \" >\n",
       "<div class=\"ara\">xáθi </div>\n",
       "\n",
       "</div>\n",
       "<div class=\"word  \" >\n",
       "<div class=\"ara\">qàṭu,ˈ </div>\n",
       "\n",
       "</div>\n",
       "</div>\n",
       "<div class=\"prosa  \" >\n",
       "\n",
       "<div class=\"word  \" >\n",
       "<div class=\"ara\">ʾánna </div>\n",
       "\n",
       "</div>\n",
       "<div class=\"word  \" >\n",
       "<div class=\"ara\">zmaryàθəx,ˈ </div>\n",
       "\n",
       "</div>\n",
       "</div>\n",
       "<div class=\"prosa  \" >\n",
       "\n",
       "<div class=\"word  \" >\n",
       "<div class=\"ara\">m-ɛ́kət </div>\n",
       "\n",
       "</div>\n",
       "<div class=\"word  \" >\n",
       "<div class=\"ara\">líptəlla </div>\n",
       "\n",
       "</div>\n",
       "<div class=\"word  \" >\n",
       "<div class=\"ara\">hátxa </div>\n",
       "\n",
       "</div>\n",
       "<div class=\"word  \" >\n",
       "<div class=\"ara\">basìme?ˈ </div>\n",
       "\n",
       "</div>\n",
       "</div>\n",
       "</div>\n",
       "</div>"
      ],
      "text/plain": [
       "<IPython.core.display.HTML object>"
      ]
     },
     "metadata": {},
     "output_type": "display_data"
    },
    {
     "data": {
      "text/html": [
       "<p><b>result</b> <i>67</i></p>"
      ],
      "text/plain": [
       "<IPython.core.display.HTML object>"
      ]
     },
     "metadata": {},
     "output_type": "display_data"
    },
    {
     "data": {
      "text/html": [
       "<div class=\"outeritem\">\n",
       "<div class=\"None  \" >\n",
       "\n",
       "    <div class=\"ll\">\n",
       "        <div class=\"line\"><a href=\"https://github.com/CambridgeSemiticsLab/nena_corpus/blob/master/nena/0.01/Barwar/A Hundred Gold Coins.nena\" title=\"see this passage in its source document\" sec=\"Barwar\">Barwar</a></div>\n",
       "\n",
       "        <div class=\"features\"> <span class=\"dialect xft\"><span class=\"f\">dialect=</span>Barwar</span></div>\n",
       "    </div>\n",
       "\n",
       "</div>\n",
       "</div>"
      ],
      "text/plain": [
       "<IPython.core.display.HTML object>"
      ]
     },
     "metadata": {},
     "output_type": "display_data"
    },
    {
     "data": {
      "text/html": [
       "<a href=\"https://github.com/CambridgeSemiticsLab/nena_corpus/blob/master/nena/0.01/Barwar/Nanno and Jəndo.nena\" title=\"see this passage in its source document\" sec=\"Barwar, Nanno and Jəndo, Ln. 14\">Barwar, Nanno and Jəndo, Ln. 14</a>\n",
       "<div class=\"outeritem\">\n",
       "<div class=\"macro  \" >\n",
       "\n",
       "<div class=\"prosa  \" >\n",
       "\n",
       "<div class=\"word  hl\" >\n",
       "<div class=\"ara\">qəm-nabə́lle </div>\n",
       "\n",
       "</div>\n",
       "<div class=\"word  \" >\n",
       "<div class=\"ara\">dáwa </div>\n",
       "\n",
       "</div>\n",
       "<div class=\"word  \" >\n",
       "<div class=\"ara\">kúlle </div>\n",
       "\n",
       "</div>\n",
       "<div class=\"word  \" >\n",
       "<div class=\"ara\">mə́nne </div>\n",
       "\n",
       "</div>\n",
       "<div class=\"word  \" >\n",
       "<div class=\"ara\">dìye.ˈ </div>\n",
       "\n",
       "</div>\n",
       "</div>\n",
       "</div>\n",
       "</div>"
      ],
      "text/plain": [
       "<IPython.core.display.HTML object>"
      ]
     },
     "metadata": {},
     "output_type": "display_data"
    },
    {
     "data": {
      "text/html": [
       "<p><b>result</b> <i>68</i></p>"
      ],
      "text/plain": [
       "<IPython.core.display.HTML object>"
      ]
     },
     "metadata": {},
     "output_type": "display_data"
    },
    {
     "data": {
      "text/html": [
       "<div class=\"outeritem\">\n",
       "<div class=\"None  \" >\n",
       "\n",
       "    <div class=\"ll\">\n",
       "        <div class=\"line\"><a href=\"https://github.com/CambridgeSemiticsLab/nena_corpus/blob/master/nena/0.01/Barwar/A Hundred Gold Coins.nena\" title=\"see this passage in its source document\" sec=\"Barwar\">Barwar</a></div>\n",
       "\n",
       "        <div class=\"features\"> <span class=\"dialect xft\"><span class=\"f\">dialect=</span>Barwar</span></div>\n",
       "    </div>\n",
       "\n",
       "</div>\n",
       "</div>"
      ],
      "text/plain": [
       "<IPython.core.display.HTML object>"
      ]
     },
     "metadata": {},
     "output_type": "display_data"
    },
    {
     "data": {
      "text/html": [
       "<a href=\"https://github.com/CambridgeSemiticsLab/nena_corpus/blob/master/nena/0.01/Barwar/Nanno and Jəndo.nena\" title=\"see this passage in its source document\" sec=\"Barwar, Nanno and Jəndo, Ln. 15\">Barwar, Nanno and Jəndo, Ln. 15</a>\n",
       "<div class=\"outeritem\">\n",
       "<div class=\"macro  \" >\n",
       "\n",
       "<div class=\"prosa  \" >\n",
       "\n",
       "<div class=\"word  hl\" >\n",
       "<div class=\"ara\">qəm-mbaqə̀rreˈ </div>\n",
       "\n",
       "</div>\n",
       "</div>\n",
       "<div class=\"prosa  \" >\n",
       "\n",
       "<div class=\"word  \" >\n",
       "<div class=\"ara\">Nánno </div>\n",
       "\n",
       "</div>\n",
       "<div class=\"word  \" >\n",
       "<div class=\"ara\">xòni,ˈ </div>\n",
       "\n",
       "</div>\n",
       "</div>\n",
       "<div class=\"prosa  \" >\n",
       "\n",
       "<div class=\"word  \" >\n",
       "<div class=\"ara\">ʾáwwa </div>\n",
       "\n",
       "</div>\n",
       "<div class=\"word  \" >\n",
       "<div class=\"ara\">mā̀l,ˈ </div>\n",
       "\n",
       "</div>\n",
       "</div>\n",
       "<div class=\"prosa  \" >\n",
       "\n",
       "<div class=\"word  \" >\n",
       "<div class=\"ara\">m-ɛ̀ka?ˈ </div>\n",
       "\n",
       "</div>\n",
       "</div>\n",
       "</div>\n",
       "</div>"
      ],
      "text/plain": [
       "<IPython.core.display.HTML object>"
      ]
     },
     "metadata": {},
     "output_type": "display_data"
    },
    {
     "data": {
      "text/html": [
       "<p><b>result</b> <i>69</i></p>"
      ],
      "text/plain": [
       "<IPython.core.display.HTML object>"
      ]
     },
     "metadata": {},
     "output_type": "display_data"
    },
    {
     "data": {
      "text/html": [
       "<div class=\"outeritem\">\n",
       "<div class=\"None  \" >\n",
       "\n",
       "    <div class=\"ll\">\n",
       "        <div class=\"line\"><a href=\"https://github.com/CambridgeSemiticsLab/nena_corpus/blob/master/nena/0.01/Barwar/A Hundred Gold Coins.nena\" title=\"see this passage in its source document\" sec=\"Barwar\">Barwar</a></div>\n",
       "\n",
       "        <div class=\"features\"> <span class=\"dialect xft\"><span class=\"f\">dialect=</span>Barwar</span></div>\n",
       "    </div>\n",
       "\n",
       "</div>\n",
       "</div>"
      ],
      "text/plain": [
       "<IPython.core.display.HTML object>"
      ]
     },
     "metadata": {},
     "output_type": "display_data"
    },
    {
     "data": {
      "text/html": [
       "<a href=\"https://github.com/CambridgeSemiticsLab/nena_corpus/blob/master/nena/0.01/Barwar/Nanno and Jəndo.nena\" title=\"see this passage in its source document\" sec=\"Barwar, Nanno and Jəndo, Ln. 16\">Barwar, Nanno and Jəndo, Ln. 16</a>\n",
       "<div class=\"outeritem\">\n",
       "<div class=\"macro  \" >\n",
       "\n",
       "<div class=\"prosa  \" >\n",
       "\n",
       "<div class=\"word  \" >\n",
       "<div class=\"ara\">npílli </div>\n",
       "\n",
       "</div>\n",
       "<div class=\"word  \" >\n",
       "<div class=\"ara\">báθre </div>\n",
       "\n",
       "</div>\n",
       "<div class=\"word  \" >\n",
       "<div class=\"ara\">dìye,ˈ </div>\n",
       "\n",
       "</div>\n",
       "</div>\n",
       "<div class=\"prosa  \" >\n",
       "\n",
       "<div class=\"word  hl\" >\n",
       "<div class=\"ara\">qəm-šaqlə̀nne.ˈ </div>\n",
       "\n",
       "</div>\n",
       "</div>\n",
       "</div>\n",
       "</div>"
      ],
      "text/plain": [
       "<IPython.core.display.HTML object>"
      ]
     },
     "metadata": {},
     "output_type": "display_data"
    },
    {
     "data": {
      "text/html": [
       "<p><b>result</b> <i>70</i></p>"
      ],
      "text/plain": [
       "<IPython.core.display.HTML object>"
      ]
     },
     "metadata": {},
     "output_type": "display_data"
    },
    {
     "data": {
      "text/html": [
       "<div class=\"outeritem\">\n",
       "<div class=\"None  \" >\n",
       "\n",
       "    <div class=\"ll\">\n",
       "        <div class=\"line\"><a href=\"https://github.com/CambridgeSemiticsLab/nena_corpus/blob/master/nena/0.01/Barwar/A Hundred Gold Coins.nena\" title=\"see this passage in its source document\" sec=\"Barwar\">Barwar</a></div>\n",
       "\n",
       "        <div class=\"features\"> <span class=\"dialect xft\"><span class=\"f\">dialect=</span>Barwar</span></div>\n",
       "    </div>\n",
       "\n",
       "</div>\n",
       "</div>"
      ],
      "text/plain": [
       "<IPython.core.display.HTML object>"
      ]
     },
     "metadata": {},
     "output_type": "display_data"
    },
    {
     "data": {
      "text/html": [
       "<a href=\"https://github.com/CambridgeSemiticsLab/nena_corpus/blob/master/nena/0.01/Barwar/Qaṭina Rescues His Nephew From Leliθa.nena\" title=\"see this passage in its source document\" sec=\"Barwar, Qaṭina Rescues His Nephew From Leliθa, Ln. 6\">Barwar, Qaṭina Rescues His Nephew From Leliθa, Ln. 6</a>\n",
       "<div class=\"outeritem\">\n",
       "<div class=\"macro  \" >\n",
       "\n",
       "<div class=\"prosa  \" >\n",
       "\n",
       "<div class=\"word  \" >\n",
       "<div class=\"ara\">hadíya </div>\n",
       "\n",
       "</div>\n",
       "<div class=\"word  \" >\n",
       "<div class=\"ara\">Qaṭínaˈ </div>\n",
       "\n",
       "</div>\n",
       "</div>\n",
       "<div class=\"prosa  \" >\n",
       "\n",
       "<div class=\"word  \" >\n",
       "<div class=\"ara\">qímɛle </div>\n",
       "\n",
       "</div>\n",
       "<div class=\"word  \" >\n",
       "<div class=\"ara\">zílɛle </div>\n",
       "\n",
       "</div>\n",
       "<div class=\"word  \" >\n",
       "<div class=\"ara\">ṭắya </div>\n",
       "\n",
       "</div>\n",
       "<div class=\"word  \" >\n",
       "<div class=\"ara\">báθər </div>\n",
       "\n",
       "</div>\n",
       "<div class=\"word  \" >\n",
       "<div class=\"ara\">Xuldə́kko </div>\n",
       "\n",
       "</div>\n",
       "<div class=\"word  \" >\n",
       "<div class=\"ara\">xwarzáye </div>\n",
       "\n",
       "</div>\n",
       "<div class=\"word  \" >\n",
       "<div class=\"ara\">dìye,ˈ </div>\n",
       "\n",
       "</div>\n",
       "</div>\n",
       "<div class=\"prosa  \" >\n",
       "\n",
       "<div class=\"word  \" >\n",
       "<div class=\"ara\">ʾu-zílle </div>\n",
       "\n",
       "</div>\n",
       "<div class=\"word  hl\" >\n",
       "<div class=\"ara\">qəm-dawqìle.ˈ </div>\n",
       "\n",
       "</div>\n",
       "</div>\n",
       "</div>\n",
       "</div>"
      ],
      "text/plain": [
       "<IPython.core.display.HTML object>"
      ]
     },
     "metadata": {},
     "output_type": "display_data"
    },
    {
     "data": {
      "text/html": [
       "<p><b>result</b> <i>71</i></p>"
      ],
      "text/plain": [
       "<IPython.core.display.HTML object>"
      ]
     },
     "metadata": {},
     "output_type": "display_data"
    },
    {
     "data": {
      "text/html": [
       "<div class=\"outeritem\">\n",
       "<div class=\"None  \" >\n",
       "\n",
       "    <div class=\"ll\">\n",
       "        <div class=\"line\"><a href=\"https://github.com/CambridgeSemiticsLab/nena_corpus/blob/master/nena/0.01/Barwar/A Hundred Gold Coins.nena\" title=\"see this passage in its source document\" sec=\"Barwar\">Barwar</a></div>\n",
       "\n",
       "        <div class=\"features\"> <span class=\"dialect xft\"><span class=\"f\">dialect=</span>Barwar</span></div>\n",
       "    </div>\n",
       "\n",
       "</div>\n",
       "</div>"
      ],
      "text/plain": [
       "<IPython.core.display.HTML object>"
      ]
     },
     "metadata": {},
     "output_type": "display_data"
    },
    {
     "data": {
      "text/html": [
       "<a href=\"https://github.com/CambridgeSemiticsLab/nena_corpus/blob/master/nena/0.01/Barwar/Qaṭina Rescues His Nephew From Leliθa.nena\" title=\"see this passage in its source document\" sec=\"Barwar, Qaṭina Rescues His Nephew From Leliθa, Ln. 6\">Barwar, Qaṭina Rescues His Nephew From Leliθa, Ln. 6</a>\n",
       "<div class=\"outeritem\">\n",
       "<div class=\"macro  \" >\n",
       "\n",
       "<div class=\"prosa  \" >\n",
       "\n",
       "<div class=\"word  hl\" >\n",
       "<div class=\"ara\">qəm-dawqìleˈ </div>\n",
       "\n",
       "</div>\n",
       "</div>\n",
       "<div class=\"prosa  \" >\n",
       "\n",
       "<div class=\"word  \" >\n",
       "<div class=\"ara\">zìlle.ˈ </div>\n",
       "\n",
       "</div>\n",
       "</div>\n",
       "</div>\n",
       "</div>"
      ],
      "text/plain": [
       "<IPython.core.display.HTML object>"
      ]
     },
     "metadata": {},
     "output_type": "display_data"
    },
    {
     "data": {
      "text/html": [
       "<p><b>result</b> <i>72</i></p>"
      ],
      "text/plain": [
       "<IPython.core.display.HTML object>"
      ]
     },
     "metadata": {},
     "output_type": "display_data"
    },
    {
     "data": {
      "text/html": [
       "<div class=\"outeritem\">\n",
       "<div class=\"None  \" >\n",
       "\n",
       "    <div class=\"ll\">\n",
       "        <div class=\"line\"><a href=\"https://github.com/CambridgeSemiticsLab/nena_corpus/blob/master/nena/0.01/Barwar/A Hundred Gold Coins.nena\" title=\"see this passage in its source document\" sec=\"Barwar\">Barwar</a></div>\n",
       "\n",
       "        <div class=\"features\"> <span class=\"dialect xft\"><span class=\"f\">dialect=</span>Barwar</span></div>\n",
       "    </div>\n",
       "\n",
       "</div>\n",
       "</div>"
      ],
      "text/plain": [
       "<IPython.core.display.HTML object>"
      ]
     },
     "metadata": {},
     "output_type": "display_data"
    },
    {
     "data": {
      "text/html": [
       "<a href=\"https://github.com/CambridgeSemiticsLab/nena_corpus/blob/master/nena/0.01/Barwar/Qaṭina Rescues His Nephew From Leliθa.nena\" title=\"see this passage in its source document\" sec=\"Barwar, Qaṭina Rescues His Nephew From Leliθa, Ln. 18\">Barwar, Qaṭina Rescues His Nephew From Leliθa, Ln. 18</a>\n",
       "<div class=\"outeritem\">\n",
       "<div class=\"macro  \" >\n",
       "\n",
       "<div class=\"prosa  \" >\n",
       "\n",
       "<div class=\"word  \" >\n",
       "<div class=\"ara\">ʾímə </div>\n",
       "\n",
       "</div>\n",
       "<div class=\"word  \" >\n",
       "<div class=\"ara\">mxèle </div>\n",
       "\n",
       "</div>\n",
       "<div class=\"word  \" >\n",
       "<div class=\"ara\">sɛ́pe </div>\n",
       "\n",
       "</div>\n",
       "<div class=\"word  \" >\n",
       "<div class=\"ara\">ʾə́lla </div>\n",
       "\n",
       "</div>\n",
       "<div class=\"word  \" >\n",
       "<div class=\"ara\">díyaˈ </div>\n",
       "\n",
       "</div>\n",
       "</div>\n",
       "<div class=\"prosa  \" >\n",
       "\n",
       "<div class=\"word  hl\" >\n",
       "<div class=\"ara\">qəm-awə́dla </div>\n",
       "\n",
       "</div>\n",
       "<div class=\"word  \" >\n",
       "<div class=\"ara\">tre-pə̀ččeˈ </div>\n",
       "\n",
       "</div>\n",
       "</div>\n",
       "<div class=\"prosa  \" >\n",
       "\n",
       "<div class=\"word  \" >\n",
       "<div class=\"ara\">xa-pə́čča </div>\n",
       "\n",
       "</div>\n",
       "<div class=\"word  \" >\n",
       "<div class=\"ara\">píša </div>\n",
       "\n",
       "</div>\n",
       "<div class=\"word  \" >\n",
       "<div class=\"ara\">l-ày-gota,ˈ </div>\n",
       "\n",
       "</div>\n",
       "</div>\n",
       "<div class=\"prosa  \" >\n",
       "\n",
       "<div class=\"word  \" >\n",
       "<div class=\"ara\">xa-l-ày-gota.ˈ </div>\n",
       "\n",
       "</div>\n",
       "</div>\n",
       "</div>\n",
       "</div>"
      ],
      "text/plain": [
       "<IPython.core.display.HTML object>"
      ]
     },
     "metadata": {},
     "output_type": "display_data"
    },
    {
     "data": {
      "text/html": [
       "<p><b>result</b> <i>73</i></p>"
      ],
      "text/plain": [
       "<IPython.core.display.HTML object>"
      ]
     },
     "metadata": {},
     "output_type": "display_data"
    },
    {
     "data": {
      "text/html": [
       "<div class=\"outeritem\">\n",
       "<div class=\"None  \" >\n",
       "\n",
       "    <div class=\"ll\">\n",
       "        <div class=\"line\"><a href=\"https://github.com/CambridgeSemiticsLab/nena_corpus/blob/master/nena/0.01/Barwar/A Hundred Gold Coins.nena\" title=\"see this passage in its source document\" sec=\"Barwar\">Barwar</a></div>\n",
       "\n",
       "        <div class=\"features\"> <span class=\"dialect xft\"><span class=\"f\">dialect=</span>Barwar</span></div>\n",
       "    </div>\n",
       "\n",
       "</div>\n",
       "</div>"
      ],
      "text/plain": [
       "<IPython.core.display.HTML object>"
      ]
     },
     "metadata": {},
     "output_type": "display_data"
    },
    {
     "data": {
      "text/html": [
       "<a href=\"https://github.com/CambridgeSemiticsLab/nena_corpus/blob/master/nena/0.01/Barwar/Qaṭina Rescues His Nephew From Leliθa.nena\" title=\"see this passage in its source document\" sec=\"Barwar, Qaṭina Rescues His Nephew From Leliθa, Ln. 21\">Barwar, Qaṭina Rescues His Nephew From Leliθa, Ln. 21</a>\n",
       "<div class=\"outeritem\">\n",
       "<div class=\"macro  \" >\n",
       "\n",
       "<div class=\"prosa  \" >\n",
       "\n",
       "<div class=\"word  \" >\n",
       "<div class=\"ara\">qìmɛleˈ </div>\n",
       "\n",
       "</div>\n",
       "</div>\n",
       "<div class=\"prosa  \" >\n",
       "\n",
       "<div class=\"word  \" >\n",
       "<div class=\"ara\">Qaṭína </div>\n",
       "\n",
       "</div>\n",
       "<div class=\"word  hl\" >\n",
       "<div class=\"ara\">qəm-paθə́xle </div>\n",
       "\n",
       "</div>\n",
       "<div class=\"word  \" >\n",
       "<div class=\"ara\">tằraˈ </div>\n",
       "\n",
       "</div>\n",
       "</div>\n",
       "<div class=\"prosa  \" >\n",
       "\n",
       "<div class=\"word  \" >\n",
       "<div class=\"ara\">ṭla-xwarzáye </div>\n",
       "\n",
       "</div>\n",
       "<div class=\"word  \" >\n",
       "<div class=\"ara\">dìyeˈ </div>\n",
       "\n",
       "</div>\n",
       "</div>\n",
       "<div class=\"prosa  \" >\n",
       "\n",
       "<div class=\"word  \" >\n",
       "<div class=\"ara\">núbləlle </div>\n",
       "\n",
       "</div>\n",
       "<div class=\"word  \" >\n",
       "<div class=\"ara\">hàtxa </div>\n",
       "\n",
       "</div>\n",
       "<div class=\"word  \" >\n",
       "<div class=\"ara\">képa-wˈ </div>\n",
       "\n",
       "</div>\n",
       "</div>\n",
       "<div class=\"prosa  \" >\n",
       "\n",
       "<div class=\"word  \" >\n",
       "<div class=\"ara\">mpúlṭɛlele </div>\n",
       "\n",
       "</div>\n",
       "<div class=\"word  \" >\n",
       "<div class=\"ara\">Xuldə́kko </div>\n",
       "\n",
       "</div>\n",
       "<div class=\"word  \" >\n",
       "<div class=\"ara\">m-gu-d-o-lìna.ˈ </div>\n",
       "\n",
       "</div>\n",
       "</div>\n",
       "</div>\n",
       "</div>"
      ],
      "text/plain": [
       "<IPython.core.display.HTML object>"
      ]
     },
     "metadata": {},
     "output_type": "display_data"
    },
    {
     "data": {
      "text/html": [
       "<p><b>result</b> <i>74</i></p>"
      ],
      "text/plain": [
       "<IPython.core.display.HTML object>"
      ]
     },
     "metadata": {},
     "output_type": "display_data"
    },
    {
     "data": {
      "text/html": [
       "<div class=\"outeritem\">\n",
       "<div class=\"None  \" >\n",
       "\n",
       "    <div class=\"ll\">\n",
       "        <div class=\"line\"><a href=\"https://github.com/CambridgeSemiticsLab/nena_corpus/blob/master/nena/0.01/Barwar/A Hundred Gold Coins.nena\" title=\"see this passage in its source document\" sec=\"Barwar\">Barwar</a></div>\n",
       "\n",
       "        <div class=\"features\"> <span class=\"dialect xft\"><span class=\"f\">dialect=</span>Barwar</span></div>\n",
       "    </div>\n",
       "\n",
       "</div>\n",
       "</div>"
      ],
      "text/plain": [
       "<IPython.core.display.HTML object>"
      ]
     },
     "metadata": {},
     "output_type": "display_data"
    },
    {
     "data": {
      "text/html": [
       "<a href=\"https://github.com/CambridgeSemiticsLab/nena_corpus/blob/master/nena/0.01/Barwar/Tales From the 1001 Nights.nena\" title=\"see this passage in its source document\" sec=\"Barwar, Tales From the 1001 Nights, Ln. 7\">Barwar, Tales From the 1001 Nights, Ln. 7</a>\n",
       "<div class=\"outeritem\">\n",
       "<div class=\"macro  \" >\n",
       "\n",
       "<div class=\"prosa  \" >\n",
       "\n",
       "<div class=\"word  hl\" >\n",
       "<div class=\"ara\">qəm-maqə̀dla </div>\n",
       "\n",
       "</div>\n",
       "<div class=\"word  \" >\n",
       "<div class=\"ara\">măḥálle,ˈ </div>\n",
       "\n",
       "</div>\n",
       "</div>\n",
       "<div class=\"prosa  \" >\n",
       "\n",
       "<div class=\"word  \" >\n",
       "<div class=\"ara\">ma-t-wéwa </div>\n",
       "\n",
       "</div>\n",
       "<div class=\"word  \" >\n",
       "<div class=\"ara\">šumàna.ˈ </div>\n",
       "\n",
       "</div>\n",
       "</div>\n",
       "</div>\n",
       "</div>"
      ],
      "text/plain": [
       "<IPython.core.display.HTML object>"
      ]
     },
     "metadata": {},
     "output_type": "display_data"
    },
    {
     "data": {
      "text/html": [
       "<p><b>result</b> <i>75</i></p>"
      ],
      "text/plain": [
       "<IPython.core.display.HTML object>"
      ]
     },
     "metadata": {},
     "output_type": "display_data"
    },
    {
     "data": {
      "text/html": [
       "<div class=\"outeritem\">\n",
       "<div class=\"None  \" >\n",
       "\n",
       "    <div class=\"ll\">\n",
       "        <div class=\"line\"><a href=\"https://github.com/CambridgeSemiticsLab/nena_corpus/blob/master/nena/0.01/Barwar/A Hundred Gold Coins.nena\" title=\"see this passage in its source document\" sec=\"Barwar\">Barwar</a></div>\n",
       "\n",
       "        <div class=\"features\"> <span class=\"dialect xft\"><span class=\"f\">dialect=</span>Barwar</span></div>\n",
       "    </div>\n",
       "\n",
       "</div>\n",
       "</div>"
      ],
      "text/plain": [
       "<IPython.core.display.HTML object>"
      ]
     },
     "metadata": {},
     "output_type": "display_data"
    },
    {
     "data": {
      "text/html": [
       "<a href=\"https://github.com/CambridgeSemiticsLab/nena_corpus/blob/master/nena/0.01/Barwar/Tales From the 1001 Nights.nena\" title=\"see this passage in its source document\" sec=\"Barwar, Tales From the 1001 Nights, Ln. 8\">Barwar, Tales From the 1001 Nights, Ln. 8</a>\n",
       "<div class=\"outeritem\">\n",
       "<div class=\"macro  \" >\n",
       "\n",
       "<div class=\"prosa  \" >\n",
       "\n",
       "<div class=\"word  hl\" >\n",
       "<div class=\"ara\">qəm-qarèle,ˈ </div>\n",
       "\n",
       "</div>\n",
       "</div>\n",
       "<div class=\"prosa  \" >\n",
       "\n",
       "<div class=\"word  \" >\n",
       "<div class=\"ara\">mə́re </div>\n",
       "\n",
       "</div>\n",
       "<div class=\"word  \" >\n",
       "<div class=\"ara\">Kărī̀m!ˈ </div>\n",
       "\n",
       "</div>\n",
       "</div>\n",
       "</div>\n",
       "</div>"
      ],
      "text/plain": [
       "<IPython.core.display.HTML object>"
      ]
     },
     "metadata": {},
     "output_type": "display_data"
    },
    {
     "data": {
      "text/html": [
       "<p><b>result</b> <i>76</i></p>"
      ],
      "text/plain": [
       "<IPython.core.display.HTML object>"
      ]
     },
     "metadata": {},
     "output_type": "display_data"
    },
    {
     "data": {
      "text/html": [
       "<div class=\"outeritem\">\n",
       "<div class=\"None  \" >\n",
       "\n",
       "    <div class=\"ll\">\n",
       "        <div class=\"line\"><a href=\"https://github.com/CambridgeSemiticsLab/nena_corpus/blob/master/nena/0.01/Barwar/A Hundred Gold Coins.nena\" title=\"see this passage in its source document\" sec=\"Barwar\">Barwar</a></div>\n",
       "\n",
       "        <div class=\"features\"> <span class=\"dialect xft\"><span class=\"f\">dialect=</span>Barwar</span></div>\n",
       "    </div>\n",
       "\n",
       "</div>\n",
       "</div>"
      ],
      "text/plain": [
       "<IPython.core.display.HTML object>"
      ]
     },
     "metadata": {},
     "output_type": "display_data"
    },
    {
     "data": {
      "text/html": [
       "<a href=\"https://github.com/CambridgeSemiticsLab/nena_corpus/blob/master/nena/0.01/Barwar/Tales From the 1001 Nights.nena\" title=\"see this passage in its source document\" sec=\"Barwar, Tales From the 1001 Nights, Ln. 19\">Barwar, Tales From the 1001 Nights, Ln. 19</a>\n",
       "<div class=\"outeritem\">\n",
       "<div class=\"macro  \" >\n",
       "\n",
       "<div class=\"prosa  \" >\n",
       "\n",
       "<div class=\"word  \" >\n",
       "<div class=\"ara\">ʾáwwa </div>\n",
       "\n",
       "</div>\n",
       "<div class=\"word  \" >\n",
       "<div class=\"ara\">dúša </div>\n",
       "\n",
       "</div>\n",
       "<div class=\"word  \" >\n",
       "<div class=\"ara\">t-wéwa </div>\n",
       "\n",
       "</div>\n",
       "<div class=\"word  \" >\n",
       "<div class=\"ara\">pyàšaˈ </div>\n",
       "\n",
       "</div>\n",
       "</div>\n",
       "<div class=\"prosa  \" >\n",
       "\n",
       "<div class=\"word  \" >\n",
       "<div class=\"ara\">kúlla </div>\n",
       "\n",
       "</div>\n",
       "<div class=\"word  hl\" >\n",
       "<div class=\"ara\">qəm-daréle </div>\n",
       "\n",
       "</div>\n",
       "<div class=\"word  \" >\n",
       "<div class=\"ara\">gu-d-an-guðanyàθaˈ </div>\n",
       "\n",
       "</div>\n",
       "</div>\n",
       "<div class=\"prosa  \" >\n",
       "\n",
       "<div class=\"word  \" >\n",
       "<div class=\"ara\">ʾu-grìšla.ˈ </div>\n",
       "\n",
       "</div>\n",
       "</div>\n",
       "</div>\n",
       "</div>"
      ],
      "text/plain": [
       "<IPython.core.display.HTML object>"
      ]
     },
     "metadata": {},
     "output_type": "display_data"
    },
    {
     "data": {
      "text/html": [
       "<p><b>result</b> <i>77</i></p>"
      ],
      "text/plain": [
       "<IPython.core.display.HTML object>"
      ]
     },
     "metadata": {},
     "output_type": "display_data"
    },
    {
     "data": {
      "text/html": [
       "<div class=\"outeritem\">\n",
       "<div class=\"None  \" >\n",
       "\n",
       "    <div class=\"ll\">\n",
       "        <div class=\"line\"><a href=\"https://github.com/CambridgeSemiticsLab/nena_corpus/blob/master/nena/0.01/Barwar/A Hundred Gold Coins.nena\" title=\"see this passage in its source document\" sec=\"Barwar\">Barwar</a></div>\n",
       "\n",
       "        <div class=\"features\"> <span class=\"dialect xft\"><span class=\"f\">dialect=</span>Barwar</span></div>\n",
       "    </div>\n",
       "\n",
       "</div>\n",
       "</div>"
      ],
      "text/plain": [
       "<IPython.core.display.HTML object>"
      ]
     },
     "metadata": {},
     "output_type": "display_data"
    },
    {
     "data": {
      "text/html": [
       "<a href=\"https://github.com/CambridgeSemiticsLab/nena_corpus/blob/master/nena/0.01/Barwar/Tales From the 1001 Nights.nena\" title=\"see this passage in its source document\" sec=\"Barwar, Tales From the 1001 Nights, Ln. 20\">Barwar, Tales From the 1001 Nights, Ln. 20</a>\n",
       "<div class=\"outeritem\">\n",
       "<div class=\"macro  \" >\n",
       "\n",
       "<div class=\"prosa  \" >\n",
       "\n",
       "<div class=\"word  \" >\n",
       "<div class=\"ara\">zílla </div>\n",
       "\n",
       "</div>\n",
       "<div class=\"word  \" >\n",
       "<div class=\"ara\">xmára </div>\n",
       "\n",
       "</div>\n",
       "<div class=\"word  hl\" >\n",
       "<div class=\"ara\">qəm-qaṭlìle.ˈ </div>\n",
       "\n",
       "</div>\n",
       "</div>\n",
       "</div>\n",
       "</div>"
      ],
      "text/plain": [
       "<IPython.core.display.HTML object>"
      ]
     },
     "metadata": {},
     "output_type": "display_data"
    },
    {
     "data": {
      "text/html": [
       "<p><b>result</b> <i>78</i></p>"
      ],
      "text/plain": [
       "<IPython.core.display.HTML object>"
      ]
     },
     "metadata": {},
     "output_type": "display_data"
    },
    {
     "data": {
      "text/html": [
       "<div class=\"outeritem\">\n",
       "<div class=\"None  \" >\n",
       "\n",
       "    <div class=\"ll\">\n",
       "        <div class=\"line\"><a href=\"https://github.com/CambridgeSemiticsLab/nena_corpus/blob/master/nena/0.01/Barwar/A Hundred Gold Coins.nena\" title=\"see this passage in its source document\" sec=\"Barwar\">Barwar</a></div>\n",
       "\n",
       "        <div class=\"features\"> <span class=\"dialect xft\"><span class=\"f\">dialect=</span>Barwar</span></div>\n",
       "    </div>\n",
       "\n",
       "</div>\n",
       "</div>"
      ],
      "text/plain": [
       "<IPython.core.display.HTML object>"
      ]
     },
     "metadata": {},
     "output_type": "display_data"
    },
    {
     "data": {
      "text/html": [
       "<a href=\"https://github.com/CambridgeSemiticsLab/nena_corpus/blob/master/nena/0.01/Barwar/Tales From the 1001 Nights.nena\" title=\"see this passage in its source document\" sec=\"Barwar, Tales From the 1001 Nights, Ln. 23\">Barwar, Tales From the 1001 Nights, Ln. 23</a>\n",
       "<div class=\"outeritem\">\n",
       "<div class=\"macro  \" >\n",
       "\n",
       "<div class=\"prosa  \" >\n",
       "\n",
       "<div class=\"word  hl\" >\n",
       "<div class=\"ara\">qəm-darə́tli </div>\n",
       "\n",
       "</div>\n",
       "<div class=\"word  \" >\n",
       "<div class=\"ara\">gu-d-áwwa </div>\n",
       "\n",
       "</div>\n",
       "<div class=\"word  \" >\n",
       "<div class=\"ara\">qùnya.ˈ </div>\n",
       "\n",
       "</div>\n",
       "</div>\n",
       "</div>\n",
       "</div>"
      ],
      "text/plain": [
       "<IPython.core.display.HTML object>"
      ]
     },
     "metadata": {},
     "output_type": "display_data"
    },
    {
     "data": {
      "text/html": [
       "<p><b>result</b> <i>79</i></p>"
      ],
      "text/plain": [
       "<IPython.core.display.HTML object>"
      ]
     },
     "metadata": {},
     "output_type": "display_data"
    },
    {
     "data": {
      "text/html": [
       "<div class=\"outeritem\">\n",
       "<div class=\"None  \" >\n",
       "\n",
       "    <div class=\"ll\">\n",
       "        <div class=\"line\"><a href=\"https://github.com/CambridgeSemiticsLab/nena_corpus/blob/master/nena/0.01/Barwar/A Hundred Gold Coins.nena\" title=\"see this passage in its source document\" sec=\"Barwar\">Barwar</a></div>\n",
       "\n",
       "        <div class=\"features\"> <span class=\"dialect xft\"><span class=\"f\">dialect=</span>Barwar</span></div>\n",
       "    </div>\n",
       "\n",
       "</div>\n",
       "</div>"
      ],
      "text/plain": [
       "<IPython.core.display.HTML object>"
      ]
     },
     "metadata": {},
     "output_type": "display_data"
    },
    {
     "data": {
      "text/html": [
       "<a href=\"https://github.com/CambridgeSemiticsLab/nena_corpus/blob/master/nena/0.01/Barwar/Tales From the 1001 Nights.nena\" title=\"see this passage in its source document\" sec=\"Barwar, Tales From the 1001 Nights, Ln. 35\">Barwar, Tales From the 1001 Nights, Ln. 35</a>\n",
       "<div class=\"outeritem\">\n",
       "<div class=\"macro  \" >\n",
       "\n",
       "<div class=\"prosa  \" >\n",
       "\n",
       "<div class=\"word  \" >\n",
       "<div class=\"ara\">mə́re </div>\n",
       "\n",
       "</div>\n",
       "<div class=\"word  \" >\n",
       "<div class=\"ara\">malə̀kθa </div>\n",
       "\n",
       "</div>\n",
       "<div class=\"word  \" >\n",
       "<div class=\"ara\">ṱ-óyət </div>\n",
       "\n",
       "</div>\n",
       "<div class=\"word  \" >\n",
       "<div class=\"ara\">basímta,ˈ </div>\n",
       "\n",
       "</div>\n",
       "</div>\n",
       "<div class=\"prosa  \" >\n",
       "\n",
       "<div class=\"word  \" >\n",
       "<div class=\"ara\">malə́kθət </div>\n",
       "\n",
       "</div>\n",
       "<div class=\"word  \" >\n",
       "<div class=\"ara\">xuwwăwàθa,ˈ </div>\n",
       "\n",
       "</div>\n",
       "</div>\n",
       "<div class=\"prosa  \" >\n",
       "\n",
       "<div class=\"word  \" >\n",
       "<div class=\"ara\">mə̀reˈ </div>\n",
       "\n",
       "</div>\n",
       "</div>\n",
       "<div class=\"prosa  \" >\n",
       "\n",
       "<div class=\"word  \" >\n",
       "<div class=\"ara\">ʾáti </div>\n",
       "\n",
       "</div>\n",
       "<div class=\"word  hl\" >\n",
       "<div class=\"ara\">qəm-xalṣàtliˈ </div>\n",
       "\n",
       "</div>\n",
       "</div>\n",
       "<div class=\"prosa  \" >\n",
       "\n",
       "<div class=\"word  \" >\n",
       "<div class=\"ara\">mən-d-áwwa </div>\n",
       "\n",
       "</div>\n",
       "<div class=\"word  \" >\n",
       "<div class=\"ara\">mòθa.ˈ </div>\n",
       "\n",
       "</div>\n",
       "</div>\n",
       "</div>\n",
       "</div>"
      ],
      "text/plain": [
       "<IPython.core.display.HTML object>"
      ]
     },
     "metadata": {},
     "output_type": "display_data"
    },
    {
     "data": {
      "text/html": [
       "<p><b>result</b> <i>80</i></p>"
      ],
      "text/plain": [
       "<IPython.core.display.HTML object>"
      ]
     },
     "metadata": {},
     "output_type": "display_data"
    },
    {
     "data": {
      "text/html": [
       "<div class=\"outeritem\">\n",
       "<div class=\"None  \" >\n",
       "\n",
       "    <div class=\"ll\">\n",
       "        <div class=\"line\"><a href=\"https://github.com/CambridgeSemiticsLab/nena_corpus/blob/master/nena/0.01/Barwar/A Hundred Gold Coins.nena\" title=\"see this passage in its source document\" sec=\"Barwar\">Barwar</a></div>\n",
       "\n",
       "        <div class=\"features\"> <span class=\"dialect xft\"><span class=\"f\">dialect=</span>Barwar</span></div>\n",
       "    </div>\n",
       "\n",
       "</div>\n",
       "</div>"
      ],
      "text/plain": [
       "<IPython.core.display.HTML object>"
      ]
     },
     "metadata": {},
     "output_type": "display_data"
    },
    {
     "data": {
      "text/html": [
       "<a href=\"https://github.com/CambridgeSemiticsLab/nena_corpus/blob/master/nena/0.01/Barwar/Tales From the 1001 Nights.nena\" title=\"see this passage in its source document\" sec=\"Barwar, Tales From the 1001 Nights, Ln. 38\">Barwar, Tales From the 1001 Nights, Ln. 38</a>\n",
       "<div class=\"outeritem\">\n",
       "<div class=\"macro  \" >\n",
       "\n",
       "<div class=\"prosa  \" >\n",
       "\n",
       "<div class=\"word  hl\" >\n",
       "<div class=\"ara\">qəm-axlìla-wˈ </div>\n",
       "\n",
       "</div>\n",
       "</div>\n",
       "<div class=\"prosa  \" >\n",
       "\n",
       "<div class=\"word  \" >\n",
       "<div class=\"ara\">xìlla </div>\n",
       "\n",
       "</div>\n",
       "<div class=\"word  \" >\n",
       "<div class=\"ara\">ʾo-bə́sraˈ </div>\n",
       "\n",
       "</div>\n",
       "</div>\n",
       "<div class=\"prosa  \" >\n",
       "\n",
       "<div class=\"word  \" >\n",
       "<div class=\"ara\">ʾu-štéla </div>\n",
       "\n",
       "</div>\n",
       "<div class=\"word  \" >\n",
       "<div class=\"ara\">m-an-míyət </div>\n",
       "\n",
       "</div>\n",
       "<div class=\"word  \" >\n",
       "<div class=\"ara\">bằḥar.ˈ </div>\n",
       "\n",
       "</div>\n",
       "</div>\n",
       "</div>\n",
       "</div>"
      ],
      "text/plain": [
       "<IPython.core.display.HTML object>"
      ]
     },
     "metadata": {},
     "output_type": "display_data"
    },
    {
     "data": {
      "text/html": [
       "<p><b>result</b> <i>81</i></p>"
      ],
      "text/plain": [
       "<IPython.core.display.HTML object>"
      ]
     },
     "metadata": {},
     "output_type": "display_data"
    },
    {
     "data": {
      "text/html": [
       "<div class=\"outeritem\">\n",
       "<div class=\"None  \" >\n",
       "\n",
       "    <div class=\"ll\">\n",
       "        <div class=\"line\"><a href=\"https://github.com/CambridgeSemiticsLab/nena_corpus/blob/master/nena/0.01/Barwar/A Hundred Gold Coins.nena\" title=\"see this passage in its source document\" sec=\"Barwar\">Barwar</a></div>\n",
       "\n",
       "        <div class=\"features\"> <span class=\"dialect xft\"><span class=\"f\">dialect=</span>Barwar</span></div>\n",
       "    </div>\n",
       "\n",
       "</div>\n",
       "</div>"
      ],
      "text/plain": [
       "<IPython.core.display.HTML object>"
      ]
     },
     "metadata": {},
     "output_type": "display_data"
    },
    {
     "data": {
      "text/html": [
       "<a href=\"https://github.com/CambridgeSemiticsLab/nena_corpus/blob/master/nena/0.01/Barwar/Tales From the 1001 Nights.nena\" title=\"see this passage in its source document\" sec=\"Barwar, Tales From the 1001 Nights, Ln. 58\">Barwar, Tales From the 1001 Nights, Ln. 58</a>\n",
       "<div class=\"outeritem\">\n",
       "<div class=\"macro  \" >\n",
       "\n",
       "<div class=\"prosa  \" >\n",
       "\n",
       "<div class=\"word  \" >\n",
       "<div class=\"ara\">xa-mən-wăzìreˈ </div>\n",
       "\n",
       "</div>\n",
       "</div>\n",
       "<div class=\"prosa  \" >\n",
       "\n",
       "<div class=\"word  \" >\n",
       "<div class=\"ara\">šəkwáne </div>\n",
       "\n",
       "</div>\n",
       "<div class=\"word  hl\" >\n",
       "<div class=\"ara\">qəm-axlìle,ˈ </div>\n",
       "\n",
       "</div>\n",
       "</div>\n",
       "<div class=\"prosa  \" >\n",
       "\n",
       "<div class=\"word  \" >\n",
       "<div class=\"ara\">xa-wăzìr.ˈ </div>\n",
       "\n",
       "</div>\n",
       "</div>\n",
       "</div>\n",
       "</div>"
      ],
      "text/plain": [
       "<IPython.core.display.HTML object>"
      ]
     },
     "metadata": {},
     "output_type": "display_data"
    },
    {
     "data": {
      "text/html": [
       "<p><b>result</b> <i>82</i></p>"
      ],
      "text/plain": [
       "<IPython.core.display.HTML object>"
      ]
     },
     "metadata": {},
     "output_type": "display_data"
    },
    {
     "data": {
      "text/html": [
       "<div class=\"outeritem\">\n",
       "<div class=\"None  \" >\n",
       "\n",
       "    <div class=\"ll\">\n",
       "        <div class=\"line\"><a href=\"https://github.com/CambridgeSemiticsLab/nena_corpus/blob/master/nena/0.01/Barwar/A Hundred Gold Coins.nena\" title=\"see this passage in its source document\" sec=\"Barwar\">Barwar</a></div>\n",
       "\n",
       "        <div class=\"features\"> <span class=\"dialect xft\"><span class=\"f\">dialect=</span>Barwar</span></div>\n",
       "    </div>\n",
       "\n",
       "</div>\n",
       "</div>"
      ],
      "text/plain": [
       "<IPython.core.display.HTML object>"
      ]
     },
     "metadata": {},
     "output_type": "display_data"
    },
    {
     "data": {
      "text/html": [
       "<a href=\"https://github.com/CambridgeSemiticsLab/nena_corpus/blob/master/nena/0.01/Barwar/Tales From the 1001 Nights.nena\" title=\"see this passage in its source document\" sec=\"Barwar, Tales From the 1001 Nights, Ln. 64\">Barwar, Tales From the 1001 Nights, Ln. 64</a>\n",
       "<div class=\"outeritem\">\n",
       "<div class=\"macro  \" >\n",
       "\n",
       "<div class=\"prosa  \" >\n",
       "\n",
       "<div class=\"word  hl\" >\n",
       "<div class=\"ara\">qəm-xazèleˈ </div>\n",
       "\n",
       "</div>\n",
       "</div>\n",
       "<div class=\"prosa  \" >\n",
       "\n",
       "<div class=\"word  \" >\n",
       "<div class=\"ara\">mə́re </div>\n",
       "\n",
       "</div>\n",
       "<div class=\"word  \" >\n",
       "<div class=\"ara\">là,ˈ </div>\n",
       "\n",
       "</div>\n",
       "</div>\n",
       "<div class=\"prosa  \" >\n",
       "\n",
       "<div class=\"word  \" >\n",
       "<div class=\"ara\">xṭìθux,ˈ </div>\n",
       "\n",
       "</div>\n",
       "</div>\n",
       "<div class=\"prosa  \" >\n",
       "\n",
       "<div class=\"word  \" >\n",
       "<div class=\"ara\">ʾáti </div>\n",
       "\n",
       "</div>\n",
       "<div class=\"word  \" >\n",
       "<div class=\"ara\">yàla.ˈ </div>\n",
       "\n",
       "</div>\n",
       "</div>\n",
       "</div>\n",
       "</div>"
      ],
      "text/plain": [
       "<IPython.core.display.HTML object>"
      ]
     },
     "metadata": {},
     "output_type": "display_data"
    },
    {
     "data": {
      "text/html": [
       "<p><b>result</b> <i>83</i></p>"
      ],
      "text/plain": [
       "<IPython.core.display.HTML object>"
      ]
     },
     "metadata": {},
     "output_type": "display_data"
    },
    {
     "data": {
      "text/html": [
       "<div class=\"outeritem\">\n",
       "<div class=\"None  \" >\n",
       "\n",
       "    <div class=\"ll\">\n",
       "        <div class=\"line\"><a href=\"https://github.com/CambridgeSemiticsLab/nena_corpus/blob/master/nena/0.01/Barwar/A Hundred Gold Coins.nena\" title=\"see this passage in its source document\" sec=\"Barwar\">Barwar</a></div>\n",
       "\n",
       "        <div class=\"features\"> <span class=\"dialect xft\"><span class=\"f\">dialect=</span>Barwar</span></div>\n",
       "    </div>\n",
       "\n",
       "</div>\n",
       "</div>"
      ],
      "text/plain": [
       "<IPython.core.display.HTML object>"
      ]
     },
     "metadata": {},
     "output_type": "display_data"
    },
    {
     "data": {
      "text/html": [
       "<a href=\"https://github.com/CambridgeSemiticsLab/nena_corpus/blob/master/nena/0.01/Barwar/Tales From the 1001 Nights.nena\" title=\"see this passage in its source document\" sec=\"Barwar, Tales From the 1001 Nights, Ln. 88\">Barwar, Tales From the 1001 Nights, Ln. 88</a>\n",
       "<div class=\"outeritem\">\n",
       "<div class=\"macro  \" >\n",
       "\n",
       "<div class=\"prosa  \" >\n",
       "\n",
       "<div class=\"word  hl\" >\n",
       "<div class=\"ara\">qəm-mbaqràleˈ </div>\n",
       "\n",
       "</div>\n",
       "</div>\n",
       "<div class=\"prosa  \" >\n",
       "\n",
       "<div class=\"word  \" >\n",
       "<div class=\"ara\">mə́ra </div>\n",
       "\n",
       "</div>\n",
       "<div class=\"word  \" >\n",
       "<div class=\"ara\">ta-mò?ˈ </div>\n",
       "\n",
       "</div>\n",
       "</div>\n",
       "</div>\n",
       "</div>"
      ],
      "text/plain": [
       "<IPython.core.display.HTML object>"
      ]
     },
     "metadata": {},
     "output_type": "display_data"
    },
    {
     "data": {
      "text/html": [
       "<p><b>result</b> <i>84</i></p>"
      ],
      "text/plain": [
       "<IPython.core.display.HTML object>"
      ]
     },
     "metadata": {},
     "output_type": "display_data"
    },
    {
     "data": {
      "text/html": [
       "<div class=\"outeritem\">\n",
       "<div class=\"None  \" >\n",
       "\n",
       "    <div class=\"ll\">\n",
       "        <div class=\"line\"><a href=\"https://github.com/CambridgeSemiticsLab/nena_corpus/blob/master/nena/0.01/Barwar/A Hundred Gold Coins.nena\" title=\"see this passage in its source document\" sec=\"Barwar\">Barwar</a></div>\n",
       "\n",
       "        <div class=\"features\"> <span class=\"dialect xft\"><span class=\"f\">dialect=</span>Barwar</span></div>\n",
       "    </div>\n",
       "\n",
       "</div>\n",
       "</div>"
      ],
      "text/plain": [
       "<IPython.core.display.HTML object>"
      ]
     },
     "metadata": {},
     "output_type": "display_data"
    },
    {
     "data": {
      "text/html": [
       "<a href=\"https://github.com/CambridgeSemiticsLab/nena_corpus/blob/master/nena/0.01/Barwar/Tales From the 1001 Nights.nena\" title=\"see this passage in its source document\" sec=\"Barwar, Tales From the 1001 Nights, Ln. 93\">Barwar, Tales From the 1001 Nights, Ln. 93</a>\n",
       "<div class=\"outeritem\">\n",
       "<div class=\"macro  \" >\n",
       "\n",
       "<div class=\"prosa  \" >\n",
       "\n",
       "<div class=\"word  hl\" >\n",
       "<div class=\"ara\">ʾo-t-qəm-xazéle </div>\n",
       "\n",
       "</div>\n",
       "<div class=\"word  \" >\n",
       "<div class=\"ara\">rìqaˈ </div>\n",
       "\n",
       "</div>\n",
       "</div>\n",
       "<div class=\"prosa  \" >\n",
       "\n",
       "<div class=\"word  \" >\n",
       "<div class=\"ara\">lázəm </div>\n",
       "\n",
       "</div>\n",
       "<div class=\"word  \" >\n",
       "<div class=\"ara\">ṱ-ámər </div>\n",
       "\n",
       "</div>\n",
       "<div class=\"word  \" >\n",
       "<div class=\"ara\">ta-màlka.ˈ </div>\n",
       "\n",
       "</div>\n",
       "</div>\n",
       "</div>\n",
       "</div>"
      ],
      "text/plain": [
       "<IPython.core.display.HTML object>"
      ]
     },
     "metadata": {},
     "output_type": "display_data"
    },
    {
     "data": {
      "text/html": [
       "<p><b>result</b> <i>85</i></p>"
      ],
      "text/plain": [
       "<IPython.core.display.HTML object>"
      ]
     },
     "metadata": {},
     "output_type": "display_data"
    },
    {
     "data": {
      "text/html": [
       "<div class=\"outeritem\">\n",
       "<div class=\"None  \" >\n",
       "\n",
       "    <div class=\"ll\">\n",
       "        <div class=\"line\"><a href=\"https://github.com/CambridgeSemiticsLab/nena_corpus/blob/master/nena/0.01/Barwar/A Hundred Gold Coins.nena\" title=\"see this passage in its source document\" sec=\"Barwar\">Barwar</a></div>\n",
       "\n",
       "        <div class=\"features\"> <span class=\"dialect xft\"><span class=\"f\">dialect=</span>Barwar</span></div>\n",
       "    </div>\n",
       "\n",
       "</div>\n",
       "</div>"
      ],
      "text/plain": [
       "<IPython.core.display.HTML object>"
      ]
     },
     "metadata": {},
     "output_type": "display_data"
    },
    {
     "data": {
      "text/html": [
       "<a href=\"https://github.com/CambridgeSemiticsLab/nena_corpus/blob/master/nena/0.01/Barwar/Tales From the 1001 Nights.nena\" title=\"see this passage in its source document\" sec=\"Barwar, Tales From the 1001 Nights, Ln. 96\">Barwar, Tales From the 1001 Nights, Ln. 96</a>\n",
       "<div class=\"outeritem\">\n",
       "<div class=\"macro  \" >\n",
       "\n",
       "<div class=\"prosa  \" >\n",
       "\n",
       "<div class=\"word  hl\" >\n",
       "<div class=\"ara\">qəm-mɛθéla </div>\n",
       "\n",
       "</div>\n",
       "<div class=\"word  \" >\n",
       "<div class=\"ara\">ðá </div>\n",
       "\n",
       "</div>\n",
       "<div class=\"word  \" >\n",
       "<div class=\"ara\">mənne-dìye,ˈ </div>\n",
       "\n",
       "</div>\n",
       "</div>\n",
       "<div class=\"prosa  \" >\n",
       "\n",
       "<div class=\"word  \" >\n",
       "<div class=\"ara\">ràba </div>\n",
       "\n",
       "</div>\n",
       "<div class=\"word  \" >\n",
       "<div class=\"ara\">xðéle </div>\n",
       "\n",
       "</div>\n",
       "<div class=\"word  \" >\n",
       "<div class=\"ara\">b-d-a-bràta.ˈ </div>\n",
       "\n",
       "</div>\n",
       "</div>\n",
       "</div>\n",
       "</div>"
      ],
      "text/plain": [
       "<IPython.core.display.HTML object>"
      ]
     },
     "metadata": {},
     "output_type": "display_data"
    },
    {
     "data": {
      "text/html": [
       "<p><b>result</b> <i>86</i></p>"
      ],
      "text/plain": [
       "<IPython.core.display.HTML object>"
      ]
     },
     "metadata": {},
     "output_type": "display_data"
    },
    {
     "data": {
      "text/html": [
       "<div class=\"outeritem\">\n",
       "<div class=\"None  \" >\n",
       "\n",
       "    <div class=\"ll\">\n",
       "        <div class=\"line\"><a href=\"https://github.com/CambridgeSemiticsLab/nena_corpus/blob/master/nena/0.01/Barwar/A Hundred Gold Coins.nena\" title=\"see this passage in its source document\" sec=\"Barwar\">Barwar</a></div>\n",
       "\n",
       "        <div class=\"features\"> <span class=\"dialect xft\"><span class=\"f\">dialect=</span>Barwar</span></div>\n",
       "    </div>\n",
       "\n",
       "</div>\n",
       "</div>"
      ],
      "text/plain": [
       "<IPython.core.display.HTML object>"
      ]
     },
     "metadata": {},
     "output_type": "display_data"
    },
    {
     "data": {
      "text/html": [
       "<a href=\"https://github.com/CambridgeSemiticsLab/nena_corpus/blob/master/nena/0.01/Barwar/Tales From the 1001 Nights.nena\" title=\"see this passage in its source document\" sec=\"Barwar, Tales From the 1001 Nights, Ln. 96\">Barwar, Tales From the 1001 Nights, Ln. 96</a>\n",
       "<div class=\"outeritem\">\n",
       "<div class=\"macro  \" >\n",
       "\n",
       "<div class=\"prosa  \" >\n",
       "\n",
       "<div class=\"word  \" >\n",
       "<div class=\"ara\">ʾu-ʾítwala </div>\n",
       "\n",
       "</div>\n",
       "<div class=\"word  \" >\n",
       "<div class=\"ara\">ʾánna </div>\n",
       "\n",
       "</div>\n",
       "<div class=\"word  \" >\n",
       "<div class=\"ara\">júllət </div>\n",
       "\n",
       "</div>\n",
       "<div class=\"word  \" >\n",
       "<div class=\"ara\">prìxla </div>\n",
       "\n",
       "</div>\n",
       "<div class=\"word  \" >\n",
       "<div class=\"ara\">bíya,ˈ </div>\n",
       "\n",
       "</div>\n",
       "</div>\n",
       "<div class=\"prosa  \" >\n",
       "\n",
       "<div class=\"word  hl\" >\n",
       "<div class=\"ara\">qəm-ṭɛnáli </div>\n",
       "\n",
       "</div>\n",
       "<div class=\"word  \" >\n",
       "<div class=\"ara\">xáṣa </div>\n",
       "\n",
       "</div>\n",
       "<div class=\"word  \" >\n",
       "<div class=\"ara\">dìya,ˈ </div>\n",
       "\n",
       "</div>\n",
       "</div>\n",
       "<div class=\"prosa  \" >\n",
       "\n",
       "<div class=\"word  \" >\n",
       "<div class=\"ara\">hàtxa,ˈ </div>\n",
       "\n",
       "</div>\n",
       "</div>\n",
       "<div class=\"prosa  \" >\n",
       "\n",
       "<div class=\"word  \" >\n",
       "<div class=\"ara\">hàtxa,ˈ </div>\n",
       "\n",
       "</div>\n",
       "</div>\n",
       "<div class=\"prosa  \" >\n",
       "\n",
       "<div class=\"word  \" >\n",
       "<div class=\"ara\">θélən </div>\n",
       "\n",
       "</div>\n",
       "<div class=\"word  \" >\n",
       "<div class=\"ara\">làxxa.ˈ </div>\n",
       "\n",
       "</div>\n",
       "</div>\n",
       "</div>\n",
       "</div>"
      ],
      "text/plain": [
       "<IPython.core.display.HTML object>"
      ]
     },
     "metadata": {},
     "output_type": "display_data"
    },
    {
     "data": {
      "text/html": [
       "<p><b>result</b> <i>87</i></p>"
      ],
      "text/plain": [
       "<IPython.core.display.HTML object>"
      ]
     },
     "metadata": {},
     "output_type": "display_data"
    },
    {
     "data": {
      "text/html": [
       "<div class=\"outeritem\">\n",
       "<div class=\"None  \" >\n",
       "\n",
       "    <div class=\"ll\">\n",
       "        <div class=\"line\"><a href=\"https://github.com/CambridgeSemiticsLab/nena_corpus/blob/master/nena/0.01/Barwar/A Hundred Gold Coins.nena\" title=\"see this passage in its source document\" sec=\"Barwar\">Barwar</a></div>\n",
       "\n",
       "        <div class=\"features\"> <span class=\"dialect xft\"><span class=\"f\">dialect=</span>Barwar</span></div>\n",
       "    </div>\n",
       "\n",
       "</div>\n",
       "</div>"
      ],
      "text/plain": [
       "<IPython.core.display.HTML object>"
      ]
     },
     "metadata": {},
     "output_type": "display_data"
    },
    {
     "data": {
      "text/html": [
       "<a href=\"https://github.com/CambridgeSemiticsLab/nena_corpus/blob/master/nena/0.01/Barwar/Tales From the 1001 Nights.nena\" title=\"see this passage in its source document\" sec=\"Barwar, Tales From the 1001 Nights, Ln. 97\">Barwar, Tales From the 1001 Nights, Ln. 97</a>\n",
       "<div class=\"outeritem\">\n",
       "<div class=\"macro  \" >\n",
       "\n",
       "<div class=\"prosa  \" >\n",
       "\n",
       "<div class=\"word  \" >\n",
       "<div class=\"ara\">zílle </div>\n",
       "\n",
       "</div>\n",
       "<div class=\"word  hl\" >\n",
       "<div class=\"ara\">qəm-qaréla </div>\n",
       "\n",
       "</div>\n",
       "<div class=\"word  \" >\n",
       "<div class=\"ara\">ʾa-bràta.ˈ </div>\n",
       "\n",
       "</div>\n",
       "</div>\n",
       "</div>\n",
       "</div>"
      ],
      "text/plain": [
       "<IPython.core.display.HTML object>"
      ]
     },
     "metadata": {},
     "output_type": "display_data"
    },
    {
     "data": {
      "text/html": [
       "<p><b>result</b> <i>88</i></p>"
      ],
      "text/plain": [
       "<IPython.core.display.HTML object>"
      ]
     },
     "metadata": {},
     "output_type": "display_data"
    },
    {
     "data": {
      "text/html": [
       "<div class=\"outeritem\">\n",
       "<div class=\"None  \" >\n",
       "\n",
       "    <div class=\"ll\">\n",
       "        <div class=\"line\"><a href=\"https://github.com/CambridgeSemiticsLab/nena_corpus/blob/master/nena/0.01/Barwar/A Hundred Gold Coins.nena\" title=\"see this passage in its source document\" sec=\"Barwar\">Barwar</a></div>\n",
       "\n",
       "        <div class=\"features\"> <span class=\"dialect xft\"><span class=\"f\">dialect=</span>Barwar</span></div>\n",
       "    </div>\n",
       "\n",
       "</div>\n",
       "</div>"
      ],
      "text/plain": [
       "<IPython.core.display.HTML object>"
      ]
     },
     "metadata": {},
     "output_type": "display_data"
    },
    {
     "data": {
      "text/html": [
       "<a href=\"https://github.com/CambridgeSemiticsLab/nena_corpus/blob/master/nena/0.01/Barwar/Tales From the 1001 Nights.nena\" title=\"see this passage in its source document\" sec=\"Barwar, Tales From the 1001 Nights, Ln. 101\">Barwar, Tales From the 1001 Nights, Ln. 101</a>\n",
       "<div class=\"outeritem\">\n",
       "<div class=\"macro  \" >\n",
       "\n",
       "<div class=\"prosa  \" >\n",
       "\n",
       "<div class=\"word  \" >\n",
       "<div class=\"ara\">xpìrra,ˈ </div>\n",
       "\n",
       "</div>\n",
       "</div>\n",
       "<div class=\"prosa  \" >\n",
       "\n",
       "<div class=\"word  hl\" >\n",
       "<div class=\"ara\">qəm-palṭàle </div>\n",
       "\n",
       "</div>\n",
       "<div class=\"word  \" >\n",
       "<div class=\"ara\">sandúqət </div>\n",
       "\n",
       "</div>\n",
       "<div class=\"word  \" >\n",
       "<div class=\"ara\">júlle.ˈ </div>\n",
       "\n",
       "</div>\n",
       "</div>\n",
       "</div>\n",
       "</div>"
      ],
      "text/plain": [
       "<IPython.core.display.HTML object>"
      ]
     },
     "metadata": {},
     "output_type": "display_data"
    },
    {
     "data": {
      "text/html": [
       "<p><b>result</b> <i>89</i></p>"
      ],
      "text/plain": [
       "<IPython.core.display.HTML object>"
      ]
     },
     "metadata": {},
     "output_type": "display_data"
    },
    {
     "data": {
      "text/html": [
       "<div class=\"outeritem\">\n",
       "<div class=\"None  \" >\n",
       "\n",
       "    <div class=\"ll\">\n",
       "        <div class=\"line\"><a href=\"https://github.com/CambridgeSemiticsLab/nena_corpus/blob/master/nena/0.01/Barwar/A Hundred Gold Coins.nena\" title=\"see this passage in its source document\" sec=\"Barwar\">Barwar</a></div>\n",
       "\n",
       "        <div class=\"features\"> <span class=\"dialect xft\"><span class=\"f\">dialect=</span>Barwar</span></div>\n",
       "    </div>\n",
       "\n",
       "</div>\n",
       "</div>"
      ],
      "text/plain": [
       "<IPython.core.display.HTML object>"
      ]
     },
     "metadata": {},
     "output_type": "display_data"
    },
    {
     "data": {
      "text/html": [
       "<a href=\"https://github.com/CambridgeSemiticsLab/nena_corpus/blob/master/nena/0.01/Barwar/The Battle With Yuwanəs the Armenian.nena\" title=\"see this passage in its source document\" sec=\"Barwar, The Battle With Yuwanəs the Armenian, Ln. 3\">Barwar, The Battle With Yuwanəs the Armenian, Ln. 3</a>\n",
       "<div class=\"outeritem\">\n",
       "<div class=\"macro  \" >\n",
       "\n",
       "<div class=\"prosa  \" >\n",
       "\n",
       "<div class=\"word  \" >\n",
       "<div class=\"ara\">ʾá-dana </div>\n",
       "\n",
       "</div>\n",
       "<div class=\"word  hl\" >\n",
       "<div class=\"ara\">qəm-amə̀rra.ˈ</div>\n",
       "\n",
       "</div>\n",
       "</div>\n",
       "</div>\n",
       "</div>"
      ],
      "text/plain": [
       "<IPython.core.display.HTML object>"
      ]
     },
     "metadata": {},
     "output_type": "display_data"
    },
    {
     "data": {
      "text/html": [
       "<p><b>result</b> <i>90</i></p>"
      ],
      "text/plain": [
       "<IPython.core.display.HTML object>"
      ]
     },
     "metadata": {},
     "output_type": "display_data"
    },
    {
     "data": {
      "text/html": [
       "<div class=\"outeritem\">\n",
       "<div class=\"None  \" >\n",
       "\n",
       "    <div class=\"ll\">\n",
       "        <div class=\"line\"><a href=\"https://github.com/CambridgeSemiticsLab/nena_corpus/blob/master/nena/0.01/Barwar/A Hundred Gold Coins.nena\" title=\"see this passage in its source document\" sec=\"Barwar\">Barwar</a></div>\n",
       "\n",
       "        <div class=\"features\"> <span class=\"dialect xft\"><span class=\"f\">dialect=</span>Barwar</span></div>\n",
       "    </div>\n",
       "\n",
       "</div>\n",
       "</div>"
      ],
      "text/plain": [
       "<IPython.core.display.HTML object>"
      ]
     },
     "metadata": {},
     "output_type": "display_data"
    },
    {
     "data": {
      "text/html": [
       "<a href=\"https://github.com/CambridgeSemiticsLab/nena_corpus/blob/master/nena/0.01/Barwar/The Battle With Yuwanəs the Armenian.nena\" title=\"see this passage in its source document\" sec=\"Barwar, The Battle With Yuwanəs the Armenian, Ln. 9\">Barwar, The Battle With Yuwanəs the Armenian, Ln. 9</a>\n",
       "<div class=\"outeritem\">\n",
       "<div class=\"macro  \" >\n",
       "\n",
       "<div class=\"prosa  \" >\n",
       "\n",
       "<div class=\"word  hl\" >\n",
       "<div class=\"ara\">qəm-moràle.ˈ </div>\n",
       "\n",
       "</div>\n",
       "</div>\n",
       "</div>\n",
       "</div>"
      ],
      "text/plain": [
       "<IPython.core.display.HTML object>"
      ]
     },
     "metadata": {},
     "output_type": "display_data"
    },
    {
     "data": {
      "text/html": [
       "<p><b>result</b> <i>91</i></p>"
      ],
      "text/plain": [
       "<IPython.core.display.HTML object>"
      ]
     },
     "metadata": {},
     "output_type": "display_data"
    },
    {
     "data": {
      "text/html": [
       "<div class=\"outeritem\">\n",
       "<div class=\"None  \" >\n",
       "\n",
       "    <div class=\"ll\">\n",
       "        <div class=\"line\"><a href=\"https://github.com/CambridgeSemiticsLab/nena_corpus/blob/master/nena/0.01/Barwar/A Hundred Gold Coins.nena\" title=\"see this passage in its source document\" sec=\"Barwar\">Barwar</a></div>\n",
       "\n",
       "        <div class=\"features\"> <span class=\"dialect xft\"><span class=\"f\">dialect=</span>Barwar</span></div>\n",
       "    </div>\n",
       "\n",
       "</div>\n",
       "</div>"
      ],
      "text/plain": [
       "<IPython.core.display.HTML object>"
      ]
     },
     "metadata": {},
     "output_type": "display_data"
    },
    {
     "data": {
      "text/html": [
       "<a href=\"https://github.com/CambridgeSemiticsLab/nena_corpus/blob/master/nena/0.01/Barwar/The Battle With Yuwanəs the Armenian.nena\" title=\"see this passage in its source document\" sec=\"Barwar, The Battle With Yuwanəs the Armenian, Ln. 9\">Barwar, The Battle With Yuwanəs the Armenian, Ln. 9</a>\n",
       "<div class=\"outeritem\">\n",
       "<div class=\"macro  \" >\n",
       "\n",
       "<div class=\"prosa  \" >\n",
       "\n",
       "<div class=\"word  hl\" >\n",
       "<div class=\"ara\">qəm-ṭɛnàle.ˈ </div>\n",
       "\n",
       "</div>\n",
       "</div>\n",
       "</div>\n",
       "</div>"
      ],
      "text/plain": [
       "<IPython.core.display.HTML object>"
      ]
     },
     "metadata": {},
     "output_type": "display_data"
    },
    {
     "data": {
      "text/html": [
       "<p><b>result</b> <i>92</i></p>"
      ],
      "text/plain": [
       "<IPython.core.display.HTML object>"
      ]
     },
     "metadata": {},
     "output_type": "display_data"
    },
    {
     "data": {
      "text/html": [
       "<div class=\"outeritem\">\n",
       "<div class=\"None  \" >\n",
       "\n",
       "    <div class=\"ll\">\n",
       "        <div class=\"line\"><a href=\"https://github.com/CambridgeSemiticsLab/nena_corpus/blob/master/nena/0.01/Barwar/A Hundred Gold Coins.nena\" title=\"see this passage in its source document\" sec=\"Barwar\">Barwar</a></div>\n",
       "\n",
       "        <div class=\"features\"> <span class=\"dialect xft\"><span class=\"f\">dialect=</span>Barwar</span></div>\n",
       "    </div>\n",
       "\n",
       "</div>\n",
       "</div>"
      ],
      "text/plain": [
       "<IPython.core.display.HTML object>"
      ]
     },
     "metadata": {},
     "output_type": "display_data"
    },
    {
     "data": {
      "text/html": [
       "<a href=\"https://github.com/CambridgeSemiticsLab/nena_corpus/blob/master/nena/0.01/Barwar/The Battle With Yuwanəs the Armenian.nena\" title=\"see this passage in its source document\" sec=\"Barwar, The Battle With Yuwanəs the Armenian, Ln. 11\">Barwar, The Battle With Yuwanəs the Armenian, Ln. 11</a>\n",
       "<div class=\"outeritem\">\n",
       "<div class=\"macro  \" >\n",
       "\n",
       "<div class=\"prosa  \" >\n",
       "\n",
       "<div class=\"word  \" >\n",
       "<div class=\"ara\">zílla </div>\n",
       "\n",
       "</div>\n",
       "<div class=\"word  \" >\n",
       "<div class=\"ara\">sɛ́pe </div>\n",
       "\n",
       "</div>\n",
       "<div class=\"word  \" >\n",
       "<div class=\"ara\">díye </div>\n",
       "\n",
       "</div>\n",
       "<div class=\"word  \" >\n",
       "<div class=\"ara\">kúlla </div>\n",
       "\n",
       "</div>\n",
       "<div class=\"word  hl\" >\n",
       "<div class=\"ara\">qəm-nablále </div>\n",
       "\n",
       "</div>\n",
       "<div class=\"word  \" >\n",
       "<div class=\"ara\">kəs-jàqši,ˈ </div>\n",
       "\n",
       "</div>\n",
       "</div>\n",
       "<div class=\"prosa  \" >\n",
       "\n",
       "<div class=\"word  \" >\n",
       "<div class=\"ara\">y-amríwale </div>\n",
       "\n",
       "</div>\n",
       "<div class=\"word  \" >\n",
       "<div class=\"ara\">jàqši, </div>\n",
       "\n",
       "</div>\n",
       "<div class=\"word  \" >\n",
       "<div class=\"ara\">qəm-awə́dle </div>\n",
       "\n",
       "</div>\n",
       "<div class=\"word  \" >\n",
       "<div class=\"ara\">rằbəṭ.ˈ </div>\n",
       "\n",
       "</div>\n",
       "</div>\n",
       "</div>\n",
       "</div>"
      ],
      "text/plain": [
       "<IPython.core.display.HTML object>"
      ]
     },
     "metadata": {},
     "output_type": "display_data"
    },
    {
     "data": {
      "text/html": [
       "<p><b>result</b> <i>93</i></p>"
      ],
      "text/plain": [
       "<IPython.core.display.HTML object>"
      ]
     },
     "metadata": {},
     "output_type": "display_data"
    },
    {
     "data": {
      "text/html": [
       "<div class=\"outeritem\">\n",
       "<div class=\"None  \" >\n",
       "\n",
       "    <div class=\"ll\">\n",
       "        <div class=\"line\"><a href=\"https://github.com/CambridgeSemiticsLab/nena_corpus/blob/master/nena/0.01/Barwar/A Hundred Gold Coins.nena\" title=\"see this passage in its source document\" sec=\"Barwar\">Barwar</a></div>\n",
       "\n",
       "        <div class=\"features\"> <span class=\"dialect xft\"><span class=\"f\">dialect=</span>Barwar</span></div>\n",
       "    </div>\n",
       "\n",
       "</div>\n",
       "</div>"
      ],
      "text/plain": [
       "<IPython.core.display.HTML object>"
      ]
     },
     "metadata": {},
     "output_type": "display_data"
    },
    {
     "data": {
      "text/html": [
       "<a href=\"https://github.com/CambridgeSemiticsLab/nena_corpus/blob/master/nena/0.01/Barwar/The Battle With Yuwanəs the Armenian.nena\" title=\"see this passage in its source document\" sec=\"Barwar, The Battle With Yuwanəs the Armenian, Ln. 11\">Barwar, The Battle With Yuwanəs the Armenian, Ln. 11</a>\n",
       "<div class=\"outeritem\">\n",
       "<div class=\"macro  \" >\n",
       "\n",
       "<div class=\"prosa  \" >\n",
       "\n",
       "<div class=\"word  \" >\n",
       "<div class=\"ara\">zílla </div>\n",
       "\n",
       "</div>\n",
       "<div class=\"word  \" >\n",
       "<div class=\"ara\">sɛ́pe </div>\n",
       "\n",
       "</div>\n",
       "<div class=\"word  \" >\n",
       "<div class=\"ara\">díye </div>\n",
       "\n",
       "</div>\n",
       "<div class=\"word  \" >\n",
       "<div class=\"ara\">kúlla </div>\n",
       "\n",
       "</div>\n",
       "<div class=\"word  \" >\n",
       "<div class=\"ara\">qəm-nablále </div>\n",
       "\n",
       "</div>\n",
       "<div class=\"word  \" >\n",
       "<div class=\"ara\">kəs-jàqši,ˈ </div>\n",
       "\n",
       "</div>\n",
       "</div>\n",
       "<div class=\"prosa  \" >\n",
       "\n",
       "<div class=\"word  \" >\n",
       "<div class=\"ara\">y-amríwale </div>\n",
       "\n",
       "</div>\n",
       "<div class=\"word  \" >\n",
       "<div class=\"ara\">jàqši, </div>\n",
       "\n",
       "</div>\n",
       "<div class=\"word  hl\" >\n",
       "<div class=\"ara\">qəm-awə́dle </div>\n",
       "\n",
       "</div>\n",
       "<div class=\"word  \" >\n",
       "<div class=\"ara\">rằbəṭ.ˈ </div>\n",
       "\n",
       "</div>\n",
       "</div>\n",
       "</div>\n",
       "</div>"
      ],
      "text/plain": [
       "<IPython.core.display.HTML object>"
      ]
     },
     "metadata": {},
     "output_type": "display_data"
    },
    {
     "data": {
      "text/html": [
       "<p><b>result</b> <i>94</i></p>"
      ],
      "text/plain": [
       "<IPython.core.display.HTML object>"
      ]
     },
     "metadata": {},
     "output_type": "display_data"
    },
    {
     "data": {
      "text/html": [
       "<div class=\"outeritem\">\n",
       "<div class=\"None  \" >\n",
       "\n",
       "    <div class=\"ll\">\n",
       "        <div class=\"line\"><a href=\"https://github.com/CambridgeSemiticsLab/nena_corpus/blob/master/nena/0.01/Barwar/A Hundred Gold Coins.nena\" title=\"see this passage in its source document\" sec=\"Barwar\">Barwar</a></div>\n",
       "\n",
       "        <div class=\"features\"> <span class=\"dialect xft\"><span class=\"f\">dialect=</span>Barwar</span></div>\n",
       "    </div>\n",
       "\n",
       "</div>\n",
       "</div>"
      ],
      "text/plain": [
       "<IPython.core.display.HTML object>"
      ]
     },
     "metadata": {},
     "output_type": "display_data"
    },
    {
     "data": {
      "text/html": [
       "<a href=\"https://github.com/CambridgeSemiticsLab/nena_corpus/blob/master/nena/0.01/Barwar/The Battle With Yuwanəs the Armenian.nena\" title=\"see this passage in its source document\" sec=\"Barwar, The Battle With Yuwanəs the Armenian, Ln. 12\">Barwar, The Battle With Yuwanəs the Armenian, Ln. 12</a>\n",
       "<div class=\"outeritem\">\n",
       "<div class=\"macro  \" >\n",
       "\n",
       "<div class=\"prosa  \" >\n",
       "\n",
       "<div class=\"word  hl\" >\n",
       "<div class=\"ara\">qəm-nablále </div>\n",
       "\n",
       "</div>\n",
       "<div class=\"word  \" >\n",
       "<div class=\"ara\">kəs-jàqšiˈ </div>\n",
       "\n",
       "</div>\n",
       "</div>\n",
       "<div class=\"prosa  \" >\n",
       "\n",
       "<div class=\"word  \" >\n",
       "<div class=\"ara\">qəm-oðále </div>\n",
       "\n",
       "</div>\n",
       "<div class=\"word  \" >\n",
       "<div class=\"ara\">sɛ́pe </div>\n",
       "\n",
       "</div>\n",
       "<div class=\"word  \" >\n",
       "<div class=\"ara\">dìye,ˈ </div>\n",
       "\n",
       "</div>\n",
       "</div>\n",
       "<div class=\"prosa  \" >\n",
       "\n",
       "<div class=\"word  \" >\n",
       "<div class=\"ara\">ʾaw-lɛ́le </div>\n",
       "\n",
       "</div>\n",
       "<div class=\"word  \" >\n",
       "<div class=\"ara\">ðìya.ˈ </div>\n",
       "\n",
       "</div>\n",
       "</div>\n",
       "</div>\n",
       "</div>"
      ],
      "text/plain": [
       "<IPython.core.display.HTML object>"
      ]
     },
     "metadata": {},
     "output_type": "display_data"
    },
    {
     "data": {
      "text/html": [
       "<p><b>result</b> <i>95</i></p>"
      ],
      "text/plain": [
       "<IPython.core.display.HTML object>"
      ]
     },
     "metadata": {},
     "output_type": "display_data"
    },
    {
     "data": {
      "text/html": [
       "<div class=\"outeritem\">\n",
       "<div class=\"None  \" >\n",
       "\n",
       "    <div class=\"ll\">\n",
       "        <div class=\"line\"><a href=\"https://github.com/CambridgeSemiticsLab/nena_corpus/blob/master/nena/0.01/Barwar/A Hundred Gold Coins.nena\" title=\"see this passage in its source document\" sec=\"Barwar\">Barwar</a></div>\n",
       "\n",
       "        <div class=\"features\"> <span class=\"dialect xft\"><span class=\"f\">dialect=</span>Barwar</span></div>\n",
       "    </div>\n",
       "\n",
       "</div>\n",
       "</div>"
      ],
      "text/plain": [
       "<IPython.core.display.HTML object>"
      ]
     },
     "metadata": {},
     "output_type": "display_data"
    },
    {
     "data": {
      "text/html": [
       "<a href=\"https://github.com/CambridgeSemiticsLab/nena_corpus/blob/master/nena/0.01/Barwar/The Battle With Yuwanəs the Armenian.nena\" title=\"see this passage in its source document\" sec=\"Barwar, The Battle With Yuwanəs the Armenian, Ln. 12\">Barwar, The Battle With Yuwanəs the Armenian, Ln. 12</a>\n",
       "<div class=\"outeritem\">\n",
       "<div class=\"macro  \" >\n",
       "\n",
       "<div class=\"prosa  \" >\n",
       "\n",
       "<div class=\"word  \" >\n",
       "<div class=\"ara\">qəm-nablále </div>\n",
       "\n",
       "</div>\n",
       "<div class=\"word  \" >\n",
       "<div class=\"ara\">kəs-jàqšiˈ </div>\n",
       "\n",
       "</div>\n",
       "</div>\n",
       "<div class=\"prosa  \" >\n",
       "\n",
       "<div class=\"word  hl\" >\n",
       "<div class=\"ara\">qəm-oðále </div>\n",
       "\n",
       "</div>\n",
       "<div class=\"word  \" >\n",
       "<div class=\"ara\">sɛ́pe </div>\n",
       "\n",
       "</div>\n",
       "<div class=\"word  \" >\n",
       "<div class=\"ara\">dìye,ˈ </div>\n",
       "\n",
       "</div>\n",
       "</div>\n",
       "<div class=\"prosa  \" >\n",
       "\n",
       "<div class=\"word  \" >\n",
       "<div class=\"ara\">ʾaw-lɛ́le </div>\n",
       "\n",
       "</div>\n",
       "<div class=\"word  \" >\n",
       "<div class=\"ara\">ðìya.ˈ </div>\n",
       "\n",
       "</div>\n",
       "</div>\n",
       "</div>\n",
       "</div>"
      ],
      "text/plain": [
       "<IPython.core.display.HTML object>"
      ]
     },
     "metadata": {},
     "output_type": "display_data"
    },
    {
     "data": {
      "text/html": [
       "<p><b>result</b> <i>96</i></p>"
      ],
      "text/plain": [
       "<IPython.core.display.HTML object>"
      ]
     },
     "metadata": {},
     "output_type": "display_data"
    },
    {
     "data": {
      "text/html": [
       "<div class=\"outeritem\">\n",
       "<div class=\"None  \" >\n",
       "\n",
       "    <div class=\"ll\">\n",
       "        <div class=\"line\"><a href=\"https://github.com/CambridgeSemiticsLab/nena_corpus/blob/master/nena/0.01/Barwar/A Hundred Gold Coins.nena\" title=\"see this passage in its source document\" sec=\"Barwar\">Barwar</a></div>\n",
       "\n",
       "        <div class=\"features\"> <span class=\"dialect xft\"><span class=\"f\">dialect=</span>Barwar</span></div>\n",
       "    </div>\n",
       "\n",
       "</div>\n",
       "</div>"
      ],
      "text/plain": [
       "<IPython.core.display.HTML object>"
      ]
     },
     "metadata": {},
     "output_type": "display_data"
    },
    {
     "data": {
      "text/html": [
       "<a href=\"https://github.com/CambridgeSemiticsLab/nena_corpus/blob/master/nena/0.01/Barwar/The Battle With Yuwanəs the Armenian.nena\" title=\"see this passage in its source document\" sec=\"Barwar, The Battle With Yuwanəs the Armenian, Ln. 13\">Barwar, The Battle With Yuwanəs the Armenian, Ln. 13</a>\n",
       "<div class=\"outeritem\">\n",
       "<div class=\"macro  \" >\n",
       "\n",
       "<div class=\"prosa  \" >\n",
       "\n",
       "<div class=\"word  \" >\n",
       "<div class=\"ara\">bnonéy </div>\n",
       "\n",
       "</div>\n",
       "<div class=\"word  hl\" >\n",
       "<div class=\"ara\">qəm-mabrɛ̀la.ˈ </div>\n",
       "\n",
       "</div>\n",
       "</div>\n",
       "</div>\n",
       "</div>"
      ],
      "text/plain": [
       "<IPython.core.display.HTML object>"
      ]
     },
     "metadata": {},
     "output_type": "display_data"
    },
    {
     "data": {
      "text/html": [
       "<p><b>result</b> <i>97</i></p>"
      ],
      "text/plain": [
       "<IPython.core.display.HTML object>"
      ]
     },
     "metadata": {},
     "output_type": "display_data"
    },
    {
     "data": {
      "text/html": [
       "<div class=\"outeritem\">\n",
       "<div class=\"None  \" >\n",
       "\n",
       "    <div class=\"ll\">\n",
       "        <div class=\"line\"><a href=\"https://github.com/CambridgeSemiticsLab/nena_corpus/blob/master/nena/0.01/Barwar/A Hundred Gold Coins.nena\" title=\"see this passage in its source document\" sec=\"Barwar\">Barwar</a></div>\n",
       "\n",
       "        <div class=\"features\"> <span class=\"dialect xft\"><span class=\"f\">dialect=</span>Barwar</span></div>\n",
       "    </div>\n",
       "\n",
       "</div>\n",
       "</div>"
      ],
      "text/plain": [
       "<IPython.core.display.HTML object>"
      ]
     },
     "metadata": {},
     "output_type": "display_data"
    },
    {
     "data": {
      "text/html": [
       "<a href=\"https://github.com/CambridgeSemiticsLab/nena_corpus/blob/master/nena/0.01/Barwar/The Battle With Yuwanəs the Armenian.nena\" title=\"see this passage in its source document\" sec=\"Barwar, The Battle With Yuwanəs the Armenian, Ln. 17\">Barwar, The Battle With Yuwanəs the Armenian, Ln. 17</a>\n",
       "<div class=\"outeritem\">\n",
       "<div class=\"macro  \" >\n",
       "\n",
       "<div class=\"prosa  \" >\n",
       "\n",
       "<div class=\"word  \" >\n",
       "<div class=\"ara\">ʾámər </div>\n",
       "\n",
       "</div>\n",
       "<div class=\"word  \" >\n",
       "<div class=\"ara\">hèˈ </div>\n",
       "\n",
       "</div>\n",
       "</div>\n",
       "<div class=\"prosa  \" >\n",
       "\n",
       "<div class=\"word  hl\" >\n",
       "<div class=\"ara\">la-qəm-oðə́nnux </div>\n",
       "\n",
       "</div>\n",
       "<div class=\"word  \" >\n",
       "<div class=\"ara\">ʾána </div>\n",
       "\n",
       "</div>\n",
       "<div class=\"word  \" >\n",
       "<div class=\"ara\">bùrnuṭ?ˈ </div>\n",
       "\n",
       "</div>\n",
       "</div>\n",
       "</div>\n",
       "</div>"
      ],
      "text/plain": [
       "<IPython.core.display.HTML object>"
      ]
     },
     "metadata": {},
     "output_type": "display_data"
    },
    {
     "data": {
      "text/html": [
       "<p><b>result</b> <i>98</i></p>"
      ],
      "text/plain": [
       "<IPython.core.display.HTML object>"
      ]
     },
     "metadata": {},
     "output_type": "display_data"
    },
    {
     "data": {
      "text/html": [
       "<div class=\"outeritem\">\n",
       "<div class=\"None  \" >\n",
       "\n",
       "    <div class=\"ll\">\n",
       "        <div class=\"line\"><a href=\"https://github.com/CambridgeSemiticsLab/nena_corpus/blob/master/nena/0.01/Barwar/A Hundred Gold Coins.nena\" title=\"see this passage in its source document\" sec=\"Barwar\">Barwar</a></div>\n",
       "\n",
       "        <div class=\"features\"> <span class=\"dialect xft\"><span class=\"f\">dialect=</span>Barwar</span></div>\n",
       "    </div>\n",
       "\n",
       "</div>\n",
       "</div>"
      ],
      "text/plain": [
       "<IPython.core.display.HTML object>"
      ]
     },
     "metadata": {},
     "output_type": "display_data"
    },
    {
     "data": {
      "text/html": [
       "<a href=\"https://github.com/CambridgeSemiticsLab/nena_corpus/blob/master/nena/0.01/Barwar/The Battle With Yuwanəs the Armenian.nena\" title=\"see this passage in its source document\" sec=\"Barwar, The Battle With Yuwanəs the Armenian, Ln. 18\">Barwar, The Battle With Yuwanəs the Armenian, Ln. 18</a>\n",
       "<div class=\"outeritem\">\n",
       "<div class=\"macro  \" >\n",
       "\n",
       "<div class=\"prosa  \" >\n",
       "\n",
       "<div class=\"word  hl\" >\n",
       "<div class=\"ara\">qəm-maxéle </div>\n",
       "\n",
       "</div>\n",
       "<div class=\"word  \" >\n",
       "<div class=\"ara\">bə-b-qə̀tta.ˈ </div>\n",
       "\n",
       "</div>\n",
       "</div>\n",
       "</div>\n",
       "</div>"
      ],
      "text/plain": [
       "<IPython.core.display.HTML object>"
      ]
     },
     "metadata": {},
     "output_type": "display_data"
    },
    {
     "data": {
      "text/html": [
       "<p><b>result</b> <i>99</i></p>"
      ],
      "text/plain": [
       "<IPython.core.display.HTML object>"
      ]
     },
     "metadata": {},
     "output_type": "display_data"
    },
    {
     "data": {
      "text/html": [
       "<div class=\"outeritem\">\n",
       "<div class=\"None  \" >\n",
       "\n",
       "    <div class=\"ll\">\n",
       "        <div class=\"line\"><a href=\"https://github.com/CambridgeSemiticsLab/nena_corpus/blob/master/nena/0.01/Barwar/A Hundred Gold Coins.nena\" title=\"see this passage in its source document\" sec=\"Barwar\">Barwar</a></div>\n",
       "\n",
       "        <div class=\"features\"> <span class=\"dialect xft\"><span class=\"f\">dialect=</span>Barwar</span></div>\n",
       "    </div>\n",
       "\n",
       "</div>\n",
       "</div>"
      ],
      "text/plain": [
       "<IPython.core.display.HTML object>"
      ]
     },
     "metadata": {},
     "output_type": "display_data"
    },
    {
     "data": {
      "text/html": [
       "<a href=\"https://github.com/CambridgeSemiticsLab/nena_corpus/blob/master/nena/0.01/Barwar/The Battle With Yuwanəs the Armenian.nena\" title=\"see this passage in its source document\" sec=\"Barwar, The Battle With Yuwanəs the Armenian, Ln. 24\">Barwar, The Battle With Yuwanəs the Armenian, Ln. 24</a>\n",
       "<div class=\"outeritem\">\n",
       "<div class=\"macro  \" >\n",
       "\n",
       "<div class=\"prosa  \" >\n",
       "\n",
       "<div class=\"word  \" >\n",
       "<div class=\"ara\">šqílle </div>\n",
       "\n",
       "</div>\n",
       "<div class=\"word  \" >\n",
       "<div class=\"ara\">sɛ̀peˈ </div>\n",
       "\n",
       "</div>\n",
       "</div>\n",
       "<div class=\"prosa  \" >\n",
       "\n",
       "<div class=\"word  hl\" >\n",
       "<div class=\"ara\">qəm-maxèle.ˈ </div>\n",
       "\n",
       "</div>\n",
       "</div>\n",
       "</div>\n",
       "</div>"
      ],
      "text/plain": [
       "<IPython.core.display.HTML object>"
      ]
     },
     "metadata": {},
     "output_type": "display_data"
    },
    {
     "data": {
      "text/html": [
       "<p><b>result</b> <i>100</i></p>"
      ],
      "text/plain": [
       "<IPython.core.display.HTML object>"
      ]
     },
     "metadata": {},
     "output_type": "display_data"
    },
    {
     "data": {
      "text/html": [
       "<div class=\"outeritem\">\n",
       "<div class=\"None  \" >\n",
       "\n",
       "    <div class=\"ll\">\n",
       "        <div class=\"line\"><a href=\"https://github.com/CambridgeSemiticsLab/nena_corpus/blob/master/nena/0.01/Barwar/A Hundred Gold Coins.nena\" title=\"see this passage in its source document\" sec=\"Barwar\">Barwar</a></div>\n",
       "\n",
       "        <div class=\"features\"> <span class=\"dialect xft\"><span class=\"f\">dialect=</span>Barwar</span></div>\n",
       "    </div>\n",
       "\n",
       "</div>\n",
       "</div>"
      ],
      "text/plain": [
       "<IPython.core.display.HTML object>"
      ]
     },
     "metadata": {},
     "output_type": "display_data"
    },
    {
     "data": {
      "text/html": [
       "<a href=\"https://github.com/CambridgeSemiticsLab/nena_corpus/blob/master/nena/0.01/Barwar/The Battle With Yuwanəs the Armenian.nena\" title=\"see this passage in its source document\" sec=\"Barwar, The Battle With Yuwanəs the Armenian, Ln. 24\">Barwar, The Battle With Yuwanəs the Armenian, Ln. 24</a>\n",
       "<div class=\"outeritem\">\n",
       "<div class=\"macro  \" >\n",
       "\n",
       "<div class=\"prosa  \" >\n",
       "\n",
       "<div class=\"word  hl\" >\n",
       "<div class=\"ara\">qəm-awə́dle </div>\n",
       "\n",
       "</div>\n",
       "<div class=\"word  \" >\n",
       "<div class=\"ara\">trè-qəṭṭe.ˈ </div>\n",
       "\n",
       "</div>\n",
       "</div>\n",
       "</div>\n",
       "</div>"
      ],
      "text/plain": [
       "<IPython.core.display.HTML object>"
      ]
     },
     "metadata": {},
     "output_type": "display_data"
    },
    {
     "data": {
      "text/html": [
       "<b>219 more results skipped</b> because we show a maximum of 100 results at a time"
      ],
      "text/plain": [
       "<IPython.core.display.HTML object>"
      ]
     },
     "metadata": {},
     "output_type": "display_data"
    }
   ],
   "source": [
    "search = A.search('''\n",
    "\n",
    "dialect dialect=Barwar\n",
    "    sentence\n",
    "        word t_fuzzy~qim-\n",
    "        \n",
    "\n",
    "''')\n",
    "\n",
    "A.show(search, extraFeatures='trans_f')"
   ]
  },
  {
   "cell_type": "code",
   "execution_count": 48,
   "metadata": {},
   "outputs": [
    {
     "name": "stdout",
     "output_type": "stream",
     "text": [
      "750633 xos-mindila\n",
      "750885 xos-mindila\n",
      "761891 d-a-mindila\n",
      "766721 xos-mindila\n",
      "785703 mindila\n",
      "833508 hi5-mindila\n"
     ]
    }
   ],
   "source": [
    "for res in search:\n",
    "    print(res[0], F.t_fuzzy.v(res[0]))"
   ]
  },
  {
   "cell_type": "code",
   "execution_count": 49,
   "metadata": {},
   "outputs": [
    {
     "data": {
      "text/plain": [
       "'xos-mindila'"
      ]
     },
     "execution_count": 49,
     "metadata": {},
     "output_type": "execute_result"
    }
   ],
   "source": [
    "F.t_fuzzy.v(750633)"
   ]
  },
  {
   "cell_type": "code",
   "execution_count": null,
   "metadata": {},
   "outputs": [],
   "source": []
  }
 ],
 "metadata": {
  "kernelspec": {
   "display_name": "Python 3",
   "language": "python",
   "name": "python3"
  },
  "language_info": {
   "codemirror_mode": {
    "name": "ipython",
    "version": 3
   },
   "file_extension": ".py",
   "mimetype": "text/x-python",
   "name": "python",
   "nbconvert_exporter": "python",
   "pygments_lexer": "ipython3",
   "version": "3.8.0"
  }
 },
 "nbformat": 4,
 "nbformat_minor": 4
}
