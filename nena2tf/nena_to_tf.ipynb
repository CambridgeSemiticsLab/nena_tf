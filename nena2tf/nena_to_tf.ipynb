{
 "cells": [
  {
   "cell_type": "markdown",
   "metadata": {},
   "source": [
    "# NENA to TF\n",
    "\n",
    "This notebook will be used to develop code for converting texts from .nena format to Text-Fabric. The parser has principally been written by Hannes Vlaardingerbroek. Many thanks to him for his hard work on it. Updates and refinements have been added by Cody Kingham."
   ]
  },
  {
   "cell_type": "code",
   "execution_count": 1,
   "metadata": {},
   "outputs": [
    {
     "name": "stderr",
     "output_type": "stream",
     "text": [
      "WARNING: 17 shift/reduce conflicts\n",
      "Parser debugging for NenaParser written to parser.out\n"
     ]
    }
   ],
   "source": [
    "import os\n",
    "import sys\n",
    "import collections\n",
    "import re\n",
    "from pathlib import Path\n",
    "from tf.convert.walker import CV\n",
    "from tf.fabric import Fabric\n",
    "\n",
    "# path to parser\n",
    "parserpath = f'../../nena_corpus/parse_nena/'\n",
    "sys.path.append(parserpath)\n",
    "from nena_parser import NenaLexer, NenaParser\n",
    "\n",
    "# paths\n",
    "VERSION = '0.01'\n",
    "data_dir = Path(f'../../nena_corpus/nena/{VERSION}')\n",
    "dialect_dirs = list(Path(data_dir).glob('*'))"
   ]
  },
  {
   "cell_type": "markdown",
   "metadata": {},
   "source": [
    "## Parse NENA\n",
    "\n",
    "The NENA Parser delivers the text as structured morphemes, which can then be processed into a TF graph. We do that below by opening each source text, retrieving its parsed form, and begin each iteration. "
   ]
  },
  {
   "cell_type": "code",
   "execution_count": 2,
   "metadata": {},
   "outputs": [],
   "source": [
    "lexer = NenaLexer()\n",
    "parser = NenaParser()"
   ]
  },
  {
   "cell_type": "code",
   "execution_count": 3,
   "metadata": {},
   "outputs": [
    {
     "name": "stdout",
     "output_type": "stream",
     "text": [
      "parsed: A Hundred Gold Coins.nena\n",
      "parsed: A Man Called Čuxo.nena\n",
      "parsed: A Tale of Two Kings.nena\n",
      "parsed: A Tale of a Prince and a Princess.nena\n",
      "parsed: Baby Leliθa.nena\n",
      "parsed: Dəmdəma.nena\n",
      "parsed: Gozali and Nozali.nena\n",
      "parsed: I Am Worth the Same as a Blind Wolf.nena\n",
      "parsed: Man Is Treacherous.nena\n",
      "parsed: Measure for Measure.nena\n",
      "parsed: Nanno and Jəndo.nena\n",
      "parsed: Qaṭina Rescues His Nephew From Leliθa.nena\n",
      "parsed: Sour Grapes.nena\n",
      "parsed: Tales From the 1001 Nights.nena\n",
      "parsed: The Battle With Yuwanəs the Armenian.nena\n",
      "parsed: The Bear and the Fox.nena\n",
      "parsed: The Brother of Giants.nena\n",
      "parsed: The Cat and the Mice.nena\n",
      "parsed: The Cooking Pot.nena\n",
      "parsed: The Crafty Hireling.nena\n",
      "parsed: The Crow and the Cheese.nena\n",
      "parsed: The Daughter of the King.nena\n",
      "parsed: The Fox and the Lion.nena\n",
      "parsed: The Fox and the Miller.nena\n",
      "parsed: The Fox and the Stork.nena\n",
      "parsed: The Giant’s Cave.nena\n",
      "parsed: The Girl and the Seven Brothers.nena\n",
      "parsed: The King With Forty Sons.nena\n",
      "parsed: The Leliθa From č̭āl.nena\n",
      "parsed: The Lion King.nena\n",
      "parsed: The Lion With a Swollen Leg.nena\n",
      "parsed: The Man Who Cried Wolf.nena\n",
      "parsed: The Man Who Wanted to Work.nena\n",
      "parsed: The Monk Who Wanted to Know When He Would Die.nena\n",
      "parsed: The Monk and the Angel.nena\n",
      "parsed: The Priest and the Mullah.nena\n",
      "parsed: The Sale of an Ox.nena\n",
      "parsed: The Scorpion and the Snake.nena\n",
      "parsed: The Selfish Neighbour.nena\n",
      "parsed: The Sisisambər Plant.nena\n",
      "parsed: The Story With No End.nena\n",
      "parsed: The Tale of Farxo and Səttiya.nena\n",
      "parsed: The Tale of Mămo and Zine.nena\n",
      "parsed: The Tale of Mərza Pămət.nena\n",
      "parsed: The Tale of Nasimo.nena\n",
      "parsed: The Tale of Parizada, Warda and Nargis.nena\n",
      "parsed: The Tale of Rustam (1).nena\n",
      "parsed: The Tale of Rustam (2).nena\n",
      "parsed: The Wise Daughter of the King.nena\n",
      "parsed: The Wise Snake.nena\n",
      "parsed: The Wise Young Man.nena\n",
      "parsed: šošət Xere.nena\n",
      "parsed: A Close Shave.nena\n",
      "parsed: A Cure for a Husband’s Madness.nena\n",
      "parsed: A Donkey Knows Best.nena\n",
      "parsed: A Dragon in the Well.nena\n",
      "parsed: A Dutiful Son.nena\n",
      "parsed: A Frog Wants a Husband.nena\n",
      "parsed: A Lost Donkey.nena\n",
      "parsed: A Lost Ring.nena\n",
      "parsed: A Painting of the King of Iran.nena\n",
      "parsed: A Pound of Flesh.nena\n",
      "parsed: A Sweater to Pay Off a Debt.nena\n",
      "parsed: A Thousand Dinars.nena\n",
      "parsed: A Visit From Harun Ar-Rashid.nena\n",
      "parsed: Agriculture and Village Life.nena\n",
      "parsed: Am I Dead?.nena\n",
      "parsed: An Orphan Duckling.nena\n",
      "parsed: Axiqar.nena\n",
      "parsed: Events in 1946 on the Urmi Plain.nena\n",
      "parsed: Games.nena\n",
      "parsed: Hunting.nena\n",
      "parsed: I Have Died.nena\n",
      "parsed: Ice for Dinner.nena\n",
      "parsed: Is There a Man With No Worries?.nena\n",
      "parsed: Kindness to a Donkey.nena\n",
      "parsed: Lost Money.nena\n",
      "parsed: Mistaken Identity.nena\n",
      "parsed: Much Ado About Nothing.nena\n",
      "parsed: Nipuxta.nena\n",
      "parsed: No Bread Today.nena\n",
      "parsed: Problems Lighting a Fire.nena\n",
      "parsed: St. Zayya’s Cake Dough.nena\n",
      "parsed: Star-Crossed Lovers.nena\n",
      "parsed: Stomach Trouble.nena\n",
      "parsed: The Adventures of Ashur.nena\n",
      "parsed: The Adventures of Two Brothers.nena\n",
      "parsed: The Adventures of a Princess.nena\n",
      "parsed: The Angel of Death.nena\n",
      "parsed: The Assyrians of Armenia.nena\n",
      "parsed: The Assyrians of Urmi.nena\n",
      "parsed: The Bald Child and the Monsters.nena\n",
      "parsed: The Bald Man and the King.nena\n",
      "parsed: The Bird and the Fox.nena\n",
      "parsed: The Cat’s Dinner.nena\n",
      "parsed: The Cow and the Poor Girl.nena\n",
      "parsed: The Dead Rise and Return.nena\n",
      "parsed: The Fisherman and the Princess.nena\n",
      "parsed: The Giant One-Eyed Demon.nena\n",
      "parsed: The Little Prince and the Snake.nena\n",
      "parsed: The Loan of a Cooking Pot.nena\n",
      "parsed: The Man Who Wanted to Complain to God.nena\n",
      "parsed: The Old Man and the Fish.nena\n",
      "parsed: The Purchase of a Donkey.nena\n",
      "parsed: The Snake’s Dilemma.nena\n",
      "parsed: The Stupid Carpenter.nena\n",
      "parsed: The Wife Who Learns How to Work (2).nena\n",
      "parsed: The Wife Who Learns How to Work.nena\n",
      "parsed: The Wife’s Condition.nena\n",
      "parsed: The Wise Brother.nena\n",
      "parsed: The Wise Young Daughter.nena\n",
      "parsed: Trickster.nena\n",
      "parsed: Two Birds Fall in Love.nena\n",
      "parsed: Two Wicked Daughters-In-Law.nena\n",
      "parsed: Village Life (2).nena\n",
      "parsed: Village Life (3).nena\n",
      "parsed: Village Life (4).nena\n",
      "parsed: Village Life (5).nena\n",
      "parsed: Village Life (6).nena\n",
      "parsed: Village Life.nena\n",
      "parsed: Vineyards.nena\n",
      "parsed: Weddings and Festivals.nena\n",
      "parsed: Weddings.nena\n",
      "parsed: When Shall I Die?.nena\n",
      "parsed: Women Are Stronger Than Men.nena\n",
      "parsed: Women Do Things Best.nena\n",
      "\n",
      " 126 texts ready for conversion\n"
     ]
    }
   ],
   "source": [
    "dialect2file2parsed = collections.defaultdict(lambda: collections.defaultdict())\n",
    "\n",
    "nparsed = 0\n",
    "\n",
    "for dialect in sorted(dialect_dirs):    \n",
    "    for file in sorted(dialect.glob('*.nena')):\n",
    "        with open(file, 'r') as infile:\n",
    "            text = infile.read()\n",
    "            parse = parser.parse(lexer.tokenize(text))\n",
    "            nparsed += 1\n",
    "            dialect2file2parsed[dialect.name][file.name] = parse\n",
    "            print(f'parsed: {file.name}')\n",
    "\n",
    "print('\\n', nparsed, 'texts ready for conversion')"
   ]
  },
  {
   "cell_type": "code",
   "execution_count": 15,
   "metadata": {},
   "outputs": [
    {
     "data": {
      "text/plain": [
       "1"
      ]
     },
     "execution_count": 15,
     "metadata": {},
     "output_type": "execute_result"
    }
   ],
   "source": [
    "linenum, elements = dialect2file2parsed['Barwar']['The Tale of Nasimo.nena'][1][0][0]\n",
    "\n",
    "linenum"
   ]
  },
  {
   "cell_type": "code",
   "execution_count": 19,
   "metadata": {},
   "outputs": [
    {
     "data": {
      "text/plain": [
       "{'value': ['ʾ', 'í', 'θ', 'w', 'a'],\n",
       " 'trailer': ' ',\n",
       " 'footnotes': {},\n",
       " 'speaker': None,\n",
       " 'foreign': False,\n",
       " 'lang': None}"
      ]
     },
     "execution_count": 19,
     "metadata": {},
     "output_type": "execute_result"
    }
   ],
   "source": [
    "elements[0].__dict__"
   ]
  },
  {
   "cell_type": "markdown",
   "metadata": {},
   "source": [
    "## Converter\n",
    "\n",
    "Build a TF Walker class that can walk over the NENA parsed data and fit the text graph."
   ]
  },
  {
   "cell_type": "code",
   "execution_count": 22,
   "metadata": {},
   "outputs": [],
   "source": [
    "def make_footnotes(fn_dict):\n",
    "    \"\"\"Format footnote dict into string\"\"\"\n",
    "    if fn_dict:\n",
    "        return '; '.join(\n",
    "            f'[^{num}]: {txt}' for num, txt in fn_dict.items()\n",
    "        )\n",
    "    else:\n",
    "        return None\n",
    "\n",
    "def director(CV):\n",
    "    \"\"\"Walk the source data and produce a TF graph\"\"\"\n",
    "    \n",
    "    for dialect in sorted(dialect_dirs):    \n",
    "        for file in sorted(dialect.glob('*.nena')):\n",
    "            with open(file, 'r') as infile:\n",
    "                nena_text = infile.read()\n",
    "            \n",
    "            # parse the .nena format\n",
    "            header, paragraphs = parser.parse(lexer.tokenize(nena_text))\n",
    "            \n",
    "            # -- begin TF node creation --\n",
    "            \n",
    "            # cv.node initializes a node object\n",
    "            # all slots added in between its creation and \n",
    "            # termination will be considered embedded within\n",
    "            # this node; same is true of following cv.node calls\n",
    "            text = cv.node('text')\n",
    "            cv.feature(text, **header) # adds features to supplied node\n",
    "            \n",
    "            for i, para in enumerate(paragraphs):\n",
    "                \n",
    "                # make paragraph node\n",
    "                paragraph = cv.node('paragraph')\n",
    "                cv.feature(paragraph, number=i+1)\n",
    "                \n",
    "                for line_number, line_elements in para:\n",
    "                    \n",
    "                    # make line nodes\n",
    "                    line = cv.node('line')\n",
    "                    cv.feature(line, number=line_number)\n",
    "                    \n",
    "                    # make words by composing morphemes\n",
    "                    # this must be done iteratively and \n",
    "                    # reset once a complete word has been\n",
    "                    # assembled. This happens with this_word\n",
    "                    # and the loop below. Other elements are \n",
    "                    # also dealt with in the loop\n",
    "                    this_word = cv.node('word')\n",
    "                    prev_morph = None\n",
    "                    for elem in line_elements:\n",
    "                        \n",
    "                        # process morphemes as slots\n",
    "                        # 'slot' being the most basic element\n",
    "                        if type(elem) == Morpheme:\n",
    "                            \n",
    "                            # determine which word to assign\n",
    "                            # morpheme to:\n",
    "                            \n",
    "                            # add morpheme to prev word\n",
    "                            # (this_word remains active)\n",
    "                            if re.match('^\\s*$|^-\\s*$', prev_morph.trailer):\n",
    "                                this_morph = cv.slot()\n",
    "                                prev_morph = elem\n",
    "                                \n",
    "                            # add morpheme to new word\n",
    "                            # (this_word is terminated and replaced)\n",
    "                            else:\n",
    "                                cv.terminate(this_word)\n",
    "                                this_word = cv.node('word')\n",
    "                                this_morph = cv.slot()\n",
    "                                prev_morph = elem\n",
    "                            \n",
    "                            # prepare features on morphemes\n",
    "                            # NB: None values are ignored by CV\n",
    "                            fs = elem.__dict__\n",
    "                            feats = {\n",
    "                                'letters': ' '.join(fs.get('value', []))\n",
    "                                'trailer': fs.get('trailer', ' '),\n",
    "                                'speaker': fs.get('speaker'),\n",
    "                                'footnotes': make_footnotes(fs.get('footnotes', {})),\n",
    "                                'lang': fs.get('lang'),\n",
    "                                'foreign': str(fs.get('foreign')) if fs.get('foreign') else None,\n",
    "                            }\n",
    "                            \n",
    "                            # add features to morpheme\n",
    "                            cv.feature(this_morph, **feats)\n",
    "                            \n",
    "                        # add all other elements as feature of morpheme\n",
    "                        else:\n",
    "                            pass"
   ]
  },
  {
   "cell_type": "code",
   "execution_count": 30,
   "metadata": {},
   "outputs": [],
   "source": [
    "re.match('^\\s*$|^-\\s*$', '- .')"
   ]
  },
  {
   "cell_type": "markdown",
   "metadata": {},
   "source": [
    "## Corpus and Feature Metadata"
   ]
  },
  {
   "cell_type": "code",
   "execution_count": 11,
   "metadata": {},
   "outputs": [],
   "source": [
    "# TODO: Pre-requisites\n",
    "slotType = 'char' # or morpheme?\n",
    "otext = {\n",
    "    # text configs here\n",
    "}\n",
    "generic = {\n",
    "    # generic meta data here\n",
    "}\n",
    "intFeatures = {\n",
    "    # features as integers here\n",
    "}\n",
    "featureMeta = {\n",
    "    # feature metadata here\n",
    "}\n"
   ]
  },
  {
   "cell_type": "code",
   "execution_count": null,
   "metadata": {},
   "outputs": [],
   "source": []
  }
 ],
 "metadata": {
  "kernelspec": {
   "display_name": "Python 3",
   "language": "python",
   "name": "python3"
  },
  "language_info": {
   "codemirror_mode": {
    "name": "ipython",
    "version": 3
   },
   "file_extension": ".py",
   "mimetype": "text/x-python",
   "name": "python",
   "nbconvert_exporter": "python",
   "pygments_lexer": "ipython3",
   "version": "3.8.0"
  }
 },
 "nbformat": 4,
 "nbformat_minor": 4
}
