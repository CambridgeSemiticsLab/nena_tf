{
 "cells": [
  {
   "cell_type": "markdown",
   "metadata": {},
   "source": [
    "# NENA to TF\n",
    "\n",
    "This notebook will be used to develop code for converting texts from .nena format to Text-Fabric. The parser has principally been written by Hannes Vlaardingerbroek. Many thanks to him for his hard work on it. Updates and refinements have been added by Cody Kingham."
   ]
  },
  {
   "cell_type": "code",
   "execution_count": 1,
   "metadata": {},
   "outputs": [
    {
     "name": "stderr",
     "output_type": "stream",
     "text": [
      "WARNING: 17 shift/reduce conflicts\n",
      "Parser debugging for NenaParser written to parser.out\n"
     ]
    }
   ],
   "source": [
    "import os\n",
    "import sys\n",
    "import collections\n",
    "import re\n",
    "from pathlib import Path\n",
    "from tf.convert.walker import CV\n",
    "from tf.fabric import Fabric\n",
    "\n",
    "# path to parser\n",
    "parserpath = f'../../nena_corpus/parse_nena/'\n",
    "sys.path.append(parserpath)\n",
    "from nena_parser import NenaLexer, NenaParser\n",
    "\n",
    "# paths\n",
    "VERSION = '0.01'\n",
    "OUT_DIR = Path(f'../tf/{VERSION}')\n",
    "data_dir = Path(f'../../nena_corpus/nena/{VERSION}')\n",
    "dialect_dirs = list(Path(data_dir).glob('*'))"
   ]
  },
  {
   "cell_type": "code",
   "execution_count": 2,
   "metadata": {},
   "outputs": [],
   "source": [
    "TF = Fabric(locations=[str(OUT_DIR)], silent=True)\n",
    "cv = CV(TF)"
   ]
  },
  {
   "cell_type": "markdown",
   "metadata": {},
   "source": [
    "## Parse NENA\n",
    "\n",
    "The NENA Parser delivers the text as structured morphemes, which can then be processed into a TF graph. We do that below by opening each source text, retrieving its parsed form, and begin each iteration. "
   ]
  },
  {
   "cell_type": "code",
   "execution_count": 3,
   "metadata": {},
   "outputs": [],
   "source": [
    "lexer = NenaLexer()\n",
    "parser = NenaParser()"
   ]
  },
  {
   "cell_type": "code",
   "execution_count": 4,
   "metadata": {},
   "outputs": [],
   "source": [
    "# dialect2file2parsed = collections.defaultdict(lambda: collections.defaultdict())\n",
    "\n",
    "# nparsed = 0\n",
    "\n",
    "# for dialect in sorted(dialect_dirs):    \n",
    "#     print()\n",
    "#     print(dialect.name)\n",
    "#     for file in sorted(dialect.glob('*.nena')):\n",
    "#         with open(file, 'r') as infile:\n",
    "#             text = infile.read()\n",
    "#             print(f'parsing: {file.name}')\n",
    "#             parse = parser.parse(lexer.tokenize(text))\n",
    "#             nparsed += 1\n",
    "#             dialect2file2parsed[dialect.name][file.name] = parse\n",
    "            \n",
    "\n",
    "# print('\\n', nparsed, 'texts ready for conversion')"
   ]
  },
  {
   "cell_type": "code",
   "execution_count": 5,
   "metadata": {},
   "outputs": [],
   "source": [
    "# linenum, elements = dialect2file2parsed['Urmi_C']['Village Life.nena'][1][0][\n",
    "# eg_morph = elements[0]"
   ]
  },
  {
   "cell_type": "code",
   "execution_count": 6,
   "metadata": {},
   "outputs": [],
   "source": [
    "# dialect2file2parsed['Barwar']['A Hundred Gold Coins.nena'][1][0][0]"
   ]
  },
  {
   "cell_type": "markdown",
   "metadata": {},
   "source": [
    "# Metadata"
   ]
  },
  {
   "cell_type": "code",
   "execution_count": 7,
   "metadata": {},
   "outputs": [],
   "source": [
    "slotType = 'morpheme'\n",
    "\n",
    "otext = {\n",
    "    'sectionTypes': 'dialect,text,line',\n",
    "    'sectionFeatures': 'dialect,title,number',\n",
    "    'fmt:text-orig-full': '{text}{trailer}',\n",
    "}\n",
    "\n",
    "description = ''.join(\"\"\"\n",
    "The NENA linguistic corpus is derived from decades of \n",
    "field work by Geoffrey Khan and his students, \n",
    "interviewing living speakers. The NENA dialects \n",
    "remain critically endangered.\n",
    "\"\"\".split('\\n'))\n",
    "\n",
    "generic = {\n",
    "    'origin': 'Cambridge University, Faculty of Asian and Middle Eastern Studies',\n",
    "    'author': 'Geoffrey Khan et al.',\n",
    "    'editors': 'Cody Kingham, James Strachan, Hannes Vlaardingerbroek',\n",
    "    'researchers': 'Paul Noordlander, Dorota Molin',\n",
    "    'source': description,\n",
    "}\n",
    "\n",
    "intFeatures = {'number'}\n",
    "\n",
    "d = 'about'\n",
    "\n",
    "featureMeta = {\n",
    "    'dialect': {d: 'name of a dialect in Northeastern Neo-Aramaic'},\n",
    "    'title': {d: 'title of a text (story)'},\n",
    "    'version': {d: 'the version of the story if there are multiple instances of the same story'},\n",
    "    'number': {d: 'sequential number of a paragraph or line within a text or paragraph, respectively'},\n",
    "    'text': {d: 'plain text representation of a morpheme or word'},\n",
    "    'trailer': {d: 'space, punctuation, or other stylistic text at the end of a morpheme or word'},\n",
    "    'letters': {d: 'space-separated string of letters in a morpheme or word'},\n",
    "    'speaker': {d: 'speaker who interjects in the text with morphemes or words (often researcher\\'s initials'},\n",
    "    'footnotes': {d: 'explanatory footnotes on a morpheme or text'},\n",
    "    'lang': {d: 'language of a morpheme that is foreign to the text'},\n",
    "    'foreign': {d: 'indicates whether a morpheme is foreign to the text (see also lang)'},\n",
    "    'comment': {d: 'an explanatory comment inserted in the text, stored on morpheme'},\n",
    "    'continued_from': {d: 'text is a follow-up to the named text'},\n",
    "    'informant': {d: 'name of the person who spoke these words'},\n",
    "    'place': {d: 'place the text was recorded'},\n",
    "    'source': {d: 'name of the file from which this text was converted'},\n",
    "    'text_id': {d: 'id of a text within its original publication; can overlap between publications'},\n",
    "}"
   ]
  },
  {
   "cell_type": "markdown",
   "metadata": {},
   "source": [
    "# Converter\n",
    "\n",
    "Build a TF Walker class that can walk over the NENA parsed data and fit the text graph."
   ]
  },
  {
   "cell_type": "code",
   "execution_count": 8,
   "metadata": {},
   "outputs": [],
   "source": [
    "def make_footnotes(fn_dict):\n",
    "    \"\"\"Format footnote dict into string\"\"\"\n",
    "    if fn_dict:\n",
    "        return '; '.join(\n",
    "            f'[^{num}]: {txt}' for num, txt in fn_dict.items()\n",
    "        )\n",
    "    else:\n",
    "        return None\n",
    "\n",
    "def director(CV):\n",
    "    \"\"\"Walk the source data and produce a TF graph\"\"\"\n",
    "    \n",
    "    info = TF.tm.info\n",
    "    \n",
    "    for dialect_dir in sorted(dialect_dirs):  \n",
    "        \n",
    "        # make dialect node\n",
    "        dialect = cv.node('dialect')\n",
    "        dia = dialect_dir.name\n",
    "        cv.feature(dialect, dialect=dia)\n",
    "        \n",
    "        for file in sorted(dialect_dir.glob('*.nena')):\n",
    "            \n",
    "            info(f'processing: [{file}]')\n",
    "            \n",
    "            with open(file, 'r') as infile:\n",
    "                nena_text = infile.read()\n",
    "            \n",
    "            # parse the .nena format\n",
    "            header, paragraphs = parser.parse(lexer.tokenize(nena_text))\n",
    "            \n",
    "            # -- begin TF node creation --\n",
    "            \n",
    "            # cv.node initializes a node object\n",
    "            # all slots added in between its creation and \n",
    "            # termination will be considered embedded within\n",
    "            # this node; same is true of following cv.node calls\n",
    "            text = cv.node('text')\n",
    "            cv.feature(text, **header) # adds features to supplied node\n",
    "            title = header['title']\n",
    "            \n",
    "            for i, para in enumerate(paragraphs):\n",
    "                \n",
    "                # TODO: Process footnotes here\n",
    "                if len(para[0]) != 2:\n",
    "                    continue\n",
    "                \n",
    "                # make paragraph node\n",
    "                paragraph = cv.node('paragraph')\n",
    "                cv.feature(paragraph, number=i+1)\n",
    "                \n",
    "                for line_num, line_elements in para:\n",
    "                    \n",
    "                    # make line nodes\n",
    "                    line = cv.node('line')\n",
    "                    cv.feature(line, number=line_num)\n",
    "                    \n",
    "                    # make words by composing morphemes\n",
    "                    # this must be done iteratively and \n",
    "                    # reset once a complete word has been\n",
    "                    # assembled. This happens with this_word\n",
    "                    # and the loop below. Other elements are \n",
    "                    # also dealt with in the loop\n",
    "                    word = cv.node('word')\n",
    "                    inton = cv.node('inton')\n",
    "                    subsentence = cv.node('subsentence')\n",
    "                    sentence = cv.node('sentence')\n",
    "                    prev_morph = None\n",
    "                    morph = None\n",
    "\n",
    "                    for i, elem in enumerate(line_elements):\n",
    "                        \n",
    "                        end = i+1 == len(line_elements)\n",
    "\n",
    "                        # process morphemes as slots\n",
    "                        # 'slot' being the most basic element\n",
    "                        if elem.__class__.__name__ == 'Morpheme':\n",
    "                            \n",
    "                            prev_trail = cv.get('trailer', prev_morph) if prev_morph else None\n",
    "                            trail = elem.trailer\n",
    "                            \n",
    "                            # -- trigger word boundaries\n",
    "\n",
    "                            # add morpheme to prev word if prev trailer is good\n",
    "                            # (word remains active)\n",
    "                            if prev_trail is not None and re.match('^\\s*$|^[-=]\\s*$', prev_trail):\n",
    "                                prev_morph = morph\n",
    "                                morph = cv.slot()\n",
    "                                \n",
    "                            # add morpheme to new word otherwise\n",
    "                            # (word is terminated and replaced)\n",
    "                            else:\n",
    "                                prev_morph = morph if morph else None\n",
    "                                morph = cv.slot()\n",
    "                                \n",
    "                                if prev_trail is not None:\n",
    "                                    cv.terminate(word)\n",
    "                                    word = cv.node('word')\n",
    "                            \n",
    "                            # prepare features on morphemes\n",
    "                            # NB: None values are ignored by CV\n",
    "                            fs = elem.__dict__\n",
    "                            trailer = trail.replace('/', '\\n')\n",
    "                            \n",
    "                            feats = {\n",
    "                                'text': ''.join(fs['value']),\n",
    "                                'letters': ' '.join(fs['value']),\n",
    "                                'trailer': trailer,\n",
    "                                'speaker': fs.get('speaker'),\n",
    "                                'footnotes': make_footnotes(fs.get('footnotes', {})),\n",
    "                                'lang': fs.get('lang'),\n",
    "                                'foreign': str(fs.get('foreign')) if fs.get('foreign') else None,\n",
    "                            }\n",
    "                            \n",
    "                            # add features to morpheme\n",
    "                            cv.feature(morph, **feats)\n",
    "                            cv.terminate(morph)\n",
    "                                \n",
    "                            # -- trigger linguistic node bounds --\n",
    "                            \n",
    "                            # intonation group bounds\n",
    "                            if re.search('\\u02c8', trail):\n",
    "                                cv.terminate(inton)\n",
    "                                if not end:\n",
    "                                    inton = cv.node('inton')\n",
    "                            \n",
    "                            # subsentences\n",
    "                            if re.search('[,;:\\u2014\\u2013]', trail):\n",
    "                                cv.terminate(subsentence)\n",
    "                                if not end:\n",
    "                                    subsentence = cv.node('subsentence')\n",
    "                            \n",
    "                            # sentences\n",
    "                            elif re.search('[.!?]', trail):\n",
    "                                cv.terminate(subsentence)\n",
    "                                cv.terminate(sentence)\n",
    "                                if not end:\n",
    "                                    subsentence = cv.node('subsentence')\n",
    "                                    sentence = cv.node('sentence')\n",
    "                                \n",
    "                        # add other elements\n",
    "                        else:\n",
    "                            kind, data = elem\n",
    "                            # orphaned footnotes as text feature for now\n",
    "                            if kind == 'footnote':\n",
    "                                cv.feature(text, footnote=make_footnotes(data))\n",
    "                            # everything else as feature of prev morph\n",
    "                            else:\n",
    "                                cv.feature(prev_morph, **{kind:str(data)})\n",
    "                    \n",
    "                    # sanity check at end of line\n",
    "                    test = {'inton','sentence', 'subsentence'} & cv.activeTypes()\n",
    "                    if test:\n",
    "                        sys.stderr.write(f'force-closing types {test} in {title} ln {line_num}\\n')\n",
    "                        cv.terminate(inton)\n",
    "                        cv.terminate(subsentence)\n",
    "                        cv.terminate(sentence)\n",
    "                        \n",
    "                    # -- trigger section node bounds --\n",
    "                    cv.terminate(word)\n",
    "                    cv.terminate(line)\n",
    "                cv.terminate(paragraph)\n",
    "            cv.terminate(text)\n",
    "        cv.terminate(dialect)"
   ]
  },
  {
   "cell_type": "markdown",
   "metadata": {},
   "source": [
    "## Test good\n"
   ]
  },
  {
   "cell_type": "code",
   "execution_count": 9,
   "metadata": {},
   "outputs": [
    {
     "name": "stdout",
     "output_type": "stream",
     "text": [
      "  0.00s Importing data from walking through the source ...\n",
      "   |     0.00s Preparing metadata... \n",
      "   |     0.00s No structure nodes will be set up\n",
      "   |   SECTION   TYPES:    dialect, text, line\n",
      "   |   SECTION   FEATURES: dialect, title, number\n",
      "   |   STRUCTURE TYPES:    \n",
      "   |   STRUCTURE FEATURES: \n",
      "   |   TEXT      FEATURES:\n",
      "   |      |   text-orig-full       text, trailer\n",
      "   |     0.01s OK\n",
      "   |     0.00s Following director... \n",
      "   |     0.00s processing: [../../nena_corpus/nena/0.01/Barwar/A Hundred Gold Coins.nena]\n",
      "   |     0.05s processing: [../../nena_corpus/nena/0.01/Barwar/A Man Called Čuxo.nena]\n",
      "   |     0.12s processing: [../../nena_corpus/nena/0.01/Barwar/A Tale of Two Kings.nena]\n",
      "   |     0.17s processing: [../../nena_corpus/nena/0.01/Barwar/A Tale of a Prince and a Princess.nena]\n",
      "   |     0.33s processing: [../../nena_corpus/nena/0.01/Barwar/Baby Leliθa.nena]\n",
      "   |     0.41s processing: [../../nena_corpus/nena/0.01/Barwar/Dəmdəma.nena]\n",
      "   |     0.46s processing: [../../nena_corpus/nena/0.01/Barwar/Gozali and Nozali.nena]\n"
     ]
    },
    {
     "name": "stderr",
     "output_type": "stream",
     "text": [
      "force-closing types {'subsentence', 'sentence'} in A Tale of a Prince and a Princess ln 32\n"
     ]
    },
    {
     "name": "stdout",
     "output_type": "stream",
     "text": [
      "   |     0.81s processing: [../../nena_corpus/nena/0.01/Barwar/I Am Worth the Same as a Blind Wolf.nena]\n",
      "   |     0.86s processing: [../../nena_corpus/nena/0.01/Barwar/Man Is Treacherous.nena]\n",
      "   |     0.88s processing: [../../nena_corpus/nena/0.01/Barwar/Measure for Measure.nena]\n",
      "   |     0.89s processing: [../../nena_corpus/nena/0.01/Barwar/Nanno and Jəndo.nena]\n"
     ]
    },
    {
     "name": "stderr",
     "output_type": "stream",
     "text": [
      "force-closing types {'subsentence', 'sentence'} in Gozali and Nozali ln 1\n",
      "force-closing types {'subsentence', 'sentence'} in I Am Worth the Same as a Blind Wolf ln 2\n"
     ]
    },
    {
     "name": "stdout",
     "output_type": "stream",
     "text": [
      "   |     0.95s processing: [../../nena_corpus/nena/0.01/Barwar/Qaṭina Rescues His Nephew From Leliθa.nena]\n",
      "   |     0.99s processing: [../../nena_corpus/nena/0.01/Barwar/Sour Grapes.nena]\n",
      "   |     0.99s processing: [../../nena_corpus/nena/0.01/Barwar/Tales From the 1001 Nights.nena]\n"
     ]
    },
    {
     "name": "stderr",
     "output_type": "stream",
     "text": [
      "force-closing types {'subsentence', 'sentence'} in Qaṭina Rescues His Nephew From Leliθa ln 1\n",
      "force-closing types {'subsentence', 'sentence'} in Qaṭina Rescues His Nephew From Leliθa ln 2\n",
      "force-closing types {'subsentence', 'sentence'} in Qaṭina Rescues His Nephew From Leliθa ln 3\n",
      "force-closing types {'subsentence', 'sentence'} in Qaṭina Rescues His Nephew From Leliθa ln 4\n",
      "force-closing types {'subsentence', 'sentence'} in Qaṭina Rescues His Nephew From Leliθa ln 5\n",
      "force-closing types {'subsentence', 'sentence'} in Qaṭina Rescues His Nephew From Leliθa ln 7\n",
      "force-closing types {'subsentence', 'sentence'} in Qaṭina Rescues His Nephew From Leliθa ln 8\n",
      "force-closing types {'sentence'} in Qaṭina Rescues His Nephew From Leliθa ln 10\n",
      "force-closing types {'subsentence', 'sentence'} in Qaṭina Rescues His Nephew From Leliθa ln 11\n",
      "force-closing types {'subsentence', 'sentence'} in Qaṭina Rescues His Nephew From Leliθa ln 12\n",
      "force-closing types {'subsentence', 'sentence'} in Qaṭina Rescues His Nephew From Leliθa ln 13\n",
      "force-closing types {'subsentence', 'sentence'} in Qaṭina Rescues His Nephew From Leliθa ln 14\n",
      "force-closing types {'subsentence', 'sentence'} in Qaṭina Rescues His Nephew From Leliθa ln 15\n",
      "force-closing types {'subsentence', 'sentence'} in Qaṭina Rescues His Nephew From Leliθa ln 16\n"
     ]
    },
    {
     "name": "stdout",
     "output_type": "stream",
     "text": [
      "   |     1.25s processing: [../../nena_corpus/nena/0.01/Barwar/The Battle With Yuwanəs the Armenian.nena]\n",
      "   |     1.31s processing: [../../nena_corpus/nena/0.01/Barwar/The Bear and the Fox.nena]\n",
      "   |     1.34s processing: [../../nena_corpus/nena/0.01/Barwar/The Brother of Giants.nena]\n",
      "   |     1.39s processing: [../../nena_corpus/nena/0.01/Barwar/The Cat and the Mice.nena]\n",
      "   |     1.40s processing: [../../nena_corpus/nena/0.01/Barwar/The Cooking Pot.nena]\n",
      "   |     1.42s processing: [../../nena_corpus/nena/0.01/Barwar/The Crafty Hireling.nena]\n"
     ]
    },
    {
     "name": "stderr",
     "output_type": "stream",
     "text": [
      "force-closing types {'subsentence', 'sentence'} in The Battle With Yuwanəs the Armenian ln 4\n",
      "force-closing types {'subsentence', 'sentence'} in The Battle With Yuwanəs the Armenian ln 5\n",
      "force-closing types {'subsentence', 'sentence'} in The Battle With Yuwanəs the Armenian ln 20\n",
      "force-closing types {'subsentence', 'sentence'} in The Battle With Yuwanəs the Armenian ln 21\n",
      "force-closing types {'subsentence', 'sentence'} in The Battle With Yuwanəs the Armenian ln 22\n",
      "force-closing types {'sentence', 'inton'} in The Battle With Yuwanəs the Armenian ln 25\n",
      "force-closing types {'subsentence', 'sentence'} in The Battle With Yuwanəs the Armenian ln 26\n"
     ]
    },
    {
     "name": "stdout",
     "output_type": "stream",
     "text": [
      "   |     1.54s processing: [../../nena_corpus/nena/0.01/Barwar/The Crow and the Cheese.nena]\n",
      "   |     1.55s processing: [../../nena_corpus/nena/0.01/Barwar/The Daughter of the King.nena]\n",
      "   |     1.66s processing: [../../nena_corpus/nena/0.01/Barwar/The Fox and the Lion.nena]\n",
      "   |     1.67s processing: [../../nena_corpus/nena/0.01/Barwar/The Fox and the Miller.nena]\n"
     ]
    },
    {
     "name": "stderr",
     "output_type": "stream",
     "text": [
      "force-closing types {'subsentence', 'sentence'} in The Crafty Hireling ln 43\n",
      "force-closing types {'subsentence', 'sentence'} in The Crafty Hireling ln 54\n",
      "force-closing types {'subsentence', 'sentence'} in The Crow and the Cheese ln 1\n",
      "force-closing types {'subsentence', 'sentence'} in The Crow and the Cheese ln 2\n",
      "force-closing types {'subsentence', 'sentence'} in The Crow and the Cheese ln 3\n",
      "force-closing types {'subsentence', 'sentence'} in The Crow and the Cheese ln 5\n",
      "force-closing types {'subsentence', 'sentence'} in The Crow and the Cheese ln 6\n"
     ]
    },
    {
     "name": "stdout",
     "output_type": "stream",
     "text": [
      "   |     1.77s processing: [../../nena_corpus/nena/0.01/Barwar/The Fox and the Stork.nena]\n",
      "   |     1.78s processing: [../../nena_corpus/nena/0.01/Barwar/The Giant’s Cave.nena]\n",
      "   |     1.81s processing: [../../nena_corpus/nena/0.01/Barwar/The Girl and the Seven Brothers.nena]\n",
      "   |     1.88s processing: [../../nena_corpus/nena/0.01/Barwar/The King With Forty Sons.nena]\n"
     ]
    },
    {
     "name": "stderr",
     "output_type": "stream",
     "text": [
      "force-closing types {'sentence'} in The Girl and the Seven Brothers ln 2\n",
      "force-closing types {'subsentence', 'sentence'} in The Girl and the Seven Brothers ln 3\n",
      "force-closing types {'sentence'} in The Girl and the Seven Brothers ln 12\n"
     ]
    },
    {
     "name": "stdout",
     "output_type": "stream",
     "text": [
      "   |     2.14s processing: [../../nena_corpus/nena/0.01/Barwar/The Leliθa From č̭āl.nena]\n",
      "   |     2.17s processing: [../../nena_corpus/nena/0.01/Barwar/The Lion King.nena]\n",
      "   |     2.19s processing: [../../nena_corpus/nena/0.01/Barwar/The Lion With a Swollen Leg.nena]\n",
      "   |     2.24s processing: [../../nena_corpus/nena/0.01/Barwar/The Man Who Cried Wolf.nena]\n",
      "   |     2.27s processing: [../../nena_corpus/nena/0.01/Barwar/The Man Who Wanted to Work.nena]\n"
     ]
    },
    {
     "name": "stderr",
     "output_type": "stream",
     "text": [
      "force-closing types {'sentence'} in The King With Forty Sons ln 40\n"
     ]
    },
    {
     "name": "stdout",
     "output_type": "stream",
     "text": [
      "   |     2.41s processing: [../../nena_corpus/nena/0.01/Barwar/The Monk Who Wanted to Know When He Would Die.nena]\n",
      "   |     2.46s processing: [../../nena_corpus/nena/0.01/Barwar/The Monk and the Angel.nena]\n",
      "   |     2.55s processing: [../../nena_corpus/nena/0.01/Barwar/The Priest and the Mullah.nena]\n",
      "   |     2.60s processing: [../../nena_corpus/nena/0.01/Barwar/The Sale of an Ox.nena]\n",
      "   |     2.76s processing: [../../nena_corpus/nena/0.01/Barwar/The Scorpion and the Snake.nena]\n",
      "   |     2.79s processing: [../../nena_corpus/nena/0.01/Barwar/The Selfish Neighbour.nena]\n",
      "   |     2.82s processing: [../../nena_corpus/nena/0.01/Barwar/The Sisisambər Plant.nena]\n",
      "   |     2.86s processing: [../../nena_corpus/nena/0.01/Barwar/The Story With No End.nena]\n",
      "   |     2.88s processing: [../../nena_corpus/nena/0.01/Barwar/The Tale of Farxo and Səttiya.nena]\n"
     ]
    },
    {
     "name": "stderr",
     "output_type": "stream",
     "text": [
      "force-closing types {'subsentence', 'sentence'} in The Sale of an Ox ln 41\n",
      "force-closing types {'subsentence', 'sentence'} in The Sisisambər Plant ln 2\n",
      "force-closing types {'subsentence', 'sentence'} in The Sisisambər Plant ln 8\n",
      "force-closing types {'subsentence', 'sentence'} in The Sisisambər Plant ln 9\n",
      "force-closing types {'subsentence', 'sentence'} in The Sisisambər Plant ln 14\n",
      "force-closing types {'subsentence', 'sentence'} in The Sisisambər Plant ln 15\n"
     ]
    },
    {
     "name": "stdout",
     "output_type": "stream",
     "text": [
      "   |     3.27s processing: [../../nena_corpus/nena/0.01/Barwar/The Tale of Mămo and Zine.nena]\n"
     ]
    },
    {
     "name": "stderr",
     "output_type": "stream",
     "text": [
      "force-closing types {'inton'} in The Tale of Farxo and Səttiya ln 29\n"
     ]
    },
    {
     "name": "stdout",
     "output_type": "stream",
     "text": [
      "   |     3.58s processing: [../../nena_corpus/nena/0.01/Barwar/The Tale of Mərza Pămət.nena]\n",
      "   |     3.71s processing: [../../nena_corpus/nena/0.01/Barwar/The Tale of Nasimo.nena]\n"
     ]
    },
    {
     "name": "stderr",
     "output_type": "stream",
     "text": [
      "force-closing types {'subsentence', 'sentence'} in The Tale of Mămo and Zine ln 22\n",
      "force-closing types {'subsentence', 'sentence'} in The Tale of Mərza Pămət ln 32\n"
     ]
    },
    {
     "name": "stdout",
     "output_type": "stream",
     "text": [
      "   |     3.76s processing: [../../nena_corpus/nena/0.01/Barwar/The Tale of Parizada, Warda and Nargis.nena]\n"
     ]
    },
    {
     "name": "stderr",
     "output_type": "stream",
     "text": [
      "force-closing types {'sentence'} in The Tale of Nasimo ln 3\n",
      "force-closing types {'subsentence', 'sentence'} in The Tale of Nasimo ln 4\n",
      "force-closing types {'subsentence', 'sentence'} in The Tale of Nasimo ln 5\n",
      "force-closing types {'sentence'} in The Tale of Nasimo ln 6\n",
      "force-closing types {'subsentence', 'sentence'} in The Tale of Nasimo ln 7\n"
     ]
    },
    {
     "name": "stdout",
     "output_type": "stream",
     "text": [
      "   |     3.98s processing: [../../nena_corpus/nena/0.01/Barwar/The Tale of Rustam (1).nena]\n",
      "   |     4.08s processing: [../../nena_corpus/nena/0.01/Barwar/The Tale of Rustam (2).nena]\n"
     ]
    },
    {
     "name": "stderr",
     "output_type": "stream",
     "text": [
      "force-closing types {'inton'} in The Tale of Parizada, Warda and Nargis ln 29\n",
      "force-closing types {'subsentence', 'sentence'} in The Tale of Parizada, Warda and Nargis ln 55\n"
     ]
    },
    {
     "name": "stdout",
     "output_type": "stream",
     "text": [
      "   |     4.23s processing: [../../nena_corpus/nena/0.01/Barwar/The Wise Daughter of the King.nena]\n",
      "   |     4.27s processing: [../../nena_corpus/nena/0.01/Barwar/The Wise Snake.nena]\n",
      "   |     4.38s processing: [../../nena_corpus/nena/0.01/Barwar/The Wise Young Man.nena]\n"
     ]
    },
    {
     "name": "stderr",
     "output_type": "stream",
     "text": [
      "force-closing types {'subsentence', 'sentence'} in The Tale of Rustam (2) ln 51\n",
      "force-closing types {'sentence'} in The Wise Snake ln 1\n"
     ]
    },
    {
     "name": "stdout",
     "output_type": "stream",
     "text": [
      "   |     4.49s processing: [../../nena_corpus/nena/0.01/Barwar/šošət Xere.nena]\n",
      "   |     4.53s processing: [../../nena_corpus/nena/0.01/Urmi_C/A Close Shave.nena]\n",
      "   |     4.53s processing: [../../nena_corpus/nena/0.01/Urmi_C/A Cure for a Husband’s Madness.nena]\n",
      "   |     4.64s processing: [../../nena_corpus/nena/0.01/Urmi_C/A Donkey Knows Best.nena]\n",
      "   |     4.65s processing: [../../nena_corpus/nena/0.01/Urmi_C/A Dragon in the Well.nena]\n"
     ]
    },
    {
     "name": "stderr",
     "output_type": "stream",
     "text": [
      "force-closing types {'subsentence', 'sentence'} in The Wise Young Man ln 25\n",
      "force-closing types {'subsentence', 'sentence'} in šošət Xere ln 6\n",
      "force-closing types {'sentence'} in šošət Xere ln 7\n",
      "force-closing types {'subsentence', 'sentence', 'inton'} in šošət Xere ln 8\n",
      "force-closing types {'sentence'} in šošət Xere ln 10\n",
      "force-closing types {'subsentence', 'sentence'} in šošət Xere ln 11\n",
      "force-closing types {'inton'} in A Cure for a Husband’s Madness ln 1\n",
      "force-closing types {'inton'} in A Cure for a Husband’s Madness ln 4\n",
      "force-closing types {'inton'} in A Cure for a Husband’s Madness ln 5\n",
      "force-closing types {'inton'} in A Cure for a Husband’s Madness ln 6\n"
     ]
    },
    {
     "name": "stdout",
     "output_type": "stream",
     "text": [
      "   |     4.70s processing: [../../nena_corpus/nena/0.01/Urmi_C/A Dutiful Son.nena]\n",
      "   |     4.80s processing: [../../nena_corpus/nena/0.01/Urmi_C/A Frog Wants a Husband.nena]\n",
      "   |     4.84s processing: [../../nena_corpus/nena/0.01/Urmi_C/A Lost Donkey.nena]\n",
      "   |     4.85s processing: [../../nena_corpus/nena/0.01/Urmi_C/A Lost Ring.nena]\n",
      "   |     4.85s processing: [../../nena_corpus/nena/0.01/Urmi_C/A Painting of the King of Iran.nena]\n",
      "   |     4.93s processing: [../../nena_corpus/nena/0.01/Urmi_C/A Pound of Flesh.nena]\n",
      "   |     4.99s processing: [../../nena_corpus/nena/0.01/Urmi_C/A Sweater to Pay Off a Debt.nena]\n",
      "   |     5.00s processing: [../../nena_corpus/nena/0.01/Urmi_C/A Thousand Dinars.nena]\n",
      "   |     5.05s processing: [../../nena_corpus/nena/0.01/Urmi_C/A Visit From Harun Ar-Rashid.nena]\n",
      "   |     5.09s processing: [../../nena_corpus/nena/0.01/Urmi_C/Agriculture and Village Life.nena]\n"
     ]
    },
    {
     "name": "stderr",
     "output_type": "stream",
     "text": [
      "force-closing types {'inton'} in A Thousand Dinars ln 13\n"
     ]
    },
    {
     "name": "stdout",
     "output_type": "stream",
     "text": [
      "   |     5.26s processing: [../../nena_corpus/nena/0.01/Urmi_C/Am I Dead?.nena]\n",
      "   |     5.27s processing: [../../nena_corpus/nena/0.01/Urmi_C/An Orphan Duckling.nena]\n",
      "   |     5.28s processing: [../../nena_corpus/nena/0.01/Urmi_C/Axiqar.nena]\n",
      "   |     5.56s processing: [../../nena_corpus/nena/0.01/Urmi_C/Events in 1946 on the Urmi Plain.nena]\n",
      "   |     5.61s processing: [../../nena_corpus/nena/0.01/Urmi_C/Games.nena]\n",
      "   |     5.68s processing: [../../nena_corpus/nena/0.01/Urmi_C/Hunting.nena]\n"
     ]
    },
    {
     "name": "stderr",
     "output_type": "stream",
     "text": [
      "force-closing types {'subsentence', 'sentence', 'inton'} in Axiqar ln 28\n",
      "force-closing types {'subsentence', 'sentence'} in Axiqar ln 89\n"
     ]
    },
    {
     "name": "stdout",
     "output_type": "stream",
     "text": [
      "   |     5.76s processing: [../../nena_corpus/nena/0.01/Urmi_C/I Have Died.nena]\n",
      "   |     5.77s processing: [../../nena_corpus/nena/0.01/Urmi_C/Ice for Dinner.nena]\n",
      "   |     5.78s processing: [../../nena_corpus/nena/0.01/Urmi_C/Is There a Man With No Worries?.nena]\n",
      "   |     5.85s processing: [../../nena_corpus/nena/0.01/Urmi_C/Kindness to a Donkey.nena]\n",
      "   |     5.86s processing: [../../nena_corpus/nena/0.01/Urmi_C/Lost Money.nena]\n",
      "   |     5.86s processing: [../../nena_corpus/nena/0.01/Urmi_C/Mistaken Identity.nena]\n",
      "   |     5.87s processing: [../../nena_corpus/nena/0.01/Urmi_C/Much Ado About Nothing.nena]\n",
      "   |     5.90s processing: [../../nena_corpus/nena/0.01/Urmi_C/Nipuxta.nena]\n",
      "   |     5.94s processing: [../../nena_corpus/nena/0.01/Urmi_C/No Bread Today.nena]\n",
      "   |     5.95s processing: [../../nena_corpus/nena/0.01/Urmi_C/Problems Lighting a Fire.nena]\n",
      "   |     5.97s processing: [../../nena_corpus/nena/0.01/Urmi_C/St. Zayya’s Cake Dough.nena]\n",
      "   |     6.02s processing: [../../nena_corpus/nena/0.01/Urmi_C/Star-Crossed Lovers.nena]\n",
      "   |     6.04s processing: [../../nena_corpus/nena/0.01/Urmi_C/Stomach Trouble.nena]\n",
      "   |     6.04s processing: [../../nena_corpus/nena/0.01/Urmi_C/The Adventures of Ashur.nena]\n",
      "   |     6.26s processing: [../../nena_corpus/nena/0.01/Urmi_C/The Adventures of Two Brothers.nena]\n",
      "   |     6.43s processing: [../../nena_corpus/nena/0.01/Urmi_C/The Adventures of a Princess.nena]\n"
     ]
    },
    {
     "name": "stderr",
     "output_type": "stream",
     "text": [
      "force-closing types {'inton'} in The Adventures of Ashur ln 27\n"
     ]
    },
    {
     "name": "stdout",
     "output_type": "stream",
     "text": [
      "   |     6.65s processing: [../../nena_corpus/nena/0.01/Urmi_C/The Angel of Death.nena]\n",
      "   |     6.66s processing: [../../nena_corpus/nena/0.01/Urmi_C/The Assyrians of Armenia.nena]\n",
      "   |     6.72s processing: [../../nena_corpus/nena/0.01/Urmi_C/The Assyrians of Urmi.nena]\n",
      "   |     6.91s processing: [../../nena_corpus/nena/0.01/Urmi_C/The Bald Child and the Monsters.nena]\n"
     ]
    },
    {
     "name": "stderr",
     "output_type": "stream",
     "text": [
      "force-closing types {'subsentence', 'sentence'} in The Assyrians of Armenia ln 10\n"
     ]
    },
    {
     "name": "stdout",
     "output_type": "stream",
     "text": [
      "   |     6.99s processing: [../../nena_corpus/nena/0.01/Urmi_C/The Bald Man and the King.nena]\n",
      "   |     7.21s processing: [../../nena_corpus/nena/0.01/Urmi_C/The Bird and the Fox.nena]\n",
      "   |     7.23s processing: [../../nena_corpus/nena/0.01/Urmi_C/The Cat’s Dinner.nena]\n",
      "   |     7.24s processing: [../../nena_corpus/nena/0.01/Urmi_C/The Cow and the Poor Girl.nena]\n",
      "   |     7.29s processing: [../../nena_corpus/nena/0.01/Urmi_C/The Dead Rise and Return.nena]\n",
      "   |     7.34s processing: [../../nena_corpus/nena/0.01/Urmi_C/The Fisherman and the Princess.nena]\n",
      "   |     7.40s processing: [../../nena_corpus/nena/0.01/Urmi_C/The Giant One-Eyed Demon.nena]\n",
      "   |     7.43s processing: [../../nena_corpus/nena/0.01/Urmi_C/The Little Prince and the Snake.nena]\n",
      "   |     7.45s processing: [../../nena_corpus/nena/0.01/Urmi_C/The Loan of a Cooking Pot.nena]\n",
      "   |     7.46s processing: [../../nena_corpus/nena/0.01/Urmi_C/The Man Who Wanted to Complain to God.nena]\n",
      "   |     7.58s processing: [../../nena_corpus/nena/0.01/Urmi_C/The Old Man and the Fish.nena]\n",
      "   |     7.62s processing: [../../nena_corpus/nena/0.01/Urmi_C/The Purchase of a Donkey.nena]\n"
     ]
    },
    {
     "name": "stderr",
     "output_type": "stream",
     "text": [
      "force-closing types {'inton'} in The Fisherman and the Princess ln 2\n",
      "force-closing types {'inton'} in The Fisherman and the Princess ln 3\n"
     ]
    },
    {
     "name": "stdout",
     "output_type": "stream",
     "text": [
      "   |     7.64s processing: [../../nena_corpus/nena/0.01/Urmi_C/The Snake’s Dilemma.nena]\n",
      "   |     7.74s processing: [../../nena_corpus/nena/0.01/Urmi_C/The Stupid Carpenter.nena]\n",
      "   |     7.75s processing: [../../nena_corpus/nena/0.01/Urmi_C/The Wife Who Learns How to Work (2).nena]\n",
      "   |     7.77s processing: [../../nena_corpus/nena/0.01/Urmi_C/The Wife Who Learns How to Work.nena]\n",
      "   |     7.83s processing: [../../nena_corpus/nena/0.01/Urmi_C/The Wife’s Condition.nena]\n",
      "   |     7.85s processing: [../../nena_corpus/nena/0.01/Urmi_C/The Wise Brother.nena]\n"
     ]
    },
    {
     "name": "stderr",
     "output_type": "stream",
     "text": [
      "force-closing types {'sentence'} in The Snake’s Dilemma ln 13\n",
      "force-closing types {'inton'} in The Wife Who Learns How to Work ln 1\n",
      "force-closing types {'inton'} in The Wife Who Learns How to Work ln 7\n"
     ]
    },
    {
     "name": "stdout",
     "output_type": "stream",
     "text": [
      "   |     7.98s processing: [../../nena_corpus/nena/0.01/Urmi_C/The Wise Young Daughter.nena]\n",
      "   |     8.06s processing: [../../nena_corpus/nena/0.01/Urmi_C/Trickster.nena]\n",
      "   |     8.07s processing: [../../nena_corpus/nena/0.01/Urmi_C/Two Birds Fall in Love.nena]\n",
      "   |     8.10s processing: [../../nena_corpus/nena/0.01/Urmi_C/Two Wicked Daughters-In-Law.nena]\n",
      "   |     8.16s processing: [../../nena_corpus/nena/0.01/Urmi_C/Village Life (2).nena]\n",
      "   |     8.27s processing: [../../nena_corpus/nena/0.01/Urmi_C/Village Life (3).nena]\n"
     ]
    },
    {
     "name": "stderr",
     "output_type": "stream",
     "text": [
      "force-closing types {'subsentence', 'sentence', 'inton'} in Two Wicked Daughters-In-Law ln 9\n"
     ]
    },
    {
     "name": "stdout",
     "output_type": "stream",
     "text": [
      "   |     8.45s processing: [../../nena_corpus/nena/0.01/Urmi_C/Village Life (4).nena]\n",
      "   |     8.50s processing: [../../nena_corpus/nena/0.01/Urmi_C/Village Life (5).nena]\n",
      "   |     8.55s processing: [../../nena_corpus/nena/0.01/Urmi_C/Village Life (6).nena]\n"
     ]
    },
    {
     "name": "stderr",
     "output_type": "stream",
     "text": [
      "force-closing types {'inton'} in Village Life (5) ln 1\n"
     ]
    },
    {
     "name": "stdout",
     "output_type": "stream",
     "text": [
      "   |     8.98s processing: [../../nena_corpus/nena/0.01/Urmi_C/Village Life.nena]\n",
      "   |     9.11s processing: [../../nena_corpus/nena/0.01/Urmi_C/Vineyards.nena]\n",
      "   |     9.13s processing: [../../nena_corpus/nena/0.01/Urmi_C/Weddings and Festivals.nena]\n"
     ]
    },
    {
     "name": "stderr",
     "output_type": "stream",
     "text": [
      "force-closing types {'inton'} in Village Life (6) ln 34\n",
      "force-closing types {'inton'} in Village Life ln 1\n",
      "force-closing types {'inton'} in Village Life ln 5\n",
      "force-closing types {'inton'} in Village Life ln 18\n",
      "force-closing types {'inton'} in Village Life ln 20\n"
     ]
    },
    {
     "name": "stdout",
     "output_type": "stream",
     "text": [
      "   |     9.22s processing: [../../nena_corpus/nena/0.01/Urmi_C/Weddings.nena]\n",
      "   |     9.27s processing: [../../nena_corpus/nena/0.01/Urmi_C/When Shall I Die?.nena]\n",
      "   |     9.30s processing: [../../nena_corpus/nena/0.01/Urmi_C/Women Are Stronger Than Men.nena]\n",
      "   |     9.41s processing: [../../nena_corpus/nena/0.01/Urmi_C/Women Do Things Best.nena]\n",
      "   |     9.51s \"edge\" actions: 0\n",
      "   |     9.51s \"feature\" actions: 123172\n",
      "   |     9.51s \"node\" actions: 116479\n",
      "   |     9.51s \"resume\" actions: 0\n",
      "   |     9.51s \"slot\" actions: 120148\n",
      "   |     9.51s \"terminate\" actions: 236732\n",
      "   |          2 x \"dialect\" node \n",
      "   |      35985 x \"inton\" node \n",
      "   |       2544 x \"line\" node \n",
      "   |     120148 x \"morpheme\" node  = slot type\n",
      "   |        351 x \"paragraph\" node \n",
      "   |      16708 x \"sentence\" node \n",
      "   |      24528 x \"subsentence\" node \n",
      "   |        126 x \"text\" node \n",
      "   |      36235 x \"word\" node \n",
      "   |     236627 nodes of all types\n",
      "   |     9.56s OK\n",
      "   |     0.04s Removing unlinked nodes ... \n",
      "   |      |     0.00s    576 unlinked \"word\" nodes: [44, 63, 99, 141, 158] ...\n",
      "   |      |     0.00s      1 unlinked \"inton\" node: [19594]\n",
      "   |      |     0.00s      1 unlinked \"subsentence\" node: [14318]\n",
      "   |      |     0.00s      1 unlinked \"sentence\" node: [9796]\n",
      "   |      |     0.01s    579 unlinked nodes\n",
      "   |      |     0.01s Leaving 236048 nodes\n",
      "   |     0.00s checking for nodes and edges ... \n",
      "   |     0.00s OK\n",
      "   |     0.00s checking features ... \n",
      "   |     0.00s OK\n",
      "   |     0.00s reordering nodes ...\n",
      "   |     0.05s Sorting 2 nodes of type \"dialect\"\n",
      "   |     0.06s Sorting 35984 nodes of type \"inton\"\n",
      "   |     0.13s Sorting 2544 nodes of type \"line\"\n",
      "   |     0.14s Sorting 351 nodes of type \"paragraph\"\n",
      "   |     0.15s Sorting 16707 nodes of type \"sentence\"\n",
      "   |     0.20s Sorting 24527 nodes of type \"subsentence\"\n",
      "   |     0.25s Sorting 126 nodes of type \"text\"\n",
      "   |     0.26s Sorting 35659 nodes of type \"word\"\n",
      "   |     0.33s Max node = 236048\n",
      "   |     0.33s OK\n",
      "   |     0.00s reassigning feature values ...\n",
      "   |      |     0.40s node feature \"comment\" with 1 node\n",
      "   |      |     0.40s node feature \"continued_from\" with 1 node\n",
      "   |      |     0.40s node feature \"dialect\" with 2 nodes\n",
      "   |      |     0.40s node feature \"footnotes\" with 3 nodes\n",
      "   |      |     0.40s node feature \"foreign\" with 534 nodes\n",
      "   |      |     0.41s node feature \"informant\" with 126 nodes\n",
      "   |      |     0.41s node feature \"lang\" with 462 nodes\n",
      "   |      |     0.41s node feature \"letters\" with 120148 nodes\n",
      "   |      |     0.45s node feature \"number\" with 2895 nodes\n",
      "   |      |     0.45s node feature \"place\" with 126 nodes\n",
      "   |      |     0.45s node feature \"source\" with 126 nodes\n",
      "   |      |     0.45s node feature \"speaker\" with 101 nodes\n",
      "   |      |     0.45s node feature \"text\" with 120148 nodes\n",
      "   |      |     0.49s node feature \"text_id\" with 125 nodes\n",
      "   |      |     0.49s node feature \"title\" with 126 nodes\n",
      "   |      |     0.49s node feature \"trailer\" with 120148 nodes\n",
      "   |      |     0.52s node feature \"version\" with 2 nodes\n",
      "   |     0.19s OK\n",
      "  0.00s Exporting 18 node and 1 edge and 1 config features to /Users/cody/github/CambridgeSemiticsLab/nena_tf/tf/0.01:\n",
      "  0.00s VALIDATING oslots feature\n",
      "  0.03s VALIDATING oslots feature\n",
      "  0.03s maxSlot=     120148\n",
      "  0.03s maxNode=     236048\n",
      "  0.05s OK: oslots is valid\n",
      "   |     0.00s T comment              to /Users/cody/github/CambridgeSemiticsLab/nena_tf/tf/0.01\n",
      "   |     0.00s T continued_from       to /Users/cody/github/CambridgeSemiticsLab/nena_tf/tf/0.01\n",
      "   |     0.00s T dialect              to /Users/cody/github/CambridgeSemiticsLab/nena_tf/tf/0.01\n",
      "   |     0.00s T footnotes            to /Users/cody/github/CambridgeSemiticsLab/nena_tf/tf/0.01\n",
      "   |     0.00s T foreign              to /Users/cody/github/CambridgeSemiticsLab/nena_tf/tf/0.01\n",
      "   |     0.00s T informant            to /Users/cody/github/CambridgeSemiticsLab/nena_tf/tf/0.01\n",
      "   |     0.00s T lang                 to /Users/cody/github/CambridgeSemiticsLab/nena_tf/tf/0.01\n",
      "   |     0.22s T letters              to /Users/cody/github/CambridgeSemiticsLab/nena_tf/tf/0.01\n",
      "   |     0.01s T number               to /Users/cody/github/CambridgeSemiticsLab/nena_tf/tf/0.01\n",
      "   |     0.08s T otype                to /Users/cody/github/CambridgeSemiticsLab/nena_tf/tf/0.01\n",
      "   |     0.00s T place                to /Users/cody/github/CambridgeSemiticsLab/nena_tf/tf/0.01\n",
      "   |     0.00s T source               to /Users/cody/github/CambridgeSemiticsLab/nena_tf/tf/0.01\n",
      "   |     0.00s T speaker              to /Users/cody/github/CambridgeSemiticsLab/nena_tf/tf/0.01\n",
      "   |     0.21s T text                 to /Users/cody/github/CambridgeSemiticsLab/nena_tf/tf/0.01\n",
      "   |     0.00s T text_id              to /Users/cody/github/CambridgeSemiticsLab/nena_tf/tf/0.01\n",
      "   |     0.00s T title                to /Users/cody/github/CambridgeSemiticsLab/nena_tf/tf/0.01\n",
      "   |     0.19s T trailer              to /Users/cody/github/CambridgeSemiticsLab/nena_tf/tf/0.01\n",
      "   |     0.00s T version              to /Users/cody/github/CambridgeSemiticsLab/nena_tf/tf/0.01\n",
      "   |     0.49s T oslots               to /Users/cody/github/CambridgeSemiticsLab/nena_tf/tf/0.01\n",
      "   |     0.00s M otext                to /Users/cody/github/CambridgeSemiticsLab/nena_tf/tf/0.01\n",
      "  1.28s Exported 18 node features and 1 edge features and 1 config features to /Users/cody/github/CambridgeSemiticsLab/nena_tf/tf/0.01\n"
     ]
    }
   ],
   "source": [
    "good = cv.walk(\n",
    "    director,\n",
    "    slotType,\n",
    "    otext=otext,\n",
    "    generic=generic,\n",
    "    intFeatures=intFeatures,\n",
    "    featureMeta=featureMeta,\n",
    "    warn=True,\n",
    "    force=False,\n",
    ")"
   ]
  }
 ],
 "metadata": {
  "kernelspec": {
   "display_name": "Python 3",
   "language": "python",
   "name": "python3"
  },
  "language_info": {
   "codemirror_mode": {
    "name": "ipython",
    "version": 3
   },
   "file_extension": ".py",
   "mimetype": "text/x-python",
   "name": "python",
   "nbconvert_exporter": "python",
   "pygments_lexer": "ipython3",
   "version": "3.8.0"
  }
 },
 "nbformat": 4,
 "nbformat_minor": 4
}
