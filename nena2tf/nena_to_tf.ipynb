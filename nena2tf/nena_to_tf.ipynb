{
 "cells": [
  {
   "cell_type": "markdown",
   "metadata": {},
   "source": [
    "# NENA to TF\n",
    "\n",
    "This notebook will be used to develop code for converting texts from .nena format to Text-Fabric. The parser has principally been written by Hannes Vlaardingerbroek. Many thanks to him for his hard work on the parser. Updates and refinements have been added by Cody Kingham."
   ]
  },
  {
   "cell_type": "code",
   "execution_count": 4,
   "metadata": {},
   "outputs": [],
   "source": [
    "import os\n",
    "import sys\n",
    "import collections\n",
    "import re\n",
    "from pathlib import Path\n",
    "from tf.convert.walker import CV\n",
    "from tf.fabric import Fabric\n",
    "\n",
    "# path to parser\n",
    "parserpath = f'../nena_corpus/parse_nena/'\n",
    "sys.path.append(parserpath)\n",
    "\n",
    "from nena_parser import NenaLexer, NenaParser\n",
    "\n",
    "# paths\n",
    "VERSION = '0.01'\n",
    "data_dir = Path(f'../nena_corpus/nena/{VERSION}')\n",
    "dialect_dirs = list(Path(data_dir).glob('*'))"
   ]
  },
  {
   "cell_type": "markdown",
   "metadata": {},
   "source": [
    "## Parse NENA\n",
    "\n",
    "The NENA Parser delivers the text as structured morphemes, which can then be processed into a TF graph. We do that below by opening each source text, retrieving its parsed form, and begin each iteration. "
   ]
  },
  {
   "cell_type": "code",
   "execution_count": 7,
   "metadata": {},
   "outputs": [],
   "source": [
    "lexer = NenaLexer()\n",
    "parser = NenaParser()"
   ]
  },
  {
   "cell_type": "code",
   "execution_count": 15,
   "metadata": {},
   "outputs": [
    {
     "name": "stdout",
     "output_type": "stream",
     "text": [
      "trying: A Hundred Gold Coins.nena\n",
      "\t√\n",
      "trying: A Man Called Čuxo.nena\n",
      "\tFAIL\n",
      "trying: A Tale Of A Prince And A Princess.nena\n",
      "\t√\n",
      "trying: A Tale Of Two Kings.nena\n"
     ]
    },
    {
     "name": "stderr",
     "output_type": "stream",
     "text": [
      "yacc: Syntax error at line 1, token=DIGITS\n"
     ]
    },
    {
     "name": "stdout",
     "output_type": "stream",
     "text": [
      "\t√\n",
      "trying: Baby Leliθa.nena\n",
      "\t√\n",
      "trying: Dəmdəma.nena\n",
      "\t√\n",
      "trying: Gozali And Nozali.nena\n",
      "\tFAIL\n",
      "trying: I Am Worth The Same As A Blind Wolf.nena\n",
      "\t√\n",
      "trying: Man Is Treacherous.nena\n",
      "\t√\n",
      "trying: Measure For Measure.nena\n",
      "\t√\n",
      "trying: Nanno And Jəndo.nena\n",
      "\t√\n",
      "trying: Qaṭina Rescues His Nephew From Leliθa.nena\n",
      "\t√\n",
      "trying: Sour Grapes.nena\n",
      "\t√\n",
      "trying: Tales From The 1001 Nights.nena\n",
      "\tFAIL\n",
      "trying: The Battle With Yuwanəs The Armenian.nena\n",
      "\t√\n",
      "trying: The Bear And The Fox.nena\n"
     ]
    },
    {
     "name": "stderr",
     "output_type": "stream",
     "text": [
      "yacc: Syntax error at line 1, token=LETTER\n"
     ]
    },
    {
     "name": "stdout",
     "output_type": "stream",
     "text": [
      "\t√\n",
      "trying: The Brother Of Giants.nena\n",
      "\t√\n",
      "trying: The Cat And The Mice.nena\n",
      "\t√\n",
      "trying: The Cooking Pot.nena\n",
      "\t√\n",
      "trying: The Crafty Hireling.nena\n",
      "\t√\n",
      "trying: The Crow And The Cheese.nena\n",
      "\t√\n",
      "trying: The Daughter Of The King.nena\n",
      "\t√\n",
      "trying: The Fox And The Lion.nena\n",
      "\t√\n",
      "trying: The Fox And The Miller.nena\n",
      "\t√\n",
      "trying: The Fox And The Stork.nena\n",
      "\t√\n",
      "trying: The Giant’s Cave.nena\n",
      "\t√\n",
      "trying: The Girl And The Seven Brothers.nena\n",
      "\t√\n",
      "trying: The King With Forty Sons.nena\n",
      "\tFAIL\n",
      "trying: The Leliθa From Č̭āl.nena\n",
      "\t√\n",
      "trying: The Lion King.nena\n",
      "\t√\n",
      "trying: The Lion With A Swollen Leg.nena\n",
      "\t√\n",
      "trying: The Man Who Cried Wolf.nena\n",
      "\t√\n",
      "trying: The Man Who Wanted To Work.nena\n",
      "\tFAIL\n",
      "trying: The Monk And The Angel.nena\n"
     ]
    },
    {
     "name": "stderr",
     "output_type": "stream",
     "text": [
      "yacc: Syntax error at line 1, token=DIGITS\n"
     ]
    },
    {
     "name": "stdout",
     "output_type": "stream",
     "text": [
      "\t√\n",
      "trying: The Monk Who Wanted To Know When He Would Die.nena\n",
      "\t√\n",
      "trying: The Priest And The Mullah.nena\n",
      "\t√\n",
      "trying: The Sale Of An Ox.nena\n",
      "\tFAIL\n",
      "trying: The Scorpion And The Snake.nena\n",
      "\t√\n",
      "trying: The Selfish Neighbour.nena\n",
      "\t√\n",
      "trying: The Sisisambər Plant.nena\n",
      "\t√\n",
      "trying: The Story With No End.nena\n",
      "\t√\n",
      "trying: The Tale Of Farxo And Səttiya.nena\n",
      "\tFAIL\n",
      "trying: The Tale Of Mămo And Zine.nena\n",
      "\tFAIL\n",
      "trying: The Tale Of Mərza Pămət.nena\n",
      "\t√\n",
      "trying: The Tale Of Nasimo.nena\n",
      "\t√\n",
      "trying: The Tale Of Parizada, Warda And Nargis.nena\n",
      "\t√\n",
      "trying: The Tale Of Rustam (1).nena\n"
     ]
    },
    {
     "name": "stderr",
     "output_type": "stream",
     "text": [
      "yacc: Syntax error at line 1, token=(\n",
      "yacc: Syntax error at line 1, token=DIGITS\n"
     ]
    },
    {
     "name": "stdout",
     "output_type": "stream",
     "text": [
      "\t√\n",
      "trying: The Tale Of Rustam (2).nena\n",
      "\tFAIL\n",
      "trying: The Wise Daughter Of The King.nena\n",
      "\t√\n",
      "trying: The Wise Snake.nena\n",
      "\t√\n",
      "trying: The Wise Young Man.nena\n",
      "\tFAIL\n",
      "trying: Šošət Xere.nena\n",
      "\t√\n",
      "trying: A Close Shave.nena\n",
      "\t√\n",
      "trying: A Cure For A Husband’s Madness.nena\n",
      "\tFAIL\n",
      "trying: A Donkey Knows Best.nena\n",
      "\t√\n",
      "trying: A Dragon In The Well.nena\n",
      "\t√\n",
      "trying: A Dutiful Son.nena\n"
     ]
    },
    {
     "name": "stderr",
     "output_type": "stream",
     "text": [
      "yacc: Syntax error at line 1, token=(\n"
     ]
    },
    {
     "name": "stdout",
     "output_type": "stream",
     "text": [
      "\t√\n",
      "trying: A Frog Wants A Husband.nena\n",
      "\t√\n",
      "trying: A Lost Donkey.nena\n",
      "\t√\n",
      "trying: A Lost Ring.nena\n",
      "\t√\n",
      "trying: A Painting Of The King Of Iran.nena\n",
      "\t√\n",
      "trying: A Pound Of Flesh.nena\n",
      "\t√\n",
      "trying: A Sweater To Pay Off A Debt.nena\n",
      "\t√\n",
      "trying: A Thousand Dinars.nena\n",
      "\t√\n",
      "trying: A Visit From Harun Ar-rashid.nena\n"
     ]
    },
    {
     "name": "stderr",
     "output_type": "stream",
     "text": [
      "yacc: Syntax error at line 1, token=DIGITS\n"
     ]
    },
    {
     "name": "stdout",
     "output_type": "stream",
     "text": [
      "\t√\n",
      "trying: Agriculture And Village Life.nena\n",
      "\t√\n",
      "trying: Am I Dead?.nena\n",
      "\t√\n",
      "trying: An Orphan Duckling.nena\n",
      "\t√\n",
      "trying: Axiqar.nena\n",
      "\tFAIL\n",
      "trying: Events In 1946 On The Urmi Plain.nena\n",
      "\t√\n",
      "trying: Games.nena\n",
      "\t√\n",
      "trying: Hunting.nena\n",
      "\t√\n",
      "trying: I Have Died.nena\n",
      "\t√\n",
      "trying: Ice For Dinner.nena\n",
      "\t√\n",
      "trying: Is There A Man With No Worries?.nena\n",
      "\t√\n",
      "trying: Kindness To A Donkey.nena\n",
      "\t√\n",
      "trying: Lost Money.nena\n",
      "\t√\n",
      "trying: Mistaken Identity.nena\n",
      "\t√\n",
      "trying: Much Ado About Nothing.nena\n",
      "\t√\n",
      "trying: Nipuxta.nena\n",
      "\t√"
     ]
    },
    {
     "name": "stderr",
     "output_type": "stream",
     "text": [
      "yacc: Syntax error at line 1, token=[\n",
      "yacc: Syntax error at line 1, token=HYPHEN\n"
     ]
    },
    {
     "name": "stdout",
     "output_type": "stream",
     "text": [
      "\n",
      "trying: No Bread Today.nena\n",
      "\t√\n",
      "trying: Problems Lighting A Fire.nena\n",
      "\t√\n",
      "trying: St. Zayya’s Cake Dough.nena\n",
      "\t√\n",
      "trying: Star-crossed Lovers.nena\n",
      "\t√\n",
      "trying: Stomach Trouble.nena\n",
      "\t√\n",
      "trying: The Adventures Of A Princess.nena\n"
     ]
    },
    {
     "name": "stderr",
     "output_type": "stream",
     "text": [
      "yacc: Syntax error at line 1, token=LETTER\n"
     ]
    },
    {
     "name": "stdout",
     "output_type": "stream",
     "text": [
      "\t√\n",
      "trying: The Adventures Of Ashur.nena\n",
      "\t√\n",
      "trying: The Adventures Of Two Brothers.nena\n",
      "\t√\n",
      "trying: The Angel Of Death.nena\n",
      "\t√\n",
      "trying: The Assyrians Of Armenia.nena\n",
      "\t√\n",
      "trying: The Assyrians Of Urmi.nena\n"
     ]
    },
    {
     "name": "stderr",
     "output_type": "stream",
     "text": [
      "yacc: Syntax error at line 1, token=LETTER\n"
     ]
    },
    {
     "name": "stdout",
     "output_type": "stream",
     "text": [
      "\t√\n",
      "trying: The Bald Child And The Monsters.nena\n",
      "\t√\n",
      "trying: The Bald Man And The King.nena\n",
      "\t√\n",
      "trying: The Bird And The Fox.nena\n",
      "\t√\n",
      "trying: The Cat’s Dinner.nena\n",
      "\t√\n",
      "trying: The Cow And The Poor Girl.nena\n",
      "\t√\n",
      "trying: The Dead Rise And Return.nena\n",
      "\t√\n",
      "trying: The Fisherman And The Princess.nena\n",
      "\t√\n",
      "trying: The Giant One-eyed Demon.nena\n",
      "\t√\n",
      "trying: The Little Prince And The Snake.nena\n",
      "\t√\n",
      "trying: The Loan Of A Cooking Pot.nena\n",
      "\t√\n",
      "trying: The Man Who Wanted To Complain To God.nena\n",
      "\t√\n",
      "trying: The Old Man And The Fish.nena\n",
      "\t√\n",
      "trying: The Purchase Of A Donkey.nena\n",
      "\t√\n",
      "trying: The Snake’s Dilemma.nena\n",
      "\t√\n",
      "trying: The Stupid Carpenter.nena\n",
      "\t√\n",
      "trying: The Wife Who Learns How To Work.nena\n"
     ]
    },
    {
     "name": "stderr",
     "output_type": "stream",
     "text": [
      "yacc: Syntax error at line 1, token=TITLE\n"
     ]
    },
    {
     "name": "stdout",
     "output_type": "stream",
     "text": [
      "\t√\n",
      "trying: The Wife’s Condition.nena\n",
      "\t√\n",
      "trying: The Wise Brother.nena\n",
      "\t√\n",
      "trying: The Wise Young Daughter.nena\n",
      "\t√\n",
      "trying: Trickster.nena\n",
      "\t√\n",
      "trying: Two Birds Fall In Love.nena\n",
      "\t√\n",
      "trying: Two Wicked Daughters-in-law.nena\n",
      "\t√\n",
      "trying: Village Life (2).nena\n",
      "\tFAIL\n",
      "trying: Village Life (3).nena\n",
      "\t√\n",
      "trying: Village Life (4).nena\n",
      "\t√\n",
      "trying: Village Life (5).nena\n"
     ]
    },
    {
     "name": "stderr",
     "output_type": "stream",
     "text": [
      "yacc: Syntax error at line 1, token=[\n",
      "yacc: Syntax error at line 1, token=[\n",
      "yacc: Syntax error at line 1, token=[\n",
      "yacc: Syntax error at line 1, token=[\n"
     ]
    },
    {
     "name": "stdout",
     "output_type": "stream",
     "text": [
      "\t√\n",
      "trying: Village Life (6).nena\n",
      "\tFAIL\n",
      "trying: Village Life.nena\n"
     ]
    },
    {
     "name": "stderr",
     "output_type": "stream",
     "text": [
      "yacc: Syntax error at line 1, token=LETTER\n",
      "yacc: Syntax error at line 1, token=DIGITS\n"
     ]
    },
    {
     "name": "stdout",
     "output_type": "stream",
     "text": [
      "\t√\n",
      "trying: Vineyards.nena\n",
      "\t√\n",
      "trying: Weddings And Festivals.nena\n",
      "\t√\n",
      "trying: Weddings.nena\n",
      "\t√\n",
      "trying: When Shall I Die?.nena\n",
      "\t√\n",
      "trying: Women Are Stronger Than Men.nena\n",
      "\t√\n",
      "trying: Women Do Things Best.nena\n",
      "\t√\n",
      "--------------------\n",
      "success rate:\n",
      "111 success...\n",
      "14 fails...\n"
     ]
    }
   ],
   "source": [
    "parsed = []\n",
    "fails = []\n",
    "\n",
    "for dialect in sorted(dialect_dirs):\n",
    "    for file in sorted(dialect.glob('*.nena')):\n",
    "        with open(file, 'r') as infile:\n",
    "            \n",
    "            text = infile.read()\n",
    "            \n",
    "            print(f'trying: {file.name}')\n",
    "            try:\n",
    "                #lexer.tokenize(text)\n",
    "                parse = parser.parse(lexer.tokenize(text))\n",
    "                print(f'\\t√')\n",
    "                parsed.append(parse)\n",
    "                \n",
    "            except:\n",
    "                print('\\tFAIL')\n",
    "                fails.append(file)\n",
    "\n",
    "print('-'*20)\n",
    "print('success rate:')\n",
    "print(len(parsed), 'success...')\n",
    "print(len(fails), 'fails...')"
   ]
  },
  {
   "cell_type": "code",
   "execution_count": 24,
   "metadata": {},
   "outputs": [
    {
     "data": {
      "text/plain": [
       "[PosixPath('../nena_corpus/nena/0.01/Barwar/A Man Called Čuxo.nena'),\n",
       " PosixPath('../nena_corpus/nena/0.01/Barwar/Gozali And Nozali.nena'),\n",
       " PosixPath('../nena_corpus/nena/0.01/Barwar/Tales From The 1001 Nights.nena'),\n",
       " PosixPath('../nena_corpus/nena/0.01/Barwar/The King With Forty Sons.nena'),\n",
       " PosixPath('../nena_corpus/nena/0.01/Barwar/The Man Who Wanted To Work.nena'),\n",
       " PosixPath('../nena_corpus/nena/0.01/Barwar/The Sale Of An Ox.nena'),\n",
       " PosixPath('../nena_corpus/nena/0.01/Barwar/The Tale Of Farxo And Səttiya.nena'),\n",
       " PosixPath('../nena_corpus/nena/0.01/Barwar/The Tale Of Mămo And Zine.nena'),\n",
       " PosixPath('../nena_corpus/nena/0.01/Barwar/The Tale Of Rustam (2).nena'),\n",
       " PosixPath('../nena_corpus/nena/0.01/Barwar/The Wise Young Man.nena'),\n",
       " PosixPath('../nena_corpus/nena/0.01/Urmi_C/A Cure For A Husband’s Madness.nena'),\n",
       " PosixPath('../nena_corpus/nena/0.01/Urmi_C/Axiqar.nena'),\n",
       " PosixPath('../nena_corpus/nena/0.01/Urmi_C/Village Life (2).nena'),\n",
       " PosixPath('../nena_corpus/nena/0.01/Urmi_C/Village Life (6).nena')]"
      ]
     },
     "execution_count": 24,
     "metadata": {},
     "output_type": "execute_result"
    }
   ],
   "source": [
    "fails"
   ]
  },
  {
   "cell_type": "markdown",
   "metadata": {},
   "source": [
    "## Converter\n",
    "\n",
    "Build a TF Walker class that can walk over the NENA parsed data and fit the text graph."
   ]
  },
  {
   "cell_type": "code",
   "execution_count": 22,
   "metadata": {},
   "outputs": [],
   "source": [
    "def director(CV):\n",
    "    # code to unwrap source data and trigger \n",
    "    # the generation of TF nodes, edges and features\n",
    "    \n",
    "    # TODO: Pre-requisites\n",
    "    slotType = 'char' # or morpheme?\n",
    "    otext = {\n",
    "        # text configs here\n",
    "    }\n",
    "    generic = {\n",
    "        # generic meta data here\n",
    "    }\n",
    "    intFeatures = {\n",
    "        # features as integers here\n",
    "    }\n",
    "    featureMeta = {\n",
    "        # feature metadata here\n",
    "    }\n",
    "    \n",
    "    # TODO:\n",
    "    # walk through parsed data and trigger node\n",
    "    # and edge creation\n",
    "    \n",
    "    pass"
   ]
  },
  {
   "cell_type": "code",
   "execution_count": null,
   "metadata": {},
   "outputs": [],
   "source": []
  }
 ],
 "metadata": {
  "kernelspec": {
   "display_name": "Python 3",
   "language": "python",
   "name": "python3"
  },
  "language_info": {
   "codemirror_mode": {
    "name": "ipython",
    "version": 3
   },
   "file_extension": ".py",
   "mimetype": "text/x-python",
   "name": "python",
   "nbconvert_exporter": "python",
   "pygments_lexer": "ipython3",
   "version": "3.8.0"
  }
 },
 "nbformat": 4,
 "nbformat_minor": 4
}
