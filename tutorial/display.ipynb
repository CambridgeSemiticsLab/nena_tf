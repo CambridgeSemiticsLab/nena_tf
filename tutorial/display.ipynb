{
 "cells": [
  {
   "cell_type": "markdown",
   "metadata": {},
   "source": [
    "<img align=\"right\" src=\"images/tf.png\" width=\"128\"/>\n",
    "<img align=\"right\" src=\"images/logo.png\" width=\"128\"/>\n",
    "<img align=\"right\" src=\"images/dans.png\" width=\"128\"/>\n",
    "\n",
    "---\n",
    "\n",
    "To get started: consult [start](start.ipynb)\n",
    "\n",
    "---\n",
    "\n",
    "# Display\n",
    "\n",
    "We show the ins and outs of displaying NENA texts."
   ]
  },
  {
   "cell_type": "code",
   "execution_count": 1,
   "metadata": {},
   "outputs": [],
   "source": [
    "%load_ext autoreload\n",
    "%autoreload 2"
   ]
  },
  {
   "cell_type": "code",
   "execution_count": 3,
   "metadata": {
    "ExecuteTime": {
     "end_time": "2018-05-18T09:17:16.202764Z",
     "start_time": "2018-05-18T09:17:16.197546Z"
    }
   },
   "outputs": [],
   "source": [
    "from tf.app import use"
   ]
  },
  {
   "cell_type": "markdown",
   "metadata": {},
   "source": [
    "If you want to use a version of the NENA texts ahead of a release, use the incantation with `hot` in it.\n",
    "That will take time, not only for the download itself, but also for the one-time preprocessing of the data.\n",
    "\n",
    "If you are content with the latest stable release, use the line without the `hot`."
   ]
  },
  {
   "cell_type": "code",
   "execution_count": 4,
   "metadata": {},
   "outputs": [
    {
     "data": {
      "text/html": [
       "<b title=\"local github\">TF-app:</b> <span title=\"repo clone offline under ~/github\">~/github/annotation/app-nena/code</span>"
      ],
      "text/plain": [
       "<IPython.core.display.HTML object>"
      ]
     },
     "metadata": {},
     "output_type": "display_data"
    },
    {
     "data": {
      "text/html": [
       "<b title=\"local github\">data:</b> <span title=\"repo clone offline under ~/github\">~/github/CambridgeSemiticsLab/nena_tf/tf/0.02</span>"
      ],
      "text/plain": [
       "<IPython.core.display.HTML object>"
      ]
     },
     "metadata": {},
     "output_type": "display_data"
    },
    {
     "data": {
      "text/html": [
       "<b>Text-Fabric:</b> <a target=\"_blank\" href=\"https://annotation.github.io/text-fabric/cheatsheet.html\" title=\"text-fabric-api\">Text-Fabric API 8.3.0</a>, <a target=\"_blank\" href=\"https://github.com/annotation/app-nena\" title=\"nena TF-app\">app-nena</a>, <a target=\"_blank\" href=\"https://annotation.github.io/text-fabric/about/searchusage.html\" title=\"Search Templates Introduction and Reference\">Search Reference</a><br><b>Data:</b> <a target=\"_blank\" href=\"https://github.com/CambridgeSemiticsLab/nena_tf/blob/master/docs/features.md.md\" title=\"provenance of Northeastern Neo-Aramaic Text Corpus\">NENA_TF</a>, <a target=\"_blank\" href=\"https://github.com/CambridgeSemiticsLab/nena_tf/blob/master/docs/transcription.md\" title=\"NENA transcription script\">Character table</a>, <a target=\"_blank\" href=\"https://github.com/CambridgeSemiticsLab/nena_tf/blob/master/docs/features.md#\" title=\"NENA_TF feature documentation\">Feature docs</a><br><b>Features:</b><br><details><summary><b>Northeastern Neo-Aramaic Text Corpus</b></summary><a target=\"_blank\" href=\"https://github.com/CambridgeSemiticsLab/nena_tf/blob/master/docs/features.md#class\" title=\"~/github/CambridgeSemiticsLab/nena_tf/tf/0.02/class.tf\">class</a><br><a target=\"_blank\" href=\"https://github.com/CambridgeSemiticsLab/nena_tf/blob/master/docs/features.md#comment\" title=\"~/github/CambridgeSemiticsLab/nena_tf/tf/0.02/comment.tf\">comment</a><br><a target=\"_blank\" href=\"https://github.com/CambridgeSemiticsLab/nena_tf/blob/master/docs/features.md#dialect\" title=\"~/github/CambridgeSemiticsLab/nena_tf/tf/0.02/dialect.tf\">dialect</a><br><a target=\"_blank\" href=\"https://github.com/CambridgeSemiticsLab/nena_tf/blob/master/docs/features.md#end\" title=\"~/github/CambridgeSemiticsLab/nena_tf/tf/0.02/end.tf\">end</a><br><a target=\"_blank\" href=\"https://github.com/CambridgeSemiticsLab/nena_tf/blob/master/docs/features.md#foreign\" title=\"~/github/CambridgeSemiticsLab/nena_tf/tf/0.02/foreign.tf\">foreign</a><br><a target=\"_blank\" href=\"https://github.com/CambridgeSemiticsLab/nena_tf/blob/master/docs/features.md#full\" title=\"~/github/CambridgeSemiticsLab/nena_tf/tf/0.02/full.tf\">full</a><br><a target=\"_blank\" href=\"https://github.com/CambridgeSemiticsLab/nena_tf/blob/master/docs/features.md#full_end\" title=\"~/github/CambridgeSemiticsLab/nena_tf/tf/0.02/full_end.tf\">full_end</a><br><a target=\"_blank\" href=\"https://github.com/CambridgeSemiticsLab/nena_tf/blob/master/docs/features.md#fuzzy\" title=\"~/github/CambridgeSemiticsLab/nena_tf/tf/0.02/fuzzy.tf\">fuzzy</a><br><a target=\"_blank\" href=\"https://github.com/CambridgeSemiticsLab/nena_tf/blob/master/docs/features.md#fuzzy_end\" title=\"~/github/CambridgeSemiticsLab/nena_tf/tf/0.02/fuzzy_end.tf\">fuzzy_end</a><br><a target=\"_blank\" href=\"https://github.com/CambridgeSemiticsLab/nena_tf/blob/master/docs/features.md#gloss\" title=\"~/github/CambridgeSemiticsLab/nena_tf/tf/0.02/gloss.tf\">gloss</a><br><a target=\"_blank\" href=\"https://github.com/CambridgeSemiticsLab/nena_tf/blob/master/docs/features.md#grm_desc\" title=\"~/github/CambridgeSemiticsLab/nena_tf/tf/0.02/grm_desc.tf\">grm_desc</a><br><a target=\"_blank\" href=\"https://github.com/CambridgeSemiticsLab/nena_tf/blob/master/docs/features.md#informant\" title=\"~/github/CambridgeSemiticsLab/nena_tf/tf/0.02/informant.tf\">informant</a><br><a target=\"_blank\" href=\"https://github.com/CambridgeSemiticsLab/nena_tf/blob/master/docs/features.md#lang\" title=\"~/github/CambridgeSemiticsLab/nena_tf/tf/0.02/lang.tf\">lang</a><br><a target=\"_blank\" href=\"https://github.com/CambridgeSemiticsLab/nena_tf/blob/master/docs/features.md#lemma\" title=\"~/github/CambridgeSemiticsLab/nena_tf/tf/0.02/lemma.tf\">lemma</a><br><a target=\"_blank\" href=\"https://github.com/CambridgeSemiticsLab/nena_tf/blob/master/docs/features.md#lemma_form\" title=\"~/github/CambridgeSemiticsLab/nena_tf/tf/0.02/lemma_form.tf\">lemma_form</a><br><a target=\"_blank\" href=\"https://github.com/CambridgeSemiticsLab/nena_tf/blob/master/docs/features.md#lite\" title=\"~/github/CambridgeSemiticsLab/nena_tf/tf/0.02/lite.tf\">lite</a><br><a target=\"_blank\" href=\"https://github.com/CambridgeSemiticsLab/nena_tf/blob/master/docs/features.md#lite_end\" title=\"~/github/CambridgeSemiticsLab/nena_tf/tf/0.02/lite_end.tf\">lite_end</a><br><a target=\"_blank\" href=\"https://github.com/CambridgeSemiticsLab/nena_tf/blob/master/docs/features.md#number\" title=\"~/github/CambridgeSemiticsLab/nena_tf/tf/0.02/number.tf\">number</a><br><a target=\"_blank\" href=\"https://github.com/CambridgeSemiticsLab/nena_tf/blob/master/docs/features.md#otype\" title=\"~/github/CambridgeSemiticsLab/nena_tf/tf/0.02/otype.tf\">otype</a><br><a target=\"_blank\" href=\"https://github.com/CambridgeSemiticsLab/nena_tf/blob/master/docs/features.md#place\" title=\"~/github/CambridgeSemiticsLab/nena_tf/tf/0.02/place.tf\">place</a><br><a target=\"_blank\" href=\"https://github.com/CambridgeSemiticsLab/nena_tf/blob/master/docs/features.md#speaker\" title=\"~/github/CambridgeSemiticsLab/nena_tf/tf/0.02/speaker.tf\">speaker</a><br><a target=\"_blank\" href=\"https://github.com/CambridgeSemiticsLab/nena_tf/blob/master/docs/features.md#text\" title=\"~/github/CambridgeSemiticsLab/nena_tf/tf/0.02/text.tf\">text</a><br><a target=\"_blank\" href=\"https://github.com/CambridgeSemiticsLab/nena_tf/blob/master/docs/features.md#text_id\" title=\"~/github/CambridgeSemiticsLab/nena_tf/tf/0.02/text_id.tf\">text_id</a><br><a target=\"_blank\" href=\"https://github.com/CambridgeSemiticsLab/nena_tf/blob/master/docs/features.md#text_lite\" title=\"~/github/CambridgeSemiticsLab/nena_tf/tf/0.02/text_lite.tf\">text_lite</a><br><a target=\"_blank\" href=\"https://github.com/CambridgeSemiticsLab/nena_tf/blob/master/docs/features.md#text_norm\" title=\"~/github/CambridgeSemiticsLab/nena_tf/tf/0.02/text_norm.tf\">text_norm</a><br><a target=\"_blank\" href=\"https://github.com/CambridgeSemiticsLab/nena_tf/blob/master/docs/features.md#title\" title=\"~/github/CambridgeSemiticsLab/nena_tf/tf/0.02/title.tf\">title</a><br><b><i><a target=\"_blank\" href=\"https://github.com/CambridgeSemiticsLab/nena_tf/blob/master/docs/features.md#oslots\" title=\"~/github/CambridgeSemiticsLab/nena_tf/tf/0.02/oslots.tf\">oslots</a></i></b><br></details>"
      ],
      "text/plain": [
       "<IPython.core.display.HTML object>"
      ]
     },
     "metadata": {},
     "output_type": "display_data"
    },
    {
     "data": {
      "text/html": [
       "<style>tr.tf.ltr, td.tf.ltr, th.tf.ltr { text-align: left ! important;}\n",
       "tr.tf.rtl, td.tf.rtl, th.tf.rtl { text-align: right ! important;}\n",
       "@font-face {\n",
       "  font-family: \"Ezra SIL\";\n",
       "  src: local('Ezra SIL'), local('EzraSIL'),\n",
       "    url('/server/static/fonts/SILEOT.woff') format('woff'),\n",
       "    url('https://github.com/annotation/text-fabric/blob/master/tf/server/static/fonts/SILEOT.woff?raw=true') format('woff');\n",
       "}\n",
       "\n",
       "@font-face {\n",
       "  font-family: \"SBL Hebrew\";\n",
       "  src: local('SBL Hebrew'), local('SBLHebrew'),\n",
       "    url('/server/static/fonts/SBL_Hbrw.woff') format('woff'),\n",
       "    url('https://github.com/annotation/text-fabric/blob/master/tf/server/static/fonts/SBL_Hbrw.woff?raw=true') format('woff');\n",
       "}\n",
       "\n",
       "@font-face {\n",
       "  font-family: \"Estrangelo Edessa\";\n",
       "  src: local('Estrangelo Edessa'), local('EstrangeloEdessa');\n",
       "    url('/server/static/fonts/SyrCOMEdessa.woff') format('woff'),\n",
       "    url('https://github.com/annotation/text-fabric/blob/master/tf/server/static/fonts/SyrCOMEdessa.woff?raw=true') format('woff');\n",
       "}\n",
       "\n",
       "@font-face {\n",
       "  font-family: AmiriQuran;\n",
       "  font-style: normal;\n",
       "  font-weight: 400;\n",
       "  src: local('Amiri Quran'), local('AmiriQuran'),\n",
       "    url('/server/static/fonts/AmiriQuran.woff') format('woff'),\n",
       "    url('https://github.com/annotation/text-fabric/blob/master/tf/server/static/fonts/AmiriQuran.woff?raw=true') format('woff');\n",
       "}\n",
       "\n",
       "@font-face {\n",
       "  font-family: AmiriQuranColored;\n",
       "  font-style: normal;\n",
       "  font-weight: 400;\n",
       "  src: local('Amiri Quran Colored'), local('AmiriQuranColored'),\n",
       "    url('/server/static/fonts/AmiriQuranColored.woff') format('woff'),\n",
       "    url('https://github.com/annotation/text-fabric/blob/master/tf/server/static/fonts/AmiriQuranColored.woff?raw=true') format('woff');\n",
       "}\n",
       "\n",
       "@font-face {\n",
       "  font-family: \"Santakku\";\n",
       "  src: local('Santakku'),\n",
       "    url('/server/static/fonts/Santakku.woff') format('woff'),\n",
       "    url('https://github.com/annotation/text-fabric/blob/master/tf/server/static/fonts/Santakku.woff?raw=true') format('woff');\n",
       "}\n",
       "\n",
       "@font-face {\n",
       "  font-family: \"SantakkuM\";\n",
       "  src: local('SantakkuM'),\n",
       "    url('/server/static/fonts/SantakkuM.woff') format('woff'),\n",
       "    url('https://github.com/annotation/text-fabric/blob/master/tf/server/static/fonts/SantakkuM.woff?raw=true') format('woff');\n",
       "}\n",
       "/* bypassing some classical notebook settings */\n",
       "div#notebook {\n",
       "  line-height: unset;\n",
       "}\n",
       "/* neutral text */\n",
       ".txtn,.txtn a:visited,.txtn a:link {\n",
       "    font-family: sans-serif;\n",
       "    font-size: medium;\n",
       "    direction: ltr;\n",
       "    text-decoration: none;\n",
       "    color: var(--text-color);\n",
       "}\n",
       "/* transcription text */\n",
       ".txtt,.txtt a:visited,.txtt a:link {\n",
       "    font-family: monospace;\n",
       "    font-size: medium;\n",
       "    direction: ltr;\n",
       "    text-decoration: none;\n",
       "    color: var(--text-color);\n",
       "}\n",
       "/* source text */\n",
       ".txto,.txto a:visited,.txto a:link {\n",
       "    font-family: serif;\n",
       "    font-size: medium;\n",
       "    direction: ltr;\n",
       "    text-decoration: none;\n",
       "    color: var(--text-color);\n",
       "}\n",
       "/* phonetic text */\n",
       ".txtp,.txtp a:visited,.txtp a:link {\n",
       "    font-family: Gentium, sans-serif;\n",
       "    font-size: medium;\n",
       "    direction: ltr;\n",
       "    text-decoration: none;\n",
       "    color: var(--text-color);\n",
       "}\n",
       "/* original script text */\n",
       ".txtu,.txtu a:visited,.txtu a:link {\n",
       "    font-family: Gentium, sans-serif;\n",
       "    font-size: medium;\n",
       "    text-decoration: none;\n",
       "    color: var(--text-color);\n",
       "}\n",
       "/* hebrew */\n",
       ".txtu.hbo,.lex.hbo {\n",
       "    font-family: \"Ezra SIL\", \"SBL Hebrew\", sans-serif;\n",
       "    font-size: large;\n",
       "    direction: rtl ! important;\n",
       "    unicode-bidi: embed;\n",
       "}\n",
       "/* syriac */\n",
       ".txtu.syc,.lex.syc {\n",
       "    font-family: \"Estrangelo Edessa\", sans-serif;\n",
       "    font-size: medium;\n",
       "    direction: rtl ! important;\n",
       "    unicode-bidi: embed;\n",
       "}\n",
       "/* neo aramaic */\n",
       ".txtu.cld,.lex.cld {\n",
       "    font-family: \"CharisSIL-R\", sans-serif;\n",
       "    font-size: medium;\n",
       "    direction: ltr ! important;\n",
       "    unicode-bidi: embed;\n",
       "}\n",
       "/* standard arabic */\n",
       ".txtu.ara,.lex.ara {\n",
       "    font-family: \"AmiriQuran\", sans-serif;\n",
       "    font-size: large;\n",
       "    direction: rtl ! important;\n",
       "    unicode-bidi: embed;\n",
       "}\n",
       "/* cuneiform */\n",
       ".txtu.akk,.lex.akk {\n",
       "    font-family: Santakku, sans-serif;\n",
       "    font-size: large;\n",
       "    direction: ltr ! important;\n",
       "    unicode-bidi: embed;\n",
       "}\n",
       "/* greek */\n",
       ".txtu.grc,.lex.grc a:link {\n",
       "    font-family: Gentium, sans-serif;\n",
       "    font-size: medium;\n",
       "    direction: ltr ! important;\n",
       "    unicode-bidi: embed;\n",
       "}\n",
       "a:hover {\n",
       "    text-decoration: underline | important;\n",
       "    color: #0000ff | important;\n",
       "}\n",
       ".ltr {\n",
       "    direction: ltr ! important;\n",
       "}\n",
       ".rtl {\n",
       "    direction: rtl ! important;\n",
       "}\n",
       ".features {\n",
       "    font-family: monospace;\n",
       "    font-size: medium;\n",
       "    font-weight: bold;\n",
       "    color: var(--features);\n",
       "    display: flex;\n",
       "    flex-flow: column nowrap;\n",
       "    justify-content: flex-start;\n",
       "    align-items: flex-start;\n",
       "    align-content: flex-start;\n",
       "    padding: 0.1rem;\n",
       "    margin: 0.1rem;\n",
       "    direction: ltr;\n",
       "    border: var(--meta-width) solid var(--meta-color);\n",
       "    border-radius: var(--meta-width);\n",
       "}\n",
       ".features div,.features span {\n",
       "    padding: 0;\n",
       "    margin: -0.1rem 0;\n",
       "}\n",
       ".features .f {\n",
       "    font-family: sans-serif;\n",
       "    font-size: small;\n",
       "    font-weight: normal;\n",
       "    color: #5555bb;\n",
       "}\n",
       ".features .xft {\n",
       "  color: #000000;\n",
       "  background-color: #eeeeee;\n",
       "  font-size: medium;\n",
       "  margin: 0.1rem 0rem;\n",
       "}\n",
       ".features .xft .f {\n",
       "  color: #000000;\n",
       "  background-color: #eeeeee;\n",
       "  font-size: small;\n",
       "  font-weight: normal;\n",
       "}\n",
       ".section {\n",
       "    font-family: sans-serif;\n",
       "    font-size: small;\n",
       "    font-weight: bold;\n",
       "    color: var(--section);\n",
       "    unicode-bidi: embed;\n",
       "    text-align: start;\n",
       "}\n",
       ".structure {\n",
       "    font-family: sans-serif;\n",
       "    font-size: small;\n",
       "    font-weight: bold;\n",
       "    color: var(--structure);\n",
       "    unicode-bidi: embed;\n",
       "    text-align: start;\n",
       "}\n",
       ".comments {\n",
       "    display: flex;\n",
       "    justify-content: flex-start;\n",
       "    align-items: flex-start;\n",
       "    align-content: flex-start;\n",
       "    flex-flow: column nowrap;\n",
       "}\n",
       ".nd, a:link.nd {\n",
       "    font-family: sans-serif;\n",
       "    font-size: small;\n",
       "    color: var(--node);\n",
       "    vertical-align: super;\n",
       "    direction: ltr ! important;\n",
       "    unicode-bidi: embed;\n",
       "}\n",
       ".lex {\n",
       "  color: var(--lex-color);;\n",
       "}\n",
       ".children,.children.ltr {\n",
       "    display: flex;\n",
       "    border: 0;\n",
       "    background-color: #ffffff;\n",
       "    justify-content: flex-start;\n",
       "    align-items: flex-start;\n",
       "    align-content: flex-start;\n",
       "}\n",
       ".children.stretch {\n",
       "    align-items: stretch;\n",
       "}\n",
       ".children.hor {\n",
       "    flex-flow: row nowrap;\n",
       "}\n",
       ".children.hor.wrap {\n",
       "    flex-flow: row wrap;\n",
       "}\n",
       ".children.ver {\n",
       "    flex-flow: column nowrap;\n",
       "}\n",
       ".children.ver.wrap {\n",
       "    flex-flow: column wrap;\n",
       "}\n",
       ".contnr {\n",
       "    width: fit-content;\n",
       "    display: flex;\n",
       "    justify-content: flex-start;\n",
       "    align-items: flex-start;\n",
       "    align-content: flex-start;\n",
       "    flex-flow: column nowrap;\n",
       "    background: #ffffff none repeat scroll 0 0;\n",
       "    padding:  0.5rem 0.1rem 0.1rem 0.1rem;\n",
       "    margin: 0.8rem 0.1rem 0.1rem 0.1rem;\n",
       "    border-style: solid;\n",
       "    font-size: small;\n",
       "}\n",
       ".contnr.trm {\n",
       "    background-attachment: local;\n",
       "}\n",
       ".contnr.cnul {\n",
       "    padding:  0;\n",
       "    margin: 0;\n",
       "    border-style: solid;\n",
       "    font-size: xx-small;\n",
       "}\n",
       ".contnr.cnul,.lbl.cnul {\n",
       "    border-color: var(--border-color-nul);\n",
       "    border-width: var(--border-width-nul);\n",
       "    border-radius: var(--border-width-nul);\n",
       "}\n",
       ".contnr.c0,.lbl.c0 {\n",
       "    border-color: var(--border-color0);\n",
       "    border-width: var(--border-width0);\n",
       "    border-radius: var(--border-width0);\n",
       "}\n",
       ".contnr.c1,.lbl.c1 {\n",
       "    border-color: var(--border-color1);\n",
       "    border-width: var(--border-width1);\n",
       "    border-radius: var(--border-width1);\n",
       "}\n",
       ".contnr.c2,.lbl.c2 {\n",
       "    border-color: var(--border-color2);\n",
       "    border-width: var(--border-width2);\n",
       "    border-radius: var(--border-width2);\n",
       "}\n",
       ".contnr.c3,.lbl.c3 {\n",
       "    border-color: var(--border-color3);\n",
       "    border-width: var(--border-width3);\n",
       "    border-radius: var(--border-width3);\n",
       "}\n",
       ".contnr.c4,.lbl.c4 {\n",
       "    border-color: var(--border-color4);\n",
       "    border-width: var(--border-width4);\n",
       "    border-radius: var(--border-width4);\n",
       "}\n",
       "span.plain {\n",
       "    display: inline-block;\n",
       "    white-space: pre-wrap;\n",
       "}\n",
       ".plain {\n",
       "    background-color: #ffffff;\n",
       "}\n",
       ".plain.l,.contnr.l,.contnr.l>.lbl {\n",
       "    border-left-style: dotted\n",
       "}\n",
       ".plain.r,.contnr.r,.contnr.r>.lbl {\n",
       "    border-right-style: dotted\n",
       "}\n",
       ".plain.lno,.contnr.lno,.contnr.lno>.lbl {\n",
       "    border-left-style: none\n",
       "}\n",
       ".plain.rno,.contnr.rno,.contnr.rno>.lbl {\n",
       "    border-right-style: none\n",
       "}\n",
       ".plain.l {\n",
       "    padding-left: 0.2rem;\n",
       "    margin-left: 0.1rem;\n",
       "    border-width: var(--border-width-plain);\n",
       "}\n",
       ".plain.r {\n",
       "    padding-right: 0.2rem;\n",
       "    margin-right: 0.1rem;\n",
       "    border-width: var(--border-width-plain);\n",
       "}\n",
       ".lbl {\n",
       "    font-family: monospace;\n",
       "    margin-top: -1.2rem;\n",
       "    margin-left: 1rem;\n",
       "    background: #ffffff none repeat scroll 0 0;\n",
       "    padding: 0 0.3rem;\n",
       "    border-style: solid;\n",
       "    display: block;\n",
       "    color: var(--label)\n",
       "}\n",
       ".lbl.trm {\n",
       "    background-attachment: local;\n",
       "    margin-top: 0.1rem;\n",
       "    margin-left: 0.1rem;\n",
       "    padding: 0.1rem 0.1rem;\n",
       "    border-style: none;\n",
       "}\n",
       ".lbl.cnul {\n",
       "    font-size: xx-small;\n",
       "}\n",
       ".lbl.c0 {\n",
       "    font-size: small;\n",
       "}\n",
       ".lbl.c1 {\n",
       "    font-size: small;\n",
       "}\n",
       ".lbl.c2 {\n",
       "    font-size: medium;\n",
       "}\n",
       ".lbl.c3 {\n",
       "    font-size: medium;\n",
       "}\n",
       ".lbl.c4 {\n",
       "    font-size: large;\n",
       "}\n",
       ".occs, a:link.occs {\n",
       "    font-size: small;\n",
       "}\n",
       "\n",
       "/* PROVENANCE */\n",
       "\n",
       "div.prov {\n",
       "\tmargin: 2rem;\n",
       "\tpadding: 1rem;\n",
       "\tborder: 0.1rem solid var(--fog-rim);\n",
       "}\n",
       "div.pline {\n",
       "\tdisplay: flex;\n",
       "\tflex-flow: row nowrap;\n",
       "\tjustify-content: stretch;\n",
       "\talign-items: baseline;\n",
       "}\n",
       "div.p2line {\n",
       "\tmargin-left: 2em;\n",
       "\tdisplay: flex;\n",
       "\tflex-flow: row nowrap;\n",
       "\tjustify-content: stretch;\n",
       "\talign-items: baseline;\n",
       "}\n",
       "div.psline {\n",
       "\tdisplay: flex;\n",
       "\tflex-flow: row nowrap;\n",
       "\tjustify-content: stretch;\n",
       "\talign-items: baseline;\n",
       "\tbackground-color: var(--gold-mist-back);\n",
       "}\n",
       "div.pname {\n",
       "\tflex: 0 0 5rem;\n",
       "\tfont-weight: bold;\n",
       "}\n",
       "div.pval {\n",
       "    flex: 1 1 auto;\n",
       "}\n",
       "\n",
       ":root {\n",
       "\t--node:               hsla(120, 100%,  20%, 1.0  );\n",
       "\t--label:              hsla(  0, 100%,  20%, 1.0  );\n",
       "\t--section:            hsla(  0, 100%,  25%, 1.0  );\n",
       "\t--structure:          hsla(120, 100%,  25%, 1.0  );\n",
       "\t--features:           hsla(  0,   0%,  30%, 1.0  );\n",
       "  --text-color:         hsla( 60,  80%,  10%, 1.0  );\n",
       "  --lex-color:          hsla(220,  90%,  60%, 1.0  );\n",
       "  --meta-color:         hsla(  0,   0%,  90%, 0.7  );\n",
       "  --meta-width:         0.15rem;\n",
       "  --border-color-nul:   hsla(  0,   0%,  90%, 0.5  );\n",
       "  --border-color0:      hsla(  0,   0%,  90%, 0.9  );\n",
       "  --border-color1:      hsla(  0,   0%,  80%, 0.9  );\n",
       "  --border-color2:      hsla(  0,   0%,  70%, 0.9  );\n",
       "  --border-color3:      hsla(  0,   0%,  80%, 0.8  );\n",
       "  --border-color4:      hsla(  0,   0%,  60%, 0.9  );\n",
       "  --border-width-nul:   0.1rem;\n",
       "  --border-width0:      0.1rem;\n",
       "  --border-width1:      0.15rem;\n",
       "  --border-width2:      0.2rem;\n",
       "  --border-width3:      0.3rem;\n",
       "  --border-width4:      0.25rem;\n",
       "  --border-width-plain: 0.1rem;\n",
       "}\n",
       ".hl {\n",
       "  background-color: var(--hl-strong);\n",
       "}\n",
       "span.hl {\n",
       "\tbackground-color: var(--hl-strong);\n",
       "\tborder-width: 0;\n",
       "\tborder-radius: 0.1rem;\n",
       "\tborder-style: solid;\n",
       "}\n",
       "div.contnr.hl,div.lbl.hl {\n",
       "  background-color: var(--hl-strong);\n",
       "}\n",
       "div.contnr.hl {\n",
       "  border-color: var(--hl-rim) ! important;\n",
       "\tborder-width: 0.2rem ! important;\n",
       "}\n",
       "\n",
       "span.hlbx {\n",
       "\tborder-color: var(--hl-rim);\n",
       "\tborder-width: 0.2rem ! important;\n",
       "\tborder-style: solid;\n",
       "\tborder-radius: 0.3rem;\n",
       "  padding: 0.2rem;\n",
       "  margin: 0.2rem;\n",
       "}\n",
       "\n",
       "span.plain {\n",
       "  display: inline-block;\n",
       "  white-space: pre-wrap;\n",
       "}\n",
       "\n",
       ":root {\n",
       "\t--hl-strong:        hsla( 60, 100%,  70%, 0.9  );\n",
       "\t--hl-rim:           hsla( 55,  80%,  50%, 1.0  );\n",
       "}\n",
       ".speaker {\n",
       "    vertical-align: super;\n",
       "    font-family: sans-serif;\n",
       "    font-size: small;\n",
       "    font-weight: bold;\n",
       "    color: #884400;\n",
       "}\n",
       "</style>"
      ],
      "text/plain": [
       "<IPython.core.display.HTML object>"
      ]
     },
     "metadata": {},
     "output_type": "display_data"
    },
    {
     "data": {
      "text/html": [
       "<div><b>Text-Fabric API:</b> names <a target=\"_blank\" href=\"https://annotation.github.io/text-fabric/cheatsheet.html\" title=\"doc\">N F E L T S C TF</a> directly usable</div><hr>"
      ],
      "text/plain": [
       "<IPython.core.display.HTML object>"
      ]
     },
     "metadata": {},
     "output_type": "display_data"
    }
   ],
   "source": [
    "A = use(\"nena:clone\", checkout=\"clone\", hoist=globals())\n",
    "# A = use('nena', hoist=globals())"
   ]
  },
  {
   "cell_type": "markdown",
   "metadata": {},
   "source": [
    "We pick an example fragment with which we illustrate many ways to represent the DSS material."
   ]
  },
  {
   "cell_type": "code",
   "execution_count": 5,
   "metadata": {},
   "outputs": [],
   "source": [
    "exampleText = (\"Barwar\", \"Gozali and Nozali\")\n",
    "f = T.nodeFromSection(exampleText)\n",
    "lines = L.d(f, otype=\"line\")[0:10]\n",
    "sentences = L.d(f, otype=\"sentence\")[0:10]\n",
    "words = L.d(f, otype=\"word\")[0:100]\n",
    "letters = L.d(f, otype=\"letters\")[0:200]"
   ]
  },
  {
   "cell_type": "markdown",
   "metadata": {},
   "source": [
    "# Text formats\n",
    "\n",
    "The TF API supports *text formats*. Text formats make selections and apply templates and styles based\n",
    "on the analysed features of the text. For example: a text-format may ignore flags or clusters, or\n",
    "format numerals in special ways.\n",
    "\n",
    "Text formats are not baked into TF, but they are defined in the feature `otext` of the corpus.\n",
    "\n",
    "Moreover, for this corpus a TF app has been build that defines additional text-formats.\n",
    "\n",
    "Whereas the formats defined in `otext` are strictly plain text formats, the formats\n",
    "defined in the app are able to use typographic styles to shape the text, such as bold, italic, colors, etc.\n",
    "\n",
    "Here is the list of all formats."
   ]
  },
  {
   "cell_type": "code",
   "execution_count": 6,
   "metadata": {},
   "outputs": [
    {
     "data": {
      "text/plain": [
       "{'text-orig-full': 'word',\n",
       " 'text-orig-lite': 'word',\n",
       " 'text-trans-full': 'word',\n",
       " 'text-trans-fuzzy': 'word',\n",
       " 'text-trans-lite': 'word',\n",
       " 'layout-orig-full': 'word',\n",
       " 'layout-orig-lite': 'word',\n",
       " 'layout-trans-full': 'word',\n",
       " 'layout-trans-fuzzy': 'word',\n",
       " 'layout-trans-lite': 'word'}"
      ]
     },
     "execution_count": 6,
     "metadata": {},
     "output_type": "execute_result"
    }
   ],
   "source": [
    "T.formats"
   ]
  },
  {
   "cell_type": "markdown",
   "metadata": {},
   "source": [
    "## Plain text formats\n",
    "\n",
    "The formats whose names start with `text-` are the plain text formats.\n",
    "\n",
    "### `text-orig-full`\n",
    "\n",
    "This is the plain Hebrew text of the transcriptions, without text-critical signs and brackets.\n",
    "\n",
    "This is the default format. We do not have to specify it."
   ]
  },
  {
   "cell_type": "code",
   "execution_count": 7,
   "metadata": {},
   "outputs": [
    {
     "data": {
      "text/html": [
       "<div class=\"\"><span class=\"section \"><a target=\"_blank\" href=\"https://github.com/CambridgeSemiticsLab/nena_corpus/blob/master/nena/0.02/Barwar/Gozali and Nozali.nena\" title=\"Show this title in the NENA repository\" sec=\"Barwar, Gozali and Nozali, Ln. 1\">Barwar, Gozali and Nozali, Ln. 1</a></span>  <span class=\"txtu cld\">ʾ</span><span class=\"txtu cld\">á</span><span class=\"txtu cld\">n</span><span class=\"txtu cld\">a </span><span class=\"txtu cld\">š</span><span class=\"txtu cld\">m</span><span class=\"txtu cld\">í</span><span class=\"txtu cld\">y</span><span class=\"txtu cld\">ə</span><span class=\"txtu cld\">n</span><span class=\"txtu cld\">w</span><span class=\"txtu cld\">a </span><span class=\"txtu cld\">x</span><span class=\"txtu cld\">a-</span><span class=\"txtu cld\">t</span><span class=\"txtu cld\">u</span><span class=\"txtu cld\">n</span><span class=\"txtu cld\">ì</span><span class=\"txtu cld\">θ</span><span class=\"txtu cld\">aˈ </span><span class=\"txtu cld\">y-</span><span class=\"txtu cld\">a</span><span class=\"txtu cld\">m</span><span class=\"txtu cld\">r</span><span class=\"txtu cld\">í</span><span class=\"txtu cld\">w</span><span class=\"txtu cld\">a</span><span class=\"txtu cld\">l</span><span class=\"txtu cld\">a </span><span class=\"txtu cld\">G</span><span class=\"txtu cld\">o</span><span class=\"txtu cld\">z</span><span class=\"txtu cld\">á</span><span class=\"txtu cld\">l</span><span class=\"txtu cld\">i </span><span class=\"txtu cld\">ʾ</span><span class=\"txtu cld\">u-</span><span class=\"txtu cld\">N</span><span class=\"txtu cld\">o</span><span class=\"txtu cld\">z</span><span class=\"txtu cld\">à</span><span class=\"txtu cld\">l</span><span class=\"txtu cld\">i,ˈ </span><span class=\"txtu cld\">š</span><span class=\"txtu cld\">ə́</span><span class=\"txtu cld\">m</span><span class=\"txtu cld\">m</span><span class=\"txtu cld\">a </span><span class=\"txtu cld\">d</span><span class=\"txtu cld\">í</span><span class=\"txtu cld\">y</span><span class=\"txtu cld\">a </span><span class=\"txtu cld\">y</span><span class=\"txtu cld\">á</span><span class=\"txtu cld\">ʿ</span><span class=\"txtu cld\">n</span><span class=\"txtu cld\">i </span><span class=\"txtu cld\">t</span><span class=\"txtu cld\">u</span><span class=\"txtu cld\">n</span><span class=\"txtu cld\">í</span><span class=\"txtu cld\">θ</span><span class=\"txtu cld\">ə</span><span class=\"txtu cld\">t </span><span class=\"txtu cld\">G</span><span class=\"txtu cld\">o</span><span class=\"txtu cld\">z</span><span class=\"txtu cld\">á</span><span class=\"txtu cld\">l</span><span class=\"txtu cld\">i </span><span class=\"txtu cld\">ʾ</span><span class=\"txtu cld\">u-</span><span class=\"txtu cld\">N</span><span class=\"txtu cld\">o</span><span class=\"txtu cld\">z</span><span class=\"txtu cld\">à</span><span class=\"txtu cld\">l</span><span class=\"txtu cld\">i.ˈ </span></div>"
      ],
      "text/plain": [
       "<IPython.core.display.HTML object>"
      ]
     },
     "metadata": {},
     "output_type": "display_data"
    },
    {
     "data": {
      "text/html": [
       "<div class=\"\"><span class=\"section \"><a target=\"_blank\" href=\"https://github.com/CambridgeSemiticsLab/nena_corpus/blob/master/nena/0.02/Barwar/Gozali and Nozali.nena\" title=\"Show this title in the NENA repository\" sec=\"Barwar, Gozali and Nozali, Ln. 1\">Barwar, Gozali and Nozali, Ln. 1</a></span>  <span class=\"txtu cld\">d</span><span class=\"txtu cld\">á</span><span class=\"txtu cld\">x </span><span class=\"txtu cld\">ʾ</span><span class=\"txtu cld\">i</span><span class=\"txtu cld\">w</span><span class=\"txtu cld\">á</span><span class=\"txtu cld\">w</span><span class=\"txtu cld\">a </span><span class=\"txtu cld\">ʾ</span><span class=\"txtu cld\">à</span><span class=\"txtu cld\">y</span><span class=\"txtu cld\">y</span><span class=\"txtu cld\">a?ˈ </span></div>"
      ],
      "text/plain": [
       "<IPython.core.display.HTML object>"
      ]
     },
     "metadata": {},
     "output_type": "display_data"
    },
    {
     "data": {
      "text/html": [
       "<div class=\"\"><span class=\"section \"><a target=\"_blank\" href=\"https://github.com/CambridgeSemiticsLab/nena_corpus/blob/master/nena/0.02/Barwar/Gozali and Nozali.nena\" title=\"Show this title in the NENA repository\" sec=\"Barwar, Gozali and Nozali, Ln. 1\">Barwar, Gozali and Nozali, Ln. 1</a></span>  <span class=\"txtu cld\">ʾ</span><span class=\"txtu cld\">i-</span><span class=\"txtu cld\">m</span><span class=\"txtu cld\">š</span><span class=\"txtu cld\">á</span><span class=\"txtu cld\">r</span><span class=\"txtu cld\">ə</span><span class=\"txtu cld\">x</span><span class=\"txtu cld\">w</span><span class=\"txtu cld\">a </span><span class=\"txtu cld\">t</span><span class=\"txtu cld\">u</span><span class=\"txtu cld\">n</span><span class=\"txtu cld\">í</span><span class=\"txtu cld\">θ</span><span class=\"txtu cld\">a </span><span class=\"txtu cld\">y-</span><span class=\"txtu cld\">a</span><span class=\"txtu cld\">m</span><span class=\"txtu cld\">r</span><span class=\"txtu cld\">ì</span><span class=\"txtu cld\">w</span><span class=\"txtu cld\">aˈ </span></div>"
      ],
      "text/plain": [
       "<IPython.core.display.HTML object>"
      ]
     },
     "metadata": {},
     "output_type": "display_data"
    },
    {
     "data": {
      "text/html": [
       "<div class=\"\"><span class=\"section \"><a target=\"_blank\" href=\"https://github.com/CambridgeSemiticsLab/nena_corpus/blob/master/nena/0.02/Barwar/Gozali and Nozali.nena\" title=\"Show this title in the NENA repository\" sec=\"Barwar, Gozali and Nozali, Ln. 2\">Barwar, Gozali and Nozali, Ln. 2</a></span>  <span class=\"txtu cld\">ʾ</span><span class=\"txtu cld\">í</span><span class=\"txtu cld\">θ</span><span class=\"txtu cld\">w</span><span class=\"txtu cld\">a-</span><span class=\"txtu cld\">w </span><span class=\"txtu cld\">l</span><span class=\"txtu cld\">ì</span><span class=\"txtu cld\">θ</span><span class=\"txtu cld\">w</span><span class=\"txtu cld\">aˈ </span><span class=\"txtu cld\">b</span><span class=\"txtu cld\">í</span><span class=\"txtu cld\">š </span><span class=\"txtu cld\">m-</span><span class=\"txtu cld\">á</span><span class=\"txtu cld\">l</span><span class=\"txtu cld\">a</span><span class=\"txtu cld\">h</span><span class=\"txtu cld\">a </span><span class=\"txtu cld\">g</span><span class=\"txtu cld\">ò</span><span class=\"txtu cld\">ṛ</span><span class=\"txtu cld\">aˈ </span><span class=\"txtu cld\">l</span><span class=\"txtu cld\">í</span><span class=\"txtu cld\">θ</span><span class=\"txtu cld\">w</span><span class=\"txtu cld\">a </span><span class=\"txtu cld\">g</span><span class=\"txtu cld\">ò</span><span class=\"txtu cld\">ṛ</span><span class=\"txtu cld\">aˈ </span><span class=\"txtu cld\">h</span><span class=\"txtu cld\">i</span><span class=\"txtu cld\">č-</span><span class=\"txtu cld\">n</span><span class=\"txtu cld\">à</span><span class=\"txtu cld\">š</span><span class=\"txtu cld\">a.ˈ </span></div>"
      ],
      "text/plain": [
       "<IPython.core.display.HTML object>"
      ]
     },
     "metadata": {},
     "output_type": "display_data"
    },
    {
     "data": {
      "text/html": [
       "<div class=\"\"><span class=\"section \"><a target=\"_blank\" href=\"https://github.com/CambridgeSemiticsLab/nena_corpus/blob/master/nena/0.02/Barwar/Gozali and Nozali.nena\" title=\"Show this title in the NENA repository\" sec=\"Barwar, Gozali and Nozali, Ln. 2\">Barwar, Gozali and Nozali, Ln. 2</a></span>  <span class=\"txtu cld\">b</span><span class=\"txtu cld\">a</span><span class=\"txtu cld\">s-</span><span class=\"txtu cld\">ʾ</span><span class=\"txtu cld\">í</span><span class=\"txtu cld\">θ</span><span class=\"txtu cld\">w</span><span class=\"txtu cld\">a </span><span class=\"txtu cld\">x</span><span class=\"txtu cld\">á </span><span class=\"txtu cld\">m</span><span class=\"txtu cld\">a</span><span class=\"txtu cld\">l</span><span class=\"txtu cld\">k</span><span class=\"txtu cld\">àˈ </span><span class=\"txtu cld\">ʾ</span><span class=\"txtu cld\">í</span><span class=\"txtu cld\">θ</span><span class=\"txtu cld\">w</span><span class=\"txtu cld\">a</span><span class=\"txtu cld\">l</span><span class=\"txtu cld\">e </span><span class=\"txtu cld\">x</span><span class=\"txtu cld\">a-</span><span class=\"txtu cld\">b</span><span class=\"txtu cld\">r</span><span class=\"txtu cld\">ò</span><span class=\"txtu cld\">n</span><span class=\"txtu cld\">a.ˈ </span></div>"
      ],
      "text/plain": [
       "<IPython.core.display.HTML object>"
      ]
     },
     "metadata": {},
     "output_type": "display_data"
    },
    {
     "data": {
      "text/html": [
       "<div class=\"\"><span class=\"section \"><a target=\"_blank\" href=\"https://github.com/CambridgeSemiticsLab/nena_corpus/blob/master/nena/0.02/Barwar/Gozali and Nozali.nena\" title=\"Show this title in the NENA repository\" sec=\"Barwar, Gozali and Nozali, Ln. 2\">Barwar, Gozali and Nozali, Ln. 2</a></span>  <span class=\"txtu cld\">ʾ</span><span class=\"txtu cld\">á</span><span class=\"txtu cld\">w </span><span class=\"txtu cld\">m</span><span class=\"txtu cld\">a</span><span class=\"txtu cld\">l</span><span class=\"txtu cld\">k</span><span class=\"txtu cld\">àˈ </span><span class=\"txtu cld\">r</span><span class=\"txtu cld\">á</span><span class=\"txtu cld\">b</span><span class=\"txtu cld\">a </span><span class=\"txtu cld\">b</span><span class=\"txtu cld\">ắ</span><span class=\"txtu cld\">y</span><span class=\"txtu cld\">e</span><span class=\"txtu cld\">w</span><span class=\"txtu cld\">a</span><span class=\"txtu cld\">l</span><span class=\"txtu cld\">e </span><span class=\"txtu cld\">ʾ</span><span class=\"txtu cld\">a</span><span class=\"txtu cld\">w-</span><span class=\"txtu cld\">b</span><span class=\"txtu cld\">r</span><span class=\"txtu cld\">ó</span><span class=\"txtu cld\">n</span><span class=\"txtu cld\">e </span><span class=\"txtu cld\">d</span><span class=\"txtu cld\">ì</span><span class=\"txtu cld\">y</span><span class=\"txtu cld\">e.ˈ </span></div>"
      ],
      "text/plain": [
       "<IPython.core.display.HTML object>"
      ]
     },
     "metadata": {},
     "output_type": "display_data"
    },
    {
     "data": {
      "text/html": [
       "<div class=\"\"><span class=\"section \"><a target=\"_blank\" href=\"https://github.com/CambridgeSemiticsLab/nena_corpus/blob/master/nena/0.02/Barwar/Gozali and Nozali.nena\" title=\"Show this title in the NENA repository\" sec=\"Barwar, Gozali and Nozali, Ln. 2\">Barwar, Gozali and Nozali, Ln. 2</a></span>  <span class=\"txtu cld\">ʾ</span><span class=\"txtu cld\">u-</span><span class=\"txtu cld\">ṭ</span><span class=\"txtu cld\">á</span><span class=\"txtu cld\">b</span><span class=\"txtu cld\">ʿ</span><span class=\"txtu cld\">a</span><span class=\"txtu cld\">n </span><span class=\"txtu cld\">m</span><span class=\"txtu cld\">à</span><span class=\"txtu cld\">l</span><span class=\"txtu cld\">k</span><span class=\"txtu cld\">aˈ </span><span class=\"txtu cld\">b</span><span class=\"txtu cld\">r</span><span class=\"txtu cld\">ó</span><span class=\"txtu cld\">n</span><span class=\"txtu cld\">e </span><span class=\"txtu cld\">d</span><span class=\"txtu cld\">í</span><span class=\"txtu cld\">y</span><span class=\"txtu cld\">e </span><span class=\"txtu cld\">p</span><span class=\"txtu cld\">á</span><span class=\"txtu cld\">y</span><span class=\"txtu cld\">ə</span><span class=\"txtu cld\">š </span><span class=\"txtu cld\">š</span><span class=\"txtu cld\">à</span><span class=\"txtu cld\">w</span><span class=\"txtu cld\">p</span><span class=\"txtu cld\">e </span><span class=\"txtu cld\">d</span><span class=\"txtu cld\">í</span><span class=\"txtu cld\">y</span><span class=\"txtu cld\">e.ˈ </span></div>"
      ],
      "text/plain": [
       "<IPython.core.display.HTML object>"
      ]
     },
     "metadata": {},
     "output_type": "display_data"
    },
    {
     "data": {
      "text/html": [
       "<div class=\"\"><span class=\"section \"><a target=\"_blank\" href=\"https://github.com/CambridgeSemiticsLab/nena_corpus/blob/master/nena/0.02/Barwar/Gozali and Nozali.nena\" title=\"Show this title in the NENA repository\" sec=\"Barwar, Gozali and Nozali, Ln. 2\">Barwar, Gozali and Nozali, Ln. 2</a></span>  <span class=\"txtu cld\">ʾ</span><span class=\"txtu cld\">í</span><span class=\"txtu cld\">m</span><span class=\"txtu cld\">a</span><span class=\"txtu cld\">n-</span><span class=\"txtu cld\">t </span><span class=\"txtu cld\">m</span><span class=\"txtu cld\">á</span><span class=\"txtu cld\">l</span><span class=\"txtu cld\">k</span><span class=\"txtu cld\">a </span><span class=\"txtu cld\">ʾ</span><span class=\"txtu cld\">i-</span><span class=\"txtu cld\">m</span><span class=\"txtu cld\">à</span><span class=\"txtu cld\">y</span><span class=\"txtu cld\">ə</span><span class=\"txtu cld\">θ,ˈ </span><span class=\"txtu cld\">ʾ</span><span class=\"txtu cld\">í</span><span class=\"txtu cld\">m</span><span class=\"txtu cld\">a</span><span class=\"txtu cld\">n-</span><span class=\"txtu cld\">t </span><span class=\"txtu cld\">p</span><span class=\"txtu cld\">á</span><span class=\"txtu cld\">y</span><span class=\"txtu cld\">ə</span><span class=\"txtu cld\">š </span><span class=\"txtu cld\">g</span><span class=\"txtu cld\">ò</span><span class=\"txtu cld\">ṛ</span><span class=\"txtu cld\">aˈ </span><span class=\"txtu cld\">b</span><span class=\"txtu cld\">r</span><span class=\"txtu cld\">ó</span><span class=\"txtu cld\">n</span><span class=\"txtu cld\">a </span><span class=\"txtu cld\">d</span><span class=\"txtu cld\">í</span><span class=\"txtu cld\">y</span><span class=\"txtu cld\">e </span><span class=\"txtu cld\">š</span><span class=\"txtu cld\">á</span><span class=\"txtu cld\">q</span><span class=\"txtu cld\">ə</span><span class=\"txtu cld\">l </span><span class=\"txtu cld\">š</span><span class=\"txtu cld\">á</span><span class=\"txtu cld\">w</span><span class=\"txtu cld\">p</span><span class=\"txtu cld\">e </span><span class=\"txtu cld\">d</span><span class=\"txtu cld\">ì</span><span class=\"txtu cld\">y</span><span class=\"txtu cld\">eˈ </span><span class=\"txtu cld\">b</span><span class=\"txtu cld\">a</span><span class=\"txtu cld\">r-</span><span class=\"txtu cld\">d-</span><span class=\"txtu cld\">à</span><span class=\"txtu cld\">w.ˈ </span></div>"
      ],
      "text/plain": [
       "<IPython.core.display.HTML object>"
      ]
     },
     "metadata": {},
     "output_type": "display_data"
    },
    {
     "data": {
      "text/html": [
       "<div class=\"\"><span class=\"section \"><a target=\"_blank\" href=\"https://github.com/CambridgeSemiticsLab/nena_corpus/blob/master/nena/0.02/Barwar/Gozali and Nozali.nena\" title=\"Show this title in the NENA repository\" sec=\"Barwar, Gozali and Nozali, Ln. 3\">Barwar, Gozali and Nozali, Ln. 3</a></span>  <span class=\"txtu cld\">ʾ</span><span class=\"txtu cld\">ɛ́-</span><span class=\"txtu cld\">g</span><span class=\"txtu cld\">a </span><span class=\"txtu cld\">x</span><span class=\"txtu cld\">a-</span><span class=\"txtu cld\">y</span><span class=\"txtu cld\">ó</span><span class=\"txtu cld\">m</span><span class=\"txtu cld\">a </span><span class=\"txtu cld\">m</span><span class=\"txtu cld\">á</span><span class=\"txtu cld\">l</span><span class=\"txtu cld\">k</span><span class=\"txtu cld\">a </span><span class=\"txtu cld\">d</span><span class=\"txtu cld\">m</span><span class=\"txtu cld\">í</span><span class=\"txtu cld\">x</span><span class=\"txtu cld\">a-</span><span class=\"txtu cld\">w</span><span class=\"txtu cld\">e</span><span class=\"txtu cld\">w</span><span class=\"txtu cld\">a </span><span class=\"txtu cld\">b-</span><span class=\"txtu cld\">l</span><span class=\"txtu cld\">ɛ̀</span><span class=\"txtu cld\">l</span><span class=\"txtu cld\">e,ˈ </span><span class=\"txtu cld\">d</span><span class=\"txtu cld\">m</span><span class=\"txtu cld\">ì</span><span class=\"txtu cld\">x</span><span class=\"txtu cld\">a </span><span class=\"txtu cld\">w</span><span class=\"txtu cld\">é</span><span class=\"txtu cld\">w</span><span class=\"txtu cld\">a,ˈ </span><span class=\"txtu cld\">ʾ</span><span class=\"txtu cld\">u-</span><span class=\"txtu cld\">x</span><span class=\"txtu cld\">z</span><span class=\"txtu cld\">é</span><span class=\"txtu cld\">l</span><span class=\"txtu cld\">e </span><span class=\"txtu cld\">b-</span><span class=\"txtu cld\">x</span><span class=\"txtu cld\">ə́</span><span class=\"txtu cld\">l</span><span class=\"txtu cld\">m</span><span class=\"txtu cld\">e </span><span class=\"txtu cld\">d</span><span class=\"txtu cld\">ì</span><span class=\"txtu cld\">y</span><span class=\"txtu cld\">eˈ </span><span class=\"txtu cld\">ʾ</span><span class=\"txtu cld\">í</span><span class=\"txtu cld\">θ </span><span class=\"txtu cld\">x</span><span class=\"txtu cld\">a-</span><span class=\"txtu cld\">n</span><span class=\"txtu cld\">á</span><span class=\"txtu cld\">š</span><span class=\"txtu cld\">a </span><span class=\"txtu cld\">g</span><span class=\"txtu cld\">u-</span><span class=\"txtu cld\">d-</span><span class=\"txtu cld\">á</span><span class=\"txtu cld\">y </span><span class=\"txtu cld\">m</span><span class=\"txtu cld\">ð</span><span class=\"txtu cld\">ì</span><span class=\"txtu cld\">t</span><span class=\"txtu cld\">aˈ </span><span class=\"txtu cld\">b</span><span class=\"txtu cld\">i</span><span class=\"txtu cld\">š-</span><span class=\"txtu cld\">f</span><span class=\"txtu cld\">ă</span><span class=\"txtu cld\">q</span><span class=\"txtu cld\">í</span><span class=\"txtu cld\">r</span><span class=\"txtu cld\">a </span><span class=\"txtu cld\">m-</span><span class=\"txtu cld\">k</span><span class=\"txtu cld\">ú</span><span class=\"txtu cld\">l</span><span class=\"txtu cld\">l</span><span class=\"txtu cld\">a </span><span class=\"txtu cld\">n</span><span class=\"txtu cld\">à</span><span class=\"txtu cld\">š</span><span class=\"txtu cld\">a.ˈ </span></div>"
      ],
      "text/plain": [
       "<IPython.core.display.HTML object>"
      ]
     },
     "metadata": {},
     "output_type": "display_data"
    },
    {
     "data": {
      "text/html": [
       "<div class=\"\"><span class=\"section \"><a target=\"_blank\" href=\"https://github.com/CambridgeSemiticsLab/nena_corpus/blob/master/nena/0.02/Barwar/Gozali and Nozali.nena\" title=\"Show this title in the NENA repository\" sec=\"Barwar, Gozali and Nozali, Ln. 3\">Barwar, Gozali and Nozali, Ln. 3</a></span>  <span class=\"txtu cld\">r</span><span class=\"txtu cld\">á</span><span class=\"txtu cld\">b</span><span class=\"txtu cld\">a </span><span class=\"txtu cld\">f</span><span class=\"txtu cld\">ă</span><span class=\"txtu cld\">q</span><span class=\"txtu cld\">ì</span><span class=\"txtu cld\">r</span><span class=\"txtu cld\">a-</span><span class=\"txtu cld\">w</span><span class=\"txtu cld\">e</span><span class=\"txtu cld\">w</span><span class=\"txtu cld\">a </span><span class=\"txtu cld\">ʾ</span><span class=\"txtu cld\">a</span><span class=\"txtu cld\">w</span><span class=\"txtu cld\">w</span><span class=\"txtu cld\">a-</span><span class=\"txtu cld\">n</span><span class=\"txtu cld\">á</span><span class=\"txtu cld\">š</span><span class=\"txtu cld\">a.ˈ </span></div>"
      ],
      "text/plain": [
       "<IPython.core.display.HTML object>"
      ]
     },
     "metadata": {},
     "output_type": "display_data"
    }
   ],
   "source": [
    "for s in sentences:\n",
    "    A.plain(s)"
   ]
  },
  {
   "cell_type": "markdown",
   "metadata": {},
   "source": [
    "The `plain()` function focuses on the *contents*, and instead of the line number, it gives a full specification\n",
    "of the location in the GitHub repo for NENA.\n",
    "\n",
    "But we can omit the locations:"
   ]
  },
  {
   "cell_type": "code",
   "execution_count": 8,
   "metadata": {},
   "outputs": [
    {
     "data": {
      "text/html": [
       "<div class=\"\"><span class=\"txtu cld\">ʾ</span><span class=\"txtu cld\">á</span><span class=\"txtu cld\">n</span><span class=\"txtu cld\">a </span><span class=\"txtu cld\">š</span><span class=\"txtu cld\">m</span><span class=\"txtu cld\">í</span><span class=\"txtu cld\">y</span><span class=\"txtu cld\">ə</span><span class=\"txtu cld\">n</span><span class=\"txtu cld\">w</span><span class=\"txtu cld\">a </span><span class=\"txtu cld\">x</span><span class=\"txtu cld\">a-</span><span class=\"txtu cld\">t</span><span class=\"txtu cld\">u</span><span class=\"txtu cld\">n</span><span class=\"txtu cld\">ì</span><span class=\"txtu cld\">θ</span><span class=\"txtu cld\">aˈ </span><span class=\"txtu cld\">y-</span><span class=\"txtu cld\">a</span><span class=\"txtu cld\">m</span><span class=\"txtu cld\">r</span><span class=\"txtu cld\">í</span><span class=\"txtu cld\">w</span><span class=\"txtu cld\">a</span><span class=\"txtu cld\">l</span><span class=\"txtu cld\">a </span><span class=\"txtu cld\">G</span><span class=\"txtu cld\">o</span><span class=\"txtu cld\">z</span><span class=\"txtu cld\">á</span><span class=\"txtu cld\">l</span><span class=\"txtu cld\">i </span><span class=\"txtu cld\">ʾ</span><span class=\"txtu cld\">u-</span><span class=\"txtu cld\">N</span><span class=\"txtu cld\">o</span><span class=\"txtu cld\">z</span><span class=\"txtu cld\">à</span><span class=\"txtu cld\">l</span><span class=\"txtu cld\">i,ˈ </span><span class=\"txtu cld\">š</span><span class=\"txtu cld\">ə́</span><span class=\"txtu cld\">m</span><span class=\"txtu cld\">m</span><span class=\"txtu cld\">a </span><span class=\"txtu cld\">d</span><span class=\"txtu cld\">í</span><span class=\"txtu cld\">y</span><span class=\"txtu cld\">a </span><span class=\"txtu cld\">y</span><span class=\"txtu cld\">á</span><span class=\"txtu cld\">ʿ</span><span class=\"txtu cld\">n</span><span class=\"txtu cld\">i </span><span class=\"txtu cld\">t</span><span class=\"txtu cld\">u</span><span class=\"txtu cld\">n</span><span class=\"txtu cld\">í</span><span class=\"txtu cld\">θ</span><span class=\"txtu cld\">ə</span><span class=\"txtu cld\">t </span><span class=\"txtu cld\">G</span><span class=\"txtu cld\">o</span><span class=\"txtu cld\">z</span><span class=\"txtu cld\">á</span><span class=\"txtu cld\">l</span><span class=\"txtu cld\">i </span><span class=\"txtu cld\">ʾ</span><span class=\"txtu cld\">u-</span><span class=\"txtu cld\">N</span><span class=\"txtu cld\">o</span><span class=\"txtu cld\">z</span><span class=\"txtu cld\">à</span><span class=\"txtu cld\">l</span><span class=\"txtu cld\">i.ˈ </span></div>"
      ],
      "text/plain": [
       "<IPython.core.display.HTML object>"
      ]
     },
     "metadata": {},
     "output_type": "display_data"
    },
    {
     "data": {
      "text/html": [
       "<div class=\"\"><span class=\"txtu cld\">d</span><span class=\"txtu cld\">á</span><span class=\"txtu cld\">x </span><span class=\"txtu cld\">ʾ</span><span class=\"txtu cld\">i</span><span class=\"txtu cld\">w</span><span class=\"txtu cld\">á</span><span class=\"txtu cld\">w</span><span class=\"txtu cld\">a </span><span class=\"txtu cld\">ʾ</span><span class=\"txtu cld\">à</span><span class=\"txtu cld\">y</span><span class=\"txtu cld\">y</span><span class=\"txtu cld\">a?ˈ </span></div>"
      ],
      "text/plain": [
       "<IPython.core.display.HTML object>"
      ]
     },
     "metadata": {},
     "output_type": "display_data"
    },
    {
     "data": {
      "text/html": [
       "<div class=\"\"><span class=\"txtu cld\">ʾ</span><span class=\"txtu cld\">i-</span><span class=\"txtu cld\">m</span><span class=\"txtu cld\">š</span><span class=\"txtu cld\">á</span><span class=\"txtu cld\">r</span><span class=\"txtu cld\">ə</span><span class=\"txtu cld\">x</span><span class=\"txtu cld\">w</span><span class=\"txtu cld\">a </span><span class=\"txtu cld\">t</span><span class=\"txtu cld\">u</span><span class=\"txtu cld\">n</span><span class=\"txtu cld\">í</span><span class=\"txtu cld\">θ</span><span class=\"txtu cld\">a </span><span class=\"txtu cld\">y-</span><span class=\"txtu cld\">a</span><span class=\"txtu cld\">m</span><span class=\"txtu cld\">r</span><span class=\"txtu cld\">ì</span><span class=\"txtu cld\">w</span><span class=\"txtu cld\">aˈ </span></div>"
      ],
      "text/plain": [
       "<IPython.core.display.HTML object>"
      ]
     },
     "metadata": {},
     "output_type": "display_data"
    },
    {
     "data": {
      "text/html": [
       "<div class=\"\"><span class=\"txtu cld\">ʾ</span><span class=\"txtu cld\">í</span><span class=\"txtu cld\">θ</span><span class=\"txtu cld\">w</span><span class=\"txtu cld\">a-</span><span class=\"txtu cld\">w </span><span class=\"txtu cld\">l</span><span class=\"txtu cld\">ì</span><span class=\"txtu cld\">θ</span><span class=\"txtu cld\">w</span><span class=\"txtu cld\">aˈ </span><span class=\"txtu cld\">b</span><span class=\"txtu cld\">í</span><span class=\"txtu cld\">š </span><span class=\"txtu cld\">m-</span><span class=\"txtu cld\">á</span><span class=\"txtu cld\">l</span><span class=\"txtu cld\">a</span><span class=\"txtu cld\">h</span><span class=\"txtu cld\">a </span><span class=\"txtu cld\">g</span><span class=\"txtu cld\">ò</span><span class=\"txtu cld\">ṛ</span><span class=\"txtu cld\">aˈ </span><span class=\"txtu cld\">l</span><span class=\"txtu cld\">í</span><span class=\"txtu cld\">θ</span><span class=\"txtu cld\">w</span><span class=\"txtu cld\">a </span><span class=\"txtu cld\">g</span><span class=\"txtu cld\">ò</span><span class=\"txtu cld\">ṛ</span><span class=\"txtu cld\">aˈ </span><span class=\"txtu cld\">h</span><span class=\"txtu cld\">i</span><span class=\"txtu cld\">č-</span><span class=\"txtu cld\">n</span><span class=\"txtu cld\">à</span><span class=\"txtu cld\">š</span><span class=\"txtu cld\">a.ˈ </span></div>"
      ],
      "text/plain": [
       "<IPython.core.display.HTML object>"
      ]
     },
     "metadata": {},
     "output_type": "display_data"
    },
    {
     "data": {
      "text/html": [
       "<div class=\"\"><span class=\"txtu cld\">b</span><span class=\"txtu cld\">a</span><span class=\"txtu cld\">s-</span><span class=\"txtu cld\">ʾ</span><span class=\"txtu cld\">í</span><span class=\"txtu cld\">θ</span><span class=\"txtu cld\">w</span><span class=\"txtu cld\">a </span><span class=\"txtu cld\">x</span><span class=\"txtu cld\">á </span><span class=\"txtu cld\">m</span><span class=\"txtu cld\">a</span><span class=\"txtu cld\">l</span><span class=\"txtu cld\">k</span><span class=\"txtu cld\">àˈ </span><span class=\"txtu cld\">ʾ</span><span class=\"txtu cld\">í</span><span class=\"txtu cld\">θ</span><span class=\"txtu cld\">w</span><span class=\"txtu cld\">a</span><span class=\"txtu cld\">l</span><span class=\"txtu cld\">e </span><span class=\"txtu cld\">x</span><span class=\"txtu cld\">a-</span><span class=\"txtu cld\">b</span><span class=\"txtu cld\">r</span><span class=\"txtu cld\">ò</span><span class=\"txtu cld\">n</span><span class=\"txtu cld\">a.ˈ </span></div>"
      ],
      "text/plain": [
       "<IPython.core.display.HTML object>"
      ]
     },
     "metadata": {},
     "output_type": "display_data"
    },
    {
     "data": {
      "text/html": [
       "<div class=\"\"><span class=\"txtu cld\">ʾ</span><span class=\"txtu cld\">á</span><span class=\"txtu cld\">w </span><span class=\"txtu cld\">m</span><span class=\"txtu cld\">a</span><span class=\"txtu cld\">l</span><span class=\"txtu cld\">k</span><span class=\"txtu cld\">àˈ </span><span class=\"txtu cld\">r</span><span class=\"txtu cld\">á</span><span class=\"txtu cld\">b</span><span class=\"txtu cld\">a </span><span class=\"txtu cld\">b</span><span class=\"txtu cld\">ắ</span><span class=\"txtu cld\">y</span><span class=\"txtu cld\">e</span><span class=\"txtu cld\">w</span><span class=\"txtu cld\">a</span><span class=\"txtu cld\">l</span><span class=\"txtu cld\">e </span><span class=\"txtu cld\">ʾ</span><span class=\"txtu cld\">a</span><span class=\"txtu cld\">w-</span><span class=\"txtu cld\">b</span><span class=\"txtu cld\">r</span><span class=\"txtu cld\">ó</span><span class=\"txtu cld\">n</span><span class=\"txtu cld\">e </span><span class=\"txtu cld\">d</span><span class=\"txtu cld\">ì</span><span class=\"txtu cld\">y</span><span class=\"txtu cld\">e.ˈ </span></div>"
      ],
      "text/plain": [
       "<IPython.core.display.HTML object>"
      ]
     },
     "metadata": {},
     "output_type": "display_data"
    },
    {
     "data": {
      "text/html": [
       "<div class=\"\"><span class=\"txtu cld\">ʾ</span><span class=\"txtu cld\">u-</span><span class=\"txtu cld\">ṭ</span><span class=\"txtu cld\">á</span><span class=\"txtu cld\">b</span><span class=\"txtu cld\">ʿ</span><span class=\"txtu cld\">a</span><span class=\"txtu cld\">n </span><span class=\"txtu cld\">m</span><span class=\"txtu cld\">à</span><span class=\"txtu cld\">l</span><span class=\"txtu cld\">k</span><span class=\"txtu cld\">aˈ </span><span class=\"txtu cld\">b</span><span class=\"txtu cld\">r</span><span class=\"txtu cld\">ó</span><span class=\"txtu cld\">n</span><span class=\"txtu cld\">e </span><span class=\"txtu cld\">d</span><span class=\"txtu cld\">í</span><span class=\"txtu cld\">y</span><span class=\"txtu cld\">e </span><span class=\"txtu cld\">p</span><span class=\"txtu cld\">á</span><span class=\"txtu cld\">y</span><span class=\"txtu cld\">ə</span><span class=\"txtu cld\">š </span><span class=\"txtu cld\">š</span><span class=\"txtu cld\">à</span><span class=\"txtu cld\">w</span><span class=\"txtu cld\">p</span><span class=\"txtu cld\">e </span><span class=\"txtu cld\">d</span><span class=\"txtu cld\">í</span><span class=\"txtu cld\">y</span><span class=\"txtu cld\">e.ˈ </span></div>"
      ],
      "text/plain": [
       "<IPython.core.display.HTML object>"
      ]
     },
     "metadata": {},
     "output_type": "display_data"
    },
    {
     "data": {
      "text/html": [
       "<div class=\"\"><span class=\"txtu cld\">ʾ</span><span class=\"txtu cld\">í</span><span class=\"txtu cld\">m</span><span class=\"txtu cld\">a</span><span class=\"txtu cld\">n-</span><span class=\"txtu cld\">t </span><span class=\"txtu cld\">m</span><span class=\"txtu cld\">á</span><span class=\"txtu cld\">l</span><span class=\"txtu cld\">k</span><span class=\"txtu cld\">a </span><span class=\"txtu cld\">ʾ</span><span class=\"txtu cld\">i-</span><span class=\"txtu cld\">m</span><span class=\"txtu cld\">à</span><span class=\"txtu cld\">y</span><span class=\"txtu cld\">ə</span><span class=\"txtu cld\">θ,ˈ </span><span class=\"txtu cld\">ʾ</span><span class=\"txtu cld\">í</span><span class=\"txtu cld\">m</span><span class=\"txtu cld\">a</span><span class=\"txtu cld\">n-</span><span class=\"txtu cld\">t </span><span class=\"txtu cld\">p</span><span class=\"txtu cld\">á</span><span class=\"txtu cld\">y</span><span class=\"txtu cld\">ə</span><span class=\"txtu cld\">š </span><span class=\"txtu cld\">g</span><span class=\"txtu cld\">ò</span><span class=\"txtu cld\">ṛ</span><span class=\"txtu cld\">aˈ </span><span class=\"txtu cld\">b</span><span class=\"txtu cld\">r</span><span class=\"txtu cld\">ó</span><span class=\"txtu cld\">n</span><span class=\"txtu cld\">a </span><span class=\"txtu cld\">d</span><span class=\"txtu cld\">í</span><span class=\"txtu cld\">y</span><span class=\"txtu cld\">e </span><span class=\"txtu cld\">š</span><span class=\"txtu cld\">á</span><span class=\"txtu cld\">q</span><span class=\"txtu cld\">ə</span><span class=\"txtu cld\">l </span><span class=\"txtu cld\">š</span><span class=\"txtu cld\">á</span><span class=\"txtu cld\">w</span><span class=\"txtu cld\">p</span><span class=\"txtu cld\">e </span><span class=\"txtu cld\">d</span><span class=\"txtu cld\">ì</span><span class=\"txtu cld\">y</span><span class=\"txtu cld\">eˈ </span><span class=\"txtu cld\">b</span><span class=\"txtu cld\">a</span><span class=\"txtu cld\">r-</span><span class=\"txtu cld\">d-</span><span class=\"txtu cld\">à</span><span class=\"txtu cld\">w.ˈ </span></div>"
      ],
      "text/plain": [
       "<IPython.core.display.HTML object>"
      ]
     },
     "metadata": {},
     "output_type": "display_data"
    },
    {
     "data": {
      "text/html": [
       "<div class=\"\"><span class=\"txtu cld\">ʾ</span><span class=\"txtu cld\">ɛ́-</span><span class=\"txtu cld\">g</span><span class=\"txtu cld\">a </span><span class=\"txtu cld\">x</span><span class=\"txtu cld\">a-</span><span class=\"txtu cld\">y</span><span class=\"txtu cld\">ó</span><span class=\"txtu cld\">m</span><span class=\"txtu cld\">a </span><span class=\"txtu cld\">m</span><span class=\"txtu cld\">á</span><span class=\"txtu cld\">l</span><span class=\"txtu cld\">k</span><span class=\"txtu cld\">a </span><span class=\"txtu cld\">d</span><span class=\"txtu cld\">m</span><span class=\"txtu cld\">í</span><span class=\"txtu cld\">x</span><span class=\"txtu cld\">a-</span><span class=\"txtu cld\">w</span><span class=\"txtu cld\">e</span><span class=\"txtu cld\">w</span><span class=\"txtu cld\">a </span><span class=\"txtu cld\">b-</span><span class=\"txtu cld\">l</span><span class=\"txtu cld\">ɛ̀</span><span class=\"txtu cld\">l</span><span class=\"txtu cld\">e,ˈ </span><span class=\"txtu cld\">d</span><span class=\"txtu cld\">m</span><span class=\"txtu cld\">ì</span><span class=\"txtu cld\">x</span><span class=\"txtu cld\">a </span><span class=\"txtu cld\">w</span><span class=\"txtu cld\">é</span><span class=\"txtu cld\">w</span><span class=\"txtu cld\">a,ˈ </span><span class=\"txtu cld\">ʾ</span><span class=\"txtu cld\">u-</span><span class=\"txtu cld\">x</span><span class=\"txtu cld\">z</span><span class=\"txtu cld\">é</span><span class=\"txtu cld\">l</span><span class=\"txtu cld\">e </span><span class=\"txtu cld\">b-</span><span class=\"txtu cld\">x</span><span class=\"txtu cld\">ə́</span><span class=\"txtu cld\">l</span><span class=\"txtu cld\">m</span><span class=\"txtu cld\">e </span><span class=\"txtu cld\">d</span><span class=\"txtu cld\">ì</span><span class=\"txtu cld\">y</span><span class=\"txtu cld\">eˈ </span><span class=\"txtu cld\">ʾ</span><span class=\"txtu cld\">í</span><span class=\"txtu cld\">θ </span><span class=\"txtu cld\">x</span><span class=\"txtu cld\">a-</span><span class=\"txtu cld\">n</span><span class=\"txtu cld\">á</span><span class=\"txtu cld\">š</span><span class=\"txtu cld\">a </span><span class=\"txtu cld\">g</span><span class=\"txtu cld\">u-</span><span class=\"txtu cld\">d-</span><span class=\"txtu cld\">á</span><span class=\"txtu cld\">y </span><span class=\"txtu cld\">m</span><span class=\"txtu cld\">ð</span><span class=\"txtu cld\">ì</span><span class=\"txtu cld\">t</span><span class=\"txtu cld\">aˈ </span><span class=\"txtu cld\">b</span><span class=\"txtu cld\">i</span><span class=\"txtu cld\">š-</span><span class=\"txtu cld\">f</span><span class=\"txtu cld\">ă</span><span class=\"txtu cld\">q</span><span class=\"txtu cld\">í</span><span class=\"txtu cld\">r</span><span class=\"txtu cld\">a </span><span class=\"txtu cld\">m-</span><span class=\"txtu cld\">k</span><span class=\"txtu cld\">ú</span><span class=\"txtu cld\">l</span><span class=\"txtu cld\">l</span><span class=\"txtu cld\">a </span><span class=\"txtu cld\">n</span><span class=\"txtu cld\">à</span><span class=\"txtu cld\">š</span><span class=\"txtu cld\">a.ˈ </span></div>"
      ],
      "text/plain": [
       "<IPython.core.display.HTML object>"
      ]
     },
     "metadata": {},
     "output_type": "display_data"
    },
    {
     "data": {
      "text/html": [
       "<div class=\"\"><span class=\"txtu cld\">r</span><span class=\"txtu cld\">á</span><span class=\"txtu cld\">b</span><span class=\"txtu cld\">a </span><span class=\"txtu cld\">f</span><span class=\"txtu cld\">ă</span><span class=\"txtu cld\">q</span><span class=\"txtu cld\">ì</span><span class=\"txtu cld\">r</span><span class=\"txtu cld\">a-</span><span class=\"txtu cld\">w</span><span class=\"txtu cld\">e</span><span class=\"txtu cld\">w</span><span class=\"txtu cld\">a </span><span class=\"txtu cld\">ʾ</span><span class=\"txtu cld\">a</span><span class=\"txtu cld\">w</span><span class=\"txtu cld\">w</span><span class=\"txtu cld\">a-</span><span class=\"txtu cld\">n</span><span class=\"txtu cld\">á</span><span class=\"txtu cld\">š</span><span class=\"txtu cld\">a.ˈ </span></div>"
      ],
      "text/plain": [
       "<IPython.core.display.HTML object>"
      ]
     },
     "metadata": {},
     "output_type": "display_data"
    }
   ],
   "source": [
    "for s in sentences:\n",
    "    A.plain(s, withPassage=False)"
   ]
  },
  {
   "cell_type": "markdown",
   "metadata": {},
   "source": [
    "### `text-trans-full`\n",
    "\n",
    "This format gives a full transcription:"
   ]
  },
  {
   "cell_type": "code",
   "execution_count": 9,
   "metadata": {},
   "outputs": [
    {
     "data": {
      "text/html": [
       "<div class=\"\"><span class=\"section \"><a target=\"_blank\" href=\"https://github.com/CambridgeSemiticsLab/nena_corpus/blob/master/nena/0.02/Barwar/Gozali and Nozali.nena\" title=\"Show this title in the NENA repository\" sec=\"Barwar, Gozali and Nozali, Ln. 1\">Barwar, Gozali and Nozali, Ln. 1</a></span>  <span class=\"txtt\">)a'na </span><span class=\"txtt\">s>mi'y9nwa </span><span class=\"txtt\">xa-</span><span class=\"txtt\">tuni`8a| </span><span class=\"txtt\">y-</span><span class=\"txtt\">amri'wala </span><span class=\"txtt\">goza'li </span><span class=\"txtt\">)u-</span><span class=\"txtt\">noza`li,| </span><span class=\"txtt\">s>9'mma </span><span class=\"txtt\">di'ya </span><span class=\"txtt\">ya'(ni </span><span class=\"txtt\">tuni'89t </span><span class=\"txtt\">goza'li </span><span class=\"txtt\">)u-</span><span class=\"txtt\">noza`li.| </span></div>"
      ],
      "text/plain": [
       "<IPython.core.display.HTML object>"
      ]
     },
     "metadata": {},
     "output_type": "display_data"
    },
    {
     "data": {
      "text/html": [
       "<div class=\"\"><span class=\"section \"><a target=\"_blank\" href=\"https://github.com/CambridgeSemiticsLab/nena_corpus/blob/master/nena/0.02/Barwar/Gozali and Nozali.nena\" title=\"Show this title in the NENA repository\" sec=\"Barwar, Gozali and Nozali, Ln. 1\">Barwar, Gozali and Nozali, Ln. 1</a></span>  <span class=\"txtt\">da'x </span><span class=\"txtt\">)iwa'wa </span><span class=\"txtt\">)a`yya?| </span></div>"
      ],
      "text/plain": [
       "<IPython.core.display.HTML object>"
      ]
     },
     "metadata": {},
     "output_type": "display_data"
    },
    {
     "data": {
      "text/html": [
       "<div class=\"\"><span class=\"section \"><a target=\"_blank\" href=\"https://github.com/CambridgeSemiticsLab/nena_corpus/blob/master/nena/0.02/Barwar/Gozali and Nozali.nena\" title=\"Show this title in the NENA repository\" sec=\"Barwar, Gozali and Nozali, Ln. 1\">Barwar, Gozali and Nozali, Ln. 1</a></span>  <span class=\"txtt\">)i-</span><span class=\"txtt\">ms>a'r9xwa </span><span class=\"txtt\">tuni'8a </span><span class=\"txtt\">y-</span><span class=\"txtt\">amri`wa| </span></div>"
      ],
      "text/plain": [
       "<IPython.core.display.HTML object>"
      ]
     },
     "metadata": {},
     "output_type": "display_data"
    },
    {
     "data": {
      "text/html": [
       "<div class=\"\"><span class=\"section \"><a target=\"_blank\" href=\"https://github.com/CambridgeSemiticsLab/nena_corpus/blob/master/nena/0.02/Barwar/Gozali and Nozali.nena\" title=\"Show this title in the NENA repository\" sec=\"Barwar, Gozali and Nozali, Ln. 2\">Barwar, Gozali and Nozali, Ln. 2</a></span>  <span class=\"txtt\">)i'8wa-</span><span class=\"txtt\">w </span><span class=\"txtt\">li`8wa| </span><span class=\"txtt\">bi's> </span><span class=\"txtt\">m-</span><span class=\"txtt\">a'laha </span><span class=\"txtt\">go`r.a| </span><span class=\"txtt\">li'8wa </span><span class=\"txtt\">go`r.a| </span><span class=\"txtt\">hic>-</span><span class=\"txtt\">na`s>a.| </span></div>"
      ],
      "text/plain": [
       "<IPython.core.display.HTML object>"
      ]
     },
     "metadata": {},
     "output_type": "display_data"
    },
    {
     "data": {
      "text/html": [
       "<div class=\"\"><span class=\"section \"><a target=\"_blank\" href=\"https://github.com/CambridgeSemiticsLab/nena_corpus/blob/master/nena/0.02/Barwar/Gozali and Nozali.nena\" title=\"Show this title in the NENA repository\" sec=\"Barwar, Gozali and Nozali, Ln. 2\">Barwar, Gozali and Nozali, Ln. 2</a></span>  <span class=\"txtt\">bas-</span><span class=\"txtt\">)i'8wa </span><span class=\"txtt\">xa' </span><span class=\"txtt\">malka`| </span><span class=\"txtt\">)i'8wale </span><span class=\"txtt\">xa-</span><span class=\"txtt\">bro`na.| </span></div>"
      ],
      "text/plain": [
       "<IPython.core.display.HTML object>"
      ]
     },
     "metadata": {},
     "output_type": "display_data"
    },
    {
     "data": {
      "text/html": [
       "<div class=\"\"><span class=\"section \"><a target=\"_blank\" href=\"https://github.com/CambridgeSemiticsLab/nena_corpus/blob/master/nena/0.02/Barwar/Gozali and Nozali.nena\" title=\"Show this title in the NENA repository\" sec=\"Barwar, Gozali and Nozali, Ln. 2\">Barwar, Gozali and Nozali, Ln. 2</a></span>  <span class=\"txtt\">)a'w </span><span class=\"txtt\">malka`| </span><span class=\"txtt\">ra'ba </span><span class=\"txtt\">ba%'yewale </span><span class=\"txtt\">)aw-</span><span class=\"txtt\">bro'ne </span><span class=\"txtt\">di`ye.| </span></div>"
      ],
      "text/plain": [
       "<IPython.core.display.HTML object>"
      ]
     },
     "metadata": {},
     "output_type": "display_data"
    },
    {
     "data": {
      "text/html": [
       "<div class=\"\"><span class=\"section \"><a target=\"_blank\" href=\"https://github.com/CambridgeSemiticsLab/nena_corpus/blob/master/nena/0.02/Barwar/Gozali and Nozali.nena\" title=\"Show this title in the NENA repository\" sec=\"Barwar, Gozali and Nozali, Ln. 2\">Barwar, Gozali and Nozali, Ln. 2</a></span>  <span class=\"txtt\">)u-</span><span class=\"txtt\">ta'b(an </span><span class=\"txtt\">ma`lka| </span><span class=\"txtt\">bro'ne </span><span class=\"txtt\">di'ye </span><span class=\"txtt\">pa'y9s> </span><span class=\"txtt\">s>a`wpe </span><span class=\"txtt\">di'ye.| </span></div>"
      ],
      "text/plain": [
       "<IPython.core.display.HTML object>"
      ]
     },
     "metadata": {},
     "output_type": "display_data"
    },
    {
     "data": {
      "text/html": [
       "<div class=\"\"><span class=\"section \"><a target=\"_blank\" href=\"https://github.com/CambridgeSemiticsLab/nena_corpus/blob/master/nena/0.02/Barwar/Gozali and Nozali.nena\" title=\"Show this title in the NENA repository\" sec=\"Barwar, Gozali and Nozali, Ln. 2\">Barwar, Gozali and Nozali, Ln. 2</a></span>  <span class=\"txtt\">)i'man-</span><span class=\"txtt\">t </span><span class=\"txtt\">ma'lka </span><span class=\"txtt\">)i-</span><span class=\"txtt\">ma`y98,| </span><span class=\"txtt\">)i'man-</span><span class=\"txtt\">t </span><span class=\"txtt\">pa'y9s> </span><span class=\"txtt\">go`r.a| </span><span class=\"txtt\">bro'na </span><span class=\"txtt\">di'ye </span><span class=\"txtt\">s>a'q9l </span><span class=\"txtt\">s>a'wpe </span><span class=\"txtt\">di`ye| </span><span class=\"txtt\">bar-</span><span class=\"txtt\">d-</span><span class=\"txtt\">a`w.| </span></div>"
      ],
      "text/plain": [
       "<IPython.core.display.HTML object>"
      ]
     },
     "metadata": {},
     "output_type": "display_data"
    },
    {
     "data": {
      "text/html": [
       "<div class=\"\"><span class=\"section \"><a target=\"_blank\" href=\"https://github.com/CambridgeSemiticsLab/nena_corpus/blob/master/nena/0.02/Barwar/Gozali and Nozali.nena\" title=\"Show this title in the NENA repository\" sec=\"Barwar, Gozali and Nozali, Ln. 3\">Barwar, Gozali and Nozali, Ln. 3</a></span>  <span class=\"txtt\">)3'-</span><span class=\"txtt\">ga </span><span class=\"txtt\">xa-</span><span class=\"txtt\">yo'ma </span><span class=\"txtt\">ma'lka </span><span class=\"txtt\">dmi'xa-</span><span class=\"txtt\">wewa </span><span class=\"txtt\">b-</span><span class=\"txtt\">l3`le,| </span><span class=\"txtt\">dmi`xa </span><span class=\"txtt\">we'wa,| </span><span class=\"txtt\">)u-</span><span class=\"txtt\">xze'le </span><span class=\"txtt\">b-</span><span class=\"txtt\">x9'lme </span><span class=\"txtt\">di`ye| </span><span class=\"txtt\">)i'8 </span><span class=\"txtt\">xa-</span><span class=\"txtt\">na's>a </span><span class=\"txtt\">gu-</span><span class=\"txtt\">d-</span><span class=\"txtt\">a'y </span><span class=\"txtt\">m6i`ta| </span><span class=\"txtt\">bis>-</span><span class=\"txtt\">fa%qi'ra </span><span class=\"txtt\">m-</span><span class=\"txtt\">ku'lla </span><span class=\"txtt\">na`s>a.| </span></div>"
      ],
      "text/plain": [
       "<IPython.core.display.HTML object>"
      ]
     },
     "metadata": {},
     "output_type": "display_data"
    },
    {
     "data": {
      "text/html": [
       "<div class=\"\"><span class=\"section \"><a target=\"_blank\" href=\"https://github.com/CambridgeSemiticsLab/nena_corpus/blob/master/nena/0.02/Barwar/Gozali and Nozali.nena\" title=\"Show this title in the NENA repository\" sec=\"Barwar, Gozali and Nozali, Ln. 3\">Barwar, Gozali and Nozali, Ln. 3</a></span>  <span class=\"txtt\">ra'ba </span><span class=\"txtt\">fa%qi`ra-</span><span class=\"txtt\">wewa </span><span class=\"txtt\">)awwa-</span><span class=\"txtt\">na's>a.| </span></div>"
      ],
      "text/plain": [
       "<IPython.core.display.HTML object>"
      ]
     },
     "metadata": {},
     "output_type": "display_data"
    }
   ],
   "source": [
    "for s in sentences:\n",
    "    A.plain(s, fmt=\"text-trans-full\")"
   ]
  },
  {
   "cell_type": "markdown",
   "metadata": {},
   "source": [
    "### `text-trans-fuzzy`\n",
    "\n",
    "This format gives a fuzzy transcription:"
   ]
  },
  {
   "cell_type": "code",
   "execution_count": 10,
   "metadata": {},
   "outputs": [
    {
     "data": {
      "text/html": [
       "<div class=\"\"><span class=\"section \"><a target=\"_blank\" href=\"https://github.com/CambridgeSemiticsLab/nena_corpus/blob/master/nena/0.02/Barwar/Gozali and Nozali.nena\" title=\"Show this title in the NENA repository\" sec=\"Barwar, Gozali and Nozali, Ln. 1\">Barwar, Gozali and Nozali, Ln. 1</a></span>  <span class=\"txtt\">ana </span><span class=\"txtt\">smiyinwa </span><span class=\"txtt\">xa-</span><span class=\"txtt\">tunita </span><span class=\"txtt\">y-</span><span class=\"txtt\">amriwala </span><span class=\"txtt\">gozali </span><span class=\"txtt\">u-</span><span class=\"txtt\">nozali, </span><span class=\"txtt\">simma </span><span class=\"txtt\">diya </span><span class=\"txtt\">yani </span><span class=\"txtt\">tunitit </span><span class=\"txtt\">gozali </span><span class=\"txtt\">u-</span><span class=\"txtt\">nozali. </span></div>"
      ],
      "text/plain": [
       "<IPython.core.display.HTML object>"
      ]
     },
     "metadata": {},
     "output_type": "display_data"
    },
    {
     "data": {
      "text/html": [
       "<div class=\"\"><span class=\"section \"><a target=\"_blank\" href=\"https://github.com/CambridgeSemiticsLab/nena_corpus/blob/master/nena/0.02/Barwar/Gozali and Nozali.nena\" title=\"Show this title in the NENA repository\" sec=\"Barwar, Gozali and Nozali, Ln. 1\">Barwar, Gozali and Nozali, Ln. 1</a></span>  <span class=\"txtt\">dax </span><span class=\"txtt\">iwawa </span><span class=\"txtt\">ayya? </span></div>"
      ],
      "text/plain": [
       "<IPython.core.display.HTML object>"
      ]
     },
     "metadata": {},
     "output_type": "display_data"
    },
    {
     "data": {
      "text/html": [
       "<div class=\"\"><span class=\"section \"><a target=\"_blank\" href=\"https://github.com/CambridgeSemiticsLab/nena_corpus/blob/master/nena/0.02/Barwar/Gozali and Nozali.nena\" title=\"Show this title in the NENA repository\" sec=\"Barwar, Gozali and Nozali, Ln. 1\">Barwar, Gozali and Nozali, Ln. 1</a></span>  <span class=\"txtt\">i-</span><span class=\"txtt\">msarixwa </span><span class=\"txtt\">tunita </span><span class=\"txtt\">y-</span><span class=\"txtt\">amriwa </span></div>"
      ],
      "text/plain": [
       "<IPython.core.display.HTML object>"
      ]
     },
     "metadata": {},
     "output_type": "display_data"
    },
    {
     "data": {
      "text/html": [
       "<div class=\"\"><span class=\"section \"><a target=\"_blank\" href=\"https://github.com/CambridgeSemiticsLab/nena_corpus/blob/master/nena/0.02/Barwar/Gozali and Nozali.nena\" title=\"Show this title in the NENA repository\" sec=\"Barwar, Gozali and Nozali, Ln. 2\">Barwar, Gozali and Nozali, Ln. 2</a></span>  <span class=\"txtt\">itwa-</span><span class=\"txtt\">w </span><span class=\"txtt\">litwa </span><span class=\"txtt\">bis </span><span class=\"txtt\">m-</span><span class=\"txtt\">alaha </span><span class=\"txtt\">gora </span><span class=\"txtt\">litwa </span><span class=\"txtt\">gora </span><span class=\"txtt\">hi5-</span><span class=\"txtt\">nasa. </span></div>"
      ],
      "text/plain": [
       "<IPython.core.display.HTML object>"
      ]
     },
     "metadata": {},
     "output_type": "display_data"
    },
    {
     "data": {
      "text/html": [
       "<div class=\"\"><span class=\"section \"><a target=\"_blank\" href=\"https://github.com/CambridgeSemiticsLab/nena_corpus/blob/master/nena/0.02/Barwar/Gozali and Nozali.nena\" title=\"Show this title in the NENA repository\" sec=\"Barwar, Gozali and Nozali, Ln. 2\">Barwar, Gozali and Nozali, Ln. 2</a></span>  <span class=\"txtt\">bas-</span><span class=\"txtt\">itwa </span><span class=\"txtt\">xa </span><span class=\"txtt\">malka </span><span class=\"txtt\">itwale </span><span class=\"txtt\">xa-</span><span class=\"txtt\">brona. </span></div>"
      ],
      "text/plain": [
       "<IPython.core.display.HTML object>"
      ]
     },
     "metadata": {},
     "output_type": "display_data"
    },
    {
     "data": {
      "text/html": [
       "<div class=\"\"><span class=\"section \"><a target=\"_blank\" href=\"https://github.com/CambridgeSemiticsLab/nena_corpus/blob/master/nena/0.02/Barwar/Gozali and Nozali.nena\" title=\"Show this title in the NENA repository\" sec=\"Barwar, Gozali and Nozali, Ln. 2\">Barwar, Gozali and Nozali, Ln. 2</a></span>  <span class=\"txtt\">aw </span><span class=\"txtt\">malka </span><span class=\"txtt\">raba </span><span class=\"txtt\">bayewale </span><span class=\"txtt\">aw-</span><span class=\"txtt\">brone </span><span class=\"txtt\">diye. </span></div>"
      ],
      "text/plain": [
       "<IPython.core.display.HTML object>"
      ]
     },
     "metadata": {},
     "output_type": "display_data"
    },
    {
     "data": {
      "text/html": [
       "<div class=\"\"><span class=\"section \"><a target=\"_blank\" href=\"https://github.com/CambridgeSemiticsLab/nena_corpus/blob/master/nena/0.02/Barwar/Gozali and Nozali.nena\" title=\"Show this title in the NENA repository\" sec=\"Barwar, Gozali and Nozali, Ln. 2\">Barwar, Gozali and Nozali, Ln. 2</a></span>  <span class=\"txtt\">u-</span><span class=\"txtt\">taban </span><span class=\"txtt\">malka </span><span class=\"txtt\">brone </span><span class=\"txtt\">diye </span><span class=\"txtt\">payis </span><span class=\"txtt\">sawpe </span><span class=\"txtt\">diye. </span></div>"
      ],
      "text/plain": [
       "<IPython.core.display.HTML object>"
      ]
     },
     "metadata": {},
     "output_type": "display_data"
    },
    {
     "data": {
      "text/html": [
       "<div class=\"\"><span class=\"section \"><a target=\"_blank\" href=\"https://github.com/CambridgeSemiticsLab/nena_corpus/blob/master/nena/0.02/Barwar/Gozali and Nozali.nena\" title=\"Show this title in the NENA repository\" sec=\"Barwar, Gozali and Nozali, Ln. 2\">Barwar, Gozali and Nozali, Ln. 2</a></span>  <span class=\"txtt\">iman-</span><span class=\"txtt\">t </span><span class=\"txtt\">malka </span><span class=\"txtt\">i-</span><span class=\"txtt\">mayit, </span><span class=\"txtt\">iman-</span><span class=\"txtt\">t </span><span class=\"txtt\">payis </span><span class=\"txtt\">gora </span><span class=\"txtt\">brona </span><span class=\"txtt\">diye </span><span class=\"txtt\">saqil </span><span class=\"txtt\">sawpe </span><span class=\"txtt\">diye </span><span class=\"txtt\">bar-</span><span class=\"txtt\">d-</span><span class=\"txtt\">aw. </span></div>"
      ],
      "text/plain": [
       "<IPython.core.display.HTML object>"
      ]
     },
     "metadata": {},
     "output_type": "display_data"
    },
    {
     "data": {
      "text/html": [
       "<div class=\"\"><span class=\"section \"><a target=\"_blank\" href=\"https://github.com/CambridgeSemiticsLab/nena_corpus/blob/master/nena/0.02/Barwar/Gozali and Nozali.nena\" title=\"Show this title in the NENA repository\" sec=\"Barwar, Gozali and Nozali, Ln. 3\">Barwar, Gozali and Nozali, Ln. 3</a></span>  <span class=\"txtt\">e-</span><span class=\"txtt\">ga </span><span class=\"txtt\">xa-</span><span class=\"txtt\">yoma </span><span class=\"txtt\">malka </span><span class=\"txtt\">dmixa-</span><span class=\"txtt\">wewa </span><span class=\"txtt\">b-</span><span class=\"txtt\">lele, </span><span class=\"txtt\">dmixa </span><span class=\"txtt\">wewa, </span><span class=\"txtt\">u-</span><span class=\"txtt\">xzele </span><span class=\"txtt\">b-</span><span class=\"txtt\">xilme </span><span class=\"txtt\">diye </span><span class=\"txtt\">it </span><span class=\"txtt\">xa-</span><span class=\"txtt\">nasa </span><span class=\"txtt\">gu-</span><span class=\"txtt\">d-</span><span class=\"txtt\">ay </span><span class=\"txtt\">mdita </span><span class=\"txtt\">bis-</span><span class=\"txtt\">faqira </span><span class=\"txtt\">m-</span><span class=\"txtt\">kulla </span><span class=\"txtt\">nasa. </span></div>"
      ],
      "text/plain": [
       "<IPython.core.display.HTML object>"
      ]
     },
     "metadata": {},
     "output_type": "display_data"
    },
    {
     "data": {
      "text/html": [
       "<div class=\"\"><span class=\"section \"><a target=\"_blank\" href=\"https://github.com/CambridgeSemiticsLab/nena_corpus/blob/master/nena/0.02/Barwar/Gozali and Nozali.nena\" title=\"Show this title in the NENA repository\" sec=\"Barwar, Gozali and Nozali, Ln. 3\">Barwar, Gozali and Nozali, Ln. 3</a></span>  <span class=\"txtt\">raba </span><span class=\"txtt\">faqira-</span><span class=\"txtt\">wewa </span><span class=\"txtt\">awwa-</span><span class=\"txtt\">nasa. </span></div>"
      ],
      "text/plain": [
       "<IPython.core.display.HTML object>"
      ]
     },
     "metadata": {},
     "output_type": "display_data"
    }
   ],
   "source": [
    "for s in sentences:\n",
    "    A.plain(s, fmt=\"text-trans-fuzzy\")"
   ]
  },
  {
   "cell_type": "markdown",
   "metadata": {},
   "source": [
    "### `text-trans-lite`\n",
    "\n",
    "This format gives a light transcription:"
   ]
  },
  {
   "cell_type": "code",
   "execution_count": 11,
   "metadata": {},
   "outputs": [
    {
     "data": {
      "text/html": [
       "<div class=\"\"><span class=\"section \"><a target=\"_blank\" href=\"https://github.com/CambridgeSemiticsLab/nena_corpus/blob/master/nena/0.02/Barwar/Gozali and Nozali.nena\" title=\"Show this title in the NENA repository\" sec=\"Barwar, Gozali and Nozali, Ln. 1\">Barwar, Gozali and Nozali, Ln. 1</a></span>  <span class=\"txtt\">)ana </span><span class=\"txtt\"><span>$</span>miy9nwa </span><span class=\"txtt\">xa-</span><span class=\"txtt\">tuni8a| </span><span class=\"txtt\">y-</span><span class=\"txtt\">amriwala </span><span class=\"txtt\">gozali </span><span class=\"txtt\">)u-</span><span class=\"txtt\">nozali,| </span><span class=\"txtt\"><span>$</span>9mma </span><span class=\"txtt\">diya </span><span class=\"txtt\">ya(ni </span><span class=\"txtt\">tuni89t </span><span class=\"txtt\">gozali </span><span class=\"txtt\">)u-</span><span class=\"txtt\">nozali.| </span></div>"
      ],
      "text/plain": [
       "<IPython.core.display.HTML object>"
      ]
     },
     "metadata": {},
     "output_type": "display_data"
    },
    {
     "data": {
      "text/html": [
       "<div class=\"\"><span class=\"section \"><a target=\"_blank\" href=\"https://github.com/CambridgeSemiticsLab/nena_corpus/blob/master/nena/0.02/Barwar/Gozali and Nozali.nena\" title=\"Show this title in the NENA repository\" sec=\"Barwar, Gozali and Nozali, Ln. 1\">Barwar, Gozali and Nozali, Ln. 1</a></span>  <span class=\"txtt\">dax </span><span class=\"txtt\">)iwawa </span><span class=\"txtt\">)ayya?| </span></div>"
      ],
      "text/plain": [
       "<IPython.core.display.HTML object>"
      ]
     },
     "metadata": {},
     "output_type": "display_data"
    },
    {
     "data": {
      "text/html": [
       "<div class=\"\"><span class=\"section \"><a target=\"_blank\" href=\"https://github.com/CambridgeSemiticsLab/nena_corpus/blob/master/nena/0.02/Barwar/Gozali and Nozali.nena\" title=\"Show this title in the NENA repository\" sec=\"Barwar, Gozali and Nozali, Ln. 1\">Barwar, Gozali and Nozali, Ln. 1</a></span>  <span class=\"txtt\">)i-</span><span class=\"txtt\">m<span>$</span>ar9xwa </span><span class=\"txtt\">tuni8a </span><span class=\"txtt\">y-</span><span class=\"txtt\">amriwa| </span></div>"
      ],
      "text/plain": [
       "<IPython.core.display.HTML object>"
      ]
     },
     "metadata": {},
     "output_type": "display_data"
    },
    {
     "data": {
      "text/html": [
       "<div class=\"\"><span class=\"section \"><a target=\"_blank\" href=\"https://github.com/CambridgeSemiticsLab/nena_corpus/blob/master/nena/0.02/Barwar/Gozali and Nozali.nena\" title=\"Show this title in the NENA repository\" sec=\"Barwar, Gozali and Nozali, Ln. 2\">Barwar, Gozali and Nozali, Ln. 2</a></span>  <span class=\"txtt\">)i8wa-</span><span class=\"txtt\">w </span><span class=\"txtt\">li8wa| </span><span class=\"txtt\">bi<span>$</span> </span><span class=\"txtt\">m-</span><span class=\"txtt\">alaha </span><span class=\"txtt\">goRa| </span><span class=\"txtt\">li8wa </span><span class=\"txtt\">goRa| </span><span class=\"txtt\">hi5-</span><span class=\"txtt\">na<span>$</span>a.| </span></div>"
      ],
      "text/plain": [
       "<IPython.core.display.HTML object>"
      ]
     },
     "metadata": {},
     "output_type": "display_data"
    },
    {
     "data": {
      "text/html": [
       "<div class=\"\"><span class=\"section \"><a target=\"_blank\" href=\"https://github.com/CambridgeSemiticsLab/nena_corpus/blob/master/nena/0.02/Barwar/Gozali and Nozali.nena\" title=\"Show this title in the NENA repository\" sec=\"Barwar, Gozali and Nozali, Ln. 2\">Barwar, Gozali and Nozali, Ln. 2</a></span>  <span class=\"txtt\">bas-</span><span class=\"txtt\">)i8wa </span><span class=\"txtt\">xa </span><span class=\"txtt\">malka| </span><span class=\"txtt\">)i8wale </span><span class=\"txtt\">xa-</span><span class=\"txtt\">brona.| </span></div>"
      ],
      "text/plain": [
       "<IPython.core.display.HTML object>"
      ]
     },
     "metadata": {},
     "output_type": "display_data"
    },
    {
     "data": {
      "text/html": [
       "<div class=\"\"><span class=\"section \"><a target=\"_blank\" href=\"https://github.com/CambridgeSemiticsLab/nena_corpus/blob/master/nena/0.02/Barwar/Gozali and Nozali.nena\" title=\"Show this title in the NENA repository\" sec=\"Barwar, Gozali and Nozali, Ln. 2\">Barwar, Gozali and Nozali, Ln. 2</a></span>  <span class=\"txtt\">)aw </span><span class=\"txtt\">malka| </span><span class=\"txtt\">raba </span><span class=\"txtt\">b@yewale </span><span class=\"txtt\">)aw-</span><span class=\"txtt\">brone </span><span class=\"txtt\">diye.| </span></div>"
      ],
      "text/plain": [
       "<IPython.core.display.HTML object>"
      ]
     },
     "metadata": {},
     "output_type": "display_data"
    },
    {
     "data": {
      "text/html": [
       "<div class=\"\"><span class=\"section \"><a target=\"_blank\" href=\"https://github.com/CambridgeSemiticsLab/nena_corpus/blob/master/nena/0.02/Barwar/Gozali and Nozali.nena\" title=\"Show this title in the NENA repository\" sec=\"Barwar, Gozali and Nozali, Ln. 2\">Barwar, Gozali and Nozali, Ln. 2</a></span>  <span class=\"txtt\">)u-</span><span class=\"txtt\">Tab(an </span><span class=\"txtt\">malka| </span><span class=\"txtt\">brone </span><span class=\"txtt\">diye </span><span class=\"txtt\">pay9<span>$</span> </span><span class=\"txtt\"><span>$</span>awpe </span><span class=\"txtt\">diye.| </span></div>"
      ],
      "text/plain": [
       "<IPython.core.display.HTML object>"
      ]
     },
     "metadata": {},
     "output_type": "display_data"
    },
    {
     "data": {
      "text/html": [
       "<div class=\"\"><span class=\"section \"><a target=\"_blank\" href=\"https://github.com/CambridgeSemiticsLab/nena_corpus/blob/master/nena/0.02/Barwar/Gozali and Nozali.nena\" title=\"Show this title in the NENA repository\" sec=\"Barwar, Gozali and Nozali, Ln. 2\">Barwar, Gozali and Nozali, Ln. 2</a></span>  <span class=\"txtt\">)iman-</span><span class=\"txtt\">t </span><span class=\"txtt\">malka </span><span class=\"txtt\">)i-</span><span class=\"txtt\">may98,| </span><span class=\"txtt\">)iman-</span><span class=\"txtt\">t </span><span class=\"txtt\">pay9<span>$</span> </span><span class=\"txtt\">goRa| </span><span class=\"txtt\">brona </span><span class=\"txtt\">diye </span><span class=\"txtt\"><span>$</span>aq9l </span><span class=\"txtt\"><span>$</span>awpe </span><span class=\"txtt\">diye| </span><span class=\"txtt\">bar-</span><span class=\"txtt\">d-</span><span class=\"txtt\">aw.| </span></div>"
      ],
      "text/plain": [
       "<IPython.core.display.HTML object>"
      ]
     },
     "metadata": {},
     "output_type": "display_data"
    },
    {
     "data": {
      "text/html": [
       "<div class=\"\"><span class=\"section \"><a target=\"_blank\" href=\"https://github.com/CambridgeSemiticsLab/nena_corpus/blob/master/nena/0.02/Barwar/Gozali and Nozali.nena\" title=\"Show this title in the NENA repository\" sec=\"Barwar, Gozali and Nozali, Ln. 3\">Barwar, Gozali and Nozali, Ln. 3</a></span>  <span class=\"txtt\">)3-</span><span class=\"txtt\">ga </span><span class=\"txtt\">xa-</span><span class=\"txtt\">yoma </span><span class=\"txtt\">malka </span><span class=\"txtt\">dmixa-</span><span class=\"txtt\">wewa </span><span class=\"txtt\">b-</span><span class=\"txtt\">l3le,| </span><span class=\"txtt\">dmixa </span><span class=\"txtt\">wewa,| </span><span class=\"txtt\">)u-</span><span class=\"txtt\">xzele </span><span class=\"txtt\">b-</span><span class=\"txtt\">x9lme </span><span class=\"txtt\">diye| </span><span class=\"txtt\">)i8 </span><span class=\"txtt\">xa-</span><span class=\"txtt\">na<span>$</span>a </span><span class=\"txtt\">gu-</span><span class=\"txtt\">d-</span><span class=\"txtt\">ay </span><span class=\"txtt\">m6ita| </span><span class=\"txtt\">bi<span>$</span>-</span><span class=\"txtt\">f@qira </span><span class=\"txtt\">m-</span><span class=\"txtt\">kulla </span><span class=\"txtt\">na<span>$</span>a.| </span></div>"
      ],
      "text/plain": [
       "<IPython.core.display.HTML object>"
      ]
     },
     "metadata": {},
     "output_type": "display_data"
    },
    {
     "data": {
      "text/html": [
       "<div class=\"\"><span class=\"section \"><a target=\"_blank\" href=\"https://github.com/CambridgeSemiticsLab/nena_corpus/blob/master/nena/0.02/Barwar/Gozali and Nozali.nena\" title=\"Show this title in the NENA repository\" sec=\"Barwar, Gozali and Nozali, Ln. 3\">Barwar, Gozali and Nozali, Ln. 3</a></span>  <span class=\"txtt\">raba </span><span class=\"txtt\">f@qira-</span><span class=\"txtt\">wewa </span><span class=\"txtt\">)awwa-</span><span class=\"txtt\">na<span>$</span>a.| </span></div>"
      ],
      "text/plain": [
       "<IPython.core.display.HTML object>"
      ]
     },
     "metadata": {},
     "output_type": "display_data"
    }
   ],
   "source": [
    "for s in sentences:\n",
    "    A.plain(s, fmt=\"text-trans-lite\")"
   ]
  },
  {
   "cell_type": "markdown",
   "metadata": {},
   "source": [
    "## Styled text formats\n",
    "\n",
    "The formats whose names start with `layout-` are the styled text formats.\n",
    "\n",
    "They differ from their corresponding plain text formats in that speaker indicators use HTML layout.\n",
    "\n",
    "### `layout-orig-full`"
   ]
  },
  {
   "cell_type": "code",
   "execution_count": 12,
   "metadata": {},
   "outputs": [
    {
     "data": {
      "text/html": [
       "<div class=\"\"><span class=\"section \"><a target=\"_blank\" href=\"https://github.com/CambridgeSemiticsLab/nena_corpus/blob/master/nena/0.02/Barwar/Gozali and Nozali.nena\" title=\"Show this title in the NENA repository\" sec=\"Barwar, Gozali and Nozali, Ln. 1\">Barwar, Gozali and Nozali, Ln. 1</a></span>  <span class=\"txtu cld\"><span class=\"speaker\">«Nanəs Bənyamən…</span>ʾána </span><span class=\"txtu cld\">šmíyənwa </span><span class=\"txtu cld\">xa-</span><span class=\"txtu cld\">tunìθaˈ </span><span class=\"txtu cld\">y-</span><span class=\"txtu cld\">amríwala </span><span class=\"txtu cld\">gozáli </span><span class=\"txtu cld\">ʾu-</span><span class=\"txtu cld\">nozàli,ˈ </span><span class=\"txtu cld\">šə́mma </span><span class=\"txtu cld\">díya </span><span class=\"txtu cld\">yáʿni </span><span class=\"txtu cld\">tuníθət </span><span class=\"txtu cld\">gozáli </span><span class=\"txtu cld\">ʾu-</span><span class=\"txtu cld\">nozàli.ˈ <span class=\"speaker\">…Nanəs Bənyamən…</span></span></div>"
      ],
      "text/plain": [
       "<IPython.core.display.HTML object>"
      ]
     },
     "metadata": {},
     "output_type": "display_data"
    },
    {
     "data": {
      "text/html": [
       "<div class=\"\"><span class=\"section \"><a target=\"_blank\" href=\"https://github.com/CambridgeSemiticsLab/nena_corpus/blob/master/nena/0.02/Barwar/Gozali and Nozali.nena\" title=\"Show this title in the NENA repository\" sec=\"Barwar, Gozali and Nozali, Ln. 1\">Barwar, Gozali and Nozali, Ln. 1</a></span>  <span class=\"txtu cld\"><span class=\"speaker\">…Nanəs Bənyamən…</span>dáx </span><span class=\"txtu cld\">ʾiwáwa </span><span class=\"txtu cld\">ʾàyya?ˈ <span class=\"speaker\">…Nanəs Bənyamən…</span></span></div>"
      ],
      "text/plain": [
       "<IPython.core.display.HTML object>"
      ]
     },
     "metadata": {},
     "output_type": "display_data"
    },
    {
     "data": {
      "text/html": [
       "<div class=\"\"><span class=\"section \"><a target=\"_blank\" href=\"https://github.com/CambridgeSemiticsLab/nena_corpus/blob/master/nena/0.02/Barwar/Gozali and Nozali.nena\" title=\"Show this title in the NENA repository\" sec=\"Barwar, Gozali and Nozali, Ln. 1\">Barwar, Gozali and Nozali, Ln. 1</a></span>  <span class=\"txtu cld\"><span class=\"speaker\">…Nanəs Bənyamən…</span>ʾi-</span><span class=\"txtu cld\">mšárəxwa </span><span class=\"txtu cld\">tuníθa </span><span class=\"txtu cld\">y-</span><span class=\"txtu cld\">amrìwaˈ <span class=\"speaker\">…Nanəs Bənyamən…</span></span></div>"
      ],
      "text/plain": [
       "<IPython.core.display.HTML object>"
      ]
     },
     "metadata": {},
     "output_type": "display_data"
    },
    {
     "data": {
      "text/html": [
       "<div class=\"\"><span class=\"section \"><a target=\"_blank\" href=\"https://github.com/CambridgeSemiticsLab/nena_corpus/blob/master/nena/0.02/Barwar/Gozali and Nozali.nena\" title=\"Show this title in the NENA repository\" sec=\"Barwar, Gozali and Nozali, Ln. 2\">Barwar, Gozali and Nozali, Ln. 2</a></span>  <span class=\"txtu cld\"><span class=\"speaker\">…Nanəs Bənyamən…</span>ʾíθwa-</span><span class=\"txtu cld\">w </span><span class=\"txtu cld\">lìθwaˈ </span><span class=\"txtu cld\">bíš </span><span class=\"txtu cld\">m-</span><span class=\"txtu cld\">álaha </span><span class=\"txtu cld\">gòṛaˈ </span><span class=\"txtu cld\">líθwa </span><span class=\"txtu cld\">gòṛaˈ </span><span class=\"txtu cld\">hič-</span><span class=\"txtu cld\">nàša.ˈ <span class=\"speaker\">…Nanəs Bənyamən…</span></span></div>"
      ],
      "text/plain": [
       "<IPython.core.display.HTML object>"
      ]
     },
     "metadata": {},
     "output_type": "display_data"
    },
    {
     "data": {
      "text/html": [
       "<div class=\"\"><span class=\"section \"><a target=\"_blank\" href=\"https://github.com/CambridgeSemiticsLab/nena_corpus/blob/master/nena/0.02/Barwar/Gozali and Nozali.nena\" title=\"Show this title in the NENA repository\" sec=\"Barwar, Gozali and Nozali, Ln. 2\">Barwar, Gozali and Nozali, Ln. 2</a></span>  <span class=\"txtu cld\"><span class=\"speaker\">…Nanəs Bənyamən…</span>bas-</span><span class=\"txtu cld\">ʾíθwa </span><span class=\"txtu cld\">xá </span><span class=\"txtu cld\">malkàˈ </span><span class=\"txtu cld\">ʾíθwale </span><span class=\"txtu cld\">xa-</span><span class=\"txtu cld\">bròna.ˈ <span class=\"speaker\">…Nanəs Bənyamən…</span></span></div>"
      ],
      "text/plain": [
       "<IPython.core.display.HTML object>"
      ]
     },
     "metadata": {},
     "output_type": "display_data"
    },
    {
     "data": {
      "text/html": [
       "<div class=\"\"><span class=\"section \"><a target=\"_blank\" href=\"https://github.com/CambridgeSemiticsLab/nena_corpus/blob/master/nena/0.02/Barwar/Gozali and Nozali.nena\" title=\"Show this title in the NENA repository\" sec=\"Barwar, Gozali and Nozali, Ln. 2\">Barwar, Gozali and Nozali, Ln. 2</a></span>  <span class=\"txtu cld\"><span class=\"speaker\">…Nanəs Bənyamən…</span>ʾáw </span><span class=\"txtu cld\">malkàˈ </span><span class=\"txtu cld\">rába </span><span class=\"txtu cld\">bắyewale </span><span class=\"txtu cld\">ʾaw-</span><span class=\"txtu cld\">bróne </span><span class=\"txtu cld\">dìye.ˈ <span class=\"speaker\">…Nanəs Bənyamən…</span></span></div>"
      ],
      "text/plain": [
       "<IPython.core.display.HTML object>"
      ]
     },
     "metadata": {},
     "output_type": "display_data"
    },
    {
     "data": {
      "text/html": [
       "<div class=\"\"><span class=\"section \"><a target=\"_blank\" href=\"https://github.com/CambridgeSemiticsLab/nena_corpus/blob/master/nena/0.02/Barwar/Gozali and Nozali.nena\" title=\"Show this title in the NENA repository\" sec=\"Barwar, Gozali and Nozali, Ln. 2\">Barwar, Gozali and Nozali, Ln. 2</a></span>  <span class=\"txtu cld\"><span class=\"speaker\">…Nanəs Bənyamən…</span>ʾu-</span><span class=\"txtu cld\">ṭábʿan </span><span class=\"txtu cld\">màlkaˈ </span><span class=\"txtu cld\">bróne </span><span class=\"txtu cld\">díye </span><span class=\"txtu cld\">páyəš </span><span class=\"txtu cld\">šàwpe </span><span class=\"txtu cld\">díye.ˈ <span class=\"speaker\">…Nanəs Bənyamən…</span></span></div>"
      ],
      "text/plain": [
       "<IPython.core.display.HTML object>"
      ]
     },
     "metadata": {},
     "output_type": "display_data"
    },
    {
     "data": {
      "text/html": [
       "<div class=\"\"><span class=\"section \"><a target=\"_blank\" href=\"https://github.com/CambridgeSemiticsLab/nena_corpus/blob/master/nena/0.02/Barwar/Gozali and Nozali.nena\" title=\"Show this title in the NENA repository\" sec=\"Barwar, Gozali and Nozali, Ln. 2\">Barwar, Gozali and Nozali, Ln. 2</a></span>  <span class=\"txtu cld\"><span class=\"speaker\">…Nanəs Bənyamən…</span>ʾíman-</span><span class=\"txtu cld\">t </span><span class=\"txtu cld\">málka </span><span class=\"txtu cld\">ʾi-</span><span class=\"txtu cld\">màyəθ,ˈ </span><span class=\"txtu cld\">ʾíman-</span><span class=\"txtu cld\">t </span><span class=\"txtu cld\">páyəš </span><span class=\"txtu cld\">gòṛaˈ </span><span class=\"txtu cld\">bróna </span><span class=\"txtu cld\">díye </span><span class=\"txtu cld\">šáqəl </span><span class=\"txtu cld\">šáwpe </span><span class=\"txtu cld\">dìyeˈ </span><span class=\"txtu cld\">bar-</span><span class=\"txtu cld\">d-</span><span class=\"txtu cld\">àw.ˈ <span class=\"speaker\">…Nanəs Bənyamən…</span></span></div>"
      ],
      "text/plain": [
       "<IPython.core.display.HTML object>"
      ]
     },
     "metadata": {},
     "output_type": "display_data"
    },
    {
     "data": {
      "text/html": [
       "<div class=\"\"><span class=\"section \"><a target=\"_blank\" href=\"https://github.com/CambridgeSemiticsLab/nena_corpus/blob/master/nena/0.02/Barwar/Gozali and Nozali.nena\" title=\"Show this title in the NENA repository\" sec=\"Barwar, Gozali and Nozali, Ln. 3\">Barwar, Gozali and Nozali, Ln. 3</a></span>  <span class=\"txtu cld\"><span class=\"speaker\">…Nanəs Bənyamən…</span>ʾɛ́-</span><span class=\"txtu cld\">ga </span><span class=\"txtu cld\">xa-</span><span class=\"txtu cld\">yóma </span><span class=\"txtu cld\">málka </span><span class=\"txtu cld\">dmíxa-</span><span class=\"txtu cld\">wewa </span><span class=\"txtu cld\">b-</span><span class=\"txtu cld\">lɛ̀le,ˈ </span><span class=\"txtu cld\">dmìxa </span><span class=\"txtu cld\">wéwa,ˈ </span><span class=\"txtu cld\">ʾu-</span><span class=\"txtu cld\">xzéle </span><span class=\"txtu cld\">b-</span><span class=\"txtu cld\">xə́lme </span><span class=\"txtu cld\">dìyeˈ </span><span class=\"txtu cld\">ʾíθ </span><span class=\"txtu cld\">xa-</span><span class=\"txtu cld\">náša </span><span class=\"txtu cld\">gu-</span><span class=\"txtu cld\">d-</span><span class=\"txtu cld\">áy </span><span class=\"txtu cld\">mðìtaˈ </span><span class=\"txtu cld\">biš-</span><span class=\"txtu cld\">făqíra </span><span class=\"txtu cld\">m-</span><span class=\"txtu cld\">kúlla </span><span class=\"txtu cld\">nàša.ˈ <span class=\"speaker\">…Nanəs Bənyamən…</span></span></div>"
      ],
      "text/plain": [
       "<IPython.core.display.HTML object>"
      ]
     },
     "metadata": {},
     "output_type": "display_data"
    },
    {
     "data": {
      "text/html": [
       "<div class=\"\"><span class=\"section \"><a target=\"_blank\" href=\"https://github.com/CambridgeSemiticsLab/nena_corpus/blob/master/nena/0.02/Barwar/Gozali and Nozali.nena\" title=\"Show this title in the NENA repository\" sec=\"Barwar, Gozali and Nozali, Ln. 3\">Barwar, Gozali and Nozali, Ln. 3</a></span>  <span class=\"txtu cld\"><span class=\"speaker\">…Nanəs Bənyamən…</span>rába </span><span class=\"txtu cld\">făqìra-</span><span class=\"txtu cld\">wewa </span><span class=\"txtu cld\">ʾawwa-</span><span class=\"txtu cld\">náša.ˈ <span class=\"speaker\">…Nanəs Bənyamən…</span></span></div>"
      ],
      "text/plain": [
       "<IPython.core.display.HTML object>"
      ]
     },
     "metadata": {},
     "output_type": "display_data"
    }
   ],
   "source": [
    "for s in sentences:\n",
    "    A.plain(s, fmt=\"layout-orig-full\")"
   ]
  },
  {
   "cell_type": "markdown",
   "metadata": {},
   "source": [
    "# Plain"
   ]
  },
  {
   "cell_type": "code",
   "execution_count": 13,
   "metadata": {},
   "outputs": [
    {
     "data": {
      "text/plain": [
       "720046"
      ]
     },
     "execution_count": 13,
     "metadata": {},
     "output_type": "execute_result"
    }
   ],
   "source": [
    "words[0]"
   ]
  },
  {
   "cell_type": "code",
   "execution_count": 14,
   "metadata": {},
   "outputs": [
    {
     "data": {
      "text/html": [
       "<table><tr class=\"tf ltr\"><th class=\"tf ltr\">n</th><th class=\"tf ltr\">p</th><th class=\"tf ltr\">word</th><th class=\"tf ltr\">word</th></tr><tr class=\"tf ltr\"><td class=\"tf ltr\">3</td><td class=\"tf ltr\"><span class=\"section ltr\"><a target=\"_blank\" href=\"https://github.com/CambridgeSemiticsLab/nena_corpus/blob/master/nena/0.02/Barwar/Gozali and Nozali.nena\" title=\"Show this title in the NENA repository\" sec=\"Barwar, Gozali and Nozali, Ln. 1\">Barwar, Gozali and Nozali, Ln. 1</a></span></td><td class=\"tf ltr\"><div class=\"\"><span class=\"plain   hlbx\" ><span class=\"txtu cld\">ʾ</span><span class=\"txtu cld\">á</span><span class=\"txtu cld\">n</span><span class=\"txtu cld\">a </span></span></div></td><td class=\"tf ltr\"><div class=\"\"><span class=\"plain   hlbx\" ><span class=\"txtu cld\">š</span><span class=\"txtu cld\">m</span><span class=\"txtu cld\">í</span><span class=\"txtu cld\">y</span><span class=\"txtu cld\">ə</span><span class=\"txtu cld\">n</span><span class=\"txtu cld\">w</span><span class=\"txtu cld\">a </span></span></div></td></tr></table>"
      ],
      "text/plain": [
       "<IPython.core.display.HTML object>"
      ]
     },
     "metadata": {},
     "output_type": "display_data"
    }
   ],
   "source": [
    "A.plainTuple((words[0], words[1]), 3)"
   ]
  },
  {
   "cell_type": "markdown",
   "metadata": {},
   "source": [
    "# Pretty\n",
    "\n",
    "The ultimate of graphical display is by means of the `pretty()` function.\n",
    "\n",
    "This display is less useful for reading, but instead optimized for showing all information that you might\n",
    "wish for.\n",
    "\n",
    "It shows a base representation according to a text format of your choice\n",
    "(here we choose `text-orig-full`), and it shows the values\n",
    "of a standard set of features."
   ]
  },
  {
   "cell_type": "code",
   "execution_count": 15,
   "metadata": {},
   "outputs": [
    {
     "data": {
      "text/html": [
       "<div class=\"section \"><a target=\"_blank\" href=\"https://github.com/CambridgeSemiticsLab/nena_corpus/blob/master/nena/0.02/Barwar/Gozali and Nozali.nena\" title=\"Show this title in the NENA repository\" sec=\"Barwar, Gozali and Nozali, Ln. 1\">Barwar, Gozali and Nozali, Ln. 1</a></div><div class=\" children\"><div class=\"contnr c2    \" ><div class=\"lbl c2  \" ><span class=\"nd\">sentence</span></div><div class=\"children hor wrap \"><div class=\"contnr c1    \" ><div class=\"lbl c1  \" ><span class=\"nd\">inton</span></div><div class=\"children hor  \"><div class=\"contnr c1 trm   \" ><div class=\"lbl c1 trm \" ><span class=\"nd\">stress</span> <span class=\"txtu cld\"><span class=\"plain   \" ><span class=\"txtu cld\">ʾ</span><span class=\"txtu cld\">á</span><span class=\"txtu cld\">n</span><span class=\"txtu cld\">a </span></span></span></div></div><div class=\"contnr c1 trm   \" ><div class=\"lbl c1 trm \" ><span class=\"nd\">stress</span> <span class=\"txtu cld\"><span class=\"plain   \" ><span class=\"txtu cld\">š</span><span class=\"txtu cld\">m</span><span class=\"txtu cld\">í</span><span class=\"txtu cld\">y</span><span class=\"txtu cld\">ə</span><span class=\"txtu cld\">n</span><span class=\"txtu cld\">w</span><span class=\"txtu cld\">a </span></span></span></div></div><div class=\"contnr c1 trm   \" ><div class=\"lbl c1 trm \" ><span class=\"nd\">stress</span> <span class=\"txtu cld\"><span class=\"plain   \" ><span class=\"txtu cld\">x</span><span class=\"txtu cld\">a-</span><span class=\"txtu cld\">t</span><span class=\"txtu cld\">u</span><span class=\"txtu cld\">n</span><span class=\"txtu cld\">ì</span><span class=\"txtu cld\">θ</span><span class=\"txtu cld\">aˈ </span></span></span></div></div></div></div><div class=\"contnr c1    \" ><div class=\"lbl c1  \" ><span class=\"nd\">inton</span></div><div class=\"children hor  \"><div class=\"contnr c1 trm   \" ><div class=\"lbl c1 trm \" ><span class=\"nd\">stress</span> <span class=\"txtu cld\"><span class=\"plain   \" ><span class=\"txtu cld\">y-</span><span class=\"txtu cld\">a</span><span class=\"txtu cld\">m</span><span class=\"txtu cld\">r</span><span class=\"txtu cld\">í</span><span class=\"txtu cld\">w</span><span class=\"txtu cld\">a</span><span class=\"txtu cld\">l</span><span class=\"txtu cld\">a </span></span></span></div></div><div class=\"contnr c1 trm   \" ><div class=\"lbl c1 trm \" ><span class=\"nd\">stress</span> <span class=\"txtu cld\"><span class=\"plain   \" ><span class=\"txtu cld\">G</span><span class=\"txtu cld\">o</span><span class=\"txtu cld\">z</span><span class=\"txtu cld\">á</span><span class=\"txtu cld\">l</span><span class=\"txtu cld\">i </span></span></span></div></div><div class=\"contnr c1 trm   \" ><div class=\"lbl c1 trm \" ><span class=\"nd\">stress</span> <span class=\"txtu cld\"><span class=\"plain   \" ><span class=\"txtu cld\">ʾ</span><span class=\"txtu cld\">u-</span><span class=\"txtu cld\">N</span><span class=\"txtu cld\">o</span><span class=\"txtu cld\">z</span><span class=\"txtu cld\">à</span><span class=\"txtu cld\">l</span><span class=\"txtu cld\">i,ˈ </span></span></span></div></div></div></div><div class=\"contnr c1    \" ><div class=\"lbl c1  \" ><span class=\"nd\">inton</span></div><div class=\"children hor  \"><div class=\"contnr c1 trm   \" ><div class=\"lbl c1 trm \" ><span class=\"nd\">stress</span> <span class=\"txtu cld\"><span class=\"plain   \" ><span class=\"txtu cld\">š</span><span class=\"txtu cld\">ə́</span><span class=\"txtu cld\">m</span><span class=\"txtu cld\">m</span><span class=\"txtu cld\">a </span></span></span></div></div><div class=\"contnr c1 trm   \" ><div class=\"lbl c1 trm \" ><span class=\"nd\">stress</span> <span class=\"txtu cld\"><span class=\"plain   \" ><span class=\"txtu cld\">d</span><span class=\"txtu cld\">í</span><span class=\"txtu cld\">y</span><span class=\"txtu cld\">a </span></span></span></div></div><div class=\"contnr c1 trm   \" ><div class=\"lbl c1 trm \" ><span class=\"nd\">stress</span> <span class=\"txtu cld\"><span class=\"plain   \" ><span class=\"txtu cld\">y</span><span class=\"txtu cld\">á</span><span class=\"txtu cld\">ʿ</span><span class=\"txtu cld\">n</span><span class=\"txtu cld\">i </span></span></span></div></div><div class=\"contnr c1 trm   \" ><div class=\"lbl c1 trm \" ><span class=\"nd\">stress</span> <span class=\"txtu cld\"><span class=\"plain   \" ><span class=\"txtu cld\">t</span><span class=\"txtu cld\">u</span><span class=\"txtu cld\">n</span><span class=\"txtu cld\">í</span><span class=\"txtu cld\">θ</span><span class=\"txtu cld\">ə</span><span class=\"txtu cld\">t </span></span></span></div></div><div class=\"contnr c1 trm   \" ><div class=\"lbl c1 trm \" ><span class=\"nd\">stress</span> <span class=\"txtu cld\"><span class=\"plain   \" ><span class=\"txtu cld\">G</span><span class=\"txtu cld\">o</span><span class=\"txtu cld\">z</span><span class=\"txtu cld\">á</span><span class=\"txtu cld\">l</span><span class=\"txtu cld\">i </span></span></span></div></div><div class=\"contnr c1 trm   \" ><div class=\"lbl c1 trm \" ><span class=\"nd\">stress</span> <span class=\"txtu cld\"><span class=\"plain   \" ><span class=\"txtu cld\">ʾ</span><span class=\"txtu cld\">u-</span><span class=\"txtu cld\">N</span><span class=\"txtu cld\">o</span><span class=\"txtu cld\">z</span><span class=\"txtu cld\">à</span><span class=\"txtu cld\">l</span><span class=\"txtu cld\">i.ˈ </span></span></span></div></div></div></div></div></div></div>"
      ],
      "text/plain": [
       "<IPython.core.display.HTML object>"
      ]
     },
     "metadata": {},
     "output_type": "display_data"
    }
   ],
   "source": [
    "A.pretty(sentences[0], withNodes=False)"
   ]
  },
  {
   "cell_type": "markdown",
   "metadata": {},
   "source": [
    "Later on, in the [search](search.ipynb) tutorial we see that `pretty()` can also display other features,\n",
    "even features that you or other people have created and added later.\n",
    "\n",
    "Here we call for the feature `lite`, defined letters, words and stresses, which shows light transcriptions.\n",
    "\n",
    "We show it with node numbers, but you could leave them out in an obvious way."
   ]
  },
  {
   "cell_type": "code",
   "execution_count": 16,
   "metadata": {},
   "outputs": [
    {
     "data": {
      "text/html": [
       "<div class=\"section \"><a target=\"_blank\" href=\"https://github.com/CambridgeSemiticsLab/nena_corpus/blob/master/nena/0.02/Barwar/Gozali and Nozali.nena\" title=\"Show this title in the NENA repository\" sec=\"Barwar, Gozali and Nozali, Ln. 1\">Barwar, Gozali and Nozali, Ln. 1</a></div><div class=\" children\"><div class=\"contnr c2    \" ><div class=\"lbl c2  \" ><span class=\"nd\">sentence:579234</span></div><div class=\"children hor wrap \"><div class=\"contnr c1    \" ><div class=\"lbl c1  \" ><span class=\"nd\">inton:541194</span></div><div class=\"children hor  \"><div class=\"contnr c1 trm   \" ><div class=\"lbl c1 trm \" ><span class=\"nd\">stress:599843</span> <span class=\"txtu cld\"><span class=\"plain   \" ><span class=\"txtu cld\">ʾ</span><span class=\"txtu cld\">á</span><span class=\"txtu cld\">n</span><span class=\"txtu cld\">a </span></span></span></div></div><div class=\"contnr c1 trm   \" ><div class=\"lbl c1 trm \" ><span class=\"nd\">stress:599844</span> <span class=\"txtu cld\"><span class=\"plain   \" ><span class=\"txtu cld\">š</span><span class=\"txtu cld\">m</span><span class=\"txtu cld\">í</span><span class=\"txtu cld\">y</span><span class=\"txtu cld\">ə</span><span class=\"txtu cld\">n</span><span class=\"txtu cld\">w</span><span class=\"txtu cld\">a </span></span></span></div></div><div class=\"contnr c1 trm   \" ><div class=\"lbl c1 trm \" ><span class=\"nd\">stress:599845</span> <span class=\"txtu cld\"><span class=\"plain   \" ><span class=\"txtu cld\">x</span><span class=\"txtu cld\">a-</span><span class=\"txtu cld\">t</span><span class=\"txtu cld\">u</span><span class=\"txtu cld\">n</span><span class=\"txtu cld\">ì</span><span class=\"txtu cld\">θ</span><span class=\"txtu cld\">aˈ </span></span></span></div></div></div></div><div class=\"contnr c1    \" ><div class=\"lbl c1  \" ><span class=\"nd\">inton:541195</span></div><div class=\"children hor  \"><div class=\"contnr c1 trm   \" ><div class=\"lbl c1 trm \" ><span class=\"nd\">stress:599846</span> <span class=\"txtu cld\"><span class=\"plain   \" ><span class=\"txtu cld\">y-</span><span class=\"txtu cld\">a</span><span class=\"txtu cld\">m</span><span class=\"txtu cld\">r</span><span class=\"txtu cld\">í</span><span class=\"txtu cld\">w</span><span class=\"txtu cld\">a</span><span class=\"txtu cld\">l</span><span class=\"txtu cld\">a </span></span></span></div></div><div class=\"contnr c1 trm   \" ><div class=\"lbl c1 trm \" ><span class=\"nd\">stress:599847</span> <span class=\"txtu cld\"><span class=\"plain   \" ><span class=\"txtu cld\">G</span><span class=\"txtu cld\">o</span><span class=\"txtu cld\">z</span><span class=\"txtu cld\">á</span><span class=\"txtu cld\">l</span><span class=\"txtu cld\">i </span></span></span></div></div><div class=\"contnr c1 trm   \" ><div class=\"lbl c1 trm \" ><span class=\"nd\">stress:599848</span> <span class=\"txtu cld\"><span class=\"plain   \" ><span class=\"txtu cld\">ʾ</span><span class=\"txtu cld\">u-</span><span class=\"txtu cld\">N</span><span class=\"txtu cld\">o</span><span class=\"txtu cld\">z</span><span class=\"txtu cld\">à</span><span class=\"txtu cld\">l</span><span class=\"txtu cld\">i,ˈ </span></span></span></div></div></div></div><div class=\"contnr c1    \" ><div class=\"lbl c1  \" ><span class=\"nd\">inton:541196</span></div><div class=\"children hor  \"><div class=\"contnr c1 trm   \" ><div class=\"lbl c1 trm \" ><span class=\"nd\">stress:599849</span> <span class=\"txtu cld\"><span class=\"plain   \" ><span class=\"txtu cld\">š</span><span class=\"txtu cld\">ə́</span><span class=\"txtu cld\">m</span><span class=\"txtu cld\">m</span><span class=\"txtu cld\">a </span></span></span></div></div><div class=\"contnr c1 trm   \" ><div class=\"lbl c1 trm \" ><span class=\"nd\">stress:599850</span> <span class=\"txtu cld\"><span class=\"plain   \" ><span class=\"txtu cld\">d</span><span class=\"txtu cld\">í</span><span class=\"txtu cld\">y</span><span class=\"txtu cld\">a </span></span></span></div></div><div class=\"contnr c1 trm   \" ><div class=\"lbl c1 trm \" ><span class=\"nd\">stress:599851</span> <span class=\"txtu cld\"><span class=\"plain   \" ><span class=\"txtu cld\">y</span><span class=\"txtu cld\">á</span><span class=\"txtu cld\">ʿ</span><span class=\"txtu cld\">n</span><span class=\"txtu cld\">i </span></span></span></div></div><div class=\"contnr c1 trm   \" ><div class=\"lbl c1 trm \" ><span class=\"nd\">stress:599852</span> <span class=\"txtu cld\"><span class=\"plain   \" ><span class=\"txtu cld\">t</span><span class=\"txtu cld\">u</span><span class=\"txtu cld\">n</span><span class=\"txtu cld\">í</span><span class=\"txtu cld\">θ</span><span class=\"txtu cld\">ə</span><span class=\"txtu cld\">t </span></span></span></div></div><div class=\"contnr c1 trm   \" ><div class=\"lbl c1 trm \" ><span class=\"nd\">stress:599853</span> <span class=\"txtu cld\"><span class=\"plain   \" ><span class=\"txtu cld\">G</span><span class=\"txtu cld\">o</span><span class=\"txtu cld\">z</span><span class=\"txtu cld\">á</span><span class=\"txtu cld\">l</span><span class=\"txtu cld\">i </span></span></span></div></div><div class=\"contnr c1 trm   \" ><div class=\"lbl c1 trm \" ><span class=\"nd\">stress:599854</span> <span class=\"txtu cld\"><span class=\"plain   \" ><span class=\"txtu cld\">ʾ</span><span class=\"txtu cld\">u-</span><span class=\"txtu cld\">N</span><span class=\"txtu cld\">o</span><span class=\"txtu cld\">z</span><span class=\"txtu cld\">à</span><span class=\"txtu cld\">l</span><span class=\"txtu cld\">i.ˈ </span></span></span></div></div></div></div></div></div></div>"
      ],
      "text/plain": [
       "<IPython.core.display.HTML object>"
      ]
     },
     "metadata": {},
     "output_type": "display_data"
    }
   ],
   "source": [
    "A.pretty(sentences[0], extraFeatures=\"lite\", withNodes=True)"
   ]
  },
  {
   "cell_type": "markdown",
   "metadata": {},
   "source": [
    "But wait, we do not see the `lite` feature anywhere. Because it is defined on words and letters, but not on stresses.\n",
    "Let's show the words:"
   ]
  },
  {
   "cell_type": "code",
   "execution_count": 17,
   "metadata": {},
   "outputs": [
    {
     "data": {
      "text/html": [
       "<div class=\"section \"><a target=\"_blank\" href=\"https://github.com/CambridgeSemiticsLab/nena_corpus/blob/master/nena/0.02/Barwar/Gozali and Nozali.nena\" title=\"Show this title in the NENA repository\" sec=\"Barwar, Gozali and Nozali, Ln. 1\">Barwar, Gozali and Nozali, Ln. 1</a></div><div class=\" children\"><div class=\"contnr c2    \" ><div class=\"lbl c2  \" ><span class=\"nd\">sentence:579234</span></div><div class=\"children hor wrap \"><div class=\"contnr c1    \" ><div class=\"lbl c1  \" ><span class=\"nd\">inton:541194</span></div><div class=\"children hor  \"><div class=\"contnr c1    \" ><div class=\"lbl c1  \" ><span class=\"nd\">stress:599843</span></div><div class=\"children hor  \"><div class=\"contnr c1 trm   \" ><div class=\"lbl c1 trm \" ><span class=\"nd\">word:720046</span> <span class=\"txtu cld\"><span class=\"plain   \" ><span class=\"txtu cld\">ʾ</span><span class=\"txtu cld\">á</span><span class=\"txtu cld\">n</span><span class=\"txtu cld\">a </span></span></span></div><div class='features'><span class=\"lite xft\" ><span class=\"f\">lite=</span>)ana</span></div></div></div></div><div class=\"contnr c1    \" ><div class=\"lbl c1  \" ><span class=\"nd\">stress:599844</span></div><div class=\"children hor  \"><div class=\"contnr c1 trm   \" ><div class=\"lbl c1 trm \" ><span class=\"nd\">word:720047</span> <span class=\"txtu cld\"><span class=\"plain   \" ><span class=\"txtu cld\">š</span><span class=\"txtu cld\">m</span><span class=\"txtu cld\">í</span><span class=\"txtu cld\">y</span><span class=\"txtu cld\">ə</span><span class=\"txtu cld\">n</span><span class=\"txtu cld\">w</span><span class=\"txtu cld\">a </span></span></span></div><div class='features'><span class=\"lite xft\" ><span class=\"f\">lite=</span><span>$</span>miy9nwa</span></div></div></div></div><div class=\"contnr c1    \" ><div class=\"lbl c1  \" ><span class=\"nd\">stress:599845</span></div><div class=\"children hor  \"><div class=\"contnr c1 trm   \" ><div class=\"lbl c1 trm \" ><span class=\"nd\">word:720048</span> <span class=\"txtu cld\"><span class=\"plain   \" ><span class=\"txtu cld\">x</span><span class=\"txtu cld\">a-</span></span></span></div><div class='features'><span class=\"lite xft\" ><span class=\"f\">lite=</span>xa</span></div></div><div class=\"contnr c1 trm   \" ><div class=\"lbl c1 trm \" ><span class=\"nd\">word:720049</span> <span class=\"txtu cld\"><span class=\"plain   \" ><span class=\"txtu cld\">t</span><span class=\"txtu cld\">u</span><span class=\"txtu cld\">n</span><span class=\"txtu cld\">ì</span><span class=\"txtu cld\">θ</span><span class=\"txtu cld\">aˈ </span></span></span></div><div class='features'><span class=\"lite xft\" ><span class=\"f\">lite=</span>tuni8a</span></div></div></div></div></div></div><div class=\"contnr c1    \" ><div class=\"lbl c1  \" ><span class=\"nd\">inton:541195</span></div><div class=\"children hor  \"><div class=\"contnr c1    \" ><div class=\"lbl c1  \" ><span class=\"nd\">stress:599846</span></div><div class=\"children hor  \"><div class=\"contnr c1 trm   \" ><div class=\"lbl c1 trm \" ><span class=\"nd\">word:720050</span> <span class=\"txtu cld\"><span class=\"plain   \" ><span class=\"txtu cld\">y-</span></span></span></div><div class='features'><span class=\"lite xft\" ><span class=\"f\">lite=</span>y</span></div></div><div class=\"contnr c1 trm   \" ><div class=\"lbl c1 trm \" ><span class=\"nd\">word:720051</span> <span class=\"txtu cld\"><span class=\"plain   \" ><span class=\"txtu cld\">a</span><span class=\"txtu cld\">m</span><span class=\"txtu cld\">r</span><span class=\"txtu cld\">í</span><span class=\"txtu cld\">w</span><span class=\"txtu cld\">a</span><span class=\"txtu cld\">l</span><span class=\"txtu cld\">a </span></span></span></div><div class='features'><span class=\"lite xft\" ><span class=\"f\">lite=</span>amriwala</span></div></div></div></div><div class=\"contnr c1    \" ><div class=\"lbl c1  \" ><span class=\"nd\">stress:599847</span></div><div class=\"children hor  \"><div class=\"contnr c1 trm   \" ><div class=\"lbl c1 trm \" ><span class=\"nd\">word:720052</span> <span class=\"txtu cld\"><span class=\"plain   \" ><span class=\"txtu cld\">G</span><span class=\"txtu cld\">o</span><span class=\"txtu cld\">z</span><span class=\"txtu cld\">á</span><span class=\"txtu cld\">l</span><span class=\"txtu cld\">i </span></span></span></div><div class='features'><span class=\"lite xft\" ><span class=\"f\">lite=</span>gozali</span></div></div></div></div><div class=\"contnr c1    \" ><div class=\"lbl c1  \" ><span class=\"nd\">stress:599848</span></div><div class=\"children hor  \"><div class=\"contnr c1 trm   \" ><div class=\"lbl c1 trm \" ><span class=\"nd\">word:720053</span> <span class=\"txtu cld\"><span class=\"plain   \" ><span class=\"txtu cld\">ʾ</span><span class=\"txtu cld\">u-</span></span></span></div><div class='features'><span class=\"lite xft\" ><span class=\"f\">lite=</span>)u</span></div></div><div class=\"contnr c1 trm   \" ><div class=\"lbl c1 trm \" ><span class=\"nd\">word:720054</span> <span class=\"txtu cld\"><span class=\"plain   \" ><span class=\"txtu cld\">N</span><span class=\"txtu cld\">o</span><span class=\"txtu cld\">z</span><span class=\"txtu cld\">à</span><span class=\"txtu cld\">l</span><span class=\"txtu cld\">i,ˈ </span></span></span></div><div class='features'><span class=\"lite xft\" ><span class=\"f\">lite=</span>nozali</span></div></div></div></div></div></div><div class=\"contnr c1    \" ><div class=\"lbl c1  \" ><span class=\"nd\">inton:541196</span></div><div class=\"children hor  \"><div class=\"contnr c1    \" ><div class=\"lbl c1  \" ><span class=\"nd\">stress:599849</span></div><div class=\"children hor  \"><div class=\"contnr c1 trm   \" ><div class=\"lbl c1 trm \" ><span class=\"nd\">word:720055</span> <span class=\"txtu cld\"><span class=\"plain   \" ><span class=\"txtu cld\">š</span><span class=\"txtu cld\">ə́</span><span class=\"txtu cld\">m</span><span class=\"txtu cld\">m</span><span class=\"txtu cld\">a </span></span></span></div><div class='features'><span class=\"lite xft\" ><span class=\"f\">lite=</span><span>$</span>9mma</span></div></div></div></div><div class=\"contnr c1    \" ><div class=\"lbl c1  \" ><span class=\"nd\">stress:599850</span></div><div class=\"children hor  \"><div class=\"contnr c1 trm   \" ><div class=\"lbl c1 trm \" ><span class=\"nd\">word:720056</span> <span class=\"txtu cld\"><span class=\"plain   \" ><span class=\"txtu cld\">d</span><span class=\"txtu cld\">í</span><span class=\"txtu cld\">y</span><span class=\"txtu cld\">a </span></span></span></div><div class='features'><span class=\"lite xft\" ><span class=\"f\">lite=</span>diya</span></div></div></div></div><div class=\"contnr c1    \" ><div class=\"lbl c1  \" ><span class=\"nd\">stress:599851</span></div><div class=\"children hor  \"><div class=\"contnr c1 trm   \" ><div class=\"lbl c1 trm \" ><span class=\"nd\">word:720057</span> <span class=\"txtu cld\"><span class=\"plain   \" ><span class=\"txtu cld\">y</span><span class=\"txtu cld\">á</span><span class=\"txtu cld\">ʿ</span><span class=\"txtu cld\">n</span><span class=\"txtu cld\">i </span></span></span></div><div class='features'><span class=\"lite xft\" ><span class=\"f\">lite=</span>ya(ni</span></div></div></div></div><div class=\"contnr c1    \" ><div class=\"lbl c1  \" ><span class=\"nd\">stress:599852</span></div><div class=\"children hor  \"><div class=\"contnr c1 trm   \" ><div class=\"lbl c1 trm \" ><span class=\"nd\">word:720058</span> <span class=\"txtu cld\"><span class=\"plain   \" ><span class=\"txtu cld\">t</span><span class=\"txtu cld\">u</span><span class=\"txtu cld\">n</span><span class=\"txtu cld\">í</span><span class=\"txtu cld\">θ</span><span class=\"txtu cld\">ə</span><span class=\"txtu cld\">t </span></span></span></div><div class='features'><span class=\"lite xft\" ><span class=\"f\">lite=</span>tuni89t</span></div></div></div></div><div class=\"contnr c1    \" ><div class=\"lbl c1  \" ><span class=\"nd\">stress:599853</span></div><div class=\"children hor  \"><div class=\"contnr c1 trm   \" ><div class=\"lbl c1 trm \" ><span class=\"nd\">word:720059</span> <span class=\"txtu cld\"><span class=\"plain   \" ><span class=\"txtu cld\">G</span><span class=\"txtu cld\">o</span><span class=\"txtu cld\">z</span><span class=\"txtu cld\">á</span><span class=\"txtu cld\">l</span><span class=\"txtu cld\">i </span></span></span></div><div class='features'><span class=\"lite xft\" ><span class=\"f\">lite=</span>gozali</span></div></div></div></div><div class=\"contnr c1    \" ><div class=\"lbl c1  \" ><span class=\"nd\">stress:599854</span></div><div class=\"children hor  \"><div class=\"contnr c1 trm   \" ><div class=\"lbl c1 trm \" ><span class=\"nd\">word:720060</span> <span class=\"txtu cld\"><span class=\"plain   \" ><span class=\"txtu cld\">ʾ</span><span class=\"txtu cld\">u-</span></span></span></div><div class='features'><span class=\"lite xft\" ><span class=\"f\">lite=</span>)u</span></div></div><div class=\"contnr c1 trm   \" ><div class=\"lbl c1 trm \" ><span class=\"nd\">word:720061</span> <span class=\"txtu cld\"><span class=\"plain   \" ><span class=\"txtu cld\">N</span><span class=\"txtu cld\">o</span><span class=\"txtu cld\">z</span><span class=\"txtu cld\">à</span><span class=\"txtu cld\">l</span><span class=\"txtu cld\">i.ˈ </span></span></span></div><div class='features'><span class=\"lite xft\" ><span class=\"f\">lite=</span>nozali</span></div></div></div></div></div></div></div></div></div>"
      ],
      "text/plain": [
       "<IPython.core.display.HTML object>"
      ]
     },
     "metadata": {},
     "output_type": "display_data"
    }
   ],
   "source": [
    "A.pretty(sentences[0], extraFeatures=\"lite\", withNodes=True, baseTypes=\"word\")"
   ]
  },
  {
   "cell_type": "markdown",
   "metadata": {},
   "source": [
    "We can even show the characters (and now we suppress the node numbers again):"
   ]
  },
  {
   "cell_type": "code",
   "execution_count": 18,
   "metadata": {},
   "outputs": [
    {
     "data": {
      "text/html": [
       "<div class=\"section \"><a target=\"_blank\" href=\"https://github.com/CambridgeSemiticsLab/nena_corpus/blob/master/nena/0.02/Barwar/Gozali and Nozali.nena\" title=\"Show this title in the NENA repository\" sec=\"Barwar, Gozali and Nozali, Ln. 1\">Barwar, Gozali and Nozali, Ln. 1</a></div><div class=\" children\"><div class=\"contnr c2    \" ><div class=\"lbl c2  \" ><span class=\"nd\">sentence</span></div><div class=\"children hor wrap \"><div class=\"contnr c1    \" ><div class=\"lbl c1  \" ><span class=\"nd\">inton</span></div><div class=\"children hor  \"><div class=\"contnr c1    \" ><div class=\"lbl c1  \" ><span class=\"nd\">stress</span></div><div class=\"children hor  \"><div class=\"contnr c1    \" ><div class=\"lbl c1  \" ><span class=\"nd\">word</span></div><div class='features'><span class=\"lite xft\" ><span class=\"f\">lite=</span>)ana</span></div><div class=\"children hor  \"><div class=\"contnr c0 trm   \" ><div class=\"lbl c0 trm \" ><span class=\"txtu cld\">ʾ</span></div><div class='features'><span class=\"lite xft\" ><span class=\"f\">lite=</span>)</span></div></div><div class=\"contnr c0 trm   \" ><div class=\"lbl c0 trm \" ><span class=\"txtu cld\">á</span></div><div class='features'><span class=\"lite xft\" ><span class=\"f\">lite=</span>a</span></div></div><div class=\"contnr c0 trm   \" ><div class=\"lbl c0 trm \" ><span class=\"txtu cld\">n</span></div><div class='features'><span class=\"lite xft\" ><span class=\"f\">lite=</span>n</span></div></div><div class=\"contnr c0 trm   \" ><div class=\"lbl c0 trm \" ><span class=\"txtu cld\">a </span></div><div class='features'><span class=\"lite xft\" ><span class=\"f\">lite=</span>a</span></div></div></div></div></div></div><div class=\"contnr c1    \" ><div class=\"lbl c1  \" ><span class=\"nd\">stress</span></div><div class=\"children hor  \"><div class=\"contnr c1    \" ><div class=\"lbl c1  \" ><span class=\"nd\">word</span></div><div class='features'><span class=\"lite xft\" ><span class=\"f\">lite=</span><span>$</span>miy9nwa</span></div><div class=\"children hor  \"><div class=\"contnr c0 trm   \" ><div class=\"lbl c0 trm \" ><span class=\"txtu cld\">š</span></div><div class='features'><span class=\"lite xft\" ><span class=\"f\">lite=</span><span>$</span></span></div></div><div class=\"contnr c0 trm   \" ><div class=\"lbl c0 trm \" ><span class=\"txtu cld\">m</span></div><div class='features'><span class=\"lite xft\" ><span class=\"f\">lite=</span>m</span></div></div><div class=\"contnr c0 trm   \" ><div class=\"lbl c0 trm \" ><span class=\"txtu cld\">í</span></div><div class='features'><span class=\"lite xft\" ><span class=\"f\">lite=</span>i</span></div></div><div class=\"contnr c0 trm   \" ><div class=\"lbl c0 trm \" ><span class=\"txtu cld\">y</span></div><div class='features'><span class=\"lite xft\" ><span class=\"f\">lite=</span>y</span></div></div><div class=\"contnr c0 trm   \" ><div class=\"lbl c0 trm \" ><span class=\"txtu cld\">ə</span></div><div class='features'><span class=\"lite xft\" ><span class=\"f\">lite=</span>9</span></div></div><div class=\"contnr c0 trm   \" ><div class=\"lbl c0 trm \" ><span class=\"txtu cld\">n</span></div><div class='features'><span class=\"lite xft\" ><span class=\"f\">lite=</span>n</span></div></div><div class=\"contnr c0 trm   \" ><div class=\"lbl c0 trm \" ><span class=\"txtu cld\">w</span></div><div class='features'><span class=\"lite xft\" ><span class=\"f\">lite=</span>w</span></div></div><div class=\"contnr c0 trm   \" ><div class=\"lbl c0 trm \" ><span class=\"txtu cld\">a </span></div><div class='features'><span class=\"lite xft\" ><span class=\"f\">lite=</span>a</span></div></div></div></div></div></div><div class=\"contnr c1    \" ><div class=\"lbl c1  \" ><span class=\"nd\">stress</span></div><div class=\"children hor  \"><div class=\"contnr c1    \" ><div class=\"lbl c1  \" ><span class=\"nd\">word</span></div><div class='features'><span class=\"lite xft\" ><span class=\"f\">lite=</span>xa</span></div><div class=\"children hor  \"><div class=\"contnr c0 trm   \" ><div class=\"lbl c0 trm \" ><span class=\"txtu cld\">x</span></div><div class='features'><span class=\"lite xft\" ><span class=\"f\">lite=</span>x</span></div></div><div class=\"contnr c0 trm   \" ><div class=\"lbl c0 trm \" ><span class=\"txtu cld\">a-</span></div><div class='features'><span class=\"lite xft\" ><span class=\"f\">lite=</span>a</span></div></div></div></div><div class=\"contnr c1    \" ><div class=\"lbl c1  \" ><span class=\"nd\">word</span></div><div class='features'><span class=\"lite xft\" ><span class=\"f\">lite=</span>tuni8a</span></div><div class=\"children hor  \"><div class=\"contnr c0 trm   \" ><div class=\"lbl c0 trm \" ><span class=\"txtu cld\">t</span></div><div class='features'><span class=\"lite xft\" ><span class=\"f\">lite=</span>t</span></div></div><div class=\"contnr c0 trm   \" ><div class=\"lbl c0 trm \" ><span class=\"txtu cld\">u</span></div><div class='features'><span class=\"lite xft\" ><span class=\"f\">lite=</span>u</span></div></div><div class=\"contnr c0 trm   \" ><div class=\"lbl c0 trm \" ><span class=\"txtu cld\">n</span></div><div class='features'><span class=\"lite xft\" ><span class=\"f\">lite=</span>n</span></div></div><div class=\"contnr c0 trm   \" ><div class=\"lbl c0 trm \" ><span class=\"txtu cld\">ì</span></div><div class='features'><span class=\"lite xft\" ><span class=\"f\">lite=</span>i</span></div></div><div class=\"contnr c0 trm   \" ><div class=\"lbl c0 trm \" ><span class=\"txtu cld\">θ</span></div><div class='features'><span class=\"lite xft\" ><span class=\"f\">lite=</span>8</span></div></div><div class=\"contnr c0 trm   \" ><div class=\"lbl c0 trm \" ><span class=\"txtu cld\">aˈ </span></div><div class='features'><span class=\"lite xft\" ><span class=\"f\">lite=</span>a</span></div></div></div></div></div></div></div></div><div class=\"contnr c1    \" ><div class=\"lbl c1  \" ><span class=\"nd\">inton</span></div><div class=\"children hor  \"><div class=\"contnr c1    \" ><div class=\"lbl c1  \" ><span class=\"nd\">stress</span></div><div class=\"children hor  \"><div class=\"contnr c1    \" ><div class=\"lbl c1  \" ><span class=\"nd\">word</span></div><div class='features'><span class=\"lite xft\" ><span class=\"f\">lite=</span>y</span></div><div class=\"children hor  \"><div class=\"contnr c0 trm   \" ><div class=\"lbl c0 trm \" ><span class=\"txtu cld\">y-</span></div><div class='features'><span class=\"lite xft\" ><span class=\"f\">lite=</span>y</span></div></div></div></div><div class=\"contnr c1    \" ><div class=\"lbl c1  \" ><span class=\"nd\">word</span></div><div class='features'><span class=\"lite xft\" ><span class=\"f\">lite=</span>amriwala</span></div><div class=\"children hor  \"><div class=\"contnr c0 trm   \" ><div class=\"lbl c0 trm \" ><span class=\"txtu cld\">a</span></div><div class='features'><span class=\"lite xft\" ><span class=\"f\">lite=</span>a</span></div></div><div class=\"contnr c0 trm   \" ><div class=\"lbl c0 trm \" ><span class=\"txtu cld\">m</span></div><div class='features'><span class=\"lite xft\" ><span class=\"f\">lite=</span>m</span></div></div><div class=\"contnr c0 trm   \" ><div class=\"lbl c0 trm \" ><span class=\"txtu cld\">r</span></div><div class='features'><span class=\"lite xft\" ><span class=\"f\">lite=</span>r</span></div></div><div class=\"contnr c0 trm   \" ><div class=\"lbl c0 trm \" ><span class=\"txtu cld\">í</span></div><div class='features'><span class=\"lite xft\" ><span class=\"f\">lite=</span>i</span></div></div><div class=\"contnr c0 trm   \" ><div class=\"lbl c0 trm \" ><span class=\"txtu cld\">w</span></div><div class='features'><span class=\"lite xft\" ><span class=\"f\">lite=</span>w</span></div></div><div class=\"contnr c0 trm   \" ><div class=\"lbl c0 trm \" ><span class=\"txtu cld\">a</span></div><div class='features'><span class=\"lite xft\" ><span class=\"f\">lite=</span>a</span></div></div><div class=\"contnr c0 trm   \" ><div class=\"lbl c0 trm \" ><span class=\"txtu cld\">l</span></div><div class='features'><span class=\"lite xft\" ><span class=\"f\">lite=</span>l</span></div></div><div class=\"contnr c0 trm   \" ><div class=\"lbl c0 trm \" ><span class=\"txtu cld\">a </span></div><div class='features'><span class=\"lite xft\" ><span class=\"f\">lite=</span>a</span></div></div></div></div></div></div><div class=\"contnr c1    \" ><div class=\"lbl c1  \" ><span class=\"nd\">stress</span></div><div class=\"children hor  \"><div class=\"contnr c1    \" ><div class=\"lbl c1  \" ><span class=\"nd\">word</span></div><div class='features'><span class=\"lite xft\" ><span class=\"f\">lite=</span>gozali</span></div><div class=\"children hor  \"><div class=\"contnr c0 trm   \" ><div class=\"lbl c0 trm \" ><span class=\"txtu cld\">G</span></div><div class='features'><span class=\"lite xft\" ><span class=\"f\">lite=</span>g</span></div></div><div class=\"contnr c0 trm   \" ><div class=\"lbl c0 trm \" ><span class=\"txtu cld\">o</span></div><div class='features'><span class=\"lite xft\" ><span class=\"f\">lite=</span>o</span></div></div><div class=\"contnr c0 trm   \" ><div class=\"lbl c0 trm \" ><span class=\"txtu cld\">z</span></div><div class='features'><span class=\"lite xft\" ><span class=\"f\">lite=</span>z</span></div></div><div class=\"contnr c0 trm   \" ><div class=\"lbl c0 trm \" ><span class=\"txtu cld\">á</span></div><div class='features'><span class=\"lite xft\" ><span class=\"f\">lite=</span>a</span></div></div><div class=\"contnr c0 trm   \" ><div class=\"lbl c0 trm \" ><span class=\"txtu cld\">l</span></div><div class='features'><span class=\"lite xft\" ><span class=\"f\">lite=</span>l</span></div></div><div class=\"contnr c0 trm   \" ><div class=\"lbl c0 trm \" ><span class=\"txtu cld\">i </span></div><div class='features'><span class=\"lite xft\" ><span class=\"f\">lite=</span>i</span></div></div></div></div></div></div><div class=\"contnr c1    \" ><div class=\"lbl c1  \" ><span class=\"nd\">stress</span></div><div class=\"children hor  \"><div class=\"contnr c1    \" ><div class=\"lbl c1  \" ><span class=\"nd\">word</span></div><div class='features'><span class=\"lite xft\" ><span class=\"f\">lite=</span>)u</span></div><div class=\"children hor  \"><div class=\"contnr c0 trm   \" ><div class=\"lbl c0 trm \" ><span class=\"txtu cld\">ʾ</span></div><div class='features'><span class=\"lite xft\" ><span class=\"f\">lite=</span>)</span></div></div><div class=\"contnr c0 trm   \" ><div class=\"lbl c0 trm \" ><span class=\"txtu cld\">u-</span></div><div class='features'><span class=\"lite xft\" ><span class=\"f\">lite=</span>u</span></div></div></div></div><div class=\"contnr c1    \" ><div class=\"lbl c1  \" ><span class=\"nd\">word</span></div><div class='features'><span class=\"lite xft\" ><span class=\"f\">lite=</span>nozali</span></div><div class=\"children hor  \"><div class=\"contnr c0 trm   \" ><div class=\"lbl c0 trm \" ><span class=\"txtu cld\">N</span></div><div class='features'><span class=\"lite xft\" ><span class=\"f\">lite=</span>n</span></div></div><div class=\"contnr c0 trm   \" ><div class=\"lbl c0 trm \" ><span class=\"txtu cld\">o</span></div><div class='features'><span class=\"lite xft\" ><span class=\"f\">lite=</span>o</span></div></div><div class=\"contnr c0 trm   \" ><div class=\"lbl c0 trm \" ><span class=\"txtu cld\">z</span></div><div class='features'><span class=\"lite xft\" ><span class=\"f\">lite=</span>z</span></div></div><div class=\"contnr c0 trm   \" ><div class=\"lbl c0 trm \" ><span class=\"txtu cld\">à</span></div><div class='features'><span class=\"lite xft\" ><span class=\"f\">lite=</span>a</span></div></div><div class=\"contnr c0 trm   \" ><div class=\"lbl c0 trm \" ><span class=\"txtu cld\">l</span></div><div class='features'><span class=\"lite xft\" ><span class=\"f\">lite=</span>l</span></div></div><div class=\"contnr c0 trm   \" ><div class=\"lbl c0 trm \" ><span class=\"txtu cld\">i,ˈ </span></div><div class='features'><span class=\"lite xft\" ><span class=\"f\">lite=</span>i</span></div></div></div></div></div></div></div></div><div class=\"contnr c1    \" ><div class=\"lbl c1  \" ><span class=\"nd\">inton</span></div><div class=\"children hor  \"><div class=\"contnr c1    \" ><div class=\"lbl c1  \" ><span class=\"nd\">stress</span></div><div class=\"children hor  \"><div class=\"contnr c1    \" ><div class=\"lbl c1  \" ><span class=\"nd\">word</span></div><div class='features'><span class=\"lite xft\" ><span class=\"f\">lite=</span><span>$</span>9mma</span></div><div class=\"children hor  \"><div class=\"contnr c0 trm   \" ><div class=\"lbl c0 trm \" ><span class=\"txtu cld\">š</span></div><div class='features'><span class=\"lite xft\" ><span class=\"f\">lite=</span><span>$</span></span></div></div><div class=\"contnr c0 trm   \" ><div class=\"lbl c0 trm \" ><span class=\"txtu cld\">ə́</span></div><div class='features'><span class=\"lite xft\" ><span class=\"f\">lite=</span>9</span></div></div><div class=\"contnr c0 trm   \" ><div class=\"lbl c0 trm \" ><span class=\"txtu cld\">m</span></div><div class='features'><span class=\"lite xft\" ><span class=\"f\">lite=</span>m</span></div></div><div class=\"contnr c0 trm   \" ><div class=\"lbl c0 trm \" ><span class=\"txtu cld\">m</span></div><div class='features'><span class=\"lite xft\" ><span class=\"f\">lite=</span>m</span></div></div><div class=\"contnr c0 trm   \" ><div class=\"lbl c0 trm \" ><span class=\"txtu cld\">a </span></div><div class='features'><span class=\"lite xft\" ><span class=\"f\">lite=</span>a</span></div></div></div></div></div></div><div class=\"contnr c1    \" ><div class=\"lbl c1  \" ><span class=\"nd\">stress</span></div><div class=\"children hor  \"><div class=\"contnr c1    \" ><div class=\"lbl c1  \" ><span class=\"nd\">word</span></div><div class='features'><span class=\"lite xft\" ><span class=\"f\">lite=</span>diya</span></div><div class=\"children hor  \"><div class=\"contnr c0 trm   \" ><div class=\"lbl c0 trm \" ><span class=\"txtu cld\">d</span></div><div class='features'><span class=\"lite xft\" ><span class=\"f\">lite=</span>d</span></div></div><div class=\"contnr c0 trm   \" ><div class=\"lbl c0 trm \" ><span class=\"txtu cld\">í</span></div><div class='features'><span class=\"lite xft\" ><span class=\"f\">lite=</span>i</span></div></div><div class=\"contnr c0 trm   \" ><div class=\"lbl c0 trm \" ><span class=\"txtu cld\">y</span></div><div class='features'><span class=\"lite xft\" ><span class=\"f\">lite=</span>y</span></div></div><div class=\"contnr c0 trm   \" ><div class=\"lbl c0 trm \" ><span class=\"txtu cld\">a </span></div><div class='features'><span class=\"lite xft\" ><span class=\"f\">lite=</span>a</span></div></div></div></div></div></div><div class=\"contnr c1    \" ><div class=\"lbl c1  \" ><span class=\"nd\">stress</span></div><div class=\"children hor  \"><div class=\"contnr c1    \" ><div class=\"lbl c1  \" ><span class=\"nd\">word</span></div><div class='features'><span class=\"lite xft\" ><span class=\"f\">lite=</span>ya(ni</span></div><div class=\"children hor  \"><div class=\"contnr c0 trm   \" ><div class=\"lbl c0 trm \" ><span class=\"txtu cld\">y</span></div><div class='features'><span class=\"lite xft\" ><span class=\"f\">lite=</span>y</span></div></div><div class=\"contnr c0 trm   \" ><div class=\"lbl c0 trm \" ><span class=\"txtu cld\">á</span></div><div class='features'><span class=\"lite xft\" ><span class=\"f\">lite=</span>a</span></div></div><div class=\"contnr c0 trm   \" ><div class=\"lbl c0 trm \" ><span class=\"txtu cld\">ʿ</span></div><div class='features'><span class=\"lite xft\" ><span class=\"f\">lite=</span>(</span></div></div><div class=\"contnr c0 trm   \" ><div class=\"lbl c0 trm \" ><span class=\"txtu cld\">n</span></div><div class='features'><span class=\"lite xft\" ><span class=\"f\">lite=</span>n</span></div></div><div class=\"contnr c0 trm   \" ><div class=\"lbl c0 trm \" ><span class=\"txtu cld\">i </span></div><div class='features'><span class=\"lite xft\" ><span class=\"f\">lite=</span>i</span></div></div></div></div></div></div><div class=\"contnr c1    \" ><div class=\"lbl c1  \" ><span class=\"nd\">stress</span></div><div class=\"children hor  \"><div class=\"contnr c1    \" ><div class=\"lbl c1  \" ><span class=\"nd\">word</span></div><div class='features'><span class=\"lite xft\" ><span class=\"f\">lite=</span>tuni89t</span></div><div class=\"children hor  \"><div class=\"contnr c0 trm   \" ><div class=\"lbl c0 trm \" ><span class=\"txtu cld\">t</span></div><div class='features'><span class=\"lite xft\" ><span class=\"f\">lite=</span>t</span></div></div><div class=\"contnr c0 trm   \" ><div class=\"lbl c0 trm \" ><span class=\"txtu cld\">u</span></div><div class='features'><span class=\"lite xft\" ><span class=\"f\">lite=</span>u</span></div></div><div class=\"contnr c0 trm   \" ><div class=\"lbl c0 trm \" ><span class=\"txtu cld\">n</span></div><div class='features'><span class=\"lite xft\" ><span class=\"f\">lite=</span>n</span></div></div><div class=\"contnr c0 trm   \" ><div class=\"lbl c0 trm \" ><span class=\"txtu cld\">í</span></div><div class='features'><span class=\"lite xft\" ><span class=\"f\">lite=</span>i</span></div></div><div class=\"contnr c0 trm   \" ><div class=\"lbl c0 trm \" ><span class=\"txtu cld\">θ</span></div><div class='features'><span class=\"lite xft\" ><span class=\"f\">lite=</span>8</span></div></div><div class=\"contnr c0 trm   \" ><div class=\"lbl c0 trm \" ><span class=\"txtu cld\">ə</span></div><div class='features'><span class=\"lite xft\" ><span class=\"f\">lite=</span>9</span></div></div><div class=\"contnr c0 trm   \" ><div class=\"lbl c0 trm \" ><span class=\"txtu cld\">t </span></div><div class='features'><span class=\"lite xft\" ><span class=\"f\">lite=</span>t</span></div></div></div></div></div></div><div class=\"contnr c1    \" ><div class=\"lbl c1  \" ><span class=\"nd\">stress</span></div><div class=\"children hor  \"><div class=\"contnr c1    \" ><div class=\"lbl c1  \" ><span class=\"nd\">word</span></div><div class='features'><span class=\"lite xft\" ><span class=\"f\">lite=</span>gozali</span></div><div class=\"children hor  \"><div class=\"contnr c0 trm   \" ><div class=\"lbl c0 trm \" ><span class=\"txtu cld\">G</span></div><div class='features'><span class=\"lite xft\" ><span class=\"f\">lite=</span>g</span></div></div><div class=\"contnr c0 trm   \" ><div class=\"lbl c0 trm \" ><span class=\"txtu cld\">o</span></div><div class='features'><span class=\"lite xft\" ><span class=\"f\">lite=</span>o</span></div></div><div class=\"contnr c0 trm   \" ><div class=\"lbl c0 trm \" ><span class=\"txtu cld\">z</span></div><div class='features'><span class=\"lite xft\" ><span class=\"f\">lite=</span>z</span></div></div><div class=\"contnr c0 trm   \" ><div class=\"lbl c0 trm \" ><span class=\"txtu cld\">á</span></div><div class='features'><span class=\"lite xft\" ><span class=\"f\">lite=</span>a</span></div></div><div class=\"contnr c0 trm   \" ><div class=\"lbl c0 trm \" ><span class=\"txtu cld\">l</span></div><div class='features'><span class=\"lite xft\" ><span class=\"f\">lite=</span>l</span></div></div><div class=\"contnr c0 trm   \" ><div class=\"lbl c0 trm \" ><span class=\"txtu cld\">i </span></div><div class='features'><span class=\"lite xft\" ><span class=\"f\">lite=</span>i</span></div></div></div></div></div></div><div class=\"contnr c1    \" ><div class=\"lbl c1  \" ><span class=\"nd\">stress</span></div><div class=\"children hor  \"><div class=\"contnr c1    \" ><div class=\"lbl c1  \" ><span class=\"nd\">word</span></div><div class='features'><span class=\"lite xft\" ><span class=\"f\">lite=</span>)u</span></div><div class=\"children hor  \"><div class=\"contnr c0 trm   \" ><div class=\"lbl c0 trm \" ><span class=\"txtu cld\">ʾ</span></div><div class='features'><span class=\"lite xft\" ><span class=\"f\">lite=</span>)</span></div></div><div class=\"contnr c0 trm   \" ><div class=\"lbl c0 trm \" ><span class=\"txtu cld\">u-</span></div><div class='features'><span class=\"lite xft\" ><span class=\"f\">lite=</span>u</span></div></div></div></div><div class=\"contnr c1    \" ><div class=\"lbl c1  \" ><span class=\"nd\">word</span></div><div class='features'><span class=\"lite xft\" ><span class=\"f\">lite=</span>nozali</span></div><div class=\"children hor  \"><div class=\"contnr c0 trm   \" ><div class=\"lbl c0 trm \" ><span class=\"txtu cld\">N</span></div><div class='features'><span class=\"lite xft\" ><span class=\"f\">lite=</span>n</span></div></div><div class=\"contnr c0 trm   \" ><div class=\"lbl c0 trm \" ><span class=\"txtu cld\">o</span></div><div class='features'><span class=\"lite xft\" ><span class=\"f\">lite=</span>o</span></div></div><div class=\"contnr c0 trm   \" ><div class=\"lbl c0 trm \" ><span class=\"txtu cld\">z</span></div><div class='features'><span class=\"lite xft\" ><span class=\"f\">lite=</span>z</span></div></div><div class=\"contnr c0 trm   \" ><div class=\"lbl c0 trm \" ><span class=\"txtu cld\">à</span></div><div class='features'><span class=\"lite xft\" ><span class=\"f\">lite=</span>a</span></div></div><div class=\"contnr c0 trm   \" ><div class=\"lbl c0 trm \" ><span class=\"txtu cld\">l</span></div><div class='features'><span class=\"lite xft\" ><span class=\"f\">lite=</span>l</span></div></div><div class=\"contnr c0 trm   \" ><div class=\"lbl c0 trm \" ><span class=\"txtu cld\">i.ˈ </span></div><div class='features'><span class=\"lite xft\" ><span class=\"f\">lite=</span>i</span></div></div></div></div></div></div></div></div></div></div></div>"
      ],
      "text/plain": [
       "<IPython.core.display.HTML object>"
      ]
     },
     "metadata": {},
     "output_type": "display_data"
    }
   ],
   "source": [
    "A.pretty(sentences[0], extraFeatures=\"lite\", baseTypes=\"letter\")"
   ]
  },
  {
   "cell_type": "markdown",
   "metadata": {},
   "source": [
    "We can skip intermediate levels, such as `inton` and stress:"
   ]
  },
  {
   "cell_type": "code",
   "execution_count": 19,
   "metadata": {},
   "outputs": [
    {
     "data": {
      "text/html": [
       "<div class=\"section \"><a target=\"_blank\" href=\"https://github.com/CambridgeSemiticsLab/nena_corpus/blob/master/nena/0.02/Barwar/Gozali and Nozali.nena\" title=\"Show this title in the NENA repository\" sec=\"Barwar, Gozali and Nozali, Ln. 1\">Barwar, Gozali and Nozali, Ln. 1</a></div><div class=\" children\"><div class=\"contnr c2    \" ><div class=\"lbl c2  \" ><span class=\"nd\">sentence</span></div><div class=\"children hor wrap \"><div class=\"contnr c2    \" ><div class=\"lbl c2  \" ><span class=\"nd\">subsentence</span></div><div class=\"children hor wrap \"><div class=\"contnr c1    \" ><div class=\"lbl c1  \" ><span class=\"nd\">word</span></div><div class='features'><span class=\"lite xft\" ><span class=\"f\">lite=</span>)ana</span></div><div class=\"children hor  \"><div class=\"contnr c0 trm   \" ><div class=\"lbl c0 trm \" ><span class=\"txtu cld\">ʾ</span></div><div class='features'><span class=\"lite xft\" ><span class=\"f\">lite=</span>)</span></div></div><div class=\"contnr c0 trm   \" ><div class=\"lbl c0 trm \" ><span class=\"txtu cld\">á</span></div><div class='features'><span class=\"lite xft\" ><span class=\"f\">lite=</span>a</span></div></div><div class=\"contnr c0 trm   \" ><div class=\"lbl c0 trm \" ><span class=\"txtu cld\">n</span></div><div class='features'><span class=\"lite xft\" ><span class=\"f\">lite=</span>n</span></div></div><div class=\"contnr c0 trm   \" ><div class=\"lbl c0 trm \" ><span class=\"txtu cld\">a </span></div><div class='features'><span class=\"lite xft\" ><span class=\"f\">lite=</span>a</span></div></div></div></div><div class=\"contnr c1    \" ><div class=\"lbl c1  \" ><span class=\"nd\">word</span></div><div class='features'><span class=\"lite xft\" ><span class=\"f\">lite=</span><span>$</span>miy9nwa</span></div><div class=\"children hor  \"><div class=\"contnr c0 trm   \" ><div class=\"lbl c0 trm \" ><span class=\"txtu cld\">š</span></div><div class='features'><span class=\"lite xft\" ><span class=\"f\">lite=</span><span>$</span></span></div></div><div class=\"contnr c0 trm   \" ><div class=\"lbl c0 trm \" ><span class=\"txtu cld\">m</span></div><div class='features'><span class=\"lite xft\" ><span class=\"f\">lite=</span>m</span></div></div><div class=\"contnr c0 trm   \" ><div class=\"lbl c0 trm \" ><span class=\"txtu cld\">í</span></div><div class='features'><span class=\"lite xft\" ><span class=\"f\">lite=</span>i</span></div></div><div class=\"contnr c0 trm   \" ><div class=\"lbl c0 trm \" ><span class=\"txtu cld\">y</span></div><div class='features'><span class=\"lite xft\" ><span class=\"f\">lite=</span>y</span></div></div><div class=\"contnr c0 trm   \" ><div class=\"lbl c0 trm \" ><span class=\"txtu cld\">ə</span></div><div class='features'><span class=\"lite xft\" ><span class=\"f\">lite=</span>9</span></div></div><div class=\"contnr c0 trm   \" ><div class=\"lbl c0 trm \" ><span class=\"txtu cld\">n</span></div><div class='features'><span class=\"lite xft\" ><span class=\"f\">lite=</span>n</span></div></div><div class=\"contnr c0 trm   \" ><div class=\"lbl c0 trm \" ><span class=\"txtu cld\">w</span></div><div class='features'><span class=\"lite xft\" ><span class=\"f\">lite=</span>w</span></div></div><div class=\"contnr c0 trm   \" ><div class=\"lbl c0 trm \" ><span class=\"txtu cld\">a </span></div><div class='features'><span class=\"lite xft\" ><span class=\"f\">lite=</span>a</span></div></div></div></div><div class=\"contnr c1    \" ><div class=\"lbl c1  \" ><span class=\"nd\">word</span></div><div class='features'><span class=\"lite xft\" ><span class=\"f\">lite=</span>xa</span></div><div class=\"children hor  \"><div class=\"contnr c0 trm   \" ><div class=\"lbl c0 trm \" ><span class=\"txtu cld\">x</span></div><div class='features'><span class=\"lite xft\" ><span class=\"f\">lite=</span>x</span></div></div><div class=\"contnr c0 trm   \" ><div class=\"lbl c0 trm \" ><span class=\"txtu cld\">a-</span></div><div class='features'><span class=\"lite xft\" ><span class=\"f\">lite=</span>a</span></div></div></div></div><div class=\"contnr c1    \" ><div class=\"lbl c1  \" ><span class=\"nd\">word</span></div><div class='features'><span class=\"lite xft\" ><span class=\"f\">lite=</span>tuni8a</span></div><div class=\"children hor  \"><div class=\"contnr c0 trm   \" ><div class=\"lbl c0 trm \" ><span class=\"txtu cld\">t</span></div><div class='features'><span class=\"lite xft\" ><span class=\"f\">lite=</span>t</span></div></div><div class=\"contnr c0 trm   \" ><div class=\"lbl c0 trm \" ><span class=\"txtu cld\">u</span></div><div class='features'><span class=\"lite xft\" ><span class=\"f\">lite=</span>u</span></div></div><div class=\"contnr c0 trm   \" ><div class=\"lbl c0 trm \" ><span class=\"txtu cld\">n</span></div><div class='features'><span class=\"lite xft\" ><span class=\"f\">lite=</span>n</span></div></div><div class=\"contnr c0 trm   \" ><div class=\"lbl c0 trm \" ><span class=\"txtu cld\">ì</span></div><div class='features'><span class=\"lite xft\" ><span class=\"f\">lite=</span>i</span></div></div><div class=\"contnr c0 trm   \" ><div class=\"lbl c0 trm \" ><span class=\"txtu cld\">θ</span></div><div class='features'><span class=\"lite xft\" ><span class=\"f\">lite=</span>8</span></div></div><div class=\"contnr c0 trm   \" ><div class=\"lbl c0 trm \" ><span class=\"txtu cld\">aˈ </span></div><div class='features'><span class=\"lite xft\" ><span class=\"f\">lite=</span>a</span></div></div></div></div><div class=\"contnr c1    \" ><div class=\"lbl c1  \" ><span class=\"nd\">word</span></div><div class='features'><span class=\"lite xft\" ><span class=\"f\">lite=</span>y</span></div><div class=\"children hor  \"><div class=\"contnr c0 trm   \" ><div class=\"lbl c0 trm \" ><span class=\"txtu cld\">y-</span></div><div class='features'><span class=\"lite xft\" ><span class=\"f\">lite=</span>y</span></div></div></div></div><div class=\"contnr c1    \" ><div class=\"lbl c1  \" ><span class=\"nd\">word</span></div><div class='features'><span class=\"lite xft\" ><span class=\"f\">lite=</span>amriwala</span></div><div class=\"children hor  \"><div class=\"contnr c0 trm   \" ><div class=\"lbl c0 trm \" ><span class=\"txtu cld\">a</span></div><div class='features'><span class=\"lite xft\" ><span class=\"f\">lite=</span>a</span></div></div><div class=\"contnr c0 trm   \" ><div class=\"lbl c0 trm \" ><span class=\"txtu cld\">m</span></div><div class='features'><span class=\"lite xft\" ><span class=\"f\">lite=</span>m</span></div></div><div class=\"contnr c0 trm   \" ><div class=\"lbl c0 trm \" ><span class=\"txtu cld\">r</span></div><div class='features'><span class=\"lite xft\" ><span class=\"f\">lite=</span>r</span></div></div><div class=\"contnr c0 trm   \" ><div class=\"lbl c0 trm \" ><span class=\"txtu cld\">í</span></div><div class='features'><span class=\"lite xft\" ><span class=\"f\">lite=</span>i</span></div></div><div class=\"contnr c0 trm   \" ><div class=\"lbl c0 trm \" ><span class=\"txtu cld\">w</span></div><div class='features'><span class=\"lite xft\" ><span class=\"f\">lite=</span>w</span></div></div><div class=\"contnr c0 trm   \" ><div class=\"lbl c0 trm \" ><span class=\"txtu cld\">a</span></div><div class='features'><span class=\"lite xft\" ><span class=\"f\">lite=</span>a</span></div></div><div class=\"contnr c0 trm   \" ><div class=\"lbl c0 trm \" ><span class=\"txtu cld\">l</span></div><div class='features'><span class=\"lite xft\" ><span class=\"f\">lite=</span>l</span></div></div><div class=\"contnr c0 trm   \" ><div class=\"lbl c0 trm \" ><span class=\"txtu cld\">a </span></div><div class='features'><span class=\"lite xft\" ><span class=\"f\">lite=</span>a</span></div></div></div></div><div class=\"contnr c1    \" ><div class=\"lbl c1  \" ><span class=\"nd\">word</span></div><div class='features'><span class=\"lite xft\" ><span class=\"f\">lite=</span>gozali</span></div><div class=\"children hor  \"><div class=\"contnr c0 trm   \" ><div class=\"lbl c0 trm \" ><span class=\"txtu cld\">G</span></div><div class='features'><span class=\"lite xft\" ><span class=\"f\">lite=</span>g</span></div></div><div class=\"contnr c0 trm   \" ><div class=\"lbl c0 trm \" ><span class=\"txtu cld\">o</span></div><div class='features'><span class=\"lite xft\" ><span class=\"f\">lite=</span>o</span></div></div><div class=\"contnr c0 trm   \" ><div class=\"lbl c0 trm \" ><span class=\"txtu cld\">z</span></div><div class='features'><span class=\"lite xft\" ><span class=\"f\">lite=</span>z</span></div></div><div class=\"contnr c0 trm   \" ><div class=\"lbl c0 trm \" ><span class=\"txtu cld\">á</span></div><div class='features'><span class=\"lite xft\" ><span class=\"f\">lite=</span>a</span></div></div><div class=\"contnr c0 trm   \" ><div class=\"lbl c0 trm \" ><span class=\"txtu cld\">l</span></div><div class='features'><span class=\"lite xft\" ><span class=\"f\">lite=</span>l</span></div></div><div class=\"contnr c0 trm   \" ><div class=\"lbl c0 trm \" ><span class=\"txtu cld\">i </span></div><div class='features'><span class=\"lite xft\" ><span class=\"f\">lite=</span>i</span></div></div></div></div><div class=\"contnr c1    \" ><div class=\"lbl c1  \" ><span class=\"nd\">word</span></div><div class='features'><span class=\"lite xft\" ><span class=\"f\">lite=</span>)u</span></div><div class=\"children hor  \"><div class=\"contnr c0 trm   \" ><div class=\"lbl c0 trm \" ><span class=\"txtu cld\">ʾ</span></div><div class='features'><span class=\"lite xft\" ><span class=\"f\">lite=</span>)</span></div></div><div class=\"contnr c0 trm   \" ><div class=\"lbl c0 trm \" ><span class=\"txtu cld\">u-</span></div><div class='features'><span class=\"lite xft\" ><span class=\"f\">lite=</span>u</span></div></div></div></div><div class=\"contnr c1    \" ><div class=\"lbl c1  \" ><span class=\"nd\">word</span></div><div class='features'><span class=\"lite xft\" ><span class=\"f\">lite=</span>nozali</span></div><div class=\"children hor  \"><div class=\"contnr c0 trm   \" ><div class=\"lbl c0 trm \" ><span class=\"txtu cld\">N</span></div><div class='features'><span class=\"lite xft\" ><span class=\"f\">lite=</span>n</span></div></div><div class=\"contnr c0 trm   \" ><div class=\"lbl c0 trm \" ><span class=\"txtu cld\">o</span></div><div class='features'><span class=\"lite xft\" ><span class=\"f\">lite=</span>o</span></div></div><div class=\"contnr c0 trm   \" ><div class=\"lbl c0 trm \" ><span class=\"txtu cld\">z</span></div><div class='features'><span class=\"lite xft\" ><span class=\"f\">lite=</span>z</span></div></div><div class=\"contnr c0 trm   \" ><div class=\"lbl c0 trm \" ><span class=\"txtu cld\">à</span></div><div class='features'><span class=\"lite xft\" ><span class=\"f\">lite=</span>a</span></div></div><div class=\"contnr c0 trm   \" ><div class=\"lbl c0 trm \" ><span class=\"txtu cld\">l</span></div><div class='features'><span class=\"lite xft\" ><span class=\"f\">lite=</span>l</span></div></div><div class=\"contnr c0 trm   \" ><div class=\"lbl c0 trm \" ><span class=\"txtu cld\">i,ˈ </span></div><div class='features'><span class=\"lite xft\" ><span class=\"f\">lite=</span>i</span></div></div></div></div></div></div><div class=\"contnr c2    \" ><div class=\"lbl c2  \" ><span class=\"nd\">subsentence</span></div><div class=\"children hor wrap \"><div class=\"contnr c1    \" ><div class=\"lbl c1  \" ><span class=\"nd\">word</span></div><div class='features'><span class=\"lite xft\" ><span class=\"f\">lite=</span><span>$</span>9mma</span></div><div class=\"children hor  \"><div class=\"contnr c0 trm   \" ><div class=\"lbl c0 trm \" ><span class=\"txtu cld\">š</span></div><div class='features'><span class=\"lite xft\" ><span class=\"f\">lite=</span><span>$</span></span></div></div><div class=\"contnr c0 trm   \" ><div class=\"lbl c0 trm \" ><span class=\"txtu cld\">ə́</span></div><div class='features'><span class=\"lite xft\" ><span class=\"f\">lite=</span>9</span></div></div><div class=\"contnr c0 trm   \" ><div class=\"lbl c0 trm \" ><span class=\"txtu cld\">m</span></div><div class='features'><span class=\"lite xft\" ><span class=\"f\">lite=</span>m</span></div></div><div class=\"contnr c0 trm   \" ><div class=\"lbl c0 trm \" ><span class=\"txtu cld\">m</span></div><div class='features'><span class=\"lite xft\" ><span class=\"f\">lite=</span>m</span></div></div><div class=\"contnr c0 trm   \" ><div class=\"lbl c0 trm \" ><span class=\"txtu cld\">a </span></div><div class='features'><span class=\"lite xft\" ><span class=\"f\">lite=</span>a</span></div></div></div></div><div class=\"contnr c1    \" ><div class=\"lbl c1  \" ><span class=\"nd\">word</span></div><div class='features'><span class=\"lite xft\" ><span class=\"f\">lite=</span>diya</span></div><div class=\"children hor  \"><div class=\"contnr c0 trm   \" ><div class=\"lbl c0 trm \" ><span class=\"txtu cld\">d</span></div><div class='features'><span class=\"lite xft\" ><span class=\"f\">lite=</span>d</span></div></div><div class=\"contnr c0 trm   \" ><div class=\"lbl c0 trm \" ><span class=\"txtu cld\">í</span></div><div class='features'><span class=\"lite xft\" ><span class=\"f\">lite=</span>i</span></div></div><div class=\"contnr c0 trm   \" ><div class=\"lbl c0 trm \" ><span class=\"txtu cld\">y</span></div><div class='features'><span class=\"lite xft\" ><span class=\"f\">lite=</span>y</span></div></div><div class=\"contnr c0 trm   \" ><div class=\"lbl c0 trm \" ><span class=\"txtu cld\">a </span></div><div class='features'><span class=\"lite xft\" ><span class=\"f\">lite=</span>a</span></div></div></div></div><div class=\"contnr c1    \" ><div class=\"lbl c1  \" ><span class=\"nd\">word</span></div><div class='features'><span class=\"lite xft\" ><span class=\"f\">lite=</span>ya(ni</span></div><div class=\"children hor  \"><div class=\"contnr c0 trm   \" ><div class=\"lbl c0 trm \" ><span class=\"txtu cld\">y</span></div><div class='features'><span class=\"lite xft\" ><span class=\"f\">lite=</span>y</span></div></div><div class=\"contnr c0 trm   \" ><div class=\"lbl c0 trm \" ><span class=\"txtu cld\">á</span></div><div class='features'><span class=\"lite xft\" ><span class=\"f\">lite=</span>a</span></div></div><div class=\"contnr c0 trm   \" ><div class=\"lbl c0 trm \" ><span class=\"txtu cld\">ʿ</span></div><div class='features'><span class=\"lite xft\" ><span class=\"f\">lite=</span>(</span></div></div><div class=\"contnr c0 trm   \" ><div class=\"lbl c0 trm \" ><span class=\"txtu cld\">n</span></div><div class='features'><span class=\"lite xft\" ><span class=\"f\">lite=</span>n</span></div></div><div class=\"contnr c0 trm   \" ><div class=\"lbl c0 trm \" ><span class=\"txtu cld\">i </span></div><div class='features'><span class=\"lite xft\" ><span class=\"f\">lite=</span>i</span></div></div></div></div><div class=\"contnr c1    \" ><div class=\"lbl c1  \" ><span class=\"nd\">word</span></div><div class='features'><span class=\"lite xft\" ><span class=\"f\">lite=</span>tuni89t</span></div><div class=\"children hor  \"><div class=\"contnr c0 trm   \" ><div class=\"lbl c0 trm \" ><span class=\"txtu cld\">t</span></div><div class='features'><span class=\"lite xft\" ><span class=\"f\">lite=</span>t</span></div></div><div class=\"contnr c0 trm   \" ><div class=\"lbl c0 trm \" ><span class=\"txtu cld\">u</span></div><div class='features'><span class=\"lite xft\" ><span class=\"f\">lite=</span>u</span></div></div><div class=\"contnr c0 trm   \" ><div class=\"lbl c0 trm \" ><span class=\"txtu cld\">n</span></div><div class='features'><span class=\"lite xft\" ><span class=\"f\">lite=</span>n</span></div></div><div class=\"contnr c0 trm   \" ><div class=\"lbl c0 trm \" ><span class=\"txtu cld\">í</span></div><div class='features'><span class=\"lite xft\" ><span class=\"f\">lite=</span>i</span></div></div><div class=\"contnr c0 trm   \" ><div class=\"lbl c0 trm \" ><span class=\"txtu cld\">θ</span></div><div class='features'><span class=\"lite xft\" ><span class=\"f\">lite=</span>8</span></div></div><div class=\"contnr c0 trm   \" ><div class=\"lbl c0 trm \" ><span class=\"txtu cld\">ə</span></div><div class='features'><span class=\"lite xft\" ><span class=\"f\">lite=</span>9</span></div></div><div class=\"contnr c0 trm   \" ><div class=\"lbl c0 trm \" ><span class=\"txtu cld\">t </span></div><div class='features'><span class=\"lite xft\" ><span class=\"f\">lite=</span>t</span></div></div></div></div><div class=\"contnr c1    \" ><div class=\"lbl c1  \" ><span class=\"nd\">word</span></div><div class='features'><span class=\"lite xft\" ><span class=\"f\">lite=</span>gozali</span></div><div class=\"children hor  \"><div class=\"contnr c0 trm   \" ><div class=\"lbl c0 trm \" ><span class=\"txtu cld\">G</span></div><div class='features'><span class=\"lite xft\" ><span class=\"f\">lite=</span>g</span></div></div><div class=\"contnr c0 trm   \" ><div class=\"lbl c0 trm \" ><span class=\"txtu cld\">o</span></div><div class='features'><span class=\"lite xft\" ><span class=\"f\">lite=</span>o</span></div></div><div class=\"contnr c0 trm   \" ><div class=\"lbl c0 trm \" ><span class=\"txtu cld\">z</span></div><div class='features'><span class=\"lite xft\" ><span class=\"f\">lite=</span>z</span></div></div><div class=\"contnr c0 trm   \" ><div class=\"lbl c0 trm \" ><span class=\"txtu cld\">á</span></div><div class='features'><span class=\"lite xft\" ><span class=\"f\">lite=</span>a</span></div></div><div class=\"contnr c0 trm   \" ><div class=\"lbl c0 trm \" ><span class=\"txtu cld\">l</span></div><div class='features'><span class=\"lite xft\" ><span class=\"f\">lite=</span>l</span></div></div><div class=\"contnr c0 trm   \" ><div class=\"lbl c0 trm \" ><span class=\"txtu cld\">i </span></div><div class='features'><span class=\"lite xft\" ><span class=\"f\">lite=</span>i</span></div></div></div></div><div class=\"contnr c1    \" ><div class=\"lbl c1  \" ><span class=\"nd\">word</span></div><div class='features'><span class=\"lite xft\" ><span class=\"f\">lite=</span>)u</span></div><div class=\"children hor  \"><div class=\"contnr c0 trm   \" ><div class=\"lbl c0 trm \" ><span class=\"txtu cld\">ʾ</span></div><div class='features'><span class=\"lite xft\" ><span class=\"f\">lite=</span>)</span></div></div><div class=\"contnr c0 trm   \" ><div class=\"lbl c0 trm \" ><span class=\"txtu cld\">u-</span></div><div class='features'><span class=\"lite xft\" ><span class=\"f\">lite=</span>u</span></div></div></div></div><div class=\"contnr c1    \" ><div class=\"lbl c1  \" ><span class=\"nd\">word</span></div><div class='features'><span class=\"lite xft\" ><span class=\"f\">lite=</span>nozali</span></div><div class=\"children hor  \"><div class=\"contnr c0 trm   \" ><div class=\"lbl c0 trm \" ><span class=\"txtu cld\">N</span></div><div class='features'><span class=\"lite xft\" ><span class=\"f\">lite=</span>n</span></div></div><div class=\"contnr c0 trm   \" ><div class=\"lbl c0 trm \" ><span class=\"txtu cld\">o</span></div><div class='features'><span class=\"lite xft\" ><span class=\"f\">lite=</span>o</span></div></div><div class=\"contnr c0 trm   \" ><div class=\"lbl c0 trm \" ><span class=\"txtu cld\">z</span></div><div class='features'><span class=\"lite xft\" ><span class=\"f\">lite=</span>z</span></div></div><div class=\"contnr c0 trm   \" ><div class=\"lbl c0 trm \" ><span class=\"txtu cld\">à</span></div><div class='features'><span class=\"lite xft\" ><span class=\"f\">lite=</span>a</span></div></div><div class=\"contnr c0 trm   \" ><div class=\"lbl c0 trm \" ><span class=\"txtu cld\">l</span></div><div class='features'><span class=\"lite xft\" ><span class=\"f\">lite=</span>l</span></div></div><div class=\"contnr c0 trm   \" ><div class=\"lbl c0 trm \" ><span class=\"txtu cld\">i.ˈ </span></div><div class='features'><span class=\"lite xft\" ><span class=\"f\">lite=</span>i</span></div></div></div></div></div></div></div></div></div>"
      ],
      "text/plain": [
       "<IPython.core.display.HTML object>"
      ]
     },
     "metadata": {},
     "output_type": "display_data"
    }
   ],
   "source": [
    "A.pretty(\n",
    "    sentences[0], hiddenTypes=\"inton stress\", extraFeatures=\"lite\", baseTypes=\"letter\"\n",
    ")"
   ]
  },
  {
   "cell_type": "markdown",
   "metadata": {},
   "source": [
    "Overview of all display options with their current settings:"
   ]
  },
  {
   "cell_type": "code",
   "execution_count": 20,
   "metadata": {},
   "outputs": [
    {
     "data": {
      "text/markdown": [
       "<details ><summary><b>current display options</b></summary>\n",
       "\n",
       "<details ><summary>1. baseTypes</summary>\n",
       "\n",
       "\n",
       "1.  `stress`\n",
       "\n",
       "</details>\n",
       "<details ><summary>2. colorMap</summary>\n",
       "\n",
       "None\n",
       "\n",
       "</details>\n",
       "<details ><summary>3. condenseType</summary>\n",
       "\n",
       "`line`\n",
       "\n",
       "</details>\n",
       "<details ><summary>4. condensed</summary>\n",
       "\n",
       "False\n",
       "\n",
       "</details>\n",
       "<details ><summary>5. end</summary>\n",
       "\n",
       "None\n",
       "\n",
       "</details>\n",
       "<details ><summary>6. extraFeatures</summary>\n",
       "\n",
       "\n",
       "1.  ()\n",
       "2.  {}\n",
       "\n",
       "</details>\n",
       "<details ><summary>7. fmt</summary>\n",
       "\n",
       "None\n",
       "\n",
       "</details>\n",
       "<details ><summary>8. full</summary>\n",
       "\n",
       "False\n",
       "\n",
       "</details>\n",
       "<details ><summary>9. hiddenTypes</summary>\n",
       "\n",
       "\n",
       "1.  `subsentence`\n",
       "\n",
       "</details>\n",
       "<details ><summary>10. hideTypes</summary>\n",
       "\n",
       "`True`\n",
       "\n",
       "</details>\n",
       "<details ><summary>11. highlights</summary>\n",
       "\n",
       "{}\n",
       "\n",
       "</details>\n",
       "<details ><summary>12. lineNumbers</summary>\n",
       "\n",
       "None\n",
       "\n",
       "</details>\n",
       "<details ><summary>13. noneValues</summary>\n",
       "\n",
       "\n",
       "1.  `none`\n",
       "2.  `unknown`\n",
       "3.  None\n",
       "4.  `NA`\n",
       "\n",
       "</details>\n",
       "<details ><summary>14. plainGaps</summary>\n",
       "\n",
       "`True`\n",
       "\n",
       "</details>\n",
       "<details ><summary>15. prettyTypes</summary>\n",
       "\n",
       "`True`\n",
       "\n",
       "</details>\n",
       "<details ><summary>16. queryFeatures</summary>\n",
       "\n",
       "`True`\n",
       "\n",
       "</details>\n",
       "<details ><summary>17. showGraphics</summary>\n",
       "\n",
       "None\n",
       "\n",
       "</details>\n",
       "<details ><summary>18. skipCols</summary>\n",
       "\n",
       "set()\n",
       "\n",
       "</details>\n",
       "<details ><summary>19. standardFeatures</summary>\n",
       "\n",
       "False\n",
       "\n",
       "</details>\n",
       "<details ><summary>20. start</summary>\n",
       "\n",
       "None\n",
       "\n",
       "</details>\n",
       "<details ><summary>21. suppress</summary>\n",
       "\n",
       "set()\n",
       "\n",
       "</details>\n",
       "<details ><summary>22. tupleFeatures</summary>\n",
       "\n",
       "()\n",
       "\n",
       "</details>\n",
       "<details ><summary>23. withNodes</summary>\n",
       "\n",
       "False\n",
       "\n",
       "</details>\n",
       "<details ><summary>24. withPassage</summary>\n",
       "\n",
       "`True`\n",
       "\n",
       "</details>\n",
       "<details ><summary>25. withTypes</summary>\n",
       "\n",
       "False\n",
       "\n",
       "</details>\n",
       "</details>\n"
      ],
      "text/plain": [
       "<IPython.core.display.Markdown object>"
      ]
     },
     "metadata": {},
     "output_type": "display_data"
    }
   ],
   "source": [
    "A.displayShow()"
   ]
  },
  {
   "cell_type": "markdown",
   "metadata": {},
   "source": [
    "---\n",
    "\n",
    "All chapters:\n",
    "\n",
    "* **[start](start.ipynb)** introduction to computing with your corpus\n",
    "* **display** become an expert in creating pretty displays of your text structures\n",
    "* **[search](search.ipynb)** turbo charge your hand-coding with search templates\n",
    "* **[exportExcel](exportExcel.ipynb)** make tailor-made spreadsheets out of your results\n",
    "* **[share](share.ipynb)** draw in other people's data and let them use yours\n",
    "* **[similarLines](similarLines.ipynb)** spot the similarities between lines\n",
    "\n",
    "---\n",
    "\n",
    "See the [cookbook](cookbook) for recipes for small, concrete tasks.\n",
    "\n",
    "CC-BY Dirk Roorda"
   ]
  }
 ],
 "metadata": {
  "kernelspec": {
   "display_name": "Python 3",
   "language": "python",
   "name": "python3"
  },
  "language_info": {
   "codemirror_mode": {
    "name": "ipython",
    "version": 3
   },
   "file_extension": ".py",
   "mimetype": "text/x-python",
   "name": "python",
   "nbconvert_exporter": "python",
   "pygments_lexer": "ipython3",
   "version": "3.7.7"
  },
  "toc": {
   "base_numbering": 1,
   "nav_menu": {},
   "number_sections": true,
   "sideBar": true,
   "skip_h1_title": false,
   "title_cell": "Table of Contents",
   "title_sidebar": "Contents",
   "toc_cell": false,
   "toc_position": {},
   "toc_section_display": "block",
   "toc_window_display": false
  }
 },
 "nbformat": 4,
 "nbformat_minor": 4
}
