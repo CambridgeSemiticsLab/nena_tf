{
 "cells": [
  {
   "cell_type": "markdown",
   "metadata": {},
   "source": [
    "<img align=\"right\" src=\"images/tf.png\" width=\"128\"/>\n",
    "<img align=\"right\" src=\"images/logo.png\" width=\"128\"/>\n",
    "<img align=\"right\" src=\"images/etcbc.png\" width=\"128\"/>\n",
    "<img align=\"right\" src=\"images/dans.png\" width=\"128\"/>\n",
    "\n",
    "---\n",
    "\n",
    "To get started: consult [start](start.ipynb)\n",
    "\n",
    "---\n",
    "\n",
    "# Search Introduction\n",
    "\n",
    "*Search* in Text-Fabric is a template based way of looking for structural patterns in your dataset.\n",
    "\n",
    "It is inspired by the idea of\n",
    "[topographic query](http://books.google.nl/books?id=9ggOBRz1dO4C).\n",
    "\n",
    "Within Text-Fabric we have the unique possibility to combine the ease of formulating search templates for\n",
    "complicated patterns with the power of programmatically processing the results.\n",
    "\n",
    "This notebook will show you how to get up and running.\n",
    "\n",
    "## Alternative for hand-coding\n",
    "\n",
    "Search is a powerful feature for a wide range of purposes.\n",
    "\n",
    "Quite a bit of the implementation work has been dedicated to optimize performance.\n",
    "Yet I do not pretend to have found optimal strategies for all\n",
    "possible search templates.\n",
    "Some search tasks may turn out to be somewhat costly or even very costly.\n",
    "\n",
    "That being said, I think search might turn out helpful in many cases,\n",
    "especially by reducing the amount of hand-coding needed to work with special subsets of your data.\n",
    "\n",
    "## Easy command\n",
    "\n",
    "Search is as simple as saying (just an example)\n",
    "\n",
    "```python\n",
    "results = A.search(template)\n",
    "A.show(results)\n",
    "```\n",
    "\n",
    "See all ins and outs in the\n",
    "[search template docs](https://annotation.github.io/text-fabric/tf/about/searchusage.html)."
   ]
  },
  {
   "cell_type": "code",
   "execution_count": 1,
   "metadata": {},
   "outputs": [],
   "source": [
    "%load_ext autoreload\n",
    "%autoreload 2"
   ]
  },
  {
   "cell_type": "code",
   "execution_count": 2,
   "metadata": {
    "ExecuteTime": {
     "end_time": "2018-05-24T10:06:39.818664Z",
     "start_time": "2018-05-24T10:06:39.796588Z"
    }
   },
   "outputs": [],
   "source": [
    "from tf.app import use"
   ]
  },
  {
   "cell_type": "code",
   "execution_count": 3,
   "metadata": {},
   "outputs": [
    {
     "data": {
      "text/html": [
       "<b title=\"local github\">TF-app:</b> <span title=\"repo clone offline under ~/github\">~/github/annotation/app-nena/code</span>"
      ],
      "text/plain": [
       "<IPython.core.display.HTML object>"
      ]
     },
     "metadata": {},
     "output_type": "display_data"
    },
    {
     "data": {
      "text/html": [
       "<b title=\"local github\">data:</b> <span title=\"repo clone offline under ~/github\">~/github/CambridgeSemiticsLab/nena_tf/tf/0.02</span>"
      ],
      "text/plain": [
       "<IPython.core.display.HTML object>"
      ]
     },
     "metadata": {},
     "output_type": "display_data"
    },
    {
     "data": {
      "text/html": [
       "<b>Text-Fabric:</b> <a target=\"_blank\" href=\"https://annotation.github.io/text-fabric/cheatsheet.html\" title=\"text-fabric-api\">Text-Fabric API 8.3.0</a>, <a target=\"_blank\" href=\"https://github.com/annotation/app-nena\" title=\"nena TF-app\">app-nena</a>, <a target=\"_blank\" href=\"https://annotation.github.io/text-fabric/about/searchusage.html\" title=\"Search Templates Introduction and Reference\">Search Reference</a><br><b>Data:</b> <a target=\"_blank\" href=\"https://github.com/CambridgeSemiticsLab/nena_tf/blob/master/docs/features.md.md\" title=\"provenance of Northeastern Neo-Aramaic Text Corpus\">NENA_TF</a>, <a target=\"_blank\" href=\"https://github.com/CambridgeSemiticsLab/nena_tf/blob/master/docs/transcription.md\" title=\"NENA transcription script\">Character table</a>, <a target=\"_blank\" href=\"https://github.com/CambridgeSemiticsLab/nena_tf/blob/master/docs/features.md#\" title=\"NENA_TF feature documentation\">Feature docs</a><br><b>Features:</b><br><details><summary><b>Northeastern Neo-Aramaic Text Corpus</b></summary><a target=\"_blank\" href=\"https://github.com/CambridgeSemiticsLab/nena_tf/blob/master/docs/features.md#class\" title=\"~/github/CambridgeSemiticsLab/nena_tf/tf/0.02/class.tf\">class</a><br><a target=\"_blank\" href=\"https://github.com/CambridgeSemiticsLab/nena_tf/blob/master/docs/features.md#comment\" title=\"~/github/CambridgeSemiticsLab/nena_tf/tf/0.02/comment.tf\">comment</a><br><a target=\"_blank\" href=\"https://github.com/CambridgeSemiticsLab/nena_tf/blob/master/docs/features.md#dialect\" title=\"~/github/CambridgeSemiticsLab/nena_tf/tf/0.02/dialect.tf\">dialect</a><br><a target=\"_blank\" href=\"https://github.com/CambridgeSemiticsLab/nena_tf/blob/master/docs/features.md#end\" title=\"~/github/CambridgeSemiticsLab/nena_tf/tf/0.02/end.tf\">end</a><br><a target=\"_blank\" href=\"https://github.com/CambridgeSemiticsLab/nena_tf/blob/master/docs/features.md#foreign\" title=\"~/github/CambridgeSemiticsLab/nena_tf/tf/0.02/foreign.tf\">foreign</a><br><a target=\"_blank\" href=\"https://github.com/CambridgeSemiticsLab/nena_tf/blob/master/docs/features.md#full\" title=\"~/github/CambridgeSemiticsLab/nena_tf/tf/0.02/full.tf\">full</a><br><a target=\"_blank\" href=\"https://github.com/CambridgeSemiticsLab/nena_tf/blob/master/docs/features.md#full_end\" title=\"~/github/CambridgeSemiticsLab/nena_tf/tf/0.02/full_end.tf\">full_end</a><br><a target=\"_blank\" href=\"https://github.com/CambridgeSemiticsLab/nena_tf/blob/master/docs/features.md#fuzzy\" title=\"~/github/CambridgeSemiticsLab/nena_tf/tf/0.02/fuzzy.tf\">fuzzy</a><br><a target=\"_blank\" href=\"https://github.com/CambridgeSemiticsLab/nena_tf/blob/master/docs/features.md#fuzzy_end\" title=\"~/github/CambridgeSemiticsLab/nena_tf/tf/0.02/fuzzy_end.tf\">fuzzy_end</a><br><a target=\"_blank\" href=\"https://github.com/CambridgeSemiticsLab/nena_tf/blob/master/docs/features.md#gloss\" title=\"~/github/CambridgeSemiticsLab/nena_tf/tf/0.02/gloss.tf\">gloss</a><br><a target=\"_blank\" href=\"https://github.com/CambridgeSemiticsLab/nena_tf/blob/master/docs/features.md#grm_desc\" title=\"~/github/CambridgeSemiticsLab/nena_tf/tf/0.02/grm_desc.tf\">grm_desc</a><br><a target=\"_blank\" href=\"https://github.com/CambridgeSemiticsLab/nena_tf/blob/master/docs/features.md#informant\" title=\"~/github/CambridgeSemiticsLab/nena_tf/tf/0.02/informant.tf\">informant</a><br><a target=\"_blank\" href=\"https://github.com/CambridgeSemiticsLab/nena_tf/blob/master/docs/features.md#lang\" title=\"~/github/CambridgeSemiticsLab/nena_tf/tf/0.02/lang.tf\">lang</a><br><a target=\"_blank\" href=\"https://github.com/CambridgeSemiticsLab/nena_tf/blob/master/docs/features.md#lemma\" title=\"~/github/CambridgeSemiticsLab/nena_tf/tf/0.02/lemma.tf\">lemma</a><br><a target=\"_blank\" href=\"https://github.com/CambridgeSemiticsLab/nena_tf/blob/master/docs/features.md#lemma_form\" title=\"~/github/CambridgeSemiticsLab/nena_tf/tf/0.02/lemma_form.tf\">lemma_form</a><br><a target=\"_blank\" href=\"https://github.com/CambridgeSemiticsLab/nena_tf/blob/master/docs/features.md#lite\" title=\"~/github/CambridgeSemiticsLab/nena_tf/tf/0.02/lite.tf\">lite</a><br><a target=\"_blank\" href=\"https://github.com/CambridgeSemiticsLab/nena_tf/blob/master/docs/features.md#lite_end\" title=\"~/github/CambridgeSemiticsLab/nena_tf/tf/0.02/lite_end.tf\">lite_end</a><br><a target=\"_blank\" href=\"https://github.com/CambridgeSemiticsLab/nena_tf/blob/master/docs/features.md#number\" title=\"~/github/CambridgeSemiticsLab/nena_tf/tf/0.02/number.tf\">number</a><br><a target=\"_blank\" href=\"https://github.com/CambridgeSemiticsLab/nena_tf/blob/master/docs/features.md#otype\" title=\"~/github/CambridgeSemiticsLab/nena_tf/tf/0.02/otype.tf\">otype</a><br><a target=\"_blank\" href=\"https://github.com/CambridgeSemiticsLab/nena_tf/blob/master/docs/features.md#place\" title=\"~/github/CambridgeSemiticsLab/nena_tf/tf/0.02/place.tf\">place</a><br><a target=\"_blank\" href=\"https://github.com/CambridgeSemiticsLab/nena_tf/blob/master/docs/features.md#speaker\" title=\"~/github/CambridgeSemiticsLab/nena_tf/tf/0.02/speaker.tf\">speaker</a><br><a target=\"_blank\" href=\"https://github.com/CambridgeSemiticsLab/nena_tf/blob/master/docs/features.md#text\" title=\"~/github/CambridgeSemiticsLab/nena_tf/tf/0.02/text.tf\">text</a><br><a target=\"_blank\" href=\"https://github.com/CambridgeSemiticsLab/nena_tf/blob/master/docs/features.md#text_id\" title=\"~/github/CambridgeSemiticsLab/nena_tf/tf/0.02/text_id.tf\">text_id</a><br><a target=\"_blank\" href=\"https://github.com/CambridgeSemiticsLab/nena_tf/blob/master/docs/features.md#text_lite\" title=\"~/github/CambridgeSemiticsLab/nena_tf/tf/0.02/text_lite.tf\">text_lite</a><br><a target=\"_blank\" href=\"https://github.com/CambridgeSemiticsLab/nena_tf/blob/master/docs/features.md#text_norm\" title=\"~/github/CambridgeSemiticsLab/nena_tf/tf/0.02/text_norm.tf\">text_norm</a><br><a target=\"_blank\" href=\"https://github.com/CambridgeSemiticsLab/nena_tf/blob/master/docs/features.md#title\" title=\"~/github/CambridgeSemiticsLab/nena_tf/tf/0.02/title.tf\">title</a><br><b><i><a target=\"_blank\" href=\"https://github.com/CambridgeSemiticsLab/nena_tf/blob/master/docs/features.md#oslots\" title=\"~/github/CambridgeSemiticsLab/nena_tf/tf/0.02/oslots.tf\">oslots</a></i></b><br></details>"
      ],
      "text/plain": [
       "<IPython.core.display.HTML object>"
      ]
     },
     "metadata": {},
     "output_type": "display_data"
    },
    {
     "data": {
      "text/html": [
       "<style>tr.tf.ltr, td.tf.ltr, th.tf.ltr { text-align: left ! important;}\n",
       "tr.tf.rtl, td.tf.rtl, th.tf.rtl { text-align: right ! important;}\n",
       "@font-face {\n",
       "  font-family: \"Ezra SIL\";\n",
       "  src: local('Ezra SIL'), local('EzraSIL'),\n",
       "    url('/server/static/fonts/SILEOT.woff') format('woff'),\n",
       "    url('https://github.com/annotation/text-fabric/blob/master/tf/server/static/fonts/SILEOT.woff?raw=true') format('woff');\n",
       "}\n",
       "\n",
       "@font-face {\n",
       "  font-family: \"SBL Hebrew\";\n",
       "  src: local('SBL Hebrew'), local('SBLHebrew'),\n",
       "    url('/server/static/fonts/SBL_Hbrw.woff') format('woff'),\n",
       "    url('https://github.com/annotation/text-fabric/blob/master/tf/server/static/fonts/SBL_Hbrw.woff?raw=true') format('woff');\n",
       "}\n",
       "\n",
       "@font-face {\n",
       "  font-family: \"Estrangelo Edessa\";\n",
       "  src: local('Estrangelo Edessa'), local('EstrangeloEdessa');\n",
       "    url('/server/static/fonts/SyrCOMEdessa.woff') format('woff'),\n",
       "    url('https://github.com/annotation/text-fabric/blob/master/tf/server/static/fonts/SyrCOMEdessa.woff?raw=true') format('woff');\n",
       "}\n",
       "\n",
       "@font-face {\n",
       "  font-family: AmiriQuran;\n",
       "  font-style: normal;\n",
       "  font-weight: 400;\n",
       "  src: local('Amiri Quran'), local('AmiriQuran'),\n",
       "    url('/server/static/fonts/AmiriQuran.woff') format('woff'),\n",
       "    url('https://github.com/annotation/text-fabric/blob/master/tf/server/static/fonts/AmiriQuran.woff?raw=true') format('woff');\n",
       "}\n",
       "\n",
       "@font-face {\n",
       "  font-family: AmiriQuranColored;\n",
       "  font-style: normal;\n",
       "  font-weight: 400;\n",
       "  src: local('Amiri Quran Colored'), local('AmiriQuranColored'),\n",
       "    url('/server/static/fonts/AmiriQuranColored.woff') format('woff'),\n",
       "    url('https://github.com/annotation/text-fabric/blob/master/tf/server/static/fonts/AmiriQuranColored.woff?raw=true') format('woff');\n",
       "}\n",
       "\n",
       "@font-face {\n",
       "  font-family: \"Santakku\";\n",
       "  src: local('Santakku'),\n",
       "    url('/server/static/fonts/Santakku.woff') format('woff'),\n",
       "    url('https://github.com/annotation/text-fabric/blob/master/tf/server/static/fonts/Santakku.woff?raw=true') format('woff');\n",
       "}\n",
       "\n",
       "@font-face {\n",
       "  font-family: \"SantakkuM\";\n",
       "  src: local('SantakkuM'),\n",
       "    url('/server/static/fonts/SantakkuM.woff') format('woff'),\n",
       "    url('https://github.com/annotation/text-fabric/blob/master/tf/server/static/fonts/SantakkuM.woff?raw=true') format('woff');\n",
       "}\n",
       "/* bypassing some classical notebook settings */\n",
       "div#notebook {\n",
       "  line-height: unset;\n",
       "}\n",
       "/* neutral text */\n",
       ".txtn,.txtn a:visited,.txtn a:link {\n",
       "    font-family: sans-serif;\n",
       "    font-size: medium;\n",
       "    direction: ltr;\n",
       "    text-decoration: none;\n",
       "    color: var(--text-color);\n",
       "}\n",
       "/* transcription text */\n",
       ".txtt,.txtt a:visited,.txtt a:link {\n",
       "    font-family: monospace;\n",
       "    font-size: medium;\n",
       "    direction: ltr;\n",
       "    text-decoration: none;\n",
       "    color: var(--text-color);\n",
       "}\n",
       "/* source text */\n",
       ".txto,.txto a:visited,.txto a:link {\n",
       "    font-family: serif;\n",
       "    font-size: medium;\n",
       "    direction: ltr;\n",
       "    text-decoration: none;\n",
       "    color: var(--text-color);\n",
       "}\n",
       "/* phonetic text */\n",
       ".txtp,.txtp a:visited,.txtp a:link {\n",
       "    font-family: Gentium, sans-serif;\n",
       "    font-size: medium;\n",
       "    direction: ltr;\n",
       "    text-decoration: none;\n",
       "    color: var(--text-color);\n",
       "}\n",
       "/* original script text */\n",
       ".txtu,.txtu a:visited,.txtu a:link {\n",
       "    font-family: Gentium, sans-serif;\n",
       "    font-size: medium;\n",
       "    text-decoration: none;\n",
       "    color: var(--text-color);\n",
       "}\n",
       "/* hebrew */\n",
       ".txtu.hbo,.lex.hbo {\n",
       "    font-family: \"Ezra SIL\", \"SBL Hebrew\", sans-serif;\n",
       "    font-size: large;\n",
       "    direction: rtl ! important;\n",
       "    unicode-bidi: embed;\n",
       "}\n",
       "/* syriac */\n",
       ".txtu.syc,.lex.syc {\n",
       "    font-family: \"Estrangelo Edessa\", sans-serif;\n",
       "    font-size: medium;\n",
       "    direction: rtl ! important;\n",
       "    unicode-bidi: embed;\n",
       "}\n",
       "/* neo aramaic */\n",
       ".txtu.cld,.lex.cld {\n",
       "    font-family: \"CharisSIL-R\", sans-serif;\n",
       "    font-size: medium;\n",
       "    direction: ltr ! important;\n",
       "    unicode-bidi: embed;\n",
       "}\n",
       "/* standard arabic */\n",
       ".txtu.ara,.lex.ara {\n",
       "    font-family: \"AmiriQuran\", sans-serif;\n",
       "    font-size: large;\n",
       "    direction: rtl ! important;\n",
       "    unicode-bidi: embed;\n",
       "}\n",
       "/* cuneiform */\n",
       ".txtu.akk,.lex.akk {\n",
       "    font-family: Santakku, sans-serif;\n",
       "    font-size: large;\n",
       "    direction: ltr ! important;\n",
       "    unicode-bidi: embed;\n",
       "}\n",
       "/* greek */\n",
       ".txtu.grc,.lex.grc a:link {\n",
       "    font-family: Gentium, sans-serif;\n",
       "    font-size: medium;\n",
       "    direction: ltr ! important;\n",
       "    unicode-bidi: embed;\n",
       "}\n",
       "a:hover {\n",
       "    text-decoration: underline | important;\n",
       "    color: #0000ff | important;\n",
       "}\n",
       ".ltr {\n",
       "    direction: ltr ! important;\n",
       "}\n",
       ".rtl {\n",
       "    direction: rtl ! important;\n",
       "}\n",
       ".features {\n",
       "    font-family: monospace;\n",
       "    font-size: medium;\n",
       "    font-weight: bold;\n",
       "    color: var(--features);\n",
       "    display: flex;\n",
       "    flex-flow: column nowrap;\n",
       "    justify-content: flex-start;\n",
       "    align-items: flex-start;\n",
       "    align-content: flex-start;\n",
       "    padding: 0.1rem;\n",
       "    margin: 0.1rem;\n",
       "    direction: ltr;\n",
       "    border: var(--meta-width) solid var(--meta-color);\n",
       "    border-radius: var(--meta-width);\n",
       "}\n",
       ".features div,.features span {\n",
       "    padding: 0;\n",
       "    margin: -0.1rem 0;\n",
       "}\n",
       ".features .f {\n",
       "    font-family: sans-serif;\n",
       "    font-size: small;\n",
       "    font-weight: normal;\n",
       "    color: #5555bb;\n",
       "}\n",
       ".features .xft {\n",
       "  color: #000000;\n",
       "  background-color: #eeeeee;\n",
       "  font-size: medium;\n",
       "  margin: 0.1rem 0rem;\n",
       "}\n",
       ".features .xft .f {\n",
       "  color: #000000;\n",
       "  background-color: #eeeeee;\n",
       "  font-size: small;\n",
       "  font-weight: normal;\n",
       "}\n",
       ".section {\n",
       "    font-family: sans-serif;\n",
       "    font-size: small;\n",
       "    font-weight: bold;\n",
       "    color: var(--section);\n",
       "    unicode-bidi: embed;\n",
       "    text-align: start;\n",
       "}\n",
       ".structure {\n",
       "    font-family: sans-serif;\n",
       "    font-size: small;\n",
       "    font-weight: bold;\n",
       "    color: var(--structure);\n",
       "    unicode-bidi: embed;\n",
       "    text-align: start;\n",
       "}\n",
       ".comments {\n",
       "    display: flex;\n",
       "    justify-content: flex-start;\n",
       "    align-items: flex-start;\n",
       "    align-content: flex-start;\n",
       "    flex-flow: column nowrap;\n",
       "}\n",
       ".nd, a:link.nd {\n",
       "    font-family: sans-serif;\n",
       "    font-size: small;\n",
       "    color: var(--node);\n",
       "    vertical-align: super;\n",
       "    direction: ltr ! important;\n",
       "    unicode-bidi: embed;\n",
       "}\n",
       ".lex {\n",
       "  color: var(--lex-color);;\n",
       "}\n",
       ".children,.children.ltr {\n",
       "    display: flex;\n",
       "    border: 0;\n",
       "    background-color: #ffffff;\n",
       "    justify-content: flex-start;\n",
       "    align-items: flex-start;\n",
       "    align-content: flex-start;\n",
       "}\n",
       ".children.stretch {\n",
       "    align-items: stretch;\n",
       "}\n",
       ".children.hor {\n",
       "    flex-flow: row nowrap;\n",
       "}\n",
       ".children.hor.wrap {\n",
       "    flex-flow: row wrap;\n",
       "}\n",
       ".children.ver {\n",
       "    flex-flow: column nowrap;\n",
       "}\n",
       ".children.ver.wrap {\n",
       "    flex-flow: column wrap;\n",
       "}\n",
       ".contnr {\n",
       "    width: fit-content;\n",
       "    display: flex;\n",
       "    justify-content: flex-start;\n",
       "    align-items: flex-start;\n",
       "    align-content: flex-start;\n",
       "    flex-flow: column nowrap;\n",
       "    background: #ffffff none repeat scroll 0 0;\n",
       "    padding:  0.5rem 0.1rem 0.1rem 0.1rem;\n",
       "    margin: 0.8rem 0.1rem 0.1rem 0.1rem;\n",
       "    border-style: solid;\n",
       "    font-size: small;\n",
       "}\n",
       ".contnr.trm {\n",
       "    background-attachment: local;\n",
       "}\n",
       ".contnr.cnul {\n",
       "    padding:  0;\n",
       "    margin: 0;\n",
       "    border-style: solid;\n",
       "    font-size: xx-small;\n",
       "}\n",
       ".contnr.cnul,.lbl.cnul {\n",
       "    border-color: var(--border-color-nul);\n",
       "    border-width: var(--border-width-nul);\n",
       "    border-radius: var(--border-width-nul);\n",
       "}\n",
       ".contnr.c0,.lbl.c0 {\n",
       "    border-color: var(--border-color0);\n",
       "    border-width: var(--border-width0);\n",
       "    border-radius: var(--border-width0);\n",
       "}\n",
       ".contnr.c1,.lbl.c1 {\n",
       "    border-color: var(--border-color1);\n",
       "    border-width: var(--border-width1);\n",
       "    border-radius: var(--border-width1);\n",
       "}\n",
       ".contnr.c2,.lbl.c2 {\n",
       "    border-color: var(--border-color2);\n",
       "    border-width: var(--border-width2);\n",
       "    border-radius: var(--border-width2);\n",
       "}\n",
       ".contnr.c3,.lbl.c3 {\n",
       "    border-color: var(--border-color3);\n",
       "    border-width: var(--border-width3);\n",
       "    border-radius: var(--border-width3);\n",
       "}\n",
       ".contnr.c4,.lbl.c4 {\n",
       "    border-color: var(--border-color4);\n",
       "    border-width: var(--border-width4);\n",
       "    border-radius: var(--border-width4);\n",
       "}\n",
       "span.plain {\n",
       "    display: inline-block;\n",
       "    white-space: pre-wrap;\n",
       "}\n",
       ".plain {\n",
       "    background-color: #ffffff;\n",
       "}\n",
       ".plain.l,.contnr.l,.contnr.l>.lbl {\n",
       "    border-left-style: dotted\n",
       "}\n",
       ".plain.r,.contnr.r,.contnr.r>.lbl {\n",
       "    border-right-style: dotted\n",
       "}\n",
       ".plain.lno,.contnr.lno,.contnr.lno>.lbl {\n",
       "    border-left-style: none\n",
       "}\n",
       ".plain.rno,.contnr.rno,.contnr.rno>.lbl {\n",
       "    border-right-style: none\n",
       "}\n",
       ".plain.l {\n",
       "    padding-left: 0.2rem;\n",
       "    margin-left: 0.1rem;\n",
       "    border-width: var(--border-width-plain);\n",
       "}\n",
       ".plain.r {\n",
       "    padding-right: 0.2rem;\n",
       "    margin-right: 0.1rem;\n",
       "    border-width: var(--border-width-plain);\n",
       "}\n",
       ".lbl {\n",
       "    font-family: monospace;\n",
       "    margin-top: -1.2rem;\n",
       "    margin-left: 1rem;\n",
       "    background: #ffffff none repeat scroll 0 0;\n",
       "    padding: 0 0.3rem;\n",
       "    border-style: solid;\n",
       "    display: block;\n",
       "    color: var(--label)\n",
       "}\n",
       ".lbl.trm {\n",
       "    background-attachment: local;\n",
       "    margin-top: 0.1rem;\n",
       "    margin-left: 0.1rem;\n",
       "    padding: 0.1rem 0.1rem;\n",
       "    border-style: none;\n",
       "}\n",
       ".lbl.cnul {\n",
       "    font-size: xx-small;\n",
       "}\n",
       ".lbl.c0 {\n",
       "    font-size: small;\n",
       "}\n",
       ".lbl.c1 {\n",
       "    font-size: small;\n",
       "}\n",
       ".lbl.c2 {\n",
       "    font-size: medium;\n",
       "}\n",
       ".lbl.c3 {\n",
       "    font-size: medium;\n",
       "}\n",
       ".lbl.c4 {\n",
       "    font-size: large;\n",
       "}\n",
       ".occs, a:link.occs {\n",
       "    font-size: small;\n",
       "}\n",
       "\n",
       "/* PROVENANCE */\n",
       "\n",
       "div.prov {\n",
       "\tmargin: 2rem;\n",
       "\tpadding: 1rem;\n",
       "\tborder: 0.1rem solid var(--fog-rim);\n",
       "}\n",
       "div.pline {\n",
       "\tdisplay: flex;\n",
       "\tflex-flow: row nowrap;\n",
       "\tjustify-content: stretch;\n",
       "\talign-items: baseline;\n",
       "}\n",
       "div.p2line {\n",
       "\tmargin-left: 2em;\n",
       "\tdisplay: flex;\n",
       "\tflex-flow: row nowrap;\n",
       "\tjustify-content: stretch;\n",
       "\talign-items: baseline;\n",
       "}\n",
       "div.psline {\n",
       "\tdisplay: flex;\n",
       "\tflex-flow: row nowrap;\n",
       "\tjustify-content: stretch;\n",
       "\talign-items: baseline;\n",
       "\tbackground-color: var(--gold-mist-back);\n",
       "}\n",
       "div.pname {\n",
       "\tflex: 0 0 5rem;\n",
       "\tfont-weight: bold;\n",
       "}\n",
       "div.pval {\n",
       "    flex: 1 1 auto;\n",
       "}\n",
       "\n",
       ":root {\n",
       "\t--node:               hsla(120, 100%,  20%, 1.0  );\n",
       "\t--label:              hsla(  0, 100%,  20%, 1.0  );\n",
       "\t--section:            hsla(  0, 100%,  25%, 1.0  );\n",
       "\t--structure:          hsla(120, 100%,  25%, 1.0  );\n",
       "\t--features:           hsla(  0,   0%,  30%, 1.0  );\n",
       "  --text-color:         hsla( 60,  80%,  10%, 1.0  );\n",
       "  --lex-color:          hsla(220,  90%,  60%, 1.0  );\n",
       "  --meta-color:         hsla(  0,   0%,  90%, 0.7  );\n",
       "  --meta-width:         0.15rem;\n",
       "  --border-color-nul:   hsla(  0,   0%,  90%, 0.5  );\n",
       "  --border-color0:      hsla(  0,   0%,  90%, 0.9  );\n",
       "  --border-color1:      hsla(  0,   0%,  80%, 0.9  );\n",
       "  --border-color2:      hsla(  0,   0%,  70%, 0.9  );\n",
       "  --border-color3:      hsla(  0,   0%,  80%, 0.8  );\n",
       "  --border-color4:      hsla(  0,   0%,  60%, 0.9  );\n",
       "  --border-width-nul:   0.1rem;\n",
       "  --border-width0:      0.1rem;\n",
       "  --border-width1:      0.15rem;\n",
       "  --border-width2:      0.2rem;\n",
       "  --border-width3:      0.3rem;\n",
       "  --border-width4:      0.25rem;\n",
       "  --border-width-plain: 0.1rem;\n",
       "}\n",
       ".hl {\n",
       "  background-color: var(--hl-strong);\n",
       "}\n",
       "span.hl {\n",
       "\tbackground-color: var(--hl-strong);\n",
       "\tborder-width: 0;\n",
       "\tborder-radius: 0.1rem;\n",
       "\tborder-style: solid;\n",
       "}\n",
       "div.contnr.hl,div.lbl.hl {\n",
       "  background-color: var(--hl-strong);\n",
       "}\n",
       "div.contnr.hl {\n",
       "  border-color: var(--hl-rim) ! important;\n",
       "\tborder-width: 0.2rem ! important;\n",
       "}\n",
       "\n",
       "span.hlbx {\n",
       "\tborder-color: var(--hl-rim);\n",
       "\tborder-width: 0.2rem ! important;\n",
       "\tborder-style: solid;\n",
       "\tborder-radius: 0.3rem;\n",
       "  padding: 0.2rem;\n",
       "  margin: 0.2rem;\n",
       "}\n",
       "\n",
       "span.plain {\n",
       "  display: inline-block;\n",
       "  white-space: pre-wrap;\n",
       "}\n",
       "\n",
       ":root {\n",
       "\t--hl-strong:        hsla( 60, 100%,  70%, 0.9  );\n",
       "\t--hl-rim:           hsla( 55,  80%,  50%, 1.0  );\n",
       "}\n",
       ".speaker {\n",
       "    vertical-align: super;\n",
       "    font-family: sans-serif;\n",
       "    font-size: small;\n",
       "    font-weight: bold;\n",
       "    color: #884400;\n",
       "}\n",
       "</style>"
      ],
      "text/plain": [
       "<IPython.core.display.HTML object>"
      ]
     },
     "metadata": {},
     "output_type": "display_data"
    },
    {
     "data": {
      "text/html": [
       "<div><b>Text-Fabric API:</b> names <a target=\"_blank\" href=\"https://annotation.github.io/text-fabric/cheatsheet.html\" title=\"doc\">N F E L T S C TF</a> directly usable</div><hr>"
      ],
      "text/plain": [
       "<IPython.core.display.HTML object>"
      ]
     },
     "metadata": {},
     "output_type": "display_data"
    }
   ],
   "source": [
    "A = use(\"nena:clone\", checkout=\"clone\", hoist=globals())\n",
    "# A = use('nena', hoist=globals())"
   ]
  },
  {
   "cell_type": "markdown",
   "metadata": {},
   "source": [
    "# Basic search command\n",
    "\n",
    "We start with the most simple form of issuing a query.\n",
    "\n",
    "Let's look for the foreign words."
   ]
  },
  {
   "cell_type": "code",
   "execution_count": 4,
   "metadata": {
    "ExecuteTime": {
     "end_time": "2018-05-24T07:46:55.998382Z",
     "start_time": "2018-05-24T07:46:55.137956Z"
    }
   },
   "outputs": [
    {
     "name": "stdout",
     "output_type": "stream",
     "text": [
      "  0.09s 534 results\n"
     ]
    },
    {
     "data": {
      "text/html": [
       "<table><tr class=\"tf ltr\"><th class=\"tf ltr\">n</th><th class=\"tf ltr\">p</th><th class=\"tf ltr\">word</th></tr>\n",
       "<tr class=\"tf ltr\"><td class=\"tf ltr\">1</td><td class=\"tf ltr\"><span class=\"section ltr\"><a target=\"_blank\" href=\"https://github.com/CambridgeSemiticsLab/nena_corpus/blob/master/nena/0.02/Barwar/Gozali and Nozali.nena\" title=\"Show this title in the NENA repository\" sec=\"Barwar, Gozali and Nozali, Ln. 21\">Barwar, Gozali and Nozali, Ln. 21</a></span></td><td class=\"tf ltr\"><div class=\"\"><span class=\"plain   hlbx\" ><span class=\"txtu cld\">E</span><span class=\"txtu cld\">v</span><span class=\"txtu cld\">e</span><span class=\"txtu cld\">r</span><span class=\"txtu cld\">è</span><span class=\"txtu cld\">s</span><span class=\"txtu cld\">t-</span></span></div></td></tr>\n",
       "<tr class=\"tf ltr\"><td class=\"tf ltr\">2</td><td class=\"tf ltr\"><span class=\"section ltr\"><a target=\"_blank\" href=\"https://github.com/CambridgeSemiticsLab/nena_corpus/blob/master/nena/0.02/Barwar/Gozali and Nozali.nena\" title=\"Show this title in the NENA repository\" sec=\"Barwar, Gozali and Nozali, Ln. 29\">Barwar, Gozali and Nozali, Ln. 29</a></span></td><td class=\"tf ltr\"><div class=\"\"><span class=\"plain   hlbx\" ><span class=\"txtu cld\">O</span><span class=\"txtu cld\">K </span></span></div></td></tr>\n",
       "<tr class=\"tf ltr\"><td class=\"tf ltr\">3</td><td class=\"tf ltr\"><span class=\"section ltr\"><a target=\"_blank\" href=\"https://github.com/CambridgeSemiticsLab/nena_corpus/blob/master/nena/0.02/Barwar/Gozali and Nozali.nena\" title=\"Show this title in the NENA repository\" sec=\"Barwar, Gozali and Nozali, Ln. 96\">Barwar, Gozali and Nozali, Ln. 96</a></span></td><td class=\"tf ltr\"><div class=\"\"><span class=\"plain   hlbx\" ><span class=\"txtu cld\">p</span><span class=\"txtu cld\">r</span><span class=\"txtu cld\">i</span><span class=\"txtu cld\">n</span><span class=\"txtu cld\">c</span><span class=\"txtu cld\">e</span><span class=\"txtu cld\">s</span><span class=\"txtu cld\">s </span></span></div></td></tr>\n",
       "<tr class=\"tf ltr\"><td class=\"tf ltr\">4</td><td class=\"tf ltr\"><span class=\"section ltr\"><a target=\"_blank\" href=\"https://github.com/CambridgeSemiticsLab/nena_corpus/blob/master/nena/0.02/Barwar/Measure for Measure.nena\" title=\"Show this title in the NENA repository\" sec=\"Barwar, Measure for Measure, Ln. 1\">Barwar, Measure for Measure, Ln. 1</a></span></td><td class=\"tf ltr\"><div class=\"\"><span class=\"plain   hlbx\" ><span class=\"txtu cld\">f</span><span class=\"txtu cld\">a</span><span class=\"txtu cld\">m</span><span class=\"txtu cld\">i</span><span class=\"txtu cld\">l</span><span class=\"txtu cld\">yˈ </span></span></div></td></tr>\n",
       "<tr class=\"tf ltr\"><td class=\"tf ltr\">5</td><td class=\"tf ltr\"><span class=\"section ltr\"><a target=\"_blank\" href=\"https://github.com/CambridgeSemiticsLab/nena_corpus/blob/master/nena/0.02/Barwar/Tales From the 1001 Nights.nena\" title=\"Show this title in the NENA repository\" sec=\"Barwar, Tales From the 1001 Nights, Ln. 52\">Barwar, Tales From the 1001 Nights, Ln. 52</a></span></td><td class=\"tf ltr\"><div class=\"\"><span class=\"plain   hlbx\" ><span class=\"txtu cld\">c</span><span class=\"txtu cld\">h</span><span class=\"txtu cld\">a</span><span class=\"txtu cld\">n</span><span class=\"txtu cld\">c</span><span class=\"txtu cld\">e </span></span></div></td></tr>\n",
       "<tr class=\"tf ltr\"><td class=\"tf ltr\">6</td><td class=\"tf ltr\"><span class=\"section ltr\"><a target=\"_blank\" href=\"https://github.com/CambridgeSemiticsLab/nena_corpus/blob/master/nena/0.02/Barwar/The Battle With Yuwanəs the Armenian.nena\" title=\"Show this title in the NENA repository\" sec=\"Barwar, The Battle With Yuwanəs the Armenian, Ln. 16\">Barwar, The Battle With Yuwanəs the Armenian, Ln. 16</a></span></td><td class=\"tf ltr\"><div class=\"\"><span class=\"plain   hlbx\" ><span class=\"txtu cld\">O</span><span class=\"txtu cld\">K </span></span></div></td></tr>\n",
       "<tr class=\"tf ltr\"><td class=\"tf ltr\">7</td><td class=\"tf ltr\"><span class=\"section ltr\"><a target=\"_blank\" href=\"https://github.com/CambridgeSemiticsLab/nena_corpus/blob/master/nena/0.02/Urmi_C/A Cure for a Husband’s Madness.nena\" title=\"Show this title in the NENA repository\" sec=\"Urmi_C, A Cure for a Husband’s Madness, Ln. 3\">Urmi_C, A Cure for a Husband’s Madness, Ln. 3</a></span></td><td class=\"tf ltr\"><div class=\"\"><span class=\"plain   hlbx\" ><span class=\"txtu cld\">x</span><span class=\"txtu cld\">o</span><span class=\"txtu cld\">l</span><span class=\"txtu cld\">ɑ̄</span><span class=\"txtu cld\">s</span><span class=\"txtu cld\">èˈ </span></span></div></td></tr>\n",
       "<tr class=\"tf ltr\"><td class=\"tf ltr\">8</td><td class=\"tf ltr\"><span class=\"section ltr\"><a target=\"_blank\" href=\"https://github.com/CambridgeSemiticsLab/nena_corpus/blob/master/nena/0.02/Urmi_C/A Cure for a Husband’s Madness.nena\" title=\"Show this title in the NENA repository\" sec=\"Urmi_C, A Cure for a Husband’s Madness, Ln. 6\">Urmi_C, A Cure for a Husband’s Madness, Ln. 6</a></span></td><td class=\"tf ltr\"><div class=\"\"><span class=\"plain   hlbx\" ><span class=\"txtu cld\">b</span><span class=\"txtu cld\">à</span><span class=\"txtu cld\">b</span><span class=\"txtu cld\">y </span></span></div></td></tr>\n",
       "<tr class=\"tf ltr\"><td class=\"tf ltr\">9</td><td class=\"tf ltr\"><span class=\"section ltr\"><a target=\"_blank\" href=\"https://github.com/CambridgeSemiticsLab/nena_corpus/blob/master/nena/0.02/Urmi_C/A Cure for a Husband’s Madness.nena\" title=\"Show this title in the NENA repository\" sec=\"Urmi_C, A Cure for a Husband’s Madness, Ln. 11\">Urmi_C, A Cure for a Husband’s Madness, Ln. 11</a></span></td><td class=\"tf ltr\"><div class=\"\"><span class=\"plain   hlbx\" ><span class=\"txtu cld\">á</span><span class=\"txtu cld\">d</span><span class=\"txtu cld\">d</span><span class=\"txtu cld\">r</span><span class=\"txtu cld\">e</span><span class=\"txtu cld\">s</span><span class=\"txtu cld\">s </span></span></div></td></tr>\n",
       "<tr class=\"tf ltr\"><td class=\"tf ltr\">10</td><td class=\"tf ltr\"><span class=\"section ltr\"><a target=\"_blank\" href=\"https://github.com/CambridgeSemiticsLab/nena_corpus/blob/master/nena/0.02/Urmi_C/A Dragon in the Well.nena\" title=\"Show this title in the NENA repository\" sec=\"Urmi_C, A Dragon in the Well, Ln. 5\">Urmi_C, A Dragon in the Well, Ln. 5</a></span></td><td class=\"tf ltr\"><div class=\"\"><span class=\"plain   hlbx\" ><span class=\"txtu cld\">n</span><span class=\"txtu cld\">a</span><span class=\"txtu cld\">f</span><span class=\"txtu cld\">a</span><span class=\"txtu cld\">s-</span></span></div></td></tr></table>"
      ],
      "text/plain": [
       "<IPython.core.display.HTML object>"
      ]
     },
     "metadata": {},
     "output_type": "display_data"
    }
   ],
   "source": [
    "query = \"\"\"\n",
    "word foreign\n",
    "\"\"\"\n",
    "results = A.search(query)\n",
    "A.table(results, end=10)"
   ]
  },
  {
   "cell_type": "code",
   "execution_count": 5,
   "metadata": {},
   "outputs": [
    {
     "data": {
      "text/html": [
       "<table><tr class=\"tf ltr\"><th class=\"tf ltr\">n</th><th class=\"tf ltr\">p</th><th class=\"tf ltr\">line</th><th class=\"tf\">word</th></tr>\n",
       "<tr class=\"tf ltr\"><td class=\"tf ltr\">1</td><td class=\"tf ltr\"><span class=\"section ltr\"><a target=\"_blank\" href=\"https://github.com/CambridgeSemiticsLab/nena_corpus/blob/master/nena/0.02/Barwar/Gozali and Nozali.nena\" title=\"Show this title in the NENA repository\" sec=\"Barwar, Gozali and Nozali, Ln. 21\">Barwar, Gozali and Nozali, Ln. 21</a></span></td><td class=\"tf ltr\"><div class=\"\"><span class=\"txtu cld\">ʾ</span><span class=\"txtu cld\">í</span><span class=\"txtu cld\">θ</span><span class=\"txtu cld\">w</span><span class=\"txtu cld\">a </span><span class=\"txtu cld\">x</span><span class=\"txtu cld\">a-</span><span class=\"txtu cld\">b</span><span class=\"txtu cld\">à</span><span class=\"txtu cld\">x</span><span class=\"txtu cld\">t</span><span class=\"txtu cld\">aˈ </span><span class=\"txtu cld\">r</span><span class=\"txtu cld\">á</span><span class=\"txtu cld\">b</span><span class=\"txtu cld\">a </span><span class=\"txtu cld\">x</span><span class=\"txtu cld\">à</span><span class=\"txtu cld\">m</span><span class=\"txtu cld\">θ</span><span class=\"txtu cld\">ɛ</span><span class=\"txtu cld\">w</span><span class=\"txtu cld\">a</span><span class=\"txtu cld\">w</span><span class=\"txtu cld\">a.ˈ </span><span class=\"txtu cld\">m</span><span class=\"txtu cld\">ó</span><span class=\"txtu cld\">d</span><span class=\"txtu cld\">i</span><span class=\"txtu cld\">w</span><span class=\"txtu cld\">e</span><span class=\"txtu cld\">w</span><span class=\"txtu cld\">a </span><span class=\"txtu cld\">š</span><span class=\"txtu cld\">ə́</span><span class=\"txtu cld\">m</span><span class=\"txtu cld\">m</span><span class=\"txtu cld\">a </span><span class=\"txtu cld\">d</span><span class=\"txtu cld\">ì</span><span class=\"txtu cld\">y</span><span class=\"txtu cld\">a?ˈ </span><span class=\"txtu cld\">B</span><span class=\"txtu cld\">ə</span><span class=\"txtu cld\">l</span><span class=\"txtu cld\">b</span><span class=\"txtu cld\">ə́</span><span class=\"txtu cld\">l </span><span class=\"txtu cld\">H</span><span class=\"txtu cld\">a</span><span class=\"txtu cld\">z</span><span class=\"txtu cld\">à</span><span class=\"txtu cld\">r.ˈ </span><span class=\"txtu cld\">w-</span><span class=\"txtu cld\">á</span><span class=\"txtu cld\">y</span><span class=\"txtu cld\">y</span><span class=\"txtu cld\">a </span><span class=\"txtu cld\">ʾ</span><span class=\"txtu cld\">ɛ̀</span><span class=\"txtu cld\">k</span><span class=\"txtu cld\">e</span><span class=\"txtu cld\">l</span><span class=\"txtu cld\">a?ˈ </span><span class=\"txtu cld\">h</span><span class=\"txtu cld\">ó</span><span class=\"txtu cld\">l</span><span class=\"txtu cld\">a </span><span class=\"txtu cld\">g</span><span class=\"txtu cld\">u-</span><span class=\"txtu cld\">r</span><span class=\"txtu cld\">é</span><span class=\"txtu cld\">š</span><span class=\"txtu cld\">ə</span><span class=\"txtu cld\">t </span><span class=\"txtu cld\">x</span><span class=\"txtu cld\">a-</span><span class=\"txtu cld\">ṭ</span><span class=\"txtu cld\">ú</span><span class=\"txtu cld\">r</span><span class=\"txtu cld\">a </span><span class=\"txtu cld\">r</span><span class=\"txtu cld\">a</span><span class=\"txtu cld\">m</span><span class=\"txtu cld\">à</span><span class=\"txtu cld\">n</span><span class=\"txtu cld\">a,ˈ </span><span class=\"txtu cld\">x</span><span class=\"txtu cld\">a-</span><span class=\"txtu cld\">ṭ</span><span class=\"txtu cld\">ú</span><span class=\"txtu cld\">r</span><span class=\"txtu cld\">a </span><span class=\"txtu cld\">r</span><span class=\"txtu cld\">á</span><span class=\"txtu cld\">b</span><span class=\"txtu cld\">a </span><span class=\"txtu cld\">r</span><span class=\"txtu cld\">a</span><span class=\"txtu cld\">m</span><span class=\"txtu cld\">à</span><span class=\"txtu cld\">n</span><span class=\"txtu cld\">a.ˈ </span><span class=\"txtu cld\">n</span><span class=\"txtu cld\">á</span><span class=\"txtu cld\">š</span><span class=\"txtu cld\">e </span><span class=\"txtu cld\">l</span><span class=\"txtu cld\">á-</span><span class=\"txtu cld\">m</span><span class=\"txtu cld\">a</span><span class=\"txtu cld\">ṣ</span><span class=\"txtu cld\">i </span><span class=\"txtu cld\">y-</span><span class=\"txtu cld\">a</span><span class=\"txtu cld\">s</span><span class=\"txtu cld\">q</span><span class=\"txtu cld\">ì-</span><span class=\"txtu cld\">l</span><span class=\"txtu cld\">l</span><span class=\"txtu cld\">e </span><span class=\"txtu cld\">d</span><span class=\"txtu cld\">í</span><span class=\"txtu cld\">y</span><span class=\"txtu cld\">e.ˈ </span><span class=\"txtu cld\">d</span><span class=\"txtu cld\">a</span><span class=\"txtu cld\">x-</span><span class=\"txtu cld\">q</span><span class=\"txtu cld\">ú</span><span class=\"txtu cld\">m</span><span class=\"txtu cld\">m</span><span class=\"txtu cld\">ə</span><span class=\"txtu cld\">t </span><span class=\"plain   hlbx\" ><span class=\"txtu cld\">E</span><span class=\"txtu cld\">v</span><span class=\"txtu cld\">e</span><span class=\"txtu cld\">r</span><span class=\"txtu cld\">è</span><span class=\"txtu cld\">s</span><span class=\"txtu cld\">t-</span></span><span class=\"txtu cld\">i</span><span class=\"txtu cld\">l</span><span class=\"txtu cld\">e,ˈ </span><span class=\"txtu cld\">h</span><span class=\"txtu cld\">á</span><span class=\"txtu cld\">t</span><span class=\"txtu cld\">x</span><span class=\"txtu cld\">a </span><span class=\"txtu cld\">r</span><span class=\"txtu cld\">a</span><span class=\"txtu cld\">m</span><span class=\"txtu cld\">à</span><span class=\"txtu cld\">n</span><span class=\"txtu cld\">a.ˈ </span><span class=\"txtu cld\">ʾ</span><span class=\"txtu cld\">u-</span><span class=\"txtu cld\">l-</span><span class=\"txtu cld\">q</span><span class=\"txtu cld\">á</span><span class=\"txtu cld\">m</span><span class=\"txtu cld\">θ</span><span class=\"txtu cld\">e </span><span class=\"txtu cld\">d</span><span class=\"txtu cld\">ì</span><span class=\"txtu cld\">y</span><span class=\"txtu cld\">eˈ </span><span class=\"txtu cld\">ʾ</span><span class=\"txtu cld\">í</span><span class=\"txtu cld\">θ </span><span class=\"txtu cld\">x</span><span class=\"txtu cld\">a-</span><span class=\"txtu cld\">č</span><span class=\"txtu cld\">ò</span><span class=\"txtu cld\">lˈ </span><span class=\"txtu cld\">d</span><span class=\"txtu cld\">à</span><span class=\"txtu cld\">š</span><span class=\"txtu cld\">t</span><span class=\"txtu cld\">aˈ </span><span class=\"txtu cld\">r</span><span class=\"txtu cld\">á</span><span class=\"txtu cld\">b</span><span class=\"txtu cld\">a </span><span class=\"txtu cld\">g</span><span class=\"txtu cld\">ò</span><span class=\"txtu cld\">ṛ</span><span class=\"txtu cld\">t</span><span class=\"txtu cld\">a.ˈ </span></div></td><td class=\"tf ltr\"><div class=\"\"><span class=\"plain   hlbx\" ><span class=\"txtu cld\">E</span><span class=\"txtu cld\">v</span><span class=\"txtu cld\">e</span><span class=\"txtu cld\">r</span><span class=\"txtu cld\">è</span><span class=\"txtu cld\">s</span><span class=\"txtu cld\">t-</span></span></div></td></tr>\n",
       "<tr class=\"tf ltr\"><td class=\"tf ltr\">2</td><td class=\"tf ltr\"><span class=\"section ltr\"><a target=\"_blank\" href=\"https://github.com/CambridgeSemiticsLab/nena_corpus/blob/master/nena/0.02/Barwar/Gozali and Nozali.nena\" title=\"Show this title in the NENA repository\" sec=\"Barwar, Gozali and Nozali, Ln. 29\">Barwar, Gozali and Nozali, Ln. 29</a></span></td><td class=\"tf ltr\"><div class=\"\"><span class=\"txtu cld\">ṭ</span><span class=\"txtu cld\">l</span><span class=\"txtu cld\">á </span><span class=\"txtu cld\">g</span><span class=\"txtu cld\">á</span><span class=\"txtu cld\">y</span><span class=\"txtu cld\">e </span><span class=\"txtu cld\">b-</span><span class=\"txtu cld\">q</span><span class=\"txtu cld\">a</span><span class=\"txtu cld\">r</span><span class=\"txtu cld\">ì</span><span class=\"txtu cld\">t</span><span class=\"txtu cld\">u,ˈ </span><span class=\"txtu cld\">x</span><span class=\"txtu cld\">a</span><span class=\"txtu cld\">θ</span><span class=\"txtu cld\">m</span><span class=\"txtu cld\">í</span><span class=\"txtu cld\">t</span><span class=\"txtu cld\">u </span><span class=\"txtu cld\">k</span><span class=\"txtu cld\">è</span><span class=\"txtu cld\">p</span><span class=\"txtu cld\">a,ˈ </span><span class=\"txtu cld\">p</span><span class=\"txtu cld\">ɛ</span><span class=\"txtu cld\">š</span><span class=\"txtu cld\">í</span><span class=\"txtu cld\">t</span><span class=\"txtu cld\">u </span><span class=\"txtu cld\">k</span><span class=\"txtu cld\">è</span><span class=\"txtu cld\">p</span><span class=\"txtu cld\">a,ˈ </span><span class=\"txtu cld\">l</span><span class=\"txtu cld\">é</span><span class=\"txtu cld\">š </span><span class=\"txtu cld\">m</span><span class=\"txtu cld\">a</span><span class=\"txtu cld\">ṣ</span><span class=\"txtu cld\">í</span><span class=\"txtu cld\">t</span><span class=\"txtu cld\">u </span><span class=\"txtu cld\">j</span><span class=\"txtu cld\">a</span><span class=\"txtu cld\">w</span><span class=\"txtu cld\">j</span><span class=\"txtu cld\">ì</span><span class=\"txtu cld\">t</span><span class=\"txtu cld\">u.ˈ </span><span class=\"txtu cld\">ʾ</span><span class=\"txtu cld\">à</span><span class=\"txtu cld\">x</span><span class=\"txtu cld\">t</span><span class=\"txtu cld\">u-</span><span class=\"txtu cld\">wˈ </span><span class=\"txtu cld\">s</span><span class=\"txtu cld\">u</span><span class=\"txtu cld\">s</span><span class=\"txtu cld\">ɛ̀</span><span class=\"txtu cld\">x</span><span class=\"txtu cld\">u-</span><span class=\"txtu cld\">wˈ </span><span class=\"txtu cld\">r</span><span class=\"txtu cld\">u</span><span class=\"txtu cld\">m</span><span class=\"txtu cld\">x</span><span class=\"txtu cld\">ɛ̀</span><span class=\"txtu cld\">x</span><span class=\"txtu cld\">u-</span><span class=\"txtu cld\">wˈ </span><span class=\"txtu cld\">l</span><span class=\"txtu cld\">w</span><span class=\"txtu cld\">i</span><span class=\"txtu cld\">š</span><span class=\"txtu cld\">t</span><span class=\"txtu cld\">ɛ̀</span><span class=\"txtu cld\">x</span><span class=\"txtu cld\">u,ˈ </span><span class=\"txtu cld\">p</span><span class=\"txtu cld\">ɛ</span><span class=\"txtu cld\">š</span><span class=\"txtu cld\">í</span><span class=\"txtu cld\">t</span><span class=\"txtu cld\">u </span><span class=\"txtu cld\">k</span><span class=\"txtu cld\">è</span><span class=\"txtu cld\">p</span><span class=\"txtu cld\">a </span><span class=\"txtu cld\">t</span><span class=\"txtu cld\">á</span><span class=\"txtu cld\">m</span><span class=\"txtu cld\">a.ˈ </span><span class=\"txtu cld\">w-</span><span class=\"txtu cld\">ə́</span><span class=\"txtu cld\">n </span><span class=\"txtu cld\">ʾ</span><span class=\"txtu cld\">á</span><span class=\"txtu cld\">θ</span><span class=\"txtu cld\">y</span><span class=\"txtu cld\">a </span><span class=\"txtu cld\">B</span><span class=\"txtu cld\">ə́</span><span class=\"txtu cld\">l</span><span class=\"txtu cld\">b</span><span class=\"txtu cld\">ə</span><span class=\"txtu cld\">l </span><span class=\"txtu cld\">H</span><span class=\"txtu cld\">a</span><span class=\"txtu cld\">z</span><span class=\"txtu cld\">à</span><span class=\"txtu cld\">r,ˈ </span><span class=\"txtu cld\">ṱ-</span><span class=\"txtu cld\">á</span><span class=\"txtu cld\">θ</span><span class=\"txtu cld\">y</span><span class=\"txtu cld\">a </span><span class=\"txtu cld\">ʾ</span><span class=\"txtu cld\">u-</span><span class=\"txtu cld\">m</span><span class=\"txtu cld\">ɛ</span><span class=\"txtu cld\">θ</span><span class=\"txtu cld\">ì</span><span class=\"txtu cld\">t</span><span class=\"txtu cld\">u</span><span class=\"txtu cld\">l</span><span class=\"txtu cld\">a.ˈ </span><span class=\"txtu cld\">y-</span><span class=\"txtu cld\">á</span><span class=\"txtu cld\">m</span><span class=\"txtu cld\">r</span><span class=\"txtu cld\">i </span><span class=\"plain   hlbx\" ><span class=\"txtu cld\">O</span><span class=\"txtu cld\">K </span></span><span class=\"txtu cld\">b</span><span class=\"txtu cld\">ắ</span><span class=\"txtu cld\">y</span><span class=\"txtu cld\">ə</span><span class=\"txtu cld\">x </span><span class=\"txtu cld\">ṱ-</span><span class=\"txtu cld\">à</span><span class=\"txtu cld\">z</span><span class=\"txtu cld\">ə</span><span class=\"txtu cld\">x.ˈ </span><span class=\"txtu cld\">ṱ-</span><span class=\"txtu cld\">a</span><span class=\"txtu cld\">w</span><span class=\"txtu cld\">z</span><span class=\"txtu cld\">í</span><span class=\"txtu cld\">t</span><span class=\"txtu cld\">u </span><span class=\"txtu cld\">d</span><span class=\"txtu cld\">ə-</span><span class=\"txtu cld\">s</span><span class=\"txtu cld\">ò.ˈ </span><span class=\"txtu cld\">ʾ</span><span class=\"txtu cld\">á</span><span class=\"txtu cld\">l</span><span class=\"txtu cld\">a</span><span class=\"txtu cld\">h</span><span class=\"txtu cld\">a </span><span class=\"txtu cld\">ṱ-</span><span class=\"txtu cld\">á</span><span class=\"txtu cld\">w</span><span class=\"txtu cld\">e </span><span class=\"txtu cld\">m</span><span class=\"txtu cld\">ə</span><span class=\"txtu cld\">n</span><span class=\"txtu cld\">n</span><span class=\"txtu cld\">ɛ̀</span><span class=\"txtu cld\">x</span><span class=\"txtu cld\">u.ˈ </span><span class=\"txtu cld\">d</span><span class=\"txtu cld\">a</span><span class=\"txtu cld\">m</span><span class=\"txtu cld\">x</span><span class=\"txtu cld\">í</span><span class=\"txtu cld\">w</span><span class=\"txtu cld\">a </span><span class=\"txtu cld\">k</span><span class=\"txtu cld\">ə́</span><span class=\"txtu cld\">s</span><span class=\"txtu cld\">l</span><span class=\"txtu cld\">e </span><span class=\"txtu cld\">d</span><span class=\"txtu cld\">ì</span><span class=\"txtu cld\">y</span><span class=\"txtu cld\">eˈ </span><span class=\"txtu cld\">ʾ</span><span class=\"txtu cld\">o-</span><span class=\"txtu cld\">l</span><span class=\"txtu cld\">ɛ̀</span><span class=\"txtu cld\">l</span><span class=\"txtu cld\">e.ˈ </span><span class=\"txtu cld\">q</span><span class=\"txtu cld\">ɛ</span><span class=\"txtu cld\">m</span><span class=\"txtu cld\">í</span><span class=\"txtu cld\">w</span><span class=\"txtu cld\">a </span><span class=\"txtu cld\">m</span><span class=\"txtu cld\">b</span><span class=\"txtu cld\">à</span><span class=\"txtu cld\">d</span><span class=\"txtu cld\">l</span><span class=\"txtu cld\">a.ˈ </span><span class=\"txtu cld\">y-</span><span class=\"txtu cld\">á</span><span class=\"txtu cld\">m</span><span class=\"txtu cld\">ə</span><span class=\"txtu cld\">r </span><span class=\"txtu cld\">ʾ</span><span class=\"txtu cld\">á</span><span class=\"txtu cld\">l</span><span class=\"txtu cld\">a</span><span class=\"txtu cld\">h</span><span class=\"txtu cld\">a </span><span class=\"txtu cld\">ṱ-</span><span class=\"txtu cld\">á</span><span class=\"txtu cld\">w</span><span class=\"txtu cld\">e </span><span class=\"txtu cld\">m</span><span class=\"txtu cld\">ə</span><span class=\"txtu cld\">n</span><span class=\"txtu cld\">n</span><span class=\"txtu cld\">ɛ̀</span><span class=\"txtu cld\">x</span><span class=\"txtu cld\">uˈ </span><span class=\"txtu cld\">ʾ</span><span class=\"txtu cld\">u-</span><span class=\"txtu cld\">s</span><span class=\"txtu cld\">ò!ˈ </span><span class=\"txtu cld\">y-</span><span class=\"txtu cld\">a</span><span class=\"txtu cld\">z</span><span class=\"txtu cld\">ì</span><span class=\"txtu cld\">w</span><span class=\"txtu cld\">a.ˈ</span></div></td><td class=\"tf ltr\"><div class=\"\"><span class=\"plain   hlbx\" ><span class=\"txtu cld\">O</span><span class=\"txtu cld\">K </span></span></div></td></tr>\n",
       "<tr class=\"tf ltr\"><td class=\"tf ltr\">3</td><td class=\"tf ltr\"><span class=\"section ltr\"><a target=\"_blank\" href=\"https://github.com/CambridgeSemiticsLab/nena_corpus/blob/master/nena/0.02/Barwar/Gozali and Nozali.nena\" title=\"Show this title in the NENA repository\" sec=\"Barwar, Gozali and Nozali, Ln. 96\">Barwar, Gozali and Nozali, Ln. 96</a></span></td><td class=\"tf ltr\"><div class=\"\"><span class=\"txtu cld\">g</span><span class=\"txtu cld\">u-</span><span class=\"txtu cld\">d-</span><span class=\"txtu cld\">á</span><span class=\"txtu cld\">w</span><span class=\"txtu cld\">w</span><span class=\"txtu cld\">a </span><span class=\"txtu cld\">b</span><span class=\"txtu cld\">ɛ́</span><span class=\"txtu cld\">θ</span><span class=\"txtu cld\">u</span><span class=\"txtu cld\">x </span><span class=\"txtu cld\">ṱ-</span><span class=\"txtu cld\">à</span><span class=\"txtu cld\">w</span><span class=\"txtu cld\">aˈ </span><span class=\"txtu cld\">ʾ</span><span class=\"txtu cld\">u-</span><span class=\"txtu cld\">ʾ</span><span class=\"txtu cld\">á</span><span class=\"txtu cld\">n</span><span class=\"txtu cld\">i </span><span class=\"txtu cld\">p</span><span class=\"txtu cld\">ɛ́</span><span class=\"txtu cld\">š</span><span class=\"txtu cld\">i </span><span class=\"txtu cld\">m</span><span class=\"txtu cld\">à</span><span class=\"txtu cld\">l</span><span class=\"txtu cld\">k</span><span class=\"txtu cld\">e.ˈ </span><span class=\"txtu cld\">m</span><span class=\"txtu cld\">ə</span><span class=\"txtu cld\">n-</span><span class=\"txtu cld\">ʾ</span><span class=\"txtu cld\">ə̀</span><span class=\"txtu cld\">d</span><span class=\"txtu cld\">y</span><span class=\"txtu cld\">oˈ </span><span class=\"txtu cld\">m</span><span class=\"txtu cld\">a</span><span class=\"txtu cld\">l</span><span class=\"txtu cld\">k</span><span class=\"txtu cld\">ù</span><span class=\"txtu cld\">θ</span><span class=\"txtu cld\">aˈ </span><span class=\"txtu cld\">m-</span><span class=\"txtu cld\">b</span><span class=\"txtu cld\">n</span><span class=\"txtu cld\">ó</span><span class=\"txtu cld\">n</span><span class=\"txtu cld\">u</span><span class=\"txtu cld\">x </span><span class=\"txtu cld\">q</span><span class=\"txtu cld\">ằ</span><span class=\"txtu cld\">ṭ</span><span class=\"txtu cld\">a.ˈ </span><span class=\"txtu cld\">p</span><span class=\"txtu cld\">á</span><span class=\"txtu cld\">y</span><span class=\"txtu cld\">ə</span><span class=\"txtu cld\">š </span><span class=\"txtu cld\">G</span><span class=\"txtu cld\">o</span><span class=\"txtu cld\">z</span><span class=\"txtu cld\">á</span><span class=\"txtu cld\">l</span><span class=\"txtu cld\">i </span><span class=\"txtu cld\">m</span><span class=\"txtu cld\">à</span><span class=\"txtu cld\">l</span><span class=\"txtu cld\">k</span><span class=\"txtu cld\">a,ˈ </span><span class=\"txtu cld\">ʾ</span><span class=\"txtu cld\">u-</span><span class=\"txtu cld\">B</span><span class=\"txtu cld\">ə́</span><span class=\"txtu cld\">l</span><span class=\"txtu cld\">b</span><span class=\"txtu cld\">ə</span><span class=\"txtu cld\">l </span><span class=\"txtu cld\">H</span><span class=\"txtu cld\">a</span><span class=\"txtu cld\">z</span><span class=\"txtu cld\">á</span><span class=\"txtu cld\">r </span><span class=\"txtu cld\">b</span><span class=\"txtu cld\">á</span><span class=\"txtu cld\">x</span><span class=\"txtu cld\">t</span><span class=\"txtu cld\">e </span><span class=\"txtu cld\">d</span><span class=\"txtu cld\">ì</span><span class=\"txtu cld\">y</span><span class=\"txtu cld\">e,ˈ </span><span class=\"txtu cld\">ʾ</span><span class=\"txtu cld\">u-</span><span class=\"txtu cld\">x</span><span class=\"txtu cld\">á</span><span class=\"txtu cld\">θ</span><span class=\"txtu cld\">e </span><span class=\"txtu cld\">d</span><span class=\"txtu cld\">í</span><span class=\"txtu cld\">y</span><span class=\"txtu cld\">e </span><span class=\"plain   hlbx\" ><span class=\"txtu cld\">p</span><span class=\"txtu cld\">r</span><span class=\"txtu cld\">i</span><span class=\"txtu cld\">n</span><span class=\"txtu cld\">c</span><span class=\"txtu cld\">e</span><span class=\"txtu cld\">s</span><span class=\"txtu cld\">s </span></span><span class=\"txtu cld\">ṱ-</span><span class=\"txtu cld\">ó</span><span class=\"txtu cld\">y</span><span class=\"txtu cld\">a,ˈ </span><span class=\"txtu cld\">y</span><span class=\"txtu cld\">á</span><span class=\"txtu cld\">ʿ</span><span class=\"txtu cld\">n</span><span class=\"txtu cld\">i </span><span class=\"txtu cld\">h</span><span class=\"txtu cld\">á</span><span class=\"txtu cld\">t</span><span class=\"txtu cld\">x</span><span class=\"txtu cld\">a </span><span class=\"txtu cld\">x</span><span class=\"txtu cld\">á </span><span class=\"txtu cld\">š</span><span class=\"txtu cld\">a</span><span class=\"txtu cld\">z</span><span class=\"txtu cld\">á</span><span class=\"txtu cld\">t</span><span class=\"txtu cld\">t</span><span class=\"txtu cld\">a </span><span class=\"txtu cld\">g</span><span class=\"txtu cld\">u-</span><span class=\"txtu cld\">b</span><span class=\"txtu cld\">ɛ́</span><span class=\"txtu cld\">θ</span><span class=\"txtu cld\">a </span><span class=\"txtu cld\">ʾ</span><span class=\"txtu cld\">a</span><span class=\"txtu cld\">p-</span><span class=\"txtu cld\">à</span><span class=\"txtu cld\">y.ˈ </span><span class=\"txtu cld\">y</span><span class=\"txtu cld\">á</span><span class=\"txtu cld\">ʿ</span><span class=\"txtu cld\">n</span><span class=\"txtu cld\">i </span><span class=\"txtu cld\">ʾ</span><span class=\"txtu cld\">u-</span><span class=\"txtu cld\">x</span><span class=\"txtu cld\">z</span><span class=\"txtu cld\">i </span><span class=\"txtu cld\">m</span><span class=\"txtu cld\">à</span><span class=\"txtu cld\">ṭ</span><span class=\"txtu cld\">o </span><span class=\"txtu cld\">ṱ-</span><span class=\"txtu cld\">ó</span><span class=\"txtu cld\">y</span><span class=\"txtu cld\">a.ˈ </span><span class=\"txtu cld\">h</span><span class=\"txtu cld\">èˈ </span><span class=\"txtu cld\">x</span><span class=\"txtu cld\">è</span><span class=\"txtu cld\">n</span><span class=\"txtu cld\">a-</span><span class=\"txtu cld\">wˈ </span><span class=\"txtu cld\">p</span><span class=\"txtu cld\">í</span><span class=\"txtu cld\">š</span><span class=\"txtu cld\">ɛ</span><span class=\"txtu cld\">l</span><span class=\"txtu cld\">e </span><span class=\"txtu cld\">x</span><span class=\"txtu cld\">o-</span><span class=\"txtu cld\">ʾ</span><span class=\"txtu cld\">á</span><span class=\"txtu cld\">m</span><span class=\"txtu cld\">r </span><span class=\"txtu cld\">a</span><span class=\"txtu cld\">l-</span><span class=\"txtu cld\">w</span><span class=\"txtu cld\">à</span><span class=\"txtu cld\">q</span><span class=\"txtu cld\">ə</span><span class=\"txtu cld\">ʿˈ </span><span class=\"txtu cld\">m</span><span class=\"txtu cld\">o-</span><span class=\"txtu cld\">ṱ-</span><span class=\"txtu cld\">à</span><span class=\"txtu cld\">w</span><span class=\"txtu cld\">ə</span><span class=\"txtu cld\">ð?ˈ </span><span class=\"txtu cld\">l</span><span class=\"txtu cld\">é</span><span class=\"txtu cld\">š-</span><span class=\"txtu cld\">i</span><span class=\"txtu cld\">l</span><span class=\"txtu cld\">e </span><span class=\"txtu cld\">m</span><span class=\"txtu cld\">ə̀</span><span class=\"txtu cld\">ṣ</span><span class=\"txtu cld\">y</span><span class=\"txtu cld\">a.ˈ </span></div></td><td class=\"tf ltr\"><div class=\"\"><span class=\"plain   hlbx\" ><span class=\"txtu cld\">p</span><span class=\"txtu cld\">r</span><span class=\"txtu cld\">i</span><span class=\"txtu cld\">n</span><span class=\"txtu cld\">c</span><span class=\"txtu cld\">e</span><span class=\"txtu cld\">s</span><span class=\"txtu cld\">s </span></span></div></td></tr></table>"
      ],
      "text/plain": [
       "<IPython.core.display.HTML object>"
      ]
     },
     "metadata": {},
     "output_type": "display_data"
    }
   ],
   "source": [
    "A.table(results, end=3, condensed=True, condenseType=\"line\")"
   ]
  },
  {
   "cell_type": "markdown",
   "metadata": {},
   "source": [
    "We can show them in rich layout as well:"
   ]
  },
  {
   "cell_type": "code",
   "execution_count": 6,
   "metadata": {},
   "outputs": [
    {
     "data": {
      "text/html": [
       "<table><tr class=\"tf ltr\"><th class=\"tf ltr\">n</th><th class=\"tf ltr\">p</th><th class=\"tf ltr\">line</th><th class=\"tf\">word</th></tr>\n",
       "<tr class=\"tf ltr\"><td class=\"tf ltr\">1</td><td class=\"tf ltr\"><span class=\"section ltr\"><a target=\"_blank\" href=\"https://github.com/CambridgeSemiticsLab/nena_corpus/blob/master/nena/0.02/Barwar/Gozali and Nozali.nena\" title=\"Show this title in the NENA repository\" sec=\"Barwar, Gozali and Nozali, Ln. 21\">Barwar, Gozali and Nozali, Ln. 21</a></span></td><td class=\"tf ltr\"><div class=\"\"><span class=\"txtu cld\"><span class=\"speaker\">…Nanəs Bənyamən…</span>ʾíθwa </span><span class=\"txtu cld\">xa-</span><span class=\"txtu cld\">bàxtaˈ </span><span class=\"txtu cld\">rába </span><span class=\"txtu cld\">xàmθɛwawa.ˈ </span><span class=\"txtu cld\">módiwewa </span><span class=\"txtu cld\">šə́mma </span><span class=\"txtu cld\">dìya?ˈ </span><span class=\"txtu cld\">bəlbə́l </span><span class=\"txtu cld\">hazàr.ˈ </span><span class=\"txtu cld\">w-</span><span class=\"txtu cld\">áyya </span><span class=\"txtu cld\">ʾɛ̀kela?ˈ </span><span class=\"txtu cld\">hóla </span><span class=\"txtu cld\">gu-</span><span class=\"txtu cld\">réšət </span><span class=\"txtu cld\">xa-</span><span class=\"txtu cld\">ṭúra </span><span class=\"txtu cld\">ramàna,ˈ </span><span class=\"txtu cld\">xa-</span><span class=\"txtu cld\">ṭúra </span><span class=\"txtu cld\">rába </span><span class=\"txtu cld\">ramàna.ˈ </span><span class=\"txtu cld\">náše </span><span class=\"txtu cld\">lá-</span><span class=\"txtu cld\">maṣi </span><span class=\"txtu cld\">y-</span><span class=\"txtu cld\">asqì-</span><span class=\"txtu cld\">lle </span><span class=\"txtu cld\">díye.ˈ </span><span class=\"txtu cld\">dax-</span><span class=\"txtu cld\">qúmmət </span><span class=\"plain   hlbx\" ><span class=\"txtu cld\">everèst-</span></span><span class=\"txtu cld\">ile,ˈ </span><span class=\"txtu cld\">hátxa </span><span class=\"txtu cld\">ramàna.ˈ </span><span class=\"txtu cld\">ʾu-</span><span class=\"txtu cld\">l-</span><span class=\"txtu cld\">qámθe </span><span class=\"txtu cld\">dìyeˈ </span><span class=\"txtu cld\">ʾíθ </span><span class=\"txtu cld\">xa-</span><span class=\"txtu cld\">čòlˈ </span><span class=\"txtu cld\">dàštaˈ </span><span class=\"txtu cld\">rába </span><span class=\"txtu cld\">gòṛta.ˈ <span class=\"speaker\">…Nanəs Bənyamən…</span></span></div></td><td class=\"tf ltr\"><div class=\"\"><span class=\"plain   hlbx\" ><span class=\"txtu cld\"><span class=\"speaker\">…Nanəs Bənyamən…</span>everèst-<span class=\"speaker\">…Nanəs Bənyamən…</span></span></span></div></td></tr>\n",
       "<tr class=\"tf ltr\"><td class=\"tf ltr\">2</td><td class=\"tf ltr\"><span class=\"section ltr\"><a target=\"_blank\" href=\"https://github.com/CambridgeSemiticsLab/nena_corpus/blob/master/nena/0.02/Barwar/Gozali and Nozali.nena\" title=\"Show this title in the NENA repository\" sec=\"Barwar, Gozali and Nozali, Ln. 29\">Barwar, Gozali and Nozali, Ln. 29</a></span></td><td class=\"tf ltr\"><div class=\"\"><span class=\"txtu cld\"><span class=\"speaker\">…Nanəs Bənyamən…</span>ṭlá </span><span class=\"txtu cld\">gáye </span><span class=\"txtu cld\">b-</span><span class=\"txtu cld\">qarìtu,ˈ </span><span class=\"txtu cld\">xaθmítu </span><span class=\"txtu cld\">kèpa,ˈ </span><span class=\"txtu cld\">pɛšítu </span><span class=\"txtu cld\">kèpa,ˈ </span><span class=\"txtu cld\">léš </span><span class=\"txtu cld\">maṣítu </span><span class=\"txtu cld\">jawjìtu.ˈ </span><span class=\"txtu cld\">ʾàxtu-</span><span class=\"txtu cld\">wˈ </span><span class=\"txtu cld\">susɛ̀xu-</span><span class=\"txtu cld\">wˈ </span><span class=\"txtu cld\">rumxɛ̀xu-</span><span class=\"txtu cld\">wˈ </span><span class=\"txtu cld\">lwištɛ̀xu,ˈ </span><span class=\"txtu cld\">pɛšítu </span><span class=\"txtu cld\">kèpa </span><span class=\"txtu cld\">táma.ˈ </span><span class=\"txtu cld\">w-</span><span class=\"txtu cld\">ə́n </span><span class=\"txtu cld\">ʾáθya </span><span class=\"txtu cld\">bə́lbəl </span><span class=\"txtu cld\">hazàr,ˈ </span><span class=\"txtu cld\">ṱ-</span><span class=\"txtu cld\">áθya </span><span class=\"txtu cld\">ʾu-</span><span class=\"txtu cld\">mɛθìtula.ˈ </span><span class=\"txtu cld\">y-</span><span class=\"txtu cld\">ámri </span><span class=\"plain   hlbx\" ><span class=\"txtu cld\">ok </span></span><span class=\"txtu cld\">bắyəx </span><span class=\"txtu cld\">ṱ-</span><span class=\"txtu cld\">àzəx.ˈ </span><span class=\"txtu cld\">ṱ-</span><span class=\"txtu cld\">awzítu </span><span class=\"txtu cld\">də-</span><span class=\"txtu cld\">sò.ˈ </span><span class=\"txtu cld\">ʾálaha </span><span class=\"txtu cld\">ṱ-</span><span class=\"txtu cld\">áwe </span><span class=\"txtu cld\">mənnɛ̀xu.ˈ </span><span class=\"txtu cld\">damxíwa </span><span class=\"txtu cld\">kə́sle </span><span class=\"txtu cld\">dìyeˈ </span><span class=\"txtu cld\">ʾo-</span><span class=\"txtu cld\">lɛ̀le.ˈ </span><span class=\"txtu cld\">qɛmíwa </span><span class=\"txtu cld\">mbàdla.ˈ </span><span class=\"txtu cld\">y-</span><span class=\"txtu cld\">ámər </span><span class=\"txtu cld\">ʾálaha </span><span class=\"txtu cld\">ṱ-</span><span class=\"txtu cld\">áwe </span><span class=\"txtu cld\">mənnɛ̀xuˈ </span><span class=\"txtu cld\">ʾu-</span><span class=\"txtu cld\">sò!ˈ </span><span class=\"txtu cld\">y-</span><span class=\"txtu cld\">azìwa.ˈ<span class=\"speaker\">…Nanəs Bənyamən…</span></span></div></td><td class=\"tf ltr\"><div class=\"\"><span class=\"plain   hlbx\" ><span class=\"txtu cld\"><span class=\"speaker\">…Nanəs Bənyamən…</span>ok <span class=\"speaker\">…Nanəs Bənyamən…</span></span></span></div></td></tr>\n",
       "<tr class=\"tf ltr\"><td class=\"tf ltr\">3</td><td class=\"tf ltr\"><span class=\"section ltr\"><a target=\"_blank\" href=\"https://github.com/CambridgeSemiticsLab/nena_corpus/blob/master/nena/0.02/Barwar/Gozali and Nozali.nena\" title=\"Show this title in the NENA repository\" sec=\"Barwar, Gozali and Nozali, Ln. 96\">Barwar, Gozali and Nozali, Ln. 96</a></span></td><td class=\"tf ltr\"><div class=\"\"><span class=\"txtu cld\"><span class=\"speaker\">…Nanəs Bənyamən…</span>gu-</span><span class=\"txtu cld\">d-</span><span class=\"txtu cld\">áwwa </span><span class=\"txtu cld\">bɛ́θux </span><span class=\"txtu cld\">ṱ-</span><span class=\"txtu cld\">àwaˈ </span><span class=\"txtu cld\">ʾu-</span><span class=\"txtu cld\">ʾáni </span><span class=\"txtu cld\">pɛ́ši </span><span class=\"txtu cld\">màlke.ˈ </span><span class=\"txtu cld\">mən-</span><span class=\"txtu cld\">ʾə̀dyoˈ </span><span class=\"txtu cld\">malkùθaˈ </span><span class=\"txtu cld\">m-</span><span class=\"txtu cld\">bnónux </span><span class=\"txtu cld\">qằṭa.ˈ </span><span class=\"txtu cld\">páyəš </span><span class=\"txtu cld\">gozáli </span><span class=\"txtu cld\">màlka,ˈ </span><span class=\"txtu cld\">ʾu-</span><span class=\"txtu cld\">bə́lbəl </span><span class=\"txtu cld\">hazár </span><span class=\"txtu cld\">báxte </span><span class=\"txtu cld\">dìye,ˈ </span><span class=\"txtu cld\">ʾu-</span><span class=\"txtu cld\">xáθe </span><span class=\"txtu cld\">díye </span><span class=\"plain   hlbx\" ><span class=\"txtu cld\">princess </span></span><span class=\"txtu cld\">ṱ-</span><span class=\"txtu cld\">óya,ˈ </span><span class=\"txtu cld\">yáʿni </span><span class=\"txtu cld\">hátxa </span><span class=\"txtu cld\">xá </span><span class=\"txtu cld\">šazátta </span><span class=\"txtu cld\">gu-</span><span class=\"txtu cld\">bɛ́θa </span><span class=\"txtu cld\">ʾap-</span><span class=\"txtu cld\">ày.ˈ </span><span class=\"txtu cld\">yáʿni </span><span class=\"txtu cld\">ʾu-</span><span class=\"txtu cld\">xzi </span><span class=\"txtu cld\">màṭo </span><span class=\"txtu cld\">ṱ-</span><span class=\"txtu cld\">óya.ˈ </span><span class=\"txtu cld\">hèˈ </span><span class=\"txtu cld\">xèna-</span><span class=\"txtu cld\">wˈ </span><span class=\"txtu cld\">píšɛle </span><span class=\"txtu cld\">xo-</span><span class=\"txtu cld\">ʾámr </span><span class=\"txtu cld\">al-</span><span class=\"txtu cld\">wàqəʿˈ </span><span class=\"txtu cld\">mo-</span><span class=\"txtu cld\">ṱ-</span><span class=\"txtu cld\">àwəð?ˈ </span><span class=\"txtu cld\">léš-</span><span class=\"txtu cld\">ile </span><span class=\"txtu cld\">mə̀ṣya.ˈ <span class=\"speaker\">…Nanəs Bənyamən…</span></span></div></td><td class=\"tf ltr\"><div class=\"\"><span class=\"plain   hlbx\" ><span class=\"txtu cld\"><span class=\"speaker\">…Nanəs Bənyamən…</span>princess <span class=\"speaker\">…Nanəs Bənyamən…</span></span></span></div></td></tr></table>"
      ],
      "text/plain": [
       "<IPython.core.display.HTML object>"
      ]
     },
     "metadata": {},
     "output_type": "display_data"
    }
   ],
   "source": [
    "A.table(results, end=3, condensed=True, condenseType=\"line\", fmt=\"layout-orig-full\")"
   ]
  },
  {
   "cell_type": "markdown",
   "metadata": {},
   "source": [
    "Note that we can choose start and/or end points in the results list."
   ]
  },
  {
   "cell_type": "code",
   "execution_count": 7,
   "metadata": {},
   "outputs": [
    {
     "data": {
      "text/html": [
       "<table><tr class=\"tf ltr\"><th class=\"tf ltr\">n</th><th class=\"tf ltr\">p</th><th class=\"tf ltr\">stress</th><th class=\"tf\">word</th></tr>\n",
       "<tr class=\"tf ltr\"><td class=\"tf ltr\">100</td><td class=\"tf ltr\"><span class=\"section ltr\"><a target=\"_blank\" href=\"https://github.com/CambridgeSemiticsLab/nena_corpus/blob/master/nena/0.02/Urmi_C/Axiqar.nena\" title=\"Show this title in the NENA repository\" sec=\"Urmi_C, Axiqar, Ln. 39\">Urmi_C, Axiqar, Ln. 39</a></span></td><td class=\"tf ltr\"><div class=\"\"><span class=\"plain   hlbx\" ><span class=\"txtu cld\"><span class=\"speaker\">…Yulia Davudi…</span>măʿammɑ̀ˈ <span class=\"speaker\">…Yulia Davudi…</span></span></span></div></td><td class=\"tf ltr\"><div class=\"\"><span class=\"plain   hlbx\" ><span class=\"txtu cld\"><span class=\"speaker\">…Yulia Davudi…</span>măʿammɑ̀ˈ <span class=\"speaker\">…Yulia Davudi…</span></span></span></div></td></tr>\n",
       "<tr class=\"tf ltr\"><td class=\"tf ltr\">101</td><td class=\"tf ltr\"><span class=\"section ltr\"><a target=\"_blank\" href=\"https://github.com/CambridgeSemiticsLab/nena_corpus/blob/master/nena/0.02/Urmi_C/Axiqar.nena\" title=\"Show this title in the NENA repository\" sec=\"Urmi_C, Axiqar, Ln. 39\">Urmi_C, Axiqar, Ln. 39</a></span></td><td class=\"tf ltr\"><div class=\"\"><span class=\"plain   hlbx\" ><span class=\"txtu cld\"><span class=\"speaker\">…Yulia Davudi…</span>măʿammɑ̀,ˈ <span class=\"speaker\">…Yulia Davudi…</span></span></span></div></td><td class=\"tf ltr\"><div class=\"\"><span class=\"plain   hlbx\" ><span class=\"txtu cld\"><span class=\"speaker\">…Yulia Davudi…</span>măʿammɑ̀,ˈ <span class=\"speaker\">…Yulia Davudi…</span></span></span></div></td></tr>\n",
       "<tr class=\"tf ltr\"><td class=\"tf ltr\">102</td><td class=\"tf ltr\"><span class=\"section ltr\"><a target=\"_blank\" href=\"https://github.com/CambridgeSemiticsLab/nena_corpus/blob/master/nena/0.02/Urmi_C/Axiqar.nena\" title=\"Show this title in the NENA repository\" sec=\"Urmi_C, Axiqar, Ln. 40\">Urmi_C, Axiqar, Ln. 40</a></span></td><td class=\"tf ltr\"><div class=\"\"><span class=\"plain   hlbx\" ><span class=\"txtu cld\"><span class=\"speaker\">…Yulia Davudi…</span>darɑ̄màd-</span></span><span class=\"txtu cld\">ətˈ <span class=\"speaker\">…Yulia Davudi…</span></span></div></td><td class=\"tf ltr\"><div class=\"\"><span class=\"plain   hlbx\" ><span class=\"txtu cld\"><span class=\"speaker\">…Yulia Davudi…</span>darɑ̄màd-<span class=\"speaker\">…Yulia Davudi…</span></span></span></div></td></tr>\n",
       "<tr class=\"tf ltr\"><td class=\"tf ltr\">103</td><td class=\"tf ltr\"><span class=\"section ltr\"><a target=\"_blank\" href=\"https://github.com/CambridgeSemiticsLab/nena_corpus/blob/master/nena/0.02/Urmi_C/Axiqar.nena\" title=\"Show this title in the NENA repository\" sec=\"Urmi_C, Axiqar, Ln. 40\">Urmi_C, Axiqar, Ln. 40</a></span></td><td class=\"tf ltr\"><div class=\"\"><span class=\"plain   hlbx\" ><span class=\"txtu cld\"><span class=\"speaker\">…Yulia Davudi…</span>darɑ̄mád <span class=\"speaker\">…Yulia Davudi…</span></span></span></div></td><td class=\"tf ltr\"><div class=\"\"><span class=\"plain   hlbx\" ><span class=\"txtu cld\"><span class=\"speaker\">…Yulia Davudi…</span>darɑ̄mád <span class=\"speaker\">…Yulia Davudi…</span></span></span></div></td></tr></table>"
      ],
      "text/plain": [
       "<IPython.core.display.HTML object>"
      ]
     },
     "metadata": {},
     "output_type": "display_data"
    }
   ],
   "source": [
    "A.table(\n",
    "    results,\n",
    "    start=100,\n",
    "    end=103,\n",
    "    condensed=True,\n",
    "    condenseType=\"stress\",\n",
    "    fmt=\"layout-orig-full\",\n",
    ")"
   ]
  },
  {
   "cell_type": "markdown",
   "metadata": {},
   "source": [
    "We can show the results more fully with `show()`."
   ]
  },
  {
   "cell_type": "code",
   "execution_count": 8,
   "metadata": {
    "ExecuteTime": {
     "end_time": "2018-05-24T07:47:06.875859Z",
     "start_time": "2018-05-24T07:47:06.757345Z"
    }
   },
   "outputs": [
    {
     "data": {
      "text/html": [
       "<p><b>result</b> <i>1</i></p>"
      ],
      "text/plain": [
       "<IPython.core.display.HTML object>"
      ]
     },
     "metadata": {},
     "output_type": "display_data"
    },
    {
     "data": {
      "text/html": [
       "<div class=\"section \"><a target=\"_blank\" href=\"https://github.com/CambridgeSemiticsLab/nena_corpus/blob/master/nena/0.02/Barwar/Gozali and Nozali.nena\" title=\"Show this title in the NENA repository\" sec=\"Barwar, Gozali and Nozali, Ln. 21\">Barwar, Gozali and Nozali, Ln. 21</a></div><div class=\" children\"><div class=\"contnr c3    \" ><div class=\"lbl c3  \" ><span class=\"nd\">line</span></div><div class=\"children hor wrap \"><div class=\"contnr c2    \" ><div class=\"lbl c2  \" ><span class=\"nd\">sentence</span></div><div class=\"children hor wrap \"><div class=\"contnr c1    \" ><div class=\"lbl c1  \" ><span class=\"nd\">inton</span></div><div class=\"children hor  \"><div class=\"contnr c1 trm   \" ><div class=\"lbl c1 trm \" ><span class=\"nd\">stress</span> <span class=\"txtu cld\"><span class=\"plain   \" ><span class=\"txtu cld\"><span class=\"speaker\">…Nanəs Bənyamən…</span>ʾíθwa </span></span></span></div></div><div class=\"contnr c1 trm   \" ><div class=\"lbl c1 trm \" ><span class=\"nd\">stress</span> <span class=\"txtu cld\"><span class=\"plain   \" ><span class=\"txtu cld\">xa-</span><span class=\"txtu cld\">bàxtaˈ </span></span></span></div></div></div></div><div class=\"contnr c1    \" ><div class=\"lbl c1  \" ><span class=\"nd\">inton</span></div><div class=\"children hor  \"><div class=\"contnr c1 trm   \" ><div class=\"lbl c1 trm \" ><span class=\"nd\">stress</span> <span class=\"txtu cld\"><span class=\"plain   \" ><span class=\"txtu cld\">rába </span></span></span></div></div><div class=\"contnr c1 trm   \" ><div class=\"lbl c1 trm \" ><span class=\"nd\">stress</span> <span class=\"txtu cld\"><span class=\"plain   \" ><span class=\"txtu cld\">xàmθɛwawa.ˈ </span></span></span></div></div></div></div></div></div><div class=\"contnr c2    \" ><div class=\"lbl c2  \" ><span class=\"nd\">sentence</span></div><div class=\"children hor wrap \"><div class=\"contnr c1    \" ><div class=\"lbl c1  \" ><span class=\"nd\">inton</span></div><div class=\"children hor  \"><div class=\"contnr c1 trm   \" ><div class=\"lbl c1 trm \" ><span class=\"nd\">stress</span> <span class=\"txtu cld\"><span class=\"plain   \" ><span class=\"txtu cld\">módiwewa </span></span></span></div></div><div class=\"contnr c1 trm   \" ><div class=\"lbl c1 trm \" ><span class=\"nd\">stress</span> <span class=\"txtu cld\"><span class=\"plain   \" ><span class=\"txtu cld\">šə́mma </span></span></span></div></div><div class=\"contnr c1 trm   \" ><div class=\"lbl c1 trm \" ><span class=\"nd\">stress</span> <span class=\"txtu cld\"><span class=\"plain   \" ><span class=\"txtu cld\">dìya?ˈ </span></span></span></div></div></div></div></div></div><div class=\"contnr c2    \" ><div class=\"lbl c2  \" ><span class=\"nd\">sentence</span></div><div class=\"children hor wrap \"><div class=\"contnr c1    \" ><div class=\"lbl c1  \" ><span class=\"nd\">inton</span></div><div class=\"children hor  \"><div class=\"contnr c1 trm   \" ><div class=\"lbl c1 trm \" ><span class=\"nd\">stress</span> <span class=\"txtu cld\"><span class=\"plain   \" ><span class=\"txtu cld\">bəlbə́l </span></span></span></div></div><div class=\"contnr c1 trm   \" ><div class=\"lbl c1 trm \" ><span class=\"nd\">stress</span> <span class=\"txtu cld\"><span class=\"plain   \" ><span class=\"txtu cld\">hazàr.ˈ </span></span></span></div></div></div></div></div></div><div class=\"contnr c2    \" ><div class=\"lbl c2  \" ><span class=\"nd\">sentence</span></div><div class=\"children hor wrap \"><div class=\"contnr c1    \" ><div class=\"lbl c1  \" ><span class=\"nd\">inton</span></div><div class=\"children hor  \"><div class=\"contnr c1 trm   \" ><div class=\"lbl c1 trm \" ><span class=\"nd\">stress</span> <span class=\"txtu cld\"><span class=\"plain   \" ><span class=\"txtu cld\">w-</span><span class=\"txtu cld\">áyya </span></span></span></div></div><div class=\"contnr c1 trm   \" ><div class=\"lbl c1 trm \" ><span class=\"nd\">stress</span> <span class=\"txtu cld\"><span class=\"plain   \" ><span class=\"txtu cld\">ʾɛ̀kela?ˈ </span></span></span></div></div></div></div></div></div><div class=\"contnr c2    \" ><div class=\"lbl c2  \" ><span class=\"nd\">sentence</span></div><div class=\"children hor wrap \"><div class=\"contnr c1    \" ><div class=\"lbl c1  \" ><span class=\"nd\">inton</span></div><div class=\"children hor  \"><div class=\"contnr c1 trm   \" ><div class=\"lbl c1 trm \" ><span class=\"nd\">stress</span> <span class=\"txtu cld\"><span class=\"plain   \" ><span class=\"txtu cld\">hóla </span></span></span></div></div><div class=\"contnr c1 trm   \" ><div class=\"lbl c1 trm \" ><span class=\"nd\">stress</span> <span class=\"txtu cld\"><span class=\"plain   \" ><span class=\"txtu cld\">gu-</span><span class=\"txtu cld\">réšət </span></span></span></div></div><div class=\"contnr c1 trm   \" ><div class=\"lbl c1 trm \" ><span class=\"nd\">stress</span> <span class=\"txtu cld\"><span class=\"plain   \" ><span class=\"txtu cld\">xa-</span><span class=\"txtu cld\">ṭúra </span></span></span></div></div><div class=\"contnr c1 trm   \" ><div class=\"lbl c1 trm \" ><span class=\"nd\">stress</span> <span class=\"txtu cld\"><span class=\"plain   \" ><span class=\"txtu cld\">ramàna,ˈ </span></span></span></div></div></div></div><div class=\"contnr c1    \" ><div class=\"lbl c1  \" ><span class=\"nd\">inton</span></div><div class=\"children hor  \"><div class=\"contnr c1 trm   \" ><div class=\"lbl c1 trm \" ><span class=\"nd\">stress</span> <span class=\"txtu cld\"><span class=\"plain   \" ><span class=\"txtu cld\">xa-</span><span class=\"txtu cld\">ṭúra </span></span></span></div></div><div class=\"contnr c1 trm   \" ><div class=\"lbl c1 trm \" ><span class=\"nd\">stress</span> <span class=\"txtu cld\"><span class=\"plain   \" ><span class=\"txtu cld\">rába </span></span></span></div></div><div class=\"contnr c1 trm   \" ><div class=\"lbl c1 trm \" ><span class=\"nd\">stress</span> <span class=\"txtu cld\"><span class=\"plain   \" ><span class=\"txtu cld\">ramàna.ˈ </span></span></span></div></div></div></div></div></div><div class=\"contnr c2    \" ><div class=\"lbl c2  \" ><span class=\"nd\">sentence</span></div><div class=\"children hor wrap \"><div class=\"contnr c1    \" ><div class=\"lbl c1  \" ><span class=\"nd\">inton</span></div><div class=\"children hor  \"><div class=\"contnr c1 trm   \" ><div class=\"lbl c1 trm \" ><span class=\"nd\">stress</span> <span class=\"txtu cld\"><span class=\"plain   \" ><span class=\"txtu cld\">náše </span></span></span></div></div><div class=\"contnr c1 trm   \" ><div class=\"lbl c1 trm \" ><span class=\"nd\">stress</span> <span class=\"txtu cld\"><span class=\"plain   \" ><span class=\"txtu cld\">lá-</span><span class=\"txtu cld\">maṣi </span></span></span></div></div><div class=\"contnr c1 trm   \" ><div class=\"lbl c1 trm \" ><span class=\"nd\">stress</span> <span class=\"txtu cld\"><span class=\"plain   \" ><span class=\"txtu cld\">y-</span><span class=\"txtu cld\">asqì-</span><span class=\"txtu cld\">lle </span></span></span></div></div><div class=\"contnr c1 trm   \" ><div class=\"lbl c1 trm \" ><span class=\"nd\">stress</span> <span class=\"txtu cld\"><span class=\"plain   \" ><span class=\"txtu cld\">díye.ˈ </span></span></span></div></div></div></div></div></div><div class=\"contnr c2    \" ><div class=\"lbl c2  \" ><span class=\"nd\">sentence</span></div><div class=\"children hor wrap \"><div class=\"contnr c1    \" ><div class=\"lbl c1  \" ><span class=\"nd\">inton</span></div><div class=\"children hor  \"><div class=\"contnr c1 trm   \" ><div class=\"lbl c1 trm \" ><span class=\"nd\">stress</span> <span class=\"txtu cld\"><span class=\"plain   \" ><span class=\"txtu cld\">dax-</span><span class=\"txtu cld\">qúmmət </span></span></span></div></div><div class=\"contnr c1 trm   \" ><div class=\"lbl c1 trm \" ><span class=\"nd\">stress</span> <span class=\"txtu cld\"><span class=\"plain   \" ><span class=\"plain   hlbx\" ><span class=\"txtu cld\">everèst-</span></span><span class=\"txtu cld\">ile,ˈ </span></span></span></div></div></div></div><div class=\"contnr c1    \" ><div class=\"lbl c1  \" ><span class=\"nd\">inton</span></div><div class=\"children hor  \"><div class=\"contnr c1 trm   \" ><div class=\"lbl c1 trm \" ><span class=\"nd\">stress</span> <span class=\"txtu cld\"><span class=\"plain   \" ><span class=\"txtu cld\">hátxa </span></span></span></div></div><div class=\"contnr c1 trm   \" ><div class=\"lbl c1 trm \" ><span class=\"nd\">stress</span> <span class=\"txtu cld\"><span class=\"plain   \" ><span class=\"txtu cld\">ramàna.ˈ </span></span></span></div></div></div></div></div></div><div class=\"contnr c2    \" ><div class=\"lbl c2  \" ><span class=\"nd\">sentence</span></div><div class=\"children hor wrap \"><div class=\"contnr c1    \" ><div class=\"lbl c1  \" ><span class=\"nd\">inton</span></div><div class=\"children hor  \"><div class=\"contnr c1 trm   \" ><div class=\"lbl c1 trm \" ><span class=\"nd\">stress</span> <span class=\"txtu cld\"><span class=\"plain   \" ><span class=\"txtu cld\">ʾu-</span><span class=\"txtu cld\">l-</span><span class=\"txtu cld\">qámθe </span></span></span></div></div><div class=\"contnr c1 trm   \" ><div class=\"lbl c1 trm \" ><span class=\"nd\">stress</span> <span class=\"txtu cld\"><span class=\"plain   \" ><span class=\"txtu cld\">dìyeˈ </span></span></span></div></div></div></div><div class=\"contnr c1    \" ><div class=\"lbl c1  \" ><span class=\"nd\">inton</span></div><div class=\"children hor  \"><div class=\"contnr c1 trm   \" ><div class=\"lbl c1 trm \" ><span class=\"nd\">stress</span> <span class=\"txtu cld\"><span class=\"plain   \" ><span class=\"txtu cld\">ʾíθ </span></span></span></div></div><div class=\"contnr c1 trm   \" ><div class=\"lbl c1 trm \" ><span class=\"nd\">stress</span> <span class=\"txtu cld\"><span class=\"plain   \" ><span class=\"txtu cld\">xa-</span><span class=\"txtu cld\">čòlˈ </span></span></span></div></div></div></div><div class=\"contnr c1    \" ><div class=\"lbl c1  \" ><span class=\"nd\">inton</span></div><div class=\"children hor  \"><div class=\"contnr c1 trm   \" ><div class=\"lbl c1 trm \" ><span class=\"nd\">stress</span> <span class=\"txtu cld\"><span class=\"plain   \" ><span class=\"txtu cld\">dàštaˈ </span></span></span></div></div></div></div><div class=\"contnr c1    \" ><div class=\"lbl c1  \" ><span class=\"nd\">inton</span></div><div class=\"children hor  \"><div class=\"contnr c1 trm   \" ><div class=\"lbl c1 trm \" ><span class=\"nd\">stress</span> <span class=\"txtu cld\"><span class=\"plain   \" ><span class=\"txtu cld\">rába </span></span></span></div></div><div class=\"contnr c1 trm   \" ><div class=\"lbl c1 trm \" ><span class=\"nd\">stress</span> <span class=\"txtu cld\"><span class=\"plain   \" ><span class=\"txtu cld\">gòṛta.ˈ <span class=\"speaker\">…Nanəs Bənyamən…</span></span></span></span></div></div></div></div></div></div></div></div></div>"
      ],
      "text/plain": [
       "<IPython.core.display.HTML object>"
      ]
     },
     "metadata": {},
     "output_type": "display_data"
    },
    {
     "data": {
      "text/html": [
       "<p><b>result</b> <i>2</i></p>"
      ],
      "text/plain": [
       "<IPython.core.display.HTML object>"
      ]
     },
     "metadata": {},
     "output_type": "display_data"
    },
    {
     "data": {
      "text/html": [
       "<div class=\"section \"><a target=\"_blank\" href=\"https://github.com/CambridgeSemiticsLab/nena_corpus/blob/master/nena/0.02/Barwar/Gozali and Nozali.nena\" title=\"Show this title in the NENA repository\" sec=\"Barwar, Gozali and Nozali, Ln. 29\">Barwar, Gozali and Nozali, Ln. 29</a></div><div class=\" children\"><div class=\"contnr c3    \" ><div class=\"lbl c3  \" ><span class=\"nd\">line</span></div><div class=\"children hor wrap \"><div class=\"contnr c2    \" ><div class=\"lbl c2  \" ><span class=\"nd\">sentence</span></div><div class=\"children hor wrap \"><div class=\"contnr c1    \" ><div class=\"lbl c1  \" ><span class=\"nd\">inton</span></div><div class=\"children hor  \"><div class=\"contnr c1 trm   \" ><div class=\"lbl c1 trm \" ><span class=\"nd\">stress</span> <span class=\"txtu cld\"><span class=\"plain   \" ><span class=\"txtu cld\"><span class=\"speaker\">…Nanəs Bənyamən…</span>ṭlá </span></span></span></div></div><div class=\"contnr c1 trm   \" ><div class=\"lbl c1 trm \" ><span class=\"nd\">stress</span> <span class=\"txtu cld\"><span class=\"plain   \" ><span class=\"txtu cld\">gáye </span></span></span></div></div><div class=\"contnr c1 trm   \" ><div class=\"lbl c1 trm \" ><span class=\"nd\">stress</span> <span class=\"txtu cld\"><span class=\"plain   \" ><span class=\"txtu cld\">b-</span><span class=\"txtu cld\">qarìtu,ˈ </span></span></span></div></div></div></div><div class=\"contnr c1    \" ><div class=\"lbl c1  \" ><span class=\"nd\">inton</span></div><div class=\"children hor  \"><div class=\"contnr c1 trm   \" ><div class=\"lbl c1 trm \" ><span class=\"nd\">stress</span> <span class=\"txtu cld\"><span class=\"plain   \" ><span class=\"txtu cld\">xaθmítu </span></span></span></div></div><div class=\"contnr c1 trm   \" ><div class=\"lbl c1 trm \" ><span class=\"nd\">stress</span> <span class=\"txtu cld\"><span class=\"plain   \" ><span class=\"txtu cld\">kèpa,ˈ </span></span></span></div></div></div></div><div class=\"contnr c1    \" ><div class=\"lbl c1  \" ><span class=\"nd\">inton</span></div><div class=\"children hor  \"><div class=\"contnr c1 trm   \" ><div class=\"lbl c1 trm \" ><span class=\"nd\">stress</span> <span class=\"txtu cld\"><span class=\"plain   \" ><span class=\"txtu cld\">pɛšítu </span></span></span></div></div><div class=\"contnr c1 trm   \" ><div class=\"lbl c1 trm \" ><span class=\"nd\">stress</span> <span class=\"txtu cld\"><span class=\"plain   \" ><span class=\"txtu cld\">kèpa,ˈ </span></span></span></div></div></div></div><div class=\"contnr c1    \" ><div class=\"lbl c1  \" ><span class=\"nd\">inton</span></div><div class=\"children hor  \"><div class=\"contnr c1 trm   \" ><div class=\"lbl c1 trm \" ><span class=\"nd\">stress</span> <span class=\"txtu cld\"><span class=\"plain   \" ><span class=\"txtu cld\">léš </span></span></span></div></div><div class=\"contnr c1 trm   \" ><div class=\"lbl c1 trm \" ><span class=\"nd\">stress</span> <span class=\"txtu cld\"><span class=\"plain   \" ><span class=\"txtu cld\">maṣítu </span></span></span></div></div><div class=\"contnr c1 trm   \" ><div class=\"lbl c1 trm \" ><span class=\"nd\">stress</span> <span class=\"txtu cld\"><span class=\"plain   \" ><span class=\"txtu cld\">jawjìtu.ˈ </span></span></span></div></div></div></div></div></div><div class=\"contnr c2    \" ><div class=\"lbl c2  \" ><span class=\"nd\">sentence</span></div><div class=\"children hor wrap \"><div class=\"contnr c1    \" ><div class=\"lbl c1  \" ><span class=\"nd\">inton</span></div><div class=\"children hor  \"><div class=\"contnr c1 trm   \" ><div class=\"lbl c1 trm \" ><span class=\"nd\">stress</span> <span class=\"txtu cld\"><span class=\"plain   \" ><span class=\"txtu cld\">ʾàxtu-</span><span class=\"txtu cld\">wˈ </span></span></span></div></div></div></div><div class=\"contnr c1    \" ><div class=\"lbl c1  \" ><span class=\"nd\">inton</span></div><div class=\"children hor  \"><div class=\"contnr c1 trm   \" ><div class=\"lbl c1 trm \" ><span class=\"nd\">stress</span> <span class=\"txtu cld\"><span class=\"plain   \" ><span class=\"txtu cld\">susɛ̀xu-</span><span class=\"txtu cld\">wˈ </span></span></span></div></div></div></div><div class=\"contnr c1    \" ><div class=\"lbl c1  \" ><span class=\"nd\">inton</span></div><div class=\"children hor  \"><div class=\"contnr c1 trm   \" ><div class=\"lbl c1 trm \" ><span class=\"nd\">stress</span> <span class=\"txtu cld\"><span class=\"plain   \" ><span class=\"txtu cld\">rumxɛ̀xu-</span><span class=\"txtu cld\">wˈ </span></span></span></div></div></div></div><div class=\"contnr c1    \" ><div class=\"lbl c1  \" ><span class=\"nd\">inton</span></div><div class=\"children hor  \"><div class=\"contnr c1 trm   \" ><div class=\"lbl c1 trm \" ><span class=\"nd\">stress</span> <span class=\"txtu cld\"><span class=\"plain   \" ><span class=\"txtu cld\">lwištɛ̀xu,ˈ </span></span></span></div></div></div></div><div class=\"contnr c1    \" ><div class=\"lbl c1  \" ><span class=\"nd\">inton</span></div><div class=\"children hor  \"><div class=\"contnr c1 trm   \" ><div class=\"lbl c1 trm \" ><span class=\"nd\">stress</span> <span class=\"txtu cld\"><span class=\"plain   \" ><span class=\"txtu cld\">pɛšítu </span></span></span></div></div><div class=\"contnr c1 trm   \" ><div class=\"lbl c1 trm \" ><span class=\"nd\">stress</span> <span class=\"txtu cld\"><span class=\"plain   \" ><span class=\"txtu cld\">kèpa </span></span></span></div></div><div class=\"contnr c1 trm   \" ><div class=\"lbl c1 trm \" ><span class=\"nd\">stress</span> <span class=\"txtu cld\"><span class=\"plain   \" ><span class=\"txtu cld\">táma.ˈ </span></span></span></div></div></div></div></div></div><div class=\"contnr c2    \" ><div class=\"lbl c2  \" ><span class=\"nd\">sentence</span></div><div class=\"children hor wrap \"><div class=\"contnr c1    \" ><div class=\"lbl c1  \" ><span class=\"nd\">inton</span></div><div class=\"children hor  \"><div class=\"contnr c1 trm   \" ><div class=\"lbl c1 trm \" ><span class=\"nd\">stress</span> <span class=\"txtu cld\"><span class=\"plain   \" ><span class=\"txtu cld\">w-</span><span class=\"txtu cld\">ə́n </span></span></span></div></div><div class=\"contnr c1 trm   \" ><div class=\"lbl c1 trm \" ><span class=\"nd\">stress</span> <span class=\"txtu cld\"><span class=\"plain   \" ><span class=\"txtu cld\">ʾáθya </span></span></span></div></div><div class=\"contnr c1 trm   \" ><div class=\"lbl c1 trm \" ><span class=\"nd\">stress</span> <span class=\"txtu cld\"><span class=\"plain   \" ><span class=\"txtu cld\">bə́lbəl </span></span></span></div></div><div class=\"contnr c1 trm   \" ><div class=\"lbl c1 trm \" ><span class=\"nd\">stress</span> <span class=\"txtu cld\"><span class=\"plain   \" ><span class=\"txtu cld\">hazàr,ˈ </span></span></span></div></div></div></div><div class=\"contnr c1    \" ><div class=\"lbl c1  \" ><span class=\"nd\">inton</span></div><div class=\"children hor  \"><div class=\"contnr c1 trm   \" ><div class=\"lbl c1 trm \" ><span class=\"nd\">stress</span> <span class=\"txtu cld\"><span class=\"plain   \" ><span class=\"txtu cld\">ṱ-</span><span class=\"txtu cld\">áθya </span></span></span></div></div><div class=\"contnr c1 trm   \" ><div class=\"lbl c1 trm \" ><span class=\"nd\">stress</span> <span class=\"txtu cld\"><span class=\"plain   \" ><span class=\"txtu cld\">ʾu-</span><span class=\"txtu cld\">mɛθìtula.ˈ </span></span></span></div></div></div></div></div></div><div class=\"contnr c2    \" ><div class=\"lbl c2  \" ><span class=\"nd\">sentence</span></div><div class=\"children hor wrap \"><div class=\"contnr c1    \" ><div class=\"lbl c1  \" ><span class=\"nd\">inton</span></div><div class=\"children hor  \"><div class=\"contnr c1 trm   \" ><div class=\"lbl c1 trm \" ><span class=\"nd\">stress</span> <span class=\"txtu cld\"><span class=\"plain   \" ><span class=\"txtu cld\">y-</span><span class=\"txtu cld\">ámri </span></span></span></div></div><div class=\"contnr c1 trm   \" ><div class=\"lbl c1 trm \" ><span class=\"nd\">stress</span> <span class=\"txtu cld\"><span class=\"plain   \" ><span class=\"plain   hlbx\" ><span class=\"txtu cld\">ok </span></span></span></span></div></div><div class=\"contnr c1 trm   \" ><div class=\"lbl c1 trm \" ><span class=\"nd\">stress</span> <span class=\"txtu cld\"><span class=\"plain   \" ><span class=\"txtu cld\">bắyəx </span></span></span></div></div><div class=\"contnr c1 trm   \" ><div class=\"lbl c1 trm \" ><span class=\"nd\">stress</span> <span class=\"txtu cld\"><span class=\"plain   \" ><span class=\"txtu cld\">ṱ-</span><span class=\"txtu cld\">àzəx.ˈ </span></span></span></div></div></div></div></div></div><div class=\"contnr c2    \" ><div class=\"lbl c2  \" ><span class=\"nd\">sentence</span></div><div class=\"children hor wrap \"><div class=\"contnr c1    \" ><div class=\"lbl c1  \" ><span class=\"nd\">inton</span></div><div class=\"children hor  \"><div class=\"contnr c1 trm   \" ><div class=\"lbl c1 trm \" ><span class=\"nd\">stress</span> <span class=\"txtu cld\"><span class=\"plain   \" ><span class=\"txtu cld\">ṱ-</span><span class=\"txtu cld\">awzítu </span></span></span></div></div><div class=\"contnr c1 trm   \" ><div class=\"lbl c1 trm \" ><span class=\"nd\">stress</span> <span class=\"txtu cld\"><span class=\"plain   \" ><span class=\"txtu cld\">də-</span><span class=\"txtu cld\">sò.ˈ </span></span></span></div></div></div></div></div></div><div class=\"contnr c2    \" ><div class=\"lbl c2  \" ><span class=\"nd\">sentence</span></div><div class=\"children hor wrap \"><div class=\"contnr c1    \" ><div class=\"lbl c1  \" ><span class=\"nd\">inton</span></div><div class=\"children hor  \"><div class=\"contnr c1 trm   \" ><div class=\"lbl c1 trm \" ><span class=\"nd\">stress</span> <span class=\"txtu cld\"><span class=\"plain   \" ><span class=\"txtu cld\">ʾálaha </span></span></span></div></div><div class=\"contnr c1 trm   \" ><div class=\"lbl c1 trm \" ><span class=\"nd\">stress</span> <span class=\"txtu cld\"><span class=\"plain   \" ><span class=\"txtu cld\">ṱ-</span><span class=\"txtu cld\">áwe </span></span></span></div></div><div class=\"contnr c1 trm   \" ><div class=\"lbl c1 trm \" ><span class=\"nd\">stress</span> <span class=\"txtu cld\"><span class=\"plain   \" ><span class=\"txtu cld\">mənnɛ̀xu.ˈ </span></span></span></div></div></div></div></div></div><div class=\"contnr c2    \" ><div class=\"lbl c2  \" ><span class=\"nd\">sentence</span></div><div class=\"children hor wrap \"><div class=\"contnr c1    \" ><div class=\"lbl c1  \" ><span class=\"nd\">inton</span></div><div class=\"children hor  \"><div class=\"contnr c1 trm   \" ><div class=\"lbl c1 trm \" ><span class=\"nd\">stress</span> <span class=\"txtu cld\"><span class=\"plain   \" ><span class=\"txtu cld\">damxíwa </span></span></span></div></div><div class=\"contnr c1 trm   \" ><div class=\"lbl c1 trm \" ><span class=\"nd\">stress</span> <span class=\"txtu cld\"><span class=\"plain   \" ><span class=\"txtu cld\">kə́sle </span></span></span></div></div><div class=\"contnr c1 trm   \" ><div class=\"lbl c1 trm \" ><span class=\"nd\">stress</span> <span class=\"txtu cld\"><span class=\"plain   \" ><span class=\"txtu cld\">dìyeˈ </span></span></span></div></div></div></div><div class=\"contnr c1    \" ><div class=\"lbl c1  \" ><span class=\"nd\">inton</span></div><div class=\"children hor  \"><div class=\"contnr c1 trm   \" ><div class=\"lbl c1 trm \" ><span class=\"nd\">stress</span> <span class=\"txtu cld\"><span class=\"plain   \" ><span class=\"txtu cld\">ʾo-</span><span class=\"txtu cld\">lɛ̀le.ˈ </span></span></span></div></div></div></div></div></div><div class=\"contnr c2    \" ><div class=\"lbl c2  \" ><span class=\"nd\">sentence</span></div><div class=\"children hor wrap \"><div class=\"contnr c1    \" ><div class=\"lbl c1  \" ><span class=\"nd\">inton</span></div><div class=\"children hor  \"><div class=\"contnr c1 trm   \" ><div class=\"lbl c1 trm \" ><span class=\"nd\">stress</span> <span class=\"txtu cld\"><span class=\"plain   \" ><span class=\"txtu cld\">qɛmíwa </span></span></span></div></div><div class=\"contnr c1 trm   \" ><div class=\"lbl c1 trm \" ><span class=\"nd\">stress</span> <span class=\"txtu cld\"><span class=\"plain   \" ><span class=\"txtu cld\">mbàdla.ˈ </span></span></span></div></div></div></div></div></div><div class=\"contnr c2    \" ><div class=\"lbl c2  \" ><span class=\"nd\">sentence</span></div><div class=\"children hor wrap \"><div class=\"contnr c1    \" ><div class=\"lbl c1  \" ><span class=\"nd\">inton</span></div><div class=\"children hor  \"><div class=\"contnr c1 trm   \" ><div class=\"lbl c1 trm \" ><span class=\"nd\">stress</span> <span class=\"txtu cld\"><span class=\"plain   \" ><span class=\"txtu cld\">y-</span><span class=\"txtu cld\">ámər </span></span></span></div></div><div class=\"contnr c1 trm   \" ><div class=\"lbl c1 trm \" ><span class=\"nd\">stress</span> <span class=\"txtu cld\"><span class=\"plain   \" ><span class=\"txtu cld\">ʾálaha </span></span></span></div></div><div class=\"contnr c1 trm   \" ><div class=\"lbl c1 trm \" ><span class=\"nd\">stress</span> <span class=\"txtu cld\"><span class=\"plain   \" ><span class=\"txtu cld\">ṱ-</span><span class=\"txtu cld\">áwe </span></span></span></div></div><div class=\"contnr c1 trm   \" ><div class=\"lbl c1 trm \" ><span class=\"nd\">stress</span> <span class=\"txtu cld\"><span class=\"plain   \" ><span class=\"txtu cld\">mənnɛ̀xuˈ </span></span></span></div></div></div></div><div class=\"contnr c1    \" ><div class=\"lbl c1  \" ><span class=\"nd\">inton</span></div><div class=\"children hor  \"><div class=\"contnr c1 trm   \" ><div class=\"lbl c1 trm \" ><span class=\"nd\">stress</span> <span class=\"txtu cld\"><span class=\"plain   \" ><span class=\"txtu cld\">ʾu-</span><span class=\"txtu cld\">sò!ˈ </span></span></span></div></div></div></div></div></div><div class=\"contnr c2    \" ><div class=\"lbl c2  \" ><span class=\"nd\">sentence</span></div><div class=\"children hor wrap \"><div class=\"contnr c1    \" ><div class=\"lbl c1  \" ><span class=\"nd\">inton</span></div><div class=\"children hor  \"><div class=\"contnr c1 trm   \" ><div class=\"lbl c1 trm \" ><span class=\"nd\">stress</span> <span class=\"txtu cld\"><span class=\"plain   \" ><span class=\"txtu cld\">y-</span><span class=\"txtu cld\">azìwa.ˈ<span class=\"speaker\">…Nanəs Bənyamən…</span></span></span></span></div></div></div></div></div></div></div></div></div>"
      ],
      "text/plain": [
       "<IPython.core.display.HTML object>"
      ]
     },
     "metadata": {},
     "output_type": "display_data"
    },
    {
     "data": {
      "text/html": [
       "<p><b>result</b> <i>3</i></p>"
      ],
      "text/plain": [
       "<IPython.core.display.HTML object>"
      ]
     },
     "metadata": {},
     "output_type": "display_data"
    },
    {
     "data": {
      "text/html": [
       "<div class=\"section \"><a target=\"_blank\" href=\"https://github.com/CambridgeSemiticsLab/nena_corpus/blob/master/nena/0.02/Barwar/Gozali and Nozali.nena\" title=\"Show this title in the NENA repository\" sec=\"Barwar, Gozali and Nozali, Ln. 96\">Barwar, Gozali and Nozali, Ln. 96</a></div><div class=\" children\"><div class=\"contnr c3    \" ><div class=\"lbl c3  \" ><span class=\"nd\">line</span></div><div class=\"children hor wrap \"><div class=\"contnr c2    \" ><div class=\"lbl c2  \" ><span class=\"nd\">sentence</span></div><div class=\"children hor wrap \"><div class=\"contnr c1    \" ><div class=\"lbl c1  \" ><span class=\"nd\">inton</span></div><div class=\"children hor  \"><div class=\"contnr c1 trm   \" ><div class=\"lbl c1 trm \" ><span class=\"nd\">stress</span> <span class=\"txtu cld\"><span class=\"plain   \" ><span class=\"txtu cld\"><span class=\"speaker\">…Nanəs Bənyamən…</span>gu-</span><span class=\"txtu cld\">d-</span><span class=\"txtu cld\">áwwa </span></span></span></div></div><div class=\"contnr c1 trm   \" ><div class=\"lbl c1 trm \" ><span class=\"nd\">stress</span> <span class=\"txtu cld\"><span class=\"plain   \" ><span class=\"txtu cld\">bɛ́θux </span></span></span></div></div><div class=\"contnr c1 trm   \" ><div class=\"lbl c1 trm \" ><span class=\"nd\">stress</span> <span class=\"txtu cld\"><span class=\"plain   \" ><span class=\"txtu cld\">ṱ-</span><span class=\"txtu cld\">àwaˈ </span></span></span></div></div></div></div><div class=\"contnr c1    \" ><div class=\"lbl c1  \" ><span class=\"nd\">inton</span></div><div class=\"children hor  \"><div class=\"contnr c1 trm   \" ><div class=\"lbl c1 trm \" ><span class=\"nd\">stress</span> <span class=\"txtu cld\"><span class=\"plain   \" ><span class=\"txtu cld\">ʾu-</span><span class=\"txtu cld\">ʾáni </span></span></span></div></div><div class=\"contnr c1 trm   \" ><div class=\"lbl c1 trm \" ><span class=\"nd\">stress</span> <span class=\"txtu cld\"><span class=\"plain   \" ><span class=\"txtu cld\">pɛ́ši </span></span></span></div></div><div class=\"contnr c1 trm   \" ><div class=\"lbl c1 trm \" ><span class=\"nd\">stress</span> <span class=\"txtu cld\"><span class=\"plain   \" ><span class=\"txtu cld\">màlke.ˈ </span></span></span></div></div></div></div></div></div><div class=\"contnr c2    \" ><div class=\"lbl c2  \" ><span class=\"nd\">sentence</span></div><div class=\"children hor wrap \"><div class=\"contnr c1    \" ><div class=\"lbl c1  \" ><span class=\"nd\">inton</span></div><div class=\"children hor  \"><div class=\"contnr c1 trm   \" ><div class=\"lbl c1 trm \" ><span class=\"nd\">stress</span> <span class=\"txtu cld\"><span class=\"plain   \" ><span class=\"txtu cld\">mən-</span><span class=\"txtu cld\">ʾə̀dyoˈ </span></span></span></div></div></div></div><div class=\"contnr c1    \" ><div class=\"lbl c1  \" ><span class=\"nd\">inton</span></div><div class=\"children hor  \"><div class=\"contnr c1 trm   \" ><div class=\"lbl c1 trm \" ><span class=\"nd\">stress</span> <span class=\"txtu cld\"><span class=\"plain   \" ><span class=\"txtu cld\">malkùθaˈ </span></span></span></div></div></div></div><div class=\"contnr c1    \" ><div class=\"lbl c1  \" ><span class=\"nd\">inton</span></div><div class=\"children hor  \"><div class=\"contnr c1 trm   \" ><div class=\"lbl c1 trm \" ><span class=\"nd\">stress</span> <span class=\"txtu cld\"><span class=\"plain   \" ><span class=\"txtu cld\">m-</span><span class=\"txtu cld\">bnónux </span></span></span></div></div><div class=\"contnr c1 trm   \" ><div class=\"lbl c1 trm \" ><span class=\"nd\">stress</span> <span class=\"txtu cld\"><span class=\"plain   \" ><span class=\"txtu cld\">qằṭa.ˈ </span></span></span></div></div></div></div></div></div><div class=\"contnr c2    \" ><div class=\"lbl c2  \" ><span class=\"nd\">sentence</span></div><div class=\"children hor wrap \"><div class=\"contnr c1    \" ><div class=\"lbl c1  \" ><span class=\"nd\">inton</span></div><div class=\"children hor  \"><div class=\"contnr c1 trm   \" ><div class=\"lbl c1 trm \" ><span class=\"nd\">stress</span> <span class=\"txtu cld\"><span class=\"plain   \" ><span class=\"txtu cld\">páyəš </span></span></span></div></div><div class=\"contnr c1 trm   \" ><div class=\"lbl c1 trm \" ><span class=\"nd\">stress</span> <span class=\"txtu cld\"><span class=\"plain   \" ><span class=\"txtu cld\">gozáli </span></span></span></div></div><div class=\"contnr c1 trm   \" ><div class=\"lbl c1 trm \" ><span class=\"nd\">stress</span> <span class=\"txtu cld\"><span class=\"plain   \" ><span class=\"txtu cld\">màlka,ˈ </span></span></span></div></div></div></div><div class=\"contnr c1    \" ><div class=\"lbl c1  \" ><span class=\"nd\">inton</span></div><div class=\"children hor  \"><div class=\"contnr c1 trm   \" ><div class=\"lbl c1 trm \" ><span class=\"nd\">stress</span> <span class=\"txtu cld\"><span class=\"plain   \" ><span class=\"txtu cld\">ʾu-</span><span class=\"txtu cld\">bə́lbəl </span></span></span></div></div><div class=\"contnr c1 trm   \" ><div class=\"lbl c1 trm \" ><span class=\"nd\">stress</span> <span class=\"txtu cld\"><span class=\"plain   \" ><span class=\"txtu cld\">hazár </span></span></span></div></div><div class=\"contnr c1 trm   \" ><div class=\"lbl c1 trm \" ><span class=\"nd\">stress</span> <span class=\"txtu cld\"><span class=\"plain   \" ><span class=\"txtu cld\">báxte </span></span></span></div></div><div class=\"contnr c1 trm   \" ><div class=\"lbl c1 trm \" ><span class=\"nd\">stress</span> <span class=\"txtu cld\"><span class=\"plain   \" ><span class=\"txtu cld\">dìye,ˈ </span></span></span></div></div></div></div><div class=\"contnr c1    \" ><div class=\"lbl c1  \" ><span class=\"nd\">inton</span></div><div class=\"children hor  \"><div class=\"contnr c1 trm   \" ><div class=\"lbl c1 trm \" ><span class=\"nd\">stress</span> <span class=\"txtu cld\"><span class=\"plain   \" ><span class=\"txtu cld\">ʾu-</span><span class=\"txtu cld\">xáθe </span></span></span></div></div><div class=\"contnr c1 trm   \" ><div class=\"lbl c1 trm \" ><span class=\"nd\">stress</span> <span class=\"txtu cld\"><span class=\"plain   \" ><span class=\"txtu cld\">díye </span></span></span></div></div><div class=\"contnr c1 trm   \" ><div class=\"lbl c1 trm \" ><span class=\"nd\">stress</span> <span class=\"txtu cld\"><span class=\"plain   \" ><span class=\"plain   hlbx\" ><span class=\"txtu cld\">princess </span></span></span></span></div></div><div class=\"contnr c1 trm   \" ><div class=\"lbl c1 trm \" ><span class=\"nd\">stress</span> <span class=\"txtu cld\"><span class=\"plain   \" ><span class=\"txtu cld\">ṱ-</span><span class=\"txtu cld\">óya,ˈ </span></span></span></div></div></div></div><div class=\"contnr c1    \" ><div class=\"lbl c1  \" ><span class=\"nd\">inton</span></div><div class=\"children hor  \"><div class=\"contnr c1 trm   \" ><div class=\"lbl c1 trm \" ><span class=\"nd\">stress</span> <span class=\"txtu cld\"><span class=\"plain   \" ><span class=\"txtu cld\">yáʿni </span></span></span></div></div><div class=\"contnr c1 trm   \" ><div class=\"lbl c1 trm \" ><span class=\"nd\">stress</span> <span class=\"txtu cld\"><span class=\"plain   \" ><span class=\"txtu cld\">hátxa </span></span></span></div></div><div class=\"contnr c1 trm   \" ><div class=\"lbl c1 trm \" ><span class=\"nd\">stress</span> <span class=\"txtu cld\"><span class=\"plain   \" ><span class=\"txtu cld\">xá </span></span></span></div></div><div class=\"contnr c1 trm   \" ><div class=\"lbl c1 trm \" ><span class=\"nd\">stress</span> <span class=\"txtu cld\"><span class=\"plain   \" ><span class=\"txtu cld\">šazátta </span></span></span></div></div><div class=\"contnr c1 trm   \" ><div class=\"lbl c1 trm \" ><span class=\"nd\">stress</span> <span class=\"txtu cld\"><span class=\"plain   \" ><span class=\"txtu cld\">gu-</span><span class=\"txtu cld\">bɛ́θa </span></span></span></div></div><div class=\"contnr c1 trm   \" ><div class=\"lbl c1 trm \" ><span class=\"nd\">stress</span> <span class=\"txtu cld\"><span class=\"plain   \" ><span class=\"txtu cld\">ʾap-</span><span class=\"txtu cld\">ày.ˈ </span></span></span></div></div></div></div></div></div><div class=\"contnr c2    \" ><div class=\"lbl c2  \" ><span class=\"nd\">sentence</span></div><div class=\"children hor wrap \"><div class=\"contnr c1    \" ><div class=\"lbl c1  \" ><span class=\"nd\">inton</span></div><div class=\"children hor  \"><div class=\"contnr c1 trm   \" ><div class=\"lbl c1 trm \" ><span class=\"nd\">stress</span> <span class=\"txtu cld\"><span class=\"plain   \" ><span class=\"txtu cld\">yáʿni </span></span></span></div></div><div class=\"contnr c1 trm   \" ><div class=\"lbl c1 trm \" ><span class=\"nd\">stress</span> <span class=\"txtu cld\"><span class=\"plain   \" ><span class=\"txtu cld\">ʾu-</span><span class=\"txtu cld\">xzi </span></span></span></div></div><div class=\"contnr c1 trm   \" ><div class=\"lbl c1 trm \" ><span class=\"nd\">stress</span> <span class=\"txtu cld\"><span class=\"plain   \" ><span class=\"txtu cld\">màṭo </span></span></span></div></div><div class=\"contnr c1 trm   \" ><div class=\"lbl c1 trm \" ><span class=\"nd\">stress</span> <span class=\"txtu cld\"><span class=\"plain   \" ><span class=\"txtu cld\">ṱ-</span><span class=\"txtu cld\">óya.ˈ </span></span></span></div></div></div></div></div></div><div class=\"contnr c2    \" ><div class=\"lbl c2  \" ><span class=\"nd\">sentence</span></div><div class=\"children hor wrap \"><div class=\"contnr c1    \" ><div class=\"lbl c1  \" ><span class=\"nd\">inton</span></div><div class=\"children hor  \"><div class=\"contnr c1 trm   \" ><div class=\"lbl c1 trm \" ><span class=\"nd\">stress</span> <span class=\"txtu cld\"><span class=\"plain   \" ><span class=\"txtu cld\">hèˈ </span></span></span></div></div></div></div><div class=\"contnr c1    \" ><div class=\"lbl c1  \" ><span class=\"nd\">inton</span></div><div class=\"children hor  \"><div class=\"contnr c1 trm   \" ><div class=\"lbl c1 trm \" ><span class=\"nd\">stress</span> <span class=\"txtu cld\"><span class=\"plain   \" ><span class=\"txtu cld\">xèna-</span><span class=\"txtu cld\">wˈ </span></span></span></div></div></div></div><div class=\"contnr c1    \" ><div class=\"lbl c1  \" ><span class=\"nd\">inton</span></div><div class=\"children hor  \"><div class=\"contnr c1 trm   \" ><div class=\"lbl c1 trm \" ><span class=\"nd\">stress</span> <span class=\"txtu cld\"><span class=\"plain   \" ><span class=\"txtu cld\">píšɛle </span></span></span></div></div><div class=\"contnr c1 trm   \" ><div class=\"lbl c1 trm \" ><span class=\"nd\">stress</span> <span class=\"txtu cld\"><span class=\"plain   \" ><span class=\"txtu cld\">xo-</span><span class=\"txtu cld\">ʾámr </span></span></span></div></div><div class=\"contnr c1 trm   \" ><div class=\"lbl c1 trm \" ><span class=\"nd\">stress</span> <span class=\"txtu cld\"><span class=\"plain   \" ><span class=\"txtu cld\">al-</span><span class=\"txtu cld\">wàqəʿˈ </span></span></span></div></div></div></div><div class=\"contnr c1    \" ><div class=\"lbl c1  \" ><span class=\"nd\">inton</span></div><div class=\"children hor  \"><div class=\"contnr c1 trm   \" ><div class=\"lbl c1 trm \" ><span class=\"nd\">stress</span> <span class=\"txtu cld\"><span class=\"plain   \" ><span class=\"txtu cld\">mo-</span><span class=\"txtu cld\">ṱ-</span><span class=\"txtu cld\">àwəð?ˈ </span></span></span></div></div></div></div></div></div><div class=\"contnr c2    \" ><div class=\"lbl c2  \" ><span class=\"nd\">sentence</span></div><div class=\"children hor wrap \"><div class=\"contnr c1    \" ><div class=\"lbl c1  \" ><span class=\"nd\">inton</span></div><div class=\"children hor  \"><div class=\"contnr c1 trm   \" ><div class=\"lbl c1 trm \" ><span class=\"nd\">stress</span> <span class=\"txtu cld\"><span class=\"plain   \" ><span class=\"txtu cld\">léš-</span><span class=\"txtu cld\">ile </span></span></span></div></div><div class=\"contnr c1 trm   \" ><div class=\"lbl c1 trm \" ><span class=\"nd\">stress</span> <span class=\"txtu cld\"><span class=\"plain   \" ><span class=\"txtu cld\">mə̀ṣya.ˈ <span class=\"speaker\">…Nanəs Bənyamən…</span></span></span></span></div></div></div></div></div></div></div></div></div>"
      ],
      "text/plain": [
       "<IPython.core.display.HTML object>"
      ]
     },
     "metadata": {},
     "output_type": "display_data"
    }
   ],
   "source": [
    "A.show(results, fmt=\"layout-orig-full\", start=1, end=3)"
   ]
  },
  {
   "cell_type": "markdown",
   "metadata": {},
   "source": [
    "As you see, you have total control."
   ]
  },
  {
   "cell_type": "markdown",
   "metadata": {},
   "source": [
    "---\n",
    "\n",
    "All chapters:\n",
    "\n",
    "* **[start](start.ipynb)** become an expert in creating pretty displays of your text structures\n",
    "* **[display](display.ipynb)** become an expert in creating pretty displays of your text structures\n",
    "* **search** turbo charge your hand-coding with search templates\n",
    "* **[exportExcel](exportExcel.ipynb)** make tailor-made spreadsheets out of your results\n",
    "* **[share](share.ipynb)** draw in other people's data and let them use yours\n",
    "* **[similarLines](similarLines.ipynb)** spot the similarities between lines\n",
    "\n",
    "---\n",
    "\n",
    "See the [cookbook](cookbook) for recipes for small, concrete tasks.\n",
    "\n",
    "CC-BY Dirk Roorda"
   ]
  }
 ],
 "metadata": {
  "kernelspec": {
   "display_name": "Python 3",
   "language": "python",
   "name": "python3"
  },
  "language_info": {
   "codemirror_mode": {
    "name": "ipython",
    "version": 3
   },
   "file_extension": ".py",
   "mimetype": "text/x-python",
   "name": "python",
   "nbconvert_exporter": "python",
   "pygments_lexer": "ipython3",
   "version": "3.7.7"
  }
 },
 "nbformat": 4,
 "nbformat_minor": 4
}
