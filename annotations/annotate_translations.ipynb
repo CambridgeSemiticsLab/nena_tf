{
 "cells": [
  {
   "cell_type": "markdown",
   "metadata": {},
   "source": [
    "# Translation Annotations\n",
    "\n",
    "In this notebook we export a spreadsheet for annotating lines with translations."
   ]
  },
  {
   "cell_type": "code",
   "execution_count": 32,
   "metadata": {},
   "outputs": [
    {
     "name": "stdout",
     "output_type": "stream",
     "text": [
      "This is Text-Fabric 7.9.0\n",
      "Api reference : https://annotation.github.io/text-fabric/Api/Fabric/\n",
      "\n",
      "25 features found and 0 ignored\n",
      "  0.00s loading features ...\n",
      "   |     0.00s No structure info in otext, the structure part of the T-API cannot be used\n",
      "  2.34s All features loaded/computed - for details use loadLog()\n",
      "  0.00s loading features ...\n",
      "  0.04s All additional features loaded - for details use loadLog()\n"
     ]
    }
   ],
   "source": [
    "import collections, csv\n",
    "from operator import attrgetter\n",
    "from tf.fabric import Fabric\n",
    "TF = Fabric(locations='../tf/0.01/')\n",
    "api = TF.loadAll()\n",
    "F, T, L = api.F, api.T, api.L"
   ]
  },
  {
   "cell_type": "code",
   "execution_count": 73,
   "metadata": {},
   "outputs": [],
   "source": [
    "data = []\n",
    "\n",
    "for text in F.otype.s('text'):\n",
    "    dialect = L.u(text,'dialect')[0]\n",
    "    dialect = F.dialect.v(dialect)\n",
    "    title = F.title.v(text)\n",
    "    text_id = F.text_id.v(text)\n",
    "    if not text_id:\n",
    "        cont = F.continued_from.v(text)\n",
    "        cont_text = T.nodeFromSection((dialect, cont))\n",
    "        text_id = F.text_id.v(cont_text)\n",
    "    for line in L.d(text,'line'):\n",
    "        data.append({\n",
    "            'node': line,\n",
    "            'dialect': dialect,\n",
    "            'title': title,\n",
    "            'text_id': text_id,\n",
    "            'line': F.number.v(line),\n",
    "            'text': T.text(line),\n",
    "            'translation': '',\n",
    "        })\n",
    "        \n",
    "data = sorted(data, key=lambda k: (k['dialect'], k['text_id'][0], int(k['text_id'][1:]), k['title']))"
   ]
  },
  {
   "cell_type": "code",
   "execution_count": 74,
   "metadata": {},
   "outputs": [
    {
     "data": {
      "text/plain": [
       "2544"
      ]
     },
     "execution_count": 74,
     "metadata": {},
     "output_type": "execute_result"
    }
   ],
   "source": [
    "len(data)"
   ]
  },
  {
   "cell_type": "code",
   "execution_count": 75,
   "metadata": {},
   "outputs": [
    {
     "data": {
      "text/plain": [
       "[{'node': 576762,\n",
       "  'dialect': 'Barwar',\n",
       "  'title': 'The Wise Snake',\n",
       "  'text_id': 'A1',\n",
       "  'line': 1,\n",
       "  'text': 'ʾána ʾíwən Yúwəl Yuḥànnaˈ ʾÌsḥaqˈ t-máθət Dùre,ˈ t-Bɛ̀rwər.ˈ ʾáyya hóla θàya,ˈ hóla màra:ˈ',\n",
       "  'translation': ''}]"
      ]
     },
     "execution_count": 75,
     "metadata": {},
     "output_type": "execute_result"
    }
   ],
   "source": [
    "data[:1]"
   ]
  },
  {
   "cell_type": "code",
   "execution_count": 76,
   "metadata": {},
   "outputs": [],
   "source": [
    "with open('annotate_translations.tsv', 'w', encoding='UTF16') as outfile:\n",
    "    writer = csv.DictWriter(outfile, fieldnames=data[0].keys(), delimiter='\\t')\n",
    "    writer.writeheader()\n",
    "    writer.writerows(data)"
   ]
  },
  {
   "cell_type": "code",
   "execution_count": null,
   "metadata": {},
   "outputs": [],
   "source": []
  }
 ],
 "metadata": {
  "kernelspec": {
   "display_name": "Python 3",
   "language": "python",
   "name": "python3"
  },
  "language_info": {
   "codemirror_mode": {
    "name": "ipython",
    "version": 3
   },
   "file_extension": ".py",
   "mimetype": "text/x-python",
   "name": "python",
   "nbconvert_exporter": "python",
   "pygments_lexer": "ipython3",
   "version": "3.8.0"
  }
 },
 "nbformat": 4,
 "nbformat_minor": 4
}
