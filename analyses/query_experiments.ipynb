{
 "cells": [
  {
   "cell_type": "markdown",
   "metadata": {},
   "source": [
    "Viewing on Github? View this notebook in [Jupyter Notebook Viewer](https://nbviewer.jupyter.org/github/CambridgeSemiticsLab/nena_corpus/blob/master/analyses/query_experiments.ipynb) for pretty HTML rendering.\n",
    "\n",
    "# Query Experiments\n",
    "\n",
    "This notebook will explore the new NENA corpus using the proto-type TF resource and the corresponding TF NENA app. A key objective is to test morphology querying against the `utf8`, `trans_full`, and `trans_lite` features. These are features stored on char, morpheme, and word objects in the database."
   ]
  },
  {
   "cell_type": "code",
   "execution_count": 1,
   "metadata": {},
   "outputs": [],
   "source": [
    "import collections\n",
    "import re\n",
    "from tf.app import use # Text-Fabric app for corpus interactions and querying"
   ]
  },
  {
   "cell_type": "markdown",
   "metadata": {},
   "source": [
    "## Invoke the TF app\n",
    "\n",
    "Text-Fabric provides a simple interface for calling forth the dataset, via an \"app.\" An app makes available a full TF api that can be used to navigate the corpus. It also provides visual representations of the corpus objects in the form of HTML that is inserted into the IPython display. \n",
    "\n",
    "We import the NENA corpus now by invoking the tf.app interface. Note that with the app, feature loading is automatic—there is no need to explicitly load features as they are loaded as needed."
   ]
  },
  {
   "cell_type": "code",
   "execution_count": 4,
   "metadata": {},
   "outputs": [
    {
     "name": "stdout",
     "output_type": "stream",
     "text": [
      "\tconnecting to online GitHub repo annotation/app-nena ... connected\n",
      "Using TF-app in /Users/cody/text-fabric-data/annotation/app-nena/code:\n",
      "\t#15587f6e3312fe697482a3177c36afe84247148b (latest commit)\n",
      "\tconnecting to online GitHub repo CambridgeSemiticsLab/nena_corpus ... connected\n",
      "\tno releases\n",
      "Using data in /Users/cody/text-fabric-data/CambridgeSemiticsLab/nena_corpus/tf:\n",
      "\t#389f5989770bd8a38fcd0b2a5d803c7ac9e13429 (latest commit)\n",
      "   |     0.00s No structure info in otext, the structure part of the T-API cannot be used\n"
     ]
    },
    {
     "data": {
      "text/html": [
       "<b>Documentation:</b> <a target=\"_blank\" href=\"https://github.com/CambridgeSemiticsLab/nena_corpus/blob/master/docs\" title=\"provenance of Northeastern Neo-Aramaic Text Corpus\">NENA_CORPUS</a> <a target=\"_blank\" href=\"https://github.com/CambridgeSemiticsLab/nena_corpus/blob/master/docs/transcription.md\" title=\"('NENA transcription script',)\">Character table</a> <a target=\"_blank\" href=\"https://github.com/CambridgeSemiticsLab/nena_corpus/blob/master/docs/features.md#features.md\" title=\"NENA_CORPUS feature documentation\">Feature docs</a> <a target=\"_blank\" href=\"https://github.com/annotation/app-nena\" title=\"nena API documentation\">nena API</a> <a target=\"_blank\" href=\"https://annotation.github.io/text-fabric/Api/Fabric/\" title=\"text-fabric-api\">Text-Fabric API 7.8.5</a> <a target=\"_blank\" href=\"https://annotation.github.io/text-fabric/Use/Search/\" title=\"Search Templates Introduction and Reference\">Search Reference</a><details open><summary><b>Loaded features</b>:</summary>\n",
       "<p><b>Northeastern Neo-Aramaic Text Corpus</b>: <a target=\"_blank\" href=\"https://github.com/CambridgeSemiticsLab/nena_corpus/blob/master/docs/features.md#dialect\" title=\"/Users/cody/text-fabric-data/CambridgeSemiticsLab/nena_corpus/tf//dialect.tf\">dialect</a>  <a target=\"_blank\" href=\"https://github.com/CambridgeSemiticsLab/nena_corpus/blob/master/docs/features.md#filename\" title=\"/Users/cody/text-fabric-data/CambridgeSemiticsLab/nena_corpus/tf//filename.tf\">filename</a>  <a target=\"_blank\" href=\"https://github.com/CambridgeSemiticsLab/nena_corpus/blob/master/docs/features.md#informant\" title=\"/Users/cody/text-fabric-data/CambridgeSemiticsLab/nena_corpus/tf//informant.tf\">informant</a>  <a target=\"_blank\" href=\"https://github.com/CambridgeSemiticsLab/nena_corpus/blob/master/docs/features.md#language\" title=\"/Users/cody/text-fabric-data/CambridgeSemiticsLab/nena_corpus/tf//language.tf\">language</a>  <a target=\"_blank\" href=\"https://github.com/CambridgeSemiticsLab/nena_corpus/blob/master/docs/features.md#line\" title=\"/Users/cody/text-fabric-data/CambridgeSemiticsLab/nena_corpus/tf//line.tf\">line</a>  <a target=\"_blank\" href=\"https://github.com/CambridgeSemiticsLab/nena_corpus/blob/master/docs/features.md#otype\" title=\"/Users/cody/text-fabric-data/CambridgeSemiticsLab/nena_corpus/tf//otype.tf\">otype</a>  <a target=\"_blank\" href=\"https://github.com/CambridgeSemiticsLab/nena_corpus/blob/master/docs/features.md#place\" title=\"/Users/cody/text-fabric-data/CambridgeSemiticsLab/nena_corpus/tf//place.tf\">place</a>  <a target=\"_blank\" href=\"https://github.com/CambridgeSemiticsLab/nena_corpus/blob/master/docs/features.md#text_id\" title=\"/Users/cody/text-fabric-data/CambridgeSemiticsLab/nena_corpus/tf//text_id.tf\">text_id</a>  <a target=\"_blank\" href=\"https://github.com/CambridgeSemiticsLab/nena_corpus/blob/master/docs/features.md#title\" title=\"/Users/cody/text-fabric-data/CambridgeSemiticsLab/nena_corpus/tf//title.tf\">title</a>  <a target=\"_blank\" href=\"https://github.com/CambridgeSemiticsLab/nena_corpus/blob/master/docs/features.md#trailer\" title=\"/Users/cody/text-fabric-data/CambridgeSemiticsLab/nena_corpus/tf//trailer.tf\">trailer</a>  <a target=\"_blank\" href=\"https://github.com/CambridgeSemiticsLab/nena_corpus/blob/master/docs/features.md#trans_full\" title=\"/Users/cody/text-fabric-data/CambridgeSemiticsLab/nena_corpus/tf//trans_full.tf\">trans_full</a>  <a target=\"_blank\" href=\"https://github.com/CambridgeSemiticsLab/nena_corpus/blob/master/docs/features.md#trans_lite\" title=\"/Users/cody/text-fabric-data/CambridgeSemiticsLab/nena_corpus/tf//trans_lite.tf\">trans_lite</a>  <a target=\"_blank\" href=\"https://github.com/CambridgeSemiticsLab/nena_corpus/blob/master/docs/features.md#utf8\" title=\"/Users/cody/text-fabric-data/CambridgeSemiticsLab/nena_corpus/tf//utf8.tf\">utf8</a>  <b><i><a target=\"_blank\" href=\"https://github.com/CambridgeSemiticsLab/nena_corpus/blob/master/docs/features.md#oslots\" title=\"/Users/cody/text-fabric-data/CambridgeSemiticsLab/nena_corpus/tf//oslots.tf\">oslots</a></i></b> </p></details>"
      ],
      "text/plain": [
       "<IPython.core.display.HTML object>"
      ]
     },
     "metadata": {},
     "output_type": "display_data"
    },
    {
     "data": {
      "text/html": [
       "<style>\n",
       "@font-face {\n",
       "  font-family: \"CharisSIL-R\";\n",
       "  src:\n",
       "    local(\"CharisSIL-R.otf\"),\n",
       "    url(\"https://github.com/annotation/text-fabric/blob/master/tf/server/static/fonts/CharisSIL-R.woff?raw=true\");\n",
       "}\n",
       ".features {\n",
       "    font-family: monospace;\n",
       "    font-size: medium;\n",
       "    font-weight: normal;\n",
       "    color: #000000;\n",
       "    display: flex;\n",
       "    flex-flow: column nowrap;\n",
       "    padding: 0.1em;\n",
       "    margin: 0.1em;\n",
       "    direction: ltr;\n",
       "}\n",
       ".features div,.features span {\n",
       "    padding: 0;\n",
       "    margin: -0.1rem 0;\n",
       "}\n",
       ".features .f {\n",
       "    font-family: sans-serif;\n",
       "    font-size: x-small;\n",
       "    font-weight: normal;\n",
       "    color: #5555bb;\n",
       "}\n",
       ".features .xft {\n",
       "  color: #000000;\n",
       "  background-color: #eeeeee;\n",
       "  font-size: medium;\n",
       "  margin: 0.1em 0em;\n",
       "}\n",
       ".features .xft .f {\n",
       "  color: #000000;\n",
       "  background-color: #eeeeee;\n",
       "  font-style: italic;\n",
       "  font-size: small;\n",
       "  font-weight: normal;\n",
       "}\n",
       "\n",
       ".ll {\n",
       "    display: flex;\n",
       "    flex-flow: column nowrap;\n",
       "    justify-content: flex-end;\n",
       "    align-items: flex-end;\n",
       "    direction: ltr;\n",
       "    width: 100%;\n",
       "}\n",
       "\n",
       ".outeritem {\n",
       "    display: flex;\n",
       "    flex-flow: row wrap;\n",
       "    direction: ltr;\n",
       "}\n",
       "\n",
       ".word,.micro,.macro {\n",
       "    border: 1px solid #4f4c4c;\n",
       "    border-radius: 0.2em;\n",
       "    border-spacing: 5px;\n",
       "    padding: 0.1em;\n",
       "    margin: 0.4em;\n",
       "    display: flex;\n",
       "    flex-flow: row wrap;\n",
       "    direction: ltr;\n",
       "    background-color: #ffffff;\n",
       "}\n",
       "\n",
       ".prosa {\n",
       "    border: 1.5px dotted #4f4c4c;\n",
       "    border-radius: 0.2em;\n",
       "    padding: 0.1em;\n",
       "    margin: 0.4em;\n",
       "    border-color: #a30404;\n",
       "    display: flex;\n",
       "    flex-flow: row wrap;\n",
       "    direction: ltr;\n",
       "    background-color: #ffffff;\n",
       "}\n",
       "\n",
       "\n",
       ".line {\n",
       "    display: flex;\n",
       "    flex-flow: row wrap;\n",
       "    direction: ltr;\n",
       "}\n",
       "\n",
       ".ln {\n",
       "  font-size: small !important;\n",
       "  padding-right: 1em;\n",
       "}\n",
       "\n",
       ".nd {\n",
       "    font-family: monospace;\n",
       "    font-size: x-small;\n",
       "    color: #999999;\n",
       "}\n",
       "\n",
       ".hl {\n",
       "    background-color: #ffee66;\n",
       "}\n",
       "\n",
       ".ara,.ara a:visited,.ara a:link {\n",
       "    font-family: \"CharisSIL-R\";\n",
       "    font-size: 12pt;\n",
       "    color: #000000;\n",
       "    direction: ltr;\n",
       "    text-decoration: none;\n",
       "}\n",
       "\n",
       "/* What do the following classes do? */\n",
       "\n",
       ".tr,.tr a:visited,.tr a:link {\n",
       "    font-family: sans-serif;\n",
       "    font-size: large;\n",
       "    color: #000044;\n",
       "    direction: ltr;\n",
       "    text-decoration: none;\n",
       "}\n",
       ".trb,.trb a:visited,.trb a:link {\n",
       "    font-family: sans-serif;\n",
       "    font-size: normal;\n",
       "    direction: ltr;\n",
       "    text-decoration: none;\n",
       "}\n",
       "\n",
       ".occs {\n",
       "    font-size: x-small;\n",
       "}\n",
       "tr.tf, td.tf, th.tf {\n",
       "  text-align: left;\n",
       "}\n",
       "\n",
       "span.hldot {\n",
       "\tbackground-color: var(--hl-strong);\n",
       "\tborder: 0.2rem solid var(--hl-rim);\n",
       "\tborder-radius: 0.4rem;\n",
       "\t/*\n",
       "\tdisplay: inline-block;\n",
       "\twidth: 0.8rem;\n",
       "\theight: 0.8rem;\n",
       "\t*/\n",
       "}\n",
       "span.hl {\n",
       "\tbackground-color: var(--hl-strong);\n",
       "\tborder-width: 0;\n",
       "\tborder-radius: 0.1rem;\n",
       "\tborder-style: solid;\n",
       "}\n",
       "\n",
       "span.hlup {\n",
       "\tborder-color: var(--hl-dark);\n",
       "\tborder-width: 0.1rem;\n",
       "\tborder-style: solid;\n",
       "\tborder-radius: 0.2rem;\n",
       "  padding: 0.2rem;\n",
       "}\n",
       "\n",
       ":root {\n",
       "\t--hl-strong:        hsla( 60, 100%,  70%, 0.9  );\n",
       "\t--hl-rim:           hsla( 55, 100%,  60%, 0.9  );\n",
       "\t--hl-dark:          hsla( 55, 100%,  40%, 0.9  );\n",
       "}\n",
       "</style>"
      ],
      "text/plain": [
       "<IPython.core.display.HTML object>"
      ]
     },
     "metadata": {},
     "output_type": "display_data"
    }
   ],
   "source": [
    "nena = use('nena:hot') # :hot to retrieve the latest TF files from Github\n",
    "\n",
    "# Make shortform TF methods available\n",
    "F, T, L = nena.api.F, nena.api.T, nena.api.L"
   ]
  },
  {
   "cell_type": "markdown",
   "metadata": {},
   "source": [
    "# Basics\n",
    "\n",
    "A Text-Fabric resource is an implied graph, wherein all objects are represented as nodes with unique identifiers. In TF, a node is identified with a simple integer. Node numbers are assigned to any linguistic unit (sometimes called an \"object\" in a non-Pythonic sense) that is to be modeled in the database. Features, either strings or integers, can then be linked to those node numbers. \n",
    "\n",
    "Node number assignment begins with the most atomic unit in the corpus. In some corpora, the smallest unit that is modeled is a word. In the NENA corpus, we begin with characters. The \"atomic unit\" is called a slot. Slots possess a special role in a TF dataset. Slots are used to calculate node adjacency and embeddings in the text. When node numbers are assigned to slots, the counting begins at 1 and extends all the way up to the last node in the corpus. Below we assign `first_node` to `1` since that is the first slot/node in the corpus."
   ]
  },
  {
   "cell_type": "code",
   "execution_count": 5,
   "metadata": {},
   "outputs": [],
   "source": [
    "first_node = 1 # the first char (character) in the nena corpus"
   ]
  },
  {
   "cell_type": "markdown",
   "metadata": {},
   "source": [
    "This node has features associated with it. One of the most important features is the `utf8` and transcription representations (`trans_full` and `trans_lite`). Those features tell us what the node looks like. They can be called with the Text-Fabric `F` method (\"feature\"). The method has a subclass that matches the feature name in question. For example: `F.utf8` is the feature (`F`) lookup object followed by the feature class utf8 (`.utf8`). The node's corresponding value in that feature class can be obtained by called `.v` (for value) on the `F.utf8` object. An example is provided below for the `utf8`, `trans_full`, and `trans_lite` features."
   ]
  },
  {
   "cell_type": "code",
   "execution_count": 6,
   "metadata": {},
   "outputs": [
    {
     "name": "stdout",
     "output_type": "stream",
     "text": [
      "ʾ\n",
      "}\n",
      "}\n"
     ]
    }
   ],
   "source": [
    "print(F.utf8.v(first_node))\n",
    "print(F.trans_full.v(first_node))\n",
    "print(F.trans_lite.v(first_node))"
   ]
  },
  {
   "cell_type": "markdown",
   "metadata": {},
   "source": [
    "## Node Containment"
   ]
  },
  {
   "cell_type": "markdown",
   "metadata": {},
   "source": [
    "Embedding is key to understanding language units. Morphemes are composed of letters; words of morphemes; sentences of words; etc. In a TF dataset, this embedding information is fundamentally expressed via the slots. In the NENA corpus, that is the `char` node type. We define a word as a span of characters. To find out what word a given char belongs to, we can use the `L` class (\"Level\"). `L.u` will \"look a Level Up\". \n",
    "\n",
    "We can find the node number that belongs to node `1` with the `L.u` class, as below:"
   ]
  },
  {
   "cell_type": "code",
   "execution_count": 7,
   "metadata": {},
   "outputs": [
    {
     "name": "stdout",
     "output_type": "stream",
     "text": [
      "(631443,)\n"
     ]
    }
   ],
   "source": [
    "first_word = L.u(first_node, 'word')\n",
    "\n",
    "print(first_word)"
   ]
  },
  {
   "cell_type": "code",
   "execution_count": 8,
   "metadata": {},
   "outputs": [],
   "source": [
    "first_word = first_word[0]"
   ]
  },
  {
   "cell_type": "markdown",
   "metadata": {},
   "source": [
    "Note that the `L` class returns tuples. This is because containment is often plural. For example, if we take the `first_word` node and call the `L.d` class, we can obtain a tuple of all characters contained within it:"
   ]
  },
  {
   "cell_type": "code",
   "execution_count": 9,
   "metadata": {},
   "outputs": [
    {
     "data": {
      "text/plain": [
       "(1, 2, 3, 4, 5)"
      ]
     },
     "execution_count": 9,
     "metadata": {},
     "output_type": "execute_result"
    }
   ],
   "source": [
    "L.d(first_word, 'char')"
   ]
  },
  {
   "cell_type": "markdown",
   "metadata": {},
   "source": [
    "## Fast Text-Handling\n",
    "\n",
    "Looking at the surface text of nodes in TF is an important part of understanding the data. The `T` class provides fast text-handling that quickly formats text representations of all levels of objects. Unlike the `utf8` and `trans` features, which are only valid for char, morpheme, and word nodes, the `T` class can be called on high-level nodes such as sentences. That is demonstrated below."
   ]
  },
  {
   "cell_type": "code",
   "execution_count": 10,
   "metadata": {},
   "outputs": [
    {
     "name": "stdout",
     "output_type": "stream",
     "text": [
      "ʾìθwaˈ xa-ràbbən,ˈ tíwɛwa gu-xa-gəppìθa.ˈ \n"
     ]
    }
   ],
   "source": [
    "first_sentence = L.u(first_word, 'sentence')[0]\n",
    "\n",
    "print(T.text(first_sentence))"
   ]
  },
  {
   "cell_type": "markdown",
   "metadata": {},
   "source": [
    "Another benefit of the `T` class is that one can request other kinds of formats. A format is requested with a standard format string separated with a hyphen. The convention is described in the TF documentation [here](https://annotation.github.io/text-fabric/Api/Text/#text-representation).\n",
    "\n",
    "In short, the default format is\n",
    "\n",
    "> text-orig-full\n",
    "\n",
    "Another format is a transcription type such as:\n",
    "\n",
    "> text-trans-full\n",
    "\n",
    "This ^ format is constructed using the `trans_full` feature. A similar format without vowel accentuation is found in:\n",
    "\n",
    "> text-trans-plain\n",
    "\n",
    "which is constructed via the feature `trans_lite`. \n",
    "\n",
    "The full set of available formats in the corpus can be seen with a `T.formats` call:"
   ]
  },
  {
   "cell_type": "code",
   "execution_count": 11,
   "metadata": {},
   "outputs": [
    {
     "data": {
      "text/plain": [
       "{'text-orig-full': 'char',\n",
       " 'text-trans-full': 'char',\n",
       " 'text-trans-plain': 'char'}"
      ]
     },
     "execution_count": 11,
     "metadata": {},
     "output_type": "execute_result"
    }
   ],
   "source": [
    "T.formats"
   ]
  },
  {
   "cell_type": "markdown",
   "metadata": {},
   "source": [
    "The formats are illustrated below using the first sentence:"
   ]
  },
  {
   "cell_type": "code",
   "execution_count": 12,
   "metadata": {},
   "outputs": [
    {
     "name": "stdout",
     "output_type": "stream",
     "text": [
      "text-trans-full\n",
      "\t }i`8waˈ xa-ra`bb3n,ˈ ti'w$wa gu-xa-g3ppi`8a.ˈ \n",
      "\n",
      "text-trans-plain\n",
      "\t }i8waˈ xa-rabb3n,ˈ tiwewa gu-xa-g3ppi8a.ˈ \n",
      "\n"
     ]
    }
   ],
   "source": [
    "show_formats = ('text-trans-full', 'text-trans-plain')\n",
    "\n",
    "for form in show_formats:\n",
    "    print(form)\n",
    "    print('\\t', T.text(first_sentence, fmt=form))\n",
    "    print()"
   ]
  },
  {
   "cell_type": "markdown",
   "metadata": {},
   "source": [
    "Note that the spacing, punctuation, and ending prosaic accent markers are not part of the `trans_full` and `trans_lite` feature. Rather they are from the `trailer` feature and are inserted since the formats are defined as consisting of `{trans}{trailer}`. This ensures proper punctuation when printing large portions of transcribed texts. This situation is not ideal, however, since some transcribed characters do consist of punctuators like `!` or `.`. For this reason, we should consider introducing a `trailer_trans` feature for large `T.text` prints. However, for the vast majority of use-cases this situation presents no problem."
   ]
  },
  {
   "cell_type": "markdown",
   "metadata": {},
   "source": [
    "## Pretty Representations\n",
    "\n",
    "Equally important to the analysis process as looking at raw text is looking at the contextual embedding of objects. A lot of Python work can be saved with the TF app `pretty` and `show` functions. These special representations are made available via the nena app, in this case instantiated as `nena`."
   ]
  },
  {
   "cell_type": "code",
   "execution_count": 13,
   "metadata": {},
   "outputs": [
    {
     "data": {
      "text/html": [
       "<a href=\"https://github.com/CambridgeSemiticsLab/nena_corpus/blob/master/texts/Barwar/The Monk And The Angel\" title=\"see this passage in its source document\" sec=\"Barwar, The Monk And The Angel, Ln. 1\">Barwar, The Monk And The Angel, Ln. 1</a>\n",
       "<div class=\"outeritem\">\n",
       "<div class=\"word  \" >\n",
       "<div class=\"ara\">ʾìθwaˈ </div>\n",
       "<div class=\"features\"></div>\n",
       "</div>\n",
       "</div>"
      ],
      "text/plain": [
       "<IPython.core.display.HTML object>"
      ]
     },
     "metadata": {},
     "output_type": "display_data"
    }
   ],
   "source": [
    "nena.pretty(first_word)"
   ]
  },
  {
   "cell_type": "code",
   "execution_count": 14,
   "metadata": {},
   "outputs": [
    {
     "data": {
      "text/html": [
       "<a href=\"https://github.com/CambridgeSemiticsLab/nena_corpus/blob/master/texts/Barwar/The Monk And The Angel\" title=\"see this passage in its source document\" sec=\"Barwar, The Monk And The Angel, Ln. 1\">Barwar, The Monk And The Angel, Ln. 1</a>\n",
       "<div class=\"outeritem\">\n",
       "<div class=\"macro  \" >\n",
       "<div class=\"features\"></div>\n",
       "<div class=\"prosa  \" >\n",
       "<div class=\"features\"></div>\n",
       "<div class=\"word  \" >\n",
       "<div class=\"ara\">ʾìθwaˈ </div>\n",
       "<div class=\"features\"></div>\n",
       "</div>\n",
       "</div>\n",
       "<div class=\"prosa  \" >\n",
       "<div class=\"features\"></div>\n",
       "<div class=\"word  \" >\n",
       "<div class=\"ara\">xa-ràbbən,ˈ </div>\n",
       "<div class=\"features\"></div>\n",
       "</div>\n",
       "</div>\n",
       "<div class=\"prosa  \" >\n",
       "<div class=\"features\"></div>\n",
       "<div class=\"word  \" >\n",
       "<div class=\"ara\">tíwɛwa </div>\n",
       "<div class=\"features\"></div>\n",
       "</div>\n",
       "<div class=\"word  \" >\n",
       "<div class=\"ara\">gu-xa-gəppìθa.ˈ </div>\n",
       "<div class=\"features\"></div>\n",
       "</div>\n",
       "</div>\n",
       "</div>\n",
       "</div>"
      ],
      "text/plain": [
       "<IPython.core.display.HTML object>"
      ]
     },
     "metadata": {},
     "output_type": "display_data"
    }
   ],
   "source": [
    "nena.pretty(first_sentence)"
   ]
  },
  {
   "cell_type": "markdown",
   "metadata": {},
   "source": [
    "The prosaic boundaries of the sentence are highlighted via the dotted-red line.\n",
    "\n",
    "Sometimes it's necessary to have the node numbers of contained objects for further investigation. That can be acheived by toggling `withNodes=True`:"
   ]
  },
  {
   "cell_type": "code",
   "execution_count": 15,
   "metadata": {},
   "outputs": [
    {
     "data": {
      "text/html": [
       "<a href=\"https://github.com/CambridgeSemiticsLab/nena_corpus/blob/master/texts/Barwar/The Monk And The Angel\" title=\"see this passage in its source document\" sec=\"Barwar, The Monk And The Angel, Ln. 1\">Barwar, The Monk And The Angel, Ln. 1</a>\n",
       "<div class=\"outeritem\">\n",
       "<div class=\"macro  \" >\n",
       "<a href=\"#\" class=\"nd\">554151</a><div class=\"features\"></div>\n",
       "<div class=\"prosa  \" >\n",
       "<a href=\"#\" class=\"nd\">595476</a><div class=\"features\"></div>\n",
       "<div class=\"word  \" >\n",
       "<div class=\"ara\">ʾìθwaˈ </div>\n",
       "<a href=\"#\" class=\"nd\">631443</a><div class=\"features\"></div>\n",
       "</div>\n",
       "</div>\n",
       "<div class=\"prosa  \" >\n",
       "<a href=\"#\" class=\"nd\">595477</a><div class=\"features\"></div>\n",
       "<div class=\"word  \" >\n",
       "<div class=\"ara\">xa-ràbbən,ˈ </div>\n",
       "<a href=\"#\" class=\"nd\">631444</a><div class=\"features\"></div>\n",
       "</div>\n",
       "</div>\n",
       "<div class=\"prosa  \" >\n",
       "<a href=\"#\" class=\"nd\">595478</a><div class=\"features\"></div>\n",
       "<div class=\"word  \" >\n",
       "<div class=\"ara\">tíwɛwa </div>\n",
       "<a href=\"#\" class=\"nd\">631445</a><div class=\"features\"></div>\n",
       "</div>\n",
       "<div class=\"word  \" >\n",
       "<div class=\"ara\">gu-xa-gəppìθa.ˈ </div>\n",
       "<a href=\"#\" class=\"nd\">631446</a><div class=\"features\"></div>\n",
       "</div>\n",
       "</div>\n",
       "</div>\n",
       "</div>"
      ],
      "text/plain": [
       "<IPython.core.display.HTML object>"
      ]
     },
     "metadata": {},
     "output_type": "display_data"
    }
   ],
   "source": [
    "nena.pretty(first_sentence, withNodes=True)"
   ]
  },
  {
   "cell_type": "markdown",
   "metadata": {},
   "source": [
    "The NENA corpus also has char and morpheme objects, which the `.pretty` function handles differently when asked. In order to see all of that detail, you can say `showMicro=True`:"
   ]
  },
  {
   "cell_type": "code",
   "execution_count": 16,
   "metadata": {},
   "outputs": [
    {
     "data": {
      "text/html": [
       "<a href=\"https://github.com/CambridgeSemiticsLab/nena_corpus/blob/master/texts/Barwar/The Monk And The Angel\" title=\"see this passage in its source document\" sec=\"Barwar, The Monk And The Angel, Ln. 1\">Barwar, The Monk And The Angel, Ln. 1</a>\n",
       "<div class=\"outeritem\">\n",
       "<div class=\"macro  \" >\n",
       "<div class=\"features\"></div>\n",
       "<div class=\"prosa  \" >\n",
       "<div class=\"features\"></div>\n",
       "<div class=\"word  \" >\n",
       "<div class=\"features\"></div>\n",
       "<div class=\"micro  \" >\n",
       "<div class=\"features\"></div>\n",
       "<div class=\"micro  \" >\n",
       "<div class=\"ara\">ʾ</div>\n",
       "<div class=\"features\"></div>\n",
       "</div>\n",
       "<div class=\"micro  \" >\n",
       "<div class=\"ara\">ì</div>\n",
       "<div class=\"features\"></div>\n",
       "</div>\n",
       "<div class=\"micro  \" >\n",
       "<div class=\"ara\">θ</div>\n",
       "<div class=\"features\"></div>\n",
       "</div>\n",
       "<div class=\"micro  \" >\n",
       "<div class=\"ara\">w</div>\n",
       "<div class=\"features\"></div>\n",
       "</div>\n",
       "<div class=\"micro  \" >\n",
       "<div class=\"ara\">aˈ </div>\n",
       "<div class=\"features\"></div>\n",
       "</div>\n",
       "</div>\n",
       "</div>\n",
       "</div>\n",
       "<div class=\"prosa  \" >\n",
       "<div class=\"features\"></div>\n",
       "<div class=\"word  \" >\n",
       "<div class=\"features\"></div>\n",
       "<div class=\"micro  \" >\n",
       "<div class=\"features\"></div>\n",
       "<div class=\"micro  \" >\n",
       "<div class=\"ara\">x</div>\n",
       "<div class=\"features\"></div>\n",
       "</div>\n",
       "<div class=\"micro  \" >\n",
       "<div class=\"ara\">a-</div>\n",
       "<div class=\"features\"></div>\n",
       "</div>\n",
       "</div>\n",
       "<div class=\"micro  \" >\n",
       "<div class=\"features\"></div>\n",
       "<div class=\"micro  \" >\n",
       "<div class=\"ara\">r</div>\n",
       "<div class=\"features\"></div>\n",
       "</div>\n",
       "<div class=\"micro  \" >\n",
       "<div class=\"ara\">à</div>\n",
       "<div class=\"features\"></div>\n",
       "</div>\n",
       "<div class=\"micro  \" >\n",
       "<div class=\"ara\">b</div>\n",
       "<div class=\"features\"></div>\n",
       "</div>\n",
       "<div class=\"micro  \" >\n",
       "<div class=\"ara\">b</div>\n",
       "<div class=\"features\"></div>\n",
       "</div>\n",
       "<div class=\"micro  \" >\n",
       "<div class=\"ara\">ə</div>\n",
       "<div class=\"features\"></div>\n",
       "</div>\n",
       "<div class=\"micro  \" >\n",
       "<div class=\"ara\">n,ˈ </div>\n",
       "<div class=\"features\"></div>\n",
       "</div>\n",
       "</div>\n",
       "</div>\n",
       "</div>\n",
       "<div class=\"prosa  \" >\n",
       "<div class=\"features\"></div>\n",
       "<div class=\"word  \" >\n",
       "<div class=\"features\"></div>\n",
       "<div class=\"micro  \" >\n",
       "<div class=\"features\"></div>\n",
       "<div class=\"micro  \" >\n",
       "<div class=\"ara\">t</div>\n",
       "<div class=\"features\"></div>\n",
       "</div>\n",
       "<div class=\"micro  \" >\n",
       "<div class=\"ara\">í</div>\n",
       "<div class=\"features\"></div>\n",
       "</div>\n",
       "<div class=\"micro  \" >\n",
       "<div class=\"ara\">w</div>\n",
       "<div class=\"features\"></div>\n",
       "</div>\n",
       "<div class=\"micro  \" >\n",
       "<div class=\"ara\">ɛ</div>\n",
       "<div class=\"features\"></div>\n",
       "</div>\n",
       "<div class=\"micro  \" >\n",
       "<div class=\"ara\">w</div>\n",
       "<div class=\"features\"></div>\n",
       "</div>\n",
       "<div class=\"micro  \" >\n",
       "<div class=\"ara\">a </div>\n",
       "<div class=\"features\"></div>\n",
       "</div>\n",
       "</div>\n",
       "</div>\n",
       "<div class=\"word  \" >\n",
       "<div class=\"features\"></div>\n",
       "<div class=\"micro  \" >\n",
       "<div class=\"features\"></div>\n",
       "<div class=\"micro  \" >\n",
       "<div class=\"ara\">g</div>\n",
       "<div class=\"features\"></div>\n",
       "</div>\n",
       "<div class=\"micro  \" >\n",
       "<div class=\"ara\">u-</div>\n",
       "<div class=\"features\"></div>\n",
       "</div>\n",
       "</div>\n",
       "<div class=\"micro  \" >\n",
       "<div class=\"features\"></div>\n",
       "<div class=\"micro  \" >\n",
       "<div class=\"ara\">x</div>\n",
       "<div class=\"features\"></div>\n",
       "</div>\n",
       "<div class=\"micro  \" >\n",
       "<div class=\"ara\">a-</div>\n",
       "<div class=\"features\"></div>\n",
       "</div>\n",
       "</div>\n",
       "<div class=\"micro  \" >\n",
       "<div class=\"features\"></div>\n",
       "<div class=\"micro  \" >\n",
       "<div class=\"ara\">g</div>\n",
       "<div class=\"features\"></div>\n",
       "</div>\n",
       "<div class=\"micro  \" >\n",
       "<div class=\"ara\">ə</div>\n",
       "<div class=\"features\"></div>\n",
       "</div>\n",
       "<div class=\"micro  \" >\n",
       "<div class=\"ara\">p</div>\n",
       "<div class=\"features\"></div>\n",
       "</div>\n",
       "<div class=\"micro  \" >\n",
       "<div class=\"ara\">p</div>\n",
       "<div class=\"features\"></div>\n",
       "</div>\n",
       "<div class=\"micro  \" >\n",
       "<div class=\"ara\">ì</div>\n",
       "<div class=\"features\"></div>\n",
       "</div>\n",
       "<div class=\"micro  \" >\n",
       "<div class=\"ara\">θ</div>\n",
       "<div class=\"features\"></div>\n",
       "</div>\n",
       "<div class=\"micro  \" >\n",
       "<div class=\"ara\">a.ˈ </div>\n",
       "<div class=\"features\"></div>\n",
       "</div>\n",
       "</div>\n",
       "</div>\n",
       "</div>\n",
       "</div>\n",
       "</div>"
      ],
      "text/plain": [
       "<IPython.core.display.HTML object>"
      ]
     },
     "metadata": {},
     "output_type": "display_data"
    }
   ],
   "source": [
    "nena.pretty(first_sentence, showMicro=True)"
   ]
  },
  {
   "cell_type": "markdown",
   "metadata": {},
   "source": [
    "And to be very specific:"
   ]
  },
  {
   "cell_type": "code",
   "execution_count": 17,
   "metadata": {},
   "outputs": [
    {
     "data": {
      "text/html": [
       "<a href=\"https://github.com/CambridgeSemiticsLab/nena_corpus/blob/master/texts/Barwar/The Monk And The Angel\" title=\"see this passage in its source document\" sec=\"Barwar, The Monk And The Angel, Ln. 1\">Barwar, The Monk And The Angel, Ln. 1</a>\n",
       "<div class=\"outeritem\">\n",
       "<div class=\"macro  \" >\n",
       "<a href=\"#\" class=\"nd\">554151</a><div class=\"features\"></div>\n",
       "<div class=\"prosa  \" >\n",
       "<a href=\"#\" class=\"nd\">595476</a><div class=\"features\"></div>\n",
       "<div class=\"word  \" >\n",
       "<a href=\"#\" class=\"nd\">631443</a><div class=\"features\"></div>\n",
       "<div class=\"micro  \" >\n",
       "<a href=\"#\" class=\"nd\">725205</a><div class=\"features\"></div>\n",
       "<div class=\"micro  \" >\n",
       "<div class=\"ara\">ʾ</div>\n",
       "<a href=\"#\" class=\"nd\">1</a><div class=\"features\"></div>\n",
       "</div>\n",
       "<div class=\"micro  \" >\n",
       "<div class=\"ara\">ì</div>\n",
       "<a href=\"#\" class=\"nd\">2</a><div class=\"features\"></div>\n",
       "</div>\n",
       "<div class=\"micro  \" >\n",
       "<div class=\"ara\">θ</div>\n",
       "<a href=\"#\" class=\"nd\">3</a><div class=\"features\"></div>\n",
       "</div>\n",
       "<div class=\"micro  \" >\n",
       "<div class=\"ara\">w</div>\n",
       "<a href=\"#\" class=\"nd\">4</a><div class=\"features\"></div>\n",
       "</div>\n",
       "<div class=\"micro  \" >\n",
       "<div class=\"ara\">aˈ </div>\n",
       "<a href=\"#\" class=\"nd\">5</a><div class=\"features\"></div>\n",
       "</div>\n",
       "</div>\n",
       "</div>\n",
       "</div>\n",
       "<div class=\"prosa  \" >\n",
       "<a href=\"#\" class=\"nd\">595477</a><div class=\"features\"></div>\n",
       "<div class=\"word  \" >\n",
       "<a href=\"#\" class=\"nd\">631444</a><div class=\"features\"></div>\n",
       "<div class=\"micro  \" >\n",
       "<a href=\"#\" class=\"nd\">725206</a><div class=\"features\"></div>\n",
       "<div class=\"micro  \" >\n",
       "<div class=\"ara\">x</div>\n",
       "<a href=\"#\" class=\"nd\">6</a><div class=\"features\"></div>\n",
       "</div>\n",
       "<div class=\"micro  \" >\n",
       "<div class=\"ara\">a-</div>\n",
       "<a href=\"#\" class=\"nd\">7</a><div class=\"features\"></div>\n",
       "</div>\n",
       "</div>\n",
       "<div class=\"micro  \" >\n",
       "<a href=\"#\" class=\"nd\">725207</a><div class=\"features\"></div>\n",
       "<div class=\"micro  \" >\n",
       "<div class=\"ara\">r</div>\n",
       "<a href=\"#\" class=\"nd\">8</a><div class=\"features\"></div>\n",
       "</div>\n",
       "<div class=\"micro  \" >\n",
       "<div class=\"ara\">à</div>\n",
       "<a href=\"#\" class=\"nd\">9</a><div class=\"features\"></div>\n",
       "</div>\n",
       "<div class=\"micro  \" >\n",
       "<div class=\"ara\">b</div>\n",
       "<a href=\"#\" class=\"nd\">10</a><div class=\"features\"></div>\n",
       "</div>\n",
       "<div class=\"micro  \" >\n",
       "<div class=\"ara\">b</div>\n",
       "<a href=\"#\" class=\"nd\">11</a><div class=\"features\"></div>\n",
       "</div>\n",
       "<div class=\"micro  \" >\n",
       "<div class=\"ara\">ə</div>\n",
       "<a href=\"#\" class=\"nd\">12</a><div class=\"features\"></div>\n",
       "</div>\n",
       "<div class=\"micro  \" >\n",
       "<div class=\"ara\">n,ˈ </div>\n",
       "<a href=\"#\" class=\"nd\">13</a><div class=\"features\"></div>\n",
       "</div>\n",
       "</div>\n",
       "</div>\n",
       "</div>\n",
       "<div class=\"prosa  \" >\n",
       "<a href=\"#\" class=\"nd\">595478</a><div class=\"features\"></div>\n",
       "<div class=\"word  \" >\n",
       "<a href=\"#\" class=\"nd\">631445</a><div class=\"features\"></div>\n",
       "<div class=\"micro  \" >\n",
       "<a href=\"#\" class=\"nd\">725208</a><div class=\"features\"></div>\n",
       "<div class=\"micro  \" >\n",
       "<div class=\"ara\">t</div>\n",
       "<a href=\"#\" class=\"nd\">14</a><div class=\"features\"></div>\n",
       "</div>\n",
       "<div class=\"micro  \" >\n",
       "<div class=\"ara\">í</div>\n",
       "<a href=\"#\" class=\"nd\">15</a><div class=\"features\"></div>\n",
       "</div>\n",
       "<div class=\"micro  \" >\n",
       "<div class=\"ara\">w</div>\n",
       "<a href=\"#\" class=\"nd\">16</a><div class=\"features\"></div>\n",
       "</div>\n",
       "<div class=\"micro  \" >\n",
       "<div class=\"ara\">ɛ</div>\n",
       "<a href=\"#\" class=\"nd\">17</a><div class=\"features\"></div>\n",
       "</div>\n",
       "<div class=\"micro  \" >\n",
       "<div class=\"ara\">w</div>\n",
       "<a href=\"#\" class=\"nd\">18</a><div class=\"features\"></div>\n",
       "</div>\n",
       "<div class=\"micro  \" >\n",
       "<div class=\"ara\">a </div>\n",
       "<a href=\"#\" class=\"nd\">19</a><div class=\"features\"></div>\n",
       "</div>\n",
       "</div>\n",
       "</div>\n",
       "<div class=\"word  \" >\n",
       "<a href=\"#\" class=\"nd\">631446</a><div class=\"features\"></div>\n",
       "<div class=\"micro  \" >\n",
       "<a href=\"#\" class=\"nd\">725209</a><div class=\"features\"></div>\n",
       "<div class=\"micro  \" >\n",
       "<div class=\"ara\">g</div>\n",
       "<a href=\"#\" class=\"nd\">20</a><div class=\"features\"></div>\n",
       "</div>\n",
       "<div class=\"micro  \" >\n",
       "<div class=\"ara\">u-</div>\n",
       "<a href=\"#\" class=\"nd\">21</a><div class=\"features\"></div>\n",
       "</div>\n",
       "</div>\n",
       "<div class=\"micro  \" >\n",
       "<a href=\"#\" class=\"nd\">725210</a><div class=\"features\"></div>\n",
       "<div class=\"micro  \" >\n",
       "<div class=\"ara\">x</div>\n",
       "<a href=\"#\" class=\"nd\">22</a><div class=\"features\"></div>\n",
       "</div>\n",
       "<div class=\"micro  \" >\n",
       "<div class=\"ara\">a-</div>\n",
       "<a href=\"#\" class=\"nd\">23</a><div class=\"features\"></div>\n",
       "</div>\n",
       "</div>\n",
       "<div class=\"micro  \" >\n",
       "<a href=\"#\" class=\"nd\">725211</a><div class=\"features\"></div>\n",
       "<div class=\"micro  \" >\n",
       "<div class=\"ara\">g</div>\n",
       "<a href=\"#\" class=\"nd\">24</a><div class=\"features\"></div>\n",
       "</div>\n",
       "<div class=\"micro  \" >\n",
       "<div class=\"ara\">ə</div>\n",
       "<a href=\"#\" class=\"nd\">25</a><div class=\"features\"></div>\n",
       "</div>\n",
       "<div class=\"micro  \" >\n",
       "<div class=\"ara\">p</div>\n",
       "<a href=\"#\" class=\"nd\">26</a><div class=\"features\"></div>\n",
       "</div>\n",
       "<div class=\"micro  \" >\n",
       "<div class=\"ara\">p</div>\n",
       "<a href=\"#\" class=\"nd\">27</a><div class=\"features\"></div>\n",
       "</div>\n",
       "<div class=\"micro  \" >\n",
       "<div class=\"ara\">ì</div>\n",
       "<a href=\"#\" class=\"nd\">28</a><div class=\"features\"></div>\n",
       "</div>\n",
       "<div class=\"micro  \" >\n",
       "<div class=\"ara\">θ</div>\n",
       "<a href=\"#\" class=\"nd\">29</a><div class=\"features\"></div>\n",
       "</div>\n",
       "<div class=\"micro  \" >\n",
       "<div class=\"ara\">a.ˈ </div>\n",
       "<a href=\"#\" class=\"nd\">30</a><div class=\"features\"></div>\n",
       "</div>\n",
       "</div>\n",
       "</div>\n",
       "</div>\n",
       "</div>\n",
       "</div>"
      ],
      "text/plain": [
       "<IPython.core.display.HTML object>"
      ]
     },
     "metadata": {},
     "output_type": "display_data"
    }
   ],
   "source": [
    "nena.pretty(first_sentence, showMicro=True, withNodes=True)"
   ]
  },
  {
   "cell_type": "markdown",
   "metadata": {},
   "source": [
    "And f we want to see a particular feature displayed along with the constextual data, we can say `extraFeatures`:"
   ]
  },
  {
   "cell_type": "code",
   "execution_count": 18,
   "metadata": {},
   "outputs": [
    {
     "data": {
      "text/html": [
       "<a href=\"https://github.com/CambridgeSemiticsLab/nena_corpus/blob/master/texts/Barwar/The Monk And The Angel\" title=\"see this passage in its source document\" sec=\"Barwar, The Monk And The Angel, Ln. 1\">Barwar, The Monk And The Angel, Ln. 1</a>\n",
       "<div class=\"outeritem\">\n",
       "<div class=\"macro  \" >\n",
       "<a href=\"#\" class=\"nd\">554151</a><div class=\"features\"> <span class=\"otype xft\"><span class=\"f\">otype=</span>sentence</span></div>\n",
       "<div class=\"prosa  \" >\n",
       "<a href=\"#\" class=\"nd\">595476</a><div class=\"features\"> <span class=\"otype xft\"><span class=\"f\">otype=</span>prosa</span></div>\n",
       "<div class=\"word  \" >\n",
       "<div class=\"ara\">ʾìθwaˈ </div>\n",
       "<a href=\"#\" class=\"nd\">631443</a><div class=\"features\"> <span class=\"otype xft\"><span class=\"f\">otype=</span>word</span></div>\n",
       "</div>\n",
       "</div>\n",
       "<div class=\"prosa  \" >\n",
       "<a href=\"#\" class=\"nd\">595477</a><div class=\"features\"> <span class=\"otype xft\"><span class=\"f\">otype=</span>prosa</span></div>\n",
       "<div class=\"word  \" >\n",
       "<div class=\"ara\">xa-ràbbən,ˈ </div>\n",
       "<a href=\"#\" class=\"nd\">631444</a><div class=\"features\"> <span class=\"otype xft\"><span class=\"f\">otype=</span>word</span></div>\n",
       "</div>\n",
       "</div>\n",
       "<div class=\"prosa  \" >\n",
       "<a href=\"#\" class=\"nd\">595478</a><div class=\"features\"> <span class=\"otype xft\"><span class=\"f\">otype=</span>prosa</span></div>\n",
       "<div class=\"word  \" >\n",
       "<div class=\"ara\">tíwɛwa </div>\n",
       "<a href=\"#\" class=\"nd\">631445</a><div class=\"features\"> <span class=\"otype xft\"><span class=\"f\">otype=</span>word</span></div>\n",
       "</div>\n",
       "<div class=\"word  \" >\n",
       "<div class=\"ara\">gu-xa-gəppìθa.ˈ </div>\n",
       "<a href=\"#\" class=\"nd\">631446</a><div class=\"features\"> <span class=\"otype xft\"><span class=\"f\">otype=</span>word</span></div>\n",
       "</div>\n",
       "</div>\n",
       "</div>\n",
       "</div>"
      ],
      "text/plain": [
       "<IPython.core.display.HTML object>"
      ]
     },
     "metadata": {},
     "output_type": "display_data"
    }
   ],
   "source": [
    "nena.pretty(first_sentence, withNodes=True, extraFeatures={'otype'})"
   ]
  },
  {
   "cell_type": "markdown",
   "metadata": {},
   "source": [
    "**All of the available display options can be seen in the TF documentation [here](https://annotation.github.io/text-fabric/Api/App/#display).**"
   ]
  },
  {
   "cell_type": "markdown",
   "metadata": {},
   "source": [
    "The `.show` method is very useful for displaying a list of nodes. Those nodes must be packaged in a tuple. `.show` highlights the nodes in question when supplied this data."
   ]
  },
  {
   "cell_type": "code",
   "execution_count": 19,
   "metadata": {},
   "outputs": [
    {
     "data": {
      "text/html": [
       "<p><b>result</b> <i>1</i></p>"
      ],
      "text/plain": [
       "<IPython.core.display.HTML object>"
      ]
     },
     "metadata": {},
     "output_type": "display_data"
    },
    {
     "data": {
      "text/html": [
       "<a href=\"https://github.com/CambridgeSemiticsLab/nena_corpus/blob/master/texts/Barwar/The Monk And The Angel\" title=\"see this passage in its source document\" sec=\"Barwar, The Monk And The Angel, Ln. 1\">Barwar, The Monk And The Angel, Ln. 1</a>\n",
       "<div class=\"outeritem\">\n",
       "<div class=\"macro  \" >\n",
       "<div class=\"features\"></div>\n",
       "<div class=\"prosa  \" >\n",
       "<div class=\"features\"></div>\n",
       "<div class=\"word  hl\" >\n",
       "<div class=\"ara\">ʾìθwaˈ </div>\n",
       "<div class=\"features\"></div>\n",
       "</div>\n",
       "</div>\n",
       "<div class=\"prosa  \" >\n",
       "<div class=\"features\"></div>\n",
       "<div class=\"word  \" >\n",
       "<div class=\"ara\">xa-ràbbən,ˈ </div>\n",
       "<div class=\"features\"></div>\n",
       "</div>\n",
       "</div>\n",
       "<div class=\"prosa  \" >\n",
       "<div class=\"features\"></div>\n",
       "<div class=\"word  \" >\n",
       "<div class=\"ara\">tíwɛwa </div>\n",
       "<div class=\"features\"></div>\n",
       "</div>\n",
       "<div class=\"word  \" >\n",
       "<div class=\"ara\">gu-xa-gəppìθa.ˈ </div>\n",
       "<div class=\"features\"></div>\n",
       "</div>\n",
       "</div>\n",
       "</div>\n",
       "</div>"
      ],
      "text/plain": [
       "<IPython.core.display.HTML object>"
      ]
     },
     "metadata": {},
     "output_type": "display_data"
    }
   ],
   "source": [
    "show_me = [(first_sentence, first_word)] # NB list of tuples\n",
    "\n",
    "nena.show(show_me)"
   ]
  },
  {
   "cell_type": "markdown",
   "metadata": {},
   "source": [
    "#### Querying with .show\n",
    "\n",
    "The results of a query can be fed to a `.show` method in order to visualize a host of results. The `nena.search` method provides functionality equivalent with [the standard TF `S.search` class](https://annotation.github.io/text-fabric/Api/Search/), with some minor differences such as results reporting. \n",
    "\n",
    "An example of `nena.search` used in concert with `nena.show` is provided below. We find cases of words that begin with `ʾìθ` using the `trans_lite` feature, which ignores vowel accentuation. Note that the `~` operator in the search template (`trans_lite~`) specifies a regular expression search."
   ]
  },
  {
   "cell_type": "code",
   "execution_count": 20,
   "metadata": {},
   "outputs": [
    {
     "name": "stdout",
     "output_type": "stream",
     "text": [
      "  0.12s 130 results\n"
     ]
    }
   ],
   "source": [
    "query = '''\n",
    "\n",
    "word trans_lite~^}i8w\n",
    "\n",
    "'''\n",
    "\n",
    "results = nena.search(query)"
   ]
  },
  {
   "cell_type": "code",
   "execution_count": 21,
   "metadata": {},
   "outputs": [
    {
     "data": {
      "text/html": [
       "<p><b>result</b> <i>1</i></p>"
      ],
      "text/plain": [
       "<IPython.core.display.HTML object>"
      ]
     },
     "metadata": {},
     "output_type": "display_data"
    },
    {
     "data": {
      "text/html": [
       "<a href=\"https://github.com/CambridgeSemiticsLab/nena_corpus/blob/master/texts/Barwar/The Monk And The Angel\" title=\"see this passage in its source document\" sec=\"Barwar, The Monk And The Angel, Ln. 1\">Barwar, The Monk And The Angel, Ln. 1</a>\n",
       "<div class=\"outeritem\">\n",
       "<div class=\"macro  \" >\n",
       "<div class=\"features\"></div>\n",
       "<div class=\"prosa  \" >\n",
       "<div class=\"features\"></div>\n",
       "<div class=\"word  hl\" >\n",
       "<div class=\"ara\">ʾìθwaˈ </div>\n",
       "<div class=\"features\"> <span class=\"trans_lite xft\"><span class=\"f\">trans_lite=</span>}i8wa</span></div>\n",
       "</div>\n",
       "</div>\n",
       "<div class=\"prosa  \" >\n",
       "<div class=\"features\"></div>\n",
       "<div class=\"word  \" >\n",
       "<div class=\"ara\">xa-ràbbən,ˈ </div>\n",
       "<div class=\"features\"> <span class=\"trans_lite xft\"><span class=\"f\">trans_lite=</span>xarabb3n</span></div>\n",
       "</div>\n",
       "</div>\n",
       "<div class=\"prosa  \" >\n",
       "<div class=\"features\"></div>\n",
       "<div class=\"word  \" >\n",
       "<div class=\"ara\">tíwɛwa </div>\n",
       "<div class=\"features\"> <span class=\"trans_lite xft\"><span class=\"f\">trans_lite=</span>tiwewa</span></div>\n",
       "</div>\n",
       "<div class=\"word  \" >\n",
       "<div class=\"ara\">gu-xa-gəppìθa.ˈ </div>\n",
       "<div class=\"features\"> <span class=\"trans_lite xft\"><span class=\"f\">trans_lite=</span>guxag3ppi8a</span></div>\n",
       "</div>\n",
       "</div>\n",
       "</div>\n",
       "</div>"
      ],
      "text/plain": [
       "<IPython.core.display.HTML object>"
      ]
     },
     "metadata": {},
     "output_type": "display_data"
    },
    {
     "data": {
      "text/html": [
       "<p><b>result</b> <i>2</i></p>"
      ],
      "text/plain": [
       "<IPython.core.display.HTML object>"
      ]
     },
     "metadata": {},
     "output_type": "display_data"
    },
    {
     "data": {
      "text/html": [
       "<a href=\"https://github.com/CambridgeSemiticsLab/nena_corpus/blob/master/texts/Barwar/The Monk And The Angel\" title=\"see this passage in its source document\" sec=\"Barwar, The Monk And The Angel, Ln. 1\">Barwar, The Monk And The Angel, Ln. 1</a>\n",
       "<div class=\"outeritem\">\n",
       "<div class=\"macro  \" >\n",
       "<div class=\"features\"></div>\n",
       "<div class=\"prosa  \" >\n",
       "<div class=\"features\"></div>\n",
       "<div class=\"word  hl\" >\n",
       "<div class=\"ara\">ʾíθwale </div>\n",
       "<div class=\"features\"> <span class=\"trans_lite xft\"><span class=\"f\">trans_lite=</span>}i8wale</span></div>\n",
       "</div>\n",
       "<div class=\"word  \" >\n",
       "<div class=\"ara\">xákma </div>\n",
       "<div class=\"features\"> <span class=\"trans_lite xft\"><span class=\"f\">trans_lite=</span>xakma</span></div>\n",
       "</div>\n",
       "<div class=\"word  \" >\n",
       "<div class=\"ara\">zùze.ˈ </div>\n",
       "<div class=\"features\"> <span class=\"trans_lite xft\"><span class=\"f\">trans_lite=</span>zuze</span></div>\n",
       "</div>\n",
       "</div>\n",
       "</div>\n",
       "</div>"
      ],
      "text/plain": [
       "<IPython.core.display.HTML object>"
      ]
     },
     "metadata": {},
     "output_type": "display_data"
    },
    {
     "data": {
      "text/html": [
       "<p><b>result</b> <i>3</i></p>"
      ],
      "text/plain": [
       "<IPython.core.display.HTML object>"
      ]
     },
     "metadata": {},
     "output_type": "display_data"
    },
    {
     "data": {
      "text/html": [
       "<a href=\"https://github.com/CambridgeSemiticsLab/nena_corpus/blob/master/texts/Barwar/The Monk And The Angel\" title=\"see this passage in its source document\" sec=\"Barwar, The Monk And The Angel, Ln. 9\">Barwar, The Monk And The Angel, Ln. 9</a>\n",
       "<div class=\"outeritem\">\n",
       "<div class=\"macro  \" >\n",
       "<div class=\"features\"></div>\n",
       "<div class=\"prosa  \" >\n",
       "<div class=\"features\"></div>\n",
       "<div class=\"word  \" >\n",
       "<div class=\"ara\">bába-w </div>\n",
       "<div class=\"features\"> <span class=\"trans_lite xft\"><span class=\"f\">trans_lite=</span>babaw</span></div>\n",
       "</div>\n",
       "<div class=\"word  \" >\n",
       "<div class=\"ara\">yə́mmət </div>\n",
       "<div class=\"features\"> <span class=\"trans_lite xft\"><span class=\"f\">trans_lite=</span>y3mm3t</span></div>\n",
       "</div>\n",
       "<div class=\"word  \" >\n",
       "<div class=\"ara\">yàlaˈ </div>\n",
       "<div class=\"features\"> <span class=\"trans_lite xft\"><span class=\"f\">trans_lite=</span>yala</span></div>\n",
       "</div>\n",
       "</div>\n",
       "<div class=\"prosa  \" >\n",
       "<div class=\"features\"></div>\n",
       "<div class=\"word  \" >\n",
       "<div class=\"ara\">xamši-šə́nne </div>\n",
       "<div class=\"features\"> <span class=\"trans_lite xft\"><span class=\"f\">trans_lite=</span>xams&lt;is&lt;3nne</span></div>\n",
       "</div>\n",
       "<div class=\"word  hl\" >\n",
       "<div class=\"ara\">ʾíθwala </div>\n",
       "<div class=\"features\"> <span class=\"trans_lite xft\"><span class=\"f\">trans_lite=</span>}i8wala</span></div>\n",
       "</div>\n",
       "<div class=\"word  \" >\n",
       "<div class=\"ara\">ʾùmraˈ </div>\n",
       "<div class=\"features\"> <span class=\"trans_lite xft\"><span class=\"f\">trans_lite=</span>}umra</span></div>\n",
       "</div>\n",
       "</div>\n",
       "<div class=\"prosa  \" >\n",
       "<div class=\"features\"></div>\n",
       "<div class=\"word  \" >\n",
       "<div class=\"ara\">líθwala </div>\n",
       "<div class=\"features\"> <span class=\"trans_lite xft\"><span class=\"f\">trans_lite=</span>li8wala</span></div>\n",
       "</div>\n",
       "<div class=\"word  \" >\n",
       "<div class=\"ara\">bnòne.ˈ </div>\n",
       "<div class=\"features\"> <span class=\"trans_lite xft\"><span class=\"f\">trans_lite=</span>bnone</span></div>\n",
       "</div>\n",
       "</div>\n",
       "</div>\n",
       "</div>"
      ],
      "text/plain": [
       "<IPython.core.display.HTML object>"
      ]
     },
     "metadata": {},
     "output_type": "display_data"
    },
    {
     "data": {
      "text/html": [
       "<p><b>result</b> <i>4</i></p>"
      ],
      "text/plain": [
       "<IPython.core.display.HTML object>"
      ]
     },
     "metadata": {},
     "output_type": "display_data"
    },
    {
     "data": {
      "text/html": [
       "<a href=\"https://github.com/CambridgeSemiticsLab/nena_corpus/blob/master/texts/Barwar/The Monk And The Angel\" title=\"see this passage in its source document\" sec=\"Barwar, The Monk And The Angel, Ln. 16\">Barwar, The Monk And The Angel, Ln. 16</a>\n",
       "<div class=\"outeritem\">\n",
       "<div class=\"macro  \" >\n",
       "<div class=\"features\"></div>\n",
       "<div class=\"prosa  \" >\n",
       "<div class=\"features\"></div>\n",
       "<div class=\"word  \" >\n",
       "<div class=\"ara\">ʾína </div>\n",
       "<div class=\"features\"> <span class=\"trans_lite xft\"><span class=\"f\">trans_lite=</span>}ina</span></div>\n",
       "</div>\n",
       "<div class=\"word  \" >\n",
       "<div class=\"ara\">módi </div>\n",
       "<div class=\"features\"> <span class=\"trans_lite xft\"><span class=\"f\">trans_lite=</span>modi</span></div>\n",
       "</div>\n",
       "<div class=\"word  \" >\n",
       "<div class=\"ara\">bəd-brònaˈ </div>\n",
       "<div class=\"features\"> <span class=\"trans_lite xft\"><span class=\"f\">trans_lite=</span>b3dbrona</span></div>\n",
       "</div>\n",
       "</div>\n",
       "<div class=\"prosa  \" >\n",
       "<div class=\"features\"></div>\n",
       "<div class=\"word  hl\" >\n",
       "<div class=\"ara\">ʾíθwala </div>\n",
       "<div class=\"features\"> <span class=\"trans_lite xft\"><span class=\"f\">trans_lite=</span>}i8wala</span></div>\n",
       "</div>\n",
       "<div class=\"word  \" >\n",
       "<div class=\"ara\">xámši-w </div>\n",
       "<div class=\"features\"> <span class=\"trans_lite xft\"><span class=\"f\">trans_lite=</span>xams&lt;iw</span></div>\n",
       "</div>\n",
       "<div class=\"word  \" >\n",
       "<div class=\"ara\">xámša </div>\n",
       "<div class=\"features\"> <span class=\"trans_lite xft\"><span class=\"f\">trans_lite=</span>xams&lt;a</span></div>\n",
       "</div>\n",
       "<div class=\"word  \" >\n",
       "<div class=\"ara\">šə̀nneˈ </div>\n",
       "<div class=\"features\"> <span class=\"trans_lite xft\"><span class=\"f\">trans_lite=</span>s&lt;3nne</span></div>\n",
       "</div>\n",
       "</div>\n",
       "<div class=\"prosa  \" >\n",
       "<div class=\"features\"></div>\n",
       "<div class=\"word  \" >\n",
       "<div class=\"ara\">líθwala </div>\n",
       "<div class=\"features\"> <span class=\"trans_lite xft\"><span class=\"f\">trans_lite=</span>li8wala</span></div>\n",
       "</div>\n",
       "<div class=\"word  \" >\n",
       "<div class=\"ara\">bnòne?ˈ </div>\n",
       "<div class=\"features\"> <span class=\"trans_lite xft\"><span class=\"f\">trans_lite=</span>bnone</span></div>\n",
       "</div>\n",
       "</div>\n",
       "</div>\n",
       "</div>"
      ],
      "text/plain": [
       "<IPython.core.display.HTML object>"
      ]
     },
     "metadata": {},
     "output_type": "display_data"
    },
    {
     "data": {
      "text/html": [
       "<p><b>result</b> <i>5</i></p>"
      ],
      "text/plain": [
       "<IPython.core.display.HTML object>"
      ]
     },
     "metadata": {},
     "output_type": "display_data"
    },
    {
     "data": {
      "text/html": [
       "<a href=\"https://github.com/CambridgeSemiticsLab/nena_corpus/blob/master/texts/Barwar/THE WISE YOUNG MAN\" title=\"see this passage in its source document\" sec=\"Barwar, THE WISE YOUNG MAN, Ln. 1\">Barwar, THE WISE YOUNG MAN, Ln. 1</a>\n",
       "<div class=\"outeritem\">\n",
       "<div class=\"macro  \" >\n",
       "<div class=\"features\"></div>\n",
       "<div class=\"prosa  \" >\n",
       "<div class=\"features\"></div>\n",
       "<div class=\"word  hl\" >\n",
       "<div class=\"ara\">ʾíθwa </div>\n",
       "<div class=\"features\"> <span class=\"trans_lite xft\"><span class=\"f\">trans_lite=</span>}i8wa</span></div>\n",
       "</div>\n",
       "<div class=\"word  \" >\n",
       "<div class=\"ara\">xa-nàšaˈ </div>\n",
       "<div class=\"features\"> <span class=\"trans_lite xft\"><span class=\"f\">trans_lite=</span>xanas&lt;a</span></div>\n",
       "</div>\n",
       "</div>\n",
       "<div class=\"prosa  \" >\n",
       "<div class=\"features\"></div>\n",
       "<div class=\"word  \" >\n",
       "<div class=\"ara\">gòṛaˈ </div>\n",
       "<div class=\"features\"> <span class=\"trans_lite xft\"><span class=\"f\">trans_lite=</span>gor.a</span></div>\n",
       "</div>\n",
       "</div>\n",
       "<div class=\"prosa  \" >\n",
       "<div class=\"features\"></div>\n",
       "<div class=\"word  \" >\n",
       "<div class=\"ara\">zála </div>\n",
       "<div class=\"features\"> <span class=\"trans_lite xft\"><span class=\"f\">trans_lite=</span>zala</span></div>\n",
       "</div>\n",
       "<div class=\"word  \" >\n",
       "<div class=\"ara\">b-ʾùrxa.ˈ </div>\n",
       "<div class=\"features\"> <span class=\"trans_lite xft\"><span class=\"f\">trans_lite=</span>b}urxa</span></div>\n",
       "</div>\n",
       "</div>\n",
       "</div>\n",
       "</div>"
      ],
      "text/plain": [
       "<IPython.core.display.HTML object>"
      ]
     },
     "metadata": {},
     "output_type": "display_data"
    }
   ],
   "source": [
    "nena.show(results, end=5) # end= to only show N results"
   ]
  },
  {
   "cell_type": "markdown",
   "metadata": {},
   "source": [
    "# Verb Searching\n",
    "\n",
    "I want to try some prototype queries for identifying verb morphology in the corpus. Namely, I will attempt to identify verbs in the Barwar corpus. For this, I will use a combination of searching and displaying like that which was illustrated above."
   ]
  },
  {
   "cell_type": "markdown",
   "metadata": {},
   "source": [
    "#### Barwar, verbs, S-suffixes\n",
    "\n",
    "6.2.1. 3ms.  -∅  \n",
    "6.2.2. 3fs.  -a  \n",
    "6.2.3. 3pl.  -i  \n",
    "6.2.4. 2ms.  default: -ət long: -eti  \n",
    "6.2.5. 2fs.  default: -ət long: -ati  \n",
    "6.2.6. 2pl.  -itu  \n",
    "6.2.7. 1ms.  default: -ən long: -ena  \n",
    "6.2.8. 1fs.  default: -ən long: -ana  \n",
    "6.2.9. 1pl.  default: -əx long: -exi\n",
    "\n",
    "#### Barwar, verbs, L-suffixes\n",
    "\n",
    "6.3. L-suffixes  +\n",
    "6.3.1. 3ms.  -le  \n",
    "6.3.2. 3fs.  -la  \n",
    "6.3.3. 3pl.  default: -lɛ \n",
    "-la long: -ley \n",
    "-lay  \n",
    "6.3.4. 2ms.  -lux  \n",
    "6.3.5. 2fs.  -ləx  \n",
    "6.3.6. 2pl.  -lɛxu  \n",
    "6.3.7. 1s.  -li  \n",
    "6.3.8. 1pl.  default: -lən long: -lɛni"
   ]
  },
  {
   "cell_type": "markdown",
   "metadata": {},
   "source": [
    "### Attempt to Find L-Suffixed Verbs\n",
    "\n",
    "The L suffixes seem fairly distinctive. Can we find them with a simple regex pattern search?"
   ]
  },
  {
   "cell_type": "code",
   "execution_count": 26,
   "metadata": {},
   "outputs": [
    {
     "name": "stdout",
     "output_type": "stream",
     "text": [
      "XXXX (True, frozenset({'Barwar'}))\n",
      "  0.19s 10423 results\n"
     ]
    },
    {
     "data": {
      "text/html": [
       "<p><b>result</b> <i>1</i></p>"
      ],
      "text/plain": [
       "<IPython.core.display.HTML object>"
      ]
     },
     "metadata": {},
     "output_type": "display_data"
    },
    {
     "data": {
      "text/html": [
       "<div class=\"outeritem\">\n",
       "<div class=\"None  \" >\n",
       "\n",
       "    <div class=\"ll\">\n",
       "        <div class=\"line\"><a href=\"https://github.com/CambridgeSemiticsLab/nena_corpus/blob/master/texts/Barwar/The Monk And The Angel\" title=\"see this passage in its source document\" sec=\"Barwar\">Barwar</a></div>\n",
       "\n",
       "        <div class=\"features\"> <span class=\"dialect xft\"><span class=\"f\">dialect=</span>Barwar</span></div>\n",
       "    </div>\n",
       "\n",
       "</div>\n",
       "</div>"
      ],
      "text/plain": [
       "<IPython.core.display.HTML object>"
      ]
     },
     "metadata": {},
     "output_type": "display_data"
    },
    {
     "data": {
      "text/html": [
       "<a href=\"https://github.com/CambridgeSemiticsLab/nena_corpus/blob/master/texts/Barwar/The Monk And The Angel\" title=\"see this passage in its source document\" sec=\"Barwar, The Monk And The Angel, Ln. 1\">Barwar, The Monk And The Angel, Ln. 1</a>\n",
       "<div class=\"outeritem\">\n",
       "<div class=\"macro  \" >\n",
       "<div class=\"features\"></div>\n",
       "<div class=\"prosa  \" >\n",
       "<div class=\"features\"></div>\n",
       "<div class=\"word  hl\" >\n",
       "<div class=\"ara\">θéle </div>\n",
       "<div class=\"features\"></div>\n",
       "</div>\n",
       "<div class=\"word  \" >\n",
       "<div class=\"ara\">xa-náša </div>\n",
       "<div class=\"features\"></div>\n",
       "</div>\n",
       "<div class=\"word  \" >\n",
       "<div class=\"ara\">swarìya,ˈ </div>\n",
       "<div class=\"features\"></div>\n",
       "</div>\n",
       "</div>\n",
       "<div class=\"prosa  \" >\n",
       "<div class=\"features\"></div>\n",
       "<div class=\"word  \" >\n",
       "<div class=\"ara\">rakáwa.ˈ </div>\n",
       "<div class=\"features\"></div>\n",
       "</div>\n",
       "</div>\n",
       "</div>\n",
       "</div>"
      ],
      "text/plain": [
       "<IPython.core.display.HTML object>"
      ]
     },
     "metadata": {},
     "output_type": "display_data"
    },
    {
     "data": {
      "text/html": [
       "<p><b>result</b> <i>2</i></p>"
      ],
      "text/plain": [
       "<IPython.core.display.HTML object>"
      ]
     },
     "metadata": {},
     "output_type": "display_data"
    },
    {
     "data": {
      "text/html": [
       "<div class=\"outeritem\">\n",
       "<div class=\"None  \" >\n",
       "\n",
       "    <div class=\"ll\">\n",
       "        <div class=\"line\"><a href=\"https://github.com/CambridgeSemiticsLab/nena_corpus/blob/master/texts/Barwar/The Monk And The Angel\" title=\"see this passage in its source document\" sec=\"Barwar\">Barwar</a></div>\n",
       "\n",
       "        <div class=\"features\"> <span class=\"dialect xft\"><span class=\"f\">dialect=</span>Barwar</span></div>\n",
       "    </div>\n",
       "\n",
       "</div>\n",
       "</div>"
      ],
      "text/plain": [
       "<IPython.core.display.HTML object>"
      ]
     },
     "metadata": {},
     "output_type": "display_data"
    },
    {
     "data": {
      "text/html": [
       "<a href=\"https://github.com/CambridgeSemiticsLab/nena_corpus/blob/master/texts/Barwar/The Monk And The Angel\" title=\"see this passage in its source document\" sec=\"Barwar, The Monk And The Angel, Ln. 1\">Barwar, The Monk And The Angel, Ln. 1</a>\n",
       "<div class=\"outeritem\">\n",
       "<div class=\"macro  \" >\n",
       "<div class=\"features\"></div>\n",
       "<div class=\"prosa  \" >\n",
       "<div class=\"features\"></div>\n",
       "<div class=\"word  hl\" >\n",
       "<div class=\"ara\">ṣléle </div>\n",
       "<div class=\"features\"></div>\n",
       "</div>\n",
       "<div class=\"word  \" >\n",
       "<div class=\"ara\">rəš-xa-ʾɛ̀na.ˈ </div>\n",
       "<div class=\"features\"></div>\n",
       "</div>\n",
       "</div>\n",
       "</div>\n",
       "</div>"
      ],
      "text/plain": [
       "<IPython.core.display.HTML object>"
      ]
     },
     "metadata": {},
     "output_type": "display_data"
    },
    {
     "data": {
      "text/html": [
       "<p><b>result</b> <i>3</i></p>"
      ],
      "text/plain": [
       "<IPython.core.display.HTML object>"
      ]
     },
     "metadata": {},
     "output_type": "display_data"
    },
    {
     "data": {
      "text/html": [
       "<div class=\"outeritem\">\n",
       "<div class=\"None  \" >\n",
       "\n",
       "    <div class=\"ll\">\n",
       "        <div class=\"line\"><a href=\"https://github.com/CambridgeSemiticsLab/nena_corpus/blob/master/texts/Barwar/The Monk And The Angel\" title=\"see this passage in its source document\" sec=\"Barwar\">Barwar</a></div>\n",
       "\n",
       "        <div class=\"features\"> <span class=\"dialect xft\"><span class=\"f\">dialect=</span>Barwar</span></div>\n",
       "    </div>\n",
       "\n",
       "</div>\n",
       "</div>"
      ],
      "text/plain": [
       "<IPython.core.display.HTML object>"
      ]
     },
     "metadata": {},
     "output_type": "display_data"
    },
    {
     "data": {
      "text/html": [
       "<a href=\"https://github.com/CambridgeSemiticsLab/nena_corpus/blob/master/texts/Barwar/The Monk And The Angel\" title=\"see this passage in its source document\" sec=\"Barwar, The Monk And The Angel, Ln. 1\">Barwar, The Monk And The Angel, Ln. 1</a>\n",
       "<div class=\"outeritem\">\n",
       "<div class=\"macro  \" >\n",
       "<div class=\"features\"></div>\n",
       "<div class=\"prosa  \" >\n",
       "<div class=\"features\"></div>\n",
       "<div class=\"word  hl\" >\n",
       "<div class=\"ara\">tìwle,ˈ </div>\n",
       "<div class=\"features\"></div>\n",
       "</div>\n",
       "</div>\n",
       "<div class=\"prosa  \" >\n",
       "<div class=\"features\"></div>\n",
       "<div class=\"word  \" >\n",
       "<div class=\"ara\">xílle </div>\n",
       "<div class=\"features\"></div>\n",
       "</div>\n",
       "<div class=\"word  \" >\n",
       "<div class=\"ara\">mə̀ndi,ˈ </div>\n",
       "<div class=\"features\"></div>\n",
       "</div>\n",
       "</div>\n",
       "<div class=\"prosa  \" >\n",
       "<div class=\"features\"></div>\n",
       "<div class=\"word  \" >\n",
       "<div class=\"ara\">štéle </div>\n",
       "<div class=\"features\"></div>\n",
       "</div>\n",
       "<div class=\"word  \" >\n",
       "<div class=\"ara\">mìya.ˈ </div>\n",
       "<div class=\"features\"></div>\n",
       "</div>\n",
       "</div>\n",
       "</div>\n",
       "</div>"
      ],
      "text/plain": [
       "<IPython.core.display.HTML object>"
      ]
     },
     "metadata": {},
     "output_type": "display_data"
    },
    {
     "data": {
      "text/html": [
       "<p><b>result</b> <i>4</i></p>"
      ],
      "text/plain": [
       "<IPython.core.display.HTML object>"
      ]
     },
     "metadata": {},
     "output_type": "display_data"
    },
    {
     "data": {
      "text/html": [
       "<div class=\"outeritem\">\n",
       "<div class=\"None  \" >\n",
       "\n",
       "    <div class=\"ll\">\n",
       "        <div class=\"line\"><a href=\"https://github.com/CambridgeSemiticsLab/nena_corpus/blob/master/texts/Barwar/The Monk And The Angel\" title=\"see this passage in its source document\" sec=\"Barwar\">Barwar</a></div>\n",
       "\n",
       "        <div class=\"features\"> <span class=\"dialect xft\"><span class=\"f\">dialect=</span>Barwar</span></div>\n",
       "    </div>\n",
       "\n",
       "</div>\n",
       "</div>"
      ],
      "text/plain": [
       "<IPython.core.display.HTML object>"
      ]
     },
     "metadata": {},
     "output_type": "display_data"
    },
    {
     "data": {
      "text/html": [
       "<a href=\"https://github.com/CambridgeSemiticsLab/nena_corpus/blob/master/texts/Barwar/The Monk And The Angel\" title=\"see this passage in its source document\" sec=\"Barwar, The Monk And The Angel, Ln. 1\">Barwar, The Monk And The Angel, Ln. 1</a>\n",
       "<div class=\"outeritem\">\n",
       "<div class=\"macro  \" >\n",
       "<div class=\"features\"></div>\n",
       "<div class=\"prosa  \" >\n",
       "<div class=\"features\"></div>\n",
       "<div class=\"word  \" >\n",
       "<div class=\"ara\">tìwle,ˈ </div>\n",
       "<div class=\"features\"></div>\n",
       "</div>\n",
       "</div>\n",
       "<div class=\"prosa  \" >\n",
       "<div class=\"features\"></div>\n",
       "<div class=\"word  hl\" >\n",
       "<div class=\"ara\">xílle </div>\n",
       "<div class=\"features\"></div>\n",
       "</div>\n",
       "<div class=\"word  \" >\n",
       "<div class=\"ara\">mə̀ndi,ˈ </div>\n",
       "<div class=\"features\"></div>\n",
       "</div>\n",
       "</div>\n",
       "<div class=\"prosa  \" >\n",
       "<div class=\"features\"></div>\n",
       "<div class=\"word  \" >\n",
       "<div class=\"ara\">štéle </div>\n",
       "<div class=\"features\"></div>\n",
       "</div>\n",
       "<div class=\"word  \" >\n",
       "<div class=\"ara\">mìya.ˈ </div>\n",
       "<div class=\"features\"></div>\n",
       "</div>\n",
       "</div>\n",
       "</div>\n",
       "</div>"
      ],
      "text/plain": [
       "<IPython.core.display.HTML object>"
      ]
     },
     "metadata": {},
     "output_type": "display_data"
    },
    {
     "data": {
      "text/html": [
       "<p><b>result</b> <i>5</i></p>"
      ],
      "text/plain": [
       "<IPython.core.display.HTML object>"
      ]
     },
     "metadata": {},
     "output_type": "display_data"
    },
    {
     "data": {
      "text/html": [
       "<div class=\"outeritem\">\n",
       "<div class=\"None  \" >\n",
       "\n",
       "    <div class=\"ll\">\n",
       "        <div class=\"line\"><a href=\"https://github.com/CambridgeSemiticsLab/nena_corpus/blob/master/texts/Barwar/The Monk And The Angel\" title=\"see this passage in its source document\" sec=\"Barwar\">Barwar</a></div>\n",
       "\n",
       "        <div class=\"features\"> <span class=\"dialect xft\"><span class=\"f\">dialect=</span>Barwar</span></div>\n",
       "    </div>\n",
       "\n",
       "</div>\n",
       "</div>"
      ],
      "text/plain": [
       "<IPython.core.display.HTML object>"
      ]
     },
     "metadata": {},
     "output_type": "display_data"
    },
    {
     "data": {
      "text/html": [
       "<a href=\"https://github.com/CambridgeSemiticsLab/nena_corpus/blob/master/texts/Barwar/The Monk And The Angel\" title=\"see this passage in its source document\" sec=\"Barwar, The Monk And The Angel, Ln. 1\">Barwar, The Monk And The Angel, Ln. 1</a>\n",
       "<div class=\"outeritem\">\n",
       "<div class=\"macro  \" >\n",
       "<div class=\"features\"></div>\n",
       "<div class=\"prosa  \" >\n",
       "<div class=\"features\"></div>\n",
       "<div class=\"word  \" >\n",
       "<div class=\"ara\">tìwle,ˈ </div>\n",
       "<div class=\"features\"></div>\n",
       "</div>\n",
       "</div>\n",
       "<div class=\"prosa  \" >\n",
       "<div class=\"features\"></div>\n",
       "<div class=\"word  \" >\n",
       "<div class=\"ara\">xílle </div>\n",
       "<div class=\"features\"></div>\n",
       "</div>\n",
       "<div class=\"word  \" >\n",
       "<div class=\"ara\">mə̀ndi,ˈ </div>\n",
       "<div class=\"features\"></div>\n",
       "</div>\n",
       "</div>\n",
       "<div class=\"prosa  \" >\n",
       "<div class=\"features\"></div>\n",
       "<div class=\"word  hl\" >\n",
       "<div class=\"ara\">štéle </div>\n",
       "<div class=\"features\"></div>\n",
       "</div>\n",
       "<div class=\"word  \" >\n",
       "<div class=\"ara\">mìya.ˈ </div>\n",
       "<div class=\"features\"></div>\n",
       "</div>\n",
       "</div>\n",
       "</div>\n",
       "</div>"
      ],
      "text/plain": [
       "<IPython.core.display.HTML object>"
      ]
     },
     "metadata": {},
     "output_type": "display_data"
    },
    {
     "data": {
      "text/html": [
       "<p><b>result</b> <i>6</i></p>"
      ],
      "text/plain": [
       "<IPython.core.display.HTML object>"
      ]
     },
     "metadata": {},
     "output_type": "display_data"
    },
    {
     "data": {
      "text/html": [
       "<div class=\"outeritem\">\n",
       "<div class=\"None  \" >\n",
       "\n",
       "    <div class=\"ll\">\n",
       "        <div class=\"line\"><a href=\"https://github.com/CambridgeSemiticsLab/nena_corpus/blob/master/texts/Barwar/The Monk And The Angel\" title=\"see this passage in its source document\" sec=\"Barwar\">Barwar</a></div>\n",
       "\n",
       "        <div class=\"features\"> <span class=\"dialect xft\"><span class=\"f\">dialect=</span>Barwar</span></div>\n",
       "    </div>\n",
       "\n",
       "</div>\n",
       "</div>"
      ],
      "text/plain": [
       "<IPython.core.display.HTML object>"
      ]
     },
     "metadata": {},
     "output_type": "display_data"
    },
    {
     "data": {
      "text/html": [
       "<a href=\"https://github.com/CambridgeSemiticsLab/nena_corpus/blob/master/texts/Barwar/The Monk And The Angel\" title=\"see this passage in its source document\" sec=\"Barwar, The Monk And The Angel, Ln. 1\">Barwar, The Monk And The Angel, Ln. 1</a>\n",
       "<div class=\"outeritem\">\n",
       "<div class=\"macro  \" >\n",
       "<div class=\"features\"></div>\n",
       "<div class=\"prosa  \" >\n",
       "<div class=\"features\"></div>\n",
       "<div class=\"word  hl\" >\n",
       "<div class=\"ara\">ʾíθwale </div>\n",
       "<div class=\"features\"></div>\n",
       "</div>\n",
       "<div class=\"word  \" >\n",
       "<div class=\"ara\">xákma </div>\n",
       "<div class=\"features\"></div>\n",
       "</div>\n",
       "<div class=\"word  \" >\n",
       "<div class=\"ara\">zùze.ˈ </div>\n",
       "<div class=\"features\"></div>\n",
       "</div>\n",
       "</div>\n",
       "</div>\n",
       "</div>"
      ],
      "text/plain": [
       "<IPython.core.display.HTML object>"
      ]
     },
     "metadata": {},
     "output_type": "display_data"
    },
    {
     "data": {
      "text/html": [
       "<p><b>result</b> <i>7</i></p>"
      ],
      "text/plain": [
       "<IPython.core.display.HTML object>"
      ]
     },
     "metadata": {},
     "output_type": "display_data"
    },
    {
     "data": {
      "text/html": [
       "<div class=\"outeritem\">\n",
       "<div class=\"None  \" >\n",
       "\n",
       "    <div class=\"ll\">\n",
       "        <div class=\"line\"><a href=\"https://github.com/CambridgeSemiticsLab/nena_corpus/blob/master/texts/Barwar/The Monk And The Angel\" title=\"see this passage in its source document\" sec=\"Barwar\">Barwar</a></div>\n",
       "\n",
       "        <div class=\"features\"> <span class=\"dialect xft\"><span class=\"f\">dialect=</span>Barwar</span></div>\n",
       "    </div>\n",
       "\n",
       "</div>\n",
       "</div>"
      ],
      "text/plain": [
       "<IPython.core.display.HTML object>"
      ]
     },
     "metadata": {},
     "output_type": "display_data"
    },
    {
     "data": {
      "text/html": [
       "<a href=\"https://github.com/CambridgeSemiticsLab/nena_corpus/blob/master/texts/Barwar/The Monk And The Angel\" title=\"see this passage in its source document\" sec=\"Barwar, The Monk And The Angel, Ln. 1\">Barwar, The Monk And The Angel, Ln. 1</a>\n",
       "<div class=\"outeritem\">\n",
       "<div class=\"macro  \" >\n",
       "<div class=\"features\"></div>\n",
       "<div class=\"prosa  \" >\n",
       "<div class=\"features\"></div>\n",
       "<div class=\"word  hl\" >\n",
       "<div class=\"ara\">qímle </div>\n",
       "<div class=\"features\"></div>\n",
       "</div>\n",
       "<div class=\"word  \" >\n",
       "<div class=\"ara\">šqilìle.ˈ </div>\n",
       "<div class=\"features\"></div>\n",
       "</div>\n",
       "</div>\n",
       "</div>\n",
       "</div>"
      ],
      "text/plain": [
       "<IPython.core.display.HTML object>"
      ]
     },
     "metadata": {},
     "output_type": "display_data"
    },
    {
     "data": {
      "text/html": [
       "<p><b>result</b> <i>8</i></p>"
      ],
      "text/plain": [
       "<IPython.core.display.HTML object>"
      ]
     },
     "metadata": {},
     "output_type": "display_data"
    },
    {
     "data": {
      "text/html": [
       "<div class=\"outeritem\">\n",
       "<div class=\"None  \" >\n",
       "\n",
       "    <div class=\"ll\">\n",
       "        <div class=\"line\"><a href=\"https://github.com/CambridgeSemiticsLab/nena_corpus/blob/master/texts/Barwar/The Monk And The Angel\" title=\"see this passage in its source document\" sec=\"Barwar\">Barwar</a></div>\n",
       "\n",
       "        <div class=\"features\"> <span class=\"dialect xft\"><span class=\"f\">dialect=</span>Barwar</span></div>\n",
       "    </div>\n",
       "\n",
       "</div>\n",
       "</div>"
      ],
      "text/plain": [
       "<IPython.core.display.HTML object>"
      ]
     },
     "metadata": {},
     "output_type": "display_data"
    },
    {
     "data": {
      "text/html": [
       "<a href=\"https://github.com/CambridgeSemiticsLab/nena_corpus/blob/master/texts/Barwar/The Monk And The Angel\" title=\"see this passage in its source document\" sec=\"Barwar, The Monk And The Angel, Ln. 1\">Barwar, The Monk And The Angel, Ln. 1</a>\n",
       "<div class=\"outeritem\">\n",
       "<div class=\"macro  \" >\n",
       "<div class=\"features\"></div>\n",
       "<div class=\"prosa  \" >\n",
       "<div class=\"features\"></div>\n",
       "<div class=\"word  \" >\n",
       "<div class=\"ara\">qímle </div>\n",
       "<div class=\"features\"></div>\n",
       "</div>\n",
       "<div class=\"word  hl\" >\n",
       "<div class=\"ara\">šqilìle.ˈ </div>\n",
       "<div class=\"features\"></div>\n",
       "</div>\n",
       "</div>\n",
       "</div>\n",
       "</div>"
      ],
      "text/plain": [
       "<IPython.core.display.HTML object>"
      ]
     },
     "metadata": {},
     "output_type": "display_data"
    },
    {
     "data": {
      "text/html": [
       "<p><b>result</b> <i>9</i></p>"
      ],
      "text/plain": [
       "<IPython.core.display.HTML object>"
      ]
     },
     "metadata": {},
     "output_type": "display_data"
    },
    {
     "data": {
      "text/html": [
       "<div class=\"outeritem\">\n",
       "<div class=\"None  \" >\n",
       "\n",
       "    <div class=\"ll\">\n",
       "        <div class=\"line\"><a href=\"https://github.com/CambridgeSemiticsLab/nena_corpus/blob/master/texts/Barwar/The Monk And The Angel\" title=\"see this passage in its source document\" sec=\"Barwar\">Barwar</a></div>\n",
       "\n",
       "        <div class=\"features\"> <span class=\"dialect xft\"><span class=\"f\">dialect=</span>Barwar</span></div>\n",
       "    </div>\n",
       "\n",
       "</div>\n",
       "</div>"
      ],
      "text/plain": [
       "<IPython.core.display.HTML object>"
      ]
     },
     "metadata": {},
     "output_type": "display_data"
    },
    {
     "data": {
      "text/html": [
       "<a href=\"https://github.com/CambridgeSemiticsLab/nena_corpus/blob/master/texts/Barwar/The Monk And The Angel\" title=\"see this passage in its source document\" sec=\"Barwar, The Monk And The Angel, Ln. 1\">Barwar, The Monk And The Angel, Ln. 1</a>\n",
       "<div class=\"outeritem\">\n",
       "<div class=\"macro  \" >\n",
       "<div class=\"features\"></div>\n",
       "<div class=\"prosa  \" >\n",
       "<div class=\"features\"></div>\n",
       "<div class=\"word  hl\" >\n",
       "<div class=\"ara\">muttìleˈ </div>\n",
       "<div class=\"features\"></div>\n",
       "</div>\n",
       "</div>\n",
       "<div class=\"prosa  \" >\n",
       "<div class=\"features\"></div>\n",
       "<div class=\"word  \" >\n",
       "<div class=\"ara\">rəš-d-ɛ-ʾɛ̀na.ˈ </div>\n",
       "<div class=\"features\"></div>\n",
       "</div>\n",
       "</div>\n",
       "</div>\n",
       "</div>"
      ],
      "text/plain": [
       "<IPython.core.display.HTML object>"
      ]
     },
     "metadata": {},
     "output_type": "display_data"
    },
    {
     "data": {
      "text/html": [
       "<p><b>result</b> <i>10</i></p>"
      ],
      "text/plain": [
       "<IPython.core.display.HTML object>"
      ]
     },
     "metadata": {},
     "output_type": "display_data"
    },
    {
     "data": {
      "text/html": [
       "<div class=\"outeritem\">\n",
       "<div class=\"None  \" >\n",
       "\n",
       "    <div class=\"ll\">\n",
       "        <div class=\"line\"><a href=\"https://github.com/CambridgeSemiticsLab/nena_corpus/blob/master/texts/Barwar/The Monk And The Angel\" title=\"see this passage in its source document\" sec=\"Barwar\">Barwar</a></div>\n",
       "\n",
       "        <div class=\"features\"> <span class=\"dialect xft\"><span class=\"f\">dialect=</span>Barwar</span></div>\n",
       "    </div>\n",
       "\n",
       "</div>\n",
       "</div>"
      ],
      "text/plain": [
       "<IPython.core.display.HTML object>"
      ]
     },
     "metadata": {},
     "output_type": "display_data"
    },
    {
     "data": {
      "text/html": [
       "<a href=\"https://github.com/CambridgeSemiticsLab/nena_corpus/blob/master/texts/Barwar/The Monk And The Angel\" title=\"see this passage in its source document\" sec=\"Barwar, The Monk And The Angel, Ln. 1\">Barwar, The Monk And The Angel, Ln. 1</a>\n",
       "<div class=\"outeritem\">\n",
       "<div class=\"macro  \" >\n",
       "<div class=\"features\"></div>\n",
       "<div class=\"prosa  \" >\n",
       "<div class=\"features\"></div>\n",
       "<div class=\"word  \" >\n",
       "<div class=\"ara\">ʾàwwaˈ </div>\n",
       "<div class=\"features\"></div>\n",
       "</div>\n",
       "</div>\n",
       "<div class=\"prosa  \" >\n",
       "<div class=\"features\"></div>\n",
       "<div class=\"word  hl\" >\n",
       "<div class=\"ara\">munšìle </div>\n",
       "<div class=\"features\"></div>\n",
       "</div>\n",
       "<div class=\"word  \" >\n",
       "<div class=\"ara\">zúze </div>\n",
       "<div class=\"features\"></div>\n",
       "</div>\n",
       "<div class=\"word  \" >\n",
       "<div class=\"ara\">díye.ˈ </div>\n",
       "<div class=\"features\"></div>\n",
       "</div>\n",
       "</div>\n",
       "</div>\n",
       "</div>"
      ],
      "text/plain": [
       "<IPython.core.display.HTML object>"
      ]
     },
     "metadata": {},
     "output_type": "display_data"
    },
    {
     "data": {
      "text/html": [
       "<p><b>result</b> <i>11</i></p>"
      ],
      "text/plain": [
       "<IPython.core.display.HTML object>"
      ]
     },
     "metadata": {},
     "output_type": "display_data"
    },
    {
     "data": {
      "text/html": [
       "<div class=\"outeritem\">\n",
       "<div class=\"None  \" >\n",
       "\n",
       "    <div class=\"ll\">\n",
       "        <div class=\"line\"><a href=\"https://github.com/CambridgeSemiticsLab/nena_corpus/blob/master/texts/Barwar/The Monk And The Angel\" title=\"see this passage in its source document\" sec=\"Barwar\">Barwar</a></div>\n",
       "\n",
       "        <div class=\"features\"> <span class=\"dialect xft\"><span class=\"f\">dialect=</span>Barwar</span></div>\n",
       "    </div>\n",
       "\n",
       "</div>\n",
       "</div>"
      ],
      "text/plain": [
       "<IPython.core.display.HTML object>"
      ]
     },
     "metadata": {},
     "output_type": "display_data"
    },
    {
     "data": {
      "text/html": [
       "<a href=\"https://github.com/CambridgeSemiticsLab/nena_corpus/blob/master/texts/Barwar/The Monk And The Angel\" title=\"see this passage in its source document\" sec=\"Barwar, The Monk And The Angel, Ln. 1\">Barwar, The Monk And The Angel, Ln. 1</a>\n",
       "<div class=\"outeritem\">\n",
       "<div class=\"macro  \" >\n",
       "<div class=\"features\"></div>\n",
       "<div class=\"prosa  \" >\n",
       "<div class=\"features\"></div>\n",
       "<div class=\"word  hl\" >\n",
       "<div class=\"ara\">zìlle.ˈ </div>\n",
       "<div class=\"features\"></div>\n",
       "</div>\n",
       "</div>\n",
       "</div>\n",
       "</div>"
      ],
      "text/plain": [
       "<IPython.core.display.HTML object>"
      ]
     },
     "metadata": {},
     "output_type": "display_data"
    },
    {
     "data": {
      "text/html": [
       "<p><b>result</b> <i>12</i></p>"
      ],
      "text/plain": [
       "<IPython.core.display.HTML object>"
      ]
     },
     "metadata": {},
     "output_type": "display_data"
    },
    {
     "data": {
      "text/html": [
       "<div class=\"outeritem\">\n",
       "<div class=\"None  \" >\n",
       "\n",
       "    <div class=\"ll\">\n",
       "        <div class=\"line\"><a href=\"https://github.com/CambridgeSemiticsLab/nena_corpus/blob/master/texts/Barwar/The Monk And The Angel\" title=\"see this passage in its source document\" sec=\"Barwar\">Barwar</a></div>\n",
       "\n",
       "        <div class=\"features\"> <span class=\"dialect xft\"><span class=\"f\">dialect=</span>Barwar</span></div>\n",
       "    </div>\n",
       "\n",
       "</div>\n",
       "</div>"
      ],
      "text/plain": [
       "<IPython.core.display.HTML object>"
      ]
     },
     "metadata": {},
     "output_type": "display_data"
    },
    {
     "data": {
      "text/html": [
       "<a href=\"https://github.com/CambridgeSemiticsLab/nena_corpus/blob/master/texts/Barwar/The Monk And The Angel\" title=\"see this passage in its source document\" sec=\"Barwar, The Monk And The Angel, Ln. 1\">Barwar, The Monk And The Angel, Ln. 1</a>\n",
       "<div class=\"outeritem\">\n",
       "<div class=\"macro  \" >\n",
       "<div class=\"features\"></div>\n",
       "<div class=\"prosa  \" >\n",
       "<div class=\"features\"></div>\n",
       "<div class=\"word  \" >\n",
       "<div class=\"ara\">ʾáwwa </div>\n",
       "<div class=\"features\"></div>\n",
       "</div>\n",
       "<div class=\"word  hl\" >\n",
       "<div class=\"ara\">zílle </div>\n",
       "<div class=\"features\"></div>\n",
       "</div>\n",
       "<div class=\"word  \" >\n",
       "<div class=\"ara\">b-ʾùrxa.ˈ</div>\n",
       "<div class=\"features\"></div>\n",
       "</div>\n",
       "</div>\n",
       "</div>\n",
       "</div>"
      ],
      "text/plain": [
       "<IPython.core.display.HTML object>"
      ]
     },
     "metadata": {},
     "output_type": "display_data"
    },
    {
     "data": {
      "text/html": [
       "<p><b>result</b> <i>13</i></p>"
      ],
      "text/plain": [
       "<IPython.core.display.HTML object>"
      ]
     },
     "metadata": {},
     "output_type": "display_data"
    },
    {
     "data": {
      "text/html": [
       "<div class=\"outeritem\">\n",
       "<div class=\"None  \" >\n",
       "\n",
       "    <div class=\"ll\">\n",
       "        <div class=\"line\"><a href=\"https://github.com/CambridgeSemiticsLab/nena_corpus/blob/master/texts/Barwar/The Monk And The Angel\" title=\"see this passage in its source document\" sec=\"Barwar\">Barwar</a></div>\n",
       "\n",
       "        <div class=\"features\"> <span class=\"dialect xft\"><span class=\"f\">dialect=</span>Barwar</span></div>\n",
       "    </div>\n",
       "\n",
       "</div>\n",
       "</div>"
      ],
      "text/plain": [
       "<IPython.core.display.HTML object>"
      ]
     },
     "metadata": {},
     "output_type": "display_data"
    },
    {
     "data": {
      "text/html": [
       "<a href=\"https://github.com/CambridgeSemiticsLab/nena_corpus/blob/master/texts/Barwar/The Monk And The Angel\" title=\"see this passage in its source document\" sec=\"Barwar, The Monk And The Angel, Ln. 2\">Barwar, The Monk And The Angel, Ln. 2</a>\n",
       "<div class=\"outeritem\">\n",
       "<div class=\"macro  \" >\n",
       "<div class=\"features\"></div>\n",
       "<div class=\"prosa  \" >\n",
       "<div class=\"features\"></div>\n",
       "<div class=\"word  hl\" >\n",
       "<div class=\"ara\">θéle </div>\n",
       "<div class=\"features\"></div>\n",
       "</div>\n",
       "<div class=\"word  \" >\n",
       "<div class=\"ara\">xá </div>\n",
       "<div class=\"features\"></div>\n",
       "</div>\n",
       "<div class=\"word  \" >\n",
       "<div class=\"ara\">rakáwa </div>\n",
       "<div class=\"features\"></div>\n",
       "</div>\n",
       "<div class=\"word  \" >\n",
       "<div class=\"ara\">xèna,ˈ </div>\n",
       "<div class=\"features\"></div>\n",
       "</div>\n",
       "</div>\n",
       "<div class=\"prosa  \" >\n",
       "<div class=\"features\"></div>\n",
       "<div class=\"word  \" >\n",
       "<div class=\"ara\">swarìya.ˈ </div>\n",
       "<div class=\"features\"></div>\n",
       "</div>\n",
       "</div>\n",
       "</div>\n",
       "</div>"
      ],
      "text/plain": [
       "<IPython.core.display.HTML object>"
      ]
     },
     "metadata": {},
     "output_type": "display_data"
    },
    {
     "data": {
      "text/html": [
       "<p><b>result</b> <i>14</i></p>"
      ],
      "text/plain": [
       "<IPython.core.display.HTML object>"
      ]
     },
     "metadata": {},
     "output_type": "display_data"
    },
    {
     "data": {
      "text/html": [
       "<div class=\"outeritem\">\n",
       "<div class=\"None  \" >\n",
       "\n",
       "    <div class=\"ll\">\n",
       "        <div class=\"line\"><a href=\"https://github.com/CambridgeSemiticsLab/nena_corpus/blob/master/texts/Barwar/The Monk And The Angel\" title=\"see this passage in its source document\" sec=\"Barwar\">Barwar</a></div>\n",
       "\n",
       "        <div class=\"features\"> <span class=\"dialect xft\"><span class=\"f\">dialect=</span>Barwar</span></div>\n",
       "    </div>\n",
       "\n",
       "</div>\n",
       "</div>"
      ],
      "text/plain": [
       "<IPython.core.display.HTML object>"
      ]
     },
     "metadata": {},
     "output_type": "display_data"
    },
    {
     "data": {
      "text/html": [
       "<a href=\"https://github.com/CambridgeSemiticsLab/nena_corpus/blob/master/texts/Barwar/The Monk And The Angel\" title=\"see this passage in its source document\" sec=\"Barwar, The Monk And The Angel, Ln. 2\">Barwar, The Monk And The Angel, Ln. 2</a>\n",
       "<div class=\"outeritem\">\n",
       "<div class=\"macro  \" >\n",
       "<div class=\"features\"></div>\n",
       "<div class=\"prosa  \" >\n",
       "<div class=\"features\"></div>\n",
       "<div class=\"word  hl\" >\n",
       "<div class=\"ara\">zílle </div>\n",
       "<div class=\"features\"></div>\n",
       "</div>\n",
       "<div class=\"word  \" >\n",
       "<div class=\"ara\">rəš-ʾɛ̀na.ˈ </div>\n",
       "<div class=\"features\"></div>\n",
       "</div>\n",
       "</div>\n",
       "</div>\n",
       "</div>"
      ],
      "text/plain": [
       "<IPython.core.display.HTML object>"
      ]
     },
     "metadata": {},
     "output_type": "display_data"
    },
    {
     "data": {
      "text/html": [
       "<p><b>result</b> <i>15</i></p>"
      ],
      "text/plain": [
       "<IPython.core.display.HTML object>"
      ]
     },
     "metadata": {},
     "output_type": "display_data"
    },
    {
     "data": {
      "text/html": [
       "<div class=\"outeritem\">\n",
       "<div class=\"None  \" >\n",
       "\n",
       "    <div class=\"ll\">\n",
       "        <div class=\"line\"><a href=\"https://github.com/CambridgeSemiticsLab/nena_corpus/blob/master/texts/Barwar/The Monk And The Angel\" title=\"see this passage in its source document\" sec=\"Barwar\">Barwar</a></div>\n",
       "\n",
       "        <div class=\"features\"> <span class=\"dialect xft\"><span class=\"f\">dialect=</span>Barwar</span></div>\n",
       "    </div>\n",
       "\n",
       "</div>\n",
       "</div>"
      ],
      "text/plain": [
       "<IPython.core.display.HTML object>"
      ]
     },
     "metadata": {},
     "output_type": "display_data"
    },
    {
     "data": {
      "text/html": [
       "<a href=\"https://github.com/CambridgeSemiticsLab/nena_corpus/blob/master/texts/Barwar/The Monk And The Angel\" title=\"see this passage in its source document\" sec=\"Barwar, The Monk And The Angel, Ln. 2\">Barwar, The Monk And The Angel, Ln. 2</a>\n",
       "<div class=\"outeritem\">\n",
       "<div class=\"macro  \" >\n",
       "<div class=\"features\"></div>\n",
       "<div class=\"prosa  \" >\n",
       "<div class=\"features\"></div>\n",
       "<div class=\"word  hl\" >\n",
       "<div class=\"ara\">qəm-xazèlaˈ </div>\n",
       "<div class=\"features\"></div>\n",
       "</div>\n",
       "</div>\n",
       "<div class=\"prosa  \" >\n",
       "<div class=\"features\"></div>\n",
       "<div class=\"word  \" >\n",
       "<div class=\"ara\">ʾə̀mma </div>\n",
       "<div class=\"features\"></div>\n",
       "</div>\n",
       "<div class=\"word  \" >\n",
       "<div class=\"ara\">dináre.ˈ </div>\n",
       "<div class=\"features\"></div>\n",
       "</div>\n",
       "</div>\n",
       "</div>\n",
       "</div>"
      ],
      "text/plain": [
       "<IPython.core.display.HTML object>"
      ]
     },
     "metadata": {},
     "output_type": "display_data"
    },
    {
     "data": {
      "text/html": [
       "<p><b>result</b> <i>16</i></p>"
      ],
      "text/plain": [
       "<IPython.core.display.HTML object>"
      ]
     },
     "metadata": {},
     "output_type": "display_data"
    },
    {
     "data": {
      "text/html": [
       "<div class=\"outeritem\">\n",
       "<div class=\"None  \" >\n",
       "\n",
       "    <div class=\"ll\">\n",
       "        <div class=\"line\"><a href=\"https://github.com/CambridgeSemiticsLab/nena_corpus/blob/master/texts/Barwar/The Monk And The Angel\" title=\"see this passage in its source document\" sec=\"Barwar\">Barwar</a></div>\n",
       "\n",
       "        <div class=\"features\"> <span class=\"dialect xft\"><span class=\"f\">dialect=</span>Barwar</span></div>\n",
       "    </div>\n",
       "\n",
       "</div>\n",
       "</div>"
      ],
      "text/plain": [
       "<IPython.core.display.HTML object>"
      ]
     },
     "metadata": {},
     "output_type": "display_data"
    },
    {
     "data": {
      "text/html": [
       "<a href=\"https://github.com/CambridgeSemiticsLab/nena_corpus/blob/master/texts/Barwar/The Monk And The Angel\" title=\"see this passage in its source document\" sec=\"Barwar, The Monk And The Angel, Ln. 2\">Barwar, The Monk And The Angel, Ln. 2</a>\n",
       "<div class=\"outeritem\">\n",
       "<div class=\"macro  \" >\n",
       "<div class=\"features\"></div>\n",
       "<div class=\"prosa  \" >\n",
       "<div class=\"features\"></div>\n",
       "<div class=\"word  hl\" >\n",
       "<div class=\"ara\">šqilíle </div>\n",
       "<div class=\"features\"></div>\n",
       "</div>\n",
       "<div class=\"word  \" >\n",
       "<div class=\"ara\">jal-jàldeˈ </div>\n",
       "<div class=\"features\"></div>\n",
       "</div>\n",
       "</div>\n",
       "<div class=\"prosa  \" >\n",
       "<div class=\"features\"></div>\n",
       "<div class=\"word  \" >\n",
       "<div class=\"ara\">muttíle </div>\n",
       "<div class=\"features\"></div>\n",
       "</div>\n",
       "<div class=\"word  \" >\n",
       "<div class=\"ara\">gu-jɛ̀beˈ </div>\n",
       "<div class=\"features\"></div>\n",
       "</div>\n",
       "</div>\n",
       "<div class=\"prosa  \" >\n",
       "<div class=\"features\"></div>\n",
       "<div class=\"word  \" >\n",
       "<div class=\"ara\">ʾu-zìlle.ˈ </div>\n",
       "<div class=\"features\"></div>\n",
       "</div>\n",
       "</div>\n",
       "</div>\n",
       "</div>"
      ],
      "text/plain": [
       "<IPython.core.display.HTML object>"
      ]
     },
     "metadata": {},
     "output_type": "display_data"
    },
    {
     "data": {
      "text/html": [
       "<p><b>result</b> <i>17</i></p>"
      ],
      "text/plain": [
       "<IPython.core.display.HTML object>"
      ]
     },
     "metadata": {},
     "output_type": "display_data"
    },
    {
     "data": {
      "text/html": [
       "<div class=\"outeritem\">\n",
       "<div class=\"None  \" >\n",
       "\n",
       "    <div class=\"ll\">\n",
       "        <div class=\"line\"><a href=\"https://github.com/CambridgeSemiticsLab/nena_corpus/blob/master/texts/Barwar/The Monk And The Angel\" title=\"see this passage in its source document\" sec=\"Barwar\">Barwar</a></div>\n",
       "\n",
       "        <div class=\"features\"> <span class=\"dialect xft\"><span class=\"f\">dialect=</span>Barwar</span></div>\n",
       "    </div>\n",
       "\n",
       "</div>\n",
       "</div>"
      ],
      "text/plain": [
       "<IPython.core.display.HTML object>"
      ]
     },
     "metadata": {},
     "output_type": "display_data"
    },
    {
     "data": {
      "text/html": [
       "<a href=\"https://github.com/CambridgeSemiticsLab/nena_corpus/blob/master/texts/Barwar/The Monk And The Angel\" title=\"see this passage in its source document\" sec=\"Barwar, The Monk And The Angel, Ln. 2\">Barwar, The Monk And The Angel, Ln. 2</a>\n",
       "<div class=\"outeritem\">\n",
       "<div class=\"macro  \" >\n",
       "<div class=\"features\"></div>\n",
       "<div class=\"prosa  \" >\n",
       "<div class=\"features\"></div>\n",
       "<div class=\"word  \" >\n",
       "<div class=\"ara\">šqilíle </div>\n",
       "<div class=\"features\"></div>\n",
       "</div>\n",
       "<div class=\"word  \" >\n",
       "<div class=\"ara\">jal-jàldeˈ </div>\n",
       "<div class=\"features\"></div>\n",
       "</div>\n",
       "</div>\n",
       "<div class=\"prosa  \" >\n",
       "<div class=\"features\"></div>\n",
       "<div class=\"word  hl\" >\n",
       "<div class=\"ara\">muttíle </div>\n",
       "<div class=\"features\"></div>\n",
       "</div>\n",
       "<div class=\"word  \" >\n",
       "<div class=\"ara\">gu-jɛ̀beˈ </div>\n",
       "<div class=\"features\"></div>\n",
       "</div>\n",
       "</div>\n",
       "<div class=\"prosa  \" >\n",
       "<div class=\"features\"></div>\n",
       "<div class=\"word  \" >\n",
       "<div class=\"ara\">ʾu-zìlle.ˈ </div>\n",
       "<div class=\"features\"></div>\n",
       "</div>\n",
       "</div>\n",
       "</div>\n",
       "</div>"
      ],
      "text/plain": [
       "<IPython.core.display.HTML object>"
      ]
     },
     "metadata": {},
     "output_type": "display_data"
    },
    {
     "data": {
      "text/html": [
       "<p><b>result</b> <i>18</i></p>"
      ],
      "text/plain": [
       "<IPython.core.display.HTML object>"
      ]
     },
     "metadata": {},
     "output_type": "display_data"
    },
    {
     "data": {
      "text/html": [
       "<div class=\"outeritem\">\n",
       "<div class=\"None  \" >\n",
       "\n",
       "    <div class=\"ll\">\n",
       "        <div class=\"line\"><a href=\"https://github.com/CambridgeSemiticsLab/nena_corpus/blob/master/texts/Barwar/The Monk And The Angel\" title=\"see this passage in its source document\" sec=\"Barwar\">Barwar</a></div>\n",
       "\n",
       "        <div class=\"features\"> <span class=\"dialect xft\"><span class=\"f\">dialect=</span>Barwar</span></div>\n",
       "    </div>\n",
       "\n",
       "</div>\n",
       "</div>"
      ],
      "text/plain": [
       "<IPython.core.display.HTML object>"
      ]
     },
     "metadata": {},
     "output_type": "display_data"
    },
    {
     "data": {
      "text/html": [
       "<a href=\"https://github.com/CambridgeSemiticsLab/nena_corpus/blob/master/texts/Barwar/The Monk And The Angel\" title=\"see this passage in its source document\" sec=\"Barwar, The Monk And The Angel, Ln. 2\">Barwar, The Monk And The Angel, Ln. 2</a>\n",
       "<div class=\"outeritem\">\n",
       "<div class=\"macro  \" >\n",
       "<div class=\"features\"></div>\n",
       "<div class=\"prosa  \" >\n",
       "<div class=\"features\"></div>\n",
       "<div class=\"word  \" >\n",
       "<div class=\"ara\">šqilíle </div>\n",
       "<div class=\"features\"></div>\n",
       "</div>\n",
       "<div class=\"word  \" >\n",
       "<div class=\"ara\">jal-jàldeˈ </div>\n",
       "<div class=\"features\"></div>\n",
       "</div>\n",
       "</div>\n",
       "<div class=\"prosa  \" >\n",
       "<div class=\"features\"></div>\n",
       "<div class=\"word  \" >\n",
       "<div class=\"ara\">muttíle </div>\n",
       "<div class=\"features\"></div>\n",
       "</div>\n",
       "<div class=\"word  \" >\n",
       "<div class=\"ara\">gu-jɛ̀beˈ </div>\n",
       "<div class=\"features\"></div>\n",
       "</div>\n",
       "</div>\n",
       "<div class=\"prosa  \" >\n",
       "<div class=\"features\"></div>\n",
       "<div class=\"word  hl\" >\n",
       "<div class=\"ara\">ʾu-zìlle.ˈ </div>\n",
       "<div class=\"features\"></div>\n",
       "</div>\n",
       "</div>\n",
       "</div>\n",
       "</div>"
      ],
      "text/plain": [
       "<IPython.core.display.HTML object>"
      ]
     },
     "metadata": {},
     "output_type": "display_data"
    },
    {
     "data": {
      "text/html": [
       "<p><b>result</b> <i>19</i></p>"
      ],
      "text/plain": [
       "<IPython.core.display.HTML object>"
      ]
     },
     "metadata": {},
     "output_type": "display_data"
    },
    {
     "data": {
      "text/html": [
       "<div class=\"outeritem\">\n",
       "<div class=\"None  \" >\n",
       "\n",
       "    <div class=\"ll\">\n",
       "        <div class=\"line\"><a href=\"https://github.com/CambridgeSemiticsLab/nena_corpus/blob/master/texts/Barwar/The Monk And The Angel\" title=\"see this passage in its source document\" sec=\"Barwar\">Barwar</a></div>\n",
       "\n",
       "        <div class=\"features\"> <span class=\"dialect xft\"><span class=\"f\">dialect=</span>Barwar</span></div>\n",
       "    </div>\n",
       "\n",
       "</div>\n",
       "</div>"
      ],
      "text/plain": [
       "<IPython.core.display.HTML object>"
      ]
     },
     "metadata": {},
     "output_type": "display_data"
    },
    {
     "data": {
      "text/html": [
       "<a href=\"https://github.com/CambridgeSemiticsLab/nena_corpus/blob/master/texts/Barwar/The Monk And The Angel\" title=\"see this passage in its source document\" sec=\"Barwar, The Monk And The Angel, Ln. 2\">Barwar, The Monk And The Angel, Ln. 2</a>\n",
       "<div class=\"outeritem\">\n",
       "<div class=\"macro  \" >\n",
       "<div class=\"features\"></div>\n",
       "<div class=\"prosa  \" >\n",
       "<div class=\"features\"></div>\n",
       "<div class=\"word  \" >\n",
       "<div class=\"ara\">ʾo-qamàyaˈ </div>\n",
       "<div class=\"features\"></div>\n",
       "</div>\n",
       "</div>\n",
       "<div class=\"prosa  \" >\n",
       "<div class=\"features\"></div>\n",
       "<div class=\"word  \" >\n",
       "<div class=\"ara\">ʾámər </div>\n",
       "<div class=\"features\"></div>\n",
       "</div>\n",
       "<div class=\"word  \" >\n",
       "<div class=\"ara\">ʾòhˈ </div>\n",
       "<div class=\"features\"></div>\n",
       "</div>\n",
       "</div>\n",
       "<div class=\"prosa  \" >\n",
       "<div class=\"features\"></div>\n",
       "<div class=\"word  \" >\n",
       "<div class=\"ara\">zúzi </div>\n",
       "<div class=\"features\"></div>\n",
       "</div>\n",
       "<div class=\"word  hl\" >\n",
       "<div class=\"ara\">munšìli.ˈ </div>\n",
       "<div class=\"features\"></div>\n",
       "</div>\n",
       "</div>\n",
       "</div>\n",
       "</div>"
      ],
      "text/plain": [
       "<IPython.core.display.HTML object>"
      ]
     },
     "metadata": {},
     "output_type": "display_data"
    },
    {
     "data": {
      "text/html": [
       "<p><b>result</b> <i>20</i></p>"
      ],
      "text/plain": [
       "<IPython.core.display.HTML object>"
      ]
     },
     "metadata": {},
     "output_type": "display_data"
    },
    {
     "data": {
      "text/html": [
       "<div class=\"outeritem\">\n",
       "<div class=\"None  \" >\n",
       "\n",
       "    <div class=\"ll\">\n",
       "        <div class=\"line\"><a href=\"https://github.com/CambridgeSemiticsLab/nena_corpus/blob/master/texts/Barwar/The Monk And The Angel\" title=\"see this passage in its source document\" sec=\"Barwar\">Barwar</a></div>\n",
       "\n",
       "        <div class=\"features\"> <span class=\"dialect xft\"><span class=\"f\">dialect=</span>Barwar</span></div>\n",
       "    </div>\n",
       "\n",
       "</div>\n",
       "</div>"
      ],
      "text/plain": [
       "<IPython.core.display.HTML object>"
      ]
     },
     "metadata": {},
     "output_type": "display_data"
    },
    {
     "data": {
      "text/html": [
       "<a href=\"https://github.com/CambridgeSemiticsLab/nena_corpus/blob/master/texts/Barwar/The Monk And The Angel\" title=\"see this passage in its source document\" sec=\"Barwar, The Monk And The Angel, Ln. 2\">Barwar, The Monk And The Angel, Ln. 2</a>\n",
       "<div class=\"outeritem\">\n",
       "<div class=\"macro  \" >\n",
       "<div class=\"features\"></div>\n",
       "<div class=\"prosa  \" >\n",
       "<div class=\"features\"></div>\n",
       "<div class=\"word  \" >\n",
       "<div class=\"ara\">qɛ́mən </div>\n",
       "<div class=\"features\"></div>\n",
       "</div>\n",
       "<div class=\"word  \" >\n",
       "<div class=\"ara\">dɛ̀ṛənˈ </div>\n",
       "<div class=\"features\"></div>\n",
       "</div>\n",
       "</div>\n",
       "<div class=\"prosa  \" >\n",
       "<div class=\"features\"></div>\n",
       "<div class=\"word  \" >\n",
       "<div class=\"ara\">ʾázən </div>\n",
       "<div class=\"features\"></div>\n",
       "</div>\n",
       "<div class=\"word  hl\" >\n",
       "<div class=\"ara\">šáqlən </div>\n",
       "<div class=\"features\"></div>\n",
       "</div>\n",
       "<div class=\"word  \" >\n",
       "<div class=\"ara\">zùziˈ </div>\n",
       "<div class=\"features\"></div>\n",
       "</div>\n",
       "</div>\n",
       "<div class=\"prosa  \" >\n",
       "<div class=\"features\"></div>\n",
       "<div class=\"word  \" >\n",
       "<div class=\"ara\">m-rəš-ʾɛ̀na.ˈ</div>\n",
       "<div class=\"features\"></div>\n",
       "</div>\n",
       "</div>\n",
       "</div>\n",
       "</div>"
      ],
      "text/plain": [
       "<IPython.core.display.HTML object>"
      ]
     },
     "metadata": {},
     "output_type": "display_data"
    },
    {
     "data": {
      "text/html": [
       "<p><b>result</b> <i>21</i></p>"
      ],
      "text/plain": [
       "<IPython.core.display.HTML object>"
      ]
     },
     "metadata": {},
     "output_type": "display_data"
    },
    {
     "data": {
      "text/html": [
       "<div class=\"outeritem\">\n",
       "<div class=\"None  \" >\n",
       "\n",
       "    <div class=\"ll\">\n",
       "        <div class=\"line\"><a href=\"https://github.com/CambridgeSemiticsLab/nena_corpus/blob/master/texts/Barwar/The Monk And The Angel\" title=\"see this passage in its source document\" sec=\"Barwar\">Barwar</a></div>\n",
       "\n",
       "        <div class=\"features\"> <span class=\"dialect xft\"><span class=\"f\">dialect=</span>Barwar</span></div>\n",
       "    </div>\n",
       "\n",
       "</div>\n",
       "</div>"
      ],
      "text/plain": [
       "<IPython.core.display.HTML object>"
      ]
     },
     "metadata": {},
     "output_type": "display_data"
    },
    {
     "data": {
      "text/html": [
       "<a href=\"https://github.com/CambridgeSemiticsLab/nena_corpus/blob/master/texts/Barwar/The Monk And The Angel\" title=\"see this passage in its source document\" sec=\"Barwar, The Monk And The Angel, Ln. 3\">Barwar, The Monk And The Angel, Ln. 3</a>\n",
       "<div class=\"outeritem\">\n",
       "<div class=\"macro  \" >\n",
       "<div class=\"features\"></div>\n",
       "<div class=\"prosa  \" >\n",
       "<div class=\"features\"></div>\n",
       "<div class=\"word  \" >\n",
       "<div class=\"ara\">máṭe </div>\n",
       "<div class=\"features\"></div>\n",
       "</div>\n",
       "<div class=\"word  \" >\n",
       "<div class=\"ara\">rəš-ʾɛ̀naˈ </div>\n",
       "<div class=\"features\"></div>\n",
       "</div>\n",
       "</div>\n",
       "<div class=\"prosa  \" >\n",
       "<div class=\"features\"></div>\n",
       "<div class=\"word  hl\" >\n",
       "<div class=\"ara\">mattúla </div>\n",
       "<div class=\"features\"></div>\n",
       "</div>\n",
       "<div class=\"word  \" >\n",
       "<div class=\"ara\">kàrteˈ </div>\n",
       "<div class=\"features\"></div>\n",
       "</div>\n",
       "</div>\n",
       "<div class=\"prosa  \" >\n",
       "<div class=\"features\"></div>\n",
       "<div class=\"word  \" >\n",
       "<div class=\"ara\">ʾu-tíwle </div>\n",
       "<div class=\"features\"></div>\n",
       "</div>\n",
       "<div class=\"word  \" >\n",
       "<div class=\"ara\">manyòxe.ˈ </div>\n",
       "<div class=\"features\"></div>\n",
       "</div>\n",
       "</div>\n",
       "</div>\n",
       "</div>"
      ],
      "text/plain": [
       "<IPython.core.display.HTML object>"
      ]
     },
     "metadata": {},
     "output_type": "display_data"
    },
    {
     "data": {
      "text/html": [
       "<p><b>result</b> <i>22</i></p>"
      ],
      "text/plain": [
       "<IPython.core.display.HTML object>"
      ]
     },
     "metadata": {},
     "output_type": "display_data"
    },
    {
     "data": {
      "text/html": [
       "<div class=\"outeritem\">\n",
       "<div class=\"None  \" >\n",
       "\n",
       "    <div class=\"ll\">\n",
       "        <div class=\"line\"><a href=\"https://github.com/CambridgeSemiticsLab/nena_corpus/blob/master/texts/Barwar/The Monk And The Angel\" title=\"see this passage in its source document\" sec=\"Barwar\">Barwar</a></div>\n",
       "\n",
       "        <div class=\"features\"> <span class=\"dialect xft\"><span class=\"f\">dialect=</span>Barwar</span></div>\n",
       "    </div>\n",
       "\n",
       "</div>\n",
       "</div>"
      ],
      "text/plain": [
       "<IPython.core.display.HTML object>"
      ]
     },
     "metadata": {},
     "output_type": "display_data"
    },
    {
     "data": {
      "text/html": [
       "<a href=\"https://github.com/CambridgeSemiticsLab/nena_corpus/blob/master/texts/Barwar/The Monk And The Angel\" title=\"see this passage in its source document\" sec=\"Barwar, The Monk And The Angel, Ln. 3\">Barwar, The Monk And The Angel, Ln. 3</a>\n",
       "<div class=\"outeritem\">\n",
       "<div class=\"macro  \" >\n",
       "<div class=\"features\"></div>\n",
       "<div class=\"prosa  \" >\n",
       "<div class=\"features\"></div>\n",
       "<div class=\"word  \" >\n",
       "<div class=\"ara\">máṭe </div>\n",
       "<div class=\"features\"></div>\n",
       "</div>\n",
       "<div class=\"word  \" >\n",
       "<div class=\"ara\">rəš-ʾɛ̀naˈ </div>\n",
       "<div class=\"features\"></div>\n",
       "</div>\n",
       "</div>\n",
       "<div class=\"prosa  \" >\n",
       "<div class=\"features\"></div>\n",
       "<div class=\"word  \" >\n",
       "<div class=\"ara\">mattúla </div>\n",
       "<div class=\"features\"></div>\n",
       "</div>\n",
       "<div class=\"word  \" >\n",
       "<div class=\"ara\">kàrteˈ </div>\n",
       "<div class=\"features\"></div>\n",
       "</div>\n",
       "</div>\n",
       "<div class=\"prosa  \" >\n",
       "<div class=\"features\"></div>\n",
       "<div class=\"word  hl\" >\n",
       "<div class=\"ara\">ʾu-tíwle </div>\n",
       "<div class=\"features\"></div>\n",
       "</div>\n",
       "<div class=\"word  \" >\n",
       "<div class=\"ara\">manyòxe.ˈ </div>\n",
       "<div class=\"features\"></div>\n",
       "</div>\n",
       "</div>\n",
       "</div>\n",
       "</div>"
      ],
      "text/plain": [
       "<IPython.core.display.HTML object>"
      ]
     },
     "metadata": {},
     "output_type": "display_data"
    },
    {
     "data": {
      "text/html": [
       "<p><b>result</b> <i>23</i></p>"
      ],
      "text/plain": [
       "<IPython.core.display.HTML object>"
      ]
     },
     "metadata": {},
     "output_type": "display_data"
    },
    {
     "data": {
      "text/html": [
       "<div class=\"outeritem\">\n",
       "<div class=\"None  \" >\n",
       "\n",
       "    <div class=\"ll\">\n",
       "        <div class=\"line\"><a href=\"https://github.com/CambridgeSemiticsLab/nena_corpus/blob/master/texts/Barwar/The Monk And The Angel\" title=\"see this passage in its source document\" sec=\"Barwar\">Barwar</a></div>\n",
       "\n",
       "        <div class=\"features\"> <span class=\"dialect xft\"><span class=\"f\">dialect=</span>Barwar</span></div>\n",
       "    </div>\n",
       "\n",
       "</div>\n",
       "</div>"
      ],
      "text/plain": [
       "<IPython.core.display.HTML object>"
      ]
     },
     "metadata": {},
     "output_type": "display_data"
    },
    {
     "data": {
      "text/html": [
       "<a href=\"https://github.com/CambridgeSemiticsLab/nena_corpus/blob/master/texts/Barwar/The Monk And The Angel\" title=\"see this passage in its source document\" sec=\"Barwar, The Monk And The Angel, Ln. 3\">Barwar, The Monk And The Angel, Ln. 3</a>\n",
       "<div class=\"outeritem\">\n",
       "<div class=\"macro  \" >\n",
       "<div class=\"features\"></div>\n",
       "<div class=\"prosa  \" >\n",
       "<div class=\"features\"></div>\n",
       "<div class=\"word  \" >\n",
       "<div class=\"ara\">ʾo-qamáya </div>\n",
       "<div class=\"features\"></div>\n",
       "</div>\n",
       "<div class=\"word  hl\" >\n",
       "<div class=\"ara\">ṱ-íle </div>\n",
       "<div class=\"features\"></div>\n",
       "</div>\n",
       "<div class=\"word  \" >\n",
       "<div class=\"ara\">zúze </div>\n",
       "<div class=\"features\"></div>\n",
       "</div>\n",
       "<div class=\"word  \" >\n",
       "<div class=\"ara\">mùnšyaˈ </div>\n",
       "<div class=\"features\"></div>\n",
       "</div>\n",
       "</div>\n",
       "<div class=\"prosa  \" >\n",
       "<div class=\"features\"></div>\n",
       "<div class=\"word  \" >\n",
       "<div class=\"ara\">θéle </div>\n",
       "<div class=\"features\"></div>\n",
       "</div>\n",
       "<div class=\"word  \" >\n",
       "<div class=\"ara\">ʾə́lle </div>\n",
       "<div class=\"features\"></div>\n",
       "</div>\n",
       "<div class=\"word  \" >\n",
       "<div class=\"ara\">dìye.ˈ </div>\n",
       "<div class=\"features\"></div>\n",
       "</div>\n",
       "</div>\n",
       "</div>\n",
       "</div>"
      ],
      "text/plain": [
       "<IPython.core.display.HTML object>"
      ]
     },
     "metadata": {},
     "output_type": "display_data"
    },
    {
     "data": {
      "text/html": [
       "<p><b>result</b> <i>24</i></p>"
      ],
      "text/plain": [
       "<IPython.core.display.HTML object>"
      ]
     },
     "metadata": {},
     "output_type": "display_data"
    },
    {
     "data": {
      "text/html": [
       "<div class=\"outeritem\">\n",
       "<div class=\"None  \" >\n",
       "\n",
       "    <div class=\"ll\">\n",
       "        <div class=\"line\"><a href=\"https://github.com/CambridgeSemiticsLab/nena_corpus/blob/master/texts/Barwar/The Monk And The Angel\" title=\"see this passage in its source document\" sec=\"Barwar\">Barwar</a></div>\n",
       "\n",
       "        <div class=\"features\"> <span class=\"dialect xft\"><span class=\"f\">dialect=</span>Barwar</span></div>\n",
       "    </div>\n",
       "\n",
       "</div>\n",
       "</div>"
      ],
      "text/plain": [
       "<IPython.core.display.HTML object>"
      ]
     },
     "metadata": {},
     "output_type": "display_data"
    },
    {
     "data": {
      "text/html": [
       "<a href=\"https://github.com/CambridgeSemiticsLab/nena_corpus/blob/master/texts/Barwar/The Monk And The Angel\" title=\"see this passage in its source document\" sec=\"Barwar, The Monk And The Angel, Ln. 3\">Barwar, The Monk And The Angel, Ln. 3</a>\n",
       "<div class=\"outeritem\">\n",
       "<div class=\"macro  \" >\n",
       "<div class=\"features\"></div>\n",
       "<div class=\"prosa  \" >\n",
       "<div class=\"features\"></div>\n",
       "<div class=\"word  \" >\n",
       "<div class=\"ara\">ʾo-qamáya </div>\n",
       "<div class=\"features\"></div>\n",
       "</div>\n",
       "<div class=\"word  \" >\n",
       "<div class=\"ara\">ṱ-íle </div>\n",
       "<div class=\"features\"></div>\n",
       "</div>\n",
       "<div class=\"word  \" >\n",
       "<div class=\"ara\">zúze </div>\n",
       "<div class=\"features\"></div>\n",
       "</div>\n",
       "<div class=\"word  \" >\n",
       "<div class=\"ara\">mùnšyaˈ </div>\n",
       "<div class=\"features\"></div>\n",
       "</div>\n",
       "</div>\n",
       "<div class=\"prosa  \" >\n",
       "<div class=\"features\"></div>\n",
       "<div class=\"word  hl\" >\n",
       "<div class=\"ara\">θéle </div>\n",
       "<div class=\"features\"></div>\n",
       "</div>\n",
       "<div class=\"word  \" >\n",
       "<div class=\"ara\">ʾə́lle </div>\n",
       "<div class=\"features\"></div>\n",
       "</div>\n",
       "<div class=\"word  \" >\n",
       "<div class=\"ara\">dìye.ˈ </div>\n",
       "<div class=\"features\"></div>\n",
       "</div>\n",
       "</div>\n",
       "</div>\n",
       "</div>"
      ],
      "text/plain": [
       "<IPython.core.display.HTML object>"
      ]
     },
     "metadata": {},
     "output_type": "display_data"
    },
    {
     "data": {
      "text/html": [
       "<p><b>result</b> <i>25</i></p>"
      ],
      "text/plain": [
       "<IPython.core.display.HTML object>"
      ]
     },
     "metadata": {},
     "output_type": "display_data"
    },
    {
     "data": {
      "text/html": [
       "<div class=\"outeritem\">\n",
       "<div class=\"None  \" >\n",
       "\n",
       "    <div class=\"ll\">\n",
       "        <div class=\"line\"><a href=\"https://github.com/CambridgeSemiticsLab/nena_corpus/blob/master/texts/Barwar/The Monk And The Angel\" title=\"see this passage in its source document\" sec=\"Barwar\">Barwar</a></div>\n",
       "\n",
       "        <div class=\"features\"> <span class=\"dialect xft\"><span class=\"f\">dialect=</span>Barwar</span></div>\n",
       "    </div>\n",
       "\n",
       "</div>\n",
       "</div>"
      ],
      "text/plain": [
       "<IPython.core.display.HTML object>"
      ]
     },
     "metadata": {},
     "output_type": "display_data"
    },
    {
     "data": {
      "text/html": [
       "<a href=\"https://github.com/CambridgeSemiticsLab/nena_corpus/blob/master/texts/Barwar/The Monk And The Angel\" title=\"see this passage in its source document\" sec=\"Barwar, The Monk And The Angel, Ln. 3\">Barwar, The Monk And The Angel, Ln. 3</a>\n",
       "<div class=\"outeritem\">\n",
       "<div class=\"macro  \" >\n",
       "<div class=\"features\"></div>\n",
       "<div class=\"prosa  \" >\n",
       "<div class=\"features\"></div>\n",
       "<div class=\"word  \" >\n",
       "<div class=\"ara\">ʾo-qamáya </div>\n",
       "<div class=\"features\"></div>\n",
       "</div>\n",
       "<div class=\"word  \" >\n",
       "<div class=\"ara\">ṱ-íle </div>\n",
       "<div class=\"features\"></div>\n",
       "</div>\n",
       "<div class=\"word  \" >\n",
       "<div class=\"ara\">zúze </div>\n",
       "<div class=\"features\"></div>\n",
       "</div>\n",
       "<div class=\"word  \" >\n",
       "<div class=\"ara\">mùnšyaˈ </div>\n",
       "<div class=\"features\"></div>\n",
       "</div>\n",
       "</div>\n",
       "<div class=\"prosa  \" >\n",
       "<div class=\"features\"></div>\n",
       "<div class=\"word  \" >\n",
       "<div class=\"ara\">θéle </div>\n",
       "<div class=\"features\"></div>\n",
       "</div>\n",
       "<div class=\"word  hl\" >\n",
       "<div class=\"ara\">ʾə́lle </div>\n",
       "<div class=\"features\"></div>\n",
       "</div>\n",
       "<div class=\"word  \" >\n",
       "<div class=\"ara\">dìye.ˈ </div>\n",
       "<div class=\"features\"></div>\n",
       "</div>\n",
       "</div>\n",
       "</div>\n",
       "</div>"
      ],
      "text/plain": [
       "<IPython.core.display.HTML object>"
      ]
     },
     "metadata": {},
     "output_type": "display_data"
    }
   ],
   "source": [
    "verbs = nena.search('''\n",
    "\n",
    "dialect dialect=Barwar\n",
    "    word trans_lite~.le$|.la$|.ley$|.lux$|.l3x$|.l3xu$|.li$|.l3n$\n",
    "\n",
    "''')\n",
    "\n",
    "nena.show(verbs, suppress='trans_lite', end=25)"
   ]
  },
  {
   "cell_type": "markdown",
   "metadata": {},
   "source": [
    "### Noun Searches\n",
    "\n",
    "#### Barwar, Plural Nouns\n",
    "\n",
    "Plural noun endings include:\n",
    "\n",
    "1. -e\n",
    "2. -ane\n",
    "3. -wa8a\n",
    "4. -ya8a\n",
    "\n",
    "The `-e` ending is probably not very distinctive. How about the others?"
   ]
  },
  {
   "cell_type": "code",
   "execution_count": 43,
   "metadata": {},
   "outputs": [
    {
     "name": "stdout",
     "output_type": "stream",
     "text": [
      "XXXX (True, frozenset({'Barwar'}))\n",
      "  0.17s 407 results\n"
     ]
    }
   ],
   "source": [
    "nouns = nena.search('''\n",
    "\n",
    "dialect dialect=Barwar\n",
    "    word trans_lite~ane$|wa8a$|ya8a$\n",
    "\n",
    "''')"
   ]
  },
  {
   "cell_type": "code",
   "execution_count": 44,
   "metadata": {},
   "outputs": [
    {
     "data": {
      "text/html": [
       "<p><b>result</b> <i>1</i></p>"
      ],
      "text/plain": [
       "<IPython.core.display.HTML object>"
      ]
     },
     "metadata": {},
     "output_type": "display_data"
    },
    {
     "data": {
      "text/html": [
       "<div class=\"outeritem\">\n",
       "<div class=\"None  \" >\n",
       "\n",
       "    <div class=\"ll\">\n",
       "        <div class=\"line\"><a href=\"https://github.com/CambridgeSemiticsLab/nena_corpus/blob/master/texts/Barwar/The Monk And The Angel\" title=\"see this passage in its source document\" sec=\"Barwar\">Barwar</a></div>\n",
       "\n",
       "        <div class=\"features\"> <span class=\"dialect xft\"><span class=\"f\">dialect=</span>Barwar</span></div>\n",
       "    </div>\n",
       "\n",
       "</div>\n",
       "</div>"
      ],
      "text/plain": [
       "<IPython.core.display.HTML object>"
      ]
     },
     "metadata": {},
     "output_type": "display_data"
    },
    {
     "data": {
      "text/html": [
       "<a href=\"https://github.com/CambridgeSemiticsLab/nena_corpus/blob/master/texts/Barwar/The Monk And The Angel\" title=\"see this passage in its source document\" sec=\"Barwar, The Monk And The Angel, Ln. 8\">Barwar, The Monk And The Angel, Ln. 8</a>\n",
       "<div class=\"outeritem\">\n",
       "<div class=\"macro  \" >\n",
       "<div class=\"features\"></div>\n",
       "<div class=\"prosa  \" >\n",
       "<div class=\"features\"></div>\n",
       "<div class=\"word  \" >\n",
       "<div class=\"ara\">b-šɛ́na </div>\n",
       "<div class=\"features\"></div>\n",
       "</div>\n",
       "<div class=\"word  hl\" >\n",
       "<div class=\"ara\">b-ṭawàθa,ˈ </div>\n",
       "<div class=\"features\"></div>\n",
       "</div>\n",
       "</div>\n",
       "<div class=\"prosa  \" >\n",
       "<div class=\"features\"></div>\n",
       "<div class=\"word  \" >\n",
       "<div class=\"ara\">páqðu </div>\n",
       "<div class=\"features\"></div>\n",
       "</div>\n",
       "<div class=\"word  \" >\n",
       "<div class=\"ara\">tìwe!ˈ </div>\n",
       "<div class=\"features\"></div>\n",
       "</div>\n",
       "</div>\n",
       "</div>\n",
       "</div>"
      ],
      "text/plain": [
       "<IPython.core.display.HTML object>"
      ]
     },
     "metadata": {},
     "output_type": "display_data"
    },
    {
     "data": {
      "text/html": [
       "<p><b>result</b> <i>2</i></p>"
      ],
      "text/plain": [
       "<IPython.core.display.HTML object>"
      ]
     },
     "metadata": {},
     "output_type": "display_data"
    },
    {
     "data": {
      "text/html": [
       "<div class=\"outeritem\">\n",
       "<div class=\"None  \" >\n",
       "\n",
       "    <div class=\"ll\">\n",
       "        <div class=\"line\"><a href=\"https://github.com/CambridgeSemiticsLab/nena_corpus/blob/master/texts/Barwar/The Monk And The Angel\" title=\"see this passage in its source document\" sec=\"Barwar\">Barwar</a></div>\n",
       "\n",
       "        <div class=\"features\"> <span class=\"dialect xft\"><span class=\"f\">dialect=</span>Barwar</span></div>\n",
       "    </div>\n",
       "\n",
       "</div>\n",
       "</div>"
      ],
      "text/plain": [
       "<IPython.core.display.HTML object>"
      ]
     },
     "metadata": {},
     "output_type": "display_data"
    },
    {
     "data": {
      "text/html": [
       "<a href=\"https://github.com/CambridgeSemiticsLab/nena_corpus/blob/master/texts/Barwar/The Monk And The Angel\" title=\"see this passage in its source document\" sec=\"Barwar, The Monk And The Angel, Ln. 13\">Barwar, The Monk And The Angel, Ln. 13</a>\n",
       "<div class=\"outeritem\">\n",
       "<div class=\"macro  \" >\n",
       "<div class=\"features\"></div>\n",
       "<div class=\"prosa  \" >\n",
       "<div class=\"features\"></div>\n",
       "<div class=\"word  \" >\n",
       "<div class=\"ara\">márɛle </div>\n",
       "<div class=\"features\"></div>\n",
       "</div>\n",
       "<div class=\"word  \" >\n",
       "<div class=\"ara\">síqela </div>\n",
       "<div class=\"features\"></div>\n",
       "</div>\n",
       "<div class=\"word  \" >\n",
       "<div class=\"ara\">gu-xa-ṭùra,ˈ </div>\n",
       "<div class=\"features\"></div>\n",
       "</div>\n",
       "</div>\n",
       "<div class=\"prosa  \" >\n",
       "<div class=\"features\"></div>\n",
       "<div class=\"word  \" >\n",
       "<div class=\"ara\">ṭúra </div>\n",
       "<div class=\"features\"></div>\n",
       "</div>\n",
       "<div class=\"word  \" >\n",
       "<div class=\"ara\">ʾisáre </div>\n",
       "<div class=\"features\"></div>\n",
       "</div>\n",
       "<div class=\"word  hl\" >\n",
       "<div class=\"ara\">ramàne.ˈ </div>\n",
       "<div class=\"features\"></div>\n",
       "</div>\n",
       "</div>\n",
       "</div>\n",
       "</div>"
      ],
      "text/plain": [
       "<IPython.core.display.HTML object>"
      ]
     },
     "metadata": {},
     "output_type": "display_data"
    },
    {
     "data": {
      "text/html": [
       "<p><b>result</b> <i>3</i></p>"
      ],
      "text/plain": [
       "<IPython.core.display.HTML object>"
      ]
     },
     "metadata": {},
     "output_type": "display_data"
    },
    {
     "data": {
      "text/html": [
       "<div class=\"outeritem\">\n",
       "<div class=\"None  \" >\n",
       "\n",
       "    <div class=\"ll\">\n",
       "        <div class=\"line\"><a href=\"https://github.com/CambridgeSemiticsLab/nena_corpus/blob/master/texts/Barwar/The Monk And The Angel\" title=\"see this passage in its source document\" sec=\"Barwar\">Barwar</a></div>\n",
       "\n",
       "        <div class=\"features\"> <span class=\"dialect xft\"><span class=\"f\">dialect=</span>Barwar</span></div>\n",
       "    </div>\n",
       "\n",
       "</div>\n",
       "</div>"
      ],
      "text/plain": [
       "<IPython.core.display.HTML object>"
      ]
     },
     "metadata": {},
     "output_type": "display_data"
    },
    {
     "data": {
      "text/html": [
       "<a href=\"https://github.com/CambridgeSemiticsLab/nena_corpus/blob/master/texts/Barwar/THE MONK WHO WANTED TO KNOW WHEN HE WOULD DIE\" title=\"see this passage in its source document\" sec=\"Barwar, THE MONK WHO WANTED TO KNOW WHEN HE WOULD DIE, Ln. 4\">Barwar, THE MONK WHO WANTED TO KNOW WHEN HE WOULD DIE, Ln. 4</a>\n",
       "<div class=\"outeritem\">\n",
       "<div class=\"macro  \" >\n",
       "<div class=\"features\"></div>\n",
       "<div class=\"prosa  \" >\n",
       "<div class=\"features\"></div>\n",
       "<div class=\"word  \" >\n",
       "<div class=\"ara\">b-šɛ́na </div>\n",
       "<div class=\"features\"></div>\n",
       "</div>\n",
       "<div class=\"word  hl\" >\n",
       "<div class=\"ara\">b-ṭawàθa!ˈ </div>\n",
       "<div class=\"features\"></div>\n",
       "</div>\n",
       "</div>\n",
       "</div>\n",
       "</div>"
      ],
      "text/plain": [
       "<IPython.core.display.HTML object>"
      ]
     },
     "metadata": {},
     "output_type": "display_data"
    },
    {
     "data": {
      "text/html": [
       "<p><b>result</b> <i>4</i></p>"
      ],
      "text/plain": [
       "<IPython.core.display.HTML object>"
      ]
     },
     "metadata": {},
     "output_type": "display_data"
    },
    {
     "data": {
      "text/html": [
       "<div class=\"outeritem\">\n",
       "<div class=\"None  \" >\n",
       "\n",
       "    <div class=\"ll\">\n",
       "        <div class=\"line\"><a href=\"https://github.com/CambridgeSemiticsLab/nena_corpus/blob/master/texts/Barwar/The Monk And The Angel\" title=\"see this passage in its source document\" sec=\"Barwar\">Barwar</a></div>\n",
       "\n",
       "        <div class=\"features\"> <span class=\"dialect xft\"><span class=\"f\">dialect=</span>Barwar</span></div>\n",
       "    </div>\n",
       "\n",
       "</div>\n",
       "</div>"
      ],
      "text/plain": [
       "<IPython.core.display.HTML object>"
      ]
     },
     "metadata": {},
     "output_type": "display_data"
    },
    {
     "data": {
      "text/html": [
       "<a href=\"https://github.com/CambridgeSemiticsLab/nena_corpus/blob/master/texts/Barwar/THE WISE YOUNG MAN\" title=\"see this passage in its source document\" sec=\"Barwar, THE WISE YOUNG MAN, Ln. 4\">Barwar, THE WISE YOUNG MAN, Ln. 4</a>\n",
       "<div class=\"outeritem\">\n",
       "<div class=\"macro  \" >\n",
       "<div class=\"features\"></div>\n",
       "<div class=\"prosa  \" >\n",
       "<div class=\"features\"></div>\n",
       "<div class=\"word  \" >\n",
       "<div class=\"ara\">mə̀re </div>\n",
       "<div class=\"features\"></div>\n",
       "</div>\n",
       "<div class=\"word  \" >\n",
       "<div class=\"ara\">ʾə́lle </div>\n",
       "<div class=\"features\"></div>\n",
       "</div>\n",
       "<div class=\"word  \" >\n",
       "<div class=\"ara\">díyeˈ </div>\n",
       "<div class=\"features\"></div>\n",
       "</div>\n",
       "</div>\n",
       "<div class=\"prosa  \" >\n",
       "<div class=\"features\"></div>\n",
       "<div class=\"word  \" >\n",
       "<div class=\"ara\">xàliˈ </div>\n",
       "<div class=\"features\"></div>\n",
       "</div>\n",
       "</div>\n",
       "<div class=\"prosa  \" >\n",
       "<div class=\"features\"></div>\n",
       "<div class=\"word  \" >\n",
       "<div class=\"ara\">nə́mu </div>\n",
       "<div class=\"features\"></div>\n",
       "</div>\n",
       "<div class=\"word  \" >\n",
       "<div class=\"ara\">la-ʾawðə́xle </div>\n",
       "<div class=\"features\"></div>\n",
       "</div>\n",
       "<div class=\"word  \" >\n",
       "<div class=\"ara\">ʾáwwa </div>\n",
       "<div class=\"features\"></div>\n",
       "</div>\n",
       "<div class=\"word  \" >\n",
       "<div class=\"ara\">ṭùraˈ </div>\n",
       "<div class=\"features\"></div>\n",
       "</div>\n",
       "</div>\n",
       "<div class=\"prosa  \" >\n",
       "<div class=\"features\"></div>\n",
       "<div class=\"word  hl\" >\n",
       "<div class=\"ara\">dărajyàθa,ˈ </div>\n",
       "<div class=\"features\"></div>\n",
       "</div>\n",
       "</div>\n",
       "<div class=\"prosa  \" >\n",
       "<div class=\"features\"></div>\n",
       "<div class=\"word  \" >\n",
       "<div class=\"ara\">dăràje,ˈ </div>\n",
       "<div class=\"features\"></div>\n",
       "</div>\n",
       "</div>\n",
       "<div class=\"prosa  \" >\n",
       "<div class=\"features\"></div>\n",
       "<div class=\"word  \" >\n",
       "<div class=\"ara\">ṱ-ásqəx </div>\n",
       "<div class=\"features\"></div>\n",
       "</div>\n",
       "<div class=\"word  \" >\n",
       "<div class=\"ara\">l-áwwa </div>\n",
       "<div class=\"features\"></div>\n",
       "</div>\n",
       "<div class=\"word  \" >\n",
       "<div class=\"ara\">ṭùra?ˈ </div>\n",
       "<div class=\"features\"></div>\n",
       "</div>\n",
       "</div>\n",
       "</div>\n",
       "</div>"
      ],
      "text/plain": [
       "<IPython.core.display.HTML object>"
      ]
     },
     "metadata": {},
     "output_type": "display_data"
    },
    {
     "data": {
      "text/html": [
       "<p><b>result</b> <i>5</i></p>"
      ],
      "text/plain": [
       "<IPython.core.display.HTML object>"
      ]
     },
     "metadata": {},
     "output_type": "display_data"
    },
    {
     "data": {
      "text/html": [
       "<div class=\"outeritem\">\n",
       "<div class=\"None  \" >\n",
       "\n",
       "    <div class=\"ll\">\n",
       "        <div class=\"line\"><a href=\"https://github.com/CambridgeSemiticsLab/nena_corpus/blob/master/texts/Barwar/The Monk And The Angel\" title=\"see this passage in its source document\" sec=\"Barwar\">Barwar</a></div>\n",
       "\n",
       "        <div class=\"features\"> <span class=\"dialect xft\"><span class=\"f\">dialect=</span>Barwar</span></div>\n",
       "    </div>\n",
       "\n",
       "</div>\n",
       "</div>"
      ],
      "text/plain": [
       "<IPython.core.display.HTML object>"
      ]
     },
     "metadata": {},
     "output_type": "display_data"
    },
    {
     "data": {
      "text/html": [
       "<a href=\"https://github.com/CambridgeSemiticsLab/nena_corpus/blob/master/texts/Barwar/THE WISE YOUNG MAN\" title=\"see this passage in its source document\" sec=\"Barwar, THE WISE YOUNG MAN, Ln. 16\">Barwar, THE WISE YOUNG MAN, Ln. 16</a>\n",
       "<div class=\"outeritem\">\n",
       "<div class=\"macro  \" >\n",
       "<div class=\"features\"></div>\n",
       "<div class=\"prosa  \" >\n",
       "<div class=\"features\"></div>\n",
       "<div class=\"word  \" >\n",
       "<div class=\"ara\">màrɛwaˈ </div>\n",
       "<div class=\"features\"></div>\n",
       "</div>\n",
       "</div>\n",
       "<div class=\"prosa  \" >\n",
       "<div class=\"features\"></div>\n",
       "<div class=\"word  \" >\n",
       "<div class=\"ara\">har-ʾàwwɛleˈ </div>\n",
       "<div class=\"features\"></div>\n",
       "</div>\n",
       "</div>\n",
       "<div class=\"prosa  \" >\n",
       "<div class=\"features\"></div>\n",
       "<div class=\"word  \" >\n",
       "<div class=\"ara\">ʾən-ʾítle </div>\n",
       "<div class=\"features\"></div>\n",
       "</div>\n",
       "<div class=\"word  \" >\n",
       "<div class=\"ara\">nawàge,ˈ </div>\n",
       "<div class=\"features\"></div>\n",
       "</div>\n",
       "</div>\n",
       "<div class=\"prosa  \" >\n",
       "<div class=\"features\"></div>\n",
       "<div class=\"word  \" >\n",
       "<div class=\"ara\">ʾən-ʾítle </div>\n",
       "<div class=\"features\"></div>\n",
       "</div>\n",
       "<div class=\"word  \" >\n",
       "<div class=\"ara\">bàba,ˈ </div>\n",
       "<div class=\"features\"></div>\n",
       "</div>\n",
       "</div>\n",
       "<div class=\"prosa  \" >\n",
       "<div class=\"features\"></div>\n",
       "<div class=\"word  \" >\n",
       "<div class=\"ara\">ʾən-ʾítle </div>\n",
       "<div class=\"features\"></div>\n",
       "</div>\n",
       "<div class=\"word  \" >\n",
       "<div class=\"ara\">yə̀mma,ˈ </div>\n",
       "<div class=\"features\"></div>\n",
       "</div>\n",
       "</div>\n",
       "<div class=\"prosa  \" >\n",
       "<div class=\"features\"></div>\n",
       "<div class=\"word  \" >\n",
       "<div class=\"ara\">ʾən-ʾítle </div>\n",
       "<div class=\"features\"></div>\n",
       "</div>\n",
       "<div class=\"word  hl\" >\n",
       "<div class=\"ara\">xonăwàθa?ˈ</div>\n",
       "<div class=\"features\"></div>\n",
       "</div>\n",
       "</div>\n",
       "</div>\n",
       "</div>"
      ],
      "text/plain": [
       "<IPython.core.display.HTML object>"
      ]
     },
     "metadata": {},
     "output_type": "display_data"
    },
    {
     "data": {
      "text/html": [
       "<p><b>result</b> <i>6</i></p>"
      ],
      "text/plain": [
       "<IPython.core.display.HTML object>"
      ]
     },
     "metadata": {},
     "output_type": "display_data"
    },
    {
     "data": {
      "text/html": [
       "<div class=\"outeritem\">\n",
       "<div class=\"None  \" >\n",
       "\n",
       "    <div class=\"ll\">\n",
       "        <div class=\"line\"><a href=\"https://github.com/CambridgeSemiticsLab/nena_corpus/blob/master/texts/Barwar/The Monk And The Angel\" title=\"see this passage in its source document\" sec=\"Barwar\">Barwar</a></div>\n",
       "\n",
       "        <div class=\"features\"> <span class=\"dialect xft\"><span class=\"f\">dialect=</span>Barwar</span></div>\n",
       "    </div>\n",
       "\n",
       "</div>\n",
       "</div>"
      ],
      "text/plain": [
       "<IPython.core.display.HTML object>"
      ]
     },
     "metadata": {},
     "output_type": "display_data"
    },
    {
     "data": {
      "text/html": [
       "<a href=\"https://github.com/CambridgeSemiticsLab/nena_corpus/blob/master/texts/Barwar/THE WISE YOUNG MAN\" title=\"see this passage in its source document\" sec=\"Barwar, THE WISE YOUNG MAN, Ln. 19\">Barwar, THE WISE YOUNG MAN, Ln. 19</a>\n",
       "<div class=\"outeritem\">\n",
       "<div class=\"macro  \" >\n",
       "<div class=\"features\"></div>\n",
       "<div class=\"prosa  \" >\n",
       "<div class=\"features\"></div>\n",
       "<div class=\"word  \" >\n",
       "<div class=\"ara\">mə́re </div>\n",
       "<div class=\"features\"></div>\n",
       "</div>\n",
       "<div class=\"word  \" >\n",
       "<div class=\"ara\">ṱ-amrítu </div>\n",
       "<div class=\"features\"></div>\n",
       "</div>\n",
       "<div class=\"word  hl\" >\n",
       "<div class=\"ara\">tuniyàθa,ˈ </div>\n",
       "<div class=\"features\"></div>\n",
       "</div>\n",
       "</div>\n",
       "<div class=\"prosa  \" >\n",
       "<div class=\"features\"></div>\n",
       "<div class=\"word  \" >\n",
       "<div class=\"ara\">mṣawθítu </div>\n",
       "<div class=\"features\"></div>\n",
       "</div>\n",
       "<div class=\"word  \" >\n",
       "<div class=\"ara\">m-ġðàðe,ˈ </div>\n",
       "<div class=\"features\"></div>\n",
       "</div>\n",
       "</div>\n",
       "<div class=\"prosa  \" >\n",
       "<div class=\"features\"></div>\n",
       "<div class=\"word  \" >\n",
       "<div class=\"ara\">ta-t-ṭúra </div>\n",
       "<div class=\"features\"></div>\n",
       "</div>\n",
       "<div class=\"word  \" >\n",
       "<div class=\"ara\">ja-jálde </div>\n",
       "<div class=\"features\"></div>\n",
       "</div>\n",
       "<div class=\"word  \" >\n",
       "<div class=\"ara\">pàrəq.ˈ </div>\n",
       "<div class=\"features\"></div>\n",
       "</div>\n",
       "</div>\n",
       "</div>\n",
       "</div>"
      ],
      "text/plain": [
       "<IPython.core.display.HTML object>"
      ]
     },
     "metadata": {},
     "output_type": "display_data"
    },
    {
     "data": {
      "text/html": [
       "<p><b>result</b> <i>7</i></p>"
      ],
      "text/plain": [
       "<IPython.core.display.HTML object>"
      ]
     },
     "metadata": {},
     "output_type": "display_data"
    },
    {
     "data": {
      "text/html": [
       "<div class=\"outeritem\">\n",
       "<div class=\"None  \" >\n",
       "\n",
       "    <div class=\"ll\">\n",
       "        <div class=\"line\"><a href=\"https://github.com/CambridgeSemiticsLab/nena_corpus/blob/master/texts/Barwar/The Monk And The Angel\" title=\"see this passage in its source document\" sec=\"Barwar\">Barwar</a></div>\n",
       "\n",
       "        <div class=\"features\"> <span class=\"dialect xft\"><span class=\"f\">dialect=</span>Barwar</span></div>\n",
       "    </div>\n",
       "\n",
       "</div>\n",
       "</div>"
      ],
      "text/plain": [
       "<IPython.core.display.HTML object>"
      ]
     },
     "metadata": {},
     "output_type": "display_data"
    },
    {
     "data": {
      "text/html": [
       "<a href=\"https://github.com/CambridgeSemiticsLab/nena_corpus/blob/master/texts/Barwar/THE WISE YOUNG MAN\" title=\"see this passage in its source document\" sec=\"Barwar, THE WISE YOUNG MAN, Ln. 29\">Barwar, THE WISE YOUNG MAN, Ln. 29</a>\n",
       "<div class=\"outeritem\">\n",
       "<div class=\"macro  \" >\n",
       "<div class=\"features\"></div>\n",
       "<div class=\"prosa  \" >\n",
       "<div class=\"features\"></div>\n",
       "<div class=\"word  \" >\n",
       "<div class=\"ara\">ʾə̀θyɛle,ˈ </div>\n",
       "<div class=\"features\"></div>\n",
       "</div>\n",
       "</div>\n",
       "<div class=\"prosa  \" >\n",
       "<div class=\"features\"></div>\n",
       "<div class=\"word  \" >\n",
       "<div class=\"ara\">qə́ryəlle </div>\n",
       "<div class=\"features\"></div>\n",
       "</div>\n",
       "<div class=\"word  hl\" >\n",
       "<div class=\"ara\">xəmyáne </div>\n",
       "<div class=\"features\"></div>\n",
       "</div>\n",
       "<div class=\"word  \" >\n",
       "<div class=\"ara\">dìye.ˈ </div>\n",
       "<div class=\"features\"></div>\n",
       "</div>\n",
       "</div>\n",
       "</div>\n",
       "</div>"
      ],
      "text/plain": [
       "<IPython.core.display.HTML object>"
      ]
     },
     "metadata": {},
     "output_type": "display_data"
    },
    {
     "data": {
      "text/html": [
       "<p><b>result</b> <i>8</i></p>"
      ],
      "text/plain": [
       "<IPython.core.display.HTML object>"
      ]
     },
     "metadata": {},
     "output_type": "display_data"
    },
    {
     "data": {
      "text/html": [
       "<div class=\"outeritem\">\n",
       "<div class=\"None  \" >\n",
       "\n",
       "    <div class=\"ll\">\n",
       "        <div class=\"line\"><a href=\"https://github.com/CambridgeSemiticsLab/nena_corpus/blob/master/texts/Barwar/The Monk And The Angel\" title=\"see this passage in its source document\" sec=\"Barwar\">Barwar</a></div>\n",
       "\n",
       "        <div class=\"features\"> <span class=\"dialect xft\"><span class=\"f\">dialect=</span>Barwar</span></div>\n",
       "    </div>\n",
       "\n",
       "</div>\n",
       "</div>"
      ],
      "text/plain": [
       "<IPython.core.display.HTML object>"
      ]
     },
     "metadata": {},
     "output_type": "display_data"
    },
    {
     "data": {
      "text/html": [
       "<a href=\"https://github.com/CambridgeSemiticsLab/nena_corpus/blob/master/texts/Barwar/THE WISE YOUNG MAN\" title=\"see this passage in its source document\" sec=\"Barwar, THE WISE YOUNG MAN, Ln. 30\">Barwar, THE WISE YOUNG MAN, Ln. 30</a>\n",
       "<div class=\"outeritem\">\n",
       "<div class=\"macro  \" >\n",
       "<div class=\"features\"></div>\n",
       "<div class=\"prosa  \" >\n",
       "<div class=\"features\"></div>\n",
       "<div class=\"word  \" >\n",
       "<div class=\"ara\">zrìyənwaleˈ </div>\n",
       "<div class=\"features\"></div>\n",
       "</div>\n",
       "</div>\n",
       "<div class=\"prosa  \" >\n",
       "<div class=\"features\"></div>\n",
       "<div class=\"word  \" >\n",
       "<div class=\"ara\">mútta-wewa </div>\n",
       "<div class=\"features\"></div>\n",
       "</div>\n",
       "<div class=\"word  hl\" >\n",
       "<div class=\"ara\">dalyáθa </div>\n",
       "<div class=\"features\"></div>\n",
       "</div>\n",
       "<div class=\"word  \" >\n",
       "<div class=\"ara\">ʾu-xabúše </div>\n",
       "<div class=\"features\"></div>\n",
       "</div>\n",
       "<div class=\"word  \" >\n",
       "<div class=\"ara\">ʾu-kúll </div>\n",
       "<div class=\"features\"></div>\n",
       "</div>\n",
       "<div class=\"word  \" >\n",
       "<div class=\"ara\">xa-mə̀ndi.ˈ </div>\n",
       "<div class=\"features\"></div>\n",
       "</div>\n",
       "</div>\n",
       "</div>\n",
       "</div>"
      ],
      "text/plain": [
       "<IPython.core.display.HTML object>"
      ]
     },
     "metadata": {},
     "output_type": "display_data"
    },
    {
     "data": {
      "text/html": [
       "<p><b>result</b> <i>9</i></p>"
      ],
      "text/plain": [
       "<IPython.core.display.HTML object>"
      ]
     },
     "metadata": {},
     "output_type": "display_data"
    },
    {
     "data": {
      "text/html": [
       "<div class=\"outeritem\">\n",
       "<div class=\"None  \" >\n",
       "\n",
       "    <div class=\"ll\">\n",
       "        <div class=\"line\"><a href=\"https://github.com/CambridgeSemiticsLab/nena_corpus/blob/master/texts/Barwar/The Monk And The Angel\" title=\"see this passage in its source document\" sec=\"Barwar\">Barwar</a></div>\n",
       "\n",
       "        <div class=\"features\"> <span class=\"dialect xft\"><span class=\"f\">dialect=</span>Barwar</span></div>\n",
       "    </div>\n",
       "\n",
       "</div>\n",
       "</div>"
      ],
      "text/plain": [
       "<IPython.core.display.HTML object>"
      ]
     },
     "metadata": {},
     "output_type": "display_data"
    },
    {
     "data": {
      "text/html": [
       "<a href=\"https://github.com/CambridgeSemiticsLab/nena_corpus/blob/master/texts/Barwar/THE WISE YOUNG MAN\" title=\"see this passage in its source document\" sec=\"Barwar, THE WISE YOUNG MAN, Ln. 34\">Barwar, THE WISE YOUNG MAN, Ln. 34</a>\n",
       "<div class=\"outeritem\">\n",
       "<div class=\"macro  \" >\n",
       "<div class=\"features\"></div>\n",
       "<div class=\"prosa  \" >\n",
       "<div class=\"features\"></div>\n",
       "<div class=\"word  \" >\n",
       "<div class=\"ara\">mára </div>\n",
       "<div class=\"features\"></div>\n",
       "</div>\n",
       "<div class=\"word  \" >\n",
       "<div class=\"ara\">ʾímə </div>\n",
       "<div class=\"features\"></div>\n",
       "</div>\n",
       "<div class=\"word  \" >\n",
       "<div class=\"ara\">ṱ-ìleˈ </div>\n",
       "<div class=\"features\"></div>\n",
       "</div>\n",
       "</div>\n",
       "<div class=\"prosa  \" >\n",
       "<div class=\"features\"></div>\n",
       "<div class=\"word  \" >\n",
       "<div class=\"ara\">mírəlle </div>\n",
       "<div class=\"features\"></div>\n",
       "</div>\n",
       "<div class=\"word  \" >\n",
       "<div class=\"ara\">hàtxa,ˈ </div>\n",
       "<div class=\"features\"></div>\n",
       "</div>\n",
       "</div>\n",
       "<div class=\"prosa  \" >\n",
       "<div class=\"features\"></div>\n",
       "<div class=\"word  \" >\n",
       "<div class=\"ara\">ʾáwwa </div>\n",
       "<div class=\"features\"></div>\n",
       "</div>\n",
       "<div class=\"word  hl\" >\n",
       "<div class=\"ara\">xəmyáne </div>\n",
       "<div class=\"features\"></div>\n",
       "</div>\n",
       "<div class=\"word  \" >\n",
       "<div class=\"ara\">díye </div>\n",
       "<div class=\"features\"></div>\n",
       "</div>\n",
       "<div class=\"word  \" >\n",
       "<div class=\"ara\">lɛ̀le </div>\n",
       "<div class=\"features\"></div>\n",
       "</div>\n",
       "<div class=\"word  \" >\n",
       "<div class=\"ara\">ðíya </div>\n",
       "<div class=\"features\"></div>\n",
       "</div>\n",
       "<div class=\"word  \" >\n",
       "<div class=\"ara\">módila </div>\n",
       "<div class=\"features\"></div>\n",
       "</div>\n",
       "<div class=\"word  \" >\n",
       "<div class=\"ara\">manày.ˈ </div>\n",
       "<div class=\"features\"></div>\n",
       "</div>\n",
       "</div>\n",
       "</div>\n",
       "</div>"
      ],
      "text/plain": [
       "<IPython.core.display.HTML object>"
      ]
     },
     "metadata": {},
     "output_type": "display_data"
    },
    {
     "data": {
      "text/html": [
       "<p><b>result</b> <i>10</i></p>"
      ],
      "text/plain": [
       "<IPython.core.display.HTML object>"
      ]
     },
     "metadata": {},
     "output_type": "display_data"
    },
    {
     "data": {
      "text/html": [
       "<div class=\"outeritem\">\n",
       "<div class=\"None  \" >\n",
       "\n",
       "    <div class=\"ll\">\n",
       "        <div class=\"line\"><a href=\"https://github.com/CambridgeSemiticsLab/nena_corpus/blob/master/texts/Barwar/The Monk And The Angel\" title=\"see this passage in its source document\" sec=\"Barwar\">Barwar</a></div>\n",
       "\n",
       "        <div class=\"features\"> <span class=\"dialect xft\"><span class=\"f\">dialect=</span>Barwar</span></div>\n",
       "    </div>\n",
       "\n",
       "</div>\n",
       "</div>"
      ],
      "text/plain": [
       "<IPython.core.display.HTML object>"
      ]
     },
     "metadata": {},
     "output_type": "display_data"
    },
    {
     "data": {
      "text/html": [
       "<a href=\"https://github.com/CambridgeSemiticsLab/nena_corpus/blob/master/texts/Barwar/THE FOX AND THE STORK\" title=\"see this passage in its source document\" sec=\"Barwar, THE FOX AND THE STORK, Ln. 1\">Barwar, THE FOX AND THE STORK, Ln. 1</a>\n",
       "<div class=\"outeritem\">\n",
       "<div class=\"macro  \" >\n",
       "<div class=\"features\"></div>\n",
       "<div class=\"prosa  \" >\n",
       "<div class=\"features\"></div>\n",
       "<div class=\"word  \" >\n",
       "<div class=\"ara\">dréle </div>\n",
       "<div class=\"features\"></div>\n",
       "</div>\n",
       "<div class=\"word  \" >\n",
       "<div class=\"ara\">ʾixála </div>\n",
       "<div class=\"features\"></div>\n",
       "</div>\n",
       "<div class=\"word  \" >\n",
       "<div class=\"ara\">qa-ṱ-àxəlˈ </div>\n",
       "<div class=\"features\"></div>\n",
       "</div>\n",
       "</div>\n",
       "<div class=\"prosa  \" >\n",
       "<div class=\"features\"></div>\n",
       "<div class=\"word  \" >\n",
       "<div class=\"ara\">gu-ʾamána </div>\n",
       "<div class=\"features\"></div>\n",
       "</div>\n",
       "<div class=\"word  \" >\n",
       "<div class=\"ara\">làṭṭa,ˈ </div>\n",
       "<div class=\"features\"></div>\n",
       "</div>\n",
       "</div>\n",
       "<div class=\"prosa  \" >\n",
       "<div class=\"features\"></div>\n",
       "<div class=\"word  \" >\n",
       "<div class=\"ara\">ʾína </div>\n",
       "<div class=\"features\"></div>\n",
       "</div>\n",
       "<div class=\"word  \" >\n",
       "<div class=\"ara\">ʾap-réšə </div>\n",
       "<div class=\"features\"></div>\n",
       "</div>\n",
       "<div class=\"word  hl\" >\n",
       "<div class=\"ara\">lišáne </div>\n",
       "<div class=\"features\"></div>\n",
       "</div>\n",
       "<div class=\"word  \" >\n",
       "<div class=\"ara\">la-mṭele-ʾə̀lle.ˈ</div>\n",
       "<div class=\"features\"></div>\n",
       "</div>\n",
       "</div>\n",
       "</div>\n",
       "</div>"
      ],
      "text/plain": [
       "<IPython.core.display.HTML object>"
      ]
     },
     "metadata": {},
     "output_type": "display_data"
    },
    {
     "data": {
      "text/html": [
       "<p><b>result</b> <i>11</i></p>"
      ],
      "text/plain": [
       "<IPython.core.display.HTML object>"
      ]
     },
     "metadata": {},
     "output_type": "display_data"
    },
    {
     "data": {
      "text/html": [
       "<div class=\"outeritem\">\n",
       "<div class=\"None  \" >\n",
       "\n",
       "    <div class=\"ll\">\n",
       "        <div class=\"line\"><a href=\"https://github.com/CambridgeSemiticsLab/nena_corpus/blob/master/texts/Barwar/The Monk And The Angel\" title=\"see this passage in its source document\" sec=\"Barwar\">Barwar</a></div>\n",
       "\n",
       "        <div class=\"features\"> <span class=\"dialect xft\"><span class=\"f\">dialect=</span>Barwar</span></div>\n",
       "    </div>\n",
       "\n",
       "</div>\n",
       "</div>"
      ],
      "text/plain": [
       "<IPython.core.display.HTML object>"
      ]
     },
     "metadata": {},
     "output_type": "display_data"
    },
    {
     "data": {
      "text/html": [
       "<a href=\"https://github.com/CambridgeSemiticsLab/nena_corpus/blob/master/texts/Barwar/THE FOX AND THE STORK\" title=\"see this passage in its source document\" sec=\"Barwar, THE FOX AND THE STORK, Ln. 3\">Barwar, THE FOX AND THE STORK, Ln. 3</a>\n",
       "<div class=\"outeritem\">\n",
       "<div class=\"macro  \" >\n",
       "<div class=\"features\"></div>\n",
       "<div class=\"prosa  \" >\n",
       "<div class=\"features\"></div>\n",
       "<div class=\"word  \" >\n",
       "<div class=\"ara\">ʾap-réšət </div>\n",
       "<div class=\"features\"></div>\n",
       "</div>\n",
       "<div class=\"word  hl\" >\n",
       "<div class=\"ara\">lišáne </div>\n",
       "<div class=\"features\"></div>\n",
       "</div>\n",
       "<div class=\"word  \" >\n",
       "<div class=\"ara\">díye </div>\n",
       "<div class=\"features\"></div>\n",
       "</div>\n",
       "<div class=\"word  \" >\n",
       "<div class=\"ara\">la-mṭèle.ˈ </div>\n",
       "<div class=\"features\"></div>\n",
       "</div>\n",
       "</div>\n",
       "</div>\n",
       "</div>"
      ],
      "text/plain": [
       "<IPython.core.display.HTML object>"
      ]
     },
     "metadata": {},
     "output_type": "display_data"
    },
    {
     "data": {
      "text/html": [
       "<p><b>result</b> <i>12</i></p>"
      ],
      "text/plain": [
       "<IPython.core.display.HTML object>"
      ]
     },
     "metadata": {},
     "output_type": "display_data"
    },
    {
     "data": {
      "text/html": [
       "<div class=\"outeritem\">\n",
       "<div class=\"None  \" >\n",
       "\n",
       "    <div class=\"ll\">\n",
       "        <div class=\"line\"><a href=\"https://github.com/CambridgeSemiticsLab/nena_corpus/blob/master/texts/Barwar/The Monk And The Angel\" title=\"see this passage in its source document\" sec=\"Barwar\">Barwar</a></div>\n",
       "\n",
       "        <div class=\"features\"> <span class=\"dialect xft\"><span class=\"f\">dialect=</span>Barwar</span></div>\n",
       "    </div>\n",
       "\n",
       "</div>\n",
       "</div>"
      ],
      "text/plain": [
       "<IPython.core.display.HTML object>"
      ]
     },
     "metadata": {},
     "output_type": "display_data"
    },
    {
     "data": {
      "text/html": [
       "<a href=\"https://github.com/CambridgeSemiticsLab/nena_corpus/blob/master/texts/Barwar/THE TALE OF RUSTAM (1)\" title=\"see this passage in its source document\" sec=\"Barwar, THE TALE OF RUSTAM (1), Ln. 20\">Barwar, THE TALE OF RUSTAM (1), Ln. 20</a>\n",
       "<div class=\"outeritem\">\n",
       "<div class=\"macro  \" >\n",
       "<div class=\"features\"></div>\n",
       "<div class=\"prosa  \" >\n",
       "<div class=\"features\"></div>\n",
       "<div class=\"word  \" >\n",
       "<div class=\"ara\">šaqə̀llaˈ </div>\n",
       "<div class=\"features\"></div>\n",
       "</div>\n",
       "</div>\n",
       "<div class=\"prosa  \" >\n",
       "<div class=\"features\"></div>\n",
       "<div class=\"word  \" >\n",
       "<div class=\"ara\">ʾu-šamə̀ṭlaˈ </div>\n",
       "<div class=\"features\"></div>\n",
       "</div>\n",
       "</div>\n",
       "<div class=\"prosa  \" >\n",
       "<div class=\"features\"></div>\n",
       "<div class=\"word  hl\" >\n",
       "<div class=\"ara\">taqàne.ˈ</div>\n",
       "<div class=\"features\"></div>\n",
       "</div>\n",
       "</div>\n",
       "</div>\n",
       "</div>"
      ],
      "text/plain": [
       "<IPython.core.display.HTML object>"
      ]
     },
     "metadata": {},
     "output_type": "display_data"
    },
    {
     "data": {
      "text/html": [
       "<p><b>result</b> <i>13</i></p>"
      ],
      "text/plain": [
       "<IPython.core.display.HTML object>"
      ]
     },
     "metadata": {},
     "output_type": "display_data"
    },
    {
     "data": {
      "text/html": [
       "<div class=\"outeritem\">\n",
       "<div class=\"None  \" >\n",
       "\n",
       "    <div class=\"ll\">\n",
       "        <div class=\"line\"><a href=\"https://github.com/CambridgeSemiticsLab/nena_corpus/blob/master/texts/Barwar/The Monk And The Angel\" title=\"see this passage in its source document\" sec=\"Barwar\">Barwar</a></div>\n",
       "\n",
       "        <div class=\"features\"> <span class=\"dialect xft\"><span class=\"f\">dialect=</span>Barwar</span></div>\n",
       "    </div>\n",
       "\n",
       "</div>\n",
       "</div>"
      ],
      "text/plain": [
       "<IPython.core.display.HTML object>"
      ]
     },
     "metadata": {},
     "output_type": "display_data"
    },
    {
     "data": {
      "text/html": [
       "<a href=\"https://github.com/CambridgeSemiticsLab/nena_corpus/blob/master/texts/Barwar/THE TALE OF RUSTAM (1)\" title=\"see this passage in its source document\" sec=\"Barwar, THE TALE OF RUSTAM (1), Ln. 24\">Barwar, THE TALE OF RUSTAM (1), Ln. 24</a>\n",
       "<div class=\"outeritem\">\n",
       "<div class=\"macro  \" >\n",
       "<div class=\"features\"></div>\n",
       "<div class=\"prosa  \" >\n",
       "<div class=\"features\"></div>\n",
       "<div class=\"word  \" >\n",
       "<div class=\"ara\">Béjəm </div>\n",
       "<div class=\"features\"></div>\n",
       "</div>\n",
       "<div class=\"word  \" >\n",
       "<div class=\"ara\">lìtle </div>\n",
       "<div class=\"features\"></div>\n",
       "</div>\n",
       "<div class=\"word  \" >\n",
       "<div class=\"ara\">hátxa </div>\n",
       "<div class=\"features\"></div>\n",
       "</div>\n",
       "<div class=\"word  \" >\n",
       "<div class=\"ara\">šúle </div>\n",
       "<div class=\"features\"></div>\n",
       "</div>\n",
       "<div class=\"word  hl\" >\n",
       "<div class=\"ara\">məndiyàne.ˈ </div>\n",
       "<div class=\"features\"></div>\n",
       "</div>\n",
       "</div>\n",
       "</div>\n",
       "</div>"
      ],
      "text/plain": [
       "<IPython.core.display.HTML object>"
      ]
     },
     "metadata": {},
     "output_type": "display_data"
    },
    {
     "data": {
      "text/html": [
       "<p><b>result</b> <i>14</i></p>"
      ],
      "text/plain": [
       "<IPython.core.display.HTML object>"
      ]
     },
     "metadata": {},
     "output_type": "display_data"
    },
    {
     "data": {
      "text/html": [
       "<div class=\"outeritem\">\n",
       "<div class=\"None  \" >\n",
       "\n",
       "    <div class=\"ll\">\n",
       "        <div class=\"line\"><a href=\"https://github.com/CambridgeSemiticsLab/nena_corpus/blob/master/texts/Barwar/The Monk And The Angel\" title=\"see this passage in its source document\" sec=\"Barwar\">Barwar</a></div>\n",
       "\n",
       "        <div class=\"features\"> <span class=\"dialect xft\"><span class=\"f\">dialect=</span>Barwar</span></div>\n",
       "    </div>\n",
       "\n",
       "</div>\n",
       "</div>"
      ],
      "text/plain": [
       "<IPython.core.display.HTML object>"
      ]
     },
     "metadata": {},
     "output_type": "display_data"
    },
    {
     "data": {
      "text/html": [
       "<a href=\"https://github.com/CambridgeSemiticsLab/nena_corpus/blob/master/texts/Barwar/THE TALE OF RUSTAM (1)\" title=\"see this passage in its source document\" sec=\"Barwar, THE TALE OF RUSTAM (1), Ln. 28\">Barwar, THE TALE OF RUSTAM (1), Ln. 28</a>\n",
       "<div class=\"outeritem\">\n",
       "<div class=\"macro  \" >\n",
       "<div class=\"features\"></div>\n",
       "<div class=\"prosa  \" >\n",
       "<div class=\"features\"></div>\n",
       "<div class=\"word  \" >\n",
       "<div class=\"ara\">ʾímət </div>\n",
       "<div class=\"features\"></div>\n",
       "</div>\n",
       "<div class=\"word  \" >\n",
       "<div class=\"ara\">píšle </div>\n",
       "<div class=\"features\"></div>\n",
       "</div>\n",
       "<div class=\"word  \" >\n",
       "<div class=\"ara\">brìndar </div>\n",
       "<div class=\"features\"></div>\n",
       "</div>\n",
       "<div class=\"word  \" >\n",
       "<div class=\"ara\">Rústam,ˈ </div>\n",
       "<div class=\"features\"></div>\n",
       "</div>\n",
       "</div>\n",
       "<div class=\"prosa  \" >\n",
       "<div class=\"features\"></div>\n",
       "<div class=\"word  \" >\n",
       "<div class=\"ara\">qìmɛle,ˈ </div>\n",
       "<div class=\"features\"></div>\n",
       "</div>\n",
       "</div>\n",
       "<div class=\"prosa  \" >\n",
       "<div class=\"features\"></div>\n",
       "<div class=\"word  \" >\n",
       "<div class=\"ara\">mšùdrəlle,ˈ </div>\n",
       "<div class=\"features\"></div>\n",
       "</div>\n",
       "</div>\n",
       "<div class=\"prosa  \" >\n",
       "<div class=\"features\"></div>\n",
       "<div class=\"word  \" >\n",
       "<div class=\"ara\">lítle </div>\n",
       "<div class=\"features\"></div>\n",
       "</div>\n",
       "<div class=\"word  hl\" >\n",
       "<div class=\"ara\">daṛmàne.ˈ </div>\n",
       "<div class=\"features\"></div>\n",
       "</div>\n",
       "</div>\n",
       "</div>\n",
       "</div>"
      ],
      "text/plain": [
       "<IPython.core.display.HTML object>"
      ]
     },
     "metadata": {},
     "output_type": "display_data"
    },
    {
     "data": {
      "text/html": [
       "<p><b>result</b> <i>15</i></p>"
      ],
      "text/plain": [
       "<IPython.core.display.HTML object>"
      ]
     },
     "metadata": {},
     "output_type": "display_data"
    },
    {
     "data": {
      "text/html": [
       "<div class=\"outeritem\">\n",
       "<div class=\"None  \" >\n",
       "\n",
       "    <div class=\"ll\">\n",
       "        <div class=\"line\"><a href=\"https://github.com/CambridgeSemiticsLab/nena_corpus/blob/master/texts/Barwar/The Monk And The Angel\" title=\"see this passage in its source document\" sec=\"Barwar\">Barwar</a></div>\n",
       "\n",
       "        <div class=\"features\"> <span class=\"dialect xft\"><span class=\"f\">dialect=</span>Barwar</span></div>\n",
       "    </div>\n",
       "\n",
       "</div>\n",
       "</div>"
      ],
      "text/plain": [
       "<IPython.core.display.HTML object>"
      ]
     },
     "metadata": {},
     "output_type": "display_data"
    },
    {
     "data": {
      "text/html": [
       "<a href=\"https://github.com/CambridgeSemiticsLab/nena_corpus/blob/master/texts/Barwar/THE TALE OF RUSTAM (1)\" title=\"see this passage in its source document\" sec=\"Barwar, THE TALE OF RUSTAM (1), Ln. 30\">Barwar, THE TALE OF RUSTAM (1), Ln. 30</a>\n",
       "<div class=\"outeritem\">\n",
       "<div class=\"macro  \" >\n",
       "<div class=\"features\"></div>\n",
       "<div class=\"prosa  \" >\n",
       "<div class=\"features\"></div>\n",
       "<div class=\"word  \" >\n",
       "<div class=\"ara\">qíme </div>\n",
       "<div class=\"features\"></div>\n",
       "</div>\n",
       "<div class=\"word  \" >\n",
       "<div class=\"ara\">mšúdrəlle </div>\n",
       "<div class=\"features\"></div>\n",
       "</div>\n",
       "<div class=\"word  hl\" >\n",
       "<div class=\"ara\">daṛmàne.ˈ </div>\n",
       "<div class=\"features\"></div>\n",
       "</div>\n",
       "</div>\n",
       "</div>\n",
       "</div>"
      ],
      "text/plain": [
       "<IPython.core.display.HTML object>"
      ]
     },
     "metadata": {},
     "output_type": "display_data"
    },
    {
     "data": {
      "text/html": [
       "<p><b>result</b> <i>16</i></p>"
      ],
      "text/plain": [
       "<IPython.core.display.HTML object>"
      ]
     },
     "metadata": {},
     "output_type": "display_data"
    },
    {
     "data": {
      "text/html": [
       "<div class=\"outeritem\">\n",
       "<div class=\"None  \" >\n",
       "\n",
       "    <div class=\"ll\">\n",
       "        <div class=\"line\"><a href=\"https://github.com/CambridgeSemiticsLab/nena_corpus/blob/master/texts/Barwar/The Monk And The Angel\" title=\"see this passage in its source document\" sec=\"Barwar\">Barwar</a></div>\n",
       "\n",
       "        <div class=\"features\"> <span class=\"dialect xft\"><span class=\"f\">dialect=</span>Barwar</span></div>\n",
       "    </div>\n",
       "\n",
       "</div>\n",
       "</div>"
      ],
      "text/plain": [
       "<IPython.core.display.HTML object>"
      ]
     },
     "metadata": {},
     "output_type": "display_data"
    },
    {
     "data": {
      "text/html": [
       "<a href=\"https://github.com/CambridgeSemiticsLab/nena_corpus/blob/master/texts/Barwar/THE TALE OF RUSTAM (1)\" title=\"see this passage in its source document\" sec=\"Barwar, THE TALE OF RUSTAM (1), Ln. 35\">Barwar, THE TALE OF RUSTAM (1), Ln. 35</a>\n",
       "<div class=\"outeritem\">\n",
       "<div class=\"macro  \" >\n",
       "<div class=\"features\"></div>\n",
       "<div class=\"prosa  \" >\n",
       "<div class=\"features\"></div>\n",
       "<div class=\"word  \" >\n",
       "<div class=\"ara\">kút-xa </div>\n",
       "<div class=\"features\"></div>\n",
       "</div>\n",
       "<div class=\"word  \" >\n",
       "<div class=\"ara\">tíwɛle </div>\n",
       "<div class=\"features\"></div>\n",
       "</div>\n",
       "<div class=\"word  \" >\n",
       "<div class=\"ara\">l-xáṣə </div>\n",
       "<div class=\"features\"></div>\n",
       "</div>\n",
       "<div class=\"word  \" >\n",
       "<div class=\"ara\">súsət </div>\n",
       "<div class=\"features\"></div>\n",
       "</div>\n",
       "<div class=\"word  hl\" >\n",
       "<div class=\"ara\">gáne </div>\n",
       "<div class=\"features\"></div>\n",
       "</div>\n",
       "<div class=\"word  \" >\n",
       "<div class=\"ara\">dìyeˈ </div>\n",
       "<div class=\"features\"></div>\n",
       "</div>\n",
       "</div>\n",
       "<div class=\"prosa  \" >\n",
       "<div class=\"features\"></div>\n",
       "<div class=\"word  \" >\n",
       "<div class=\"ara\">ʾu-zála </div>\n",
       "<div class=\"features\"></div>\n",
       "</div>\n",
       "<div class=\"word  \" >\n",
       "<div class=\"ara\">mxáya </div>\n",
       "<div class=\"features\"></div>\n",
       "</div>\n",
       "<div class=\"word  \" >\n",
       "<div class=\"ara\">rùmxe.ˈ</div>\n",
       "<div class=\"features\"></div>\n",
       "</div>\n",
       "</div>\n",
       "</div>\n",
       "</div>"
      ],
      "text/plain": [
       "<IPython.core.display.HTML object>"
      ]
     },
     "metadata": {},
     "output_type": "display_data"
    },
    {
     "data": {
      "text/html": [
       "<p><b>result</b> <i>17</i></p>"
      ],
      "text/plain": [
       "<IPython.core.display.HTML object>"
      ]
     },
     "metadata": {},
     "output_type": "display_data"
    },
    {
     "data": {
      "text/html": [
       "<div class=\"outeritem\">\n",
       "<div class=\"None  \" >\n",
       "\n",
       "    <div class=\"ll\">\n",
       "        <div class=\"line\"><a href=\"https://github.com/CambridgeSemiticsLab/nena_corpus/blob/master/texts/Barwar/The Monk And The Angel\" title=\"see this passage in its source document\" sec=\"Barwar\">Barwar</a></div>\n",
       "\n",
       "        <div class=\"features\"> <span class=\"dialect xft\"><span class=\"f\">dialect=</span>Barwar</span></div>\n",
       "    </div>\n",
       "\n",
       "</div>\n",
       "</div>"
      ],
      "text/plain": [
       "<IPython.core.display.HTML object>"
      ]
     },
     "metadata": {},
     "output_type": "display_data"
    },
    {
     "data": {
      "text/html": [
       "<a href=\"https://github.com/CambridgeSemiticsLab/nena_corpus/blob/master/texts/Barwar/THE TALE OF PARIZADA, WARDA AND NARGIS\" title=\"see this passage in its source document\" sec=\"Barwar, THE TALE OF PARIZADA, WARDA AND NARGIS, Ln. 7\">Barwar, THE TALE OF PARIZADA, WARDA AND NARGIS, Ln. 7</a>\n",
       "<div class=\"outeritem\">\n",
       "<div class=\"macro  \" >\n",
       "<div class=\"features\"></div>\n",
       "<div class=\"prosa  \" >\n",
       "<div class=\"features\"></div>\n",
       "<div class=\"word  \" >\n",
       "<div class=\"ara\">zílle, </div>\n",
       "<div class=\"features\"></div>\n",
       "</div>\n",
       "<div class=\"word  \" >\n",
       "<div class=\"ara\">zílle, </div>\n",
       "<div class=\"features\"></div>\n",
       "</div>\n",
       "<div class=\"word  \" >\n",
       "<div class=\"ara\">zìlle,ˈ </div>\n",
       "<div class=\"features\"></div>\n",
       "</div>\n",
       "</div>\n",
       "<div class=\"prosa  \" >\n",
       "<div class=\"features\"></div>\n",
       "<div class=\"word  \" >\n",
       "<div class=\"ara\">ʾə́šta </div>\n",
       "<div class=\"features\"></div>\n",
       "</div>\n",
       "<div class=\"word  \" >\n",
       "<div class=\"ara\">šáwwa </div>\n",
       "<div class=\"features\"></div>\n",
       "</div>\n",
       "<div class=\"word  hl\" >\n",
       "<div class=\"ara\">yomàne,ˈ </div>\n",
       "<div class=\"features\"></div>\n",
       "</div>\n",
       "</div>\n",
       "<div class=\"prosa  \" >\n",
       "<div class=\"features\"></div>\n",
       "<div class=\"word  \" >\n",
       "<div class=\"ara\">mṭéle </div>\n",
       "<div class=\"features\"></div>\n",
       "</div>\n",
       "<div class=\"word  \" >\n",
       "<div class=\"ara\">xa-náša </div>\n",
       "<div class=\"features\"></div>\n",
       "</div>\n",
       "<div class=\"word  \" >\n",
       "<div class=\"ara\">sàwa,ˈ </div>\n",
       "<div class=\"features\"></div>\n",
       "</div>\n",
       "</div>\n",
       "<div class=\"prosa  \" >\n",
       "<div class=\"features\"></div>\n",
       "<div class=\"word  \" >\n",
       "<div class=\"ara\">də̀qneˈ </div>\n",
       "<div class=\"features\"></div>\n",
       "</div>\n",
       "</div>\n",
       "<div class=\"prosa  \" >\n",
       "<div class=\"features\"></div>\n",
       "<div class=\"word  \" >\n",
       "<div class=\"ara\">hal-ʾằraˈ </div>\n",
       "<div class=\"features\"></div>\n",
       "</div>\n",
       "</div>\n",
       "<div class=\"prosa  \" >\n",
       "<div class=\"features\"></div>\n",
       "<div class=\"word  \" >\n",
       "<div class=\"ara\">mə̀ṭya.ˈ</div>\n",
       "<div class=\"features\"></div>\n",
       "</div>\n",
       "</div>\n",
       "</div>\n",
       "</div>"
      ],
      "text/plain": [
       "<IPython.core.display.HTML object>"
      ]
     },
     "metadata": {},
     "output_type": "display_data"
    },
    {
     "data": {
      "text/html": [
       "<p><b>result</b> <i>18</i></p>"
      ],
      "text/plain": [
       "<IPython.core.display.HTML object>"
      ]
     },
     "metadata": {},
     "output_type": "display_data"
    },
    {
     "data": {
      "text/html": [
       "<div class=\"outeritem\">\n",
       "<div class=\"None  \" >\n",
       "\n",
       "    <div class=\"ll\">\n",
       "        <div class=\"line\"><a href=\"https://github.com/CambridgeSemiticsLab/nena_corpus/blob/master/texts/Barwar/The Monk And The Angel\" title=\"see this passage in its source document\" sec=\"Barwar\">Barwar</a></div>\n",
       "\n",
       "        <div class=\"features\"> <span class=\"dialect xft\"><span class=\"f\">dialect=</span>Barwar</span></div>\n",
       "    </div>\n",
       "\n",
       "</div>\n",
       "</div>"
      ],
      "text/plain": [
       "<IPython.core.display.HTML object>"
      ]
     },
     "metadata": {},
     "output_type": "display_data"
    },
    {
     "data": {
      "text/html": [
       "<a href=\"https://github.com/CambridgeSemiticsLab/nena_corpus/blob/master/texts/Barwar/THE TALE OF PARIZADA, WARDA AND NARGIS\" title=\"see this passage in its source document\" sec=\"Barwar, THE TALE OF PARIZADA, WARDA AND NARGIS, Ln. 17\">Barwar, THE TALE OF PARIZADA, WARDA AND NARGIS, Ln. 17</a>\n",
       "<div class=\"outeritem\">\n",
       "<div class=\"macro  \" >\n",
       "<div class=\"features\"></div>\n",
       "<div class=\"prosa  \" >\n",
       "<div class=\"features\"></div>\n",
       "<div class=\"word  \" >\n",
       "<div class=\"ara\">ʾárbi </div>\n",
       "<div class=\"features\"></div>\n",
       "</div>\n",
       "<div class=\"word  hl\" >\n",
       "<div class=\"ara\">yomàneˈ </div>\n",
       "<div class=\"features\"></div>\n",
       "</div>\n",
       "</div>\n",
       "<div class=\"prosa  \" >\n",
       "<div class=\"features\"></div>\n",
       "<div class=\"word  \" >\n",
       "<div class=\"ara\">dmìxtɛwa,ˈ </div>\n",
       "<div class=\"features\"></div>\n",
       "</div>\n",
       "</div>\n",
       "<div class=\"prosa  \" >\n",
       "<div class=\"features\"></div>\n",
       "<div class=\"word  \" >\n",
       "<div class=\"ara\">ṭlìta.ˈ </div>\n",
       "<div class=\"features\"></div>\n",
       "</div>\n",
       "</div>\n",
       "</div>\n",
       "</div>"
      ],
      "text/plain": [
       "<IPython.core.display.HTML object>"
      ]
     },
     "metadata": {},
     "output_type": "display_data"
    },
    {
     "data": {
      "text/html": [
       "<p><b>result</b> <i>19</i></p>"
      ],
      "text/plain": [
       "<IPython.core.display.HTML object>"
      ]
     },
     "metadata": {},
     "output_type": "display_data"
    },
    {
     "data": {
      "text/html": [
       "<div class=\"outeritem\">\n",
       "<div class=\"None  \" >\n",
       "\n",
       "    <div class=\"ll\">\n",
       "        <div class=\"line\"><a href=\"https://github.com/CambridgeSemiticsLab/nena_corpus/blob/master/texts/Barwar/The Monk And The Angel\" title=\"see this passage in its source document\" sec=\"Barwar\">Barwar</a></div>\n",
       "\n",
       "        <div class=\"features\"> <span class=\"dialect xft\"><span class=\"f\">dialect=</span>Barwar</span></div>\n",
       "    </div>\n",
       "\n",
       "</div>\n",
       "</div>"
      ],
      "text/plain": [
       "<IPython.core.display.HTML object>"
      ]
     },
     "metadata": {},
     "output_type": "display_data"
    },
    {
     "data": {
      "text/html": [
       "<a href=\"https://github.com/CambridgeSemiticsLab/nena_corpus/blob/master/texts/Barwar/THE TALE OF PARIZADA, WARDA AND NARGIS\" title=\"see this passage in its source document\" sec=\"Barwar, THE TALE OF PARIZADA, WARDA AND NARGIS, Ln. 29\">Barwar, THE TALE OF PARIZADA, WARDA AND NARGIS, Ln. 29</a>\n",
       "<div class=\"outeritem\">\n",
       "<div class=\"macro  \" >\n",
       "<div class=\"features\"></div>\n",
       "<div class=\"prosa  \" >\n",
       "<div class=\"features\"></div>\n",
       "<div class=\"word  \" >\n",
       "<div class=\"ara\">bás </div>\n",
       "<div class=\"features\"></div>\n",
       "</div>\n",
       "<div class=\"word  \" >\n",
       "<div class=\"ara\">ʾìtlɛniˈ </div>\n",
       "<div class=\"features\"></div>\n",
       "</div>\n",
       "</div>\n",
       "<div class=\"prosa  \" >\n",
       "<div class=\"features\"></div>\n",
       "<div class=\"word  \" >\n",
       "<div class=\"ara\">mtămàztətˈ </div>\n",
       "<div class=\"features\"></div>\n",
       "</div>\n",
       "</div>\n",
       "<div class=\"prosa  \" >\n",
       "<div class=\"features\"></div>\n",
       "<div class=\"word  \" >\n",
       "<div class=\"ara\">gómə </div>\n",
       "<div class=\"features\"></div>\n",
       "</div>\n",
       "<div class=\"word  hl\" >\n",
       "<div class=\"ara\">susăwàθa,ˈ </div>\n",
       "<div class=\"features\"></div>\n",
       "</div>\n",
       "</div>\n",
       "<div class=\"prosa  \" >\n",
       "<div class=\"features\"></div>\n",
       "<div class=\"word  \" >\n",
       "<div class=\"ara\">ta-t-mtăməzə̀tla </div>\n",
       "<div class=\"features\"></div>\n",
       "</div>\n",
       "<div class=\"word  \" >\n",
       "<div class=\"ara\">ʾáni </div>\n",
       "<div class=\"features\"></div>\n",
       "</div>\n",
       "<div class=\"word  \" >\n",
       "<div class=\"ara\">bás.ˈ </div>\n",
       "<div class=\"features\"></div>\n",
       "</div>\n",
       "</div>\n",
       "</div>\n",
       "</div>"
      ],
      "text/plain": [
       "<IPython.core.display.HTML object>"
      ]
     },
     "metadata": {},
     "output_type": "display_data"
    },
    {
     "data": {
      "text/html": [
       "<p><b>result</b> <i>20</i></p>"
      ],
      "text/plain": [
       "<IPython.core.display.HTML object>"
      ]
     },
     "metadata": {},
     "output_type": "display_data"
    },
    {
     "data": {
      "text/html": [
       "<div class=\"outeritem\">\n",
       "<div class=\"None  \" >\n",
       "\n",
       "    <div class=\"ll\">\n",
       "        <div class=\"line\"><a href=\"https://github.com/CambridgeSemiticsLab/nena_corpus/blob/master/texts/Barwar/The Monk And The Angel\" title=\"see this passage in its source document\" sec=\"Barwar\">Barwar</a></div>\n",
       "\n",
       "        <div class=\"features\"> <span class=\"dialect xft\"><span class=\"f\">dialect=</span>Barwar</span></div>\n",
       "    </div>\n",
       "\n",
       "</div>\n",
       "</div>"
      ],
      "text/plain": [
       "<IPython.core.display.HTML object>"
      ]
     },
     "metadata": {},
     "output_type": "display_data"
    },
    {
     "data": {
      "text/html": [
       "<a href=\"https://github.com/CambridgeSemiticsLab/nena_corpus/blob/master/texts/Barwar/THE TALE OF PARIZADA, WARDA AND NARGIS\" title=\"see this passage in its source document\" sec=\"Barwar, THE TALE OF PARIZADA, WARDA AND NARGIS, Ln. 29\">Barwar, THE TALE OF PARIZADA, WARDA AND NARGIS, Ln. 29</a>\n",
       "<div class=\"outeritem\">\n",
       "<div class=\"macro  \" >\n",
       "<div class=\"features\"></div>\n",
       "<div class=\"prosa  \" >\n",
       "<div class=\"features\"></div>\n",
       "<div class=\"word  \" >\n",
       "<div class=\"ara\">qìmɛleˈ </div>\n",
       "<div class=\"features\"></div>\n",
       "</div>\n",
       "</div>\n",
       "<div class=\"prosa  \" >\n",
       "<div class=\"features\"></div>\n",
       "<div class=\"word  \" >\n",
       "<div class=\"ara\">ṣə́lya </div>\n",
       "<div class=\"features\"></div>\n",
       "</div>\n",
       "<div class=\"word  \" >\n",
       "<div class=\"ara\">pìšɛleˈ </div>\n",
       "<div class=\"features\"></div>\n",
       "</div>\n",
       "</div>\n",
       "<div class=\"prosa  \" >\n",
       "<div class=\"features\"></div>\n",
       "<div class=\"word  \" >\n",
       "<div class=\"ara\">gu-gòma,ˈ </div>\n",
       "<div class=\"features\"></div>\n",
       "</div>\n",
       "</div>\n",
       "<div class=\"prosa  \" >\n",
       "<div class=\"features\"></div>\n",
       "<div class=\"word  \" >\n",
       "<div class=\"ara\">knáša </div>\n",
       "<div class=\"features\"></div>\n",
       "</div>\n",
       "<div class=\"word  \" >\n",
       "<div class=\"ara\">ʾu-mšàya,ˈ </div>\n",
       "<div class=\"features\"></div>\n",
       "</div>\n",
       "</div>\n",
       "<div class=\"prosa  \" >\n",
       "<div class=\"features\"></div>\n",
       "<div class=\"word  \" >\n",
       "<div class=\"ara\">tagbóre </div>\n",
       "<div class=\"features\"></div>\n",
       "</div>\n",
       "<div class=\"word  hl\" >\n",
       "<div class=\"ara\">susăwàθa.  </div>\n",
       "<div class=\"features\"></div>\n",
       "</div>\n",
       "</div>\n",
       "</div>\n",
       "</div>"
      ],
      "text/plain": [
       "<IPython.core.display.HTML object>"
      ]
     },
     "metadata": {},
     "output_type": "display_data"
    },
    {
     "data": {
      "text/html": [
       "<p><b>result</b> <i>21</i></p>"
      ],
      "text/plain": [
       "<IPython.core.display.HTML object>"
      ]
     },
     "metadata": {},
     "output_type": "display_data"
    },
    {
     "data": {
      "text/html": [
       "<div class=\"outeritem\">\n",
       "<div class=\"None  \" >\n",
       "\n",
       "    <div class=\"ll\">\n",
       "        <div class=\"line\"><a href=\"https://github.com/CambridgeSemiticsLab/nena_corpus/blob/master/texts/Barwar/The Monk And The Angel\" title=\"see this passage in its source document\" sec=\"Barwar\">Barwar</a></div>\n",
       "\n",
       "        <div class=\"features\"> <span class=\"dialect xft\"><span class=\"f\">dialect=</span>Barwar</span></div>\n",
       "    </div>\n",
       "\n",
       "</div>\n",
       "</div>"
      ],
      "text/plain": [
       "<IPython.core.display.HTML object>"
      ]
     },
     "metadata": {},
     "output_type": "display_data"
    },
    {
     "data": {
      "text/html": [
       "<a href=\"https://github.com/CambridgeSemiticsLab/nena_corpus/blob/master/texts/Barwar/THE TALE OF PARIZADA, WARDA AND NARGIS\" title=\"see this passage in its source document\" sec=\"Barwar, THE TALE OF PARIZADA, WARDA AND NARGIS, Ln. 32\">Barwar, THE TALE OF PARIZADA, WARDA AND NARGIS, Ln. 32</a>\n",
       "<div class=\"outeritem\">\n",
       "<div class=\"macro  \" >\n",
       "<div class=\"features\"></div>\n",
       "<div class=\"prosa  \" >\n",
       "<div class=\"features\"></div>\n",
       "<div class=\"word  \" >\n",
       "<div class=\"ara\">píšle </div>\n",
       "<div class=\"features\"></div>\n",
       "</div>\n",
       "<div class=\"word  \" >\n",
       "<div class=\"ara\">ʾó </div>\n",
       "<div class=\"features\"></div>\n",
       "</div>\n",
       "<div class=\"word  \" >\n",
       "<div class=\"ara\">ṱ-íle </div>\n",
       "<div class=\"features\"></div>\n",
       "</div>\n",
       "<div class=\"word  \" >\n",
       "<div class=\"ara\">gu-gómət </div>\n",
       "<div class=\"features\"></div>\n",
       "</div>\n",
       "<div class=\"word  hl\" >\n",
       "<div class=\"ara\">susăwàθa.ˈ </div>\n",
       "<div class=\"features\"></div>\n",
       "</div>\n",
       "</div>\n",
       "</div>\n",
       "</div>"
      ],
      "text/plain": [
       "<IPython.core.display.HTML object>"
      ]
     },
     "metadata": {},
     "output_type": "display_data"
    },
    {
     "data": {
      "text/html": [
       "<p><b>result</b> <i>22</i></p>"
      ],
      "text/plain": [
       "<IPython.core.display.HTML object>"
      ]
     },
     "metadata": {},
     "output_type": "display_data"
    },
    {
     "data": {
      "text/html": [
       "<div class=\"outeritem\">\n",
       "<div class=\"None  \" >\n",
       "\n",
       "    <div class=\"ll\">\n",
       "        <div class=\"line\"><a href=\"https://github.com/CambridgeSemiticsLab/nena_corpus/blob/master/texts/Barwar/The Monk And The Angel\" title=\"see this passage in its source document\" sec=\"Barwar\">Barwar</a></div>\n",
       "\n",
       "        <div class=\"features\"> <span class=\"dialect xft\"><span class=\"f\">dialect=</span>Barwar</span></div>\n",
       "    </div>\n",
       "\n",
       "</div>\n",
       "</div>"
      ],
      "text/plain": [
       "<IPython.core.display.HTML object>"
      ]
     },
     "metadata": {},
     "output_type": "display_data"
    },
    {
     "data": {
      "text/html": [
       "<a href=\"https://github.com/CambridgeSemiticsLab/nena_corpus/blob/master/texts/Barwar/THE TALE OF PARIZADA, WARDA AND NARGIS\" title=\"see this passage in its source document\" sec=\"Barwar, THE TALE OF PARIZADA, WARDA AND NARGIS, Ln. 33\">Barwar, THE TALE OF PARIZADA, WARDA AND NARGIS, Ln. 33</a>\n",
       "<div class=\"outeritem\">\n",
       "<div class=\"macro  \" >\n",
       "<div class=\"features\"></div>\n",
       "<div class=\"prosa  \" >\n",
       "<div class=\"features\"></div>\n",
       "<div class=\"word  \" >\n",
       "<div class=\"ara\">mə̀reˈ </div>\n",
       "<div class=\"features\"></div>\n",
       "</div>\n",
       "</div>\n",
       "<div class=\"prosa  \" >\n",
       "<div class=\"features\"></div>\n",
       "<div class=\"word  \" >\n",
       "<div class=\"ara\">ʾíθwa </div>\n",
       "<div class=\"features\"></div>\n",
       "</div>\n",
       "<div class=\"word  \" >\n",
       "<div class=\"ara\">xa-ṭúrət </div>\n",
       "<div class=\"features\"></div>\n",
       "</div>\n",
       "<div class=\"word  hl\" >\n",
       "<div class=\"ara\">skinyàθa.ˈ </div>\n",
       "<div class=\"features\"></div>\n",
       "</div>\n",
       "</div>\n",
       "</div>\n",
       "</div>"
      ],
      "text/plain": [
       "<IPython.core.display.HTML object>"
      ]
     },
     "metadata": {},
     "output_type": "display_data"
    },
    {
     "data": {
      "text/html": [
       "<p><b>result</b> <i>23</i></p>"
      ],
      "text/plain": [
       "<IPython.core.display.HTML object>"
      ]
     },
     "metadata": {},
     "output_type": "display_data"
    },
    {
     "data": {
      "text/html": [
       "<div class=\"outeritem\">\n",
       "<div class=\"None  \" >\n",
       "\n",
       "    <div class=\"ll\">\n",
       "        <div class=\"line\"><a href=\"https://github.com/CambridgeSemiticsLab/nena_corpus/blob/master/texts/Barwar/The Monk And The Angel\" title=\"see this passage in its source document\" sec=\"Barwar\">Barwar</a></div>\n",
       "\n",
       "        <div class=\"features\"> <span class=\"dialect xft\"><span class=\"f\">dialect=</span>Barwar</span></div>\n",
       "    </div>\n",
       "\n",
       "</div>\n",
       "</div>"
      ],
      "text/plain": [
       "<IPython.core.display.HTML object>"
      ]
     },
     "metadata": {},
     "output_type": "display_data"
    },
    {
     "data": {
      "text/html": [
       "<a href=\"https://github.com/CambridgeSemiticsLab/nena_corpus/blob/master/texts/Barwar/THE TALE OF PARIZADA, WARDA AND NARGIS\" title=\"see this passage in its source document\" sec=\"Barwar, THE TALE OF PARIZADA, WARDA AND NARGIS, Ln. 33\">Barwar, THE TALE OF PARIZADA, WARDA AND NARGIS, Ln. 33</a>\n",
       "<div class=\"outeritem\">\n",
       "<div class=\"macro  \" >\n",
       "<div class=\"features\"></div>\n",
       "<div class=\"prosa  \" >\n",
       "<div class=\"features\"></div>\n",
       "<div class=\"word  \" >\n",
       "<div class=\"ara\">muttɛ́θətwa </div>\n",
       "<div class=\"features\"></div>\n",
       "</div>\n",
       "<div class=\"word  \" >\n",
       "<div class=\"ara\">qámi </div>\n",
       "<div class=\"features\"></div>\n",
       "</div>\n",
       "<div class=\"word  \" >\n",
       "<div class=\"ara\">xa-ṭúrət </div>\n",
       "<div class=\"features\"></div>\n",
       "</div>\n",
       "<div class=\"word  hl\" >\n",
       "<div class=\"ara\">skinyàθa.ˈ </div>\n",
       "<div class=\"features\"></div>\n",
       "</div>\n",
       "</div>\n",
       "</div>\n",
       "</div>"
      ],
      "text/plain": [
       "<IPython.core.display.HTML object>"
      ]
     },
     "metadata": {},
     "output_type": "display_data"
    },
    {
     "data": {
      "text/html": [
       "<p><b>result</b> <i>24</i></p>"
      ],
      "text/plain": [
       "<IPython.core.display.HTML object>"
      ]
     },
     "metadata": {},
     "output_type": "display_data"
    },
    {
     "data": {
      "text/html": [
       "<div class=\"outeritem\">\n",
       "<div class=\"None  \" >\n",
       "\n",
       "    <div class=\"ll\">\n",
       "        <div class=\"line\"><a href=\"https://github.com/CambridgeSemiticsLab/nena_corpus/blob/master/texts/Barwar/The Monk And The Angel\" title=\"see this passage in its source document\" sec=\"Barwar\">Barwar</a></div>\n",
       "\n",
       "        <div class=\"features\"> <span class=\"dialect xft\"><span class=\"f\">dialect=</span>Barwar</span></div>\n",
       "    </div>\n",
       "\n",
       "</div>\n",
       "</div>"
      ],
      "text/plain": [
       "<IPython.core.display.HTML object>"
      ]
     },
     "metadata": {},
     "output_type": "display_data"
    },
    {
     "data": {
      "text/html": [
       "<a href=\"https://github.com/CambridgeSemiticsLab/nena_corpus/blob/master/texts/Barwar/THE TALE OF PARIZADA, WARDA AND NARGIS\" title=\"see this passage in its source document\" sec=\"Barwar, THE TALE OF PARIZADA, WARDA AND NARGIS, Ln. 36\">Barwar, THE TALE OF PARIZADA, WARDA AND NARGIS, Ln. 36</a>\n",
       "<div class=\"outeritem\">\n",
       "<div class=\"macro  \" >\n",
       "<div class=\"features\"></div>\n",
       "<div class=\"prosa  \" >\n",
       "<div class=\"features\"></div>\n",
       "<div class=\"word  \" >\n",
       "<div class=\"ara\">xa-tré </div>\n",
       "<div class=\"features\"></div>\n",
       "</div>\n",
       "<div class=\"word  hl\" >\n",
       "<div class=\"ara\">ṭḷá-yomane </div>\n",
       "<div class=\"features\"></div>\n",
       "</div>\n",
       "<div class=\"word  \" >\n",
       "<div class=\"ara\">tíwɛle </div>\n",
       "<div class=\"features\"></div>\n",
       "</div>\n",
       "<div class=\"word  \" >\n",
       "<div class=\"ara\">l-súsa </div>\n",
       "<div class=\"features\"></div>\n",
       "</div>\n",
       "<div class=\"word  \" >\n",
       "<div class=\"ara\">díye </div>\n",
       "<div class=\"features\"></div>\n",
       "</div>\n",
       "<div class=\"word  \" >\n",
       "<div class=\"ara\">ʾu-zìlɛle.ˈ </div>\n",
       "<div class=\"features\"></div>\n",
       "</div>\n",
       "</div>\n",
       "</div>\n",
       "</div>"
      ],
      "text/plain": [
       "<IPython.core.display.HTML object>"
      ]
     },
     "metadata": {},
     "output_type": "display_data"
    },
    {
     "data": {
      "text/html": [
       "<p><b>result</b> <i>25</i></p>"
      ],
      "text/plain": [
       "<IPython.core.display.HTML object>"
      ]
     },
     "metadata": {},
     "output_type": "display_data"
    },
    {
     "data": {
      "text/html": [
       "<div class=\"outeritem\">\n",
       "<div class=\"None  \" >\n",
       "\n",
       "    <div class=\"ll\">\n",
       "        <div class=\"line\"><a href=\"https://github.com/CambridgeSemiticsLab/nena_corpus/blob/master/texts/Barwar/The Monk And The Angel\" title=\"see this passage in its source document\" sec=\"Barwar\">Barwar</a></div>\n",
       "\n",
       "        <div class=\"features\"> <span class=\"dialect xft\"><span class=\"f\">dialect=</span>Barwar</span></div>\n",
       "    </div>\n",
       "\n",
       "</div>\n",
       "</div>"
      ],
      "text/plain": [
       "<IPython.core.display.HTML object>"
      ]
     },
     "metadata": {},
     "output_type": "display_data"
    },
    {
     "data": {
      "text/html": [
       "<a href=\"https://github.com/CambridgeSemiticsLab/nena_corpus/blob/master/texts/Barwar/THE TALE OF PARIZADA, WARDA AND NARGIS\" title=\"see this passage in its source document\" sec=\"Barwar, THE TALE OF PARIZADA, WARDA AND NARGIS, Ln. 37\">Barwar, THE TALE OF PARIZADA, WARDA AND NARGIS, Ln. 37</a>\n",
       "<div class=\"outeritem\">\n",
       "<div class=\"macro  \" >\n",
       "<div class=\"features\"></div>\n",
       "<div class=\"prosa  \" >\n",
       "<div class=\"features\"></div>\n",
       "<div class=\"word  \" >\n",
       "<div class=\"ara\">ha-ṱòṱi,ˈ </div>\n",
       "<div class=\"features\"></div>\n",
       "</div>\n",
       "</div>\n",
       "<div class=\"prosa  \" >\n",
       "<div class=\"features\"></div>\n",
       "<div class=\"word  \" >\n",
       "<div class=\"ara\">xázəx </div>\n",
       "<div class=\"features\"></div>\n",
       "</div>\n",
       "<div class=\"word  \" >\n",
       "<div class=\"ara\">ʾánna </div>\n",
       "<div class=\"features\"></div>\n",
       "</div>\n",
       "<div class=\"word  \" >\n",
       "<div class=\"ara\">miyɛ́xu </div>\n",
       "<div class=\"features\"></div>\n",
       "</div>\n",
       "<div class=\"word  hl\" >\n",
       "<div class=\"ara\">məlxàne.ˈ</div>\n",
       "<div class=\"features\"></div>\n",
       "</div>\n",
       "</div>\n",
       "</div>\n",
       "</div>"
      ],
      "text/plain": [
       "<IPython.core.display.HTML object>"
      ]
     },
     "metadata": {},
     "output_type": "display_data"
    }
   ],
   "source": [
    "nena.show(nouns, end=25, suppress='trans_lite')"
   ]
  },
  {
   "cell_type": "markdown",
   "metadata": {},
   "source": [
    "### An attempt at plural nouns with -e\n",
    "\n",
    "We define a pattern that excludes -le verb endings."
   ]
  },
  {
   "cell_type": "code",
   "execution_count": 47,
   "metadata": {},
   "outputs": [
    {
     "name": "stdout",
     "output_type": "stream",
     "text": [
      "XXXX (True, frozenset({'Barwar'}))\n",
      "  0.19s 6430 results\n"
     ]
    }
   ],
   "source": [
    "pl_e = nena.search('''\n",
    "\n",
    "dialect dialect=Barwar\n",
    "    word trans_lite~(?<!l)e$\n",
    "\n",
    "''')\n"
   ]
  },
  {
   "cell_type": "code",
   "execution_count": 49,
   "metadata": {},
   "outputs": [
    {
     "data": {
      "text/html": [
       "<p><b>result</b> <i>1</i></p>"
      ],
      "text/plain": [
       "<IPython.core.display.HTML object>"
      ]
     },
     "metadata": {},
     "output_type": "display_data"
    },
    {
     "data": {
      "text/html": [
       "<div class=\"outeritem\">\n",
       "<div class=\"None  \" >\n",
       "\n",
       "    <div class=\"ll\">\n",
       "        <div class=\"line\"><a href=\"https://github.com/CambridgeSemiticsLab/nena_corpus/blob/master/texts/Barwar/The Monk And The Angel\" title=\"see this passage in its source document\" sec=\"Barwar\">Barwar</a></div>\n",
       "\n",
       "        <div class=\"features\"> <span class=\"dialect xft\"><span class=\"f\">dialect=</span>Barwar</span></div>\n",
       "    </div>\n",
       "\n",
       "</div>\n",
       "</div>"
      ],
      "text/plain": [
       "<IPython.core.display.HTML object>"
      ]
     },
     "metadata": {},
     "output_type": "display_data"
    },
    {
     "data": {
      "text/html": [
       "<a href=\"https://github.com/CambridgeSemiticsLab/nena_corpus/blob/master/texts/Barwar/The Monk And The Angel\" title=\"see this passage in its source document\" sec=\"Barwar, The Monk And The Angel, Ln. 1\">Barwar, The Monk And The Angel, Ln. 1</a>\n",
       "<div class=\"outeritem\">\n",
       "<div class=\"macro  \" >\n",
       "<div class=\"features\"></div>\n",
       "<div class=\"prosa  \" >\n",
       "<div class=\"features\"></div>\n",
       "<div class=\"word  \" >\n",
       "<div class=\"ara\">ʾíθwale </div>\n",
       "<div class=\"features\"> <span class=\"trans_lite xft\"><span class=\"f\">trans_lite=</span>}i8wale</span></div>\n",
       "</div>\n",
       "<div class=\"word  \" >\n",
       "<div class=\"ara\">xákma </div>\n",
       "<div class=\"features\"> <span class=\"trans_lite xft\"><span class=\"f\">trans_lite=</span>xakma</span></div>\n",
       "</div>\n",
       "<div class=\"word  hl\" >\n",
       "<div class=\"ara\">zùze.ˈ </div>\n",
       "<div class=\"features\"> <span class=\"trans_lite xft\"><span class=\"f\">trans_lite=</span>zuze</span></div>\n",
       "</div>\n",
       "</div>\n",
       "</div>\n",
       "</div>"
      ],
      "text/plain": [
       "<IPython.core.display.HTML object>"
      ]
     },
     "metadata": {},
     "output_type": "display_data"
    },
    {
     "data": {
      "text/html": [
       "<p><b>result</b> <i>2</i></p>"
      ],
      "text/plain": [
       "<IPython.core.display.HTML object>"
      ]
     },
     "metadata": {},
     "output_type": "display_data"
    },
    {
     "data": {
      "text/html": [
       "<div class=\"outeritem\">\n",
       "<div class=\"None  \" >\n",
       "\n",
       "    <div class=\"ll\">\n",
       "        <div class=\"line\"><a href=\"https://github.com/CambridgeSemiticsLab/nena_corpus/blob/master/texts/Barwar/The Monk And The Angel\" title=\"see this passage in its source document\" sec=\"Barwar\">Barwar</a></div>\n",
       "\n",
       "        <div class=\"features\"> <span class=\"dialect xft\"><span class=\"f\">dialect=</span>Barwar</span></div>\n",
       "    </div>\n",
       "\n",
       "</div>\n",
       "</div>"
      ],
      "text/plain": [
       "<IPython.core.display.HTML object>"
      ]
     },
     "metadata": {},
     "output_type": "display_data"
    },
    {
     "data": {
      "text/html": [
       "<a href=\"https://github.com/CambridgeSemiticsLab/nena_corpus/blob/master/texts/Barwar/The Monk And The Angel\" title=\"see this passage in its source document\" sec=\"Barwar, The Monk And The Angel, Ln. 1\">Barwar, The Monk And The Angel, Ln. 1</a>\n",
       "<div class=\"outeritem\">\n",
       "<div class=\"macro  \" >\n",
       "<div class=\"features\"></div>\n",
       "<div class=\"prosa  \" >\n",
       "<div class=\"features\"></div>\n",
       "<div class=\"word  \" >\n",
       "<div class=\"ara\">ʾàwwaˈ </div>\n",
       "<div class=\"features\"> <span class=\"trans_lite xft\"><span class=\"f\">trans_lite=</span>}awwa</span></div>\n",
       "</div>\n",
       "</div>\n",
       "<div class=\"prosa  \" >\n",
       "<div class=\"features\"></div>\n",
       "<div class=\"word  \" >\n",
       "<div class=\"ara\">munšìle </div>\n",
       "<div class=\"features\"> <span class=\"trans_lite xft\"><span class=\"f\">trans_lite=</span>muns&lt;ile</span></div>\n",
       "</div>\n",
       "<div class=\"word  hl\" >\n",
       "<div class=\"ara\">zúze </div>\n",
       "<div class=\"features\"> <span class=\"trans_lite xft\"><span class=\"f\">trans_lite=</span>zuze</span></div>\n",
       "</div>\n",
       "<div class=\"word  \" >\n",
       "<div class=\"ara\">díye.ˈ </div>\n",
       "<div class=\"features\"> <span class=\"trans_lite xft\"><span class=\"f\">trans_lite=</span>diye</span></div>\n",
       "</div>\n",
       "</div>\n",
       "</div>\n",
       "</div>"
      ],
      "text/plain": [
       "<IPython.core.display.HTML object>"
      ]
     },
     "metadata": {},
     "output_type": "display_data"
    },
    {
     "data": {
      "text/html": [
       "<p><b>result</b> <i>3</i></p>"
      ],
      "text/plain": [
       "<IPython.core.display.HTML object>"
      ]
     },
     "metadata": {},
     "output_type": "display_data"
    },
    {
     "data": {
      "text/html": [
       "<div class=\"outeritem\">\n",
       "<div class=\"None  \" >\n",
       "\n",
       "    <div class=\"ll\">\n",
       "        <div class=\"line\"><a href=\"https://github.com/CambridgeSemiticsLab/nena_corpus/blob/master/texts/Barwar/The Monk And The Angel\" title=\"see this passage in its source document\" sec=\"Barwar\">Barwar</a></div>\n",
       "\n",
       "        <div class=\"features\"> <span class=\"dialect xft\"><span class=\"f\">dialect=</span>Barwar</span></div>\n",
       "    </div>\n",
       "\n",
       "</div>\n",
       "</div>"
      ],
      "text/plain": [
       "<IPython.core.display.HTML object>"
      ]
     },
     "metadata": {},
     "output_type": "display_data"
    },
    {
     "data": {
      "text/html": [
       "<a href=\"https://github.com/CambridgeSemiticsLab/nena_corpus/blob/master/texts/Barwar/The Monk And The Angel\" title=\"see this passage in its source document\" sec=\"Barwar, The Monk And The Angel, Ln. 1\">Barwar, The Monk And The Angel, Ln. 1</a>\n",
       "<div class=\"outeritem\">\n",
       "<div class=\"macro  \" >\n",
       "<div class=\"features\"></div>\n",
       "<div class=\"prosa  \" >\n",
       "<div class=\"features\"></div>\n",
       "<div class=\"word  \" >\n",
       "<div class=\"ara\">ʾàwwaˈ </div>\n",
       "<div class=\"features\"> <span class=\"trans_lite xft\"><span class=\"f\">trans_lite=</span>}awwa</span></div>\n",
       "</div>\n",
       "</div>\n",
       "<div class=\"prosa  \" >\n",
       "<div class=\"features\"></div>\n",
       "<div class=\"word  \" >\n",
       "<div class=\"ara\">munšìle </div>\n",
       "<div class=\"features\"> <span class=\"trans_lite xft\"><span class=\"f\">trans_lite=</span>muns&lt;ile</span></div>\n",
       "</div>\n",
       "<div class=\"word  \" >\n",
       "<div class=\"ara\">zúze </div>\n",
       "<div class=\"features\"> <span class=\"trans_lite xft\"><span class=\"f\">trans_lite=</span>zuze</span></div>\n",
       "</div>\n",
       "<div class=\"word  hl\" >\n",
       "<div class=\"ara\">díye.ˈ </div>\n",
       "<div class=\"features\"> <span class=\"trans_lite xft\"><span class=\"f\">trans_lite=</span>diye</span></div>\n",
       "</div>\n",
       "</div>\n",
       "</div>\n",
       "</div>"
      ],
      "text/plain": [
       "<IPython.core.display.HTML object>"
      ]
     },
     "metadata": {},
     "output_type": "display_data"
    },
    {
     "data": {
      "text/html": [
       "<p><b>result</b> <i>4</i></p>"
      ],
      "text/plain": [
       "<IPython.core.display.HTML object>"
      ]
     },
     "metadata": {},
     "output_type": "display_data"
    },
    {
     "data": {
      "text/html": [
       "<div class=\"outeritem\">\n",
       "<div class=\"None  \" >\n",
       "\n",
       "    <div class=\"ll\">\n",
       "        <div class=\"line\"><a href=\"https://github.com/CambridgeSemiticsLab/nena_corpus/blob/master/texts/Barwar/The Monk And The Angel\" title=\"see this passage in its source document\" sec=\"Barwar\">Barwar</a></div>\n",
       "\n",
       "        <div class=\"features\"> <span class=\"dialect xft\"><span class=\"f\">dialect=</span>Barwar</span></div>\n",
       "    </div>\n",
       "\n",
       "</div>\n",
       "</div>"
      ],
      "text/plain": [
       "<IPython.core.display.HTML object>"
      ]
     },
     "metadata": {},
     "output_type": "display_data"
    },
    {
     "data": {
      "text/html": [
       "<a href=\"https://github.com/CambridgeSemiticsLab/nena_corpus/blob/master/texts/Barwar/The Monk And The Angel\" title=\"see this passage in its source document\" sec=\"Barwar, The Monk And The Angel, Ln. 2\">Barwar, The Monk And The Angel, Ln. 2</a>\n",
       "<div class=\"outeritem\">\n",
       "<div class=\"macro  \" >\n",
       "<div class=\"features\"></div>\n",
       "<div class=\"prosa  \" >\n",
       "<div class=\"features\"></div>\n",
       "<div class=\"word  \" >\n",
       "<div class=\"ara\">qəm-xazèlaˈ </div>\n",
       "<div class=\"features\"> <span class=\"trans_lite xft\"><span class=\"f\">trans_lite=</span>q3mxazela</span></div>\n",
       "</div>\n",
       "</div>\n",
       "<div class=\"prosa  \" >\n",
       "<div class=\"features\"></div>\n",
       "<div class=\"word  \" >\n",
       "<div class=\"ara\">ʾə̀mma </div>\n",
       "<div class=\"features\"> <span class=\"trans_lite xft\"><span class=\"f\">trans_lite=</span>}3mma</span></div>\n",
       "</div>\n",
       "<div class=\"word  hl\" >\n",
       "<div class=\"ara\">dináre.ˈ </div>\n",
       "<div class=\"features\"> <span class=\"trans_lite xft\"><span class=\"f\">trans_lite=</span>dinare</span></div>\n",
       "</div>\n",
       "</div>\n",
       "</div>\n",
       "</div>"
      ],
      "text/plain": [
       "<IPython.core.display.HTML object>"
      ]
     },
     "metadata": {},
     "output_type": "display_data"
    },
    {
     "data": {
      "text/html": [
       "<p><b>result</b> <i>5</i></p>"
      ],
      "text/plain": [
       "<IPython.core.display.HTML object>"
      ]
     },
     "metadata": {},
     "output_type": "display_data"
    },
    {
     "data": {
      "text/html": [
       "<div class=\"outeritem\">\n",
       "<div class=\"None  \" >\n",
       "\n",
       "    <div class=\"ll\">\n",
       "        <div class=\"line\"><a href=\"https://github.com/CambridgeSemiticsLab/nena_corpus/blob/master/texts/Barwar/The Monk And The Angel\" title=\"see this passage in its source document\" sec=\"Barwar\">Barwar</a></div>\n",
       "\n",
       "        <div class=\"features\"> <span class=\"dialect xft\"><span class=\"f\">dialect=</span>Barwar</span></div>\n",
       "    </div>\n",
       "\n",
       "</div>\n",
       "</div>"
      ],
      "text/plain": [
       "<IPython.core.display.HTML object>"
      ]
     },
     "metadata": {},
     "output_type": "display_data"
    },
    {
     "data": {
      "text/html": [
       "<a href=\"https://github.com/CambridgeSemiticsLab/nena_corpus/blob/master/texts/Barwar/The Monk And The Angel\" title=\"see this passage in its source document\" sec=\"Barwar, The Monk And The Angel, Ln. 2\">Barwar, The Monk And The Angel, Ln. 2</a>\n",
       "<div class=\"outeritem\">\n",
       "<div class=\"macro  \" >\n",
       "<div class=\"features\"></div>\n",
       "<div class=\"prosa  \" >\n",
       "<div class=\"features\"></div>\n",
       "<div class=\"word  \" >\n",
       "<div class=\"ara\">šqilíle </div>\n",
       "<div class=\"features\"> <span class=\"trans_lite xft\"><span class=\"f\">trans_lite=</span>s&lt;qilile</span></div>\n",
       "</div>\n",
       "<div class=\"word  hl\" >\n",
       "<div class=\"ara\">jal-jàldeˈ </div>\n",
       "<div class=\"features\"> <span class=\"trans_lite xft\"><span class=\"f\">trans_lite=</span>jaljalde</span></div>\n",
       "</div>\n",
       "</div>\n",
       "<div class=\"prosa  \" >\n",
       "<div class=\"features\"></div>\n",
       "<div class=\"word  \" >\n",
       "<div class=\"ara\">muttíle </div>\n",
       "<div class=\"features\"> <span class=\"trans_lite xft\"><span class=\"f\">trans_lite=</span>muttile</span></div>\n",
       "</div>\n",
       "<div class=\"word  \" >\n",
       "<div class=\"ara\">gu-jɛ̀beˈ </div>\n",
       "<div class=\"features\"> <span class=\"trans_lite xft\"><span class=\"f\">trans_lite=</span>gujebe</span></div>\n",
       "</div>\n",
       "</div>\n",
       "<div class=\"prosa  \" >\n",
       "<div class=\"features\"></div>\n",
       "<div class=\"word  \" >\n",
       "<div class=\"ara\">ʾu-zìlle.ˈ </div>\n",
       "<div class=\"features\"> <span class=\"trans_lite xft\"><span class=\"f\">trans_lite=</span>}uzille</span></div>\n",
       "</div>\n",
       "</div>\n",
       "</div>\n",
       "</div>"
      ],
      "text/plain": [
       "<IPython.core.display.HTML object>"
      ]
     },
     "metadata": {},
     "output_type": "display_data"
    },
    {
     "data": {
      "text/html": [
       "<p><b>result</b> <i>6</i></p>"
      ],
      "text/plain": [
       "<IPython.core.display.HTML object>"
      ]
     },
     "metadata": {},
     "output_type": "display_data"
    },
    {
     "data": {
      "text/html": [
       "<div class=\"outeritem\">\n",
       "<div class=\"None  \" >\n",
       "\n",
       "    <div class=\"ll\">\n",
       "        <div class=\"line\"><a href=\"https://github.com/CambridgeSemiticsLab/nena_corpus/blob/master/texts/Barwar/The Monk And The Angel\" title=\"see this passage in its source document\" sec=\"Barwar\">Barwar</a></div>\n",
       "\n",
       "        <div class=\"features\"> <span class=\"dialect xft\"><span class=\"f\">dialect=</span>Barwar</span></div>\n",
       "    </div>\n",
       "\n",
       "</div>\n",
       "</div>"
      ],
      "text/plain": [
       "<IPython.core.display.HTML object>"
      ]
     },
     "metadata": {},
     "output_type": "display_data"
    },
    {
     "data": {
      "text/html": [
       "<a href=\"https://github.com/CambridgeSemiticsLab/nena_corpus/blob/master/texts/Barwar/The Monk And The Angel\" title=\"see this passage in its source document\" sec=\"Barwar, The Monk And The Angel, Ln. 2\">Barwar, The Monk And The Angel, Ln. 2</a>\n",
       "<div class=\"outeritem\">\n",
       "<div class=\"macro  \" >\n",
       "<div class=\"features\"></div>\n",
       "<div class=\"prosa  \" >\n",
       "<div class=\"features\"></div>\n",
       "<div class=\"word  \" >\n",
       "<div class=\"ara\">šqilíle </div>\n",
       "<div class=\"features\"> <span class=\"trans_lite xft\"><span class=\"f\">trans_lite=</span>s&lt;qilile</span></div>\n",
       "</div>\n",
       "<div class=\"word  \" >\n",
       "<div class=\"ara\">jal-jàldeˈ </div>\n",
       "<div class=\"features\"> <span class=\"trans_lite xft\"><span class=\"f\">trans_lite=</span>jaljalde</span></div>\n",
       "</div>\n",
       "</div>\n",
       "<div class=\"prosa  \" >\n",
       "<div class=\"features\"></div>\n",
       "<div class=\"word  \" >\n",
       "<div class=\"ara\">muttíle </div>\n",
       "<div class=\"features\"> <span class=\"trans_lite xft\"><span class=\"f\">trans_lite=</span>muttile</span></div>\n",
       "</div>\n",
       "<div class=\"word  hl\" >\n",
       "<div class=\"ara\">gu-jɛ̀beˈ </div>\n",
       "<div class=\"features\"> <span class=\"trans_lite xft\"><span class=\"f\">trans_lite=</span>gujebe</span></div>\n",
       "</div>\n",
       "</div>\n",
       "<div class=\"prosa  \" >\n",
       "<div class=\"features\"></div>\n",
       "<div class=\"word  \" >\n",
       "<div class=\"ara\">ʾu-zìlle.ˈ </div>\n",
       "<div class=\"features\"> <span class=\"trans_lite xft\"><span class=\"f\">trans_lite=</span>}uzille</span></div>\n",
       "</div>\n",
       "</div>\n",
       "</div>\n",
       "</div>"
      ],
      "text/plain": [
       "<IPython.core.display.HTML object>"
      ]
     },
     "metadata": {},
     "output_type": "display_data"
    },
    {
     "data": {
      "text/html": [
       "<p><b>result</b> <i>7</i></p>"
      ],
      "text/plain": [
       "<IPython.core.display.HTML object>"
      ]
     },
     "metadata": {},
     "output_type": "display_data"
    },
    {
     "data": {
      "text/html": [
       "<div class=\"outeritem\">\n",
       "<div class=\"None  \" >\n",
       "\n",
       "    <div class=\"ll\">\n",
       "        <div class=\"line\"><a href=\"https://github.com/CambridgeSemiticsLab/nena_corpus/blob/master/texts/Barwar/The Monk And The Angel\" title=\"see this passage in its source document\" sec=\"Barwar\">Barwar</a></div>\n",
       "\n",
       "        <div class=\"features\"> <span class=\"dialect xft\"><span class=\"f\">dialect=</span>Barwar</span></div>\n",
       "    </div>\n",
       "\n",
       "</div>\n",
       "</div>"
      ],
      "text/plain": [
       "<IPython.core.display.HTML object>"
      ]
     },
     "metadata": {},
     "output_type": "display_data"
    },
    {
     "data": {
      "text/html": [
       "<a href=\"https://github.com/CambridgeSemiticsLab/nena_corpus/blob/master/texts/Barwar/The Monk And The Angel\" title=\"see this passage in its source document\" sec=\"Barwar, The Monk And The Angel, Ln. 3\">Barwar, The Monk And The Angel, Ln. 3</a>\n",
       "<div class=\"outeritem\">\n",
       "<div class=\"macro  \" >\n",
       "<div class=\"features\"></div>\n",
       "<div class=\"prosa  \" >\n",
       "<div class=\"features\"></div>\n",
       "<div class=\"word  hl\" >\n",
       "<div class=\"ara\">ha-t-ʾáθe </div>\n",
       "<div class=\"features\"> <span class=\"trans_lite xft\"><span class=\"f\">trans_lite=</span>hat}a8e</span></div>\n",
       "</div>\n",
       "<div class=\"word  \" >\n",
       "<div class=\"ara\">ʾo-náša </div>\n",
       "<div class=\"features\"> <span class=\"trans_lite xft\"><span class=\"f\">trans_lite=</span>}onas&lt;a</span></div>\n",
       "</div>\n",
       "<div class=\"word  \" >\n",
       "<div class=\"ara\">qamàyaˈ </div>\n",
       "<div class=\"features\"> <span class=\"trans_lite xft\"><span class=\"f\">trans_lite=</span>qamaya</span></div>\n",
       "</div>\n",
       "</div>\n",
       "<div class=\"prosa  \" >\n",
       "<div class=\"features\"></div>\n",
       "<div class=\"word  \" >\n",
       "<div class=\"ara\">máṭe </div>\n",
       "<div class=\"features\"> <span class=\"trans_lite xft\"><span class=\"f\">trans_lite=</span>mat.e</span></div>\n",
       "</div>\n",
       "<div class=\"word  \" >\n",
       "<div class=\"ara\">l-ʾɛ̀naˈ </div>\n",
       "<div class=\"features\"> <span class=\"trans_lite xft\"><span class=\"f\">trans_lite=</span>l}ena</span></div>\n",
       "</div>\n",
       "</div>\n",
       "<div class=\"prosa  \" >\n",
       "<div class=\"features\"></div>\n",
       "<div class=\"word  \" >\n",
       "<div class=\"ara\">ʾáθe </div>\n",
       "<div class=\"features\"> <span class=\"trans_lite xft\"><span class=\"f\">trans_lite=</span>}a8e</span></div>\n",
       "</div>\n",
       "<div class=\"word  \" >\n",
       "<div class=\"ara\">xa-náša </div>\n",
       "<div class=\"features\"> <span class=\"trans_lite xft\"><span class=\"f\">trans_lite=</span>xanas&lt;a</span></div>\n",
       "</div>\n",
       "<div class=\"word  \" >\n",
       "<div class=\"ara\">sàwa.ˈ </div>\n",
       "<div class=\"features\"> <span class=\"trans_lite xft\"><span class=\"f\">trans_lite=</span>sawa</span></div>\n",
       "</div>\n",
       "</div>\n",
       "</div>\n",
       "</div>"
      ],
      "text/plain": [
       "<IPython.core.display.HTML object>"
      ]
     },
     "metadata": {},
     "output_type": "display_data"
    },
    {
     "data": {
      "text/html": [
       "<p><b>result</b> <i>8</i></p>"
      ],
      "text/plain": [
       "<IPython.core.display.HTML object>"
      ]
     },
     "metadata": {},
     "output_type": "display_data"
    },
    {
     "data": {
      "text/html": [
       "<div class=\"outeritem\">\n",
       "<div class=\"None  \" >\n",
       "\n",
       "    <div class=\"ll\">\n",
       "        <div class=\"line\"><a href=\"https://github.com/CambridgeSemiticsLab/nena_corpus/blob/master/texts/Barwar/The Monk And The Angel\" title=\"see this passage in its source document\" sec=\"Barwar\">Barwar</a></div>\n",
       "\n",
       "        <div class=\"features\"> <span class=\"dialect xft\"><span class=\"f\">dialect=</span>Barwar</span></div>\n",
       "    </div>\n",
       "\n",
       "</div>\n",
       "</div>"
      ],
      "text/plain": [
       "<IPython.core.display.HTML object>"
      ]
     },
     "metadata": {},
     "output_type": "display_data"
    },
    {
     "data": {
      "text/html": [
       "<a href=\"https://github.com/CambridgeSemiticsLab/nena_corpus/blob/master/texts/Barwar/The Monk And The Angel\" title=\"see this passage in its source document\" sec=\"Barwar, The Monk And The Angel, Ln. 3\">Barwar, The Monk And The Angel, Ln. 3</a>\n",
       "<div class=\"outeritem\">\n",
       "<div class=\"macro  \" >\n",
       "<div class=\"features\"></div>\n",
       "<div class=\"prosa  \" >\n",
       "<div class=\"features\"></div>\n",
       "<div class=\"word  \" >\n",
       "<div class=\"ara\">ha-t-ʾáθe </div>\n",
       "<div class=\"features\"> <span class=\"trans_lite xft\"><span class=\"f\">trans_lite=</span>hat}a8e</span></div>\n",
       "</div>\n",
       "<div class=\"word  \" >\n",
       "<div class=\"ara\">ʾo-náša </div>\n",
       "<div class=\"features\"> <span class=\"trans_lite xft\"><span class=\"f\">trans_lite=</span>}onas&lt;a</span></div>\n",
       "</div>\n",
       "<div class=\"word  \" >\n",
       "<div class=\"ara\">qamàyaˈ </div>\n",
       "<div class=\"features\"> <span class=\"trans_lite xft\"><span class=\"f\">trans_lite=</span>qamaya</span></div>\n",
       "</div>\n",
       "</div>\n",
       "<div class=\"prosa  \" >\n",
       "<div class=\"features\"></div>\n",
       "<div class=\"word  hl\" >\n",
       "<div class=\"ara\">máṭe </div>\n",
       "<div class=\"features\"> <span class=\"trans_lite xft\"><span class=\"f\">trans_lite=</span>mat.e</span></div>\n",
       "</div>\n",
       "<div class=\"word  \" >\n",
       "<div class=\"ara\">l-ʾɛ̀naˈ </div>\n",
       "<div class=\"features\"> <span class=\"trans_lite xft\"><span class=\"f\">trans_lite=</span>l}ena</span></div>\n",
       "</div>\n",
       "</div>\n",
       "<div class=\"prosa  \" >\n",
       "<div class=\"features\"></div>\n",
       "<div class=\"word  \" >\n",
       "<div class=\"ara\">ʾáθe </div>\n",
       "<div class=\"features\"> <span class=\"trans_lite xft\"><span class=\"f\">trans_lite=</span>}a8e</span></div>\n",
       "</div>\n",
       "<div class=\"word  \" >\n",
       "<div class=\"ara\">xa-náša </div>\n",
       "<div class=\"features\"> <span class=\"trans_lite xft\"><span class=\"f\">trans_lite=</span>xanas&lt;a</span></div>\n",
       "</div>\n",
       "<div class=\"word  \" >\n",
       "<div class=\"ara\">sàwa.ˈ </div>\n",
       "<div class=\"features\"> <span class=\"trans_lite xft\"><span class=\"f\">trans_lite=</span>sawa</span></div>\n",
       "</div>\n",
       "</div>\n",
       "</div>\n",
       "</div>"
      ],
      "text/plain": [
       "<IPython.core.display.HTML object>"
      ]
     },
     "metadata": {},
     "output_type": "display_data"
    },
    {
     "data": {
      "text/html": [
       "<p><b>result</b> <i>9</i></p>"
      ],
      "text/plain": [
       "<IPython.core.display.HTML object>"
      ]
     },
     "metadata": {},
     "output_type": "display_data"
    },
    {
     "data": {
      "text/html": [
       "<div class=\"outeritem\">\n",
       "<div class=\"None  \" >\n",
       "\n",
       "    <div class=\"ll\">\n",
       "        <div class=\"line\"><a href=\"https://github.com/CambridgeSemiticsLab/nena_corpus/blob/master/texts/Barwar/The Monk And The Angel\" title=\"see this passage in its source document\" sec=\"Barwar\">Barwar</a></div>\n",
       "\n",
       "        <div class=\"features\"> <span class=\"dialect xft\"><span class=\"f\">dialect=</span>Barwar</span></div>\n",
       "    </div>\n",
       "\n",
       "</div>\n",
       "</div>"
      ],
      "text/plain": [
       "<IPython.core.display.HTML object>"
      ]
     },
     "metadata": {},
     "output_type": "display_data"
    },
    {
     "data": {
      "text/html": [
       "<a href=\"https://github.com/CambridgeSemiticsLab/nena_corpus/blob/master/texts/Barwar/The Monk And The Angel\" title=\"see this passage in its source document\" sec=\"Barwar, The Monk And The Angel, Ln. 3\">Barwar, The Monk And The Angel, Ln. 3</a>\n",
       "<div class=\"outeritem\">\n",
       "<div class=\"macro  \" >\n",
       "<div class=\"features\"></div>\n",
       "<div class=\"prosa  \" >\n",
       "<div class=\"features\"></div>\n",
       "<div class=\"word  \" >\n",
       "<div class=\"ara\">ha-t-ʾáθe </div>\n",
       "<div class=\"features\"> <span class=\"trans_lite xft\"><span class=\"f\">trans_lite=</span>hat}a8e</span></div>\n",
       "</div>\n",
       "<div class=\"word  \" >\n",
       "<div class=\"ara\">ʾo-náša </div>\n",
       "<div class=\"features\"> <span class=\"trans_lite xft\"><span class=\"f\">trans_lite=</span>}onas&lt;a</span></div>\n",
       "</div>\n",
       "<div class=\"word  \" >\n",
       "<div class=\"ara\">qamàyaˈ </div>\n",
       "<div class=\"features\"> <span class=\"trans_lite xft\"><span class=\"f\">trans_lite=</span>qamaya</span></div>\n",
       "</div>\n",
       "</div>\n",
       "<div class=\"prosa  \" >\n",
       "<div class=\"features\"></div>\n",
       "<div class=\"word  \" >\n",
       "<div class=\"ara\">máṭe </div>\n",
       "<div class=\"features\"> <span class=\"trans_lite xft\"><span class=\"f\">trans_lite=</span>mat.e</span></div>\n",
       "</div>\n",
       "<div class=\"word  \" >\n",
       "<div class=\"ara\">l-ʾɛ̀naˈ </div>\n",
       "<div class=\"features\"> <span class=\"trans_lite xft\"><span class=\"f\">trans_lite=</span>l}ena</span></div>\n",
       "</div>\n",
       "</div>\n",
       "<div class=\"prosa  \" >\n",
       "<div class=\"features\"></div>\n",
       "<div class=\"word  hl\" >\n",
       "<div class=\"ara\">ʾáθe </div>\n",
       "<div class=\"features\"> <span class=\"trans_lite xft\"><span class=\"f\">trans_lite=</span>}a8e</span></div>\n",
       "</div>\n",
       "<div class=\"word  \" >\n",
       "<div class=\"ara\">xa-náša </div>\n",
       "<div class=\"features\"> <span class=\"trans_lite xft\"><span class=\"f\">trans_lite=</span>xanas&lt;a</span></div>\n",
       "</div>\n",
       "<div class=\"word  \" >\n",
       "<div class=\"ara\">sàwa.ˈ </div>\n",
       "<div class=\"features\"> <span class=\"trans_lite xft\"><span class=\"f\">trans_lite=</span>sawa</span></div>\n",
       "</div>\n",
       "</div>\n",
       "</div>\n",
       "</div>"
      ],
      "text/plain": [
       "<IPython.core.display.HTML object>"
      ]
     },
     "metadata": {},
     "output_type": "display_data"
    },
    {
     "data": {
      "text/html": [
       "<p><b>result</b> <i>10</i></p>"
      ],
      "text/plain": [
       "<IPython.core.display.HTML object>"
      ]
     },
     "metadata": {},
     "output_type": "display_data"
    },
    {
     "data": {
      "text/html": [
       "<div class=\"outeritem\">\n",
       "<div class=\"None  \" >\n",
       "\n",
       "    <div class=\"ll\">\n",
       "        <div class=\"line\"><a href=\"https://github.com/CambridgeSemiticsLab/nena_corpus/blob/master/texts/Barwar/The Monk And The Angel\" title=\"see this passage in its source document\" sec=\"Barwar\">Barwar</a></div>\n",
       "\n",
       "        <div class=\"features\"> <span class=\"dialect xft\"><span class=\"f\">dialect=</span>Barwar</span></div>\n",
       "    </div>\n",
       "\n",
       "</div>\n",
       "</div>"
      ],
      "text/plain": [
       "<IPython.core.display.HTML object>"
      ]
     },
     "metadata": {},
     "output_type": "display_data"
    },
    {
     "data": {
      "text/html": [
       "<a href=\"https://github.com/CambridgeSemiticsLab/nena_corpus/blob/master/texts/Barwar/The Monk And The Angel\" title=\"see this passage in its source document\" sec=\"Barwar, The Monk And The Angel, Ln. 3\">Barwar, The Monk And The Angel, Ln. 3</a>\n",
       "<div class=\"outeritem\">\n",
       "<div class=\"macro  \" >\n",
       "<div class=\"features\"></div>\n",
       "<div class=\"prosa  \" >\n",
       "<div class=\"features\"></div>\n",
       "<div class=\"word  hl\" >\n",
       "<div class=\"ara\">máṭe </div>\n",
       "<div class=\"features\"> <span class=\"trans_lite xft\"><span class=\"f\">trans_lite=</span>mat.e</span></div>\n",
       "</div>\n",
       "<div class=\"word  \" >\n",
       "<div class=\"ara\">rəš-ʾɛ̀naˈ </div>\n",
       "<div class=\"features\"> <span class=\"trans_lite xft\"><span class=\"f\">trans_lite=</span>r3s&lt;}ena</span></div>\n",
       "</div>\n",
       "</div>\n",
       "<div class=\"prosa  \" >\n",
       "<div class=\"features\"></div>\n",
       "<div class=\"word  \" >\n",
       "<div class=\"ara\">mattúla </div>\n",
       "<div class=\"features\"> <span class=\"trans_lite xft\"><span class=\"f\">trans_lite=</span>mattula</span></div>\n",
       "</div>\n",
       "<div class=\"word  \" >\n",
       "<div class=\"ara\">kàrteˈ </div>\n",
       "<div class=\"features\"> <span class=\"trans_lite xft\"><span class=\"f\">trans_lite=</span>karte</span></div>\n",
       "</div>\n",
       "</div>\n",
       "<div class=\"prosa  \" >\n",
       "<div class=\"features\"></div>\n",
       "<div class=\"word  \" >\n",
       "<div class=\"ara\">ʾu-tíwle </div>\n",
       "<div class=\"features\"> <span class=\"trans_lite xft\"><span class=\"f\">trans_lite=</span>}utiwle</span></div>\n",
       "</div>\n",
       "<div class=\"word  \" >\n",
       "<div class=\"ara\">manyòxe.ˈ </div>\n",
       "<div class=\"features\"> <span class=\"trans_lite xft\"><span class=\"f\">trans_lite=</span>manyoxe</span></div>\n",
       "</div>\n",
       "</div>\n",
       "</div>\n",
       "</div>"
      ],
      "text/plain": [
       "<IPython.core.display.HTML object>"
      ]
     },
     "metadata": {},
     "output_type": "display_data"
    }
   ],
   "source": [
    "nena.show(pl_e, end=10)"
   ]
  },
  {
   "cell_type": "markdown",
   "metadata": {},
   "source": [
    "### Plural Verb AND Plural Noun Search\n",
    "\n",
    "Can we identify casese where a plural noun is likely to serve as a subject to a plural verb within a sentence?"
   ]
  },
  {
   "cell_type": "code",
   "execution_count": 53,
   "metadata": {},
   "outputs": [
    {
     "name": "stdout",
     "output_type": "stream",
     "text": [
      "XXXX (True, frozenset({'Barwar'}))\n",
      "  0.27s 56 results\n"
     ]
    },
    {
     "data": {
      "text/html": [
       "<p><b>result</b> <i>1</i></p>"
      ],
      "text/plain": [
       "<IPython.core.display.HTML object>"
      ]
     },
     "metadata": {},
     "output_type": "display_data"
    },
    {
     "data": {
      "text/html": [
       "<div class=\"outeritem\">\n",
       "<div class=\"None  \" >\n",
       "\n",
       "    <div class=\"ll\">\n",
       "        <div class=\"line\"><a href=\"https://github.com/CambridgeSemiticsLab/nena_corpus/blob/master/texts/Barwar/The Monk And The Angel\" title=\"see this passage in its source document\" sec=\"Barwar\">Barwar</a></div>\n",
       "\n",
       "        <div class=\"features\"></div>\n",
       "    </div>\n",
       "\n",
       "</div>\n",
       "</div>"
      ],
      "text/plain": [
       "<IPython.core.display.HTML object>"
      ]
     },
     "metadata": {},
     "output_type": "display_data"
    },
    {
     "data": {
      "text/html": [
       "<a href=\"https://github.com/CambridgeSemiticsLab/nena_corpus/blob/master/texts/Barwar/THE TALE OF PARIZADA, WARDA AND NARGIS\" title=\"see this passage in its source document\" sec=\"Barwar, THE TALE OF PARIZADA, WARDA AND NARGIS, Ln. 29\">Barwar, THE TALE OF PARIZADA, WARDA AND NARGIS, Ln. 29</a>\n",
       "<div class=\"outeritem\">\n",
       "<div class=\"macro  \" >\n",
       "<div class=\"features\"></div>\n",
       "<div class=\"prosa  \" >\n",
       "<div class=\"features\"></div>\n",
       "<div class=\"word  \" >\n",
       "<div class=\"ara\">bás </div>\n",
       "<div class=\"features\"></div>\n",
       "</div>\n",
       "<div class=\"word  \" >\n",
       "<div class=\"ara\">ʾìtlɛniˈ </div>\n",
       "<div class=\"features\"></div>\n",
       "</div>\n",
       "</div>\n",
       "<div class=\"prosa  \" >\n",
       "<div class=\"features\"></div>\n",
       "<div class=\"word  \" >\n",
       "<div class=\"ara\">mtămàztətˈ </div>\n",
       "<div class=\"features\"></div>\n",
       "</div>\n",
       "</div>\n",
       "<div class=\"prosa  \" >\n",
       "<div class=\"features\"></div>\n",
       "<div class=\"word  \" >\n",
       "<div class=\"ara\">gómə </div>\n",
       "<div class=\"features\"></div>\n",
       "</div>\n",
       "<div class=\"word  hl\" >\n",
       "<div class=\"ara\">susăwàθa,ˈ </div>\n",
       "<div class=\"features\"></div>\n",
       "</div>\n",
       "</div>\n",
       "<div class=\"prosa  \" >\n",
       "<div class=\"features\"></div>\n",
       "<div class=\"word  hl\" >\n",
       "<div class=\"ara\">ta-t-mtăməzə̀tla </div>\n",
       "<div class=\"features\"></div>\n",
       "</div>\n",
       "<div class=\"word  \" >\n",
       "<div class=\"ara\">ʾáni </div>\n",
       "<div class=\"features\"></div>\n",
       "</div>\n",
       "<div class=\"word  \" >\n",
       "<div class=\"ara\">bás.ˈ </div>\n",
       "<div class=\"features\"></div>\n",
       "</div>\n",
       "</div>\n",
       "</div>\n",
       "</div>"
      ],
      "text/plain": [
       "<IPython.core.display.HTML object>"
      ]
     },
     "metadata": {},
     "output_type": "display_data"
    },
    {
     "data": {
      "text/html": [
       "<p><b>result</b> <i>2</i></p>"
      ],
      "text/plain": [
       "<IPython.core.display.HTML object>"
      ]
     },
     "metadata": {},
     "output_type": "display_data"
    },
    {
     "data": {
      "text/html": [
       "<div class=\"outeritem\">\n",
       "<div class=\"None  \" >\n",
       "\n",
       "    <div class=\"ll\">\n",
       "        <div class=\"line\"><a href=\"https://github.com/CambridgeSemiticsLab/nena_corpus/blob/master/texts/Barwar/The Monk And The Angel\" title=\"see this passage in its source document\" sec=\"Barwar\">Barwar</a></div>\n",
       "\n",
       "        <div class=\"features\"></div>\n",
       "    </div>\n",
       "\n",
       "</div>\n",
       "</div>"
      ],
      "text/plain": [
       "<IPython.core.display.HTML object>"
      ]
     },
     "metadata": {},
     "output_type": "display_data"
    },
    {
     "data": {
      "text/html": [
       "<a href=\"https://github.com/CambridgeSemiticsLab/nena_corpus/blob/master/texts/Barwar/THE TALE OF FARXO AND SƏTTIYA\" title=\"see this passage in its source document\" sec=\"Barwar, THE TALE OF FARXO AND SƏTTIYA, Ln. 9\">Barwar, THE TALE OF FARXO AND SƏTTIYA, Ln. 9</a>\n",
       "<div class=\"outeritem\">\n",
       "<div class=\"macro  \" >\n",
       "<div class=\"features\"></div>\n",
       "<div class=\"prosa  \" >\n",
       "<div class=\"features\"></div>\n",
       "<div class=\"word  hl\" >\n",
       "<div class=\"ara\">ʾu-susăwàθaˈ </div>\n",
       "<div class=\"features\"></div>\n",
       "</div>\n",
       "</div>\n",
       "<div class=\"prosa  \" >\n",
       "<div class=\"features\"></div>\n",
       "<div class=\"word  hl\" >\n",
       "<div class=\"ara\">la-maxlùla.ˈ </div>\n",
       "<div class=\"features\"></div>\n",
       "</div>\n",
       "</div>\n",
       "</div>\n",
       "</div>"
      ],
      "text/plain": [
       "<IPython.core.display.HTML object>"
      ]
     },
     "metadata": {},
     "output_type": "display_data"
    },
    {
     "data": {
      "text/html": [
       "<p><b>result</b> <i>3</i></p>"
      ],
      "text/plain": [
       "<IPython.core.display.HTML object>"
      ]
     },
     "metadata": {},
     "output_type": "display_data"
    },
    {
     "data": {
      "text/html": [
       "<div class=\"outeritem\">\n",
       "<div class=\"None  \" >\n",
       "\n",
       "    <div class=\"ll\">\n",
       "        <div class=\"line\"><a href=\"https://github.com/CambridgeSemiticsLab/nena_corpus/blob/master/texts/Barwar/The Monk And The Angel\" title=\"see this passage in its source document\" sec=\"Barwar\">Barwar</a></div>\n",
       "\n",
       "        <div class=\"features\"></div>\n",
       "    </div>\n",
       "\n",
       "</div>\n",
       "</div>"
      ],
      "text/plain": [
       "<IPython.core.display.HTML object>"
      ]
     },
     "metadata": {},
     "output_type": "display_data"
    },
    {
     "data": {
      "text/html": [
       "<a href=\"https://github.com/CambridgeSemiticsLab/nena_corpus/blob/master/texts/Barwar/THE TALE OF FARXO AND SƏTTIYA\" title=\"see this passage in its source document\" sec=\"Barwar, THE TALE OF FARXO AND SƏTTIYA, Ln. 11\">Barwar, THE TALE OF FARXO AND SƏTTIYA, Ln. 11</a>\n",
       "<div class=\"outeritem\">\n",
       "<div class=\"macro  \" >\n",
       "<div class=\"features\"></div>\n",
       "<div class=\"prosa  \" >\n",
       "<div class=\"features\"></div>\n",
       "<div class=\"word  \" >\n",
       "<div class=\"ara\">ʾímət </div>\n",
       "<div class=\"features\"></div>\n",
       "</div>\n",
       "<div class=\"word  \" >\n",
       "<div class=\"ara\">qəm-darɛ́le </div>\n",
       "<div class=\"features\"></div>\n",
       "</div>\n",
       "<div class=\"word  \" >\n",
       "<div class=\"ara\">gu-ʾórət </div>\n",
       "<div class=\"features\"></div>\n",
       "</div>\n",
       "<div class=\"word  hl\" >\n",
       "<div class=\"ara\">susăwàθa,ˈ </div>\n",
       "<div class=\"features\"></div>\n",
       "</div>\n",
       "</div>\n",
       "<div class=\"prosa  \" >\n",
       "<div class=\"features\"></div>\n",
       "<div class=\"word  \" >\n",
       "<div class=\"ara\">susăwáθa </div>\n",
       "<div class=\"features\"></div>\n",
       "</div>\n",
       "<div class=\"word  hl\" >\n",
       "<div class=\"ara\">lɛ́la </div>\n",
       "<div class=\"features\"></div>\n",
       "</div>\n",
       "<div class=\"word  \" >\n",
       "<div class=\"ara\">xíle </div>\n",
       "<div class=\"features\"></div>\n",
       "</div>\n",
       "<div class=\"word  \" >\n",
       "<div class=\"ara\">ʾu-šə̀tye.ˈ </div>\n",
       "<div class=\"features\"></div>\n",
       "</div>\n",
       "</div>\n",
       "</div>\n",
       "</div>"
      ],
      "text/plain": [
       "<IPython.core.display.HTML object>"
      ]
     },
     "metadata": {},
     "output_type": "display_data"
    },
    {
     "data": {
      "text/html": [
       "<p><b>result</b> <i>4</i></p>"
      ],
      "text/plain": [
       "<IPython.core.display.HTML object>"
      ]
     },
     "metadata": {},
     "output_type": "display_data"
    },
    {
     "data": {
      "text/html": [
       "<div class=\"outeritem\">\n",
       "<div class=\"None  \" >\n",
       "\n",
       "    <div class=\"ll\">\n",
       "        <div class=\"line\"><a href=\"https://github.com/CambridgeSemiticsLab/nena_corpus/blob/master/texts/Barwar/The Monk And The Angel\" title=\"see this passage in its source document\" sec=\"Barwar\">Barwar</a></div>\n",
       "\n",
       "        <div class=\"features\"></div>\n",
       "    </div>\n",
       "\n",
       "</div>\n",
       "</div>"
      ],
      "text/plain": [
       "<IPython.core.display.HTML object>"
      ]
     },
     "metadata": {},
     "output_type": "display_data"
    },
    {
     "data": {
      "text/html": [
       "<a href=\"https://github.com/CambridgeSemiticsLab/nena_corpus/blob/master/texts/Barwar/THE TALE OF FARXO AND SƏTTIYA\" title=\"see this passage in its source document\" sec=\"Barwar, THE TALE OF FARXO AND SƏTTIYA, Ln. 11\">Barwar, THE TALE OF FARXO AND SƏTTIYA, Ln. 11</a>\n",
       "<div class=\"outeritem\">\n",
       "<div class=\"macro  \" >\n",
       "<div class=\"features\"></div>\n",
       "<div class=\"prosa  \" >\n",
       "<div class=\"features\"></div>\n",
       "<div class=\"word  \" >\n",
       "<div class=\"ara\">ʾímət </div>\n",
       "<div class=\"features\"></div>\n",
       "</div>\n",
       "<div class=\"word  \" >\n",
       "<div class=\"ara\">qəm-darɛ́le </div>\n",
       "<div class=\"features\"></div>\n",
       "</div>\n",
       "<div class=\"word  \" >\n",
       "<div class=\"ara\">gu-ʾórət </div>\n",
       "<div class=\"features\"></div>\n",
       "</div>\n",
       "<div class=\"word  \" >\n",
       "<div class=\"ara\">susăwàθa,ˈ </div>\n",
       "<div class=\"features\"></div>\n",
       "</div>\n",
       "</div>\n",
       "<div class=\"prosa  \" >\n",
       "<div class=\"features\"></div>\n",
       "<div class=\"word  hl\" >\n",
       "<div class=\"ara\">susăwáθa </div>\n",
       "<div class=\"features\"></div>\n",
       "</div>\n",
       "<div class=\"word  hl\" >\n",
       "<div class=\"ara\">lɛ́la </div>\n",
       "<div class=\"features\"></div>\n",
       "</div>\n",
       "<div class=\"word  \" >\n",
       "<div class=\"ara\">xíle </div>\n",
       "<div class=\"features\"></div>\n",
       "</div>\n",
       "<div class=\"word  \" >\n",
       "<div class=\"ara\">ʾu-šə̀tye.ˈ </div>\n",
       "<div class=\"features\"></div>\n",
       "</div>\n",
       "</div>\n",
       "</div>\n",
       "</div>"
      ],
      "text/plain": [
       "<IPython.core.display.HTML object>"
      ]
     },
     "metadata": {},
     "output_type": "display_data"
    },
    {
     "data": {
      "text/html": [
       "<p><b>result</b> <i>5</i></p>"
      ],
      "text/plain": [
       "<IPython.core.display.HTML object>"
      ]
     },
     "metadata": {},
     "output_type": "display_data"
    },
    {
     "data": {
      "text/html": [
       "<div class=\"outeritem\">\n",
       "<div class=\"None  \" >\n",
       "\n",
       "    <div class=\"ll\">\n",
       "        <div class=\"line\"><a href=\"https://github.com/CambridgeSemiticsLab/nena_corpus/blob/master/texts/Barwar/The Monk And The Angel\" title=\"see this passage in its source document\" sec=\"Barwar\">Barwar</a></div>\n",
       "\n",
       "        <div class=\"features\"></div>\n",
       "    </div>\n",
       "\n",
       "</div>\n",
       "</div>"
      ],
      "text/plain": [
       "<IPython.core.display.HTML object>"
      ]
     },
     "metadata": {},
     "output_type": "display_data"
    },
    {
     "data": {
      "text/html": [
       "<a href=\"https://github.com/CambridgeSemiticsLab/nena_corpus/blob/master/texts/Barwar/THE TALE OF FARXO AND SƏTTIYA\" title=\"see this passage in its source document\" sec=\"Barwar, THE TALE OF FARXO AND SƏTTIYA, Ln. 12\">Barwar, THE TALE OF FARXO AND SƏTTIYA, Ln. 12</a>\n",
       "<div class=\"outeritem\">\n",
       "<div class=\"macro  \" >\n",
       "<div class=\"features\"></div>\n",
       "<div class=\"prosa  \" >\n",
       "<div class=\"features\"></div>\n",
       "<div class=\"word  \" >\n",
       "<div class=\"ara\">šqùlule,ˈ </div>\n",
       "<div class=\"features\"></div>\n",
       "</div>\n",
       "</div>\n",
       "<div class=\"prosa  \" >\n",
       "<div class=\"features\"></div>\n",
       "<div class=\"word  \" >\n",
       "<div class=\"ara\">zdòle,ˈ </div>\n",
       "<div class=\"features\"></div>\n",
       "</div>\n",
       "</div>\n",
       "<div class=\"prosa  \" >\n",
       "<div class=\"features\"></div>\n",
       "<div class=\"word  hl\" >\n",
       "<div class=\"ara\">ʾu-dro-gə́lla </div>\n",
       "<div class=\"features\"></div>\n",
       "</div>\n",
       "<div class=\"word  \" >\n",
       "<div class=\"ara\">xàθaˈ </div>\n",
       "<div class=\"features\"></div>\n",
       "</div>\n",
       "</div>\n",
       "<div class=\"prosa  \" >\n",
       "<div class=\"features\"></div>\n",
       "<div class=\"word  hl\" >\n",
       "<div class=\"ara\">qam-susăwàθa.ˈ</div>\n",
       "<div class=\"features\"></div>\n",
       "</div>\n",
       "</div>\n",
       "</div>\n",
       "</div>"
      ],
      "text/plain": [
       "<IPython.core.display.HTML object>"
      ]
     },
     "metadata": {},
     "output_type": "display_data"
    },
    {
     "data": {
      "text/html": [
       "<p><b>result</b> <i>6</i></p>"
      ],
      "text/plain": [
       "<IPython.core.display.HTML object>"
      ]
     },
     "metadata": {},
     "output_type": "display_data"
    },
    {
     "data": {
      "text/html": [
       "<div class=\"outeritem\">\n",
       "<div class=\"None  \" >\n",
       "\n",
       "    <div class=\"ll\">\n",
       "        <div class=\"line\"><a href=\"https://github.com/CambridgeSemiticsLab/nena_corpus/blob/master/texts/Barwar/The Monk And The Angel\" title=\"see this passage in its source document\" sec=\"Barwar\">Barwar</a></div>\n",
       "\n",
       "        <div class=\"features\"></div>\n",
       "    </div>\n",
       "\n",
       "</div>\n",
       "</div>"
      ],
      "text/plain": [
       "<IPython.core.display.HTML object>"
      ]
     },
     "metadata": {},
     "output_type": "display_data"
    },
    {
     "data": {
      "text/html": [
       "<a href=\"https://github.com/CambridgeSemiticsLab/nena_corpus/blob/master/texts/Barwar/THE TALE OF FARXO AND SƏTTIYA\" title=\"see this passage in its source document\" sec=\"Barwar, THE TALE OF FARXO AND SƏTTIYA, Ln. 13\">Barwar, THE TALE OF FARXO AND SƏTTIYA, Ln. 13</a>\n",
       "<div class=\"outeritem\">\n",
       "<div class=\"macro  \" >\n",
       "<div class=\"features\"></div>\n",
       "<div class=\"prosa  \" >\n",
       "<div class=\"features\"></div>\n",
       "<div class=\"word  hl\" >\n",
       "<div class=\"ara\">hóla </div>\n",
       "<div class=\"features\"></div>\n",
       "</div>\n",
       "<div class=\"word  hl\" >\n",
       "<div class=\"ara\">susăwàθaˈ </div>\n",
       "<div class=\"features\"></div>\n",
       "</div>\n",
       "</div>\n",
       "<div class=\"prosa  \" >\n",
       "<div class=\"features\"></div>\n",
       "<div class=\"word  \" >\n",
       "<div class=\"ara\">jə̀mye </div>\n",
       "<div class=\"features\"></div>\n",
       "</div>\n",
       "<div class=\"word  \" >\n",
       "<div class=\"ara\">b-réše </div>\n",
       "<div class=\"features\"></div>\n",
       "</div>\n",
       "<div class=\"word  \" >\n",
       "<div class=\"ara\">díyeˈ </div>\n",
       "<div class=\"features\"></div>\n",
       "</div>\n",
       "</div>\n",
       "<div class=\"prosa  \" >\n",
       "<div class=\"features\"></div>\n",
       "<div class=\"word  \" >\n",
       "<div class=\"ara\">wáða </div>\n",
       "<div class=\"features\"></div>\n",
       "</div>\n",
       "<div class=\"word  \" >\n",
       "<div class=\"ara\">hə̀lmaˈ </div>\n",
       "<div class=\"features\"></div>\n",
       "</div>\n",
       "</div>\n",
       "<div class=\"prosa  \" >\n",
       "<div class=\"features\"></div>\n",
       "<div class=\"word  \" >\n",
       "<div class=\"ara\">b-réše </div>\n",
       "<div class=\"features\"></div>\n",
       "</div>\n",
       "<div class=\"word  \" >\n",
       "<div class=\"ara\">dìye.ˈ </div>\n",
       "<div class=\"features\"></div>\n",
       "</div>\n",
       "</div>\n",
       "</div>\n",
       "</div>"
      ],
      "text/plain": [
       "<IPython.core.display.HTML object>"
      ]
     },
     "metadata": {},
     "output_type": "display_data"
    },
    {
     "data": {
      "text/html": [
       "<p><b>result</b> <i>7</i></p>"
      ],
      "text/plain": [
       "<IPython.core.display.HTML object>"
      ]
     },
     "metadata": {},
     "output_type": "display_data"
    },
    {
     "data": {
      "text/html": [
       "<div class=\"outeritem\">\n",
       "<div class=\"None  \" >\n",
       "\n",
       "    <div class=\"ll\">\n",
       "        <div class=\"line\"><a href=\"https://github.com/CambridgeSemiticsLab/nena_corpus/blob/master/texts/Barwar/The Monk And The Angel\" title=\"see this passage in its source document\" sec=\"Barwar\">Barwar</a></div>\n",
       "\n",
       "        <div class=\"features\"></div>\n",
       "    </div>\n",
       "\n",
       "</div>\n",
       "</div>"
      ],
      "text/plain": [
       "<IPython.core.display.HTML object>"
      ]
     },
     "metadata": {},
     "output_type": "display_data"
    },
    {
     "data": {
      "text/html": [
       "<a href=\"https://github.com/CambridgeSemiticsLab/nena_corpus/blob/master/texts/Barwar/THE TALE OF RUSTAM (2)\" title=\"see this passage in its source document\" sec=\"Barwar, THE TALE OF RUSTAM (2), Ln. 2\">Barwar, THE TALE OF RUSTAM (2), Ln. 2</a>\n",
       "<div class=\"outeritem\">\n",
       "<div class=\"macro  \" >\n",
       "<div class=\"features\"></div>\n",
       "<div class=\"prosa  \" >\n",
       "<div class=\"features\"></div>\n",
       "<div class=\"word  \" >\n",
       "<div class=\"ara\">ʾɛ̀-gaˈ </div>\n",
       "<div class=\"features\"></div>\n",
       "</div>\n",
       "</div>\n",
       "<div class=\"prosa  \" >\n",
       "<div class=\"features\"></div>\n",
       "<div class=\"word  \" >\n",
       "<div class=\"ara\">Rustắmo </div>\n",
       "<div class=\"features\"></div>\n",
       "</div>\n",
       "<div class=\"word  \" >\n",
       "<div class=\"ara\">mtánɛ </div>\n",
       "<div class=\"features\"></div>\n",
       "</div>\n",
       "<div class=\"word  \" >\n",
       "<div class=\"ara\">mə́nne </div>\n",
       "<div class=\"features\"></div>\n",
       "</div>\n",
       "<div class=\"word  \" >\n",
       "<div class=\"ara\">y-ámri </div>\n",
       "<div class=\"features\"></div>\n",
       "</div>\n",
       "<div class=\"word  \" >\n",
       "<div class=\"ara\">ʾɛ́-gət </div>\n",
       "<div class=\"features\"></div>\n",
       "</div>\n",
       "<div class=\"word  \" >\n",
       "<div class=\"ara\">damə̀xwa,ˈ </div>\n",
       "<div class=\"features\"></div>\n",
       "</div>\n",
       "</div>\n",
       "<div class=\"prosa  \" >\n",
       "<div class=\"features\"></div>\n",
       "<div class=\"word  \" >\n",
       "<div class=\"ara\">ṭḷaθà </div>\n",
       "<div class=\"features\"></div>\n",
       "</div>\n",
       "<div class=\"word  \" >\n",
       "<div class=\"ara\">yomáθaˈ </div>\n",
       "<div class=\"features\"></div>\n",
       "</div>\n",
       "</div>\n",
       "<div class=\"prosa  \" >\n",
       "<div class=\"features\"></div>\n",
       "<div class=\"word  \" >\n",
       "<div class=\"ara\">ʾu-ṭḷaθà </div>\n",
       "<div class=\"features\"></div>\n",
       "</div>\n",
       "<div class=\"word  hl\" >\n",
       "<div class=\"ara\">lɛlăwáθa </div>\n",
       "<div class=\"features\"></div>\n",
       "</div>\n",
       "<div class=\"word  \" >\n",
       "<div class=\"ara\">háwe </div>\n",
       "<div class=\"features\"></div>\n",
       "</div>\n",
       "<div class=\"word  \" >\n",
       "<div class=\"ara\">dmìxa,ˈ </div>\n",
       "<div class=\"features\"></div>\n",
       "</div>\n",
       "</div>\n",
       "<div class=\"prosa  \" >\n",
       "<div class=\"features\"></div>\n",
       "<div class=\"word  hl\" >\n",
       "<div class=\"ara\">là </div>\n",
       "<div class=\"features\"></div>\n",
       "</div>\n",
       "<div class=\"word  \" >\n",
       "<div class=\"ara\">qayə́mwa,ˈ </div>\n",
       "<div class=\"features\"></div>\n",
       "</div>\n",
       "</div>\n",
       "<div class=\"prosa  \" >\n",
       "<div class=\"features\"></div>\n",
       "<div class=\"word  \" >\n",
       "<div class=\"ara\">là </div>\n",
       "<div class=\"features\"></div>\n",
       "</div>\n",
       "<div class=\"word  \" >\n",
       "<div class=\"ara\">ṛayə́šwa.ˈ </div>\n",
       "<div class=\"features\"></div>\n",
       "</div>\n",
       "</div>\n",
       "</div>\n",
       "</div>"
      ],
      "text/plain": [
       "<IPython.core.display.HTML object>"
      ]
     },
     "metadata": {},
     "output_type": "display_data"
    },
    {
     "data": {
      "text/html": [
       "<p><b>result</b> <i>8</i></p>"
      ],
      "text/plain": [
       "<IPython.core.display.HTML object>"
      ]
     },
     "metadata": {},
     "output_type": "display_data"
    },
    {
     "data": {
      "text/html": [
       "<div class=\"outeritem\">\n",
       "<div class=\"None  \" >\n",
       "\n",
       "    <div class=\"ll\">\n",
       "        <div class=\"line\"><a href=\"https://github.com/CambridgeSemiticsLab/nena_corpus/blob/master/texts/Barwar/The Monk And The Angel\" title=\"see this passage in its source document\" sec=\"Barwar\">Barwar</a></div>\n",
       "\n",
       "        <div class=\"features\"></div>\n",
       "    </div>\n",
       "\n",
       "</div>\n",
       "</div>"
      ],
      "text/plain": [
       "<IPython.core.display.HTML object>"
      ]
     },
     "metadata": {},
     "output_type": "display_data"
    },
    {
     "data": {
      "text/html": [
       "<a href=\"https://github.com/CambridgeSemiticsLab/nena_corpus/blob/master/texts/Barwar/THE TALE OF RUSTAM (2)\" title=\"see this passage in its source document\" sec=\"Barwar, THE TALE OF RUSTAM (2), Ln. 2\">Barwar, THE TALE OF RUSTAM (2), Ln. 2</a>\n",
       "<div class=\"outeritem\">\n",
       "<div class=\"macro  \" >\n",
       "<div class=\"features\"></div>\n",
       "<div class=\"prosa  \" >\n",
       "<div class=\"features\"></div>\n",
       "<div class=\"word  \" >\n",
       "<div class=\"ara\">ʾɛ̀-gaˈ </div>\n",
       "<div class=\"features\"></div>\n",
       "</div>\n",
       "</div>\n",
       "<div class=\"prosa  \" >\n",
       "<div class=\"features\"></div>\n",
       "<div class=\"word  \" >\n",
       "<div class=\"ara\">Rustắmo </div>\n",
       "<div class=\"features\"></div>\n",
       "</div>\n",
       "<div class=\"word  \" >\n",
       "<div class=\"ara\">mtánɛ </div>\n",
       "<div class=\"features\"></div>\n",
       "</div>\n",
       "<div class=\"word  \" >\n",
       "<div class=\"ara\">mə́nne </div>\n",
       "<div class=\"features\"></div>\n",
       "</div>\n",
       "<div class=\"word  \" >\n",
       "<div class=\"ara\">y-ámri </div>\n",
       "<div class=\"features\"></div>\n",
       "</div>\n",
       "<div class=\"word  \" >\n",
       "<div class=\"ara\">ʾɛ́-gət </div>\n",
       "<div class=\"features\"></div>\n",
       "</div>\n",
       "<div class=\"word  \" >\n",
       "<div class=\"ara\">damə̀xwa,ˈ </div>\n",
       "<div class=\"features\"></div>\n",
       "</div>\n",
       "</div>\n",
       "<div class=\"prosa  \" >\n",
       "<div class=\"features\"></div>\n",
       "<div class=\"word  \" >\n",
       "<div class=\"ara\">ṭḷaθà </div>\n",
       "<div class=\"features\"></div>\n",
       "</div>\n",
       "<div class=\"word  \" >\n",
       "<div class=\"ara\">yomáθaˈ </div>\n",
       "<div class=\"features\"></div>\n",
       "</div>\n",
       "</div>\n",
       "<div class=\"prosa  \" >\n",
       "<div class=\"features\"></div>\n",
       "<div class=\"word  \" >\n",
       "<div class=\"ara\">ʾu-ṭḷaθà </div>\n",
       "<div class=\"features\"></div>\n",
       "</div>\n",
       "<div class=\"word  hl\" >\n",
       "<div class=\"ara\">lɛlăwáθa </div>\n",
       "<div class=\"features\"></div>\n",
       "</div>\n",
       "<div class=\"word  \" >\n",
       "<div class=\"ara\">háwe </div>\n",
       "<div class=\"features\"></div>\n",
       "</div>\n",
       "<div class=\"word  \" >\n",
       "<div class=\"ara\">dmìxa,ˈ </div>\n",
       "<div class=\"features\"></div>\n",
       "</div>\n",
       "</div>\n",
       "<div class=\"prosa  \" >\n",
       "<div class=\"features\"></div>\n",
       "<div class=\"word  \" >\n",
       "<div class=\"ara\">là </div>\n",
       "<div class=\"features\"></div>\n",
       "</div>\n",
       "<div class=\"word  \" >\n",
       "<div class=\"ara\">qayə́mwa,ˈ </div>\n",
       "<div class=\"features\"></div>\n",
       "</div>\n",
       "</div>\n",
       "<div class=\"prosa  \" >\n",
       "<div class=\"features\"></div>\n",
       "<div class=\"word  hl\" >\n",
       "<div class=\"ara\">là </div>\n",
       "<div class=\"features\"></div>\n",
       "</div>\n",
       "<div class=\"word  \" >\n",
       "<div class=\"ara\">ṛayə́šwa.ˈ </div>\n",
       "<div class=\"features\"></div>\n",
       "</div>\n",
       "</div>\n",
       "</div>\n",
       "</div>"
      ],
      "text/plain": [
       "<IPython.core.display.HTML object>"
      ]
     },
     "metadata": {},
     "output_type": "display_data"
    },
    {
     "data": {
      "text/html": [
       "<p><b>result</b> <i>9</i></p>"
      ],
      "text/plain": [
       "<IPython.core.display.HTML object>"
      ]
     },
     "metadata": {},
     "output_type": "display_data"
    },
    {
     "data": {
      "text/html": [
       "<div class=\"outeritem\">\n",
       "<div class=\"None  \" >\n",
       "\n",
       "    <div class=\"ll\">\n",
       "        <div class=\"line\"><a href=\"https://github.com/CambridgeSemiticsLab/nena_corpus/blob/master/texts/Barwar/The Monk And The Angel\" title=\"see this passage in its source document\" sec=\"Barwar\">Barwar</a></div>\n",
       "\n",
       "        <div class=\"features\"></div>\n",
       "    </div>\n",
       "\n",
       "</div>\n",
       "</div>"
      ],
      "text/plain": [
       "<IPython.core.display.HTML object>"
      ]
     },
     "metadata": {},
     "output_type": "display_data"
    },
    {
     "data": {
      "text/html": [
       "<a href=\"https://github.com/CambridgeSemiticsLab/nena_corpus/blob/master/texts/Barwar/THE TALE OF RUSTAM (2)\" title=\"see this passage in its source document\" sec=\"Barwar, THE TALE OF RUSTAM (2), Ln. 8\">Barwar, THE TALE OF RUSTAM (2), Ln. 8</a>\n",
       "<div class=\"outeritem\">\n",
       "<div class=\"macro  \" >\n",
       "<div class=\"features\"></div>\n",
       "<div class=\"prosa  \" >\n",
       "<div class=\"features\"></div>\n",
       "<div class=\"word  \" >\n",
       "<div class=\"ara\">ʾu-ʾánna </div>\n",
       "<div class=\"features\"></div>\n",
       "</div>\n",
       "<div class=\"word  \" >\n",
       "<div class=\"ara\">brináne </div>\n",
       "<div class=\"features\"></div>\n",
       "</div>\n",
       "<div class=\"word  hl\" >\n",
       "<div class=\"ara\">kúlla </div>\n",
       "<div class=\"features\"></div>\n",
       "</div>\n",
       "<div class=\"word  \" >\n",
       "<div class=\"ara\">d-àn </div>\n",
       "<div class=\"features\"></div>\n",
       "</div>\n",
       "<div class=\"word  hl\" >\n",
       "<div class=\"ara\">šarrăwáθaˈ </div>\n",
       "<div class=\"features\"></div>\n",
       "</div>\n",
       "</div>\n",
       "<div class=\"prosa  \" >\n",
       "<div class=\"features\"></div>\n",
       "<div class=\"word  \" >\n",
       "<div class=\"ara\">t-maxɛ̀waˈ </div>\n",
       "<div class=\"features\"></div>\n",
       "</div>\n",
       "</div>\n",
       "<div class=\"prosa  \" >\n",
       "<div class=\"features\"></div>\n",
       "<div class=\"word  \" >\n",
       "<div class=\"ara\">murzăwáθa </div>\n",
       "<div class=\"features\"></div>\n",
       "</div>\n",
       "<div class=\"word  \" >\n",
       "<div class=\"ara\">gu-rèši.ˈ </div>\n",
       "<div class=\"features\"></div>\n",
       "</div>\n",
       "</div>\n",
       "</div>\n",
       "</div>"
      ],
      "text/plain": [
       "<IPython.core.display.HTML object>"
      ]
     },
     "metadata": {},
     "output_type": "display_data"
    },
    {
     "data": {
      "text/html": [
       "<p><b>result</b> <i>10</i></p>"
      ],
      "text/plain": [
       "<IPython.core.display.HTML object>"
      ]
     },
     "metadata": {},
     "output_type": "display_data"
    },
    {
     "data": {
      "text/html": [
       "<div class=\"outeritem\">\n",
       "<div class=\"None  \" >\n",
       "\n",
       "    <div class=\"ll\">\n",
       "        <div class=\"line\"><a href=\"https://github.com/CambridgeSemiticsLab/nena_corpus/blob/master/texts/Barwar/The Monk And The Angel\" title=\"see this passage in its source document\" sec=\"Barwar\">Barwar</a></div>\n",
       "\n",
       "        <div class=\"features\"></div>\n",
       "    </div>\n",
       "\n",
       "</div>\n",
       "</div>"
      ],
      "text/plain": [
       "<IPython.core.display.HTML object>"
      ]
     },
     "metadata": {},
     "output_type": "display_data"
    },
    {
     "data": {
      "text/html": [
       "<a href=\"https://github.com/CambridgeSemiticsLab/nena_corpus/blob/master/texts/Barwar/THE TALE OF RUSTAM (2)\" title=\"see this passage in its source document\" sec=\"Barwar, THE TALE OF RUSTAM (2), Ln. 8\">Barwar, THE TALE OF RUSTAM (2), Ln. 8</a>\n",
       "<div class=\"outeritem\">\n",
       "<div class=\"macro  \" >\n",
       "<div class=\"features\"></div>\n",
       "<div class=\"prosa  \" >\n",
       "<div class=\"features\"></div>\n",
       "<div class=\"word  \" >\n",
       "<div class=\"ara\">ʾu-ʾánna </div>\n",
       "<div class=\"features\"></div>\n",
       "</div>\n",
       "<div class=\"word  \" >\n",
       "<div class=\"ara\">brináne </div>\n",
       "<div class=\"features\"></div>\n",
       "</div>\n",
       "<div class=\"word  hl\" >\n",
       "<div class=\"ara\">kúlla </div>\n",
       "<div class=\"features\"></div>\n",
       "</div>\n",
       "<div class=\"word  \" >\n",
       "<div class=\"ara\">d-àn </div>\n",
       "<div class=\"features\"></div>\n",
       "</div>\n",
       "<div class=\"word  \" >\n",
       "<div class=\"ara\">šarrăwáθaˈ </div>\n",
       "<div class=\"features\"></div>\n",
       "</div>\n",
       "</div>\n",
       "<div class=\"prosa  \" >\n",
       "<div class=\"features\"></div>\n",
       "<div class=\"word  \" >\n",
       "<div class=\"ara\">t-maxɛ̀waˈ </div>\n",
       "<div class=\"features\"></div>\n",
       "</div>\n",
       "</div>\n",
       "<div class=\"prosa  \" >\n",
       "<div class=\"features\"></div>\n",
       "<div class=\"word  hl\" >\n",
       "<div class=\"ara\">murzăwáθa </div>\n",
       "<div class=\"features\"></div>\n",
       "</div>\n",
       "<div class=\"word  \" >\n",
       "<div class=\"ara\">gu-rèši.ˈ </div>\n",
       "<div class=\"features\"></div>\n",
       "</div>\n",
       "</div>\n",
       "</div>\n",
       "</div>"
      ],
      "text/plain": [
       "<IPython.core.display.HTML object>"
      ]
     },
     "metadata": {},
     "output_type": "display_data"
    },
    {
     "data": {
      "text/html": [
       "<p><b>result</b> <i>11</i></p>"
      ],
      "text/plain": [
       "<IPython.core.display.HTML object>"
      ]
     },
     "metadata": {},
     "output_type": "display_data"
    },
    {
     "data": {
      "text/html": [
       "<div class=\"outeritem\">\n",
       "<div class=\"None  \" >\n",
       "\n",
       "    <div class=\"ll\">\n",
       "        <div class=\"line\"><a href=\"https://github.com/CambridgeSemiticsLab/nena_corpus/blob/master/texts/Barwar/The Monk And The Angel\" title=\"see this passage in its source document\" sec=\"Barwar\">Barwar</a></div>\n",
       "\n",
       "        <div class=\"features\"></div>\n",
       "    </div>\n",
       "\n",
       "</div>\n",
       "</div>"
      ],
      "text/plain": [
       "<IPython.core.display.HTML object>"
      ]
     },
     "metadata": {},
     "output_type": "display_data"
    },
    {
     "data": {
      "text/html": [
       "<a href=\"https://github.com/CambridgeSemiticsLab/nena_corpus/blob/master/texts/Barwar/THE TALE OF RUSTAM (2)\" title=\"see this passage in its source document\" sec=\"Barwar, THE TALE OF RUSTAM (2), Ln. 51\">Barwar, THE TALE OF RUSTAM (2), Ln. 51</a>\n",
       "<div class=\"outeritem\">\n",
       "<div class=\"macro  \" >\n",
       "<div class=\"features\"></div>\n",
       "<div class=\"prosa  \" >\n",
       "<div class=\"features\"></div>\n",
       "<div class=\"word  hl\" >\n",
       "<div class=\"ara\">kɛ̀la </div>\n",
       "<div class=\"features\"></div>\n",
       "</div>\n",
       "<div class=\"word  hl\" >\n",
       "<div class=\"ara\">ʾaskarwáθaˈ </div>\n",
       "<div class=\"features\"></div>\n",
       "</div>\n",
       "</div>\n",
       "<div class=\"prosa  \" >\n",
       "<div class=\"features\"></div>\n",
       "<div class=\"word  \" >\n",
       "<div class=\"ara\">ʾə́θye </div>\n",
       "<div class=\"features\"></div>\n",
       "</div>\n",
       "<div class=\"word  \" >\n",
       "<div class=\"ara\">ṭalbɛ̀niˈ</div>\n",
       "<div class=\"features\"></div>\n",
       "</div>\n",
       "</div>\n",
       "<div class=\"prosa  \" >\n",
       "<div class=\"features\"></div>\n",
       "<div class=\"word  \" >\n",
       "<div class=\"ara\">ʾu-mára </div>\n",
       "<div class=\"features\"></div>\n",
       "</div>\n",
       "<div class=\"word  \" >\n",
       "<div class=\"ara\">lɛ̀le-xəzya </div>\n",
       "<div class=\"features\"></div>\n",
       "</div>\n",
       "<div class=\"word  \" >\n",
       "<div class=\"ara\">čù-nášaˈ </div>\n",
       "<div class=\"features\"></div>\n",
       "</div>\n",
       "</div>\n",
       "<div class=\"prosa  \" >\n",
       "<div class=\"features\"></div>\n",
       "<div class=\"word  \" >\n",
       "<div class=\"ara\">bas-yắðəx </div>\n",
       "<div class=\"features\"></div>\n",
       "</div>\n",
       "<div class=\"word  \" >\n",
       "<div class=\"ara\">hóla </div>\n",
       "<div class=\"features\"></div>\n",
       "</div>\n",
       "<div class=\"word  \" >\n",
       "<div class=\"ara\">tlíxe </div>\n",
       "<div class=\"features\"></div>\n",
       "</div>\n",
       "<div class=\"word  \" >\n",
       "<div class=\"ara\">ʾánna </div>\n",
       "<div class=\"features\"></div>\n",
       "</div>\n",
       "<div class=\"word  \" >\n",
       "<div class=\"ara\">bàteˈ </div>\n",
       "<div class=\"features\"></div>\n",
       "</div>\n",
       "</div>\n",
       "<div class=\"prosa  \" >\n",
       "<div class=\"features\"></div>\n",
       "<div class=\"word  \" >\n",
       "<div class=\"ara\">ʾu-lɛ̀la-xəzye </div>\n",
       "<div class=\"features\"></div>\n",
       "</div>\n",
       "<div class=\"word  \" >\n",
       "<div class=\"ara\">ʾaskarwáθa.ˈ </div>\n",
       "<div class=\"features\"></div>\n",
       "</div>\n",
       "</div>\n",
       "</div>\n",
       "</div>"
      ],
      "text/plain": [
       "<IPython.core.display.HTML object>"
      ]
     },
     "metadata": {},
     "output_type": "display_data"
    },
    {
     "data": {
      "text/html": [
       "<p><b>result</b> <i>12</i></p>"
      ],
      "text/plain": [
       "<IPython.core.display.HTML object>"
      ]
     },
     "metadata": {},
     "output_type": "display_data"
    },
    {
     "data": {
      "text/html": [
       "<div class=\"outeritem\">\n",
       "<div class=\"None  \" >\n",
       "\n",
       "    <div class=\"ll\">\n",
       "        <div class=\"line\"><a href=\"https://github.com/CambridgeSemiticsLab/nena_corpus/blob/master/texts/Barwar/The Monk And The Angel\" title=\"see this passage in its source document\" sec=\"Barwar\">Barwar</a></div>\n",
       "\n",
       "        <div class=\"features\"></div>\n",
       "    </div>\n",
       "\n",
       "</div>\n",
       "</div>"
      ],
      "text/plain": [
       "<IPython.core.display.HTML object>"
      ]
     },
     "metadata": {},
     "output_type": "display_data"
    },
    {
     "data": {
      "text/html": [
       "<a href=\"https://github.com/CambridgeSemiticsLab/nena_corpus/blob/master/texts/Barwar/THE TALE OF RUSTAM (2)\" title=\"see this passage in its source document\" sec=\"Barwar, THE TALE OF RUSTAM (2), Ln. 51\">Barwar, THE TALE OF RUSTAM (2), Ln. 51</a>\n",
       "<div class=\"outeritem\">\n",
       "<div class=\"macro  \" >\n",
       "<div class=\"features\"></div>\n",
       "<div class=\"prosa  \" >\n",
       "<div class=\"features\"></div>\n",
       "<div class=\"word  \" >\n",
       "<div class=\"ara\">kɛ̀la </div>\n",
       "<div class=\"features\"></div>\n",
       "</div>\n",
       "<div class=\"word  hl\" >\n",
       "<div class=\"ara\">ʾaskarwáθaˈ </div>\n",
       "<div class=\"features\"></div>\n",
       "</div>\n",
       "</div>\n",
       "<div class=\"prosa  \" >\n",
       "<div class=\"features\"></div>\n",
       "<div class=\"word  \" >\n",
       "<div class=\"ara\">ʾə́θye </div>\n",
       "<div class=\"features\"></div>\n",
       "</div>\n",
       "<div class=\"word  \" >\n",
       "<div class=\"ara\">ṭalbɛ̀niˈ</div>\n",
       "<div class=\"features\"></div>\n",
       "</div>\n",
       "</div>\n",
       "<div class=\"prosa  \" >\n",
       "<div class=\"features\"></div>\n",
       "<div class=\"word  \" >\n",
       "<div class=\"ara\">ʾu-mára </div>\n",
       "<div class=\"features\"></div>\n",
       "</div>\n",
       "<div class=\"word  \" >\n",
       "<div class=\"ara\">lɛ̀le-xəzya </div>\n",
       "<div class=\"features\"></div>\n",
       "</div>\n",
       "<div class=\"word  \" >\n",
       "<div class=\"ara\">čù-nášaˈ </div>\n",
       "<div class=\"features\"></div>\n",
       "</div>\n",
       "</div>\n",
       "<div class=\"prosa  \" >\n",
       "<div class=\"features\"></div>\n",
       "<div class=\"word  \" >\n",
       "<div class=\"ara\">bas-yắðəx </div>\n",
       "<div class=\"features\"></div>\n",
       "</div>\n",
       "<div class=\"word  hl\" >\n",
       "<div class=\"ara\">hóla </div>\n",
       "<div class=\"features\"></div>\n",
       "</div>\n",
       "<div class=\"word  \" >\n",
       "<div class=\"ara\">tlíxe </div>\n",
       "<div class=\"features\"></div>\n",
       "</div>\n",
       "<div class=\"word  \" >\n",
       "<div class=\"ara\">ʾánna </div>\n",
       "<div class=\"features\"></div>\n",
       "</div>\n",
       "<div class=\"word  \" >\n",
       "<div class=\"ara\">bàteˈ </div>\n",
       "<div class=\"features\"></div>\n",
       "</div>\n",
       "</div>\n",
       "<div class=\"prosa  \" >\n",
       "<div class=\"features\"></div>\n",
       "<div class=\"word  \" >\n",
       "<div class=\"ara\">ʾu-lɛ̀la-xəzye </div>\n",
       "<div class=\"features\"></div>\n",
       "</div>\n",
       "<div class=\"word  \" >\n",
       "<div class=\"ara\">ʾaskarwáθa.ˈ </div>\n",
       "<div class=\"features\"></div>\n",
       "</div>\n",
       "</div>\n",
       "</div>\n",
       "</div>"
      ],
      "text/plain": [
       "<IPython.core.display.HTML object>"
      ]
     },
     "metadata": {},
     "output_type": "display_data"
    },
    {
     "data": {
      "text/html": [
       "<p><b>result</b> <i>13</i></p>"
      ],
      "text/plain": [
       "<IPython.core.display.HTML object>"
      ]
     },
     "metadata": {},
     "output_type": "display_data"
    },
    {
     "data": {
      "text/html": [
       "<div class=\"outeritem\">\n",
       "<div class=\"None  \" >\n",
       "\n",
       "    <div class=\"ll\">\n",
       "        <div class=\"line\"><a href=\"https://github.com/CambridgeSemiticsLab/nena_corpus/blob/master/texts/Barwar/The Monk And The Angel\" title=\"see this passage in its source document\" sec=\"Barwar\">Barwar</a></div>\n",
       "\n",
       "        <div class=\"features\"></div>\n",
       "    </div>\n",
       "\n",
       "</div>\n",
       "</div>"
      ],
      "text/plain": [
       "<IPython.core.display.HTML object>"
      ]
     },
     "metadata": {},
     "output_type": "display_data"
    },
    {
     "data": {
      "text/html": [
       "<a href=\"https://github.com/CambridgeSemiticsLab/nena_corpus/blob/master/texts/Barwar/THE TALE OF RUSTAM (2)\" title=\"see this passage in its source document\" sec=\"Barwar, THE TALE OF RUSTAM (2), Ln. 51\">Barwar, THE TALE OF RUSTAM (2), Ln. 51</a>\n",
       "<div class=\"outeritem\">\n",
       "<div class=\"macro  \" >\n",
       "<div class=\"features\"></div>\n",
       "<div class=\"prosa  \" >\n",
       "<div class=\"features\"></div>\n",
       "<div class=\"word  hl\" >\n",
       "<div class=\"ara\">kɛ̀la </div>\n",
       "<div class=\"features\"></div>\n",
       "</div>\n",
       "<div class=\"word  \" >\n",
       "<div class=\"ara\">ʾaskarwáθaˈ </div>\n",
       "<div class=\"features\"></div>\n",
       "</div>\n",
       "</div>\n",
       "<div class=\"prosa  \" >\n",
       "<div class=\"features\"></div>\n",
       "<div class=\"word  \" >\n",
       "<div class=\"ara\">ʾə́θye </div>\n",
       "<div class=\"features\"></div>\n",
       "</div>\n",
       "<div class=\"word  \" >\n",
       "<div class=\"ara\">ṭalbɛ̀niˈ</div>\n",
       "<div class=\"features\"></div>\n",
       "</div>\n",
       "</div>\n",
       "<div class=\"prosa  \" >\n",
       "<div class=\"features\"></div>\n",
       "<div class=\"word  \" >\n",
       "<div class=\"ara\">ʾu-mára </div>\n",
       "<div class=\"features\"></div>\n",
       "</div>\n",
       "<div class=\"word  \" >\n",
       "<div class=\"ara\">lɛ̀le-xəzya </div>\n",
       "<div class=\"features\"></div>\n",
       "</div>\n",
       "<div class=\"word  \" >\n",
       "<div class=\"ara\">čù-nášaˈ </div>\n",
       "<div class=\"features\"></div>\n",
       "</div>\n",
       "</div>\n",
       "<div class=\"prosa  \" >\n",
       "<div class=\"features\"></div>\n",
       "<div class=\"word  \" >\n",
       "<div class=\"ara\">bas-yắðəx </div>\n",
       "<div class=\"features\"></div>\n",
       "</div>\n",
       "<div class=\"word  \" >\n",
       "<div class=\"ara\">hóla </div>\n",
       "<div class=\"features\"></div>\n",
       "</div>\n",
       "<div class=\"word  \" >\n",
       "<div class=\"ara\">tlíxe </div>\n",
       "<div class=\"features\"></div>\n",
       "</div>\n",
       "<div class=\"word  \" >\n",
       "<div class=\"ara\">ʾánna </div>\n",
       "<div class=\"features\"></div>\n",
       "</div>\n",
       "<div class=\"word  \" >\n",
       "<div class=\"ara\">bàteˈ </div>\n",
       "<div class=\"features\"></div>\n",
       "</div>\n",
       "</div>\n",
       "<div class=\"prosa  \" >\n",
       "<div class=\"features\"></div>\n",
       "<div class=\"word  \" >\n",
       "<div class=\"ara\">ʾu-lɛ̀la-xəzye </div>\n",
       "<div class=\"features\"></div>\n",
       "</div>\n",
       "<div class=\"word  hl\" >\n",
       "<div class=\"ara\">ʾaskarwáθa.ˈ </div>\n",
       "<div class=\"features\"></div>\n",
       "</div>\n",
       "</div>\n",
       "</div>\n",
       "</div>"
      ],
      "text/plain": [
       "<IPython.core.display.HTML object>"
      ]
     },
     "metadata": {},
     "output_type": "display_data"
    },
    {
     "data": {
      "text/html": [
       "<p><b>result</b> <i>14</i></p>"
      ],
      "text/plain": [
       "<IPython.core.display.HTML object>"
      ]
     },
     "metadata": {},
     "output_type": "display_data"
    },
    {
     "data": {
      "text/html": [
       "<div class=\"outeritem\">\n",
       "<div class=\"None  \" >\n",
       "\n",
       "    <div class=\"ll\">\n",
       "        <div class=\"line\"><a href=\"https://github.com/CambridgeSemiticsLab/nena_corpus/blob/master/texts/Barwar/The Monk And The Angel\" title=\"see this passage in its source document\" sec=\"Barwar\">Barwar</a></div>\n",
       "\n",
       "        <div class=\"features\"></div>\n",
       "    </div>\n",
       "\n",
       "</div>\n",
       "</div>"
      ],
      "text/plain": [
       "<IPython.core.display.HTML object>"
      ]
     },
     "metadata": {},
     "output_type": "display_data"
    },
    {
     "data": {
      "text/html": [
       "<a href=\"https://github.com/CambridgeSemiticsLab/nena_corpus/blob/master/texts/Barwar/THE TALE OF RUSTAM (2)\" title=\"see this passage in its source document\" sec=\"Barwar, THE TALE OF RUSTAM (2), Ln. 51\">Barwar, THE TALE OF RUSTAM (2), Ln. 51</a>\n",
       "<div class=\"outeritem\">\n",
       "<div class=\"macro  \" >\n",
       "<div class=\"features\"></div>\n",
       "<div class=\"prosa  \" >\n",
       "<div class=\"features\"></div>\n",
       "<div class=\"word  \" >\n",
       "<div class=\"ara\">kɛ̀la </div>\n",
       "<div class=\"features\"></div>\n",
       "</div>\n",
       "<div class=\"word  \" >\n",
       "<div class=\"ara\">ʾaskarwáθaˈ </div>\n",
       "<div class=\"features\"></div>\n",
       "</div>\n",
       "</div>\n",
       "<div class=\"prosa  \" >\n",
       "<div class=\"features\"></div>\n",
       "<div class=\"word  \" >\n",
       "<div class=\"ara\">ʾə́θye </div>\n",
       "<div class=\"features\"></div>\n",
       "</div>\n",
       "<div class=\"word  \" >\n",
       "<div class=\"ara\">ṭalbɛ̀niˈ</div>\n",
       "<div class=\"features\"></div>\n",
       "</div>\n",
       "</div>\n",
       "<div class=\"prosa  \" >\n",
       "<div class=\"features\"></div>\n",
       "<div class=\"word  \" >\n",
       "<div class=\"ara\">ʾu-mára </div>\n",
       "<div class=\"features\"></div>\n",
       "</div>\n",
       "<div class=\"word  \" >\n",
       "<div class=\"ara\">lɛ̀le-xəzya </div>\n",
       "<div class=\"features\"></div>\n",
       "</div>\n",
       "<div class=\"word  \" >\n",
       "<div class=\"ara\">čù-nášaˈ </div>\n",
       "<div class=\"features\"></div>\n",
       "</div>\n",
       "</div>\n",
       "<div class=\"prosa  \" >\n",
       "<div class=\"features\"></div>\n",
       "<div class=\"word  \" >\n",
       "<div class=\"ara\">bas-yắðəx </div>\n",
       "<div class=\"features\"></div>\n",
       "</div>\n",
       "<div class=\"word  hl\" >\n",
       "<div class=\"ara\">hóla </div>\n",
       "<div class=\"features\"></div>\n",
       "</div>\n",
       "<div class=\"word  \" >\n",
       "<div class=\"ara\">tlíxe </div>\n",
       "<div class=\"features\"></div>\n",
       "</div>\n",
       "<div class=\"word  \" >\n",
       "<div class=\"ara\">ʾánna </div>\n",
       "<div class=\"features\"></div>\n",
       "</div>\n",
       "<div class=\"word  \" >\n",
       "<div class=\"ara\">bàteˈ </div>\n",
       "<div class=\"features\"></div>\n",
       "</div>\n",
       "</div>\n",
       "<div class=\"prosa  \" >\n",
       "<div class=\"features\"></div>\n",
       "<div class=\"word  \" >\n",
       "<div class=\"ara\">ʾu-lɛ̀la-xəzye </div>\n",
       "<div class=\"features\"></div>\n",
       "</div>\n",
       "<div class=\"word  hl\" >\n",
       "<div class=\"ara\">ʾaskarwáθa.ˈ </div>\n",
       "<div class=\"features\"></div>\n",
       "</div>\n",
       "</div>\n",
       "</div>\n",
       "</div>"
      ],
      "text/plain": [
       "<IPython.core.display.HTML object>"
      ]
     },
     "metadata": {},
     "output_type": "display_data"
    },
    {
     "data": {
      "text/html": [
       "<p><b>result</b> <i>15</i></p>"
      ],
      "text/plain": [
       "<IPython.core.display.HTML object>"
      ]
     },
     "metadata": {},
     "output_type": "display_data"
    },
    {
     "data": {
      "text/html": [
       "<div class=\"outeritem\">\n",
       "<div class=\"None  \" >\n",
       "\n",
       "    <div class=\"ll\">\n",
       "        <div class=\"line\"><a href=\"https://github.com/CambridgeSemiticsLab/nena_corpus/blob/master/texts/Barwar/The Monk And The Angel\" title=\"see this passage in its source document\" sec=\"Barwar\">Barwar</a></div>\n",
       "\n",
       "        <div class=\"features\"></div>\n",
       "    </div>\n",
       "\n",
       "</div>\n",
       "</div>"
      ],
      "text/plain": [
       "<IPython.core.display.HTML object>"
      ]
     },
     "metadata": {},
     "output_type": "display_data"
    },
    {
     "data": {
      "text/html": [
       "<a href=\"https://github.com/CambridgeSemiticsLab/nena_corpus/blob/master/texts/Barwar/THE TALE OF RUSTAM (2)\" title=\"see this passage in its source document\" sec=\"Barwar, THE TALE OF RUSTAM (2), Ln. 62\">Barwar, THE TALE OF RUSTAM (2), Ln. 62</a>\n",
       "<div class=\"outeritem\">\n",
       "<div class=\"macro  \" >\n",
       "<div class=\"features\"></div>\n",
       "<div class=\"prosa  \" >\n",
       "<div class=\"features\"></div>\n",
       "<div class=\"word  \" >\n",
       "<div class=\"ara\">béna </div>\n",
       "<div class=\"features\"></div>\n",
       "</div>\n",
       "<div class=\"word  \" >\n",
       "<div class=\"ara\">xaràyeˈ </div>\n",
       "<div class=\"features\"></div>\n",
       "</div>\n",
       "</div>\n",
       "<div class=\"prosa  \" >\n",
       "<div class=\"features\"></div>\n",
       "<div class=\"word  \" >\n",
       "<div class=\"ara\">píšle </div>\n",
       "<div class=\"features\"></div>\n",
       "</div>\n",
       "<div class=\"word  \" >\n",
       "<div class=\"ara\">màjburˈ </div>\n",
       "<div class=\"features\"></div>\n",
       "</div>\n",
       "</div>\n",
       "<div class=\"prosa  \" >\n",
       "<div class=\"features\"></div>\n",
       "<div class=\"word  \" >\n",
       "<div class=\"ara\">kúl </div>\n",
       "<div class=\"features\"></div>\n",
       "</div>\n",
       "<div class=\"word  hl\" >\n",
       "<div class=\"ara\">ʾaskarwáθa </div>\n",
       "<div class=\"features\"></div>\n",
       "</div>\n",
       "<div class=\"word  \" >\n",
       "<div class=\"ara\">d-o-málka </div>\n",
       "<div class=\"features\"></div>\n",
       "</div>\n",
       "<div class=\"word  hl\" >\n",
       "<div class=\"ara\">qəm-tayə̀mla,ˈ </div>\n",
       "<div class=\"features\"></div>\n",
       "</div>\n",
       "</div>\n",
       "<div class=\"prosa  \" >\n",
       "<div class=\"features\"></div>\n",
       "<div class=\"word  \" >\n",
       "<div class=\"ara\">lɛ̀la </div>\n",
       "<div class=\"features\"></div>\n",
       "</div>\n",
       "<div class=\"word  \" >\n",
       "<div class=\"ara\">mṣáya </div>\n",
       "<div class=\"features\"></div>\n",
       "</div>\n",
       "<div class=\"word  \" >\n",
       "<div class=\"ara\">b-Rùstămo.ˈ </div>\n",
       "<div class=\"features\"></div>\n",
       "</div>\n",
       "</div>\n",
       "</div>\n",
       "</div>"
      ],
      "text/plain": [
       "<IPython.core.display.HTML object>"
      ]
     },
     "metadata": {},
     "output_type": "display_data"
    },
    {
     "data": {
      "text/html": [
       "<p><b>result</b> <i>16</i></p>"
      ],
      "text/plain": [
       "<IPython.core.display.HTML object>"
      ]
     },
     "metadata": {},
     "output_type": "display_data"
    },
    {
     "data": {
      "text/html": [
       "<div class=\"outeritem\">\n",
       "<div class=\"None  \" >\n",
       "\n",
       "    <div class=\"ll\">\n",
       "        <div class=\"line\"><a href=\"https://github.com/CambridgeSemiticsLab/nena_corpus/blob/master/texts/Barwar/The Monk And The Angel\" title=\"see this passage in its source document\" sec=\"Barwar\">Barwar</a></div>\n",
       "\n",
       "        <div class=\"features\"></div>\n",
       "    </div>\n",
       "\n",
       "</div>\n",
       "</div>"
      ],
      "text/plain": [
       "<IPython.core.display.HTML object>"
      ]
     },
     "metadata": {},
     "output_type": "display_data"
    },
    {
     "data": {
      "text/html": [
       "<a href=\"https://github.com/CambridgeSemiticsLab/nena_corpus/blob/master/texts/Barwar/THE TALE OF RUSTAM (2)\" title=\"see this passage in its source document\" sec=\"Barwar, THE TALE OF RUSTAM (2), Ln. 62\">Barwar, THE TALE OF RUSTAM (2), Ln. 62</a>\n",
       "<div class=\"outeritem\">\n",
       "<div class=\"macro  \" >\n",
       "<div class=\"features\"></div>\n",
       "<div class=\"prosa  \" >\n",
       "<div class=\"features\"></div>\n",
       "<div class=\"word  \" >\n",
       "<div class=\"ara\">béna </div>\n",
       "<div class=\"features\"></div>\n",
       "</div>\n",
       "<div class=\"word  \" >\n",
       "<div class=\"ara\">xaràyeˈ </div>\n",
       "<div class=\"features\"></div>\n",
       "</div>\n",
       "</div>\n",
       "<div class=\"prosa  \" >\n",
       "<div class=\"features\"></div>\n",
       "<div class=\"word  \" >\n",
       "<div class=\"ara\">píšle </div>\n",
       "<div class=\"features\"></div>\n",
       "</div>\n",
       "<div class=\"word  \" >\n",
       "<div class=\"ara\">màjburˈ </div>\n",
       "<div class=\"features\"></div>\n",
       "</div>\n",
       "</div>\n",
       "<div class=\"prosa  \" >\n",
       "<div class=\"features\"></div>\n",
       "<div class=\"word  \" >\n",
       "<div class=\"ara\">kúl </div>\n",
       "<div class=\"features\"></div>\n",
       "</div>\n",
       "<div class=\"word  hl\" >\n",
       "<div class=\"ara\">ʾaskarwáθa </div>\n",
       "<div class=\"features\"></div>\n",
       "</div>\n",
       "<div class=\"word  \" >\n",
       "<div class=\"ara\">d-o-málka </div>\n",
       "<div class=\"features\"></div>\n",
       "</div>\n",
       "<div class=\"word  \" >\n",
       "<div class=\"ara\">qəm-tayə̀mla,ˈ </div>\n",
       "<div class=\"features\"></div>\n",
       "</div>\n",
       "</div>\n",
       "<div class=\"prosa  \" >\n",
       "<div class=\"features\"></div>\n",
       "<div class=\"word  hl\" >\n",
       "<div class=\"ara\">lɛ̀la </div>\n",
       "<div class=\"features\"></div>\n",
       "</div>\n",
       "<div class=\"word  \" >\n",
       "<div class=\"ara\">mṣáya </div>\n",
       "<div class=\"features\"></div>\n",
       "</div>\n",
       "<div class=\"word  \" >\n",
       "<div class=\"ara\">b-Rùstămo.ˈ </div>\n",
       "<div class=\"features\"></div>\n",
       "</div>\n",
       "</div>\n",
       "</div>\n",
       "</div>"
      ],
      "text/plain": [
       "<IPython.core.display.HTML object>"
      ]
     },
     "metadata": {},
     "output_type": "display_data"
    },
    {
     "data": {
      "text/html": [
       "<p><b>result</b> <i>17</i></p>"
      ],
      "text/plain": [
       "<IPython.core.display.HTML object>"
      ]
     },
     "metadata": {},
     "output_type": "display_data"
    },
    {
     "data": {
      "text/html": [
       "<div class=\"outeritem\">\n",
       "<div class=\"None  \" >\n",
       "\n",
       "    <div class=\"ll\">\n",
       "        <div class=\"line\"><a href=\"https://github.com/CambridgeSemiticsLab/nena_corpus/blob/master/texts/Barwar/The Monk And The Angel\" title=\"see this passage in its source document\" sec=\"Barwar\">Barwar</a></div>\n",
       "\n",
       "        <div class=\"features\"></div>\n",
       "    </div>\n",
       "\n",
       "</div>\n",
       "</div>"
      ],
      "text/plain": [
       "<IPython.core.display.HTML object>"
      ]
     },
     "metadata": {},
     "output_type": "display_data"
    },
    {
     "data": {
      "text/html": [
       "<a href=\"https://github.com/CambridgeSemiticsLab/nena_corpus/blob/master/texts/Barwar/THE TALE OF RUSTAM (2)\" title=\"see this passage in its source document\" sec=\"Barwar, THE TALE OF RUSTAM (2), Ln. 64\">Barwar, THE TALE OF RUSTAM (2), Ln. 64</a>\n",
       "<div class=\"outeritem\">\n",
       "<div class=\"macro  \" >\n",
       "<div class=\"features\"></div>\n",
       "<div class=\"prosa  \" >\n",
       "<div class=\"features\"></div>\n",
       "<div class=\"word  hl\" >\n",
       "<div class=\"ara\">ʾu-ʾaskarwáθa </div>\n",
       "<div class=\"features\"></div>\n",
       "</div>\n",
       "<div class=\"word  \" >\n",
       "<div class=\"ara\">díye </div>\n",
       "<div class=\"features\"></div>\n",
       "</div>\n",
       "<div class=\"word  hl\" >\n",
       "<div class=\"ara\">kúlla </div>\n",
       "<div class=\"features\"></div>\n",
       "</div>\n",
       "<div class=\"word  \" >\n",
       "<div class=\"ara\">pálga </div>\n",
       "<div class=\"features\"></div>\n",
       "</div>\n",
       "<div class=\"word  \" >\n",
       "<div class=\"ara\">qṭilìle.ˈ </div>\n",
       "<div class=\"features\"></div>\n",
       "</div>\n",
       "</div>\n",
       "</div>\n",
       "</div>"
      ],
      "text/plain": [
       "<IPython.core.display.HTML object>"
      ]
     },
     "metadata": {},
     "output_type": "display_data"
    },
    {
     "data": {
      "text/html": [
       "<p><b>result</b> <i>18</i></p>"
      ],
      "text/plain": [
       "<IPython.core.display.HTML object>"
      ]
     },
     "metadata": {},
     "output_type": "display_data"
    },
    {
     "data": {
      "text/html": [
       "<div class=\"outeritem\">\n",
       "<div class=\"None  \" >\n",
       "\n",
       "    <div class=\"ll\">\n",
       "        <div class=\"line\"><a href=\"https://github.com/CambridgeSemiticsLab/nena_corpus/blob/master/texts/Barwar/The Monk And The Angel\" title=\"see this passage in its source document\" sec=\"Barwar\">Barwar</a></div>\n",
       "\n",
       "        <div class=\"features\"></div>\n",
       "    </div>\n",
       "\n",
       "</div>\n",
       "</div>"
      ],
      "text/plain": [
       "<IPython.core.display.HTML object>"
      ]
     },
     "metadata": {},
     "output_type": "display_data"
    },
    {
     "data": {
      "text/html": [
       "<a href=\"https://github.com/CambridgeSemiticsLab/nena_corpus/blob/master/texts/Barwar/THE KING WITH FORTY SONS\" title=\"see this passage in its source document\" sec=\"Barwar, THE KING WITH FORTY SONS, Ln. 23\">Barwar, THE KING WITH FORTY SONS, Ln. 23</a>\n",
       "<div class=\"outeritem\">\n",
       "<div class=\"macro  \" >\n",
       "<div class=\"features\"></div>\n",
       "<div class=\"prosa  \" >\n",
       "<div class=\"features\"></div>\n",
       "<div class=\"word  \" >\n",
       "<div class=\"ara\">ʾó-xona </div>\n",
       "<div class=\"features\"></div>\n",
       "</div>\n",
       "<div class=\"word  \" >\n",
       "<div class=\"ara\">zóra </div>\n",
       "<div class=\"features\"></div>\n",
       "</div>\n",
       "<div class=\"word  \" >\n",
       "<div class=\"ara\">ʾámər </div>\n",
       "<div class=\"features\"></div>\n",
       "</div>\n",
       "<div class=\"word  hl\" >\n",
       "<div class=\"ara\">ṭla-xonăwáθa </div>\n",
       "<div class=\"features\"></div>\n",
       "</div>\n",
       "<div class=\"word  \" >\n",
       "<div class=\"ara\">d-an-xèneˈ </div>\n",
       "<div class=\"features\"></div>\n",
       "</div>\n",
       "</div>\n",
       "<div class=\"prosa  \" >\n",
       "<div class=\"features\"></div>\n",
       "<div class=\"word  \" >\n",
       "<div class=\"ara\">ʾáyya </div>\n",
       "<div class=\"features\"></div>\n",
       "</div>\n",
       "<div class=\"word  \" >\n",
       "<div class=\"ara\">báxti </div>\n",
       "<div class=\"features\"></div>\n",
       "</div>\n",
       "<div class=\"word  hl\" >\n",
       "<div class=\"ara\">nàblulaˈ </div>\n",
       "<div class=\"features\"></div>\n",
       "</div>\n",
       "</div>\n",
       "<div class=\"prosa  \" >\n",
       "<div class=\"features\"></div>\n",
       "<div class=\"word  \" >\n",
       "<div class=\"ara\">mənnɛ̀xu.ˈ </div>\n",
       "<div class=\"features\"></div>\n",
       "</div>\n",
       "</div>\n",
       "</div>\n",
       "</div>"
      ],
      "text/plain": [
       "<IPython.core.display.HTML object>"
      ]
     },
     "metadata": {},
     "output_type": "display_data"
    },
    {
     "data": {
      "text/html": [
       "<p><b>result</b> <i>19</i></p>"
      ],
      "text/plain": [
       "<IPython.core.display.HTML object>"
      ]
     },
     "metadata": {},
     "output_type": "display_data"
    },
    {
     "data": {
      "text/html": [
       "<div class=\"outeritem\">\n",
       "<div class=\"None  \" >\n",
       "\n",
       "    <div class=\"ll\">\n",
       "        <div class=\"line\"><a href=\"https://github.com/CambridgeSemiticsLab/nena_corpus/blob/master/texts/Barwar/The Monk And The Angel\" title=\"see this passage in its source document\" sec=\"Barwar\">Barwar</a></div>\n",
       "\n",
       "        <div class=\"features\"></div>\n",
       "    </div>\n",
       "\n",
       "</div>\n",
       "</div>"
      ],
      "text/plain": [
       "<IPython.core.display.HTML object>"
      ]
     },
     "metadata": {},
     "output_type": "display_data"
    },
    {
     "data": {
      "text/html": [
       "<a href=\"https://github.com/CambridgeSemiticsLab/nena_corpus/blob/master/texts/Barwar/THE KING WITH FORTY SONS\" title=\"see this passage in its source document\" sec=\"Barwar, THE KING WITH FORTY SONS, Ln. 24\">Barwar, THE KING WITH FORTY SONS, Ln. 24</a>\n",
       "<div class=\"outeritem\">\n",
       "<div class=\"macro  \" >\n",
       "<div class=\"features\"></div>\n",
       "<div class=\"prosa  \" >\n",
       "<div class=\"features\"></div>\n",
       "<div class=\"word  hl\" >\n",
       "<div class=\"ara\">ʾítla </div>\n",
       "<div class=\"features\"></div>\n",
       "</div>\n",
       "<div class=\"word  \" >\n",
       "<div class=\"ara\">šawwà </div>\n",
       "<div class=\"features\"></div>\n",
       "</div>\n",
       "<div class=\"word  hl\" >\n",
       "<div class=\"ara\">xonăwáθa.ˈ </div>\n",
       "<div class=\"features\"></div>\n",
       "</div>\n",
       "</div>\n",
       "</div>\n",
       "</div>"
      ],
      "text/plain": [
       "<IPython.core.display.HTML object>"
      ]
     },
     "metadata": {},
     "output_type": "display_data"
    },
    {
     "data": {
      "text/html": [
       "<p><b>result</b> <i>20</i></p>"
      ],
      "text/plain": [
       "<IPython.core.display.HTML object>"
      ]
     },
     "metadata": {},
     "output_type": "display_data"
    },
    {
     "data": {
      "text/html": [
       "<div class=\"outeritem\">\n",
       "<div class=\"None  \" >\n",
       "\n",
       "    <div class=\"ll\">\n",
       "        <div class=\"line\"><a href=\"https://github.com/CambridgeSemiticsLab/nena_corpus/blob/master/texts/Barwar/The Monk And The Angel\" title=\"see this passage in its source document\" sec=\"Barwar\">Barwar</a></div>\n",
       "\n",
       "        <div class=\"features\"></div>\n",
       "    </div>\n",
       "\n",
       "</div>\n",
       "</div>"
      ],
      "text/plain": [
       "<IPython.core.display.HTML object>"
      ]
     },
     "metadata": {},
     "output_type": "display_data"
    },
    {
     "data": {
      "text/html": [
       "<a href=\"https://github.com/CambridgeSemiticsLab/nena_corpus/blob/master/texts/Barwar/THE KING WITH FORTY SONS\" title=\"see this passage in its source document\" sec=\"Barwar, THE KING WITH FORTY SONS, Ln. 26\">Barwar, THE KING WITH FORTY SONS, Ln. 26</a>\n",
       "<div class=\"outeritem\">\n",
       "<div class=\"macro  \" >\n",
       "<div class=\"features\"></div>\n",
       "<div class=\"prosa  \" >\n",
       "<div class=\"features\"></div>\n",
       "<div class=\"word  hl\" >\n",
       "<div class=\"ara\">ʾítla </div>\n",
       "<div class=\"features\"></div>\n",
       "</div>\n",
       "<div class=\"word  \" >\n",
       "<div class=\"ara\">šawwà </div>\n",
       "<div class=\"features\"></div>\n",
       "</div>\n",
       "<div class=\"word  hl\" >\n",
       "<div class=\"ara\">xonăwáθa.ˈ </div>\n",
       "<div class=\"features\"></div>\n",
       "</div>\n",
       "</div>\n",
       "</div>\n",
       "</div>"
      ],
      "text/plain": [
       "<IPython.core.display.HTML object>"
      ]
     },
     "metadata": {},
     "output_type": "display_data"
    },
    {
     "data": {
      "text/html": [
       "<p><b>result</b> <i>21</i></p>"
      ],
      "text/plain": [
       "<IPython.core.display.HTML object>"
      ]
     },
     "metadata": {},
     "output_type": "display_data"
    },
    {
     "data": {
      "text/html": [
       "<div class=\"outeritem\">\n",
       "<div class=\"None  \" >\n",
       "\n",
       "    <div class=\"ll\">\n",
       "        <div class=\"line\"><a href=\"https://github.com/CambridgeSemiticsLab/nena_corpus/blob/master/texts/Barwar/The Monk And The Angel\" title=\"see this passage in its source document\" sec=\"Barwar\">Barwar</a></div>\n",
       "\n",
       "        <div class=\"features\"></div>\n",
       "    </div>\n",
       "\n",
       "</div>\n",
       "</div>"
      ],
      "text/plain": [
       "<IPython.core.display.HTML object>"
      ]
     },
     "metadata": {},
     "output_type": "display_data"
    },
    {
     "data": {
      "text/html": [
       "<a href=\"https://github.com/CambridgeSemiticsLab/nena_corpus/blob/master/texts/Barwar/THE KING WITH FORTY SONS\" title=\"see this passage in its source document\" sec=\"Barwar, THE KING WITH FORTY SONS, Ln. 33\">Barwar, THE KING WITH FORTY SONS, Ln. 33</a>\n",
       "<div class=\"outeritem\">\n",
       "<div class=\"macro  \" >\n",
       "<div class=\"features\"></div>\n",
       "<div class=\"prosa  \" >\n",
       "<div class=\"features\"></div>\n",
       "<div class=\"word  hl\" >\n",
       "<div class=\"ara\">xonăwáθa </div>\n",
       "<div class=\"features\"></div>\n",
       "</div>\n",
       "<div class=\"word  \" >\n",
       "<div class=\"ara\">díya </div>\n",
       "<div class=\"features\"></div>\n",
       "</div>\n",
       "<div class=\"word  hl\" >\n",
       "<div class=\"ara\">mšudártəlla </div>\n",
       "<div class=\"features\"></div>\n",
       "</div>\n",
       "<div class=\"word  \" >\n",
       "<div class=\"ara\">l-ṭúra </div>\n",
       "<div class=\"features\"></div>\n",
       "</div>\n",
       "<div class=\"word  \" >\n",
       "<div class=\"ara\">l-ṣɛ̀da,ˈ </div>\n",
       "<div class=\"features\"></div>\n",
       "</div>\n",
       "</div>\n",
       "<div class=\"prosa  \" >\n",
       "<div class=\"features\"></div>\n",
       "<div class=\"word  \" >\n",
       "<div class=\"ara\">xúšu </div>\n",
       "<div class=\"features\"></div>\n",
       "</div>\n",
       "<div class=\"word  \" >\n",
       "<div class=\"ara\">wúðu </div>\n",
       "<div class=\"features\"></div>\n",
       "</div>\n",
       "<div class=\"word  \" >\n",
       "<div class=\"ara\">ṣɛ̀da!ˈ </div>\n",
       "<div class=\"features\"></div>\n",
       "</div>\n",
       "</div>\n",
       "</div>\n",
       "</div>"
      ],
      "text/plain": [
       "<IPython.core.display.HTML object>"
      ]
     },
     "metadata": {},
     "output_type": "display_data"
    },
    {
     "data": {
      "text/html": [
       "<p><b>result</b> <i>22</i></p>"
      ],
      "text/plain": [
       "<IPython.core.display.HTML object>"
      ]
     },
     "metadata": {},
     "output_type": "display_data"
    },
    {
     "data": {
      "text/html": [
       "<div class=\"outeritem\">\n",
       "<div class=\"None  \" >\n",
       "\n",
       "    <div class=\"ll\">\n",
       "        <div class=\"line\"><a href=\"https://github.com/CambridgeSemiticsLab/nena_corpus/blob/master/texts/Barwar/The Monk And The Angel\" title=\"see this passage in its source document\" sec=\"Barwar\">Barwar</a></div>\n",
       "\n",
       "        <div class=\"features\"></div>\n",
       "    </div>\n",
       "\n",
       "</div>\n",
       "</div>"
      ],
      "text/plain": [
       "<IPython.core.display.HTML object>"
      ]
     },
     "metadata": {},
     "output_type": "display_data"
    },
    {
     "data": {
      "text/html": [
       "<a href=\"https://github.com/CambridgeSemiticsLab/nena_corpus/blob/master/texts/Barwar/THE KING WITH FORTY SONS\" title=\"see this passage in its source document\" sec=\"Barwar, THE KING WITH FORTY SONS, Ln. 34\">Barwar, THE KING WITH FORTY SONS, Ln. 34</a>\n",
       "<div class=\"outeritem\">\n",
       "<div class=\"macro  \" >\n",
       "<div class=\"features\"></div>\n",
       "<div class=\"prosa  \" >\n",
       "<div class=\"features\"></div>\n",
       "<div class=\"word  \" >\n",
       "<div class=\"ara\">xéna </div>\n",
       "<div class=\"features\"></div>\n",
       "</div>\n",
       "<div class=\"word  \" >\n",
       "<div class=\"ara\">màraˈ </div>\n",
       "<div class=\"features\"></div>\n",
       "</div>\n",
       "</div>\n",
       "<div class=\"prosa  \" >\n",
       "<div class=\"features\"></div>\n",
       "<div class=\"word  \" >\n",
       "<div class=\"ara\">kèpe </div>\n",
       "<div class=\"features\"></div>\n",
       "</div>\n",
       "<div class=\"word  \" >\n",
       "<div class=\"ara\">mə́ra </div>\n",
       "<div class=\"features\"></div>\n",
       "</div>\n",
       "<div class=\"word  hl\" >\n",
       "<div class=\"ara\">ṭla-xonăwáθa </div>\n",
       "<div class=\"features\"></div>\n",
       "</div>\n",
       "<div class=\"word  hl\" >\n",
       "<div class=\"ara\">núbləlla </div>\n",
       "<div class=\"features\"></div>\n",
       "</div>\n",
       "<div class=\"word  \" >\n",
       "<div class=\"ara\">Čəlkắze.ˈ </div>\n",
       "<div class=\"features\"></div>\n",
       "</div>\n",
       "</div>\n",
       "</div>\n",
       "</div>"
      ],
      "text/plain": [
       "<IPython.core.display.HTML object>"
      ]
     },
     "metadata": {},
     "output_type": "display_data"
    },
    {
     "data": {
      "text/html": [
       "<p><b>result</b> <i>23</i></p>"
      ],
      "text/plain": [
       "<IPython.core.display.HTML object>"
      ]
     },
     "metadata": {},
     "output_type": "display_data"
    },
    {
     "data": {
      "text/html": [
       "<div class=\"outeritem\">\n",
       "<div class=\"None  \" >\n",
       "\n",
       "    <div class=\"ll\">\n",
       "        <div class=\"line\"><a href=\"https://github.com/CambridgeSemiticsLab/nena_corpus/blob/master/texts/Barwar/The Monk And The Angel\" title=\"see this passage in its source document\" sec=\"Barwar\">Barwar</a></div>\n",
       "\n",
       "        <div class=\"features\"></div>\n",
       "    </div>\n",
       "\n",
       "</div>\n",
       "</div>"
      ],
      "text/plain": [
       "<IPython.core.display.HTML object>"
      ]
     },
     "metadata": {},
     "output_type": "display_data"
    },
    {
     "data": {
      "text/html": [
       "<a href=\"https://github.com/CambridgeSemiticsLab/nena_corpus/blob/master/texts/Barwar/THE KING WITH FORTY SONS\" title=\"see this passage in its source document\" sec=\"Barwar, THE KING WITH FORTY SONS, Ln. 34\">Barwar, THE KING WITH FORTY SONS, Ln. 34</a>\n",
       "<div class=\"outeritem\">\n",
       "<div class=\"macro  \" >\n",
       "<div class=\"features\"></div>\n",
       "<div class=\"prosa  \" >\n",
       "<div class=\"features\"></div>\n",
       "<div class=\"word  \" >\n",
       "<div class=\"ara\">ʾilàne </div>\n",
       "<div class=\"features\"></div>\n",
       "</div>\n",
       "<div class=\"word  \" >\n",
       "<div class=\"ara\">mára </div>\n",
       "<div class=\"features\"></div>\n",
       "</div>\n",
       "<div class=\"word  hl\" >\n",
       "<div class=\"ara\">núbləlla </div>\n",
       "<div class=\"features\"></div>\n",
       "</div>\n",
       "<div class=\"word  \" >\n",
       "<div class=\"ara\">Čəlkắze,ˈ </div>\n",
       "<div class=\"features\"></div>\n",
       "</div>\n",
       "</div>\n",
       "<div class=\"prosa  \" >\n",
       "<div class=\"features\"></div>\n",
       "<div class=\"word  hl\" >\n",
       "<div class=\"ara\">ṭla-xonăwáθa </div>\n",
       "<div class=\"features\"></div>\n",
       "</div>\n",
       "<div class=\"word  \" >\n",
       "<div class=\"ara\">dìya.ˈ </div>\n",
       "<div class=\"features\"></div>\n",
       "</div>\n",
       "</div>\n",
       "</div>\n",
       "</div>"
      ],
      "text/plain": [
       "<IPython.core.display.HTML object>"
      ]
     },
     "metadata": {},
     "output_type": "display_data"
    },
    {
     "data": {
      "text/html": [
       "<p><b>result</b> <i>24</i></p>"
      ],
      "text/plain": [
       "<IPython.core.display.HTML object>"
      ]
     },
     "metadata": {},
     "output_type": "display_data"
    },
    {
     "data": {
      "text/html": [
       "<div class=\"outeritem\">\n",
       "<div class=\"None  \" >\n",
       "\n",
       "    <div class=\"ll\">\n",
       "        <div class=\"line\"><a href=\"https://github.com/CambridgeSemiticsLab/nena_corpus/blob/master/texts/Barwar/The Monk And The Angel\" title=\"see this passage in its source document\" sec=\"Barwar\">Barwar</a></div>\n",
       "\n",
       "        <div class=\"features\"></div>\n",
       "    </div>\n",
       "\n",
       "</div>\n",
       "</div>"
      ],
      "text/plain": [
       "<IPython.core.display.HTML object>"
      ]
     },
     "metadata": {},
     "output_type": "display_data"
    },
    {
     "data": {
      "text/html": [
       "<a href=\"https://github.com/CambridgeSemiticsLab/nena_corpus/blob/master/texts/Barwar/THE KING WITH FORTY SONS\" title=\"see this passage in its source document\" sec=\"Barwar, THE KING WITH FORTY SONS, Ln. 58\">Barwar, THE KING WITH FORTY SONS, Ln. 58</a>\n",
       "<div class=\"outeritem\">\n",
       "<div class=\"macro  \" >\n",
       "<div class=\"features\"></div>\n",
       "<div class=\"prosa  \" >\n",
       "<div class=\"features\"></div>\n",
       "<div class=\"word  \" >\n",
       "<div class=\"ara\">kút-yum </div>\n",
       "<div class=\"features\"></div>\n",
       "</div>\n",
       "<div class=\"word  hl\" >\n",
       "<div class=\"ara\">zála </div>\n",
       "<div class=\"features\"></div>\n",
       "</div>\n",
       "<div class=\"word  \" >\n",
       "<div class=\"ara\">hàtxaˈ </div>\n",
       "<div class=\"features\"></div>\n",
       "</div>\n",
       "</div>\n",
       "<div class=\"prosa  \" >\n",
       "<div class=\"features\"></div>\n",
       "<div class=\"word  \" >\n",
       "<div class=\"ara\">jḗš </div>\n",
       "<div class=\"features\"></div>\n",
       "</div>\n",
       "<div class=\"word  \" >\n",
       "<div class=\"ara\">m-ánna </div>\n",
       "<div class=\"features\"></div>\n",
       "</div>\n",
       "<div class=\"word  \" >\n",
       "<div class=\"ara\">ʾatwánə </div>\n",
       "<div class=\"features\"></div>\n",
       "</div>\n",
       "<div class=\"word  \" >\n",
       "<div class=\"ara\">xáṣə </div>\n",
       "<div class=\"features\"></div>\n",
       "</div>\n",
       "<div class=\"word  hl\" >\n",
       "<div class=\"ara\">susăwàθa,ˈ </div>\n",
       "<div class=\"features\"></div>\n",
       "</div>\n",
       "</div>\n",
       "<div class=\"prosa  \" >\n",
       "<div class=\"features\"></div>\n",
       "<div class=\"word  \" >\n",
       "<div class=\"ara\">swarìyye.ˈ </div>\n",
       "<div class=\"features\"></div>\n",
       "</div>\n",
       "</div>\n",
       "</div>\n",
       "</div>"
      ],
      "text/plain": [
       "<IPython.core.display.HTML object>"
      ]
     },
     "metadata": {},
     "output_type": "display_data"
    },
    {
     "data": {
      "text/html": [
       "<p><b>result</b> <i>25</i></p>"
      ],
      "text/plain": [
       "<IPython.core.display.HTML object>"
      ]
     },
     "metadata": {},
     "output_type": "display_data"
    },
    {
     "data": {
      "text/html": [
       "<div class=\"outeritem\">\n",
       "<div class=\"None  \" >\n",
       "\n",
       "    <div class=\"ll\">\n",
       "        <div class=\"line\"><a href=\"https://github.com/CambridgeSemiticsLab/nena_corpus/blob/master/texts/Barwar/The Monk And The Angel\" title=\"see this passage in its source document\" sec=\"Barwar\">Barwar</a></div>\n",
       "\n",
       "        <div class=\"features\"></div>\n",
       "    </div>\n",
       "\n",
       "</div>\n",
       "</div>"
      ],
      "text/plain": [
       "<IPython.core.display.HTML object>"
      ]
     },
     "metadata": {},
     "output_type": "display_data"
    },
    {
     "data": {
      "text/html": [
       "<a href=\"https://github.com/CambridgeSemiticsLab/nena_corpus/blob/master/texts/Barwar/THE KING WITH FORTY SONS\" title=\"see this passage in its source document\" sec=\"Barwar, THE KING WITH FORTY SONS, Ln. 68\">Barwar, THE KING WITH FORTY SONS, Ln. 68</a>\n",
       "<div class=\"outeritem\">\n",
       "<div class=\"macro  \" >\n",
       "<div class=\"features\"></div>\n",
       "<div class=\"prosa  \" >\n",
       "<div class=\"features\"></div>\n",
       "<div class=\"word  \" >\n",
       "<div class=\"ara\">ʾá-dana </div>\n",
       "<div class=\"features\"></div>\n",
       "</div>\n",
       "<div class=\"word  hl\" >\n",
       "<div class=\"ara\">qríθɛla </div>\n",
       "<div class=\"features\"></div>\n",
       "</div>\n",
       "<div class=\"word  hl\" >\n",
       "<div class=\"ara\">b-xaθwáθa </div>\n",
       "<div class=\"features\"></div>\n",
       "</div>\n",
       "<div class=\"word  \" >\n",
       "<div class=\"ara\">dìya.ˈ </div>\n",
       "<div class=\"features\"></div>\n",
       "</div>\n",
       "</div>\n",
       "</div>\n",
       "</div>"
      ],
      "text/plain": [
       "<IPython.core.display.HTML object>"
      ]
     },
     "metadata": {},
     "output_type": "display_data"
    },
    {
     "data": {
      "text/html": [
       "<p><b>result</b> <i>26</i></p>"
      ],
      "text/plain": [
       "<IPython.core.display.HTML object>"
      ]
     },
     "metadata": {},
     "output_type": "display_data"
    },
    {
     "data": {
      "text/html": [
       "<div class=\"outeritem\">\n",
       "<div class=\"None  \" >\n",
       "\n",
       "    <div class=\"ll\">\n",
       "        <div class=\"line\"><a href=\"https://github.com/CambridgeSemiticsLab/nena_corpus/blob/master/texts/Barwar/The Monk And The Angel\" title=\"see this passage in its source document\" sec=\"Barwar\">Barwar</a></div>\n",
       "\n",
       "        <div class=\"features\"></div>\n",
       "    </div>\n",
       "\n",
       "</div>\n",
       "</div>"
      ],
      "text/plain": [
       "<IPython.core.display.HTML object>"
      ]
     },
     "metadata": {},
     "output_type": "display_data"
    },
    {
     "data": {
      "text/html": [
       "<a href=\"https://github.com/CambridgeSemiticsLab/nena_corpus/blob/master/texts/Barwar/THE KING WITH FORTY SONS\" title=\"see this passage in its source document\" sec=\"Barwar, THE KING WITH FORTY SONS, Ln. 69\">Barwar, THE KING WITH FORTY SONS, Ln. 69</a>\n",
       "<div class=\"outeritem\">\n",
       "<div class=\"macro  \" >\n",
       "<div class=\"features\"></div>\n",
       "<div class=\"prosa  \" >\n",
       "<div class=\"features\"></div>\n",
       "<div class=\"word  \" >\n",
       "<div class=\"ara\">xéna </div>\n",
       "<div class=\"features\"></div>\n",
       "</div>\n",
       "<div class=\"word  hl\" >\n",
       "<div class=\"ara\">xaθwáθa </div>\n",
       "<div class=\"features\"></div>\n",
       "</div>\n",
       "<div class=\"word  \" >\n",
       "<div class=\"ara\">díya </div>\n",
       "<div class=\"features\"></div>\n",
       "</div>\n",
       "<div class=\"word  hl\" >\n",
       "<div class=\"ara\">kúlla </div>\n",
       "<div class=\"features\"></div>\n",
       "</div>\n",
       "<div class=\"word  \" >\n",
       "<div class=\"ara\">ṣlèla,ˈ </div>\n",
       "<div class=\"features\"></div>\n",
       "</div>\n",
       "</div>\n",
       "<div class=\"prosa  \" >\n",
       "<div class=\"features\"></div>\n",
       "<div class=\"word  \" >\n",
       "<div class=\"ara\">kəmà-ṱ-ila!ˈ </div>\n",
       "<div class=\"features\"></div>\n",
       "</div>\n",
       "</div>\n",
       "</div>\n",
       "</div>"
      ],
      "text/plain": [
       "<IPython.core.display.HTML object>"
      ]
     },
     "metadata": {},
     "output_type": "display_data"
    },
    {
     "data": {
      "text/html": [
       "<p><b>result</b> <i>27</i></p>"
      ],
      "text/plain": [
       "<IPython.core.display.HTML object>"
      ]
     },
     "metadata": {},
     "output_type": "display_data"
    },
    {
     "data": {
      "text/html": [
       "<div class=\"outeritem\">\n",
       "<div class=\"None  \" >\n",
       "\n",
       "    <div class=\"ll\">\n",
       "        <div class=\"line\"><a href=\"https://github.com/CambridgeSemiticsLab/nena_corpus/blob/master/texts/Barwar/The Monk And The Angel\" title=\"see this passage in its source document\" sec=\"Barwar\">Barwar</a></div>\n",
       "\n",
       "        <div class=\"features\"></div>\n",
       "    </div>\n",
       "\n",
       "</div>\n",
       "</div>"
      ],
      "text/plain": [
       "<IPython.core.display.HTML object>"
      ]
     },
     "metadata": {},
     "output_type": "display_data"
    },
    {
     "data": {
      "text/html": [
       "<a href=\"https://github.com/CambridgeSemiticsLab/nena_corpus/blob/master/texts/Barwar/THE KING WITH FORTY SONS\" title=\"see this passage in its source document\" sec=\"Barwar, THE KING WITH FORTY SONS, Ln. 69\">Barwar, THE KING WITH FORTY SONS, Ln. 69</a>\n",
       "<div class=\"outeritem\">\n",
       "<div class=\"macro  \" >\n",
       "<div class=\"features\"></div>\n",
       "<div class=\"prosa  \" >\n",
       "<div class=\"features\"></div>\n",
       "<div class=\"word  \" >\n",
       "<div class=\"ara\">xéna </div>\n",
       "<div class=\"features\"></div>\n",
       "</div>\n",
       "<div class=\"word  hl\" >\n",
       "<div class=\"ara\">xaθwáθa </div>\n",
       "<div class=\"features\"></div>\n",
       "</div>\n",
       "<div class=\"word  \" >\n",
       "<div class=\"ara\">díya </div>\n",
       "<div class=\"features\"></div>\n",
       "</div>\n",
       "<div class=\"word  \" >\n",
       "<div class=\"ara\">kúlla </div>\n",
       "<div class=\"features\"></div>\n",
       "</div>\n",
       "<div class=\"word  hl\" >\n",
       "<div class=\"ara\">ṣlèla,ˈ </div>\n",
       "<div class=\"features\"></div>\n",
       "</div>\n",
       "</div>\n",
       "<div class=\"prosa  \" >\n",
       "<div class=\"features\"></div>\n",
       "<div class=\"word  \" >\n",
       "<div class=\"ara\">kəmà-ṱ-ila!ˈ </div>\n",
       "<div class=\"features\"></div>\n",
       "</div>\n",
       "</div>\n",
       "</div>\n",
       "</div>"
      ],
      "text/plain": [
       "<IPython.core.display.HTML object>"
      ]
     },
     "metadata": {},
     "output_type": "display_data"
    },
    {
     "data": {
      "text/html": [
       "<p><b>result</b> <i>28</i></p>"
      ],
      "text/plain": [
       "<IPython.core.display.HTML object>"
      ]
     },
     "metadata": {},
     "output_type": "display_data"
    },
    {
     "data": {
      "text/html": [
       "<div class=\"outeritem\">\n",
       "<div class=\"None  \" >\n",
       "\n",
       "    <div class=\"ll\">\n",
       "        <div class=\"line\"><a href=\"https://github.com/CambridgeSemiticsLab/nena_corpus/blob/master/texts/Barwar/The Monk And The Angel\" title=\"see this passage in its source document\" sec=\"Barwar\">Barwar</a></div>\n",
       "\n",
       "        <div class=\"features\"></div>\n",
       "    </div>\n",
       "\n",
       "</div>\n",
       "</div>"
      ],
      "text/plain": [
       "<IPython.core.display.HTML object>"
      ]
     },
     "metadata": {},
     "output_type": "display_data"
    },
    {
     "data": {
      "text/html": [
       "<a href=\"https://github.com/CambridgeSemiticsLab/nena_corpus/blob/master/texts/Barwar/THE KING WITH FORTY SONS\" title=\"see this passage in its source document\" sec=\"Barwar, THE KING WITH FORTY SONS, Ln. 69\">Barwar, THE KING WITH FORTY SONS, Ln. 69</a>\n",
       "<div class=\"outeritem\">\n",
       "<div class=\"macro  \" >\n",
       "<div class=\"features\"></div>\n",
       "<div class=\"prosa  \" >\n",
       "<div class=\"features\"></div>\n",
       "<div class=\"word  \" >\n",
       "<div class=\"ara\">xéna </div>\n",
       "<div class=\"features\"></div>\n",
       "</div>\n",
       "<div class=\"word  hl\" >\n",
       "<div class=\"ara\">xaθwáθa </div>\n",
       "<div class=\"features\"></div>\n",
       "</div>\n",
       "<div class=\"word  \" >\n",
       "<div class=\"ara\">díya </div>\n",
       "<div class=\"features\"></div>\n",
       "</div>\n",
       "<div class=\"word  \" >\n",
       "<div class=\"ara\">kúlla </div>\n",
       "<div class=\"features\"></div>\n",
       "</div>\n",
       "<div class=\"word  \" >\n",
       "<div class=\"ara\">ṣlèla,ˈ </div>\n",
       "<div class=\"features\"></div>\n",
       "</div>\n",
       "</div>\n",
       "<div class=\"prosa  \" >\n",
       "<div class=\"features\"></div>\n",
       "<div class=\"word  hl\" >\n",
       "<div class=\"ara\">kəmà-ṱ-ila!ˈ </div>\n",
       "<div class=\"features\"></div>\n",
       "</div>\n",
       "</div>\n",
       "</div>\n",
       "</div>"
      ],
      "text/plain": [
       "<IPython.core.display.HTML object>"
      ]
     },
     "metadata": {},
     "output_type": "display_data"
    },
    {
     "data": {
      "text/html": [
       "<p><b>result</b> <i>29</i></p>"
      ],
      "text/plain": [
       "<IPython.core.display.HTML object>"
      ]
     },
     "metadata": {},
     "output_type": "display_data"
    },
    {
     "data": {
      "text/html": [
       "<div class=\"outeritem\">\n",
       "<div class=\"None  \" >\n",
       "\n",
       "    <div class=\"ll\">\n",
       "        <div class=\"line\"><a href=\"https://github.com/CambridgeSemiticsLab/nena_corpus/blob/master/texts/Barwar/The Monk And The Angel\" title=\"see this passage in its source document\" sec=\"Barwar\">Barwar</a></div>\n",
       "\n",
       "        <div class=\"features\"></div>\n",
       "    </div>\n",
       "\n",
       "</div>\n",
       "</div>"
      ],
      "text/plain": [
       "<IPython.core.display.HTML object>"
      ]
     },
     "metadata": {},
     "output_type": "display_data"
    },
    {
     "data": {
      "text/html": [
       "<a href=\"https://github.com/CambridgeSemiticsLab/nena_corpus/blob/master/texts/Barwar/A TALE OF TWO KINGS\" title=\"see this passage in its source document\" sec=\"Barwar, A TALE OF TWO KINGS, Ln. 8\">Barwar, A TALE OF TWO KINGS, Ln. 8</a>\n",
       "<div class=\"outeritem\">\n",
       "<div class=\"macro  \" >\n",
       "<div class=\"features\"></div>\n",
       "<div class=\"prosa  \" >\n",
       "<div class=\"features\"></div>\n",
       "<div class=\"word  \" >\n",
       "<div class=\"ara\">ʾàyˈ </div>\n",
       "<div class=\"features\"></div>\n",
       "</div>\n",
       "</div>\n",
       "<div class=\"prosa  \" >\n",
       "<div class=\"features\"></div>\n",
       "<div class=\"word  hl\" >\n",
       "<div class=\"ara\">ʾu-xolamwàθaˈ </div>\n",
       "<div class=\"features\"></div>\n",
       "</div>\n",
       "</div>\n",
       "<div class=\"prosa  \" >\n",
       "<div class=\"features\"></div>\n",
       "<div class=\"word  hl\" >\n",
       "<div class=\"ara\">kúlla </div>\n",
       "<div class=\"features\"></div>\n",
       "</div>\n",
       "<div class=\"word  \" >\n",
       "<div class=\"ara\">rqáða </div>\n",
       "<div class=\"features\"></div>\n",
       "</div>\n",
       "<div class=\"word  \" >\n",
       "<div class=\"ara\">ġðáðe </div>\n",
       "<div class=\"features\"></div>\n",
       "</div>\n",
       "<div class=\"word  \" >\n",
       "<div class=\"ara\">zmàra,ˈ </div>\n",
       "<div class=\"features\"></div>\n",
       "</div>\n",
       "</div>\n",
       "<div class=\"prosa  \" >\n",
       "<div class=\"features\"></div>\n",
       "<div class=\"word  \" >\n",
       "<div class=\"ara\">mára </div>\n",
       "<div class=\"features\"></div>\n",
       "</div>\n",
       "<div class=\"word  \" >\n",
       "<div class=\"ara\">xa-ʿăbī́d </div>\n",
       "<div class=\"features\"></div>\n",
       "</div>\n",
       "<div class=\"word  \" >\n",
       "<div class=\"ara\">kòmaˈ </div>\n",
       "<div class=\"features\"></div>\n",
       "</div>\n",
       "</div>\n",
       "<div class=\"prosa  \" >\n",
       "<div class=\"features\"></div>\n",
       "<div class=\"word  \" >\n",
       "<div class=\"ara\">dmáxɛla </div>\n",
       "<div class=\"features\"></div>\n",
       "</div>\n",
       "<div class=\"word  \" >\n",
       "<div class=\"ara\">mə́nne </div>\n",
       "<div class=\"features\"></div>\n",
       "</div>\n",
       "<div class=\"word  \" >\n",
       "<div class=\"ara\">díye </div>\n",
       "<div class=\"features\"></div>\n",
       "</div>\n",
       "<div class=\"word  \" >\n",
       "<div class=\"ara\">ʾày.ˈ </div>\n",
       "<div class=\"features\"></div>\n",
       "</div>\n",
       "</div>\n",
       "</div>\n",
       "</div>"
      ],
      "text/plain": [
       "<IPython.core.display.HTML object>"
      ]
     },
     "metadata": {},
     "output_type": "display_data"
    },
    {
     "data": {
      "text/html": [
       "<p><b>result</b> <i>30</i></p>"
      ],
      "text/plain": [
       "<IPython.core.display.HTML object>"
      ]
     },
     "metadata": {},
     "output_type": "display_data"
    },
    {
     "data": {
      "text/html": [
       "<div class=\"outeritem\">\n",
       "<div class=\"None  \" >\n",
       "\n",
       "    <div class=\"ll\">\n",
       "        <div class=\"line\"><a href=\"https://github.com/CambridgeSemiticsLab/nena_corpus/blob/master/texts/Barwar/The Monk And The Angel\" title=\"see this passage in its source document\" sec=\"Barwar\">Barwar</a></div>\n",
       "\n",
       "        <div class=\"features\"></div>\n",
       "    </div>\n",
       "\n",
       "</div>\n",
       "</div>"
      ],
      "text/plain": [
       "<IPython.core.display.HTML object>"
      ]
     },
     "metadata": {},
     "output_type": "display_data"
    },
    {
     "data": {
      "text/html": [
       "<a href=\"https://github.com/CambridgeSemiticsLab/nena_corpus/blob/master/texts/Barwar/A TALE OF TWO KINGS\" title=\"see this passage in its source document\" sec=\"Barwar, A TALE OF TWO KINGS, Ln. 8\">Barwar, A TALE OF TWO KINGS, Ln. 8</a>\n",
       "<div class=\"outeritem\">\n",
       "<div class=\"macro  \" >\n",
       "<div class=\"features\"></div>\n",
       "<div class=\"prosa  \" >\n",
       "<div class=\"features\"></div>\n",
       "<div class=\"word  \" >\n",
       "<div class=\"ara\">ʾàyˈ </div>\n",
       "<div class=\"features\"></div>\n",
       "</div>\n",
       "</div>\n",
       "<div class=\"prosa  \" >\n",
       "<div class=\"features\"></div>\n",
       "<div class=\"word  hl\" >\n",
       "<div class=\"ara\">ʾu-xolamwàθaˈ </div>\n",
       "<div class=\"features\"></div>\n",
       "</div>\n",
       "</div>\n",
       "<div class=\"prosa  \" >\n",
       "<div class=\"features\"></div>\n",
       "<div class=\"word  \" >\n",
       "<div class=\"ara\">kúlla </div>\n",
       "<div class=\"features\"></div>\n",
       "</div>\n",
       "<div class=\"word  \" >\n",
       "<div class=\"ara\">rqáða </div>\n",
       "<div class=\"features\"></div>\n",
       "</div>\n",
       "<div class=\"word  \" >\n",
       "<div class=\"ara\">ġðáðe </div>\n",
       "<div class=\"features\"></div>\n",
       "</div>\n",
       "<div class=\"word  \" >\n",
       "<div class=\"ara\">zmàra,ˈ </div>\n",
       "<div class=\"features\"></div>\n",
       "</div>\n",
       "</div>\n",
       "<div class=\"prosa  \" >\n",
       "<div class=\"features\"></div>\n",
       "<div class=\"word  \" >\n",
       "<div class=\"ara\">mára </div>\n",
       "<div class=\"features\"></div>\n",
       "</div>\n",
       "<div class=\"word  \" >\n",
       "<div class=\"ara\">xa-ʿăbī́d </div>\n",
       "<div class=\"features\"></div>\n",
       "</div>\n",
       "<div class=\"word  \" >\n",
       "<div class=\"ara\">kòmaˈ </div>\n",
       "<div class=\"features\"></div>\n",
       "</div>\n",
       "</div>\n",
       "<div class=\"prosa  \" >\n",
       "<div class=\"features\"></div>\n",
       "<div class=\"word  hl\" >\n",
       "<div class=\"ara\">dmáxɛla </div>\n",
       "<div class=\"features\"></div>\n",
       "</div>\n",
       "<div class=\"word  \" >\n",
       "<div class=\"ara\">mə́nne </div>\n",
       "<div class=\"features\"></div>\n",
       "</div>\n",
       "<div class=\"word  \" >\n",
       "<div class=\"ara\">díye </div>\n",
       "<div class=\"features\"></div>\n",
       "</div>\n",
       "<div class=\"word  \" >\n",
       "<div class=\"ara\">ʾày.ˈ </div>\n",
       "<div class=\"features\"></div>\n",
       "</div>\n",
       "</div>\n",
       "</div>\n",
       "</div>"
      ],
      "text/plain": [
       "<IPython.core.display.HTML object>"
      ]
     },
     "metadata": {},
     "output_type": "display_data"
    },
    {
     "data": {
      "text/html": [
       "<p><b>result</b> <i>31</i></p>"
      ],
      "text/plain": [
       "<IPython.core.display.HTML object>"
      ]
     },
     "metadata": {},
     "output_type": "display_data"
    },
    {
     "data": {
      "text/html": [
       "<div class=\"outeritem\">\n",
       "<div class=\"None  \" >\n",
       "\n",
       "    <div class=\"ll\">\n",
       "        <div class=\"line\"><a href=\"https://github.com/CambridgeSemiticsLab/nena_corpus/blob/master/texts/Barwar/The Monk And The Angel\" title=\"see this passage in its source document\" sec=\"Barwar\">Barwar</a></div>\n",
       "\n",
       "        <div class=\"features\"></div>\n",
       "    </div>\n",
       "\n",
       "</div>\n",
       "</div>"
      ],
      "text/plain": [
       "<IPython.core.display.HTML object>"
      ]
     },
     "metadata": {},
     "output_type": "display_data"
    },
    {
     "data": {
      "text/html": [
       "<a href=\"https://github.com/CambridgeSemiticsLab/nena_corpus/blob/master/texts/Barwar/THE TALE OF NASIMO\" title=\"see this passage in its source document\" sec=\"Barwar, THE TALE OF NASIMO, Ln. 1\">Barwar, THE TALE OF NASIMO, Ln. 1</a>\n",
       "<div class=\"outeritem\">\n",
       "<div class=\"macro  \" >\n",
       "<div class=\"features\"></div>\n",
       "<div class=\"prosa  \" >\n",
       "<div class=\"features\"></div>\n",
       "<div class=\"word  hl\" >\n",
       "<div class=\"ara\">ʾiθwála </div>\n",
       "<div class=\"features\"></div>\n",
       "</div>\n",
       "<div class=\"word  \" >\n",
       "<div class=\"ara\">šáwwa </div>\n",
       "<div class=\"features\"></div>\n",
       "</div>\n",
       "<div class=\"word  hl\" >\n",
       "<div class=\"ara\">xonăwàθa.ˈ </div>\n",
       "<div class=\"features\"></div>\n",
       "</div>\n",
       "</div>\n",
       "</div>\n",
       "</div>"
      ],
      "text/plain": [
       "<IPython.core.display.HTML object>"
      ]
     },
     "metadata": {},
     "output_type": "display_data"
    },
    {
     "data": {
      "text/html": [
       "<p><b>result</b> <i>32</i></p>"
      ],
      "text/plain": [
       "<IPython.core.display.HTML object>"
      ]
     },
     "metadata": {},
     "output_type": "display_data"
    },
    {
     "data": {
      "text/html": [
       "<div class=\"outeritem\">\n",
       "<div class=\"None  \" >\n",
       "\n",
       "    <div class=\"ll\">\n",
       "        <div class=\"line\"><a href=\"https://github.com/CambridgeSemiticsLab/nena_corpus/blob/master/texts/Barwar/The Monk And The Angel\" title=\"see this passage in its source document\" sec=\"Barwar\">Barwar</a></div>\n",
       "\n",
       "        <div class=\"features\"></div>\n",
       "    </div>\n",
       "\n",
       "</div>\n",
       "</div>"
      ],
      "text/plain": [
       "<IPython.core.display.HTML object>"
      ]
     },
     "metadata": {},
     "output_type": "display_data"
    },
    {
     "data": {
      "text/html": [
       "<a href=\"https://github.com/CambridgeSemiticsLab/nena_corpus/blob/master/texts/Barwar/THE TALE OF NASIMO\" title=\"see this passage in its source document\" sec=\"Barwar, THE TALE OF NASIMO, Ln. 2\">Barwar, THE TALE OF NASIMO, Ln. 2</a>\n",
       "<div class=\"outeritem\">\n",
       "<div class=\"macro  \" >\n",
       "<div class=\"features\"></div>\n",
       "<div class=\"prosa  \" >\n",
       "<div class=\"features\"></div>\n",
       "<div class=\"word  \" >\n",
       "<div class=\"ara\">ʾánna </div>\n",
       "<div class=\"features\"></div>\n",
       "</div>\n",
       "<div class=\"word  hl\" >\n",
       "<div class=\"ara\">xonăwáθa </div>\n",
       "<div class=\"features\"></div>\n",
       "</div>\n",
       "<div class=\"word  hl\" >\n",
       "<div class=\"ara\">là-θela.ˈ </div>\n",
       "<div class=\"features\"></div>\n",
       "</div>\n",
       "</div>\n",
       "</div>\n",
       "</div>"
      ],
      "text/plain": [
       "<IPython.core.display.HTML object>"
      ]
     },
     "metadata": {},
     "output_type": "display_data"
    },
    {
     "data": {
      "text/html": [
       "<p><b>result</b> <i>33</i></p>"
      ],
      "text/plain": [
       "<IPython.core.display.HTML object>"
      ]
     },
     "metadata": {},
     "output_type": "display_data"
    },
    {
     "data": {
      "text/html": [
       "<div class=\"outeritem\">\n",
       "<div class=\"None  \" >\n",
       "\n",
       "    <div class=\"ll\">\n",
       "        <div class=\"line\"><a href=\"https://github.com/CambridgeSemiticsLab/nena_corpus/blob/master/texts/Barwar/The Monk And The Angel\" title=\"see this passage in its source document\" sec=\"Barwar\">Barwar</a></div>\n",
       "\n",
       "        <div class=\"features\"></div>\n",
       "    </div>\n",
       "\n",
       "</div>\n",
       "</div>"
      ],
      "text/plain": [
       "<IPython.core.display.HTML object>"
      ]
     },
     "metadata": {},
     "output_type": "display_data"
    },
    {
     "data": {
      "text/html": [
       "<a href=\"https://github.com/CambridgeSemiticsLab/nena_corpus/blob/master/texts/Barwar/ŠOŠƏT XERE\" title=\"see this passage in its source document\" sec=\"Barwar, ŠOŠƏT XERE, Ln. 3\">Barwar, ŠOŠƏT XERE, Ln. 3</a>\n",
       "<div class=\"outeritem\">\n",
       "<div class=\"macro  \" >\n",
       "<div class=\"features\"></div>\n",
       "<div class=\"prosa  \" >\n",
       "<div class=\"features\"></div>\n",
       "<div class=\"word  hl\" >\n",
       "<div class=\"ara\">zílla </div>\n",
       "<div class=\"features\"></div>\n",
       "</div>\n",
       "<div class=\"word  \" >\n",
       "<div class=\"ara\">qəm-qaṭlàlaˈ </div>\n",
       "<div class=\"features\"></div>\n",
       "</div>\n",
       "</div>\n",
       "<div class=\"prosa  \" >\n",
       "<div class=\"features\"></div>\n",
       "<div class=\"word  \" >\n",
       "<div class=\"ara\">Šóšət </div>\n",
       "<div class=\"features\"></div>\n",
       "</div>\n",
       "<div class=\"word  \" >\n",
       "<div class=\"ara\">Xère,ˈ </div>\n",
       "<div class=\"features\"></div>\n",
       "</div>\n",
       "</div>\n",
       "<div class=\"prosa  \" >\n",
       "<div class=\"features\"></div>\n",
       "<div class=\"word  \" >\n",
       "<div class=\"ara\">qəm-mṭamrála </div>\n",
       "<div class=\"features\"></div>\n",
       "</div>\n",
       "<div class=\"word  \" >\n",
       "<div class=\"ara\">gu-ʾòrət </div>\n",
       "<div class=\"features\"></div>\n",
       "</div>\n",
       "<div class=\"word  hl\" >\n",
       "<div class=\"ara\">susăwáθa </div>\n",
       "<div class=\"features\"></div>\n",
       "</div>\n",
       "<div class=\"word  \" >\n",
       "<div class=\"ara\">ʾə́ltəx.ˈ</div>\n",
       "<div class=\"features\"></div>\n",
       "</div>\n",
       "</div>\n",
       "</div>\n",
       "</div>"
      ],
      "text/plain": [
       "<IPython.core.display.HTML object>"
      ]
     },
     "metadata": {},
     "output_type": "display_data"
    },
    {
     "data": {
      "text/html": [
       "<p><b>result</b> <i>34</i></p>"
      ],
      "text/plain": [
       "<IPython.core.display.HTML object>"
      ]
     },
     "metadata": {},
     "output_type": "display_data"
    },
    {
     "data": {
      "text/html": [
       "<div class=\"outeritem\">\n",
       "<div class=\"None  \" >\n",
       "\n",
       "    <div class=\"ll\">\n",
       "        <div class=\"line\"><a href=\"https://github.com/CambridgeSemiticsLab/nena_corpus/blob/master/texts/Barwar/The Monk And The Angel\" title=\"see this passage in its source document\" sec=\"Barwar\">Barwar</a></div>\n",
       "\n",
       "        <div class=\"features\"></div>\n",
       "    </div>\n",
       "\n",
       "</div>\n",
       "</div>"
      ],
      "text/plain": [
       "<IPython.core.display.HTML object>"
      ]
     },
     "metadata": {},
     "output_type": "display_data"
    },
    {
     "data": {
      "text/html": [
       "<a href=\"https://github.com/CambridgeSemiticsLab/nena_corpus/blob/master/texts/Barwar/ŠOŠƏT XERE\" title=\"see this passage in its source document\" sec=\"Barwar, ŠOŠƏT XERE, Ln. 3\">Barwar, ŠOŠƏT XERE, Ln. 3</a>\n",
       "<div class=\"outeritem\">\n",
       "<div class=\"macro  \" >\n",
       "<div class=\"features\"></div>\n",
       "<div class=\"prosa  \" >\n",
       "<div class=\"features\"></div>\n",
       "<div class=\"word  \" >\n",
       "<div class=\"ara\">zílla </div>\n",
       "<div class=\"features\"></div>\n",
       "</div>\n",
       "<div class=\"word  hl\" >\n",
       "<div class=\"ara\">qəm-qaṭlàlaˈ </div>\n",
       "<div class=\"features\"></div>\n",
       "</div>\n",
       "</div>\n",
       "<div class=\"prosa  \" >\n",
       "<div class=\"features\"></div>\n",
       "<div class=\"word  \" >\n",
       "<div class=\"ara\">Šóšət </div>\n",
       "<div class=\"features\"></div>\n",
       "</div>\n",
       "<div class=\"word  \" >\n",
       "<div class=\"ara\">Xère,ˈ </div>\n",
       "<div class=\"features\"></div>\n",
       "</div>\n",
       "</div>\n",
       "<div class=\"prosa  \" >\n",
       "<div class=\"features\"></div>\n",
       "<div class=\"word  \" >\n",
       "<div class=\"ara\">qəm-mṭamrála </div>\n",
       "<div class=\"features\"></div>\n",
       "</div>\n",
       "<div class=\"word  \" >\n",
       "<div class=\"ara\">gu-ʾòrət </div>\n",
       "<div class=\"features\"></div>\n",
       "</div>\n",
       "<div class=\"word  hl\" >\n",
       "<div class=\"ara\">susăwáθa </div>\n",
       "<div class=\"features\"></div>\n",
       "</div>\n",
       "<div class=\"word  \" >\n",
       "<div class=\"ara\">ʾə́ltəx.ˈ</div>\n",
       "<div class=\"features\"></div>\n",
       "</div>\n",
       "</div>\n",
       "</div>\n",
       "</div>"
      ],
      "text/plain": [
       "<IPython.core.display.HTML object>"
      ]
     },
     "metadata": {},
     "output_type": "display_data"
    },
    {
     "data": {
      "text/html": [
       "<p><b>result</b> <i>35</i></p>"
      ],
      "text/plain": [
       "<IPython.core.display.HTML object>"
      ]
     },
     "metadata": {},
     "output_type": "display_data"
    },
    {
     "data": {
      "text/html": [
       "<div class=\"outeritem\">\n",
       "<div class=\"None  \" >\n",
       "\n",
       "    <div class=\"ll\">\n",
       "        <div class=\"line\"><a href=\"https://github.com/CambridgeSemiticsLab/nena_corpus/blob/master/texts/Barwar/The Monk And The Angel\" title=\"see this passage in its source document\" sec=\"Barwar\">Barwar</a></div>\n",
       "\n",
       "        <div class=\"features\"></div>\n",
       "    </div>\n",
       "\n",
       "</div>\n",
       "</div>"
      ],
      "text/plain": [
       "<IPython.core.display.HTML object>"
      ]
     },
     "metadata": {},
     "output_type": "display_data"
    },
    {
     "data": {
      "text/html": [
       "<a href=\"https://github.com/CambridgeSemiticsLab/nena_corpus/blob/master/texts/Barwar/ŠOŠƏT XERE\" title=\"see this passage in its source document\" sec=\"Barwar, ŠOŠƏT XERE, Ln. 3\">Barwar, ŠOŠƏT XERE, Ln. 3</a>\n",
       "<div class=\"outeritem\">\n",
       "<div class=\"macro  \" >\n",
       "<div class=\"features\"></div>\n",
       "<div class=\"prosa  \" >\n",
       "<div class=\"features\"></div>\n",
       "<div class=\"word  \" >\n",
       "<div class=\"ara\">zílla </div>\n",
       "<div class=\"features\"></div>\n",
       "</div>\n",
       "<div class=\"word  \" >\n",
       "<div class=\"ara\">qəm-qaṭlàlaˈ </div>\n",
       "<div class=\"features\"></div>\n",
       "</div>\n",
       "</div>\n",
       "<div class=\"prosa  \" >\n",
       "<div class=\"features\"></div>\n",
       "<div class=\"word  \" >\n",
       "<div class=\"ara\">Šóšət </div>\n",
       "<div class=\"features\"></div>\n",
       "</div>\n",
       "<div class=\"word  \" >\n",
       "<div class=\"ara\">Xère,ˈ </div>\n",
       "<div class=\"features\"></div>\n",
       "</div>\n",
       "</div>\n",
       "<div class=\"prosa  \" >\n",
       "<div class=\"features\"></div>\n",
       "<div class=\"word  hl\" >\n",
       "<div class=\"ara\">qəm-mṭamrála </div>\n",
       "<div class=\"features\"></div>\n",
       "</div>\n",
       "<div class=\"word  \" >\n",
       "<div class=\"ara\">gu-ʾòrət </div>\n",
       "<div class=\"features\"></div>\n",
       "</div>\n",
       "<div class=\"word  hl\" >\n",
       "<div class=\"ara\">susăwáθa </div>\n",
       "<div class=\"features\"></div>\n",
       "</div>\n",
       "<div class=\"word  \" >\n",
       "<div class=\"ara\">ʾə́ltəx.ˈ</div>\n",
       "<div class=\"features\"></div>\n",
       "</div>\n",
       "</div>\n",
       "</div>\n",
       "</div>"
      ],
      "text/plain": [
       "<IPython.core.display.HTML object>"
      ]
     },
     "metadata": {},
     "output_type": "display_data"
    },
    {
     "data": {
      "text/html": [
       "<p><b>result</b> <i>36</i></p>"
      ],
      "text/plain": [
       "<IPython.core.display.HTML object>"
      ]
     },
     "metadata": {},
     "output_type": "display_data"
    },
    {
     "data": {
      "text/html": [
       "<div class=\"outeritem\">\n",
       "<div class=\"None  \" >\n",
       "\n",
       "    <div class=\"ll\">\n",
       "        <div class=\"line\"><a href=\"https://github.com/CambridgeSemiticsLab/nena_corpus/blob/master/texts/Barwar/The Monk And The Angel\" title=\"see this passage in its source document\" sec=\"Barwar\">Barwar</a></div>\n",
       "\n",
       "        <div class=\"features\"></div>\n",
       "    </div>\n",
       "\n",
       "</div>\n",
       "</div>"
      ],
      "text/plain": [
       "<IPython.core.display.HTML object>"
      ]
     },
     "metadata": {},
     "output_type": "display_data"
    },
    {
     "data": {
      "text/html": [
       "<a href=\"https://github.com/CambridgeSemiticsLab/nena_corpus/blob/master/texts/Barwar/ŠOŠƏT XERE\" title=\"see this passage in its source document\" sec=\"Barwar, ŠOŠƏT XERE, Ln. 4\">Barwar, ŠOŠƏT XERE, Ln. 4</a>\n",
       "<div class=\"outeritem\">\n",
       "<div class=\"macro  \" >\n",
       "<div class=\"features\"></div>\n",
       "<div class=\"prosa  \" >\n",
       "<div class=\"features\"></div>\n",
       "<div class=\"word  hl\" >\n",
       "<div class=\"ara\">qəm-mṭamrála </div>\n",
       "<div class=\"features\"></div>\n",
       "</div>\n",
       "<div class=\"word  \" >\n",
       "<div class=\"ara\">gu-ʾórət </div>\n",
       "<div class=\"features\"></div>\n",
       "</div>\n",
       "<div class=\"word  hl\" >\n",
       "<div class=\"ara\">susăwàθa,ˈ </div>\n",
       "<div class=\"features\"></div>\n",
       "</div>\n",
       "</div>\n",
       "<div class=\"prosa  \" >\n",
       "<div class=\"features\"></div>\n",
       "<div class=\"word  \" >\n",
       "<div class=\"ara\">bróne </div>\n",
       "<div class=\"features\"></div>\n",
       "</div>\n",
       "<div class=\"word  \" >\n",
       "<div class=\"ara\">díye </div>\n",
       "<div class=\"features\"></div>\n",
       "</div>\n",
       "<div class=\"word  \" >\n",
       "<div class=\"ara\">θèle.ˈ </div>\n",
       "<div class=\"features\"></div>\n",
       "</div>\n",
       "</div>\n",
       "</div>\n",
       "</div>"
      ],
      "text/plain": [
       "<IPython.core.display.HTML object>"
      ]
     },
     "metadata": {},
     "output_type": "display_data"
    },
    {
     "data": {
      "text/html": [
       "<p><b>result</b> <i>37</i></p>"
      ],
      "text/plain": [
       "<IPython.core.display.HTML object>"
      ]
     },
     "metadata": {},
     "output_type": "display_data"
    },
    {
     "data": {
      "text/html": [
       "<div class=\"outeritem\">\n",
       "<div class=\"None  \" >\n",
       "\n",
       "    <div class=\"ll\">\n",
       "        <div class=\"line\"><a href=\"https://github.com/CambridgeSemiticsLab/nena_corpus/blob/master/texts/Barwar/The Monk And The Angel\" title=\"see this passage in its source document\" sec=\"Barwar\">Barwar</a></div>\n",
       "\n",
       "        <div class=\"features\"></div>\n",
       "    </div>\n",
       "\n",
       "</div>\n",
       "</div>"
      ],
      "text/plain": [
       "<IPython.core.display.HTML object>"
      ]
     },
     "metadata": {},
     "output_type": "display_data"
    },
    {
     "data": {
      "text/html": [
       "<a href=\"https://github.com/CambridgeSemiticsLab/nena_corpus/blob/master/texts/Barwar/BABY LELIΘA\" title=\"see this passage in its source document\" sec=\"Barwar, BABY LELIΘA, Ln. 11\">Barwar, BABY LELIΘA, Ln. 11</a>\n",
       "<div class=\"outeritem\">\n",
       "<div class=\"macro  \" >\n",
       "<div class=\"features\"></div>\n",
       "<div class=\"prosa  \" >\n",
       "<div class=\"features\"></div>\n",
       "<div class=\"word  hl\" >\n",
       "<div class=\"ara\">píšla </div>\n",
       "<div class=\"features\"></div>\n",
       "</div>\n",
       "<div class=\"word  \" >\n",
       "<div class=\"ara\">bábe-u </div>\n",
       "<div class=\"features\"></div>\n",
       "</div>\n",
       "<div class=\"word  \" >\n",
       "<div class=\"ara\">yə́mme-u </div>\n",
       "<div class=\"features\"></div>\n",
       "</div>\n",
       "<div class=\"word  hl\" >\n",
       "<div class=\"ara\">xonăwáθa </div>\n",
       "<div class=\"features\"></div>\n",
       "</div>\n",
       "<div class=\"word  \" >\n",
       "<div class=\"ara\">lɛ̀la </div>\n",
       "<div class=\"features\"></div>\n",
       "</div>\n",
       "<div class=\"word  \" >\n",
       "<div class=\"ara\">hămóne.ˈ </div>\n",
       "<div class=\"features\"></div>\n",
       "</div>\n",
       "</div>\n",
       "</div>\n",
       "</div>"
      ],
      "text/plain": [
       "<IPython.core.display.HTML object>"
      ]
     },
     "metadata": {},
     "output_type": "display_data"
    },
    {
     "data": {
      "text/html": [
       "<p><b>result</b> <i>38</i></p>"
      ],
      "text/plain": [
       "<IPython.core.display.HTML object>"
      ]
     },
     "metadata": {},
     "output_type": "display_data"
    },
    {
     "data": {
      "text/html": [
       "<div class=\"outeritem\">\n",
       "<div class=\"None  \" >\n",
       "\n",
       "    <div class=\"ll\">\n",
       "        <div class=\"line\"><a href=\"https://github.com/CambridgeSemiticsLab/nena_corpus/blob/master/texts/Barwar/The Monk And The Angel\" title=\"see this passage in its source document\" sec=\"Barwar\">Barwar</a></div>\n",
       "\n",
       "        <div class=\"features\"></div>\n",
       "    </div>\n",
       "\n",
       "</div>\n",
       "</div>"
      ],
      "text/plain": [
       "<IPython.core.display.HTML object>"
      ]
     },
     "metadata": {},
     "output_type": "display_data"
    },
    {
     "data": {
      "text/html": [
       "<a href=\"https://github.com/CambridgeSemiticsLab/nena_corpus/blob/master/texts/Barwar/BABY LELIΘA\" title=\"see this passage in its source document\" sec=\"Barwar, BABY LELIΘA, Ln. 11\">Barwar, BABY LELIΘA, Ln. 11</a>\n",
       "<div class=\"outeritem\">\n",
       "<div class=\"macro  \" >\n",
       "<div class=\"features\"></div>\n",
       "<div class=\"prosa  \" >\n",
       "<div class=\"features\"></div>\n",
       "<div class=\"word  \" >\n",
       "<div class=\"ara\">píšla </div>\n",
       "<div class=\"features\"></div>\n",
       "</div>\n",
       "<div class=\"word  \" >\n",
       "<div class=\"ara\">bábe-u </div>\n",
       "<div class=\"features\"></div>\n",
       "</div>\n",
       "<div class=\"word  \" >\n",
       "<div class=\"ara\">yə́mme-u </div>\n",
       "<div class=\"features\"></div>\n",
       "</div>\n",
       "<div class=\"word  hl\" >\n",
       "<div class=\"ara\">xonăwáθa </div>\n",
       "<div class=\"features\"></div>\n",
       "</div>\n",
       "<div class=\"word  hl\" >\n",
       "<div class=\"ara\">lɛ̀la </div>\n",
       "<div class=\"features\"></div>\n",
       "</div>\n",
       "<div class=\"word  \" >\n",
       "<div class=\"ara\">hămóne.ˈ </div>\n",
       "<div class=\"features\"></div>\n",
       "</div>\n",
       "</div>\n",
       "</div>\n",
       "</div>"
      ],
      "text/plain": [
       "<IPython.core.display.HTML object>"
      ]
     },
     "metadata": {},
     "output_type": "display_data"
    },
    {
     "data": {
      "text/html": [
       "<p><b>result</b> <i>39</i></p>"
      ],
      "text/plain": [
       "<IPython.core.display.HTML object>"
      ]
     },
     "metadata": {},
     "output_type": "display_data"
    },
    {
     "data": {
      "text/html": [
       "<div class=\"outeritem\">\n",
       "<div class=\"None  \" >\n",
       "\n",
       "    <div class=\"ll\">\n",
       "        <div class=\"line\"><a href=\"https://github.com/CambridgeSemiticsLab/nena_corpus/blob/master/texts/Barwar/The Monk And The Angel\" title=\"see this passage in its source document\" sec=\"Barwar\">Barwar</a></div>\n",
       "\n",
       "        <div class=\"features\"></div>\n",
       "    </div>\n",
       "\n",
       "</div>\n",
       "</div>"
      ],
      "text/plain": [
       "<IPython.core.display.HTML object>"
      ]
     },
     "metadata": {},
     "output_type": "display_data"
    },
    {
     "data": {
      "text/html": [
       "<a href=\"https://github.com/CambridgeSemiticsLab/nena_corpus/blob/master/texts/Barwar/A tale of a prince and a princess\" title=\"see this passage in its source document\" sec=\"Barwar, A tale of a prince and a princess, Ln. 10\">Barwar, A tale of a prince and a princess, Ln. 10</a>\n",
       "<div class=\"outeritem\">\n",
       "<div class=\"macro  \" >\n",
       "<div class=\"features\"></div>\n",
       "<div class=\"prosa  \" >\n",
       "<div class=\"features\"></div>\n",
       "<div class=\"word  \" >\n",
       "<div class=\"ara\">málka </div>\n",
       "<div class=\"features\"></div>\n",
       "</div>\n",
       "<div class=\"word  \" >\n",
       "<div class=\"ara\">mə́xyɛle </div>\n",
       "<div class=\"features\"></div>\n",
       "</div>\n",
       "<div class=\"word  \" >\n",
       "<div class=\"ara\">ʾíðe </div>\n",
       "<div class=\"features\"></div>\n",
       "</div>\n",
       "<div class=\"word  \" >\n",
       "<div class=\"ara\">l-gàneˈ </div>\n",
       "<div class=\"features\"></div>\n",
       "</div>\n",
       "</div>\n",
       "<div class=\"prosa  \" >\n",
       "<div class=\"features\"></div>\n",
       "<div class=\"word  \" >\n",
       "<div class=\"ara\">ʾu-zìlɛle,ˈ </div>\n",
       "<div class=\"features\"></div>\n",
       "</div>\n",
       "</div>\n",
       "<div class=\"prosa  \" >\n",
       "<div class=\"features\"></div>\n",
       "<div class=\"word  hl\" >\n",
       "<div class=\"ara\">núbla </div>\n",
       "<div class=\"features\"></div>\n",
       "</div>\n",
       "<div class=\"word  hl\" >\n",
       "<div class=\"ara\">xulamwàθa </div>\n",
       "<div class=\"features\"></div>\n",
       "</div>\n",
       "<div class=\"word  \" >\n",
       "<div class=\"ara\">mə́nneˈ </div>\n",
       "<div class=\"features\"></div>\n",
       "</div>\n",
       "</div>\n",
       "<div class=\"prosa  \" >\n",
       "<div class=\"features\"></div>\n",
       "<div class=\"word  \" >\n",
       "<div class=\"ara\">ʾu-nàše.ˈ </div>\n",
       "<div class=\"features\"></div>\n",
       "</div>\n",
       "</div>\n",
       "</div>\n",
       "</div>"
      ],
      "text/plain": [
       "<IPython.core.display.HTML object>"
      ]
     },
     "metadata": {},
     "output_type": "display_data"
    },
    {
     "data": {
      "text/html": [
       "<p><b>result</b> <i>40</i></p>"
      ],
      "text/plain": [
       "<IPython.core.display.HTML object>"
      ]
     },
     "metadata": {},
     "output_type": "display_data"
    },
    {
     "data": {
      "text/html": [
       "<div class=\"outeritem\">\n",
       "<div class=\"None  \" >\n",
       "\n",
       "    <div class=\"ll\">\n",
       "        <div class=\"line\"><a href=\"https://github.com/CambridgeSemiticsLab/nena_corpus/blob/master/texts/Barwar/The Monk And The Angel\" title=\"see this passage in its source document\" sec=\"Barwar\">Barwar</a></div>\n",
       "\n",
       "        <div class=\"features\"></div>\n",
       "    </div>\n",
       "\n",
       "</div>\n",
       "</div>"
      ],
      "text/plain": [
       "<IPython.core.display.HTML object>"
      ]
     },
     "metadata": {},
     "output_type": "display_data"
    },
    {
     "data": {
      "text/html": [
       "<a href=\"https://github.com/CambridgeSemiticsLab/nena_corpus/blob/master/texts/Barwar/THE GIRL AND THE SEVEN BROTHERS\" title=\"see this passage in its source document\" sec=\"Barwar, THE GIRL AND THE SEVEN BROTHERS, Ln. 14\">Barwar, THE GIRL AND THE SEVEN BROTHERS, Ln. 14</a>\n",
       "<div class=\"outeritem\">\n",
       "<div class=\"macro  \" >\n",
       "<div class=\"features\"></div>\n",
       "<div class=\"prosa  \" >\n",
       "<div class=\"features\"></div>\n",
       "<div class=\"word  hl\" >\n",
       "<div class=\"ara\">ʾay-mṭúšyəlla </div>\n",
       "<div class=\"features\"></div>\n",
       "</div>\n",
       "<div class=\"word  hl\" >\n",
       "<div class=\"ara\">xonăwàθa.ˈ </div>\n",
       "<div class=\"features\"></div>\n",
       "</div>\n",
       "</div>\n",
       "</div>\n",
       "</div>"
      ],
      "text/plain": [
       "<IPython.core.display.HTML object>"
      ]
     },
     "metadata": {},
     "output_type": "display_data"
    },
    {
     "data": {
      "text/html": [
       "<p><b>result</b> <i>41</i></p>"
      ],
      "text/plain": [
       "<IPython.core.display.HTML object>"
      ]
     },
     "metadata": {},
     "output_type": "display_data"
    },
    {
     "data": {
      "text/html": [
       "<div class=\"outeritem\">\n",
       "<div class=\"None  \" >\n",
       "\n",
       "    <div class=\"ll\">\n",
       "        <div class=\"line\"><a href=\"https://github.com/CambridgeSemiticsLab/nena_corpus/blob/master/texts/Barwar/The Monk And The Angel\" title=\"see this passage in its source document\" sec=\"Barwar\">Barwar</a></div>\n",
       "\n",
       "        <div class=\"features\"></div>\n",
       "    </div>\n",
       "\n",
       "</div>\n",
       "</div>"
      ],
      "text/plain": [
       "<IPython.core.display.HTML object>"
      ]
     },
     "metadata": {},
     "output_type": "display_data"
    },
    {
     "data": {
      "text/html": [
       "<a href=\"https://github.com/CambridgeSemiticsLab/nena_corpus/blob/master/texts/Barwar/TALES FROM THE 1001 NIGHTS\" title=\"see this passage in its source document\" sec=\"Barwar, TALES FROM THE 1001 NIGHTS, Ln. 29\">Barwar, TALES FROM THE 1001 NIGHTS, Ln. 29</a>\n",
       "<div class=\"outeritem\">\n",
       "<div class=\"macro  \" >\n",
       "<div class=\"features\"></div>\n",
       "<div class=\"prosa  \" >\n",
       "<div class=\"features\"></div>\n",
       "<div class=\"word  \" >\n",
       "<div class=\"ara\">wírɛle </div>\n",
       "<div class=\"features\"></div>\n",
       "</div>\n",
       "<div class=\"word  \" >\n",
       "<div class=\"ara\">gu-xà-ʾotəx </div>\n",
       "<div class=\"features\"></div>\n",
       "</div>\n",
       "<div class=\"word  \" >\n",
       "<div class=\"ara\">xétaˈ </div>\n",
       "<div class=\"features\"></div>\n",
       "</div>\n",
       "</div>\n",
       "<div class=\"prosa  \" >\n",
       "<div class=\"features\"></div>\n",
       "<div class=\"word  \" >\n",
       "<div class=\"ara\">gòṛtaˈ </div>\n",
       "<div class=\"features\"></div>\n",
       "</div>\n",
       "</div>\n",
       "<div class=\"prosa  \" >\n",
       "<div class=\"features\"></div>\n",
       "<div class=\"word  hl\" >\n",
       "<div class=\"ara\">hóla </div>\n",
       "<div class=\"features\"></div>\n",
       "</div>\n",
       "<div class=\"word  \" >\n",
       "<div class=\"ara\">xákma </div>\n",
       "<div class=\"features\"></div>\n",
       "</div>\n",
       "<div class=\"word  hl\" >\n",
       "<div class=\"ara\">kursăwàθaˈ </div>\n",
       "<div class=\"features\"></div>\n",
       "</div>\n",
       "</div>\n",
       "<div class=\"prosa  \" >\n",
       "<div class=\"features\"></div>\n",
       "<div class=\"word  \" >\n",
       "<div class=\"ara\">m-ày-gotaˈ </div>\n",
       "<div class=\"features\"></div>\n",
       "</div>\n",
       "</div>\n",
       "<div class=\"prosa  \" >\n",
       "<div class=\"features\"></div>\n",
       "<div class=\"word  \" >\n",
       "<div class=\"ara\">xákma </div>\n",
       "<div class=\"features\"></div>\n",
       "</div>\n",
       "<div class=\"word  \" >\n",
       "<div class=\"ara\">m-ày-gota,ˈ </div>\n",
       "<div class=\"features\"></div>\n",
       "</div>\n",
       "</div>\n",
       "<div class=\"prosa  \" >\n",
       "<div class=\"features\"></div>\n",
       "<div class=\"word  \" >\n",
       "<div class=\"ara\">ða-qănắpa </div>\n",
       "<div class=\"features\"></div>\n",
       "</div>\n",
       "<div class=\"word  \" >\n",
       "<div class=\"ara\">muttɛ́θa </div>\n",
       "<div class=\"features\"></div>\n",
       "</div>\n",
       "<div class=\"word  \" >\n",
       "<div class=\"ara\">tămàha.ˈ </div>\n",
       "<div class=\"features\"></div>\n",
       "</div>\n",
       "</div>\n",
       "</div>\n",
       "</div>"
      ],
      "text/plain": [
       "<IPython.core.display.HTML object>"
      ]
     },
     "metadata": {},
     "output_type": "display_data"
    },
    {
     "data": {
      "text/html": [
       "<p><b>result</b> <i>42</i></p>"
      ],
      "text/plain": [
       "<IPython.core.display.HTML object>"
      ]
     },
     "metadata": {},
     "output_type": "display_data"
    },
    {
     "data": {
      "text/html": [
       "<div class=\"outeritem\">\n",
       "<div class=\"None  \" >\n",
       "\n",
       "    <div class=\"ll\">\n",
       "        <div class=\"line\"><a href=\"https://github.com/CambridgeSemiticsLab/nena_corpus/blob/master/texts/Barwar/The Monk And The Angel\" title=\"see this passage in its source document\" sec=\"Barwar\">Barwar</a></div>\n",
       "\n",
       "        <div class=\"features\"></div>\n",
       "    </div>\n",
       "\n",
       "</div>\n",
       "</div>"
      ],
      "text/plain": [
       "<IPython.core.display.HTML object>"
      ]
     },
     "metadata": {},
     "output_type": "display_data"
    },
    {
     "data": {
      "text/html": [
       "<a href=\"https://github.com/CambridgeSemiticsLab/nena_corpus/blob/master/texts/Barwar/Gozali and Nozali\" title=\"see this passage in its source document\" sec=\"Barwar, Gozali and Nozali, Ln. 16\">Barwar, Gozali and Nozali, Ln. 16</a>\n",
       "<div class=\"outeritem\">\n",
       "<div class=\"macro  \" >\n",
       "<div class=\"features\"></div>\n",
       "<div class=\"prosa  \" >\n",
       "<div class=\"features\"></div>\n",
       "<div class=\"word  \" >\n",
       "<div class=\"ara\">mə́re </div>\n",
       "<div class=\"features\"></div>\n",
       "</div>\n",
       "<div class=\"word  \" >\n",
       "<div class=\"ara\">ʾánna </div>\n",
       "<div class=\"features\"></div>\n",
       "</div>\n",
       "<div class=\"word  \" >\n",
       "<div class=\"ara\">tre-yále </div>\n",
       "<div class=\"features\"></div>\n",
       "</div>\n",
       "<div class=\"word  \" >\n",
       "<div class=\"ara\">qəm-xazə̀nnaˈ </div>\n",
       "<div class=\"features\"></div>\n",
       "</div>\n",
       "</div>\n",
       "<div class=\"prosa  \" >\n",
       "<div class=\"features\"></div>\n",
       "<div class=\"word  hl\" >\n",
       "<div class=\"ara\">t-la </div>\n",
       "<div class=\"features\"></div>\n",
       "</div>\n",
       "<div class=\"word  hl\" >\n",
       "<div class=\"ara\">marwàθaˈ </div>\n",
       "<div class=\"features\"></div>\n",
       "</div>\n",
       "</div>\n",
       "<div class=\"prosa  \" >\n",
       "<div class=\"features\"></div>\n",
       "<div class=\"word  \" >\n",
       "<div class=\"ara\">ʾu-zə́dye </div>\n",
       "<div class=\"features\"></div>\n",
       "</div>\n",
       "<div class=\"word  \" >\n",
       "<div class=\"ara\">gu-d-áw </div>\n",
       "<div class=\"features\"></div>\n",
       "</div>\n",
       "<div class=\"word  \" >\n",
       "<div class=\"ara\">sandùqaˈ </div>\n",
       "<div class=\"features\"></div>\n",
       "</div>\n",
       "</div>\n",
       "<div class=\"prosa  \" >\n",
       "<div class=\"features\"></div>\n",
       "<div class=\"word  \" >\n",
       "<div class=\"ara\">ʾu-zə́dye </div>\n",
       "<div class=\"features\"></div>\n",
       "</div>\n",
       "<div class=\"word  \" >\n",
       "<div class=\"ara\">gu-d-áy </div>\n",
       "<div class=\"features\"></div>\n",
       "</div>\n",
       "<div class=\"word  \" >\n",
       "<div class=\"ara\">šaqìθa.ˈ </div>\n",
       "<div class=\"features\"></div>\n",
       "</div>\n",
       "</div>\n",
       "</div>\n",
       "</div>"
      ],
      "text/plain": [
       "<IPython.core.display.HTML object>"
      ]
     },
     "metadata": {},
     "output_type": "display_data"
    },
    {
     "data": {
      "text/html": [
       "<p><b>result</b> <i>43</i></p>"
      ],
      "text/plain": [
       "<IPython.core.display.HTML object>"
      ]
     },
     "metadata": {},
     "output_type": "display_data"
    },
    {
     "data": {
      "text/html": [
       "<div class=\"outeritem\">\n",
       "<div class=\"None  \" >\n",
       "\n",
       "    <div class=\"ll\">\n",
       "        <div class=\"line\"><a href=\"https://github.com/CambridgeSemiticsLab/nena_corpus/blob/master/texts/Barwar/The Monk And The Angel\" title=\"see this passage in its source document\" sec=\"Barwar\">Barwar</a></div>\n",
       "\n",
       "        <div class=\"features\"></div>\n",
       "    </div>\n",
       "\n",
       "</div>\n",
       "</div>"
      ],
      "text/plain": [
       "<IPython.core.display.HTML object>"
      ]
     },
     "metadata": {},
     "output_type": "display_data"
    },
    {
     "data": {
      "text/html": [
       "<a href=\"https://github.com/CambridgeSemiticsLab/nena_corpus/blob/master/texts/Barwar/Gozali and Nozali\" title=\"see this passage in its source document\" sec=\"Barwar, Gozali and Nozali, Ln. 18\">Barwar, Gozali and Nozali, Ln. 18</a>\n",
       "<div class=\"outeritem\">\n",
       "<div class=\"macro  \" >\n",
       "<div class=\"features\"></div>\n",
       "<div class=\"prosa  \" >\n",
       "<div class=\"features\"></div>\n",
       "<div class=\"word  \" >\n",
       "<div class=\"ara\">le-šóqən </div>\n",
       "<div class=\"features\"></div>\n",
       "</div>\n",
       "<div class=\"word  hl\" >\n",
       "<div class=\"ara\">lá </div>\n",
       "<div class=\"features\"></div>\n",
       "</div>\n",
       "<div class=\"word  hl\" >\n",
       "<div class=\"ara\">xolamwàθaˈ </div>\n",
       "<div class=\"features\"></div>\n",
       "</div>\n",
       "</div>\n",
       "<div class=\"prosa  \" >\n",
       "<div class=\"features\"></div>\n",
       "<div class=\"word  \" >\n",
       "<div class=\"ara\">wálla </div>\n",
       "<div class=\"features\"></div>\n",
       "</div>\n",
       "<div class=\"word  \" >\n",
       "<div class=\"ara\">ʾàtiˈ </div>\n",
       "<div class=\"features\"></div>\n",
       "</div>\n",
       "</div>\n",
       "<div class=\"prosa  \" >\n",
       "<div class=\"features\"></div>\n",
       "<div class=\"word  \" >\n",
       "<div class=\"ara\">wálla </div>\n",
       "<div class=\"features\"></div>\n",
       "</div>\n",
       "<div class=\"word  \" >\n",
       "<div class=\"ara\">yə̀mmiˈ </div>\n",
       "<div class=\"features\"></div>\n",
       "</div>\n",
       "</div>\n",
       "<div class=\"prosa  \" >\n",
       "<div class=\"features\"></div>\n",
       "<div class=\"word  \" >\n",
       "<div class=\"ara\">wálla </div>\n",
       "<div class=\"features\"></div>\n",
       "</div>\n",
       "<div class=\"word  \" >\n",
       "<div class=\"ara\">ču-nàša.ˈ </div>\n",
       "<div class=\"features\"></div>\n",
       "</div>\n",
       "</div>\n",
       "</div>\n",
       "</div>"
      ],
      "text/plain": [
       "<IPython.core.display.HTML object>"
      ]
     },
     "metadata": {},
     "output_type": "display_data"
    },
    {
     "data": {
      "text/html": [
       "<p><b>result</b> <i>44</i></p>"
      ],
      "text/plain": [
       "<IPython.core.display.HTML object>"
      ]
     },
     "metadata": {},
     "output_type": "display_data"
    },
    {
     "data": {
      "text/html": [
       "<div class=\"outeritem\">\n",
       "<div class=\"None  \" >\n",
       "\n",
       "    <div class=\"ll\">\n",
       "        <div class=\"line\"><a href=\"https://github.com/CambridgeSemiticsLab/nena_corpus/blob/master/texts/Barwar/The Monk And The Angel\" title=\"see this passage in its source document\" sec=\"Barwar\">Barwar</a></div>\n",
       "\n",
       "        <div class=\"features\"></div>\n",
       "    </div>\n",
       "\n",
       "</div>\n",
       "</div>"
      ],
      "text/plain": [
       "<IPython.core.display.HTML object>"
      ]
     },
     "metadata": {},
     "output_type": "display_data"
    },
    {
     "data": {
      "text/html": [
       "<a href=\"https://github.com/CambridgeSemiticsLab/nena_corpus/blob/master/texts/Barwar/Gozali and Nozali\" title=\"see this passage in its source document\" sec=\"Barwar, Gozali and Nozali, Ln. 18\">Barwar, Gozali and Nozali, Ln. 18</a>\n",
       "<div class=\"outeritem\">\n",
       "<div class=\"macro  \" >\n",
       "<div class=\"features\"></div>\n",
       "<div class=\"prosa  \" >\n",
       "<div class=\"features\"></div>\n",
       "<div class=\"word  \" >\n",
       "<div class=\"ara\">le-šóqən </div>\n",
       "<div class=\"features\"></div>\n",
       "</div>\n",
       "<div class=\"word  \" >\n",
       "<div class=\"ara\">lá </div>\n",
       "<div class=\"features\"></div>\n",
       "</div>\n",
       "<div class=\"word  hl\" >\n",
       "<div class=\"ara\">xolamwàθaˈ </div>\n",
       "<div class=\"features\"></div>\n",
       "</div>\n",
       "</div>\n",
       "<div class=\"prosa  \" >\n",
       "<div class=\"features\"></div>\n",
       "<div class=\"word  hl\" >\n",
       "<div class=\"ara\">wálla </div>\n",
       "<div class=\"features\"></div>\n",
       "</div>\n",
       "<div class=\"word  \" >\n",
       "<div class=\"ara\">ʾàtiˈ </div>\n",
       "<div class=\"features\"></div>\n",
       "</div>\n",
       "</div>\n",
       "<div class=\"prosa  \" >\n",
       "<div class=\"features\"></div>\n",
       "<div class=\"word  \" >\n",
       "<div class=\"ara\">wálla </div>\n",
       "<div class=\"features\"></div>\n",
       "</div>\n",
       "<div class=\"word  \" >\n",
       "<div class=\"ara\">yə̀mmiˈ </div>\n",
       "<div class=\"features\"></div>\n",
       "</div>\n",
       "</div>\n",
       "<div class=\"prosa  \" >\n",
       "<div class=\"features\"></div>\n",
       "<div class=\"word  \" >\n",
       "<div class=\"ara\">wálla </div>\n",
       "<div class=\"features\"></div>\n",
       "</div>\n",
       "<div class=\"word  \" >\n",
       "<div class=\"ara\">ču-nàša.ˈ </div>\n",
       "<div class=\"features\"></div>\n",
       "</div>\n",
       "</div>\n",
       "</div>\n",
       "</div>"
      ],
      "text/plain": [
       "<IPython.core.display.HTML object>"
      ]
     },
     "metadata": {},
     "output_type": "display_data"
    },
    {
     "data": {
      "text/html": [
       "<p><b>result</b> <i>45</i></p>"
      ],
      "text/plain": [
       "<IPython.core.display.HTML object>"
      ]
     },
     "metadata": {},
     "output_type": "display_data"
    },
    {
     "data": {
      "text/html": [
       "<div class=\"outeritem\">\n",
       "<div class=\"None  \" >\n",
       "\n",
       "    <div class=\"ll\">\n",
       "        <div class=\"line\"><a href=\"https://github.com/CambridgeSemiticsLab/nena_corpus/blob/master/texts/Barwar/The Monk And The Angel\" title=\"see this passage in its source document\" sec=\"Barwar\">Barwar</a></div>\n",
       "\n",
       "        <div class=\"features\"></div>\n",
       "    </div>\n",
       "\n",
       "</div>\n",
       "</div>"
      ],
      "text/plain": [
       "<IPython.core.display.HTML object>"
      ]
     },
     "metadata": {},
     "output_type": "display_data"
    },
    {
     "data": {
      "text/html": [
       "<a href=\"https://github.com/CambridgeSemiticsLab/nena_corpus/blob/master/texts/Barwar/Gozali and Nozali\" title=\"see this passage in its source document\" sec=\"Barwar, Gozali and Nozali, Ln. 18\">Barwar, Gozali and Nozali, Ln. 18</a>\n",
       "<div class=\"outeritem\">\n",
       "<div class=\"macro  \" >\n",
       "<div class=\"features\"></div>\n",
       "<div class=\"prosa  \" >\n",
       "<div class=\"features\"></div>\n",
       "<div class=\"word  \" >\n",
       "<div class=\"ara\">le-šóqən </div>\n",
       "<div class=\"features\"></div>\n",
       "</div>\n",
       "<div class=\"word  \" >\n",
       "<div class=\"ara\">lá </div>\n",
       "<div class=\"features\"></div>\n",
       "</div>\n",
       "<div class=\"word  hl\" >\n",
       "<div class=\"ara\">xolamwàθaˈ </div>\n",
       "<div class=\"features\"></div>\n",
       "</div>\n",
       "</div>\n",
       "<div class=\"prosa  \" >\n",
       "<div class=\"features\"></div>\n",
       "<div class=\"word  \" >\n",
       "<div class=\"ara\">wálla </div>\n",
       "<div class=\"features\"></div>\n",
       "</div>\n",
       "<div class=\"word  \" >\n",
       "<div class=\"ara\">ʾàtiˈ </div>\n",
       "<div class=\"features\"></div>\n",
       "</div>\n",
       "</div>\n",
       "<div class=\"prosa  \" >\n",
       "<div class=\"features\"></div>\n",
       "<div class=\"word  hl\" >\n",
       "<div class=\"ara\">wálla </div>\n",
       "<div class=\"features\"></div>\n",
       "</div>\n",
       "<div class=\"word  \" >\n",
       "<div class=\"ara\">yə̀mmiˈ </div>\n",
       "<div class=\"features\"></div>\n",
       "</div>\n",
       "</div>\n",
       "<div class=\"prosa  \" >\n",
       "<div class=\"features\"></div>\n",
       "<div class=\"word  \" >\n",
       "<div class=\"ara\">wálla </div>\n",
       "<div class=\"features\"></div>\n",
       "</div>\n",
       "<div class=\"word  \" >\n",
       "<div class=\"ara\">ču-nàša.ˈ </div>\n",
       "<div class=\"features\"></div>\n",
       "</div>\n",
       "</div>\n",
       "</div>\n",
       "</div>"
      ],
      "text/plain": [
       "<IPython.core.display.HTML object>"
      ]
     },
     "metadata": {},
     "output_type": "display_data"
    },
    {
     "data": {
      "text/html": [
       "<p><b>result</b> <i>46</i></p>"
      ],
      "text/plain": [
       "<IPython.core.display.HTML object>"
      ]
     },
     "metadata": {},
     "output_type": "display_data"
    },
    {
     "data": {
      "text/html": [
       "<div class=\"outeritem\">\n",
       "<div class=\"None  \" >\n",
       "\n",
       "    <div class=\"ll\">\n",
       "        <div class=\"line\"><a href=\"https://github.com/CambridgeSemiticsLab/nena_corpus/blob/master/texts/Barwar/The Monk And The Angel\" title=\"see this passage in its source document\" sec=\"Barwar\">Barwar</a></div>\n",
       "\n",
       "        <div class=\"features\"></div>\n",
       "    </div>\n",
       "\n",
       "</div>\n",
       "</div>"
      ],
      "text/plain": [
       "<IPython.core.display.HTML object>"
      ]
     },
     "metadata": {},
     "output_type": "display_data"
    },
    {
     "data": {
      "text/html": [
       "<a href=\"https://github.com/CambridgeSemiticsLab/nena_corpus/blob/master/texts/Barwar/Gozali and Nozali\" title=\"see this passage in its source document\" sec=\"Barwar, Gozali and Nozali, Ln. 18\">Barwar, Gozali and Nozali, Ln. 18</a>\n",
       "<div class=\"outeritem\">\n",
       "<div class=\"macro  \" >\n",
       "<div class=\"features\"></div>\n",
       "<div class=\"prosa  \" >\n",
       "<div class=\"features\"></div>\n",
       "<div class=\"word  \" >\n",
       "<div class=\"ara\">le-šóqən </div>\n",
       "<div class=\"features\"></div>\n",
       "</div>\n",
       "<div class=\"word  \" >\n",
       "<div class=\"ara\">lá </div>\n",
       "<div class=\"features\"></div>\n",
       "</div>\n",
       "<div class=\"word  hl\" >\n",
       "<div class=\"ara\">xolamwàθaˈ </div>\n",
       "<div class=\"features\"></div>\n",
       "</div>\n",
       "</div>\n",
       "<div class=\"prosa  \" >\n",
       "<div class=\"features\"></div>\n",
       "<div class=\"word  \" >\n",
       "<div class=\"ara\">wálla </div>\n",
       "<div class=\"features\"></div>\n",
       "</div>\n",
       "<div class=\"word  \" >\n",
       "<div class=\"ara\">ʾàtiˈ </div>\n",
       "<div class=\"features\"></div>\n",
       "</div>\n",
       "</div>\n",
       "<div class=\"prosa  \" >\n",
       "<div class=\"features\"></div>\n",
       "<div class=\"word  \" >\n",
       "<div class=\"ara\">wálla </div>\n",
       "<div class=\"features\"></div>\n",
       "</div>\n",
       "<div class=\"word  \" >\n",
       "<div class=\"ara\">yə̀mmiˈ </div>\n",
       "<div class=\"features\"></div>\n",
       "</div>\n",
       "</div>\n",
       "<div class=\"prosa  \" >\n",
       "<div class=\"features\"></div>\n",
       "<div class=\"word  hl\" >\n",
       "<div class=\"ara\">wálla </div>\n",
       "<div class=\"features\"></div>\n",
       "</div>\n",
       "<div class=\"word  \" >\n",
       "<div class=\"ara\">ču-nàša.ˈ </div>\n",
       "<div class=\"features\"></div>\n",
       "</div>\n",
       "</div>\n",
       "</div>\n",
       "</div>"
      ],
      "text/plain": [
       "<IPython.core.display.HTML object>"
      ]
     },
     "metadata": {},
     "output_type": "display_data"
    },
    {
     "data": {
      "text/html": [
       "<p><b>result</b> <i>47</i></p>"
      ],
      "text/plain": [
       "<IPython.core.display.HTML object>"
      ]
     },
     "metadata": {},
     "output_type": "display_data"
    },
    {
     "data": {
      "text/html": [
       "<div class=\"outeritem\">\n",
       "<div class=\"None  \" >\n",
       "\n",
       "    <div class=\"ll\">\n",
       "        <div class=\"line\"><a href=\"https://github.com/CambridgeSemiticsLab/nena_corpus/blob/master/texts/Barwar/The Monk And The Angel\" title=\"see this passage in its source document\" sec=\"Barwar\">Barwar</a></div>\n",
       "\n",
       "        <div class=\"features\"></div>\n",
       "    </div>\n",
       "\n",
       "</div>\n",
       "</div>"
      ],
      "text/plain": [
       "<IPython.core.display.HTML object>"
      ]
     },
     "metadata": {},
     "output_type": "display_data"
    },
    {
     "data": {
      "text/html": [
       "<a href=\"https://github.com/CambridgeSemiticsLab/nena_corpus/blob/master/texts/Barwar/Gozali and Nozali\" title=\"see this passage in its source document\" sec=\"Barwar, Gozali and Nozali, Ln. 53\">Barwar, Gozali and Nozali, Ln. 53</a>\n",
       "<div class=\"outeritem\">\n",
       "<div class=\"macro  \" >\n",
       "<div class=\"features\"></div>\n",
       "<div class=\"prosa  \" >\n",
       "<div class=\"features\"></div>\n",
       "<div class=\"word  \" >\n",
       "<div class=\"ara\">muttɛ́le </div>\n",
       "<div class=\"features\"></div>\n",
       "</div>\n",
       "<div class=\"word  hl\" >\n",
       "<div class=\"ara\">bála </div>\n",
       "<div class=\"features\"></div>\n",
       "</div>\n",
       "<div class=\"word  hl\" >\n",
       "<div class=\"ara\">b-an-ʾaskarwàθa.ˈ </div>\n",
       "<div class=\"features\"></div>\n",
       "</div>\n",
       "</div>\n",
       "</div>\n",
       "</div>"
      ],
      "text/plain": [
       "<IPython.core.display.HTML object>"
      ]
     },
     "metadata": {},
     "output_type": "display_data"
    },
    {
     "data": {
      "text/html": [
       "<p><b>result</b> <i>48</i></p>"
      ],
      "text/plain": [
       "<IPython.core.display.HTML object>"
      ]
     },
     "metadata": {},
     "output_type": "display_data"
    },
    {
     "data": {
      "text/html": [
       "<div class=\"outeritem\">\n",
       "<div class=\"None  \" >\n",
       "\n",
       "    <div class=\"ll\">\n",
       "        <div class=\"line\"><a href=\"https://github.com/CambridgeSemiticsLab/nena_corpus/blob/master/texts/Barwar/The Monk And The Angel\" title=\"see this passage in its source document\" sec=\"Barwar\">Barwar</a></div>\n",
       "\n",
       "        <div class=\"features\"></div>\n",
       "    </div>\n",
       "\n",
       "</div>\n",
       "</div>"
      ],
      "text/plain": [
       "<IPython.core.display.HTML object>"
      ]
     },
     "metadata": {},
     "output_type": "display_data"
    },
    {
     "data": {
      "text/html": [
       "<a href=\"https://github.com/CambridgeSemiticsLab/nena_corpus/blob/master/texts/Barwar/Gozali and Nozali\" title=\"see this passage in its source document\" sec=\"Barwar, Gozali and Nozali, Ln. 53\">Barwar, Gozali and Nozali, Ln. 53</a>\n",
       "<div class=\"outeritem\">\n",
       "<div class=\"macro  \" >\n",
       "<div class=\"features\"></div>\n",
       "<div class=\"prosa  \" >\n",
       "<div class=\"features\"></div>\n",
       "<div class=\"word  hl\" >\n",
       "<div class=\"ara\">kúlla </div>\n",
       "<div class=\"features\"></div>\n",
       "</div>\n",
       "<div class=\"word  hl\" >\n",
       "<div class=\"ara\">ʾaskarwáθa </div>\n",
       "<div class=\"features\"></div>\n",
       "</div>\n",
       "<div class=\"word  \" >\n",
       "<div class=\"ara\">píše </div>\n",
       "<div class=\"features\"></div>\n",
       "</div>\n",
       "<div class=\"word  \" >\n",
       "<div class=\"ara\">kèpa.ˈ</div>\n",
       "<div class=\"features\"></div>\n",
       "</div>\n",
       "</div>\n",
       "</div>\n",
       "</div>"
      ],
      "text/plain": [
       "<IPython.core.display.HTML object>"
      ]
     },
     "metadata": {},
     "output_type": "display_data"
    },
    {
     "data": {
      "text/html": [
       "<p><b>result</b> <i>49</i></p>"
      ],
      "text/plain": [
       "<IPython.core.display.HTML object>"
      ]
     },
     "metadata": {},
     "output_type": "display_data"
    },
    {
     "data": {
      "text/html": [
       "<div class=\"outeritem\">\n",
       "<div class=\"None  \" >\n",
       "\n",
       "    <div class=\"ll\">\n",
       "        <div class=\"line\"><a href=\"https://github.com/CambridgeSemiticsLab/nena_corpus/blob/master/texts/Barwar/The Monk And The Angel\" title=\"see this passage in its source document\" sec=\"Barwar\">Barwar</a></div>\n",
       "\n",
       "        <div class=\"features\"></div>\n",
       "    </div>\n",
       "\n",
       "</div>\n",
       "</div>"
      ],
      "text/plain": [
       "<IPython.core.display.HTML object>"
      ]
     },
     "metadata": {},
     "output_type": "display_data"
    },
    {
     "data": {
      "text/html": [
       "<a href=\"https://github.com/CambridgeSemiticsLab/nena_corpus/blob/master/texts/Barwar/THE LELIΘA FROM Č̭ĀL\" title=\"see this passage in its source document\" sec=\"Barwar, THE LELIΘA FROM Č̭ĀL, Ln. 1\">Barwar, THE LELIΘA FROM Č̭ĀL, Ln. 1</a>\n",
       "<div class=\"outeritem\">\n",
       "<div class=\"macro  \" >\n",
       "<div class=\"features\"></div>\n",
       "<div class=\"prosa  \" >\n",
       "<div class=\"features\"></div>\n",
       "<div class=\"word  hl\" >\n",
       "<div class=\"ara\">ṣléla </div>\n",
       "<div class=\"features\"></div>\n",
       "</div>\n",
       "<div class=\"word  \" >\n",
       "<div class=\"ara\">dréla </div>\n",
       "<div class=\"features\"></div>\n",
       "</div>\n",
       "<div class=\"word  \" >\n",
       "<div class=\"ara\">šlàmaˈ </div>\n",
       "<div class=\"features\"></div>\n",
       "</div>\n",
       "</div>\n",
       "<div class=\"prosa  \" >\n",
       "<div class=\"features\"></div>\n",
       "<div class=\"word  \" >\n",
       "<div class=\"ara\">mə́re </div>\n",
       "<div class=\"features\"></div>\n",
       "</div>\n",
       "<div class=\"word  \" >\n",
       "<div class=\"ara\">b-šɛ́na </div>\n",
       "<div class=\"features\"></div>\n",
       "</div>\n",
       "<div class=\"word  hl\" >\n",
       "<div class=\"ara\">b-ṭawàθa.ˈ</div>\n",
       "<div class=\"features\"></div>\n",
       "</div>\n",
       "</div>\n",
       "</div>\n",
       "</div>"
      ],
      "text/plain": [
       "<IPython.core.display.HTML object>"
      ]
     },
     "metadata": {},
     "output_type": "display_data"
    },
    {
     "data": {
      "text/html": [
       "<p><b>result</b> <i>50</i></p>"
      ],
      "text/plain": [
       "<IPython.core.display.HTML object>"
      ]
     },
     "metadata": {},
     "output_type": "display_data"
    },
    {
     "data": {
      "text/html": [
       "<div class=\"outeritem\">\n",
       "<div class=\"None  \" >\n",
       "\n",
       "    <div class=\"ll\">\n",
       "        <div class=\"line\"><a href=\"https://github.com/CambridgeSemiticsLab/nena_corpus/blob/master/texts/Barwar/The Monk And The Angel\" title=\"see this passage in its source document\" sec=\"Barwar\">Barwar</a></div>\n",
       "\n",
       "        <div class=\"features\"></div>\n",
       "    </div>\n",
       "\n",
       "</div>\n",
       "</div>"
      ],
      "text/plain": [
       "<IPython.core.display.HTML object>"
      ]
     },
     "metadata": {},
     "output_type": "display_data"
    },
    {
     "data": {
      "text/html": [
       "<a href=\"https://github.com/CambridgeSemiticsLab/nena_corpus/blob/master/texts/Barwar/THE LELIΘA FROM Č̭ĀL\" title=\"see this passage in its source document\" sec=\"Barwar, THE LELIΘA FROM Č̭ĀL, Ln. 1\">Barwar, THE LELIΘA FROM Č̭ĀL, Ln. 1</a>\n",
       "<div class=\"outeritem\">\n",
       "<div class=\"macro  \" >\n",
       "<div class=\"features\"></div>\n",
       "<div class=\"prosa  \" >\n",
       "<div class=\"features\"></div>\n",
       "<div class=\"word  \" >\n",
       "<div class=\"ara\">ṣléla </div>\n",
       "<div class=\"features\"></div>\n",
       "</div>\n",
       "<div class=\"word  hl\" >\n",
       "<div class=\"ara\">dréla </div>\n",
       "<div class=\"features\"></div>\n",
       "</div>\n",
       "<div class=\"word  \" >\n",
       "<div class=\"ara\">šlàmaˈ </div>\n",
       "<div class=\"features\"></div>\n",
       "</div>\n",
       "</div>\n",
       "<div class=\"prosa  \" >\n",
       "<div class=\"features\"></div>\n",
       "<div class=\"word  \" >\n",
       "<div class=\"ara\">mə́re </div>\n",
       "<div class=\"features\"></div>\n",
       "</div>\n",
       "<div class=\"word  \" >\n",
       "<div class=\"ara\">b-šɛ́na </div>\n",
       "<div class=\"features\"></div>\n",
       "</div>\n",
       "<div class=\"word  hl\" >\n",
       "<div class=\"ara\">b-ṭawàθa.ˈ</div>\n",
       "<div class=\"features\"></div>\n",
       "</div>\n",
       "</div>\n",
       "</div>\n",
       "</div>"
      ],
      "text/plain": [
       "<IPython.core.display.HTML object>"
      ]
     },
     "metadata": {},
     "output_type": "display_data"
    },
    {
     "data": {
      "text/html": [
       "<p><b>result</b> <i>51</i></p>"
      ],
      "text/plain": [
       "<IPython.core.display.HTML object>"
      ]
     },
     "metadata": {},
     "output_type": "display_data"
    },
    {
     "data": {
      "text/html": [
       "<div class=\"outeritem\">\n",
       "<div class=\"None  \" >\n",
       "\n",
       "    <div class=\"ll\">\n",
       "        <div class=\"line\"><a href=\"https://github.com/CambridgeSemiticsLab/nena_corpus/blob/master/texts/Barwar/The Monk And The Angel\" title=\"see this passage in its source document\" sec=\"Barwar\">Barwar</a></div>\n",
       "\n",
       "        <div class=\"features\"></div>\n",
       "    </div>\n",
       "\n",
       "</div>\n",
       "</div>"
      ],
      "text/plain": [
       "<IPython.core.display.HTML object>"
      ]
     },
     "metadata": {},
     "output_type": "display_data"
    },
    {
     "data": {
      "text/html": [
       "<a href=\"https://github.com/CambridgeSemiticsLab/nena_corpus/blob/master/texts/Barwar/THE TALE OF MĂMO AND ZINE\" title=\"see this passage in its source document\" sec=\"Barwar, THE TALE OF MĂMO AND ZINE, Ln. 21\">Barwar, THE TALE OF MĂMO AND ZINE, Ln. 21</a>\n",
       "<div class=\"outeritem\">\n",
       "<div class=\"macro  \" >\n",
       "<div class=\"features\"></div>\n",
       "<div class=\"prosa  \" >\n",
       "<div class=\"features\"></div>\n",
       "<div class=\"word  \" >\n",
       "<div class=\"ara\">ʾáyya </div>\n",
       "<div class=\"features\"></div>\n",
       "</div>\n",
       "<div class=\"word  \" >\n",
       "<div class=\"ara\">mə́re </div>\n",
       "<div class=\"features\"></div>\n",
       "</div>\n",
       "<div class=\"word  hl\" >\n",
       "<div class=\"ara\">ṭla-xaθwáθa </div>\n",
       "<div class=\"features\"></div>\n",
       "</div>\n",
       "<div class=\"word  \" >\n",
       "<div class=\"ara\">dìyaˈ </div>\n",
       "<div class=\"features\"></div>\n",
       "</div>\n",
       "</div>\n",
       "<div class=\"prosa  \" >\n",
       "<div class=\"features\"></div>\n",
       "<div class=\"word  \" >\n",
       "<div class=\"ara\">ha-xáθi </div>\n",
       "<div class=\"features\"></div>\n",
       "</div>\n",
       "<div class=\"word  \" >\n",
       "<div class=\"ara\">Səttìyeˈ </div>\n",
       "<div class=\"features\"></div>\n",
       "</div>\n",
       "</div>\n",
       "<div class=\"prosa  \" >\n",
       "<div class=\"features\"></div>\n",
       "<div class=\"word  \" >\n",
       "<div class=\"ara\">ʾáti </div>\n",
       "<div class=\"features\"></div>\n",
       "</div>\n",
       "<div class=\"word  hl\" >\n",
       "<div class=\"ara\">dúqla </div>\n",
       "<div class=\"features\"></div>\n",
       "</div>\n",
       "<div class=\"word  \" >\n",
       "<div class=\"ara\">ʾáyya </div>\n",
       "<div class=\"features\"></div>\n",
       "</div>\n",
       "<div class=\"word  \" >\n",
       "<div class=\"ara\">ʾisə̀qθi.ˈ </div>\n",
       "<div class=\"features\"></div>\n",
       "</div>\n",
       "</div>\n",
       "</div>\n",
       "</div>"
      ],
      "text/plain": [
       "<IPython.core.display.HTML object>"
      ]
     },
     "metadata": {},
     "output_type": "display_data"
    },
    {
     "data": {
      "text/html": [
       "<p><b>result</b> <i>52</i></p>"
      ],
      "text/plain": [
       "<IPython.core.display.HTML object>"
      ]
     },
     "metadata": {},
     "output_type": "display_data"
    },
    {
     "data": {
      "text/html": [
       "<div class=\"outeritem\">\n",
       "<div class=\"None  \" >\n",
       "\n",
       "    <div class=\"ll\">\n",
       "        <div class=\"line\"><a href=\"https://github.com/CambridgeSemiticsLab/nena_corpus/blob/master/texts/Barwar/The Monk And The Angel\" title=\"see this passage in its source document\" sec=\"Barwar\">Barwar</a></div>\n",
       "\n",
       "        <div class=\"features\"></div>\n",
       "    </div>\n",
       "\n",
       "</div>\n",
       "</div>"
      ],
      "text/plain": [
       "<IPython.core.display.HTML object>"
      ]
     },
     "metadata": {},
     "output_type": "display_data"
    },
    {
     "data": {
      "text/html": [
       "<a href=\"https://github.com/CambridgeSemiticsLab/nena_corpus/blob/master/texts/Barwar/THE TALE OF MĂMO AND ZINE\" title=\"see this passage in its source document\" sec=\"Barwar, THE TALE OF MĂMO AND ZINE, Ln. 47\">Barwar, THE TALE OF MĂMO AND ZINE, Ln. 47</a>\n",
       "<div class=\"outeritem\">\n",
       "<div class=\"macro  \" >\n",
       "<div class=\"features\"></div>\n",
       "<div class=\"prosa  \" >\n",
       "<div class=\"features\"></div>\n",
       "<div class=\"word  \" >\n",
       "<div class=\"ara\">ʾɛ́-ga </div>\n",
       "<div class=\"features\"></div>\n",
       "</div>\n",
       "<div class=\"word  hl\" >\n",
       "<div class=\"ara\">kúlla </div>\n",
       "<div class=\"features\"></div>\n",
       "</div>\n",
       "<div class=\"word  hl\" >\n",
       "<div class=\"ara\">ʾaġăwáθa </div>\n",
       "<div class=\"features\"></div>\n",
       "</div>\n",
       "<div class=\"word  \" >\n",
       "<div class=\"ara\">šexìyeˈ </div>\n",
       "<div class=\"features\"></div>\n",
       "</div>\n",
       "</div>\n",
       "<div class=\"prosa  \" >\n",
       "<div class=\"features\"></div>\n",
       "<div class=\"word  \" >\n",
       "<div class=\"ara\">kúlla </div>\n",
       "<div class=\"features\"></div>\n",
       "</div>\n",
       "<div class=\"word  \" >\n",
       "<div class=\"ara\">b-ʾabbàye-wawa.ˈ </div>\n",
       "<div class=\"features\"></div>\n",
       "</div>\n",
       "</div>\n",
       "</div>\n",
       "</div>"
      ],
      "text/plain": [
       "<IPython.core.display.HTML object>"
      ]
     },
     "metadata": {},
     "output_type": "display_data"
    },
    {
     "data": {
      "text/html": [
       "<p><b>result</b> <i>53</i></p>"
      ],
      "text/plain": [
       "<IPython.core.display.HTML object>"
      ]
     },
     "metadata": {},
     "output_type": "display_data"
    },
    {
     "data": {
      "text/html": [
       "<div class=\"outeritem\">\n",
       "<div class=\"None  \" >\n",
       "\n",
       "    <div class=\"ll\">\n",
       "        <div class=\"line\"><a href=\"https://github.com/CambridgeSemiticsLab/nena_corpus/blob/master/texts/Barwar/The Monk And The Angel\" title=\"see this passage in its source document\" sec=\"Barwar\">Barwar</a></div>\n",
       "\n",
       "        <div class=\"features\"></div>\n",
       "    </div>\n",
       "\n",
       "</div>\n",
       "</div>"
      ],
      "text/plain": [
       "<IPython.core.display.HTML object>"
      ]
     },
     "metadata": {},
     "output_type": "display_data"
    },
    {
     "data": {
      "text/html": [
       "<a href=\"https://github.com/CambridgeSemiticsLab/nena_corpus/blob/master/texts/Barwar/THE TALE OF MĂMO AND ZINE\" title=\"see this passage in its source document\" sec=\"Barwar, THE TALE OF MĂMO AND ZINE, Ln. 47\">Barwar, THE TALE OF MĂMO AND ZINE, Ln. 47</a>\n",
       "<div class=\"outeritem\">\n",
       "<div class=\"macro  \" >\n",
       "<div class=\"features\"></div>\n",
       "<div class=\"prosa  \" >\n",
       "<div class=\"features\"></div>\n",
       "<div class=\"word  \" >\n",
       "<div class=\"ara\">ʾɛ́-ga </div>\n",
       "<div class=\"features\"></div>\n",
       "</div>\n",
       "<div class=\"word  \" >\n",
       "<div class=\"ara\">kúlla </div>\n",
       "<div class=\"features\"></div>\n",
       "</div>\n",
       "<div class=\"word  hl\" >\n",
       "<div class=\"ara\">ʾaġăwáθa </div>\n",
       "<div class=\"features\"></div>\n",
       "</div>\n",
       "<div class=\"word  \" >\n",
       "<div class=\"ara\">šexìyeˈ </div>\n",
       "<div class=\"features\"></div>\n",
       "</div>\n",
       "</div>\n",
       "<div class=\"prosa  \" >\n",
       "<div class=\"features\"></div>\n",
       "<div class=\"word  hl\" >\n",
       "<div class=\"ara\">kúlla </div>\n",
       "<div class=\"features\"></div>\n",
       "</div>\n",
       "<div class=\"word  \" >\n",
       "<div class=\"ara\">b-ʾabbàye-wawa.ˈ </div>\n",
       "<div class=\"features\"></div>\n",
       "</div>\n",
       "</div>\n",
       "</div>\n",
       "</div>"
      ],
      "text/plain": [
       "<IPython.core.display.HTML object>"
      ]
     },
     "metadata": {},
     "output_type": "display_data"
    },
    {
     "data": {
      "text/html": [
       "<p><b>result</b> <i>54</i></p>"
      ],
      "text/plain": [
       "<IPython.core.display.HTML object>"
      ]
     },
     "metadata": {},
     "output_type": "display_data"
    },
    {
     "data": {
      "text/html": [
       "<div class=\"outeritem\">\n",
       "<div class=\"None  \" >\n",
       "\n",
       "    <div class=\"ll\">\n",
       "        <div class=\"line\"><a href=\"https://github.com/CambridgeSemiticsLab/nena_corpus/blob/master/texts/Barwar/The Monk And The Angel\" title=\"see this passage in its source document\" sec=\"Barwar\">Barwar</a></div>\n",
       "\n",
       "        <div class=\"features\"></div>\n",
       "    </div>\n",
       "\n",
       "</div>\n",
       "</div>"
      ],
      "text/plain": [
       "<IPython.core.display.HTML object>"
      ]
     },
     "metadata": {},
     "output_type": "display_data"
    },
    {
     "data": {
      "text/html": [
       "<a href=\"https://github.com/CambridgeSemiticsLab/nena_corpus/blob/master/texts/Barwar/THE FOX AND THE MILLER\" title=\"see this passage in its source document\" sec=\"Barwar, THE FOX AND THE MILLER, Ln. 1\">Barwar, THE FOX AND THE MILLER, Ln. 1</a>\n",
       "<div class=\"outeritem\">\n",
       "<div class=\"macro  \" >\n",
       "<div class=\"features\"></div>\n",
       "<div class=\"prosa  \" >\n",
       "<div class=\"features\"></div>\n",
       "<div class=\"word  \" >\n",
       "<div class=\"ara\">θéle </div>\n",
       "<div class=\"features\"></div>\n",
       "</div>\n",
       "<div class=\"word  hl\" >\n",
       "<div class=\"ara\">tèla,ˈ </div>\n",
       "<div class=\"features\"></div>\n",
       "</div>\n",
       "</div>\n",
       "<div class=\"prosa  \" >\n",
       "<div class=\"features\"></div>\n",
       "<div class=\"word  \" >\n",
       "<div class=\"ara\">mə́re </div>\n",
       "<div class=\"features\"></div>\n",
       "</div>\n",
       "<div class=\"word  \" >\n",
       "<div class=\"ara\">xòniˈ </div>\n",
       "<div class=\"features\"></div>\n",
       "</div>\n",
       "</div>\n",
       "<div class=\"prosa  \" >\n",
       "<div class=\"features\"></div>\n",
       "<div class=\"word  \" >\n",
       "<div class=\"ara\">pɛ́šəx </div>\n",
       "<div class=\"features\"></div>\n",
       "</div>\n",
       "<div class=\"word  hl\" >\n",
       "<div class=\"ara\">xonăwàθaˈ </div>\n",
       "<div class=\"features\"></div>\n",
       "</div>\n",
       "</div>\n",
       "<div class=\"prosa  \" >\n",
       "<div class=\"features\"></div>\n",
       "<div class=\"word  \" >\n",
       "<div class=\"ara\">ʾána </div>\n",
       "<div class=\"features\"></div>\n",
       "</div>\n",
       "<div class=\"word  \" >\n",
       "<div class=\"ara\">w-àti.ˈ </div>\n",
       "<div class=\"features\"></div>\n",
       "</div>\n",
       "</div>\n",
       "</div>\n",
       "</div>"
      ],
      "text/plain": [
       "<IPython.core.display.HTML object>"
      ]
     },
     "metadata": {},
     "output_type": "display_data"
    },
    {
     "data": {
      "text/html": [
       "<p><b>result</b> <i>55</i></p>"
      ],
      "text/plain": [
       "<IPython.core.display.HTML object>"
      ]
     },
     "metadata": {},
     "output_type": "display_data"
    },
    {
     "data": {
      "text/html": [
       "<div class=\"outeritem\">\n",
       "<div class=\"None  \" >\n",
       "\n",
       "    <div class=\"ll\">\n",
       "        <div class=\"line\"><a href=\"https://github.com/CambridgeSemiticsLab/nena_corpus/blob/master/texts/Barwar/The Monk And The Angel\" title=\"see this passage in its source document\" sec=\"Barwar\">Barwar</a></div>\n",
       "\n",
       "        <div class=\"features\"></div>\n",
       "    </div>\n",
       "\n",
       "</div>\n",
       "</div>"
      ],
      "text/plain": [
       "<IPython.core.display.HTML object>"
      ]
     },
     "metadata": {},
     "output_type": "display_data"
    },
    {
     "data": {
      "text/html": [
       "<a href=\"https://github.com/CambridgeSemiticsLab/nena_corpus/blob/master/texts/Barwar/THE FOX AND THE MILLER\" title=\"see this passage in its source document\" sec=\"Barwar, THE FOX AND THE MILLER, Ln. 3\">Barwar, THE FOX AND THE MILLER, Ln. 3</a>\n",
       "<div class=\"outeritem\">\n",
       "<div class=\"macro  \" >\n",
       "<div class=\"features\"></div>\n",
       "<div class=\"prosa  \" >\n",
       "<div class=\"features\"></div>\n",
       "<div class=\"word  \" >\n",
       "<div class=\"ara\">dèˈ </div>\n",
       "<div class=\"features\"></div>\n",
       "</div>\n",
       "</div>\n",
       "<div class=\"prosa  \" >\n",
       "<div class=\"features\"></div>\n",
       "<div class=\"word  hl\" >\n",
       "<div class=\"ara\">píšla </div>\n",
       "<div class=\"features\"></div>\n",
       "</div>\n",
       "<div class=\"word  hl\" >\n",
       "<div class=\"ara\">xonăwàθa.ˈ </div>\n",
       "<div class=\"features\"></div>\n",
       "</div>\n",
       "</div>\n",
       "</div>\n",
       "</div>"
      ],
      "text/plain": [
       "<IPython.core.display.HTML object>"
      ]
     },
     "metadata": {},
     "output_type": "display_data"
    },
    {
     "data": {
      "text/html": [
       "<p><b>result</b> <i>56</i></p>"
      ],
      "text/plain": [
       "<IPython.core.display.HTML object>"
      ]
     },
     "metadata": {},
     "output_type": "display_data"
    },
    {
     "data": {
      "text/html": [
       "<div class=\"outeritem\">\n",
       "<div class=\"None  \" >\n",
       "\n",
       "    <div class=\"ll\">\n",
       "        <div class=\"line\"><a href=\"https://github.com/CambridgeSemiticsLab/nena_corpus/blob/master/texts/Barwar/The Monk And The Angel\" title=\"see this passage in its source document\" sec=\"Barwar\">Barwar</a></div>\n",
       "\n",
       "        <div class=\"features\"></div>\n",
       "    </div>\n",
       "\n",
       "</div>\n",
       "</div>"
      ],
      "text/plain": [
       "<IPython.core.display.HTML object>"
      ]
     },
     "metadata": {},
     "output_type": "display_data"
    },
    {
     "data": {
      "text/html": [
       "<a href=\"https://github.com/CambridgeSemiticsLab/nena_corpus/blob/master/texts/Barwar/THE FOX AND THE MILLER\" title=\"see this passage in its source document\" sec=\"Barwar, THE FOX AND THE MILLER, Ln. 3\">Barwar, THE FOX AND THE MILLER, Ln. 3</a>\n",
       "<div class=\"outeritem\">\n",
       "<div class=\"macro  \" >\n",
       "<div class=\"features\"></div>\n",
       "<div class=\"prosa  \" >\n",
       "<div class=\"features\"></div>\n",
       "<div class=\"word  hl\" >\n",
       "<div class=\"ara\">píšla </div>\n",
       "<div class=\"features\"></div>\n",
       "</div>\n",
       "<div class=\"word  hl\" >\n",
       "<div class=\"ara\">xonăwàθa,ˈ </div>\n",
       "<div class=\"features\"></div>\n",
       "</div>\n",
       "</div>\n",
       "<div class=\"prosa  \" >\n",
       "<div class=\"features\"></div>\n",
       "<div class=\"word  \" >\n",
       "<div class=\"ara\">xà-yoma,ˈ </div>\n",
       "<div class=\"features\"></div>\n",
       "</div>\n",
       "</div>\n",
       "<div class=\"prosa  \" >\n",
       "<div class=\"features\"></div>\n",
       "<div class=\"word  \" >\n",
       "<div class=\"ara\">trè,ˈ </div>\n",
       "<div class=\"features\"></div>\n",
       "</div>\n",
       "</div>\n",
       "<div class=\"prosa  \" >\n",
       "<div class=\"features\"></div>\n",
       "<div class=\"word  \" >\n",
       "<div class=\"ara\">ṭḷàθa,ˈ </div>\n",
       "<div class=\"features\"></div>\n",
       "</div>\n",
       "</div>\n",
       "<div class=\"prosa  \" >\n",
       "<div class=\"features\"></div>\n",
       "<div class=\"word  \" >\n",
       "<div class=\"ara\">xà-yarxa,ˈ </div>\n",
       "<div class=\"features\"></div>\n",
       "</div>\n",
       "</div>\n",
       "<div class=\"prosa  \" >\n",
       "<div class=\"features\"></div>\n",
       "<div class=\"word  \" >\n",
       "<div class=\"ara\">xa-šèta.ˈ </div>\n",
       "<div class=\"features\"></div>\n",
       "</div>\n",
       "</div>\n",
       "</div>\n",
       "</div>"
      ],
      "text/plain": [
       "<IPython.core.display.HTML object>"
      ]
     },
     "metadata": {},
     "output_type": "display_data"
    }
   ],
   "source": [
    "fem_plurals = nena.search('''\n",
    "\n",
    "dialect dialect=Barwar\n",
    "    sentence\n",
    "        \n",
    "        word trans_lite~wa8a$\n",
    "        \n",
    "        word trans_lite~la$\n",
    "\n",
    "''')\n",
    "\n",
    "nena.show(fem_plurals, suppress='trans_lite dialect')"
   ]
  }
 ],
 "metadata": {
  "kernelspec": {
   "display_name": "Python 3",
   "language": "python",
   "name": "python3"
  },
  "language_info": {
   "codemirror_mode": {
    "name": "ipython",
    "version": 3
   },
   "file_extension": ".py",
   "mimetype": "text/x-python",
   "name": "python",
   "nbconvert_exporter": "python",
   "pygments_lexer": "ipython3",
   "version": "3.7.0"
  }
 },
 "nbformat": 4,
 "nbformat_minor": 2
}
